{
 "cells": [
  {
   "cell_type": "code",
   "execution_count": 22,
   "id": "dried-yacht",
   "metadata": {},
   "outputs": [],
   "source": [
    "import numpy as np\n",
    "import pandas as pd"
   ]
  },
  {
   "cell_type": "code",
   "execution_count": 5,
   "id": "divided-disposal",
   "metadata": {},
   "outputs": [],
   "source": [
    "DATA = '../../data'"
   ]
  },
  {
   "cell_type": "code",
   "execution_count": 8,
   "id": "floating-tolerance",
   "metadata": {},
   "outputs": [],
   "source": [
    "def read_stocks():\n",
    "    stock_df = pd.read_csv(f'{DATA}/stockuniverse.csv')\n",
    "    stocks = list(stock_df.stock)\n",
    "    return stocks"
   ]
  },
  {
   "cell_type": "code",
   "execution_count": 10,
   "id": "controversial-force",
   "metadata": {},
   "outputs": [],
   "source": [
    "stocks = read_stocks()"
   ]
  },
  {
   "cell_type": "code",
   "execution_count": 57,
   "id": "frequent-singer",
   "metadata": {},
   "outputs": [],
   "source": [
    "class Gene:\n",
    "    def __init__(self, stocks):\n",
    "        '''\n",
    "        Args:\n",
    "        - stocks: either:\n",
    "          - dict: {'symbol', <pct_of_portfolio>} OR\n",
    "          - list: ['symbol_1', ..., 'symbol_n'] (pct will be even \n",
    "              among all)\n",
    "        '''\n",
    "        self.TOLERANCE = 0.00000001\n",
    "        if type(stocks) is list:\n",
    "            stocks = self._init_stocks_from_list(stocks)\n",
    "        if isinstance(stocks, dict):\n",
    "            total = sum(stocks.values())\n",
    "            assert abs(total - 1) < self.TOLERANCE,\\\n",
    "                f'Stock percentages must sum to 1 (got {total})'\n",
    "        else:\n",
    "            raise ValueError('stocks must be a <list> or <dict>')\n",
    "        self.stocks = stocks\n",
    "        \n",
    "    @staticmethod\n",
    "    def _init_stocks_from_list(stocks):\n",
    "        n = len(stocks)\n",
    "        stocks = {stock: 1/n for stock in stocks}\n",
    "        return stocks\n",
    "    \n",
    "    def __str__(self):\n",
    "        out = ''\n",
    "        for stock, pct in self.stocks.items():\n",
    "            if pct > self.TOLERANCE:\n",
    "                out += f'{stock:5s}: {pct:.5f}\\n'\n",
    "        return out\n",
    "    \n",
    "    def mutate(self, sd):\n",
    "        for stock, pct in self.stocks.items():\n",
    "            pct += np.random.normal(scale=sd)\n",
    "            pct = max(pct, 0)\n",
    "            self.stocks[stock] = pct\n",
    "        self.stocks = self._normalize(self.stocks)\n",
    "        \n",
    "    def _normalize(self, stocks):\n",
    "        total = sum(stocks.values())\n",
    "        for stock, pct in stocks.items():\n",
    "            stocks[stock] = pct / total\n",
    "        return stocks\n",
    "            \n",
    "    def reproduce(self, other):\n",
    "        child = {}\n",
    "        for stock in self.stocks:\n",
    "            which = np.random.choice([self, other], 1)[0]\n",
    "            val = which.stocks.get(stock, 0)\n",
    "            child[stock] = val\n",
    "        child = self._normalize(child)\n",
    "        child = Gene(child)\n",
    "        return child"
   ]
  },
  {
   "cell_type": "code",
   "execution_count": 58,
   "id": "jewish-cinema",
   "metadata": {},
   "outputs": [],
   "source": [
    "gene1 = Gene(stocks)\n",
    "gene1.mutate(0.2)\n",
    "#print(gene1)\n",
    "\n",
    "gene2 = Gene(['abmd', 'bili'])\n",
    "#print(gene2)"
   ]
  },
  {
   "cell_type": "code",
   "execution_count": 59,
   "id": "cardiac-stationery",
   "metadata": {},
   "outputs": [
    {
     "name": "stdout",
     "output_type": "stream",
     "text": [
      "abmd : 0.06896\n",
      "atvi : 0.11032\n",
      "axon : 0.02662\n",
      "bili : 0.44858\n",
      "bynd : 0.06743\n",
      "fsly : 0.00378\n",
      "gh   : 0.02588\n",
      "lulu : 0.05832\n",
      "meli : 0.01063\n",
      "pton : 0.02889\n",
      "se   : 0.03444\n",
      "team : 0.07114\n",
      "twtr : 0.04499\n",
      "\n"
     ]
    }
   ],
   "source": [
    "child = gene1.reproduce(gene2)\n",
    "print(child)"
   ]
  },
  {
   "cell_type": "code",
   "execution_count": null,
   "id": "united-baseline",
   "metadata": {},
   "outputs": [],
   "source": []
  },
  {
   "cell_type": "code",
   "execution_count": null,
   "id": "particular-information",
   "metadata": {},
   "outputs": [],
   "source": []
  }
 ],
 "metadata": {
  "kernelspec": {
   "display_name": "Python 3",
   "language": "python",
   "name": "python3"
  },
  "language_info": {
   "codemirror_mode": {
    "name": "ipython",
    "version": 3
   },
   "file_extension": ".py",
   "mimetype": "text/x-python",
   "name": "python",
   "nbconvert_exporter": "python",
   "pygments_lexer": "ipython3",
   "version": "3.9.2"
  }
 },
 "nbformat": 4,
 "nbformat_minor": 5
}
