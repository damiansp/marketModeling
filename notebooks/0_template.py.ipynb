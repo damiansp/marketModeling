{
 "cells": [
  {
   "cell_type": "code",
   "execution_count": null,
   "metadata": {},
   "outputs": [],
   "source": [
    "import warnings\n",
    "\n",
    "import matplotlib.pyplot as plt\n",
    "import numpy as np\n",
    "import pandas as pd\n",
    "from   pandas.plotting import register_matplotlib_converters\n",
    "from   pprint import pprint\n",
    "import yfinance as yf\n",
    "\n",
    "warnings.filterwarnings('ignore')\n",
    "register_matplotlib_converters()\n",
    "%matplotlib inline"
   ]
  },
  {
   "cell_type": "code",
   "execution_count": null,
   "metadata": {},
   "outputs": [],
   "source": [
    "TICKER = ''\n",
    "df = yf.download(TICKER, start='1950-01-01')\n",
    "df = df[['Open', 'Close', 'Adj Close']]\n",
    "df.rename(columns={'Adj Close': 'Value'}, inplace=True)\n",
    "df['Date'] = df.index\n",
    "df.index = range(df.shape[0])\n",
    "df.head()"
   ]
  },
  {
   "cell_type": "code",
   "execution_count": null,
   "metadata": {},
   "outputs": [],
   "source": [
    "df['IntradayChange'] = df['Close'] / df['Open']\n",
    "df.tail()"
   ]
  },
  {
   "cell_type": "code",
   "execution_count": null,
   "metadata": {},
   "outputs": [],
   "source": [
    "df['DayToDayChange'] = np.nan\n",
    "df['OvernightChange'] = np.nan\n",
    "for day in range(1, df.shape[0]):\n",
    "    df.loc[day, 'DayToDayChange'] = (df.loc[day, 'Value'] \n",
    "                                     / df.loc[day - 1, 'Value'])\n",
    "    df.loc[day, 'OvernightChange'] = (df.loc[day, 'Open'] \n",
    "                                      / df.loc[day - 1, 'Close'])\n",
    "df.tail()        "
   ]
  },
  {
   "cell_type": "code",
   "execution_count": null,
   "metadata": {},
   "outputs": [],
   "source": [
    "plt.plot(df.Date, df.Value);\n",
    "plt.yscale('log');"
   ]
  },
  {
   "cell_type": "code",
   "execution_count": null,
   "metadata": {},
   "outputs": [],
   "source": [
    "plt.plot(df.Date, df.IntradayChange, alpha=0.4, label='intraday')\n",
    "plt.plot(df.Date, df.DayToDayChange, alpha=0.4, label='day-to-day')\n",
    "plt.plot(df.Date, df.OvernightChange, alpha=0.4, label='overnight')\n",
    "plt.legend();"
   ]
  },
  {
   "cell_type": "code",
   "execution_count": null,
   "metadata": {},
   "outputs": [],
   "source": [
    "df.head()"
   ]
  },
  {
   "cell_type": "code",
   "execution_count": null,
   "metadata": {},
   "outputs": [],
   "source": [
    "START_DATE = df.loc[0,  'Date']\n",
    "START_DATE"
   ]
  },
  {
   "cell_type": "code",
   "execution_count": null,
   "metadata": {},
   "outputs": [],
   "source": [
    "df.tail()"
   ]
  },
  {
   "cell_type": "code",
   "execution_count": null,
   "metadata": {},
   "outputs": [],
   "source": [
    "df.Value = np.log(df.Value)\n",
    "df.rename(columns={'Value': 'LogValue'}, inplace=True)\n",
    "df.tail()"
   ]
  },
  {
   "cell_type": "code",
   "execution_count": null,
   "metadata": {},
   "outputs": [],
   "source": [
    "def moving_dev_signals(x, params):\n",
    "    '''\n",
    "    @params\n",
    "    x: list: time series of quantiles (relative to an arbitrary window)\n",
    "    params: dictionary \n",
    "      {'qs': [<np.array of quantiles>], \n",
    "       'amounts': [<np.array of amounts>]}\n",
    "    qs: lists<float>: quantiles for which, moving upward/downward \n",
    "        across signals an action. A + value indicate an upward movement; -\n",
    "        for downward movement.\n",
    "    amounts: lists<float>: amount (%) to put in (+) or take out (-)\n",
    "        associated with each signal in <qs>\n",
    "    @return: array of signals (usually just one, but multiple events may\n",
    "        occur on a single day)\n",
    "    '''\n",
    "    qs = params['qs']\n",
    "    amounts = params['amounts']\n",
    "    assert len(qs) == len(amounts), 'qs and amounts of different lengths'\n",
    "    up_qs = qs[qs >= 0]\n",
    "    down_qs = -qs[qs < 0]\n",
    "    up_amounts = amounts[qs >= 0]\n",
    "    down_amounts = amounts[qs < 0]\n",
    "    x = x.tolist()\n",
    "    n = len(x)\n",
    "    up_q_vals = np.quantile(x, up_qs)\n",
    "    down_q_vals = np.quantile(x, down_qs)\n",
    "    signals = []\n",
    "    for q, action in zip(up_q_vals, up_amounts):\n",
    "        if x[n - 1] < q and x[n] > q:  ###\n",
    "            signals.append(action)\n",
    "    for q, action in zip(down_q_vals, down_amounts):\n",
    "        if x[n - 1] > q and x[n] < q:  ###\n",
    "            signals.append(action)\n",
    "    return signals if signals else [0]"
   ]
  },
  {
   "cell_type": "code",
   "execution_count": null,
   "metadata": {},
   "outputs": [],
   "source": [
    "def get_devs_relative_to_trend(df, ma_window):\n",
    "    ma = np.log(df.loc[:, 'LogValue']).rolling(window=ma_window).mean()\n",
    "    df['difference'] = np.log(df['LogValue']) - ma\n",
    "    n = df.shape[0]\n",
    "    qs = list(np.linspace(1, 0, n))\n",
    "    x = [0] * n\n",
    "    for i in df.sort_values('difference').index:\n",
    "        x[i] = qs.pop()\n",
    "    return x"
   ]
  },
  {
   "cell_type": "code",
   "execution_count": null,
   "metadata": {},
   "outputs": [],
   "source": [
    "def generate_actions(df, window, params):\n",
    "    '''\n",
    "    Given a <window> to calculate the MA over, and <params> for \n",
    "    <moving_dev_signals()>, return <sp> with an <Actions> field appended, \n",
    "    each value for which should be a list of actions (%s in out) each day,\n",
    "    based on the signal(s) that occurred each day.\n",
    "    '''\n",
    "    qs = np.array(params['qs'])\n",
    "    amounts = np.array(params['amounts'])\n",
    "    assert len(qs) == len(amounts), 'qs and amounts of different lengths'\n",
    "    df['q'] = get_devs_relative_to_trend(df, window)\n",
    "    up_qs = qs[qs >= 0]\n",
    "    down_qs = -qs[qs < 0]\n",
    "    up_amounts = amounts[qs >= 0]\n",
    "    down_amounts = amounts[qs < 0]\n",
    "    x = df.q\n",
    "    n = len(x)\n",
    "    df.index = range(n)\n",
    "    df['Actions'] = pd.Series([[0] for i in range(n)])\n",
    "    for i in range(window, n):\n",
    "        signals = []\n",
    "        for q, action in zip(up_qs, up_amounts):\n",
    "            if x[i - 1] < q and x[i] >= q: ###\n",
    "                signals.append(action)\n",
    "        for q, action in zip(down_qs, down_amounts):\n",
    "            if x[i - 1] >= q and x[i] < q: ###\n",
    "                signals.append(action)\n",
    "        signals = signals or [0]\n",
    "        try:\n",
    "            df.at[i, 'Actions'] = signals\n",
    "        except BaseException as e:\n",
    "            print(e)\n",
    "            print(df.at[i, 'Actions'], '<-', signals)\n",
    "            return(sp)\n",
    "    return df"
   ]
  },
  {
   "cell_type": "code",
   "execution_count": null,
   "metadata": {},
   "outputs": [],
   "source": [
    "test = generate_actions(\n",
    "    df, 20, {'qs': [-0.4, 0.6], 'amounts': [1, -0.5]})\n",
    "test.tail()"
   ]
  },
  {
   "cell_type": "code",
   "execution_count": null,
   "metadata": {},
   "outputs": [],
   "source": [
    "init_amount = df.loc[0, 'Close']\n",
    "init_amount"
   ]
  },
  {
   "cell_type": "code",
   "execution_count": null,
   "metadata": {},
   "outputs": [],
   "source": [
    "df['Reserve'] = np.nan\n",
    "df['Invested'] = np.nan\n",
    "df.loc[0, 'Reserve'] = init_amount / 2\n",
    "df.loc[0, 'Invested'] = init_amount / 2\n",
    "df.loc[:, 'Total'] = df.Reserve + df.Invested\n",
    "df.head()"
   ]
  },
  {
   "cell_type": "code",
   "execution_count": null,
   "metadata": {},
   "outputs": [],
   "source": [
    "def get_next_days_values(row, overnight_change):\n",
    "    reserve = row['Reserve']\n",
    "    invested = row['Invested']\n",
    "    invested *= overnight_change # value at next day open\n",
    "    money_per_action = 0\n",
    "    for action in row['Actions']:\n",
    "        if action > 0: # Buy\n",
    "            money_per_action = reserve * action\n",
    "        if action < 0: # Sell\n",
    "            money_per_action = invested * action    \n",
    "        reserve -= money_per_action\n",
    "        invested += money_per_action # value at morning after transactions\n",
    "    return reserve, invested # value at start of day"
   ]
  },
  {
   "cell_type": "code",
   "execution_count": null,
   "metadata": {},
   "outputs": [],
   "source": [
    "def predict_performance(df):\n",
    "    for day in range(1, df.shape[0]):\n",
    "        prev_day = df.loc[day - 1, :]\n",
    "        overnight_change = df.loc[day, 'OvernightChange']\n",
    "        df.loc[day, ['Reserve', 'Invested']] = get_next_days_values(\n",
    "            prev_day, overnight_change)\n",
    "        df.loc[day, 'Invested'] *= df.loc[day, 'IntradayChange']\n",
    "        df.Total = df.Reserve + df.Invested\n",
    "    return df"
   ]
  },
  {
   "cell_type": "code",
   "execution_count": null,
   "metadata": {},
   "outputs": [],
   "source": [
    "def print_params(params, window):\n",
    "    print('window:', window)\n",
    "    print('params:')\n",
    "    pprint(params)"
   ]
  },
  {
   "cell_type": "code",
   "execution_count": null,
   "metadata": {},
   "outputs": [],
   "source": [
    "def trunc_normal(mean, sd, minval, maxval, exclude0=False):\n",
    "    val = np.random.normal(mean, scale=sd)\n",
    "    val = max(min(val, maxval), minval)\n",
    "    if exclude0:\n",
    "        if -0.01 < val <= 0:\n",
    "            val = -0.01\n",
    "        elif 0 <= val < 0.01:\n",
    "            val = 0.01\n",
    "    return val"
   ]
  },
  {
   "cell_type": "code",
   "execution_count": null,
   "metadata": {},
   "outputs": [],
   "source": [
    "def init_values(\n",
    "        sd, init_window, init_params, min_window=40, mindiff=0.05):\n",
    "    window = int(round(\n",
    "            trunc_normal(init_window, 400*sd, min_window, 1000)))\n",
    "    params = {'qs': [trunc_normal(mean, sd, -0.99, 0.99, exclude0=True) \n",
    "                     for mean in init_params['qs']],\n",
    "              'amounts': [trunc_normal(mean, 2*sd, -0.99, 0.99)\n",
    "                          for mean in init_params['amounts']]}\n",
    "    qs = np.array(sorted(params['qs']))\n",
    "    diffs = qs[1:] - qs[:-1]\n",
    "    if (diffs[diffs < mindiff]).any():\n",
    "        init_values(sd, init_window, init_params, min_window, mindiff)\n",
    "    return window, params"
   ]
  },
  {
   "cell_type": "markdown",
   "metadata": {},
   "source": [
    "`specified` indicates which params can change, and should be formatted as:\n",
    "```\n",
    "{'windows': True,\n",
    " 'qs': [1, 3],\n",
    " 'amounts': [0, 1]}\n",
    "```"
   ]
  },
  {
   "cell_type": "code",
   "execution_count": null,
   "metadata": {},
   "outputs": [],
   "source": [
    "def init_specific_values(\n",
    "        sd, init_window, init_params, specified, min_window=40, \n",
    "        mindiff=0.05):\n",
    "    if specified['window']:\n",
    "        window = int(round(\n",
    "            trunc_normal(init_window, 400*sd, min_window, 1000)))\n",
    "    else:\n",
    "        window = init_window\n",
    "    for q in specified['qs']:\n",
    "        init_params['qs'][q] = trunc_normal(\n",
    "            init_params['qs'][q], sd, -0.99, 0.99, exclude0=True)\n",
    "    for amt in specified['amounts']:\n",
    "        init_params['amounts'][amt] = trunc_normal(\n",
    "            init_params['amounts'][amt], sd, -0.99, 0.99, exclude0=True)\n",
    "    qs = np.array(sorted(specified['qs']))\n",
    "    diffs = qs[1:] - qs[:-1]\n",
    "    if (diffs[diffs < mindiff]).any():\n",
    "        init_specific_values(\n",
    "            sd, init_window, init_params, min_window, mindiff)  \n",
    "    return window, init_params\n",
    "\n",
    "init_specific_values(\n",
    "    0.01, \n",
    "    199, \n",
    "    init_params={'qs': [0.2, 0.4, 0.6], 'amounts': [-.5, 0.5, 0.1]}, \n",
    "    specified={'window': True, 'qs': [0], 'amounts': [0, 2]})"
   ]
  },
  {
   "cell_type": "code",
   "execution_count": null,
   "metadata": {
    "scrolled": false
   },
   "outputs": [],
   "source": [
    "def run_sim(\n",
    "        df, sd, best_window, best_params, best_data, best_yet, \n",
    "        specified=None):\n",
    "    plt.figure(figsize=[10, 8])\n",
    "    plt.plot(df.Date, df.Close, 'k-', linewidth=3)\n",
    "    for i in range(ITERS):\n",
    "        if i == 0:\n",
    "            window = best_window\n",
    "            params = best_params\n",
    "        else:\n",
    "            if specified is not None:\n",
    "                window, params = init_specific_values(\n",
    "                    sd, best_window, best_params, specified)\n",
    "            else:\n",
    "                window, params = init_values(sd, best_window, best_params)\n",
    "        df = generate_actions(df, window, params=params)\n",
    "        df = predict_performance(df)\n",
    "        plt.plot(df.Date, df.Total, alpha=0.2);\n",
    "        final_value = df.Total.tolist()[-1]\n",
    "        print(f'{i + 1:2d}: Final value: ${final_value:8.2f} '\n",
    "              f'(window = {window}; sd = {sd:.3f})')\n",
    "        if final_value > best_yet:\n",
    "            print('New best model!')\n",
    "            print_params(params, window)\n",
    "            best_yet = final_value\n",
    "            best_params = params\n",
    "            best_window = window\n",
    "            sd *= 1.5\n",
    "            sd = min(sd, 1.024)\n",
    "            best_data = df.copy()\n",
    "        else:\n",
    "            sd *= 0.99\n",
    "            sd = max(sd, 0.001)\n",
    "            if best_data is None:\n",
    "                best_data = df.copy()\n",
    "    plt.yscale('log');    \n",
    "    return best_data"
   ]
  },
  {
   "cell_type": "code",
   "execution_count": null,
   "metadata": {},
   "outputs": [],
   "source": [
    "def plot_results(best_data, start_date=None):\n",
    "    VIZ_START_DATE = pd.to_datetime('1960-01-01')\n",
    "    start_date = (pd.to_datetime(start_date) if start_date is not None \n",
    "                  else VIZ_START_DATE)\n",
    "    best_data['fraction_in'] = (best_data.Invested \n",
    "                                / (best_data.Invested + best_data.Reserve))\n",
    "    sub = best_data.loc[best_data.Date >= start_date, :]\n",
    "    plt.figure(figsize=[10, 4])\n",
    "    plt.plot(sub.Date, sub.Close, 'k-')\n",
    "    plt.plot(sub.Date, sub.Total, 'b-')\n",
    "    plt.yscale('log')\n",
    "    plt.figure(figsize=[10, 8])\n",
    "    plt.subplot(221)\n",
    "    plt.plot(sub.Date, sub.Close, 'k-')\n",
    "    plt.yscale('log')\n",
    "    plt.subplot(222)\n",
    "    plt.plot(sub.Date, sub.Total, 'b-')\n",
    "    plt.yscale('log')\n",
    "    plt.subplot(223)\n",
    "    plt.plot(sub.Date, sub.fraction_in);\n",
    "    plt.subplot(224)\n",
    "    plt.plot(sub.Date, sub.fraction_in);\n",
    "    plt.yscale('log')\n",
    "    percent_in_now = best_data.fraction_in.tolist()[-1]\n",
    "    print('% in now:', percent_in_now)\n",
    "    actions_taken = sub.Actions\\\n",
    "        .apply(lambda x: sum(x) != 0 if isinstance(x, list) else False)\\\n",
    "        .sum()\n",
    "    print('Actions taken:', actions_taken)"
   ]
  },
  {
   "cell_type": "code",
   "execution_count": null,
   "metadata": {},
   "outputs": [],
   "source": [
    "RUN = 1"
   ]
  },
  {
   "cell_type": "markdown",
   "metadata": {},
   "source": [
    "# Repeat Search from Here\n",
    "\n",
    "# 4-Deviations per direction (private portfolio)\n"
   ]
  },
  {
   "cell_type": "markdown",
   "metadata": {},
   "source": [
    "```\n",
    "43: Final value: \n",
    " ```"
   ]
  },
  {
   "cell_type": "code",
   "execution_count": null,
   "metadata": {},
   "outputs": [],
   "source": [
    "DEFAULT4PARAMS = {'qs':      [0.4, 0.6, -0.4, -0.6],\n",
    "                  'amounts': [  0,   0,    0,    0]}\n",
    "DEFAULT_WINDOW = 60"
   ]
  },
  {
   "cell_type": "code",
   "execution_count": null,
   "metadata": {},
   "outputs": [],
   "source": [
    "ITERS = 1 if RUN == 1 else 75\n",
    "BEST4EVER = -999999 * 0.95\n",
    "#BEST4PARAMS = DEFAULT4PARAMS\n",
    "#BEST4WINDOW = DEFAULT_WINDOW\n",
    "BEST4PARAMS = {'qs':      [0.4, 0.6, -0.4, -0.6],\n",
    "                  'amounts': [  0,   0,    0,    0]}\n",
    "BEST4WINDOW = 60"
   ]
  },
  {
   "cell_type": "code",
   "execution_count": null,
   "metadata": {},
   "outputs": [],
   "source": [
    "best4yet = BEST4EVER\n",
    "best4params = BEST4PARAMS\n",
    "best4window = BEST4WINDOW\n",
    "if RUN == 1:\n",
    "    best4data = None \n",
    "    best3data = None\n",
    "    best2data = None"
   ]
  },
  {
   "cell_type": "code",
   "execution_count": null,
   "metadata": {},
   "outputs": [],
   "source": [
    "sd = 0.512\n",
    "specified = None\n",
    "#specified = {'window': True, 'amounts': [], 'qs': []} # ~3\n",
    "#specified = {'window': False, 'amounts': [], 'qs': [2]} # ~3"
   ]
  },
  {
   "cell_type": "code",
   "execution_count": null,
   "metadata": {
    "scrolled": false
   },
   "outputs": [],
   "source": [
    "best4data = run_sim(df, \n",
    "                    sd, \n",
    "                    best4window, \n",
    "                    best4params, \n",
    "                    best4data, \n",
    "                    best4yet, \n",
    "                    specified=specified)"
   ]
  },
  {
   "cell_type": "code",
   "execution_count": null,
   "metadata": {},
   "outputs": [],
   "source": [
    "plot_results(best4data)"
   ]
  },
  {
   "cell_type": "code",
   "execution_count": null,
   "metadata": {},
   "outputs": [],
   "source": [
    "plot_results(best4data, '2020-01-01')"
   ]
  },
  {
   "cell_type": "markdown",
   "metadata": {},
   "source": [
    "# 3-Deviations  (401(k))"
   ]
  },
  {
   "cell_type": "markdown",
   "metadata": {},
   "source": [
    "```\n",
    "49: Final value: \n",
    "```"
   ]
  },
  {
   "cell_type": "code",
   "execution_count": null,
   "metadata": {},
   "outputs": [],
   "source": [
    "DEFAULT3PARAMS = {'qs':      [-0.4, 0.5, 0.6],\n",
    "                  'amounts': [   0,   0,   0]}"
   ]
  },
  {
   "cell_type": "code",
   "execution_count": null,
   "metadata": {},
   "outputs": [],
   "source": [
    "BEST3YET = -999999 * 0.95\n",
    "#BEST3PARAMS = DEFAULT3PARAMS\n",
    "#BEST3WINDOW = DEFAULT_WINDOW\n",
    "BEST3PARAMS = {'qs':      [-0.4, 0.5, 0.6],\n",
    "                  'amounts': [   0,   0,   0]}\n",
    "BEST3WINDOW = 60"
   ]
  },
  {
   "cell_type": "code",
   "execution_count": null,
   "metadata": {},
   "outputs": [],
   "source": [
    "best3yet = BEST3YET\n",
    "best3params = BEST3PARAMS\n",
    "best3window = BEST3WINDOW"
   ]
  },
  {
   "cell_type": "code",
   "execution_count": null,
   "metadata": {},
   "outputs": [],
   "source": [
    "sd = 0.512\n",
    "specified = None\n",
    "#specified = {'window': True, 'amounts': [], 'qs': []} # ~2\n",
    "#specified = {'window': False, 'amounts': [], 'qs': [2]} # ~2"
   ]
  },
  {
   "cell_type": "code",
   "execution_count": null,
   "metadata": {
    "scrolled": false
   },
   "outputs": [],
   "source": [
    "best3data = run_sim(df, \n",
    "                    sd, \n",
    "                    best3window, \n",
    "                    best3params, \n",
    "                    best3data, \n",
    "                    best3yet, \n",
    "                    specified=specified)"
   ]
  },
  {
   "cell_type": "code",
   "execution_count": null,
   "metadata": {},
   "outputs": [],
   "source": [
    "plot_results(best3data)"
   ]
  },
  {
   "cell_type": "code",
   "execution_count": null,
   "metadata": {},
   "outputs": [],
   "source": [
    "plot_results(best3data, '2020-01-01')"
   ]
  },
  {
   "cell_type": "markdown",
   "metadata": {
    "collapsed": true
   },
   "source": [
    "# 2-Deviations"
   ]
  },
  {
   "cell_type": "markdown",
   "metadata": {},
   "source": [
    "```\n",
    "1: Final value:\n",
    " ```        "
   ]
  },
  {
   "cell_type": "code",
   "execution_count": null,
   "metadata": {},
   "outputs": [],
   "source": [
    "DEFAULT2PARAMS = {'qs':      [0.5, -0.5],\n",
    "                  'amounts': [  0,    0]}"
   ]
  },
  {
   "cell_type": "code",
   "execution_count": null,
   "metadata": {},
   "outputs": [],
   "source": [
    "BEST2YET =  -999999 * 0.95\n",
    "#BEST2PARAMS = DEFAULT2PARAMS\n",
    "#BEST2WINDOW = DEFAULT_WINDOW\n",
    "BEST2PARAMS = {'qs':      [0.5, -0.5],\n",
    "                  'amounts': [  0,    0]}\n",
    "BEST2WINDOW = 60"
   ]
  },
  {
   "cell_type": "code",
   "execution_count": null,
   "metadata": {},
   "outputs": [],
   "source": [
    "best2yet = BEST2YET\n",
    "best2params = BEST2PARAMS\n",
    "best2window = BEST2WINDOW"
   ]
  },
  {
   "cell_type": "code",
   "execution_count": null,
   "metadata": {},
   "outputs": [],
   "source": [
    "sd = 0.512\n",
    "specified = None\n",
    "#specified = {'window': True, 'amounts': [], 'qs': []} # ~1\n",
    "#specified = {'window': False, 'amounts': [], 'qs': [1]} # ~1"
   ]
  },
  {
   "cell_type": "code",
   "execution_count": null,
   "metadata": {
    "scrolled": false
   },
   "outputs": [],
   "source": [
    "best2data = run_sim(df, \n",
    "                    sd, \n",
    "                    best2window, \n",
    "                    best2params, \n",
    "                    best2data, \n",
    "                    best2yet, \n",
    "                    specified=specified)"
   ]
  },
  {
   "cell_type": "code",
   "execution_count": null,
   "metadata": {},
   "outputs": [],
   "source": [
    "plot_results(best2data)"
   ]
  },
  {
   "cell_type": "code",
   "execution_count": null,
   "metadata": {},
   "outputs": [],
   "source": [
    "plot_results(best2data, '2020-01-01')"
   ]
  },
  {
   "cell_type": "code",
   "execution_count": null,
   "metadata": {},
   "outputs": [],
   "source": [
    "RUN += 1"
   ]
  },
  {
   "cell_type": "code",
   "execution_count": null,
   "metadata": {},
   "outputs": [],
   "source": [
    "!say well, that was one heck of a ride"
   ]
  },
  {
   "cell_type": "code",
   "execution_count": null,
   "metadata": {},
   "outputs": [],
   "source": []
  }
 ],
 "metadata": {
  "kernelspec": {
   "display_name": "Python 3",
   "language": "python",
   "name": "python3"
  },
  "language_info": {
   "codemirror_mode": {
    "name": "ipython",
    "version": 3
   },
   "file_extension": ".py",
   "mimetype": "text/x-python",
   "name": "python",
   "nbconvert_exporter": "python",
   "pygments_lexer": "ipython3",
   "version": "3.7.5"
  }
 },
 "nbformat": 4,
 "nbformat_minor": 1
}
