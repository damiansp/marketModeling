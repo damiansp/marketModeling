{
 "cells": [
  {
   "cell_type": "code",
   "execution_count": 7,
   "id": "7e82513d",
   "metadata": {},
   "outputs": [],
   "source": [
    "#from collections import Counter\n",
    "from datetime import datetime, timedelta\n",
    "#import pickle\n",
    "#import warnings\n",
    "#from   hmmlearn.hmm import GaussianHMM\n",
    "#import matplotlib.pyplot as plt\n",
    "#import numpy as np\n",
    "#import pandas as pd\n",
    "import yfinance as yf"
   ]
  },
  {
   "cell_type": "code",
   "execution_count": 8,
   "id": "2bc888a3",
   "metadata": {},
   "outputs": [
    {
     "data": {
      "text/plain": [
       "datetime.date(2024, 12, 6)"
      ]
     },
     "execution_count": 8,
     "metadata": {},
     "output_type": "execute_result"
    }
   ],
   "source": [
    "DATA = '../data'\n",
    "TODAY = datetime.now().date()\n",
    "TOMORROW  = TODAY + timedelta(1)\n",
    "STATE_RANGE = range(3, 11)\n",
    "TOMORROW"
   ]
  },
  {
   "cell_type": "code",
   "execution_count": 9,
   "id": "fa8ee896",
   "metadata": {},
   "outputs": [
    {
     "name": "stderr",
     "output_type": "stream",
     "text": [
      "[*********************100%***********************]  1 of 1 completed\n",
      "[*********************100%***********************]  1 of 1 completed\n",
      "[*********************100%***********************]  1 of 1 completed\n"
     ]
    }
   ],
   "source": [
    "cols = ['Adj Close', 'Close', 'High', 'Low', 'Open', 'Volume']\n",
    "sp = yf.download(\n",
    "    '^GSPC', start='1965-01-01', end=str(TOMORROW)).sort_index()\n",
    "sp.columns = cols\n",
    "nyse = yf.download(\n",
    "    '^NYA', start='1965-01-01', end=str(TOMORROW)).sort_index()\n",
    "nyse.columns = cols\n",
    "nas = yf.download(\n",
    "    '^IXIC', start='1965-01-01', end=str(TOMORROW)).sort_index()\n",
    "nas.columns = cols\n",
    "#wil = yf.download(\n",
    "#    '^W5000', start='1990-01-01', end=str(TOMORROW))\n",
    "\n",
    "path = '../data'\n",
    "sp.to_csv(f'{path}/sp1950.csv')\n",
    "nyse.to_csv(f'{path}/nya1965.csv')\n",
    "nas.to_csv(f'{path}/nasdaq1965.csv')\n",
    "#wil.to_csv(f'{path}/wilshire1990.csv')\n",
    "\n",
    "#sp = pd.read_csv(f'{DATA}/sp1950.csv')\n",
    "#nyse = pd.read_csv(f'{DATA}/nya1965.csv')\n",
    "#nas = pd.read_csv(f'{DATA}/nasdaq1965.csv')\n",
    "#wil = pd.read_csv(f'{DATA}/wilshire1990.csv')"
   ]
  },
  {
   "cell_type": "code",
   "execution_count": 10,
   "id": "0e117ddb",
   "metadata": {},
   "outputs": [
    {
     "data": {
      "text/html": [
       "<div>\n",
       "<style scoped>\n",
       "    .dataframe tbody tr th:only-of-type {\n",
       "        vertical-align: middle;\n",
       "    }\n",
       "\n",
       "    .dataframe tbody tr th {\n",
       "        vertical-align: top;\n",
       "    }\n",
       "\n",
       "    .dataframe thead th {\n",
       "        text-align: right;\n",
       "    }\n",
       "</style>\n",
       "<table border=\"1\" class=\"dataframe\">\n",
       "  <thead>\n",
       "    <tr style=\"text-align: right;\">\n",
       "      <th></th>\n",
       "      <th>Adj Close</th>\n",
       "      <th>Close</th>\n",
       "      <th>High</th>\n",
       "      <th>Low</th>\n",
       "      <th>Open</th>\n",
       "      <th>Volume</th>\n",
       "    </tr>\n",
       "    <tr>\n",
       "      <th>Date</th>\n",
       "      <th></th>\n",
       "      <th></th>\n",
       "      <th></th>\n",
       "      <th></th>\n",
       "      <th></th>\n",
       "      <th></th>\n",
       "    </tr>\n",
       "  </thead>\n",
       "  <tbody>\n",
       "    <tr>\n",
       "      <th>2024-11-29 00:00:00+00:00</th>\n",
       "      <td>6032.379883</td>\n",
       "      <td>6032.379883</td>\n",
       "      <td>6044.169922</td>\n",
       "      <td>6003.979980</td>\n",
       "      <td>6003.979980</td>\n",
       "      <td>2444420000</td>\n",
       "    </tr>\n",
       "    <tr>\n",
       "      <th>2024-12-02 00:00:00+00:00</th>\n",
       "      <td>6047.149902</td>\n",
       "      <td>6047.149902</td>\n",
       "      <td>6053.580078</td>\n",
       "      <td>6035.330078</td>\n",
       "      <td>6040.109863</td>\n",
       "      <td>4412470000</td>\n",
       "    </tr>\n",
       "    <tr>\n",
       "      <th>2024-12-03 00:00:00+00:00</th>\n",
       "      <td>6049.879883</td>\n",
       "      <td>6049.879883</td>\n",
       "      <td>6052.069824</td>\n",
       "      <td>6033.390137</td>\n",
       "      <td>6042.970215</td>\n",
       "      <td>4095000000</td>\n",
       "    </tr>\n",
       "    <tr>\n",
       "      <th>2024-12-04 00:00:00+00:00</th>\n",
       "      <td>6086.490234</td>\n",
       "      <td>6086.490234</td>\n",
       "      <td>6089.839844</td>\n",
       "      <td>6061.060059</td>\n",
       "      <td>6069.390137</td>\n",
       "      <td>4003390000</td>\n",
       "    </tr>\n",
       "    <tr>\n",
       "      <th>2024-12-05 00:00:00+00:00</th>\n",
       "      <td>6075.109863</td>\n",
       "      <td>6075.109863</td>\n",
       "      <td>6094.549805</td>\n",
       "      <td>6072.899902</td>\n",
       "      <td>6089.029785</td>\n",
       "      <td>2602690000</td>\n",
       "    </tr>\n",
       "  </tbody>\n",
       "</table>\n",
       "</div>"
      ],
      "text/plain": [
       "                             Adj Close        Close         High          Low  \\\n",
       "Date                                                                            \n",
       "2024-11-29 00:00:00+00:00  6032.379883  6032.379883  6044.169922  6003.979980   \n",
       "2024-12-02 00:00:00+00:00  6047.149902  6047.149902  6053.580078  6035.330078   \n",
       "2024-12-03 00:00:00+00:00  6049.879883  6049.879883  6052.069824  6033.390137   \n",
       "2024-12-04 00:00:00+00:00  6086.490234  6086.490234  6089.839844  6061.060059   \n",
       "2024-12-05 00:00:00+00:00  6075.109863  6075.109863  6094.549805  6072.899902   \n",
       "\n",
       "                                  Open      Volume  \n",
       "Date                                                \n",
       "2024-11-29 00:00:00+00:00  6003.979980  2444420000  \n",
       "2024-12-02 00:00:00+00:00  6040.109863  4412470000  \n",
       "2024-12-03 00:00:00+00:00  6042.970215  4095000000  \n",
       "2024-12-04 00:00:00+00:00  6069.390137  4003390000  \n",
       "2024-12-05 00:00:00+00:00  6089.029785  2602690000  "
      ]
     },
     "execution_count": 10,
     "metadata": {},
     "output_type": "execute_result"
    }
   ],
   "source": [
    "sp.tail()"
   ]
  },
  {
   "cell_type": "code",
   "execution_count": 11,
   "id": "58916580",
   "metadata": {},
   "outputs": [
    {
     "data": {
      "text/html": [
       "<div>\n",
       "<style scoped>\n",
       "    .dataframe tbody tr th:only-of-type {\n",
       "        vertical-align: middle;\n",
       "    }\n",
       "\n",
       "    .dataframe tbody tr th {\n",
       "        vertical-align: top;\n",
       "    }\n",
       "\n",
       "    .dataframe thead th {\n",
       "        text-align: right;\n",
       "    }\n",
       "</style>\n",
       "<table border=\"1\" class=\"dataframe\">\n",
       "  <thead>\n",
       "    <tr style=\"text-align: right;\">\n",
       "      <th></th>\n",
       "      <th>Adj Close</th>\n",
       "      <th>Close</th>\n",
       "      <th>High</th>\n",
       "      <th>Low</th>\n",
       "      <th>Open</th>\n",
       "      <th>Volume</th>\n",
       "    </tr>\n",
       "    <tr>\n",
       "      <th>Date</th>\n",
       "      <th></th>\n",
       "      <th></th>\n",
       "      <th></th>\n",
       "      <th></th>\n",
       "      <th></th>\n",
       "      <th></th>\n",
       "    </tr>\n",
       "  </thead>\n",
       "  <tbody>\n",
       "    <tr>\n",
       "      <th>2024-11-29 00:00:00+00:00</th>\n",
       "      <td>19218.169922</td>\n",
       "      <td>19218.169922</td>\n",
       "      <td>19245.490234</td>\n",
       "      <td>19066.519531</td>\n",
       "      <td>19087.470703</td>\n",
       "      <td>4042550000</td>\n",
       "    </tr>\n",
       "    <tr>\n",
       "      <th>2024-12-02 00:00:00+00:00</th>\n",
       "      <td>19403.949219</td>\n",
       "      <td>19403.949219</td>\n",
       "      <td>19436.919922</td>\n",
       "      <td>19255.429688</td>\n",
       "      <td>19255.429688</td>\n",
       "      <td>6370530000</td>\n",
       "    </tr>\n",
       "    <tr>\n",
       "      <th>2024-12-03 00:00:00+00:00</th>\n",
       "      <td>19480.910156</td>\n",
       "      <td>19480.910156</td>\n",
       "      <td>19486.150391</td>\n",
       "      <td>19340.410156</td>\n",
       "      <td>19364.339844</td>\n",
       "      <td>6005160000</td>\n",
       "    </tr>\n",
       "    <tr>\n",
       "      <th>2024-12-04 00:00:00+00:00</th>\n",
       "      <td>19735.119141</td>\n",
       "      <td>19735.119141</td>\n",
       "      <td>19741.759766</td>\n",
       "      <td>19575.400391</td>\n",
       "      <td>19587.480469</td>\n",
       "      <td>7870030000</td>\n",
       "    </tr>\n",
       "    <tr>\n",
       "      <th>2024-12-05 00:00:00+00:00</th>\n",
       "      <td>19700.257812</td>\n",
       "      <td>19700.257812</td>\n",
       "      <td>19790.033203</td>\n",
       "      <td>19688.589844</td>\n",
       "      <td>19756.400391</td>\n",
       "      <td>6622442000</td>\n",
       "    </tr>\n",
       "  </tbody>\n",
       "</table>\n",
       "</div>"
      ],
      "text/plain": [
       "                              Adj Close         Close          High  \\\n",
       "Date                                                                  \n",
       "2024-11-29 00:00:00+00:00  19218.169922  19218.169922  19245.490234   \n",
       "2024-12-02 00:00:00+00:00  19403.949219  19403.949219  19436.919922   \n",
       "2024-12-03 00:00:00+00:00  19480.910156  19480.910156  19486.150391   \n",
       "2024-12-04 00:00:00+00:00  19735.119141  19735.119141  19741.759766   \n",
       "2024-12-05 00:00:00+00:00  19700.257812  19700.257812  19790.033203   \n",
       "\n",
       "                                    Low          Open      Volume  \n",
       "Date                                                               \n",
       "2024-11-29 00:00:00+00:00  19066.519531  19087.470703  4042550000  \n",
       "2024-12-02 00:00:00+00:00  19255.429688  19255.429688  6370530000  \n",
       "2024-12-03 00:00:00+00:00  19340.410156  19364.339844  6005160000  \n",
       "2024-12-04 00:00:00+00:00  19575.400391  19587.480469  7870030000  \n",
       "2024-12-05 00:00:00+00:00  19688.589844  19756.400391  6622442000  "
      ]
     },
     "execution_count": 11,
     "metadata": {},
     "output_type": "execute_result"
    }
   ],
   "source": [
    "nas.tail()"
   ]
  },
  {
   "cell_type": "code",
   "execution_count": 12,
   "id": "29003b18",
   "metadata": {},
   "outputs": [
    {
     "name": "stdout",
     "output_type": "stream",
     "text": [
      "2024-12-05 00:00:00+00:00\n",
      "2024-12-05 00:00:00+00:00\n",
      "2024-12-05 00:00:00+00:00\n"
     ]
    }
   ],
   "source": [
    "for df in [sp, nyse, nas]: #, wil]:\n",
    "    print(df.index[-1])"
   ]
  },
  {
   "cell_type": "code",
   "execution_count": null,
   "id": "29cf8f28",
   "metadata": {},
   "outputs": [],
   "source": []
  },
  {
   "cell_type": "code",
   "execution_count": 7,
   "id": "b793d6d7",
   "metadata": {},
   "outputs": [
    {
     "name": "stderr",
     "output_type": "stream",
     "text": [
      "[*********************100%***********************]  7 of 7 completed\n",
      "\n",
      "6 Failed downloads:\n",
      "['ABBC', 'ABAC', 'AATK', 'AACC', 'ABCW', 'AANB']: YFPricesMissingError('$%ticker%: possibly delisted; no price data found  (1d 2020-01-01 -> 2024-11-26)')\n"
     ]
    },
    {
     "data": {
      "text/html": [
       "<div>\n",
       "<style scoped>\n",
       "    .dataframe tbody tr th:only-of-type {\n",
       "        vertical-align: middle;\n",
       "    }\n",
       "\n",
       "    .dataframe tbody tr th {\n",
       "        vertical-align: top;\n",
       "    }\n",
       "\n",
       "    .dataframe thead tr th {\n",
       "        text-align: left;\n",
       "    }\n",
       "\n",
       "    .dataframe thead tr:last-of-type th {\n",
       "        text-align: right;\n",
       "    }\n",
       "</style>\n",
       "<table border=\"1\" class=\"dataframe\">\n",
       "  <thead>\n",
       "    <tr>\n",
       "      <th>Price</th>\n",
       "      <th colspan=\"7\" halign=\"left\">AdjClose</th>\n",
       "      <th colspan=\"3\" halign=\"left\">Close</th>\n",
       "      <th>...</th>\n",
       "      <th colspan=\"3\" halign=\"left\">Open</th>\n",
       "      <th colspan=\"7\" halign=\"left\">Volume</th>\n",
       "    </tr>\n",
       "    <tr>\n",
       "      <th>Ticker</th>\n",
       "      <th>AACC</th>\n",
       "      <th>AANB</th>\n",
       "      <th>AATK</th>\n",
       "      <th>ABAC</th>\n",
       "      <th>ABBC</th>\n",
       "      <th>ABCO</th>\n",
       "      <th>ABCW</th>\n",
       "      <th>AACC</th>\n",
       "      <th>AANB</th>\n",
       "      <th>AATK</th>\n",
       "      <th>...</th>\n",
       "      <th>ABBC</th>\n",
       "      <th>ABCO</th>\n",
       "      <th>ABCW</th>\n",
       "      <th>AACC</th>\n",
       "      <th>AANB</th>\n",
       "      <th>AATK</th>\n",
       "      <th>ABAC</th>\n",
       "      <th>ABBC</th>\n",
       "      <th>ABCO</th>\n",
       "      <th>ABCW</th>\n",
       "    </tr>\n",
       "    <tr>\n",
       "      <th>Date</th>\n",
       "      <th></th>\n",
       "      <th></th>\n",
       "      <th></th>\n",
       "      <th></th>\n",
       "      <th></th>\n",
       "      <th></th>\n",
       "      <th></th>\n",
       "      <th></th>\n",
       "      <th></th>\n",
       "      <th></th>\n",
       "      <th></th>\n",
       "      <th></th>\n",
       "      <th></th>\n",
       "      <th></th>\n",
       "      <th></th>\n",
       "      <th></th>\n",
       "      <th></th>\n",
       "      <th></th>\n",
       "      <th></th>\n",
       "      <th></th>\n",
       "      <th></th>\n",
       "    </tr>\n",
       "  </thead>\n",
       "  <tbody>\n",
       "    <tr>\n",
       "      <th>2020-01-02 00:00:00+00:00</th>\n",
       "      <td>NaN</td>\n",
       "      <td>NaN</td>\n",
       "      <td>NaN</td>\n",
       "      <td>NaN</td>\n",
       "      <td>NaN</td>\n",
       "      <td>0.83</td>\n",
       "      <td>NaN</td>\n",
       "      <td>NaN</td>\n",
       "      <td>NaN</td>\n",
       "      <td>NaN</td>\n",
       "      <td>...</td>\n",
       "      <td>NaN</td>\n",
       "      <td>0.83</td>\n",
       "      <td>NaN</td>\n",
       "      <td>NaN</td>\n",
       "      <td>NaN</td>\n",
       "      <td>NaN</td>\n",
       "      <td>NaN</td>\n",
       "      <td>NaN</td>\n",
       "      <td>14</td>\n",
       "      <td>NaN</td>\n",
       "    </tr>\n",
       "    <tr>\n",
       "      <th>2020-01-06 00:00:00+00:00</th>\n",
       "      <td>NaN</td>\n",
       "      <td>NaN</td>\n",
       "      <td>NaN</td>\n",
       "      <td>NaN</td>\n",
       "      <td>NaN</td>\n",
       "      <td>0.82</td>\n",
       "      <td>NaN</td>\n",
       "      <td>NaN</td>\n",
       "      <td>NaN</td>\n",
       "      <td>NaN</td>\n",
       "      <td>...</td>\n",
       "      <td>NaN</td>\n",
       "      <td>0.82</td>\n",
       "      <td>NaN</td>\n",
       "      <td>NaN</td>\n",
       "      <td>NaN</td>\n",
       "      <td>NaN</td>\n",
       "      <td>NaN</td>\n",
       "      <td>NaN</td>\n",
       "      <td>300</td>\n",
       "      <td>NaN</td>\n",
       "    </tr>\n",
       "    <tr>\n",
       "      <th>2020-01-07 00:00:00+00:00</th>\n",
       "      <td>NaN</td>\n",
       "      <td>NaN</td>\n",
       "      <td>NaN</td>\n",
       "      <td>NaN</td>\n",
       "      <td>NaN</td>\n",
       "      <td>0.82</td>\n",
       "      <td>NaN</td>\n",
       "      <td>NaN</td>\n",
       "      <td>NaN</td>\n",
       "      <td>NaN</td>\n",
       "      <td>...</td>\n",
       "      <td>NaN</td>\n",
       "      <td>0.80</td>\n",
       "      <td>NaN</td>\n",
       "      <td>NaN</td>\n",
       "      <td>NaN</td>\n",
       "      <td>NaN</td>\n",
       "      <td>NaN</td>\n",
       "      <td>NaN</td>\n",
       "      <td>929</td>\n",
       "      <td>NaN</td>\n",
       "    </tr>\n",
       "    <tr>\n",
       "      <th>2020-01-08 00:00:00+00:00</th>\n",
       "      <td>NaN</td>\n",
       "      <td>NaN</td>\n",
       "      <td>NaN</td>\n",
       "      <td>NaN</td>\n",
       "      <td>NaN</td>\n",
       "      <td>0.80</td>\n",
       "      <td>NaN</td>\n",
       "      <td>NaN</td>\n",
       "      <td>NaN</td>\n",
       "      <td>NaN</td>\n",
       "      <td>...</td>\n",
       "      <td>NaN</td>\n",
       "      <td>0.80</td>\n",
       "      <td>NaN</td>\n",
       "      <td>NaN</td>\n",
       "      <td>NaN</td>\n",
       "      <td>NaN</td>\n",
       "      <td>NaN</td>\n",
       "      <td>NaN</td>\n",
       "      <td>275</td>\n",
       "      <td>NaN</td>\n",
       "    </tr>\n",
       "    <tr>\n",
       "      <th>2020-01-09 00:00:00+00:00</th>\n",
       "      <td>NaN</td>\n",
       "      <td>NaN</td>\n",
       "      <td>NaN</td>\n",
       "      <td>NaN</td>\n",
       "      <td>NaN</td>\n",
       "      <td>0.80</td>\n",
       "      <td>NaN</td>\n",
       "      <td>NaN</td>\n",
       "      <td>NaN</td>\n",
       "      <td>NaN</td>\n",
       "      <td>...</td>\n",
       "      <td>NaN</td>\n",
       "      <td>0.80</td>\n",
       "      <td>NaN</td>\n",
       "      <td>NaN</td>\n",
       "      <td>NaN</td>\n",
       "      <td>NaN</td>\n",
       "      <td>NaN</td>\n",
       "      <td>NaN</td>\n",
       "      <td>10600</td>\n",
       "      <td>NaN</td>\n",
       "    </tr>\n",
       "    <tr>\n",
       "      <th>...</th>\n",
       "      <td>...</td>\n",
       "      <td>...</td>\n",
       "      <td>...</td>\n",
       "      <td>...</td>\n",
       "      <td>...</td>\n",
       "      <td>...</td>\n",
       "      <td>...</td>\n",
       "      <td>...</td>\n",
       "      <td>...</td>\n",
       "      <td>...</td>\n",
       "      <td>...</td>\n",
       "      <td>...</td>\n",
       "      <td>...</td>\n",
       "      <td>...</td>\n",
       "      <td>...</td>\n",
       "      <td>...</td>\n",
       "      <td>...</td>\n",
       "      <td>...</td>\n",
       "      <td>...</td>\n",
       "      <td>...</td>\n",
       "      <td>...</td>\n",
       "    </tr>\n",
       "    <tr>\n",
       "      <th>2022-02-23 00:00:00+00:00</th>\n",
       "      <td>NaN</td>\n",
       "      <td>NaN</td>\n",
       "      <td>NaN</td>\n",
       "      <td>NaN</td>\n",
       "      <td>NaN</td>\n",
       "      <td>0.89</td>\n",
       "      <td>NaN</td>\n",
       "      <td>NaN</td>\n",
       "      <td>NaN</td>\n",
       "      <td>NaN</td>\n",
       "      <td>...</td>\n",
       "      <td>NaN</td>\n",
       "      <td>0.89</td>\n",
       "      <td>NaN</td>\n",
       "      <td>NaN</td>\n",
       "      <td>NaN</td>\n",
       "      <td>NaN</td>\n",
       "      <td>NaN</td>\n",
       "      <td>NaN</td>\n",
       "      <td>0</td>\n",
       "      <td>NaN</td>\n",
       "    </tr>\n",
       "    <tr>\n",
       "      <th>2022-02-24 00:00:00+00:00</th>\n",
       "      <td>NaN</td>\n",
       "      <td>NaN</td>\n",
       "      <td>NaN</td>\n",
       "      <td>NaN</td>\n",
       "      <td>NaN</td>\n",
       "      <td>0.89</td>\n",
       "      <td>NaN</td>\n",
       "      <td>NaN</td>\n",
       "      <td>NaN</td>\n",
       "      <td>NaN</td>\n",
       "      <td>...</td>\n",
       "      <td>NaN</td>\n",
       "      <td>0.89</td>\n",
       "      <td>NaN</td>\n",
       "      <td>NaN</td>\n",
       "      <td>NaN</td>\n",
       "      <td>NaN</td>\n",
       "      <td>NaN</td>\n",
       "      <td>NaN</td>\n",
       "      <td>0</td>\n",
       "      <td>NaN</td>\n",
       "    </tr>\n",
       "    <tr>\n",
       "      <th>2022-02-28 00:00:00+00:00</th>\n",
       "      <td>NaN</td>\n",
       "      <td>NaN</td>\n",
       "      <td>NaN</td>\n",
       "      <td>NaN</td>\n",
       "      <td>NaN</td>\n",
       "      <td>0.90</td>\n",
       "      <td>NaN</td>\n",
       "      <td>NaN</td>\n",
       "      <td>NaN</td>\n",
       "      <td>NaN</td>\n",
       "      <td>...</td>\n",
       "      <td>NaN</td>\n",
       "      <td>0.91</td>\n",
       "      <td>NaN</td>\n",
       "      <td>NaN</td>\n",
       "      <td>NaN</td>\n",
       "      <td>NaN</td>\n",
       "      <td>NaN</td>\n",
       "      <td>NaN</td>\n",
       "      <td>12700</td>\n",
       "      <td>NaN</td>\n",
       "    </tr>\n",
       "    <tr>\n",
       "      <th>2022-03-01 00:00:00+00:00</th>\n",
       "      <td>NaN</td>\n",
       "      <td>NaN</td>\n",
       "      <td>NaN</td>\n",
       "      <td>NaN</td>\n",
       "      <td>NaN</td>\n",
       "      <td>0.90</td>\n",
       "      <td>NaN</td>\n",
       "      <td>NaN</td>\n",
       "      <td>NaN</td>\n",
       "      <td>NaN</td>\n",
       "      <td>...</td>\n",
       "      <td>NaN</td>\n",
       "      <td>0.90</td>\n",
       "      <td>NaN</td>\n",
       "      <td>NaN</td>\n",
       "      <td>NaN</td>\n",
       "      <td>NaN</td>\n",
       "      <td>NaN</td>\n",
       "      <td>NaN</td>\n",
       "      <td>4000</td>\n",
       "      <td>NaN</td>\n",
       "    </tr>\n",
       "    <tr>\n",
       "      <th>2022-03-02 00:00:00+00:00</th>\n",
       "      <td>NaN</td>\n",
       "      <td>NaN</td>\n",
       "      <td>NaN</td>\n",
       "      <td>NaN</td>\n",
       "      <td>NaN</td>\n",
       "      <td>0.90</td>\n",
       "      <td>NaN</td>\n",
       "      <td>NaN</td>\n",
       "      <td>NaN</td>\n",
       "      <td>NaN</td>\n",
       "      <td>...</td>\n",
       "      <td>NaN</td>\n",
       "      <td>0.90</td>\n",
       "      <td>NaN</td>\n",
       "      <td>NaN</td>\n",
       "      <td>NaN</td>\n",
       "      <td>NaN</td>\n",
       "      <td>NaN</td>\n",
       "      <td>NaN</td>\n",
       "      <td>10199</td>\n",
       "      <td>NaN</td>\n",
       "    </tr>\n",
       "  </tbody>\n",
       "</table>\n",
       "<p>433 rows × 42 columns</p>\n",
       "</div>"
      ],
      "text/plain": [
       "Price                     AdjClose                                Close       \\\n",
       "Ticker                        AACC AANB AATK ABAC ABBC  ABCO ABCW  AACC AANB   \n",
       "Date                                                                           \n",
       "2020-01-02 00:00:00+00:00      NaN  NaN  NaN  NaN  NaN  0.83  NaN   NaN  NaN   \n",
       "2020-01-06 00:00:00+00:00      NaN  NaN  NaN  NaN  NaN  0.82  NaN   NaN  NaN   \n",
       "2020-01-07 00:00:00+00:00      NaN  NaN  NaN  NaN  NaN  0.82  NaN   NaN  NaN   \n",
       "2020-01-08 00:00:00+00:00      NaN  NaN  NaN  NaN  NaN  0.80  NaN   NaN  NaN   \n",
       "2020-01-09 00:00:00+00:00      NaN  NaN  NaN  NaN  NaN  0.80  NaN   NaN  NaN   \n",
       "...                            ...  ...  ...  ...  ...   ...  ...   ...  ...   \n",
       "2022-02-23 00:00:00+00:00      NaN  NaN  NaN  NaN  NaN  0.89  NaN   NaN  NaN   \n",
       "2022-02-24 00:00:00+00:00      NaN  NaN  NaN  NaN  NaN  0.89  NaN   NaN  NaN   \n",
       "2022-02-28 00:00:00+00:00      NaN  NaN  NaN  NaN  NaN  0.90  NaN   NaN  NaN   \n",
       "2022-03-01 00:00:00+00:00      NaN  NaN  NaN  NaN  NaN  0.90  NaN   NaN  NaN   \n",
       "2022-03-02 00:00:00+00:00      NaN  NaN  NaN  NaN  NaN  0.90  NaN   NaN  NaN   \n",
       "\n",
       "Price                           ... Open            Volume                 \\\n",
       "Ticker                    AATK  ... ABBC  ABCO ABCW   AACC AANB AATK ABAC   \n",
       "Date                            ...                                         \n",
       "2020-01-02 00:00:00+00:00  NaN  ...  NaN  0.83  NaN    NaN  NaN  NaN  NaN   \n",
       "2020-01-06 00:00:00+00:00  NaN  ...  NaN  0.82  NaN    NaN  NaN  NaN  NaN   \n",
       "2020-01-07 00:00:00+00:00  NaN  ...  NaN  0.80  NaN    NaN  NaN  NaN  NaN   \n",
       "2020-01-08 00:00:00+00:00  NaN  ...  NaN  0.80  NaN    NaN  NaN  NaN  NaN   \n",
       "2020-01-09 00:00:00+00:00  NaN  ...  NaN  0.80  NaN    NaN  NaN  NaN  NaN   \n",
       "...                        ...  ...  ...   ...  ...    ...  ...  ...  ...   \n",
       "2022-02-23 00:00:00+00:00  NaN  ...  NaN  0.89  NaN    NaN  NaN  NaN  NaN   \n",
       "2022-02-24 00:00:00+00:00  NaN  ...  NaN  0.89  NaN    NaN  NaN  NaN  NaN   \n",
       "2022-02-28 00:00:00+00:00  NaN  ...  NaN  0.91  NaN    NaN  NaN  NaN  NaN   \n",
       "2022-03-01 00:00:00+00:00  NaN  ...  NaN  0.90  NaN    NaN  NaN  NaN  NaN   \n",
       "2022-03-02 00:00:00+00:00  NaN  ...  NaN  0.90  NaN    NaN  NaN  NaN  NaN   \n",
       "\n",
       "Price                                       \n",
       "Ticker                    ABBC   ABCO ABCW  \n",
       "Date                                        \n",
       "2020-01-02 00:00:00+00:00  NaN     14  NaN  \n",
       "2020-01-06 00:00:00+00:00  NaN    300  NaN  \n",
       "2020-01-07 00:00:00+00:00  NaN    929  NaN  \n",
       "2020-01-08 00:00:00+00:00  NaN    275  NaN  \n",
       "2020-01-09 00:00:00+00:00  NaN  10600  NaN  \n",
       "...                        ...    ...  ...  \n",
       "2022-02-23 00:00:00+00:00  NaN      0  NaN  \n",
       "2022-02-24 00:00:00+00:00  NaN      0  NaN  \n",
       "2022-02-28 00:00:00+00:00  NaN  12700  NaN  \n",
       "2022-03-01 00:00:00+00:00  NaN   4000  NaN  \n",
       "2022-03-02 00:00:00+00:00  NaN  10199  NaN  \n",
       "\n",
       "[433 rows x 42 columns]"
      ]
     },
     "execution_count": 7,
     "metadata": {},
     "output_type": "execute_result"
    }
   ],
   "source": [
    "data = (\n",
    "    yf\n",
    "    .download({'AATK', 'ABCO', 'ABAC', 'ABCW', 'AANB', 'AACC', 'ABBC'}, start='2020-01-01', end=TOMORROW)\n",
    "    .rename(columns={'Adj Close': 'AdjClose'}))#['AdjClose']\n",
    "data"
   ]
  },
  {
   "cell_type": "code",
   "execution_count": 8,
   "id": "aa7794b8",
   "metadata": {},
   "outputs": [
    {
     "ename": "NameError",
     "evalue": "name 'np' is not defined",
     "output_type": "error",
     "traceback": [
      "\u001b[0;31m---------------------------------------------------------------------------\u001b[0m",
      "\u001b[0;31mNameError\u001b[0m                                 Traceback (most recent call last)",
      "Cell \u001b[0;32mIn[8], line 2\u001b[0m\n\u001b[1;32m      1\u001b[0m x \u001b[38;5;241m=\u001b[39m sp[\u001b[38;5;124m'\u001b[39m\u001b[38;5;124mAdj Close\u001b[39m\u001b[38;5;124m'\u001b[39m]\u001b[38;5;241m.\u001b[39mto_numpy()\n\u001b[0;32m----> 2\u001b[0m \u001b[43mnp\u001b[49m\u001b[38;5;241m.\u001b[39mappend([np\u001b[38;5;241m.\u001b[39mnan], x[\u001b[38;5;241m1\u001b[39m:] \u001b[38;5;241m/\u001b[39m x[:\u001b[38;5;241m-\u001b[39m\u001b[38;5;241m1\u001b[39m])\n",
      "\u001b[0;31mNameError\u001b[0m: name 'np' is not defined"
     ]
    }
   ],
   "source": [
    "x = sp['Adj Close'].to_numpy()\n",
    "np.append([np.nan], x[1:] / x[:-1])"
   ]
  },
  {
   "cell_type": "code",
   "execution_count": null,
   "id": "6c4b2469",
   "metadata": {},
   "outputs": [],
   "source": [
    "def get_daily_changes(series):\n",
    "    x = series.to_numpy()\n",
    "    return np.append([1], x[1:] / x[:-1])"
   ]
  },
  {
   "cell_type": "code",
   "execution_count": null,
   "id": "bbceda7e",
   "metadata": {},
   "outputs": [],
   "source": [
    "def prep_df(df, name):\n",
    "    df.index = pd.to_datetime(df.index)\n",
    "    df[f'{name}_daily'] = get_daily_changes(df['Adj Close'])\n",
    "    df.rename(columns={'Adj Close': name}, inplace=True)\n",
    "    return df[[name, f'{name}_daily']]"
   ]
  },
  {
   "cell_type": "code",
   "execution_count": null,
   "id": "8182a8dd",
   "metadata": {},
   "outputs": [],
   "source": [
    "[sp, nyse, nas, wil] = [\n",
    "    prep_df(df, name) \n",
    "    for df, name in zip(\n",
    "        [sp, nyse, nas, wil], ['sp', 'nyse', 'nas', 'wil'])]\n",
    "sp.head()"
   ]
  },
  {
   "cell_type": "code",
   "execution_count": null,
   "id": "c61584c1",
   "metadata": {},
   "outputs": [],
   "source": [
    "nyse.head()"
   ]
  },
  {
   "cell_type": "code",
   "execution_count": null,
   "id": "3e67c5c0",
   "metadata": {},
   "outputs": [],
   "source": [
    "nas.head()"
   ]
  },
  {
   "cell_type": "code",
   "execution_count": null,
   "id": "abc65baf",
   "metadata": {},
   "outputs": [],
   "source": [
    "def find_best_mod(\n",
    "        daily,\n",
    "        n_states=[6, 7, 8],\n",
    "        max_iter=1000,\n",
    "        reps=3,\n",
    "        best_logprob=None,\n",
    "        best_mod=None,\n",
    "        best_states=None):\n",
    "    daily = np.reshape(daily.values, [-1, 1])\n",
    "    best_logprob = best_logprob or -np.inf\n",
    "    best_mod = best_mod or None\n",
    "    best_states = best_states or None\n",
    "    for states in n_states:\n",
    "        for rep in range(reps):\n",
    "            try:\n",
    "                print(f'rep {rep + 1}', end='\\r')\n",
    "                for cov in ['spherical', 'diag', 'full']:\n",
    "                    mod = GaussianHMM(\n",
    "                        n_components=states,\n",
    "                        covariance_type=cov,\n",
    "                        n_iter=max_iter\n",
    "                    ).fit(daily)\n",
    "                    logprob = mod.score(daily)\n",
    "                    if logprob > best_logprob:\n",
    "                        print(f'New best - States: {states} (cov: {cov})')\n",
    "                        best_logprob = logprob\n",
    "                        best_mod = mod\n",
    "                        best_states = states\n",
    "            except ValueError:\n",
    "                pass\n",
    "    return best_mod, best_logprob, best_states"
   ]
  },
  {
   "cell_type": "code",
   "execution_count": null,
   "id": "2a86095f",
   "metadata": {},
   "outputs": [],
   "source": [
    "def get_preds(daily, mod):\n",
    "    daily = np.reshape(daily.values, [-1, 1])\n",
    "    states = mod.predict(daily)\n",
    "    means = np.squeeze(mod.means_)\n",
    "    sds = np.squeeze(np.sqrt(mod.covars_))\n",
    "    preds = np.array([means[state] for state in states])\n",
    "    ses = np.array([1.96 * sds[state] for state in states])\n",
    "    return preds, ses, means, states[-1]"
   ]
  },
  {
   "cell_type": "code",
   "execution_count": null,
   "id": "661e3cbb",
   "metadata": {},
   "outputs": [],
   "source": [
    "def plot_mod(df, preds, ses, name):\n",
    "    daily = f'{name}_daily'\n",
    "    plt.plot(df[daily], label='daily')\n",
    "    plt.plot(df.index, preds, label='preds')\n",
    "    plt.legend()\n",
    "\n",
    "    plt.figure()\n",
    "    plt.plot(df[daily], label='daily')\n",
    "    plt.plot(\n",
    "        df.index, preds, label='preds', color='orange', linewidth=3)\n",
    "    plt.plot(df.index, preds + ses, color='orange', linestyle='-.')\n",
    "    plt.plot(df.index, preds - ses, color='orange', linestyle='-.')\n",
    "    plt.axhline(y=1, color='k')\n",
    "    plt.ylim([0.95, 1.05]);\n",
    "    plt.xlim([df.index[-500], df.index[-1]])\n",
    "\n",
    "    plt.figure()\n",
    "    plt.plot(df[name])\n",
    "    plt.xlim([df.index[-500], df.index[-1]])\n",
    "    sub = df.iloc[-500:, :]\n",
    "    plt.ylim(\n",
    "        0.95 * sub[name].min(), 1.05 * sub[name].max());"
   ]
  },
  {
   "cell_type": "code",
   "execution_count": null,
   "id": "c9505123",
   "metadata": {},
   "outputs": [],
   "source": [
    "def get_expected_val(mod, current_state, means):\n",
    "    return np.dot(mod.transmat_[current_state, :], means)"
   ]
  },
  {
   "cell_type": "code",
   "execution_count": null,
   "id": "c68c8a00",
   "metadata": {},
   "outputs": [],
   "source": [
    "# start search from previous day's best\n",
    "with open(f'{DATA}/hmm_mods.pkl', 'rb') as f:\n",
    "    out_data  = pickle.load(f)\n",
    "\n",
    "out_data"
   ]
  },
  {
   "cell_type": "code",
   "execution_count": null,
   "id": "d0feabc9",
   "metadata": {},
   "outputs": [],
   "source": [
    "sp_prob, sp_mod, sp_best_states = (\n",
    "    out_data['^GSPC']['logprob'], out_data['^GSPC']['mod'], out_data['^GSPC']['n_states'])\n",
    "nyse_prob, nyse_mod, nyse_best_states = (\n",
    "    out_data['^NYA']['logprob'], out_data['^NYA']['mod'], out_data['^NYA']['n_states'])\n",
    "nas_prob, nas_mod, nas_best_states = (\n",
    "    out_data['^IXIC']['logprob'], out_data['^IXIC']['mod'], out_data['^IXIC']['n_states'])\n",
    "wil_prob, wil_mod, wil_best_states = (\n",
    "    out_data['^W5000']['logprob'], out_data['^W5000']['mod'], out_data['^W5000']['n_states'])"
   ]
  },
  {
   "cell_type": "code",
   "execution_count": null,
   "id": "60cc78b7",
   "metadata": {},
   "outputs": [],
   "source": [
    "type(sp_mod)"
   ]
  },
  {
   "cell_type": "markdown",
   "id": "a9e2fef0",
   "metadata": {},
   "source": [
    "## S&P"
   ]
  },
  {
   "cell_type": "code",
   "execution_count": null,
   "id": "2d1f4a52",
   "metadata": {},
   "outputs": [],
   "source": [
    "warnings.filterwarnings('ignore', category=RuntimeWarning)"
   ]
  },
  {
   "cell_type": "code",
   "execution_count": null,
   "id": "8d91e1ec",
   "metadata": {},
   "outputs": [],
   "source": [
    "#sp_prob = None\n",
    "#sp_mod = None\n",
    "#sp_best_states = None"
   ]
  },
  {
   "cell_type": "code",
   "execution_count": null,
   "id": "8558a6f3",
   "metadata": {},
   "outputs": [],
   "source": [
    "sp_mod, sp_prob, sp_best_states = find_best_mod(\n",
    "    sp.sp_daily,\n",
    "    n_states=STATE_RANGE,\n",
    "    best_logprob=sp_prob,\n",
    "    best_mod=sp_mod,\n",
    "    best_states=sp_best_states)\n",
    "sp_preds, sp_ses, sp_means, sp_current = get_preds(sp.sp_daily, sp_mod)\n",
    "plot_mod(sp, sp_preds, sp_ses, 'sp')\n",
    "sp_exp = get_expected_val(sp_mod, sp_current, sp_means)\n",
    "print(sp_exp)"
   ]
  },
  {
   "cell_type": "markdown",
   "id": "e0832a84",
   "metadata": {},
   "source": [
    "## NYSE"
   ]
  },
  {
   "cell_type": "code",
   "execution_count": null,
   "id": "0677e92d",
   "metadata": {},
   "outputs": [],
   "source": [
    "#nyse_prob = None\n",
    "#nyse_mod = None\n",
    "#nyse_best_states = None"
   ]
  },
  {
   "cell_type": "code",
   "execution_count": null,
   "id": "181567dd",
   "metadata": {},
   "outputs": [],
   "source": [
    "nyse_mod, nyse_prob, nyse_best_states = find_best_mod(\n",
    "    nyse.nyse_daily,\n",
    "    n_states=STATE_RANGE,\n",
    "    best_logprob=nyse_prob,\n",
    "    best_mod=nyse_mod,\n",
    "    best_states=nyse_best_states)\n",
    "nyse_preds, nyse_ses, nyse_means, nyse_current = get_preds(\n",
    "    nyse.nyse_daily, nyse_mod)\n",
    "plot_mod(nyse, nyse_preds, nyse_ses, 'nyse')\n",
    "nyse_exp = get_expected_val(nyse_mod, nyse_current, nyse_means)\n",
    "print(nyse_exp)"
   ]
  },
  {
   "cell_type": "markdown",
   "id": "ca299ebe",
   "metadata": {},
   "source": [
    "## Nasdaq"
   ]
  },
  {
   "cell_type": "code",
   "execution_count": null,
   "id": "88eb1e40",
   "metadata": {},
   "outputs": [],
   "source": [
    "#nas_prob = None\n",
    "#nas_mod = None\n",
    "#nas_best_states = None"
   ]
  },
  {
   "cell_type": "code",
   "execution_count": null,
   "id": "47c000a7",
   "metadata": {},
   "outputs": [],
   "source": [
    "nas_mod, nas_prob, nas_best_states = find_best_mod(\n",
    "    nas.nas_daily,\n",
    "    n_states=STATE_RANGE,\n",
    "    best_logprob=nas_prob,\n",
    "    best_mod=nas_mod,\n",
    "    best_states=nas_best_states)\n",
    "nas_preds, nas_ses, nas_means, nas_current = get_preds(\n",
    "    nas.nas_daily, nas_mod)\n",
    "plot_mod(nas, nas_preds, nas_ses, 'nas')\n",
    "nas_exp = get_expected_val(nas_mod, nas_current, nas_means)\n",
    "print(nas_exp)"
   ]
  },
  {
   "cell_type": "markdown",
   "id": "752655f5",
   "metadata": {},
   "source": [
    "## Wilshire"
   ]
  },
  {
   "cell_type": "code",
   "execution_count": null,
   "id": "d2d086f4",
   "metadata": {},
   "outputs": [],
   "source": [
    "#wil_prob = None\n",
    "#wil_mod = None\n",
    "#wil_best_states = None"
   ]
  },
  {
   "cell_type": "code",
   "execution_count": null,
   "id": "7679b956",
   "metadata": {},
   "outputs": [],
   "source": [
    "wil_mod, wil_prob, wil_best_states = find_best_mod(\n",
    "    wil.wil_daily,\n",
    "    n_states=STATE_RANGE,\n",
    "    best_logprob=wil_prob,\n",
    "    best_mod=wil_mod,\n",
    "    best_states=wil_best_states)\n",
    "wil_preds, wil_ses, wil_means, wil_current = get_preds(\n",
    "    wil.wil_daily, wil_mod)\n",
    "plot_mod(wil, wil_preds, wil_ses, 'wil')\n",
    "wil_exp = get_expected_val(wil_mod, wil_current, wil_means)\n",
    "print(wil_exp)"
   ]
  },
  {
   "cell_type": "code",
   "execution_count": null,
   "id": "6d2da93e",
   "metadata": {},
   "outputs": [],
   "source": [
    "#sp_best_states = len(np.unique(sp_preds))\n",
    "#nyse_best_states = len(np.unique(nyse_preds))\n",
    "#nas_best_states = len(np.unique(nas_preds))\n",
    "#wil_best_states = len(np.unique(wil_preds))"
   ]
  },
  {
   "cell_type": "code",
   "execution_count": null,
   "id": "c1158d7d",
   "metadata": {},
   "outputs": [],
   "source": [
    "out_data = {\n",
    "    '^GSPC': {'logprob': sp_prob, 'mod': sp_mod, 'n_states': sp_best_states},\n",
    "    '^NYA': {'logprob': nyse_prob, 'mod': nyse_mod, 'n_states': nyse_best_states},\n",
    "    '^IXIC': {'logprob': nas_prob, 'mod': nas_mod, 'n_states': nas_best_states},\n",
    "    '^W5000': {'logprob': wil_prob, 'mod': wil_mod, 'n_states': wil_best_states}}\n",
    "with open(f'{DATA}/hmm_mods_indices.pkl', 'wb') as f:\n",
    "    pickle.dump(out_data, f)"
   ]
  },
  {
   "cell_type": "code",
   "execution_count": null,
   "id": "aa0b9e95",
   "metadata": {},
   "outputs": [],
   "source": [
    "print(\n",
    "    sp_best_states, nyse_best_states, nas_best_states, wil_best_states)\n",
    "mean_states = (\n",
    "    (sp_best_states\n",
    "     + nyse_best_states\n",
    "     + nas_best_states\n",
    "     + wil_best_states)\n",
    "    / 4)\n",
    "mean_states"
   ]
  },
  {
   "cell_type": "code",
   "execution_count": null,
   "id": "6e7926ff",
   "metadata": {},
   "outputs": [],
   "source": [
    "N_STATES = int(round(mean_states))\n",
    "N_STATES"
   ]
  },
  {
   "cell_type": "code",
   "execution_count": null,
   "id": "9e20a9a0",
   "metadata": {},
   "outputs": [],
   "source": [
    "exp = (sp_exp + nyse_exp + nas_exp + wil_exp) / 4\n",
    "exp"
   ]
  },
  {
   "cell_type": "code",
   "execution_count": null,
   "id": "1434e4cb",
   "metadata": {},
   "outputs": [],
   "source": [
    "for df, name, exp in zip(\n",
    "        [sp, nyse, nas, wil],\n",
    "        ['sp', 'nyse', 'nas', 'wil'],\n",
    "        [sp_preds, nyse_preds, nas_preds, wil_preds]):\n",
    "    df[f'{name}_exp'] = exp"
   ]
  },
  {
   "cell_type": "code",
   "execution_count": null,
   "id": "4dba4a90",
   "metadata": {},
   "outputs": [],
   "source": [
    "df = pd.concat([sp, nyse, nas, wil], axis=1)\n",
    "df.tail()"
   ]
  },
  {
   "cell_type": "code",
   "execution_count": null,
   "id": "526b4d19",
   "metadata": {},
   "outputs": [],
   "source": [
    "df['mean_exp'] = (\n",
    "    df[['sp_exp', 'nyse_exp', 'nas_exp', 'wil_exp']].mean(axis=1))"
   ]
  },
  {
   "cell_type": "code",
   "execution_count": null,
   "id": "29fa12c1",
   "metadata": {},
   "outputs": [],
   "source": [
    "plt.figure(figsize=[15, 8])\n",
    "plt.plot(df.sp_exp, label='sp')\n",
    "plt.plot(df.nyse_exp, label='nyse')\n",
    "plt.plot(df.nas_exp, label='nasdaq')\n",
    "plt.plot(df.wil_exp, label='wilshire')\n",
    "\n",
    "plt.legend();"
   ]
  },
  {
   "cell_type": "code",
   "execution_count": null,
   "id": "cf3a7349",
   "metadata": {},
   "outputs": [],
   "source": [
    "plt.figure(figsize=[15, 8])\n",
    "plt.plot(df.sp_exp, alpha=0.5)\n",
    "plt.plot(df.nyse_exp, alpha=0.5)\n",
    "plt.plot(df.nas_exp, alpha=0.5)\n",
    "plt.plot(df.wil_exp, alpha=0.5)\n",
    "plt.plot(df.mean_exp, linewidth=3)\n",
    "plt.axhline(y=1, color='k');"
   ]
  },
  {
   "cell_type": "code",
   "execution_count": null,
   "id": "861a1367",
   "metadata": {},
   "outputs": [],
   "source": [
    "TODAY = datetime.now()\n",
    "plt.figure(figsize=[15, 8])\n",
    "plt.plot(df.sp_exp, alpha=0.5)\n",
    "plt.plot(df.nyse_exp, alpha=0.5)\n",
    "plt.plot(df.nas_exp, alpha=0.5)\n",
    "plt.plot(df.wil_exp, alpha=0.5)\n",
    "plt.plot(df.mean_exp, linewidth=3)\n",
    "plt.axhline(y=1, color='k')\n",
    "plt.xlim(pd.to_datetime('2010-01-01'), TODAY);"
   ]
  },
  {
   "cell_type": "code",
   "execution_count": null,
   "id": "18d53c8c",
   "metadata": {},
   "outputs": [],
   "source": [
    "TODAY = datetime.now()\n",
    "plt.figure(figsize=[15, 8])\n",
    "plt.plot(df.sp_exp, alpha=0.5)\n",
    "plt.plot(df.nyse_exp, alpha=0.5)\n",
    "plt.plot(df.nas_exp, alpha=0.5)\n",
    "plt.plot(df.wil_exp, alpha=0.5)\n",
    "plt.plot(df.mean_exp, linewidth=3)\n",
    "plt.xlim(pd.to_datetime('2020-01-01'), TODAY);\n",
    "plt.axhline(y = 1, color='k');"
   ]
  },
  {
   "cell_type": "code",
   "execution_count": null,
   "id": "1eb39d54",
   "metadata": {},
   "outputs": [],
   "source": [
    "plt.figure(figsize=[15, 8])\n",
    "plt.plot(df.sp_exp, alpha=0.5)\n",
    "plt.plot(df.nyse_exp, alpha=0.5)\n",
    "plt.plot(df.nas_exp, alpha=0.5)\n",
    "plt.plot(df.wil_exp, alpha=0.5)\n",
    "plt.plot(df.mean_exp, linewidth=3)\n",
    "plt.axhline(y=1, color='k')\n",
    "plt.xlim(pd.to_datetime('2021-01-01'), TODAY)\n",
    "plt.ylim([0.995, 1.005]);"
   ]
  },
  {
   "cell_type": "code",
   "execution_count": null,
   "id": "c52e3ea8",
   "metadata": {},
   "outputs": [],
   "source": [
    "df = df[df.index >= pd.to_datetime('1970-01-01')]"
   ]
  },
  {
   "cell_type": "code",
   "execution_count": null,
   "id": "14a94dae",
   "metadata": {},
   "outputs": [],
   "source": [
    "try:\n",
    "    df['state'] = pd.qcut(\n",
    "        df.mean_exp,\n",
    "        N_STATES,\n",
    "        retbins=False,\n",
    "        duplicates='drop',\n",
    "        labels=range(N_STATES))\n",
    "except ValueError:\n",
    "    try:\n",
    "        df['state'] = pd.qcut(\n",
    "            df.mean_exp,\n",
    "            N_STATES,\n",
    "            retbins=False,\n",
    "            duplicates='drop',\n",
    "            labels=range(N_STATES - 1))\n",
    "    except ValueError:\n",
    "        df['state'] = pd.qcut(\n",
    "            df.mean_exp,\n",
    "            N_STATES,\n",
    "            retbins=False,\n",
    "            duplicates='drop',\n",
    "            labels=range(N_STATES - 2))"
   ]
  },
  {
   "cell_type": "code",
   "execution_count": null,
   "id": "7e26ea8d",
   "metadata": {},
   "outputs": [],
   "source": [
    "df.state.value_counts()"
   ]
  },
  {
   "cell_type": "code",
   "execution_count": null,
   "id": "585b738d",
   "metadata": {},
   "outputs": [],
   "source": [
    "plt.figure(figsize=[15, 8])\n",
    "plt.plot(df.state);"
   ]
  },
  {
   "cell_type": "code",
   "execution_count": null,
   "id": "b8a45637",
   "metadata": {},
   "outputs": [],
   "source": [
    "plt.figure(figsize=[15, 8])\n",
    "plt.plot(df.state)\n",
    "plt.xlim(pd.to_datetime('2010-01-01'), TODAY);\n",
    "\n",
    "plt.figure(figsize=[15, 8])\n",
    "plt.plot(df.state)\n",
    "plt.xlim(pd.to_datetime('2021-01-01'), TODAY);\n",
    "\n",
    "plt.figure(figsize=[15, 8])\n",
    "plt.plot(df.state)\n",
    "plt.xlim(pd.to_datetime('2022-01-01'), TODAY);"
   ]
  },
  {
   "cell_type": "code",
   "execution_count": null,
   "id": "45b33373",
   "metadata": {},
   "outputs": [],
   "source": [
    "transitions = Counter()\n",
    "for i in range(len(df.state) - 1):\n",
    "    state = df.state[i]\n",
    "    nxt = df.state[i + 1]\n",
    "    transitions[(state, nxt)] += 1"
   ]
  },
  {
   "cell_type": "code",
   "execution_count": null,
   "id": "cc28c0ab",
   "metadata": {},
   "outputs": [],
   "source": [
    "df.to_csv(f'{DATA}/hmm_exp_returns.csv')"
   ]
  },
  {
   "cell_type": "code",
   "execution_count": null,
   "id": "1f94655d",
   "metadata": {},
   "outputs": [],
   "source": [
    "TODAY"
   ]
  },
  {
   "cell_type": "code",
   "execution_count": null,
   "id": "dcefad63",
   "metadata": {},
   "outputs": [],
   "source": [
    "CURRENT_STATE = df.state[-1]\n",
    "CURRENT_STATE"
   ]
  },
  {
   "cell_type": "code",
   "execution_count": null,
   "id": "a98cb88c",
   "metadata": {},
   "outputs": [],
   "source": [
    "possible_transitions = sorted(\n",
    "    [k for k in transitions.keys() if k[0] == CURRENT_STATE])\n",
    "state_sum = 0\n",
    "for pt in possible_transitions:\n",
    "    n_trans = transitions[pt]\n",
    "    state_sum += n_trans\n",
    "    print(f'{pt}: {n_trans}')\n",
    "\n",
    "print()\n",
    "\n",
    "data = []\n",
    "for pt in possible_transitions:\n",
    "    n_trans = transitions[pt]\n",
    "    print(f'{pt}: {n_trans / state_sum:.4f}')\n",
    "    data.append([pt[1], n_trans / state_sum])"
   ]
  },
  {
   "cell_type": "code",
   "execution_count": null,
   "id": "4a0d76c9",
   "metadata": {},
   "outputs": [],
   "source": [
    "trans_df = pd.DataFrame(data, columns=['next_state', 'prob'])\n",
    "trans_df"
   ]
  },
  {
   "cell_type": "code",
   "execution_count": null,
   "id": "5b1c8d0e",
   "metadata": {},
   "outputs": [],
   "source": [
    "trans_df.to_csv('../data/transition_probs.csv', index=False)"
   ]
  },
  {
   "cell_type": "code",
   "execution_count": null,
   "id": "8a549494",
   "metadata": {},
   "outputs": [],
   "source": [
    "df.state.value_counts()"
   ]
  },
  {
   "cell_type": "code",
   "execution_count": null,
   "id": "793047a6",
   "metadata": {},
   "outputs": [],
   "source": [
    "state_var = (\n",
    "    df[['state', 'mean_exp']].groupby('state').agg(['mean', 'std']))\n",
    "state_var.columns = ['mean', 'std']\n",
    "state_var\n",
    "state_var['ci'] = state_var.apply(\n",
    "    lambda row: [\n",
    "        row['mean'] - 1.96*row['std'],\n",
    "        row['mean'] + 1.96*row['std']], axis=1)\n",
    "state_var"
   ]
  },
  {
   "cell_type": "code",
   "execution_count": null,
   "id": "e7ea9f9f",
   "metadata": {},
   "outputs": [],
   "source": [
    "plt.scatter(state_var.index, state_var['mean'])\n",
    "for state in range(state_var.index.max() + 1):\n",
    "    plt.plot([state, state], state_var.loc[state, 'ci'], color='k');"
   ]
  },
  {
   "cell_type": "code",
   "execution_count": null,
   "id": "a4929b9c",
   "metadata": {},
   "outputs": [],
   "source": [
    "import numpy as np\n",
    "import pandas as pd"
   ]
  },
  {
   "cell_type": "code",
   "execution_count": null,
   "id": "b9e0a65d",
   "metadata": {},
   "outputs": [],
   "source": [
    "s = pd.Series([np.nan, np.nan, 1, 3, 4, np.nan, np.nan, 7, 8, np.nan, 10, np.nan, np.nan])\n",
    "s"
   ]
  },
  {
   "cell_type": "code",
   "execution_count": null,
   "id": "b1f6d3a8",
   "metadata": {},
   "outputs": [],
   "source": [
    "not_null_idxs = s.notnull()[s.notnull()].index\n",
    "valid_start = not_null_idxs[0]\n",
    "valid_end = not_null_idxs[-1]\n",
    "s[valid_start:valid_end] = s[valid_start:valid_end].fillna(method='ffill')\n",
    "s"
   ]
  },
  {
   "cell_type": "code",
   "execution_count": null,
   "id": "46b97c20",
   "metadata": {},
   "outputs": [],
   "source": [
    "symbols = ['AA', 'AABA', 'TSLA']\n",
    "data = yf.download(symbols, start='1962-01-01', end='2024-03-23').drop(columns='Open')\n",
    "data.head()"
   ]
  },
  {
   "cell_type": "code",
   "execution_count": null,
   "id": "8d0ed9e2",
   "metadata": {},
   "outputs": [],
   "source": [
    "new_cols = data.columns.map(lambda t: f'{t[1]}_{t[0]}'.lower().replace('_adj close', ''))\n",
    "new_cols"
   ]
  },
  {
   "cell_type": "code",
   "execution_count": null,
   "id": "2b58b7f1",
   "metadata": {},
   "outputs": [],
   "source": [
    "data.columns = new_cols\n",
    "data.head()"
   ]
  },
  {
   "cell_type": "code",
   "execution_count": null,
   "id": "e7050751",
   "metadata": {},
   "outputs": [],
   "source": [
    "data.index = data.index.astype(str)\n",
    "data.head()"
   ]
  },
  {
   "cell_type": "code",
   "execution_count": null,
   "id": "d928e40f",
   "metadata": {},
   "outputs": [],
   "source": [
    "n = len(data)\n",
    "nullsum = data.isnull().sum()\n",
    "empties = nullsum[nullsum == n].index\n",
    "empties"
   ]
  },
  {
   "cell_type": "code",
   "execution_count": null,
   "id": "d2d89d95",
   "metadata": {},
   "outputs": [],
   "source": [
    "data.drop(columns=empties, inplace=True)\n",
    "data.head()"
   ]
  },
  {
   "cell_type": "code",
   "execution_count": null,
   "id": "e0542fb1",
   "metadata": {},
   "outputs": [],
   "source": [
    "def adj(sym, close, hilo):\n",
    "    factor = sym / close\n",
    "    #return factor\n",
    "    hilo *= factor\n",
    "    return hilo"
   ]
  },
  {
   "cell_type": "code",
   "execution_count": null,
   "id": "be87966f",
   "metadata": {},
   "outputs": [],
   "source": [
    "adj(data.aa, data.aa_close, data.aa_low)"
   ]
  },
  {
   "cell_type": "code",
   "execution_count": null,
   "id": "05f2fdbb",
   "metadata": {},
   "outputs": [],
   "source": [
    "adj(data.aa, data.aa_close, data.aa_high)"
   ]
  },
  {
   "cell_type": "code",
   "execution_count": null,
   "id": "667c0d02",
   "metadata": {},
   "outputs": [],
   "source": [
    "def get_pct_change(stock: pd.Series) -> pd.Series:\n",
    "    return pd.Series(\n",
    "        np.concatenate([[1], stock.values[1:] / stock.values[:-1]]), index=stock.index)"
   ]
  },
  {
   "cell_type": "code",
   "execution_count": null,
   "id": "1a41e302",
   "metadata": {},
   "outputs": [],
   "source": [
    "get_pct_change(data.a)"
   ]
  },
  {
   "cell_type": "code",
   "execution_count": null,
   "id": "c4e6b3bc",
   "metadata": {},
   "outputs": [],
   "source": [
    "def get_next_day_ranges(close: pd.Series, low: pd.Series, high: pd.Series):\n",
    "        c = close.values[:-1]\n",
    "        l = low.values[1:]\n",
    "        h = high.values[1:]\n",
    "        next_day_min = pd.Series(np.concatenate([[1], l / c]), index=close.index)\n",
    "        next_day_max = pd.Series(np.concatenate([[1], h / c]), index=close.index)\n",
    "        return next_day_min, next_day_max                                     "
   ]
  },
  {
   "cell_type": "code",
   "execution_count": null,
   "id": "233d3501",
   "metadata": {},
   "outputs": [],
   "source": [
    "# Test\n",
    "close = pd.Series([  1,   2,   3,   4, 3.7])\n",
    "low =   pd.Series([0.8, 1.8, 1.9, 4.1, 4.7])\n",
    "high =  pd.Series([0.9, 2.2, 3.3, 4.4, 3.9])\n",
    "get_next_day_ranges(close, low, high)"
   ]
  },
  {
   "cell_type": "code",
   "execution_count": null,
   "id": "2c0705cb",
   "metadata": {},
   "outputs": [],
   "source": []
  }
 ],
 "metadata": {
  "kernelspec": {
   "display_name": "Python 3 (ipykernel)",
   "language": "python",
   "name": "python3"
  },
  "language_info": {
   "codemirror_mode": {
    "name": "ipython",
    "version": 3
   },
   "file_extension": ".py",
   "mimetype": "text/x-python",
   "name": "python",
   "nbconvert_exporter": "python",
   "pygments_lexer": "ipython3",
   "version": "3.11.3"
  }
 },
 "nbformat": 4,
 "nbformat_minor": 5
}
