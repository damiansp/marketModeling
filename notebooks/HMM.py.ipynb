{
 "cells": [
  {
   "cell_type": "code",
   "execution_count": 1,
   "id": "7e82513d",
   "metadata": {},
   "outputs": [],
   "source": [
    "#from collections import Counter\n",
    "from datetime import datetime, timedelta\n",
    "#import pickle\n",
    "#import warnings\n",
    "\n",
    "#from   hmmlearn.hmm import GaussianHMM\n",
    "#import matplotlib.pyplot as plt\n",
    "#import numpy as np\n",
    "#import pandas as pd\n",
    "import yfinance as yf"
   ]
  },
  {
   "cell_type": "code",
   "execution_count": 2,
   "id": "2bc888a3",
   "metadata": {},
   "outputs": [
    {
     "data": {
      "text/plain": [
       "datetime.date(2024, 3, 23)"
      ]
     },
     "execution_count": 2,
     "metadata": {},
     "output_type": "execute_result"
    }
   ],
   "source": [
    "DATA = '../data'\n",
    "TODAY = datetime.now().date()\n",
    "TOMORROW  = TODAY + timedelta(1)\n",
    "STATE_RANGE = range(3, 11)\n",
    "TOMORROW"
   ]
  },
  {
   "cell_type": "code",
   "execution_count": 3,
   "id": "fa8ee896",
   "metadata": {},
   "outputs": [
    {
     "name": "stdout",
     "output_type": "stream",
     "text": [
      "[*********************100%***********************]  1 of 1 completed\n",
      "[*********************100%***********************]  1 of 1 completed\n",
      "[*********************100%***********************]  1 of 1 completed\n"
     ]
    }
   ],
   "source": [
    "sp = yf.download(\n",
    "    '^GSPC', start='1965-01-01', end=str(TOMORROW)).sort_index()\n",
    "nyse = yf.download(\n",
    "    '^NYA', start='1965-01-01', end=str(TOMORROW)).sort_index()\n",
    "nas = yf.download(\n",
    "    '^IXIC', start='1965-01-01', end=str(TOMORROW)).sort_index()\n",
    "#wil = yf.download(\n",
    "#    '^W5000', start='1990-01-01', end=str(TOMORROW))\n",
    "\n",
    "path = '../data'\n",
    "sp.to_csv(f'{path}/sp1950.csv')\n",
    "nyse.to_csv(f'{path}/nya1965.csv')\n",
    "nas.to_csv(f'{path}/nasdaq1965.csv')\n",
    "#wil.to_csv(f'{path}/wilshire1990.csv')\n",
    "\n",
    "#sp = pd.read_csv(f'{DATA}/sp1950.csv')\n",
    "#nyse = pd.read_csv(f'{DATA}/nya1965.csv')\n",
    "#nas = pd.read_csv(f'{DATA}/nasdaq1965.csv')\n",
    "#wil = pd.read_csv(f'{DATA}/wilshire1990.csv')"
   ]
  },
  {
   "cell_type": "code",
   "execution_count": 4,
   "id": "0e117ddb",
   "metadata": {},
   "outputs": [
    {
     "data": {
      "text/html": [
       "<div>\n",
       "<style scoped>\n",
       "    .dataframe tbody tr th:only-of-type {\n",
       "        vertical-align: middle;\n",
       "    }\n",
       "\n",
       "    .dataframe tbody tr th {\n",
       "        vertical-align: top;\n",
       "    }\n",
       "\n",
       "    .dataframe thead th {\n",
       "        text-align: right;\n",
       "    }\n",
       "</style>\n",
       "<table border=\"1\" class=\"dataframe\">\n",
       "  <thead>\n",
       "    <tr style=\"text-align: right;\">\n",
       "      <th></th>\n",
       "      <th>Open</th>\n",
       "      <th>High</th>\n",
       "      <th>Low</th>\n",
       "      <th>Close</th>\n",
       "      <th>Adj Close</th>\n",
       "      <th>Volume</th>\n",
       "    </tr>\n",
       "    <tr>\n",
       "      <th>Date</th>\n",
       "      <th></th>\n",
       "      <th></th>\n",
       "      <th></th>\n",
       "      <th></th>\n",
       "      <th></th>\n",
       "      <th></th>\n",
       "    </tr>\n",
       "  </thead>\n",
       "  <tbody>\n",
       "    <tr>\n",
       "      <th>2024-03-18</th>\n",
       "      <td>5154.770020</td>\n",
       "      <td>5175.600098</td>\n",
       "      <td>5145.470215</td>\n",
       "      <td>5149.419922</td>\n",
       "      <td>5149.419922</td>\n",
       "      <td>4036220000</td>\n",
       "    </tr>\n",
       "    <tr>\n",
       "      <th>2024-03-19</th>\n",
       "      <td>5139.089844</td>\n",
       "      <td>5180.310059</td>\n",
       "      <td>5131.589844</td>\n",
       "      <td>5178.509766</td>\n",
       "      <td>5178.509766</td>\n",
       "      <td>4031760000</td>\n",
       "    </tr>\n",
       "    <tr>\n",
       "      <th>2024-03-20</th>\n",
       "      <td>5181.689941</td>\n",
       "      <td>5226.189941</td>\n",
       "      <td>5171.549805</td>\n",
       "      <td>5224.620117</td>\n",
       "      <td>5224.620117</td>\n",
       "      <td>4064850000</td>\n",
       "    </tr>\n",
       "    <tr>\n",
       "      <th>2024-03-21</th>\n",
       "      <td>5253.430176</td>\n",
       "      <td>5261.100098</td>\n",
       "      <td>5240.660156</td>\n",
       "      <td>5241.529785</td>\n",
       "      <td>5241.529785</td>\n",
       "      <td>4207730000</td>\n",
       "    </tr>\n",
       "    <tr>\n",
       "      <th>2024-03-22</th>\n",
       "      <td>5242.479980</td>\n",
       "      <td>5246.089844</td>\n",
       "      <td>5229.870117</td>\n",
       "      <td>5234.180176</td>\n",
       "      <td>5234.180176</td>\n",
       "      <td>1986473000</td>\n",
       "    </tr>\n",
       "  </tbody>\n",
       "</table>\n",
       "</div>"
      ],
      "text/plain": [
       "                   Open         High          Low        Close    Adj Close  \\\n",
       "Date                                                                          \n",
       "2024-03-18  5154.770020  5175.600098  5145.470215  5149.419922  5149.419922   \n",
       "2024-03-19  5139.089844  5180.310059  5131.589844  5178.509766  5178.509766   \n",
       "2024-03-20  5181.689941  5226.189941  5171.549805  5224.620117  5224.620117   \n",
       "2024-03-21  5253.430176  5261.100098  5240.660156  5241.529785  5241.529785   \n",
       "2024-03-22  5242.479980  5246.089844  5229.870117  5234.180176  5234.180176   \n",
       "\n",
       "                Volume  \n",
       "Date                    \n",
       "2024-03-18  4036220000  \n",
       "2024-03-19  4031760000  \n",
       "2024-03-20  4064850000  \n",
       "2024-03-21  4207730000  \n",
       "2024-03-22  1986473000  "
      ]
     },
     "execution_count": 4,
     "metadata": {},
     "output_type": "execute_result"
    }
   ],
   "source": [
    "sp.tail()"
   ]
  },
  {
   "cell_type": "code",
   "execution_count": 5,
   "id": "58916580",
   "metadata": {},
   "outputs": [
    {
     "data": {
      "text/html": [
       "<div>\n",
       "<style scoped>\n",
       "    .dataframe tbody tr th:only-of-type {\n",
       "        vertical-align: middle;\n",
       "    }\n",
       "\n",
       "    .dataframe tbody tr th {\n",
       "        vertical-align: top;\n",
       "    }\n",
       "\n",
       "    .dataframe thead th {\n",
       "        text-align: right;\n",
       "    }\n",
       "</style>\n",
       "<table border=\"1\" class=\"dataframe\">\n",
       "  <thead>\n",
       "    <tr style=\"text-align: right;\">\n",
       "      <th></th>\n",
       "      <th>Open</th>\n",
       "      <th>High</th>\n",
       "      <th>Low</th>\n",
       "      <th>Close</th>\n",
       "      <th>Adj Close</th>\n",
       "      <th>Volume</th>\n",
       "    </tr>\n",
       "    <tr>\n",
       "      <th>Date</th>\n",
       "      <th></th>\n",
       "      <th></th>\n",
       "      <th></th>\n",
       "      <th></th>\n",
       "      <th></th>\n",
       "      <th></th>\n",
       "    </tr>\n",
       "  </thead>\n",
       "  <tbody>\n",
       "    <tr>\n",
       "      <th>2024-03-18</th>\n",
       "      <td>16154.919922</td>\n",
       "      <td>16247.589844</td>\n",
       "      <td>16094.169922</td>\n",
       "      <td>16103.450195</td>\n",
       "      <td>16103.450195</td>\n",
       "      <td>5025040000</td>\n",
       "    </tr>\n",
       "    <tr>\n",
       "      <th>2024-03-19</th>\n",
       "      <td>16031.929688</td>\n",
       "      <td>16175.589844</td>\n",
       "      <td>15951.860352</td>\n",
       "      <td>16166.790039</td>\n",
       "      <td>16166.790039</td>\n",
       "      <td>4758740000</td>\n",
       "    </tr>\n",
       "    <tr>\n",
       "      <th>2024-03-20</th>\n",
       "      <td>16185.759766</td>\n",
       "      <td>16377.440430</td>\n",
       "      <td>16127.480469</td>\n",
       "      <td>16369.410156</td>\n",
       "      <td>16369.410156</td>\n",
       "      <td>5298380000</td>\n",
       "    </tr>\n",
       "    <tr>\n",
       "      <th>2024-03-21</th>\n",
       "      <td>16517.240234</td>\n",
       "      <td>16538.859375</td>\n",
       "      <td>16393.900391</td>\n",
       "      <td>16401.839844</td>\n",
       "      <td>16401.839844</td>\n",
       "      <td>5134740000</td>\n",
       "    </tr>\n",
       "    <tr>\n",
       "      <th>2024-03-22</th>\n",
       "      <td>16387.800781</td>\n",
       "      <td>16467.615234</td>\n",
       "      <td>16360.997070</td>\n",
       "      <td>16428.818359</td>\n",
       "      <td>16428.818359</td>\n",
       "      <td>3939256000</td>\n",
       "    </tr>\n",
       "  </tbody>\n",
       "</table>\n",
       "</div>"
      ],
      "text/plain": [
       "                    Open          High           Low         Close  \\\n",
       "Date                                                                 \n",
       "2024-03-18  16154.919922  16247.589844  16094.169922  16103.450195   \n",
       "2024-03-19  16031.929688  16175.589844  15951.860352  16166.790039   \n",
       "2024-03-20  16185.759766  16377.440430  16127.480469  16369.410156   \n",
       "2024-03-21  16517.240234  16538.859375  16393.900391  16401.839844   \n",
       "2024-03-22  16387.800781  16467.615234  16360.997070  16428.818359   \n",
       "\n",
       "               Adj Close      Volume  \n",
       "Date                                  \n",
       "2024-03-18  16103.450195  5025040000  \n",
       "2024-03-19  16166.790039  4758740000  \n",
       "2024-03-20  16369.410156  5298380000  \n",
       "2024-03-21  16401.839844  5134740000  \n",
       "2024-03-22  16428.818359  3939256000  "
      ]
     },
     "execution_count": 5,
     "metadata": {},
     "output_type": "execute_result"
    }
   ],
   "source": [
    "nas.tail()"
   ]
  },
  {
   "cell_type": "code",
   "execution_count": 6,
   "id": "29003b18",
   "metadata": {},
   "outputs": [
    {
     "name": "stdout",
     "output_type": "stream",
     "text": [
      "2024-03-22 00:00:00\n",
      "2024-03-22 00:00:00\n",
      "2024-03-22 00:00:00\n"
     ]
    }
   ],
   "source": [
    "for df in [sp, nyse, nas]: #, wil]:\n",
    "    print(df.index[-1])"
   ]
  },
  {
   "cell_type": "code",
   "execution_count": null,
   "id": "948b6795",
   "metadata": {},
   "outputs": [],
   "source": []
  },
  {
   "cell_type": "code",
   "execution_count": 7,
   "id": "aa7794b8",
   "metadata": {},
   "outputs": [
    {
     "ename": "NameError",
     "evalue": "name 'np' is not defined",
     "output_type": "error",
     "traceback": [
      "\u001b[0;31m---------------------------------------------------------------------------\u001b[0m",
      "\u001b[0;31mNameError\u001b[0m                                 Traceback (most recent call last)",
      "Cell \u001b[0;32mIn[7], line 2\u001b[0m\n\u001b[1;32m      1\u001b[0m x \u001b[38;5;241m=\u001b[39m sp[\u001b[38;5;124m'\u001b[39m\u001b[38;5;124mAdj Close\u001b[39m\u001b[38;5;124m'\u001b[39m]\u001b[38;5;241m.\u001b[39mto_numpy()\n\u001b[0;32m----> 2\u001b[0m \u001b[43mnp\u001b[49m\u001b[38;5;241m.\u001b[39mappend([np\u001b[38;5;241m.\u001b[39mnan], x[\u001b[38;5;241m1\u001b[39m:] \u001b[38;5;241m/\u001b[39m x[:\u001b[38;5;241m-\u001b[39m\u001b[38;5;241m1\u001b[39m])\n",
      "\u001b[0;31mNameError\u001b[0m: name 'np' is not defined"
     ]
    }
   ],
   "source": [
    "x = sp['Adj Close'].to_numpy()\n",
    "np.append([np.nan], x[1:] / x[:-1])"
   ]
  },
  {
   "cell_type": "code",
   "execution_count": 8,
   "id": "6c4b2469",
   "metadata": {},
   "outputs": [],
   "source": [
    "def get_daily_changes(series):\n",
    "    x = series.to_numpy()\n",
    "    return np.append([1], x[1:] / x[:-1])"
   ]
  },
  {
   "cell_type": "code",
   "execution_count": 7,
   "id": "bbceda7e",
   "metadata": {},
   "outputs": [],
   "source": [
    "def prep_df(df, name):\n",
    "    df.index = pd.to_datetime(df.index)\n",
    "    df[f'{name}_daily'] = get_daily_changes(df['Adj Close'])\n",
    "    df.rename(columns={'Adj Close': name}, inplace=True)\n",
    "    return df[[name, f'{name}_daily']]"
   ]
  },
  {
   "cell_type": "code",
   "execution_count": 8,
   "id": "8182a8dd",
   "metadata": {},
   "outputs": [
    {
     "data": {
      "text/html": [
       "<div>\n",
       "<style scoped>\n",
       "    .dataframe tbody tr th:only-of-type {\n",
       "        vertical-align: middle;\n",
       "    }\n",
       "\n",
       "    .dataframe tbody tr th {\n",
       "        vertical-align: top;\n",
       "    }\n",
       "\n",
       "    .dataframe thead th {\n",
       "        text-align: right;\n",
       "    }\n",
       "</style>\n",
       "<table border=\"1\" class=\"dataframe\">\n",
       "  <thead>\n",
       "    <tr style=\"text-align: right;\">\n",
       "      <th></th>\n",
       "      <th>sp</th>\n",
       "      <th>sp_daily</th>\n",
       "    </tr>\n",
       "    <tr>\n",
       "      <th>Date</th>\n",
       "      <th></th>\n",
       "      <th></th>\n",
       "    </tr>\n",
       "  </thead>\n",
       "  <tbody>\n",
       "    <tr>\n",
       "      <th>1965-01-04</th>\n",
       "      <td>84.230003</td>\n",
       "      <td>1.000000</td>\n",
       "    </tr>\n",
       "    <tr>\n",
       "      <th>1965-01-05</th>\n",
       "      <td>84.629997</td>\n",
       "      <td>1.004749</td>\n",
       "    </tr>\n",
       "    <tr>\n",
       "      <th>1965-01-06</th>\n",
       "      <td>84.889999</td>\n",
       "      <td>1.003072</td>\n",
       "    </tr>\n",
       "    <tr>\n",
       "      <th>1965-01-07</th>\n",
       "      <td>85.260002</td>\n",
       "      <td>1.004359</td>\n",
       "    </tr>\n",
       "    <tr>\n",
       "      <th>1965-01-08</th>\n",
       "      <td>85.370003</td>\n",
       "      <td>1.001290</td>\n",
       "    </tr>\n",
       "  </tbody>\n",
       "</table>\n",
       "</div>"
      ],
      "text/plain": [
       "                   sp  sp_daily\n",
       "Date                           \n",
       "1965-01-04  84.230003  1.000000\n",
       "1965-01-05  84.629997  1.004749\n",
       "1965-01-06  84.889999  1.003072\n",
       "1965-01-07  85.260002  1.004359\n",
       "1965-01-08  85.370003  1.001290"
      ]
     },
     "execution_count": 8,
     "metadata": {},
     "output_type": "execute_result"
    }
   ],
   "source": [
    "[sp, nyse, nas, wil] = [\n",
    "    prep_df(df, name) \n",
    "    for df, name in zip(\n",
    "        [sp, nyse, nas, wil], ['sp', 'nyse', 'nas', 'wil'])]\n",
    "sp.head()"
   ]
  },
  {
   "cell_type": "code",
   "execution_count": 9,
   "id": "c61584c1",
   "metadata": {},
   "outputs": [
    {
     "data": {
      "text/html": [
       "<div>\n",
       "<style scoped>\n",
       "    .dataframe tbody tr th:only-of-type {\n",
       "        vertical-align: middle;\n",
       "    }\n",
       "\n",
       "    .dataframe tbody tr th {\n",
       "        vertical-align: top;\n",
       "    }\n",
       "\n",
       "    .dataframe thead th {\n",
       "        text-align: right;\n",
       "    }\n",
       "</style>\n",
       "<table border=\"1\" class=\"dataframe\">\n",
       "  <thead>\n",
       "    <tr style=\"text-align: right;\">\n",
       "      <th></th>\n",
       "      <th>nyse</th>\n",
       "      <th>nyse_daily</th>\n",
       "    </tr>\n",
       "    <tr>\n",
       "      <th>Date</th>\n",
       "      <th></th>\n",
       "      <th></th>\n",
       "    </tr>\n",
       "  </thead>\n",
       "  <tbody>\n",
       "    <tr>\n",
       "      <th>1965-12-31</th>\n",
       "      <td>528.690002</td>\n",
       "      <td>1.000000</td>\n",
       "    </tr>\n",
       "    <tr>\n",
       "      <th>1966-01-03</th>\n",
       "      <td>527.210022</td>\n",
       "      <td>0.997201</td>\n",
       "    </tr>\n",
       "    <tr>\n",
       "      <th>1966-01-04</th>\n",
       "      <td>527.840027</td>\n",
       "      <td>1.001195</td>\n",
       "    </tr>\n",
       "    <tr>\n",
       "      <th>1966-01-05</th>\n",
       "      <td>531.119995</td>\n",
       "      <td>1.006214</td>\n",
       "    </tr>\n",
       "    <tr>\n",
       "      <th>1966-01-06</th>\n",
       "      <td>532.070007</td>\n",
       "      <td>1.001789</td>\n",
       "    </tr>\n",
       "  </tbody>\n",
       "</table>\n",
       "</div>"
      ],
      "text/plain": [
       "                  nyse  nyse_daily\n",
       "Date                              \n",
       "1965-12-31  528.690002    1.000000\n",
       "1966-01-03  527.210022    0.997201\n",
       "1966-01-04  527.840027    1.001195\n",
       "1966-01-05  531.119995    1.006214\n",
       "1966-01-06  532.070007    1.001789"
      ]
     },
     "execution_count": 9,
     "metadata": {},
     "output_type": "execute_result"
    }
   ],
   "source": [
    "nyse.head()"
   ]
  },
  {
   "cell_type": "code",
   "execution_count": 10,
   "id": "3e67c5c0",
   "metadata": {},
   "outputs": [
    {
     "data": {
      "text/html": [
       "<div>\n",
       "<style scoped>\n",
       "    .dataframe tbody tr th:only-of-type {\n",
       "        vertical-align: middle;\n",
       "    }\n",
       "\n",
       "    .dataframe tbody tr th {\n",
       "        vertical-align: top;\n",
       "    }\n",
       "\n",
       "    .dataframe thead th {\n",
       "        text-align: right;\n",
       "    }\n",
       "</style>\n",
       "<table border=\"1\" class=\"dataframe\">\n",
       "  <thead>\n",
       "    <tr style=\"text-align: right;\">\n",
       "      <th></th>\n",
       "      <th>nas</th>\n",
       "      <th>nas_daily</th>\n",
       "    </tr>\n",
       "    <tr>\n",
       "      <th>Date</th>\n",
       "      <th></th>\n",
       "      <th></th>\n",
       "    </tr>\n",
       "  </thead>\n",
       "  <tbody>\n",
       "    <tr>\n",
       "      <th>1971-02-05</th>\n",
       "      <td>100.000000</td>\n",
       "      <td>1.000000</td>\n",
       "    </tr>\n",
       "    <tr>\n",
       "      <th>1971-02-08</th>\n",
       "      <td>100.839996</td>\n",
       "      <td>1.008400</td>\n",
       "    </tr>\n",
       "    <tr>\n",
       "      <th>1971-02-09</th>\n",
       "      <td>100.760002</td>\n",
       "      <td>0.999207</td>\n",
       "    </tr>\n",
       "    <tr>\n",
       "      <th>1971-02-10</th>\n",
       "      <td>100.690002</td>\n",
       "      <td>0.999305</td>\n",
       "    </tr>\n",
       "    <tr>\n",
       "      <th>1971-02-11</th>\n",
       "      <td>101.449997</td>\n",
       "      <td>1.007548</td>\n",
       "    </tr>\n",
       "  </tbody>\n",
       "</table>\n",
       "</div>"
      ],
      "text/plain": [
       "                   nas  nas_daily\n",
       "Date                             \n",
       "1971-02-05  100.000000   1.000000\n",
       "1971-02-08  100.839996   1.008400\n",
       "1971-02-09  100.760002   0.999207\n",
       "1971-02-10  100.690002   0.999305\n",
       "1971-02-11  101.449997   1.007548"
      ]
     },
     "execution_count": 10,
     "metadata": {},
     "output_type": "execute_result"
    }
   ],
   "source": [
    "nas.head()"
   ]
  },
  {
   "cell_type": "code",
   "execution_count": 11,
   "id": "abc65baf",
   "metadata": {},
   "outputs": [],
   "source": [
    "def find_best_mod(\n",
    "        daily,\n",
    "        n_states=[6, 7, 8],\n",
    "        max_iter=1000,\n",
    "        reps=3,\n",
    "        best_logprob=None,\n",
    "        best_mod=None,\n",
    "        best_states=None):\n",
    "    daily = np.reshape(daily.values, [-1, 1])\n",
    "    best_logprob = best_logprob or -np.inf\n",
    "    best_mod = best_mod or None\n",
    "    best_states = best_states or None\n",
    "    for states in n_states:\n",
    "        for rep in range(reps):\n",
    "            try:\n",
    "                print(f'rep {rep + 1}', end='\\r')\n",
    "                for cov in ['spherical', 'diag', 'full']:\n",
    "                    mod = GaussianHMM(\n",
    "                        n_components=states,\n",
    "                        covariance_type=cov,\n",
    "                        n_iter=max_iter\n",
    "                    ).fit(daily)\n",
    "                    logprob = mod.score(daily)\n",
    "                    if logprob > best_logprob:\n",
    "                        print(f'New best - States: {states} (cov: {cov})')\n",
    "                        best_logprob = logprob\n",
    "                        best_mod = mod\n",
    "                        best_states = states\n",
    "            except ValueError:\n",
    "                pass\n",
    "    return best_mod, best_logprob, best_states"
   ]
  },
  {
   "cell_type": "code",
   "execution_count": 12,
   "id": "2a86095f",
   "metadata": {},
   "outputs": [],
   "source": [
    "def get_preds(daily, mod):\n",
    "    daily = np.reshape(daily.values, [-1, 1])\n",
    "    states = mod.predict(daily)\n",
    "    means = np.squeeze(mod.means_)\n",
    "    sds = np.squeeze(np.sqrt(mod.covars_))\n",
    "    preds = np.array([means[state] for state in states])\n",
    "    ses = np.array([1.96 * sds[state] for state in states])\n",
    "    return preds, ses, means, states[-1]"
   ]
  },
  {
   "cell_type": "code",
   "execution_count": 13,
   "id": "661e3cbb",
   "metadata": {},
   "outputs": [],
   "source": [
    "def plot_mod(df, preds, ses, name):\n",
    "    daily = f'{name}_daily'\n",
    "    plt.plot(df[daily], label='daily')\n",
    "    plt.plot(df.index, preds, label='preds')\n",
    "    plt.legend()\n",
    "\n",
    "    plt.figure()\n",
    "    plt.plot(df[daily], label='daily')\n",
    "    plt.plot(\n",
    "        df.index, preds, label='preds', color='orange', linewidth=3)\n",
    "    plt.plot(df.index, preds + ses, color='orange', linestyle='-.')\n",
    "    plt.plot(df.index, preds - ses, color='orange', linestyle='-.')\n",
    "    plt.axhline(y=1, color='k')\n",
    "    plt.ylim([0.95, 1.05]);\n",
    "    plt.xlim([df.index[-500], df.index[-1]])\n",
    "\n",
    "    plt.figure()\n",
    "    plt.plot(df[name])\n",
    "    plt.xlim([df.index[-500], df.index[-1]])\n",
    "    sub = df.iloc[-500:, :]\n",
    "    plt.ylim(\n",
    "        0.95 * sub[name].min(), 1.05 * sub[name].max());"
   ]
  },
  {
   "cell_type": "code",
   "execution_count": 14,
   "id": "c9505123",
   "metadata": {},
   "outputs": [],
   "source": [
    "def get_expected_val(mod, current_state, means):\n",
    "    return np.dot(mod.transmat_[current_state, :], means)"
   ]
  },
  {
   "cell_type": "code",
   "execution_count": 15,
   "id": "c68c8a00",
   "metadata": {},
   "outputs": [
    {
     "data": {
      "text/plain": [
       "{'^GSPC': {'logprob': 49024.13881865065,\n",
       "  'mod': GaussianHMM(covariance_type='spherical', n_components=8, n_iter=1000),\n",
       "  'n_states': 8},\n",
       " '^NYA': {'logprob': 48654.932825267424,\n",
       "  'mod': GaussianHMM(covariance_type='spherical', n_components=8, n_iter=1000),\n",
       "  'n_states': 8},\n",
       " '^IXIC': {'logprob': 42732.41519228567,\n",
       "  'mod': GaussianHMM(covariance_type='spherical', n_components=9, n_iter=1000),\n",
       "  'n_states': 9},\n",
       " '^W5000': {'logprob': 27481.246646209045,\n",
       "  'mod': GaussianHMM(covariance_type='spherical', n_components=10, n_iter=1000),\n",
       "  'n_states': 10}}"
      ]
     },
     "execution_count": 15,
     "metadata": {},
     "output_type": "execute_result"
    }
   ],
   "source": [
    "# start search from previous day's best\n",
    "with open(f'{DATA}/hmm_mods.pkl', 'rb') as f:\n",
    "    out_data  = pickle.load(f)\n",
    "\n",
    "out_data"
   ]
  },
  {
   "cell_type": "code",
   "execution_count": 16,
   "id": "d0feabc9",
   "metadata": {},
   "outputs": [],
   "source": [
    "sp_prob, sp_mod, sp_best_states = (\n",
    "    out_data['^GSPC']['logprob'], out_data['^GSPC']['mod'], out_data['^GSPC']['n_states'])\n",
    "nyse_prob, nyse_mod, nyse_best_states = (\n",
    "    out_data['^NYA']['logprob'], out_data['^NYA']['mod'], out_data['^NYA']['n_states'])\n",
    "nas_prob, nas_mod, nas_best_states = (\n",
    "    out_data['^IXIC']['logprob'], out_data['^IXIC']['mod'], out_data['^IXIC']['n_states'])\n",
    "wil_prob, wil_mod, wil_best_states = (\n",
    "    out_data['^W5000']['logprob'], out_data['^W5000']['mod'], out_data['^W5000']['n_states'])"
   ]
  },
  {
   "cell_type": "code",
   "execution_count": 17,
   "id": "60cc78b7",
   "metadata": {},
   "outputs": [
    {
     "data": {
      "text/plain": [
       "hmmlearn.hmm.GaussianHMM"
      ]
     },
     "execution_count": 17,
     "metadata": {},
     "output_type": "execute_result"
    }
   ],
   "source": [
    "type(sp_mod)"
   ]
  },
  {
   "cell_type": "markdown",
   "id": "a9e2fef0",
   "metadata": {},
   "source": [
    "## S&P"
   ]
  },
  {
   "cell_type": "code",
   "execution_count": 18,
   "id": "2d1f4a52",
   "metadata": {},
   "outputs": [],
   "source": [
    "warnings.filterwarnings('ignore', category=RuntimeWarning)"
   ]
  },
  {
   "cell_type": "code",
   "execution_count": 19,
   "id": "8d91e1ec",
   "metadata": {},
   "outputs": [],
   "source": [
    "#sp_prob = None\n",
    "#sp_mod = None\n",
    "#sp_best_states = None"
   ]
  },
  {
   "cell_type": "code",
   "execution_count": null,
   "id": "8558a6f3",
   "metadata": {},
   "outputs": [
    {
     "name": "stdout",
     "output_type": "stream",
     "text": [
      "New best - States: 7 (cov: spherical)\n",
      "New best - States: 9 (cov: full)\n",
      "rep 2\r"
     ]
    }
   ],
   "source": [
    "sp_mod, sp_prob, sp_best_states = find_best_mod(\n",
    "    sp.sp_daily,\n",
    "    n_states=STATE_RANGE,\n",
    "    best_logprob=sp_prob,\n",
    "    best_mod=sp_mod,\n",
    "    best_states=sp_best_states)\n",
    "sp_preds, sp_ses, sp_means, sp_current = get_preds(sp.sp_daily, sp_mod)\n",
    "plot_mod(sp, sp_preds, sp_ses, 'sp')\n",
    "sp_exp = get_expected_val(sp_mod, sp_current, sp_means)\n",
    "print(sp_exp)"
   ]
  },
  {
   "cell_type": "markdown",
   "id": "e0832a84",
   "metadata": {},
   "source": [
    "## NYSE"
   ]
  },
  {
   "cell_type": "code",
   "execution_count": null,
   "id": "0677e92d",
   "metadata": {},
   "outputs": [],
   "source": [
    "#nyse_prob = None\n",
    "#nyse_mod = None\n",
    "#nyse_best_states = None"
   ]
  },
  {
   "cell_type": "code",
   "execution_count": null,
   "id": "181567dd",
   "metadata": {},
   "outputs": [],
   "source": [
    "nyse_mod, nyse_prob, nyse_best_states = find_best_mod(\n",
    "    nyse.nyse_daily,\n",
    "    n_states=STATE_RANGE,\n",
    "    best_logprob=nyse_prob,\n",
    "    best_mod=nyse_mod,\n",
    "    best_states=nyse_best_states)\n",
    "nyse_preds, nyse_ses, nyse_means, nyse_current = get_preds(\n",
    "    nyse.nyse_daily, nyse_mod)\n",
    "plot_mod(nyse, nyse_preds, nyse_ses, 'nyse')\n",
    "nyse_exp = get_expected_val(nyse_mod, nyse_current, nyse_means)\n",
    "print(nyse_exp)"
   ]
  },
  {
   "cell_type": "markdown",
   "id": "ca299ebe",
   "metadata": {},
   "source": [
    "## Nasdaq"
   ]
  },
  {
   "cell_type": "code",
   "execution_count": null,
   "id": "88eb1e40",
   "metadata": {},
   "outputs": [],
   "source": [
    "#nas_prob = None\n",
    "#nas_mod = None\n",
    "#nas_best_states = None"
   ]
  },
  {
   "cell_type": "code",
   "execution_count": null,
   "id": "47c000a7",
   "metadata": {},
   "outputs": [],
   "source": [
    "nas_mod, nas_prob, nas_best_states = find_best_mod(\n",
    "    nas.nas_daily,\n",
    "    n_states=STATE_RANGE,\n",
    "    best_logprob=nas_prob,\n",
    "    best_mod=nas_mod,\n",
    "    best_states=nas_best_states)\n",
    "nas_preds, nas_ses, nas_means, nas_current = get_preds(\n",
    "    nas.nas_daily, nas_mod)\n",
    "plot_mod(nas, nas_preds, nas_ses, 'nas')\n",
    "nas_exp = get_expected_val(nas_mod, nas_current, nas_means)\n",
    "print(nas_exp)"
   ]
  },
  {
   "cell_type": "markdown",
   "id": "752655f5",
   "metadata": {},
   "source": [
    "## Wilshire"
   ]
  },
  {
   "cell_type": "code",
   "execution_count": null,
   "id": "d2d086f4",
   "metadata": {},
   "outputs": [],
   "source": [
    "#wil_prob = None\n",
    "#wil_mod = None\n",
    "#wil_best_states = None"
   ]
  },
  {
   "cell_type": "code",
   "execution_count": null,
   "id": "7679b956",
   "metadata": {},
   "outputs": [],
   "source": [
    "wil_mod, wil_prob, wil_best_states = find_best_mod(\n",
    "    wil.wil_daily,\n",
    "    n_states=STATE_RANGE,\n",
    "    best_logprob=wil_prob,\n",
    "    best_mod=wil_mod,\n",
    "    best_states=wil_best_states)\n",
    "wil_preds, wil_ses, wil_means, wil_current = get_preds(\n",
    "    wil.wil_daily, wil_mod)\n",
    "plot_mod(wil, wil_preds, wil_ses, 'wil')\n",
    "wil_exp = get_expected_val(wil_mod, wil_current, wil_means)\n",
    "print(wil_exp)"
   ]
  },
  {
   "cell_type": "code",
   "execution_count": null,
   "id": "6d2da93e",
   "metadata": {},
   "outputs": [],
   "source": [
    "#sp_best_states = len(np.unique(sp_preds))\n",
    "#nyse_best_states = len(np.unique(nyse_preds))\n",
    "#nas_best_states = len(np.unique(nas_preds))\n",
    "#wil_best_states = len(np.unique(wil_preds))"
   ]
  },
  {
   "cell_type": "code",
   "execution_count": null,
   "id": "c1158d7d",
   "metadata": {},
   "outputs": [],
   "source": [
    "out_data = {\n",
    "    '^GSPC': {'logprob': sp_prob, 'mod': sp_mod, 'n_states': sp_best_states},\n",
    "    '^NYA': {'logprob': nyse_prob, 'mod': nyse_mod, 'n_states': nyse_best_states},\n",
    "    '^IXIC': {'logprob': nas_prob, 'mod': nas_mod, 'n_states': nas_best_states},\n",
    "    '^W5000': {'logprob': wil_prob, 'mod': wil_mod, 'n_states': wil_best_states}}\n",
    "with open(f'{DATA}/hmm_mods_indices.pkl', 'wb') as f:\n",
    "    pickle.dump(out_data, f)"
   ]
  },
  {
   "cell_type": "code",
   "execution_count": null,
   "id": "aa0b9e95",
   "metadata": {},
   "outputs": [],
   "source": [
    "print(\n",
    "    sp_best_states, nyse_best_states, nas_best_states, wil_best_states)\n",
    "mean_states = (\n",
    "    (sp_best_states\n",
    "     + nyse_best_states\n",
    "     + nas_best_states\n",
    "     + wil_best_states)\n",
    "    / 4)\n",
    "mean_states"
   ]
  },
  {
   "cell_type": "code",
   "execution_count": null,
   "id": "6e7926ff",
   "metadata": {},
   "outputs": [],
   "source": [
    "N_STATES = int(round(mean_states))\n",
    "N_STATES"
   ]
  },
  {
   "cell_type": "code",
   "execution_count": null,
   "id": "9e20a9a0",
   "metadata": {},
   "outputs": [],
   "source": [
    "exp = (sp_exp + nyse_exp + nas_exp + wil_exp) / 4\n",
    "exp"
   ]
  },
  {
   "cell_type": "code",
   "execution_count": null,
   "id": "1434e4cb",
   "metadata": {},
   "outputs": [],
   "source": [
    "for df, name, exp in zip(\n",
    "        [sp, nyse, nas, wil],\n",
    "        ['sp', 'nyse', 'nas', 'wil'],\n",
    "        [sp_preds, nyse_preds, nas_preds, wil_preds]):\n",
    "    df[f'{name}_exp'] = exp"
   ]
  },
  {
   "cell_type": "code",
   "execution_count": null,
   "id": "4dba4a90",
   "metadata": {},
   "outputs": [],
   "source": [
    "df = pd.concat([sp, nyse, nas, wil], axis=1)\n",
    "df.tail()"
   ]
  },
  {
   "cell_type": "code",
   "execution_count": null,
   "id": "526b4d19",
   "metadata": {},
   "outputs": [],
   "source": [
    "df['mean_exp'] = (\n",
    "    df[['sp_exp', 'nyse_exp', 'nas_exp', 'wil_exp']].mean(axis=1))"
   ]
  },
  {
   "cell_type": "code",
   "execution_count": null,
   "id": "29fa12c1",
   "metadata": {},
   "outputs": [],
   "source": [
    "plt.figure(figsize=[15, 8])\n",
    "plt.plot(df.sp_exp, label='sp')\n",
    "plt.plot(df.nyse_exp, label='nyse')\n",
    "plt.plot(df.nas_exp, label='nasdaq')\n",
    "plt.plot(df.wil_exp, label='wilshire')\n",
    "\n",
    "plt.legend();"
   ]
  },
  {
   "cell_type": "code",
   "execution_count": null,
   "id": "cf3a7349",
   "metadata": {},
   "outputs": [],
   "source": [
    "plt.figure(figsize=[15, 8])\n",
    "plt.plot(df.sp_exp, alpha=0.5)\n",
    "plt.plot(df.nyse_exp, alpha=0.5)\n",
    "plt.plot(df.nas_exp, alpha=0.5)\n",
    "plt.plot(df.wil_exp, alpha=0.5)\n",
    "plt.plot(df.mean_exp, linewidth=3)\n",
    "plt.axhline(y=1, color='k');"
   ]
  },
  {
   "cell_type": "code",
   "execution_count": null,
   "id": "861a1367",
   "metadata": {},
   "outputs": [],
   "source": [
    "TODAY = datetime.now()\n",
    "plt.figure(figsize=[15, 8])\n",
    "plt.plot(df.sp_exp, alpha=0.5)\n",
    "plt.plot(df.nyse_exp, alpha=0.5)\n",
    "plt.plot(df.nas_exp, alpha=0.5)\n",
    "plt.plot(df.wil_exp, alpha=0.5)\n",
    "plt.plot(df.mean_exp, linewidth=3)\n",
    "plt.axhline(y=1, color='k')\n",
    "plt.xlim(pd.to_datetime('2010-01-01'), TODAY);"
   ]
  },
  {
   "cell_type": "code",
   "execution_count": null,
   "id": "18d53c8c",
   "metadata": {},
   "outputs": [],
   "source": [
    "TODAY = datetime.now()\n",
    "plt.figure(figsize=[15, 8])\n",
    "plt.plot(df.sp_exp, alpha=0.5)\n",
    "plt.plot(df.nyse_exp, alpha=0.5)\n",
    "plt.plot(df.nas_exp, alpha=0.5)\n",
    "plt.plot(df.wil_exp, alpha=0.5)\n",
    "plt.plot(df.mean_exp, linewidth=3)\n",
    "plt.xlim(pd.to_datetime('2020-01-01'), TODAY);\n",
    "plt.axhline(y = 1, color='k');"
   ]
  },
  {
   "cell_type": "code",
   "execution_count": null,
   "id": "1eb39d54",
   "metadata": {},
   "outputs": [],
   "source": [
    "plt.figure(figsize=[15, 8])\n",
    "plt.plot(df.sp_exp, alpha=0.5)\n",
    "plt.plot(df.nyse_exp, alpha=0.5)\n",
    "plt.plot(df.nas_exp, alpha=0.5)\n",
    "plt.plot(df.wil_exp, alpha=0.5)\n",
    "plt.plot(df.mean_exp, linewidth=3)\n",
    "plt.axhline(y=1, color='k')\n",
    "plt.xlim(pd.to_datetime('2021-01-01'), TODAY)\n",
    "plt.ylim([0.995, 1.005]);"
   ]
  },
  {
   "cell_type": "code",
   "execution_count": null,
   "id": "c52e3ea8",
   "metadata": {},
   "outputs": [],
   "source": [
    "df = df[df.index >= pd.to_datetime('1970-01-01')]"
   ]
  },
  {
   "cell_type": "code",
   "execution_count": null,
   "id": "14a94dae",
   "metadata": {},
   "outputs": [],
   "source": [
    "try:\n",
    "    df['state'] = pd.qcut(\n",
    "        df.mean_exp,\n",
    "        N_STATES,\n",
    "        retbins=False,\n",
    "        duplicates='drop',\n",
    "        labels=range(N_STATES))\n",
    "except ValueError:\n",
    "    try:\n",
    "        df['state'] = pd.qcut(\n",
    "            df.mean_exp,\n",
    "            N_STATES,\n",
    "            retbins=False,\n",
    "            duplicates='drop',\n",
    "            labels=range(N_STATES - 1))\n",
    "    except ValueError:\n",
    "        df['state'] = pd.qcut(\n",
    "            df.mean_exp,\n",
    "            N_STATES,\n",
    "            retbins=False,\n",
    "            duplicates='drop',\n",
    "            labels=range(N_STATES - 2))"
   ]
  },
  {
   "cell_type": "code",
   "execution_count": null,
   "id": "7e26ea8d",
   "metadata": {},
   "outputs": [],
   "source": [
    "df.state.value_counts()"
   ]
  },
  {
   "cell_type": "code",
   "execution_count": null,
   "id": "585b738d",
   "metadata": {},
   "outputs": [],
   "source": [
    "plt.figure(figsize=[15, 8])\n",
    "plt.plot(df.state);"
   ]
  },
  {
   "cell_type": "code",
   "execution_count": null,
   "id": "b8a45637",
   "metadata": {},
   "outputs": [],
   "source": [
    "plt.figure(figsize=[15, 8])\n",
    "plt.plot(df.state)\n",
    "plt.xlim(pd.to_datetime('2010-01-01'), TODAY);\n",
    "\n",
    "plt.figure(figsize=[15, 8])\n",
    "plt.plot(df.state)\n",
    "plt.xlim(pd.to_datetime('2021-01-01'), TODAY);\n",
    "\n",
    "plt.figure(figsize=[15, 8])\n",
    "plt.plot(df.state)\n",
    "plt.xlim(pd.to_datetime('2022-01-01'), TODAY);"
   ]
  },
  {
   "cell_type": "code",
   "execution_count": null,
   "id": "45b33373",
   "metadata": {},
   "outputs": [],
   "source": [
    "transitions = Counter()\n",
    "for i in range(len(df.state) - 1):\n",
    "    state = df.state[i]\n",
    "    nxt = df.state[i + 1]\n",
    "    transitions[(state, nxt)] += 1"
   ]
  },
  {
   "cell_type": "code",
   "execution_count": null,
   "id": "cc28c0ab",
   "metadata": {},
   "outputs": [],
   "source": [
    "df.to_csv(f'{DATA}/hmm_exp_returns.csv')"
   ]
  },
  {
   "cell_type": "code",
   "execution_count": null,
   "id": "1f94655d",
   "metadata": {},
   "outputs": [],
   "source": [
    "TODAY"
   ]
  },
  {
   "cell_type": "code",
   "execution_count": null,
   "id": "dcefad63",
   "metadata": {},
   "outputs": [],
   "source": [
    "CURRENT_STATE = df.state[-1]\n",
    "CURRENT_STATE"
   ]
  },
  {
   "cell_type": "code",
   "execution_count": null,
   "id": "a98cb88c",
   "metadata": {},
   "outputs": [],
   "source": [
    "possible_transitions = sorted(\n",
    "    [k for k in transitions.keys() if k[0] == CURRENT_STATE])\n",
    "state_sum = 0\n",
    "for pt in possible_transitions:\n",
    "    n_trans = transitions[pt]\n",
    "    state_sum += n_trans\n",
    "    print(f'{pt}: {n_trans}')\n",
    "\n",
    "print()\n",
    "\n",
    "data = []\n",
    "for pt in possible_transitions:\n",
    "    n_trans = transitions[pt]\n",
    "    print(f'{pt}: {n_trans / state_sum:.4f}')\n",
    "    data.append([pt[1], n_trans / state_sum])"
   ]
  },
  {
   "cell_type": "code",
   "execution_count": null,
   "id": "4a0d76c9",
   "metadata": {},
   "outputs": [],
   "source": [
    "trans_df = pd.DataFrame(data, columns=['next_state', 'prob'])\n",
    "trans_df"
   ]
  },
  {
   "cell_type": "code",
   "execution_count": null,
   "id": "5b1c8d0e",
   "metadata": {},
   "outputs": [],
   "source": [
    "trans_df.to_csv('../data/transition_probs.csv', index=False)"
   ]
  },
  {
   "cell_type": "code",
   "execution_count": null,
   "id": "8a549494",
   "metadata": {},
   "outputs": [],
   "source": [
    "df.state.value_counts()"
   ]
  },
  {
   "cell_type": "code",
   "execution_count": null,
   "id": "793047a6",
   "metadata": {},
   "outputs": [],
   "source": [
    "state_var = (\n",
    "    df[['state', 'mean_exp']].groupby('state').agg(['mean', 'std']))\n",
    "state_var.columns = ['mean', 'std']\n",
    "state_var\n",
    "state_var['ci'] = state_var.apply(\n",
    "    lambda row: [\n",
    "        row['mean'] - 1.96*row['std'],\n",
    "        row['mean'] + 1.96*row['std']], axis=1)\n",
    "state_var"
   ]
  },
  {
   "cell_type": "code",
   "execution_count": null,
   "id": "e7ea9f9f",
   "metadata": {},
   "outputs": [],
   "source": [
    "plt.scatter(state_var.index, state_var['mean'])\n",
    "for state in range(state_var.index.max() + 1):\n",
    "    plt.plot([state, state], state_var.loc[state, 'ci'], color='k');"
   ]
  },
  {
   "cell_type": "code",
   "execution_count": 40,
   "id": "a4929b9c",
   "metadata": {},
   "outputs": [],
   "source": [
    "import numpy as np\n",
    "import pandas as pd"
   ]
  },
  {
   "cell_type": "code",
   "execution_count": 93,
   "id": "46b97c20",
   "metadata": {},
   "outputs": [
    {
     "name": "stdout",
     "output_type": "stream",
     "text": [
      "[*********************100%***********************]  3 of 3 completed\n",
      "\n",
      "1 Failed download:\n",
      "- AABA: No timezone found, symbol may be delisted\n"
     ]
    },
    {
     "data": {
      "text/html": [
       "<div>\n",
       "<style scoped>\n",
       "    .dataframe tbody tr th:only-of-type {\n",
       "        vertical-align: middle;\n",
       "    }\n",
       "\n",
       "    .dataframe tbody tr th {\n",
       "        vertical-align: top;\n",
       "    }\n",
       "\n",
       "    .dataframe thead tr th {\n",
       "        text-align: left;\n",
       "    }\n",
       "\n",
       "    .dataframe thead tr:last-of-type th {\n",
       "        text-align: right;\n",
       "    }\n",
       "</style>\n",
       "<table border=\"1\" class=\"dataframe\">\n",
       "  <thead>\n",
       "    <tr>\n",
       "      <th></th>\n",
       "      <th colspan=\"3\" halign=\"left\">Adj Close</th>\n",
       "      <th colspan=\"3\" halign=\"left\">Close</th>\n",
       "      <th colspan=\"3\" halign=\"left\">High</th>\n",
       "      <th colspan=\"3\" halign=\"left\">Low</th>\n",
       "      <th colspan=\"3\" halign=\"left\">Volume</th>\n",
       "    </tr>\n",
       "    <tr>\n",
       "      <th></th>\n",
       "      <th>AA</th>\n",
       "      <th>AABA</th>\n",
       "      <th>TSLA</th>\n",
       "      <th>AA</th>\n",
       "      <th>AABA</th>\n",
       "      <th>TSLA</th>\n",
       "      <th>AA</th>\n",
       "      <th>AABA</th>\n",
       "      <th>TSLA</th>\n",
       "      <th>AA</th>\n",
       "      <th>AABA</th>\n",
       "      <th>TSLA</th>\n",
       "      <th>AA</th>\n",
       "      <th>AABA</th>\n",
       "      <th>TSLA</th>\n",
       "    </tr>\n",
       "    <tr>\n",
       "      <th>Date</th>\n",
       "      <th></th>\n",
       "      <th></th>\n",
       "      <th></th>\n",
       "      <th></th>\n",
       "      <th></th>\n",
       "      <th></th>\n",
       "      <th></th>\n",
       "      <th></th>\n",
       "      <th></th>\n",
       "      <th></th>\n",
       "      <th></th>\n",
       "      <th></th>\n",
       "      <th></th>\n",
       "      <th></th>\n",
       "      <th></th>\n",
       "    </tr>\n",
       "  </thead>\n",
       "  <tbody>\n",
       "    <tr>\n",
       "      <th>1962-01-02 00:00:00</th>\n",
       "      <td>1.506892</td>\n",
       "      <td>NaN</td>\n",
       "      <td>NaN</td>\n",
       "      <td>6.545672</td>\n",
       "      <td>NaN</td>\n",
       "      <td>NaN</td>\n",
       "      <td>6.583219</td>\n",
       "      <td>NaN</td>\n",
       "      <td>NaN</td>\n",
       "      <td>6.545672</td>\n",
       "      <td>NaN</td>\n",
       "      <td>NaN</td>\n",
       "      <td>55930</td>\n",
       "      <td>NaN</td>\n",
       "      <td>NaN</td>\n",
       "    </tr>\n",
       "    <tr>\n",
       "      <th>1962-01-03 00:00:00</th>\n",
       "      <td>1.529942</td>\n",
       "      <td>NaN</td>\n",
       "      <td>NaN</td>\n",
       "      <td>6.645797</td>\n",
       "      <td>NaN</td>\n",
       "      <td>NaN</td>\n",
       "      <td>6.645797</td>\n",
       "      <td>NaN</td>\n",
       "      <td>NaN</td>\n",
       "      <td>6.533156</td>\n",
       "      <td>NaN</td>\n",
       "      <td>NaN</td>\n",
       "      <td>74906</td>\n",
       "      <td>NaN</td>\n",
       "      <td>NaN</td>\n",
       "    </tr>\n",
       "    <tr>\n",
       "      <th>1962-01-04 00:00:00</th>\n",
       "      <td>1.529942</td>\n",
       "      <td>NaN</td>\n",
       "      <td>NaN</td>\n",
       "      <td>6.645797</td>\n",
       "      <td>NaN</td>\n",
       "      <td>NaN</td>\n",
       "      <td>6.695859</td>\n",
       "      <td>NaN</td>\n",
       "      <td>NaN</td>\n",
       "      <td>6.645797</td>\n",
       "      <td>NaN</td>\n",
       "      <td>NaN</td>\n",
       "      <td>80899</td>\n",
       "      <td>NaN</td>\n",
       "      <td>NaN</td>\n",
       "    </tr>\n",
       "    <tr>\n",
       "      <th>1962-01-05 00:00:00</th>\n",
       "      <td>1.527062</td>\n",
       "      <td>NaN</td>\n",
       "      <td>NaN</td>\n",
       "      <td>6.633281</td>\n",
       "      <td>NaN</td>\n",
       "      <td>NaN</td>\n",
       "      <td>6.683344</td>\n",
       "      <td>NaN</td>\n",
       "      <td>NaN</td>\n",
       "      <td>6.620766</td>\n",
       "      <td>NaN</td>\n",
       "      <td>NaN</td>\n",
       "      <td>70911</td>\n",
       "      <td>NaN</td>\n",
       "      <td>NaN</td>\n",
       "    </tr>\n",
       "    <tr>\n",
       "      <th>1962-01-08 00:00:00</th>\n",
       "      <td>1.475199</td>\n",
       "      <td>NaN</td>\n",
       "      <td>NaN</td>\n",
       "      <td>6.408000</td>\n",
       "      <td>NaN</td>\n",
       "      <td>NaN</td>\n",
       "      <td>6.608250</td>\n",
       "      <td>NaN</td>\n",
       "      <td>NaN</td>\n",
       "      <td>6.357938</td>\n",
       "      <td>NaN</td>\n",
       "      <td>NaN</td>\n",
       "      <td>93883</td>\n",
       "      <td>NaN</td>\n",
       "      <td>NaN</td>\n",
       "    </tr>\n",
       "  </tbody>\n",
       "</table>\n",
       "</div>"
      ],
      "text/plain": [
       "                    Adj Close               Close                High       \\\n",
       "                           AA AABA TSLA        AA AABA TSLA        AA AABA   \n",
       "Date                                                                         \n",
       "1962-01-02 00:00:00  1.506892  NaN  NaN  6.545672  NaN  NaN  6.583219  NaN   \n",
       "1962-01-03 00:00:00  1.529942  NaN  NaN  6.645797  NaN  NaN  6.645797  NaN   \n",
       "1962-01-04 00:00:00  1.529942  NaN  NaN  6.645797  NaN  NaN  6.695859  NaN   \n",
       "1962-01-05 00:00:00  1.527062  NaN  NaN  6.633281  NaN  NaN  6.683344  NaN   \n",
       "1962-01-08 00:00:00  1.475199  NaN  NaN  6.408000  NaN  NaN  6.608250  NaN   \n",
       "\n",
       "                               Low           Volume            \n",
       "                    TSLA        AA AABA TSLA     AA AABA TSLA  \n",
       "Date                                                           \n",
       "1962-01-02 00:00:00  NaN  6.545672  NaN  NaN  55930  NaN  NaN  \n",
       "1962-01-03 00:00:00  NaN  6.533156  NaN  NaN  74906  NaN  NaN  \n",
       "1962-01-04 00:00:00  NaN  6.645797  NaN  NaN  80899  NaN  NaN  \n",
       "1962-01-05 00:00:00  NaN  6.620766  NaN  NaN  70911  NaN  NaN  \n",
       "1962-01-08 00:00:00  NaN  6.357938  NaN  NaN  93883  NaN  NaN  "
      ]
     },
     "execution_count": 93,
     "metadata": {},
     "output_type": "execute_result"
    }
   ],
   "source": [
    "symbols = ['AA', 'AABA', 'TSLA']\n",
    "data = yf.download(symbols, start='1962-01-01', end='2024-03-23').drop(columns='Open')\n",
    "data.head()"
   ]
  },
  {
   "cell_type": "code",
   "execution_count": 94,
   "id": "0c3a5284",
   "metadata": {},
   "outputs": [
    {
     "data": {
      "text/plain": [
       "Index(['aa', 'aaba', 'tsla', 'aa_close', 'aaba_close', 'tsla_close', 'aa_high',\n",
       "       'aaba_high', 'tsla_high', 'aa_low', 'aaba_low', 'tsla_low', 'aa_volume',\n",
       "       'aaba_volume', 'tsla_volume'],\n",
       "      dtype='object')"
      ]
     },
     "execution_count": 94,
     "metadata": {},
     "output_type": "execute_result"
    }
   ],
   "source": [
    "new_cols = data.columns.map(lambda t: f'{t[1]}_{t[0]}'.lower().replace('_adj close', ''))\n",
    "new_cols"
   ]
  },
  {
   "cell_type": "code",
   "execution_count": 95,
   "id": "33335b62",
   "metadata": {},
   "outputs": [
    {
     "data": {
      "text/html": [
       "<div>\n",
       "<style scoped>\n",
       "    .dataframe tbody tr th:only-of-type {\n",
       "        vertical-align: middle;\n",
       "    }\n",
       "\n",
       "    .dataframe tbody tr th {\n",
       "        vertical-align: top;\n",
       "    }\n",
       "\n",
       "    .dataframe thead th {\n",
       "        text-align: right;\n",
       "    }\n",
       "</style>\n",
       "<table border=\"1\" class=\"dataframe\">\n",
       "  <thead>\n",
       "    <tr style=\"text-align: right;\">\n",
       "      <th></th>\n",
       "      <th>aa</th>\n",
       "      <th>aaba</th>\n",
       "      <th>tsla</th>\n",
       "      <th>aa_close</th>\n",
       "      <th>aaba_close</th>\n",
       "      <th>tsla_close</th>\n",
       "      <th>aa_high</th>\n",
       "      <th>aaba_high</th>\n",
       "      <th>tsla_high</th>\n",
       "      <th>aa_low</th>\n",
       "      <th>aaba_low</th>\n",
       "      <th>tsla_low</th>\n",
       "      <th>aa_volume</th>\n",
       "      <th>aaba_volume</th>\n",
       "      <th>tsla_volume</th>\n",
       "    </tr>\n",
       "    <tr>\n",
       "      <th>Date</th>\n",
       "      <th></th>\n",
       "      <th></th>\n",
       "      <th></th>\n",
       "      <th></th>\n",
       "      <th></th>\n",
       "      <th></th>\n",
       "      <th></th>\n",
       "      <th></th>\n",
       "      <th></th>\n",
       "      <th></th>\n",
       "      <th></th>\n",
       "      <th></th>\n",
       "      <th></th>\n",
       "      <th></th>\n",
       "      <th></th>\n",
       "    </tr>\n",
       "  </thead>\n",
       "  <tbody>\n",
       "    <tr>\n",
       "      <th>1962-01-02 00:00:00</th>\n",
       "      <td>1.506892</td>\n",
       "      <td>NaN</td>\n",
       "      <td>NaN</td>\n",
       "      <td>6.545672</td>\n",
       "      <td>NaN</td>\n",
       "      <td>NaN</td>\n",
       "      <td>6.583219</td>\n",
       "      <td>NaN</td>\n",
       "      <td>NaN</td>\n",
       "      <td>6.545672</td>\n",
       "      <td>NaN</td>\n",
       "      <td>NaN</td>\n",
       "      <td>55930</td>\n",
       "      <td>NaN</td>\n",
       "      <td>NaN</td>\n",
       "    </tr>\n",
       "    <tr>\n",
       "      <th>1962-01-03 00:00:00</th>\n",
       "      <td>1.529942</td>\n",
       "      <td>NaN</td>\n",
       "      <td>NaN</td>\n",
       "      <td>6.645797</td>\n",
       "      <td>NaN</td>\n",
       "      <td>NaN</td>\n",
       "      <td>6.645797</td>\n",
       "      <td>NaN</td>\n",
       "      <td>NaN</td>\n",
       "      <td>6.533156</td>\n",
       "      <td>NaN</td>\n",
       "      <td>NaN</td>\n",
       "      <td>74906</td>\n",
       "      <td>NaN</td>\n",
       "      <td>NaN</td>\n",
       "    </tr>\n",
       "    <tr>\n",
       "      <th>1962-01-04 00:00:00</th>\n",
       "      <td>1.529942</td>\n",
       "      <td>NaN</td>\n",
       "      <td>NaN</td>\n",
       "      <td>6.645797</td>\n",
       "      <td>NaN</td>\n",
       "      <td>NaN</td>\n",
       "      <td>6.695859</td>\n",
       "      <td>NaN</td>\n",
       "      <td>NaN</td>\n",
       "      <td>6.645797</td>\n",
       "      <td>NaN</td>\n",
       "      <td>NaN</td>\n",
       "      <td>80899</td>\n",
       "      <td>NaN</td>\n",
       "      <td>NaN</td>\n",
       "    </tr>\n",
       "    <tr>\n",
       "      <th>1962-01-05 00:00:00</th>\n",
       "      <td>1.527062</td>\n",
       "      <td>NaN</td>\n",
       "      <td>NaN</td>\n",
       "      <td>6.633281</td>\n",
       "      <td>NaN</td>\n",
       "      <td>NaN</td>\n",
       "      <td>6.683344</td>\n",
       "      <td>NaN</td>\n",
       "      <td>NaN</td>\n",
       "      <td>6.620766</td>\n",
       "      <td>NaN</td>\n",
       "      <td>NaN</td>\n",
       "      <td>70911</td>\n",
       "      <td>NaN</td>\n",
       "      <td>NaN</td>\n",
       "    </tr>\n",
       "    <tr>\n",
       "      <th>1962-01-08 00:00:00</th>\n",
       "      <td>1.475199</td>\n",
       "      <td>NaN</td>\n",
       "      <td>NaN</td>\n",
       "      <td>6.408000</td>\n",
       "      <td>NaN</td>\n",
       "      <td>NaN</td>\n",
       "      <td>6.608250</td>\n",
       "      <td>NaN</td>\n",
       "      <td>NaN</td>\n",
       "      <td>6.357938</td>\n",
       "      <td>NaN</td>\n",
       "      <td>NaN</td>\n",
       "      <td>93883</td>\n",
       "      <td>NaN</td>\n",
       "      <td>NaN</td>\n",
       "    </tr>\n",
       "  </tbody>\n",
       "</table>\n",
       "</div>"
      ],
      "text/plain": [
       "                           aa  aaba  tsla  aa_close  aaba_close  tsla_close  \\\n",
       "Date                                                                          \n",
       "1962-01-02 00:00:00  1.506892   NaN   NaN  6.545672         NaN         NaN   \n",
       "1962-01-03 00:00:00  1.529942   NaN   NaN  6.645797         NaN         NaN   \n",
       "1962-01-04 00:00:00  1.529942   NaN   NaN  6.645797         NaN         NaN   \n",
       "1962-01-05 00:00:00  1.527062   NaN   NaN  6.633281         NaN         NaN   \n",
       "1962-01-08 00:00:00  1.475199   NaN   NaN  6.408000         NaN         NaN   \n",
       "\n",
       "                      aa_high  aaba_high  tsla_high    aa_low  aaba_low  \\\n",
       "Date                                                                      \n",
       "1962-01-02 00:00:00  6.583219        NaN        NaN  6.545672       NaN   \n",
       "1962-01-03 00:00:00  6.645797        NaN        NaN  6.533156       NaN   \n",
       "1962-01-04 00:00:00  6.695859        NaN        NaN  6.645797       NaN   \n",
       "1962-01-05 00:00:00  6.683344        NaN        NaN  6.620766       NaN   \n",
       "1962-01-08 00:00:00  6.608250        NaN        NaN  6.357938       NaN   \n",
       "\n",
       "                     tsla_low  aa_volume  aaba_volume  tsla_volume  \n",
       "Date                                                                \n",
       "1962-01-02 00:00:00       NaN      55930          NaN          NaN  \n",
       "1962-01-03 00:00:00       NaN      74906          NaN          NaN  \n",
       "1962-01-04 00:00:00       NaN      80899          NaN          NaN  \n",
       "1962-01-05 00:00:00       NaN      70911          NaN          NaN  \n",
       "1962-01-08 00:00:00       NaN      93883          NaN          NaN  "
      ]
     },
     "execution_count": 95,
     "metadata": {},
     "output_type": "execute_result"
    }
   ],
   "source": [
    "data.columns = new_cols\n",
    "data.head()"
   ]
  },
  {
   "cell_type": "code",
   "execution_count": 96,
   "id": "d7fa36d3",
   "metadata": {},
   "outputs": [
    {
     "data": {
      "text/html": [
       "<div>\n",
       "<style scoped>\n",
       "    .dataframe tbody tr th:only-of-type {\n",
       "        vertical-align: middle;\n",
       "    }\n",
       "\n",
       "    .dataframe tbody tr th {\n",
       "        vertical-align: top;\n",
       "    }\n",
       "\n",
       "    .dataframe thead th {\n",
       "        text-align: right;\n",
       "    }\n",
       "</style>\n",
       "<table border=\"1\" class=\"dataframe\">\n",
       "  <thead>\n",
       "    <tr style=\"text-align: right;\">\n",
       "      <th></th>\n",
       "      <th>aa</th>\n",
       "      <th>aaba</th>\n",
       "      <th>tsla</th>\n",
       "      <th>aa_close</th>\n",
       "      <th>aaba_close</th>\n",
       "      <th>tsla_close</th>\n",
       "      <th>aa_high</th>\n",
       "      <th>aaba_high</th>\n",
       "      <th>tsla_high</th>\n",
       "      <th>aa_low</th>\n",
       "      <th>aaba_low</th>\n",
       "      <th>tsla_low</th>\n",
       "      <th>aa_volume</th>\n",
       "      <th>aaba_volume</th>\n",
       "      <th>tsla_volume</th>\n",
       "    </tr>\n",
       "    <tr>\n",
       "      <th>Date</th>\n",
       "      <th></th>\n",
       "      <th></th>\n",
       "      <th></th>\n",
       "      <th></th>\n",
       "      <th></th>\n",
       "      <th></th>\n",
       "      <th></th>\n",
       "      <th></th>\n",
       "      <th></th>\n",
       "      <th></th>\n",
       "      <th></th>\n",
       "      <th></th>\n",
       "      <th></th>\n",
       "      <th></th>\n",
       "      <th></th>\n",
       "    </tr>\n",
       "  </thead>\n",
       "  <tbody>\n",
       "    <tr>\n",
       "      <th>1962-01-02 00:00:00</th>\n",
       "      <td>1.506892</td>\n",
       "      <td>NaN</td>\n",
       "      <td>NaN</td>\n",
       "      <td>6.545672</td>\n",
       "      <td>NaN</td>\n",
       "      <td>NaN</td>\n",
       "      <td>6.583219</td>\n",
       "      <td>NaN</td>\n",
       "      <td>NaN</td>\n",
       "      <td>6.545672</td>\n",
       "      <td>NaN</td>\n",
       "      <td>NaN</td>\n",
       "      <td>55930</td>\n",
       "      <td>NaN</td>\n",
       "      <td>NaN</td>\n",
       "    </tr>\n",
       "    <tr>\n",
       "      <th>1962-01-03 00:00:00</th>\n",
       "      <td>1.529942</td>\n",
       "      <td>NaN</td>\n",
       "      <td>NaN</td>\n",
       "      <td>6.645797</td>\n",
       "      <td>NaN</td>\n",
       "      <td>NaN</td>\n",
       "      <td>6.645797</td>\n",
       "      <td>NaN</td>\n",
       "      <td>NaN</td>\n",
       "      <td>6.533156</td>\n",
       "      <td>NaN</td>\n",
       "      <td>NaN</td>\n",
       "      <td>74906</td>\n",
       "      <td>NaN</td>\n",
       "      <td>NaN</td>\n",
       "    </tr>\n",
       "    <tr>\n",
       "      <th>1962-01-04 00:00:00</th>\n",
       "      <td>1.529942</td>\n",
       "      <td>NaN</td>\n",
       "      <td>NaN</td>\n",
       "      <td>6.645797</td>\n",
       "      <td>NaN</td>\n",
       "      <td>NaN</td>\n",
       "      <td>6.695859</td>\n",
       "      <td>NaN</td>\n",
       "      <td>NaN</td>\n",
       "      <td>6.645797</td>\n",
       "      <td>NaN</td>\n",
       "      <td>NaN</td>\n",
       "      <td>80899</td>\n",
       "      <td>NaN</td>\n",
       "      <td>NaN</td>\n",
       "    </tr>\n",
       "    <tr>\n",
       "      <th>1962-01-05 00:00:00</th>\n",
       "      <td>1.527062</td>\n",
       "      <td>NaN</td>\n",
       "      <td>NaN</td>\n",
       "      <td>6.633281</td>\n",
       "      <td>NaN</td>\n",
       "      <td>NaN</td>\n",
       "      <td>6.683344</td>\n",
       "      <td>NaN</td>\n",
       "      <td>NaN</td>\n",
       "      <td>6.620766</td>\n",
       "      <td>NaN</td>\n",
       "      <td>NaN</td>\n",
       "      <td>70911</td>\n",
       "      <td>NaN</td>\n",
       "      <td>NaN</td>\n",
       "    </tr>\n",
       "    <tr>\n",
       "      <th>1962-01-08 00:00:00</th>\n",
       "      <td>1.475199</td>\n",
       "      <td>NaN</td>\n",
       "      <td>NaN</td>\n",
       "      <td>6.408000</td>\n",
       "      <td>NaN</td>\n",
       "      <td>NaN</td>\n",
       "      <td>6.608250</td>\n",
       "      <td>NaN</td>\n",
       "      <td>NaN</td>\n",
       "      <td>6.357938</td>\n",
       "      <td>NaN</td>\n",
       "      <td>NaN</td>\n",
       "      <td>93883</td>\n",
       "      <td>NaN</td>\n",
       "      <td>NaN</td>\n",
       "    </tr>\n",
       "  </tbody>\n",
       "</table>\n",
       "</div>"
      ],
      "text/plain": [
       "                           aa  aaba  tsla  aa_close  aaba_close  tsla_close  \\\n",
       "Date                                                                          \n",
       "1962-01-02 00:00:00  1.506892   NaN   NaN  6.545672         NaN         NaN   \n",
       "1962-01-03 00:00:00  1.529942   NaN   NaN  6.645797         NaN         NaN   \n",
       "1962-01-04 00:00:00  1.529942   NaN   NaN  6.645797         NaN         NaN   \n",
       "1962-01-05 00:00:00  1.527062   NaN   NaN  6.633281         NaN         NaN   \n",
       "1962-01-08 00:00:00  1.475199   NaN   NaN  6.408000         NaN         NaN   \n",
       "\n",
       "                      aa_high  aaba_high  tsla_high    aa_low  aaba_low  \\\n",
       "Date                                                                      \n",
       "1962-01-02 00:00:00  6.583219        NaN        NaN  6.545672       NaN   \n",
       "1962-01-03 00:00:00  6.645797        NaN        NaN  6.533156       NaN   \n",
       "1962-01-04 00:00:00  6.695859        NaN        NaN  6.645797       NaN   \n",
       "1962-01-05 00:00:00  6.683344        NaN        NaN  6.620766       NaN   \n",
       "1962-01-08 00:00:00  6.608250        NaN        NaN  6.357938       NaN   \n",
       "\n",
       "                     tsla_low  aa_volume  aaba_volume  tsla_volume  \n",
       "Date                                                                \n",
       "1962-01-02 00:00:00       NaN      55930          NaN          NaN  \n",
       "1962-01-03 00:00:00       NaN      74906          NaN          NaN  \n",
       "1962-01-04 00:00:00       NaN      80899          NaN          NaN  \n",
       "1962-01-05 00:00:00       NaN      70911          NaN          NaN  \n",
       "1962-01-08 00:00:00       NaN      93883          NaN          NaN  "
      ]
     },
     "execution_count": 96,
     "metadata": {},
     "output_type": "execute_result"
    }
   ],
   "source": [
    "data.index = data.index.astype(str)\n",
    "data.head()"
   ]
  },
  {
   "cell_type": "code",
   "execution_count": 102,
   "id": "c8441a64",
   "metadata": {},
   "outputs": [
    {
     "data": {
      "text/plain": [
       "Index(['aaba', 'aaba_close', 'aaba_high', 'aaba_low', 'aaba_volume'], dtype='object')"
      ]
     },
     "execution_count": 102,
     "metadata": {},
     "output_type": "execute_result"
    }
   ],
   "source": [
    "n = len(data)\n",
    "nullsum = data.isnull().sum()\n",
    "empties = nullsum[nullsum == n].index\n",
    "empties"
   ]
  },
  {
   "cell_type": "code",
   "execution_count": 103,
   "id": "69456288",
   "metadata": {},
   "outputs": [
    {
     "data": {
      "text/html": [
       "<div>\n",
       "<style scoped>\n",
       "    .dataframe tbody tr th:only-of-type {\n",
       "        vertical-align: middle;\n",
       "    }\n",
       "\n",
       "    .dataframe tbody tr th {\n",
       "        vertical-align: top;\n",
       "    }\n",
       "\n",
       "    .dataframe thead th {\n",
       "        text-align: right;\n",
       "    }\n",
       "</style>\n",
       "<table border=\"1\" class=\"dataframe\">\n",
       "  <thead>\n",
       "    <tr style=\"text-align: right;\">\n",
       "      <th></th>\n",
       "      <th>aa</th>\n",
       "      <th>tsla</th>\n",
       "      <th>aa_close</th>\n",
       "      <th>tsla_close</th>\n",
       "      <th>aa_high</th>\n",
       "      <th>tsla_high</th>\n",
       "      <th>aa_low</th>\n",
       "      <th>tsla_low</th>\n",
       "      <th>aa_volume</th>\n",
       "      <th>tsla_volume</th>\n",
       "    </tr>\n",
       "    <tr>\n",
       "      <th>Date</th>\n",
       "      <th></th>\n",
       "      <th></th>\n",
       "      <th></th>\n",
       "      <th></th>\n",
       "      <th></th>\n",
       "      <th></th>\n",
       "      <th></th>\n",
       "      <th></th>\n",
       "      <th></th>\n",
       "      <th></th>\n",
       "    </tr>\n",
       "  </thead>\n",
       "  <tbody>\n",
       "    <tr>\n",
       "      <th>1962-01-02 00:00:00</th>\n",
       "      <td>1.506892</td>\n",
       "      <td>NaN</td>\n",
       "      <td>6.545672</td>\n",
       "      <td>NaN</td>\n",
       "      <td>6.583219</td>\n",
       "      <td>NaN</td>\n",
       "      <td>6.545672</td>\n",
       "      <td>NaN</td>\n",
       "      <td>55930</td>\n",
       "      <td>NaN</td>\n",
       "    </tr>\n",
       "    <tr>\n",
       "      <th>1962-01-03 00:00:00</th>\n",
       "      <td>1.529942</td>\n",
       "      <td>NaN</td>\n",
       "      <td>6.645797</td>\n",
       "      <td>NaN</td>\n",
       "      <td>6.645797</td>\n",
       "      <td>NaN</td>\n",
       "      <td>6.533156</td>\n",
       "      <td>NaN</td>\n",
       "      <td>74906</td>\n",
       "      <td>NaN</td>\n",
       "    </tr>\n",
       "    <tr>\n",
       "      <th>1962-01-04 00:00:00</th>\n",
       "      <td>1.529942</td>\n",
       "      <td>NaN</td>\n",
       "      <td>6.645797</td>\n",
       "      <td>NaN</td>\n",
       "      <td>6.695859</td>\n",
       "      <td>NaN</td>\n",
       "      <td>6.645797</td>\n",
       "      <td>NaN</td>\n",
       "      <td>80899</td>\n",
       "      <td>NaN</td>\n",
       "    </tr>\n",
       "    <tr>\n",
       "      <th>1962-01-05 00:00:00</th>\n",
       "      <td>1.527062</td>\n",
       "      <td>NaN</td>\n",
       "      <td>6.633281</td>\n",
       "      <td>NaN</td>\n",
       "      <td>6.683344</td>\n",
       "      <td>NaN</td>\n",
       "      <td>6.620766</td>\n",
       "      <td>NaN</td>\n",
       "      <td>70911</td>\n",
       "      <td>NaN</td>\n",
       "    </tr>\n",
       "    <tr>\n",
       "      <th>1962-01-08 00:00:00</th>\n",
       "      <td>1.475199</td>\n",
       "      <td>NaN</td>\n",
       "      <td>6.408000</td>\n",
       "      <td>NaN</td>\n",
       "      <td>6.608250</td>\n",
       "      <td>NaN</td>\n",
       "      <td>6.357938</td>\n",
       "      <td>NaN</td>\n",
       "      <td>93883</td>\n",
       "      <td>NaN</td>\n",
       "    </tr>\n",
       "  </tbody>\n",
       "</table>\n",
       "</div>"
      ],
      "text/plain": [
       "                           aa  tsla  aa_close  tsla_close   aa_high  \\\n",
       "Date                                                                  \n",
       "1962-01-02 00:00:00  1.506892   NaN  6.545672         NaN  6.583219   \n",
       "1962-01-03 00:00:00  1.529942   NaN  6.645797         NaN  6.645797   \n",
       "1962-01-04 00:00:00  1.529942   NaN  6.645797         NaN  6.695859   \n",
       "1962-01-05 00:00:00  1.527062   NaN  6.633281         NaN  6.683344   \n",
       "1962-01-08 00:00:00  1.475199   NaN  6.408000         NaN  6.608250   \n",
       "\n",
       "                     tsla_high    aa_low  tsla_low  aa_volume  tsla_volume  \n",
       "Date                                                                        \n",
       "1962-01-02 00:00:00        NaN  6.545672       NaN      55930          NaN  \n",
       "1962-01-03 00:00:00        NaN  6.533156       NaN      74906          NaN  \n",
       "1962-01-04 00:00:00        NaN  6.645797       NaN      80899          NaN  \n",
       "1962-01-05 00:00:00        NaN  6.620766       NaN      70911          NaN  \n",
       "1962-01-08 00:00:00        NaN  6.357938       NaN      93883          NaN  "
      ]
     },
     "execution_count": 103,
     "metadata": {},
     "output_type": "execute_result"
    }
   ],
   "source": [
    "data.drop(columns=empties, inplace=True)\n",
    "data.head()"
   ]
  },
  {
   "cell_type": "code",
   "execution_count": 83,
   "id": "301e120f",
   "metadata": {},
   "outputs": [],
   "source": [
    "def adj(sym, close, hilo):\n",
    "    factor = sym / close\n",
    "    #return factor\n",
    "    hilo *= factor\n",
    "    return hilo"
   ]
  },
  {
   "cell_type": "code",
   "execution_count": 84,
   "id": "8c6b1e16",
   "metadata": {},
   "outputs": [
    {
     "data": {
      "text/plain": [
       "Date\n",
       "1962-01-02     1.506892\n",
       "1962-01-03     1.504011\n",
       "1962-01-04     1.529942\n",
       "1962-01-05     1.524179\n",
       "1962-01-08     1.463673\n",
       "                ...    \n",
       "2024-03-18    30.790001\n",
       "2024-03-19    28.719999\n",
       "2024-03-20    29.520000\n",
       "2024-03-21    31.049999\n",
       "2024-03-22    30.840000\n",
       "Name: aa_low, Length: 15663, dtype: float64"
      ]
     },
     "execution_count": 84,
     "metadata": {},
     "output_type": "execute_result"
    }
   ],
   "source": [
    "adj(data.aa, data.aa_close, data.aa_low)"
   ]
  },
  {
   "cell_type": "code",
   "execution_count": 85,
   "id": "0f448d08",
   "metadata": {},
   "outputs": [
    {
     "data": {
      "text/plain": [
       "Date\n",
       "1962-01-02     1.515536\n",
       "1962-01-03     1.529942\n",
       "1962-01-04     1.541467\n",
       "1962-01-05     1.538585\n",
       "1962-01-08     1.521298\n",
       "                ...    \n",
       "2024-03-18    31.660000\n",
       "2024-03-19    30.469999\n",
       "2024-03-20    31.879999\n",
       "2024-03-21    32.130001\n",
       "2024-03-22    31.525000\n",
       "Name: aa_high, Length: 15663, dtype: float64"
      ]
     },
     "execution_count": 85,
     "metadata": {},
     "output_type": "execute_result"
    }
   ],
   "source": [
    "adj(data.aa, data.aa_close, data.aa_high)"
   ]
  },
  {
   "cell_type": "code",
   "execution_count": 41,
   "id": "4378f0f0",
   "metadata": {},
   "outputs": [],
   "source": [
    "def get_pct_change(stock: pd.Series) -> pd.Series:\n",
    "    return pd.Series(\n",
    "        np.concatenate([[1], stock.values[1:] / stock.values[:-1]]), index=stock.index)"
   ]
  },
  {
   "cell_type": "code",
   "execution_count": 42,
   "id": "47ca77cb",
   "metadata": {},
   "outputs": [
    {
     "data": {
      "text/plain": [
       "Date\n",
       "2020-01-02    1.000000\n",
       "2020-01-03    0.983944\n",
       "2020-01-06    1.002956\n",
       "2020-01-07    1.003065\n",
       "2020-01-08    1.009873\n",
       "                ...   \n",
       "2024-03-18    0.990575\n",
       "2024-03-19    1.008899\n",
       "2024-03-20    0.999254\n",
       "2024-03-21    1.009913\n",
       "2024-03-22    0.991327\n",
       "Length: 1063, dtype: float64"
      ]
     },
     "execution_count": 42,
     "metadata": {},
     "output_type": "execute_result"
    }
   ],
   "source": [
    "get_pct_change(data.a)"
   ]
  },
  {
   "cell_type": "code",
   "execution_count": 54,
   "id": "09e5e8dc",
   "metadata": {},
   "outputs": [],
   "source": [
    "def get_next_day_ranges(close: pd.Series, low: pd.Series, high: pd.Series):\n",
    "        c = close.values[:-1]\n",
    "        l = low.values[1:]\n",
    "        h = high.values[1:]\n",
    "        next_day_min = pd.Series(np.concatenate([[1], l / c]), index=close.index)\n",
    "        next_day_max = pd.Series(np.concatenate([[1], h / c]), index=close.index)\n",
    "        return next_day_min, next_day_max                                     "
   ]
  },
  {
   "cell_type": "code",
   "execution_count": 56,
   "id": "4b985c20",
   "metadata": {},
   "outputs": [
    {
     "data": {
      "text/plain": [
       "(0    1.000000\n",
       " 1    1.800000\n",
       " 2    0.950000\n",
       " 3    1.366667\n",
       " 4    1.175000\n",
       " dtype: float64,\n",
       " 0    1.000000\n",
       " 1    2.200000\n",
       " 2    1.650000\n",
       " 3    1.466667\n",
       " 4    0.975000\n",
       " dtype: float64)"
      ]
     },
     "execution_count": 56,
     "metadata": {},
     "output_type": "execute_result"
    }
   ],
   "source": [
    "# Test\n",
    "close = pd.Series([  1,   2,   3,   4, 3.7])\n",
    "low =   pd.Series([0.8, 1.8, 1.9, 4.1, 4.7])\n",
    "high =  pd.Series([0.9, 2.2, 3.3, 4.4, 3.9])\n",
    "get_next_day_ranges(close, low, high)"
   ]
  },
  {
   "cell_type": "code",
   "execution_count": null,
   "id": "54fc4a9a",
   "metadata": {},
   "outputs": [],
   "source": []
  }
 ],
 "metadata": {
  "kernelspec": {
   "display_name": "Python 3 (ipykernel)",
   "language": "python",
   "name": "python3"
  },
  "language_info": {
   "codemirror_mode": {
    "name": "ipython",
    "version": 3
   },
   "file_extension": ".py",
   "mimetype": "text/x-python",
   "name": "python",
   "nbconvert_exporter": "python",
   "pygments_lexer": "ipython3",
   "version": "3.11.3"
  }
 },
 "nbformat": 4,
 "nbformat_minor": 5
}
