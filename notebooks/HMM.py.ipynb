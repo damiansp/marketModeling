{
 "cells": [
  {
   "cell_type": "code",
   "execution_count": 1,
   "id": "7e82513d",
   "metadata": {},
   "outputs": [],
   "source": [
    "from collections import Counter\n",
    "from datetime import datetime, timedelta\n",
    "import pickle\n",
    "import warnings\n",
    "\n",
    "from   hmmlearn.hmm import GaussianHMM\n",
    "import matplotlib.pyplot as plt\n",
    "import numpy as np\n",
    "import pandas as pd\n",
    "import yfinance as yf"
   ]
  },
  {
   "cell_type": "code",
   "execution_count": 2,
   "id": "2bc888a3",
   "metadata": {},
   "outputs": [
    {
     "data": {
      "text/plain": [
       "datetime.date(2023, 6, 17)"
      ]
     },
     "execution_count": 2,
     "metadata": {},
     "output_type": "execute_result"
    }
   ],
   "source": [
    "DATA = '../data'\n",
    "TODAY = datetime.now().date()\n",
    "TOMORROW  = TODAY + timedelta(1)\n",
    "STATE_RANGE = range(3, 11)\n",
    "TOMORROW"
   ]
  },
  {
   "cell_type": "code",
   "execution_count": 3,
   "id": "fa8ee896",
   "metadata": {},
   "outputs": [
    {
     "name": "stdout",
     "output_type": "stream",
     "text": [
      "[*********************100%***********************]  1 of 1 completed\n",
      "[*********************100%***********************]  1 of 1 completed\n",
      "[*********************100%***********************]  1 of 1 completed\n",
      "[*********************100%***********************]  1 of 1 completed\n"
     ]
    }
   ],
   "source": [
    "sp = yf.download(\n",
    "    '^GSPC', start='1965-01-01', end=str(TOMORROW)).sort_index()\n",
    "nyse = yf.download(\n",
    "    '^NYA', start='1965-01-01', end=str(TOMORROW)).sort_index()\n",
    "nas = yf.download(\n",
    "    '^IXIC', start='1965-01-01', end=str(TOMORROW)).sort_index()\n",
    "wil = yf.download(\n",
    "    '^W5000', start='1990-01-01', end=str(TOMORROW))\n",
    "\n",
    "path = '../data'\n",
    "sp.to_csv(f'{path}/sp1950.csv')\n",
    "nyse.to_csv(f'{path}/nya1965.csv')\n",
    "nas.to_csv(f'{path}/nasdaq1965.csv')\n",
    "wil.to_csv(f'{path}/wilshire1990.csv')\n",
    "\n",
    "#sp = pd.read_csv(f'{DATA}/sp1950.csv')\n",
    "#nyse = pd.read_csv(f'{DATA}/nya1965.csv')\n",
    "#nas = pd.read_csv(f'{DATA}/nasdaq1965.csv')\n",
    "#wil = pd.read_csv(f'{DATA}/wilshire1990.csv')"
   ]
  },
  {
   "cell_type": "code",
   "execution_count": 4,
   "id": "58916580",
   "metadata": {},
   "outputs": [
    {
     "data": {
      "text/html": [
       "<div>\n",
       "<style scoped>\n",
       "    .dataframe tbody tr th:only-of-type {\n",
       "        vertical-align: middle;\n",
       "    }\n",
       "\n",
       "    .dataframe tbody tr th {\n",
       "        vertical-align: top;\n",
       "    }\n",
       "\n",
       "    .dataframe thead th {\n",
       "        text-align: right;\n",
       "    }\n",
       "</style>\n",
       "<table border=\"1\" class=\"dataframe\">\n",
       "  <thead>\n",
       "    <tr style=\"text-align: right;\">\n",
       "      <th></th>\n",
       "      <th>Open</th>\n",
       "      <th>High</th>\n",
       "      <th>Low</th>\n",
       "      <th>Close</th>\n",
       "      <th>Adj Close</th>\n",
       "      <th>Volume</th>\n",
       "    </tr>\n",
       "    <tr>\n",
       "      <th>Date</th>\n",
       "      <th></th>\n",
       "      <th></th>\n",
       "      <th></th>\n",
       "      <th></th>\n",
       "      <th></th>\n",
       "      <th></th>\n",
       "    </tr>\n",
       "  </thead>\n",
       "  <tbody>\n",
       "    <tr>\n",
       "      <th>2023-06-12</th>\n",
       "      <td>15499.910156</td>\n",
       "      <td>15560.459961</td>\n",
       "      <td>15483.040039</td>\n",
       "      <td>15548.469727</td>\n",
       "      <td>15548.469727</td>\n",
       "      <td>3945670000</td>\n",
       "    </tr>\n",
       "    <tr>\n",
       "      <th>2023-06-13</th>\n",
       "      <td>15548.469727</td>\n",
       "      <td>15701.490234</td>\n",
       "      <td>15548.469727</td>\n",
       "      <td>15667.790039</td>\n",
       "      <td>15667.790039</td>\n",
       "      <td>4275400000</td>\n",
       "    </tr>\n",
       "    <tr>\n",
       "      <th>2023-06-14</th>\n",
       "      <td>15667.790039</td>\n",
       "      <td>15746.120117</td>\n",
       "      <td>15573.400391</td>\n",
       "      <td>15642.730469</td>\n",
       "      <td>15642.730469</td>\n",
       "      <td>4252110000</td>\n",
       "    </tr>\n",
       "    <tr>\n",
       "      <th>2023-06-15</th>\n",
       "      <td>15642.730469</td>\n",
       "      <td>15855.089844</td>\n",
       "      <td>15633.559570</td>\n",
       "      <td>15826.349609</td>\n",
       "      <td>15826.349609</td>\n",
       "      <td>4176690000</td>\n",
       "    </tr>\n",
       "    <tr>\n",
       "      <th>2023-06-16</th>\n",
       "      <td>15826.354492</td>\n",
       "      <td>15904.197266</td>\n",
       "      <td>15786.444336</td>\n",
       "      <td>15795.118164</td>\n",
       "      <td>15795.118164</td>\n",
       "      <td>0</td>\n",
       "    </tr>\n",
       "  </tbody>\n",
       "</table>\n",
       "</div>"
      ],
      "text/plain": [
       "                    Open          High           Low         Close  \\\n",
       "Date                                                                 \n",
       "2023-06-12  15499.910156  15560.459961  15483.040039  15548.469727   \n",
       "2023-06-13  15548.469727  15701.490234  15548.469727  15667.790039   \n",
       "2023-06-14  15667.790039  15746.120117  15573.400391  15642.730469   \n",
       "2023-06-15  15642.730469  15855.089844  15633.559570  15826.349609   \n",
       "2023-06-16  15826.354492  15904.197266  15786.444336  15795.118164   \n",
       "\n",
       "               Adj Close      Volume  \n",
       "Date                                  \n",
       "2023-06-12  15548.469727  3945670000  \n",
       "2023-06-13  15667.790039  4275400000  \n",
       "2023-06-14  15642.730469  4252110000  \n",
       "2023-06-15  15826.349609  4176690000  \n",
       "2023-06-16  15795.118164           0  "
      ]
     },
     "execution_count": 4,
     "metadata": {},
     "output_type": "execute_result"
    }
   ],
   "source": [
    "nyse.tail()"
   ]
  },
  {
   "cell_type": "code",
   "execution_count": 5,
   "id": "b71a2ef6",
   "metadata": {},
   "outputs": [
    {
     "name": "stdout",
     "output_type": "stream",
     "text": [
      "2023-06-16 00:00:00\n",
      "2023-06-16 00:00:00\n",
      "2023-06-16 00:00:00\n",
      "2023-06-15 00:00:00\n"
     ]
    }
   ],
   "source": [
    "for df in [sp, nyse, nas, wil]:\n",
    "    print(df.index[-1])"
   ]
  },
  {
   "cell_type": "code",
   "execution_count": 5,
   "id": "aa7794b8",
   "metadata": {},
   "outputs": [
    {
     "data": {
      "text/plain": [
       "array([       nan, 1.00474883, 1.00307222, ..., 1.00085522, 0.99991574,\n",
       "       0.99404745])"
      ]
     },
     "execution_count": 5,
     "metadata": {},
     "output_type": "execute_result"
    }
   ],
   "source": [
    "x = sp['Adj Close'].to_numpy()\n",
    "np.append([np.nan], x[1:] / x[:-1])"
   ]
  },
  {
   "cell_type": "code",
   "execution_count": 6,
   "id": "6c4b2469",
   "metadata": {},
   "outputs": [],
   "source": [
    "def get_daily_changes(series):\n",
    "    x = series.to_numpy()\n",
    "    return np.append([1], x[1:] / x[:-1])"
   ]
  },
  {
   "cell_type": "code",
   "execution_count": 7,
   "id": "bbceda7e",
   "metadata": {},
   "outputs": [],
   "source": [
    "def prep_df(df, name):\n",
    "    df.index = pd.to_datetime(df.index)\n",
    "    df[f'{name}_daily'] = get_daily_changes(df['Adj Close'])\n",
    "    df.rename(columns={'Adj Close': name}, inplace=True)\n",
    "    return df[[name, f'{name}_daily']]"
   ]
  },
  {
   "cell_type": "code",
   "execution_count": 8,
   "id": "8182a8dd",
   "metadata": {},
   "outputs": [
    {
     "data": {
      "text/html": [
       "<div>\n",
       "<style scoped>\n",
       "    .dataframe tbody tr th:only-of-type {\n",
       "        vertical-align: middle;\n",
       "    }\n",
       "\n",
       "    .dataframe tbody tr th {\n",
       "        vertical-align: top;\n",
       "    }\n",
       "\n",
       "    .dataframe thead th {\n",
       "        text-align: right;\n",
       "    }\n",
       "</style>\n",
       "<table border=\"1\" class=\"dataframe\">\n",
       "  <thead>\n",
       "    <tr style=\"text-align: right;\">\n",
       "      <th></th>\n",
       "      <th>sp</th>\n",
       "      <th>sp_daily</th>\n",
       "    </tr>\n",
       "    <tr>\n",
       "      <th>Date</th>\n",
       "      <th></th>\n",
       "      <th></th>\n",
       "    </tr>\n",
       "  </thead>\n",
       "  <tbody>\n",
       "    <tr>\n",
       "      <th>1965-01-04</th>\n",
       "      <td>84.230003</td>\n",
       "      <td>1.000000</td>\n",
       "    </tr>\n",
       "    <tr>\n",
       "      <th>1965-01-05</th>\n",
       "      <td>84.629997</td>\n",
       "      <td>1.004749</td>\n",
       "    </tr>\n",
       "    <tr>\n",
       "      <th>1965-01-06</th>\n",
       "      <td>84.889999</td>\n",
       "      <td>1.003072</td>\n",
       "    </tr>\n",
       "    <tr>\n",
       "      <th>1965-01-07</th>\n",
       "      <td>85.260002</td>\n",
       "      <td>1.004359</td>\n",
       "    </tr>\n",
       "    <tr>\n",
       "      <th>1965-01-08</th>\n",
       "      <td>85.370003</td>\n",
       "      <td>1.001290</td>\n",
       "    </tr>\n",
       "  </tbody>\n",
       "</table>\n",
       "</div>"
      ],
      "text/plain": [
       "                   sp  sp_daily\n",
       "Date                           \n",
       "1965-01-04  84.230003  1.000000\n",
       "1965-01-05  84.629997  1.004749\n",
       "1965-01-06  84.889999  1.003072\n",
       "1965-01-07  85.260002  1.004359\n",
       "1965-01-08  85.370003  1.001290"
      ]
     },
     "execution_count": 8,
     "metadata": {},
     "output_type": "execute_result"
    }
   ],
   "source": [
    "[sp, nyse, nas, wil] = [\n",
    "    prep_df(df, name) \n",
    "    for df, name in zip(\n",
    "        [sp, nyse, nas, wil], ['sp', 'nyse', 'nas', 'wil'])]\n",
    "sp.head()"
   ]
  },
  {
   "cell_type": "code",
   "execution_count": 9,
   "id": "c61584c1",
   "metadata": {},
   "outputs": [
    {
     "data": {
      "text/html": [
       "<div>\n",
       "<style scoped>\n",
       "    .dataframe tbody tr th:only-of-type {\n",
       "        vertical-align: middle;\n",
       "    }\n",
       "\n",
       "    .dataframe tbody tr th {\n",
       "        vertical-align: top;\n",
       "    }\n",
       "\n",
       "    .dataframe thead th {\n",
       "        text-align: right;\n",
       "    }\n",
       "</style>\n",
       "<table border=\"1\" class=\"dataframe\">\n",
       "  <thead>\n",
       "    <tr style=\"text-align: right;\">\n",
       "      <th></th>\n",
       "      <th>nyse</th>\n",
       "      <th>nyse_daily</th>\n",
       "    </tr>\n",
       "    <tr>\n",
       "      <th>Date</th>\n",
       "      <th></th>\n",
       "      <th></th>\n",
       "    </tr>\n",
       "  </thead>\n",
       "  <tbody>\n",
       "    <tr>\n",
       "      <th>1965-12-31</th>\n",
       "      <td>528.690002</td>\n",
       "      <td>1.000000</td>\n",
       "    </tr>\n",
       "    <tr>\n",
       "      <th>1966-01-03</th>\n",
       "      <td>527.210022</td>\n",
       "      <td>0.997201</td>\n",
       "    </tr>\n",
       "    <tr>\n",
       "      <th>1966-01-04</th>\n",
       "      <td>527.840027</td>\n",
       "      <td>1.001195</td>\n",
       "    </tr>\n",
       "    <tr>\n",
       "      <th>1966-01-05</th>\n",
       "      <td>531.119995</td>\n",
       "      <td>1.006214</td>\n",
       "    </tr>\n",
       "    <tr>\n",
       "      <th>1966-01-06</th>\n",
       "      <td>532.070007</td>\n",
       "      <td>1.001789</td>\n",
       "    </tr>\n",
       "  </tbody>\n",
       "</table>\n",
       "</div>"
      ],
      "text/plain": [
       "                  nyse  nyse_daily\n",
       "Date                              \n",
       "1965-12-31  528.690002    1.000000\n",
       "1966-01-03  527.210022    0.997201\n",
       "1966-01-04  527.840027    1.001195\n",
       "1966-01-05  531.119995    1.006214\n",
       "1966-01-06  532.070007    1.001789"
      ]
     },
     "execution_count": 9,
     "metadata": {},
     "output_type": "execute_result"
    }
   ],
   "source": [
    "nyse.head()"
   ]
  },
  {
   "cell_type": "code",
   "execution_count": 10,
   "id": "3e67c5c0",
   "metadata": {},
   "outputs": [
    {
     "data": {
      "text/html": [
       "<div>\n",
       "<style scoped>\n",
       "    .dataframe tbody tr th:only-of-type {\n",
       "        vertical-align: middle;\n",
       "    }\n",
       "\n",
       "    .dataframe tbody tr th {\n",
       "        vertical-align: top;\n",
       "    }\n",
       "\n",
       "    .dataframe thead th {\n",
       "        text-align: right;\n",
       "    }\n",
       "</style>\n",
       "<table border=\"1\" class=\"dataframe\">\n",
       "  <thead>\n",
       "    <tr style=\"text-align: right;\">\n",
       "      <th></th>\n",
       "      <th>nas</th>\n",
       "      <th>nas_daily</th>\n",
       "    </tr>\n",
       "    <tr>\n",
       "      <th>Date</th>\n",
       "      <th></th>\n",
       "      <th></th>\n",
       "    </tr>\n",
       "  </thead>\n",
       "  <tbody>\n",
       "    <tr>\n",
       "      <th>1971-02-05</th>\n",
       "      <td>100.000000</td>\n",
       "      <td>1.000000</td>\n",
       "    </tr>\n",
       "    <tr>\n",
       "      <th>1971-02-08</th>\n",
       "      <td>100.839996</td>\n",
       "      <td>1.008400</td>\n",
       "    </tr>\n",
       "    <tr>\n",
       "      <th>1971-02-09</th>\n",
       "      <td>100.760002</td>\n",
       "      <td>0.999207</td>\n",
       "    </tr>\n",
       "    <tr>\n",
       "      <th>1971-02-10</th>\n",
       "      <td>100.690002</td>\n",
       "      <td>0.999305</td>\n",
       "    </tr>\n",
       "    <tr>\n",
       "      <th>1971-02-11</th>\n",
       "      <td>101.449997</td>\n",
       "      <td>1.007548</td>\n",
       "    </tr>\n",
       "  </tbody>\n",
       "</table>\n",
       "</div>"
      ],
      "text/plain": [
       "                   nas  nas_daily\n",
       "Date                             \n",
       "1971-02-05  100.000000   1.000000\n",
       "1971-02-08  100.839996   1.008400\n",
       "1971-02-09  100.760002   0.999207\n",
       "1971-02-10  100.690002   0.999305\n",
       "1971-02-11  101.449997   1.007548"
      ]
     },
     "execution_count": 10,
     "metadata": {},
     "output_type": "execute_result"
    }
   ],
   "source": [
    "nas.head()"
   ]
  },
  {
   "cell_type": "code",
   "execution_count": 11,
   "id": "abc65baf",
   "metadata": {},
   "outputs": [],
   "source": [
    "def find_best_mod(\n",
    "        daily,\n",
    "        n_states=[6, 7, 8],\n",
    "        max_iter=1000,\n",
    "        reps=3,\n",
    "        best_logprob=None,\n",
    "        best_mod=None,\n",
    "        best_states=None):\n",
    "    daily = np.reshape(daily.values, [-1, 1])\n",
    "    best_logprob = best_logprob or -np.inf\n",
    "    best_mod = best_mod or None\n",
    "    best_states = best_states or None\n",
    "    for states in n_states:\n",
    "        for rep in range(reps):\n",
    "            try:\n",
    "                print(f'rep {rep + 1}', end='\\r')\n",
    "                for cov in ['spherical', 'diag', 'full']:\n",
    "                    mod = GaussianHMM(\n",
    "                        n_components=states,\n",
    "                        covariance_type=cov,\n",
    "                        n_iter=max_iter\n",
    "                    ).fit(daily)\n",
    "                    logprob = mod.score(daily)\n",
    "                    if logprob > best_logprob:\n",
    "                        print(f'New best - States: {states} (cov: {cov})')\n",
    "                        best_logprob = logprob\n",
    "                        best_mod = mod\n",
    "                        best_states = states\n",
    "            except ValueError:\n",
    "                pass\n",
    "    return best_mod, best_logprob, best_states"
   ]
  },
  {
   "cell_type": "code",
   "execution_count": 12,
   "id": "2a86095f",
   "metadata": {},
   "outputs": [],
   "source": [
    "def get_preds(daily, mod):\n",
    "    daily = np.reshape(daily.values, [-1, 1])\n",
    "    states = mod.predict(daily)\n",
    "    means = np.squeeze(mod.means_)\n",
    "    sds = np.squeeze(np.sqrt(mod.covars_))\n",
    "    preds = np.array([means[state] for state in states])\n",
    "    ses = np.array([1.96 * sds[state] for state in states])\n",
    "    return preds, ses, means, states[-1]"
   ]
  },
  {
   "cell_type": "code",
   "execution_count": 13,
   "id": "661e3cbb",
   "metadata": {},
   "outputs": [],
   "source": [
    "def plot_mod(df, preds, ses, name):\n",
    "    daily = f'{name}_daily'\n",
    "    plt.plot(df[daily], label='daily')\n",
    "    plt.plot(df.index, preds, label='preds')\n",
    "    plt.legend()\n",
    "\n",
    "    plt.figure()\n",
    "    plt.plot(df[daily], label='daily')\n",
    "    plt.plot(\n",
    "        df.index, preds, label='preds', color='orange', linewidth=3)\n",
    "    plt.plot(df.index, preds + ses, color='orange', linestyle='-.')\n",
    "    plt.plot(df.index, preds - ses, color='orange', linestyle='-.')\n",
    "    plt.axhline(y=1, color='k')\n",
    "    plt.ylim([0.95, 1.05]);\n",
    "    plt.xlim([df.index[-500], df.index[-1]])\n",
    "\n",
    "    plt.figure()\n",
    "    plt.plot(df[name])\n",
    "    plt.xlim([df.index[-500], df.index[-1]])\n",
    "    sub = df.iloc[-500:, :]\n",
    "    plt.ylim(\n",
    "        0.95 * sub[name].min(), 1.05 * sub[name].max());"
   ]
  },
  {
   "cell_type": "code",
   "execution_count": 14,
   "id": "c9505123",
   "metadata": {},
   "outputs": [],
   "source": [
    "def get_expected_val(mod, current_state, means):\n",
    "    return np.dot(mod.transmat_[current_state, :], means)"
   ]
  },
  {
   "cell_type": "code",
   "execution_count": 15,
   "id": "c68c8a00",
   "metadata": {},
   "outputs": [
    {
     "data": {
      "text/plain": [
       "{'^GSPC': {'logprob': 49024.13881865065,\n",
       "  'mod': GaussianHMM(covariance_type='spherical', n_components=8, n_iter=1000),\n",
       "  'n_states': 8},\n",
       " '^NYA': {'logprob': 48654.932825267424,\n",
       "  'mod': GaussianHMM(covariance_type='spherical', n_components=8, n_iter=1000),\n",
       "  'n_states': 8},\n",
       " '^IXIC': {'logprob': 42732.41519228567,\n",
       "  'mod': GaussianHMM(covariance_type='spherical', n_components=9, n_iter=1000),\n",
       "  'n_states': 9},\n",
       " '^W5000': {'logprob': 27481.246646209045,\n",
       "  'mod': GaussianHMM(covariance_type='spherical', n_components=10, n_iter=1000),\n",
       "  'n_states': 10}}"
      ]
     },
     "execution_count": 15,
     "metadata": {},
     "output_type": "execute_result"
    }
   ],
   "source": [
    "# start search from previous day's best\n",
    "with open(f'{DATA}/hmm_mods.pkl', 'rb') as f:\n",
    "    out_data  = pickle.load(f)\n",
    "\n",
    "out_data"
   ]
  },
  {
   "cell_type": "code",
   "execution_count": 16,
   "id": "d0feabc9",
   "metadata": {},
   "outputs": [],
   "source": [
    "sp_prob, sp_mod, sp_best_states = (\n",
    "    out_data['^GSPC']['logprob'], out_data['^GSPC']['mod'], out_data['^GSPC']['n_states'])\n",
    "nyse_prob, nyse_mod, nyse_best_states = (\n",
    "    out_data['^NYA']['logprob'], out_data['^NYA']['mod'], out_data['^NYA']['n_states'])\n",
    "nas_prob, nas_mod, nas_best_states = (\n",
    "    out_data['^IXIC']['logprob'], out_data['^IXIC']['mod'], out_data['^IXIC']['n_states'])\n",
    "wil_prob, wil_mod, wil_best_states = (\n",
    "    out_data['^W5000']['logprob'], out_data['^W5000']['mod'], out_data['^W5000']['n_states'])"
   ]
  },
  {
   "cell_type": "code",
   "execution_count": 17,
   "id": "60cc78b7",
   "metadata": {},
   "outputs": [
    {
     "data": {
      "text/plain": [
       "hmmlearn.hmm.GaussianHMM"
      ]
     },
     "execution_count": 17,
     "metadata": {},
     "output_type": "execute_result"
    }
   ],
   "source": [
    "type(sp_mod)"
   ]
  },
  {
   "cell_type": "markdown",
   "id": "a9e2fef0",
   "metadata": {},
   "source": [
    "## S&P"
   ]
  },
  {
   "cell_type": "code",
   "execution_count": 18,
   "id": "2d1f4a52",
   "metadata": {},
   "outputs": [],
   "source": [
    "warnings.filterwarnings('ignore', category=RuntimeWarning)"
   ]
  },
  {
   "cell_type": "code",
   "execution_count": 19,
   "id": "8d91e1ec",
   "metadata": {},
   "outputs": [],
   "source": [
    "#sp_prob = None\n",
    "#sp_mod = None\n",
    "#sp_best_states = None"
   ]
  },
  {
   "cell_type": "code",
   "execution_count": null,
   "id": "8558a6f3",
   "metadata": {},
   "outputs": [
    {
     "name": "stdout",
     "output_type": "stream",
     "text": [
      "New best - States: 7 (cov: spherical)\n",
      "New best - States: 9 (cov: full)\n",
      "rep 2\r"
     ]
    }
   ],
   "source": [
    "sp_mod, sp_prob, sp_best_states = find_best_mod(\n",
    "    sp.sp_daily,\n",
    "    n_states=STATE_RANGE,\n",
    "    best_logprob=sp_prob,\n",
    "    best_mod=sp_mod,\n",
    "    best_states=sp_best_states)\n",
    "sp_preds, sp_ses, sp_means, sp_current = get_preds(sp.sp_daily, sp_mod)\n",
    "plot_mod(sp, sp_preds, sp_ses, 'sp')\n",
    "sp_exp = get_expected_val(sp_mod, sp_current, sp_means)\n",
    "print(sp_exp)"
   ]
  },
  {
   "cell_type": "markdown",
   "id": "e0832a84",
   "metadata": {},
   "source": [
    "## NYSE"
   ]
  },
  {
   "cell_type": "code",
   "execution_count": null,
   "id": "0677e92d",
   "metadata": {},
   "outputs": [],
   "source": [
    "#nyse_prob = None\n",
    "#nyse_mod = None\n",
    "#nyse_best_states = None"
   ]
  },
  {
   "cell_type": "code",
   "execution_count": null,
   "id": "181567dd",
   "metadata": {},
   "outputs": [],
   "source": [
    "nyse_mod, nyse_prob, nyse_best_states = find_best_mod(\n",
    "    nyse.nyse_daily,\n",
    "    n_states=STATE_RANGE,\n",
    "    best_logprob=nyse_prob,\n",
    "    best_mod=nyse_mod,\n",
    "    best_states=nyse_best_states)\n",
    "nyse_preds, nyse_ses, nyse_means, nyse_current = get_preds(\n",
    "    nyse.nyse_daily, nyse_mod)\n",
    "plot_mod(nyse, nyse_preds, nyse_ses, 'nyse')\n",
    "nyse_exp = get_expected_val(nyse_mod, nyse_current, nyse_means)\n",
    "print(nyse_exp)"
   ]
  },
  {
   "cell_type": "markdown",
   "id": "ca299ebe",
   "metadata": {},
   "source": [
    "## Nasdaq"
   ]
  },
  {
   "cell_type": "code",
   "execution_count": null,
   "id": "88eb1e40",
   "metadata": {},
   "outputs": [],
   "source": [
    "#nas_prob = None\n",
    "#nas_mod = None\n",
    "#nas_best_states = None"
   ]
  },
  {
   "cell_type": "code",
   "execution_count": null,
   "id": "47c000a7",
   "metadata": {},
   "outputs": [],
   "source": [
    "nas_mod, nas_prob, nas_best_states = find_best_mod(\n",
    "    nas.nas_daily,\n",
    "    n_states=STATE_RANGE,\n",
    "    best_logprob=nas_prob,\n",
    "    best_mod=nas_mod,\n",
    "    best_states=nas_best_states)\n",
    "nas_preds, nas_ses, nas_means, nas_current = get_preds(\n",
    "    nas.nas_daily, nas_mod)\n",
    "plot_mod(nas, nas_preds, nas_ses, 'nas')\n",
    "nas_exp = get_expected_val(nas_mod, nas_current, nas_means)\n",
    "print(nas_exp)"
   ]
  },
  {
   "cell_type": "markdown",
   "id": "752655f5",
   "metadata": {},
   "source": [
    "## Wilshire"
   ]
  },
  {
   "cell_type": "code",
   "execution_count": null,
   "id": "d2d086f4",
   "metadata": {},
   "outputs": [],
   "source": [
    "#wil_prob = None\n",
    "#wil_mod = None\n",
    "#wil_best_states = None"
   ]
  },
  {
   "cell_type": "code",
   "execution_count": null,
   "id": "7679b956",
   "metadata": {},
   "outputs": [],
   "source": [
    "wil_mod, wil_prob, wil_best_states = find_best_mod(\n",
    "    wil.wil_daily,\n",
    "    n_states=STATE_RANGE,\n",
    "    best_logprob=wil_prob,\n",
    "    best_mod=wil_mod,\n",
    "    best_states=wil_best_states)\n",
    "wil_preds, wil_ses, wil_means, wil_current = get_preds(\n",
    "    wil.wil_daily, wil_mod)\n",
    "plot_mod(wil, wil_preds, wil_ses, 'wil')\n",
    "wil_exp = get_expected_val(wil_mod, wil_current, wil_means)\n",
    "print(wil_exp)"
   ]
  },
  {
   "cell_type": "code",
   "execution_count": null,
   "id": "6d2da93e",
   "metadata": {},
   "outputs": [],
   "source": [
    "#sp_best_states = len(np.unique(sp_preds))\n",
    "#nyse_best_states = len(np.unique(nyse_preds))\n",
    "#nas_best_states = len(np.unique(nas_preds))\n",
    "#wil_best_states = len(np.unique(wil_preds))"
   ]
  },
  {
   "cell_type": "code",
   "execution_count": null,
   "id": "c1158d7d",
   "metadata": {},
   "outputs": [],
   "source": [
    "out_data = {\n",
    "    '^GSPC': {'logprob': sp_prob, 'mod': sp_mod, 'n_states': sp_best_states},\n",
    "    '^NYA': {'logprob': nyse_prob, 'mod': nyse_mod, 'n_states': nyse_best_states},\n",
    "    '^IXIC': {'logprob': nas_prob, 'mod': nas_mod, 'n_states': nas_best_states},\n",
    "    '^W5000': {'logprob': wil_prob, 'mod': wil_mod, 'n_states': wil_best_states}}\n",
    "with open(f'{DATA}/hmm_mods_indices.pkl', 'wb') as f:\n",
    "    pickle.dump(out_data, f)"
   ]
  },
  {
   "cell_type": "code",
   "execution_count": null,
   "id": "aa0b9e95",
   "metadata": {},
   "outputs": [],
   "source": [
    "print(\n",
    "    sp_best_states, nyse_best_states, nas_best_states, wil_best_states)\n",
    "mean_states = (\n",
    "    (sp_best_states\n",
    "     + nyse_best_states\n",
    "     + nas_best_states\n",
    "     + wil_best_states)\n",
    "    / 4)\n",
    "mean_states"
   ]
  },
  {
   "cell_type": "code",
   "execution_count": null,
   "id": "6e7926ff",
   "metadata": {},
   "outputs": [],
   "source": [
    "N_STATES = int(round(mean_states))\n",
    "N_STATES"
   ]
  },
  {
   "cell_type": "code",
   "execution_count": null,
   "id": "9e20a9a0",
   "metadata": {},
   "outputs": [],
   "source": [
    "exp = (sp_exp + nyse_exp + nas_exp + wil_exp) / 4\n",
    "exp"
   ]
  },
  {
   "cell_type": "code",
   "execution_count": null,
   "id": "1434e4cb",
   "metadata": {},
   "outputs": [],
   "source": [
    "for df, name, exp in zip(\n",
    "        [sp, nyse, nas, wil],\n",
    "        ['sp', 'nyse', 'nas', 'wil'],\n",
    "        [sp_preds, nyse_preds, nas_preds, wil_preds]):\n",
    "    df[f'{name}_exp'] = exp"
   ]
  },
  {
   "cell_type": "code",
   "execution_count": null,
   "id": "4dba4a90",
   "metadata": {},
   "outputs": [],
   "source": [
    "df = pd.concat([sp, nyse, nas, wil], axis=1)\n",
    "df.tail()"
   ]
  },
  {
   "cell_type": "code",
   "execution_count": null,
   "id": "526b4d19",
   "metadata": {},
   "outputs": [],
   "source": [
    "df['mean_exp'] = (\n",
    "    df[['sp_exp', 'nyse_exp', 'nas_exp', 'wil_exp']].mean(axis=1))"
   ]
  },
  {
   "cell_type": "code",
   "execution_count": null,
   "id": "29fa12c1",
   "metadata": {},
   "outputs": [],
   "source": [
    "plt.figure(figsize=[15, 8])\n",
    "plt.plot(df.sp_exp, label='sp')\n",
    "plt.plot(df.nyse_exp, label='nyse')\n",
    "plt.plot(df.nas_exp, label='nasdaq')\n",
    "plt.plot(df.wil_exp, label='wilshire')\n",
    "\n",
    "plt.legend();"
   ]
  },
  {
   "cell_type": "code",
   "execution_count": null,
   "id": "cf3a7349",
   "metadata": {},
   "outputs": [],
   "source": [
    "plt.figure(figsize=[15, 8])\n",
    "plt.plot(df.sp_exp, alpha=0.5)\n",
    "plt.plot(df.nyse_exp, alpha=0.5)\n",
    "plt.plot(df.nas_exp, alpha=0.5)\n",
    "plt.plot(df.wil_exp, alpha=0.5)\n",
    "plt.plot(df.mean_exp, linewidth=3)\n",
    "plt.axhline(y=1, color='k');"
   ]
  },
  {
   "cell_type": "code",
   "execution_count": null,
   "id": "861a1367",
   "metadata": {},
   "outputs": [],
   "source": [
    "TODAY = datetime.now()\n",
    "plt.figure(figsize=[15, 8])\n",
    "plt.plot(df.sp_exp, alpha=0.5)\n",
    "plt.plot(df.nyse_exp, alpha=0.5)\n",
    "plt.plot(df.nas_exp, alpha=0.5)\n",
    "plt.plot(df.wil_exp, alpha=0.5)\n",
    "plt.plot(df.mean_exp, linewidth=3)\n",
    "plt.axhline(y=1, color='k')\n",
    "plt.xlim(pd.to_datetime('2010-01-01'), TODAY);"
   ]
  },
  {
   "cell_type": "code",
   "execution_count": null,
   "id": "18d53c8c",
   "metadata": {},
   "outputs": [],
   "source": [
    "TODAY = datetime.now()\n",
    "plt.figure(figsize=[15, 8])\n",
    "plt.plot(df.sp_exp, alpha=0.5)\n",
    "plt.plot(df.nyse_exp, alpha=0.5)\n",
    "plt.plot(df.nas_exp, alpha=0.5)\n",
    "plt.plot(df.wil_exp, alpha=0.5)\n",
    "plt.plot(df.mean_exp, linewidth=3)\n",
    "plt.xlim(pd.to_datetime('2020-01-01'), TODAY);\n",
    "plt.axhline(y = 1, color='k');"
   ]
  },
  {
   "cell_type": "code",
   "execution_count": null,
   "id": "1eb39d54",
   "metadata": {},
   "outputs": [],
   "source": [
    "plt.figure(figsize=[15, 8])\n",
    "plt.plot(df.sp_exp, alpha=0.5)\n",
    "plt.plot(df.nyse_exp, alpha=0.5)\n",
    "plt.plot(df.nas_exp, alpha=0.5)\n",
    "plt.plot(df.wil_exp, alpha=0.5)\n",
    "plt.plot(df.mean_exp, linewidth=3)\n",
    "plt.axhline(y=1, color='k')\n",
    "plt.xlim(pd.to_datetime('2021-01-01'), TODAY)\n",
    "plt.ylim([0.995, 1.005]);"
   ]
  },
  {
   "cell_type": "code",
   "execution_count": null,
   "id": "c52e3ea8",
   "metadata": {},
   "outputs": [],
   "source": [
    "df = df[df.index >= pd.to_datetime('1970-01-01')]"
   ]
  },
  {
   "cell_type": "code",
   "execution_count": null,
   "id": "14a94dae",
   "metadata": {},
   "outputs": [],
   "source": [
    "try:\n",
    "    df['state'] = pd.qcut(\n",
    "        df.mean_exp,\n",
    "        N_STATES,\n",
    "        retbins=False,\n",
    "        duplicates='drop',\n",
    "        labels=range(N_STATES))\n",
    "except ValueError:\n",
    "    try:\n",
    "        df['state'] = pd.qcut(\n",
    "            df.mean_exp,\n",
    "            N_STATES,\n",
    "            retbins=False,\n",
    "            duplicates='drop',\n",
    "            labels=range(N_STATES - 1))\n",
    "    except ValueError:\n",
    "        df['state'] = pd.qcut(\n",
    "            df.mean_exp,\n",
    "            N_STATES,\n",
    "            retbins=False,\n",
    "            duplicates='drop',\n",
    "            labels=range(N_STATES - 2))"
   ]
  },
  {
   "cell_type": "code",
   "execution_count": null,
   "id": "7e26ea8d",
   "metadata": {},
   "outputs": [],
   "source": [
    "df.state.value_counts()"
   ]
  },
  {
   "cell_type": "code",
   "execution_count": null,
   "id": "585b738d",
   "metadata": {},
   "outputs": [],
   "source": [
    "plt.figure(figsize=[15, 8])\n",
    "plt.plot(df.state);"
   ]
  },
  {
   "cell_type": "code",
   "execution_count": null,
   "id": "b8a45637",
   "metadata": {},
   "outputs": [],
   "source": [
    "plt.figure(figsize=[15, 8])\n",
    "plt.plot(df.state)\n",
    "plt.xlim(pd.to_datetime('2010-01-01'), TODAY);\n",
    "\n",
    "plt.figure(figsize=[15, 8])\n",
    "plt.plot(df.state)\n",
    "plt.xlim(pd.to_datetime('2021-01-01'), TODAY);\n",
    "\n",
    "plt.figure(figsize=[15, 8])\n",
    "plt.plot(df.state)\n",
    "plt.xlim(pd.to_datetime('2022-01-01'), TODAY);"
   ]
  },
  {
   "cell_type": "code",
   "execution_count": null,
   "id": "45b33373",
   "metadata": {},
   "outputs": [],
   "source": [
    "transitions = Counter()\n",
    "for i in range(len(df.state) - 1):\n",
    "    state = df.state[i]\n",
    "    nxt = df.state[i + 1]\n",
    "    transitions[(state, nxt)] += 1"
   ]
  },
  {
   "cell_type": "code",
   "execution_count": null,
   "id": "cc28c0ab",
   "metadata": {},
   "outputs": [],
   "source": [
    "df.to_csv(f'{DATA}/hmm_exp_returns.csv')"
   ]
  },
  {
   "cell_type": "code",
   "execution_count": null,
   "id": "1f94655d",
   "metadata": {},
   "outputs": [],
   "source": [
    "TODAY"
   ]
  },
  {
   "cell_type": "code",
   "execution_count": null,
   "id": "dcefad63",
   "metadata": {},
   "outputs": [],
   "source": [
    "CURRENT_STATE = df.state[-1]\n",
    "CURRENT_STATE"
   ]
  },
  {
   "cell_type": "code",
   "execution_count": null,
   "id": "a98cb88c",
   "metadata": {},
   "outputs": [],
   "source": [
    "possible_transitions = sorted(\n",
    "    [k for k in transitions.keys() if k[0] == CURRENT_STATE])\n",
    "state_sum = 0\n",
    "for pt in possible_transitions:\n",
    "    n_trans = transitions[pt]\n",
    "    state_sum += n_trans\n",
    "    print(f'{pt}: {n_trans}')\n",
    "\n",
    "print()\n",
    "\n",
    "data = []\n",
    "for pt in possible_transitions:\n",
    "    n_trans = transitions[pt]\n",
    "    print(f'{pt}: {n_trans / state_sum:.4f}')\n",
    "    data.append([pt[1], n_trans / state_sum])"
   ]
  },
  {
   "cell_type": "code",
   "execution_count": null,
   "id": "4a0d76c9",
   "metadata": {},
   "outputs": [],
   "source": [
    "trans_df = pd.DataFrame(data, columns=['next_state', 'prob'])\n",
    "trans_df"
   ]
  },
  {
   "cell_type": "code",
   "execution_count": null,
   "id": "5b1c8d0e",
   "metadata": {},
   "outputs": [],
   "source": [
    "trans_df.to_csv('../data/transition_probs.csv', index=False)"
   ]
  },
  {
   "cell_type": "code",
   "execution_count": null,
   "id": "8a549494",
   "metadata": {},
   "outputs": [],
   "source": [
    "df.state.value_counts()"
   ]
  },
  {
   "cell_type": "code",
   "execution_count": null,
   "id": "793047a6",
   "metadata": {},
   "outputs": [],
   "source": [
    "state_var = (\n",
    "    df[['state', 'mean_exp']].groupby('state').agg(['mean', 'std']))\n",
    "state_var.columns = ['mean', 'std']\n",
    "state_var\n",
    "state_var['ci'] = state_var.apply(\n",
    "    lambda row: [\n",
    "        row['mean'] - 1.96*row['std'],\n",
    "        row['mean'] + 1.96*row['std']], axis=1)\n",
    "state_var"
   ]
  },
  {
   "cell_type": "code",
   "execution_count": null,
   "id": "e7ea9f9f",
   "metadata": {},
   "outputs": [],
   "source": [
    "plt.scatter(state_var.index, state_var['mean'])\n",
    "for state in range(state_var.index.max() + 1):\n",
    "    plt.plot([state, state], state_var.loc[state, 'ci'], color='k');"
   ]
  },
  {
   "cell_type": "code",
   "execution_count": null,
   "id": "a4929b9c",
   "metadata": {},
   "outputs": [],
   "source": []
  },
  {
   "cell_type": "code",
   "execution_count": null,
   "id": "46b97c20",
   "metadata": {},
   "outputs": [],
   "source": []
  }
 ],
 "metadata": {
  "kernelspec": {
   "display_name": "Python 3 (ipykernel)",
   "language": "python",
   "name": "python3"
  },
  "language_info": {
   "codemirror_mode": {
    "name": "ipython",
    "version": 3
   },
   "file_extension": ".py",
   "mimetype": "text/x-python",
   "name": "python",
   "nbconvert_exporter": "python",
   "pygments_lexer": "ipython3",
   "version": "3.11.3"
  }
 },
 "nbformat": 4,
 "nbformat_minor": 5
}
