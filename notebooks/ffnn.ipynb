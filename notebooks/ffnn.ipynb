{
 "cells": [
  {
   "cell_type": "code",
   "execution_count": 1,
   "id": "d2c4f3fb",
   "metadata": {},
   "outputs": [],
   "source": [
    "import numpy as np"
   ]
  },
  {
   "cell_type": "code",
   "execution_count": 2,
   "id": "0c41c246",
   "metadata": {},
   "outputs": [],
   "source": [
    "class FFNN:\n",
    "    def __init__(\n",
    "            self,\n",
    "            n_in,\n",
    "            hidden_nodes: list,\n",
    "            n_out: int = 1,\n",
    "            use_bias: bool = True):\n",
    "        '''Params\n",
    "        - hidden_nodes: list with n nodes per layer'''\n",
    "        self.n_in = n_in\n",
    "        self.hidden_nodes = np.array(hidden_nodes)\n",
    "        self.use_bias = use_bias\n",
    "        self.n_out = n_out\n",
    "        self.Ws = self._init_weights()\n",
    "        \n",
    "    def _init_weights(self):\n",
    "        n_in = self.n_in\n",
    "        if self.use_bias:\n",
    "            n_in += 1\n",
    "        W1 = np.random.normal(size=(n_in, self.hidden_nodes[0]))\n",
    "        Ws = [W1]\n",
    "        if len(self.hidden_nodes) > 1:\n",
    "            for i, n_nodes in enumerate(self.hidden_nodes[1:], 1):\n",
    "                n_in = self.hidden_nodes[i - 1]\n",
    "                if self.use_bias:\n",
    "                    n_in += 1\n",
    "                W = np.random.normal(size=(n_in, n_nodes))\n",
    "                Ws.append(W)\n",
    "        # output\n",
    "        n_in = self.hidden_nodes[-1]\n",
    "        if self.use_bias:\n",
    "            n_in += 1\n",
    "        W = np.random.normal(size=(n_in, self.n_out))\n",
    "        Ws.append(W)\n",
    "        return Ws\n",
    "        \n",
    "    def forward_pass(self, X, activation, activation_out):\n",
    "        activation = {'relu': self._relu}[activation]\n",
    "        activation_out = {'sigmoid': self._sigmoid}[activation_out]\n",
    "        X = np.array(X)\n",
    "        if len(X.shape) == 1:\n",
    "            X = np.array([X])\n",
    "        for W in self.Ws[:-1]:\n",
    "            if self.use_bias:\n",
    "                X = self._append_bias(X)\n",
    "            X = X @ W\n",
    "            X = activation(X)\n",
    "        # output layer\n",
    "        if self.use_bias:\n",
    "            X = self._append_bias(X)\n",
    "        X = X @ self.Ws[-1]\n",
    "        X = activation_out(X)\n",
    "        return X\n",
    "            \n",
    "    @staticmethod\n",
    "    def _append_bias(X):\n",
    "        bias = np.ones((X.shape[0], 1))\n",
    "        X = np.concatenate([bias, X], axis=1)\n",
    "        return X\n",
    "    \n",
    "    @staticmethod\n",
    "    def _relu(X):\n",
    "        return(X.clip(0, None))\n",
    "    \n",
    "    @staticmethod\n",
    "    def _sigmoid(X):\n",
    "        return 1 / (1 + np.exp(-X))\n",
    "    \n",
    "    def mutate(self, scale: float):\n",
    "        '''Randomly mutate weights\n",
    "        Weights will be multiplied by ~N(1, scale)\n",
    "        In early iterations, it can be large (say 0.5), but should\n",
    "        gradually diminish as models start to settle\n",
    "        Parameters:\n",
    "        - scale: standard deviations\n",
    "        '''\n",
    "        for i, W in enumerate(self.Ws):\n",
    "            noise = np.random.normal(loc=1, scale=scale, size=W.shape)\n",
    "            W = np.multiply(W, noise)\n",
    "            self.Ws[i] = W"
   ]
  },
  {
   "cell_type": "code",
   "execution_count": 20,
   "id": "1efe7a30",
   "metadata": {},
   "outputs": [
    {
     "data": {
      "text/plain": [
       "[array([[ 0.75199925, -0.12880516],\n",
       "        [ 0.24379904,  0.57679883],\n",
       "        [-0.62916955, -0.95961575],\n",
       "        [ 0.18466194,  0.55135709]]),\n",
       " array([[ 1.52069119, -0.05544439],\n",
       "        [ 0.65529023, -1.79995309],\n",
       "        [ 1.22749654, -1.28928801]]),\n",
       " array([[ 0.34015341],\n",
       "        [-1.24326436],\n",
       "        [-0.14630137]])]"
      ]
     },
     "execution_count": 20,
     "metadata": {},
     "output_type": "execute_result"
    }
   ],
   "source": [
    "nn = FFNN(3, [2, 2])\n",
    "nn.Ws"
   ]
  },
  {
   "cell_type": "code",
   "execution_count": 21,
   "id": "7a23fee0",
   "metadata": {},
   "outputs": [
    {
     "data": {
      "text/plain": [
       "array([[0.11235281],\n",
       "       [0.17501872]])"
      ]
     },
     "execution_count": 21,
     "metadata": {},
     "output_type": "execute_result"
    }
   ],
   "source": [
    "x = [[1, 2, 3], [-1, 2, 3]]\n",
    "y = nn.forward_pass(x, 'relu', 'sigmoid')\n",
    "y"
   ]
  },
  {
   "cell_type": "code",
   "execution_count": 22,
   "id": "6c711f38",
   "metadata": {},
   "outputs": [
    {
     "data": {
      "text/plain": [
       "array([[0.01043926],\n",
       "       [0.16631624]])"
      ]
     },
     "execution_count": 22,
     "metadata": {},
     "output_type": "execute_result"
    }
   ],
   "source": [
    "nn.mutate(scale=0.3)\n",
    "y = nn.forward_pass(x, 'relu', 'sigmoid')\n",
    "y"
   ]
  },
  {
   "cell_type": "code",
   "execution_count": 23,
   "id": "3f6125bd",
   "metadata": {},
   "outputs": [
    {
     "data": {
      "text/plain": [
       "array([[0.00478018],\n",
       "       [0.10258957]])"
      ]
     },
     "execution_count": 23,
     "metadata": {},
     "output_type": "execute_result"
    }
   ],
   "source": [
    "nn.mutate(scale=0.1)\n",
    "y = nn.forward_pass(x, 'relu', 'sigmoid')\n",
    "y"
   ]
  },
  {
   "cell_type": "code",
   "execution_count": 24,
   "id": "97b716a6",
   "metadata": {},
   "outputs": [
    {
     "data": {
      "text/plain": [
       "array([[0.00496172],\n",
       "       [0.10198647]])"
      ]
     },
     "execution_count": 24,
     "metadata": {},
     "output_type": "execute_result"
    }
   ],
   "source": [
    "nn.mutate(scale=0.01)\n",
    "y = nn.forward_pass(x, 'relu', 'sigmoid')\n",
    "y"
   ]
  },
  {
   "cell_type": "code",
   "execution_count": null,
   "id": "96a41d36",
   "metadata": {},
   "outputs": [],
   "source": []
  }
 ],
 "metadata": {
  "kernelspec": {
   "display_name": "Python 3 (ipykernel)",
   "language": "python",
   "name": "python3"
  },
  "language_info": {
   "codemirror_mode": {
    "name": "ipython",
    "version": 3
   },
   "file_extension": ".py",
   "mimetype": "text/x-python",
   "name": "python",
   "nbconvert_exporter": "python",
   "pygments_lexer": "ipython3",
   "version": "3.11.3"
  }
 },
 "nbformat": 4,
 "nbformat_minor": 5
}
