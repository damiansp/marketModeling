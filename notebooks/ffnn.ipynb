{
 "cells": [
  {
   "cell_type": "code",
   "execution_count": 1,
   "id": "375c9608",
   "metadata": {},
   "outputs": [],
   "source": [
    "import numpy as np"
   ]
  },
  {
   "cell_type": "code",
   "execution_count": 20,
   "id": "884289e5",
   "metadata": {},
   "outputs": [],
   "source": [
    "class FFNN:\n",
    "    def __init__(\n",
    "            self,\n",
    "            n_in,\n",
    "            hidden_nodes: list,\n",
    "            n_out: int = 1,\n",
    "            use_bias: bool = True,\n",
    "            Ws=None):\n",
    "        '''Params\n",
    "        - hidden_nodes: list with n nodes per layer\n",
    "        '''\n",
    "        self.n_in = n_in\n",
    "        self.hidden_nodes = np.array(hidden_nodes)\n",
    "        self.use_bias = use_bias\n",
    "        self.n_out = n_out\n",
    "        self.Ws = Ws if Ws is not None else self._init_weights()\n",
    "        \n",
    "    def get_state(self):\n",
    "        state = {\n",
    "            'n_in': self.n_in,\n",
    "            'hidden_nodes': self.hidden_nodes,\n",
    "            'n_out': self.n_out,\n",
    "            'use_bias': self.use_bias,\n",
    "            'Ws': self.Ws}\n",
    "        return state\n",
    "        \n",
    "    def _init_weights(self):\n",
    "        n_in = self.n_in\n",
    "        if self.use_bias:\n",
    "            n_in += 1\n",
    "        W1 = np.random.normal(size=(n_in, self.hidden_nodes[0]))\n",
    "        Ws = [W1]\n",
    "        if len(self.hidden_nodes) > 1:\n",
    "            for i, n_nodes in enumerate(self.hidden_nodes[1:], 1):\n",
    "                n_in = self.hidden_nodes[i - 1]\n",
    "                if self.use_bias:\n",
    "                    n_in += 1\n",
    "                W = np.random.normal(size=(n_in, n_nodes))\n",
    "                Ws.append(W)\n",
    "        # output\n",
    "        n_in = self.hidden_nodes[-1]\n",
    "        if self.use_bias:\n",
    "            n_in += 1\n",
    "        W = np.random.normal(size=(n_in, self.n_out))\n",
    "        Ws.append(W)\n",
    "        return Ws\n",
    "        \n",
    "    def forward_pass(self, X, activation, activation_out):\n",
    "        activation = {'relu': self._relu}[activation]\n",
    "        activation_out = {'sigmoid': self._sigmoid}[activation_out]\n",
    "        X = np.array(X)\n",
    "        if len(X.shape) == 1:\n",
    "            X = np.array([X])\n",
    "        for W in self.Ws[:-1]:\n",
    "            if self.use_bias:\n",
    "                X = self._append_bias(X)\n",
    "            X = X @ W\n",
    "            X = activation(X)\n",
    "        # output layer\n",
    "        if self.use_bias:\n",
    "            X = self._append_bias(X)\n",
    "        X = X @ self.Ws[-1]\n",
    "        X = activation_out(X)\n",
    "        return X\n",
    "            \n",
    "    def _append_bias(self, X):\n",
    "        X = self._append_col(X, np.ones, to_front=True)\n",
    "        return X\n",
    "    \n",
    "    @staticmethod\n",
    "    def _append_col(X, col_func, to_front=False, **kwargs):\n",
    "        n_rows = X.shape[0]\n",
    "        if col_func == np.random.normal:\n",
    "            new_col = col_func(size=(n_rows, 1), **kwargs)\n",
    "        else:\n",
    "            new_col = col_func(shape=(n_rows, 1), **kwargs)\n",
    "        if to_front:\n",
    "            X = np.concatenate([new_col, X], axis=1)\n",
    "        else:\n",
    "            X = np.concatenate([X, new_col], axis=1)\n",
    "        return X\n",
    "    \n",
    "    @staticmethod\n",
    "    def _relu(X):\n",
    "        return(X.clip(0, None))\n",
    "    \n",
    "    @staticmethod\n",
    "    def _sigmoid(X):\n",
    "        return 1 / (1 + np.exp(-X))\n",
    "    \n",
    "    def mutate(self, scale: float):\n",
    "        '''Randomly mutate weights\n",
    "        Weights will be multiplied by ~N(1, scale)\n",
    "        In early iterations, it can be large (say 0.5), but should\n",
    "        gradually diminish as models start to settle\n",
    "        Parameters:\n",
    "        - scale: standard deviations\n",
    "        '''\n",
    "        for i, W in enumerate(self.Ws):\n",
    "            noise = np.random.normal(loc=1, scale=scale, size=W.shape)\n",
    "            W = np.multiply(W, noise)\n",
    "            self.Ws[i] = W\n",
    "            \n",
    "    def add_input(self, scale=0.01):\n",
    "        self.n_in += 1\n",
    "        self.Ws[0] = self._append_row(self.Ws[0], np.random.normal, scale=scale)\n",
    "        \n",
    "    @staticmethod\n",
    "    def _append_row(X, row_func, **kwargs):\n",
    "        n_cols = X.shape[1]\n",
    "        new_row = row_func(size=(1, n_cols), **kwargs)\n",
    "        X = np.concatenate([X, new_row])\n",
    "        return X        \n",
    "    \n",
    "    def add_node(self, scale=0.01):\n",
    "        # add to the first layer that is < n_in\n",
    "        for i, W in enumerate(self.Ws):\n",
    "            n_out = W.shape[1]\n",
    "            if n_out < self.n_in:\n",
    "                try:\n",
    "                    print(f'Attempting to add node to W[{i}] ({n_out} -> {n_out + 1})')\n",
    "                    self.Ws[i + 1] = self._append_row(self.Ws[i + 1], np.random.normal, scale=scale)\n",
    "                    self.Ws[i] = self._append_col(W, np.random.normal, scale=scale)\n",
    "                    print('Success.')\n",
    "                except IndexError:\n",
    "                    print(f'Initializing first node in new layer ({i + 1})')\n",
    "                    if self.use_bias:\n",
    "                        n_out += 1\n",
    "                    #new_W = np.random.normal(size=(n_out, 1), scale=scale)\n",
    "                    new_W = np.ones((n_out, 1))\n",
    "                    new_W[0, 0] = 0.\n",
    "                    self.Ws.append(new_W)\n",
    "                return"
   ]
  },
  {
   "cell_type": "code",
   "execution_count": 21,
   "id": "34f89d40",
   "metadata": {},
   "outputs": [
    {
     "data": {
      "text/plain": [
       "[array([[-0.34495504, -0.83167971],\n",
       "        [-0.10801804,  0.04104169],\n",
       "        [-1.40613953,  0.69822816],\n",
       "        [ 0.70534989,  0.86141259]]),\n",
       " array([[ 0.98736757, -0.72805366],\n",
       "        [-0.61364689, -2.48442399],\n",
       "        [-1.53047817,  1.10544067]]),\n",
       " array([[-0.1683029 ],\n",
       "        [-1.45126332],\n",
       "        [ 1.0060313 ]])]"
      ]
     },
     "execution_count": 21,
     "metadata": {},
     "output_type": "execute_result"
    }
   ],
   "source": [
    "nn = FFNN(3, [2, 2])\n",
    "nn.Ws"
   ]
  },
  {
   "cell_type": "code",
   "execution_count": 22,
   "id": "499941a8",
   "metadata": {},
   "outputs": [
    {
     "data": {
      "text/plain": [
       "array([[0.93382207],\n",
       "       [0.9279524 ]])"
      ]
     },
     "execution_count": 22,
     "metadata": {},
     "output_type": "execute_result"
    }
   ],
   "source": [
    "x = [[1, 2, 3], [-1, 2, 3]]\n",
    "y = nn.forward_pass(x, 'relu', 'sigmoid')\n",
    "y"
   ]
  },
  {
   "cell_type": "code",
   "execution_count": 23,
   "id": "a36d9788",
   "metadata": {},
   "outputs": [
    {
     "name": "stdout",
     "output_type": "stream",
     "text": [
      "Attempting to add node to W[0] (2 -> 3)\n",
      "Success.\n"
     ]
    },
    {
     "data": {
      "text/plain": [
       "[array([[-3.44955043e-01, -8.31679713e-01, -1.63200003e-02],\n",
       "        [-1.08018039e-01,  4.10416884e-02,  1.43441885e-02],\n",
       "        [-1.40613953e+00,  6.98228163e-01, -2.28016877e-03],\n",
       "        [ 7.05349894e-01,  8.61412594e-01,  3.36761478e-04]]),\n",
       " array([[ 9.87367575e-01, -7.28053660e-01],\n",
       "        [-6.13646894e-01, -2.48442399e+00],\n",
       "        [-1.53047817e+00,  1.10544067e+00],\n",
       "        [-1.19828862e-03, -6.57918425e-03]]),\n",
       " array([[-0.1683029 ],\n",
       "        [-1.45126332],\n",
       "        [ 1.0060313 ]])]"
      ]
     },
     "execution_count": 23,
     "metadata": {},
     "output_type": "execute_result"
    }
   ],
   "source": [
    "nn.add_node()\n",
    "nn.Ws"
   ]
  },
  {
   "cell_type": "code",
   "execution_count": 24,
   "id": "9f70412a",
   "metadata": {},
   "outputs": [
    {
     "data": {
      "text/plain": [
       "array([[0.93382207],\n",
       "       [0.9279524 ]])"
      ]
     },
     "execution_count": 24,
     "metadata": {},
     "output_type": "execute_result"
    }
   ],
   "source": [
    "y = nn.forward_pass(x, 'relu', 'sigmoid')\n",
    "y"
   ]
  },
  {
   "cell_type": "code",
   "execution_count": 25,
   "id": "2e917fbc",
   "metadata": {},
   "outputs": [
    {
     "name": "stdout",
     "output_type": "stream",
     "text": [
      "Attempting to add node to W[1] (2 -> 3)\n",
      "Success.\n"
     ]
    },
    {
     "data": {
      "text/plain": [
       "[array([[-3.44955043e-01, -8.31679713e-01, -1.63200003e-02],\n",
       "        [-1.08018039e-01,  4.10416884e-02,  1.43441885e-02],\n",
       "        [-1.40613953e+00,  6.98228163e-01, -2.28016877e-03],\n",
       "        [ 7.05349894e-01,  8.61412594e-01,  3.36761478e-04]]),\n",
       " array([[ 9.87367575e-01, -7.28053660e-01, -2.33758875e-03],\n",
       "        [-6.13646894e-01, -2.48442399e+00,  9.54027664e-03],\n",
       "        [-1.53047817e+00,  1.10544067e+00,  1.15573252e-03],\n",
       "        [-1.19828862e-03, -6.57918425e-03,  4.15641075e-03]]),\n",
       " array([[-0.1683029 ],\n",
       "        [-1.45126332],\n",
       "        [ 1.0060313 ],\n",
       "        [-0.00478485]])]"
      ]
     },
     "execution_count": 25,
     "metadata": {},
     "output_type": "execute_result"
    }
   ],
   "source": [
    "nn.add_node()\n",
    "nn.Ws"
   ]
  },
  {
   "cell_type": "code",
   "execution_count": 26,
   "id": "8817e79d",
   "metadata": {},
   "outputs": [
    {
     "data": {
      "text/plain": [
       "array([[0.93382167],\n",
       "       [0.927952  ]])"
      ]
     },
     "execution_count": 26,
     "metadata": {},
     "output_type": "execute_result"
    }
   ],
   "source": [
    "y = nn.forward_pass(x, 'relu', 'sigmoid')\n",
    "y"
   ]
  },
  {
   "cell_type": "code",
   "execution_count": 27,
   "id": "59f9cb5d",
   "metadata": {},
   "outputs": [
    {
     "name": "stdout",
     "output_type": "stream",
     "text": [
      "Attempting to add node to W[2] (1 -> 2)\n",
      "Initializing first node in new layer (3)\n"
     ]
    },
    {
     "data": {
      "text/plain": [
       "[array([[-3.44955043e-01, -8.31679713e-01, -1.63200003e-02],\n",
       "        [-1.08018039e-01,  4.10416884e-02,  1.43441885e-02],\n",
       "        [-1.40613953e+00,  6.98228163e-01, -2.28016877e-03],\n",
       "        [ 7.05349894e-01,  8.61412594e-01,  3.36761478e-04]]),\n",
       " array([[ 9.87367575e-01, -7.28053660e-01, -2.33758875e-03],\n",
       "        [-6.13646894e-01, -2.48442399e+00,  9.54027664e-03],\n",
       "        [-1.53047817e+00,  1.10544067e+00,  1.15573252e-03],\n",
       "        [-1.19828862e-03, -6.57918425e-03,  4.15641075e-03]]),\n",
       " array([[-0.1683029 ],\n",
       "        [-1.45126332],\n",
       "        [ 1.0060313 ],\n",
       "        [-0.00478485]]),\n",
       " array([[0.],\n",
       "        [1.]])]"
      ]
     },
     "execution_count": 27,
     "metadata": {},
     "output_type": "execute_result"
    }
   ],
   "source": [
    "nn.add_node()\n",
    "nn.Ws"
   ]
  },
  {
   "cell_type": "code",
   "execution_count": 28,
   "id": "ca9c7c90",
   "metadata": {},
   "outputs": [
    {
     "data": {
      "text/plain": [
       "array([[0.93382167],\n",
       "       [0.927952  ]])"
      ]
     },
     "execution_count": 28,
     "metadata": {},
     "output_type": "execute_result"
    }
   ],
   "source": [
    "y = nn.forward_pass(x, 'relu', 'sigmoid')\n",
    "y"
   ]
  },
  {
   "cell_type": "code",
   "execution_count": 29,
   "id": "f00c05be",
   "metadata": {},
   "outputs": [
    {
     "name": "stdout",
     "output_type": "stream",
     "text": [
      "Attempting to add node to W[2] (1 -> 2)\n",
      "Success.\n"
     ]
    },
    {
     "data": {
      "text/plain": [
       "[array([[-3.44955043e-01, -8.31679713e-01, -1.63200003e-02],\n",
       "        [-1.08018039e-01,  4.10416884e-02,  1.43441885e-02],\n",
       "        [-1.40613953e+00,  6.98228163e-01, -2.28016877e-03],\n",
       "        [ 7.05349894e-01,  8.61412594e-01,  3.36761478e-04]]),\n",
       " array([[ 9.87367575e-01, -7.28053660e-01, -2.33758875e-03],\n",
       "        [-6.13646894e-01, -2.48442399e+00,  9.54027664e-03],\n",
       "        [-1.53047817e+00,  1.10544067e+00,  1.15573252e-03],\n",
       "        [-1.19828862e-03, -6.57918425e-03,  4.15641075e-03]]),\n",
       " array([[-1.68302900e-01, -2.11835213e-02],\n",
       "        [-1.45126332e+00, -5.69087588e-03],\n",
       "        [ 1.00603130e+00, -4.83338167e-03],\n",
       "        [-4.78485142e-03, -8.81977099e-04]]),\n",
       " array([[0.        ],\n",
       "        [1.        ],\n",
       "        [0.00118664]])]"
      ]
     },
     "execution_count": 29,
     "metadata": {},
     "output_type": "execute_result"
    }
   ],
   "source": [
    "nn.add_node()\n",
    "nn.Ws"
   ]
  },
  {
   "cell_type": "code",
   "execution_count": 30,
   "id": "0bf2f03d",
   "metadata": {},
   "outputs": [
    {
     "data": {
      "text/plain": [
       "array([[0.93382167],\n",
       "       [0.927952  ]])"
      ]
     },
     "execution_count": 30,
     "metadata": {},
     "output_type": "execute_result"
    }
   ],
   "source": [
    "y = nn.forward_pass(x, 'relu', 'sigmoid')\n",
    "y"
   ]
  },
  {
   "cell_type": "code",
   "execution_count": 31,
   "id": "fbb73fee",
   "metadata": {},
   "outputs": [
    {
     "data": {
      "text/plain": [
       "array([[0.95833738],\n",
       "       [0.95480663]])"
      ]
     },
     "execution_count": 31,
     "metadata": {},
     "output_type": "execute_result"
    }
   ],
   "source": [
    "nn.mutate(scale=0.3)\n",
    "y = nn.forward_pass(x, 'relu', 'sigmoid')\n",
    "y"
   ]
  },
  {
   "cell_type": "code",
   "execution_count": 32,
   "id": "fcf073bd",
   "metadata": {},
   "outputs": [
    {
     "data": {
      "text/plain": [
       "array([[0.92474702],\n",
       "       [0.91934798]])"
      ]
     },
     "execution_count": 32,
     "metadata": {},
     "output_type": "execute_result"
    }
   ],
   "source": [
    "nn.mutate(scale=0.1)\n",
    "y = nn.forward_pass(x, 'relu', 'sigmoid')\n",
    "y"
   ]
  },
  {
   "cell_type": "code",
   "execution_count": 33,
   "id": "c68dd2aa",
   "metadata": {},
   "outputs": [
    {
     "data": {
      "text/plain": [
       "array([[0.92704201],\n",
       "       [0.92195121]])"
      ]
     },
     "execution_count": 33,
     "metadata": {},
     "output_type": "execute_result"
    }
   ],
   "source": [
    "nn.mutate(scale=0.01)\n",
    "y = nn.forward_pass(x, 'relu', 'sigmoid')\n",
    "y"
   ]
  },
  {
   "cell_type": "code",
   "execution_count": 34,
   "id": "a6eeaa33",
   "metadata": {},
   "outputs": [
    {
     "data": {
      "text/plain": [
       "[array([[-4.36480427e-01, -1.34598217e+00, -9.58369830e-03],\n",
       "        [-6.57209079e-02,  1.43067879e-02,  1.67679944e-02],\n",
       "        [-1.37095057e+00,  8.13573908e-01, -3.08791483e-03],\n",
       "        [ 6.04613998e-01,  5.65159829e-01,  2.52687220e-04],\n",
       "        [ 2.38981148e-02,  5.96990796e-03, -1.17718723e-02]]),\n",
       " array([[ 1.57962352e+00, -9.64489067e-01, -2.78299293e-03],\n",
       "        [-6.89882315e-01, -2.80201054e+00,  7.88437376e-03],\n",
       "        [-9.05896206e-01,  1.12625686e+00,  1.23598886e-03],\n",
       "        [-5.39710066e-04, -4.37407241e-03,  4.10279230e-03]]),\n",
       " array([[-2.13169687e-01, -3.90672852e-02],\n",
       "        [-1.21189603e+00, -6.39912406e-03],\n",
       "        [ 1.37349601e+00, -2.31180189e-03],\n",
       "        [-4.02652205e-03, -7.96666087e-04]]),\n",
       " array([[0.00000000e+00],\n",
       "        [1.64866872e+00],\n",
       "        [1.42233355e-03]])]"
      ]
     },
     "execution_count": 34,
     "metadata": {},
     "output_type": "execute_result"
    }
   ],
   "source": [
    "nn.add_input()\n",
    "nn.Ws"
   ]
  },
  {
   "cell_type": "code",
   "execution_count": 35,
   "id": "fb489c16",
   "metadata": {},
   "outputs": [
    {
     "data": {
      "text/plain": [
       "array([[0.93105657],\n",
       "       [0.92725609]])"
      ]
     },
     "execution_count": 35,
     "metadata": {},
     "output_type": "execute_result"
    }
   ],
   "source": [
    "x = [[1, 2, 3, 4], [-1, 2, 3, 5]]\n",
    "y = nn.forward_pass(x, 'relu', 'sigmoid')\n",
    "y"
   ]
  },
  {
   "cell_type": "code",
   "execution_count": 37,
   "id": "5baba446",
   "metadata": {},
   "outputs": [
    {
     "data": {
      "text/plain": [
       "{'n_in': 4,\n",
       " 'hidden_nodes': array([2, 2]),\n",
       " 'n_out': 1,\n",
       " 'use_bias': True,\n",
       " 'Ws': [array([[-4.36480427e-01, -1.34598217e+00, -9.58369830e-03],\n",
       "         [-6.57209079e-02,  1.43067879e-02,  1.67679944e-02],\n",
       "         [-1.37095057e+00,  8.13573908e-01, -3.08791483e-03],\n",
       "         [ 6.04613998e-01,  5.65159829e-01,  2.52687220e-04],\n",
       "         [ 2.38981148e-02,  5.96990796e-03, -1.17718723e-02]]),\n",
       "  array([[ 1.57962352e+00, -9.64489067e-01, -2.78299293e-03],\n",
       "         [-6.89882315e-01, -2.80201054e+00,  7.88437376e-03],\n",
       "         [-9.05896206e-01,  1.12625686e+00,  1.23598886e-03],\n",
       "         [-5.39710066e-04, -4.37407241e-03,  4.10279230e-03]]),\n",
       "  array([[-2.13169687e-01, -3.90672852e-02],\n",
       "         [-1.21189603e+00, -6.39912406e-03],\n",
       "         [ 1.37349601e+00, -2.31180189e-03],\n",
       "         [-4.02652205e-03, -7.96666087e-04]]),\n",
       "  array([[0.00000000e+00],\n",
       "         [1.64866872e+00],\n",
       "         [1.42233355e-03]])]}"
      ]
     },
     "execution_count": 37,
     "metadata": {},
     "output_type": "execute_result"
    }
   ],
   "source": [
    "state = nn.get_state()\n",
    "state"
   ]
  },
  {
   "cell_type": "code",
   "execution_count": 39,
   "id": "a4ebd7da",
   "metadata": {},
   "outputs": [
    {
     "data": {
      "text/plain": [
       "array([[0.93105657],\n",
       "       [0.92725609]])"
      ]
     },
     "execution_count": 39,
     "metadata": {},
     "output_type": "execute_result"
    }
   ],
   "source": [
    "new_nn = FFNN(**state)\n",
    "y = new_nn.forward_pass(x, 'relu', 'sigmoid')\n",
    "y"
   ]
  },
  {
   "cell_type": "code",
   "execution_count": 40,
   "id": "0a9f700b",
   "metadata": {},
   "outputs": [],
   "source": [
    "import pandas as pd"
   ]
  },
  {
   "cell_type": "code",
   "execution_count": 43,
   "id": "86510310",
   "metadata": {},
   "outputs": [
    {
     "data": {
      "text/html": [
       "<div>\n",
       "<style scoped>\n",
       "    .dataframe tbody tr th:only-of-type {\n",
       "        vertical-align: middle;\n",
       "    }\n",
       "\n",
       "    .dataframe tbody tr th {\n",
       "        vertical-align: top;\n",
       "    }\n",
       "\n",
       "    .dataframe thead th {\n",
       "        text-align: right;\n",
       "    }\n",
       "</style>\n",
       "<table border=\"1\" class=\"dataframe\">\n",
       "  <thead>\n",
       "    <tr style=\"text-align: right;\">\n",
       "      <th></th>\n",
       "      <th>stock</th>\n",
       "      <th>price</th>\n",
       "      <th>direction</th>\n",
       "      <th>RSI</th>\n",
       "      <th>RSIRev</th>\n",
       "      <th>fair_value_mult</th>\n",
       "      <th>geomean</th>\n",
       "      <th>sharpe</th>\n",
       "      <th>weighted_sharpe</th>\n",
       "    </tr>\n",
       "  </thead>\n",
       "  <tbody>\n",
       "    <tr>\n",
       "      <th>0</th>\n",
       "      <td>AAON</td>\n",
       "      <td>91.150002</td>\n",
       "      <td>1</td>\n",
       "      <td>0.791933</td>\n",
       "      <td>0.208067</td>\n",
       "      <td>0.888403</td>\n",
       "      <td>0.985380</td>\n",
       "      <td>0.781409</td>\n",
       "      <td>0.899917</td>\n",
       "    </tr>\n",
       "    <tr>\n",
       "      <th>1</th>\n",
       "      <td>AAPL</td>\n",
       "      <td>169.300003</td>\n",
       "      <td>1</td>\n",
       "      <td>0.288738</td>\n",
       "      <td>0.711262</td>\n",
       "      <td>0.598491</td>\n",
       "      <td>0.097327</td>\n",
       "      <td>0.917493</td>\n",
       "      <td>1.257053</td>\n",
       "    </tr>\n",
       "    <tr>\n",
       "      <th>2</th>\n",
       "      <td>ABBV</td>\n",
       "      <td>159.619995</td>\n",
       "      <td>0</td>\n",
       "      <td>0.041134</td>\n",
       "      <td>0.958866</td>\n",
       "      <td>0.620334</td>\n",
       "      <td>0.355890</td>\n",
       "      <td>0.693304</td>\n",
       "      <td>0.724439</td>\n",
       "    </tr>\n",
       "    <tr>\n",
       "      <th>3</th>\n",
       "      <td>ABNB</td>\n",
       "      <td>164.229996</td>\n",
       "      <td>0</td>\n",
       "      <td>0.677844</td>\n",
       "      <td>0.322156</td>\n",
       "      <td>0.638398</td>\n",
       "      <td>0.928276</td>\n",
       "      <td>0.329321</td>\n",
       "      <td>0.588862</td>\n",
       "    </tr>\n",
       "    <tr>\n",
       "      <th>4</th>\n",
       "      <td>ACN</td>\n",
       "      <td>308.010010</td>\n",
       "      <td>0</td>\n",
       "      <td>0.005192</td>\n",
       "      <td>0.994808</td>\n",
       "      <td>0.382446</td>\n",
       "      <td>0.060568</td>\n",
       "      <td>0.741023</td>\n",
       "      <td>2.012313</td>\n",
       "    </tr>\n",
       "  </tbody>\n",
       "</table>\n",
       "</div>"
      ],
      "text/plain": [
       "  stock       price  direction       RSI    RSIRev  fair_value_mult   geomean  \\\n",
       "0  AAON   91.150002          1  0.791933  0.208067         0.888403  0.985380   \n",
       "1  AAPL  169.300003          1  0.288738  0.711262         0.598491  0.097327   \n",
       "2  ABBV  159.619995          0  0.041134  0.958866         0.620334  0.355890   \n",
       "3  ABNB  164.229996          0  0.677844  0.322156         0.638398  0.928276   \n",
       "4   ACN  308.010010          0  0.005192  0.994808         0.382446  0.060568   \n",
       "\n",
       "     sharpe  weighted_sharpe  \n",
       "0  0.781409         0.899917  \n",
       "1  0.917493         1.257053  \n",
       "2  0.693304         0.724439  \n",
       "3  0.329321         0.588862  \n",
       "4  0.741023         2.012313  "
      ]
     },
     "execution_count": 43,
     "metadata": {},
     "output_type": "execute_result"
    }
   ],
   "source": [
    "metrics = pd.read_csv('../data/stock_metrics.csv')\n",
    "metrics.head()"
   ]
  },
  {
   "cell_type": "code",
   "execution_count": 47,
   "id": "a337a9d2",
   "metadata": {},
   "outputs": [
    {
     "data": {
      "text/plain": [
       "(221, 6)"
      ]
     },
     "execution_count": 47,
     "metadata": {},
     "output_type": "execute_result"
    }
   ],
   "source": [
    "x = metrics[['direction', 'RSI', 'fair_value_mult', 'geomean', 'sharpe', 'weighted_sharpe']]\n",
    "x.shape"
   ]
  },
  {
   "cell_type": "code",
   "execution_count": 50,
   "id": "134cae22",
   "metadata": {},
   "outputs": [
    {
     "data": {
      "text/plain": [
       "(221, 6)"
      ]
     },
     "execution_count": 50,
     "metadata": {},
     "output_type": "execute_result"
    }
   ],
   "source": [
    "x.values.shape"
   ]
  },
  {
   "cell_type": "code",
   "execution_count": 51,
   "id": "19fd59fa",
   "metadata": {},
   "outputs": [],
   "source": [
    "test_nn =  FFNN(6, [6])"
   ]
  },
  {
   "cell_type": "code",
   "execution_count": 54,
   "id": "72f76b0c",
   "metadata": {},
   "outputs": [
    {
     "data": {
      "text/plain": [
       "array([[0.35852775],\n",
       "       [0.36436748],\n",
       "       [0.410528  ],\n",
       "       [0.392903  ],\n",
       "       [0.38822692],\n",
       "       [0.36978286],\n",
       "       [0.39824137],\n",
       "       [0.42147935],\n",
       "       [0.43325314],\n",
       "       [0.3433566 ],\n",
       "       [0.40930727],\n",
       "       [0.40999065],\n",
       "       [0.36186192],\n",
       "       [0.38314643],\n",
       "       [0.41457799],\n",
       "       [0.36850939],\n",
       "       [0.33684209],\n",
       "       [0.39248488],\n",
       "       [0.35322054],\n",
       "       [0.38591879],\n",
       "       [0.35373233],\n",
       "       [0.405933  ],\n",
       "       [0.35829199],\n",
       "       [0.41774094],\n",
       "       [0.36555753],\n",
       "       [0.42912208],\n",
       "       [0.41047905],\n",
       "       [0.37861955],\n",
       "       [0.39332644],\n",
       "       [0.39629302],\n",
       "       [0.47250278],\n",
       "       [0.41027096],\n",
       "       [0.38218519],\n",
       "       [0.31885651],\n",
       "       [0.40035127],\n",
       "       [0.36369478],\n",
       "       [0.37459269],\n",
       "       [0.36062826],\n",
       "       [0.41268142],\n",
       "       [0.3297141 ],\n",
       "       [0.37413017],\n",
       "       [0.40164925],\n",
       "       [0.4152147 ],\n",
       "       [0.38459312],\n",
       "       [0.37336816],\n",
       "       [0.39127472],\n",
       "       [0.3981432 ],\n",
       "       [0.36633123],\n",
       "       [0.34689902],\n",
       "       [0.34102824],\n",
       "       [0.40995519],\n",
       "       [0.38625305],\n",
       "       [0.42752858],\n",
       "       [0.43853499],\n",
       "       [0.40345044],\n",
       "       [0.35719529],\n",
       "       [0.42010734],\n",
       "       [0.42514454],\n",
       "       [0.37717288],\n",
       "       [0.34322555],\n",
       "       [0.4134362 ],\n",
       "       [0.40823224],\n",
       "       [0.42080726],\n",
       "       [0.35019352],\n",
       "       [0.38047877],\n",
       "       [0.42179183],\n",
       "       [0.35810147],\n",
       "       [0.39245249],\n",
       "       [0.4051617 ],\n",
       "       [0.41858326],\n",
       "       [0.37886866],\n",
       "       [0.4170984 ],\n",
       "       [0.39072726],\n",
       "       [0.34978114],\n",
       "       [0.41672073],\n",
       "       [0.34969821],\n",
       "       [0.14783439],\n",
       "       [0.38344266],\n",
       "       [0.39247188],\n",
       "       [0.39463036],\n",
       "       [0.41728191],\n",
       "       [0.36283802],\n",
       "       [0.31570206],\n",
       "       [0.40292838],\n",
       "       [0.3383272 ],\n",
       "       [0.4089735 ],\n",
       "       [0.40762559],\n",
       "       [0.36710278],\n",
       "       [0.36158426],\n",
       "       [0.39594019],\n",
       "       [0.35404738],\n",
       "       [0.3809402 ],\n",
       "       [0.37803583],\n",
       "       [0.38873916],\n",
       "       [0.39706262],\n",
       "       [0.36072189],\n",
       "       [0.43830271],\n",
       "       [0.40668278],\n",
       "       [0.39696234],\n",
       "       [0.38199712],\n",
       "       [0.43324175],\n",
       "       [0.33765122],\n",
       "       [0.40983497],\n",
       "       [0.35489293],\n",
       "       [0.34006238],\n",
       "       [0.39936428],\n",
       "       [0.40093645],\n",
       "       [0.37079121],\n",
       "       [0.37139787],\n",
       "       [0.36792033],\n",
       "       [0.37573579],\n",
       "       [0.3721978 ],\n",
       "       [0.3760605 ],\n",
       "       [0.42304203],\n",
       "       [0.37024021],\n",
       "       [0.33347629],\n",
       "       [0.32504302],\n",
       "       [0.42260127],\n",
       "       [0.40210213],\n",
       "       [0.41415946],\n",
       "       [0.39638922],\n",
       "       [0.38091939],\n",
       "       [0.41919171],\n",
       "       [0.42265339],\n",
       "       [0.37424125],\n",
       "       [0.35713784],\n",
       "       [0.40075926],\n",
       "       [0.38205994],\n",
       "       [0.42353561],\n",
       "       [0.40093191],\n",
       "       [0.36109236],\n",
       "       [0.39502932],\n",
       "       [0.35623561],\n",
       "       [0.40452078],\n",
       "       [0.40202907],\n",
       "       [0.43419428],\n",
       "       [0.36938509],\n",
       "       [0.39273951],\n",
       "       [0.41659661],\n",
       "       [0.41518606],\n",
       "       [0.36283198],\n",
       "       [0.37035673],\n",
       "       [0.38070467],\n",
       "       [0.37826507],\n",
       "       [0.35194798],\n",
       "       [0.42395999],\n",
       "       [0.41253637],\n",
       "       [0.42453449],\n",
       "       [0.37837238],\n",
       "       [0.40998346],\n",
       "       [0.34680843],\n",
       "       [0.35883164],\n",
       "       [0.40909905],\n",
       "       [0.40641487],\n",
       "       [0.35343424],\n",
       "       [0.35490641],\n",
       "       [0.37975706],\n",
       "       [0.37236529],\n",
       "       [0.39556204],\n",
       "       [0.37224494],\n",
       "       [0.38084723],\n",
       "       [0.45991667],\n",
       "       [0.36540802],\n",
       "       [0.36577523],\n",
       "       [0.33759613],\n",
       "       [0.34779285],\n",
       "       [0.37339021],\n",
       "       [0.39961323],\n",
       "       [0.37802236],\n",
       "       [0.32950576],\n",
       "       [0.42801241],\n",
       "       [0.11584723],\n",
       "       [0.35060757],\n",
       "       [0.39171331],\n",
       "       [0.39325142],\n",
       "       [0.38906648],\n",
       "       [0.42148735],\n",
       "       [0.33486639],\n",
       "       [0.4003402 ],\n",
       "       [0.35401395],\n",
       "       [0.3477142 ],\n",
       "       [0.39651548],\n",
       "       [0.36165281],\n",
       "       [0.40111449],\n",
       "       [0.41049955],\n",
       "       [0.35300236],\n",
       "       [0.33702463],\n",
       "       [0.29420624],\n",
       "       [0.3602341 ],\n",
       "       [0.39208986],\n",
       "       [0.37886334],\n",
       "       [0.39817893],\n",
       "       [0.37889592],\n",
       "       [0.3933075 ],\n",
       "       [0.34220113],\n",
       "       [0.42006912],\n",
       "       [0.4211456 ],\n",
       "       [0.39128273],\n",
       "       [0.34946201],\n",
       "       [0.42257193],\n",
       "       [0.4064649 ],\n",
       "       [0.32593843],\n",
       "       [0.35763146],\n",
       "       [0.36770024],\n",
       "       [0.37575749],\n",
       "       [0.37711906],\n",
       "       [0.35888527],\n",
       "       [0.31187701],\n",
       "       [0.43728147],\n",
       "       [0.42527301],\n",
       "       [0.36330136],\n",
       "       [0.37176298],\n",
       "       [0.41150271],\n",
       "       [0.41318526],\n",
       "       [0.44949681],\n",
       "       [0.39559846],\n",
       "       [0.37065662],\n",
       "       [0.34867482],\n",
       "       [0.42478732],\n",
       "       [0.3738064 ],\n",
       "       [0.35151402]])"
      ]
     },
     "execution_count": 54,
     "metadata": {},
     "output_type": "execute_result"
    }
   ],
   "source": [
    "out = test_nn.forward_pass(x, 'relu', 'sigmoid')\n",
    "out"
   ]
  },
  {
   "cell_type": "code",
   "execution_count": 61,
   "id": "9b4bcccb",
   "metadata": {},
   "outputs": [
    {
     "data": {
      "text/plain": [
       "(221,)"
      ]
     },
     "execution_count": 61,
     "metadata": {},
     "output_type": "execute_result"
    }
   ],
   "source": [
    "out.squeeze().shape"
   ]
  },
  {
   "cell_type": "code",
   "execution_count": 62,
   "id": "96a5ec19",
   "metadata": {},
   "outputs": [
    {
     "data": {
      "text/html": [
       "<div>\n",
       "<style scoped>\n",
       "    .dataframe tbody tr th:only-of-type {\n",
       "        vertical-align: middle;\n",
       "    }\n",
       "\n",
       "    .dataframe tbody tr th {\n",
       "        vertical-align: top;\n",
       "    }\n",
       "\n",
       "    .dataframe thead th {\n",
       "        text-align: right;\n",
       "    }\n",
       "</style>\n",
       "<table border=\"1\" class=\"dataframe\">\n",
       "  <thead>\n",
       "    <tr style=\"text-align: right;\">\n",
       "      <th></th>\n",
       "      <th>stock</th>\n",
       "      <th>value</th>\n",
       "    </tr>\n",
       "  </thead>\n",
       "  <tbody>\n",
       "    <tr>\n",
       "      <th>0</th>\n",
       "      <td>AAON</td>\n",
       "      <td>0.358528</td>\n",
       "    </tr>\n",
       "    <tr>\n",
       "      <th>1</th>\n",
       "      <td>AAPL</td>\n",
       "      <td>0.364367</td>\n",
       "    </tr>\n",
       "    <tr>\n",
       "      <th>2</th>\n",
       "      <td>ABBV</td>\n",
       "      <td>0.410528</td>\n",
       "    </tr>\n",
       "    <tr>\n",
       "      <th>3</th>\n",
       "      <td>ABNB</td>\n",
       "      <td>0.392903</td>\n",
       "    </tr>\n",
       "    <tr>\n",
       "      <th>4</th>\n",
       "      <td>ACN</td>\n",
       "      <td>0.388227</td>\n",
       "    </tr>\n",
       "    <tr>\n",
       "      <th>...</th>\n",
       "      <td>...</td>\n",
       "      <td>...</td>\n",
       "    </tr>\n",
       "    <tr>\n",
       "      <th>216</th>\n",
       "      <td>WMT</td>\n",
       "      <td>0.370657</td>\n",
       "    </tr>\n",
       "    <tr>\n",
       "      <th>217</th>\n",
       "      <td>XPEV</td>\n",
       "      <td>0.348675</td>\n",
       "    </tr>\n",
       "    <tr>\n",
       "      <th>218</th>\n",
       "      <td>YTRA</td>\n",
       "      <td>0.424787</td>\n",
       "    </tr>\n",
       "    <tr>\n",
       "      <th>219</th>\n",
       "      <td>ZBRA</td>\n",
       "      <td>0.373806</td>\n",
       "    </tr>\n",
       "    <tr>\n",
       "      <th>220</th>\n",
       "      <td>ZM</td>\n",
       "      <td>0.351514</td>\n",
       "    </tr>\n",
       "  </tbody>\n",
       "</table>\n",
       "<p>221 rows × 2 columns</p>\n",
       "</div>"
      ],
      "text/plain": [
       "    stock     value\n",
       "0    AAON  0.358528\n",
       "1    AAPL  0.364367\n",
       "2    ABBV  0.410528\n",
       "3    ABNB  0.392903\n",
       "4     ACN  0.388227\n",
       "..    ...       ...\n",
       "216   WMT  0.370657\n",
       "217  XPEV  0.348675\n",
       "218  YTRA  0.424787\n",
       "219  ZBRA  0.373806\n",
       "220    ZM  0.351514\n",
       "\n",
       "[221 rows x 2 columns]"
      ]
     },
     "execution_count": 62,
     "metadata": {},
     "output_type": "execute_result"
    }
   ],
   "source": [
    "pd.DataFrame({'stock': metrics.stock, 'value': out.squeeze()})"
   ]
  },
  {
   "cell_type": "code",
   "execution_count": null,
   "id": "3982efd0",
   "metadata": {},
   "outputs": [],
   "source": []
  }
 ],
 "metadata": {
  "kernelspec": {
   "display_name": "Python 3 (ipykernel)",
   "language": "python",
   "name": "python3"
  },
  "language_info": {
   "codemirror_mode": {
    "name": "ipython",
    "version": 3
   },
   "file_extension": ".py",
   "mimetype": "text/x-python",
   "name": "python",
   "nbconvert_exporter": "python",
   "pygments_lexer": "ipython3",
   "version": "3.11.3"
  }
 },
 "nbformat": 4,
 "nbformat_minor": 5
}
