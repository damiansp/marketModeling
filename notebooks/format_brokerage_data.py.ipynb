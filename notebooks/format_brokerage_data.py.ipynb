{
 "cells": [
  {
   "cell_type": "code",
   "execution_count": 1,
   "id": "d801eb40",
   "metadata": {},
   "outputs": [],
   "source": [
    "DL = '/Users/damiansp/Downloads'"
   ]
  },
  {
   "cell_type": "code",
   "execution_count": 2,
   "id": "ff43e5fb",
   "metadata": {},
   "outputs": [],
   "source": [
    "!rm -rf $DL/*"
   ]
  },
  {
   "cell_type": "code",
   "execution_count": 3,
   "id": "435325a5",
   "metadata": {},
   "outputs": [],
   "source": [
    "from datetime import datetime\n",
    "import os\n",
    "\n",
    "import numpy as np\n",
    "import pandas as pd\n",
    "import xlrd"
   ]
  },
  {
   "cell_type": "code",
   "execution_count": 4,
   "id": "dc918d1a",
   "metadata": {},
   "outputs": [],
   "source": [
    "SYMBOLS = [\n",
    "    'AAPL', 'ABMD', 'ABNB', 'ADBE', 'ADYEY', 'AMD', 'AMZN', 'ANET',\n",
    "    'ASML', 'AXON', 'BROS', 'BYND', 'CHWY', 'DDOG', 'DOCS', 'DOCU',\n",
    "    'DUOL', 'EDIT', 'ETSY', 'FLGT', 'GH', 'GMED', 'GOOG', 'INTG',\n",
    "    'ISRG', 'JD', 'LSPD', 'LULU', 'MDB', 'MELI', 'MNST', 'MSFT', 'MTCH',\n",
    "    'NVCR', 'NVDA', 'OKTA', 'OPEN', 'PANW', 'PAYC', 'PINS', 'QDEL',\n",
    "    'RBLX', 'RDFN', 'RGEN', 'RIVN', 'ROKU', 'RVLV', 'SE', 'SHOP',\n",
    "    'SNOW', 'TASK', 'TDOC', 'TEAM', 'TREX', 'TTD', 'TTWO', 'TWLO',\n",
    "    'TWTR', 'TYL', 'UPST', 'VEEV', 'VLD', 'XPEV', 'ZEN', 'ZM']"
   ]
  },
  {
   "cell_type": "code",
   "execution_count": 5,
   "id": "3898dfe3",
   "metadata": {},
   "outputs": [],
   "source": [
    "!ls $DL"
   ]
  },
  {
   "cell_type": "code",
   "execution_count": 6,
   "id": "be6da83b",
   "metadata": {},
   "outputs": [],
   "source": [
    "#!head -5 $DL/Positions.csv"
   ]
  },
  {
   "cell_type": "code",
   "execution_count": 7,
   "id": "0eac6b5a",
   "metadata": {},
   "outputs": [],
   "source": [
    "def check_symbols(df):\n",
    "    all_present = True\n",
    "    for symbol in df.index.unique():\n",
    "        if symbol not in SYMBOLS:\n",
    "            print(f'{symbol} not in SYMBOLS')\n",
    "            all_present = False\n",
    "    if all_present:\n",
    "        print('All clear')"
   ]
  },
  {
   "cell_type": "code",
   "execution_count": 8,
   "id": "afdbcabf",
   "metadata": {},
   "outputs": [],
   "source": [
    "def convert_value(s):\n",
    "    return round(float(s.replace('$', '').replace(',', '')))"
   ]
  },
  {
   "cell_type": "code",
   "execution_count": 9,
   "id": "34cbfb7d",
   "metadata": {},
   "outputs": [
    {
     "data": {
      "text/html": [
       "<div>\n",
       "<style scoped>\n",
       "    .dataframe tbody tr th:only-of-type {\n",
       "        vertical-align: middle;\n",
       "    }\n",
       "\n",
       "    .dataframe tbody tr th {\n",
       "        vertical-align: top;\n",
       "    }\n",
       "\n",
       "    .dataframe thead th {\n",
       "        text-align: right;\n",
       "    }\n",
       "</style>\n",
       "<table border=\"1\" class=\"dataframe\">\n",
       "  <thead>\n",
       "    <tr style=\"text-align: right;\">\n",
       "      <th></th>\n",
       "    </tr>\n",
       "  </thead>\n",
       "  <tbody>\n",
       "    <tr>\n",
       "      <th>AAPL</th>\n",
       "    </tr>\n",
       "    <tr>\n",
       "      <th>ABMD</th>\n",
       "    </tr>\n",
       "    <tr>\n",
       "      <th>ABNB</th>\n",
       "    </tr>\n",
       "    <tr>\n",
       "      <th>ADBE</th>\n",
       "    </tr>\n",
       "    <tr>\n",
       "      <th>ADYEY</th>\n",
       "    </tr>\n",
       "  </tbody>\n",
       "</table>\n",
       "</div>"
      ],
      "text/plain": [
       "Empty DataFrame\n",
       "Columns: []\n",
       "Index: [AAPL, ABMD, ABNB, ADBE, ADYEY]"
      ]
     },
     "execution_count": 9,
     "metadata": {},
     "output_type": "execute_result"
    }
   ],
   "source": [
    "binder = pd.DataFrame(index=SYMBOLS)\n",
    "binder.head()"
   ]
  },
  {
   "cell_type": "markdown",
   "id": "572fb5b0",
   "metadata": {},
   "source": [
    "### E*Trade"
   ]
  },
  {
   "cell_type": "code",
   "execution_count": 16,
   "id": "3e3857c1",
   "metadata": {},
   "outputs": [],
   "source": [
    "TODAY = datetime.now().date()\n",
    "TODAY\n",
    "DONGMEI = False"
   ]
  },
  {
   "cell_type": "code",
   "execution_count": 17,
   "id": "9181cd9e",
   "metadata": {},
   "outputs": [
    {
     "data": {
      "text/html": [
       "<div>\n",
       "<style scoped>\n",
       "    .dataframe tbody tr th:only-of-type {\n",
       "        vertical-align: middle;\n",
       "    }\n",
       "\n",
       "    .dataframe tbody tr th {\n",
       "        vertical-align: top;\n",
       "    }\n",
       "\n",
       "    .dataframe thead th {\n",
       "        text-align: right;\n",
       "    }\n",
       "</style>\n",
       "<table border=\"1\" class=\"dataframe\">\n",
       "  <thead>\n",
       "    <tr style=\"text-align: right;\">\n",
       "      <th></th>\n",
       "      <th>ET</th>\n",
       "    </tr>\n",
       "  </thead>\n",
       "  <tbody>\n",
       "    <tr>\n",
       "      <th>AAPL</th>\n",
       "      <td>686.08</td>\n",
       "    </tr>\n",
       "    <tr>\n",
       "      <th>ABMD</th>\n",
       "      <td>541.36</td>\n",
       "    </tr>\n",
       "    <tr>\n",
       "      <th>ABNB</th>\n",
       "      <td>344.28000000000003</td>\n",
       "    </tr>\n",
       "    <tr>\n",
       "      <th>ADYEY</th>\n",
       "      <td>5028.2</td>\n",
       "    </tr>\n",
       "    <tr>\n",
       "      <th>AMD</th>\n",
       "      <td>2110.9</td>\n",
       "    </tr>\n",
       "  </tbody>\n",
       "</table>\n",
       "</div>"
      ],
      "text/plain": [
       "                       ET\n",
       "AAPL               686.08\n",
       "ABMD               541.36\n",
       "ABNB   344.28000000000003\n",
       "ADYEY              5028.2\n",
       "AMD                2110.9"
      ]
     },
     "execution_count": 17,
     "metadata": {},
     "output_type": "execute_result"
    }
   ],
   "source": [
    "df = pd.read_csv(\n",
    "    f'{DL}/Positions.csv', index_col=0, skiprows=1\n",
    ")[['Market Value']].rename(columns={'Market Value': 'ET'})\n",
    "df.index = map(lambda x: x.split()[0], df.index)\n",
    "df.drop(index=['FNRG', 'Portfolio', 'Cash'], inplace=True)\n",
    "df.head()"
   ]
  },
  {
   "cell_type": "code",
   "execution_count": 18,
   "id": "3d66d096",
   "metadata": {},
   "outputs": [
    {
     "data": {
      "text/html": [
       "<div>\n",
       "<style scoped>\n",
       "    .dataframe tbody tr th:only-of-type {\n",
       "        vertical-align: middle;\n",
       "    }\n",
       "\n",
       "    .dataframe tbody tr th {\n",
       "        vertical-align: top;\n",
       "    }\n",
       "\n",
       "    .dataframe thead th {\n",
       "        text-align: right;\n",
       "    }\n",
       "</style>\n",
       "<table border=\"1\" class=\"dataframe\">\n",
       "  <thead>\n",
       "    <tr style=\"text-align: right;\">\n",
       "      <th></th>\n",
       "      <th>ET</th>\n",
       "    </tr>\n",
       "  </thead>\n",
       "  <tbody>\n",
       "    <tr>\n",
       "      <th>AAPL</th>\n",
       "      <td>686</td>\n",
       "    </tr>\n",
       "    <tr>\n",
       "      <th>ABMD</th>\n",
       "      <td>541</td>\n",
       "    </tr>\n",
       "    <tr>\n",
       "      <th>ABNB</th>\n",
       "      <td>344</td>\n",
       "    </tr>\n",
       "    <tr>\n",
       "      <th>ADYEY</th>\n",
       "      <td>5028</td>\n",
       "    </tr>\n",
       "    <tr>\n",
       "      <th>AMD</th>\n",
       "      <td>2111</td>\n",
       "    </tr>\n",
       "  </tbody>\n",
       "</table>\n",
       "</div>"
      ],
      "text/plain": [
       "         ET\n",
       "AAPL    686\n",
       "ABMD    541\n",
       "ABNB    344\n",
       "ADYEY  5028\n",
       "AMD    2111"
      ]
     },
     "execution_count": 18,
     "metadata": {},
     "output_type": "execute_result"
    }
   ],
   "source": [
    "if DONGMEI:\n",
    "    et_df = (\n",
    "        pd.read_csv(\n",
    "            f'{DL}/2022-04-29.csv', index_col=0, skiprows=1\n",
    "        )[['Market Value']]\n",
    "        .rename(columns={'Market Value': 'ET'}))\n",
    "    et_df.index = map(lambda x: x.split()[0], et_df.index)\n",
    "    et_df.drop(index=['Portfolio', 'Cash'], inplace=True)\n",
    "else:\n",
    "    et_df = (\n",
    "        pd.read_csv(\n",
    "            f'{DL}/Positions.csv', index_col=0, skiprows=1\n",
    "        )[['Market Value']]\n",
    "        .rename(columns={'Market Value': 'ET'}))\n",
    "    et_df.index = map(lambda x: x.split()[0], et_df.index)\n",
    "    et_df.drop(index=['FNRG', 'Portfolio', 'Cash'], inplace=True)\n",
    "    et_df.ET = et_df.ET.apply(\n",
    "        lambda x: round(float(x)) if x != '--' else x)\n",
    "et_df.head()"
   ]
  },
  {
   "cell_type": "code",
   "execution_count": 19,
   "id": "7e69ad97",
   "metadata": {},
   "outputs": [],
   "source": [
    "#et_df.drop(index=['98986CONT'], inplace=True)\n",
    "#et_df.head()"
   ]
  },
  {
   "cell_type": "code",
   "execution_count": 25,
   "id": "39bb62a8",
   "metadata": {},
   "outputs": [
    {
     "data": {
      "text/html": [
       "<div>\n",
       "<style scoped>\n",
       "    .dataframe tbody tr th:only-of-type {\n",
       "        vertical-align: middle;\n",
       "    }\n",
       "\n",
       "    .dataframe tbody tr th {\n",
       "        vertical-align: top;\n",
       "    }\n",
       "\n",
       "    .dataframe thead th {\n",
       "        text-align: right;\n",
       "    }\n",
       "</style>\n",
       "<table border=\"1\" class=\"dataframe\">\n",
       "  <thead>\n",
       "    <tr style=\"text-align: right;\">\n",
       "      <th></th>\n",
       "      <th>ET</th>\n",
       "    </tr>\n",
       "  </thead>\n",
       "  <tbody>\n",
       "  </tbody>\n",
       "</table>\n",
       "</div>"
      ],
      "text/plain": [
       "Empty DataFrame\n",
       "Columns: [ET]\n",
       "Index: []"
      ]
     },
     "execution_count": 25,
     "metadata": {},
     "output_type": "execute_result"
    }
   ],
   "source": [
    "et_df.loc[et_df.ET == '--']\n",
    "#et_df.loc['NVCR', 'ET'] = 79.24"
   ]
  },
  {
   "cell_type": "code",
   "execution_count": 26,
   "id": "e47bcdd2",
   "metadata": {},
   "outputs": [
    {
     "name": "stdout",
     "output_type": "stream",
     "text": [
      "All clear\n"
     ]
    }
   ],
   "source": [
    "check_symbols(et_df)"
   ]
  },
  {
   "cell_type": "code",
   "execution_count": 27,
   "id": "927e61eb",
   "metadata": {},
   "outputs": [
    {
     "data": {
      "text/html": [
       "<div>\n",
       "<style scoped>\n",
       "    .dataframe tbody tr th:only-of-type {\n",
       "        vertical-align: middle;\n",
       "    }\n",
       "\n",
       "    .dataframe tbody tr th {\n",
       "        vertical-align: top;\n",
       "    }\n",
       "\n",
       "    .dataframe thead th {\n",
       "        text-align: right;\n",
       "    }\n",
       "</style>\n",
       "<table border=\"1\" class=\"dataframe\">\n",
       "  <thead>\n",
       "    <tr style=\"text-align: right;\">\n",
       "      <th></th>\n",
       "      <th>ET</th>\n",
       "    </tr>\n",
       "  </thead>\n",
       "  <tbody>\n",
       "    <tr>\n",
       "      <th>AAPL</th>\n",
       "      <td>686</td>\n",
       "    </tr>\n",
       "    <tr>\n",
       "      <th>ABMD</th>\n",
       "      <td>541</td>\n",
       "    </tr>\n",
       "    <tr>\n",
       "      <th>ABNB</th>\n",
       "      <td>344</td>\n",
       "    </tr>\n",
       "    <tr>\n",
       "      <th>ADBE</th>\n",
       "      <td>0</td>\n",
       "    </tr>\n",
       "    <tr>\n",
       "      <th>ADYEY</th>\n",
       "      <td>5028</td>\n",
       "    </tr>\n",
       "  </tbody>\n",
       "</table>\n",
       "</div>"
      ],
      "text/plain": [
       "         ET\n",
       "AAPL    686\n",
       "ABMD    541\n",
       "ABNB    344\n",
       "ADBE      0\n",
       "ADYEY  5028"
      ]
     },
     "execution_count": 27,
     "metadata": {},
     "output_type": "execute_result"
    }
   ],
   "source": [
    "out = pd.concat([binder, et_df], axis=1).fillna(0)\n",
    "out.ET = out.ET.astype(float).apply(lambda x: int(round(x)))\n",
    "out.head()"
   ]
  },
  {
   "cell_type": "markdown",
   "id": "f2a26ead",
   "metadata": {},
   "source": [
    "### Fidelity"
   ]
  },
  {
   "cell_type": "code",
   "execution_count": 28,
   "id": "6f360d0f",
   "metadata": {},
   "outputs": [
    {
     "data": {
      "text/plain": [
       "'Portfolio_Positions_Aug-19-2022.csv'"
      ]
     },
     "execution_count": 28,
     "metadata": {},
     "output_type": "execute_result"
    }
   ],
   "source": [
    "today = datetime.strftime(TODAY, '%b-%d-%Y')\n",
    "filename = f'Portfolio_Positions_{today}.csv'\n",
    "filename"
   ]
  },
  {
   "cell_type": "code",
   "execution_count": 29,
   "id": "27aa14cb",
   "metadata": {},
   "outputs": [
    {
     "name": "stdout",
     "output_type": "stream",
     "text": [
      "Holdings - Damian Satterthwaite-Phillips(0).csv\r\n",
      "Holdings - Damian Satterthwaite-Phillips(1).csv\r\n",
      "Holdings - Damian Satterthwaite-Phillips(2).csv\r\n",
      "Portfolio_Positions_Aug-19-2022.csv\r\n",
      "Positions.csv\r\n",
      "Positions_damiansp_Stocks_2022_08_19.xls\r\n",
      "mw.csv\r\n"
     ]
    }
   ],
   "source": [
    "!ls $DL"
   ]
  },
  {
   "cell_type": "code",
   "execution_count": 30,
   "id": "f5e0e3ac",
   "metadata": {},
   "outputs": [
    {
     "data": {
      "text/html": [
       "<div>\n",
       "<style scoped>\n",
       "    .dataframe tbody tr th:only-of-type {\n",
       "        vertical-align: middle;\n",
       "    }\n",
       "\n",
       "    .dataframe tbody tr th {\n",
       "        vertical-align: top;\n",
       "    }\n",
       "\n",
       "    .dataframe thead th {\n",
       "        text-align: right;\n",
       "    }\n",
       "</style>\n",
       "<table border=\"1\" class=\"dataframe\">\n",
       "  <thead>\n",
       "    <tr style=\"text-align: right;\">\n",
       "      <th></th>\n",
       "      <th>Account Number</th>\n",
       "      <th>Account Name</th>\n",
       "      <th>Symbol</th>\n",
       "      <th>Description</th>\n",
       "      <th>Quantity</th>\n",
       "      <th>Last Price</th>\n",
       "      <th>Last Price Change</th>\n",
       "      <th>Current Value</th>\n",
       "      <th>Today's Gain/Loss Dollar</th>\n",
       "      <th>Today's Gain/Loss Percent</th>\n",
       "      <th>Total Gain/Loss Dollar</th>\n",
       "      <th>Total Gain/Loss Percent</th>\n",
       "      <th>Percent Of Account</th>\n",
       "      <th>Cost Basis</th>\n",
       "      <th>Cost Basis Per Share</th>\n",
       "      <th>Type</th>\n",
       "    </tr>\n",
       "  </thead>\n",
       "  <tbody>\n",
       "    <tr>\n",
       "      <th>0</th>\n",
       "      <td>218520300</td>\n",
       "      <td>ROLLOVER IRA</td>\n",
       "      <td>SPAXX**</td>\n",
       "      <td>FIDELITY GOVERNMENT MONEY MARKET</td>\n",
       "      <td>14875.49</td>\n",
       "      <td>$1.00</td>\n",
       "      <td>$0.00</td>\n",
       "      <td>$14875.49</td>\n",
       "      <td>NaN</td>\n",
       "      <td>NaN</td>\n",
       "      <td>NaN</td>\n",
       "      <td>NaN</td>\n",
       "      <td>38.09%</td>\n",
       "      <td>NaN</td>\n",
       "      <td>NaN</td>\n",
       "      <td>Cash</td>\n",
       "    </tr>\n",
       "    <tr>\n",
       "      <th>1</th>\n",
       "      <td>218520300</td>\n",
       "      <td>ROLLOVER IRA</td>\n",
       "      <td>AAPL</td>\n",
       "      <td>APPLE INC</td>\n",
       "      <td>1.00</td>\n",
       "      <td>$171.52</td>\n",
       "      <td>-$2.63</td>\n",
       "      <td>$171.52</td>\n",
       "      <td>-$2.63</td>\n",
       "      <td>-1.52%</td>\n",
       "      <td>-$2.21</td>\n",
       "      <td>-1.28%</td>\n",
       "      <td>0.44%</td>\n",
       "      <td>$173.73</td>\n",
       "      <td>$173.73</td>\n",
       "      <td>Cash</td>\n",
       "    </tr>\n",
       "    <tr>\n",
       "      <th>2</th>\n",
       "      <td>218520300</td>\n",
       "      <td>ROLLOVER IRA</td>\n",
       "      <td>ABMD</td>\n",
       "      <td>ABIOMED INC COM USD0.01</td>\n",
       "      <td>4.00</td>\n",
       "      <td>$270.68</td>\n",
       "      <td>-$7.50</td>\n",
       "      <td>$1082.72</td>\n",
       "      <td>-$30.00</td>\n",
       "      <td>-2.70%</td>\n",
       "      <td>+$64.03</td>\n",
       "      <td>+6.28%</td>\n",
       "      <td>2.77%</td>\n",
       "      <td>$1018.69</td>\n",
       "      <td>$254.67</td>\n",
       "      <td>Cash</td>\n",
       "    </tr>\n",
       "    <tr>\n",
       "      <th>3</th>\n",
       "      <td>218520300</td>\n",
       "      <td>ROLLOVER IRA</td>\n",
       "      <td>ABNB</td>\n",
       "      <td>AIRBNB INC COM CL A</td>\n",
       "      <td>2.00</td>\n",
       "      <td>$114.76</td>\n",
       "      <td>-$6.51</td>\n",
       "      <td>$229.52</td>\n",
       "      <td>-$13.02</td>\n",
       "      <td>-5.37%</td>\n",
       "      <td>-$55.98</td>\n",
       "      <td>-19.61%</td>\n",
       "      <td>0.59%</td>\n",
       "      <td>$285.50</td>\n",
       "      <td>$142.75</td>\n",
       "      <td>Cash</td>\n",
       "    </tr>\n",
       "    <tr>\n",
       "      <th>4</th>\n",
       "      <td>218520300</td>\n",
       "      <td>ROLLOVER IRA</td>\n",
       "      <td>ADYEY</td>\n",
       "      <td>ADYEN NV UNSPON ADS EACH REP 0.01 ORD SHS</td>\n",
       "      <td>11.00</td>\n",
       "      <td>$16.22</td>\n",
       "      <td>-$1.403</td>\n",
       "      <td>$178.42</td>\n",
       "      <td>-$14.24</td>\n",
       "      <td>-7.40%</td>\n",
       "      <td>-$7.43</td>\n",
       "      <td>-4.00%</td>\n",
       "      <td>0.46%</td>\n",
       "      <td>$185.85</td>\n",
       "      <td>$16.90</td>\n",
       "      <td>Cash</td>\n",
       "    </tr>\n",
       "  </tbody>\n",
       "</table>\n",
       "</div>"
      ],
      "text/plain": [
       "  Account Number  Account Name   Symbol  \\\n",
       "0      218520300  ROLLOVER IRA  SPAXX**   \n",
       "1      218520300  ROLLOVER IRA     AAPL   \n",
       "2      218520300  ROLLOVER IRA     ABMD   \n",
       "3      218520300  ROLLOVER IRA     ABNB   \n",
       "4      218520300  ROLLOVER IRA    ADYEY   \n",
       "\n",
       "                                 Description  Quantity Last Price  \\\n",
       "0           FIDELITY GOVERNMENT MONEY MARKET  14875.49      $1.00   \n",
       "1                                  APPLE INC      1.00    $171.52   \n",
       "2                    ABIOMED INC COM USD0.01      4.00    $270.68   \n",
       "3                        AIRBNB INC COM CL A      2.00    $114.76   \n",
       "4  ADYEN NV UNSPON ADS EACH REP 0.01 ORD SHS     11.00     $16.22   \n",
       "\n",
       "  Last Price Change Current Value Today's Gain/Loss Dollar  \\\n",
       "0             $0.00     $14875.49                      NaN   \n",
       "1            -$2.63       $171.52                   -$2.63   \n",
       "2            -$7.50      $1082.72                  -$30.00   \n",
       "3            -$6.51       $229.52                  -$13.02   \n",
       "4           -$1.403       $178.42                  -$14.24   \n",
       "\n",
       "  Today's Gain/Loss Percent Total Gain/Loss Dollar Total Gain/Loss Percent  \\\n",
       "0                       NaN                    NaN                     NaN   \n",
       "1                    -1.52%                 -$2.21                  -1.28%   \n",
       "2                    -2.70%                +$64.03                  +6.28%   \n",
       "3                    -5.37%                -$55.98                 -19.61%   \n",
       "4                    -7.40%                 -$7.43                  -4.00%   \n",
       "\n",
       "  Percent Of Account Cost Basis Cost Basis Per Share  Type  \n",
       "0             38.09%        NaN                  NaN  Cash  \n",
       "1              0.44%    $173.73              $173.73  Cash  \n",
       "2              2.77%   $1018.69              $254.67  Cash  \n",
       "3              0.59%    $285.50              $142.75  Cash  \n",
       "4              0.46%    $185.85               $16.90  Cash  "
      ]
     },
     "execution_count": 30,
     "metadata": {},
     "output_type": "execute_result"
    }
   ],
   "source": [
    "#df_raw = pd.read_csv(f'{DL}/{filename.replace(\"06\", \"07\")}')\n",
    "df_raw = pd.read_csv(f'{DL}/{filename}')\n",
    "df_raw.head()"
   ]
  },
  {
   "cell_type": "code",
   "execution_count": 31,
   "id": "e6c79626",
   "metadata": {},
   "outputs": [
    {
     "data": {
      "text/html": [
       "<div>\n",
       "<style scoped>\n",
       "    .dataframe tbody tr th:only-of-type {\n",
       "        vertical-align: middle;\n",
       "    }\n",
       "\n",
       "    .dataframe tbody tr th {\n",
       "        vertical-align: top;\n",
       "    }\n",
       "\n",
       "    .dataframe thead th {\n",
       "        text-align: right;\n",
       "    }\n",
       "</style>\n",
       "<table border=\"1\" class=\"dataframe\">\n",
       "  <thead>\n",
       "    <tr style=\"text-align: right;\">\n",
       "      <th></th>\n",
       "      <th>Account Name</th>\n",
       "      <th>Symbol</th>\n",
       "      <th>Current Value</th>\n",
       "    </tr>\n",
       "  </thead>\n",
       "  <tbody>\n",
       "    <tr>\n",
       "      <th>1</th>\n",
       "      <td>ROLLOVER IRA</td>\n",
       "      <td>AAPL</td>\n",
       "      <td>172</td>\n",
       "    </tr>\n",
       "    <tr>\n",
       "      <th>2</th>\n",
       "      <td>ROLLOVER IRA</td>\n",
       "      <td>ABMD</td>\n",
       "      <td>1083</td>\n",
       "    </tr>\n",
       "    <tr>\n",
       "      <th>3</th>\n",
       "      <td>ROLLOVER IRA</td>\n",
       "      <td>ABNB</td>\n",
       "      <td>230</td>\n",
       "    </tr>\n",
       "    <tr>\n",
       "      <th>4</th>\n",
       "      <td>ROLLOVER IRA</td>\n",
       "      <td>ADYEY</td>\n",
       "      <td>178</td>\n",
       "    </tr>\n",
       "    <tr>\n",
       "      <th>5</th>\n",
       "      <td>ROLLOVER IRA</td>\n",
       "      <td>AMD</td>\n",
       "      <td>1631</td>\n",
       "    </tr>\n",
       "  </tbody>\n",
       "</table>\n",
       "</div>"
      ],
      "text/plain": [
       "   Account Name Symbol  Current Value\n",
       "1  ROLLOVER IRA   AAPL            172\n",
       "2  ROLLOVER IRA   ABMD           1083\n",
       "3  ROLLOVER IRA   ABNB            230\n",
       "4  ROLLOVER IRA  ADYEY            178\n",
       "5  ROLLOVER IRA    AMD           1631"
      ]
     },
     "execution_count": 31,
     "metadata": {},
     "output_type": "execute_result"
    }
   ],
   "source": [
    "df = df_raw[['Account Name', 'Symbol', 'Current Value']].dropna()\n",
    "df['Current Value'] = df['Current Value'].apply(convert_value)\n",
    "df['Current Value'] = df['Current Value'].fillna(0).astype(int)\n",
    "df = df[((df.Symbol != 'SPAXX**') & (df.Symbol != 'Pending Activity'))]\n",
    "df.head()"
   ]
  },
  {
   "cell_type": "code",
   "execution_count": 32,
   "id": "c667aa09",
   "metadata": {},
   "outputs": [
    {
     "data": {
      "text/html": [
       "<div>\n",
       "<style scoped>\n",
       "    .dataframe tbody tr th:only-of-type {\n",
       "        vertical-align: middle;\n",
       "    }\n",
       "\n",
       "    .dataframe tbody tr th {\n",
       "        vertical-align: top;\n",
       "    }\n",
       "\n",
       "    .dataframe thead th {\n",
       "        text-align: right;\n",
       "    }\n",
       "</style>\n",
       "<table border=\"1\" class=\"dataframe\">\n",
       "  <thead>\n",
       "    <tr style=\"text-align: right;\">\n",
       "      <th></th>\n",
       "      <th>ROLLOVER IRA</th>\n",
       "    </tr>\n",
       "    <tr>\n",
       "      <th>Symbol</th>\n",
       "      <th></th>\n",
       "    </tr>\n",
       "  </thead>\n",
       "  <tbody>\n",
       "    <tr>\n",
       "      <th>AAPL</th>\n",
       "      <td>172</td>\n",
       "    </tr>\n",
       "    <tr>\n",
       "      <th>ABMD</th>\n",
       "      <td>1083</td>\n",
       "    </tr>\n",
       "    <tr>\n",
       "      <th>ABNB</th>\n",
       "      <td>230</td>\n",
       "    </tr>\n",
       "    <tr>\n",
       "      <th>ADYEY</th>\n",
       "      <td>178</td>\n",
       "    </tr>\n",
       "    <tr>\n",
       "      <th>AMD</th>\n",
       "      <td>1631</td>\n",
       "    </tr>\n",
       "  </tbody>\n",
       "</table>\n",
       "</div>"
      ],
      "text/plain": [
       "        ROLLOVER IRA\n",
       "Symbol              \n",
       "AAPL             172\n",
       "ABMD            1083\n",
       "ABNB             230\n",
       "ADYEY            178\n",
       "AMD             1631"
      ]
     },
     "execution_count": 32,
     "metadata": {},
     "output_type": "execute_result"
    }
   ],
   "source": [
    "accounts = {account_name: df[df['Account Name'] == account_name]\n",
    "            for account_name in df['Account Name'].unique()}\n",
    "for acct in accounts.keys():\n",
    "    accounts[acct].index = accounts[acct].Symbol\n",
    "    accounts[acct] = (\n",
    "        accounts[acct]\n",
    "        .rename(columns={'Current Value': acct})\n",
    "        .drop(columns=['Account Name', 'Symbol']))\n",
    "    \n",
    "accounts['ROLLOVER IRA'].head()"
   ]
  },
  {
   "cell_type": "code",
   "execution_count": 33,
   "id": "218173fd",
   "metadata": {},
   "outputs": [
    {
     "name": "stdout",
     "output_type": "stream",
     "text": [
      "ROLLOVER IRA\n",
      "All clear\n",
      "\n",
      "ROTH IRA\n",
      "All clear\n",
      "\n",
      "SIMPLE IRA\n",
      "All clear\n",
      "\n"
     ]
    }
   ],
   "source": [
    "for k, v in accounts.items():\n",
    "    print(k)\n",
    "    check_symbols(v)\n",
    "    print()"
   ]
  },
  {
   "cell_type": "code",
   "execution_count": 34,
   "id": "e2f5c435",
   "metadata": {},
   "outputs": [
    {
     "data": {
      "text/html": [
       "<div>\n",
       "<style scoped>\n",
       "    .dataframe tbody tr th:only-of-type {\n",
       "        vertical-align: middle;\n",
       "    }\n",
       "\n",
       "    .dataframe tbody tr th {\n",
       "        vertical-align: top;\n",
       "    }\n",
       "\n",
       "    .dataframe thead th {\n",
       "        text-align: right;\n",
       "    }\n",
       "</style>\n",
       "<table border=\"1\" class=\"dataframe\">\n",
       "  <thead>\n",
       "    <tr style=\"text-align: right;\">\n",
       "      <th></th>\n",
       "      <th>ET</th>\n",
       "      <th>ROLLOVER IRA</th>\n",
       "      <th>ROTH IRA</th>\n",
       "      <th>SIMPLE IRA</th>\n",
       "    </tr>\n",
       "  </thead>\n",
       "  <tbody>\n",
       "    <tr>\n",
       "      <th>AAPL</th>\n",
       "      <td>686</td>\n",
       "      <td>172</td>\n",
       "      <td>8748</td>\n",
       "      <td>0</td>\n",
       "    </tr>\n",
       "    <tr>\n",
       "      <th>ABMD</th>\n",
       "      <td>541</td>\n",
       "      <td>1083</td>\n",
       "      <td>2165</td>\n",
       "      <td>0</td>\n",
       "    </tr>\n",
       "    <tr>\n",
       "      <th>ABNB</th>\n",
       "      <td>344</td>\n",
       "      <td>230</td>\n",
       "      <td>344</td>\n",
       "      <td>0</td>\n",
       "    </tr>\n",
       "    <tr>\n",
       "      <th>ADBE</th>\n",
       "      <td>0</td>\n",
       "      <td>0</td>\n",
       "      <td>0</td>\n",
       "      <td>0</td>\n",
       "    </tr>\n",
       "    <tr>\n",
       "      <th>ADYEY</th>\n",
       "      <td>5028</td>\n",
       "      <td>178</td>\n",
       "      <td>2855</td>\n",
       "      <td>114</td>\n",
       "    </tr>\n",
       "  </tbody>\n",
       "</table>\n",
       "</div>"
      ],
      "text/plain": [
       "         ET  ROLLOVER IRA  ROTH IRA  SIMPLE IRA\n",
       "AAPL    686           172      8748           0\n",
       "ABMD    541          1083      2165           0\n",
       "ABNB    344           230       344           0\n",
       "ADBE      0             0         0           0\n",
       "ADYEY  5028           178      2855         114"
      ]
     },
     "execution_count": 34,
     "metadata": {},
     "output_type": "execute_result"
    }
   ],
   "source": [
    "for v in accounts.values():\n",
    "    out = pd.concat([out, v], axis=1)\n",
    "out.fillna(0, inplace=True)\n",
    "out = out.astype(int)\n",
    "out.head()"
   ]
  },
  {
   "cell_type": "markdown",
   "id": "89bd0c8a",
   "metadata": {},
   "source": [
    "### TD Ameritrade"
   ]
  },
  {
   "cell_type": "code",
   "execution_count": 35,
   "id": "bf13b3bf",
   "metadata": {},
   "outputs": [],
   "source": [
    "#!cat $DL/Positions_damiansp_Stocks_2022_08_09.xls"
   ]
  },
  {
   "cell_type": "code",
   "execution_count": 36,
   "id": "fb4b25b1",
   "metadata": {},
   "outputs": [],
   "source": [
    "today = str(TODAY).replace('-', '_')\n",
    "path = f'{DL}/Positions_damiansp_Stocks_{today}.xls'"
   ]
  },
  {
   "cell_type": "code",
   "execution_count": 37,
   "id": "0e30f9ee",
   "metadata": {},
   "outputs": [],
   "source": [
    "#td = pd.read_excel(, engine='xlrd')\n",
    "def parse_file(path):\n",
    "    inds = []\n",
    "    data = []\n",
    "    is_header = True\n",
    "    with open(path, 'r') as f:\n",
    "        for line in f:\n",
    "            if not is_header:\n",
    "                if line.startswith('\"'):\n",
    "                    try:\n",
    "                        columns = line.split('\\t')\n",
    "                        symbol = columns[0][1:-1]\n",
    "                        value = float(columns[5][1:-1])\n",
    "                        inds.append(symbol)\n",
    "                        data.append(value)\n",
    "                    except IndexError:\n",
    "                        print('Cannot parse:', line)\n",
    "            if line.startswith('Symbol'):\n",
    "                is_header = False\n",
    "    return pd.DataFrame({'TD': data}, index=inds)"
   ]
  },
  {
   "cell_type": "code",
   "execution_count": 38,
   "id": "0cdfb24c",
   "metadata": {},
   "outputs": [
    {
     "data": {
      "text/html": [
       "<div>\n",
       "<style scoped>\n",
       "    .dataframe tbody tr th:only-of-type {\n",
       "        vertical-align: middle;\n",
       "    }\n",
       "\n",
       "    .dataframe tbody tr th {\n",
       "        vertical-align: top;\n",
       "    }\n",
       "\n",
       "    .dataframe thead th {\n",
       "        text-align: right;\n",
       "    }\n",
       "</style>\n",
       "<table border=\"1\" class=\"dataframe\">\n",
       "  <thead>\n",
       "    <tr style=\"text-align: right;\">\n",
       "      <th></th>\n",
       "      <th>TD</th>\n",
       "    </tr>\n",
       "  </thead>\n",
       "  <tbody>\n",
       "    <tr>\n",
       "      <th>AAPL</th>\n",
       "      <td>682.88</td>\n",
       "    </tr>\n",
       "    <tr>\n",
       "      <th>ADBE</th>\n",
       "      <td>424.50</td>\n",
       "    </tr>\n",
       "    <tr>\n",
       "      <th>ASML</th>\n",
       "      <td>544.30</td>\n",
       "    </tr>\n",
       "    <tr>\n",
       "      <th>PAYC</th>\n",
       "      <td>377.00</td>\n",
       "    </tr>\n",
       "    <tr>\n",
       "      <th>SHOP</th>\n",
       "      <td>306.36</td>\n",
       "    </tr>\n",
       "  </tbody>\n",
       "</table>\n",
       "</div>"
      ],
      "text/plain": [
       "          TD\n",
       "AAPL  682.88\n",
       "ADBE  424.50\n",
       "ASML  544.30\n",
       "PAYC  377.00\n",
       "SHOP  306.36"
      ]
     },
     "execution_count": 38,
     "metadata": {},
     "output_type": "execute_result"
    }
   ],
   "source": [
    "td = parse_file(path)\n",
    "td.head()"
   ]
  },
  {
   "cell_type": "code",
   "execution_count": 39,
   "id": "e764daaa",
   "metadata": {},
   "outputs": [
    {
     "data": {
      "text/html": [
       "<div>\n",
       "<style scoped>\n",
       "    .dataframe tbody tr th:only-of-type {\n",
       "        vertical-align: middle;\n",
       "    }\n",
       "\n",
       "    .dataframe tbody tr th {\n",
       "        vertical-align: top;\n",
       "    }\n",
       "\n",
       "    .dataframe thead th {\n",
       "        text-align: right;\n",
       "    }\n",
       "</style>\n",
       "<table border=\"1\" class=\"dataframe\">\n",
       "  <thead>\n",
       "    <tr style=\"text-align: right;\">\n",
       "      <th></th>\n",
       "      <th>ET</th>\n",
       "      <th>ROLLOVER IRA</th>\n",
       "      <th>ROTH IRA</th>\n",
       "      <th>SIMPLE IRA</th>\n",
       "      <th>TD</th>\n",
       "    </tr>\n",
       "  </thead>\n",
       "  <tbody>\n",
       "    <tr>\n",
       "      <th>AAPL</th>\n",
       "      <td>686</td>\n",
       "      <td>172</td>\n",
       "      <td>8748</td>\n",
       "      <td>0</td>\n",
       "      <td>683</td>\n",
       "    </tr>\n",
       "    <tr>\n",
       "      <th>ABMD</th>\n",
       "      <td>541</td>\n",
       "      <td>1083</td>\n",
       "      <td>2165</td>\n",
       "      <td>0</td>\n",
       "      <td>0</td>\n",
       "    </tr>\n",
       "    <tr>\n",
       "      <th>ABNB</th>\n",
       "      <td>344</td>\n",
       "      <td>230</td>\n",
       "      <td>344</td>\n",
       "      <td>0</td>\n",
       "      <td>0</td>\n",
       "    </tr>\n",
       "    <tr>\n",
       "      <th>ADBE</th>\n",
       "      <td>0</td>\n",
       "      <td>0</td>\n",
       "      <td>0</td>\n",
       "      <td>0</td>\n",
       "      <td>424</td>\n",
       "    </tr>\n",
       "    <tr>\n",
       "      <th>ADYEY</th>\n",
       "      <td>5028</td>\n",
       "      <td>178</td>\n",
       "      <td>2855</td>\n",
       "      <td>114</td>\n",
       "      <td>0</td>\n",
       "    </tr>\n",
       "  </tbody>\n",
       "</table>\n",
       "</div>"
      ],
      "text/plain": [
       "         ET  ROLLOVER IRA  ROTH IRA  SIMPLE IRA   TD\n",
       "AAPL    686           172      8748           0  683\n",
       "ABMD    541          1083      2165           0    0\n",
       "ABNB    344           230       344           0    0\n",
       "ADBE      0             0         0           0  424\n",
       "ADYEY  5028           178      2855         114    0"
      ]
     },
     "execution_count": 39,
     "metadata": {},
     "output_type": "execute_result"
    }
   ],
   "source": [
    "out = pd.concat([out, td], axis=1).fillna(0).round().astype(int)\n",
    "out.head()"
   ]
  },
  {
   "cell_type": "code",
   "execution_count": 40,
   "id": "11c0b029",
   "metadata": {},
   "outputs": [],
   "source": [
    "out.to_csv(f'{DL}/clean.csv')"
   ]
  },
  {
   "cell_type": "code",
   "execution_count": 41,
   "id": "661fde50",
   "metadata": {},
   "outputs": [],
   "source": [
    "!open $DL/clean.csv"
   ]
  },
  {
   "cell_type": "code",
   "execution_count": 31,
   "id": "37b12ba4",
   "metadata": {},
   "outputs": [],
   "source": [
    "!rm $DL/$filename $DL/Positions.csv $DL/clean.csv\n",
    "!ls $DL"
   ]
  },
  {
   "cell_type": "markdown",
   "id": "536c0b43",
   "metadata": {},
   "source": [
    "### MarketWatch"
   ]
  },
  {
   "cell_type": "code",
   "execution_count": 10,
   "id": "5d12aba9",
   "metadata": {},
   "outputs": [
    {
     "name": "stdout",
     "output_type": "stream",
     "text": [
      "Holdings - Damian Satterthwaite-Phillips(0).csv\r\n",
      "Holdings - Damian Satterthwaite-Phillips(1).csv\r\n",
      "Holdings - Damian Satterthwaite-Phillips(2).csv\r\n"
     ]
    }
   ],
   "source": [
    "!mv \"$DL/Holdings - Damian Satterthwaite-Phillips.csv\" \"$DL/Holdings - Damian Satterthwaite-Phillips(0).csv\"\n",
    "!ls $DL"
   ]
  },
  {
   "cell_type": "code",
   "execution_count": 11,
   "id": "0359c7f7",
   "metadata": {},
   "outputs": [
    {
     "name": "stdout",
     "output_type": "stream",
     "text": [
      ".DS_Store\n",
      "Holdings - Damian Satterthwaite-Phillips(0).csv\n",
      "Holdings - Damian Satterthwaite-Phillips(1).csv\n",
      "Holdings - Damian Satterthwaite-Phillips(2).csv\n"
     ]
    },
    {
     "data": {
      "text/html": [
       "<div>\n",
       "<style scoped>\n",
       "    .dataframe tbody tr th:only-of-type {\n",
       "        vertical-align: middle;\n",
       "    }\n",
       "\n",
       "    .dataframe tbody tr th {\n",
       "        vertical-align: top;\n",
       "    }\n",
       "\n",
       "    .dataframe thead th {\n",
       "        text-align: right;\n",
       "    }\n",
       "</style>\n",
       "<table border=\"1\" class=\"dataframe\">\n",
       "  <thead>\n",
       "    <tr style=\"text-align: right;\">\n",
       "      <th></th>\n",
       "      <th>Value_1</th>\n",
       "      <th>Value_2</th>\n",
       "      <th>Value_3</th>\n",
       "    </tr>\n",
       "  </thead>\n",
       "  <tbody>\n",
       "    <tr>\n",
       "      <th>AAPL</th>\n",
       "      <td>858</td>\n",
       "      <td>2573</td>\n",
       "      <td>1715</td>\n",
       "    </tr>\n",
       "    <tr>\n",
       "      <th>ABMD</th>\n",
       "      <td>1083</td>\n",
       "      <td>812</td>\n",
       "      <td>0</td>\n",
       "    </tr>\n",
       "    <tr>\n",
       "      <th>ABNB</th>\n",
       "      <td>689</td>\n",
       "      <td>574</td>\n",
       "      <td>1148</td>\n",
       "    </tr>\n",
       "    <tr>\n",
       "      <th>ADBE</th>\n",
       "      <td>850</td>\n",
       "      <td>1275</td>\n",
       "      <td>0</td>\n",
       "    </tr>\n",
       "    <tr>\n",
       "      <th>ADYEY</th>\n",
       "      <td>665</td>\n",
       "      <td>1898</td>\n",
       "      <td>1444</td>\n",
       "    </tr>\n",
       "  </tbody>\n",
       "</table>\n",
       "</div>"
      ],
      "text/plain": [
       "       Value_1  Value_2  Value_3\n",
       "AAPL       858     2573     1715\n",
       "ABMD      1083      812        0\n",
       "ABNB       689      574     1148\n",
       "ADBE       850     1275        0\n",
       "ADYEY      665     1898     1444"
      ]
     },
     "execution_count": 11,
     "metadata": {},
     "output_type": "execute_result"
    }
   ],
   "source": [
    "dfs = [binder]\n",
    "for i, f in enumerate(sorted(os.listdir(DL))):\n",
    "    print(f)\n",
    "    if f.startswith('Holdings'):\n",
    "        mw = pd.read_csv(f'{DL}/{f}')[['Symbol', 'Value']]\n",
    "        mw.rename(columns={'Value': f'Value_{i}'}, inplace=True)\n",
    "        mw.index = mw.Symbol\n",
    "        mw.drop('Symbol', axis=1, inplace=True)\n",
    "        mw[f'Value_{i}'] = mw[f'Value_{i}'].apply(convert_value)\n",
    "        dfs.append(mw)\n",
    "mw = pd.concat(dfs, axis=1).fillna(0).astype(int)\n",
    "mw.head()"
   ]
  },
  {
   "cell_type": "code",
   "execution_count": 12,
   "id": "f1763741",
   "metadata": {},
   "outputs": [
    {
     "name": "stdout",
     "output_type": "stream",
     "text": [
      "All clear\n"
     ]
    }
   ],
   "source": [
    "check_symbols(mw)"
   ]
  },
  {
   "cell_type": "code",
   "execution_count": 13,
   "id": "c4235ee6",
   "metadata": {},
   "outputs": [
    {
     "data": {
      "text/html": [
       "<div>\n",
       "<style scoped>\n",
       "    .dataframe tbody tr th:only-of-type {\n",
       "        vertical-align: middle;\n",
       "    }\n",
       "\n",
       "    .dataframe tbody tr th {\n",
       "        vertical-align: top;\n",
       "    }\n",
       "\n",
       "    .dataframe thead th {\n",
       "        text-align: right;\n",
       "    }\n",
       "</style>\n",
       "<table border=\"1\" class=\"dataframe\">\n",
       "  <thead>\n",
       "    <tr style=\"text-align: right;\">\n",
       "      <th></th>\n",
       "      <th>Value_1</th>\n",
       "      <th>Value_2</th>\n",
       "      <th>Value_3</th>\n",
       "    </tr>\n",
       "  </thead>\n",
       "  <tbody>\n",
       "    <tr>\n",
       "      <th>AAPL</th>\n",
       "      <td>858</td>\n",
       "      <td>2573</td>\n",
       "      <td>1715</td>\n",
       "    </tr>\n",
       "    <tr>\n",
       "      <th>ABMD</th>\n",
       "      <td>1083</td>\n",
       "      <td>812</td>\n",
       "      <td>0</td>\n",
       "    </tr>\n",
       "    <tr>\n",
       "      <th>ABNB</th>\n",
       "      <td>689</td>\n",
       "      <td>574</td>\n",
       "      <td>1148</td>\n",
       "    </tr>\n",
       "    <tr>\n",
       "      <th>ADBE</th>\n",
       "      <td>850</td>\n",
       "      <td>1275</td>\n",
       "      <td>0</td>\n",
       "    </tr>\n",
       "    <tr>\n",
       "      <th>ADYEY</th>\n",
       "      <td>665</td>\n",
       "      <td>1898</td>\n",
       "      <td>1444</td>\n",
       "    </tr>\n",
       "  </tbody>\n",
       "</table>\n",
       "</div>"
      ],
      "text/plain": [
       "       Value_1  Value_2  Value_3\n",
       "AAPL       858     2573     1715\n",
       "ABMD      1083      812        0\n",
       "ABNB       689      574     1148\n",
       "ADBE       850     1275        0\n",
       "ADYEY      665     1898     1444"
      ]
     },
     "execution_count": 13,
     "metadata": {},
     "output_type": "execute_result"
    }
   ],
   "source": [
    "#out = pd.concat([binder, mw], axis=1).fillna(0).astype(int)\n",
    "mw.head()"
   ]
  },
  {
   "cell_type": "code",
   "execution_count": 14,
   "id": "a6dc8cb4",
   "metadata": {},
   "outputs": [],
   "source": [
    "mw.to_csv(f'{DL}/mw.csv')"
   ]
  },
  {
   "cell_type": "code",
   "execution_count": 15,
   "id": "9f38afa8",
   "metadata": {},
   "outputs": [],
   "source": [
    "!open $DL/mw.csv"
   ]
  },
  {
   "cell_type": "code",
   "execution_count": null,
   "id": "338a3373",
   "metadata": {},
   "outputs": [],
   "source": [
    "!rm $DL/Holdings*.csv $DL/mw.csv\n",
    "!ls $DL"
   ]
  },
  {
   "cell_type": "code",
   "execution_count": null,
   "id": "05ab44d7",
   "metadata": {},
   "outputs": [],
   "source": [
    "!rm $DL/*"
   ]
  }
 ],
 "metadata": {
  "kernelspec": {
   "display_name": "Python 3 (ipykernel)",
   "language": "python",
   "name": "python3"
  },
  "language_info": {
   "codemirror_mode": {
    "name": "ipython",
    "version": 3
   },
   "file_extension": ".py",
   "mimetype": "text/x-python",
   "name": "python",
   "nbconvert_exporter": "python",
   "pygments_lexer": "ipython3",
   "version": "3.10.6"
  }
 },
 "nbformat": 4,
 "nbformat_minor": 5
}
