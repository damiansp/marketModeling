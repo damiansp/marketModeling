{
 "cells": [
  {
   "cell_type": "code",
   "execution_count": 28,
   "id": "d801eb40",
   "metadata": {},
   "outputs": [],
   "source": [
    "DL = '/Users/damiansp/Downloads'"
   ]
  },
  {
   "cell_type": "code",
   "execution_count": 29,
   "id": "ff43e5fb",
   "metadata": {},
   "outputs": [],
   "source": [
    "!rm $DL/*"
   ]
  },
  {
   "cell_type": "code",
   "execution_count": 3,
   "id": "435325a5",
   "metadata": {},
   "outputs": [],
   "source": [
    "from datetime import datetime\n",
    "import os\n",
    "\n",
    "import numpy as np\n",
    "import pandas as pd"
   ]
  },
  {
   "cell_type": "code",
   "execution_count": 4,
   "id": "dc918d1a",
   "metadata": {},
   "outputs": [],
   "source": [
    "SYMBOLS = [\n",
    "    'AAPL', 'ABMD', 'ABNB', 'AMD', 'AMZN', 'ANET', 'APPH', 'AXON',\n",
    "    'BROS', 'BYND', 'CHWY', 'COIN', 'COUR', 'CRWD', 'DDOG', 'DKNG',\n",
    "    'DOCU', 'DUOL', 'EDIT', 'ETSY', 'FLGT', 'FUV', 'FVRR', 'GH', 'GMED',\n",
    "    'GOOG', 'INTG', 'ISRG', 'JD', 'LSPD', 'LULU','MDB', 'MELI', 'MNST',\n",
    "    'MSFT', 'MTCH', 'NVCR', 'NVDA', 'NYT', 'OKTA', 'OPEN', 'PANW',\n",
    "    'PINS', 'PTON', 'QDEL', 'RBLX', 'RDFN', 'RGEN', 'ROKU', 'SE',\n",
    "    'SHOP', 'SPLK', 'SQ', 'TASK', 'TDOC', 'TEAM', 'TREX', 'TTD', 'TTWO',\n",
    "    'TWLO', 'TWTR', 'UPST', 'VEEV', 'WK', 'XPEV', 'ZEN', 'ZNGA']"
   ]
  },
  {
   "cell_type": "code",
   "execution_count": 30,
   "id": "3898dfe3",
   "metadata": {},
   "outputs": [
    {
     "name": "stdout",
     "output_type": "stream",
     "text": [
      "2022-04-22.csv\r\n"
     ]
    }
   ],
   "source": [
    "!ls $DL"
   ]
  },
  {
   "cell_type": "code",
   "execution_count": 6,
   "id": "0eac6b5a",
   "metadata": {},
   "outputs": [],
   "source": [
    "def check_symbols(df):\n",
    "    all_present = True\n",
    "    for symbol in df.index.unique():\n",
    "        if symbol not in SYMBOLS:\n",
    "            print(f'{symbol} not in SYMBOLS')\n",
    "            all_present = False\n",
    "    if all_present:\n",
    "        print('All clear')"
   ]
  },
  {
   "cell_type": "code",
   "execution_count": 7,
   "id": "afdbcabf",
   "metadata": {},
   "outputs": [],
   "source": [
    "def convert_value(s):\n",
    "    return round(float(s.replace('$', '').replace(',', '')))"
   ]
  },
  {
   "cell_type": "code",
   "execution_count": 8,
   "id": "34cbfb7d",
   "metadata": {},
   "outputs": [
    {
     "data": {
      "text/html": [
       "<div>\n",
       "<style scoped>\n",
       "    .dataframe tbody tr th:only-of-type {\n",
       "        vertical-align: middle;\n",
       "    }\n",
       "\n",
       "    .dataframe tbody tr th {\n",
       "        vertical-align: top;\n",
       "    }\n",
       "\n",
       "    .dataframe thead th {\n",
       "        text-align: right;\n",
       "    }\n",
       "</style>\n",
       "<table border=\"1\" class=\"dataframe\">\n",
       "  <thead>\n",
       "    <tr style=\"text-align: right;\">\n",
       "      <th></th>\n",
       "    </tr>\n",
       "  </thead>\n",
       "  <tbody>\n",
       "    <tr>\n",
       "      <th>AAPL</th>\n",
       "    </tr>\n",
       "    <tr>\n",
       "      <th>ABMD</th>\n",
       "    </tr>\n",
       "    <tr>\n",
       "      <th>ABNB</th>\n",
       "    </tr>\n",
       "    <tr>\n",
       "      <th>AMD</th>\n",
       "    </tr>\n",
       "    <tr>\n",
       "      <th>AMZN</th>\n",
       "    </tr>\n",
       "  </tbody>\n",
       "</table>\n",
       "</div>"
      ],
      "text/plain": [
       "Empty DataFrame\n",
       "Columns: []\n",
       "Index: [AAPL, ABMD, ABNB, AMD, AMZN]"
      ]
     },
     "execution_count": 8,
     "metadata": {},
     "output_type": "execute_result"
    }
   ],
   "source": [
    "binder = pd.DataFrame(index=SYMBOLS)\n",
    "binder.head()"
   ]
  },
  {
   "cell_type": "markdown",
   "id": "572fb5b0",
   "metadata": {},
   "source": [
    "### E*Trade"
   ]
  },
  {
   "cell_type": "code",
   "execution_count": 31,
   "id": "3e3857c1",
   "metadata": {},
   "outputs": [],
   "source": [
    "DONGMEI = True"
   ]
  },
  {
   "cell_type": "code",
   "execution_count": 33,
   "id": "3d66d096",
   "metadata": {},
   "outputs": [
    {
     "data": {
      "text/html": [
       "<div>\n",
       "<style scoped>\n",
       "    .dataframe tbody tr th:only-of-type {\n",
       "        vertical-align: middle;\n",
       "    }\n",
       "\n",
       "    .dataframe tbody tr th {\n",
       "        vertical-align: top;\n",
       "    }\n",
       "\n",
       "    .dataframe thead th {\n",
       "        text-align: right;\n",
       "    }\n",
       "</style>\n",
       "<table border=\"1\" class=\"dataframe\">\n",
       "  <thead>\n",
       "    <tr style=\"text-align: right;\">\n",
       "      <th></th>\n",
       "      <th>ET</th>\n",
       "    </tr>\n",
       "  </thead>\n",
       "  <tbody>\n",
       "    <tr>\n",
       "      <th>ADSK</th>\n",
       "      <td>374.62</td>\n",
       "    </tr>\n",
       "    <tr>\n",
       "      <th>APPH</th>\n",
       "      <td>106.08</td>\n",
       "    </tr>\n",
       "    <tr>\n",
       "      <th>AXON</th>\n",
       "      <td>236.04</td>\n",
       "    </tr>\n",
       "    <tr>\n",
       "      <th>BROS</th>\n",
       "      <td>307.14</td>\n",
       "    </tr>\n",
       "    <tr>\n",
       "      <th>BYND</th>\n",
       "      <td>112.80000000000001</td>\n",
       "    </tr>\n",
       "  </tbody>\n",
       "</table>\n",
       "</div>"
      ],
      "text/plain": [
       "                      ET\n",
       "ADSK              374.62\n",
       "APPH              106.08\n",
       "AXON              236.04\n",
       "BROS              307.14\n",
       "BYND  112.80000000000001"
      ]
     },
     "execution_count": 33,
     "metadata": {},
     "output_type": "execute_result"
    }
   ],
   "source": [
    "if DONGMEI:\n",
    "    et_df = (\n",
    "        pd.read_csv(\n",
    "            f'{DL}/2022-04-22.csv', index_col=0, skiprows=1\n",
    "        )[['Market Value']]\n",
    "        .rename(columns={'Market Value': 'ET'}))\n",
    "    et_df.index = map(lambda x: x.split()[0], et_df.index)\n",
    "    et_df.drop(index=['Portfolio', 'Cash'], inplace=True)\n",
    "else:\n",
    "    et_df = (\n",
    "        pd.read_csv(\n",
    "            f'{DL}/Positions.csv', index_col=0, skiprows=1\n",
    "        )[['Market Value']]\n",
    "        .rename(columns={'Market Value': 'ET'}))\n",
    "    et_df.index = map(lambda x: x.split()[0], et_df.index)\n",
    "    et_df.drop(index=['FNRG', 'Portfolio', 'Cash'], inplace=True)\n",
    "    #et_df.ET = et_df.ET.apply(lambda x: round(float(x)))\n",
    "et_df.head()"
   ]
  },
  {
   "cell_type": "code",
   "execution_count": 34,
   "id": "39bb62a8",
   "metadata": {},
   "outputs": [
    {
     "data": {
      "text/html": [
       "<div>\n",
       "<style scoped>\n",
       "    .dataframe tbody tr th:only-of-type {\n",
       "        vertical-align: middle;\n",
       "    }\n",
       "\n",
       "    .dataframe tbody tr th {\n",
       "        vertical-align: top;\n",
       "    }\n",
       "\n",
       "    .dataframe thead th {\n",
       "        text-align: right;\n",
       "    }\n",
       "</style>\n",
       "<table border=\"1\" class=\"dataframe\">\n",
       "  <thead>\n",
       "    <tr style=\"text-align: right;\">\n",
       "      <th></th>\n",
       "      <th>ET</th>\n",
       "    </tr>\n",
       "  </thead>\n",
       "  <tbody>\n",
       "  </tbody>\n",
       "</table>\n",
       "</div>"
      ],
      "text/plain": [
       "Empty DataFrame\n",
       "Columns: [ET]\n",
       "Index: []"
      ]
     },
     "execution_count": 34,
     "metadata": {},
     "output_type": "execute_result"
    }
   ],
   "source": [
    "et_df.loc[et_df.ET == '--']\n",
    "#et_df.loc['TASK', 'ET'] = 36.41"
   ]
  },
  {
   "cell_type": "code",
   "execution_count": 35,
   "id": "e47bcdd2",
   "metadata": {},
   "outputs": [
    {
     "name": "stdout",
     "output_type": "stream",
     "text": [
      "ADSK not in SYMBOLS\n",
      "ZG not in SYMBOLS\n"
     ]
    }
   ],
   "source": [
    "check_symbols(et_df)"
   ]
  },
  {
   "cell_type": "code",
   "execution_count": 36,
   "id": "927e61eb",
   "metadata": {},
   "outputs": [
    {
     "data": {
      "text/html": [
       "<div>\n",
       "<style scoped>\n",
       "    .dataframe tbody tr th:only-of-type {\n",
       "        vertical-align: middle;\n",
       "    }\n",
       "\n",
       "    .dataframe tbody tr th {\n",
       "        vertical-align: top;\n",
       "    }\n",
       "\n",
       "    .dataframe thead th {\n",
       "        text-align: right;\n",
       "    }\n",
       "</style>\n",
       "<table border=\"1\" class=\"dataframe\">\n",
       "  <thead>\n",
       "    <tr style=\"text-align: right;\">\n",
       "      <th></th>\n",
       "      <th>ET</th>\n",
       "    </tr>\n",
       "  </thead>\n",
       "  <tbody>\n",
       "    <tr>\n",
       "      <th>AAPL</th>\n",
       "      <td>0</td>\n",
       "    </tr>\n",
       "    <tr>\n",
       "      <th>ABMD</th>\n",
       "      <td>0</td>\n",
       "    </tr>\n",
       "    <tr>\n",
       "      <th>ABNB</th>\n",
       "      <td>0</td>\n",
       "    </tr>\n",
       "    <tr>\n",
       "      <th>AMD</th>\n",
       "      <td>0</td>\n",
       "    </tr>\n",
       "    <tr>\n",
       "      <th>AMZN</th>\n",
       "      <td>0</td>\n",
       "    </tr>\n",
       "  </tbody>\n",
       "</table>\n",
       "</div>"
      ],
      "text/plain": [
       "      ET\n",
       "AAPL   0\n",
       "ABMD   0\n",
       "ABNB   0\n",
       "AMD    0\n",
       "AMZN   0"
      ]
     },
     "execution_count": 36,
     "metadata": {},
     "output_type": "execute_result"
    }
   ],
   "source": [
    "out = pd.concat([binder, et_df], axis=1).fillna(0)\n",
    "out.ET = out.ET.astype(float).apply(lambda x: int(round(x)))\n",
    "out.head()"
   ]
  },
  {
   "cell_type": "markdown",
   "id": "f2a26ead",
   "metadata": {},
   "source": [
    "### Fidelity"
   ]
  },
  {
   "cell_type": "code",
   "execution_count": 37,
   "id": "6f360d0f",
   "metadata": {},
   "outputs": [
    {
     "data": {
      "text/plain": [
       "'Portfolio_Positions_Apr-22-2022.csv'"
      ]
     },
     "execution_count": 37,
     "metadata": {},
     "output_type": "execute_result"
    }
   ],
   "source": [
    "TODAY = datetime.now().date()\n",
    "TODAY\n",
    "today = datetime.strftime(TODAY, '%b-%d-%Y')\n",
    "filename = f'Portfolio_Positions_{today}.csv'\n",
    "filename"
   ]
  },
  {
   "cell_type": "code",
   "execution_count": 21,
   "id": "f5e0e3ac",
   "metadata": {},
   "outputs": [
    {
     "data": {
      "text/html": [
       "<div>\n",
       "<style scoped>\n",
       "    .dataframe tbody tr th:only-of-type {\n",
       "        vertical-align: middle;\n",
       "    }\n",
       "\n",
       "    .dataframe tbody tr th {\n",
       "        vertical-align: top;\n",
       "    }\n",
       "\n",
       "    .dataframe thead th {\n",
       "        text-align: right;\n",
       "    }\n",
       "</style>\n",
       "<table border=\"1\" class=\"dataframe\">\n",
       "  <thead>\n",
       "    <tr style=\"text-align: right;\">\n",
       "      <th></th>\n",
       "      <th>Account Number</th>\n",
       "      <th>Account Name</th>\n",
       "      <th>Symbol</th>\n",
       "      <th>Description</th>\n",
       "      <th>Quantity</th>\n",
       "      <th>Last Price</th>\n",
       "      <th>Last Price Change</th>\n",
       "      <th>Current Value</th>\n",
       "      <th>Today's Gain/Loss Dollar</th>\n",
       "      <th>Today's Gain/Loss Percent</th>\n",
       "      <th>Total Gain/Loss Dollar</th>\n",
       "      <th>Total Gain/Loss Percent</th>\n",
       "      <th>Percent Of Account</th>\n",
       "      <th>Cost Basis</th>\n",
       "      <th>Cost Basis Per Share</th>\n",
       "      <th>Type</th>\n",
       "    </tr>\n",
       "  </thead>\n",
       "  <tbody>\n",
       "    <tr>\n",
       "      <th>0</th>\n",
       "      <td>218520300</td>\n",
       "      <td>ROLLOVER IRA</td>\n",
       "      <td>SPAXX**</td>\n",
       "      <td>FIDELITY GOVERNMENT MONEY MARKET</td>\n",
       "      <td>13487.32</td>\n",
       "      <td>$1.00</td>\n",
       "      <td>$0.00</td>\n",
       "      <td>$13487.32</td>\n",
       "      <td>NaN</td>\n",
       "      <td>NaN</td>\n",
       "      <td>NaN</td>\n",
       "      <td>NaN</td>\n",
       "      <td>32.01%</td>\n",
       "      <td>NaN</td>\n",
       "      <td>NaN</td>\n",
       "      <td>Cash</td>\n",
       "    </tr>\n",
       "    <tr>\n",
       "      <th>1</th>\n",
       "      <td>218520300</td>\n",
       "      <td>ROLLOVER IRA</td>\n",
       "      <td>AAPL</td>\n",
       "      <td>APPLE INC</td>\n",
       "      <td>16.00</td>\n",
       "      <td>$161.79</td>\n",
       "      <td>-$4.63</td>\n",
       "      <td>$2588.64</td>\n",
       "      <td>-$74.08</td>\n",
       "      <td>-2.79%</td>\n",
       "      <td>+$164.48</td>\n",
       "      <td>+6.78%</td>\n",
       "      <td>6.14%</td>\n",
       "      <td>$2424.16</td>\n",
       "      <td>$151.51</td>\n",
       "      <td>Cash</td>\n",
       "    </tr>\n",
       "    <tr>\n",
       "      <th>2</th>\n",
       "      <td>218520300</td>\n",
       "      <td>ROLLOVER IRA</td>\n",
       "      <td>ABMD</td>\n",
       "      <td>ABIOMED INC COM USD0.01</td>\n",
       "      <td>1.00</td>\n",
       "      <td>$295.83</td>\n",
       "      <td>-$19.81</td>\n",
       "      <td>$295.83</td>\n",
       "      <td>-$19.81</td>\n",
       "      <td>-6.28%</td>\n",
       "      <td>+$9.97</td>\n",
       "      <td>+3.48%</td>\n",
       "      <td>0.70%</td>\n",
       "      <td>$285.86</td>\n",
       "      <td>$285.86</td>\n",
       "      <td>Cash</td>\n",
       "    </tr>\n",
       "    <tr>\n",
       "      <th>3</th>\n",
       "      <td>218520300</td>\n",
       "      <td>ROLLOVER IRA</td>\n",
       "      <td>ABNB</td>\n",
       "      <td>AIRBNB INC COM CL A</td>\n",
       "      <td>3.00</td>\n",
       "      <td>$156.09</td>\n",
       "      <td>-$1.82</td>\n",
       "      <td>$468.27</td>\n",
       "      <td>-$5.46</td>\n",
       "      <td>-1.16%</td>\n",
       "      <td>+$40.02</td>\n",
       "      <td>+9.34%</td>\n",
       "      <td>1.11%</td>\n",
       "      <td>$428.25</td>\n",
       "      <td>$142.75</td>\n",
       "      <td>Cash</td>\n",
       "    </tr>\n",
       "    <tr>\n",
       "      <th>4</th>\n",
       "      <td>218520300</td>\n",
       "      <td>ROLLOVER IRA</td>\n",
       "      <td>AMD</td>\n",
       "      <td>ADVANCED MICRO DEVICES INC</td>\n",
       "      <td>10.00</td>\n",
       "      <td>$88.14</td>\n",
       "      <td>-$1.71</td>\n",
       "      <td>$881.40</td>\n",
       "      <td>-$17.10</td>\n",
       "      <td>-1.91%</td>\n",
       "      <td>-$143.94</td>\n",
       "      <td>-14.04%</td>\n",
       "      <td>2.09%</td>\n",
       "      <td>$1025.34</td>\n",
       "      <td>$102.53</td>\n",
       "      <td>Cash</td>\n",
       "    </tr>\n",
       "  </tbody>\n",
       "</table>\n",
       "</div>"
      ],
      "text/plain": [
       "  Account Number  Account Name   Symbol                       Description  \\\n",
       "0      218520300  ROLLOVER IRA  SPAXX**  FIDELITY GOVERNMENT MONEY MARKET   \n",
       "1      218520300  ROLLOVER IRA     AAPL                         APPLE INC   \n",
       "2      218520300  ROLLOVER IRA     ABMD           ABIOMED INC COM USD0.01   \n",
       "3      218520300  ROLLOVER IRA     ABNB               AIRBNB INC COM CL A   \n",
       "4      218520300  ROLLOVER IRA      AMD        ADVANCED MICRO DEVICES INC   \n",
       "\n",
       "   Quantity Last Price Last Price Change Current Value  \\\n",
       "0  13487.32      $1.00             $0.00     $13487.32   \n",
       "1     16.00    $161.79            -$4.63      $2588.64   \n",
       "2      1.00    $295.83           -$19.81       $295.83   \n",
       "3      3.00    $156.09            -$1.82       $468.27   \n",
       "4     10.00     $88.14            -$1.71       $881.40   \n",
       "\n",
       "  Today's Gain/Loss Dollar Today's Gain/Loss Percent Total Gain/Loss Dollar  \\\n",
       "0                      NaN                       NaN                    NaN   \n",
       "1                  -$74.08                    -2.79%               +$164.48   \n",
       "2                  -$19.81                    -6.28%                 +$9.97   \n",
       "3                   -$5.46                    -1.16%                +$40.02   \n",
       "4                  -$17.10                    -1.91%               -$143.94   \n",
       "\n",
       "  Total Gain/Loss Percent Percent Of Account Cost Basis Cost Basis Per Share  \\\n",
       "0                     NaN             32.01%        NaN                  NaN   \n",
       "1                  +6.78%              6.14%   $2424.16              $151.51   \n",
       "2                  +3.48%              0.70%    $285.86              $285.86   \n",
       "3                  +9.34%              1.11%    $428.25              $142.75   \n",
       "4                 -14.04%              2.09%   $1025.34              $102.53   \n",
       "\n",
       "   Type  \n",
       "0  Cash  \n",
       "1  Cash  \n",
       "2  Cash  \n",
       "3  Cash  \n",
       "4  Cash  "
      ]
     },
     "execution_count": 21,
     "metadata": {},
     "output_type": "execute_result"
    }
   ],
   "source": [
    "df_raw = pd.read_csv(f'{DL}/{filename}')\n",
    "df_raw.head()"
   ]
  },
  {
   "cell_type": "code",
   "execution_count": 22,
   "id": "e6c79626",
   "metadata": {},
   "outputs": [
    {
     "data": {
      "text/html": [
       "<div>\n",
       "<style scoped>\n",
       "    .dataframe tbody tr th:only-of-type {\n",
       "        vertical-align: middle;\n",
       "    }\n",
       "\n",
       "    .dataframe tbody tr th {\n",
       "        vertical-align: top;\n",
       "    }\n",
       "\n",
       "    .dataframe thead th {\n",
       "        text-align: right;\n",
       "    }\n",
       "</style>\n",
       "<table border=\"1\" class=\"dataframe\">\n",
       "  <thead>\n",
       "    <tr style=\"text-align: right;\">\n",
       "      <th></th>\n",
       "      <th>Account Name</th>\n",
       "      <th>Symbol</th>\n",
       "      <th>Current Value</th>\n",
       "    </tr>\n",
       "  </thead>\n",
       "  <tbody>\n",
       "    <tr>\n",
       "      <th>1</th>\n",
       "      <td>ROLLOVER IRA</td>\n",
       "      <td>AAPL</td>\n",
       "      <td>2589</td>\n",
       "    </tr>\n",
       "    <tr>\n",
       "      <th>2</th>\n",
       "      <td>ROLLOVER IRA</td>\n",
       "      <td>ABMD</td>\n",
       "      <td>296</td>\n",
       "    </tr>\n",
       "    <tr>\n",
       "      <th>3</th>\n",
       "      <td>ROLLOVER IRA</td>\n",
       "      <td>ABNB</td>\n",
       "      <td>468</td>\n",
       "    </tr>\n",
       "    <tr>\n",
       "      <th>4</th>\n",
       "      <td>ROLLOVER IRA</td>\n",
       "      <td>AMD</td>\n",
       "      <td>881</td>\n",
       "    </tr>\n",
       "    <tr>\n",
       "      <th>5</th>\n",
       "      <td>ROLLOVER IRA</td>\n",
       "      <td>AXON</td>\n",
       "      <td>1416</td>\n",
       "    </tr>\n",
       "  </tbody>\n",
       "</table>\n",
       "</div>"
      ],
      "text/plain": [
       "   Account Name Symbol  Current Value\n",
       "1  ROLLOVER IRA   AAPL           2589\n",
       "2  ROLLOVER IRA   ABMD            296\n",
       "3  ROLLOVER IRA   ABNB            468\n",
       "4  ROLLOVER IRA    AMD            881\n",
       "5  ROLLOVER IRA   AXON           1416"
      ]
     },
     "execution_count": 22,
     "metadata": {},
     "output_type": "execute_result"
    }
   ],
   "source": [
    "df = df_raw[['Account Name', 'Symbol', 'Current Value']].dropna()\n",
    "df['Current Value'] = df['Current Value'].apply(convert_value)\n",
    "df['Current Value'] = df['Current Value'].fillna(0).astype(int)\n",
    "df = df[((df.Symbol != 'SPAXX**') & (df.Symbol != 'Pending Activity'))]\n",
    "df.head()"
   ]
  },
  {
   "cell_type": "code",
   "execution_count": 23,
   "id": "c667aa09",
   "metadata": {},
   "outputs": [
    {
     "data": {
      "text/html": [
       "<div>\n",
       "<style scoped>\n",
       "    .dataframe tbody tr th:only-of-type {\n",
       "        vertical-align: middle;\n",
       "    }\n",
       "\n",
       "    .dataframe tbody tr th {\n",
       "        vertical-align: top;\n",
       "    }\n",
       "\n",
       "    .dataframe thead th {\n",
       "        text-align: right;\n",
       "    }\n",
       "</style>\n",
       "<table border=\"1\" class=\"dataframe\">\n",
       "  <thead>\n",
       "    <tr style=\"text-align: right;\">\n",
       "      <th></th>\n",
       "      <th>ROLLOVER IRA</th>\n",
       "    </tr>\n",
       "    <tr>\n",
       "      <th>Symbol</th>\n",
       "      <th></th>\n",
       "    </tr>\n",
       "  </thead>\n",
       "  <tbody>\n",
       "    <tr>\n",
       "      <th>AAPL</th>\n",
       "      <td>2589</td>\n",
       "    </tr>\n",
       "    <tr>\n",
       "      <th>ABMD</th>\n",
       "      <td>296</td>\n",
       "    </tr>\n",
       "    <tr>\n",
       "      <th>ABNB</th>\n",
       "      <td>468</td>\n",
       "    </tr>\n",
       "    <tr>\n",
       "      <th>AMD</th>\n",
       "      <td>881</td>\n",
       "    </tr>\n",
       "    <tr>\n",
       "      <th>AXON</th>\n",
       "      <td>1416</td>\n",
       "    </tr>\n",
       "  </tbody>\n",
       "</table>\n",
       "</div>"
      ],
      "text/plain": [
       "        ROLLOVER IRA\n",
       "Symbol              \n",
       "AAPL            2589\n",
       "ABMD             296\n",
       "ABNB             468\n",
       "AMD              881\n",
       "AXON            1416"
      ]
     },
     "execution_count": 23,
     "metadata": {},
     "output_type": "execute_result"
    }
   ],
   "source": [
    "accounts = {account_name: df[df['Account Name'] == account_name]\n",
    "            for account_name in df['Account Name'].unique()}\n",
    "for acct in accounts.keys():\n",
    "    accounts[acct].index = accounts[acct].Symbol\n",
    "    accounts[acct] = (\n",
    "        accounts[acct]\n",
    "        .rename(columns={'Current Value': acct})\n",
    "        .drop(columns=['Account Name', 'Symbol']))\n",
    "    \n",
    "accounts['ROLLOVER IRA'].head()"
   ]
  },
  {
   "cell_type": "code",
   "execution_count": 24,
   "id": "218173fd",
   "metadata": {},
   "outputs": [
    {
     "name": "stdout",
     "output_type": "stream",
     "text": [
      "ROLLOVER IRA\n",
      "All clear\n",
      "\n",
      "ROTH IRA\n",
      "All clear\n",
      "\n",
      "SIMPLE IRA\n",
      "All clear\n",
      "\n"
     ]
    }
   ],
   "source": [
    "for k, v in accounts.items():\n",
    "    print(k)\n",
    "    check_symbols(v)\n",
    "    print()"
   ]
  },
  {
   "cell_type": "code",
   "execution_count": 25,
   "id": "e2f5c435",
   "metadata": {},
   "outputs": [
    {
     "data": {
      "text/html": [
       "<div>\n",
       "<style scoped>\n",
       "    .dataframe tbody tr th:only-of-type {\n",
       "        vertical-align: middle;\n",
       "    }\n",
       "\n",
       "    .dataframe tbody tr th {\n",
       "        vertical-align: top;\n",
       "    }\n",
       "\n",
       "    .dataframe thead th {\n",
       "        text-align: right;\n",
       "    }\n",
       "</style>\n",
       "<table border=\"1\" class=\"dataframe\">\n",
       "  <thead>\n",
       "    <tr style=\"text-align: right;\">\n",
       "      <th></th>\n",
       "      <th>ET</th>\n",
       "      <th>ROLLOVER IRA</th>\n",
       "      <th>ROTH IRA</th>\n",
       "      <th>SIMPLE IRA</th>\n",
       "    </tr>\n",
       "  </thead>\n",
       "  <tbody>\n",
       "    <tr>\n",
       "      <th>AAPL</th>\n",
       "      <td>324</td>\n",
       "      <td>2589</td>\n",
       "      <td>0</td>\n",
       "      <td>0</td>\n",
       "    </tr>\n",
       "    <tr>\n",
       "      <th>ABMD</th>\n",
       "      <td>592</td>\n",
       "      <td>296</td>\n",
       "      <td>296</td>\n",
       "      <td>0</td>\n",
       "    </tr>\n",
       "    <tr>\n",
       "      <th>ABNB</th>\n",
       "      <td>1249</td>\n",
       "      <td>468</td>\n",
       "      <td>312</td>\n",
       "      <td>0</td>\n",
       "    </tr>\n",
       "    <tr>\n",
       "      <th>AMD</th>\n",
       "      <td>88</td>\n",
       "      <td>881</td>\n",
       "      <td>1322</td>\n",
       "      <td>0</td>\n",
       "    </tr>\n",
       "    <tr>\n",
       "      <th>AMZN</th>\n",
       "      <td>0</td>\n",
       "      <td>0</td>\n",
       "      <td>0</td>\n",
       "      <td>0</td>\n",
       "    </tr>\n",
       "  </tbody>\n",
       "</table>\n",
       "</div>"
      ],
      "text/plain": [
       "        ET  ROLLOVER IRA  ROTH IRA  SIMPLE IRA\n",
       "AAPL   324          2589         0           0\n",
       "ABMD   592           296       296           0\n",
       "ABNB  1249           468       312           0\n",
       "AMD     88           881      1322           0\n",
       "AMZN     0             0         0           0"
      ]
     },
     "execution_count": 25,
     "metadata": {},
     "output_type": "execute_result"
    }
   ],
   "source": [
    "for v in accounts.values():\n",
    "    out = pd.concat([out, v], axis=1)\n",
    "out.fillna(0, inplace=True)\n",
    "out = out.astype(int)\n",
    "out.head()"
   ]
  },
  {
   "cell_type": "code",
   "execution_count": 38,
   "id": "11c0b029",
   "metadata": {},
   "outputs": [],
   "source": [
    "out.to_csv(f'{DL}/clean.csv')"
   ]
  },
  {
   "cell_type": "code",
   "execution_count": 39,
   "id": "661fde50",
   "metadata": {},
   "outputs": [],
   "source": [
    "!open $DL/clean.csv"
   ]
  },
  {
   "cell_type": "code",
   "execution_count": 28,
   "id": "37b12ba4",
   "metadata": {},
   "outputs": [
    {
     "name": "stdout",
     "output_type": "stream",
     "text": [
      "Holdings - Damian Satterthwaite-Phillips(0).csv\r\n",
      "mw.csv\r\n"
     ]
    }
   ],
   "source": [
    "!rm $DL/$filename $DL/Positions.csv $DL/clean.csv\n",
    "!ls $DL"
   ]
  },
  {
   "cell_type": "markdown",
   "id": "536c0b43",
   "metadata": {},
   "source": [
    "### MarketWatch"
   ]
  },
  {
   "cell_type": "code",
   "execution_count": 9,
   "id": "5d12aba9",
   "metadata": {},
   "outputs": [
    {
     "name": "stdout",
     "output_type": "stream",
     "text": [
      "Holdings - Damian Satterthwaite-Phillips(0).csv\r\n",
      "Holdings - Damian Satterthwaite-Phillips(1).csv\r\n",
      "Holdings - Damian Satterthwaite-Phillips(2).csv\r\n"
     ]
    }
   ],
   "source": [
    "!mv \"$DL/Holdings - Damian Satterthwaite-Phillips.csv\" \"$DL/Holdings - Damian Satterthwaite-Phillips(0).csv\"\n",
    "!ls $DL"
   ]
  },
  {
   "cell_type": "code",
   "execution_count": 10,
   "id": "0359c7f7",
   "metadata": {},
   "outputs": [
    {
     "name": "stdout",
     "output_type": "stream",
     "text": [
      "Holdings - Damian Satterthwaite-Phillips(0).csv\n",
      "Holdings - Damian Satterthwaite-Phillips(1).csv\n",
      "Holdings - Damian Satterthwaite-Phillips(2).csv\n"
     ]
    },
    {
     "data": {
      "text/html": [
       "<div>\n",
       "<style scoped>\n",
       "    .dataframe tbody tr th:only-of-type {\n",
       "        vertical-align: middle;\n",
       "    }\n",
       "\n",
       "    .dataframe tbody tr th {\n",
       "        vertical-align: top;\n",
       "    }\n",
       "\n",
       "    .dataframe thead th {\n",
       "        text-align: right;\n",
       "    }\n",
       "</style>\n",
       "<table border=\"1\" class=\"dataframe\">\n",
       "  <thead>\n",
       "    <tr style=\"text-align: right;\">\n",
       "      <th></th>\n",
       "      <th>Value_0</th>\n",
       "      <th>Value_1</th>\n",
       "      <th>Value_2</th>\n",
       "    </tr>\n",
       "  </thead>\n",
       "  <tbody>\n",
       "    <tr>\n",
       "      <th>AAPL</th>\n",
       "      <td>809</td>\n",
       "      <td>485</td>\n",
       "      <td>0</td>\n",
       "    </tr>\n",
       "    <tr>\n",
       "      <th>ABMD</th>\n",
       "      <td>1183</td>\n",
       "      <td>887</td>\n",
       "      <td>1775</td>\n",
       "    </tr>\n",
       "    <tr>\n",
       "      <th>ABNB</th>\n",
       "      <td>937</td>\n",
       "      <td>780</td>\n",
       "      <td>1561</td>\n",
       "    </tr>\n",
       "    <tr>\n",
       "      <th>AMD</th>\n",
       "      <td>617</td>\n",
       "      <td>264</td>\n",
       "      <td>0</td>\n",
       "    </tr>\n",
       "    <tr>\n",
       "      <th>AMZN</th>\n",
       "      <td>2887</td>\n",
       "      <td>0</td>\n",
       "      <td>0</td>\n",
       "    </tr>\n",
       "  </tbody>\n",
       "</table>\n",
       "</div>"
      ],
      "text/plain": [
       "      Value_0  Value_1  Value_2\n",
       "AAPL      809      485        0\n",
       "ABMD     1183      887     1775\n",
       "ABNB      937      780     1561\n",
       "AMD       617      264        0\n",
       "AMZN     2887        0        0"
      ]
     },
     "execution_count": 10,
     "metadata": {},
     "output_type": "execute_result"
    }
   ],
   "source": [
    "dfs = [binder]\n",
    "for i, f in enumerate(sorted(os.listdir(DL))):\n",
    "    print(f)\n",
    "    if f.startswith('Holdings'):\n",
    "        mw = pd.read_csv(f'{DL}/{f}')[['Symbol', 'Value']]\n",
    "        mw.rename(columns={'Value': f'Value_{i}'}, inplace=True)\n",
    "        mw.index = mw.Symbol\n",
    "        mw.drop('Symbol', axis=1, inplace=True)\n",
    "        mw[f'Value_{i}'] = mw[f'Value_{i}'].apply(convert_value)\n",
    "        dfs.append(mw)\n",
    "mw = pd.concat(dfs, axis=1).fillna(0).astype(int)\n",
    "mw.head()"
   ]
  },
  {
   "cell_type": "code",
   "execution_count": 11,
   "id": "f1763741",
   "metadata": {},
   "outputs": [
    {
     "name": "stdout",
     "output_type": "stream",
     "text": [
      "All clear\n"
     ]
    }
   ],
   "source": [
    "check_symbols(mw)"
   ]
  },
  {
   "cell_type": "code",
   "execution_count": 12,
   "id": "c4235ee6",
   "metadata": {},
   "outputs": [
    {
     "data": {
      "text/html": [
       "<div>\n",
       "<style scoped>\n",
       "    .dataframe tbody tr th:only-of-type {\n",
       "        vertical-align: middle;\n",
       "    }\n",
       "\n",
       "    .dataframe tbody tr th {\n",
       "        vertical-align: top;\n",
       "    }\n",
       "\n",
       "    .dataframe thead th {\n",
       "        text-align: right;\n",
       "    }\n",
       "</style>\n",
       "<table border=\"1\" class=\"dataframe\">\n",
       "  <thead>\n",
       "    <tr style=\"text-align: right;\">\n",
       "      <th></th>\n",
       "      <th>Value_0</th>\n",
       "      <th>Value_1</th>\n",
       "      <th>Value_2</th>\n",
       "    </tr>\n",
       "  </thead>\n",
       "  <tbody>\n",
       "    <tr>\n",
       "      <th>AAPL</th>\n",
       "      <td>809</td>\n",
       "      <td>485</td>\n",
       "      <td>0</td>\n",
       "    </tr>\n",
       "    <tr>\n",
       "      <th>ABMD</th>\n",
       "      <td>1183</td>\n",
       "      <td>887</td>\n",
       "      <td>1775</td>\n",
       "    </tr>\n",
       "    <tr>\n",
       "      <th>ABNB</th>\n",
       "      <td>937</td>\n",
       "      <td>780</td>\n",
       "      <td>1561</td>\n",
       "    </tr>\n",
       "    <tr>\n",
       "      <th>AMD</th>\n",
       "      <td>617</td>\n",
       "      <td>264</td>\n",
       "      <td>0</td>\n",
       "    </tr>\n",
       "    <tr>\n",
       "      <th>AMZN</th>\n",
       "      <td>2887</td>\n",
       "      <td>0</td>\n",
       "      <td>0</td>\n",
       "    </tr>\n",
       "  </tbody>\n",
       "</table>\n",
       "</div>"
      ],
      "text/plain": [
       "      Value_0  Value_1  Value_2\n",
       "AAPL      809      485        0\n",
       "ABMD     1183      887     1775\n",
       "ABNB      937      780     1561\n",
       "AMD       617      264        0\n",
       "AMZN     2887        0        0"
      ]
     },
     "execution_count": 12,
     "metadata": {},
     "output_type": "execute_result"
    }
   ],
   "source": [
    "#out = pd.concat([binder, mw], axis=1).fillna(0).astype(int)\n",
    "mw.head()"
   ]
  },
  {
   "cell_type": "code",
   "execution_count": 13,
   "id": "a6dc8cb4",
   "metadata": {},
   "outputs": [],
   "source": [
    "mw.to_csv(f'{DL}/mw.csv')"
   ]
  },
  {
   "cell_type": "code",
   "execution_count": 14,
   "id": "9f38afa8",
   "metadata": {},
   "outputs": [],
   "source": [
    "!open $DL/mw.csv"
   ]
  },
  {
   "cell_type": "code",
   "execution_count": 29,
   "id": "338a3373",
   "metadata": {},
   "outputs": [],
   "source": [
    "!rm $DL/Holdings*.csv $DL/mw.csv\n",
    "!ls $DL"
   ]
  },
  {
   "cell_type": "code",
   "execution_count": 16,
   "id": "05ab44d7",
   "metadata": {},
   "outputs": [
    {
     "name": "stdout",
     "output_type": "stream",
     "text": [
      "rm: /Users/damiansp/Downloads/*: No such file or directory\r\n"
     ]
    }
   ],
   "source": [
    "!rm $DL/*"
   ]
  },
  {
   "cell_type": "code",
   "execution_count": null,
   "id": "f5e9386a",
   "metadata": {},
   "outputs": [],
   "source": [
    "!ls ."
   ]
  },
  {
   "cell_type": "code",
   "execution_count": null,
   "id": "3761dfb7",
   "metadata": {},
   "outputs": [],
   "source": [
    "!cp qp50.py.ipynb qp03.py.ipynb"
   ]
  },
  {
   "cell_type": "code",
   "execution_count": null,
   "id": "a86148c3",
   "metadata": {},
   "outputs": [],
   "source": []
  }
 ],
 "metadata": {
  "kernelspec": {
   "display_name": "Python 3 (ipykernel)",
   "language": "python",
   "name": "python3"
  },
  "language_info": {
   "codemirror_mode": {
    "name": "ipython",
    "version": 3
   },
   "file_extension": ".py",
   "mimetype": "text/x-python",
   "name": "python",
   "nbconvert_exporter": "python",
   "pygments_lexer": "ipython3",
   "version": "3.8.5"
  }
 },
 "nbformat": 4,
 "nbformat_minor": 5
}
