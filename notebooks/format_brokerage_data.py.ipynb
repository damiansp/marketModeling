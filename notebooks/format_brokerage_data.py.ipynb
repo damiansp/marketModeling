{
 "cells": [
  {
   "cell_type": "code",
   "execution_count": 31,
   "id": "d801eb40",
   "metadata": {},
   "outputs": [],
   "source": [
    "DL = '/Users/damiansp/Downloads'"
   ]
  },
  {
   "cell_type": "code",
   "execution_count": 32,
   "id": "ff43e5fb",
   "metadata": {},
   "outputs": [],
   "source": [
    "!rm -rf $DL/*"
   ]
  },
  {
   "cell_type": "code",
   "execution_count": 33,
   "id": "435325a5",
   "metadata": {},
   "outputs": [],
   "source": [
    "from datetime import datetime, timedelta\n",
    "import os\n",
    "\n",
    "import numpy as np\n",
    "import pandas as pd\n",
    "import xlrd"
   ]
  },
  {
   "cell_type": "code",
   "execution_count": 34,
   "id": "dc918d1a",
   "metadata": {},
   "outputs": [],
   "source": [
    "SYMBOLS = [\n",
    "    'AAPL', 'ABMD', 'ABNB', 'ADBE', 'ADYEY', 'AMD', 'AMGN', 'AMZN',\n",
    "    'ANET', 'ASML', 'AXON', 'BROS', 'BYND', 'CHWY', 'CRWD', 'DDOG',\n",
    "    'DOCS', 'DOCU', 'DUOL', 'EDIT', 'ETSY', 'FLGT', 'GH', 'GMED',\n",
    "    'GOOG', 'IDXX', 'INTG', 'ISRG', 'JD', 'LRCX', 'LSPD', 'LULU', 'MDB',\n",
    "    'MELI', 'MNST', 'MSFT', 'MTCH', 'NVCR', 'NVDA', 'ODFL', 'OKTA',\n",
    "    'OPEN', 'PAC', 'PANW', 'PAYC', 'PINS', 'PYPL', 'QDEL', 'RBLX',\n",
    "    'RDFN', 'RGEN', 'RIVN', 'ROKU', 'RVLV', 'SE', 'SHOP', 'SNOW',\n",
    "    'TASK', 'TDOC', 'TEAM', 'TREX', 'TTD', 'TTWO', 'TWLO', 'TWTR',\n",
    "    'TYL', 'UPST', 'VEEV', 'VLD', 'VRTX', 'XPEV', 'ZEN', 'ZM']\n",
    "LINGERERS = [\n",
    "    'AMEH', 'AMRK', 'BYRN', 'CIZN', 'CTSH', 'CUBE', 'EP', 'EXR', 'FCPT', \n",
    "    'FCUV', 'GBOX', 'GME', 'INTZ', 'KREF', 'LFMD', 'MCVT', 'MNMD',\n",
    "    'OMQS', 'PETV', 'POWW', 'PRPH', 'RA', 'RVP', 'VIRT', 'WAVD', 'WKHS',\n",
    "    'ZYXI']\n",
    "BEST_WEIGHTED = [\n",
    "    'ABST', 'APT', 'BKT', 'CEF', 'CFFN', 'CZFS', 'FCAP', 'FCN', 'FNV',\n",
    "    'GCBC', 'HMY', 'IEI', 'MICS', 'MIY', 'MUJ', 'NAZ', 'NLY', 'NPV',\n",
    "    'NXP', 'SOBR']\n",
    "SYMBOLS = sorted(list(set(SYMBOLS + LINGERERS + BEST_WEIGHTED)))"
   ]
  },
  {
   "cell_type": "code",
   "execution_count": 35,
   "id": "3898dfe3",
   "metadata": {},
   "outputs": [],
   "source": [
    "!ls $DL"
   ]
  },
  {
   "cell_type": "code",
   "execution_count": 36,
   "id": "be6da83b",
   "metadata": {},
   "outputs": [],
   "source": [
    "#!head -5 $DL/Positions.csv"
   ]
  },
  {
   "cell_type": "code",
   "execution_count": 37,
   "id": "0eac6b5a",
   "metadata": {},
   "outputs": [],
   "source": [
    "def check_symbols(df):\n",
    "    all_present = True\n",
    "    for symbol in df.index.unique():\n",
    "        if symbol not in SYMBOLS:\n",
    "            print(f'{symbol} not in SYMBOLS')\n",
    "            all_present = False\n",
    "    if all_present:\n",
    "        print('All clear')"
   ]
  },
  {
   "cell_type": "code",
   "execution_count": 38,
   "id": "afdbcabf",
   "metadata": {},
   "outputs": [],
   "source": [
    "def convert_value(s):\n",
    "    return round(float(s.replace('$', '').replace(',', '')))"
   ]
  },
  {
   "cell_type": "code",
   "execution_count": 39,
   "id": "34cbfb7d",
   "metadata": {},
   "outputs": [
    {
     "data": {
      "text/html": [
       "<div>\n",
       "<style scoped>\n",
       "    .dataframe tbody tr th:only-of-type {\n",
       "        vertical-align: middle;\n",
       "    }\n",
       "\n",
       "    .dataframe tbody tr th {\n",
       "        vertical-align: top;\n",
       "    }\n",
       "\n",
       "    .dataframe thead th {\n",
       "        text-align: right;\n",
       "    }\n",
       "</style>\n",
       "<table border=\"1\" class=\"dataframe\">\n",
       "  <thead>\n",
       "    <tr style=\"text-align: right;\">\n",
       "      <th></th>\n",
       "    </tr>\n",
       "  </thead>\n",
       "  <tbody>\n",
       "    <tr>\n",
       "      <th>AAPL</th>\n",
       "    </tr>\n",
       "    <tr>\n",
       "      <th>ABMD</th>\n",
       "    </tr>\n",
       "    <tr>\n",
       "      <th>ABNB</th>\n",
       "    </tr>\n",
       "    <tr>\n",
       "      <th>ABST</th>\n",
       "    </tr>\n",
       "    <tr>\n",
       "      <th>ADBE</th>\n",
       "    </tr>\n",
       "  </tbody>\n",
       "</table>\n",
       "</div>"
      ],
      "text/plain": [
       "Empty DataFrame\n",
       "Columns: []\n",
       "Index: [AAPL, ABMD, ABNB, ABST, ADBE]"
      ]
     },
     "execution_count": 39,
     "metadata": {},
     "output_type": "execute_result"
    }
   ],
   "source": [
    "binder = pd.DataFrame(index=SYMBOLS)\n",
    "binder.head()"
   ]
  },
  {
   "cell_type": "markdown",
   "id": "572fb5b0",
   "metadata": {},
   "source": [
    "### E*Trade"
   ]
  },
  {
   "cell_type": "code",
   "execution_count": 40,
   "id": "3e3857c1",
   "metadata": {},
   "outputs": [],
   "source": [
    "TODAY = datetime.now().date()\n",
    "TODAY\n",
    "DONGMEI = False"
   ]
  },
  {
   "cell_type": "code",
   "execution_count": 41,
   "id": "9181cd9e",
   "metadata": {},
   "outputs": [
    {
     "data": {
      "text/html": [
       "<div>\n",
       "<style scoped>\n",
       "    .dataframe tbody tr th:only-of-type {\n",
       "        vertical-align: middle;\n",
       "    }\n",
       "\n",
       "    .dataframe tbody tr th {\n",
       "        vertical-align: top;\n",
       "    }\n",
       "\n",
       "    .dataframe thead th {\n",
       "        text-align: right;\n",
       "    }\n",
       "</style>\n",
       "<table border=\"1\" class=\"dataframe\">\n",
       "  <thead>\n",
       "    <tr style=\"text-align: right;\">\n",
       "      <th></th>\n",
       "      <th>ET</th>\n",
       "    </tr>\n",
       "  </thead>\n",
       "  <tbody>\n",
       "    <tr>\n",
       "      <th>AAPL</th>\n",
       "      <td>1353.8700000000001</td>\n",
       "    </tr>\n",
       "    <tr>\n",
       "      <th>ABMD</th>\n",
       "      <td>1227.65</td>\n",
       "    </tr>\n",
       "    <tr>\n",
       "      <th>ABNB</th>\n",
       "      <td>305.25</td>\n",
       "    </tr>\n",
       "    <tr>\n",
       "      <th>ADBE</th>\n",
       "      <td>1138.24</td>\n",
       "    </tr>\n",
       "    <tr>\n",
       "      <th>ADYEY</th>\n",
       "      <td>3766.71</td>\n",
       "    </tr>\n",
       "  </tbody>\n",
       "</table>\n",
       "</div>"
      ],
      "text/plain": [
       "                       ET\n",
       "AAPL   1353.8700000000001\n",
       "ABMD              1227.65\n",
       "ABNB               305.25\n",
       "ADBE              1138.24\n",
       "ADYEY             3766.71"
      ]
     },
     "execution_count": 41,
     "metadata": {},
     "output_type": "execute_result"
    }
   ],
   "source": [
    "df = pd.read_csv(\n",
    "    f'{DL}/Positions.csv', index_col=0, skiprows=1\n",
    ")[['Market Value']].rename(columns={'Market Value': 'ET'})\n",
    "df.index = map(lambda x: x.split()[0], df.index)\n",
    "df.drop(index=['FNRG', 'Portfolio', 'Cash'], inplace=True)\n",
    "df.head()"
   ]
  },
  {
   "cell_type": "code",
   "execution_count": 42,
   "id": "3d66d096",
   "metadata": {},
   "outputs": [
    {
     "data": {
      "text/html": [
       "<div>\n",
       "<style scoped>\n",
       "    .dataframe tbody tr th:only-of-type {\n",
       "        vertical-align: middle;\n",
       "    }\n",
       "\n",
       "    .dataframe tbody tr th {\n",
       "        vertical-align: top;\n",
       "    }\n",
       "\n",
       "    .dataframe thead th {\n",
       "        text-align: right;\n",
       "    }\n",
       "</style>\n",
       "<table border=\"1\" class=\"dataframe\">\n",
       "  <thead>\n",
       "    <tr style=\"text-align: right;\">\n",
       "      <th></th>\n",
       "      <th>ET</th>\n",
       "    </tr>\n",
       "  </thead>\n",
       "  <tbody>\n",
       "    <tr>\n",
       "      <th>AAPL</th>\n",
       "      <td>1354</td>\n",
       "    </tr>\n",
       "    <tr>\n",
       "      <th>ABMD</th>\n",
       "      <td>1228</td>\n",
       "    </tr>\n",
       "    <tr>\n",
       "      <th>ABNB</th>\n",
       "      <td>305</td>\n",
       "    </tr>\n",
       "    <tr>\n",
       "      <th>ADBE</th>\n",
       "      <td>1138</td>\n",
       "    </tr>\n",
       "    <tr>\n",
       "      <th>ADYEY</th>\n",
       "      <td>3767</td>\n",
       "    </tr>\n",
       "  </tbody>\n",
       "</table>\n",
       "</div>"
      ],
      "text/plain": [
       "         ET\n",
       "AAPL   1354\n",
       "ABMD   1228\n",
       "ABNB    305\n",
       "ADBE   1138\n",
       "ADYEY  3767"
      ]
     },
     "execution_count": 42,
     "metadata": {},
     "output_type": "execute_result"
    }
   ],
   "source": [
    "if DONGMEI:\n",
    "    et_df = (\n",
    "        pd.read_csv(\n",
    "            f'{DL}/2022-04-29.csv', index_col=0, skiprows=1\n",
    "        )[['Market Value']]\n",
    "        .rename(columns={'Market Value': 'ET'}))\n",
    "    et_df.index = map(lambda x: x.split()[0], et_df.index)\n",
    "    et_df.drop(index=['Portfolio', 'Cash'], inplace=True)\n",
    "else:\n",
    "    et_df = (\n",
    "        pd.read_csv(\n",
    "            f'{DL}/Positions.csv', index_col=0, skiprows=1\n",
    "        )[['Market Value']]\n",
    "        .rename(columns={'Market Value': 'ET'}))\n",
    "    et_df.index = map(lambda x: x.split()[0], et_df.index)\n",
    "    et_df.drop(index=['FNRG', 'Portfolio', 'Cash'], inplace=True)\n",
    "    et_df.ET = et_df.ET.apply(\n",
    "        lambda x: round(float(x)) if x != '--' else x)\n",
    "et_df.head()"
   ]
  },
  {
   "cell_type": "code",
   "execution_count": 43,
   "id": "7e69ad97",
   "metadata": {},
   "outputs": [],
   "source": [
    "#et_df.drop(index=['98986CONT'], inplace=True)\n",
    "#et_df.head()"
   ]
  },
  {
   "cell_type": "code",
   "execution_count": 44,
   "id": "39bb62a8",
   "metadata": {},
   "outputs": [
    {
     "data": {
      "text/html": [
       "<div>\n",
       "<style scoped>\n",
       "    .dataframe tbody tr th:only-of-type {\n",
       "        vertical-align: middle;\n",
       "    }\n",
       "\n",
       "    .dataframe tbody tr th {\n",
       "        vertical-align: top;\n",
       "    }\n",
       "\n",
       "    .dataframe thead th {\n",
       "        text-align: right;\n",
       "    }\n",
       "</style>\n",
       "<table border=\"1\" class=\"dataframe\">\n",
       "  <thead>\n",
       "    <tr style=\"text-align: right;\">\n",
       "      <th></th>\n",
       "      <th>ET</th>\n",
       "    </tr>\n",
       "  </thead>\n",
       "  <tbody>\n",
       "  </tbody>\n",
       "</table>\n",
       "</div>"
      ],
      "text/plain": [
       "Empty DataFrame\n",
       "Columns: [ET]\n",
       "Index: []"
      ]
     },
     "execution_count": 44,
     "metadata": {},
     "output_type": "execute_result"
    }
   ],
   "source": [
    "et_df.loc[et_df.ET == '--']\n",
    "#et_df.loc['NVCR', 'ET'] = 79.24"
   ]
  },
  {
   "cell_type": "code",
   "execution_count": 45,
   "id": "e47bcdd2",
   "metadata": {},
   "outputs": [
    {
     "name": "stdout",
     "output_type": "stream",
     "text": [
      "All clear\n"
     ]
    }
   ],
   "source": [
    "check_symbols(et_df)"
   ]
  },
  {
   "cell_type": "code",
   "execution_count": 46,
   "id": "927e61eb",
   "metadata": {},
   "outputs": [
    {
     "data": {
      "text/html": [
       "<div>\n",
       "<style scoped>\n",
       "    .dataframe tbody tr th:only-of-type {\n",
       "        vertical-align: middle;\n",
       "    }\n",
       "\n",
       "    .dataframe tbody tr th {\n",
       "        vertical-align: top;\n",
       "    }\n",
       "\n",
       "    .dataframe thead th {\n",
       "        text-align: right;\n",
       "    }\n",
       "</style>\n",
       "<table border=\"1\" class=\"dataframe\">\n",
       "  <thead>\n",
       "    <tr style=\"text-align: right;\">\n",
       "      <th></th>\n",
       "      <th>ET</th>\n",
       "    </tr>\n",
       "  </thead>\n",
       "  <tbody>\n",
       "    <tr>\n",
       "      <th>AAPL</th>\n",
       "      <td>1354</td>\n",
       "    </tr>\n",
       "    <tr>\n",
       "      <th>ABMD</th>\n",
       "      <td>1228</td>\n",
       "    </tr>\n",
       "    <tr>\n",
       "      <th>ABNB</th>\n",
       "      <td>305</td>\n",
       "    </tr>\n",
       "    <tr>\n",
       "      <th>ABST</th>\n",
       "      <td>0</td>\n",
       "    </tr>\n",
       "    <tr>\n",
       "      <th>ADBE</th>\n",
       "      <td>1138</td>\n",
       "    </tr>\n",
       "  </tbody>\n",
       "</table>\n",
       "</div>"
      ],
      "text/plain": [
       "        ET\n",
       "AAPL  1354\n",
       "ABMD  1228\n",
       "ABNB   305\n",
       "ABST     0\n",
       "ADBE  1138"
      ]
     },
     "execution_count": 46,
     "metadata": {},
     "output_type": "execute_result"
    }
   ],
   "source": [
    "out = pd.concat([binder, et_df], axis=1).fillna(0)\n",
    "out.ET = out.ET.astype(float).apply(lambda x: int(round(x)))\n",
    "out.head()"
   ]
  },
  {
   "cell_type": "markdown",
   "id": "f2a26ead",
   "metadata": {},
   "source": [
    "### Fidelity"
   ]
  },
  {
   "cell_type": "code",
   "execution_count": 47,
   "id": "6f360d0f",
   "metadata": {},
   "outputs": [
    {
     "data": {
      "text/plain": [
       "'Portfolio_Positions_Sep-23-2022.csv'"
      ]
     },
     "execution_count": 47,
     "metadata": {},
     "output_type": "execute_result"
    }
   ],
   "source": [
    "today = datetime.strftime(TODAY, '%b-%d-%Y')\n",
    "filename = f'Portfolio_Positions_{today}.csv'\n",
    "filename"
   ]
  },
  {
   "cell_type": "code",
   "execution_count": 48,
   "id": "27aa14cb",
   "metadata": {},
   "outputs": [
    {
     "name": "stdout",
     "output_type": "stream",
     "text": [
      "Portfolio_Positions_Sep-23-2022.csv\r\n",
      "Positions.csv\r\n",
      "Positions_damiansp_Stocks_2022_09_23.xls\r\n"
     ]
    }
   ],
   "source": [
    "!ls $DL"
   ]
  },
  {
   "cell_type": "code",
   "execution_count": 49,
   "id": "f5e0e3ac",
   "metadata": {},
   "outputs": [
    {
     "data": {
      "text/html": [
       "<div>\n",
       "<style scoped>\n",
       "    .dataframe tbody tr th:only-of-type {\n",
       "        vertical-align: middle;\n",
       "    }\n",
       "\n",
       "    .dataframe tbody tr th {\n",
       "        vertical-align: top;\n",
       "    }\n",
       "\n",
       "    .dataframe thead th {\n",
       "        text-align: right;\n",
       "    }\n",
       "</style>\n",
       "<table border=\"1\" class=\"dataframe\">\n",
       "  <thead>\n",
       "    <tr style=\"text-align: right;\">\n",
       "      <th></th>\n",
       "      <th>Account Number</th>\n",
       "      <th>Account Name</th>\n",
       "      <th>Symbol</th>\n",
       "      <th>Description</th>\n",
       "      <th>Quantity</th>\n",
       "      <th>Last Price</th>\n",
       "      <th>Last Price Change</th>\n",
       "      <th>Current Value</th>\n",
       "      <th>Today's Gain/Loss Dollar</th>\n",
       "      <th>Today's Gain/Loss Percent</th>\n",
       "      <th>Total Gain/Loss Dollar</th>\n",
       "      <th>Total Gain/Loss Percent</th>\n",
       "      <th>Percent Of Account</th>\n",
       "      <th>Cost Basis</th>\n",
       "      <th>Cost Basis Per Share</th>\n",
       "      <th>Type</th>\n",
       "    </tr>\n",
       "  </thead>\n",
       "  <tbody>\n",
       "    <tr>\n",
       "      <th>0</th>\n",
       "      <td>218520300</td>\n",
       "      <td>ROLLOVER IRA</td>\n",
       "      <td>SPAXX**</td>\n",
       "      <td>FIDELITY GOVERNMENT MONEY MARKET</td>\n",
       "      <td>775.32</td>\n",
       "      <td>$1.00</td>\n",
       "      <td>$0.00</td>\n",
       "      <td>$775.32</td>\n",
       "      <td>NaN</td>\n",
       "      <td>NaN</td>\n",
       "      <td>NaN</td>\n",
       "      <td>NaN</td>\n",
       "      <td>2.32%</td>\n",
       "      <td>NaN</td>\n",
       "      <td>NaN</td>\n",
       "      <td>Cash</td>\n",
       "    </tr>\n",
       "    <tr>\n",
       "      <th>1</th>\n",
       "      <td>218520300</td>\n",
       "      <td>ROLLOVER IRA</td>\n",
       "      <td>ABMD</td>\n",
       "      <td>ABIOMED INC COM USD0.01</td>\n",
       "      <td>4.00</td>\n",
       "      <td>$245.53</td>\n",
       "      <td>-$1.73</td>\n",
       "      <td>$982.12</td>\n",
       "      <td>-$6.92</td>\n",
       "      <td>-0.70%</td>\n",
       "      <td>-$36.57</td>\n",
       "      <td>-3.59%</td>\n",
       "      <td>2.93%</td>\n",
       "      <td>$1018.69</td>\n",
       "      <td>$254.67</td>\n",
       "      <td>Cash</td>\n",
       "    </tr>\n",
       "    <tr>\n",
       "      <th>2</th>\n",
       "      <td>218520300</td>\n",
       "      <td>ROLLOVER IRA</td>\n",
       "      <td>ABNB</td>\n",
       "      <td>AIRBNB INC COM CL A</td>\n",
       "      <td>2.00</td>\n",
       "      <td>$101.75</td>\n",
       "      <td>-$1.97</td>\n",
       "      <td>$203.50</td>\n",
       "      <td>-$3.94</td>\n",
       "      <td>-1.90%</td>\n",
       "      <td>-$82.00</td>\n",
       "      <td>-28.73%</td>\n",
       "      <td>0.61%</td>\n",
       "      <td>$285.50</td>\n",
       "      <td>$142.75</td>\n",
       "      <td>Cash</td>\n",
       "    </tr>\n",
       "    <tr>\n",
       "      <th>3</th>\n",
       "      <td>218520300</td>\n",
       "      <td>ROLLOVER IRA</td>\n",
       "      <td>ADYEY</td>\n",
       "      <td>ADYEN NV UNSPON ADS EACH REP 0.01 ORD SHS</td>\n",
       "      <td>13.00</td>\n",
       "      <td>$12.19</td>\n",
       "      <td>-$0.319</td>\n",
       "      <td>$158.47</td>\n",
       "      <td>-$4.15</td>\n",
       "      <td>-2.56%</td>\n",
       "      <td>-$56.22</td>\n",
       "      <td>-26.19%</td>\n",
       "      <td>0.47%</td>\n",
       "      <td>$214.69</td>\n",
       "      <td>$16.51</td>\n",
       "      <td>Cash</td>\n",
       "    </tr>\n",
       "    <tr>\n",
       "      <th>4</th>\n",
       "      <td>218520300</td>\n",
       "      <td>ROLLOVER IRA</td>\n",
       "      <td>AMD</td>\n",
       "      <td>ADVANCED MICRO DEVICES INC</td>\n",
       "      <td>9.00</td>\n",
       "      <td>$67.96</td>\n",
       "      <td>-$1.54</td>\n",
       "      <td>$611.64</td>\n",
       "      <td>-$13.86</td>\n",
       "      <td>-2.22%</td>\n",
       "      <td>-$235.41</td>\n",
       "      <td>-27.80%</td>\n",
       "      <td>1.83%</td>\n",
       "      <td>$847.05</td>\n",
       "      <td>$94.12</td>\n",
       "      <td>Cash</td>\n",
       "    </tr>\n",
       "  </tbody>\n",
       "</table>\n",
       "</div>"
      ],
      "text/plain": [
       "  Account Number  Account Name   Symbol  \\\n",
       "0      218520300  ROLLOVER IRA  SPAXX**   \n",
       "1      218520300  ROLLOVER IRA     ABMD   \n",
       "2      218520300  ROLLOVER IRA     ABNB   \n",
       "3      218520300  ROLLOVER IRA    ADYEY   \n",
       "4      218520300  ROLLOVER IRA      AMD   \n",
       "\n",
       "                                 Description  Quantity Last Price  \\\n",
       "0           FIDELITY GOVERNMENT MONEY MARKET    775.32      $1.00   \n",
       "1                    ABIOMED INC COM USD0.01      4.00    $245.53   \n",
       "2                        AIRBNB INC COM CL A      2.00    $101.75   \n",
       "3  ADYEN NV UNSPON ADS EACH REP 0.01 ORD SHS     13.00     $12.19   \n",
       "4                 ADVANCED MICRO DEVICES INC      9.00     $67.96   \n",
       "\n",
       "  Last Price Change Current Value Today's Gain/Loss Dollar  \\\n",
       "0             $0.00       $775.32                      NaN   \n",
       "1            -$1.73       $982.12                   -$6.92   \n",
       "2            -$1.97       $203.50                   -$3.94   \n",
       "3           -$0.319       $158.47                   -$4.15   \n",
       "4            -$1.54       $611.64                  -$13.86   \n",
       "\n",
       "  Today's Gain/Loss Percent Total Gain/Loss Dollar Total Gain/Loss Percent  \\\n",
       "0                       NaN                    NaN                     NaN   \n",
       "1                    -0.70%                -$36.57                  -3.59%   \n",
       "2                    -1.90%                -$82.00                 -28.73%   \n",
       "3                    -2.56%                -$56.22                 -26.19%   \n",
       "4                    -2.22%               -$235.41                 -27.80%   \n",
       "\n",
       "  Percent Of Account Cost Basis Cost Basis Per Share  Type  \n",
       "0              2.32%        NaN                  NaN  Cash  \n",
       "1              2.93%   $1018.69              $254.67  Cash  \n",
       "2              0.61%    $285.50              $142.75  Cash  \n",
       "3              0.47%    $214.69               $16.51  Cash  \n",
       "4              1.83%    $847.05               $94.12  Cash  "
      ]
     },
     "execution_count": 49,
     "metadata": {},
     "output_type": "execute_result"
    }
   ],
   "source": [
    "#df_raw = pd.read_csv(f'{DL}/{filename.replace(\"-16-\", \"-17-\")}')\n",
    "df_raw = pd.read_csv(f'{DL}/{filename}')\n",
    "df_raw.head()"
   ]
  },
  {
   "cell_type": "code",
   "execution_count": 50,
   "id": "e6c79626",
   "metadata": {},
   "outputs": [
    {
     "data": {
      "text/html": [
       "<div>\n",
       "<style scoped>\n",
       "    .dataframe tbody tr th:only-of-type {\n",
       "        vertical-align: middle;\n",
       "    }\n",
       "\n",
       "    .dataframe tbody tr th {\n",
       "        vertical-align: top;\n",
       "    }\n",
       "\n",
       "    .dataframe thead th {\n",
       "        text-align: right;\n",
       "    }\n",
       "</style>\n",
       "<table border=\"1\" class=\"dataframe\">\n",
       "  <thead>\n",
       "    <tr style=\"text-align: right;\">\n",
       "      <th></th>\n",
       "      <th>Account Name</th>\n",
       "      <th>Symbol</th>\n",
       "      <th>Current Value</th>\n",
       "    </tr>\n",
       "  </thead>\n",
       "  <tbody>\n",
       "    <tr>\n",
       "      <th>1</th>\n",
       "      <td>ROLLOVER IRA</td>\n",
       "      <td>ABMD</td>\n",
       "      <td>982</td>\n",
       "    </tr>\n",
       "    <tr>\n",
       "      <th>2</th>\n",
       "      <td>ROLLOVER IRA</td>\n",
       "      <td>ABNB</td>\n",
       "      <td>204</td>\n",
       "    </tr>\n",
       "    <tr>\n",
       "      <th>3</th>\n",
       "      <td>ROLLOVER IRA</td>\n",
       "      <td>ADYEY</td>\n",
       "      <td>158</td>\n",
       "    </tr>\n",
       "    <tr>\n",
       "      <th>4</th>\n",
       "      <td>ROLLOVER IRA</td>\n",
       "      <td>AMD</td>\n",
       "      <td>612</td>\n",
       "    </tr>\n",
       "    <tr>\n",
       "      <th>5</th>\n",
       "      <td>ROLLOVER IRA</td>\n",
       "      <td>AMZN</td>\n",
       "      <td>228</td>\n",
       "    </tr>\n",
       "  </tbody>\n",
       "</table>\n",
       "</div>"
      ],
      "text/plain": [
       "   Account Name Symbol  Current Value\n",
       "1  ROLLOVER IRA   ABMD            982\n",
       "2  ROLLOVER IRA   ABNB            204\n",
       "3  ROLLOVER IRA  ADYEY            158\n",
       "4  ROLLOVER IRA    AMD            612\n",
       "5  ROLLOVER IRA   AMZN            228"
      ]
     },
     "execution_count": 50,
     "metadata": {},
     "output_type": "execute_result"
    }
   ],
   "source": [
    "df = df_raw[['Account Name', 'Symbol', 'Current Value']].dropna()\n",
    "df['Current Value'] = df['Current Value'].apply(convert_value)\n",
    "df['Current Value'] = df['Current Value'].fillna(0).astype(int)\n",
    "df = df[((df.Symbol != 'SPAXX**') & (df.Symbol != 'Pending Activity'))]\n",
    "df.head()"
   ]
  },
  {
   "cell_type": "code",
   "execution_count": 51,
   "id": "c667aa09",
   "metadata": {},
   "outputs": [
    {
     "data": {
      "text/html": [
       "<div>\n",
       "<style scoped>\n",
       "    .dataframe tbody tr th:only-of-type {\n",
       "        vertical-align: middle;\n",
       "    }\n",
       "\n",
       "    .dataframe tbody tr th {\n",
       "        vertical-align: top;\n",
       "    }\n",
       "\n",
       "    .dataframe thead th {\n",
       "        text-align: right;\n",
       "    }\n",
       "</style>\n",
       "<table border=\"1\" class=\"dataframe\">\n",
       "  <thead>\n",
       "    <tr style=\"text-align: right;\">\n",
       "      <th></th>\n",
       "      <th>ROLLOVER IRA</th>\n",
       "    </tr>\n",
       "    <tr>\n",
       "      <th>Symbol</th>\n",
       "      <th></th>\n",
       "    </tr>\n",
       "  </thead>\n",
       "  <tbody>\n",
       "    <tr>\n",
       "      <th>ABMD</th>\n",
       "      <td>982</td>\n",
       "    </tr>\n",
       "    <tr>\n",
       "      <th>ABNB</th>\n",
       "      <td>204</td>\n",
       "    </tr>\n",
       "    <tr>\n",
       "      <th>ADYEY</th>\n",
       "      <td>158</td>\n",
       "    </tr>\n",
       "    <tr>\n",
       "      <th>AMD</th>\n",
       "      <td>612</td>\n",
       "    </tr>\n",
       "    <tr>\n",
       "      <th>AMZN</th>\n",
       "      <td>228</td>\n",
       "    </tr>\n",
       "  </tbody>\n",
       "</table>\n",
       "</div>"
      ],
      "text/plain": [
       "        ROLLOVER IRA\n",
       "Symbol              \n",
       "ABMD             982\n",
       "ABNB             204\n",
       "ADYEY            158\n",
       "AMD              612\n",
       "AMZN             228"
      ]
     },
     "execution_count": 51,
     "metadata": {},
     "output_type": "execute_result"
    }
   ],
   "source": [
    "accounts = {account_name: df[df['Account Name'] == account_name]\n",
    "            for account_name in df['Account Name'].unique()}\n",
    "for acct in accounts.keys():\n",
    "    accounts[acct].index = accounts[acct].Symbol\n",
    "    accounts[acct] = (\n",
    "        accounts[acct]\n",
    "        .rename(columns={'Current Value': acct})\n",
    "        .drop(columns=['Account Name', 'Symbol']))\n",
    "    \n",
    "accounts['ROLLOVER IRA'].head()"
   ]
  },
  {
   "cell_type": "code",
   "execution_count": 52,
   "id": "218173fd",
   "metadata": {},
   "outputs": [
    {
     "name": "stdout",
     "output_type": "stream",
     "text": [
      "ROLLOVER IRA\n",
      "All clear\n",
      "\n",
      "ROTH IRA\n",
      "All clear\n",
      "\n",
      "SIMPLE IRA\n",
      "All clear\n",
      "\n"
     ]
    }
   ],
   "source": [
    "for k, v in accounts.items():\n",
    "    print(k)\n",
    "    check_symbols(v)\n",
    "    print()"
   ]
  },
  {
   "cell_type": "code",
   "execution_count": 53,
   "id": "e2f5c435",
   "metadata": {},
   "outputs": [
    {
     "data": {
      "text/html": [
       "<div>\n",
       "<style scoped>\n",
       "    .dataframe tbody tr th:only-of-type {\n",
       "        vertical-align: middle;\n",
       "    }\n",
       "\n",
       "    .dataframe tbody tr th {\n",
       "        vertical-align: top;\n",
       "    }\n",
       "\n",
       "    .dataframe thead th {\n",
       "        text-align: right;\n",
       "    }\n",
       "</style>\n",
       "<table border=\"1\" class=\"dataframe\">\n",
       "  <thead>\n",
       "    <tr style=\"text-align: right;\">\n",
       "      <th></th>\n",
       "      <th>ET</th>\n",
       "      <th>ROLLOVER IRA</th>\n",
       "      <th>ROTH IRA</th>\n",
       "      <th>SIMPLE IRA</th>\n",
       "    </tr>\n",
       "  </thead>\n",
       "  <tbody>\n",
       "    <tr>\n",
       "      <th>AAPL</th>\n",
       "      <td>1354</td>\n",
       "      <td>0</td>\n",
       "      <td>6017</td>\n",
       "      <td>0</td>\n",
       "    </tr>\n",
       "    <tr>\n",
       "      <th>ABMD</th>\n",
       "      <td>1228</td>\n",
       "      <td>982</td>\n",
       "      <td>3192</td>\n",
       "      <td>0</td>\n",
       "    </tr>\n",
       "    <tr>\n",
       "      <th>ABNB</th>\n",
       "      <td>305</td>\n",
       "      <td>204</td>\n",
       "      <td>509</td>\n",
       "      <td>0</td>\n",
       "    </tr>\n",
       "    <tr>\n",
       "      <th>ABST</th>\n",
       "      <td>0</td>\n",
       "      <td>0</td>\n",
       "      <td>0</td>\n",
       "      <td>0</td>\n",
       "    </tr>\n",
       "    <tr>\n",
       "      <th>ADBE</th>\n",
       "      <td>1138</td>\n",
       "      <td>0</td>\n",
       "      <td>0</td>\n",
       "      <td>0</td>\n",
       "    </tr>\n",
       "  </tbody>\n",
       "</table>\n",
       "</div>"
      ],
      "text/plain": [
       "        ET  ROLLOVER IRA  ROTH IRA  SIMPLE IRA\n",
       "AAPL  1354             0      6017           0\n",
       "ABMD  1228           982      3192           0\n",
       "ABNB   305           204       509           0\n",
       "ABST     0             0         0           0\n",
       "ADBE  1138             0         0           0"
      ]
     },
     "execution_count": 53,
     "metadata": {},
     "output_type": "execute_result"
    }
   ],
   "source": [
    "for v in accounts.values():\n",
    "    out = pd.concat([out, v], axis=1)\n",
    "out.fillna(0, inplace=True)\n",
    "out = out.astype(int)\n",
    "out.head()"
   ]
  },
  {
   "cell_type": "markdown",
   "id": "89bd0c8a",
   "metadata": {},
   "source": [
    "### TD Ameritrade"
   ]
  },
  {
   "cell_type": "code",
   "execution_count": 54,
   "id": "bf13b3bf",
   "metadata": {},
   "outputs": [],
   "source": [
    "#!cat $DL/Positions_damiansp_Stocks_2022_08_09.xls"
   ]
  },
  {
   "cell_type": "code",
   "execution_count": 55,
   "id": "fb4b25b1",
   "metadata": {},
   "outputs": [],
   "source": [
    "today = str(TODAY).replace('-', '_')\n",
    "path = f'{DL}/Positions_damiansp_Stocks_{today}.xls'\n",
    "#tomorrow = str(TODAY + timedelta(1)).replace('-', '_')\n",
    "#path = f'{DL}/Positions_damiansp_Stocks_{tomorrow}.xls'"
   ]
  },
  {
   "cell_type": "code",
   "execution_count": 56,
   "id": "0e30f9ee",
   "metadata": {},
   "outputs": [],
   "source": [
    "# Stock (default) view\n",
    "#td = pd.read_excel(, engine='xlrd')\n",
    "def parse_file(path):\n",
    "    inds = []\n",
    "    data = []\n",
    "    is_header = True\n",
    "    with open(path, 'r') as f:\n",
    "        for line in f:\n",
    "            if not is_header:\n",
    "                if line.startswith('\"'):\n",
    "                    try:\n",
    "                        columns = line.split('\\t')\n",
    "                        symbol = columns[0][1:-1]\n",
    "                        value = float(columns[5][1:-1])\n",
    "                        inds.append(symbol)\n",
    "                        data.append(value)\n",
    "                    except IndexError:\n",
    "                        print('Cannot parse:', line)\n",
    "            if line.startswith('Symbol'):\n",
    "                is_header = False\n",
    "    return pd.DataFrame({'TD': data}, index=inds)"
   ]
  },
  {
   "cell_type": "code",
   "execution_count": 57,
   "id": "0cdfb24c",
   "metadata": {},
   "outputs": [
    {
     "data": {
      "text/html": [
       "<div>\n",
       "<style scoped>\n",
       "    .dataframe tbody tr th:only-of-type {\n",
       "        vertical-align: middle;\n",
       "    }\n",
       "\n",
       "    .dataframe tbody tr th {\n",
       "        vertical-align: top;\n",
       "    }\n",
       "\n",
       "    .dataframe thead th {\n",
       "        text-align: right;\n",
       "    }\n",
       "</style>\n",
       "<table border=\"1\" class=\"dataframe\">\n",
       "  <thead>\n",
       "    <tr style=\"text-align: right;\">\n",
       "      <th></th>\n",
       "      <th>TD</th>\n",
       "    </tr>\n",
       "  </thead>\n",
       "  <tbody>\n",
       "    <tr>\n",
       "      <th>ADBE</th>\n",
       "      <td>284.57</td>\n",
       "    </tr>\n",
       "    <tr>\n",
       "      <th>AMEH</th>\n",
       "      <td>41.09</td>\n",
       "    </tr>\n",
       "    <tr>\n",
       "      <th>AMRK</th>\n",
       "      <td>503.12</td>\n",
       "    </tr>\n",
       "    <tr>\n",
       "      <th>APT</th>\n",
       "      <td>35.91</td>\n",
       "    </tr>\n",
       "    <tr>\n",
       "      <th>BYND</th>\n",
       "      <td>15.54</td>\n",
       "    </tr>\n",
       "  </tbody>\n",
       "</table>\n",
       "</div>"
      ],
      "text/plain": [
       "          TD\n",
       "ADBE  284.57\n",
       "AMEH   41.09\n",
       "AMRK  503.12\n",
       "APT    35.91\n",
       "BYND   15.54"
      ]
     },
     "execution_count": 57,
     "metadata": {},
     "output_type": "execute_result"
    }
   ],
   "source": [
    "td = parse_file(path)\n",
    "td.head()"
   ]
  },
  {
   "cell_type": "code",
   "execution_count": 58,
   "id": "e764daaa",
   "metadata": {},
   "outputs": [
    {
     "data": {
      "text/html": [
       "<div>\n",
       "<style scoped>\n",
       "    .dataframe tbody tr th:only-of-type {\n",
       "        vertical-align: middle;\n",
       "    }\n",
       "\n",
       "    .dataframe tbody tr th {\n",
       "        vertical-align: top;\n",
       "    }\n",
       "\n",
       "    .dataframe thead th {\n",
       "        text-align: right;\n",
       "    }\n",
       "</style>\n",
       "<table border=\"1\" class=\"dataframe\">\n",
       "  <thead>\n",
       "    <tr style=\"text-align: right;\">\n",
       "      <th></th>\n",
       "      <th>ET</th>\n",
       "      <th>ROLLOVER IRA</th>\n",
       "      <th>ROTH IRA</th>\n",
       "      <th>SIMPLE IRA</th>\n",
       "      <th>TD</th>\n",
       "    </tr>\n",
       "  </thead>\n",
       "  <tbody>\n",
       "    <tr>\n",
       "      <th>AAPL</th>\n",
       "      <td>1354</td>\n",
       "      <td>0</td>\n",
       "      <td>6017</td>\n",
       "      <td>0</td>\n",
       "      <td>0</td>\n",
       "    </tr>\n",
       "    <tr>\n",
       "      <th>ABMD</th>\n",
       "      <td>1228</td>\n",
       "      <td>982</td>\n",
       "      <td>3192</td>\n",
       "      <td>0</td>\n",
       "      <td>0</td>\n",
       "    </tr>\n",
       "    <tr>\n",
       "      <th>ABNB</th>\n",
       "      <td>305</td>\n",
       "      <td>204</td>\n",
       "      <td>509</td>\n",
       "      <td>0</td>\n",
       "      <td>0</td>\n",
       "    </tr>\n",
       "    <tr>\n",
       "      <th>ABST</th>\n",
       "      <td>0</td>\n",
       "      <td>0</td>\n",
       "      <td>0</td>\n",
       "      <td>0</td>\n",
       "      <td>0</td>\n",
       "    </tr>\n",
       "    <tr>\n",
       "      <th>ADBE</th>\n",
       "      <td>1138</td>\n",
       "      <td>0</td>\n",
       "      <td>0</td>\n",
       "      <td>0</td>\n",
       "      <td>285</td>\n",
       "    </tr>\n",
       "  </tbody>\n",
       "</table>\n",
       "</div>"
      ],
      "text/plain": [
       "        ET  ROLLOVER IRA  ROTH IRA  SIMPLE IRA   TD\n",
       "AAPL  1354             0      6017           0    0\n",
       "ABMD  1228           982      3192           0    0\n",
       "ABNB   305           204       509           0    0\n",
       "ABST     0             0         0           0    0\n",
       "ADBE  1138             0         0           0  285"
      ]
     },
     "execution_count": 58,
     "metadata": {},
     "output_type": "execute_result"
    }
   ],
   "source": [
    "out = pd.concat([out, td], axis=1).fillna(0).round().astype(int)\n",
    "out.head()"
   ]
  },
  {
   "cell_type": "code",
   "execution_count": 59,
   "id": "11c0b029",
   "metadata": {},
   "outputs": [],
   "source": [
    "out.to_csv(f'{DL}/clean.csv')"
   ]
  },
  {
   "cell_type": "code",
   "execution_count": 60,
   "id": "661fde50",
   "metadata": {},
   "outputs": [],
   "source": [
    "!open $DL/clean.csv"
   ]
  },
  {
   "cell_type": "code",
   "execution_count": 31,
   "id": "37b12ba4",
   "metadata": {},
   "outputs": [],
   "source": [
    "!rm $DL/$filename $DL/Positions.csv $DL/clean.csv\n",
    "!ls $DL"
   ]
  },
  {
   "cell_type": "markdown",
   "id": "536c0b43",
   "metadata": {},
   "source": [
    "### MarketWatch"
   ]
  },
  {
   "cell_type": "code",
   "execution_count": 10,
   "id": "5d12aba9",
   "metadata": {},
   "outputs": [
    {
     "name": "stdout",
     "output_type": "stream",
     "text": [
      "Holdings - Damian Satterthwaite-Phillips(0).csv\r\n",
      "Holdings - Damian Satterthwaite-Phillips(1).csv\r\n",
      "Holdings - Damian Satterthwaite-Phillips(2).csv\r\n",
      "Portfolio_Positions_Sep-02-2022.csv\r\n",
      "Positions.csv\r\n",
      "Positions_damiansp_Stocks_2022_09_02.xls\r\n"
     ]
    }
   ],
   "source": [
    "!mv \"$DL/Holdings - Damian Satterthwaite-Phillips.csv\" \"$DL/Holdings - Damian Satterthwaite-Phillips(0).csv\"\n",
    "!ls $DL"
   ]
  },
  {
   "cell_type": "code",
   "execution_count": 11,
   "id": "0359c7f7",
   "metadata": {},
   "outputs": [
    {
     "name": "stdout",
     "output_type": "stream",
     "text": [
      ".DS_Store\n",
      "Holdings - Damian Satterthwaite-Phillips(0).csv\n",
      "Holdings - Damian Satterthwaite-Phillips(1).csv\n",
      "Holdings - Damian Satterthwaite-Phillips(2).csv\n",
      "Portfolio_Positions_Sep-02-2022.csv\n",
      "Positions.csv\n",
      "Positions_damiansp_Stocks_2022_09_02.xls\n"
     ]
    },
    {
     "data": {
      "text/html": [
       "<div>\n",
       "<style scoped>\n",
       "    .dataframe tbody tr th:only-of-type {\n",
       "        vertical-align: middle;\n",
       "    }\n",
       "\n",
       "    .dataframe tbody tr th {\n",
       "        vertical-align: top;\n",
       "    }\n",
       "\n",
       "    .dataframe thead th {\n",
       "        text-align: right;\n",
       "    }\n",
       "</style>\n",
       "<table border=\"1\" class=\"dataframe\">\n",
       "  <thead>\n",
       "    <tr style=\"text-align: right;\">\n",
       "      <th></th>\n",
       "      <th>Value_1</th>\n",
       "      <th>Value_2</th>\n",
       "      <th>Value_3</th>\n",
       "    </tr>\n",
       "  </thead>\n",
       "  <tbody>\n",
       "    <tr>\n",
       "      <th>AAPL</th>\n",
       "      <td>779</td>\n",
       "      <td>2337</td>\n",
       "      <td>1558</td>\n",
       "    </tr>\n",
       "    <tr>\n",
       "      <th>ABMD</th>\n",
       "      <td>1045</td>\n",
       "      <td>784</td>\n",
       "      <td>0</td>\n",
       "    </tr>\n",
       "    <tr>\n",
       "      <th>ABNB</th>\n",
       "      <td>682</td>\n",
       "      <td>568</td>\n",
       "      <td>1136</td>\n",
       "    </tr>\n",
       "    <tr>\n",
       "      <th>ADBE</th>\n",
       "      <td>736</td>\n",
       "      <td>1104</td>\n",
       "      <td>0</td>\n",
       "    </tr>\n",
       "    <tr>\n",
       "      <th>ADYEY</th>\n",
       "      <td>602</td>\n",
       "      <td>514</td>\n",
       "      <td>1306</td>\n",
       "    </tr>\n",
       "  </tbody>\n",
       "</table>\n",
       "</div>"
      ],
      "text/plain": [
       "       Value_1  Value_2  Value_3\n",
       "AAPL       779     2337     1558\n",
       "ABMD      1045      784        0\n",
       "ABNB       682      568     1136\n",
       "ADBE       736     1104        0\n",
       "ADYEY      602      514     1306"
      ]
     },
     "execution_count": 11,
     "metadata": {},
     "output_type": "execute_result"
    }
   ],
   "source": [
    "dfs = [binder]\n",
    "for i, f in enumerate(sorted(os.listdir(DL))):\n",
    "    print(f)\n",
    "    if f.startswith('Holdings'):\n",
    "        mw = pd.read_csv(f'{DL}/{f}')[['Symbol', 'Value']]\n",
    "        mw.rename(columns={'Value': f'Value_{i}'}, inplace=True)\n",
    "        mw.index = mw.Symbol\n",
    "        mw.drop('Symbol', axis=1, inplace=True)\n",
    "        mw[f'Value_{i}'] = mw[f'Value_{i}'].apply(convert_value)\n",
    "        dfs.append(mw)\n",
    "mw = pd.concat(dfs, axis=1).fillna(0).astype(int)\n",
    "mw.head()"
   ]
  },
  {
   "cell_type": "code",
   "execution_count": 12,
   "id": "f1763741",
   "metadata": {},
   "outputs": [
    {
     "name": "stdout",
     "output_type": "stream",
     "text": [
      "All clear\n"
     ]
    }
   ],
   "source": [
    "check_symbols(mw)"
   ]
  },
  {
   "cell_type": "code",
   "execution_count": 13,
   "id": "c4235ee6",
   "metadata": {},
   "outputs": [
    {
     "data": {
      "text/html": [
       "<div>\n",
       "<style scoped>\n",
       "    .dataframe tbody tr th:only-of-type {\n",
       "        vertical-align: middle;\n",
       "    }\n",
       "\n",
       "    .dataframe tbody tr th {\n",
       "        vertical-align: top;\n",
       "    }\n",
       "\n",
       "    .dataframe thead th {\n",
       "        text-align: right;\n",
       "    }\n",
       "</style>\n",
       "<table border=\"1\" class=\"dataframe\">\n",
       "  <thead>\n",
       "    <tr style=\"text-align: right;\">\n",
       "      <th></th>\n",
       "      <th>Value_1</th>\n",
       "      <th>Value_2</th>\n",
       "      <th>Value_3</th>\n",
       "    </tr>\n",
       "  </thead>\n",
       "  <tbody>\n",
       "    <tr>\n",
       "      <th>AAPL</th>\n",
       "      <td>779</td>\n",
       "      <td>2337</td>\n",
       "      <td>1558</td>\n",
       "    </tr>\n",
       "    <tr>\n",
       "      <th>ABMD</th>\n",
       "      <td>1045</td>\n",
       "      <td>784</td>\n",
       "      <td>0</td>\n",
       "    </tr>\n",
       "    <tr>\n",
       "      <th>ABNB</th>\n",
       "      <td>682</td>\n",
       "      <td>568</td>\n",
       "      <td>1136</td>\n",
       "    </tr>\n",
       "    <tr>\n",
       "      <th>ADBE</th>\n",
       "      <td>736</td>\n",
       "      <td>1104</td>\n",
       "      <td>0</td>\n",
       "    </tr>\n",
       "    <tr>\n",
       "      <th>ADYEY</th>\n",
       "      <td>602</td>\n",
       "      <td>514</td>\n",
       "      <td>1306</td>\n",
       "    </tr>\n",
       "  </tbody>\n",
       "</table>\n",
       "</div>"
      ],
      "text/plain": [
       "       Value_1  Value_2  Value_3\n",
       "AAPL       779     2337     1558\n",
       "ABMD      1045      784        0\n",
       "ABNB       682      568     1136\n",
       "ADBE       736     1104        0\n",
       "ADYEY      602      514     1306"
      ]
     },
     "execution_count": 13,
     "metadata": {},
     "output_type": "execute_result"
    }
   ],
   "source": [
    "#out = pd.concat([binder, mw], axis=1).fillna(0).astype(int)\n",
    "mw.head()"
   ]
  },
  {
   "cell_type": "code",
   "execution_count": 14,
   "id": "a6dc8cb4",
   "metadata": {},
   "outputs": [],
   "source": [
    "mw.to_csv(f'{DL}/mw.csv')"
   ]
  },
  {
   "cell_type": "code",
   "execution_count": 47,
   "id": "9f38afa8",
   "metadata": {},
   "outputs": [
    {
     "name": "stdout",
     "output_type": "stream",
     "text": [
      "The file /Users/damiansp/Downloads/mw.csv does not exist.\r\n"
     ]
    }
   ],
   "source": [
    "!open $DL/mw.csv"
   ]
  },
  {
   "cell_type": "code",
   "execution_count": null,
   "id": "338a3373",
   "metadata": {},
   "outputs": [],
   "source": [
    "!rm $DL/Holdings*.csv $DL/mw.csv\n",
    "!ls $DL"
   ]
  },
  {
   "cell_type": "code",
   "execution_count": null,
   "id": "05ab44d7",
   "metadata": {},
   "outputs": [],
   "source": [
    "!rm $DL/*"
   ]
  }
 ],
 "metadata": {
  "kernelspec": {
   "display_name": "Python 3 (ipykernel)",
   "language": "python",
   "name": "python3"
  },
  "language_info": {
   "codemirror_mode": {
    "name": "ipython",
    "version": 3
   },
   "file_extension": ".py",
   "mimetype": "text/x-python",
   "name": "python",
   "nbconvert_exporter": "python",
   "pygments_lexer": "ipython3",
   "version": "3.10.6"
  }
 },
 "nbformat": 4,
 "nbformat_minor": 5
}
