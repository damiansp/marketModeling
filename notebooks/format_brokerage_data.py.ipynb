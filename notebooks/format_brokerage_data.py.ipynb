{
 "cells": [
  {
   "cell_type": "code",
   "execution_count": 70,
   "id": "d801eb40",
   "metadata": {},
   "outputs": [],
   "source": [
    "DL = '/Users/damiansp/Downloads'"
   ]
  },
  {
   "cell_type": "code",
   "execution_count": 71,
   "id": "ff43e5fb",
   "metadata": {},
   "outputs": [],
   "source": [
    "!rm $DL/*"
   ]
  },
  {
   "cell_type": "code",
   "execution_count": 80,
   "id": "435325a5",
   "metadata": {},
   "outputs": [],
   "source": [
    "from datetime import datetime\n",
    "import os\n",
    "\n",
    "import numpy as np\n",
    "import pandas as pd"
   ]
  },
  {
   "cell_type": "code",
   "execution_count": 105,
   "id": "dc918d1a",
   "metadata": {},
   "outputs": [],
   "source": [
    "SYMBOLS = [\n",
    "    'AAPL', 'ABMD', 'ABNB', 'AMD', 'AMZN', 'ANET', 'APPH', 'AXON',\n",
    "    'BROS', 'BYND', 'CHWY', 'COIN', 'COUR', 'CRWD', 'DDOG', 'DKNG',\n",
    "    'DOCU', 'DUOL', 'EDIT', 'ETSY', 'FLGT', 'FUV', 'FVRR', 'GH', 'GMED',\n",
    "    'GOOG', 'INTG', 'ISRG', 'JD', 'LSPD', 'LULU','MDB', 'MELI', 'MNST',\n",
    "    'MSFT', 'MTCH', 'NVCR', 'NVDA', 'NYT', 'OKTA', 'OPEN', 'PANW',\n",
    "    'PINS', 'PTON', 'QDEL', 'RBLX', 'RDFN', 'RGEN', 'ROKU', 'SE',\n",
    "    'SHOP', 'SPLK', 'SQ', 'TASK', 'TDOC', 'TEAM', 'TREX', 'TTD', 'TTWO',\n",
    "    'TWLO', 'TWTR', 'UPST', 'VEEV', 'WK', 'XPEV', 'ZEN', 'ZNGA']"
   ]
  },
  {
   "cell_type": "code",
   "execution_count": 106,
   "id": "3898dfe3",
   "metadata": {},
   "outputs": [
    {
     "name": "stdout",
     "output_type": "stream",
     "text": [
      "Holdings - Damian Satterthwaite-Phillips(1).csv\r\n",
      "Holdings - Damian Satterthwaite-Phillips(2).csv\r\n",
      "Holdings - Damian Satterthwaite-Phillips.csv\r\n",
      "Portfolio_Positions_Mar-25-2022.csv\r\n",
      "Positions.csv\r\n",
      "mw.csv\r\n"
     ]
    }
   ],
   "source": [
    "!ls $DL"
   ]
  },
  {
   "cell_type": "code",
   "execution_count": 107,
   "id": "0eac6b5a",
   "metadata": {},
   "outputs": [],
   "source": [
    "def check_symbols(df):\n",
    "    all_present = True\n",
    "    for symbol in df.index.unique():\n",
    "        if symbol not in SYMBOLS:\n",
    "            print(f'{symbol} not in SYMBOLS')\n",
    "            all_present = False\n",
    "    if all_present:\n",
    "        print('All clear')"
   ]
  },
  {
   "cell_type": "code",
   "execution_count": 108,
   "id": "afdbcabf",
   "metadata": {},
   "outputs": [],
   "source": [
    "def convert_value(s):\n",
    "    return round(float(s.replace('$', '').replace(',', '')))"
   ]
  },
  {
   "cell_type": "code",
   "execution_count": 109,
   "id": "34cbfb7d",
   "metadata": {},
   "outputs": [
    {
     "data": {
      "text/html": [
       "<div>\n",
       "<style scoped>\n",
       "    .dataframe tbody tr th:only-of-type {\n",
       "        vertical-align: middle;\n",
       "    }\n",
       "\n",
       "    .dataframe tbody tr th {\n",
       "        vertical-align: top;\n",
       "    }\n",
       "\n",
       "    .dataframe thead th {\n",
       "        text-align: right;\n",
       "    }\n",
       "</style>\n",
       "<table border=\"1\" class=\"dataframe\">\n",
       "  <thead>\n",
       "    <tr style=\"text-align: right;\">\n",
       "      <th></th>\n",
       "    </tr>\n",
       "  </thead>\n",
       "  <tbody>\n",
       "    <tr>\n",
       "      <th>AAPL</th>\n",
       "    </tr>\n",
       "    <tr>\n",
       "      <th>ABMD</th>\n",
       "    </tr>\n",
       "    <tr>\n",
       "      <th>ABNB</th>\n",
       "    </tr>\n",
       "    <tr>\n",
       "      <th>AMD</th>\n",
       "    </tr>\n",
       "    <tr>\n",
       "      <th>AMZN</th>\n",
       "    </tr>\n",
       "  </tbody>\n",
       "</table>\n",
       "</div>"
      ],
      "text/plain": [
       "Empty DataFrame\n",
       "Columns: []\n",
       "Index: [AAPL, ABMD, ABNB, AMD, AMZN]"
      ]
     },
     "execution_count": 109,
     "metadata": {},
     "output_type": "execute_result"
    }
   ],
   "source": [
    "binder = pd.DataFrame(index=SYMBOLS)\n",
    "binder.head()"
   ]
  },
  {
   "cell_type": "markdown",
   "id": "572fb5b0",
   "metadata": {},
   "source": [
    "### E*Trade"
   ]
  },
  {
   "cell_type": "code",
   "execution_count": 110,
   "id": "3e3857c1",
   "metadata": {},
   "outputs": [],
   "source": [
    "DONGMEI = False"
   ]
  },
  {
   "cell_type": "code",
   "execution_count": 117,
   "id": "3d66d096",
   "metadata": {},
   "outputs": [
    {
     "data": {
      "text/html": [
       "<div>\n",
       "<style scoped>\n",
       "    .dataframe tbody tr th:only-of-type {\n",
       "        vertical-align: middle;\n",
       "    }\n",
       "\n",
       "    .dataframe tbody tr th {\n",
       "        vertical-align: top;\n",
       "    }\n",
       "\n",
       "    .dataframe thead th {\n",
       "        text-align: right;\n",
       "    }\n",
       "</style>\n",
       "<table border=\"1\" class=\"dataframe\">\n",
       "  <thead>\n",
       "    <tr style=\"text-align: right;\">\n",
       "      <th></th>\n",
       "      <th>ET</th>\n",
       "    </tr>\n",
       "  </thead>\n",
       "  <tbody>\n",
       "    <tr>\n",
       "      <th>AAPL</th>\n",
       "      <td>174.72</td>\n",
       "    </tr>\n",
       "    <tr>\n",
       "      <th>ABMD</th>\n",
       "      <td>2232.16</td>\n",
       "    </tr>\n",
       "    <tr>\n",
       "      <th>ABNB</th>\n",
       "      <td>1337.76</td>\n",
       "    </tr>\n",
       "    <tr>\n",
       "      <th>AMZN</th>\n",
       "      <td>3295.47</td>\n",
       "    </tr>\n",
       "    <tr>\n",
       "      <th>ANET</th>\n",
       "      <td>276.8</td>\n",
       "    </tr>\n",
       "  </tbody>\n",
       "</table>\n",
       "</div>"
      ],
      "text/plain": [
       "           ET\n",
       "AAPL   174.72\n",
       "ABMD  2232.16\n",
       "ABNB  1337.76\n",
       "AMZN  3295.47\n",
       "ANET    276.8"
      ]
     },
     "execution_count": 117,
     "metadata": {},
     "output_type": "execute_result"
    }
   ],
   "source": [
    "if DONGMEI:\n",
    "    et_df = (\n",
    "        pd.read_csv(\n",
    "            f'{DL}/Positions.csv', index_col=0, skiprows=1\n",
    "        )[['Market Value']]\n",
    "        .rename(columns={'Market Value': 'ET'}))\n",
    "    et_df.index = map(lambda x: x.split()[0], et_df.index)\n",
    "    et_df.drop(index=['Portfolio', 'Cash'], inplace=True)\n",
    "else:\n",
    "    et_df = (\n",
    "        pd.read_csv(\n",
    "            f'{DL}/Positions.csv', index_col=0, skiprows=1\n",
    "        )[['Market Value']]\n",
    "        .rename(columns={'Market Value': 'ET'}))\n",
    "    et_df.index = map(lambda x: x.split()[0], et_df.index)\n",
    "    et_df.drop(index=['FNRG', 'Portfolio', 'Cash'], inplace=True)\n",
    "    #et_df.ET = et_df.ET.apply(lambda x: round(float(x)))\n",
    "et_df.head()"
   ]
  },
  {
   "cell_type": "code",
   "execution_count": 120,
   "id": "39bb62a8",
   "metadata": {},
   "outputs": [],
   "source": [
    "et_df.loc[et_df.ET == '--']\n",
    "et_df.loc['TREX', 'ET'] = 68.96"
   ]
  },
  {
   "cell_type": "code",
   "execution_count": 121,
   "id": "e47bcdd2",
   "metadata": {},
   "outputs": [
    {
     "name": "stdout",
     "output_type": "stream",
     "text": [
      "All clear\n"
     ]
    }
   ],
   "source": [
    "check_symbols(et_df)"
   ]
  },
  {
   "cell_type": "code",
   "execution_count": 122,
   "id": "927e61eb",
   "metadata": {},
   "outputs": [
    {
     "data": {
      "text/html": [
       "<div>\n",
       "<style scoped>\n",
       "    .dataframe tbody tr th:only-of-type {\n",
       "        vertical-align: middle;\n",
       "    }\n",
       "\n",
       "    .dataframe tbody tr th {\n",
       "        vertical-align: top;\n",
       "    }\n",
       "\n",
       "    .dataframe thead th {\n",
       "        text-align: right;\n",
       "    }\n",
       "</style>\n",
       "<table border=\"1\" class=\"dataframe\">\n",
       "  <thead>\n",
       "    <tr style=\"text-align: right;\">\n",
       "      <th></th>\n",
       "      <th>ET</th>\n",
       "    </tr>\n",
       "  </thead>\n",
       "  <tbody>\n",
       "    <tr>\n",
       "      <th>AAPL</th>\n",
       "      <td>175</td>\n",
       "    </tr>\n",
       "    <tr>\n",
       "      <th>ABMD</th>\n",
       "      <td>2232</td>\n",
       "    </tr>\n",
       "    <tr>\n",
       "      <th>ABNB</th>\n",
       "      <td>1338</td>\n",
       "    </tr>\n",
       "    <tr>\n",
       "      <th>AMD</th>\n",
       "      <td>0</td>\n",
       "    </tr>\n",
       "    <tr>\n",
       "      <th>AMZN</th>\n",
       "      <td>3295</td>\n",
       "    </tr>\n",
       "  </tbody>\n",
       "</table>\n",
       "</div>"
      ],
      "text/plain": [
       "        ET\n",
       "AAPL   175\n",
       "ABMD  2232\n",
       "ABNB  1338\n",
       "AMD      0\n",
       "AMZN  3295"
      ]
     },
     "execution_count": 122,
     "metadata": {},
     "output_type": "execute_result"
    }
   ],
   "source": [
    "out = pd.concat([binder, et_df], axis=1).fillna(0)\n",
    "out.ET = out.ET.astype(float).apply(lambda x: int(round(x)))\n",
    "out.head()"
   ]
  },
  {
   "cell_type": "markdown",
   "id": "f2a26ead",
   "metadata": {},
   "source": [
    "### Fidelity"
   ]
  },
  {
   "cell_type": "code",
   "execution_count": 123,
   "id": "6f360d0f",
   "metadata": {},
   "outputs": [
    {
     "data": {
      "text/plain": [
       "'Portfolio_Positions_Mar-25-2022.csv'"
      ]
     },
     "execution_count": 123,
     "metadata": {},
     "output_type": "execute_result"
    }
   ],
   "source": [
    "TODAY = datetime.now().date()\n",
    "TODAY\n",
    "today = datetime.strftime(TODAY, '%b-%d-%Y')\n",
    "filename = f'Portfolio_Positions_{today}.csv'\n",
    "filename"
   ]
  },
  {
   "cell_type": "code",
   "execution_count": 124,
   "id": "f5e0e3ac",
   "metadata": {},
   "outputs": [
    {
     "data": {
      "text/html": [
       "<div>\n",
       "<style scoped>\n",
       "    .dataframe tbody tr th:only-of-type {\n",
       "        vertical-align: middle;\n",
       "    }\n",
       "\n",
       "    .dataframe tbody tr th {\n",
       "        vertical-align: top;\n",
       "    }\n",
       "\n",
       "    .dataframe thead th {\n",
       "        text-align: right;\n",
       "    }\n",
       "</style>\n",
       "<table border=\"1\" class=\"dataframe\">\n",
       "  <thead>\n",
       "    <tr style=\"text-align: right;\">\n",
       "      <th></th>\n",
       "      <th>Account Number</th>\n",
       "      <th>Account Name</th>\n",
       "      <th>Symbol</th>\n",
       "      <th>Description</th>\n",
       "      <th>Quantity</th>\n",
       "      <th>Last Price</th>\n",
       "      <th>Last Price Change</th>\n",
       "      <th>Current Value</th>\n",
       "      <th>Today's Gain/Loss Dollar</th>\n",
       "      <th>Today's Gain/Loss Percent</th>\n",
       "      <th>Total Gain/Loss Dollar</th>\n",
       "      <th>Total Gain/Loss Percent</th>\n",
       "      <th>Percent Of Account</th>\n",
       "      <th>Cost Basis</th>\n",
       "      <th>Cost Basis Per Share</th>\n",
       "      <th>Type</th>\n",
       "    </tr>\n",
       "  </thead>\n",
       "  <tbody>\n",
       "    <tr>\n",
       "      <th>0</th>\n",
       "      <td>218520300</td>\n",
       "      <td>ROLLOVER IRA</td>\n",
       "      <td>SPAXX**</td>\n",
       "      <td>FIDELITY GOVERNMENT MONEY MARKET</td>\n",
       "      <td>140.4</td>\n",
       "      <td>$1.00</td>\n",
       "      <td>$0.00</td>\n",
       "      <td>$140.40</td>\n",
       "      <td>NaN</td>\n",
       "      <td>NaN</td>\n",
       "      <td>NaN</td>\n",
       "      <td>NaN</td>\n",
       "      <td>0.29%</td>\n",
       "      <td>NaN</td>\n",
       "      <td>NaN</td>\n",
       "      <td>Cash</td>\n",
       "    </tr>\n",
       "    <tr>\n",
       "      <th>1</th>\n",
       "      <td>218520300</td>\n",
       "      <td>ROLLOVER IRA</td>\n",
       "      <td>AAPL</td>\n",
       "      <td>APPLE INC</td>\n",
       "      <td>16.0</td>\n",
       "      <td>$174.72</td>\n",
       "      <td>+$0.65</td>\n",
       "      <td>$2795.52</td>\n",
       "      <td>+$10.40</td>\n",
       "      <td>+0.37%</td>\n",
       "      <td>+$371.36</td>\n",
       "      <td>+15.31%</td>\n",
       "      <td>5.79%</td>\n",
       "      <td>$2424.16</td>\n",
       "      <td>$151.51</td>\n",
       "      <td>Cash</td>\n",
       "    </tr>\n",
       "    <tr>\n",
       "      <th>2</th>\n",
       "      <td>218520300</td>\n",
       "      <td>ROLLOVER IRA</td>\n",
       "      <td>ABMD</td>\n",
       "      <td>ABIOMED INC COM USD0.01</td>\n",
       "      <td>1.0</td>\n",
       "      <td>$318.88</td>\n",
       "      <td>-$2.59</td>\n",
       "      <td>$318.88</td>\n",
       "      <td>-$2.59</td>\n",
       "      <td>-0.81%</td>\n",
       "      <td>+$33.02</td>\n",
       "      <td>+11.55%</td>\n",
       "      <td>0.66%</td>\n",
       "      <td>$285.86</td>\n",
       "      <td>$285.86</td>\n",
       "      <td>Cash</td>\n",
       "    </tr>\n",
       "    <tr>\n",
       "      <th>3</th>\n",
       "      <td>218520300</td>\n",
       "      <td>ROLLOVER IRA</td>\n",
       "      <td>ABNB</td>\n",
       "      <td>AIRBNB INC COM CL A</td>\n",
       "      <td>3.0</td>\n",
       "      <td>$167.22</td>\n",
       "      <td>-$3.61</td>\n",
       "      <td>$501.66</td>\n",
       "      <td>-$10.83</td>\n",
       "      <td>-2.12%</td>\n",
       "      <td>+$73.41</td>\n",
       "      <td>+17.14%</td>\n",
       "      <td>1.04%</td>\n",
       "      <td>$428.25</td>\n",
       "      <td>$142.75</td>\n",
       "      <td>Cash</td>\n",
       "    </tr>\n",
       "    <tr>\n",
       "      <th>4</th>\n",
       "      <td>218520300</td>\n",
       "      <td>ROLLOVER IRA</td>\n",
       "      <td>AMD</td>\n",
       "      <td>ADVANCED MICRO DEVICES INC</td>\n",
       "      <td>10.0</td>\n",
       "      <td>$119.67</td>\n",
       "      <td>-$0.86</td>\n",
       "      <td>$1196.70</td>\n",
       "      <td>-$8.60</td>\n",
       "      <td>-0.72%</td>\n",
       "      <td>+$171.36</td>\n",
       "      <td>+16.71%</td>\n",
       "      <td>2.48%</td>\n",
       "      <td>$1025.34</td>\n",
       "      <td>$102.53</td>\n",
       "      <td>Cash</td>\n",
       "    </tr>\n",
       "  </tbody>\n",
       "</table>\n",
       "</div>"
      ],
      "text/plain": [
       "  Account Number  Account Name   Symbol                       Description  \\\n",
       "0      218520300  ROLLOVER IRA  SPAXX**  FIDELITY GOVERNMENT MONEY MARKET   \n",
       "1      218520300  ROLLOVER IRA     AAPL                         APPLE INC   \n",
       "2      218520300  ROLLOVER IRA     ABMD           ABIOMED INC COM USD0.01   \n",
       "3      218520300  ROLLOVER IRA     ABNB               AIRBNB INC COM CL A   \n",
       "4      218520300  ROLLOVER IRA      AMD        ADVANCED MICRO DEVICES INC   \n",
       "\n",
       "   Quantity Last Price Last Price Change Current Value  \\\n",
       "0     140.4      $1.00             $0.00       $140.40   \n",
       "1      16.0    $174.72            +$0.65      $2795.52   \n",
       "2       1.0    $318.88            -$2.59       $318.88   \n",
       "3       3.0    $167.22            -$3.61       $501.66   \n",
       "4      10.0    $119.67            -$0.86      $1196.70   \n",
       "\n",
       "  Today's Gain/Loss Dollar Today's Gain/Loss Percent Total Gain/Loss Dollar  \\\n",
       "0                      NaN                       NaN                    NaN   \n",
       "1                  +$10.40                    +0.37%               +$371.36   \n",
       "2                   -$2.59                    -0.81%                +$33.02   \n",
       "3                  -$10.83                    -2.12%                +$73.41   \n",
       "4                   -$8.60                    -0.72%               +$171.36   \n",
       "\n",
       "  Total Gain/Loss Percent Percent Of Account Cost Basis Cost Basis Per Share  \\\n",
       "0                     NaN              0.29%        NaN                  NaN   \n",
       "1                 +15.31%              5.79%   $2424.16              $151.51   \n",
       "2                 +11.55%              0.66%    $285.86              $285.86   \n",
       "3                 +17.14%              1.04%    $428.25              $142.75   \n",
       "4                 +16.71%              2.48%   $1025.34              $102.53   \n",
       "\n",
       "   Type  \n",
       "0  Cash  \n",
       "1  Cash  \n",
       "2  Cash  \n",
       "3  Cash  \n",
       "4  Cash  "
      ]
     },
     "execution_count": 124,
     "metadata": {},
     "output_type": "execute_result"
    }
   ],
   "source": [
    "df_raw = pd.read_csv(f'{DL}/{filename}')\n",
    "df_raw.head()"
   ]
  },
  {
   "cell_type": "code",
   "execution_count": 125,
   "id": "e6c79626",
   "metadata": {},
   "outputs": [
    {
     "data": {
      "text/html": [
       "<div>\n",
       "<style scoped>\n",
       "    .dataframe tbody tr th:only-of-type {\n",
       "        vertical-align: middle;\n",
       "    }\n",
       "\n",
       "    .dataframe tbody tr th {\n",
       "        vertical-align: top;\n",
       "    }\n",
       "\n",
       "    .dataframe thead th {\n",
       "        text-align: right;\n",
       "    }\n",
       "</style>\n",
       "<table border=\"1\" class=\"dataframe\">\n",
       "  <thead>\n",
       "    <tr style=\"text-align: right;\">\n",
       "      <th></th>\n",
       "      <th>Account Name</th>\n",
       "      <th>Symbol</th>\n",
       "      <th>Current Value</th>\n",
       "    </tr>\n",
       "  </thead>\n",
       "  <tbody>\n",
       "    <tr>\n",
       "      <th>1</th>\n",
       "      <td>ROLLOVER IRA</td>\n",
       "      <td>AAPL</td>\n",
       "      <td>2796</td>\n",
       "    </tr>\n",
       "    <tr>\n",
       "      <th>2</th>\n",
       "      <td>ROLLOVER IRA</td>\n",
       "      <td>ABMD</td>\n",
       "      <td>319</td>\n",
       "    </tr>\n",
       "    <tr>\n",
       "      <th>3</th>\n",
       "      <td>ROLLOVER IRA</td>\n",
       "      <td>ABNB</td>\n",
       "      <td>502</td>\n",
       "    </tr>\n",
       "    <tr>\n",
       "      <th>4</th>\n",
       "      <td>ROLLOVER IRA</td>\n",
       "      <td>AMD</td>\n",
       "      <td>1197</td>\n",
       "    </tr>\n",
       "    <tr>\n",
       "      <th>5</th>\n",
       "      <td>ROLLOVER IRA</td>\n",
       "      <td>ANET</td>\n",
       "      <td>1522</td>\n",
       "    </tr>\n",
       "  </tbody>\n",
       "</table>\n",
       "</div>"
      ],
      "text/plain": [
       "   Account Name Symbol  Current Value\n",
       "1  ROLLOVER IRA   AAPL           2796\n",
       "2  ROLLOVER IRA   ABMD            319\n",
       "3  ROLLOVER IRA   ABNB            502\n",
       "4  ROLLOVER IRA    AMD           1197\n",
       "5  ROLLOVER IRA   ANET           1522"
      ]
     },
     "execution_count": 125,
     "metadata": {},
     "output_type": "execute_result"
    }
   ],
   "source": [
    "df = df_raw[['Account Name', 'Symbol', 'Current Value']].dropna()\n",
    "df['Current Value'] = df['Current Value'].apply(convert_value)\n",
    "df['Current Value'] = df['Current Value'].fillna(0).astype(int)\n",
    "df = df[((df.Symbol != 'SPAXX**') & (df.Symbol != 'Pending Activity'))]\n",
    "df.head()"
   ]
  },
  {
   "cell_type": "code",
   "execution_count": 126,
   "id": "c667aa09",
   "metadata": {},
   "outputs": [
    {
     "data": {
      "text/html": [
       "<div>\n",
       "<style scoped>\n",
       "    .dataframe tbody tr th:only-of-type {\n",
       "        vertical-align: middle;\n",
       "    }\n",
       "\n",
       "    .dataframe tbody tr th {\n",
       "        vertical-align: top;\n",
       "    }\n",
       "\n",
       "    .dataframe thead th {\n",
       "        text-align: right;\n",
       "    }\n",
       "</style>\n",
       "<table border=\"1\" class=\"dataframe\">\n",
       "  <thead>\n",
       "    <tr style=\"text-align: right;\">\n",
       "      <th></th>\n",
       "      <th>ROLLOVER IRA</th>\n",
       "    </tr>\n",
       "    <tr>\n",
       "      <th>Symbol</th>\n",
       "      <th></th>\n",
       "    </tr>\n",
       "  </thead>\n",
       "  <tbody>\n",
       "    <tr>\n",
       "      <th>AAPL</th>\n",
       "      <td>2796</td>\n",
       "    </tr>\n",
       "    <tr>\n",
       "      <th>ABMD</th>\n",
       "      <td>319</td>\n",
       "    </tr>\n",
       "    <tr>\n",
       "      <th>ABNB</th>\n",
       "      <td>502</td>\n",
       "    </tr>\n",
       "    <tr>\n",
       "      <th>AMD</th>\n",
       "      <td>1197</td>\n",
       "    </tr>\n",
       "    <tr>\n",
       "      <th>ANET</th>\n",
       "      <td>1522</td>\n",
       "    </tr>\n",
       "  </tbody>\n",
       "</table>\n",
       "</div>"
      ],
      "text/plain": [
       "        ROLLOVER IRA\n",
       "Symbol              \n",
       "AAPL            2796\n",
       "ABMD             319\n",
       "ABNB             502\n",
       "AMD             1197\n",
       "ANET            1522"
      ]
     },
     "execution_count": 126,
     "metadata": {},
     "output_type": "execute_result"
    }
   ],
   "source": [
    "accounts = {account_name: df[df['Account Name'] == account_name]\n",
    "            for account_name in df['Account Name'].unique()}\n",
    "for acct in accounts.keys():\n",
    "    accounts[acct].index = accounts[acct].Symbol\n",
    "    accounts[acct] = (\n",
    "        accounts[acct]\n",
    "        .rename(columns={'Current Value': acct})\n",
    "        .drop(columns=['Account Name', 'Symbol']))\n",
    "    \n",
    "accounts['ROLLOVER IRA'].head()"
   ]
  },
  {
   "cell_type": "code",
   "execution_count": 127,
   "id": "218173fd",
   "metadata": {},
   "outputs": [
    {
     "name": "stdout",
     "output_type": "stream",
     "text": [
      "ROLLOVER IRA\n",
      "All clear\n",
      "\n",
      "ROTH IRA\n",
      "All clear\n",
      "\n",
      "SIMPLE IRA\n",
      "All clear\n",
      "\n"
     ]
    }
   ],
   "source": [
    "for k, v in accounts.items():\n",
    "    print(k)\n",
    "    check_symbols(v)\n",
    "    print()"
   ]
  },
  {
   "cell_type": "code",
   "execution_count": 128,
   "id": "e2f5c435",
   "metadata": {},
   "outputs": [
    {
     "data": {
      "text/html": [
       "<div>\n",
       "<style scoped>\n",
       "    .dataframe tbody tr th:only-of-type {\n",
       "        vertical-align: middle;\n",
       "    }\n",
       "\n",
       "    .dataframe tbody tr th {\n",
       "        vertical-align: top;\n",
       "    }\n",
       "\n",
       "    .dataframe thead th {\n",
       "        text-align: right;\n",
       "    }\n",
       "</style>\n",
       "<table border=\"1\" class=\"dataframe\">\n",
       "  <thead>\n",
       "    <tr style=\"text-align: right;\">\n",
       "      <th></th>\n",
       "      <th>ET</th>\n",
       "      <th>ROLLOVER IRA</th>\n",
       "      <th>ROTH IRA</th>\n",
       "      <th>SIMPLE IRA</th>\n",
       "    </tr>\n",
       "  </thead>\n",
       "  <tbody>\n",
       "    <tr>\n",
       "      <th>AAPL</th>\n",
       "      <td>175</td>\n",
       "      <td>2796</td>\n",
       "      <td>2097</td>\n",
       "      <td>0</td>\n",
       "    </tr>\n",
       "    <tr>\n",
       "      <th>ABMD</th>\n",
       "      <td>2232</td>\n",
       "      <td>319</td>\n",
       "      <td>638</td>\n",
       "      <td>0</td>\n",
       "    </tr>\n",
       "    <tr>\n",
       "      <th>ABNB</th>\n",
       "      <td>1338</td>\n",
       "      <td>502</td>\n",
       "      <td>167</td>\n",
       "      <td>0</td>\n",
       "    </tr>\n",
       "    <tr>\n",
       "      <th>AMD</th>\n",
       "      <td>0</td>\n",
       "      <td>1197</td>\n",
       "      <td>6223</td>\n",
       "      <td>0</td>\n",
       "    </tr>\n",
       "    <tr>\n",
       "      <th>AMZN</th>\n",
       "      <td>3295</td>\n",
       "      <td>0</td>\n",
       "      <td>3295</td>\n",
       "      <td>0</td>\n",
       "    </tr>\n",
       "  </tbody>\n",
       "</table>\n",
       "</div>"
      ],
      "text/plain": [
       "        ET  ROLLOVER IRA  ROTH IRA  SIMPLE IRA\n",
       "AAPL   175          2796      2097           0\n",
       "ABMD  2232           319       638           0\n",
       "ABNB  1338           502       167           0\n",
       "AMD      0          1197      6223           0\n",
       "AMZN  3295             0      3295           0"
      ]
     },
     "execution_count": 128,
     "metadata": {},
     "output_type": "execute_result"
    }
   ],
   "source": [
    "for v in accounts.values():\n",
    "    out = pd.concat([out, v], axis=1)\n",
    "out.fillna(0, inplace=True)\n",
    "out = out.astype(int)\n",
    "out.head()"
   ]
  },
  {
   "cell_type": "code",
   "execution_count": 129,
   "id": "11c0b029",
   "metadata": {},
   "outputs": [],
   "source": [
    "out.to_csv(f'{DL}/clean.csv')"
   ]
  },
  {
   "cell_type": "code",
   "execution_count": 130,
   "id": "661fde50",
   "metadata": {},
   "outputs": [],
   "source": [
    "!open $DL/clean.csv"
   ]
  },
  {
   "cell_type": "code",
   "execution_count": 34,
   "id": "37b12ba4",
   "metadata": {},
   "outputs": [
    {
     "name": "stdout",
     "output_type": "stream",
     "text": [
      "Holdings - Damian Satterthwaite-Phillips.csv\r\n"
     ]
    }
   ],
   "source": [
    "!rm $DL/$filename $DL/Positions.csv $DL/clean.csv\n",
    "!ls $DL"
   ]
  },
  {
   "cell_type": "markdown",
   "id": "536c0b43",
   "metadata": {},
   "source": [
    "### MarketWatch"
   ]
  },
  {
   "cell_type": "code",
   "execution_count": 79,
   "id": "5d12aba9",
   "metadata": {},
   "outputs": [
    {
     "name": "stdout",
     "output_type": "stream",
     "text": [
      "Holdings - Damian Satterthwaite-Phillips(1).csv\r\n",
      "Holdings - Damian Satterthwaite-Phillips(2).csv\r\n",
      "Holdings - Damian Satterthwaite-Phillips.csv\r\n"
     ]
    }
   ],
   "source": [
    "!ls $DL"
   ]
  },
  {
   "cell_type": "code",
   "execution_count": 96,
   "id": "0359c7f7",
   "metadata": {},
   "outputs": [
    {
     "name": "stdout",
     "output_type": "stream",
     "text": [
      "Holdings - Damian Satterthwaite-Phillips(1).csv\n",
      "Holdings - Damian Satterthwaite-Phillips(2).csv\n",
      "Holdings - Damian Satterthwaite-Phillips.csv\n"
     ]
    },
    {
     "data": {
      "text/html": [
       "<div>\n",
       "<style scoped>\n",
       "    .dataframe tbody tr th:only-of-type {\n",
       "        vertical-align: middle;\n",
       "    }\n",
       "\n",
       "    .dataframe tbody tr th {\n",
       "        vertical-align: top;\n",
       "    }\n",
       "\n",
       "    .dataframe thead th {\n",
       "        text-align: right;\n",
       "    }\n",
       "</style>\n",
       "<table border=\"1\" class=\"dataframe\">\n",
       "  <thead>\n",
       "    <tr style=\"text-align: right;\">\n",
       "      <th></th>\n",
       "      <th>Value_0</th>\n",
       "      <th>Value_1</th>\n",
       "      <th>Value_2</th>\n",
       "    </tr>\n",
       "  </thead>\n",
       "  <tbody>\n",
       "    <tr>\n",
       "      <th>AAPL</th>\n",
       "      <td>3145</td>\n",
       "      <td>0</td>\n",
       "      <td>874</td>\n",
       "    </tr>\n",
       "    <tr>\n",
       "      <th>ABMD</th>\n",
       "      <td>957</td>\n",
       "      <td>0</td>\n",
       "      <td>638</td>\n",
       "    </tr>\n",
       "    <tr>\n",
       "      <th>ABNB</th>\n",
       "      <td>167</td>\n",
       "      <td>0</td>\n",
       "      <td>1003</td>\n",
       "    </tr>\n",
       "    <tr>\n",
       "      <th>AMD</th>\n",
       "      <td>2274</td>\n",
       "      <td>2034</td>\n",
       "      <td>838</td>\n",
       "    </tr>\n",
       "    <tr>\n",
       "      <th>AMZN</th>\n",
       "      <td>3295</td>\n",
       "      <td>0</td>\n",
       "      <td>0</td>\n",
       "    </tr>\n",
       "  </tbody>\n",
       "</table>\n",
       "</div>"
      ],
      "text/plain": [
       "      Value_0  Value_1  Value_2\n",
       "AAPL     3145        0      874\n",
       "ABMD      957        0      638\n",
       "ABNB      167        0     1003\n",
       "AMD      2274     2034      838\n",
       "AMZN     3295        0        0"
      ]
     },
     "execution_count": 96,
     "metadata": {},
     "output_type": "execute_result"
    }
   ],
   "source": [
    "dfs = [binder]\n",
    "for i, f in enumerate(sorted(os.listdir(DL))):\n",
    "    print(f)\n",
    "    if f.startswith('Holdings'):\n",
    "        mw = pd.read_csv(f'{DL}/{f}')[['Symbol', 'Value']]\n",
    "        mw.rename(columns={'Value': f'Value_{i}'}, inplace=True)\n",
    "        mw.index = mw.Symbol\n",
    "        mw.drop('Symbol', axis=1, inplace=True)\n",
    "        mw[f'Value_{i}'] = mw[f'Value_{i}'].apply(convert_value)\n",
    "        dfs.append(mw)\n",
    "mw = pd.concat(dfs, axis=1).fillna(0).astype(int)\n",
    "mw.head()"
   ]
  },
  {
   "cell_type": "code",
   "execution_count": 98,
   "id": "f1763741",
   "metadata": {},
   "outputs": [
    {
     "name": "stdout",
     "output_type": "stream",
     "text": [
      "All clear\n"
     ]
    }
   ],
   "source": [
    "check_symbols(mw)"
   ]
  },
  {
   "cell_type": "code",
   "execution_count": 100,
   "id": "c4235ee6",
   "metadata": {},
   "outputs": [
    {
     "data": {
      "text/html": [
       "<div>\n",
       "<style scoped>\n",
       "    .dataframe tbody tr th:only-of-type {\n",
       "        vertical-align: middle;\n",
       "    }\n",
       "\n",
       "    .dataframe tbody tr th {\n",
       "        vertical-align: top;\n",
       "    }\n",
       "\n",
       "    .dataframe thead th {\n",
       "        text-align: right;\n",
       "    }\n",
       "</style>\n",
       "<table border=\"1\" class=\"dataframe\">\n",
       "  <thead>\n",
       "    <tr style=\"text-align: right;\">\n",
       "      <th></th>\n",
       "      <th>Value_0</th>\n",
       "      <th>Value_1</th>\n",
       "      <th>Value_2</th>\n",
       "    </tr>\n",
       "  </thead>\n",
       "  <tbody>\n",
       "    <tr>\n",
       "      <th>AAPL</th>\n",
       "      <td>3145</td>\n",
       "      <td>0</td>\n",
       "      <td>874</td>\n",
       "    </tr>\n",
       "    <tr>\n",
       "      <th>ABMD</th>\n",
       "      <td>957</td>\n",
       "      <td>0</td>\n",
       "      <td>638</td>\n",
       "    </tr>\n",
       "    <tr>\n",
       "      <th>ABNB</th>\n",
       "      <td>167</td>\n",
       "      <td>0</td>\n",
       "      <td>1003</td>\n",
       "    </tr>\n",
       "    <tr>\n",
       "      <th>AMD</th>\n",
       "      <td>2274</td>\n",
       "      <td>2034</td>\n",
       "      <td>838</td>\n",
       "    </tr>\n",
       "    <tr>\n",
       "      <th>AMZN</th>\n",
       "      <td>3295</td>\n",
       "      <td>0</td>\n",
       "      <td>0</td>\n",
       "    </tr>\n",
       "  </tbody>\n",
       "</table>\n",
       "</div>"
      ],
      "text/plain": [
       "      Value_0  Value_1  Value_2\n",
       "AAPL     3145        0      874\n",
       "ABMD      957        0      638\n",
       "ABNB      167        0     1003\n",
       "AMD      2274     2034      838\n",
       "AMZN     3295        0        0"
      ]
     },
     "execution_count": 100,
     "metadata": {},
     "output_type": "execute_result"
    }
   ],
   "source": [
    "#out = pd.concat([binder, mw], axis=1).fillna(0).astype(int)\n",
    "mw.head()"
   ]
  },
  {
   "cell_type": "code",
   "execution_count": 103,
   "id": "a6dc8cb4",
   "metadata": {},
   "outputs": [],
   "source": [
    "mw.to_csv(f'{DL}/mw.csv')"
   ]
  },
  {
   "cell_type": "code",
   "execution_count": 104,
   "id": "9f38afa8",
   "metadata": {},
   "outputs": [],
   "source": [
    "!open $DL/mw.csv"
   ]
  },
  {
   "cell_type": "code",
   "execution_count": 18,
   "id": "338a3373",
   "metadata": {},
   "outputs": [],
   "source": [
    "!rm $DL/\"Holdings - Damian Satterthwaite-Phillips.csv\" $DL/mw.csv\n",
    "!ls $DL"
   ]
  },
  {
   "cell_type": "code",
   "execution_count": 15,
   "id": "05ab44d7",
   "metadata": {},
   "outputs": [],
   "source": [
    "!rm $DL/*"
   ]
  },
  {
   "cell_type": "code",
   "execution_count": null,
   "id": "f5e9386a",
   "metadata": {},
   "outputs": [],
   "source": []
  }
 ],
 "metadata": {
  "kernelspec": {
   "display_name": "Python 3 (ipykernel)",
   "language": "python",
   "name": "python3"
  },
  "language_info": {
   "codemirror_mode": {
    "name": "ipython",
    "version": 3
   },
   "file_extension": ".py",
   "mimetype": "text/x-python",
   "name": "python",
   "nbconvert_exporter": "python",
   "pygments_lexer": "ipython3",
   "version": "3.8.5"
  }
 },
 "nbformat": 4,
 "nbformat_minor": 5
}
