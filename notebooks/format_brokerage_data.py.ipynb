{
 "cells": [
  {
   "cell_type": "code",
   "execution_count": 1,
   "id": "d801eb40",
   "metadata": {},
   "outputs": [],
   "source": [
    "DL = '/Users/damiansp/Downloads'"
   ]
  },
  {
   "cell_type": "code",
   "execution_count": 2,
   "id": "ff43e5fb",
   "metadata": {},
   "outputs": [],
   "source": [
    "!rm $DL/*"
   ]
  },
  {
   "cell_type": "code",
   "execution_count": 3,
   "id": "435325a5",
   "metadata": {},
   "outputs": [],
   "source": [
    "from datetime import datetime\n",
    "import os\n",
    "\n",
    "import numpy as np\n",
    "import pandas as pd"
   ]
  },
  {
   "cell_type": "code",
   "execution_count": 4,
   "id": "dc918d1a",
   "metadata": {},
   "outputs": [],
   "source": [
    "SYMBOLS = [\n",
    "    'AAPL', 'ABMD', 'ABNB', 'ADYEY', 'AMD', 'AMZN', 'ANET', 'APPH',\n",
    "    'AXON', 'BROS', 'BYND', 'CHWY', 'COIN', 'COUR', 'CRWD', 'DDOG',\n",
    "    'DKNG', 'DOCS', 'DOCU', 'DUOL', 'EDIT', 'ETSY', 'FLGT',\n",
    "    'FUV', 'FVRR', 'GH', 'GMED', 'GOOG', 'INTG', 'ISRG', 'JD', 'LSPD',\n",
    "    'LULU', 'MDB', 'MELI', 'MNST', 'MSFT', 'MTCH', 'NVCR', 'NVDA',\n",
    "    'NYT', 'OKTA', 'OPEN', 'PANW', 'PINS', 'PTON', 'QDEL', 'RBLX',\n",
    "    'RDFN', 'RGEN', 'RIVN', 'ROKU', 'RVLV', 'SE', 'SHOP', 'SNOW',\n",
    "    'SPLK', 'SQ', 'TASK', 'TDOC', 'TEAM', 'TREX', 'TTD', 'TTWO', 'TWLO',\n",
    "    'TWTR', 'UPST', 'VEEV', 'WK', 'XPEV', 'ZEN', 'ZNGA']"
   ]
  },
  {
   "cell_type": "code",
   "execution_count": 5,
   "id": "3898dfe3",
   "metadata": {},
   "outputs": [
    {
     "name": "stdout",
     "output_type": "stream",
     "text": [
      "Holdings - Damian Satterthwaite-Phillips(1).csv\r\n",
      "Holdings - Damian Satterthwaite-Phillips(2).csv\r\n",
      "Holdings - Damian Satterthwaite-Phillips.csv\r\n"
     ]
    }
   ],
   "source": [
    "!ls $DL"
   ]
  },
  {
   "cell_type": "code",
   "execution_count": 9,
   "id": "0eac6b5a",
   "metadata": {},
   "outputs": [],
   "source": [
    "def check_symbols(df):\n",
    "    all_present = True\n",
    "    for symbol in df.index.unique():\n",
    "        if symbol not in SYMBOLS:\n",
    "            print(f'{symbol} not in SYMBOLS')\n",
    "            all_present = False\n",
    "    if all_present:\n",
    "        print('All clear')"
   ]
  },
  {
   "cell_type": "code",
   "execution_count": 10,
   "id": "afdbcabf",
   "metadata": {},
   "outputs": [],
   "source": [
    "def convert_value(s):\n",
    "    return round(float(s.replace('$', '').replace(',', '')))"
   ]
  },
  {
   "cell_type": "code",
   "execution_count": 11,
   "id": "34cbfb7d",
   "metadata": {},
   "outputs": [
    {
     "data": {
      "text/html": [
       "<div>\n",
       "<style scoped>\n",
       "    .dataframe tbody tr th:only-of-type {\n",
       "        vertical-align: middle;\n",
       "    }\n",
       "\n",
       "    .dataframe tbody tr th {\n",
       "        vertical-align: top;\n",
       "    }\n",
       "\n",
       "    .dataframe thead th {\n",
       "        text-align: right;\n",
       "    }\n",
       "</style>\n",
       "<table border=\"1\" class=\"dataframe\">\n",
       "  <thead>\n",
       "    <tr style=\"text-align: right;\">\n",
       "      <th></th>\n",
       "    </tr>\n",
       "  </thead>\n",
       "  <tbody>\n",
       "    <tr>\n",
       "      <th>AAPL</th>\n",
       "    </tr>\n",
       "    <tr>\n",
       "      <th>ABMD</th>\n",
       "    </tr>\n",
       "    <tr>\n",
       "      <th>ABNB</th>\n",
       "    </tr>\n",
       "    <tr>\n",
       "      <th>ADYEY</th>\n",
       "    </tr>\n",
       "    <tr>\n",
       "      <th>AMD</th>\n",
       "    </tr>\n",
       "  </tbody>\n",
       "</table>\n",
       "</div>"
      ],
      "text/plain": [
       "Empty DataFrame\n",
       "Columns: []\n",
       "Index: [AAPL, ABMD, ABNB, ADYEY, AMD]"
      ]
     },
     "execution_count": 11,
     "metadata": {},
     "output_type": "execute_result"
    }
   ],
   "source": [
    "binder = pd.DataFrame(index=SYMBOLS)\n",
    "binder.head()"
   ]
  },
  {
   "cell_type": "markdown",
   "id": "572fb5b0",
   "metadata": {},
   "source": [
    "### E*Trade"
   ]
  },
  {
   "cell_type": "code",
   "execution_count": 18,
   "id": "3e3857c1",
   "metadata": {},
   "outputs": [],
   "source": [
    "DONGMEI = False"
   ]
  },
  {
   "cell_type": "code",
   "execution_count": 19,
   "id": "3d66d096",
   "metadata": {},
   "outputs": [
    {
     "data": {
      "text/html": [
       "<div>\n",
       "<style scoped>\n",
       "    .dataframe tbody tr th:only-of-type {\n",
       "        vertical-align: middle;\n",
       "    }\n",
       "\n",
       "    .dataframe tbody tr th {\n",
       "        vertical-align: top;\n",
       "    }\n",
       "\n",
       "    .dataframe thead th {\n",
       "        text-align: right;\n",
       "    }\n",
       "</style>\n",
       "<table border=\"1\" class=\"dataframe\">\n",
       "  <thead>\n",
       "    <tr style=\"text-align: right;\">\n",
       "      <th></th>\n",
       "      <th>ET</th>\n",
       "    </tr>\n",
       "  </thead>\n",
       "  <tbody>\n",
       "    <tr>\n",
       "      <th>ABMD</th>\n",
       "      <td>524.5</td>\n",
       "    </tr>\n",
       "    <tr>\n",
       "      <th>ABNB</th>\n",
       "      <td>599.15</td>\n",
       "    </tr>\n",
       "    <tr>\n",
       "      <th>ADYEY</th>\n",
       "      <td>3135.04</td>\n",
       "    </tr>\n",
       "    <tr>\n",
       "      <th>AMD</th>\n",
       "      <td>1807.1</td>\n",
       "    </tr>\n",
       "    <tr>\n",
       "      <th>AMZN</th>\n",
       "      <td>2447</td>\n",
       "    </tr>\n",
       "  </tbody>\n",
       "</table>\n",
       "</div>"
      ],
      "text/plain": [
       "            ET\n",
       "ABMD     524.5\n",
       "ABNB    599.15\n",
       "ADYEY  3135.04\n",
       "AMD     1807.1\n",
       "AMZN      2447"
      ]
     },
     "execution_count": 19,
     "metadata": {},
     "output_type": "execute_result"
    }
   ],
   "source": [
    "if DONGMEI:\n",
    "    et_df = (\n",
    "        pd.read_csv(\n",
    "            f'{DL}/2022-04-29.csv', index_col=0, skiprows=1\n",
    "        )[['Market Value']]\n",
    "        .rename(columns={'Market Value': 'ET'}))\n",
    "    et_df.index = map(lambda x: x.split()[0], et_df.index)\n",
    "    et_df.drop(index=['Portfolio', 'Cash'], inplace=True)\n",
    "else:\n",
    "    et_df = (\n",
    "        pd.read_csv(\n",
    "            f'{DL}/Positions.csv', index_col=0, skiprows=1\n",
    "        )[['Market Value']]\n",
    "        .rename(columns={'Market Value': 'ET'}))\n",
    "    et_df.index = map(lambda x: x.split()[0], et_df.index)\n",
    "    et_df.drop(index=['FNRG', 'Portfolio', 'Cash'], inplace=True)\n",
    "    #et_df.ET = et_df.ET.apply(lambda x: round(float(x)))\n",
    "et_df.head()"
   ]
  },
  {
   "cell_type": "code",
   "execution_count": 20,
   "id": "7e69ad97",
   "metadata": {},
   "outputs": [],
   "source": [
    "#et_df.drop(index=['98986CONT'], inplace=True)\n",
    "#t_df.head()"
   ]
  },
  {
   "cell_type": "code",
   "execution_count": 21,
   "id": "39bb62a8",
   "metadata": {},
   "outputs": [
    {
     "data": {
      "text/html": [
       "<div>\n",
       "<style scoped>\n",
       "    .dataframe tbody tr th:only-of-type {\n",
       "        vertical-align: middle;\n",
       "    }\n",
       "\n",
       "    .dataframe tbody tr th {\n",
       "        vertical-align: top;\n",
       "    }\n",
       "\n",
       "    .dataframe thead th {\n",
       "        text-align: right;\n",
       "    }\n",
       "</style>\n",
       "<table border=\"1\" class=\"dataframe\">\n",
       "  <thead>\n",
       "    <tr style=\"text-align: right;\">\n",
       "      <th></th>\n",
       "      <th>ET</th>\n",
       "    </tr>\n",
       "  </thead>\n",
       "  <tbody>\n",
       "  </tbody>\n",
       "</table>\n",
       "</div>"
      ],
      "text/plain": [
       "Empty DataFrame\n",
       "Columns: [ET]\n",
       "Index: []"
      ]
     },
     "execution_count": 21,
     "metadata": {},
     "output_type": "execute_result"
    }
   ],
   "source": [
    "et_df.loc[et_df.ET == '--']\n",
    "#et_df.loc['GMED', 'ET'] = 65.48"
   ]
  },
  {
   "cell_type": "code",
   "execution_count": 22,
   "id": "e47bcdd2",
   "metadata": {},
   "outputs": [
    {
     "name": "stdout",
     "output_type": "stream",
     "text": [
      "All clear\n"
     ]
    }
   ],
   "source": [
    "check_symbols(et_df)"
   ]
  },
  {
   "cell_type": "code",
   "execution_count": 23,
   "id": "927e61eb",
   "metadata": {},
   "outputs": [
    {
     "data": {
      "text/html": [
       "<div>\n",
       "<style scoped>\n",
       "    .dataframe tbody tr th:only-of-type {\n",
       "        vertical-align: middle;\n",
       "    }\n",
       "\n",
       "    .dataframe tbody tr th {\n",
       "        vertical-align: top;\n",
       "    }\n",
       "\n",
       "    .dataframe thead th {\n",
       "        text-align: right;\n",
       "    }\n",
       "</style>\n",
       "<table border=\"1\" class=\"dataframe\">\n",
       "  <thead>\n",
       "    <tr style=\"text-align: right;\">\n",
       "      <th></th>\n",
       "      <th>ET</th>\n",
       "    </tr>\n",
       "  </thead>\n",
       "  <tbody>\n",
       "    <tr>\n",
       "      <th>AAPL</th>\n",
       "      <td>0</td>\n",
       "    </tr>\n",
       "    <tr>\n",
       "      <th>ABMD</th>\n",
       "      <td>524</td>\n",
       "    </tr>\n",
       "    <tr>\n",
       "      <th>ABNB</th>\n",
       "      <td>599</td>\n",
       "    </tr>\n",
       "    <tr>\n",
       "      <th>ADYEY</th>\n",
       "      <td>3135</td>\n",
       "    </tr>\n",
       "    <tr>\n",
       "      <th>AMD</th>\n",
       "      <td>1807</td>\n",
       "    </tr>\n",
       "  </tbody>\n",
       "</table>\n",
       "</div>"
      ],
      "text/plain": [
       "         ET\n",
       "AAPL      0\n",
       "ABMD    524\n",
       "ABNB    599\n",
       "ADYEY  3135\n",
       "AMD    1807"
      ]
     },
     "execution_count": 23,
     "metadata": {},
     "output_type": "execute_result"
    }
   ],
   "source": [
    "out = pd.concat([binder, et_df], axis=1).fillna(0)\n",
    "out.ET = out.ET.astype(float).apply(lambda x: int(round(x)))\n",
    "out.head()"
   ]
  },
  {
   "cell_type": "markdown",
   "id": "f2a26ead",
   "metadata": {},
   "source": [
    "### Fidelity"
   ]
  },
  {
   "cell_type": "code",
   "execution_count": 24,
   "id": "6f360d0f",
   "metadata": {},
   "outputs": [
    {
     "data": {
      "text/plain": [
       "'Portfolio_Positions_Jun-03-2022.csv'"
      ]
     },
     "execution_count": 24,
     "metadata": {},
     "output_type": "execute_result"
    }
   ],
   "source": [
    "TODAY = datetime.now().date()\n",
    "TODAY\n",
    "today = datetime.strftime(TODAY, '%b-%d-%Y')\n",
    "filename = f'Portfolio_Positions_{today}.csv'\n",
    "filename"
   ]
  },
  {
   "cell_type": "code",
   "execution_count": 25,
   "id": "27aa14cb",
   "metadata": {},
   "outputs": [
    {
     "name": "stdout",
     "output_type": "stream",
     "text": [
      "Holdings - Damian Satterthwaite-Phillips(0).csv\r\n",
      "Holdings - Damian Satterthwaite-Phillips(1).csv\r\n",
      "Holdings - Damian Satterthwaite-Phillips(2).csv\r\n",
      "Portfolio_Positions_Jun-03-2022.csv\r\n",
      "Positions.csv\r\n",
      "mw.csv\r\n"
     ]
    }
   ],
   "source": [
    "!ls $DL"
   ]
  },
  {
   "cell_type": "code",
   "execution_count": 26,
   "id": "f5e0e3ac",
   "metadata": {},
   "outputs": [
    {
     "data": {
      "text/html": [
       "<div>\n",
       "<style scoped>\n",
       "    .dataframe tbody tr th:only-of-type {\n",
       "        vertical-align: middle;\n",
       "    }\n",
       "\n",
       "    .dataframe tbody tr th {\n",
       "        vertical-align: top;\n",
       "    }\n",
       "\n",
       "    .dataframe thead th {\n",
       "        text-align: right;\n",
       "    }\n",
       "</style>\n",
       "<table border=\"1\" class=\"dataframe\">\n",
       "  <thead>\n",
       "    <tr style=\"text-align: right;\">\n",
       "      <th></th>\n",
       "      <th>Account Number</th>\n",
       "      <th>Account Name</th>\n",
       "      <th>Symbol</th>\n",
       "      <th>Description</th>\n",
       "      <th>Quantity</th>\n",
       "      <th>Last Price</th>\n",
       "      <th>Last Price Change</th>\n",
       "      <th>Current Value</th>\n",
       "      <th>Today's Gain/Loss Dollar</th>\n",
       "      <th>Today's Gain/Loss Percent</th>\n",
       "      <th>Total Gain/Loss Dollar</th>\n",
       "      <th>Total Gain/Loss Percent</th>\n",
       "      <th>Percent Of Account</th>\n",
       "      <th>Cost Basis</th>\n",
       "      <th>Cost Basis Per Share</th>\n",
       "      <th>Type</th>\n",
       "    </tr>\n",
       "  </thead>\n",
       "  <tbody>\n",
       "    <tr>\n",
       "      <th>0</th>\n",
       "      <td>218520300</td>\n",
       "      <td>ROLLOVER IRA</td>\n",
       "      <td>SPAXX**</td>\n",
       "      <td>FIDELITY GOVERNMENT MONEY MARKET</td>\n",
       "      <td>3826.92</td>\n",
       "      <td>$1.00</td>\n",
       "      <td>$0.00</td>\n",
       "      <td>$3826.92</td>\n",
       "      <td>NaN</td>\n",
       "      <td>NaN</td>\n",
       "      <td>NaN</td>\n",
       "      <td>NaN</td>\n",
       "      <td>9.97%</td>\n",
       "      <td>NaN</td>\n",
       "      <td>NaN</td>\n",
       "      <td>Cash</td>\n",
       "    </tr>\n",
       "    <tr>\n",
       "      <th>1</th>\n",
       "      <td>218520300</td>\n",
       "      <td>ROLLOVER IRA</td>\n",
       "      <td>AAPL</td>\n",
       "      <td>APPLE INC</td>\n",
       "      <td>16.00</td>\n",
       "      <td>$145.38</td>\n",
       "      <td>-$5.83</td>\n",
       "      <td>$2326.08</td>\n",
       "      <td>-$93.28</td>\n",
       "      <td>-3.86%</td>\n",
       "      <td>-$98.08</td>\n",
       "      <td>-4.05%</td>\n",
       "      <td>6.06%</td>\n",
       "      <td>$2424.16</td>\n",
       "      <td>$151.51</td>\n",
       "      <td>Cash</td>\n",
       "    </tr>\n",
       "    <tr>\n",
       "      <th>2</th>\n",
       "      <td>218520300</td>\n",
       "      <td>ROLLOVER IRA</td>\n",
       "      <td>ABMD</td>\n",
       "      <td>ABIOMED INC COM USD0.01</td>\n",
       "      <td>3.00</td>\n",
       "      <td>$262.25</td>\n",
       "      <td>-$7.38</td>\n",
       "      <td>$786.75</td>\n",
       "      <td>-$22.14</td>\n",
       "      <td>-2.74%</td>\n",
       "      <td>+$19.15</td>\n",
       "      <td>+2.49%</td>\n",
       "      <td>2.05%</td>\n",
       "      <td>$767.60</td>\n",
       "      <td>$255.87</td>\n",
       "      <td>Cash</td>\n",
       "    </tr>\n",
       "    <tr>\n",
       "      <th>3</th>\n",
       "      <td>218520300</td>\n",
       "      <td>ROLLOVER IRA</td>\n",
       "      <td>ABNB</td>\n",
       "      <td>AIRBNB INC COM CL A</td>\n",
       "      <td>3.00</td>\n",
       "      <td>$119.83</td>\n",
       "      <td>-$1.43</td>\n",
       "      <td>$359.49</td>\n",
       "      <td>-$4.29</td>\n",
       "      <td>-1.18%</td>\n",
       "      <td>-$68.76</td>\n",
       "      <td>-16.06%</td>\n",
       "      <td>0.94%</td>\n",
       "      <td>$428.25</td>\n",
       "      <td>$142.75</td>\n",
       "      <td>Cash</td>\n",
       "    </tr>\n",
       "    <tr>\n",
       "      <th>4</th>\n",
       "      <td>218520300</td>\n",
       "      <td>ROLLOVER IRA</td>\n",
       "      <td>ADYEY</td>\n",
       "      <td>ADYEN NV UNSPON ADS EACH REP 0.01 ORD SHS</td>\n",
       "      <td>1.00</td>\n",
       "      <td>$15.52</td>\n",
       "      <td>-$0.366</td>\n",
       "      <td>$15.52</td>\n",
       "      <td>-$0.37</td>\n",
       "      <td>-2.31%</td>\n",
       "      <td>+$0.43</td>\n",
       "      <td>+2.84%</td>\n",
       "      <td>0.04%</td>\n",
       "      <td>$15.09</td>\n",
       "      <td>$15.09</td>\n",
       "      <td>Cash</td>\n",
       "    </tr>\n",
       "  </tbody>\n",
       "</table>\n",
       "</div>"
      ],
      "text/plain": [
       "  Account Number  Account Name   Symbol  \\\n",
       "0      218520300  ROLLOVER IRA  SPAXX**   \n",
       "1      218520300  ROLLOVER IRA     AAPL   \n",
       "2      218520300  ROLLOVER IRA     ABMD   \n",
       "3      218520300  ROLLOVER IRA     ABNB   \n",
       "4      218520300  ROLLOVER IRA    ADYEY   \n",
       "\n",
       "                                 Description  Quantity Last Price  \\\n",
       "0           FIDELITY GOVERNMENT MONEY MARKET   3826.92      $1.00   \n",
       "1                                  APPLE INC     16.00    $145.38   \n",
       "2                    ABIOMED INC COM USD0.01      3.00    $262.25   \n",
       "3                        AIRBNB INC COM CL A      3.00    $119.83   \n",
       "4  ADYEN NV UNSPON ADS EACH REP 0.01 ORD SHS      1.00     $15.52   \n",
       "\n",
       "  Last Price Change Current Value Today's Gain/Loss Dollar  \\\n",
       "0             $0.00      $3826.92                      NaN   \n",
       "1            -$5.83      $2326.08                  -$93.28   \n",
       "2            -$7.38       $786.75                  -$22.14   \n",
       "3            -$1.43       $359.49                   -$4.29   \n",
       "4           -$0.366        $15.52                   -$0.37   \n",
       "\n",
       "  Today's Gain/Loss Percent Total Gain/Loss Dollar Total Gain/Loss Percent  \\\n",
       "0                       NaN                    NaN                     NaN   \n",
       "1                    -3.86%                -$98.08                  -4.05%   \n",
       "2                    -2.74%                +$19.15                  +2.49%   \n",
       "3                    -1.18%                -$68.76                 -16.06%   \n",
       "4                    -2.31%                 +$0.43                  +2.84%   \n",
       "\n",
       "  Percent Of Account Cost Basis Cost Basis Per Share  Type  \n",
       "0              9.97%        NaN                  NaN  Cash  \n",
       "1              6.06%   $2424.16              $151.51  Cash  \n",
       "2              2.05%    $767.60              $255.87  Cash  \n",
       "3              0.94%    $428.25              $142.75  Cash  \n",
       "4              0.04%     $15.09               $15.09  Cash  "
      ]
     },
     "execution_count": 26,
     "metadata": {},
     "output_type": "execute_result"
    }
   ],
   "source": [
    "#df_raw = pd.read_csv(f'{DL}/{filename.replace(\"-02\", \"-03\")}')\n",
    "df_raw = pd.read_csv(f'{DL}/{filename}')\n",
    "df_raw.head()"
   ]
  },
  {
   "cell_type": "code",
   "execution_count": 27,
   "id": "e6c79626",
   "metadata": {},
   "outputs": [
    {
     "data": {
      "text/html": [
       "<div>\n",
       "<style scoped>\n",
       "    .dataframe tbody tr th:only-of-type {\n",
       "        vertical-align: middle;\n",
       "    }\n",
       "\n",
       "    .dataframe tbody tr th {\n",
       "        vertical-align: top;\n",
       "    }\n",
       "\n",
       "    .dataframe thead th {\n",
       "        text-align: right;\n",
       "    }\n",
       "</style>\n",
       "<table border=\"1\" class=\"dataframe\">\n",
       "  <thead>\n",
       "    <tr style=\"text-align: right;\">\n",
       "      <th></th>\n",
       "      <th>Account Name</th>\n",
       "      <th>Symbol</th>\n",
       "      <th>Current Value</th>\n",
       "    </tr>\n",
       "  </thead>\n",
       "  <tbody>\n",
       "    <tr>\n",
       "      <th>1</th>\n",
       "      <td>ROLLOVER IRA</td>\n",
       "      <td>AAPL</td>\n",
       "      <td>2326</td>\n",
       "    </tr>\n",
       "    <tr>\n",
       "      <th>2</th>\n",
       "      <td>ROLLOVER IRA</td>\n",
       "      <td>ABMD</td>\n",
       "      <td>787</td>\n",
       "    </tr>\n",
       "    <tr>\n",
       "      <th>3</th>\n",
       "      <td>ROLLOVER IRA</td>\n",
       "      <td>ABNB</td>\n",
       "      <td>359</td>\n",
       "    </tr>\n",
       "    <tr>\n",
       "      <th>4</th>\n",
       "      <td>ROLLOVER IRA</td>\n",
       "      <td>ADYEY</td>\n",
       "      <td>16</td>\n",
       "    </tr>\n",
       "    <tr>\n",
       "      <th>5</th>\n",
       "      <td>ROLLOVER IRA</td>\n",
       "      <td>AMD</td>\n",
       "      <td>1169</td>\n",
       "    </tr>\n",
       "  </tbody>\n",
       "</table>\n",
       "</div>"
      ],
      "text/plain": [
       "   Account Name Symbol  Current Value\n",
       "1  ROLLOVER IRA   AAPL           2326\n",
       "2  ROLLOVER IRA   ABMD            787\n",
       "3  ROLLOVER IRA   ABNB            359\n",
       "4  ROLLOVER IRA  ADYEY             16\n",
       "5  ROLLOVER IRA    AMD           1169"
      ]
     },
     "execution_count": 27,
     "metadata": {},
     "output_type": "execute_result"
    }
   ],
   "source": [
    "df = df_raw[['Account Name', 'Symbol', 'Current Value']].dropna()\n",
    "df['Current Value'] = df['Current Value'].apply(convert_value)\n",
    "df['Current Value'] = df['Current Value'].fillna(0).astype(int)\n",
    "df = df[((df.Symbol != 'SPAXX**') & (df.Symbol != 'Pending Activity'))]\n",
    "df.head()"
   ]
  },
  {
   "cell_type": "code",
   "execution_count": 28,
   "id": "c667aa09",
   "metadata": {},
   "outputs": [
    {
     "data": {
      "text/html": [
       "<div>\n",
       "<style scoped>\n",
       "    .dataframe tbody tr th:only-of-type {\n",
       "        vertical-align: middle;\n",
       "    }\n",
       "\n",
       "    .dataframe tbody tr th {\n",
       "        vertical-align: top;\n",
       "    }\n",
       "\n",
       "    .dataframe thead th {\n",
       "        text-align: right;\n",
       "    }\n",
       "</style>\n",
       "<table border=\"1\" class=\"dataframe\">\n",
       "  <thead>\n",
       "    <tr style=\"text-align: right;\">\n",
       "      <th></th>\n",
       "      <th>ROLLOVER IRA</th>\n",
       "    </tr>\n",
       "    <tr>\n",
       "      <th>Symbol</th>\n",
       "      <th></th>\n",
       "    </tr>\n",
       "  </thead>\n",
       "  <tbody>\n",
       "    <tr>\n",
       "      <th>AAPL</th>\n",
       "      <td>2326</td>\n",
       "    </tr>\n",
       "    <tr>\n",
       "      <th>ABMD</th>\n",
       "      <td>787</td>\n",
       "    </tr>\n",
       "    <tr>\n",
       "      <th>ABNB</th>\n",
       "      <td>359</td>\n",
       "    </tr>\n",
       "    <tr>\n",
       "      <th>ADYEY</th>\n",
       "      <td>16</td>\n",
       "    </tr>\n",
       "    <tr>\n",
       "      <th>AMD</th>\n",
       "      <td>1169</td>\n",
       "    </tr>\n",
       "  </tbody>\n",
       "</table>\n",
       "</div>"
      ],
      "text/plain": [
       "        ROLLOVER IRA\n",
       "Symbol              \n",
       "AAPL            2326\n",
       "ABMD             787\n",
       "ABNB             359\n",
       "ADYEY             16\n",
       "AMD             1169"
      ]
     },
     "execution_count": 28,
     "metadata": {},
     "output_type": "execute_result"
    }
   ],
   "source": [
    "accounts = {account_name: df[df['Account Name'] == account_name]\n",
    "            for account_name in df['Account Name'].unique()}\n",
    "for acct in accounts.keys():\n",
    "    accounts[acct].index = accounts[acct].Symbol\n",
    "    accounts[acct] = (\n",
    "        accounts[acct]\n",
    "        .rename(columns={'Current Value': acct})\n",
    "        .drop(columns=['Account Name', 'Symbol']))\n",
    "    \n",
    "accounts['ROLLOVER IRA'].head()"
   ]
  },
  {
   "cell_type": "code",
   "execution_count": 29,
   "id": "218173fd",
   "metadata": {},
   "outputs": [
    {
     "name": "stdout",
     "output_type": "stream",
     "text": [
      "ROLLOVER IRA\n",
      "All clear\n",
      "\n",
      "ROTH IRA\n",
      "All clear\n",
      "\n",
      "SIMPLE IRA\n",
      "All clear\n",
      "\n"
     ]
    }
   ],
   "source": [
    "for k, v in accounts.items():\n",
    "    print(k)\n",
    "    check_symbols(v)\n",
    "    print()"
   ]
  },
  {
   "cell_type": "code",
   "execution_count": 30,
   "id": "e2f5c435",
   "metadata": {},
   "outputs": [
    {
     "data": {
      "text/html": [
       "<div>\n",
       "<style scoped>\n",
       "    .dataframe tbody tr th:only-of-type {\n",
       "        vertical-align: middle;\n",
       "    }\n",
       "\n",
       "    .dataframe tbody tr th {\n",
       "        vertical-align: top;\n",
       "    }\n",
       "\n",
       "    .dataframe thead th {\n",
       "        text-align: right;\n",
       "    }\n",
       "</style>\n",
       "<table border=\"1\" class=\"dataframe\">\n",
       "  <thead>\n",
       "    <tr style=\"text-align: right;\">\n",
       "      <th></th>\n",
       "      <th>ET</th>\n",
       "      <th>ROLLOVER IRA</th>\n",
       "      <th>ROTH IRA</th>\n",
       "      <th>SIMPLE IRA</th>\n",
       "    </tr>\n",
       "  </thead>\n",
       "  <tbody>\n",
       "    <tr>\n",
       "      <th>AAPL</th>\n",
       "      <td>0</td>\n",
       "      <td>2326</td>\n",
       "      <td>145</td>\n",
       "      <td>0</td>\n",
       "    </tr>\n",
       "    <tr>\n",
       "      <th>ABMD</th>\n",
       "      <td>524</td>\n",
       "      <td>787</td>\n",
       "      <td>262</td>\n",
       "      <td>0</td>\n",
       "    </tr>\n",
       "    <tr>\n",
       "      <th>ABNB</th>\n",
       "      <td>599</td>\n",
       "      <td>359</td>\n",
       "      <td>0</td>\n",
       "      <td>0</td>\n",
       "    </tr>\n",
       "    <tr>\n",
       "      <th>ADYEY</th>\n",
       "      <td>3135</td>\n",
       "      <td>16</td>\n",
       "      <td>1924</td>\n",
       "      <td>0</td>\n",
       "    </tr>\n",
       "    <tr>\n",
       "      <th>AMD</th>\n",
       "      <td>1807</td>\n",
       "      <td>1169</td>\n",
       "      <td>1594</td>\n",
       "      <td>319</td>\n",
       "    </tr>\n",
       "  </tbody>\n",
       "</table>\n",
       "</div>"
      ],
      "text/plain": [
       "         ET  ROLLOVER IRA  ROTH IRA  SIMPLE IRA\n",
       "AAPL      0          2326       145           0\n",
       "ABMD    524           787       262           0\n",
       "ABNB    599           359         0           0\n",
       "ADYEY  3135            16      1924           0\n",
       "AMD    1807          1169      1594         319"
      ]
     },
     "execution_count": 30,
     "metadata": {},
     "output_type": "execute_result"
    }
   ],
   "source": [
    "for v in accounts.values():\n",
    "    out = pd.concat([out, v], axis=1)\n",
    "out.fillna(0, inplace=True)\n",
    "out = out.astype(int)\n",
    "out.head()"
   ]
  },
  {
   "cell_type": "code",
   "execution_count": 31,
   "id": "11c0b029",
   "metadata": {},
   "outputs": [],
   "source": [
    "out.to_csv(f'{DL}/clean.csv')"
   ]
  },
  {
   "cell_type": "code",
   "execution_count": 32,
   "id": "661fde50",
   "metadata": {},
   "outputs": [],
   "source": [
    "!open $DL/clean.csv"
   ]
  },
  {
   "cell_type": "code",
   "execution_count": 31,
   "id": "37b12ba4",
   "metadata": {},
   "outputs": [
    {
     "name": "stdout",
     "output_type": "stream",
     "text": [
      "Holdings - Damian Satterthwaite-Phillips(0).csv\r\n",
      "mw.csv\r\n"
     ]
    }
   ],
   "source": [
    "!rm $DL/$filename $DL/Positions.csv $DL/clean.csv\n",
    "!ls $DL"
   ]
  },
  {
   "cell_type": "markdown",
   "id": "536c0b43",
   "metadata": {},
   "source": [
    "### MarketWatch"
   ]
  },
  {
   "cell_type": "code",
   "execution_count": 12,
   "id": "5d12aba9",
   "metadata": {},
   "outputs": [
    {
     "name": "stdout",
     "output_type": "stream",
     "text": [
      "mv: /Users/damiansp/Downloads/Holdings - Damian Satterthwaite-Phillips.csv: No such file or directory\n",
      "Holdings - Damian Satterthwaite-Phillips(0).csv\n",
      "Holdings - Damian Satterthwaite-Phillips(1).csv\n",
      "Holdings - Damian Satterthwaite-Phillips(2).csv\n"
     ]
    }
   ],
   "source": [
    "!mv \"$DL/Holdings - Damian Satterthwaite-Phillips.csv\" \"$DL/Holdings - Damian Satterthwaite-Phillips(0).csv\"\n",
    "!ls $DL"
   ]
  },
  {
   "cell_type": "code",
   "execution_count": 13,
   "id": "0359c7f7",
   "metadata": {},
   "outputs": [
    {
     "name": "stdout",
     "output_type": "stream",
     "text": [
      ".DS_Store\n",
      "Holdings - Damian Satterthwaite-Phillips(0).csv\n",
      "Holdings - Damian Satterthwaite-Phillips(1).csv\n",
      "Holdings - Damian Satterthwaite-Phillips(2).csv\n"
     ]
    },
    {
     "data": {
      "text/html": [
       "<div>\n",
       "<style scoped>\n",
       "    .dataframe tbody tr th:only-of-type {\n",
       "        vertical-align: middle;\n",
       "    }\n",
       "\n",
       "    .dataframe tbody tr th {\n",
       "        vertical-align: top;\n",
       "    }\n",
       "\n",
       "    .dataframe thead th {\n",
       "        text-align: right;\n",
       "    }\n",
       "</style>\n",
       "<table border=\"1\" class=\"dataframe\">\n",
       "  <thead>\n",
       "    <tr style=\"text-align: right;\">\n",
       "      <th></th>\n",
       "      <th>Value_1</th>\n",
       "      <th>Value_2</th>\n",
       "      <th>Value_3</th>\n",
       "    </tr>\n",
       "  </thead>\n",
       "  <tbody>\n",
       "    <tr>\n",
       "      <th>AAPL</th>\n",
       "      <td>727</td>\n",
       "      <td>436</td>\n",
       "      <td>1599</td>\n",
       "    </tr>\n",
       "    <tr>\n",
       "      <th>ABMD</th>\n",
       "      <td>1049</td>\n",
       "      <td>787</td>\n",
       "      <td>0</td>\n",
       "    </tr>\n",
       "    <tr>\n",
       "      <th>ABNB</th>\n",
       "      <td>719</td>\n",
       "      <td>599</td>\n",
       "      <td>1198</td>\n",
       "    </tr>\n",
       "    <tr>\n",
       "      <th>ADYEY</th>\n",
       "      <td>1117</td>\n",
       "      <td>3011</td>\n",
       "      <td>1381</td>\n",
       "    </tr>\n",
       "    <tr>\n",
       "      <th>AMD</th>\n",
       "      <td>1276</td>\n",
       "      <td>2339</td>\n",
       "      <td>1594</td>\n",
       "    </tr>\n",
       "  </tbody>\n",
       "</table>\n",
       "</div>"
      ],
      "text/plain": [
       "       Value_1  Value_2  Value_3\n",
       "AAPL       727      436     1599\n",
       "ABMD      1049      787        0\n",
       "ABNB       719      599     1198\n",
       "ADYEY     1117     3011     1381\n",
       "AMD       1276     2339     1594"
      ]
     },
     "execution_count": 13,
     "metadata": {},
     "output_type": "execute_result"
    }
   ],
   "source": [
    "dfs = [binder]\n",
    "for i, f in enumerate(sorted(os.listdir(DL))):\n",
    "    print(f)\n",
    "    if f.startswith('Holdings'):\n",
    "        mw = pd.read_csv(f'{DL}/{f}')[['Symbol', 'Value']]\n",
    "        mw.rename(columns={'Value': f'Value_{i}'}, inplace=True)\n",
    "        mw.index = mw.Symbol\n",
    "        mw.drop('Symbol', axis=1, inplace=True)\n",
    "        mw[f'Value_{i}'] = mw[f'Value_{i}'].apply(convert_value)\n",
    "        dfs.append(mw)\n",
    "mw = pd.concat(dfs, axis=1).fillna(0).astype(int)\n",
    "mw.head()"
   ]
  },
  {
   "cell_type": "code",
   "execution_count": 14,
   "id": "f1763741",
   "metadata": {},
   "outputs": [
    {
     "name": "stdout",
     "output_type": "stream",
     "text": [
      "All clear\n"
     ]
    }
   ],
   "source": [
    "check_symbols(mw)"
   ]
  },
  {
   "cell_type": "code",
   "execution_count": 15,
   "id": "c4235ee6",
   "metadata": {},
   "outputs": [
    {
     "data": {
      "text/html": [
       "<div>\n",
       "<style scoped>\n",
       "    .dataframe tbody tr th:only-of-type {\n",
       "        vertical-align: middle;\n",
       "    }\n",
       "\n",
       "    .dataframe tbody tr th {\n",
       "        vertical-align: top;\n",
       "    }\n",
       "\n",
       "    .dataframe thead th {\n",
       "        text-align: right;\n",
       "    }\n",
       "</style>\n",
       "<table border=\"1\" class=\"dataframe\">\n",
       "  <thead>\n",
       "    <tr style=\"text-align: right;\">\n",
       "      <th></th>\n",
       "      <th>Value_1</th>\n",
       "      <th>Value_2</th>\n",
       "      <th>Value_3</th>\n",
       "    </tr>\n",
       "  </thead>\n",
       "  <tbody>\n",
       "    <tr>\n",
       "      <th>AAPL</th>\n",
       "      <td>727</td>\n",
       "      <td>436</td>\n",
       "      <td>1599</td>\n",
       "    </tr>\n",
       "    <tr>\n",
       "      <th>ABMD</th>\n",
       "      <td>1049</td>\n",
       "      <td>787</td>\n",
       "      <td>0</td>\n",
       "    </tr>\n",
       "    <tr>\n",
       "      <th>ABNB</th>\n",
       "      <td>719</td>\n",
       "      <td>599</td>\n",
       "      <td>1198</td>\n",
       "    </tr>\n",
       "    <tr>\n",
       "      <th>ADYEY</th>\n",
       "      <td>1117</td>\n",
       "      <td>3011</td>\n",
       "      <td>1381</td>\n",
       "    </tr>\n",
       "    <tr>\n",
       "      <th>AMD</th>\n",
       "      <td>1276</td>\n",
       "      <td>2339</td>\n",
       "      <td>1594</td>\n",
       "    </tr>\n",
       "  </tbody>\n",
       "</table>\n",
       "</div>"
      ],
      "text/plain": [
       "       Value_1  Value_2  Value_3\n",
       "AAPL       727      436     1599\n",
       "ABMD      1049      787        0\n",
       "ABNB       719      599     1198\n",
       "ADYEY     1117     3011     1381\n",
       "AMD       1276     2339     1594"
      ]
     },
     "execution_count": 15,
     "metadata": {},
     "output_type": "execute_result"
    }
   ],
   "source": [
    "#out = pd.concat([binder, mw], axis=1).fillna(0).astype(int)\n",
    "mw.head()"
   ]
  },
  {
   "cell_type": "code",
   "execution_count": 16,
   "id": "a6dc8cb4",
   "metadata": {},
   "outputs": [],
   "source": [
    "mw.to_csv(f'{DL}/mw.csv')"
   ]
  },
  {
   "cell_type": "code",
   "execution_count": 17,
   "id": "9f38afa8",
   "metadata": {},
   "outputs": [],
   "source": [
    "!open $DL/mw.csv"
   ]
  },
  {
   "cell_type": "code",
   "execution_count": null,
   "id": "338a3373",
   "metadata": {},
   "outputs": [],
   "source": [
    "!rm $DL/Holdings*.csv $DL/mw.csv\n",
    "!ls $DL"
   ]
  },
  {
   "cell_type": "code",
   "execution_count": null,
   "id": "05ab44d7",
   "metadata": {},
   "outputs": [],
   "source": [
    "!rm $DL/*"
   ]
  }
 ],
 "metadata": {
  "kernelspec": {
   "display_name": "Python 3 (ipykernel)",
   "language": "python",
   "name": "python3"
  },
  "language_info": {
   "codemirror_mode": {
    "name": "ipython",
    "version": 3
   },
   "file_extension": ".py",
   "mimetype": "text/x-python",
   "name": "python",
   "nbconvert_exporter": "python",
   "pygments_lexer": "ipython3",
   "version": "3.8.5"
  }
 },
 "nbformat": 4,
 "nbformat_minor": 5
}
