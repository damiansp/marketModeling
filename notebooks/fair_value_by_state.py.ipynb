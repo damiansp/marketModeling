{
 "cells": [
  {
   "cell_type": "code",
   "execution_count": 1,
   "id": "02efc0e6",
   "metadata": {},
   "outputs": [],
   "source": [
    "from datetime import datetime, timedelta\n",
    "import sys\n",
    "\n",
    "import matplotlib.pyplot as plt\n",
    "import numpy as np\n",
    "import pandas as pd\n",
    "import yfinance as yf\n",
    "\n",
    "sys.path.append('..')\n",
    "from util.batcher import Batcher\n",
    "#from util.stock_loader import Loader"
   ]
  },
  {
   "cell_type": "code",
   "execution_count": 2,
   "id": "3ac57a6e",
   "metadata": {},
   "outputs": [
    {
     "data": {
      "text/plain": [
       "datetime.date(2022, 11, 5)"
      ]
     },
     "execution_count": 2,
     "metadata": {},
     "output_type": "execute_result"
    }
   ],
   "source": [
    "TODAY = datetime.now().date()\n",
    "TOMORROW  = TODAY + timedelta(1)\n",
    "TOMORROW"
   ]
  },
  {
   "cell_type": "code",
   "execution_count": 3,
   "id": "ae63c545",
   "metadata": {},
   "outputs": [
    {
     "data": {
      "text/html": [
       "<div>\n",
       "<style scoped>\n",
       "    .dataframe tbody tr th:only-of-type {\n",
       "        vertical-align: middle;\n",
       "    }\n",
       "\n",
       "    .dataframe tbody tr th {\n",
       "        vertical-align: top;\n",
       "    }\n",
       "\n",
       "    .dataframe thead th {\n",
       "        text-align: right;\n",
       "    }\n",
       "</style>\n",
       "<table border=\"1\" class=\"dataframe\">\n",
       "  <thead>\n",
       "    <tr style=\"text-align: right;\">\n",
       "      <th></th>\n",
       "      <th>Date</th>\n",
       "      <th>sp</th>\n",
       "      <th>sp_daily</th>\n",
       "      <th>sp_exp</th>\n",
       "      <th>nyse</th>\n",
       "      <th>nyse_daily</th>\n",
       "      <th>nyse_exp</th>\n",
       "      <th>nas</th>\n",
       "      <th>nas_daily</th>\n",
       "      <th>nas_exp</th>\n",
       "      <th>wil</th>\n",
       "      <th>wil_daily</th>\n",
       "      <th>wil_exp</th>\n",
       "      <th>mean_exp</th>\n",
       "      <th>state</th>\n",
       "    </tr>\n",
       "    <tr>\n",
       "      <th>Date</th>\n",
       "      <th></th>\n",
       "      <th></th>\n",
       "      <th></th>\n",
       "      <th></th>\n",
       "      <th></th>\n",
       "      <th></th>\n",
       "      <th></th>\n",
       "      <th></th>\n",
       "      <th></th>\n",
       "      <th></th>\n",
       "      <th></th>\n",
       "      <th></th>\n",
       "      <th></th>\n",
       "      <th></th>\n",
       "      <th></th>\n",
       "    </tr>\n",
       "  </thead>\n",
       "  <tbody>\n",
       "    <tr>\n",
       "      <th>2022-10-31</th>\n",
       "      <td>2022-10-31</td>\n",
       "      <td>3871.979980</td>\n",
       "      <td>0.992546</td>\n",
       "      <td>0.99998</td>\n",
       "      <td>14747.030273</td>\n",
       "      <td>0.996715</td>\n",
       "      <td>0.999858</td>\n",
       "      <td>10988.150391</td>\n",
       "      <td>0.989705</td>\n",
       "      <td>1.000438</td>\n",
       "      <td>38702.500000</td>\n",
       "      <td>0.993577</td>\n",
       "      <td>0.999567</td>\n",
       "      <td>0.999961</td>\n",
       "      <td>0</td>\n",
       "    </tr>\n",
       "    <tr>\n",
       "      <th>2022-11-01</th>\n",
       "      <td>2022-11-01</td>\n",
       "      <td>3856.100098</td>\n",
       "      <td>0.995899</td>\n",
       "      <td>0.99998</td>\n",
       "      <td>14790.709961</td>\n",
       "      <td>1.002962</td>\n",
       "      <td>0.999858</td>\n",
       "      <td>10890.849609</td>\n",
       "      <td>0.991145</td>\n",
       "      <td>1.000438</td>\n",
       "      <td>38575.718750</td>\n",
       "      <td>0.996724</td>\n",
       "      <td>0.999567</td>\n",
       "      <td>0.999961</td>\n",
       "      <td>0</td>\n",
       "    </tr>\n",
       "    <tr>\n",
       "      <th>2022-11-02</th>\n",
       "      <td>2022-11-02</td>\n",
       "      <td>3759.689941</td>\n",
       "      <td>0.974998</td>\n",
       "      <td>0.99998</td>\n",
       "      <td>14497.849609</td>\n",
       "      <td>0.980200</td>\n",
       "      <td>0.999858</td>\n",
       "      <td>10524.799805</td>\n",
       "      <td>0.966389</td>\n",
       "      <td>1.000438</td>\n",
       "      <td>37563.921875</td>\n",
       "      <td>0.973771</td>\n",
       "      <td>0.999567</td>\n",
       "      <td>0.999961</td>\n",
       "      <td>0</td>\n",
       "    </tr>\n",
       "    <tr>\n",
       "      <th>2022-11-03</th>\n",
       "      <td>2022-11-03</td>\n",
       "      <td>3719.889893</td>\n",
       "      <td>0.989414</td>\n",
       "      <td>0.99998</td>\n",
       "      <td>14455.669922</td>\n",
       "      <td>0.997091</td>\n",
       "      <td>0.999858</td>\n",
       "      <td>10342.940430</td>\n",
       "      <td>0.982721</td>\n",
       "      <td>1.000438</td>\n",
       "      <td>37195.031250</td>\n",
       "      <td>0.990180</td>\n",
       "      <td>0.999567</td>\n",
       "      <td>0.999961</td>\n",
       "      <td>0</td>\n",
       "    </tr>\n",
       "    <tr>\n",
       "      <th>2022-11-04</th>\n",
       "      <td>2022-11-04</td>\n",
       "      <td>3770.550049</td>\n",
       "      <td>1.013619</td>\n",
       "      <td>0.99998</td>\n",
       "      <td>14702.774414</td>\n",
       "      <td>1.017094</td>\n",
       "      <td>0.999858</td>\n",
       "      <td>10475.254883</td>\n",
       "      <td>1.012793</td>\n",
       "      <td>1.000438</td>\n",
       "      <td>37635.453125</td>\n",
       "      <td>1.011841</td>\n",
       "      <td>0.999567</td>\n",
       "      <td>0.999961</td>\n",
       "      <td>0</td>\n",
       "    </tr>\n",
       "  </tbody>\n",
       "</table>\n",
       "</div>"
      ],
      "text/plain": [
       "                  Date           sp  sp_daily   sp_exp          nyse  \\\n",
       "Date                                                                   \n",
       "2022-10-31  2022-10-31  3871.979980  0.992546  0.99998  14747.030273   \n",
       "2022-11-01  2022-11-01  3856.100098  0.995899  0.99998  14790.709961   \n",
       "2022-11-02  2022-11-02  3759.689941  0.974998  0.99998  14497.849609   \n",
       "2022-11-03  2022-11-03  3719.889893  0.989414  0.99998  14455.669922   \n",
       "2022-11-04  2022-11-04  3770.550049  1.013619  0.99998  14702.774414   \n",
       "\n",
       "            nyse_daily  nyse_exp           nas  nas_daily   nas_exp  \\\n",
       "Date                                                                  \n",
       "2022-10-31    0.996715  0.999858  10988.150391   0.989705  1.000438   \n",
       "2022-11-01    1.002962  0.999858  10890.849609   0.991145  1.000438   \n",
       "2022-11-02    0.980200  0.999858  10524.799805   0.966389  1.000438   \n",
       "2022-11-03    0.997091  0.999858  10342.940430   0.982721  1.000438   \n",
       "2022-11-04    1.017094  0.999858  10475.254883   1.012793  1.000438   \n",
       "\n",
       "                     wil  wil_daily   wil_exp  mean_exp  state  \n",
       "Date                                                            \n",
       "2022-10-31  38702.500000   0.993577  0.999567  0.999961      0  \n",
       "2022-11-01  38575.718750   0.996724  0.999567  0.999961      0  \n",
       "2022-11-02  37563.921875   0.973771  0.999567  0.999961      0  \n",
       "2022-11-03  37195.031250   0.990180  0.999567  0.999961      0  \n",
       "2022-11-04  37635.453125   1.011841  0.999567  0.999961      0  "
      ]
     },
     "execution_count": 3,
     "metadata": {},
     "output_type": "execute_result"
    }
   ],
   "source": [
    "DATA = '../data'\n",
    "\n",
    "sp1950 = pd.read_csv(f'{DATA}/sp1950.csv')\n",
    "nya1965 = pd.read_csv(f'{DATA}/nya1965.csv')\n",
    "nasdaq1965 = pd.read_csv(f'{DATA}/nasdaq1965.csv')\n",
    "wilshire1990 = pd.read_csv(f'{DATA}/wilshire1990.csv')\n",
    "\n",
    "\n",
    "nasdaq1965.tail()\n",
    "states = pd.read_csv(f'{DATA}/hmm_exp_returns.csv')\n",
    "states.index = pd.to_datetime(states.Date)\n",
    "states.tail()"
   ]
  },
  {
   "cell_type": "code",
   "execution_count": 4,
   "id": "e17c1f04",
   "metadata": {},
   "outputs": [
    {
     "data": {
      "text/plain": [
       "78"
      ]
     },
     "execution_count": 4,
     "metadata": {},
     "output_type": "execute_result"
    }
   ],
   "source": [
    "SYMBOLS = [\n",
    "    'AAPL', 'ABMD', 'ABNB', 'ACN', 'ADBE', 'ADYEY', 'AMD', 'AMGN',\n",
    "    'AMZN', 'ANET', 'ASML', 'AXON', 'BROS', 'BYND', 'CHWY', 'CRWD',\n",
    "    'DDOG', 'DOCS', 'DOCU', 'DUOL', 'EDIT', 'ETSY', 'FLGT', 'GH',\n",
    "    'GMED', 'GOOG', 'IDXX', 'INTG', 'ISRG', 'JD', 'LRCX', 'LSPD',\n",
    "    'LULU', 'MDB', 'MELI', 'MNST', 'MSFT', 'MTCH', 'NVCR', 'NVDA',\n",
    "    'ODFL', 'OKTA', 'OPEN', 'PAC', 'PANW', 'PAYC', 'PINS', 'PTON',\n",
    "    'PYPL', 'QDEL', 'RBLX', 'RDFN', 'RGEN', 'RIVN', 'RMD', 'ROKU',\n",
    "    'RVLV', 'SE', 'SHOP', 'SNOW', 'TASK', 'TDOC', 'TEAM', 'TREX',\n",
    "    'TSCO', 'TSLA', 'TTD', 'TTWO', 'TWLO', 'TWTR', 'TYL', 'UPST',\n",
    "    'VEEV', 'VLD', 'VRTX', 'XPEV', 'ZEN', 'ZM']\n",
    "LINGERERS = [\n",
    "    'AMEH', 'AMRK', 'APT', 'CENN',\n",
    "    'CTGO', 'DTST', 'EP', 'FCUV', 'FKWL', 'GGE', 'GME', 'INTZ', 'KREF',\n",
    "    'LFMD', 'MCVT', 'MIY', 'MNMD', 'MOBQ', 'PETV',\n",
    "    'POWW', 'PRPH', 'RVYL', 'VIRT', 'WAVD', 'WKHS', 'ZYXI']\n",
    "BEST_WEIGHTED = [\n",
    "    'BTTR', 'BYRN', 'CEF', 'CGAU', 'CIZN', 'DYAI', 'HMY', 'HNRG',\n",
    "    'IEI', 'MGF', 'MICS', 'MIN', 'MMU', 'MUE', 'NAN', 'NXN', 'NXP',\n",
    "    'OMQS', 'RVP', 'SOBR']\n",
    "\n",
    "len(SYMBOLS)"
   ]
  },
  {
   "cell_type": "code",
   "execution_count": 5,
   "id": "34811b61",
   "metadata": {},
   "outputs": [
    {
     "data": {
      "text/plain": [
       "(datetime.date(2012, 11, 7), datetime.date(2022, 11, 5))"
      ]
     },
     "execution_count": 5,
     "metadata": {},
     "output_type": "execute_result"
    }
   ],
   "source": [
    "TODAY = (datetime.now() + timedelta(1)).date()\n",
    "YEARS_OF_DATA = 10\n",
    "START = TODAY - timedelta(YEARS_OF_DATA * 365)\n",
    "START, TODAY"
   ]
  },
  {
   "cell_type": "code",
   "execution_count": 6,
   "id": "80b6d36b",
   "metadata": {},
   "outputs": [],
   "source": [
    "batch = sorted(list(set(SYMBOLS + LINGERERS + BEST_WEIGHTED)))"
   ]
  },
  {
   "cell_type": "code",
   "execution_count": 7,
   "id": "d1345c46",
   "metadata": {},
   "outputs": [
    {
     "name": "stdout",
     "output_type": "stream",
     "text": [
      "[*********************100%***********************]  124 of 124 completed\n"
     ]
    }
   ],
   "source": [
    "data = (\n",
    "    yf\n",
    "    .download(batch, start=START, end=TODAY)\n",
    "    .rename(columns={'Adj Close': 'AdjClose'})\n",
    "    .sort_index())"
   ]
  },
  {
   "cell_type": "code",
   "execution_count": 8,
   "id": "40dbe3b7",
   "metadata": {},
   "outputs": [
    {
     "data": {
      "text/html": [
       "<div>\n",
       "<style scoped>\n",
       "    .dataframe tbody tr th:only-of-type {\n",
       "        vertical-align: middle;\n",
       "    }\n",
       "\n",
       "    .dataframe tbody tr th {\n",
       "        vertical-align: top;\n",
       "    }\n",
       "\n",
       "    .dataframe thead tr th {\n",
       "        text-align: left;\n",
       "    }\n",
       "\n",
       "    .dataframe thead tr:last-of-type th {\n",
       "        text-align: right;\n",
       "    }\n",
       "</style>\n",
       "<table border=\"1\" class=\"dataframe\">\n",
       "  <thead>\n",
       "    <tr>\n",
       "      <th></th>\n",
       "      <th colspan=\"10\" halign=\"left\">AdjClose</th>\n",
       "      <th>...</th>\n",
       "      <th colspan=\"9\" halign=\"left\">Volume</th>\n",
       "      <th>state</th>\n",
       "    </tr>\n",
       "    <tr>\n",
       "      <th></th>\n",
       "      <th>AAPL</th>\n",
       "      <th>ABMD</th>\n",
       "      <th>ABNB</th>\n",
       "      <th>ACN</th>\n",
       "      <th>ADBE</th>\n",
       "      <th>ADYEY</th>\n",
       "      <th>AMD</th>\n",
       "      <th>AMEH</th>\n",
       "      <th>AMGN</th>\n",
       "      <th>AMRK</th>\n",
       "      <th>...</th>\n",
       "      <th>VIRT</th>\n",
       "      <th>VLD</th>\n",
       "      <th>VRTX</th>\n",
       "      <th>WAVD</th>\n",
       "      <th>WKHS</th>\n",
       "      <th>XPEV</th>\n",
       "      <th>ZEN</th>\n",
       "      <th>ZM</th>\n",
       "      <th>ZYXI</th>\n",
       "      <th></th>\n",
       "    </tr>\n",
       "    <tr>\n",
       "      <th>Date</th>\n",
       "      <th></th>\n",
       "      <th></th>\n",
       "      <th></th>\n",
       "      <th></th>\n",
       "      <th></th>\n",
       "      <th></th>\n",
       "      <th></th>\n",
       "      <th></th>\n",
       "      <th></th>\n",
       "      <th></th>\n",
       "      <th></th>\n",
       "      <th></th>\n",
       "      <th></th>\n",
       "      <th></th>\n",
       "      <th></th>\n",
       "      <th></th>\n",
       "      <th></th>\n",
       "      <th></th>\n",
       "      <th></th>\n",
       "      <th></th>\n",
       "      <th></th>\n",
       "    </tr>\n",
       "  </thead>\n",
       "  <tbody>\n",
       "    <tr>\n",
       "      <th>2022-10-31</th>\n",
       "      <td>153.339996</td>\n",
       "      <td>252.080002</td>\n",
       "      <td>106.910004</td>\n",
       "      <td>283.899994</td>\n",
       "      <td>318.500000</td>\n",
       "      <td>14.370</td>\n",
       "      <td>60.060001</td>\n",
       "      <td>35.459999</td>\n",
       "      <td>270.350006</td>\n",
       "      <td>30.410000</td>\n",
       "      <td>...</td>\n",
       "      <td>577900.0</td>\n",
       "      <td>923800.0</td>\n",
       "      <td>1575200</td>\n",
       "      <td>14900</td>\n",
       "      <td>3215900</td>\n",
       "      <td>27737800.0</td>\n",
       "      <td>1420600.0</td>\n",
       "      <td>1908600.0</td>\n",
       "      <td>441700</td>\n",
       "      <td>0</td>\n",
       "    </tr>\n",
       "    <tr>\n",
       "      <th>2022-11-01</th>\n",
       "      <td>150.649994</td>\n",
       "      <td>377.820007</td>\n",
       "      <td>109.050003</td>\n",
       "      <td>281.470001</td>\n",
       "      <td>316.019989</td>\n",
       "      <td>14.109</td>\n",
       "      <td>59.660000</td>\n",
       "      <td>35.230000</td>\n",
       "      <td>272.059998</td>\n",
       "      <td>30.420000</td>\n",
       "      <td>...</td>\n",
       "      <td>434800.0</td>\n",
       "      <td>726900.0</td>\n",
       "      <td>1192500</td>\n",
       "      <td>4400</td>\n",
       "      <td>1971900</td>\n",
       "      <td>39135600.0</td>\n",
       "      <td>1851800.0</td>\n",
       "      <td>1834900.0</td>\n",
       "      <td>537300</td>\n",
       "      <td>0</td>\n",
       "    </tr>\n",
       "    <tr>\n",
       "      <th>2022-11-02</th>\n",
       "      <td>145.029999</td>\n",
       "      <td>373.510010</td>\n",
       "      <td>94.410004</td>\n",
       "      <td>272.450012</td>\n",
       "      <td>301.220001</td>\n",
       "      <td>13.689</td>\n",
       "      <td>58.630001</td>\n",
       "      <td>34.939999</td>\n",
       "      <td>269.010010</td>\n",
       "      <td>30.049999</td>\n",
       "      <td>...</td>\n",
       "      <td>982200.0</td>\n",
       "      <td>976000.0</td>\n",
       "      <td>1492900</td>\n",
       "      <td>24700</td>\n",
       "      <td>2476700</td>\n",
       "      <td>49040500.0</td>\n",
       "      <td>2562200.0</td>\n",
       "      <td>3381000.0</td>\n",
       "      <td>403900</td>\n",
       "      <td>0</td>\n",
       "    </tr>\n",
       "    <tr>\n",
       "      <th>2022-11-03</th>\n",
       "      <td>138.880005</td>\n",
       "      <td>373.630005</td>\n",
       "      <td>92.019997</td>\n",
       "      <td>256.880005</td>\n",
       "      <td>285.929993</td>\n",
       "      <td>12.790</td>\n",
       "      <td>60.110001</td>\n",
       "      <td>33.230000</td>\n",
       "      <td>265.880005</td>\n",
       "      <td>28.580000</td>\n",
       "      <td>...</td>\n",
       "      <td>866800.0</td>\n",
       "      <td>686300.0</td>\n",
       "      <td>936000</td>\n",
       "      <td>58200</td>\n",
       "      <td>3397800</td>\n",
       "      <td>23702300.0</td>\n",
       "      <td>1160400.0</td>\n",
       "      <td>3156400.0</td>\n",
       "      <td>310200</td>\n",
       "      <td>0</td>\n",
       "    </tr>\n",
       "    <tr>\n",
       "      <th>2022-11-04</th>\n",
       "      <td>138.380005</td>\n",
       "      <td>373.989990</td>\n",
       "      <td>96.089996</td>\n",
       "      <td>261.160004</td>\n",
       "      <td>285.750000</td>\n",
       "      <td>12.930</td>\n",
       "      <td>62.189999</td>\n",
       "      <td>37.950001</td>\n",
       "      <td>269.040009</td>\n",
       "      <td>28.700001</td>\n",
       "      <td>...</td>\n",
       "      <td>1021089.0</td>\n",
       "      <td>925555.0</td>\n",
       "      <td>1125476</td>\n",
       "      <td>996</td>\n",
       "      <td>4547416</td>\n",
       "      <td>60166365.0</td>\n",
       "      <td>1984333.0</td>\n",
       "      <td>3468278.0</td>\n",
       "      <td>233217</td>\n",
       "      <td>0</td>\n",
       "    </tr>\n",
       "  </tbody>\n",
       "</table>\n",
       "<p>5 rows × 745 columns</p>\n",
       "</div>"
      ],
      "text/plain": [
       "              AdjClose                                                  \\\n",
       "                  AAPL        ABMD        ABNB         ACN        ADBE   \n",
       "Date                                                                     \n",
       "2022-10-31  153.339996  252.080002  106.910004  283.899994  318.500000   \n",
       "2022-11-01  150.649994  377.820007  109.050003  281.470001  316.019989   \n",
       "2022-11-02  145.029999  373.510010   94.410004  272.450012  301.220001   \n",
       "2022-11-03  138.880005  373.630005   92.019997  256.880005  285.929993   \n",
       "2022-11-04  138.380005  373.989990   96.089996  261.160004  285.750000   \n",
       "\n",
       "                                                                 ...  \\\n",
       "             ADYEY        AMD       AMEH        AMGN       AMRK  ...   \n",
       "Date                                                             ...   \n",
       "2022-10-31  14.370  60.060001  35.459999  270.350006  30.410000  ...   \n",
       "2022-11-01  14.109  59.660000  35.230000  272.059998  30.420000  ...   \n",
       "2022-11-02  13.689  58.630001  34.939999  269.010010  30.049999  ...   \n",
       "2022-11-03  12.790  60.110001  33.230000  265.880005  28.580000  ...   \n",
       "2022-11-04  12.930  62.189999  37.950001  269.040009  28.700001  ...   \n",
       "\n",
       "               Volume                                                 \\\n",
       "                 VIRT       VLD     VRTX   WAVD     WKHS        XPEV   \n",
       "Date                                                                   \n",
       "2022-10-31   577900.0  923800.0  1575200  14900  3215900  27737800.0   \n",
       "2022-11-01   434800.0  726900.0  1192500   4400  1971900  39135600.0   \n",
       "2022-11-02   982200.0  976000.0  1492900  24700  2476700  49040500.0   \n",
       "2022-11-03   866800.0  686300.0   936000  58200  3397800  23702300.0   \n",
       "2022-11-04  1021089.0  925555.0  1125476    996  4547416  60166365.0   \n",
       "\n",
       "                                         state  \n",
       "                  ZEN         ZM    ZYXI        \n",
       "Date                                            \n",
       "2022-10-31  1420600.0  1908600.0  441700     0  \n",
       "2022-11-01  1851800.0  1834900.0  537300     0  \n",
       "2022-11-02  2562200.0  3381000.0  403900     0  \n",
       "2022-11-03  1160400.0  3156400.0  310200     0  \n",
       "2022-11-04  1984333.0  3468278.0  233217     0  \n",
       "\n",
       "[5 rows x 745 columns]"
      ]
     },
     "execution_count": 8,
     "metadata": {},
     "output_type": "execute_result"
    }
   ],
   "source": [
    "data['state'] = states.state\n",
    "data.tail()"
   ]
  },
  {
   "cell_type": "code",
   "execution_count": 9,
   "id": "e5c4b52b",
   "metadata": {},
   "outputs": [
    {
     "data": {
      "text/plain": [
       "[0, 1, 2, 3, 4, 5, 6]"
      ]
     },
     "execution_count": 9,
     "metadata": {},
     "output_type": "execute_result"
    }
   ],
   "source": [
    "STATES = sorted(states.state.unique())\n",
    "STATES"
   ]
  },
  {
   "cell_type": "code",
   "execution_count": 10,
   "id": "1ba79e9a",
   "metadata": {},
   "outputs": [
    {
     "data": {
      "text/plain": [
       "0"
      ]
     },
     "execution_count": 10,
     "metadata": {},
     "output_type": "execute_result"
    }
   ],
   "source": [
    "CURRENT_STATE = states.state[-1]\n",
    "CURRENT_STATE"
   ]
  },
  {
   "cell_type": "code",
   "execution_count": 11,
   "id": "c86a6728",
   "metadata": {},
   "outputs": [],
   "source": [
    "def get_stock_data(stock, data):\n",
    "    sub = data.loc[\n",
    "        :,  \n",
    "        [x for x in list(data) if x[1] == stock]]\n",
    "    first_value = (\n",
    "        sub.AdjClose[stock][sub.AdjClose[stock].notna()].index[0])\n",
    "    sub = sub.loc[first_value:, :]\n",
    "    sub.columns = sub.columns.to_series().apply(lambda x: x[0])\n",
    "    sub.fillna(method='ffill', inplace=True)\n",
    "    return sub"
   ]
  },
  {
   "cell_type": "code",
   "execution_count": 12,
   "id": "fc00b33a",
   "metadata": {},
   "outputs": [],
   "source": [
    "def get_daily_returns(x):\n",
    "    idx = x.index\n",
    "    n = len(x)\n",
    "    x = np.array(x)\n",
    "    #return x[2:n] / x[1:(n - 1)] - 1 \n",
    "    returns = x[1:n] / x[0:(n-1)] - 1\n",
    "    returns = pd.Series(returns, index=idx[1:])\n",
    "    return returns"
   ]
  },
  {
   "cell_type": "code",
   "execution_count": 13,
   "id": "418e9299",
   "metadata": {},
   "outputs": [],
   "source": [
    "def get_sharpe(returns, window=None):\n",
    "    n = len(returns)\n",
    "    if window is None:\n",
    "        window = n\n",
    "    if len(returns) > window:\n",
    "        returns = returns[(n - window):n]\n",
    "    returns = returns[~np.isnan(returns)]\n",
    "    sharpe = (np.sqrt(252) * returns.mean()) / returns.std()\n",
    "    return sharpe"
   ]
  },
  {
   "cell_type": "code",
   "execution_count": 14,
   "id": "aea65630",
   "metadata": {},
   "outputs": [],
   "source": [
    "def get_hedged_sharpe(daily_returns, data):\n",
    "    state_sharpe = get_sharpe(\n",
    "        daily_returns[data.state == CURRENT_STATE])\n",
    "    lower_state_sharpe = get_sharpe(\n",
    "        daily_returns[data.state == max(CURRENT_STATE - 1, 0)])\n",
    "    upper_state_sharpe = get_sharpe(\n",
    "        daily_returns[\n",
    "            data.state == min(CURRENT_STATE + 1, max(STATES))])\n",
    "    return min(state_sharpe, lower_state_sharpe, upper_state_sharpe)"
   ]
  },
  {
   "cell_type": "code",
   "execution_count": 15,
   "id": "aeb3fdc4",
   "metadata": {},
   "outputs": [],
   "source": [
    "def get_weighted_sharpe(daily_returns, data, weights=[0.2, 0.6, 0.2]):\n",
    "    state_sharpe = get_sharpe(\n",
    "        daily_returns[data.state == CURRENT_STATE])\n",
    "    lower_state_sharpe = get_sharpe(\n",
    "        daily_returns[data.state == max(CURRENT_STATE - 1, 0)])\n",
    "    upper_state_sharpe = get_sharpe(\n",
    "        daily_returns[\n",
    "            data.state == min(CURRENT_STATE + 1, max(STATES))])\n",
    "    return (\n",
    "        weights[0]*lower_state_sharpe\n",
    "        + weights[1]*state_sharpe\n",
    "        + weights[2]*upper_state_sharpe)"
   ]
  },
  {
   "cell_type": "code",
   "execution_count": 16,
   "id": "c4d498cb",
   "metadata": {},
   "outputs": [],
   "source": [
    "def rescale(a):\n",
    "    a = a - a.min()\n",
    "    a = a / a.max()\n",
    "    return a"
   ]
  },
  {
   "cell_type": "code",
   "execution_count": 17,
   "id": "d37ae8da",
   "metadata": {},
   "outputs": [],
   "source": [
    "def vals_to_quantiles(a):\n",
    "    n = len(a)\n",
    "    qs = np.linspace(0, 1, n)\n",
    "    order = np.argsort(a)\n",
    "    out = qs[order]\n",
    "    return out"
   ]
  },
  {
   "cell_type": "code",
   "execution_count": 18,
   "id": "d0c38483",
   "metadata": {},
   "outputs": [],
   "source": [
    "def get_rsi(stock_data, window=14):\n",
    "    df = stock_data.copy()\n",
    "    df['deltas'] = df.AdjClose.diff(1)\n",
    "    df['gains'] = df.deltas.clip(lower=0)\n",
    "    df['losses'] = df.deltas.clip(upper=0).abs()\n",
    "    df['avg_gain'] = (df.gains\n",
    "                      .rolling(window=window, min_periods=window)\n",
    "                      .mean()[:window + 1])\n",
    "    df['avg_loss'] = (df.losses\n",
    "                      .rolling(window=window, min_periods=window)\n",
    "                      .mean()[:window + 1])\n",
    "    \n",
    "    # avg gains\n",
    "    pd.options.mode.chained_assignment = None\n",
    "    for i, row in enumerate(df.avg_gain.iloc[window + 1:]):\n",
    "        df.avg_gain.iloc[i + window + 1] = (\n",
    "            (df.avg_gain.iloc[i + window] * (window - 1) \n",
    "             + df.gains.iloc[i + window + 1]) \n",
    "            / window)\n",
    "    # avg losses\n",
    "    for i, row in enumerate(df.avg_loss.iloc[window + 1:]):\n",
    "        df.avg_loss.iloc[i + window + 1] = (\n",
    "            (df.avg_loss.iloc[i + window] * (window - 1)\n",
    "             + df.losses.iloc[i + window + 1])\n",
    "            / window)\n",
    "    df['rs'] = df.avg_gain / df.avg_loss\n",
    "    df['rsi'] = 100 - (100 / (1. + df.rs))\n",
    "    return df.rsi"
   ]
  },
  {
   "cell_type": "code",
   "execution_count": 19,
   "id": "166912c5",
   "metadata": {},
   "outputs": [],
   "source": [
    "def get_macd(stock_data, fast=60, slow=90, signal=80, plot=False):\n",
    "    df = stock_data.copy()\n",
    "    exp1 = df.AdjClose.ewm(span=fast, adjust=False).mean()\n",
    "    exp2 = df.AdjClose.ewm(span=slow, adjust=False).mean()\n",
    "    macd = exp1 - exp2\n",
    "    exp3 = macd.ewm(span=signal, adjust=False).mean()\n",
    "    histo = macd - exp3\n",
    "    hdiff = histo.diff(1)\n",
    "    is_rising = 1 * (hdiff > 0)\n",
    "    if plot:\n",
    "        plt.plot(macd, label='MACD', color='red')\n",
    "        plt.plot(exp3, label='Signal', color='green')\n",
    "        #plt.xlim(pd.to_datetime('2021-01-01'), \n",
    "        #         pd.to_datetime('2021-10-14'))\n",
    "        plt.legend();\n",
    "        plt.figure()\n",
    "        plt.plot(histo, color='blue')\n",
    "        #plt.xlim(pd.to_datetime('2021-01-01'), \n",
    "        #         pd.to_datetime('2021-10-14'))\n",
    "        plt.axhline(y=0, color='k')\n",
    "        plt.figure()\n",
    "        plt.plot(is_rising)\n",
    "        #plt.xlim(pd.to_datetime('2021-01-01'), \n",
    "        #         pd.to_datetime('2021-10-14'))\n",
    "    return is_rising"
   ]
  },
  {
   "cell_type": "code",
   "execution_count": 20,
   "id": "706e1ec9",
   "metadata": {},
   "outputs": [],
   "source": [
    "LMB = 0.9\n",
    "RSI_WINDOW = 14\n",
    "MACD_PARAMS = (60, 90, 80, False)"
   ]
  },
  {
   "cell_type": "code",
   "execution_count": 21,
   "id": "f66f2539",
   "metadata": {},
   "outputs": [],
   "source": [
    "EXAMPLE = 'AAPL'"
   ]
  },
  {
   "cell_type": "code",
   "execution_count": 22,
   "id": "aa1b4507",
   "metadata": {},
   "outputs": [
    {
     "data": {
      "text/plain": [
       "(0.8652405886345804, -2.612136078874684)"
      ]
     },
     "execution_count": 22,
     "metadata": {},
     "output_type": "execute_result"
    }
   ],
   "source": [
    "stock_data = get_stock_data(EXAMPLE, data.copy())\n",
    "daily_returns = get_daily_returns(stock_data.AdjClose)\n",
    "daily_returns\n",
    "(get_sharpe(daily_returns), \n",
    " get_sharpe(daily_returns[data.state == CURRENT_STATE]))"
   ]
  },
  {
   "cell_type": "code",
   "execution_count": 23,
   "id": "82d5802e",
   "metadata": {},
   "outputs": [
    {
     "data": {
      "image/png": "[encoded data removed]",
      "text/plain": [
       "<Figure size 432x288 with 1 Axes>"
      ]
     },
     "metadata": {
      "needs_background": "light"
     },
     "output_type": "display_data"
    }
   ],
   "source": [
    "plt.plot(\n",
    "    (get_daily_returns(data[('AdjClose', EXAMPLE)]) + 1).cumprod());"
   ]
  },
  {
   "cell_type": "code",
   "execution_count": 24,
   "id": "7991d24f",
   "metadata": {},
   "outputs": [
    {
     "data": {
      "image/png": "[encoded data removed]",
      "text/plain": [
       "<Figure size 432x288 with 1 Axes>"
      ]
     },
     "metadata": {
      "needs_background": "light"
     },
     "output_type": "display_data"
    }
   ],
   "source": [
    "dr = get_daily_returns(\n",
    "    data[('AdjClose', EXAMPLE)]\n",
    ")[data.state == CURRENT_STATE]\n",
    "dr = dr[dr.notnull()]\n",
    "plt.plot((dr + 1).to_numpy().cumprod());"
   ]
  },
  {
   "cell_type": "code",
   "execution_count": 25,
   "id": "ff56345e",
   "metadata": {},
   "outputs": [
    {
     "data": {
      "text/plain": [
       "-1.7636793450796233"
      ]
     },
     "execution_count": 25,
     "metadata": {},
     "output_type": "execute_result"
    }
   ],
   "source": [
    "get_weighted_sharpe(daily_returns, data.copy())"
   ]
  },
  {
   "cell_type": "code",
   "execution_count": 26,
   "id": "e7e7526a",
   "metadata": {},
   "outputs": [],
   "source": [
    "def process_stock(stock, data, lmb=LMB, plot=False):\n",
    "    stock_data = get_stock_data(stock, data)\n",
    "    n = len(stock_data.AdjClose[~np.isnan(stock_data.AdjClose)])\n",
    "    stock_data['direction'] = get_macd(stock_data, *MACD_PARAMS)\n",
    "    stock_data['rsi'] = get_rsi(stock_data, window=RSI_WINDOW)\n",
    "    stock_data.rsi = stock_data.rsi.rank(pct=True)\n",
    "    daily_returns = get_daily_returns(stock_data.AdjClose)\n",
    "    sharpe = get_sharpe(daily_returns)\n",
    "    #state_sharpe = get_sharpe(\n",
    "    #    daily_returns[data.state == CURRENT_STATE])\n",
    "    #hedged_sharpe = get_hedged_sharpe(daily_returns, data)\n",
    "    weighted_sharpe = get_weighted_sharpe(daily_returns, data)\n",
    "    stock_data.fillna(method='ffill', inplace=True)\n",
    "    stock_data.fillna(method='bfill', inplace=True)\n",
    "    WINDOW = min(n // 2, 125)\n",
    "    stock_data['ann_high'] = (\n",
    "        stock_data.AdjClose.rolling(window=WINDOW).max())\n",
    "    stock_data['ann_low'] = (\n",
    "        stock_data.AdjClose.rolling(window=WINDOW).min())\n",
    "    stock_data['drawdown'] = stock_data.AdjClose / stock_data.ann_high\n",
    "    stock_data.drawdown = stock_data.drawdown.rank(pct=True)\n",
    "    stock_data['pullup'] = stock_data.AdjClose / stock_data.ann_low\n",
    "    stock_data.pullup = stock_data.pullup.rank(pct=True)\n",
    "    w = [lmb ** t for t in range(n)][::-1]\n",
    "    stock_data['W'] = w\n",
    "    stock_data['n_samp'] = (stock_data.Volume / 100)  * stock_data.W\n",
    "    stock_data['value'] = (\n",
    "        (stock_data.AdjClose \n",
    "         + stock_data.High \n",
    "         + stock_data.Low \n",
    "         + stock_data.Open) \n",
    "        / 4)\n",
    "    stock_data['est'] = np.nan\n",
    "    for day in stock_data.index:\n",
    "        sub = stock_data[stock_data.index <= day]\n",
    "        weights = sub.n_samp\n",
    "        weights = weights / weights.sum()\n",
    "        values = sub.value\n",
    "        est = np.dot(weights, values)\n",
    "        stock_data.loc[day, 'est'] = est\n",
    "    stock_data['resid'] = stock_data.AdjClose / stock_data.est\n",
    "    stock_data.resid = stock_data.resid.rank(pct=True)\n",
    "    stock_data.sort_values('resid', inplace=True)\n",
    "    n_notnull_resid = stock_data.resid.notnull().sum()\n",
    "    stock_data['dev'] = np.nan\n",
    "    stock_data.loc[stock_data.resid.notnull(), 'dev'] = (\n",
    "        np.array(range(n_notnull_resid) / n_notnull_resid))\n",
    "    stock_data.dev = stock_data.dev.rank(pct=True)\n",
    "    stock_data.sort_index(inplace=True)\n",
    "    if plot:\n",
    "        plt.figure(figsize=(12, 8))\n",
    "        plt.plot(stock_data.AdjClose, label='AdjClose')\n",
    "        plt.plot(stock_data.est, label='Est')\n",
    "        plt.yscale('log')\n",
    "        plt.plot(stock_data.ann_high, color='green')\n",
    "        plt.plot(stock_data.ann_low, color='red')\n",
    "        plt.legend();\n",
    "        \n",
    "        plt.figure(figsize=(12, 4))\n",
    "        plt.plot(stock_data.dev)\n",
    "        plt.axhline(0.5, color='k')\n",
    "        plt.title(stock)\n",
    "        \n",
    "        plt.figure(figsize=(12, 4))\n",
    "        plt.plot(stock_data.drawdown, color='red', label='drawdown')\n",
    "        plt.plot(stock_data.pullup, color='green', label='pullup')\n",
    "        plt.plot(\n",
    "            np.sqrt(stock_data.drawdown * stock_data.pullup),\n",
    "            color='grey',\n",
    "            label='geomean')\n",
    "        plt.yscale('log')\n",
    "        plt.legend()\n",
    "    return (\n",
    "        stock_data.direction.tolist()[-1],\n",
    "        stock_data.rsi.tolist()[-1],\n",
    "        stock_data.resid.tolist()[-1], \n",
    "        stock_data.dev.tolist()[-1],\n",
    "        stock_data.drawdown.tolist()[-1],\n",
    "        stock_data.pullup.tolist()[-1],\n",
    "        sharpe,\n",
    "        #state_sharpe,\n",
    "        #hedged_sharpe,\n",
    "        weighted_sharpe)"
   ]
  },
  {
   "cell_type": "code",
   "execution_count": 27,
   "id": "1cbfa969",
   "metadata": {
    "scrolled": false
   },
   "outputs": [
    {
     "data": {
      "text/plain": [
       "(0,\n",
       " 0.13423891330403515,\n",
       " 0.35717123559793407,\n",
       " 0.35717123559793407,\n",
       " 0.07918930213121604,\n",
       " 0.0829502716255746,\n",
       " 0.8652405886345804,\n",
       " -1.7636793450796233)"
      ]
     },
     "execution_count": 27,
     "metadata": {},
     "output_type": "execute_result"
    },
    {
     "data": {
      "image/png": "[encoded data removed]",
      "text/plain": [
       "<Figure size 864x576 with 1 Axes>"
      ]
     },
     "metadata": {
      "needs_background": "light"
     },
     "output_type": "display_data"
    },
    {
     "data": {
      "image/png": "[encoded data removed]",
      "text/plain": [
       "<Figure size 864x288 with 1 Axes>"
      ]
     },
     "metadata": {
      "needs_background": "light"
     },
     "output_type": "display_data"
    },
    {
     "data": {
      "image/png": "[encoded data removed]",
      "text/plain": [
       "<Figure size 864x288 with 1 Axes>"
      ]
     },
     "metadata": {
      "needs_background": "light"
     },
     "output_type": "display_data"
    }
   ],
   "source": [
    "process_stock('AAPL', data.copy(), plot=True)"
   ]
  },
  {
   "cell_type": "code",
   "execution_count": 28,
   "id": "977ecacf",
   "metadata": {},
   "outputs": [
    {
     "name": "stdout",
     "output_type": "stream",
     "text": [
      "AAPL... ABMD... ABNB... ACN... ADBE... ADYEY... AMD... AMEH... AMGN... AMRK... AMZN... ANET... APT... ASML... AXON... BROS... BTTR... BYND... BYRN... CEF... CENN... CGAU... CHWY... CIZN... CRWD... CTGO... DDOG... DOCS... DOCU... DTST... DUOL... DYAI... EDIT... EP... ETSY... FCUV... FKWL... FLGT... GGE... GH... GME... GMED... GOOG... HMY... HNRG... IDXX... IEI... INTG... INTZ... ISRG... JD... KREF... LFMD... LRCX... LSPD... LULU... MCVT... MDB... MELI... MGF... MICS... MIN... MIY... MMU... MNMD... MNST... MOBQ... MSFT... MTCH... MUE... NAN... NVCR... NVDA... NXN... NXP... ODFL... OKTA... OMQS... OPEN... PAC... PANW... PAYC... PETV... PINS... POWW... PRPH... PTON... PYPL... QDEL... RBLX... RDFN... RGEN... RIVN... RMD... ROKU... RVLV... RVP... RVYL... SE... SHOP... SNOW... SOBR... TASK... TDOC... TEAM... TREX... TSCO... TSLA... TTD... TTWO... TWLO... TWTR... TYL... UPST... VEEV... VIRT... VLD... VRTX... WAVD... WKHS... XPEV... ZEN... ZM... ZYXI... "
     ]
    }
   ],
   "source": [
    "out = []\n",
    "for stock in batch:\n",
    "    print(f'{stock}...', end=' ')\n",
    "    stock_stats = process_stock(stock, data)\n",
    "    out.append([stock, *stock_stats])"
   ]
  },
  {
   "cell_type": "code",
   "execution_count": 29,
   "id": "c186e04d",
   "metadata": {},
   "outputs": [
    {
     "data": {
      "text/html": [
       "<div>\n",
       "<style scoped>\n",
       "    .dataframe tbody tr th:only-of-type {\n",
       "        vertical-align: middle;\n",
       "    }\n",
       "\n",
       "    .dataframe tbody tr th {\n",
       "        vertical-align: top;\n",
       "    }\n",
       "\n",
       "    .dataframe thead th {\n",
       "        text-align: right;\n",
       "    }\n",
       "</style>\n",
       "<table border=\"1\" class=\"dataframe\">\n",
       "  <thead>\n",
       "    <tr style=\"text-align: right;\">\n",
       "      <th></th>\n",
       "      <th>stock</th>\n",
       "      <th>direction</th>\n",
       "      <th>RSI</th>\n",
       "      <th>RSIRev</th>\n",
       "      <th>fair_value_mult</th>\n",
       "      <th>dev_quantile</th>\n",
       "      <th>drop</th>\n",
       "      <th>climb</th>\n",
       "      <th>geomean</th>\n",
       "      <th>score</th>\n",
       "      <th>sharpe</th>\n",
       "      <th>weighted_sharpe</th>\n",
       "    </tr>\n",
       "  </thead>\n",
       "  <tbody>\n",
       "    <tr>\n",
       "      <th>0</th>\n",
       "      <td>AAPL</td>\n",
       "      <td>0</td>\n",
       "      <td>0.134239</td>\n",
       "      <td>0.865761</td>\n",
       "      <td>0.357171</td>\n",
       "      <td>0.357171</td>\n",
       "      <td>0.079189</td>\n",
       "      <td>0.082950</td>\n",
       "      <td>0.081048</td>\n",
       "      <td>0.170141</td>\n",
       "      <td>0.865241</td>\n",
       "      <td>-1.763679</td>\n",
       "    </tr>\n",
       "    <tr>\n",
       "      <th>1</th>\n",
       "      <td>ABMD</td>\n",
       "      <td>1</td>\n",
       "      <td>0.964443</td>\n",
       "      <td>0.035557</td>\n",
       "      <td>0.738975</td>\n",
       "      <td>0.738975</td>\n",
       "      <td>0.833682</td>\n",
       "      <td>0.811534</td>\n",
       "      <td>0.822533</td>\n",
       "      <td>0.779635</td>\n",
       "      <td>0.953008</td>\n",
       "      <td>-0.699799</td>\n",
       "    </tr>\n",
       "    <tr>\n",
       "      <th>2</th>\n",
       "      <td>ABNB</td>\n",
       "      <td>0</td>\n",
       "      <td>0.122318</td>\n",
       "      <td>0.877682</td>\n",
       "      <td>0.097917</td>\n",
       "      <td>0.097917</td>\n",
       "      <td>0.620787</td>\n",
       "      <td>0.154494</td>\n",
       "      <td>0.309690</td>\n",
       "      <td>0.174137</td>\n",
       "      <td>-0.079201</td>\n",
       "      <td>-2.011953</td>\n",
       "    </tr>\n",
       "    <tr>\n",
       "      <th>3</th>\n",
       "      <td>ACN</td>\n",
       "      <td>0</td>\n",
       "      <td>0.178186</td>\n",
       "      <td>0.821814</td>\n",
       "      <td>0.659913</td>\n",
       "      <td>0.659913</td>\n",
       "      <td>0.073966</td>\n",
       "      <td>0.104889</td>\n",
       "      <td>0.088081</td>\n",
       "      <td>0.241092</td>\n",
       "      <td>0.772705</td>\n",
       "      <td>-1.808423</td>\n",
       "    </tr>\n",
       "    <tr>\n",
       "      <th>4</th>\n",
       "      <td>ADBE</td>\n",
       "      <td>0</td>\n",
       "      <td>0.060328</td>\n",
       "      <td>0.939672</td>\n",
       "      <td>0.038141</td>\n",
       "      <td>0.038141</td>\n",
       "      <td>0.026327</td>\n",
       "      <td>0.056415</td>\n",
       "      <td>0.038538</td>\n",
       "      <td>0.038339</td>\n",
       "      <td>0.845096</td>\n",
       "      <td>-2.244167</td>\n",
       "    </tr>\n",
       "  </tbody>\n",
       "</table>\n",
       "</div>"
      ],
      "text/plain": [
       "  stock  direction       RSI    RSIRev  fair_value_mult  dev_quantile  \\\n",
       "0  AAPL          0  0.134239  0.865761         0.357171      0.357171   \n",
       "1  ABMD          1  0.964443  0.035557         0.738975      0.738975   \n",
       "2  ABNB          0  0.122318  0.877682         0.097917      0.097917   \n",
       "3   ACN          0  0.178186  0.821814         0.659913      0.659913   \n",
       "4  ADBE          0  0.060328  0.939672         0.038141      0.038141   \n",
       "\n",
       "       drop     climb   geomean     score    sharpe  weighted_sharpe  \n",
       "0  0.079189  0.082950  0.081048  0.170141  0.865241        -1.763679  \n",
       "1  0.833682  0.811534  0.822533  0.779635  0.953008        -0.699799  \n",
       "2  0.620787  0.154494  0.309690  0.174137 -0.079201        -2.011953  \n",
       "3  0.073966  0.104889  0.088081  0.241092  0.772705        -1.808423  \n",
       "4  0.026327  0.056415  0.038538  0.038339  0.845096        -2.244167  "
      ]
     },
     "execution_count": 29,
     "metadata": {},
     "output_type": "execute_result"
    }
   ],
   "source": [
    "out_df = pd.DataFrame(\n",
    "    data=out, \n",
    "    columns=[\n",
    "        'stock', 'direction', 'RSI', 'fair_value_mult', 'dev_quantile',\n",
    "        'drop','climb', 'sharpe', 'weighted_sharpe'])\n",
    "out_df['geomean'] = np.sqrt(out_df['drop'] * out_df.climb)\n",
    "out_df['score'] = (\n",
    "    out_df.fair_value_mult\n",
    "    * out_df.dev_quantile\n",
    "    * out_df['drop']\n",
    "    * out_df.climb) ** (1/4) \n",
    "out_df['RSIRev'] = 1 - out_df.RSI\n",
    "out_df = out_df[\n",
    "    ['stock', 'direction', 'RSI', 'RSIRev', 'fair_value_mult', \n",
    "     'dev_quantile', 'drop', 'climb', 'geomean', 'score',  'sharpe',\n",
    "     'weighted_sharpe']]\n",
    "out_df.RSI.fillna(out_df.RSI.median())\n",
    "out_df.RSIRev.fillna(out_df.RSIRev.median())\n",
    "\n",
    "out_df.weighted_sharpe.fillna(\n",
    "    out_df.weighted_sharpe.mean(), inplace=True)\n",
    "out_df.sort_values('stock')\n",
    "out_df.head()"
   ]
  },
  {
   "cell_type": "code",
   "execution_count": 30,
   "id": "166a0cf2",
   "metadata": {},
   "outputs": [
    {
     "data": {
      "text/plain": [
       "0.05    0.017358\n",
       "0.99    0.914586\n",
       "Name: geomean, dtype: float64"
      ]
     },
     "execution_count": 30,
     "metadata": {},
     "output_type": "execute_result"
    }
   ],
   "source": [
    "out_df.geomean.quantile([0.05, 0.99])"
   ]
  },
  {
   "cell_type": "code",
   "execution_count": 31,
   "id": "bbd1ecad",
   "metadata": {},
   "outputs": [],
   "source": [
    "out_df.to_csv('individ_quantiles.csv', index=False)"
   ]
  },
  {
   "cell_type": "code",
   "execution_count": 32,
   "id": "cbc0955c",
   "metadata": {},
   "outputs": [],
   "source": [
    "!open individ_quantiles.csv"
   ]
  },
  {
   "cell_type": "code",
   "execution_count": null,
   "id": "169e4685",
   "metadata": {},
   "outputs": [],
   "source": []
  },
  {
   "cell_type": "code",
   "execution_count": null,
   "id": "5de37386",
   "metadata": {},
   "outputs": [],
   "source": []
  }
 ],
 "metadata": {
  "kernelspec": {
   "display_name": "Python 3 (ipykernel)",
   "language": "python",
   "name": "python3"
  },
  "language_info": {
   "codemirror_mode": {
    "name": "ipython",
    "version": 3
   },
   "file_extension": ".py",
   "mimetype": "text/x-python",
   "name": "python",
   "nbconvert_exporter": "python",
   "pygments_lexer": "ipython3",
   "version": "3.10.6"
  }
 },
 "nbformat": 4,
 "nbformat_minor": 5
}
