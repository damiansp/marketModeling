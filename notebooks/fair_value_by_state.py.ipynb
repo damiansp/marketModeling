{
 "cells": [
  {
   "cell_type": "code",
   "execution_count": 1,
   "id": "02efc0e6",
   "metadata": {},
   "outputs": [],
   "source": [
    "from datetime import datetime, timedelta\n",
    "import sys\n",
    "\n",
    "import matplotlib.pyplot as plt\n",
    "import numpy as np\n",
    "import pandas as pd\n",
    "import yfinance as yf\n",
    "\n",
    "sys.path.append('..')\n",
    "from util.batcher import Batcher\n",
    "#from util.stock_loader import Loader"
   ]
  },
  {
   "cell_type": "code",
   "execution_count": 2,
   "id": "3ac57a6e",
   "metadata": {},
   "outputs": [
    {
     "data": {
      "text/plain": [
       "datetime.date(2022, 9, 24)"
      ]
     },
     "execution_count": 2,
     "metadata": {},
     "output_type": "execute_result"
    }
   ],
   "source": [
    "TODAY = datetime.now().date()\n",
    "TOMORROW  = TODAY + timedelta(1)\n",
    "TOMORROW"
   ]
  },
  {
   "cell_type": "code",
   "execution_count": 3,
   "id": "ae63c545",
   "metadata": {},
   "outputs": [
    {
     "data": {
      "text/html": [
       "<div>\n",
       "<style scoped>\n",
       "    .dataframe tbody tr th:only-of-type {\n",
       "        vertical-align: middle;\n",
       "    }\n",
       "\n",
       "    .dataframe tbody tr th {\n",
       "        vertical-align: top;\n",
       "    }\n",
       "\n",
       "    .dataframe thead th {\n",
       "        text-align: right;\n",
       "    }\n",
       "</style>\n",
       "<table border=\"1\" class=\"dataframe\">\n",
       "  <thead>\n",
       "    <tr style=\"text-align: right;\">\n",
       "      <th></th>\n",
       "      <th>Date</th>\n",
       "      <th>sp</th>\n",
       "      <th>sp_daily</th>\n",
       "      <th>sp_exp</th>\n",
       "      <th>nyse</th>\n",
       "      <th>nyse_daily</th>\n",
       "      <th>nyse_exp</th>\n",
       "      <th>nas</th>\n",
       "      <th>nas_daily</th>\n",
       "      <th>nas_exp</th>\n",
       "      <th>wil</th>\n",
       "      <th>wil_daily</th>\n",
       "      <th>wil_exp</th>\n",
       "      <th>mean_exp</th>\n",
       "      <th>state</th>\n",
       "    </tr>\n",
       "    <tr>\n",
       "      <th>Date</th>\n",
       "      <th></th>\n",
       "      <th></th>\n",
       "      <th></th>\n",
       "      <th></th>\n",
       "      <th></th>\n",
       "      <th></th>\n",
       "      <th></th>\n",
       "      <th></th>\n",
       "      <th></th>\n",
       "      <th></th>\n",
       "      <th></th>\n",
       "      <th></th>\n",
       "      <th></th>\n",
       "      <th></th>\n",
       "      <th></th>\n",
       "    </tr>\n",
       "  </thead>\n",
       "  <tbody>\n",
       "    <tr>\n",
       "      <th>2022-09-19</th>\n",
       "      <td>2022-09-19</td>\n",
       "      <td>3899.889893</td>\n",
       "      <td>1.006857</td>\n",
       "      <td>0.999972</td>\n",
       "      <td>14674.459961</td>\n",
       "      <td>1.006899</td>\n",
       "      <td>0.999837</td>\n",
       "      <td>11535.019531</td>\n",
       "      <td>1.007566</td>\n",
       "      <td>1.00048</td>\n",
       "      <td>39022.230469</td>\n",
       "      <td>1.007013</td>\n",
       "      <td>1.000128</td>\n",
       "      <td>1.000104</td>\n",
       "      <td>0</td>\n",
       "    </tr>\n",
       "    <tr>\n",
       "      <th>2022-09-20</th>\n",
       "      <td>2022-09-20</td>\n",
       "      <td>3855.929932</td>\n",
       "      <td>0.988728</td>\n",
       "      <td>0.999972</td>\n",
       "      <td>14474.719727</td>\n",
       "      <td>0.986389</td>\n",
       "      <td>0.999837</td>\n",
       "      <td>11425.049805</td>\n",
       "      <td>0.990466</td>\n",
       "      <td>1.00048</td>\n",
       "      <td>38558.480469</td>\n",
       "      <td>0.988116</td>\n",
       "      <td>1.000128</td>\n",
       "      <td>1.000104</td>\n",
       "      <td>0</td>\n",
       "    </tr>\n",
       "    <tr>\n",
       "      <th>2022-09-21</th>\n",
       "      <td>2022-09-21</td>\n",
       "      <td>3789.929932</td>\n",
       "      <td>0.982884</td>\n",
       "      <td>0.999972</td>\n",
       "      <td>14236.610352</td>\n",
       "      <td>0.983550</td>\n",
       "      <td>0.999837</td>\n",
       "      <td>11220.190430</td>\n",
       "      <td>0.982069</td>\n",
       "      <td>1.00048</td>\n",
       "      <td>37914.988281</td>\n",
       "      <td>0.983311</td>\n",
       "      <td>1.000128</td>\n",
       "      <td>1.000104</td>\n",
       "      <td>0</td>\n",
       "    </tr>\n",
       "    <tr>\n",
       "      <th>2022-09-22</th>\n",
       "      <td>2022-09-22</td>\n",
       "      <td>3757.989990</td>\n",
       "      <td>0.991572</td>\n",
       "      <td>0.999972</td>\n",
       "      <td>14116.589844</td>\n",
       "      <td>0.991570</td>\n",
       "      <td>0.999837</td>\n",
       "      <td>11066.809570</td>\n",
       "      <td>0.986330</td>\n",
       "      <td>1.00048</td>\n",
       "      <td>37483.148438</td>\n",
       "      <td>0.988610</td>\n",
       "      <td>1.000128</td>\n",
       "      <td>1.000104</td>\n",
       "      <td>0</td>\n",
       "    </tr>\n",
       "    <tr>\n",
       "      <th>2022-09-23</th>\n",
       "      <td>2022-09-23</td>\n",
       "      <td>3693.229980</td>\n",
       "      <td>0.982767</td>\n",
       "      <td>0.999972</td>\n",
       "      <td>13796.990234</td>\n",
       "      <td>0.977360</td>\n",
       "      <td>0.999837</td>\n",
       "      <td>10867.925781</td>\n",
       "      <td>0.982029</td>\n",
       "      <td>1.00048</td>\n",
       "      <td>36787.203125</td>\n",
       "      <td>0.981433</td>\n",
       "      <td>1.000128</td>\n",
       "      <td>1.000104</td>\n",
       "      <td>0</td>\n",
       "    </tr>\n",
       "  </tbody>\n",
       "</table>\n",
       "</div>"
      ],
      "text/plain": [
       "                  Date           sp  sp_daily    sp_exp          nyse  \\\n",
       "Date                                                                    \n",
       "2022-09-19  2022-09-19  3899.889893  1.006857  0.999972  14674.459961   \n",
       "2022-09-20  2022-09-20  3855.929932  0.988728  0.999972  14474.719727   \n",
       "2022-09-21  2022-09-21  3789.929932  0.982884  0.999972  14236.610352   \n",
       "2022-09-22  2022-09-22  3757.989990  0.991572  0.999972  14116.589844   \n",
       "2022-09-23  2022-09-23  3693.229980  0.982767  0.999972  13796.990234   \n",
       "\n",
       "            nyse_daily  nyse_exp           nas  nas_daily  nas_exp  \\\n",
       "Date                                                                 \n",
       "2022-09-19    1.006899  0.999837  11535.019531   1.007566  1.00048   \n",
       "2022-09-20    0.986389  0.999837  11425.049805   0.990466  1.00048   \n",
       "2022-09-21    0.983550  0.999837  11220.190430   0.982069  1.00048   \n",
       "2022-09-22    0.991570  0.999837  11066.809570   0.986330  1.00048   \n",
       "2022-09-23    0.977360  0.999837  10867.925781   0.982029  1.00048   \n",
       "\n",
       "                     wil  wil_daily   wil_exp  mean_exp  state  \n",
       "Date                                                            \n",
       "2022-09-19  39022.230469   1.007013  1.000128  1.000104      0  \n",
       "2022-09-20  38558.480469   0.988116  1.000128  1.000104      0  \n",
       "2022-09-21  37914.988281   0.983311  1.000128  1.000104      0  \n",
       "2022-09-22  37483.148438   0.988610  1.000128  1.000104      0  \n",
       "2022-09-23  36787.203125   0.981433  1.000128  1.000104      0  "
      ]
     },
     "execution_count": 3,
     "metadata": {},
     "output_type": "execute_result"
    }
   ],
   "source": [
    "DATA = '../data'\n",
    "\n",
    "sp1950 = pd.read_csv(f'{DATA}/sp1950.csv')\n",
    "nya1965 = pd.read_csv(f'{DATA}/nya1965.csv')\n",
    "nasdaq1965 = pd.read_csv(f'{DATA}/nasdaq1965.csv')\n",
    "wilshire1990 = pd.read_csv(f'{DATA}/wilshire1990.csv')\n",
    "\n",
    "\n",
    "nasdaq1965.tail()\n",
    "states = pd.read_csv(f'{DATA}/hmm_exp_returns.csv')\n",
    "states.index = pd.to_datetime(states.Date)\n",
    "states.tail()"
   ]
  },
  {
   "cell_type": "code",
   "execution_count": 4,
   "id": "e17c1f04",
   "metadata": {},
   "outputs": [
    {
     "data": {
      "text/plain": [
       "73"
      ]
     },
     "execution_count": 4,
     "metadata": {},
     "output_type": "execute_result"
    }
   ],
   "source": [
    "SYMBOLS = [\n",
    "    'AAPL', 'ABMD', 'ABNB', 'ADBE', 'ADYEY', 'AMD', 'AMGN', 'AMZN',\n",
    "    'ANET', 'ASML', 'AXON', 'BROS', 'BYND', 'CHWY', 'CRWD', 'DDOG',\n",
    "    'DOCS', 'DOCU', 'DUOL', 'EDIT', 'ETSY', 'FLGT', 'GH', 'GMED',\n",
    "    'GOOG', 'IDXX', 'INTG', 'ISRG', 'JD', 'LRCX', 'LSPD', 'LULU', 'MDB',\n",
    "    'MELI', 'MNST', 'MSFT', 'MTCH', 'NVCR', 'NVDA', 'ODFL', 'OKTA',\n",
    "    'OPEN', 'PAC', 'PANW', 'PAYC', 'PINS', 'PYPL', 'QDEL', 'RBLX',\n",
    "    'RDFN', 'RGEN', 'RIVN', 'ROKU', 'RVLV', 'SE', 'SHOP', 'SNOW',\n",
    "    'TASK', 'TDOC', 'TEAM', 'TREX', 'TTD', 'TTWO', 'TWLO', 'TWTR',\n",
    "    'TYL', 'UPST', 'VEEV', 'VLD', 'VRTX', 'XPEV', 'ZEN', 'ZM']\n",
    "LINGERERS = [\n",
    "    'AMEH', 'AMRK', 'BYRN', 'CIZN', 'CTSH', 'CUBE', 'EP', 'EXR', 'FCPT', \n",
    "    'FCUV', 'GBOX', 'GME', 'INTZ', 'KREF', 'LFMD', 'MCVT', 'MNMD',\n",
    "    'OMQS', 'PETV', 'POWW', 'PRPH', 'RA', 'RVP', 'VIRT', 'WAVD', 'WKHS',\n",
    "    'ZYXI']\n",
    "BEST_WEIGHTED = [\n",
    "    'ABST', 'APT', 'BKT', 'CEF', 'CFFN', 'CZFS', 'FCAP', 'FCN', 'FNV',\n",
    "    'GCBC', 'HMY', 'IEI', 'MICS', 'MIY', 'MUJ', 'NAZ', 'NLY', 'NPV',\n",
    "    'NXP', 'SOBR']\n",
    "len(SYMBOLS)"
   ]
  },
  {
   "cell_type": "code",
   "execution_count": 5,
   "id": "34811b61",
   "metadata": {},
   "outputs": [
    {
     "data": {
      "text/plain": [
       "(datetime.date(2012, 9, 26), datetime.date(2022, 9, 24))"
      ]
     },
     "execution_count": 5,
     "metadata": {},
     "output_type": "execute_result"
    }
   ],
   "source": [
    "TODAY = (datetime.now() + timedelta(1)).date()\n",
    "YEARS_OF_DATA = 10\n",
    "START = TODAY - timedelta(YEARS_OF_DATA * 365)\n",
    "START, TODAY"
   ]
  },
  {
   "cell_type": "code",
   "execution_count": 6,
   "id": "80b6d36b",
   "metadata": {},
   "outputs": [],
   "source": [
    "batch = sorted(list(set(SYMBOLS + LINGERERS + BEST_WEIGHTED)))"
   ]
  },
  {
   "cell_type": "code",
   "execution_count": 7,
   "id": "d1345c46",
   "metadata": {},
   "outputs": [
    {
     "name": "stdout",
     "output_type": "stream",
     "text": [
      "[*********************100%***********************]  120 of 120 completed\n"
     ]
    }
   ],
   "source": [
    "data = (\n",
    "    yf\n",
    "    .download(batch, start=START, end=TODAY)\n",
    "    .rename(columns={'Adj Close': 'AdjClose'})\n",
    "    .sort_index())"
   ]
  },
  {
   "cell_type": "code",
   "execution_count": 8,
   "id": "40dbe3b7",
   "metadata": {},
   "outputs": [
    {
     "data": {
      "text/html": [
       "<div>\n",
       "<style scoped>\n",
       "    .dataframe tbody tr th:only-of-type {\n",
       "        vertical-align: middle;\n",
       "    }\n",
       "\n",
       "    .dataframe tbody tr th {\n",
       "        vertical-align: top;\n",
       "    }\n",
       "\n",
       "    .dataframe thead tr th {\n",
       "        text-align: left;\n",
       "    }\n",
       "\n",
       "    .dataframe thead tr:last-of-type th {\n",
       "        text-align: right;\n",
       "    }\n",
       "</style>\n",
       "<table border=\"1\" class=\"dataframe\">\n",
       "  <thead>\n",
       "    <tr>\n",
       "      <th></th>\n",
       "      <th colspan=\"10\" halign=\"left\">AdjClose</th>\n",
       "      <th>...</th>\n",
       "      <th colspan=\"9\" halign=\"left\">Volume</th>\n",
       "      <th>state</th>\n",
       "    </tr>\n",
       "    <tr>\n",
       "      <th></th>\n",
       "      <th>AAPL</th>\n",
       "      <th>ABMD</th>\n",
       "      <th>ABNB</th>\n",
       "      <th>ABST</th>\n",
       "      <th>ADBE</th>\n",
       "      <th>ADYEY</th>\n",
       "      <th>AMD</th>\n",
       "      <th>AMEH</th>\n",
       "      <th>AMGN</th>\n",
       "      <th>AMRK</th>\n",
       "      <th>...</th>\n",
       "      <th>VIRT</th>\n",
       "      <th>VLD</th>\n",
       "      <th>VRTX</th>\n",
       "      <th>WAVD</th>\n",
       "      <th>WKHS</th>\n",
       "      <th>XPEV</th>\n",
       "      <th>ZEN</th>\n",
       "      <th>ZM</th>\n",
       "      <th>ZYXI</th>\n",
       "      <th></th>\n",
       "    </tr>\n",
       "    <tr>\n",
       "      <th>Date</th>\n",
       "      <th></th>\n",
       "      <th></th>\n",
       "      <th></th>\n",
       "      <th></th>\n",
       "      <th></th>\n",
       "      <th></th>\n",
       "      <th></th>\n",
       "      <th></th>\n",
       "      <th></th>\n",
       "      <th></th>\n",
       "      <th></th>\n",
       "      <th></th>\n",
       "      <th></th>\n",
       "      <th></th>\n",
       "      <th></th>\n",
       "      <th></th>\n",
       "      <th></th>\n",
       "      <th></th>\n",
       "      <th></th>\n",
       "      <th></th>\n",
       "      <th></th>\n",
       "    </tr>\n",
       "  </thead>\n",
       "  <tbody>\n",
       "    <tr>\n",
       "      <th>2022-09-19</th>\n",
       "      <td>154.479996</td>\n",
       "      <td>257.869995</td>\n",
       "      <td>118.779999</td>\n",
       "      <td>10.95</td>\n",
       "      <td>296.059998</td>\n",
       "      <td>13.12</td>\n",
       "      <td>76.769997</td>\n",
       "      <td>39.000000</td>\n",
       "      <td>230.759995</td>\n",
       "      <td>25.770000</td>\n",
       "      <td>...</td>\n",
       "      <td>870800.0</td>\n",
       "      <td>916000.0</td>\n",
       "      <td>1350300</td>\n",
       "      <td>18500</td>\n",
       "      <td>2344200</td>\n",
       "      <td>18193100.0</td>\n",
       "      <td>4368600.0</td>\n",
       "      <td>4515000.0</td>\n",
       "      <td>189800</td>\n",
       "      <td>0</td>\n",
       "    </tr>\n",
       "    <tr>\n",
       "      <th>2022-09-20</th>\n",
       "      <td>156.899994</td>\n",
       "      <td>258.989990</td>\n",
       "      <td>116.709999</td>\n",
       "      <td>10.86</td>\n",
       "      <td>291.059998</td>\n",
       "      <td>12.68</td>\n",
       "      <td>75.250000</td>\n",
       "      <td>39.139999</td>\n",
       "      <td>227.710007</td>\n",
       "      <td>24.059999</td>\n",
       "      <td>...</td>\n",
       "      <td>806600.0</td>\n",
       "      <td>1013100.0</td>\n",
       "      <td>1130600</td>\n",
       "      <td>30800</td>\n",
       "      <td>1638800</td>\n",
       "      <td>15856000.0</td>\n",
       "      <td>2937400.0</td>\n",
       "      <td>3157800.0</td>\n",
       "      <td>113900</td>\n",
       "      <td>0</td>\n",
       "    </tr>\n",
       "    <tr>\n",
       "      <th>2022-09-21</th>\n",
       "      <td>153.720001</td>\n",
       "      <td>252.809998</td>\n",
       "      <td>114.010002</td>\n",
       "      <td>10.96</td>\n",
       "      <td>286.299988</td>\n",
       "      <td>12.65</td>\n",
       "      <td>74.480003</td>\n",
       "      <td>41.709999</td>\n",
       "      <td>224.460007</td>\n",
       "      <td>24.430000</td>\n",
       "      <td>...</td>\n",
       "      <td>668900.0</td>\n",
       "      <td>1275300.0</td>\n",
       "      <td>1109800</td>\n",
       "      <td>13500</td>\n",
       "      <td>2639100</td>\n",
       "      <td>41645500.0</td>\n",
       "      <td>2268600.0</td>\n",
       "      <td>3274100.0</td>\n",
       "      <td>128300</td>\n",
       "      <td>0</td>\n",
       "    </tr>\n",
       "    <tr>\n",
       "      <th>2022-09-22</th>\n",
       "      <td>152.740005</td>\n",
       "      <td>247.259995</td>\n",
       "      <td>103.720001</td>\n",
       "      <td>10.86</td>\n",
       "      <td>287.059998</td>\n",
       "      <td>12.50</td>\n",
       "      <td>69.500000</td>\n",
       "      <td>40.580002</td>\n",
       "      <td>227.750000</td>\n",
       "      <td>25.850000</td>\n",
       "      <td>...</td>\n",
       "      <td>4029400.0</td>\n",
       "      <td>3079400.0</td>\n",
       "      <td>1408200</td>\n",
       "      <td>188400</td>\n",
       "      <td>2658000</td>\n",
       "      <td>23489400.0</td>\n",
       "      <td>3947200.0</td>\n",
       "      <td>4116200.0</td>\n",
       "      <td>133400</td>\n",
       "      <td>0</td>\n",
       "    </tr>\n",
       "    <tr>\n",
       "      <th>2022-09-23</th>\n",
       "      <td>150.429993</td>\n",
       "      <td>245.529999</td>\n",
       "      <td>101.750000</td>\n",
       "      <td>10.69</td>\n",
       "      <td>284.559998</td>\n",
       "      <td>12.19</td>\n",
       "      <td>67.959999</td>\n",
       "      <td>41.090000</td>\n",
       "      <td>226.970001</td>\n",
       "      <td>26.490000</td>\n",
       "      <td>...</td>\n",
       "      <td>1746572.0</td>\n",
       "      <td>1255101.0</td>\n",
       "      <td>1321120</td>\n",
       "      <td>85490</td>\n",
       "      <td>3605350</td>\n",
       "      <td>28105835.0</td>\n",
       "      <td>4305810.0</td>\n",
       "      <td>3889982.0</td>\n",
       "      <td>156832</td>\n",
       "      <td>0</td>\n",
       "    </tr>\n",
       "  </tbody>\n",
       "</table>\n",
       "<p>5 rows × 721 columns</p>\n",
       "</div>"
      ],
      "text/plain": [
       "              AdjClose                                                    \\\n",
       "                  AAPL        ABMD        ABNB   ABST        ADBE  ADYEY   \n",
       "Date                                                                       \n",
       "2022-09-19  154.479996  257.869995  118.779999  10.95  296.059998  13.12   \n",
       "2022-09-20  156.899994  258.989990  116.709999  10.86  291.059998  12.68   \n",
       "2022-09-21  153.720001  252.809998  114.010002  10.96  286.299988  12.65   \n",
       "2022-09-22  152.740005  247.259995  103.720001  10.86  287.059998  12.50   \n",
       "2022-09-23  150.429993  245.529999  101.750000  10.69  284.559998  12.19   \n",
       "\n",
       "                                                         ...     Volume  \\\n",
       "                  AMD       AMEH        AMGN       AMRK  ...       VIRT   \n",
       "Date                                                     ...              \n",
       "2022-09-19  76.769997  39.000000  230.759995  25.770000  ...   870800.0   \n",
       "2022-09-20  75.250000  39.139999  227.710007  24.059999  ...   806600.0   \n",
       "2022-09-21  74.480003  41.709999  224.460007  24.430000  ...   668900.0   \n",
       "2022-09-22  69.500000  40.580002  227.750000  25.850000  ...  4029400.0   \n",
       "2022-09-23  67.959999  41.090000  226.970001  26.490000  ...  1746572.0   \n",
       "\n",
       "                                                                        \\\n",
       "                  VLD     VRTX    WAVD     WKHS        XPEV        ZEN   \n",
       "Date                                                                     \n",
       "2022-09-19   916000.0  1350300   18500  2344200  18193100.0  4368600.0   \n",
       "2022-09-20  1013100.0  1130600   30800  1638800  15856000.0  2937400.0   \n",
       "2022-09-21  1275300.0  1109800   13500  2639100  41645500.0  2268600.0   \n",
       "2022-09-22  3079400.0  1408200  188400  2658000  23489400.0  3947200.0   \n",
       "2022-09-23  1255101.0  1321120   85490  3605350  28105835.0  4305810.0   \n",
       "\n",
       "                              state  \n",
       "                   ZM    ZYXI        \n",
       "Date                                 \n",
       "2022-09-19  4515000.0  189800     0  \n",
       "2022-09-20  3157800.0  113900     0  \n",
       "2022-09-21  3274100.0  128300     0  \n",
       "2022-09-22  4116200.0  133400     0  \n",
       "2022-09-23  3889982.0  156832     0  \n",
       "\n",
       "[5 rows x 721 columns]"
      ]
     },
     "execution_count": 8,
     "metadata": {},
     "output_type": "execute_result"
    }
   ],
   "source": [
    "data['state'] = states.state\n",
    "data.tail()"
   ]
  },
  {
   "cell_type": "code",
   "execution_count": 9,
   "id": "e5c4b52b",
   "metadata": {},
   "outputs": [
    {
     "data": {
      "text/plain": [
       "[0, 1, 2, 3, 4, 5, 6]"
      ]
     },
     "execution_count": 9,
     "metadata": {},
     "output_type": "execute_result"
    }
   ],
   "source": [
    "STATES = sorted(states.state.unique())\n",
    "STATES"
   ]
  },
  {
   "cell_type": "code",
   "execution_count": 10,
   "id": "1ba79e9a",
   "metadata": {},
   "outputs": [
    {
     "data": {
      "text/plain": [
       "0"
      ]
     },
     "execution_count": 10,
     "metadata": {},
     "output_type": "execute_result"
    }
   ],
   "source": [
    "CURRENT_STATE = states.state[-1]\n",
    "CURRENT_STATE"
   ]
  },
  {
   "cell_type": "code",
   "execution_count": 11,
   "id": "c86a6728",
   "metadata": {},
   "outputs": [],
   "source": [
    "def get_stock_data(stock, data):\n",
    "    sub = data.loc[\n",
    "        :,  \n",
    "        [x for x in list(data) if x[1] == stock]]\n",
    "    first_value = (\n",
    "        sub.AdjClose[stock][sub.AdjClose[stock].notna()].index[0])\n",
    "    sub = sub.loc[first_value:, :]\n",
    "    sub.columns = sub.columns.to_series().apply(lambda x: x[0])\n",
    "    sub.fillna(method='ffill', inplace=True)\n",
    "    return sub"
   ]
  },
  {
   "cell_type": "code",
   "execution_count": 12,
   "id": "fc00b33a",
   "metadata": {},
   "outputs": [],
   "source": [
    "def get_daily_returns(x):\n",
    "    idx = x.index\n",
    "    n = len(x)\n",
    "    x = np.array(x)\n",
    "    #return x[2:n] / x[1:(n - 1)] - 1 \n",
    "    returns = x[1:n] / x[0:(n-1)] - 1\n",
    "    returns = pd.Series(returns, index=idx[1:])\n",
    "    return returns"
   ]
  },
  {
   "cell_type": "code",
   "execution_count": 13,
   "id": "418e9299",
   "metadata": {},
   "outputs": [],
   "source": [
    "def get_sharpe(returns, window=None):\n",
    "    n = len(returns)\n",
    "    if window is None:\n",
    "        window = n\n",
    "    if len(returns) > window:\n",
    "        returns = returns[(n - window):n]\n",
    "    returns = returns[~np.isnan(returns)]\n",
    "    sharpe = (np.sqrt(252) * returns.mean()) / returns.std()\n",
    "    return sharpe"
   ]
  },
  {
   "cell_type": "code",
   "execution_count": 14,
   "id": "aea65630",
   "metadata": {},
   "outputs": [],
   "source": [
    "def get_hedged_sharpe(daily_returns, data):\n",
    "    state_sharpe = get_sharpe(\n",
    "        daily_returns[data.state == CURRENT_STATE])\n",
    "    lower_state_sharpe = get_sharpe(\n",
    "        daily_returns[data.state == max(CURRENT_STATE - 1, 0)])\n",
    "    upper_state_sharpe = get_sharpe(\n",
    "        daily_returns[\n",
    "            data.state == min(CURRENT_STATE + 1, max(STATES))])\n",
    "    return min(state_sharpe, lower_state_sharpe, upper_state_sharpe)"
   ]
  },
  {
   "cell_type": "code",
   "execution_count": 15,
   "id": "aeb3fdc4",
   "metadata": {},
   "outputs": [],
   "source": [
    "def get_weighted_sharpe(daily_returns, data, weights=[0.2, 0.6, 0.2]):\n",
    "    state_sharpe = get_sharpe(\n",
    "        daily_returns[data.state == CURRENT_STATE])\n",
    "    lower_state_sharpe = get_sharpe(\n",
    "        daily_returns[data.state == max(CURRENT_STATE - 1, 0)])\n",
    "    upper_state_sharpe = get_sharpe(\n",
    "        daily_returns[\n",
    "            data.state == min(CURRENT_STATE + 1, max(STATES))])\n",
    "    return (\n",
    "        weights[0]*lower_state_sharpe\n",
    "        + weights[1]*state_sharpe\n",
    "        + weights[2]*upper_state_sharpe)"
   ]
  },
  {
   "cell_type": "code",
   "execution_count": 16,
   "id": "c4d498cb",
   "metadata": {},
   "outputs": [],
   "source": [
    "def rescale(a):\n",
    "    a = a - a.min()\n",
    "    a = a / a.max()\n",
    "    return a"
   ]
  },
  {
   "cell_type": "code",
   "execution_count": 17,
   "id": "d37ae8da",
   "metadata": {},
   "outputs": [],
   "source": [
    "def vals_to_quantiles(a):\n",
    "    n = len(a)\n",
    "    qs = np.linspace(0, 1, n)\n",
    "    order = np.argsort(a)\n",
    "    out = qs[order]\n",
    "    return out"
   ]
  },
  {
   "cell_type": "code",
   "execution_count": 18,
   "id": "d0c38483",
   "metadata": {},
   "outputs": [],
   "source": [
    "def get_rsi(stock_data, window=14):\n",
    "    df = stock_data.copy()\n",
    "    df['deltas'] = df.AdjClose.diff(1)\n",
    "    df['gains'] = df.deltas.clip(lower=0)\n",
    "    df['losses'] = df.deltas.clip(upper=0).abs()\n",
    "    df['avg_gain'] = (df.gains\n",
    "                      .rolling(window=window, min_periods=window)\n",
    "                      .mean()[:window + 1])\n",
    "    df['avg_loss'] = (df.losses\n",
    "                      .rolling(window=window, min_periods=window)\n",
    "                      .mean()[:window + 1])\n",
    "    \n",
    "    # avg gains\n",
    "    pd.options.mode.chained_assignment = None\n",
    "    for i, row in enumerate(df.avg_gain.iloc[window + 1:]):\n",
    "        df.avg_gain.iloc[i + window + 1] = (\n",
    "            (df.avg_gain.iloc[i + window] * (window - 1) \n",
    "             + df.gains.iloc[i + window + 1]) \n",
    "            / window)\n",
    "    # avg losses\n",
    "    for i, row in enumerate(df.avg_loss.iloc[window + 1:]):\n",
    "        df.avg_loss.iloc[i + window + 1] = (\n",
    "            (df.avg_loss.iloc[i + window] * (window - 1)\n",
    "             + df.losses.iloc[i + window + 1])\n",
    "            / window)\n",
    "    df['rs'] = df.avg_gain / df.avg_loss\n",
    "    df['rsi'] = 100 - (100 / (1. + df.rs))\n",
    "    return df.rsi"
   ]
  },
  {
   "cell_type": "code",
   "execution_count": 19,
   "id": "166912c5",
   "metadata": {},
   "outputs": [],
   "source": [
    "def get_macd(stock_data, fast=60, slow=90, signal=80, plot=False):\n",
    "    df = stock_data.copy()\n",
    "    exp1 = df.AdjClose.ewm(span=fast, adjust=False).mean()\n",
    "    exp2 = df.AdjClose.ewm(span=slow, adjust=False).mean()\n",
    "    macd = exp1 - exp2\n",
    "    exp3 = macd.ewm(span=signal, adjust=False).mean()\n",
    "    histo = macd - exp3\n",
    "    hdiff = histo.diff(1)\n",
    "    is_rising = 1 * (hdiff > 0)\n",
    "    if plot:\n",
    "        plt.plot(macd, label='MACD', color='red')\n",
    "        plt.plot(exp3, label='Signal', color='green')\n",
    "        #plt.xlim(pd.to_datetime('2021-01-01'), \n",
    "        #         pd.to_datetime('2021-10-14'))\n",
    "        plt.legend();\n",
    "        plt.figure()\n",
    "        plt.plot(histo, color='blue')\n",
    "        #plt.xlim(pd.to_datetime('2021-01-01'), \n",
    "        #         pd.to_datetime('2021-10-14'))\n",
    "        plt.axhline(y=0, color='k')\n",
    "        plt.figure()\n",
    "        plt.plot(is_rising)\n",
    "        #plt.xlim(pd.to_datetime('2021-01-01'), \n",
    "        #         pd.to_datetime('2021-10-14'))\n",
    "    return is_rising"
   ]
  },
  {
   "cell_type": "code",
   "execution_count": 20,
   "id": "706e1ec9",
   "metadata": {},
   "outputs": [],
   "source": [
    "LMB = 0.9\n",
    "RSI_WINDOW = 14\n",
    "MACD_PARAMS = (60, 90, 80, False)"
   ]
  },
  {
   "cell_type": "code",
   "execution_count": 21,
   "id": "f66f2539",
   "metadata": {},
   "outputs": [],
   "source": [
    "EXAMPLE = 'AAPL'"
   ]
  },
  {
   "cell_type": "code",
   "execution_count": 22,
   "id": "aa1b4507",
   "metadata": {},
   "outputs": [
    {
     "data": {
      "text/plain": [
       "(0.8388346537019594, -1.4841637912426364)"
      ]
     },
     "execution_count": 22,
     "metadata": {},
     "output_type": "execute_result"
    }
   ],
   "source": [
    "stock_data = get_stock_data(EXAMPLE, data.copy())\n",
    "daily_returns = get_daily_returns(stock_data.AdjClose)\n",
    "daily_returns\n",
    "(get_sharpe(daily_returns), \n",
    " get_sharpe(daily_returns[data.state == CURRENT_STATE]))"
   ]
  },
  {
   "cell_type": "code",
   "execution_count": 23,
   "id": "82d5802e",
   "metadata": {},
   "outputs": [
    {
     "data": {
      "image/png": "[encoded data removed]",
      "text/plain": [
       "<Figure size 432x288 with 1 Axes>"
      ]
     },
     "metadata": {
      "needs_background": "light"
     },
     "output_type": "display_data"
    }
   ],
   "source": [
    "plt.plot(\n",
    "    (get_daily_returns(data[('AdjClose', EXAMPLE)]) + 1).cumprod());"
   ]
  },
  {
   "cell_type": "code",
   "execution_count": 24,
   "id": "7991d24f",
   "metadata": {},
   "outputs": [
    {
     "data": {
      "image/png": "[encoded data removed]",
      "text/plain": [
       "<Figure size 432x288 with 1 Axes>"
      ]
     },
     "metadata": {
      "needs_background": "light"
     },
     "output_type": "display_data"
    }
   ],
   "source": [
    "dr = get_daily_returns(\n",
    "    data[('AdjClose', EXAMPLE)]\n",
    ")[data.state == CURRENT_STATE]\n",
    "dr = dr[dr.notnull()]\n",
    "plt.plot((dr + 1).to_numpy().cumprod());"
   ]
  },
  {
   "cell_type": "code",
   "execution_count": 25,
   "id": "ff56345e",
   "metadata": {},
   "outputs": [
    {
     "data": {
      "text/plain": [
       "-0.712846632868841"
      ]
     },
     "execution_count": 25,
     "metadata": {},
     "output_type": "execute_result"
    }
   ],
   "source": [
    "get_weighted_sharpe(daily_returns, data.copy())"
   ]
  },
  {
   "cell_type": "code",
   "execution_count": 26,
   "id": "e7e7526a",
   "metadata": {},
   "outputs": [],
   "source": [
    "def process_stock(stock, data, lmb=LMB, plot=False):\n",
    "    stock_data = get_stock_data(stock, data)\n",
    "    n = len(stock_data.AdjClose[~np.isnan(stock_data.AdjClose)])\n",
    "    stock_data['direction'] = get_macd(stock_data, *MACD_PARAMS)\n",
    "    stock_data['rsi'] = get_rsi(stock_data, window=RSI_WINDOW)\n",
    "    stock_data.rsi = stock_data.rsi.rank(pct=True)\n",
    "    daily_returns = get_daily_returns(stock_data.AdjClose)\n",
    "    sharpe = get_sharpe(daily_returns)\n",
    "    #state_sharpe = get_sharpe(\n",
    "    #    daily_returns[data.state == CURRENT_STATE])\n",
    "    #hedged_sharpe = get_hedged_sharpe(daily_returns, data)\n",
    "    weighted_sharpe = get_weighted_sharpe(daily_returns, data)\n",
    "    stock_data.fillna(method='ffill', inplace=True)\n",
    "    stock_data.fillna(method='bfill', inplace=True)\n",
    "    WINDOW = min(n // 2, 125)\n",
    "    stock_data['ann_high'] = (\n",
    "        stock_data.AdjClose.rolling(window=WINDOW).max())\n",
    "    stock_data['ann_low'] = (\n",
    "        stock_data.AdjClose.rolling(window=WINDOW).min())\n",
    "    stock_data['drawdown'] = stock_data.AdjClose / stock_data.ann_high\n",
    "    stock_data.drawdown = stock_data.drawdown.rank(pct=True)\n",
    "    stock_data['pullup'] = stock_data.AdjClose / stock_data.ann_low\n",
    "    stock_data.pullup = stock_data.pullup.rank(pct=True)\n",
    "    w = [lmb ** t for t in range(n)][::-1]\n",
    "    stock_data['W'] = w\n",
    "    stock_data['n_samp'] = (stock_data.Volume / 100)  * stock_data.W\n",
    "    stock_data['value'] = (\n",
    "        (stock_data.AdjClose \n",
    "         + stock_data.High \n",
    "         + stock_data.Low \n",
    "         + stock_data.Open) \n",
    "        / 4)\n",
    "    stock_data['est'] = np.nan\n",
    "    for day in stock_data.index:\n",
    "        sub = stock_data[stock_data.index <= day]\n",
    "        weights = sub.n_samp\n",
    "        weights = weights / weights.sum()\n",
    "        values = sub.value\n",
    "        est = np.dot(weights, values)\n",
    "        stock_data.loc[day, 'est'] = est\n",
    "    stock_data['resid'] = stock_data.AdjClose / stock_data.est\n",
    "    stock_data.resid = stock_data.resid.rank(pct=True)\n",
    "    stock_data.sort_values('resid', inplace=True)\n",
    "    n_notnull_resid = stock_data.resid.notnull().sum()\n",
    "    stock_data['dev'] = np.nan\n",
    "    stock_data.loc[stock_data.resid.notnull(), 'dev'] = (\n",
    "        np.array(range(n_notnull_resid) / n_notnull_resid))\n",
    "    stock_data.dev = stock_data.dev.rank(pct=True)\n",
    "    stock_data.sort_index(inplace=True)\n",
    "    if plot:\n",
    "        plt.figure(figsize=(12, 8))\n",
    "        plt.plot(stock_data.AdjClose, label='AdjClose')\n",
    "        plt.plot(stock_data.est, label='Est')\n",
    "        plt.yscale('log')\n",
    "        plt.plot(stock_data.ann_high, color='green')\n",
    "        plt.plot(stock_data.ann_low, color='red')\n",
    "        plt.legend();\n",
    "        \n",
    "        plt.figure(figsize=(12, 4))\n",
    "        plt.plot(stock_data.dev)\n",
    "        plt.axhline(0.5, color='k')\n",
    "        plt.title(stock)\n",
    "        \n",
    "        plt.figure(figsize=(12, 4))\n",
    "        plt.plot(stock_data.drawdown, color='red', label='drawdown')\n",
    "        plt.plot(stock_data.pullup, color='green', label='pullup')\n",
    "        plt.plot(\n",
    "            np.sqrt(stock_data.drawdown * stock_data.pullup),\n",
    "            color='grey',\n",
    "            label='geomean')\n",
    "        plt.yscale('log')\n",
    "        plt.legend()\n",
    "    return (\n",
    "        stock_data.direction.tolist()[-1],\n",
    "        stock_data.rsi.tolist()[-1],\n",
    "        stock_data.resid.tolist()[-1], \n",
    "        stock_data.dev.tolist()[-1],\n",
    "        stock_data.drawdown.tolist()[-1],\n",
    "        stock_data.pullup.tolist()[-1],\n",
    "        sharpe,\n",
    "        #state_sharpe,\n",
    "        #hedged_sharpe,\n",
    "        weighted_sharpe)"
   ]
  },
  {
   "cell_type": "code",
   "execution_count": 27,
   "id": "1cbfa969",
   "metadata": {
    "scrolled": false
   },
   "outputs": [
    {
     "data": {
      "text/plain": [
       "(0,\n",
       " 0.13514594162335067,\n",
       " 0.5113320079522863,\n",
       " 0.5113320079522863,\n",
       " 0.15558343789209536,\n",
       " 0.2722710163111669,\n",
       " 0.8388346537019594,\n",
       " -0.712846632868841)"
      ]
     },
     "execution_count": 27,
     "metadata": {},
     "output_type": "execute_result"
    },
    {
     "data": {
      "image/png": "[encoded data removed]",
      "text/plain": [
       "<Figure size 864x576 with 1 Axes>"
      ]
     },
     "metadata": {
      "needs_background": "light"
     },
     "output_type": "display_data"
    },
    {
     "data": {
      "image/png": "[encoded data removed]",
      "text/plain": [
       "<Figure size 864x288 with 1 Axes>"
      ]
     },
     "metadata": {
      "needs_background": "light"
     },
     "output_type": "display_data"
    },
    {
     "data": {
      "image/png": "[encoded data removed]",
      "text/plain": [
       "<Figure size 864x288 with 1 Axes>"
      ]
     },
     "metadata": {
      "needs_background": "light"
     },
     "output_type": "display_data"
    }
   ],
   "source": [
    "process_stock('AAPL', data.copy(), plot=True)"
   ]
  },
  {
   "cell_type": "code",
   "execution_count": 28,
   "id": "977ecacf",
   "metadata": {},
   "outputs": [
    {
     "name": "stdout",
     "output_type": "stream",
     "text": [
      "AAPL... ABMD... ABNB... ABST... ADBE... ADYEY... AMD... AMEH... AMGN... AMRK... AMZN... ANET... APT... ASML... AXON... BKT... BROS... BYND... BYRN... CEF... CFFN... CHWY... CIZN... CRWD... CTSH... CUBE... CZFS... DDOG... DOCS... DOCU... DUOL... EDIT... EP... ETSY... EXR... FCAP... FCN... FCPT... FCUV... FLGT... FNV... GBOX... GCBC... GH... GME... GMED... GOOG... HMY... IDXX... IEI... INTG... INTZ... ISRG... JD... KREF... LFMD... LRCX... LSPD... LULU... MCVT... MDB... MELI... MICS... MIY... MNMD... MNST... MSFT... MTCH... MUJ... NAZ... NLY... NPV... NVCR... NVDA... NXP... ODFL... OKTA... OMQS... OPEN... PAC... PANW... PAYC... PETV... PINS... POWW... PRPH... PYPL... QDEL... RA... RBLX... RDFN... RGEN... RIVN... ROKU... RVLV... RVP... SE... SHOP... SNOW... SOBR... TASK... TDOC... TEAM... TREX... TTD... TTWO... TWLO... TWTR... TYL... UPST... VEEV... VIRT... VLD... VRTX... WAVD... WKHS... XPEV... ZEN... ZM... ZYXI... "
     ]
    }
   ],
   "source": [
    "out = []\n",
    "for stock in batch:\n",
    "    print(f'{stock}...', end=' ')\n",
    "    stock_stats = process_stock(stock, data)\n",
    "    out.append([stock, *stock_stats])"
   ]
  },
  {
   "cell_type": "code",
   "execution_count": 29,
   "id": "c186e04d",
   "metadata": {},
   "outputs": [
    {
     "data": {
      "text/html": [
       "<div>\n",
       "<style scoped>\n",
       "    .dataframe tbody tr th:only-of-type {\n",
       "        vertical-align: middle;\n",
       "    }\n",
       "\n",
       "    .dataframe tbody tr th {\n",
       "        vertical-align: top;\n",
       "    }\n",
       "\n",
       "    .dataframe thead th {\n",
       "        text-align: right;\n",
       "    }\n",
       "</style>\n",
       "<table border=\"1\" class=\"dataframe\">\n",
       "  <thead>\n",
       "    <tr style=\"text-align: right;\">\n",
       "      <th></th>\n",
       "      <th>stock</th>\n",
       "      <th>direction</th>\n",
       "      <th>RSI</th>\n",
       "      <th>RSIRev</th>\n",
       "      <th>fair_value_mult</th>\n",
       "      <th>dev_quantile</th>\n",
       "      <th>drop</th>\n",
       "      <th>climb</th>\n",
       "      <th>geomean</th>\n",
       "      <th>score</th>\n",
       "      <th>sharpe</th>\n",
       "      <th>weighted_sharpe</th>\n",
       "    </tr>\n",
       "  </thead>\n",
       "  <tbody>\n",
       "    <tr>\n",
       "      <th>0</th>\n",
       "      <td>AAPL</td>\n",
       "      <td>0</td>\n",
       "      <td>0.135146</td>\n",
       "      <td>0.864854</td>\n",
       "      <td>0.511332</td>\n",
       "      <td>0.511332</td>\n",
       "      <td>0.155583</td>\n",
       "      <td>0.272271</td>\n",
       "      <td>0.205818</td>\n",
       "      <td>0.324409</td>\n",
       "      <td>0.838835</td>\n",
       "      <td>-0.712847</td>\n",
       "    </tr>\n",
       "    <tr>\n",
       "      <th>1</th>\n",
       "      <td>ABMD</td>\n",
       "      <td>0</td>\n",
       "      <td>0.057977</td>\n",
       "      <td>0.942023</td>\n",
       "      <td>0.086282</td>\n",
       "      <td>0.086282</td>\n",
       "      <td>0.132581</td>\n",
       "      <td>0.143455</td>\n",
       "      <td>0.137910</td>\n",
       "      <td>0.109084</td>\n",
       "      <td>0.775957</td>\n",
       "      <td>-0.846246</td>\n",
       "    </tr>\n",
       "    <tr>\n",
       "      <th>2</th>\n",
       "      <td>ABNB</td>\n",
       "      <td>0</td>\n",
       "      <td>0.064220</td>\n",
       "      <td>0.935780</td>\n",
       "      <td>0.031111</td>\n",
       "      <td>0.031111</td>\n",
       "      <td>0.107362</td>\n",
       "      <td>0.365031</td>\n",
       "      <td>0.197966</td>\n",
       "      <td>0.078479</td>\n",
       "      <td>-0.054093</td>\n",
       "      <td>-0.187097</td>\n",
       "    </tr>\n",
       "    <tr>\n",
       "      <th>3</th>\n",
       "      <td>ABST</td>\n",
       "      <td>0</td>\n",
       "      <td>0.437425</td>\n",
       "      <td>0.562575</td>\n",
       "      <td>0.854473</td>\n",
       "      <td>0.854473</td>\n",
       "      <td>0.388331</td>\n",
       "      <td>0.917399</td>\n",
       "      <td>0.596871</td>\n",
       "      <td>0.714150</td>\n",
       "      <td>0.494617</td>\n",
       "      <td>0.461129</td>\n",
       "    </tr>\n",
       "    <tr>\n",
       "      <th>4</th>\n",
       "      <td>ADBE</td>\n",
       "      <td>0</td>\n",
       "      <td>0.000800</td>\n",
       "      <td>0.999200</td>\n",
       "      <td>0.004771</td>\n",
       "      <td>0.004771</td>\n",
       "      <td>0.012965</td>\n",
       "      <td>0.008365</td>\n",
       "      <td>0.010414</td>\n",
       "      <td>0.007049</td>\n",
       "      <td>0.856633</td>\n",
       "      <td>-1.063089</td>\n",
       "    </tr>\n",
       "  </tbody>\n",
       "</table>\n",
       "</div>"
      ],
      "text/plain": [
       "  stock  direction       RSI    RSIRev  fair_value_mult  dev_quantile  \\\n",
       "0  AAPL          0  0.135146  0.864854         0.511332      0.511332   \n",
       "1  ABMD          0  0.057977  0.942023         0.086282      0.086282   \n",
       "2  ABNB          0  0.064220  0.935780         0.031111      0.031111   \n",
       "3  ABST          0  0.437425  0.562575         0.854473      0.854473   \n",
       "4  ADBE          0  0.000800  0.999200         0.004771      0.004771   \n",
       "\n",
       "       drop     climb   geomean     score    sharpe  weighted_sharpe  \n",
       "0  0.155583  0.272271  0.205818  0.324409  0.838835        -0.712847  \n",
       "1  0.132581  0.143455  0.137910  0.109084  0.775957        -0.846246  \n",
       "2  0.107362  0.365031  0.197966  0.078479 -0.054093        -0.187097  \n",
       "3  0.388331  0.917399  0.596871  0.714150  0.494617         0.461129  \n",
       "4  0.012965  0.008365  0.010414  0.007049  0.856633        -1.063089  "
      ]
     },
     "execution_count": 29,
     "metadata": {},
     "output_type": "execute_result"
    }
   ],
   "source": [
    "out_df = pd.DataFrame(\n",
    "    data=out, \n",
    "    columns=[\n",
    "        'stock', 'direction', 'RSI', 'fair_value_mult', 'dev_quantile',\n",
    "        'drop','climb', 'sharpe', 'weighted_sharpe'])\n",
    "out_df['geomean'] = np.sqrt(out_df['drop'] * out_df.climb)\n",
    "out_df['score'] = (\n",
    "    out_df.fair_value_mult\n",
    "    * out_df.dev_quantile\n",
    "    * out_df['drop']\n",
    "    * out_df.climb) ** (1/4) \n",
    "out_df['RSIRev'] = 1 - out_df.RSI\n",
    "out_df = out_df[\n",
    "    ['stock', 'direction', 'RSI', 'RSIRev', 'fair_value_mult', \n",
    "     'dev_quantile', 'drop', 'climb', 'geomean', 'score',  'sharpe',\n",
    "     'weighted_sharpe']]\n",
    "out_df.RSI.fillna(out_df.RSI.median())\n",
    "out_df.RSIRev.fillna(out_df.RSIRev.median())\n",
    "\n",
    "out_df.weighted_sharpe.fillna(\n",
    "    out_df.weighted_sharpe.mean(), inplace=True)\n",
    "out_df.sort_values('stock')\n",
    "out_df.head()"
   ]
  },
  {
   "cell_type": "code",
   "execution_count": 30,
   "id": "166a0cf2",
   "metadata": {},
   "outputs": [
    {
     "data": {
      "text/plain": [
       "0.05    0.009294\n",
       "0.99    0.826563\n",
       "Name: geomean, dtype: float64"
      ]
     },
     "execution_count": 30,
     "metadata": {},
     "output_type": "execute_result"
    }
   ],
   "source": [
    "out_df.geomean.quantile([0.05, 0.99])"
   ]
  },
  {
   "cell_type": "code",
   "execution_count": 31,
   "id": "bbd1ecad",
   "metadata": {},
   "outputs": [],
   "source": [
    "out_df.to_csv('individ_quantiles.csv', index=False)"
   ]
  },
  {
   "cell_type": "code",
   "execution_count": 32,
   "id": "cbc0955c",
   "metadata": {},
   "outputs": [],
   "source": [
    "!open individ_quantiles.csv"
   ]
  },
  {
   "cell_type": "code",
   "execution_count": null,
   "id": "169e4685",
   "metadata": {},
   "outputs": [],
   "source": []
  },
  {
   "cell_type": "code",
   "execution_count": null,
   "id": "5de37386",
   "metadata": {},
   "outputs": [],
   "source": []
  }
 ],
 "metadata": {
  "kernelspec": {
   "display_name": "Python 3 (ipykernel)",
   "language": "python",
   "name": "python3"
  },
  "language_info": {
   "codemirror_mode": {
    "name": "ipython",
    "version": 3
   },
   "file_extension": ".py",
   "mimetype": "text/x-python",
   "name": "python",
   "nbconvert_exporter": "python",
   "pygments_lexer": "ipython3",
   "version": "3.10.6"
  }
 },
 "nbformat": 4,
 "nbformat_minor": 5
}
