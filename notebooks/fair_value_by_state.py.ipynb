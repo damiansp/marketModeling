{
 "cells": [
  {
   "cell_type": "code",
   "execution_count": 1,
   "id": "02efc0e6",
   "metadata": {},
   "outputs": [],
   "source": [
    "from datetime import datetime, timedelta\n",
    "import sys\n",
    "\n",
    "import matplotlib.pyplot as plt\n",
    "import numpy as np\n",
    "import pandas as pd\n",
    "import yfinance as yf\n",
    "\n",
    "sys.path.append('..')\n",
    "from utils.batcher import Batcher\n",
    "#from util.stock_loader import Loader"
   ]
  },
  {
   "cell_type": "code",
   "execution_count": 2,
   "id": "3ac57a6e",
   "metadata": {},
   "outputs": [
    {
     "data": {
      "text/plain": [
       "datetime.date(2023, 2, 18)"
      ]
     },
     "execution_count": 2,
     "metadata": {},
     "output_type": "execute_result"
    }
   ],
   "source": [
    "TODAY = datetime.now().date()\n",
    "TOMORROW  = TODAY + timedelta(1)\n",
    "TOMORROW"
   ]
  },
  {
   "cell_type": "code",
   "execution_count": 3,
   "id": "ae63c545",
   "metadata": {},
   "outputs": [
    {
     "data": {
      "text/html": [
       "<div>\n",
       "<style scoped>\n",
       "    .dataframe tbody tr th:only-of-type {\n",
       "        vertical-align: middle;\n",
       "    }\n",
       "\n",
       "    .dataframe tbody tr th {\n",
       "        vertical-align: top;\n",
       "    }\n",
       "\n",
       "    .dataframe thead th {\n",
       "        text-align: right;\n",
       "    }\n",
       "</style>\n",
       "<table border=\"1\" class=\"dataframe\">\n",
       "  <thead>\n",
       "    <tr style=\"text-align: right;\">\n",
       "      <th></th>\n",
       "      <th>Date</th>\n",
       "      <th>^GSPC</th>\n",
       "      <th>^IXIC</th>\n",
       "      <th>^NYA</th>\n",
       "      <th>^W5000</th>\n",
       "      <th>^GSPC_returns</th>\n",
       "      <th>^NYA_returns</th>\n",
       "      <th>^IXIC_returns</th>\n",
       "      <th>^W5000_returns</th>\n",
       "      <th>^GSPC_exp</th>\n",
       "      <th>^NYA_exp</th>\n",
       "      <th>^IXIC_exp</th>\n",
       "      <th>^W5000_exp</th>\n",
       "      <th>mean_exp</th>\n",
       "      <th>state</th>\n",
       "    </tr>\n",
       "    <tr>\n",
       "      <th>Date</th>\n",
       "      <th></th>\n",
       "      <th></th>\n",
       "      <th></th>\n",
       "      <th></th>\n",
       "      <th></th>\n",
       "      <th></th>\n",
       "      <th></th>\n",
       "      <th></th>\n",
       "      <th></th>\n",
       "      <th></th>\n",
       "      <th></th>\n",
       "      <th></th>\n",
       "      <th></th>\n",
       "      <th></th>\n",
       "      <th></th>\n",
       "    </tr>\n",
       "  </thead>\n",
       "  <tbody>\n",
       "    <tr>\n",
       "      <th>2023-02-13</th>\n",
       "      <td>2023-02-13</td>\n",
       "      <td>4137.290039</td>\n",
       "      <td>11891.790039</td>\n",
       "      <td>16052.250000</td>\n",
       "      <td>41255.160156</td>\n",
       "      <td>1.011449</td>\n",
       "      <td>1.008897</td>\n",
       "      <td>1.014821</td>\n",
       "      <td>1.011394</td>\n",
       "      <td>0.999976</td>\n",
       "      <td>1.000669</td>\n",
       "      <td>1.000525</td>\n",
       "      <td>1.001307</td>\n",
       "      <td>1.000619</td>\n",
       "      <td>2</td>\n",
       "    </tr>\n",
       "    <tr>\n",
       "      <th>2023-02-14</th>\n",
       "      <td>2023-02-14</td>\n",
       "      <td>4136.129883</td>\n",
       "      <td>11960.150391</td>\n",
       "      <td>16025.110352</td>\n",
       "      <td>41292.578125</td>\n",
       "      <td>0.999720</td>\n",
       "      <td>0.998309</td>\n",
       "      <td>1.005749</td>\n",
       "      <td>1.000907</td>\n",
       "      <td>0.999976</td>\n",
       "      <td>1.000669</td>\n",
       "      <td>1.000525</td>\n",
       "      <td>1.001307</td>\n",
       "      <td>1.000619</td>\n",
       "      <td>2</td>\n",
       "    </tr>\n",
       "    <tr>\n",
       "      <th>2023-02-15</th>\n",
       "      <td>2023-02-15</td>\n",
       "      <td>4147.600098</td>\n",
       "      <td>12070.589844</td>\n",
       "      <td>16016.089844</td>\n",
       "      <td>41490.019531</td>\n",
       "      <td>1.002773</td>\n",
       "      <td>0.999437</td>\n",
       "      <td>1.009234</td>\n",
       "      <td>1.004782</td>\n",
       "      <td>0.999976</td>\n",
       "      <td>1.000669</td>\n",
       "      <td>1.000525</td>\n",
       "      <td>1.001307</td>\n",
       "      <td>1.000619</td>\n",
       "      <td>2</td>\n",
       "    </tr>\n",
       "    <tr>\n",
       "      <th>2023-02-16</th>\n",
       "      <td>2023-02-16</td>\n",
       "      <td>4090.409912</td>\n",
       "      <td>11855.830078</td>\n",
       "      <td>15873.780273</td>\n",
       "      <td>40938.761719</td>\n",
       "      <td>0.986211</td>\n",
       "      <td>0.991115</td>\n",
       "      <td>0.982208</td>\n",
       "      <td>0.986713</td>\n",
       "      <td>0.999976</td>\n",
       "      <td>1.000669</td>\n",
       "      <td>1.000525</td>\n",
       "      <td>1.001307</td>\n",
       "      <td>1.000619</td>\n",
       "      <td>2</td>\n",
       "    </tr>\n",
       "    <tr>\n",
       "      <th>2023-02-17</th>\n",
       "      <td>2023-02-17</td>\n",
       "      <td>4079.090088</td>\n",
       "      <td>11787.271484</td>\n",
       "      <td>15840.361328</td>\n",
       "      <td>40820.656250</td>\n",
       "      <td>0.997233</td>\n",
       "      <td>0.997895</td>\n",
       "      <td>0.994217</td>\n",
       "      <td>0.997115</td>\n",
       "      <td>0.999976</td>\n",
       "      <td>1.000669</td>\n",
       "      <td>1.000525</td>\n",
       "      <td>1.001307</td>\n",
       "      <td>1.000619</td>\n",
       "      <td>2</td>\n",
       "    </tr>\n",
       "  </tbody>\n",
       "</table>\n",
       "</div>"
      ],
      "text/plain": [
       "                  Date        ^GSPC         ^IXIC          ^NYA        ^W5000  \\\n",
       "Date                                                                            \n",
       "2023-02-13  2023-02-13  4137.290039  11891.790039  16052.250000  41255.160156   \n",
       "2023-02-14  2023-02-14  4136.129883  11960.150391  16025.110352  41292.578125   \n",
       "2023-02-15  2023-02-15  4147.600098  12070.589844  16016.089844  41490.019531   \n",
       "2023-02-16  2023-02-16  4090.409912  11855.830078  15873.780273  40938.761719   \n",
       "2023-02-17  2023-02-17  4079.090088  11787.271484  15840.361328  40820.656250   \n",
       "\n",
       "            ^GSPC_returns  ^NYA_returns  ^IXIC_returns  ^W5000_returns  \\\n",
       "Date                                                                     \n",
       "2023-02-13       1.011449      1.008897       1.014821        1.011394   \n",
       "2023-02-14       0.999720      0.998309       1.005749        1.000907   \n",
       "2023-02-15       1.002773      0.999437       1.009234        1.004782   \n",
       "2023-02-16       0.986211      0.991115       0.982208        0.986713   \n",
       "2023-02-17       0.997233      0.997895       0.994217        0.997115   \n",
       "\n",
       "            ^GSPC_exp  ^NYA_exp  ^IXIC_exp  ^W5000_exp  mean_exp  state  \n",
       "Date                                                                     \n",
       "2023-02-13   0.999976  1.000669   1.000525    1.001307  1.000619      2  \n",
       "2023-02-14   0.999976  1.000669   1.000525    1.001307  1.000619      2  \n",
       "2023-02-15   0.999976  1.000669   1.000525    1.001307  1.000619      2  \n",
       "2023-02-16   0.999976  1.000669   1.000525    1.001307  1.000619      2  \n",
       "2023-02-17   0.999976  1.000669   1.000525    1.001307  1.000619      2  "
      ]
     },
     "execution_count": 3,
     "metadata": {},
     "output_type": "execute_result"
    }
   ],
   "source": [
    "DATA = '../data'\n",
    "\n",
    "sp1950 = pd.read_csv(f'{DATA}/sp1950.csv')\n",
    "nya1965 = pd.read_csv(f'{DATA}/nya1965.csv')\n",
    "nasdaq1965 = pd.read_csv(f'{DATA}/nasdaq1965.csv')\n",
    "wilshire1990 = pd.read_csv(f'{DATA}/wilshire1990.csv')\n",
    "\n",
    "\n",
    "nasdaq1965.tail()\n",
    "states = pd.read_csv(f'{DATA}/hmm_exp_returns.csv')\n",
    "states.index = pd.to_datetime(states.Date)\n",
    "states.tail()"
   ]
  },
  {
   "cell_type": "code",
   "execution_count": 4,
   "id": "e17c1f04",
   "metadata": {},
   "outputs": [
    {
     "data": {
      "text/plain": [
       "160"
      ]
     },
     "execution_count": 4,
     "metadata": {},
     "output_type": "execute_result"
    }
   ],
   "source": [
    "SYMBOLS = [\n",
    "    'AAPL', 'ABMD', 'ABNB', 'ACN', 'ADBE', 'ADYEY', 'AMD', 'AMGN',\n",
    "    'AMZN', 'ANET', 'ASML', 'AXON', 'BYND', 'CHWY', 'CRWD',\n",
    "    'DDOG', 'DGX', 'DIS', 'DOCS', 'DOCU', 'EDIT', 'ETSY',\n",
    "    'FLGT', 'FTNT', 'GH', 'GMED', 'GOOG', 'IDXX', 'ISRG',\n",
    "    'JD', 'KNSL', 'LRCX', 'LSPD', 'LULU', 'MA', 'MASI', 'MDB',\n",
    "    'MELI', 'MNST', 'MSFT', 'MTCH', 'NET', 'NOW', 'NVCR', 'NVDA',\n",
    "    'ODFL', 'OKTA', 'OPEN', 'PAC', 'PANW', 'PAYC', 'PINS', 'PTON',\n",
    "    'PYPL', 'QDEL', 'RBLX', 'RDFN', 'RGEN', 'RIVN', 'RMD', 'ROKU',\n",
    "    'RVLV', 'SAM', 'SBUX', 'SE', 'SHOP', 'SNOW', 'TASK', 'TDOC',\n",
    "    'TEAM', 'TMUS', 'TREX', 'TSCO', 'TSLA', 'TTC', 'TTD', 'TTWO',\n",
    "    'TWLO', 'TYL', 'UPST', 'VEEV', 'VRTX', 'XPEV',\n",
    "    'ZBRA', 'ZM']\n",
    "LINGERERS = [\n",
    "    'AGI', 'AMEH', 'APPS', 'BRTX', 'BROS', 'BTTR', 'BYRN',\n",
    "    'CEF', 'CGAU', 'CPRX', 'CTGO', 'DQ', 'DTST', 'DUOL', 'EA', 'EP',\n",
    "    'EPAM', 'EPSN',  'ESOA', 'FCUV', 'FNV', 'FSI', 'GCBC', 'GME',\n",
    "    'GNRC', 'GTLS', 'HBM', 'HMY', 'IDR', 'INTG', 'INTZ', 'LPLA',\n",
    "    'MCVT', 'MICS', 'MNMD', 'MOBQ', 'MTA', 'OMQS', 'PACB', 'PCRX',\n",
    "    'POWW', 'PRPH', 'QLYS', 'RVP', 'RVYL', 'SAND', 'SPWR', 'STKL',\n",
    "    'UI', 'VIRT', 'VLD', 'WAVD', 'WKHS', 'WRN', 'XPEV', 'ZEST',\n",
    "    'ZYXI']\n",
    "BEST_WEIGHTED =  [\n",
    "    'AREN', 'BB', 'CHUY', 'CSIQ', 'CUBI', 'DYAI', 'FSM', 'LFMD',\n",
    "    'LVS', 'OPNT', 'OSTK', 'PBF', 'PFIE', 'SBSW', 'SSTK',\n",
    "    'URBN', 'VTSI', 'WYNN']\n",
    "len(SYMBOLS + LINGERERS + BEST_WEIGHTED)"
   ]
  },
  {
   "cell_type": "code",
   "execution_count": 5,
   "id": "34811b61",
   "metadata": {},
   "outputs": [
    {
     "data": {
      "text/plain": [
       "(datetime.date(2013, 2, 20), datetime.date(2023, 2, 18))"
      ]
     },
     "execution_count": 5,
     "metadata": {},
     "output_type": "execute_result"
    }
   ],
   "source": [
    "TODAY = (datetime.now() + timedelta(1)).date()\n",
    "YEARS_OF_DATA = 10\n",
    "START = TODAY - timedelta(YEARS_OF_DATA * 365)\n",
    "START, TODAY"
   ]
  },
  {
   "cell_type": "code",
   "execution_count": 6,
   "id": "80b6d36b",
   "metadata": {},
   "outputs": [],
   "source": [
    "batch = sorted(list(set(SYMBOLS + LINGERERS + BEST_WEIGHTED)))"
   ]
  },
  {
   "cell_type": "code",
   "execution_count": 7,
   "id": "d1345c46",
   "metadata": {},
   "outputs": [
    {
     "name": "stdout",
     "output_type": "stream",
     "text": [
      "[*********************100%***********************]  159 of 159 completed\n"
     ]
    }
   ],
   "source": [
    "data = (\n",
    "    yf\n",
    "    .download(batch, start=START, end=TODAY)\n",
    "    .rename(columns={'Adj Close': 'AdjClose'})\n",
    "    .sort_index())"
   ]
  },
  {
   "cell_type": "code",
   "execution_count": 8,
   "id": "40dbe3b7",
   "metadata": {},
   "outputs": [
    {
     "data": {
      "text/html": [
       "<div>\n",
       "<style scoped>\n",
       "    .dataframe tbody tr th:only-of-type {\n",
       "        vertical-align: middle;\n",
       "    }\n",
       "\n",
       "    .dataframe tbody tr th {\n",
       "        vertical-align: top;\n",
       "    }\n",
       "\n",
       "    .dataframe thead tr th {\n",
       "        text-align: left;\n",
       "    }\n",
       "\n",
       "    .dataframe thead tr:last-of-type th {\n",
       "        text-align: right;\n",
       "    }\n",
       "</style>\n",
       "<table border=\"1\" class=\"dataframe\">\n",
       "  <thead>\n",
       "    <tr>\n",
       "      <th></th>\n",
       "      <th colspan=\"10\" halign=\"left\">AdjClose</th>\n",
       "      <th>...</th>\n",
       "      <th colspan=\"9\" halign=\"left\">Volume</th>\n",
       "      <th>state</th>\n",
       "    </tr>\n",
       "    <tr>\n",
       "      <th></th>\n",
       "      <th>AAPL</th>\n",
       "      <th>ABMD</th>\n",
       "      <th>ABNB</th>\n",
       "      <th>ACN</th>\n",
       "      <th>ADBE</th>\n",
       "      <th>ADYEY</th>\n",
       "      <th>AGI</th>\n",
       "      <th>AMD</th>\n",
       "      <th>AMEH</th>\n",
       "      <th>AMGN</th>\n",
       "      <th>...</th>\n",
       "      <th>WAVD</th>\n",
       "      <th>WKHS</th>\n",
       "      <th>WRN</th>\n",
       "      <th>WYNN</th>\n",
       "      <th>XPEV</th>\n",
       "      <th>ZBRA</th>\n",
       "      <th>ZEST</th>\n",
       "      <th>ZM</th>\n",
       "      <th>ZYXI</th>\n",
       "      <th></th>\n",
       "    </tr>\n",
       "    <tr>\n",
       "      <th>Date</th>\n",
       "      <th></th>\n",
       "      <th></th>\n",
       "      <th></th>\n",
       "      <th></th>\n",
       "      <th></th>\n",
       "      <th></th>\n",
       "      <th></th>\n",
       "      <th></th>\n",
       "      <th></th>\n",
       "      <th></th>\n",
       "      <th></th>\n",
       "      <th></th>\n",
       "      <th></th>\n",
       "      <th></th>\n",
       "      <th></th>\n",
       "      <th></th>\n",
       "      <th></th>\n",
       "      <th></th>\n",
       "      <th></th>\n",
       "      <th></th>\n",
       "      <th></th>\n",
       "    </tr>\n",
       "  </thead>\n",
       "  <tbody>\n",
       "    <tr>\n",
       "      <th>2023-02-13</th>\n",
       "      <td>153.850006</td>\n",
       "      <td>NaN</td>\n",
       "      <td>116.419998</td>\n",
       "      <td>288.350006</td>\n",
       "      <td>375.000000</td>\n",
       "      <td>14.53</td>\n",
       "      <td>10.53</td>\n",
       "      <td>83.129997</td>\n",
       "      <td>34.860001</td>\n",
       "      <td>241.530014</td>\n",
       "      <td>...</td>\n",
       "      <td>62100</td>\n",
       "      <td>1950000</td>\n",
       "      <td>174600</td>\n",
       "      <td>2468300</td>\n",
       "      <td>9916600.0</td>\n",
       "      <td>287500</td>\n",
       "      <td>1639500</td>\n",
       "      <td>2941300.0</td>\n",
       "      <td>214400</td>\n",
       "      <td>2</td>\n",
       "    </tr>\n",
       "    <tr>\n",
       "      <th>2023-02-14</th>\n",
       "      <td>153.199997</td>\n",
       "      <td>NaN</td>\n",
       "      <td>120.870003</td>\n",
       "      <td>284.769989</td>\n",
       "      <td>377.899994</td>\n",
       "      <td>14.78</td>\n",
       "      <td>10.56</td>\n",
       "      <td>85.949997</td>\n",
       "      <td>35.099998</td>\n",
       "      <td>241.029999</td>\n",
       "      <td>...</td>\n",
       "      <td>61700</td>\n",
       "      <td>2223300</td>\n",
       "      <td>137300</td>\n",
       "      <td>1991300</td>\n",
       "      <td>9826100.0</td>\n",
       "      <td>192600</td>\n",
       "      <td>580600</td>\n",
       "      <td>3308600.0</td>\n",
       "      <td>143200</td>\n",
       "      <td>2</td>\n",
       "    </tr>\n",
       "    <tr>\n",
       "      <th>2023-02-15</th>\n",
       "      <td>155.330002</td>\n",
       "      <td>NaN</td>\n",
       "      <td>137.009995</td>\n",
       "      <td>287.649994</td>\n",
       "      <td>375.940002</td>\n",
       "      <td>15.23</td>\n",
       "      <td>10.36</td>\n",
       "      <td>85.180000</td>\n",
       "      <td>35.029999</td>\n",
       "      <td>240.070007</td>\n",
       "      <td>...</td>\n",
       "      <td>81000</td>\n",
       "      <td>3132500</td>\n",
       "      <td>140700</td>\n",
       "      <td>1766700</td>\n",
       "      <td>11292700.0</td>\n",
       "      <td>305600</td>\n",
       "      <td>475000</td>\n",
       "      <td>2338400.0</td>\n",
       "      <td>133900</td>\n",
       "      <td>2</td>\n",
       "    </tr>\n",
       "    <tr>\n",
       "      <th>2023-02-16</th>\n",
       "      <td>153.710007</td>\n",
       "      <td>NaN</td>\n",
       "      <td>139.419998</td>\n",
       "      <td>281.220001</td>\n",
       "      <td>365.160004</td>\n",
       "      <td>15.40</td>\n",
       "      <td>10.43</td>\n",
       "      <td>80.080002</td>\n",
       "      <td>34.810001</td>\n",
       "      <td>234.220001</td>\n",
       "      <td>...</td>\n",
       "      <td>109700</td>\n",
       "      <td>2883900</td>\n",
       "      <td>135700</td>\n",
       "      <td>2026300</td>\n",
       "      <td>13636800.0</td>\n",
       "      <td>555800</td>\n",
       "      <td>363200</td>\n",
       "      <td>3205400.0</td>\n",
       "      <td>193700</td>\n",
       "      <td>2</td>\n",
       "    </tr>\n",
       "    <tr>\n",
       "      <th>2023-02-17</th>\n",
       "      <td>152.550003</td>\n",
       "      <td>NaN</td>\n",
       "      <td>131.600006</td>\n",
       "      <td>277.049988</td>\n",
       "      <td>356.850006</td>\n",
       "      <td>15.70</td>\n",
       "      <td>10.35</td>\n",
       "      <td>78.500000</td>\n",
       "      <td>34.459999</td>\n",
       "      <td>240.529999</td>\n",
       "      <td>...</td>\n",
       "      <td>122613</td>\n",
       "      <td>1853124</td>\n",
       "      <td>79847</td>\n",
       "      <td>2706000</td>\n",
       "      <td>8981579.0</td>\n",
       "      <td>493231</td>\n",
       "      <td>262075</td>\n",
       "      <td>2842898.0</td>\n",
       "      <td>167037</td>\n",
       "      <td>2</td>\n",
       "    </tr>\n",
       "  </tbody>\n",
       "</table>\n",
       "<p>5 rows × 955 columns</p>\n",
       "</div>"
      ],
      "text/plain": [
       "              AdjClose                                                         \\\n",
       "                  AAPL ABMD        ABNB         ACN        ADBE  ADYEY    AGI   \n",
       "Date                                                                            \n",
       "2023-02-13  153.850006  NaN  116.419998  288.350006  375.000000  14.53  10.53   \n",
       "2023-02-14  153.199997  NaN  120.870003  284.769989  377.899994  14.78  10.56   \n",
       "2023-02-15  155.330002  NaN  137.009995  287.649994  375.940002  15.23  10.36   \n",
       "2023-02-16  153.710007  NaN  139.419998  281.220001  365.160004  15.40  10.43   \n",
       "2023-02-17  152.550003  NaN  131.600006  277.049988  356.850006  15.70  10.35   \n",
       "\n",
       "                                              ...  Volume                   \\\n",
       "                  AMD       AMEH        AMGN  ...    WAVD     WKHS     WRN   \n",
       "Date                                          ...                            \n",
       "2023-02-13  83.129997  34.860001  241.530014  ...   62100  1950000  174600   \n",
       "2023-02-14  85.949997  35.099998  241.029999  ...   61700  2223300  137300   \n",
       "2023-02-15  85.180000  35.029999  240.070007  ...   81000  3132500  140700   \n",
       "2023-02-16  80.080002  34.810001  234.220001  ...  109700  2883900  135700   \n",
       "2023-02-17  78.500000  34.459999  240.529999  ...  122613  1853124   79847   \n",
       "\n",
       "                                                                    state  \n",
       "               WYNN        XPEV    ZBRA     ZEST         ZM    ZYXI        \n",
       "Date                                                                       \n",
       "2023-02-13  2468300   9916600.0  287500  1639500  2941300.0  214400     2  \n",
       "2023-02-14  1991300   9826100.0  192600   580600  3308600.0  143200     2  \n",
       "2023-02-15  1766700  11292700.0  305600   475000  2338400.0  133900     2  \n",
       "2023-02-16  2026300  13636800.0  555800   363200  3205400.0  193700     2  \n",
       "2023-02-17  2706000   8981579.0  493231   262075  2842898.0  167037     2  \n",
       "\n",
       "[5 rows x 955 columns]"
      ]
     },
     "execution_count": 8,
     "metadata": {},
     "output_type": "execute_result"
    }
   ],
   "source": [
    "data['state'] = states.state\n",
    "data.tail()"
   ]
  },
  {
   "cell_type": "code",
   "execution_count": 9,
   "id": "e5c4b52b",
   "metadata": {},
   "outputs": [
    {
     "data": {
      "text/plain": [
       "[0, 1, 2, 3, 4, 5]"
      ]
     },
     "execution_count": 9,
     "metadata": {},
     "output_type": "execute_result"
    }
   ],
   "source": [
    "STATES = sorted(states.state.unique())\n",
    "STATES"
   ]
  },
  {
   "cell_type": "code",
   "execution_count": 10,
   "id": "1ba79e9a",
   "metadata": {},
   "outputs": [
    {
     "data": {
      "text/plain": [
       "2"
      ]
     },
     "execution_count": 10,
     "metadata": {},
     "output_type": "execute_result"
    }
   ],
   "source": [
    "CURRENT_STATE = states.state[-1]\n",
    "CURRENT_STATE"
   ]
  },
  {
   "cell_type": "code",
   "execution_count": 11,
   "id": "c86a6728",
   "metadata": {},
   "outputs": [],
   "source": [
    "def get_stock_data(stock, data):\n",
    "    sub = data.loc[\n",
    "        :,  \n",
    "        [x for x in list(data) if x[1] == stock]]\n",
    "    first_value = (\n",
    "        sub.AdjClose[stock][sub.AdjClose[stock].notna()].index[0])\n",
    "    sub = sub.loc[first_value:, :]\n",
    "    sub.columns = sub.columns.to_series().apply(lambda x: x[0])\n",
    "    sub.fillna(method='ffill', inplace=True)\n",
    "    return sub"
   ]
  },
  {
   "cell_type": "code",
   "execution_count": 12,
   "id": "fc00b33a",
   "metadata": {},
   "outputs": [],
   "source": [
    "def get_daily_returns(x):\n",
    "    idx = x.index\n",
    "    n = len(x)\n",
    "    x = np.array(x)\n",
    "    #return x[2:n] / x[1:(n - 1)] - 1 \n",
    "    returns = x[1:n] / x[0:(n-1)] - 1\n",
    "    returns = pd.Series(returns, index=idx[1:])\n",
    "    return returns"
   ]
  },
  {
   "cell_type": "code",
   "execution_count": 13,
   "id": "418e9299",
   "metadata": {},
   "outputs": [],
   "source": [
    "def get_sharpe(returns, window=None):\n",
    "    n = len(returns)\n",
    "    if window is None:\n",
    "        window = n\n",
    "    if len(returns) > window:\n",
    "        returns = returns[(n - window):n]\n",
    "    returns = returns[~np.isnan(returns)]\n",
    "    sharpe = (np.sqrt(252) * returns.mean()) / returns.std()\n",
    "    return sharpe"
   ]
  },
  {
   "cell_type": "code",
   "execution_count": 14,
   "id": "aea65630",
   "metadata": {},
   "outputs": [],
   "source": [
    "def get_hedged_sharpe(daily_returns, data):\n",
    "    state_sharpe = get_sharpe(\n",
    "        daily_returns[data.state == CURRENT_STATE])\n",
    "    lower_state_sharpe = get_sharpe(\n",
    "        daily_returns[data.state == max(CURRENT_STATE - 1, 0)])\n",
    "    upper_state_sharpe = get_sharpe(\n",
    "        daily_returns[\n",
    "            data.state == min(CURRENT_STATE + 1, max(STATES))])\n",
    "    return min(state_sharpe, lower_state_sharpe, upper_state_sharpe)"
   ]
  },
  {
   "cell_type": "code",
   "execution_count": 15,
   "id": "51b19ede",
   "metadata": {},
   "outputs": [
    {
     "data": {
      "text/html": [
       "<div>\n",
       "<style scoped>\n",
       "    .dataframe tbody tr th:only-of-type {\n",
       "        vertical-align: middle;\n",
       "    }\n",
       "\n",
       "    .dataframe tbody tr th {\n",
       "        vertical-align: top;\n",
       "    }\n",
       "\n",
       "    .dataframe thead th {\n",
       "        text-align: right;\n",
       "    }\n",
       "</style>\n",
       "<table border=\"1\" class=\"dataframe\">\n",
       "  <thead>\n",
       "    <tr style=\"text-align: right;\">\n",
       "      <th></th>\n",
       "      <th>current_state</th>\n",
       "      <th>next_state</th>\n",
       "      <th>prob</th>\n",
       "    </tr>\n",
       "  </thead>\n",
       "  <tbody>\n",
       "    <tr>\n",
       "      <th>0</th>\n",
       "      <td>2</td>\n",
       "      <td>0</td>\n",
       "      <td>0.028486</td>\n",
       "    </tr>\n",
       "    <tr>\n",
       "      <th>1</th>\n",
       "      <td>2</td>\n",
       "      <td>1</td>\n",
       "      <td>0.001325</td>\n",
       "    </tr>\n",
       "    <tr>\n",
       "      <th>2</th>\n",
       "      <td>2</td>\n",
       "      <td>2</td>\n",
       "      <td>0.942034</td>\n",
       "    </tr>\n",
       "    <tr>\n",
       "      <th>3</th>\n",
       "      <td>2</td>\n",
       "      <td>3</td>\n",
       "      <td>0.000331</td>\n",
       "    </tr>\n",
       "    <tr>\n",
       "      <th>4</th>\n",
       "      <td>2</td>\n",
       "      <td>4</td>\n",
       "      <td>0.000331</td>\n",
       "    </tr>\n",
       "    <tr>\n",
       "      <th>5</th>\n",
       "      <td>2</td>\n",
       "      <td>5</td>\n",
       "      <td>0.027493</td>\n",
       "    </tr>\n",
       "  </tbody>\n",
       "</table>\n",
       "</div>"
      ],
      "text/plain": [
       "   current_state  next_state      prob\n",
       "0              2           0  0.028486\n",
       "1              2           1  0.001325\n",
       "2              2           2  0.942034\n",
       "3              2           3  0.000331\n",
       "4              2           4  0.000331\n",
       "5              2           5  0.027493"
      ]
     },
     "execution_count": 15,
     "metadata": {},
     "output_type": "execute_result"
    }
   ],
   "source": [
    "trans = pd.read_csv('../data/transition_probs.csv')\n",
    "trans"
   ]
  },
  {
   "cell_type": "code",
   "execution_count": 16,
   "id": "aeb3fdc4",
   "metadata": {},
   "outputs": [],
   "source": [
    "def get_weighted_sharpe(daily_returns, data, trans=trans):\n",
    "    #state_sharpe = get_sharpe(\n",
    "    #    daily_returns[data.state == CURRENT_STATE])\n",
    "    #n_lower = (data.state == max(CURRENT_STATE - 1, 0)).sum()\n",
    "    #decr = 1 if n_lower else 2\n",
    "    #lower_state_sharpe = get_sharpe(\n",
    "    #    daily_returns[data.state == max(CURRENT_STATE - decr, 0)])\n",
    "    #n_upper = (data.state == max(CURRENT_STATE + 1, 0)).sum()\n",
    "    #incr = 1 if n_lower else 2\n",
    "    #upper_state_sharpe = get_sharpe(\n",
    "    #    daily_returns[\n",
    "    #        data.state == min(CURRENT_STATE + incr, max(STATES))])\n",
    "    #return (\n",
    "    #    weights[0]*lower_state_sharpe\n",
    "    #    + weights[1]*state_sharpe\n",
    "    #    + weights[2]*upper_state_sharpe)\n",
    "    out = 0\n",
    "    for state, prob in zip(trans.next_state, trans.prob):\n",
    "        if len(daily_returns[data.state == state]):\n",
    "            state_sharpe = get_sharpe(\n",
    "                daily_returns[data.state == state])        \n",
    "            out += prob * state_sharpe\n",
    "    return out"
   ]
  },
  {
   "cell_type": "code",
   "execution_count": 17,
   "id": "c4d498cb",
   "metadata": {},
   "outputs": [],
   "source": [
    "def rescale(a):\n",
    "    a = a - a.min()\n",
    "    a = a / a.max()\n",
    "    return a"
   ]
  },
  {
   "cell_type": "code",
   "execution_count": 18,
   "id": "d37ae8da",
   "metadata": {},
   "outputs": [],
   "source": [
    "def vals_to_quantiles(a):\n",
    "    n = len(a)\n",
    "    qs = np.linspace(0, 1, n)\n",
    "    order = np.argsort(a)\n",
    "    out = qs[order]\n",
    "    return out"
   ]
  },
  {
   "cell_type": "code",
   "execution_count": 19,
   "id": "d0c38483",
   "metadata": {},
   "outputs": [],
   "source": [
    "def get_rsi(stock_data, window=14):\n",
    "    df = stock_data.copy()\n",
    "    df['deltas'] = df.AdjClose.diff(1)\n",
    "    df['gains'] = df.deltas.clip(lower=0)\n",
    "    df['losses'] = df.deltas.clip(upper=0).abs()\n",
    "    df['avg_gain'] = (df.gains\n",
    "                      .rolling(window=window, min_periods=window)\n",
    "                      .mean()[:window + 1])\n",
    "    df['avg_loss'] = (df.losses\n",
    "                      .rolling(window=window, min_periods=window)\n",
    "                      .mean()[:window + 1])\n",
    "    \n",
    "    # avg gains\n",
    "    pd.options.mode.chained_assignment = None\n",
    "    for i, row in enumerate(df.avg_gain.iloc[window + 1:]):\n",
    "        df.avg_gain.iloc[i + window + 1] = (\n",
    "            (df.avg_gain.iloc[i + window] * (window - 1) \n",
    "             + df.gains.iloc[i + window + 1]) \n",
    "            / window)\n",
    "    # avg losses\n",
    "    for i, row in enumerate(df.avg_loss.iloc[window + 1:]):\n",
    "        df.avg_loss.iloc[i + window + 1] = (\n",
    "            (df.avg_loss.iloc[i + window] * (window - 1)\n",
    "             + df.losses.iloc[i + window + 1])\n",
    "            / window)\n",
    "    df['rs'] = df.avg_gain / df.avg_loss\n",
    "    df['rsi'] = 100 - (100 / (1. + df.rs))\n",
    "    return df.rsi"
   ]
  },
  {
   "cell_type": "code",
   "execution_count": 20,
   "id": "166912c5",
   "metadata": {},
   "outputs": [],
   "source": [
    "def get_macd(stock_data, fast=60, slow=90, signal=80, plot=False):\n",
    "    df = stock_data.copy()\n",
    "    exp1 = df.AdjClose.ewm(span=fast, adjust=False).mean()\n",
    "    exp2 = df.AdjClose.ewm(span=slow, adjust=False).mean()\n",
    "    macd = exp1 - exp2\n",
    "    exp3 = macd.ewm(span=signal, adjust=False).mean()\n",
    "    histo = macd - exp3\n",
    "    hdiff = histo.diff(1)\n",
    "    is_rising = 1 * (hdiff > 0)\n",
    "    if plot:\n",
    "        plt.plot(macd, label='MACD', color='red')\n",
    "        plt.plot(exp3, label='Signal', color='green')\n",
    "        #plt.xlim(pd.to_datetime('2021-01-01'), \n",
    "        #         pd.to_datetime('2021-10-14'))\n",
    "        plt.legend();\n",
    "        plt.figure()\n",
    "        plt.plot(histo, color='blue')\n",
    "        #plt.xlim(pd.to_datetime('2021-01-01'), \n",
    "        #         pd.to_datetime('2021-10-14'))\n",
    "        plt.axhline(y=0, color='k')\n",
    "        plt.figure()\n",
    "        plt.plot(is_rising)\n",
    "        #plt.xlim(pd.to_datetime('2021-01-01'), \n",
    "        #         pd.to_datetime('2021-10-14'))\n",
    "    return is_rising"
   ]
  },
  {
   "cell_type": "code",
   "execution_count": 21,
   "id": "706e1ec9",
   "metadata": {},
   "outputs": [],
   "source": [
    "LMB = 0.9\n",
    "RSI_WINDOW = 14\n",
    "MACD_PARAMS = (60, 90, 80, False)"
   ]
  },
  {
   "cell_type": "code",
   "execution_count": 22,
   "id": "f66f2539",
   "metadata": {},
   "outputs": [],
   "source": [
    "EXAMPLE = 'AAPL'"
   ]
  },
  {
   "cell_type": "code",
   "execution_count": 23,
   "id": "aa1b4507",
   "metadata": {},
   "outputs": [
    {
     "data": {
      "text/plain": [
       "(0.9799409527274159, 1.759481428210338)"
      ]
     },
     "execution_count": 23,
     "metadata": {},
     "output_type": "execute_result"
    }
   ],
   "source": [
    "stock_data = get_stock_data(EXAMPLE, data.copy())\n",
    "daily_returns = get_daily_returns(stock_data.AdjClose)\n",
    "daily_returns\n",
    "(get_sharpe(daily_returns), \n",
    " get_sharpe(daily_returns[data.state == CURRENT_STATE]))"
   ]
  },
  {
   "cell_type": "code",
   "execution_count": 24,
   "id": "82d5802e",
   "metadata": {},
   "outputs": [
    {
     "data": {
      "image/png": "[encoded data removed]",
      "text/plain": [
       "<Figure size 640x480 with 1 Axes>"
      ]
     },
     "metadata": {},
     "output_type": "display_data"
    }
   ],
   "source": [
    "plt.plot(\n",
    "    (get_daily_returns(data[('AdjClose', EXAMPLE)]) + 1).cumprod());"
   ]
  },
  {
   "cell_type": "code",
   "execution_count": 25,
   "id": "7991d24f",
   "metadata": {},
   "outputs": [
    {
     "data": {
      "image/png": "[encoded data removed]",
      "text/plain": [
       "<Figure size 640x480 with 1 Axes>"
      ]
     },
     "metadata": {},
     "output_type": "display_data"
    }
   ],
   "source": [
    "dr = get_daily_returns(\n",
    "    data[('AdjClose', EXAMPLE)]\n",
    ")[data.state == CURRENT_STATE]\n",
    "dr = dr[dr.notnull()]\n",
    "plt.plot((dr + 1).to_numpy().cumprod());"
   ]
  },
  {
   "cell_type": "code",
   "execution_count": 26,
   "id": "ff56345e",
   "metadata": {},
   "outputs": [
    {
     "data": {
      "text/plain": [
       "1.5519495512483263"
      ]
     },
     "execution_count": 26,
     "metadata": {},
     "output_type": "execute_result"
    }
   ],
   "source": [
    "get_weighted_sharpe(daily_returns, data.copy())"
   ]
  },
  {
   "cell_type": "code",
   "execution_count": 27,
   "id": "e7e7526a",
   "metadata": {},
   "outputs": [],
   "source": [
    "def process_stock(stock, data, lmb=LMB, plot=False):\n",
    "    stock_data = get_stock_data(stock, data)\n",
    "    n = len(stock_data.AdjClose[~np.isnan(stock_data.AdjClose)])\n",
    "    stock_data['direction'] = get_macd(stock_data, *MACD_PARAMS)\n",
    "    stock_data['rsi'] = get_rsi(stock_data, window=RSI_WINDOW)\n",
    "    stock_data.rsi = stock_data.rsi.rank(pct=True)\n",
    "    daily_returns = get_daily_returns(stock_data.AdjClose)\n",
    "    sharpe = get_sharpe(daily_returns)\n",
    "    #state_sharpe = get_sharpe(\n",
    "    #    daily_returns[data.state == CURRENT_STATE])\n",
    "    #hedged_sharpe = get_hedged_sharpe(daily_returns, data)\n",
    "    weighted_sharpe = get_weighted_sharpe(daily_returns, data)\n",
    "    stock_data.fillna(method='ffill', inplace=True)\n",
    "    stock_data.fillna(method='bfill', inplace=True)\n",
    "    WINDOW = min(n // 2, 125)\n",
    "    stock_data['ann_high'] = (\n",
    "        stock_data.AdjClose.rolling(window=WINDOW).max())\n",
    "    stock_data['ann_low'] = (\n",
    "        stock_data.AdjClose.rolling(window=WINDOW).min())\n",
    "    stock_data['drawdown'] = stock_data.AdjClose / stock_data.ann_high\n",
    "    stock_data.drawdown = stock_data.drawdown.rank(pct=True)\n",
    "    stock_data['pullup'] = stock_data.AdjClose / stock_data.ann_low\n",
    "    stock_data.pullup = stock_data.pullup.rank(pct=True)\n",
    "    w = [lmb ** t for t in range(n)][::-1]\n",
    "    stock_data['W'] = w\n",
    "    stock_data['n_samp'] = (stock_data.Volume / 100)  * stock_data.W\n",
    "    stock_data['value'] = (\n",
    "        (stock_data.AdjClose \n",
    "         + stock_data.High \n",
    "         + stock_data.Low \n",
    "         + stock_data.Open) \n",
    "        / 4)\n",
    "    stock_data['est'] = np.nan\n",
    "    for day in stock_data.index:\n",
    "        sub = stock_data[stock_data.index <= day]\n",
    "        weights = sub.n_samp\n",
    "        weights = weights / weights.sum()\n",
    "        values = sub.value\n",
    "        est = np.dot(weights, values)\n",
    "        stock_data.loc[day, 'est'] = est\n",
    "    stock_data['resid'] = stock_data.AdjClose / stock_data.est\n",
    "    stock_data.resid = stock_data.resid.rank(pct=True)\n",
    "    stock_data.sort_values('resid', inplace=True)\n",
    "    #n_notnull_resid = stock_data.resid.notnull().sum()\n",
    "    #stock_data['dev'] = np.nan\n",
    "    #stock_data.loc[stock_data.resid.notnull(), 'dev'] = (\n",
    "    #    np.array(range(n_notnull_resid) / n_notnull_resid))\n",
    "    #stock_data.dev = stock_data.dev.rank(pct=True)\n",
    "    stock_data.sort_index(inplace=True)\n",
    "    if plot:\n",
    "        plt.figure(figsize=(12, 8))\n",
    "        plt.plot(stock_data.AdjClose, label='AdjClose')\n",
    "        plt.plot(stock_data.est, label='Est')\n",
    "        plt.yscale('log')\n",
    "        plt.plot(stock_data.ann_high, color='green')\n",
    "        plt.plot(stock_data.ann_low, color='red')\n",
    "        plt.xlim([stock_data.index[-250], stock_data.index[-1]])\n",
    "        plt.legend();\n",
    "        \n",
    "        #plt.figure(figsize=(12, 4))\n",
    "        #plt.plot(stock_data.dev)\n",
    "        #plt.axhline(0.5, color='k')\n",
    "        #plt.xlim([stock_data.index[-250], stock_data.index[-1]])\n",
    "        #plt.title(stock)\n",
    "        \n",
    "        plt.figure(figsize=(12, 4))\n",
    "        plt.plot(stock_data.drawdown, color='red', label='drawdown')\n",
    "        plt.plot(stock_data.pullup, color='green', label='pullup')\n",
    "        plt.plot(\n",
    "            np.sqrt(stock_data.drawdown * stock_data.pullup),\n",
    "            color='grey',\n",
    "            label='geomean')\n",
    "        plt.yscale('log')\n",
    "        plt.legend()\n",
    "    return (\n",
    "        stock_data.direction.tolist()[-1],  # keep\n",
    "        stock_data.rsi.tolist()[-1],        # keep\n",
    "        stock_data.resid.tolist()[-1],      # keep\n",
    "        #stock_data.dev.tolist()[-1],        # drop\n",
    "        stock_data.drawdown.tolist()[-1],   # keep\n",
    "        stock_data.pullup.tolist()[-1],     # keep\n",
    "        sharpe,                             # keep\n",
    "        #state_sharpe,\n",
    "        #hedged_sharpe,\n",
    "        weighted_sharpe)                    # keep"
   ]
  },
  {
   "cell_type": "code",
   "execution_count": 28,
   "id": "1cbfa969",
   "metadata": {
    "scrolled": false
   },
   "outputs": [
    {
     "data": {
      "text/plain": [
       "(1,\n",
       " 0.713258785942492,\n",
       " 0.5874403815580286,\n",
       " 0.7255639097744361,\n",
       " 0.23433583959899748,\n",
       " 0.9649618744505933,\n",
       " 0.682500884916548)"
      ]
     },
     "execution_count": 28,
     "metadata": {},
     "output_type": "execute_result"
    },
    {
     "data": {
      "image/png": "[encoded data removed]",
      "text/plain": [
       "<Figure size 1200x800 with 1 Axes>"
      ]
     },
     "metadata": {},
     "output_type": "display_data"
    },
    {
     "data": {
      "image/png": "[encoded data removed]",
      "text/plain": [
       "<Figure size 1200x400 with 1 Axes>"
      ]
     },
     "metadata": {},
     "output_type": "display_data"
    }
   ],
   "source": [
    "process_stock('EP', data.copy(), plot=True)"
   ]
  },
  {
   "cell_type": "code",
   "execution_count": 29,
   "id": "977ecacf",
   "metadata": {},
   "outputs": [
    {
     "name": "stdout",
     "output_type": "stream",
     "text": [
      "AAPL... ABMD... ABNB... ACN... ADBE... ADYEY... AGI... AMD... AMEH... AMGN... AMZN... ANET... APPS... AREN... ASML... AXON... BB... BROS... BRTX... BTTR... BYND... BYRN... CEF... CGAU... CHUY... CHWY... CPRX... CRWD... CSIQ... CTGO... CUBI... DDOG... DGX... DIS... DOCS... DOCU... DQ... DTST... DUOL... DYAI... EA... EDIT... EP... EPAM... EPSN... ESOA... ETSY... FCUV... FLGT... FNV... FSI... FSM... FTNT... GCBC... GH... GME... GMED... GNRC... GOOG... GTLS... HBM... HMY... IDR... IDXX... INTG... INTZ... ISRG... JD... KNSL... LFMD... LPLA... LRCX... LSPD... LULU... LVS... MA... MASI... MCVT... MDB... MELI... MICS... MNMD... MNST... MOBQ... MSFT... MTA... MTCH... NET... NOW... NVCR... NVDA... ODFL... OKTA... OMQS... OPEN... OPNT... OSTK... PAC... PACB... PANW... PAYC... PBF... PCRX... PFIE... PINS... POWW... PRPH... PTON... PYPL... QDEL... QLYS... RBLX... RDFN... RGEN... RIVN... RMD... ROKU... RVLV... RVP... RVYL... SAM... SAND... SBSW... SBUX... SE... SHOP... SNOW... SPWR... SSTK... STKL... TASK... TDOC... TEAM... TMUS... TREX... TSCO... TSLA... TTC... TTD... TTWO... TWLO... TYL... UI... UPST... URBN... VEEV... VIRT... VLD... VRTX... VTSI... WAVD... WKHS... WRN... WYNN... XPEV... ZBRA... ZEST... ZM... ZYXI... "
     ]
    }
   ],
   "source": [
    "out = []\n",
    "for stock in batch:\n",
    "    print(f'{stock}...', end=' ')\n",
    "    stock_stats = process_stock(stock, data)\n",
    "    out.append([stock, *stock_stats])"
   ]
  },
  {
   "cell_type": "code",
   "execution_count": 30,
   "id": "c186e04d",
   "metadata": {},
   "outputs": [
    {
     "data": {
      "text/html": [
       "<div>\n",
       "<style scoped>\n",
       "    .dataframe tbody tr th:only-of-type {\n",
       "        vertical-align: middle;\n",
       "    }\n",
       "\n",
       "    .dataframe tbody tr th {\n",
       "        vertical-align: top;\n",
       "    }\n",
       "\n",
       "    .dataframe thead th {\n",
       "        text-align: right;\n",
       "    }\n",
       "</style>\n",
       "<table border=\"1\" class=\"dataframe\">\n",
       "  <thead>\n",
       "    <tr style=\"text-align: right;\">\n",
       "      <th></th>\n",
       "      <th>stock</th>\n",
       "      <th>direction</th>\n",
       "      <th>RSI</th>\n",
       "      <th>RSIRev</th>\n",
       "      <th>fair_value_mult</th>\n",
       "      <th>drop</th>\n",
       "      <th>climb</th>\n",
       "      <th>geomean</th>\n",
       "      <th>score</th>\n",
       "      <th>sharpe</th>\n",
       "      <th>weighted_sharpe</th>\n",
       "    </tr>\n",
       "  </thead>\n",
       "  <tbody>\n",
       "    <tr>\n",
       "      <th>0</th>\n",
       "      <td>AAPL</td>\n",
       "      <td>1</td>\n",
       "      <td>0.650958</td>\n",
       "      <td>0.349042</td>\n",
       "      <td>0.893963</td>\n",
       "      <td>0.304511</td>\n",
       "      <td>0.462406</td>\n",
       "      <td>0.375244</td>\n",
       "      <td>0.595644</td>\n",
       "      <td>0.979941</td>\n",
       "      <td>1.551950</td>\n",
       "    </tr>\n",
       "    <tr>\n",
       "      <th>1</th>\n",
       "      <td>ABMD</td>\n",
       "      <td>0</td>\n",
       "      <td>0.915136</td>\n",
       "      <td>0.084864</td>\n",
       "      <td>0.398928</td>\n",
       "      <td>0.889933</td>\n",
       "      <td>0.764202</td>\n",
       "      <td>0.824675</td>\n",
       "      <td>0.721714</td>\n",
       "      <td>0.944635</td>\n",
       "      <td>0.750606</td>\n",
       "    </tr>\n",
       "    <tr>\n",
       "      <th>2</th>\n",
       "      <td>ABNB</td>\n",
       "      <td>1</td>\n",
       "      <td>0.932961</td>\n",
       "      <td>0.067039</td>\n",
       "      <td>0.807623</td>\n",
       "      <td>0.925059</td>\n",
       "      <td>0.995316</td>\n",
       "      <td>0.959545</td>\n",
       "      <td>0.928613</td>\n",
       "      <td>0.213533</td>\n",
       "      <td>2.068818</td>\n",
       "    </tr>\n",
       "    <tr>\n",
       "      <th>3</th>\n",
       "      <td>ACN</td>\n",
       "      <td>0</td>\n",
       "      <td>0.237220</td>\n",
       "      <td>0.762780</td>\n",
       "      <td>0.772836</td>\n",
       "      <td>0.175021</td>\n",
       "      <td>0.338764</td>\n",
       "      <td>0.243497</td>\n",
       "      <td>0.462667</td>\n",
       "      <td>0.739953</td>\n",
       "      <td>1.124990</td>\n",
       "    </tr>\n",
       "    <tr>\n",
       "      <th>4</th>\n",
       "      <td>ADBE</td>\n",
       "      <td>0</td>\n",
       "      <td>0.188898</td>\n",
       "      <td>0.811102</td>\n",
       "      <td>0.101668</td>\n",
       "      <td>0.172932</td>\n",
       "      <td>0.675856</td>\n",
       "      <td>0.341873</td>\n",
       "      <td>0.330163</td>\n",
       "      <td>0.860536</td>\n",
       "      <td>0.276409</td>\n",
       "    </tr>\n",
       "  </tbody>\n",
       "</table>\n",
       "</div>"
      ],
      "text/plain": [
       "  stock  direction       RSI    RSIRev  fair_value_mult      drop     climb  \\\n",
       "0  AAPL          1  0.650958  0.349042         0.893963  0.304511  0.462406   \n",
       "1  ABMD          0  0.915136  0.084864         0.398928  0.889933  0.764202   \n",
       "2  ABNB          1  0.932961  0.067039         0.807623  0.925059  0.995316   \n",
       "3   ACN          0  0.237220  0.762780         0.772836  0.175021  0.338764   \n",
       "4  ADBE          0  0.188898  0.811102         0.101668  0.172932  0.675856   \n",
       "\n",
       "    geomean     score    sharpe  weighted_sharpe  \n",
       "0  0.375244  0.595644  0.979941         1.551950  \n",
       "1  0.824675  0.721714  0.944635         0.750606  \n",
       "2  0.959545  0.928613  0.213533         2.068818  \n",
       "3  0.243497  0.462667  0.739953         1.124990  \n",
       "4  0.341873  0.330163  0.860536         0.276409  "
      ]
     },
     "execution_count": 30,
     "metadata": {},
     "output_type": "execute_result"
    }
   ],
   "source": [
    "out_df = pd.DataFrame(\n",
    "    data=out, \n",
    "    columns=[\n",
    "        'stock', 'direction', 'RSI', 'fair_value_mult',\n",
    "        'drop','climb', 'sharpe', 'weighted_sharpe'])\n",
    "out_df['geomean'] = np.sqrt(out_df['drop'] * out_df.climb)\n",
    "out_df['score'] = (\n",
    "    out_df.fair_value_mult\n",
    "    * out_df['drop']\n",
    "    * out_df.climb) ** (1/4) \n",
    "out_df['RSIRev'] = 1 - out_df.RSI\n",
    "out_df = out_df[\n",
    "    ['stock', 'direction', 'RSI', 'RSIRev', 'fair_value_mult', \n",
    "     'drop', 'climb', 'geomean', 'score',  'sharpe',\n",
    "     'weighted_sharpe']]\n",
    "out_df.RSI.fillna(out_df.RSI.median())\n",
    "out_df.RSIRev.fillna(out_df.RSIRev.median())\n",
    "\n",
    "out_df.weighted_sharpe.fillna(\n",
    "    out_df.weighted_sharpe.mean(), inplace=True)\n",
    "out_df.sort_values('stock')\n",
    "out_df.head()"
   ]
  },
  {
   "cell_type": "code",
   "execution_count": 31,
   "id": "166a0cf2",
   "metadata": {},
   "outputs": [
    {
     "data": {
      "text/plain": [
       "0.05    0.101620\n",
       "0.99    0.939488\n",
       "Name: geomean, dtype: float64"
      ]
     },
     "execution_count": 31,
     "metadata": {},
     "output_type": "execute_result"
    }
   ],
   "source": [
    "out_df.geomean.quantile([0.05, 0.99])"
   ]
  },
  {
   "cell_type": "code",
   "execution_count": 32,
   "id": "bbd1ecad",
   "metadata": {},
   "outputs": [],
   "source": [
    "out_df.to_csv('individ_quantiles.csv', index=False)"
   ]
  },
  {
   "cell_type": "code",
   "execution_count": 33,
   "id": "cbc0955c",
   "metadata": {},
   "outputs": [],
   "source": [
    "!open individ_quantiles.csv"
   ]
  },
  {
   "cell_type": "code",
   "execution_count": null,
   "id": "169e4685",
   "metadata": {},
   "outputs": [],
   "source": []
  }
 ],
 "metadata": {
  "kernelspec": {
   "display_name": "Python 3 (ipykernel)",
   "language": "python",
   "name": "python3"
  },
  "language_info": {
   "codemirror_mode": {
    "name": "ipython",
    "version": 3
   },
   "file_extension": ".py",
   "mimetype": "text/x-python",
   "name": "python",
   "nbconvert_exporter": "python",
   "pygments_lexer": "ipython3",
   "version": "3.10.6"
  }
 },
 "nbformat": 4,
 "nbformat_minor": 5
}
