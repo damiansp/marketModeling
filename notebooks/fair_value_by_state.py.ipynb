{
 "cells": [
  {
   "cell_type": "code",
   "execution_count": 1,
   "id": "02efc0e6",
   "metadata": {},
   "outputs": [],
   "source": [
    "from datetime import datetime, timedelta\n",
    "import sys\n",
    "\n",
    "import matplotlib.pyplot as plt\n",
    "import numpy as np\n",
    "import pandas as pd\n",
    "import yfinance as yf\n",
    "\n",
    "sys.path.append('..')\n",
    "from util.batcher import Batcher\n",
    "#from util.stock_loader import Loader"
   ]
  },
  {
   "cell_type": "code",
   "execution_count": 2,
   "id": "3ac57a6e",
   "metadata": {},
   "outputs": [
    {
     "data": {
      "text/plain": [
       "datetime.date(2022, 10, 1)"
      ]
     },
     "execution_count": 2,
     "metadata": {},
     "output_type": "execute_result"
    }
   ],
   "source": [
    "TODAY = datetime.now().date()\n",
    "TOMORROW  = TODAY + timedelta(1)\n",
    "TOMORROW"
   ]
  },
  {
   "cell_type": "code",
   "execution_count": 3,
   "id": "ae63c545",
   "metadata": {},
   "outputs": [
    {
     "data": {
      "text/html": [
       "<div>\n",
       "<style scoped>\n",
       "    .dataframe tbody tr th:only-of-type {\n",
       "        vertical-align: middle;\n",
       "    }\n",
       "\n",
       "    .dataframe tbody tr th {\n",
       "        vertical-align: top;\n",
       "    }\n",
       "\n",
       "    .dataframe thead th {\n",
       "        text-align: right;\n",
       "    }\n",
       "</style>\n",
       "<table border=\"1\" class=\"dataframe\">\n",
       "  <thead>\n",
       "    <tr style=\"text-align: right;\">\n",
       "      <th></th>\n",
       "      <th>Date</th>\n",
       "      <th>sp</th>\n",
       "      <th>sp_daily</th>\n",
       "      <th>sp_exp</th>\n",
       "      <th>nyse</th>\n",
       "      <th>nyse_daily</th>\n",
       "      <th>nyse_exp</th>\n",
       "      <th>nas</th>\n",
       "      <th>nas_daily</th>\n",
       "      <th>nas_exp</th>\n",
       "      <th>wil</th>\n",
       "      <th>wil_daily</th>\n",
       "      <th>wil_exp</th>\n",
       "      <th>mean_exp</th>\n",
       "      <th>state</th>\n",
       "    </tr>\n",
       "    <tr>\n",
       "      <th>Date</th>\n",
       "      <th></th>\n",
       "      <th></th>\n",
       "      <th></th>\n",
       "      <th></th>\n",
       "      <th></th>\n",
       "      <th></th>\n",
       "      <th></th>\n",
       "      <th></th>\n",
       "      <th></th>\n",
       "      <th></th>\n",
       "      <th></th>\n",
       "      <th></th>\n",
       "      <th></th>\n",
       "      <th></th>\n",
       "      <th></th>\n",
       "    </tr>\n",
       "  </thead>\n",
       "  <tbody>\n",
       "    <tr>\n",
       "      <th>2022-09-26</th>\n",
       "      <td>2022-09-26</td>\n",
       "      <td>3655.040039</td>\n",
       "      <td>0.989659</td>\n",
       "      <td>0.999974</td>\n",
       "      <td>13580.389648</td>\n",
       "      <td>0.984301</td>\n",
       "      <td>0.999826</td>\n",
       "      <td>10802.919922</td>\n",
       "      <td>0.994018</td>\n",
       "      <td>1.000452</td>\n",
       "      <td>36408.339844</td>\n",
       "      <td>0.989701</td>\n",
       "      <td>1.000361</td>\n",
       "      <td>1.000153</td>\n",
       "      <td>1</td>\n",
       "    </tr>\n",
       "    <tr>\n",
       "      <th>2022-09-27</th>\n",
       "      <td>2022-09-27</td>\n",
       "      <td>3647.290039</td>\n",
       "      <td>0.997880</td>\n",
       "      <td>0.999974</td>\n",
       "      <td>13541.759766</td>\n",
       "      <td>0.997155</td>\n",
       "      <td>0.999826</td>\n",
       "      <td>10829.500000</td>\n",
       "      <td>1.002460</td>\n",
       "      <td>1.000452</td>\n",
       "      <td>36354.789062</td>\n",
       "      <td>0.998529</td>\n",
       "      <td>1.000361</td>\n",
       "      <td>1.000153</td>\n",
       "      <td>1</td>\n",
       "    </tr>\n",
       "    <tr>\n",
       "      <th>2022-09-28</th>\n",
       "      <td>2022-09-28</td>\n",
       "      <td>3719.040039</td>\n",
       "      <td>1.019672</td>\n",
       "      <td>0.999974</td>\n",
       "      <td>13833.179688</td>\n",
       "      <td>1.021520</td>\n",
       "      <td>0.999826</td>\n",
       "      <td>11051.639648</td>\n",
       "      <td>1.020512</td>\n",
       "      <td>1.000452</td>\n",
       "      <td>37138.398438</td>\n",
       "      <td>1.021555</td>\n",
       "      <td>1.000361</td>\n",
       "      <td>1.000153</td>\n",
       "      <td>1</td>\n",
       "    </tr>\n",
       "    <tr>\n",
       "      <th>2022-09-29</th>\n",
       "      <td>2022-09-29</td>\n",
       "      <td>3640.469971</td>\n",
       "      <td>0.978874</td>\n",
       "      <td>0.999974</td>\n",
       "      <td>13608.290039</td>\n",
       "      <td>0.983743</td>\n",
       "      <td>0.999826</td>\n",
       "      <td>10737.509766</td>\n",
       "      <td>0.971576</td>\n",
       "      <td>1.000452</td>\n",
       "      <td>36323.910156</td>\n",
       "      <td>0.978069</td>\n",
       "      <td>1.000361</td>\n",
       "      <td>1.000153</td>\n",
       "      <td>1</td>\n",
       "    </tr>\n",
       "    <tr>\n",
       "      <th>2022-09-30</th>\n",
       "      <td>2022-09-30</td>\n",
       "      <td>3585.620117</td>\n",
       "      <td>0.984933</td>\n",
       "      <td>0.999974</td>\n",
       "      <td>13472.183594</td>\n",
       "      <td>0.989998</td>\n",
       "      <td>0.999826</td>\n",
       "      <td>10575.619141</td>\n",
       "      <td>0.984923</td>\n",
       "      <td>1.000452</td>\n",
       "      <td>35836.921875</td>\n",
       "      <td>0.986593</td>\n",
       "      <td>1.000361</td>\n",
       "      <td>1.000153</td>\n",
       "      <td>1</td>\n",
       "    </tr>\n",
       "  </tbody>\n",
       "</table>\n",
       "</div>"
      ],
      "text/plain": [
       "                  Date           sp  sp_daily    sp_exp          nyse  \\\n",
       "Date                                                                    \n",
       "2022-09-26  2022-09-26  3655.040039  0.989659  0.999974  13580.389648   \n",
       "2022-09-27  2022-09-27  3647.290039  0.997880  0.999974  13541.759766   \n",
       "2022-09-28  2022-09-28  3719.040039  1.019672  0.999974  13833.179688   \n",
       "2022-09-29  2022-09-29  3640.469971  0.978874  0.999974  13608.290039   \n",
       "2022-09-30  2022-09-30  3585.620117  0.984933  0.999974  13472.183594   \n",
       "\n",
       "            nyse_daily  nyse_exp           nas  nas_daily   nas_exp  \\\n",
       "Date                                                                  \n",
       "2022-09-26    0.984301  0.999826  10802.919922   0.994018  1.000452   \n",
       "2022-09-27    0.997155  0.999826  10829.500000   1.002460  1.000452   \n",
       "2022-09-28    1.021520  0.999826  11051.639648   1.020512  1.000452   \n",
       "2022-09-29    0.983743  0.999826  10737.509766   0.971576  1.000452   \n",
       "2022-09-30    0.989998  0.999826  10575.619141   0.984923  1.000452   \n",
       "\n",
       "                     wil  wil_daily   wil_exp  mean_exp  state  \n",
       "Date                                                            \n",
       "2022-09-26  36408.339844   0.989701  1.000361  1.000153      1  \n",
       "2022-09-27  36354.789062   0.998529  1.000361  1.000153      1  \n",
       "2022-09-28  37138.398438   1.021555  1.000361  1.000153      1  \n",
       "2022-09-29  36323.910156   0.978069  1.000361  1.000153      1  \n",
       "2022-09-30  35836.921875   0.986593  1.000361  1.000153      1  "
      ]
     },
     "execution_count": 3,
     "metadata": {},
     "output_type": "execute_result"
    }
   ],
   "source": [
    "DATA = '../data'\n",
    "\n",
    "sp1950 = pd.read_csv(f'{DATA}/sp1950.csv')\n",
    "nya1965 = pd.read_csv(f'{DATA}/nya1965.csv')\n",
    "nasdaq1965 = pd.read_csv(f'{DATA}/nasdaq1965.csv')\n",
    "wilshire1990 = pd.read_csv(f'{DATA}/wilshire1990.csv')\n",
    "\n",
    "\n",
    "nasdaq1965.tail()\n",
    "states = pd.read_csv(f'{DATA}/hmm_exp_returns.csv')\n",
    "states.index = pd.to_datetime(states.Date)\n",
    "states.tail()"
   ]
  },
  {
   "cell_type": "code",
   "execution_count": 4,
   "id": "e17c1f04",
   "metadata": {},
   "outputs": [
    {
     "data": {
      "text/plain": [
       "73"
      ]
     },
     "execution_count": 4,
     "metadata": {},
     "output_type": "execute_result"
    }
   ],
   "source": [
    "SYMBOLS = [\n",
    "    'AAPL', 'ABMD', 'ABNB', 'ADBE', 'ADYEY', 'AMD', 'AMGN', 'AMZN',\n",
    "    'ANET', 'ASML', 'AXON', 'BROS', 'BYND', 'CHWY', 'CRWD', 'DDOG',\n",
    "    'DOCS', 'DOCU', 'DUOL', 'EDIT', 'ETSY', 'FLGT', 'GH', 'GMED',\n",
    "    'GOOG', 'IDXX', 'INTG', 'ISRG', 'JD', 'LRCX', 'LSPD', 'LULU', 'MDB',\n",
    "    'MELI', 'MNST', 'MSFT', 'MTCH', 'NVCR', 'NVDA', 'ODFL', 'OKTA',\n",
    "    'OPEN', 'PAC', 'PANW', 'PAYC', 'PINS', 'PYPL', 'QDEL', 'RBLX',\n",
    "    'RDFN', 'RGEN', 'RIVN', 'ROKU', 'RVLV', 'SE', 'SHOP', 'SNOW',\n",
    "    'TASK', 'TDOC', 'TEAM', 'TREX', 'TTD', 'TTWO', 'TWLO', 'TWTR',\n",
    "    'TYL', 'UPST', 'VEEV', 'VLD', 'VRTX', 'XPEV', 'ZEN', 'ZM']\n",
    "LINGERERS = [\n",
    "    'AMEH', 'AMRK', 'APT', 'BYRN', 'CIZN', 'CTSH', 'CUBE', 'EP', 'EXR',\n",
    "    'FCPT', 'FCUV', 'GBOX', 'GME', 'INTZ', 'KREF', 'LFMD', 'MCVT',\n",
    "    'MICS', 'MNMD',\n",
    "    'OMQS', 'PETV', 'POWW', 'PRPH', 'RA', 'RVP', 'VIRT', 'WAVD', 'WKHS',\n",
    "    'ZYXI']\n",
    "BEST_WEIGHTED = [\n",
    "    'AMRC', 'AMZN', 'BAH', 'CF', 'COOP', 'CSIQ', 'CTSH', 'CVE', 'DTST',\n",
    "    'ENPH', 'GCBC', 'GGE', 'LFMD', 'MOBQ', 'NTAP', 'RFP', 'SOBR', 'TJX',\n",
    "    'TSLA', 'VTSI']\n",
    "len(SYMBOLS)"
   ]
  },
  {
   "cell_type": "code",
   "execution_count": 5,
   "id": "34811b61",
   "metadata": {},
   "outputs": [
    {
     "data": {
      "text/plain": [
       "(datetime.date(2012, 10, 3), datetime.date(2022, 10, 1))"
      ]
     },
     "execution_count": 5,
     "metadata": {},
     "output_type": "execute_result"
    }
   ],
   "source": [
    "TODAY = (datetime.now() + timedelta(1)).date()\n",
    "YEARS_OF_DATA = 10\n",
    "START = TODAY - timedelta(YEARS_OF_DATA * 365)\n",
    "START, TODAY"
   ]
  },
  {
   "cell_type": "code",
   "execution_count": 6,
   "id": "80b6d36b",
   "metadata": {},
   "outputs": [],
   "source": [
    "batch = sorted(list(set(SYMBOLS + LINGERERS + BEST_WEIGHTED)))"
   ]
  },
  {
   "cell_type": "code",
   "execution_count": 7,
   "id": "d1345c46",
   "metadata": {},
   "outputs": [
    {
     "name": "stdout",
     "output_type": "stream",
     "text": [
      "[*********************100%***********************]  119 of 119 completed\n"
     ]
    }
   ],
   "source": [
    "data = (\n",
    "    yf\n",
    "    .download(batch, start=START, end=TODAY)\n",
    "    .rename(columns={'Adj Close': 'AdjClose'})\n",
    "    .sort_index())"
   ]
  },
  {
   "cell_type": "code",
   "execution_count": 8,
   "id": "40dbe3b7",
   "metadata": {},
   "outputs": [
    {
     "data": {
      "text/html": [
       "<div>\n",
       "<style scoped>\n",
       "    .dataframe tbody tr th:only-of-type {\n",
       "        vertical-align: middle;\n",
       "    }\n",
       "\n",
       "    .dataframe tbody tr th {\n",
       "        vertical-align: top;\n",
       "    }\n",
       "\n",
       "    .dataframe thead tr th {\n",
       "        text-align: left;\n",
       "    }\n",
       "\n",
       "    .dataframe thead tr:last-of-type th {\n",
       "        text-align: right;\n",
       "    }\n",
       "</style>\n",
       "<table border=\"1\" class=\"dataframe\">\n",
       "  <thead>\n",
       "    <tr>\n",
       "      <th></th>\n",
       "      <th colspan=\"10\" halign=\"left\">AdjClose</th>\n",
       "      <th>...</th>\n",
       "      <th colspan=\"9\" halign=\"left\">Volume</th>\n",
       "      <th>state</th>\n",
       "    </tr>\n",
       "    <tr>\n",
       "      <th></th>\n",
       "      <th>AAPL</th>\n",
       "      <th>ABMD</th>\n",
       "      <th>ABNB</th>\n",
       "      <th>ADBE</th>\n",
       "      <th>ADYEY</th>\n",
       "      <th>AMD</th>\n",
       "      <th>AMEH</th>\n",
       "      <th>AMGN</th>\n",
       "      <th>AMRC</th>\n",
       "      <th>AMRK</th>\n",
       "      <th>...</th>\n",
       "      <th>VLD</th>\n",
       "      <th>VRTX</th>\n",
       "      <th>VTSI</th>\n",
       "      <th>WAVD</th>\n",
       "      <th>WKHS</th>\n",
       "      <th>XPEV</th>\n",
       "      <th>ZEN</th>\n",
       "      <th>ZM</th>\n",
       "      <th>ZYXI</th>\n",
       "      <th></th>\n",
       "    </tr>\n",
       "    <tr>\n",
       "      <th>Date</th>\n",
       "      <th></th>\n",
       "      <th></th>\n",
       "      <th></th>\n",
       "      <th></th>\n",
       "      <th></th>\n",
       "      <th></th>\n",
       "      <th></th>\n",
       "      <th></th>\n",
       "      <th></th>\n",
       "      <th></th>\n",
       "      <th></th>\n",
       "      <th></th>\n",
       "      <th></th>\n",
       "      <th></th>\n",
       "      <th></th>\n",
       "      <th></th>\n",
       "      <th></th>\n",
       "      <th></th>\n",
       "      <th></th>\n",
       "      <th></th>\n",
       "      <th></th>\n",
       "    </tr>\n",
       "  </thead>\n",
       "  <tbody>\n",
       "    <tr>\n",
       "      <th>2022-09-26</th>\n",
       "      <td>150.770004</td>\n",
       "      <td>242.490005</td>\n",
       "      <td>103.230003</td>\n",
       "      <td>276.959991</td>\n",
       "      <td>12.04</td>\n",
       "      <td>66.300003</td>\n",
       "      <td>40.529999</td>\n",
       "      <td>226.869995</td>\n",
       "      <td>68.220001</td>\n",
       "      <td>25.520000</td>\n",
       "      <td>...</td>\n",
       "      <td>1441900.0</td>\n",
       "      <td>1583000</td>\n",
       "      <td>11600</td>\n",
       "      <td>39300</td>\n",
       "      <td>2521300</td>\n",
       "      <td>27891300.0</td>\n",
       "      <td>3105000.0</td>\n",
       "      <td>3068800.0</td>\n",
       "      <td>124400</td>\n",
       "      <td>1</td>\n",
       "    </tr>\n",
       "    <tr>\n",
       "      <th>2022-09-27</th>\n",
       "      <td>151.759995</td>\n",
       "      <td>244.399994</td>\n",
       "      <td>106.370003</td>\n",
       "      <td>277.570007</td>\n",
       "      <td>12.17</td>\n",
       "      <td>67.169998</td>\n",
       "      <td>39.389999</td>\n",
       "      <td>225.990005</td>\n",
       "      <td>66.239998</td>\n",
       "      <td>26.799999</td>\n",
       "      <td>...</td>\n",
       "      <td>1344800.0</td>\n",
       "      <td>1464700</td>\n",
       "      <td>17000</td>\n",
       "      <td>13800</td>\n",
       "      <td>2622000</td>\n",
       "      <td>21160800.0</td>\n",
       "      <td>1919400.0</td>\n",
       "      <td>3576500.0</td>\n",
       "      <td>166200</td>\n",
       "      <td>1</td>\n",
       "    </tr>\n",
       "    <tr>\n",
       "      <th>2022-09-28</th>\n",
       "      <td>149.839996</td>\n",
       "      <td>250.050003</td>\n",
       "      <td>110.690002</td>\n",
       "      <td>281.399994</td>\n",
       "      <td>12.41</td>\n",
       "      <td>68.360001</td>\n",
       "      <td>39.779999</td>\n",
       "      <td>230.979996</td>\n",
       "      <td>69.889999</td>\n",
       "      <td>28.070000</td>\n",
       "      <td>...</td>\n",
       "      <td>1381600.0</td>\n",
       "      <td>1656300</td>\n",
       "      <td>12300</td>\n",
       "      <td>30500</td>\n",
       "      <td>2630200</td>\n",
       "      <td>31799400.0</td>\n",
       "      <td>1129700.0</td>\n",
       "      <td>2856700.0</td>\n",
       "      <td>174500</td>\n",
       "      <td>1</td>\n",
       "    </tr>\n",
       "    <tr>\n",
       "      <th>2022-09-29</th>\n",
       "      <td>142.479996</td>\n",
       "      <td>248.960007</td>\n",
       "      <td>106.660004</td>\n",
       "      <td>278.250000</td>\n",
       "      <td>12.07</td>\n",
       "      <td>64.139999</td>\n",
       "      <td>39.320000</td>\n",
       "      <td>228.410004</td>\n",
       "      <td>63.810001</td>\n",
       "      <td>28.320000</td>\n",
       "      <td>...</td>\n",
       "      <td>1194800.0</td>\n",
       "      <td>1341200</td>\n",
       "      <td>40100</td>\n",
       "      <td>35600</td>\n",
       "      <td>3361300</td>\n",
       "      <td>33044800.0</td>\n",
       "      <td>2397200.0</td>\n",
       "      <td>2930400.0</td>\n",
       "      <td>165500</td>\n",
       "      <td>1</td>\n",
       "    </tr>\n",
       "    <tr>\n",
       "      <th>2022-09-30</th>\n",
       "      <td>138.199997</td>\n",
       "      <td>245.660004</td>\n",
       "      <td>105.040001</td>\n",
       "      <td>275.200012</td>\n",
       "      <td>12.52</td>\n",
       "      <td>63.360001</td>\n",
       "      <td>39.000000</td>\n",
       "      <td>225.399994</td>\n",
       "      <td>66.480003</td>\n",
       "      <td>28.389999</td>\n",
       "      <td>...</td>\n",
       "      <td>1548213.0</td>\n",
       "      <td>1375739</td>\n",
       "      <td>18669</td>\n",
       "      <td>5417</td>\n",
       "      <td>3449450</td>\n",
       "      <td>21131930.0</td>\n",
       "      <td>1757735.0</td>\n",
       "      <td>3535496.0</td>\n",
       "      <td>149847</td>\n",
       "      <td>1</td>\n",
       "    </tr>\n",
       "  </tbody>\n",
       "</table>\n",
       "<p>5 rows × 715 columns</p>\n",
       "</div>"
      ],
      "text/plain": [
       "              AdjClose                                                        \\\n",
       "                  AAPL        ABMD        ABNB        ADBE  ADYEY        AMD   \n",
       "Date                                                                           \n",
       "2022-09-26  150.770004  242.490005  103.230003  276.959991  12.04  66.300003   \n",
       "2022-09-27  151.759995  244.399994  106.370003  277.570007  12.17  67.169998   \n",
       "2022-09-28  149.839996  250.050003  110.690002  281.399994  12.41  68.360001   \n",
       "2022-09-29  142.479996  248.960007  106.660004  278.250000  12.07  64.139999   \n",
       "2022-09-30  138.199997  245.660004  105.040001  275.200012  12.52  63.360001   \n",
       "\n",
       "                                                         ...     Volume  \\\n",
       "                 AMEH        AMGN       AMRC       AMRK  ...        VLD   \n",
       "Date                                                     ...              \n",
       "2022-09-26  40.529999  226.869995  68.220001  25.520000  ...  1441900.0   \n",
       "2022-09-27  39.389999  225.990005  66.239998  26.799999  ...  1344800.0   \n",
       "2022-09-28  39.779999  230.979996  69.889999  28.070000  ...  1381600.0   \n",
       "2022-09-29  39.320000  228.410004  63.810001  28.320000  ...  1194800.0   \n",
       "2022-09-30  39.000000  225.399994  66.480003  28.389999  ...  1548213.0   \n",
       "\n",
       "                                                                              \\\n",
       "               VRTX   VTSI   WAVD     WKHS        XPEV        ZEN         ZM   \n",
       "Date                                                                           \n",
       "2022-09-26  1583000  11600  39300  2521300  27891300.0  3105000.0  3068800.0   \n",
       "2022-09-27  1464700  17000  13800  2622000  21160800.0  1919400.0  3576500.0   \n",
       "2022-09-28  1656300  12300  30500  2630200  31799400.0  1129700.0  2856700.0   \n",
       "2022-09-29  1341200  40100  35600  3361300  33044800.0  2397200.0  2930400.0   \n",
       "2022-09-30  1375739  18669   5417  3449450  21131930.0  1757735.0  3535496.0   \n",
       "\n",
       "                   state  \n",
       "              ZYXI        \n",
       "Date                      \n",
       "2022-09-26  124400     1  \n",
       "2022-09-27  166200     1  \n",
       "2022-09-28  174500     1  \n",
       "2022-09-29  165500     1  \n",
       "2022-09-30  149847     1  \n",
       "\n",
       "[5 rows x 715 columns]"
      ]
     },
     "execution_count": 8,
     "metadata": {},
     "output_type": "execute_result"
    }
   ],
   "source": [
    "data['state'] = states.state\n",
    "data.tail()"
   ]
  },
  {
   "cell_type": "code",
   "execution_count": 9,
   "id": "e5c4b52b",
   "metadata": {},
   "outputs": [
    {
     "data": {
      "text/plain": [
       "[0, 1, 2, 3, 4, 5, 6, 7]"
      ]
     },
     "execution_count": 9,
     "metadata": {},
     "output_type": "execute_result"
    }
   ],
   "source": [
    "STATES = sorted(states.state.unique())\n",
    "STATES"
   ]
  },
  {
   "cell_type": "code",
   "execution_count": 10,
   "id": "1ba79e9a",
   "metadata": {},
   "outputs": [
    {
     "data": {
      "text/plain": [
       "1"
      ]
     },
     "execution_count": 10,
     "metadata": {},
     "output_type": "execute_result"
    }
   ],
   "source": [
    "CURRENT_STATE = states.state[-1]\n",
    "CURRENT_STATE"
   ]
  },
  {
   "cell_type": "code",
   "execution_count": 11,
   "id": "c86a6728",
   "metadata": {},
   "outputs": [],
   "source": [
    "def get_stock_data(stock, data):\n",
    "    sub = data.loc[\n",
    "        :,  \n",
    "        [x for x in list(data) if x[1] == stock]]\n",
    "    first_value = (\n",
    "        sub.AdjClose[stock][sub.AdjClose[stock].notna()].index[0])\n",
    "    sub = sub.loc[first_value:, :]\n",
    "    sub.columns = sub.columns.to_series().apply(lambda x: x[0])\n",
    "    sub.fillna(method='ffill', inplace=True)\n",
    "    return sub"
   ]
  },
  {
   "cell_type": "code",
   "execution_count": 12,
   "id": "fc00b33a",
   "metadata": {},
   "outputs": [],
   "source": [
    "def get_daily_returns(x):\n",
    "    idx = x.index\n",
    "    n = len(x)\n",
    "    x = np.array(x)\n",
    "    #return x[2:n] / x[1:(n - 1)] - 1 \n",
    "    returns = x[1:n] / x[0:(n-1)] - 1\n",
    "    returns = pd.Series(returns, index=idx[1:])\n",
    "    return returns"
   ]
  },
  {
   "cell_type": "code",
   "execution_count": 13,
   "id": "418e9299",
   "metadata": {},
   "outputs": [],
   "source": [
    "def get_sharpe(returns, window=None):\n",
    "    n = len(returns)\n",
    "    if window is None:\n",
    "        window = n\n",
    "    if len(returns) > window:\n",
    "        returns = returns[(n - window):n]\n",
    "    returns = returns[~np.isnan(returns)]\n",
    "    sharpe = (np.sqrt(252) * returns.mean()) / returns.std()\n",
    "    return sharpe"
   ]
  },
  {
   "cell_type": "code",
   "execution_count": 14,
   "id": "aea65630",
   "metadata": {},
   "outputs": [],
   "source": [
    "def get_hedged_sharpe(daily_returns, data):\n",
    "    state_sharpe = get_sharpe(\n",
    "        daily_returns[data.state == CURRENT_STATE])\n",
    "    lower_state_sharpe = get_sharpe(\n",
    "        daily_returns[data.state == max(CURRENT_STATE - 1, 0)])\n",
    "    upper_state_sharpe = get_sharpe(\n",
    "        daily_returns[\n",
    "            data.state == min(CURRENT_STATE + 1, max(STATES))])\n",
    "    return min(state_sharpe, lower_state_sharpe, upper_state_sharpe)"
   ]
  },
  {
   "cell_type": "code",
   "execution_count": 15,
   "id": "aeb3fdc4",
   "metadata": {},
   "outputs": [],
   "source": [
    "def get_weighted_sharpe(daily_returns, data, weights=[0.2, 0.6, 0.2]):\n",
    "    state_sharpe = get_sharpe(\n",
    "        daily_returns[data.state == CURRENT_STATE])\n",
    "    lower_state_sharpe = get_sharpe(\n",
    "        daily_returns[data.state == max(CURRENT_STATE - 1, 0)])\n",
    "    upper_state_sharpe = get_sharpe(\n",
    "        daily_returns[\n",
    "            data.state == min(CURRENT_STATE + 1, max(STATES))])\n",
    "    return (\n",
    "        weights[0]*lower_state_sharpe\n",
    "        + weights[1]*state_sharpe\n",
    "        + weights[2]*upper_state_sharpe)"
   ]
  },
  {
   "cell_type": "code",
   "execution_count": 16,
   "id": "c4d498cb",
   "metadata": {},
   "outputs": [],
   "source": [
    "def rescale(a):\n",
    "    a = a - a.min()\n",
    "    a = a / a.max()\n",
    "    return a"
   ]
  },
  {
   "cell_type": "code",
   "execution_count": 17,
   "id": "d37ae8da",
   "metadata": {},
   "outputs": [],
   "source": [
    "def vals_to_quantiles(a):\n",
    "    n = len(a)\n",
    "    qs = np.linspace(0, 1, n)\n",
    "    order = np.argsort(a)\n",
    "    out = qs[order]\n",
    "    return out"
   ]
  },
  {
   "cell_type": "code",
   "execution_count": 18,
   "id": "d0c38483",
   "metadata": {},
   "outputs": [],
   "source": [
    "def get_rsi(stock_data, window=14):\n",
    "    df = stock_data.copy()\n",
    "    df['deltas'] = df.AdjClose.diff(1)\n",
    "    df['gains'] = df.deltas.clip(lower=0)\n",
    "    df['losses'] = df.deltas.clip(upper=0).abs()\n",
    "    df['avg_gain'] = (df.gains\n",
    "                      .rolling(window=window, min_periods=window)\n",
    "                      .mean()[:window + 1])\n",
    "    df['avg_loss'] = (df.losses\n",
    "                      .rolling(window=window, min_periods=window)\n",
    "                      .mean()[:window + 1])\n",
    "    \n",
    "    # avg gains\n",
    "    pd.options.mode.chained_assignment = None\n",
    "    for i, row in enumerate(df.avg_gain.iloc[window + 1:]):\n",
    "        df.avg_gain.iloc[i + window + 1] = (\n",
    "            (df.avg_gain.iloc[i + window] * (window - 1) \n",
    "             + df.gains.iloc[i + window + 1]) \n",
    "            / window)\n",
    "    # avg losses\n",
    "    for i, row in enumerate(df.avg_loss.iloc[window + 1:]):\n",
    "        df.avg_loss.iloc[i + window + 1] = (\n",
    "            (df.avg_loss.iloc[i + window] * (window - 1)\n",
    "             + df.losses.iloc[i + window + 1])\n",
    "            / window)\n",
    "    df['rs'] = df.avg_gain / df.avg_loss\n",
    "    df['rsi'] = 100 - (100 / (1. + df.rs))\n",
    "    return df.rsi"
   ]
  },
  {
   "cell_type": "code",
   "execution_count": 19,
   "id": "166912c5",
   "metadata": {},
   "outputs": [],
   "source": [
    "def get_macd(stock_data, fast=60, slow=90, signal=80, plot=False):\n",
    "    df = stock_data.copy()\n",
    "    exp1 = df.AdjClose.ewm(span=fast, adjust=False).mean()\n",
    "    exp2 = df.AdjClose.ewm(span=slow, adjust=False).mean()\n",
    "    macd = exp1 - exp2\n",
    "    exp3 = macd.ewm(span=signal, adjust=False).mean()\n",
    "    histo = macd - exp3\n",
    "    hdiff = histo.diff(1)\n",
    "    is_rising = 1 * (hdiff > 0)\n",
    "    if plot:\n",
    "        plt.plot(macd, label='MACD', color='red')\n",
    "        plt.plot(exp3, label='Signal', color='green')\n",
    "        #plt.xlim(pd.to_datetime('2021-01-01'), \n",
    "        #         pd.to_datetime('2021-10-14'))\n",
    "        plt.legend();\n",
    "        plt.figure()\n",
    "        plt.plot(histo, color='blue')\n",
    "        #plt.xlim(pd.to_datetime('2021-01-01'), \n",
    "        #         pd.to_datetime('2021-10-14'))\n",
    "        plt.axhline(y=0, color='k')\n",
    "        plt.figure()\n",
    "        plt.plot(is_rising)\n",
    "        #plt.xlim(pd.to_datetime('2021-01-01'), \n",
    "        #         pd.to_datetime('2021-10-14'))\n",
    "    return is_rising"
   ]
  },
  {
   "cell_type": "code",
   "execution_count": 20,
   "id": "706e1ec9",
   "metadata": {},
   "outputs": [],
   "source": [
    "LMB = 0.9\n",
    "RSI_WINDOW = 14\n",
    "MACD_PARAMS = (60, 90, 80, False)"
   ]
  },
  {
   "cell_type": "code",
   "execution_count": 21,
   "id": "f66f2539",
   "metadata": {},
   "outputs": [],
   "source": [
    "EXAMPLE = 'AAPL'"
   ]
  },
  {
   "cell_type": "code",
   "execution_count": 22,
   "id": "aa1b4507",
   "metadata": {},
   "outputs": [
    {
     "data": {
      "text/plain": [
       "(0.8054303123357794, 1.278787798830584)"
      ]
     },
     "execution_count": 22,
     "metadata": {},
     "output_type": "execute_result"
    }
   ],
   "source": [
    "stock_data = get_stock_data(EXAMPLE, data.copy())\n",
    "daily_returns = get_daily_returns(stock_data.AdjClose)\n",
    "daily_returns\n",
    "(get_sharpe(daily_returns), \n",
    " get_sharpe(daily_returns[data.state == CURRENT_STATE]))"
   ]
  },
  {
   "cell_type": "code",
   "execution_count": 23,
   "id": "82d5802e",
   "metadata": {},
   "outputs": [
    {
     "data": {
      "image/png": "[encoded data removed]",
      "text/plain": [
       "<Figure size 432x288 with 1 Axes>"
      ]
     },
     "metadata": {
      "needs_background": "light"
     },
     "output_type": "display_data"
    }
   ],
   "source": [
    "plt.plot(\n",
    "    (get_daily_returns(data[('AdjClose', EXAMPLE)]) + 1).cumprod());"
   ]
  },
  {
   "cell_type": "code",
   "execution_count": 24,
   "id": "7991d24f",
   "metadata": {},
   "outputs": [
    {
     "data": {
      "image/png": "[encoded data removed]",
      "text/plain": [
       "<Figure size 432x288 with 1 Axes>"
      ]
     },
     "metadata": {
      "needs_background": "light"
     },
     "output_type": "display_data"
    }
   ],
   "source": [
    "dr = get_daily_returns(\n",
    "    data[('AdjClose', EXAMPLE)]\n",
    ")[data.state == CURRENT_STATE]\n",
    "dr = dr[dr.notnull()]\n",
    "plt.plot((dr + 1).to_numpy().cumprod());"
   ]
  },
  {
   "cell_type": "code",
   "execution_count": 25,
   "id": "ff56345e",
   "metadata": {},
   "outputs": [
    {
     "data": {
      "text/plain": [
       "0.18601382870436445"
      ]
     },
     "execution_count": 25,
     "metadata": {},
     "output_type": "execute_result"
    }
   ],
   "source": [
    "get_weighted_sharpe(daily_returns, data.copy())"
   ]
  },
  {
   "cell_type": "code",
   "execution_count": 26,
   "id": "e7e7526a",
   "metadata": {},
   "outputs": [],
   "source": [
    "def process_stock(stock, data, lmb=LMB, plot=False):\n",
    "    stock_data = get_stock_data(stock, data)\n",
    "    n = len(stock_data.AdjClose[~np.isnan(stock_data.AdjClose)])\n",
    "    stock_data['direction'] = get_macd(stock_data, *MACD_PARAMS)\n",
    "    stock_data['rsi'] = get_rsi(stock_data, window=RSI_WINDOW)\n",
    "    stock_data.rsi = stock_data.rsi.rank(pct=True)\n",
    "    daily_returns = get_daily_returns(stock_data.AdjClose)\n",
    "    sharpe = get_sharpe(daily_returns)\n",
    "    #state_sharpe = get_sharpe(\n",
    "    #    daily_returns[data.state == CURRENT_STATE])\n",
    "    #hedged_sharpe = get_hedged_sharpe(daily_returns, data)\n",
    "    weighted_sharpe = get_weighted_sharpe(daily_returns, data)\n",
    "    stock_data.fillna(method='ffill', inplace=True)\n",
    "    stock_data.fillna(method='bfill', inplace=True)\n",
    "    WINDOW = min(n // 2, 125)\n",
    "    stock_data['ann_high'] = (\n",
    "        stock_data.AdjClose.rolling(window=WINDOW).max())\n",
    "    stock_data['ann_low'] = (\n",
    "        stock_data.AdjClose.rolling(window=WINDOW).min())\n",
    "    stock_data['drawdown'] = stock_data.AdjClose / stock_data.ann_high\n",
    "    stock_data.drawdown = stock_data.drawdown.rank(pct=True)\n",
    "    stock_data['pullup'] = stock_data.AdjClose / stock_data.ann_low\n",
    "    stock_data.pullup = stock_data.pullup.rank(pct=True)\n",
    "    w = [lmb ** t for t in range(n)][::-1]\n",
    "    stock_data['W'] = w\n",
    "    stock_data['n_samp'] = (stock_data.Volume / 100)  * stock_data.W\n",
    "    stock_data['value'] = (\n",
    "        (stock_data.AdjClose \n",
    "         + stock_data.High \n",
    "         + stock_data.Low \n",
    "         + stock_data.Open) \n",
    "        / 4)\n",
    "    stock_data['est'] = np.nan\n",
    "    for day in stock_data.index:\n",
    "        sub = stock_data[stock_data.index <= day]\n",
    "        weights = sub.n_samp\n",
    "        weights = weights / weights.sum()\n",
    "        values = sub.value\n",
    "        est = np.dot(weights, values)\n",
    "        stock_data.loc[day, 'est'] = est\n",
    "    stock_data['resid'] = stock_data.AdjClose / stock_data.est\n",
    "    stock_data.resid = stock_data.resid.rank(pct=True)\n",
    "    stock_data.sort_values('resid', inplace=True)\n",
    "    n_notnull_resid = stock_data.resid.notnull().sum()\n",
    "    stock_data['dev'] = np.nan\n",
    "    stock_data.loc[stock_data.resid.notnull(), 'dev'] = (\n",
    "        np.array(range(n_notnull_resid) / n_notnull_resid))\n",
    "    stock_data.dev = stock_data.dev.rank(pct=True)\n",
    "    stock_data.sort_index(inplace=True)\n",
    "    if plot:\n",
    "        plt.figure(figsize=(12, 8))\n",
    "        plt.plot(stock_data.AdjClose, label='AdjClose')\n",
    "        plt.plot(stock_data.est, label='Est')\n",
    "        plt.yscale('log')\n",
    "        plt.plot(stock_data.ann_high, color='green')\n",
    "        plt.plot(stock_data.ann_low, color='red')\n",
    "        plt.legend();\n",
    "        \n",
    "        plt.figure(figsize=(12, 4))\n",
    "        plt.plot(stock_data.dev)\n",
    "        plt.axhline(0.5, color='k')\n",
    "        plt.title(stock)\n",
    "        \n",
    "        plt.figure(figsize=(12, 4))\n",
    "        plt.plot(stock_data.drawdown, color='red', label='drawdown')\n",
    "        plt.plot(stock_data.pullup, color='green', label='pullup')\n",
    "        plt.plot(\n",
    "            np.sqrt(stock_data.drawdown * stock_data.pullup),\n",
    "            color='grey',\n",
    "            label='geomean')\n",
    "        plt.yscale('log')\n",
    "        plt.legend()\n",
    "    return (\n",
    "        stock_data.direction.tolist()[-1],\n",
    "        stock_data.rsi.tolist()[-1],\n",
    "        stock_data.resid.tolist()[-1], \n",
    "        stock_data.dev.tolist()[-1],\n",
    "        stock_data.drawdown.tolist()[-1],\n",
    "        stock_data.pullup.tolist()[-1],\n",
    "        sharpe,\n",
    "        #state_sharpe,\n",
    "        #hedged_sharpe,\n",
    "        weighted_sharpe)"
   ]
  },
  {
   "cell_type": "code",
   "execution_count": 27,
   "id": "1cbfa969",
   "metadata": {
    "scrolled": false
   },
   "outputs": [
    {
     "data": {
      "text/plain": [
       "(0,\n",
       " 0.01919232307077169,\n",
       " 0.15188866799204773,\n",
       " 0.15188866799204773,\n",
       " 0.06859054788791301,\n",
       " 0.08824759514847344,\n",
       " 0.8054303123357794,\n",
       " 0.18601382870436445)"
      ]
     },
     "execution_count": 27,
     "metadata": {},
     "output_type": "execute_result"
    },
    {
     "data": {
      "image/png": "[encoded data removed]",
      "text/plain": [
       "<Figure size 864x576 with 1 Axes>"
      ]
     },
     "metadata": {
      "needs_background": "light"
     },
     "output_type": "display_data"
    },
    {
     "data": {
      "image/png": "[encoded data removed]",
      "text/plain": [
       "<Figure size 864x288 with 1 Axes>"
      ]
     },
     "metadata": {
      "needs_background": "light"
     },
     "output_type": "display_data"
    },
    {
     "data": {
      "image/png": "[encoded data removed]",
      "text/plain": [
       "<Figure size 864x288 with 1 Axes>"
      ]
     },
     "metadata": {
      "needs_background": "light"
     },
     "output_type": "display_data"
    }
   ],
   "source": [
    "process_stock('AAPL', data.copy(), plot=True)"
   ]
  },
  {
   "cell_type": "code",
   "execution_count": 28,
   "id": "977ecacf",
   "metadata": {},
   "outputs": [
    {
     "name": "stdout",
     "output_type": "stream",
     "text": [
      "AAPL... ABMD... ABNB... ADBE... ADYEY... AMD... AMEH... AMGN... AMRC... AMRK... AMZN... ANET... APT... ASML... AXON... BAH... BROS... BYND... BYRN... CF... CHWY... CIZN... COOP... CRWD... CSIQ... CTSH... CUBE... CVE... DDOG... DOCS... DOCU... DTST... DUOL... EDIT... ENPH... EP... ETSY... EXR... FCPT... FCUV... FLGT... GBOX... GCBC... GGE... GH... GME... GMED... GOOG... IDXX... INTG... INTZ... ISRG... JD... KREF... LFMD... LRCX... LSPD... LULU... MCVT... MDB... MELI... MICS... MNMD... MNST... MOBQ... MSFT... MTCH... NTAP... NVCR... NVDA... ODFL... OKTA... OMQS... OPEN... PAC... PANW... PAYC... PETV... PINS... POWW... PRPH... PYPL... QDEL... RA... RBLX... RDFN... RFP... RGEN... RIVN... ROKU... RVLV... RVP... SE... SHOP... SNOW... SOBR... TASK... TDOC... TEAM... TJX... TREX... TSLA... TTD... TTWO... TWLO... TWTR... TYL... UPST... VEEV... VIRT... VLD... VRTX... VTSI... WAVD... WKHS... XPEV... ZEN... ZM... ZYXI... "
     ]
    }
   ],
   "source": [
    "out = []\n",
    "for stock in batch:\n",
    "    print(f'{stock}...', end=' ')\n",
    "    stock_stats = process_stock(stock, data)\n",
    "    out.append([stock, *stock_stats])"
   ]
  },
  {
   "cell_type": "code",
   "execution_count": 29,
   "id": "c186e04d",
   "metadata": {},
   "outputs": [
    {
     "data": {
      "text/html": [
       "<div>\n",
       "<style scoped>\n",
       "    .dataframe tbody tr th:only-of-type {\n",
       "        vertical-align: middle;\n",
       "    }\n",
       "\n",
       "    .dataframe tbody tr th {\n",
       "        vertical-align: top;\n",
       "    }\n",
       "\n",
       "    .dataframe thead th {\n",
       "        text-align: right;\n",
       "    }\n",
       "</style>\n",
       "<table border=\"1\" class=\"dataframe\">\n",
       "  <thead>\n",
       "    <tr style=\"text-align: right;\">\n",
       "      <th></th>\n",
       "      <th>stock</th>\n",
       "      <th>direction</th>\n",
       "      <th>RSI</th>\n",
       "      <th>RSIRev</th>\n",
       "      <th>fair_value_mult</th>\n",
       "      <th>dev_quantile</th>\n",
       "      <th>drop</th>\n",
       "      <th>climb</th>\n",
       "      <th>geomean</th>\n",
       "      <th>score</th>\n",
       "      <th>sharpe</th>\n",
       "      <th>weighted_sharpe</th>\n",
       "    </tr>\n",
       "  </thead>\n",
       "  <tbody>\n",
       "    <tr>\n",
       "      <th>0</th>\n",
       "      <td>AAPL</td>\n",
       "      <td>0</td>\n",
       "      <td>0.019192</td>\n",
       "      <td>0.980808</td>\n",
       "      <td>0.151889</td>\n",
       "      <td>0.151889</td>\n",
       "      <td>0.068591</td>\n",
       "      <td>0.088248</td>\n",
       "      <td>0.077801</td>\n",
       "      <td>0.108706</td>\n",
       "      <td>0.805430</td>\n",
       "      <td>0.186014</td>\n",
       "    </tr>\n",
       "    <tr>\n",
       "      <th>1</th>\n",
       "      <td>ABMD</td>\n",
       "      <td>0</td>\n",
       "      <td>0.104358</td>\n",
       "      <td>0.895642</td>\n",
       "      <td>0.155865</td>\n",
       "      <td>0.155865</td>\n",
       "      <td>0.173986</td>\n",
       "      <td>0.146382</td>\n",
       "      <td>0.159588</td>\n",
       "      <td>0.157716</td>\n",
       "      <td>0.784822</td>\n",
       "      <td>0.222667</td>\n",
       "    </tr>\n",
       "    <tr>\n",
       "      <th>2</th>\n",
       "      <td>ABNB</td>\n",
       "      <td>0</td>\n",
       "      <td>0.174603</td>\n",
       "      <td>0.825397</td>\n",
       "      <td>0.160440</td>\n",
       "      <td>0.160440</td>\n",
       "      <td>0.145015</td>\n",
       "      <td>0.441088</td>\n",
       "      <td>0.252912</td>\n",
       "      <td>0.201437</td>\n",
       "      <td>-0.020947</td>\n",
       "      <td>-0.700918</td>\n",
       "    </tr>\n",
       "    <tr>\n",
       "      <th>3</th>\n",
       "      <td>ADBE</td>\n",
       "      <td>0</td>\n",
       "      <td>0.002799</td>\n",
       "      <td>0.997201</td>\n",
       "      <td>0.009145</td>\n",
       "      <td>0.009145</td>\n",
       "      <td>0.006692</td>\n",
       "      <td>0.008783</td>\n",
       "      <td>0.007666</td>\n",
       "      <td>0.008373</td>\n",
       "      <td>0.844840</td>\n",
       "      <td>-0.146766</td>\n",
       "    </tr>\n",
       "    <tr>\n",
       "      <th>4</th>\n",
       "      <td>ADYEY</td>\n",
       "      <td>0</td>\n",
       "      <td>0.098516</td>\n",
       "      <td>0.901484</td>\n",
       "      <td>0.149669</td>\n",
       "      <td>0.149669</td>\n",
       "      <td>0.147385</td>\n",
       "      <td>0.062599</td>\n",
       "      <td>0.096053</td>\n",
       "      <td>0.119901</td>\n",
       "      <td>0.710917</td>\n",
       "      <td>0.017379</td>\n",
       "    </tr>\n",
       "  </tbody>\n",
       "</table>\n",
       "</div>"
      ],
      "text/plain": [
       "   stock  direction       RSI    RSIRev  fair_value_mult  dev_quantile  \\\n",
       "0   AAPL          0  0.019192  0.980808         0.151889      0.151889   \n",
       "1   ABMD          0  0.104358  0.895642         0.155865      0.155865   \n",
       "2   ABNB          0  0.174603  0.825397         0.160440      0.160440   \n",
       "3   ADBE          0  0.002799  0.997201         0.009145      0.009145   \n",
       "4  ADYEY          0  0.098516  0.901484         0.149669      0.149669   \n",
       "\n",
       "       drop     climb   geomean     score    sharpe  weighted_sharpe  \n",
       "0  0.068591  0.088248  0.077801  0.108706  0.805430         0.186014  \n",
       "1  0.173986  0.146382  0.159588  0.157716  0.784822         0.222667  \n",
       "2  0.145015  0.441088  0.252912  0.201437 -0.020947        -0.700918  \n",
       "3  0.006692  0.008783  0.007666  0.008373  0.844840        -0.146766  \n",
       "4  0.147385  0.062599  0.096053  0.119901  0.710917         0.017379  "
      ]
     },
     "execution_count": 29,
     "metadata": {},
     "output_type": "execute_result"
    }
   ],
   "source": [
    "out_df = pd.DataFrame(\n",
    "    data=out, \n",
    "    columns=[\n",
    "        'stock', 'direction', 'RSI', 'fair_value_mult', 'dev_quantile',\n",
    "        'drop','climb', 'sharpe', 'weighted_sharpe'])\n",
    "out_df['geomean'] = np.sqrt(out_df['drop'] * out_df.climb)\n",
    "out_df['score'] = (\n",
    "    out_df.fair_value_mult\n",
    "    * out_df.dev_quantile\n",
    "    * out_df['drop']\n",
    "    * out_df.climb) ** (1/4) \n",
    "out_df['RSIRev'] = 1 - out_df.RSI\n",
    "out_df = out_df[\n",
    "    ['stock', 'direction', 'RSI', 'RSIRev', 'fair_value_mult', \n",
    "     'dev_quantile', 'drop', 'climb', 'geomean', 'score',  'sharpe',\n",
    "     'weighted_sharpe']]\n",
    "out_df.RSI.fillna(out_df.RSI.median())\n",
    "out_df.RSIRev.fillna(out_df.RSIRev.median())\n",
    "\n",
    "out_df.weighted_sharpe.fillna(\n",
    "    out_df.weighted_sharpe.mean(), inplace=True)\n",
    "out_df.sort_values('stock')\n",
    "out_df.head()"
   ]
  },
  {
   "cell_type": "code",
   "execution_count": 30,
   "id": "166a0cf2",
   "metadata": {},
   "outputs": [
    {
     "data": {
      "text/plain": [
       "0.05    0.010398\n",
       "0.99    0.822015\n",
       "Name: geomean, dtype: float64"
      ]
     },
     "execution_count": 30,
     "metadata": {},
     "output_type": "execute_result"
    }
   ],
   "source": [
    "out_df.geomean.quantile([0.05, 0.99])"
   ]
  },
  {
   "cell_type": "code",
   "execution_count": 31,
   "id": "bbd1ecad",
   "metadata": {},
   "outputs": [],
   "source": [
    "out_df.to_csv('individ_quantiles.csv', index=False)"
   ]
  },
  {
   "cell_type": "code",
   "execution_count": 32,
   "id": "cbc0955c",
   "metadata": {},
   "outputs": [],
   "source": [
    "!open individ_quantiles.csv"
   ]
  },
  {
   "cell_type": "code",
   "execution_count": null,
   "id": "169e4685",
   "metadata": {},
   "outputs": [],
   "source": []
  },
  {
   "cell_type": "code",
   "execution_count": null,
   "id": "5de37386",
   "metadata": {},
   "outputs": [],
   "source": []
  }
 ],
 "metadata": {
  "kernelspec": {
   "display_name": "Python 3 (ipykernel)",
   "language": "python",
   "name": "python3"
  },
  "language_info": {
   "codemirror_mode": {
    "name": "ipython",
    "version": 3
   },
   "file_extension": ".py",
   "mimetype": "text/x-python",
   "name": "python",
   "nbconvert_exporter": "python",
   "pygments_lexer": "ipython3",
   "version": "3.10.6"
  }
 },
 "nbformat": 4,
 "nbformat_minor": 5
}
