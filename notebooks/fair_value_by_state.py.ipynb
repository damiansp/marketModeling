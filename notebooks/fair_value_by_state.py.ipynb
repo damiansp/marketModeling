{
 "cells": [
  {
   "cell_type": "code",
   "execution_count": 1,
   "id": "02efc0e6",
   "metadata": {},
   "outputs": [],
   "source": [
    "from datetime import datetime, timedelta\n",
    "import sys\n",
    "\n",
    "import matplotlib.pyplot as plt\n",
    "import numpy as np\n",
    "import pandas as pd\n",
    "import yfinance as yf\n",
    "\n",
    "sys.path.append('..')\n",
    "from util.batcher import Batcher\n",
    "#from util.stock_loader import Loader"
   ]
  },
  {
   "cell_type": "code",
   "execution_count": 2,
   "id": "3ac57a6e",
   "metadata": {},
   "outputs": [
    {
     "data": {
      "text/plain": [
       "datetime.date(2022, 9, 17)"
      ]
     },
     "execution_count": 2,
     "metadata": {},
     "output_type": "execute_result"
    }
   ],
   "source": [
    "TODAY = datetime.now().date()\n",
    "TOMORROW  = TODAY + timedelta(1)\n",
    "TOMORROW"
   ]
  },
  {
   "cell_type": "code",
   "execution_count": 3,
   "id": "ae63c545",
   "metadata": {},
   "outputs": [
    {
     "data": {
      "text/html": [
       "<div>\n",
       "<style scoped>\n",
       "    .dataframe tbody tr th:only-of-type {\n",
       "        vertical-align: middle;\n",
       "    }\n",
       "\n",
       "    .dataframe tbody tr th {\n",
       "        vertical-align: top;\n",
       "    }\n",
       "\n",
       "    .dataframe thead th {\n",
       "        text-align: right;\n",
       "    }\n",
       "</style>\n",
       "<table border=\"1\" class=\"dataframe\">\n",
       "  <thead>\n",
       "    <tr style=\"text-align: right;\">\n",
       "      <th></th>\n",
       "      <th>Date</th>\n",
       "      <th>sp</th>\n",
       "      <th>sp_daily</th>\n",
       "      <th>sp_exp</th>\n",
       "      <th>nyse</th>\n",
       "      <th>nyse_daily</th>\n",
       "      <th>nyse_exp</th>\n",
       "      <th>nas</th>\n",
       "      <th>nas_daily</th>\n",
       "      <th>nas_exp</th>\n",
       "      <th>wil</th>\n",
       "      <th>wil_daily</th>\n",
       "      <th>wil_exp</th>\n",
       "      <th>mean_exp</th>\n",
       "      <th>state</th>\n",
       "    </tr>\n",
       "    <tr>\n",
       "      <th>Date</th>\n",
       "      <th></th>\n",
       "      <th></th>\n",
       "      <th></th>\n",
       "      <th></th>\n",
       "      <th></th>\n",
       "      <th></th>\n",
       "      <th></th>\n",
       "      <th></th>\n",
       "      <th></th>\n",
       "      <th></th>\n",
       "      <th></th>\n",
       "      <th></th>\n",
       "      <th></th>\n",
       "      <th></th>\n",
       "      <th></th>\n",
       "    </tr>\n",
       "  </thead>\n",
       "  <tbody>\n",
       "    <tr>\n",
       "      <th>2022-09-12</th>\n",
       "      <td>2022-09-12</td>\n",
       "      <td>4110.410156</td>\n",
       "      <td>1.010584</td>\n",
       "      <td>1.000002</td>\n",
       "      <td>15352.179688</td>\n",
       "      <td>1.010624</td>\n",
       "      <td>0.999857</td>\n",
       "      <td>12266.410156</td>\n",
       "      <td>1.012723</td>\n",
       "      <td>1.000474</td>\n",
       "      <td>41146.421875</td>\n",
       "      <td>1.010690</td>\n",
       "      <td>1.000334</td>\n",
       "      <td>1.000167</td>\n",
       "      <td>0</td>\n",
       "    </tr>\n",
       "    <tr>\n",
       "      <th>2022-09-13</th>\n",
       "      <td>2022-09-13</td>\n",
       "      <td>3932.689941</td>\n",
       "      <td>0.956763</td>\n",
       "      <td>1.000002</td>\n",
       "      <td>14820.790039</td>\n",
       "      <td>0.965387</td>\n",
       "      <td>0.999857</td>\n",
       "      <td>11633.570312</td>\n",
       "      <td>0.948409</td>\n",
       "      <td>1.000474</td>\n",
       "      <td>39392.160156</td>\n",
       "      <td>0.957365</td>\n",
       "      <td>1.000334</td>\n",
       "      <td>1.000167</td>\n",
       "      <td>0</td>\n",
       "    </tr>\n",
       "    <tr>\n",
       "      <th>2022-09-14</th>\n",
       "      <td>2022-09-14</td>\n",
       "      <td>3946.010010</td>\n",
       "      <td>1.003387</td>\n",
       "      <td>1.000002</td>\n",
       "      <td>14843.209961</td>\n",
       "      <td>1.001513</td>\n",
       "      <td>0.999857</td>\n",
       "      <td>11719.679688</td>\n",
       "      <td>1.007402</td>\n",
       "      <td>1.000474</td>\n",
       "      <td>39545.250000</td>\n",
       "      <td>1.003886</td>\n",
       "      <td>1.000334</td>\n",
       "      <td>1.000167</td>\n",
       "      <td>0</td>\n",
       "    </tr>\n",
       "    <tr>\n",
       "      <th>2022-09-15</th>\n",
       "      <td>2022-09-15</td>\n",
       "      <td>3901.350098</td>\n",
       "      <td>0.988682</td>\n",
       "      <td>1.000002</td>\n",
       "      <td>14722.030273</td>\n",
       "      <td>0.991836</td>\n",
       "      <td>0.999857</td>\n",
       "      <td>11552.360352</td>\n",
       "      <td>0.985723</td>\n",
       "      <td>1.000474</td>\n",
       "      <td>39122.859375</td>\n",
       "      <td>0.989319</td>\n",
       "      <td>1.000334</td>\n",
       "      <td>1.000167</td>\n",
       "      <td>0</td>\n",
       "    </tr>\n",
       "    <tr>\n",
       "      <th>2022-09-16</th>\n",
       "      <td>2022-09-16</td>\n",
       "      <td>3873.330078</td>\n",
       "      <td>0.992818</td>\n",
       "      <td>1.000002</td>\n",
       "      <td>14573.911133</td>\n",
       "      <td>0.989939</td>\n",
       "      <td>0.999857</td>\n",
       "      <td>11448.403320</td>\n",
       "      <td>0.991001</td>\n",
       "      <td>1.000474</td>\n",
       "      <td>38750.464844</td>\n",
       "      <td>0.990481</td>\n",
       "      <td>1.000334</td>\n",
       "      <td>1.000167</td>\n",
       "      <td>0</td>\n",
       "    </tr>\n",
       "  </tbody>\n",
       "</table>\n",
       "</div>"
      ],
      "text/plain": [
       "                  Date           sp  sp_daily    sp_exp          nyse  \\\n",
       "Date                                                                    \n",
       "2022-09-12  2022-09-12  4110.410156  1.010584  1.000002  15352.179688   \n",
       "2022-09-13  2022-09-13  3932.689941  0.956763  1.000002  14820.790039   \n",
       "2022-09-14  2022-09-14  3946.010010  1.003387  1.000002  14843.209961   \n",
       "2022-09-15  2022-09-15  3901.350098  0.988682  1.000002  14722.030273   \n",
       "2022-09-16  2022-09-16  3873.330078  0.992818  1.000002  14573.911133   \n",
       "\n",
       "            nyse_daily  nyse_exp           nas  nas_daily   nas_exp  \\\n",
       "Date                                                                  \n",
       "2022-09-12    1.010624  0.999857  12266.410156   1.012723  1.000474   \n",
       "2022-09-13    0.965387  0.999857  11633.570312   0.948409  1.000474   \n",
       "2022-09-14    1.001513  0.999857  11719.679688   1.007402  1.000474   \n",
       "2022-09-15    0.991836  0.999857  11552.360352   0.985723  1.000474   \n",
       "2022-09-16    0.989939  0.999857  11448.403320   0.991001  1.000474   \n",
       "\n",
       "                     wil  wil_daily   wil_exp  mean_exp  state  \n",
       "Date                                                            \n",
       "2022-09-12  41146.421875   1.010690  1.000334  1.000167      0  \n",
       "2022-09-13  39392.160156   0.957365  1.000334  1.000167      0  \n",
       "2022-09-14  39545.250000   1.003886  1.000334  1.000167      0  \n",
       "2022-09-15  39122.859375   0.989319  1.000334  1.000167      0  \n",
       "2022-09-16  38750.464844   0.990481  1.000334  1.000167      0  "
      ]
     },
     "execution_count": 3,
     "metadata": {},
     "output_type": "execute_result"
    }
   ],
   "source": [
    "DATA = '../data'\n",
    "\n",
    "sp1950 = pd.read_csv(f'{DATA}/sp1950.csv')\n",
    "nya1965 = pd.read_csv(f'{DATA}/nya1965.csv')\n",
    "nasdaq1965 = pd.read_csv(f'{DATA}/nasdaq1965.csv')\n",
    "wilshire1990 = pd.read_csv(f'{DATA}/wilshire1990.csv')\n",
    "\n",
    "\n",
    "nasdaq1965.tail()\n",
    "states = pd.read_csv(f'{DATA}/hmm_exp_returns.csv')\n",
    "states.index = pd.to_datetime(states.Date)\n",
    "states.tail()"
   ]
  },
  {
   "cell_type": "code",
   "execution_count": 4,
   "id": "e17c1f04",
   "metadata": {},
   "outputs": [
    {
     "data": {
      "text/plain": [
       "69"
      ]
     },
     "execution_count": 4,
     "metadata": {},
     "output_type": "execute_result"
    }
   ],
   "source": [
    "SYMBOLS = [\n",
    "    'AAPL', 'ABMD', 'ABNB', 'ADBE', 'ADYEY', 'AMD', 'AMZN', 'ANET',\n",
    "    'ASML', 'AXON', 'BROS', 'BYND', 'CHWY', 'CRWD', 'DDOG', 'DOCS',\n",
    "    'DOCU', 'DUOL', 'EDIT', 'ETSY', 'FLGT', 'GH', 'GMED', 'GOOG',\n",
    "    'IDXX', 'INTG', 'ISRG', 'JD', 'LSPD', 'LULU', 'MDB', 'MELI', 'MNST',\n",
    "    'MSFT', 'MTCH', 'NVCR', 'NVDA', 'OKTA', 'OPEN', 'PAC', 'PANW',\n",
    "    'PAYC', 'PINS', 'PYPL', 'QDEL', 'RBLX', 'RDFN', 'RGEN', 'RIVN',\n",
    "    'ROKU', 'RVLV', 'SE', 'SHOP', 'SNOW', 'TASK', 'TDOC', 'TEAM',\n",
    "    'TREX', 'TTD', 'TTWO', 'TWLO', 'TWTR', 'TYL', 'UPST', 'VEEV', 'VLD',\n",
    "    'XPEV', 'ZEN', 'ZM']\n",
    "LINGERERS = [\n",
    "    'AMEH', 'APT', 'BYRN', 'CIZN', 'CUBE', 'EP', 'FCUV', 'GCBC', 'GME',\n",
    "    'INTZ', 'KREF', 'MCVT', 'MICS', 'PETV', 'POWW', 'PRPH', 'RA', 'RVP',\n",
    "    'WAVD', 'WKHS', 'VIRT', 'ZYXI']\n",
    "BEST_WEIGHTED = [\n",
    "    'ABM', 'AMRK', 'CELH', 'CTBB', 'CTDD', 'EVA', 'EXR', 'FCPT', 'FND',\n",
    "    'GBOX', 'INSW', 'KNSL', 'LFMD', 'MNMD', 'MYOV', 'NSA', 'OMQS',\n",
    "    'RRR', 'SBOW', 'STOR']\n",
    "len(SYMBOLS)"
   ]
  },
  {
   "cell_type": "code",
   "execution_count": 5,
   "id": "34811b61",
   "metadata": {},
   "outputs": [
    {
     "data": {
      "text/plain": [
       "(datetime.date(2012, 9, 19), datetime.date(2022, 9, 17))"
      ]
     },
     "execution_count": 5,
     "metadata": {},
     "output_type": "execute_result"
    }
   ],
   "source": [
    "TODAY = (datetime.now() + timedelta(1)).date()\n",
    "YEARS_OF_DATA = 10\n",
    "START = TODAY - timedelta(YEARS_OF_DATA * 365)\n",
    "START, TODAY"
   ]
  },
  {
   "cell_type": "code",
   "execution_count": 6,
   "id": "80b6d36b",
   "metadata": {},
   "outputs": [],
   "source": [
    "batch = sorted(list(set(SYMBOLS + LINGERERS + BEST_WEIGHTED)))"
   ]
  },
  {
   "cell_type": "code",
   "execution_count": 7,
   "id": "d1345c46",
   "metadata": {},
   "outputs": [
    {
     "name": "stdout",
     "output_type": "stream",
     "text": [
      "[*********************100%***********************]  111 of 111 completed\n"
     ]
    }
   ],
   "source": [
    "data = (\n",
    "    yf\n",
    "    .download(batch, start=START, end=TODAY)\n",
    "    .rename(columns={'Adj Close': 'AdjClose'})\n",
    "    .sort_index())"
   ]
  },
  {
   "cell_type": "code",
   "execution_count": 8,
   "id": "40dbe3b7",
   "metadata": {},
   "outputs": [
    {
     "data": {
      "text/html": [
       "<div>\n",
       "<style scoped>\n",
       "    .dataframe tbody tr th:only-of-type {\n",
       "        vertical-align: middle;\n",
       "    }\n",
       "\n",
       "    .dataframe tbody tr th {\n",
       "        vertical-align: top;\n",
       "    }\n",
       "\n",
       "    .dataframe thead tr th {\n",
       "        text-align: left;\n",
       "    }\n",
       "\n",
       "    .dataframe thead tr:last-of-type th {\n",
       "        text-align: right;\n",
       "    }\n",
       "</style>\n",
       "<table border=\"1\" class=\"dataframe\">\n",
       "  <thead>\n",
       "    <tr>\n",
       "      <th></th>\n",
       "      <th colspan=\"10\" halign=\"left\">AdjClose</th>\n",
       "      <th>...</th>\n",
       "      <th colspan=\"9\" halign=\"left\">Volume</th>\n",
       "      <th>state</th>\n",
       "    </tr>\n",
       "    <tr>\n",
       "      <th></th>\n",
       "      <th>AAPL</th>\n",
       "      <th>ABM</th>\n",
       "      <th>ABMD</th>\n",
       "      <th>ABNB</th>\n",
       "      <th>ADBE</th>\n",
       "      <th>ADYEY</th>\n",
       "      <th>AMD</th>\n",
       "      <th>AMEH</th>\n",
       "      <th>AMRK</th>\n",
       "      <th>AMZN</th>\n",
       "      <th>...</th>\n",
       "      <th>VEEV</th>\n",
       "      <th>VIRT</th>\n",
       "      <th>VLD</th>\n",
       "      <th>WAVD</th>\n",
       "      <th>WKHS</th>\n",
       "      <th>XPEV</th>\n",
       "      <th>ZEN</th>\n",
       "      <th>ZM</th>\n",
       "      <th>ZYXI</th>\n",
       "      <th></th>\n",
       "    </tr>\n",
       "    <tr>\n",
       "      <th>Date</th>\n",
       "      <th></th>\n",
       "      <th></th>\n",
       "      <th></th>\n",
       "      <th></th>\n",
       "      <th></th>\n",
       "      <th></th>\n",
       "      <th></th>\n",
       "      <th></th>\n",
       "      <th></th>\n",
       "      <th></th>\n",
       "      <th></th>\n",
       "      <th></th>\n",
       "      <th></th>\n",
       "      <th></th>\n",
       "      <th></th>\n",
       "      <th></th>\n",
       "      <th></th>\n",
       "      <th></th>\n",
       "      <th></th>\n",
       "      <th></th>\n",
       "      <th></th>\n",
       "    </tr>\n",
       "  </thead>\n",
       "  <tbody>\n",
       "    <tr>\n",
       "      <th>2022-09-12</th>\n",
       "      <td>163.429993</td>\n",
       "      <td>43.869999</td>\n",
       "      <td>279.160004</td>\n",
       "      <td>124.790001</td>\n",
       "      <td>396.359985</td>\n",
       "      <td>15.385</td>\n",
       "      <td>84.639999</td>\n",
       "      <td>43.139999</td>\n",
       "      <td>29.049999</td>\n",
       "      <td>136.449997</td>\n",
       "      <td>...</td>\n",
       "      <td>808500.0</td>\n",
       "      <td>762300.0</td>\n",
       "      <td>1082200.0</td>\n",
       "      <td>14900</td>\n",
       "      <td>2666500</td>\n",
       "      <td>21170100.0</td>\n",
       "      <td>2323800.0</td>\n",
       "      <td>3928900.0</td>\n",
       "      <td>169600</td>\n",
       "      <td>0</td>\n",
       "    </tr>\n",
       "    <tr>\n",
       "      <th>2022-09-13</th>\n",
       "      <td>153.839996</td>\n",
       "      <td>NaN</td>\n",
       "      <td>266.390015</td>\n",
       "      <td>121.540001</td>\n",
       "      <td>368.390015</td>\n",
       "      <td>13.800</td>\n",
       "      <td>77.029999</td>\n",
       "      <td>42.130001</td>\n",
       "      <td>28.400000</td>\n",
       "      <td>126.820000</td>\n",
       "      <td>...</td>\n",
       "      <td>899500.0</td>\n",
       "      <td>740700.0</td>\n",
       "      <td>1349700.0</td>\n",
       "      <td>14700</td>\n",
       "      <td>2695200</td>\n",
       "      <td>20166700.0</td>\n",
       "      <td>2907400.0</td>\n",
       "      <td>4654500.0</td>\n",
       "      <td>132900</td>\n",
       "      <td>0</td>\n",
       "    </tr>\n",
       "    <tr>\n",
       "      <th>2022-09-14</th>\n",
       "      <td>155.309998</td>\n",
       "      <td>41.959999</td>\n",
       "      <td>264.329987</td>\n",
       "      <td>126.800003</td>\n",
       "      <td>371.519989</td>\n",
       "      <td>14.190</td>\n",
       "      <td>77.449997</td>\n",
       "      <td>42.959999</td>\n",
       "      <td>27.930000</td>\n",
       "      <td>128.550003</td>\n",
       "      <td>...</td>\n",
       "      <td>772000.0</td>\n",
       "      <td>993700.0</td>\n",
       "      <td>1615000.0</td>\n",
       "      <td>29200</td>\n",
       "      <td>2711200</td>\n",
       "      <td>16809300.0</td>\n",
       "      <td>1714100.0</td>\n",
       "      <td>4196500.0</td>\n",
       "      <td>164700</td>\n",
       "      <td>0</td>\n",
       "    </tr>\n",
       "    <tr>\n",
       "      <th>2022-09-15</th>\n",
       "      <td>152.369995</td>\n",
       "      <td>NaN</td>\n",
       "      <td>263.720001</td>\n",
       "      <td>125.040001</td>\n",
       "      <td>309.130005</td>\n",
       "      <td>13.770</td>\n",
       "      <td>76.660004</td>\n",
       "      <td>41.049999</td>\n",
       "      <td>26.740000</td>\n",
       "      <td>126.279999</td>\n",
       "      <td>...</td>\n",
       "      <td>1453000.0</td>\n",
       "      <td>963600.0</td>\n",
       "      <td>2106400.0</td>\n",
       "      <td>5400</td>\n",
       "      <td>3147600</td>\n",
       "      <td>15506300.0</td>\n",
       "      <td>2630700.0</td>\n",
       "      <td>4247500.0</td>\n",
       "      <td>199500</td>\n",
       "      <td>0</td>\n",
       "    </tr>\n",
       "    <tr>\n",
       "      <th>2022-09-16</th>\n",
       "      <td>150.699997</td>\n",
       "      <td>40.130001</td>\n",
       "      <td>258.670013</td>\n",
       "      <td>118.750000</td>\n",
       "      <td>299.500000</td>\n",
       "      <td>13.190</td>\n",
       "      <td>76.510002</td>\n",
       "      <td>39.240002</td>\n",
       "      <td>25.400000</td>\n",
       "      <td>123.529999</td>\n",
       "      <td>...</td>\n",
       "      <td>1604800.0</td>\n",
       "      <td>1988200.0</td>\n",
       "      <td>1388000.0</td>\n",
       "      <td>44500</td>\n",
       "      <td>3837400</td>\n",
       "      <td>26454800.0</td>\n",
       "      <td>3540500.0</td>\n",
       "      <td>6148600.0</td>\n",
       "      <td>306000</td>\n",
       "      <td>0</td>\n",
       "    </tr>\n",
       "  </tbody>\n",
       "</table>\n",
       "<p>5 rows × 667 columns</p>\n",
       "</div>"
      ],
      "text/plain": [
       "              AdjClose                                                         \\\n",
       "                  AAPL        ABM        ABMD        ABNB        ADBE   ADYEY   \n",
       "Date                                                                            \n",
       "2022-09-12  163.429993  43.869999  279.160004  124.790001  396.359985  15.385   \n",
       "2022-09-13  153.839996        NaN  266.390015  121.540001  368.390015  13.800   \n",
       "2022-09-14  155.309998  41.959999  264.329987  126.800003  371.519989  14.190   \n",
       "2022-09-15  152.369995        NaN  263.720001  125.040001  309.130005  13.770   \n",
       "2022-09-16  150.699997  40.130001  258.670013  118.750000  299.500000  13.190   \n",
       "\n",
       "                                                         ...     Volume  \\\n",
       "                  AMD       AMEH       AMRK        AMZN  ...       VEEV   \n",
       "Date                                                     ...              \n",
       "2022-09-12  84.639999  43.139999  29.049999  136.449997  ...   808500.0   \n",
       "2022-09-13  77.029999  42.130001  28.400000  126.820000  ...   899500.0   \n",
       "2022-09-14  77.449997  42.959999  27.930000  128.550003  ...   772000.0   \n",
       "2022-09-15  76.660004  41.049999  26.740000  126.279999  ...  1453000.0   \n",
       "2022-09-16  76.510002  39.240002  25.400000  123.529999  ...  1604800.0   \n",
       "\n",
       "                                                                         \\\n",
       "                 VIRT        VLD   WAVD     WKHS        XPEV        ZEN   \n",
       "Date                                                                      \n",
       "2022-09-12   762300.0  1082200.0  14900  2666500  21170100.0  2323800.0   \n",
       "2022-09-13   740700.0  1349700.0  14700  2695200  20166700.0  2907400.0   \n",
       "2022-09-14   993700.0  1615000.0  29200  2711200  16809300.0  1714100.0   \n",
       "2022-09-15   963600.0  2106400.0   5400  3147600  15506300.0  2630700.0   \n",
       "2022-09-16  1988200.0  1388000.0  44500  3837400  26454800.0  3540500.0   \n",
       "\n",
       "                              state  \n",
       "                   ZM    ZYXI        \n",
       "Date                                 \n",
       "2022-09-12  3928900.0  169600     0  \n",
       "2022-09-13  4654500.0  132900     0  \n",
       "2022-09-14  4196500.0  164700     0  \n",
       "2022-09-15  4247500.0  199500     0  \n",
       "2022-09-16  6148600.0  306000     0  \n",
       "\n",
       "[5 rows x 667 columns]"
      ]
     },
     "execution_count": 8,
     "metadata": {},
     "output_type": "execute_result"
    }
   ],
   "source": [
    "data['state'] = states.state\n",
    "data.tail()"
   ]
  },
  {
   "cell_type": "code",
   "execution_count": 9,
   "id": "e5c4b52b",
   "metadata": {},
   "outputs": [
    {
     "data": {
      "text/plain": [
       "[0, 1, 2, 3, 4, 5]"
      ]
     },
     "execution_count": 9,
     "metadata": {},
     "output_type": "execute_result"
    }
   ],
   "source": [
    "STATES = sorted(states.state.unique())\n",
    "STATES"
   ]
  },
  {
   "cell_type": "code",
   "execution_count": 10,
   "id": "1ba79e9a",
   "metadata": {},
   "outputs": [
    {
     "data": {
      "text/plain": [
       "0"
      ]
     },
     "execution_count": 10,
     "metadata": {},
     "output_type": "execute_result"
    }
   ],
   "source": [
    "CURRENT_STATE = states.state[-1]\n",
    "CURRENT_STATE"
   ]
  },
  {
   "cell_type": "code",
   "execution_count": 11,
   "id": "c86a6728",
   "metadata": {},
   "outputs": [],
   "source": [
    "def get_stock_data(stock, data):\n",
    "    sub = data.loc[\n",
    "        :,  \n",
    "        [x for x in list(data) if x[1] == stock]]\n",
    "    first_value = (\n",
    "        sub.AdjClose[stock][sub.AdjClose[stock].notna()].index[0])\n",
    "    sub = sub.loc[first_value:, :]\n",
    "    sub.columns = sub.columns.to_series().apply(lambda x: x[0])\n",
    "    sub.fillna(method='ffill', inplace=True)\n",
    "    return sub"
   ]
  },
  {
   "cell_type": "code",
   "execution_count": 12,
   "id": "fc00b33a",
   "metadata": {},
   "outputs": [],
   "source": [
    "def get_daily_returns(x):\n",
    "    idx = x.index\n",
    "    n = len(x)\n",
    "    x = np.array(x)\n",
    "    #return x[2:n] / x[1:(n - 1)] - 1 \n",
    "    returns = x[1:n] / x[0:(n-1)] - 1\n",
    "    returns = pd.Series(returns, index=idx[1:])\n",
    "    return returns"
   ]
  },
  {
   "cell_type": "code",
   "execution_count": 13,
   "id": "418e9299",
   "metadata": {},
   "outputs": [],
   "source": [
    "def get_sharpe(returns, window=None):\n",
    "    n = len(returns)\n",
    "    if window is None:\n",
    "        window = n\n",
    "    if len(returns) > window:\n",
    "        returns = returns[(n - window):n]\n",
    "    returns = returns[~np.isnan(returns)]\n",
    "    sharpe = (np.sqrt(252) * returns.mean()) / returns.std()\n",
    "    return sharpe"
   ]
  },
  {
   "cell_type": "code",
   "execution_count": 14,
   "id": "e10b44ab",
   "metadata": {},
   "outputs": [],
   "source": [
    "def get_hedged_sharpe(daily_returns, data):\n",
    "    state_sharpe = get_sharpe(\n",
    "        daily_returns[data.state == CURRENT_STATE])\n",
    "    lower_state_sharpe = get_sharpe(\n",
    "        daily_returns[data.state == max(CURRENT_STATE - 1, 0)])\n",
    "    upper_state_sharpe = get_sharpe(\n",
    "        daily_returns[\n",
    "            data.state == min(CURRENT_STATE + 1, max(STATES))])\n",
    "    return min(state_sharpe, lower_state_sharpe, upper_state_sharpe)"
   ]
  },
  {
   "cell_type": "code",
   "execution_count": 15,
   "id": "9ab5c178",
   "metadata": {},
   "outputs": [],
   "source": [
    "def get_weighted_sharpe(daily_returns, data, weights=[0.2, 0.6, 0.2]):\n",
    "    state_sharpe = get_sharpe(\n",
    "        daily_returns[data.state == CURRENT_STATE])\n",
    "    lower_state_sharpe = get_sharpe(\n",
    "        daily_returns[data.state == max(CURRENT_STATE - 1, 0)])\n",
    "    upper_state_sharpe = get_sharpe(\n",
    "        daily_returns[\n",
    "            data.state == min(CURRENT_STATE + 1, max(STATES))])\n",
    "    return (\n",
    "        weights[0]*lower_state_sharpe\n",
    "        + weights[1]*state_sharpe\n",
    "        + weights[2]*upper_state_sharpe)"
   ]
  },
  {
   "cell_type": "code",
   "execution_count": 16,
   "id": "c4d498cb",
   "metadata": {},
   "outputs": [],
   "source": [
    "def rescale(a):\n",
    "    a = a - a.min()\n",
    "    a = a / a.max()\n",
    "    return a"
   ]
  },
  {
   "cell_type": "code",
   "execution_count": 17,
   "id": "d37ae8da",
   "metadata": {},
   "outputs": [],
   "source": [
    "def vals_to_quantiles(a):\n",
    "    n = len(a)\n",
    "    qs = np.linspace(0, 1, n)\n",
    "    order = np.argsort(a)\n",
    "    out = qs[order]\n",
    "    return out"
   ]
  },
  {
   "cell_type": "code",
   "execution_count": 18,
   "id": "d0c38483",
   "metadata": {},
   "outputs": [],
   "source": [
    "def get_rsi(stock_data, window=14):\n",
    "    df = stock_data.copy()\n",
    "    df['deltas'] = df.AdjClose.diff(1)\n",
    "    df['gains'] = df.deltas.clip(lower=0)\n",
    "    df['losses'] = df.deltas.clip(upper=0).abs()\n",
    "    df['avg_gain'] = (df.gains\n",
    "                      .rolling(window=window, min_periods=window)\n",
    "                      .mean()[:window + 1])\n",
    "    df['avg_loss'] = (df.losses\n",
    "                      .rolling(window=window, min_periods=window)\n",
    "                      .mean()[:window + 1])\n",
    "    \n",
    "    # avg gains\n",
    "    pd.options.mode.chained_assignment = None\n",
    "    for i, row in enumerate(df.avg_gain.iloc[window + 1:]):\n",
    "        df.avg_gain.iloc[i + window + 1] = (\n",
    "            (df.avg_gain.iloc[i + window] * (window - 1) \n",
    "             + df.gains.iloc[i + window + 1]) \n",
    "            / window)\n",
    "    # avg losses\n",
    "    for i, row in enumerate(df.avg_loss.iloc[window + 1:]):\n",
    "        df.avg_loss.iloc[i + window + 1] = (\n",
    "            (df.avg_loss.iloc[i + window] * (window - 1)\n",
    "             + df.losses.iloc[i + window + 1])\n",
    "            / window)\n",
    "    df['rs'] = df.avg_gain / df.avg_loss\n",
    "    df['rsi'] = 100 - (100 / (1. + df.rs))\n",
    "    return df.rsi"
   ]
  },
  {
   "cell_type": "code",
   "execution_count": 19,
   "id": "166912c5",
   "metadata": {},
   "outputs": [],
   "source": [
    "def get_macd(stock_data, fast=60, slow=90, signal=80, plot=False):\n",
    "    df = stock_data.copy()\n",
    "    exp1 = df.AdjClose.ewm(span=fast, adjust=False).mean()\n",
    "    exp2 = df.AdjClose.ewm(span=slow, adjust=False).mean()\n",
    "    macd = exp1 - exp2\n",
    "    exp3 = macd.ewm(span=signal, adjust=False).mean()\n",
    "    histo = macd - exp3\n",
    "    hdiff = histo.diff(1)\n",
    "    is_rising = 1 * (hdiff > 0)\n",
    "    if plot:\n",
    "        plt.plot(macd, label='MACD', color='red')\n",
    "        plt.plot(exp3, label='Signal', color='green')\n",
    "        #plt.xlim(pd.to_datetime('2021-01-01'), \n",
    "        #         pd.to_datetime('2021-10-14'))\n",
    "        plt.legend();\n",
    "        plt.figure()\n",
    "        plt.plot(histo, color='blue')\n",
    "        #plt.xlim(pd.to_datetime('2021-01-01'), \n",
    "        #         pd.to_datetime('2021-10-14'))\n",
    "        plt.axhline(y=0, color='k')\n",
    "        plt.figure()\n",
    "        plt.plot(is_rising)\n",
    "        #plt.xlim(pd.to_datetime('2021-01-01'), \n",
    "        #         pd.to_datetime('2021-10-14'))\n",
    "    return is_rising"
   ]
  },
  {
   "cell_type": "code",
   "execution_count": 20,
   "id": "706e1ec9",
   "metadata": {},
   "outputs": [],
   "source": [
    "LMB = 0.9\n",
    "RSI_WINDOW = 14\n",
    "MACD_PARAMS = (60, 90, 80, False)"
   ]
  },
  {
   "cell_type": "code",
   "execution_count": 21,
   "id": "f66f2539",
   "metadata": {},
   "outputs": [],
   "source": [
    "EXAMPLE = 'AAPL'"
   ]
  },
  {
   "cell_type": "code",
   "execution_count": 22,
   "id": "aa1b4507",
   "metadata": {},
   "outputs": [
    {
     "data": {
      "text/plain": [
       "(0.8208497225893113, -1.5428940105517297)"
      ]
     },
     "execution_count": 22,
     "metadata": {},
     "output_type": "execute_result"
    }
   ],
   "source": [
    "stock_data = get_stock_data(EXAMPLE, data.copy())\n",
    "daily_returns = get_daily_returns(stock_data.AdjClose)\n",
    "daily_returns\n",
    "(get_sharpe(daily_returns), \n",
    " get_sharpe(daily_returns[data.state == CURRENT_STATE]))"
   ]
  },
  {
   "cell_type": "code",
   "execution_count": 23,
   "id": "82d5802e",
   "metadata": {},
   "outputs": [
    {
     "data": {
      "image/png": "[encoded data removed]",
      "text/plain": [
       "<Figure size 432x288 with 1 Axes>"
      ]
     },
     "metadata": {
      "needs_background": "light"
     },
     "output_type": "display_data"
    }
   ],
   "source": [
    "plt.plot(\n",
    "    (get_daily_returns(data[('AdjClose', EXAMPLE)]) + 1).cumprod());"
   ]
  },
  {
   "cell_type": "code",
   "execution_count": 24,
   "id": "7991d24f",
   "metadata": {},
   "outputs": [
    {
     "data": {
      "image/png": "[encoded data removed]",
      "text/plain": [
       "<Figure size 432x288 with 1 Axes>"
      ]
     },
     "metadata": {
      "needs_background": "light"
     },
     "output_type": "display_data"
    }
   ],
   "source": [
    "dr = get_daily_returns(\n",
    "    data[('AdjClose', EXAMPLE)]\n",
    ")[states.state == CURRENT_STATE]\n",
    "dr = dr[dr.notnull()]\n",
    "plt.plot((dr + 1).to_numpy().cumprod());"
   ]
  },
  {
   "cell_type": "code",
   "execution_count": 25,
   "id": "00c92a50",
   "metadata": {},
   "outputs": [
    {
     "data": {
      "text/plain": [
       "-0.9141973667903198"
      ]
     },
     "execution_count": 25,
     "metadata": {},
     "output_type": "execute_result"
    }
   ],
   "source": [
    "get_weighted_sharpe(daily_returns, data.copy())"
   ]
  },
  {
   "cell_type": "code",
   "execution_count": 26,
   "id": "e7e7526a",
   "metadata": {},
   "outputs": [],
   "source": [
    "def process_stock(stock, data, lmb=LMB, plot=False):\n",
    "    stock_data = get_stock_data(stock, data)\n",
    "    n = len(stock_data.AdjClose[~np.isnan(stock_data.AdjClose)])\n",
    "    stock_data['direction'] = get_macd(stock_data, *MACD_PARAMS)\n",
    "    stock_data['rsi'] = get_rsi(stock_data, window=RSI_WINDOW)\n",
    "    stock_data.rsi = stock_data.rsi.rank(pct=True)\n",
    "    daily_returns = get_daily_returns(stock_data.AdjClose)\n",
    "    sharpe = get_sharpe(daily_returns)\n",
    "    #state_sharpe = get_sharpe(\n",
    "    #    daily_returns[data.state == CURRENT_STATE])\n",
    "    #hedged_sharpe = get_hedged_sharpe(daily_returns, data)\n",
    "    weighted_sharpe = get_weighted_sharpe(daily_returns, data)\n",
    "    stock_data.fillna(method='ffill', inplace=True)\n",
    "    stock_data.fillna(method='bfill', inplace=True)\n",
    "    WINDOW = min(n // 2, 125)\n",
    "    stock_data['ann_high'] = (\n",
    "        stock_data.AdjClose.rolling(window=WINDOW).max())\n",
    "    stock_data['ann_low'] = (\n",
    "        stock_data.AdjClose.rolling(window=WINDOW).min())\n",
    "    stock_data['drawdown'] = stock_data.AdjClose / stock_data.ann_high\n",
    "    stock_data.drawdown = stock_data.drawdown.rank(pct=True)\n",
    "    stock_data['pullup'] = stock_data.AdjClose / stock_data.ann_low\n",
    "    stock_data.pullup = stock_data.pullup.rank(pct=True)\n",
    "    w = [lmb ** t for t in range(n)][::-1]\n",
    "    stock_data['W'] = w\n",
    "    stock_data['n_samp'] = (stock_data.Volume / 100)  * stock_data.W\n",
    "    stock_data['value'] = (\n",
    "        (stock_data.AdjClose \n",
    "         + stock_data.High \n",
    "         + stock_data.Low \n",
    "         + stock_data.Open) \n",
    "        / 4)\n",
    "    stock_data['est'] = np.nan\n",
    "    for day in stock_data.index:\n",
    "        sub = stock_data[stock_data.index <= day]\n",
    "        weights = sub.n_samp\n",
    "        weights = weights / weights.sum()\n",
    "        values = sub.value\n",
    "        est = np.dot(weights, values)\n",
    "        stock_data.loc[day, 'est'] = est\n",
    "    stock_data['resid'] = stock_data.AdjClose / stock_data.est\n",
    "    stock_data.resid = stock_data.resid.rank(pct=True)\n",
    "    stock_data.sort_values('resid', inplace=True)\n",
    "    stock_data['dev'] = np.array(range(n)) / n\n",
    "    stock_data.dev = stock_data.dev.rank(pct=True)\n",
    "    stock_data.sort_index(inplace=True)\n",
    "    if plot:\n",
    "        plt.figure(figsize=(12, 8))\n",
    "        plt.plot(stock_data.AdjClose, label='AdjClose')\n",
    "        plt.plot(stock_data.est, label='Est')\n",
    "        plt.yscale('log')\n",
    "        plt.plot(stock_data.ann_high, color='green')\n",
    "        plt.plot(stock_data.ann_low, color='red')\n",
    "        plt.legend();\n",
    "        plt.figure(figsize=(12, 4))\n",
    "        plt.plot(stock_data.dev)\n",
    "        plt.axhline(0.5, color='k')\n",
    "        plt.title(stock)\n",
    "        plt.figure(figsize=(12, 4))\n",
    "        plt.plot(stock_data.drawdown, color='red', label='drawdown')\n",
    "        plt.plot(stock_data.pullup, color='green', label='pullup')\n",
    "        plt.plot(\n",
    "            np.sqrt(stock_data.drawdown * stock_data.pullup),\n",
    "            color='grey',\n",
    "            label='geomean')\n",
    "        plt.yscale('log')\n",
    "        plt.legend()\n",
    "    return (\n",
    "        stock_data.direction.tolist()[-1],\n",
    "        stock_data.rsi.tolist()[-1],\n",
    "        stock_data.resid.tolist()[-1], \n",
    "        stock_data.dev.tolist()[-1],\n",
    "        stock_data.drawdown.tolist()[-1],\n",
    "        stock_data.pullup.tolist()[-1],\n",
    "        sharpe,\n",
    "        #state_sharpe,\n",
    "        #hedged_sharpe,\n",
    "        weighted_sharpe)"
   ]
  },
  {
   "cell_type": "code",
   "execution_count": 27,
   "id": "1cbfa969",
   "metadata": {
    "scrolled": false
   },
   "outputs": [
    {
     "data": {
      "text/plain": [
       "(0,\n",
       " 0.11035585765693723,\n",
       " 0.44612326043737577,\n",
       " 0.44612326043737577,\n",
       " 0.1606022584692597,\n",
       " 0.2781263069845253,\n",
       " 0.8208497225893113,\n",
       " -0.9141973667903198)"
      ]
     },
     "execution_count": 27,
     "metadata": {},
     "output_type": "execute_result"
    },
    {
     "data": {
      "image/png": "[encoded data removed]",
      "text/plain": [
       "<Figure size 864x576 with 1 Axes>"
      ]
     },
     "metadata": {
      "needs_background": "light"
     },
     "output_type": "display_data"
    },
    {
     "data": {
      "image/png": "[encoded data removed]",
      "text/plain": [
       "<Figure size 864x288 with 1 Axes>"
      ]
     },
     "metadata": {
      "needs_background": "light"
     },
     "output_type": "display_data"
    },
    {
     "data": {
      "image/png": "[encoded data removed]",
      "text/plain": [
       "<Figure size 864x288 with 1 Axes>"
      ]
     },
     "metadata": {
      "needs_background": "light"
     },
     "output_type": "display_data"
    }
   ],
   "source": [
    "process_stock('AAPL', data.copy(), plot=True)"
   ]
  },
  {
   "cell_type": "code",
   "execution_count": 28,
   "id": "977ecacf",
   "metadata": {},
   "outputs": [
    {
     "name": "stdout",
     "output_type": "stream",
     "text": [
      "AAPL... ABM... ABMD... ABNB... ADBE... ADYEY... AMD... AMEH... AMRK... AMZN... ANET... APT... ASML... AXON... BROS... BYND... BYRN... CELH... CHWY... CIZN... CRWD... CTBB... CTDD... CUBE... DDOG... DOCS... DOCU... DUOL... EDIT... EP... ETSY... EVA... EXR... FCPT... FCUV... FLGT... FND... GBOX... GCBC... GH... GME... GMED... GOOG... IDXX... INSW... INTG... INTZ... ISRG... JD... KNSL... KREF... LFMD... LSPD... LULU... MCVT... MDB... MELI... MICS... MNMD... MNST... MSFT... MTCH... MYOV... NSA... NVCR... NVDA... OKTA... OMQS... OPEN... PAC... PANW... PAYC... PETV... PINS... POWW... PRPH... PYPL... QDEL... RA... RBLX... RDFN... RGEN... RIVN... ROKU... RRR... RVLV... RVP... SBOW... SE... SHOP... SNOW... STOR... TASK... TDOC... TEAM... TREX... TTD... TTWO... TWLO... TWTR... TYL... UPST... VEEV... VIRT... VLD... WAVD... WKHS... XPEV... ZEN... ZM... ZYXI... "
     ]
    }
   ],
   "source": [
    "out = []\n",
    "for stock in batch:\n",
    "    print(f'{stock}...', end=' ')\n",
    "    stock_stats = process_stock(stock, data)\n",
    "    out.append([stock, *stock_stats])"
   ]
  },
  {
   "cell_type": "code",
   "execution_count": 29,
   "id": "c186e04d",
   "metadata": {},
   "outputs": [
    {
     "data": {
      "text/html": [
       "<div>\n",
       "<style scoped>\n",
       "    .dataframe tbody tr th:only-of-type {\n",
       "        vertical-align: middle;\n",
       "    }\n",
       "\n",
       "    .dataframe tbody tr th {\n",
       "        vertical-align: top;\n",
       "    }\n",
       "\n",
       "    .dataframe thead th {\n",
       "        text-align: right;\n",
       "    }\n",
       "</style>\n",
       "<table border=\"1\" class=\"dataframe\">\n",
       "  <thead>\n",
       "    <tr style=\"text-align: right;\">\n",
       "      <th></th>\n",
       "      <th>stock</th>\n",
       "      <th>direction</th>\n",
       "      <th>RSI</th>\n",
       "      <th>RSIRev</th>\n",
       "      <th>fair_value_mult</th>\n",
       "      <th>dev_quantile</th>\n",
       "      <th>drop</th>\n",
       "      <th>climb</th>\n",
       "      <th>geomean</th>\n",
       "      <th>score</th>\n",
       "      <th>sharpe</th>\n",
       "      <th>weighted_sharpe</th>\n",
       "    </tr>\n",
       "  </thead>\n",
       "  <tbody>\n",
       "    <tr>\n",
       "      <th>0</th>\n",
       "      <td>AAPL</td>\n",
       "      <td>0</td>\n",
       "      <td>0.110356</td>\n",
       "      <td>0.889644</td>\n",
       "      <td>0.446123</td>\n",
       "      <td>0.446123</td>\n",
       "      <td>0.160602</td>\n",
       "      <td>0.278126</td>\n",
       "      <td>0.211347</td>\n",
       "      <td>0.307062</td>\n",
       "      <td>0.820850</td>\n",
       "      <td>-0.914197</td>\n",
       "    </tr>\n",
       "    <tr>\n",
       "      <th>1</th>\n",
       "      <td>ABM</td>\n",
       "      <td>0</td>\n",
       "      <td>0.039200</td>\n",
       "      <td>0.960800</td>\n",
       "      <td>0.031424</td>\n",
       "      <td>0.031424</td>\n",
       "      <td>0.071130</td>\n",
       "      <td>0.233054</td>\n",
       "      <td>0.128752</td>\n",
       "      <td>0.063607</td>\n",
       "      <td>0.424308</td>\n",
       "      <td>-0.127977</td>\n",
       "    </tr>\n",
       "    <tr>\n",
       "      <th>2</th>\n",
       "      <td>ABMD</td>\n",
       "      <td>0</td>\n",
       "      <td>0.173930</td>\n",
       "      <td>0.826070</td>\n",
       "      <td>0.174155</td>\n",
       "      <td>0.174155</td>\n",
       "      <td>0.186115</td>\n",
       "      <td>0.247177</td>\n",
       "      <td>0.214484</td>\n",
       "      <td>0.193270</td>\n",
       "      <td>0.790003</td>\n",
       "      <td>-0.857291</td>\n",
       "    </tr>\n",
       "    <tr>\n",
       "      <th>3</th>\n",
       "      <td>ABNB</td>\n",
       "      <td>1</td>\n",
       "      <td>0.596288</td>\n",
       "      <td>0.403712</td>\n",
       "      <td>0.456180</td>\n",
       "      <td>0.456180</td>\n",
       "      <td>0.323988</td>\n",
       "      <td>0.884735</td>\n",
       "      <td>0.535391</td>\n",
       "      <td>0.494201</td>\n",
       "      <td>0.092186</td>\n",
       "      <td>-0.826789</td>\n",
       "    </tr>\n",
       "    <tr>\n",
       "      <th>4</th>\n",
       "      <td>ADBE</td>\n",
       "      <td>0</td>\n",
       "      <td>0.000800</td>\n",
       "      <td>0.999200</td>\n",
       "      <td>0.001988</td>\n",
       "      <td>0.001988</td>\n",
       "      <td>0.023003</td>\n",
       "      <td>0.007528</td>\n",
       "      <td>0.013159</td>\n",
       "      <td>0.005115</td>\n",
       "      <td>0.866815</td>\n",
       "      <td>-1.263878</td>\n",
       "    </tr>\n",
       "  </tbody>\n",
       "</table>\n",
       "</div>"
      ],
      "text/plain": [
       "  stock  direction       RSI    RSIRev  fair_value_mult  dev_quantile  \\\n",
       "0  AAPL          0  0.110356  0.889644         0.446123      0.446123   \n",
       "1   ABM          0  0.039200  0.960800         0.031424      0.031424   \n",
       "2  ABMD          0  0.173930  0.826070         0.174155      0.174155   \n",
       "3  ABNB          1  0.596288  0.403712         0.456180      0.456180   \n",
       "4  ADBE          0  0.000800  0.999200         0.001988      0.001988   \n",
       "\n",
       "       drop     climb   geomean     score    sharpe  weighted_sharpe  \n",
       "0  0.160602  0.278126  0.211347  0.307062  0.820850        -0.914197  \n",
       "1  0.071130  0.233054  0.128752  0.063607  0.424308        -0.127977  \n",
       "2  0.186115  0.247177  0.214484  0.193270  0.790003        -0.857291  \n",
       "3  0.323988  0.884735  0.535391  0.494201  0.092186        -0.826789  \n",
       "4  0.023003  0.007528  0.013159  0.005115  0.866815        -1.263878  "
      ]
     },
     "execution_count": 29,
     "metadata": {},
     "output_type": "execute_result"
    }
   ],
   "source": [
    "out_df = pd.DataFrame(\n",
    "    data=out, \n",
    "    columns=[\n",
    "        'stock', 'direction', 'RSI', 'fair_value_mult', 'dev_quantile',\n",
    "        'drop','climb', 'sharpe', 'weighted_sharpe'])\n",
    "out_df['geomean'] = np.sqrt(out_df['drop'] * out_df.climb)\n",
    "out_df['score'] = (\n",
    "    out_df.fair_value_mult\n",
    "    * out_df.dev_quantile\n",
    "    * out_df['drop']\n",
    "    * out_df.climb) ** (1/4) \n",
    "out_df['RSIRev'] = 1 - out_df.RSI\n",
    "out_df = out_df[\n",
    "    ['stock', 'direction', 'RSI', 'RSIRev', 'fair_value_mult', \n",
    "     'dev_quantile', 'drop', 'climb', 'geomean', 'score',  'sharpe',\n",
    "     'weighted_sharpe']]\n",
    "out_df.RSI.fillna(out_df.RSI.median())\n",
    "out_df.RSIRev.fillna(out_df.RSIRev.median())\n",
    "\n",
    "out_df.sort_values('stock')\n",
    "out_df.head()"
   ]
  },
  {
   "cell_type": "code",
   "execution_count": 30,
   "id": "166a0cf2",
   "metadata": {},
   "outputs": [
    {
     "data": {
      "text/plain": [
       "0.05    0.014883\n",
       "0.99    0.947655\n",
       "Name: geomean, dtype: float64"
      ]
     },
     "execution_count": 30,
     "metadata": {},
     "output_type": "execute_result"
    }
   ],
   "source": [
    "out_df.geomean.quantile([0.05, 0.99])"
   ]
  },
  {
   "cell_type": "code",
   "execution_count": 31,
   "id": "bbd1ecad",
   "metadata": {},
   "outputs": [],
   "source": [
    "out_df.to_csv('individ_quantiles.csv', index=False)"
   ]
  },
  {
   "cell_type": "code",
   "execution_count": 32,
   "id": "cbc0955c",
   "metadata": {},
   "outputs": [],
   "source": [
    "!open individ_quantiles.csv"
   ]
  },
  {
   "cell_type": "code",
   "execution_count": null,
   "id": "169e4685",
   "metadata": {},
   "outputs": [],
   "source": []
  },
  {
   "cell_type": "code",
   "execution_count": null,
   "id": "5de37386",
   "metadata": {},
   "outputs": [],
   "source": []
  }
 ],
 "metadata": {
  "kernelspec": {
   "display_name": "Python 3 (ipykernel)",
   "language": "python",
   "name": "python3"
  },
  "language_info": {
   "codemirror_mode": {
    "name": "ipython",
    "version": 3
   },
   "file_extension": ".py",
   "mimetype": "text/x-python",
   "name": "python",
   "nbconvert_exporter": "python",
   "pygments_lexer": "ipython3",
   "version": "3.10.6"
  }
 },
 "nbformat": 4,
 "nbformat_minor": 5
}
