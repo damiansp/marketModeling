{
 "cells": [
  {
   "cell_type": "code",
   "execution_count": 1,
   "id": "02efc0e6",
   "metadata": {},
   "outputs": [],
   "source": [
    "from datetime import datetime, timedelta\n",
    "import sys\n",
    "\n",
    "import matplotlib.pyplot as plt\n",
    "import numpy as np\n",
    "import pandas as pd\n",
    "import yfinance as yf\n",
    "\n",
    "sys.path.append('..')\n",
    "from util.batcher import Batcher\n",
    "#from util.stock_loader import Loader"
   ]
  },
  {
   "cell_type": "code",
   "execution_count": 2,
   "id": "3ac57a6e",
   "metadata": {},
   "outputs": [
    {
     "data": {
      "text/plain": [
       "datetime.date(2022, 10, 15)"
      ]
     },
     "execution_count": 2,
     "metadata": {},
     "output_type": "execute_result"
    }
   ],
   "source": [
    "TODAY = datetime.now().date()\n",
    "TOMORROW  = TODAY + timedelta(1)\n",
    "TOMORROW"
   ]
  },
  {
   "cell_type": "code",
   "execution_count": 3,
   "id": "ae63c545",
   "metadata": {},
   "outputs": [
    {
     "data": {
      "text/html": [
       "<div>\n",
       "<style scoped>\n",
       "    .dataframe tbody tr th:only-of-type {\n",
       "        vertical-align: middle;\n",
       "    }\n",
       "\n",
       "    .dataframe tbody tr th {\n",
       "        vertical-align: top;\n",
       "    }\n",
       "\n",
       "    .dataframe thead th {\n",
       "        text-align: right;\n",
       "    }\n",
       "</style>\n",
       "<table border=\"1\" class=\"dataframe\">\n",
       "  <thead>\n",
       "    <tr style=\"text-align: right;\">\n",
       "      <th></th>\n",
       "      <th>Date</th>\n",
       "      <th>sp</th>\n",
       "      <th>sp_daily</th>\n",
       "      <th>sp_exp</th>\n",
       "      <th>nyse</th>\n",
       "      <th>nyse_daily</th>\n",
       "      <th>nyse_exp</th>\n",
       "      <th>nas</th>\n",
       "      <th>nas_daily</th>\n",
       "      <th>nas_exp</th>\n",
       "      <th>wil</th>\n",
       "      <th>wil_daily</th>\n",
       "      <th>wil_exp</th>\n",
       "      <th>mean_exp</th>\n",
       "      <th>state</th>\n",
       "    </tr>\n",
       "    <tr>\n",
       "      <th>Date</th>\n",
       "      <th></th>\n",
       "      <th></th>\n",
       "      <th></th>\n",
       "      <th></th>\n",
       "      <th></th>\n",
       "      <th></th>\n",
       "      <th></th>\n",
       "      <th></th>\n",
       "      <th></th>\n",
       "      <th></th>\n",
       "      <th></th>\n",
       "      <th></th>\n",
       "      <th></th>\n",
       "      <th></th>\n",
       "      <th></th>\n",
       "    </tr>\n",
       "  </thead>\n",
       "  <tbody>\n",
       "    <tr>\n",
       "      <th>2022-10-10</th>\n",
       "      <td>2022-10-10</td>\n",
       "      <td>3612.389893</td>\n",
       "      <td>0.992508</td>\n",
       "      <td>0.999998</td>\n",
       "      <td>13693.570312</td>\n",
       "      <td>0.992413</td>\n",
       "      <td>0.99982</td>\n",
       "      <td>10542.099609</td>\n",
       "      <td>0.989645</td>\n",
       "      <td>1.000432</td>\n",
       "      <td>36126.320312</td>\n",
       "      <td>0.991940</td>\n",
       "      <td>1.000332</td>\n",
       "      <td>1.000145</td>\n",
       "      <td>1</td>\n",
       "    </tr>\n",
       "    <tr>\n",
       "      <th>2022-10-11</th>\n",
       "      <td>2022-10-11</td>\n",
       "      <td>3588.840088</td>\n",
       "      <td>0.993481</td>\n",
       "      <td>0.999998</td>\n",
       "      <td>13608.089844</td>\n",
       "      <td>0.993758</td>\n",
       "      <td>0.99982</td>\n",
       "      <td>10426.190430</td>\n",
       "      <td>0.989005</td>\n",
       "      <td>1.000432</td>\n",
       "      <td>35911.761719</td>\n",
       "      <td>0.994061</td>\n",
       "      <td>1.000332</td>\n",
       "      <td>1.000145</td>\n",
       "      <td>1</td>\n",
       "    </tr>\n",
       "    <tr>\n",
       "      <th>2022-10-12</th>\n",
       "      <td>2022-10-12</td>\n",
       "      <td>3577.030029</td>\n",
       "      <td>0.996709</td>\n",
       "      <td>0.999998</td>\n",
       "      <td>13546.799805</td>\n",
       "      <td>0.995496</td>\n",
       "      <td>0.99982</td>\n",
       "      <td>10417.099609</td>\n",
       "      <td>0.999128</td>\n",
       "      <td>1.000432</td>\n",
       "      <td>35809.679688</td>\n",
       "      <td>0.997157</td>\n",
       "      <td>1.000332</td>\n",
       "      <td>1.000145</td>\n",
       "      <td>1</td>\n",
       "    </tr>\n",
       "    <tr>\n",
       "      <th>2022-10-13</th>\n",
       "      <td>2022-10-13</td>\n",
       "      <td>3669.909912</td>\n",
       "      <td>1.025966</td>\n",
       "      <td>0.999998</td>\n",
       "      <td>13888.969727</td>\n",
       "      <td>1.025258</td>\n",
       "      <td>0.99982</td>\n",
       "      <td>10649.150391</td>\n",
       "      <td>1.022276</td>\n",
       "      <td>1.000432</td>\n",
       "      <td>36672.738281</td>\n",
       "      <td>1.024101</td>\n",
       "      <td>1.000332</td>\n",
       "      <td>1.000145</td>\n",
       "      <td>1</td>\n",
       "    </tr>\n",
       "    <tr>\n",
       "      <th>2022-10-14</th>\n",
       "      <td>2022-10-14</td>\n",
       "      <td>3583.070068</td>\n",
       "      <td>0.976337</td>\n",
       "      <td>0.999998</td>\n",
       "      <td>13607.306641</td>\n",
       "      <td>0.979720</td>\n",
       "      <td>0.99982</td>\n",
       "      <td>10321.388672</td>\n",
       "      <td>0.969222</td>\n",
       "      <td>1.000432</td>\n",
       "      <td>35778.628906</td>\n",
       "      <td>0.975619</td>\n",
       "      <td>1.000332</td>\n",
       "      <td>1.000145</td>\n",
       "      <td>1</td>\n",
       "    </tr>\n",
       "  </tbody>\n",
       "</table>\n",
       "</div>"
      ],
      "text/plain": [
       "                  Date           sp  sp_daily    sp_exp          nyse  \\\n",
       "Date                                                                    \n",
       "2022-10-10  2022-10-10  3612.389893  0.992508  0.999998  13693.570312   \n",
       "2022-10-11  2022-10-11  3588.840088  0.993481  0.999998  13608.089844   \n",
       "2022-10-12  2022-10-12  3577.030029  0.996709  0.999998  13546.799805   \n",
       "2022-10-13  2022-10-13  3669.909912  1.025966  0.999998  13888.969727   \n",
       "2022-10-14  2022-10-14  3583.070068  0.976337  0.999998  13607.306641   \n",
       "\n",
       "            nyse_daily  nyse_exp           nas  nas_daily   nas_exp  \\\n",
       "Date                                                                  \n",
       "2022-10-10    0.992413   0.99982  10542.099609   0.989645  1.000432   \n",
       "2022-10-11    0.993758   0.99982  10426.190430   0.989005  1.000432   \n",
       "2022-10-12    0.995496   0.99982  10417.099609   0.999128  1.000432   \n",
       "2022-10-13    1.025258   0.99982  10649.150391   1.022276  1.000432   \n",
       "2022-10-14    0.979720   0.99982  10321.388672   0.969222  1.000432   \n",
       "\n",
       "                     wil  wil_daily   wil_exp  mean_exp  state  \n",
       "Date                                                            \n",
       "2022-10-10  36126.320312   0.991940  1.000332  1.000145      1  \n",
       "2022-10-11  35911.761719   0.994061  1.000332  1.000145      1  \n",
       "2022-10-12  35809.679688   0.997157  1.000332  1.000145      1  \n",
       "2022-10-13  36672.738281   1.024101  1.000332  1.000145      1  \n",
       "2022-10-14  35778.628906   0.975619  1.000332  1.000145      1  "
      ]
     },
     "execution_count": 3,
     "metadata": {},
     "output_type": "execute_result"
    }
   ],
   "source": [
    "DATA = '../data'\n",
    "\n",
    "sp1950 = pd.read_csv(f'{DATA}/sp1950.csv')\n",
    "nya1965 = pd.read_csv(f'{DATA}/nya1965.csv')\n",
    "nasdaq1965 = pd.read_csv(f'{DATA}/nasdaq1965.csv')\n",
    "wilshire1990 = pd.read_csv(f'{DATA}/wilshire1990.csv')\n",
    "\n",
    "\n",
    "nasdaq1965.tail()\n",
    "states = pd.read_csv(f'{DATA}/hmm_exp_returns.csv')\n",
    "states.index = pd.to_datetime(states.Date)\n",
    "states.tail()"
   ]
  },
  {
   "cell_type": "code",
   "execution_count": 4,
   "id": "e17c1f04",
   "metadata": {},
   "outputs": [
    {
     "data": {
      "text/plain": [
       "75"
      ]
     },
     "execution_count": 4,
     "metadata": {},
     "output_type": "execute_result"
    }
   ],
   "source": [
    "SYMBOLS = [\n",
    "    'AAPL', 'ABMD', 'ABNB', 'ADBE', 'ADYEY', 'AMD', 'AMGN', 'AMZN',\n",
    "    'ANET', 'ASML', 'AXON', 'BROS', 'BYND', 'CHWY', 'CRWD', 'DDOG',\n",
    "    'DOCS', 'DOCU', 'DUOL', 'EDIT', 'ETSY', 'FLGT', 'GH', 'GMED',\n",
    "    'GOOG', 'IDXX', 'INTG', 'ISRG', 'JD', 'LRCX', 'LSPD', 'LULU', 'MDB',\n",
    "    'MELI', 'MNST', 'MSFT', 'MTCH', 'NVCR', 'NVDA', 'ODFL', 'OKTA',\n",
    "    'OPEN', 'PAC', 'PANW', 'PAYC', 'PINS', 'PTON', 'PYPL', 'QDEL',\n",
    "    'RBLX', 'RDFN', 'RGEN', 'RIVN', 'ROKU', 'RVLV', 'SE', 'SHOP',\n",
    "    'SNOW', 'TASK', 'TDOC', 'TEAM', 'TREX', 'TSLA', 'TTD', 'TTWO',\n",
    "    'TWLO', 'TWTR', 'TYL', 'UPST', 'VEEV', 'VLD', 'VRTX', 'XPEV', 'ZEN',\n",
    "    'ZM']\n",
    "LINGERERS = [\n",
    "    'AMEH', 'AMRK', 'APT', 'BTTR', 'BYRN', 'CIZN', 'CUBE', 'DTST',\n",
    "    'DYAI', 'EP', 'FCPT', 'FCUV', 'GBOX', 'GME', 'HMY', 'IEI', 'INTZ',\n",
    "    'KREF', 'MCVT', 'MICS', 'MNMD', 'OMQS', 'PETV', 'POWW', 'PRPH',\n",
    "    'RVP', 'VIRT', 'WAVD', 'WKHS', 'ZYXI']\n",
    "BEST_WEIGHTED = [\n",
    "    'AMRC', 'COOP', 'CSIQ', 'CTSH', 'CVE', 'ENPH', 'EPSN', 'FKWL',\n",
    "    'GCBC', 'GGB', 'GGE', 'LFMD', 'NTAP', 'PACB', 'SNEX', 'SOBR', 'TJX',\n",
    "    'UTHR', 'VTSI']\n",
    "len(SYMBOLS)"
   ]
  },
  {
   "cell_type": "code",
   "execution_count": 5,
   "id": "34811b61",
   "metadata": {},
   "outputs": [
    {
     "data": {
      "text/plain": [
       "(datetime.date(2012, 10, 17), datetime.date(2022, 10, 15))"
      ]
     },
     "execution_count": 5,
     "metadata": {},
     "output_type": "execute_result"
    }
   ],
   "source": [
    "TODAY = (datetime.now() + timedelta(1)).date()\n",
    "YEARS_OF_DATA = 10\n",
    "START = TODAY - timedelta(YEARS_OF_DATA * 365)\n",
    "START, TODAY"
   ]
  },
  {
   "cell_type": "code",
   "execution_count": 6,
   "id": "80b6d36b",
   "metadata": {},
   "outputs": [],
   "source": [
    "batch = sorted(list(set(SYMBOLS + LINGERERS + BEST_WEIGHTED)))"
   ]
  },
  {
   "cell_type": "code",
   "execution_count": 7,
   "id": "d1345c46",
   "metadata": {},
   "outputs": [
    {
     "name": "stdout",
     "output_type": "stream",
     "text": [
      "[*********************100%***********************]  124 of 124 completed\n"
     ]
    }
   ],
   "source": [
    "data = (\n",
    "    yf\n",
    "    .download(batch, start=START, end=TODAY)\n",
    "    .rename(columns={'Adj Close': 'AdjClose'})\n",
    "    .sort_index())"
   ]
  },
  {
   "cell_type": "code",
   "execution_count": 8,
   "id": "40dbe3b7",
   "metadata": {},
   "outputs": [
    {
     "data": {
      "text/html": [
       "<div>\n",
       "<style scoped>\n",
       "    .dataframe tbody tr th:only-of-type {\n",
       "        vertical-align: middle;\n",
       "    }\n",
       "\n",
       "    .dataframe tbody tr th {\n",
       "        vertical-align: top;\n",
       "    }\n",
       "\n",
       "    .dataframe thead tr th {\n",
       "        text-align: left;\n",
       "    }\n",
       "\n",
       "    .dataframe thead tr:last-of-type th {\n",
       "        text-align: right;\n",
       "    }\n",
       "</style>\n",
       "<table border=\"1\" class=\"dataframe\">\n",
       "  <thead>\n",
       "    <tr>\n",
       "      <th></th>\n",
       "      <th colspan=\"10\" halign=\"left\">AdjClose</th>\n",
       "      <th>...</th>\n",
       "      <th colspan=\"9\" halign=\"left\">Volume</th>\n",
       "      <th>state</th>\n",
       "    </tr>\n",
       "    <tr>\n",
       "      <th></th>\n",
       "      <th>AAPL</th>\n",
       "      <th>ABMD</th>\n",
       "      <th>ABNB</th>\n",
       "      <th>ADBE</th>\n",
       "      <th>ADYEY</th>\n",
       "      <th>AMD</th>\n",
       "      <th>AMEH</th>\n",
       "      <th>AMGN</th>\n",
       "      <th>AMRC</th>\n",
       "      <th>AMRK</th>\n",
       "      <th>...</th>\n",
       "      <th>VLD</th>\n",
       "      <th>VRTX</th>\n",
       "      <th>VTSI</th>\n",
       "      <th>WAVD</th>\n",
       "      <th>WKHS</th>\n",
       "      <th>XPEV</th>\n",
       "      <th>ZEN</th>\n",
       "      <th>ZM</th>\n",
       "      <th>ZYXI</th>\n",
       "      <th></th>\n",
       "    </tr>\n",
       "    <tr>\n",
       "      <th>Date</th>\n",
       "      <th></th>\n",
       "      <th></th>\n",
       "      <th></th>\n",
       "      <th></th>\n",
       "      <th></th>\n",
       "      <th></th>\n",
       "      <th></th>\n",
       "      <th></th>\n",
       "      <th></th>\n",
       "      <th></th>\n",
       "      <th></th>\n",
       "      <th></th>\n",
       "      <th></th>\n",
       "      <th></th>\n",
       "      <th></th>\n",
       "      <th></th>\n",
       "      <th></th>\n",
       "      <th></th>\n",
       "      <th></th>\n",
       "      <th></th>\n",
       "      <th></th>\n",
       "    </tr>\n",
       "  </thead>\n",
       "  <tbody>\n",
       "    <tr>\n",
       "      <th>2022-10-10</th>\n",
       "      <td>140.419998</td>\n",
       "      <td>247.029999</td>\n",
       "      <td>110.989998</td>\n",
       "      <td>285.720001</td>\n",
       "      <td>12.27</td>\n",
       "      <td>57.810001</td>\n",
       "      <td>33.630001</td>\n",
       "      <td>232.149994</td>\n",
       "      <td>62.349998</td>\n",
       "      <td>28.000000</td>\n",
       "      <td>...</td>\n",
       "      <td>1543700.0</td>\n",
       "      <td>835000</td>\n",
       "      <td>8100</td>\n",
       "      <td>93100</td>\n",
       "      <td>3119200</td>\n",
       "      <td>22884000.0</td>\n",
       "      <td>1585900.0</td>\n",
       "      <td>4777500.0</td>\n",
       "      <td>90100</td>\n",
       "      <td>1</td>\n",
       "    </tr>\n",
       "    <tr>\n",
       "      <th>2022-10-11</th>\n",
       "      <td>138.979996</td>\n",
       "      <td>243.139999</td>\n",
       "      <td>106.820000</td>\n",
       "      <td>284.829987</td>\n",
       "      <td>12.10</td>\n",
       "      <td>57.630001</td>\n",
       "      <td>33.540001</td>\n",
       "      <td>245.440002</td>\n",
       "      <td>62.500000</td>\n",
       "      <td>27.320000</td>\n",
       "      <td>...</td>\n",
       "      <td>1930300.0</td>\n",
       "      <td>1261200</td>\n",
       "      <td>11000</td>\n",
       "      <td>100400</td>\n",
       "      <td>2710600</td>\n",
       "      <td>30129500.0</td>\n",
       "      <td>2558700.0</td>\n",
       "      <td>5389700.0</td>\n",
       "      <td>105100</td>\n",
       "      <td>1</td>\n",
       "    </tr>\n",
       "    <tr>\n",
       "      <th>2022-10-12</th>\n",
       "      <td>138.339996</td>\n",
       "      <td>242.770004</td>\n",
       "      <td>112.349998</td>\n",
       "      <td>286.149994</td>\n",
       "      <td>12.24</td>\n",
       "      <td>57.849998</td>\n",
       "      <td>32.680000</td>\n",
       "      <td>246.440002</td>\n",
       "      <td>62.240002</td>\n",
       "      <td>27.200001</td>\n",
       "      <td>...</td>\n",
       "      <td>1063600.0</td>\n",
       "      <td>928500</td>\n",
       "      <td>12900</td>\n",
       "      <td>15100</td>\n",
       "      <td>2775200</td>\n",
       "      <td>22799000.0</td>\n",
       "      <td>1114500.0</td>\n",
       "      <td>3941000.0</td>\n",
       "      <td>68200</td>\n",
       "      <td>1</td>\n",
       "    </tr>\n",
       "    <tr>\n",
       "      <th>2022-10-13</th>\n",
       "      <td>142.990005</td>\n",
       "      <td>258.079987</td>\n",
       "      <td>112.650002</td>\n",
       "      <td>294.739990</td>\n",
       "      <td>12.45</td>\n",
       "      <td>58.939999</td>\n",
       "      <td>33.320000</td>\n",
       "      <td>251.660004</td>\n",
       "      <td>63.299999</td>\n",
       "      <td>28.190001</td>\n",
       "      <td>...</td>\n",
       "      <td>1221900.0</td>\n",
       "      <td>1124500</td>\n",
       "      <td>14400</td>\n",
       "      <td>12500</td>\n",
       "      <td>3426800</td>\n",
       "      <td>25180500.0</td>\n",
       "      <td>865600.0</td>\n",
       "      <td>5754500.0</td>\n",
       "      <td>121900</td>\n",
       "      <td>1</td>\n",
       "    </tr>\n",
       "    <tr>\n",
       "      <th>2022-10-14</th>\n",
       "      <td>138.380005</td>\n",
       "      <td>249.279999</td>\n",
       "      <td>109.160004</td>\n",
       "      <td>287.940002</td>\n",
       "      <td>12.25</td>\n",
       "      <td>55.939999</td>\n",
       "      <td>31.500000</td>\n",
       "      <td>251.339996</td>\n",
       "      <td>61.459999</td>\n",
       "      <td>26.440001</td>\n",
       "      <td>...</td>\n",
       "      <td>833518.0</td>\n",
       "      <td>1027720</td>\n",
       "      <td>9649</td>\n",
       "      <td>18086</td>\n",
       "      <td>3343575</td>\n",
       "      <td>30502943.0</td>\n",
       "      <td>696797.0</td>\n",
       "      <td>2830279.0</td>\n",
       "      <td>75971</td>\n",
       "      <td>1</td>\n",
       "    </tr>\n",
       "  </tbody>\n",
       "</table>\n",
       "<p>5 rows × 745 columns</p>\n",
       "</div>"
      ],
      "text/plain": [
       "              AdjClose                                                        \\\n",
       "                  AAPL        ABMD        ABNB        ADBE  ADYEY        AMD   \n",
       "Date                                                                           \n",
       "2022-10-10  140.419998  247.029999  110.989998  285.720001  12.27  57.810001   \n",
       "2022-10-11  138.979996  243.139999  106.820000  284.829987  12.10  57.630001   \n",
       "2022-10-12  138.339996  242.770004  112.349998  286.149994  12.24  57.849998   \n",
       "2022-10-13  142.990005  258.079987  112.650002  294.739990  12.45  58.939999   \n",
       "2022-10-14  138.380005  249.279999  109.160004  287.940002  12.25  55.939999   \n",
       "\n",
       "                                                         ...     Volume  \\\n",
       "                 AMEH        AMGN       AMRC       AMRK  ...        VLD   \n",
       "Date                                                     ...              \n",
       "2022-10-10  33.630001  232.149994  62.349998  28.000000  ...  1543700.0   \n",
       "2022-10-11  33.540001  245.440002  62.500000  27.320000  ...  1930300.0   \n",
       "2022-10-12  32.680000  246.440002  62.240002  27.200001  ...  1063600.0   \n",
       "2022-10-13  33.320000  251.660004  63.299999  28.190001  ...  1221900.0   \n",
       "2022-10-14  31.500000  251.339996  61.459999  26.440001  ...   833518.0   \n",
       "\n",
       "                                                                               \\\n",
       "               VRTX   VTSI    WAVD     WKHS        XPEV        ZEN         ZM   \n",
       "Date                                                                            \n",
       "2022-10-10   835000   8100   93100  3119200  22884000.0  1585900.0  4777500.0   \n",
       "2022-10-11  1261200  11000  100400  2710600  30129500.0  2558700.0  5389700.0   \n",
       "2022-10-12   928500  12900   15100  2775200  22799000.0  1114500.0  3941000.0   \n",
       "2022-10-13  1124500  14400   12500  3426800  25180500.0   865600.0  5754500.0   \n",
       "2022-10-14  1027720   9649   18086  3343575  30502943.0   696797.0  2830279.0   \n",
       "\n",
       "                   state  \n",
       "              ZYXI        \n",
       "Date                      \n",
       "2022-10-10   90100     1  \n",
       "2022-10-11  105100     1  \n",
       "2022-10-12   68200     1  \n",
       "2022-10-13  121900     1  \n",
       "2022-10-14   75971     1  \n",
       "\n",
       "[5 rows x 745 columns]"
      ]
     },
     "execution_count": 8,
     "metadata": {},
     "output_type": "execute_result"
    }
   ],
   "source": [
    "data['state'] = states.state\n",
    "data.tail()"
   ]
  },
  {
   "cell_type": "code",
   "execution_count": 9,
   "id": "e5c4b52b",
   "metadata": {},
   "outputs": [
    {
     "data": {
      "text/plain": [
       "[0, 1, 2, 3, 4, 5, 6, 7]"
      ]
     },
     "execution_count": 9,
     "metadata": {},
     "output_type": "execute_result"
    }
   ],
   "source": [
    "STATES = sorted(states.state.unique())\n",
    "STATES"
   ]
  },
  {
   "cell_type": "code",
   "execution_count": 10,
   "id": "1ba79e9a",
   "metadata": {},
   "outputs": [
    {
     "data": {
      "text/plain": [
       "1"
      ]
     },
     "execution_count": 10,
     "metadata": {},
     "output_type": "execute_result"
    }
   ],
   "source": [
    "CURRENT_STATE = states.state[-1]\n",
    "CURRENT_STATE"
   ]
  },
  {
   "cell_type": "code",
   "execution_count": 11,
   "id": "c86a6728",
   "metadata": {},
   "outputs": [],
   "source": [
    "def get_stock_data(stock, data):\n",
    "    sub = data.loc[\n",
    "        :,  \n",
    "        [x for x in list(data) if x[1] == stock]]\n",
    "    first_value = (\n",
    "        sub.AdjClose[stock][sub.AdjClose[stock].notna()].index[0])\n",
    "    sub = sub.loc[first_value:, :]\n",
    "    sub.columns = sub.columns.to_series().apply(lambda x: x[0])\n",
    "    sub.fillna(method='ffill', inplace=True)\n",
    "    return sub"
   ]
  },
  {
   "cell_type": "code",
   "execution_count": 12,
   "id": "fc00b33a",
   "metadata": {},
   "outputs": [],
   "source": [
    "def get_daily_returns(x):\n",
    "    idx = x.index\n",
    "    n = len(x)\n",
    "    x = np.array(x)\n",
    "    #return x[2:n] / x[1:(n - 1)] - 1 \n",
    "    returns = x[1:n] / x[0:(n-1)] - 1\n",
    "    returns = pd.Series(returns, index=idx[1:])\n",
    "    return returns"
   ]
  },
  {
   "cell_type": "code",
   "execution_count": 13,
   "id": "418e9299",
   "metadata": {},
   "outputs": [],
   "source": [
    "def get_sharpe(returns, window=None):\n",
    "    n = len(returns)\n",
    "    if window is None:\n",
    "        window = n\n",
    "    if len(returns) > window:\n",
    "        returns = returns[(n - window):n]\n",
    "    returns = returns[~np.isnan(returns)]\n",
    "    sharpe = (np.sqrt(252) * returns.mean()) / returns.std()\n",
    "    return sharpe"
   ]
  },
  {
   "cell_type": "code",
   "execution_count": 14,
   "id": "aea65630",
   "metadata": {},
   "outputs": [],
   "source": [
    "def get_hedged_sharpe(daily_returns, data):\n",
    "    state_sharpe = get_sharpe(\n",
    "        daily_returns[data.state == CURRENT_STATE])\n",
    "    lower_state_sharpe = get_sharpe(\n",
    "        daily_returns[data.state == max(CURRENT_STATE - 1, 0)])\n",
    "    upper_state_sharpe = get_sharpe(\n",
    "        daily_returns[\n",
    "            data.state == min(CURRENT_STATE + 1, max(STATES))])\n",
    "    return min(state_sharpe, lower_state_sharpe, upper_state_sharpe)"
   ]
  },
  {
   "cell_type": "code",
   "execution_count": 15,
   "id": "aeb3fdc4",
   "metadata": {},
   "outputs": [],
   "source": [
    "def get_weighted_sharpe(daily_returns, data, weights=[0.2, 0.6, 0.2]):\n",
    "    state_sharpe = get_sharpe(\n",
    "        daily_returns[data.state == CURRENT_STATE])\n",
    "    lower_state_sharpe = get_sharpe(\n",
    "        daily_returns[data.state == max(CURRENT_STATE - 1, 0)])\n",
    "    upper_state_sharpe = get_sharpe(\n",
    "        daily_returns[\n",
    "            data.state == min(CURRENT_STATE + 1, max(STATES))])\n",
    "    return (\n",
    "        weights[0]*lower_state_sharpe\n",
    "        + weights[1]*state_sharpe\n",
    "        + weights[2]*upper_state_sharpe)"
   ]
  },
  {
   "cell_type": "code",
   "execution_count": 16,
   "id": "c4d498cb",
   "metadata": {},
   "outputs": [],
   "source": [
    "def rescale(a):\n",
    "    a = a - a.min()\n",
    "    a = a / a.max()\n",
    "    return a"
   ]
  },
  {
   "cell_type": "code",
   "execution_count": 17,
   "id": "d37ae8da",
   "metadata": {},
   "outputs": [],
   "source": [
    "def vals_to_quantiles(a):\n",
    "    n = len(a)\n",
    "    qs = np.linspace(0, 1, n)\n",
    "    order = np.argsort(a)\n",
    "    out = qs[order]\n",
    "    return out"
   ]
  },
  {
   "cell_type": "code",
   "execution_count": 18,
   "id": "d0c38483",
   "metadata": {},
   "outputs": [],
   "source": [
    "def get_rsi(stock_data, window=14):\n",
    "    df = stock_data.copy()\n",
    "    df['deltas'] = df.AdjClose.diff(1)\n",
    "    df['gains'] = df.deltas.clip(lower=0)\n",
    "    df['losses'] = df.deltas.clip(upper=0).abs()\n",
    "    df['avg_gain'] = (df.gains\n",
    "                      .rolling(window=window, min_periods=window)\n",
    "                      .mean()[:window + 1])\n",
    "    df['avg_loss'] = (df.losses\n",
    "                      .rolling(window=window, min_periods=window)\n",
    "                      .mean()[:window + 1])\n",
    "    \n",
    "    # avg gains\n",
    "    pd.options.mode.chained_assignment = None\n",
    "    for i, row in enumerate(df.avg_gain.iloc[window + 1:]):\n",
    "        df.avg_gain.iloc[i + window + 1] = (\n",
    "            (df.avg_gain.iloc[i + window] * (window - 1) \n",
    "             + df.gains.iloc[i + window + 1]) \n",
    "            / window)\n",
    "    # avg losses\n",
    "    for i, row in enumerate(df.avg_loss.iloc[window + 1:]):\n",
    "        df.avg_loss.iloc[i + window + 1] = (\n",
    "            (df.avg_loss.iloc[i + window] * (window - 1)\n",
    "             + df.losses.iloc[i + window + 1])\n",
    "            / window)\n",
    "    df['rs'] = df.avg_gain / df.avg_loss\n",
    "    df['rsi'] = 100 - (100 / (1. + df.rs))\n",
    "    return df.rsi"
   ]
  },
  {
   "cell_type": "code",
   "execution_count": 19,
   "id": "166912c5",
   "metadata": {},
   "outputs": [],
   "source": [
    "def get_macd(stock_data, fast=60, slow=90, signal=80, plot=False):\n",
    "    df = stock_data.copy()\n",
    "    exp1 = df.AdjClose.ewm(span=fast, adjust=False).mean()\n",
    "    exp2 = df.AdjClose.ewm(span=slow, adjust=False).mean()\n",
    "    macd = exp1 - exp2\n",
    "    exp3 = macd.ewm(span=signal, adjust=False).mean()\n",
    "    histo = macd - exp3\n",
    "    hdiff = histo.diff(1)\n",
    "    is_rising = 1 * (hdiff > 0)\n",
    "    if plot:\n",
    "        plt.plot(macd, label='MACD', color='red')\n",
    "        plt.plot(exp3, label='Signal', color='green')\n",
    "        #plt.xlim(pd.to_datetime('2021-01-01'), \n",
    "        #         pd.to_datetime('2021-10-14'))\n",
    "        plt.legend();\n",
    "        plt.figure()\n",
    "        plt.plot(histo, color='blue')\n",
    "        #plt.xlim(pd.to_datetime('2021-01-01'), \n",
    "        #         pd.to_datetime('2021-10-14'))\n",
    "        plt.axhline(y=0, color='k')\n",
    "        plt.figure()\n",
    "        plt.plot(is_rising)\n",
    "        #plt.xlim(pd.to_datetime('2021-01-01'), \n",
    "        #         pd.to_datetime('2021-10-14'))\n",
    "    return is_rising"
   ]
  },
  {
   "cell_type": "code",
   "execution_count": 20,
   "id": "706e1ec9",
   "metadata": {},
   "outputs": [],
   "source": [
    "LMB = 0.9\n",
    "RSI_WINDOW = 14\n",
    "MACD_PARAMS = (60, 90, 80, False)"
   ]
  },
  {
   "cell_type": "code",
   "execution_count": 21,
   "id": "f66f2539",
   "metadata": {},
   "outputs": [],
   "source": [
    "EXAMPLE = 'AAPL'"
   ]
  },
  {
   "cell_type": "code",
   "execution_count": 22,
   "id": "aa1b4507",
   "metadata": {},
   "outputs": [
    {
     "data": {
      "text/plain": [
       "(0.8190611928499429, 0.5530405202610248)"
      ]
     },
     "execution_count": 22,
     "metadata": {},
     "output_type": "execute_result"
    }
   ],
   "source": [
    "stock_data = get_stock_data(EXAMPLE, data.copy())\n",
    "daily_returns = get_daily_returns(stock_data.AdjClose)\n",
    "daily_returns\n",
    "(get_sharpe(daily_returns), \n",
    " get_sharpe(daily_returns[data.state == CURRENT_STATE]))"
   ]
  },
  {
   "cell_type": "code",
   "execution_count": 23,
   "id": "82d5802e",
   "metadata": {},
   "outputs": [
    {
     "data": {
      "image/png": "[encoded data removed]",
      "text/plain": [
       "<Figure size 432x288 with 1 Axes>"
      ]
     },
     "metadata": {
      "needs_background": "light"
     },
     "output_type": "display_data"
    }
   ],
   "source": [
    "plt.plot(\n",
    "    (get_daily_returns(data[('AdjClose', EXAMPLE)]) + 1).cumprod());"
   ]
  },
  {
   "cell_type": "code",
   "execution_count": 24,
   "id": "7991d24f",
   "metadata": {},
   "outputs": [
    {
     "data": {
      "image/png": "[encoded data removed]",
      "text/plain": [
       "<Figure size 432x288 with 1 Axes>"
      ]
     },
     "metadata": {
      "needs_background": "light"
     },
     "output_type": "display_data"
    }
   ],
   "source": [
    "dr = get_daily_returns(\n",
    "    data[('AdjClose', EXAMPLE)]\n",
    ")[data.state == CURRENT_STATE]\n",
    "dr = dr[dr.notnull()]\n",
    "plt.plot((dr + 1).to_numpy().cumprod());"
   ]
  },
  {
   "cell_type": "code",
   "execution_count": 25,
   "id": "ff56345e",
   "metadata": {},
   "outputs": [
    {
     "data": {
      "text/plain": [
       "-0.15593763555154222"
      ]
     },
     "execution_count": 25,
     "metadata": {},
     "output_type": "execute_result"
    }
   ],
   "source": [
    "get_weighted_sharpe(daily_returns, data.copy())"
   ]
  },
  {
   "cell_type": "code",
   "execution_count": 26,
   "id": "e7e7526a",
   "metadata": {},
   "outputs": [],
   "source": [
    "def process_stock(stock, data, lmb=LMB, plot=False):\n",
    "    stock_data = get_stock_data(stock, data)\n",
    "    n = len(stock_data.AdjClose[~np.isnan(stock_data.AdjClose)])\n",
    "    stock_data['direction'] = get_macd(stock_data, *MACD_PARAMS)\n",
    "    stock_data['rsi'] = get_rsi(stock_data, window=RSI_WINDOW)\n",
    "    stock_data.rsi = stock_data.rsi.rank(pct=True)\n",
    "    daily_returns = get_daily_returns(stock_data.AdjClose)\n",
    "    sharpe = get_sharpe(daily_returns)\n",
    "    #state_sharpe = get_sharpe(\n",
    "    #    daily_returns[data.state == CURRENT_STATE])\n",
    "    #hedged_sharpe = get_hedged_sharpe(daily_returns, data)\n",
    "    weighted_sharpe = get_weighted_sharpe(daily_returns, data)\n",
    "    stock_data.fillna(method='ffill', inplace=True)\n",
    "    stock_data.fillna(method='bfill', inplace=True)\n",
    "    WINDOW = min(n // 2, 125)\n",
    "    stock_data['ann_high'] = (\n",
    "        stock_data.AdjClose.rolling(window=WINDOW).max())\n",
    "    stock_data['ann_low'] = (\n",
    "        stock_data.AdjClose.rolling(window=WINDOW).min())\n",
    "    stock_data['drawdown'] = stock_data.AdjClose / stock_data.ann_high\n",
    "    stock_data.drawdown = stock_data.drawdown.rank(pct=True)\n",
    "    stock_data['pullup'] = stock_data.AdjClose / stock_data.ann_low\n",
    "    stock_data.pullup = stock_data.pullup.rank(pct=True)\n",
    "    w = [lmb ** t for t in range(n)][::-1]\n",
    "    stock_data['W'] = w\n",
    "    stock_data['n_samp'] = (stock_data.Volume / 100)  * stock_data.W\n",
    "    stock_data['value'] = (\n",
    "        (stock_data.AdjClose \n",
    "         + stock_data.High \n",
    "         + stock_data.Low \n",
    "         + stock_data.Open) \n",
    "        / 4)\n",
    "    stock_data['est'] = np.nan\n",
    "    for day in stock_data.index:\n",
    "        sub = stock_data[stock_data.index <= day]\n",
    "        weights = sub.n_samp\n",
    "        weights = weights / weights.sum()\n",
    "        values = sub.value\n",
    "        est = np.dot(weights, values)\n",
    "        stock_data.loc[day, 'est'] = est\n",
    "    stock_data['resid'] = stock_data.AdjClose / stock_data.est\n",
    "    stock_data.resid = stock_data.resid.rank(pct=True)\n",
    "    stock_data.sort_values('resid', inplace=True)\n",
    "    n_notnull_resid = stock_data.resid.notnull().sum()\n",
    "    stock_data['dev'] = np.nan\n",
    "    stock_data.loc[stock_data.resid.notnull(), 'dev'] = (\n",
    "        np.array(range(n_notnull_resid) / n_notnull_resid))\n",
    "    stock_data.dev = stock_data.dev.rank(pct=True)\n",
    "    stock_data.sort_index(inplace=True)\n",
    "    if plot:\n",
    "        plt.figure(figsize=(12, 8))\n",
    "        plt.plot(stock_data.AdjClose, label='AdjClose')\n",
    "        plt.plot(stock_data.est, label='Est')\n",
    "        plt.yscale('log')\n",
    "        plt.plot(stock_data.ann_high, color='green')\n",
    "        plt.plot(stock_data.ann_low, color='red')\n",
    "        plt.legend();\n",
    "        \n",
    "        plt.figure(figsize=(12, 4))\n",
    "        plt.plot(stock_data.dev)\n",
    "        plt.axhline(0.5, color='k')\n",
    "        plt.title(stock)\n",
    "        \n",
    "        plt.figure(figsize=(12, 4))\n",
    "        plt.plot(stock_data.drawdown, color='red', label='drawdown')\n",
    "        plt.plot(stock_data.pullup, color='green', label='pullup')\n",
    "        plt.plot(\n",
    "            np.sqrt(stock_data.drawdown * stock_data.pullup),\n",
    "            color='grey',\n",
    "            label='geomean')\n",
    "        plt.yscale('log')\n",
    "        plt.legend()\n",
    "    return (\n",
    "        stock_data.direction.tolist()[-1],\n",
    "        stock_data.rsi.tolist()[-1],\n",
    "        stock_data.resid.tolist()[-1], \n",
    "        stock_data.dev.tolist()[-1],\n",
    "        stock_data.drawdown.tolist()[-1],\n",
    "        stock_data.pullup.tolist()[-1],\n",
    "        sharpe,\n",
    "        #state_sharpe,\n",
    "        #hedged_sharpe,\n",
    "        weighted_sharpe)"
   ]
  },
  {
   "cell_type": "code",
   "execution_count": 27,
   "id": "1cbfa969",
   "metadata": {
    "scrolled": false
   },
   "outputs": [
    {
     "data": {
      "text/plain": [
       "(0,\n",
       " 0.09316273490603759,\n",
       " 0.4115308151093439,\n",
       " 0.4115308151093439,\n",
       " 0.08448347971560016,\n",
       " 0.08490171476369719,\n",
       " 0.8190611928499429,\n",
       " -0.15593763555154222)"
      ]
     },
     "execution_count": 27,
     "metadata": {},
     "output_type": "execute_result"
    },
    {
     "data": {
      "image/png": "[encoded data removed]",
      "text/plain": [
       "<Figure size 864x576 with 1 Axes>"
      ]
     },
     "metadata": {
      "needs_background": "light"
     },
     "output_type": "display_data"
    },
    {
     "data": {
      "image/png": "[encoded data removed]",
      "text/plain": [
       "<Figure size 864x288 with 1 Axes>"
      ]
     },
     "metadata": {
      "needs_background": "light"
     },
     "output_type": "display_data"
    },
    {
     "data": {
      "image/png": "[encoded data removed]",
      "text/plain": [
       "<Figure size 864x288 with 1 Axes>"
      ]
     },
     "metadata": {
      "needs_background": "light"
     },
     "output_type": "display_data"
    }
   ],
   "source": [
    "process_stock('AAPL', data.copy(), plot=True)"
   ]
  },
  {
   "cell_type": "code",
   "execution_count": 28,
   "id": "977ecacf",
   "metadata": {},
   "outputs": [
    {
     "name": "stdout",
     "output_type": "stream",
     "text": [
      "AAPL... ABMD... ABNB... ADBE... ADYEY... AMD... AMEH... AMGN... AMRC... AMRK... AMZN... ANET... APT... ASML... AXON... BROS... BTTR... BYND... BYRN... CHWY... CIZN... COOP... CRWD... CSIQ... CTSH... CUBE... CVE... DDOG... DOCS... DOCU... DTST... DUOL... DYAI... EDIT... ENPH... EP... EPSN... ETSY... FCPT... FCUV... FKWL... FLGT... GBOX... GCBC... GGB... GGE... GH... GME... GMED... GOOG... HMY... IDXX... IEI... INTG... INTZ... ISRG... JD... KREF... LFMD... LRCX... LSPD... LULU... MCVT... MDB... MELI... MICS... MNMD... MNST... MSFT... MTCH... NTAP... NVCR... NVDA... ODFL... OKTA... OMQS... OPEN... PAC... PACB... PANW... PAYC... PETV... PINS... POWW... PRPH... PTON... PYPL... QDEL... RBLX... RDFN... RGEN... RIVN... ROKU... RVLV... RVP... SE... SHOP... SNEX... SNOW... SOBR... TASK... TDOC... TEAM... TJX... TREX... TSLA... TTD... TTWO... TWLO... TWTR... TYL... UPST... UTHR... VEEV... VIRT... VLD... VRTX... VTSI... WAVD... WKHS... XPEV... ZEN... ZM... ZYXI... "
     ]
    }
   ],
   "source": [
    "out = []\n",
    "for stock in batch:\n",
    "    print(f'{stock}...', end=' ')\n",
    "    stock_stats = process_stock(stock, data)\n",
    "    out.append([stock, *stock_stats])"
   ]
  },
  {
   "cell_type": "code",
   "execution_count": 29,
   "id": "c186e04d",
   "metadata": {},
   "outputs": [
    {
     "data": {
      "text/html": [
       "<div>\n",
       "<style scoped>\n",
       "    .dataframe tbody tr th:only-of-type {\n",
       "        vertical-align: middle;\n",
       "    }\n",
       "\n",
       "    .dataframe tbody tr th {\n",
       "        vertical-align: top;\n",
       "    }\n",
       "\n",
       "    .dataframe thead th {\n",
       "        text-align: right;\n",
       "    }\n",
       "</style>\n",
       "<table border=\"1\" class=\"dataframe\">\n",
       "  <thead>\n",
       "    <tr style=\"text-align: right;\">\n",
       "      <th></th>\n",
       "      <th>stock</th>\n",
       "      <th>direction</th>\n",
       "      <th>RSI</th>\n",
       "      <th>RSIRev</th>\n",
       "      <th>fair_value_mult</th>\n",
       "      <th>dev_quantile</th>\n",
       "      <th>drop</th>\n",
       "      <th>climb</th>\n",
       "      <th>geomean</th>\n",
       "      <th>score</th>\n",
       "      <th>sharpe</th>\n",
       "      <th>weighted_sharpe</th>\n",
       "    </tr>\n",
       "  </thead>\n",
       "  <tbody>\n",
       "    <tr>\n",
       "      <th>0</th>\n",
       "      <td>AAPL</td>\n",
       "      <td>0</td>\n",
       "      <td>0.093163</td>\n",
       "      <td>0.906837</td>\n",
       "      <td>0.411531</td>\n",
       "      <td>0.411531</td>\n",
       "      <td>0.084483</td>\n",
       "      <td>0.084902</td>\n",
       "      <td>0.084692</td>\n",
       "      <td>0.186691</td>\n",
       "      <td>0.819061</td>\n",
       "      <td>-0.155938</td>\n",
       "    </tr>\n",
       "    <tr>\n",
       "      <th>1</th>\n",
       "      <td>ABMD</td>\n",
       "      <td>0</td>\n",
       "      <td>0.274690</td>\n",
       "      <td>0.725310</td>\n",
       "      <td>0.269185</td>\n",
       "      <td>0.269185</td>\n",
       "      <td>0.192806</td>\n",
       "      <td>0.178586</td>\n",
       "      <td>0.185560</td>\n",
       "      <td>0.223495</td>\n",
       "      <td>0.787302</td>\n",
       "      <td>-0.050693</td>\n",
       "    </tr>\n",
       "    <tr>\n",
       "      <th>2</th>\n",
       "      <td>ABNB</td>\n",
       "      <td>0</td>\n",
       "      <td>0.414634</td>\n",
       "      <td>0.585366</td>\n",
       "      <td>0.393548</td>\n",
       "      <td>0.393548</td>\n",
       "      <td>0.243402</td>\n",
       "      <td>0.542522</td>\n",
       "      <td>0.363388</td>\n",
       "      <td>0.378168</td>\n",
       "      <td>0.020120</td>\n",
       "      <td>-0.543394</td>\n",
       "    </tr>\n",
       "    <tr>\n",
       "      <th>3</th>\n",
       "      <td>ADBE</td>\n",
       "      <td>0</td>\n",
       "      <td>0.061176</td>\n",
       "      <td>0.938824</td>\n",
       "      <td>0.121272</td>\n",
       "      <td>0.121272</td>\n",
       "      <td>0.028858</td>\n",
       "      <td>0.066081</td>\n",
       "      <td>0.043669</td>\n",
       "      <td>0.072773</td>\n",
       "      <td>0.850215</td>\n",
       "      <td>-0.290342</td>\n",
       "    </tr>\n",
       "    <tr>\n",
       "      <th>4</th>\n",
       "      <td>ADYEY</td>\n",
       "      <td>0</td>\n",
       "      <td>0.146471</td>\n",
       "      <td>0.853529</td>\n",
       "      <td>0.162092</td>\n",
       "      <td>0.162092</td>\n",
       "      <td>0.198128</td>\n",
       "      <td>0.043682</td>\n",
       "      <td>0.093030</td>\n",
       "      <td>0.122798</td>\n",
       "      <td>0.689643</td>\n",
       "      <td>0.405297</td>\n",
       "    </tr>\n",
       "  </tbody>\n",
       "</table>\n",
       "</div>"
      ],
      "text/plain": [
       "   stock  direction       RSI    RSIRev  fair_value_mult  dev_quantile  \\\n",
       "0   AAPL          0  0.093163  0.906837         0.411531      0.411531   \n",
       "1   ABMD          0  0.274690  0.725310         0.269185      0.269185   \n",
       "2   ABNB          0  0.414634  0.585366         0.393548      0.393548   \n",
       "3   ADBE          0  0.061176  0.938824         0.121272      0.121272   \n",
       "4  ADYEY          0  0.146471  0.853529         0.162092      0.162092   \n",
       "\n",
       "       drop     climb   geomean     score    sharpe  weighted_sharpe  \n",
       "0  0.084483  0.084902  0.084692  0.186691  0.819061        -0.155938  \n",
       "1  0.192806  0.178586  0.185560  0.223495  0.787302        -0.050693  \n",
       "2  0.243402  0.542522  0.363388  0.378168  0.020120        -0.543394  \n",
       "3  0.028858  0.066081  0.043669  0.072773  0.850215        -0.290342  \n",
       "4  0.198128  0.043682  0.093030  0.122798  0.689643         0.405297  "
      ]
     },
     "execution_count": 29,
     "metadata": {},
     "output_type": "execute_result"
    }
   ],
   "source": [
    "out_df = pd.DataFrame(\n",
    "    data=out, \n",
    "    columns=[\n",
    "        'stock', 'direction', 'RSI', 'fair_value_mult', 'dev_quantile',\n",
    "        'drop','climb', 'sharpe', 'weighted_sharpe'])\n",
    "out_df['geomean'] = np.sqrt(out_df['drop'] * out_df.climb)\n",
    "out_df['score'] = (\n",
    "    out_df.fair_value_mult\n",
    "    * out_df.dev_quantile\n",
    "    * out_df['drop']\n",
    "    * out_df.climb) ** (1/4) \n",
    "out_df['RSIRev'] = 1 - out_df.RSI\n",
    "out_df = out_df[\n",
    "    ['stock', 'direction', 'RSI', 'RSIRev', 'fair_value_mult', \n",
    "     'dev_quantile', 'drop', 'climb', 'geomean', 'score',  'sharpe',\n",
    "     'weighted_sharpe']]\n",
    "out_df.RSI.fillna(out_df.RSI.median())\n",
    "out_df.RSIRev.fillna(out_df.RSIRev.median())\n",
    "\n",
    "out_df.weighted_sharpe.fillna(\n",
    "    out_df.weighted_sharpe.mean(), inplace=True)\n",
    "out_df.sort_values('stock')\n",
    "out_df.head()"
   ]
  },
  {
   "cell_type": "code",
   "execution_count": 30,
   "id": "166a0cf2",
   "metadata": {},
   "outputs": [
    {
     "data": {
      "text/plain": [
       "0.05    0.009886\n",
       "0.99    0.751820\n",
       "Name: geomean, dtype: float64"
      ]
     },
     "execution_count": 30,
     "metadata": {},
     "output_type": "execute_result"
    }
   ],
   "source": [
    "out_df.geomean.quantile([0.05, 0.99])"
   ]
  },
  {
   "cell_type": "code",
   "execution_count": 31,
   "id": "bbd1ecad",
   "metadata": {},
   "outputs": [],
   "source": [
    "out_df.to_csv('individ_quantiles.csv', index=False)"
   ]
  },
  {
   "cell_type": "code",
   "execution_count": 32,
   "id": "cbc0955c",
   "metadata": {},
   "outputs": [],
   "source": [
    "!open individ_quantiles.csv"
   ]
  },
  {
   "cell_type": "code",
   "execution_count": null,
   "id": "169e4685",
   "metadata": {},
   "outputs": [],
   "source": []
  },
  {
   "cell_type": "code",
   "execution_count": null,
   "id": "5de37386",
   "metadata": {},
   "outputs": [],
   "source": []
  }
 ],
 "metadata": {
  "kernelspec": {
   "display_name": "Python 3 (ipykernel)",
   "language": "python",
   "name": "python3"
  },
  "language_info": {
   "codemirror_mode": {
    "name": "ipython",
    "version": 3
   },
   "file_extension": ".py",
   "mimetype": "text/x-python",
   "name": "python",
   "nbconvert_exporter": "python",
   "pygments_lexer": "ipython3",
   "version": "3.10.6"
  }
 },
 "nbformat": 4,
 "nbformat_minor": 5
}
