{
 "cells": [
  {
   "cell_type": "code",
   "execution_count": 1,
   "id": "02efc0e6",
   "metadata": {},
   "outputs": [],
   "source": [
    "from datetime import datetime, timedelta\n",
    "import sys\n",
    "\n",
    "import matplotlib.pyplot as plt\n",
    "import numpy as np\n",
    "import pandas as pd\n",
    "import yfinance as yf\n",
    "\n",
    "sys.path.append('..')\n",
    "from utils.batcher import Batcher\n",
    "#from util.stock_loader import Loader"
   ]
  },
  {
   "cell_type": "code",
   "execution_count": 2,
   "id": "3ac57a6e",
   "metadata": {},
   "outputs": [
    {
     "data": {
      "text/plain": [
       "datetime.date(2023, 2, 11)"
      ]
     },
     "execution_count": 2,
     "metadata": {},
     "output_type": "execute_result"
    }
   ],
   "source": [
    "TODAY = datetime.now().date()\n",
    "TOMORROW  = TODAY + timedelta(1)\n",
    "TOMORROW"
   ]
  },
  {
   "cell_type": "code",
   "execution_count": 3,
   "id": "ae63c545",
   "metadata": {},
   "outputs": [
    {
     "data": {
      "text/html": [
       "<div>\n",
       "<style scoped>\n",
       "    .dataframe tbody tr th:only-of-type {\n",
       "        vertical-align: middle;\n",
       "    }\n",
       "\n",
       "    .dataframe tbody tr th {\n",
       "        vertical-align: top;\n",
       "    }\n",
       "\n",
       "    .dataframe thead th {\n",
       "        text-align: right;\n",
       "    }\n",
       "</style>\n",
       "<table border=\"1\" class=\"dataframe\">\n",
       "  <thead>\n",
       "    <tr style=\"text-align: right;\">\n",
       "      <th></th>\n",
       "      <th>Date</th>\n",
       "      <th>^GSPC</th>\n",
       "      <th>^IXIC</th>\n",
       "      <th>^NYA</th>\n",
       "      <th>^W5000</th>\n",
       "      <th>^GSPC_returns</th>\n",
       "      <th>^NYA_returns</th>\n",
       "      <th>^IXIC_returns</th>\n",
       "      <th>^W5000_returns</th>\n",
       "      <th>^GSPC_exp</th>\n",
       "      <th>^NYA_exp</th>\n",
       "      <th>^IXIC_exp</th>\n",
       "      <th>^W5000_exp</th>\n",
       "      <th>mean_exp</th>\n",
       "      <th>state</th>\n",
       "    </tr>\n",
       "    <tr>\n",
       "      <th>Date</th>\n",
       "      <th></th>\n",
       "      <th></th>\n",
       "      <th></th>\n",
       "      <th></th>\n",
       "      <th></th>\n",
       "      <th></th>\n",
       "      <th></th>\n",
       "      <th></th>\n",
       "      <th></th>\n",
       "      <th></th>\n",
       "      <th></th>\n",
       "      <th></th>\n",
       "      <th></th>\n",
       "      <th></th>\n",
       "      <th></th>\n",
       "    </tr>\n",
       "  </thead>\n",
       "  <tbody>\n",
       "    <tr>\n",
       "      <th>2023-02-06</th>\n",
       "      <td>2023-02-06</td>\n",
       "      <td>4111.080078</td>\n",
       "      <td>11887.450195</td>\n",
       "      <td>15895.360352</td>\n",
       "      <td>41087.859375</td>\n",
       "      <td>0.993860</td>\n",
       "      <td>0.993497</td>\n",
       "      <td>0.990047</td>\n",
       "      <td>0.992811</td>\n",
       "      <td>0.999797</td>\n",
       "      <td>1.000669</td>\n",
       "      <td>1.000525</td>\n",
       "      <td>1.001307</td>\n",
       "      <td>1.000575</td>\n",
       "      <td>2</td>\n",
       "    </tr>\n",
       "    <tr>\n",
       "      <th>2023-02-07</th>\n",
       "      <td>2023-02-07</td>\n",
       "      <td>4164.000000</td>\n",
       "      <td>12113.790039</td>\n",
       "      <td>16021.620117</td>\n",
       "      <td>41584.429688</td>\n",
       "      <td>1.012873</td>\n",
       "      <td>1.007943</td>\n",
       "      <td>1.019040</td>\n",
       "      <td>1.012086</td>\n",
       "      <td>0.999797</td>\n",
       "      <td>1.000669</td>\n",
       "      <td>1.000525</td>\n",
       "      <td>1.001307</td>\n",
       "      <td>1.000575</td>\n",
       "      <td>2</td>\n",
       "    </tr>\n",
       "    <tr>\n",
       "      <th>2023-02-08</th>\n",
       "      <td>2023-02-08</td>\n",
       "      <td>4117.859863</td>\n",
       "      <td>11910.519531</td>\n",
       "      <td>15934.719727</td>\n",
       "      <td>41117.988281</td>\n",
       "      <td>0.988919</td>\n",
       "      <td>0.994576</td>\n",
       "      <td>0.983220</td>\n",
       "      <td>0.988783</td>\n",
       "      <td>0.999797</td>\n",
       "      <td>1.000669</td>\n",
       "      <td>1.000525</td>\n",
       "      <td>1.001307</td>\n",
       "      <td>1.000575</td>\n",
       "      <td>2</td>\n",
       "    </tr>\n",
       "    <tr>\n",
       "      <th>2023-02-09</th>\n",
       "      <td>2023-02-09</td>\n",
       "      <td>4081.500000</td>\n",
       "      <td>11789.580078</td>\n",
       "      <td>15828.599609</td>\n",
       "      <td>40730.171875</td>\n",
       "      <td>0.991170</td>\n",
       "      <td>0.993340</td>\n",
       "      <td>0.989846</td>\n",
       "      <td>0.990568</td>\n",
       "      <td>0.999797</td>\n",
       "      <td>1.000669</td>\n",
       "      <td>1.000525</td>\n",
       "      <td>1.001307</td>\n",
       "      <td>1.000575</td>\n",
       "      <td>2</td>\n",
       "    </tr>\n",
       "    <tr>\n",
       "      <th>2023-02-10</th>\n",
       "      <td>2023-02-10</td>\n",
       "      <td>4090.459961</td>\n",
       "      <td>11718.120117</td>\n",
       "      <td>15910.694336</td>\n",
       "      <td>40790.378906</td>\n",
       "      <td>1.002195</td>\n",
       "      <td>1.005186</td>\n",
       "      <td>0.993939</td>\n",
       "      <td>1.001478</td>\n",
       "      <td>0.999797</td>\n",
       "      <td>1.000669</td>\n",
       "      <td>1.000525</td>\n",
       "      <td>1.001307</td>\n",
       "      <td>1.000575</td>\n",
       "      <td>2</td>\n",
       "    </tr>\n",
       "  </tbody>\n",
       "</table>\n",
       "</div>"
      ],
      "text/plain": [
       "                  Date        ^GSPC         ^IXIC          ^NYA        ^W5000  \\\n",
       "Date                                                                            \n",
       "2023-02-06  2023-02-06  4111.080078  11887.450195  15895.360352  41087.859375   \n",
       "2023-02-07  2023-02-07  4164.000000  12113.790039  16021.620117  41584.429688   \n",
       "2023-02-08  2023-02-08  4117.859863  11910.519531  15934.719727  41117.988281   \n",
       "2023-02-09  2023-02-09  4081.500000  11789.580078  15828.599609  40730.171875   \n",
       "2023-02-10  2023-02-10  4090.459961  11718.120117  15910.694336  40790.378906   \n",
       "\n",
       "            ^GSPC_returns  ^NYA_returns  ^IXIC_returns  ^W5000_returns  \\\n",
       "Date                                                                     \n",
       "2023-02-06       0.993860      0.993497       0.990047        0.992811   \n",
       "2023-02-07       1.012873      1.007943       1.019040        1.012086   \n",
       "2023-02-08       0.988919      0.994576       0.983220        0.988783   \n",
       "2023-02-09       0.991170      0.993340       0.989846        0.990568   \n",
       "2023-02-10       1.002195      1.005186       0.993939        1.001478   \n",
       "\n",
       "            ^GSPC_exp  ^NYA_exp  ^IXIC_exp  ^W5000_exp  mean_exp  state  \n",
       "Date                                                                     \n",
       "2023-02-06   0.999797  1.000669   1.000525    1.001307  1.000575      2  \n",
       "2023-02-07   0.999797  1.000669   1.000525    1.001307  1.000575      2  \n",
       "2023-02-08   0.999797  1.000669   1.000525    1.001307  1.000575      2  \n",
       "2023-02-09   0.999797  1.000669   1.000525    1.001307  1.000575      2  \n",
       "2023-02-10   0.999797  1.000669   1.000525    1.001307  1.000575      2  "
      ]
     },
     "execution_count": 3,
     "metadata": {},
     "output_type": "execute_result"
    }
   ],
   "source": [
    "DATA = '../data'\n",
    "\n",
    "sp1950 = pd.read_csv(f'{DATA}/sp1950.csv')\n",
    "nya1965 = pd.read_csv(f'{DATA}/nya1965.csv')\n",
    "nasdaq1965 = pd.read_csv(f'{DATA}/nasdaq1965.csv')\n",
    "wilshire1990 = pd.read_csv(f'{DATA}/wilshire1990.csv')\n",
    "\n",
    "\n",
    "nasdaq1965.tail()\n",
    "states = pd.read_csv(f'{DATA}/hmm_exp_returns.csv')\n",
    "states.index = pd.to_datetime(states.Date)\n",
    "states.tail()"
   ]
  },
  {
   "cell_type": "code",
   "execution_count": 4,
   "id": "e17c1f04",
   "metadata": {},
   "outputs": [
    {
     "data": {
      "text/plain": [
       "156"
      ]
     },
     "execution_count": 4,
     "metadata": {},
     "output_type": "execute_result"
    }
   ],
   "source": [
    "SYMBOLS = [\n",
    "    'AAPL', 'ABMD', 'ABNB', 'ACN', 'ADBE', 'ADYEY', 'AMD', 'AMGN',\n",
    "    'AMZN', 'ANET', 'ASML', 'AXON', 'BROS', 'BYND', 'CHWY', 'CRWD',\n",
    "    'DDOG', 'DGX', 'DIS', 'DOCS', 'DOCU', 'DUOL', 'EDIT', 'ETSY',\n",
    "    'FLGT', 'FTNT', 'GH', 'GMED', 'GOOG', 'IDXX', 'INTG', 'ISRG',\n",
    "    'JD', 'KNSL', 'LRCX', 'LSPD', 'LULU', 'MA', 'MASI', 'MDB',\n",
    "    'MELI', 'MNST', 'MSFT', 'MTCH', 'NET', 'NOW', 'NVCR', 'NVDA',\n",
    "    'ODFL', 'OKTA', 'OPEN', 'PAC', 'PANW', 'PAYC', 'PINS', 'PTON',\n",
    "    'PYPL', 'QDEL', 'RBLX', 'RDFN', 'RGEN', 'RIVN', 'RMD', 'ROKU',\n",
    "    'RVLV', 'SAM', 'SBUX', 'SE', 'SHOP', 'SNOW', 'TASK', 'TDOC',\n",
    "    'TEAM', 'TMUS', 'TREX', 'TSCO', 'TSLA', 'TTC', 'TTD', 'TTWO',\n",
    "    'TWLO', 'TYL', 'UPST', 'VEEV', 'VLD', 'VRTX', 'XPEV',\n",
    "    'ZBRA', 'ZM']\n",
    "LINGERERS = [\n",
    "    'AGI', 'AMEH', 'APPS', 'APT', 'BRTX', 'BTTR', 'BYRN', 'CEF',\n",
    "    'CGAU', 'CTGO', 'DQ', 'DTST', 'EA',\n",
    "    'EP', 'EPSN',  'ESOA', 'FCUV', 'FKWL', 'FNV', 'FSI', 'GCBC', 'GME',\n",
    "    'GNRC', 'GTLS', 'HBM', 'HMY', 'IDR', 'INTZ', 'LPLA', 'MCVT',\n",
    "    'MICS', 'MNMD', 'MOBQ', 'MTA', 'OMQS', 'PACB', 'POWW',\n",
    "    'PRPH', 'RVP', 'RVYL', 'SAND', 'STKL', 'UI', 'VIRT', 'WAVD',\n",
    "    'WKHS', 'WRN', 'ZEST', 'ZYXI']\n",
    "BEST_WEIGHTED = [\n",
    "    'AREN', 'BB', 'CHUY', 'CSIQ', 'CUBI', 'DYAI', 'ICPT',\n",
    "    'LFMD', 'LIXT', 'OPNT', 'PBF', 'PCRX', 'PFIE', 'RFP', 'SSNT',\n",
    "    'TREE', 'VTSI', 'WFG']\n",
    "len(SYMBOLS + LINGERERS + BEST_WEIGHTED)"
   ]
  },
  {
   "cell_type": "code",
   "execution_count": 5,
   "id": "34811b61",
   "metadata": {},
   "outputs": [
    {
     "data": {
      "text/plain": [
       "(datetime.date(2013, 2, 13), datetime.date(2023, 2, 11))"
      ]
     },
     "execution_count": 5,
     "metadata": {},
     "output_type": "execute_result"
    }
   ],
   "source": [
    "TODAY = (datetime.now() + timedelta(1)).date()\n",
    "YEARS_OF_DATA = 10\n",
    "START = TODAY - timedelta(YEARS_OF_DATA * 365)\n",
    "START, TODAY"
   ]
  },
  {
   "cell_type": "code",
   "execution_count": 6,
   "id": "80b6d36b",
   "metadata": {},
   "outputs": [],
   "source": [
    "batch = sorted(list(set(SYMBOLS + LINGERERS + BEST_WEIGHTED)))"
   ]
  },
  {
   "cell_type": "code",
   "execution_count": 7,
   "id": "d1345c46",
   "metadata": {},
   "outputs": [
    {
     "name": "stdout",
     "output_type": "stream",
     "text": [
      "[*********************100%***********************]  156 of 156 completed\n"
     ]
    }
   ],
   "source": [
    "data = (\n",
    "    yf\n",
    "    .download(batch, start=START, end=TODAY)\n",
    "    .rename(columns={'Adj Close': 'AdjClose'})\n",
    "    .sort_index())"
   ]
  },
  {
   "cell_type": "code",
   "execution_count": 8,
   "id": "40dbe3b7",
   "metadata": {},
   "outputs": [
    {
     "data": {
      "text/html": [
       "<div>\n",
       "<style scoped>\n",
       "    .dataframe tbody tr th:only-of-type {\n",
       "        vertical-align: middle;\n",
       "    }\n",
       "\n",
       "    .dataframe tbody tr th {\n",
       "        vertical-align: top;\n",
       "    }\n",
       "\n",
       "    .dataframe thead tr th {\n",
       "        text-align: left;\n",
       "    }\n",
       "\n",
       "    .dataframe thead tr:last-of-type th {\n",
       "        text-align: right;\n",
       "    }\n",
       "</style>\n",
       "<table border=\"1\" class=\"dataframe\">\n",
       "  <thead>\n",
       "    <tr>\n",
       "      <th></th>\n",
       "      <th colspan=\"10\" halign=\"left\">AdjClose</th>\n",
       "      <th>...</th>\n",
       "      <th colspan=\"9\" halign=\"left\">Volume</th>\n",
       "      <th>state</th>\n",
       "    </tr>\n",
       "    <tr>\n",
       "      <th></th>\n",
       "      <th>AAPL</th>\n",
       "      <th>ABMD</th>\n",
       "      <th>ABNB</th>\n",
       "      <th>ACN</th>\n",
       "      <th>ADBE</th>\n",
       "      <th>ADYEY</th>\n",
       "      <th>AGI</th>\n",
       "      <th>AMD</th>\n",
       "      <th>AMEH</th>\n",
       "      <th>AMGN</th>\n",
       "      <th>...</th>\n",
       "      <th>WAVD</th>\n",
       "      <th>WFG</th>\n",
       "      <th>WKHS</th>\n",
       "      <th>WRN</th>\n",
       "      <th>XPEV</th>\n",
       "      <th>ZBRA</th>\n",
       "      <th>ZEST</th>\n",
       "      <th>ZM</th>\n",
       "      <th>ZYXI</th>\n",
       "      <th></th>\n",
       "    </tr>\n",
       "    <tr>\n",
       "      <th>Date</th>\n",
       "      <th></th>\n",
       "      <th></th>\n",
       "      <th></th>\n",
       "      <th></th>\n",
       "      <th></th>\n",
       "      <th></th>\n",
       "      <th></th>\n",
       "      <th></th>\n",
       "      <th></th>\n",
       "      <th></th>\n",
       "      <th></th>\n",
       "      <th></th>\n",
       "      <th></th>\n",
       "      <th></th>\n",
       "      <th></th>\n",
       "      <th></th>\n",
       "      <th></th>\n",
       "      <th></th>\n",
       "      <th></th>\n",
       "      <th></th>\n",
       "      <th></th>\n",
       "    </tr>\n",
       "  </thead>\n",
       "  <tbody>\n",
       "    <tr>\n",
       "      <th>2023-02-06</th>\n",
       "      <td>151.729996</td>\n",
       "      <td>NaN</td>\n",
       "      <td>118.349998</td>\n",
       "      <td>284.480011</td>\n",
       "      <td>375.230011</td>\n",
       "      <td>16.459999</td>\n",
       "      <td>10.60</td>\n",
       "      <td>83.680000</td>\n",
       "      <td>34.919998</td>\n",
       "      <td>243.850006</td>\n",
       "      <td>...</td>\n",
       "      <td>35300</td>\n",
       "      <td>101800</td>\n",
       "      <td>4246900</td>\n",
       "      <td>157900</td>\n",
       "      <td>9651500.0</td>\n",
       "      <td>406200</td>\n",
       "      <td>71000</td>\n",
       "      <td>2862200.0</td>\n",
       "      <td>492800</td>\n",
       "      <td>2</td>\n",
       "    </tr>\n",
       "    <tr>\n",
       "      <th>2023-02-07</th>\n",
       "      <td>154.649994</td>\n",
       "      <td>NaN</td>\n",
       "      <td>119.690002</td>\n",
       "      <td>287.820007</td>\n",
       "      <td>383.820007</td>\n",
       "      <td>16.500000</td>\n",
       "      <td>10.73</td>\n",
       "      <td>85.910004</td>\n",
       "      <td>35.759998</td>\n",
       "      <td>244.000000</td>\n",
       "      <td>...</td>\n",
       "      <td>528300</td>\n",
       "      <td>139300</td>\n",
       "      <td>3636400</td>\n",
       "      <td>163600</td>\n",
       "      <td>9651300.0</td>\n",
       "      <td>405900</td>\n",
       "      <td>104800</td>\n",
       "      <td>14656800.0</td>\n",
       "      <td>697900</td>\n",
       "      <td>2</td>\n",
       "    </tr>\n",
       "    <tr>\n",
       "      <th>2023-02-08</th>\n",
       "      <td>151.919998</td>\n",
       "      <td>NaN</td>\n",
       "      <td>116.360001</td>\n",
       "      <td>284.709991</td>\n",
       "      <td>378.359985</td>\n",
       "      <td>13.970000</td>\n",
       "      <td>10.86</td>\n",
       "      <td>84.690002</td>\n",
       "      <td>34.590000</td>\n",
       "      <td>240.199997</td>\n",
       "      <td>...</td>\n",
       "      <td>88800</td>\n",
       "      <td>124700</td>\n",
       "      <td>2907700</td>\n",
       "      <td>35200</td>\n",
       "      <td>13785000.0</td>\n",
       "      <td>277500</td>\n",
       "      <td>48500</td>\n",
       "      <td>5372600.0</td>\n",
       "      <td>274100</td>\n",
       "      <td>2</td>\n",
       "    </tr>\n",
       "    <tr>\n",
       "      <th>2023-02-09</th>\n",
       "      <td>150.869995</td>\n",
       "      <td>NaN</td>\n",
       "      <td>114.940002</td>\n",
       "      <td>285.160004</td>\n",
       "      <td>375.809998</td>\n",
       "      <td>14.220000</td>\n",
       "      <td>10.66</td>\n",
       "      <td>83.209999</td>\n",
       "      <td>34.930000</td>\n",
       "      <td>240.000000</td>\n",
       "      <td>...</td>\n",
       "      <td>127400</td>\n",
       "      <td>126200</td>\n",
       "      <td>2928900</td>\n",
       "      <td>305600</td>\n",
       "      <td>17616500.0</td>\n",
       "      <td>478300</td>\n",
       "      <td>3300000</td>\n",
       "      <td>4015900.0</td>\n",
       "      <td>199200</td>\n",
       "      <td>2</td>\n",
       "    </tr>\n",
       "    <tr>\n",
       "      <th>2023-02-10</th>\n",
       "      <td>151.009995</td>\n",
       "      <td>NaN</td>\n",
       "      <td>108.870003</td>\n",
       "      <td>283.959991</td>\n",
       "      <td>370.989990</td>\n",
       "      <td>14.170000</td>\n",
       "      <td>10.67</td>\n",
       "      <td>81.480003</td>\n",
       "      <td>34.570000</td>\n",
       "      <td>242.500000</td>\n",
       "      <td>...</td>\n",
       "      <td>120763</td>\n",
       "      <td>89016</td>\n",
       "      <td>2743725</td>\n",
       "      <td>165049</td>\n",
       "      <td>12369883.0</td>\n",
       "      <td>331367</td>\n",
       "      <td>5153443</td>\n",
       "      <td>3271155.0</td>\n",
       "      <td>255358</td>\n",
       "      <td>2</td>\n",
       "    </tr>\n",
       "  </tbody>\n",
       "</table>\n",
       "<p>5 rows × 937 columns</p>\n",
       "</div>"
      ],
      "text/plain": [
       "              AdjClose                                                      \\\n",
       "                  AAPL ABMD        ABNB         ACN        ADBE      ADYEY   \n",
       "Date                                                                         \n",
       "2023-02-06  151.729996  NaN  118.349998  284.480011  375.230011  16.459999   \n",
       "2023-02-07  154.649994  NaN  119.690002  287.820007  383.820007  16.500000   \n",
       "2023-02-08  151.919998  NaN  116.360001  284.709991  378.359985  13.970000   \n",
       "2023-02-09  150.869995  NaN  114.940002  285.160004  375.809998  14.220000   \n",
       "2023-02-10  151.009995  NaN  108.870003  283.959991  370.989990  14.170000   \n",
       "\n",
       "                                                     ...  Volume          \\\n",
       "              AGI        AMD       AMEH        AMGN  ...    WAVD     WFG   \n",
       "Date                                                 ...                   \n",
       "2023-02-06  10.60  83.680000  34.919998  243.850006  ...   35300  101800   \n",
       "2023-02-07  10.73  85.910004  35.759998  244.000000  ...  528300  139300   \n",
       "2023-02-08  10.86  84.690002  34.590000  240.199997  ...   88800  124700   \n",
       "2023-02-09  10.66  83.209999  34.930000  240.000000  ...  127400  126200   \n",
       "2023-02-10  10.67  81.480003  34.570000  242.500000  ...  120763   89016   \n",
       "\n",
       "                                                                              \\\n",
       "               WKHS     WRN        XPEV    ZBRA     ZEST          ZM    ZYXI   \n",
       "Date                                                                           \n",
       "2023-02-06  4246900  157900   9651500.0  406200    71000   2862200.0  492800   \n",
       "2023-02-07  3636400  163600   9651300.0  405900   104800  14656800.0  697900   \n",
       "2023-02-08  2907700   35200  13785000.0  277500    48500   5372600.0  274100   \n",
       "2023-02-09  2928900  305600  17616500.0  478300  3300000   4015900.0  199200   \n",
       "2023-02-10  2743725  165049  12369883.0  331367  5153443   3271155.0  255358   \n",
       "\n",
       "           state  \n",
       "                  \n",
       "Date              \n",
       "2023-02-06     2  \n",
       "2023-02-07     2  \n",
       "2023-02-08     2  \n",
       "2023-02-09     2  \n",
       "2023-02-10     2  \n",
       "\n",
       "[5 rows x 937 columns]"
      ]
     },
     "execution_count": 8,
     "metadata": {},
     "output_type": "execute_result"
    }
   ],
   "source": [
    "data['state'] = states.state\n",
    "data.tail()"
   ]
  },
  {
   "cell_type": "code",
   "execution_count": 9,
   "id": "e5c4b52b",
   "metadata": {},
   "outputs": [
    {
     "data": {
      "text/plain": [
       "[0, 1, 2, 3, 4, 5]"
      ]
     },
     "execution_count": 9,
     "metadata": {},
     "output_type": "execute_result"
    }
   ],
   "source": [
    "STATES = sorted(states.state.unique())\n",
    "STATES"
   ]
  },
  {
   "cell_type": "code",
   "execution_count": 10,
   "id": "1ba79e9a",
   "metadata": {},
   "outputs": [
    {
     "data": {
      "text/plain": [
       "2"
      ]
     },
     "execution_count": 10,
     "metadata": {},
     "output_type": "execute_result"
    }
   ],
   "source": [
    "CURRENT_STATE = states.state[-1]\n",
    "CURRENT_STATE"
   ]
  },
  {
   "cell_type": "code",
   "execution_count": 11,
   "id": "c86a6728",
   "metadata": {},
   "outputs": [],
   "source": [
    "def get_stock_data(stock, data):\n",
    "    sub = data.loc[\n",
    "        :,  \n",
    "        [x for x in list(data) if x[1] == stock]]\n",
    "    first_value = (\n",
    "        sub.AdjClose[stock][sub.AdjClose[stock].notna()].index[0])\n",
    "    sub = sub.loc[first_value:, :]\n",
    "    sub.columns = sub.columns.to_series().apply(lambda x: x[0])\n",
    "    sub.fillna(method='ffill', inplace=True)\n",
    "    return sub"
   ]
  },
  {
   "cell_type": "code",
   "execution_count": 12,
   "id": "fc00b33a",
   "metadata": {},
   "outputs": [],
   "source": [
    "def get_daily_returns(x):\n",
    "    idx = x.index\n",
    "    n = len(x)\n",
    "    x = np.array(x)\n",
    "    #return x[2:n] / x[1:(n - 1)] - 1 \n",
    "    returns = x[1:n] / x[0:(n-1)] - 1\n",
    "    returns = pd.Series(returns, index=idx[1:])\n",
    "    return returns"
   ]
  },
  {
   "cell_type": "code",
   "execution_count": 13,
   "id": "418e9299",
   "metadata": {},
   "outputs": [],
   "source": [
    "def get_sharpe(returns, window=None):\n",
    "    n = len(returns)\n",
    "    if window is None:\n",
    "        window = n\n",
    "    if len(returns) > window:\n",
    "        returns = returns[(n - window):n]\n",
    "    returns = returns[~np.isnan(returns)]\n",
    "    sharpe = (np.sqrt(252) * returns.mean()) / returns.std()\n",
    "    return sharpe"
   ]
  },
  {
   "cell_type": "code",
   "execution_count": 14,
   "id": "aea65630",
   "metadata": {},
   "outputs": [],
   "source": [
    "def get_hedged_sharpe(daily_returns, data):\n",
    "    state_sharpe = get_sharpe(\n",
    "        daily_returns[data.state == CURRENT_STATE])\n",
    "    lower_state_sharpe = get_sharpe(\n",
    "        daily_returns[data.state == max(CURRENT_STATE - 1, 0)])\n",
    "    upper_state_sharpe = get_sharpe(\n",
    "        daily_returns[\n",
    "            data.state == min(CURRENT_STATE + 1, max(STATES))])\n",
    "    return min(state_sharpe, lower_state_sharpe, upper_state_sharpe)"
   ]
  },
  {
   "cell_type": "code",
   "execution_count": 15,
   "id": "51b19ede",
   "metadata": {},
   "outputs": [
    {
     "data": {
      "text/html": [
       "<div>\n",
       "<style scoped>\n",
       "    .dataframe tbody tr th:only-of-type {\n",
       "        vertical-align: middle;\n",
       "    }\n",
       "\n",
       "    .dataframe tbody tr th {\n",
       "        vertical-align: top;\n",
       "    }\n",
       "\n",
       "    .dataframe thead th {\n",
       "        text-align: right;\n",
       "    }\n",
       "</style>\n",
       "<table border=\"1\" class=\"dataframe\">\n",
       "  <thead>\n",
       "    <tr style=\"text-align: right;\">\n",
       "      <th></th>\n",
       "      <th>current_state</th>\n",
       "      <th>next_state</th>\n",
       "      <th>prob</th>\n",
       "    </tr>\n",
       "  </thead>\n",
       "  <tbody>\n",
       "    <tr>\n",
       "      <th>0</th>\n",
       "      <td>2</td>\n",
       "      <td>0</td>\n",
       "      <td>0.026374</td>\n",
       "    </tr>\n",
       "    <tr>\n",
       "      <th>1</th>\n",
       "      <td>2</td>\n",
       "      <td>1</td>\n",
       "      <td>0.002747</td>\n",
       "    </tr>\n",
       "    <tr>\n",
       "      <th>2</th>\n",
       "      <td>2</td>\n",
       "      <td>2</td>\n",
       "      <td>0.949451</td>\n",
       "    </tr>\n",
       "    <tr>\n",
       "      <th>3</th>\n",
       "      <td>2</td>\n",
       "      <td>5</td>\n",
       "      <td>0.021429</td>\n",
       "    </tr>\n",
       "  </tbody>\n",
       "</table>\n",
       "</div>"
      ],
      "text/plain": [
       "   current_state  next_state      prob\n",
       "0              2           0  0.026374\n",
       "1              2           1  0.002747\n",
       "2              2           2  0.949451\n",
       "3              2           5  0.021429"
      ]
     },
     "execution_count": 15,
     "metadata": {},
     "output_type": "execute_result"
    }
   ],
   "source": [
    "trans = pd.read_csv('../data/transition_probs.csv')\n",
    "trans"
   ]
  },
  {
   "cell_type": "code",
   "execution_count": 16,
   "id": "aeb3fdc4",
   "metadata": {},
   "outputs": [],
   "source": [
    "def get_weighted_sharpe(daily_returns, data, trans=trans):\n",
    "    #state_sharpe = get_sharpe(\n",
    "    #    daily_returns[data.state == CURRENT_STATE])\n",
    "    #n_lower = (data.state == max(CURRENT_STATE - 1, 0)).sum()\n",
    "    #decr = 1 if n_lower else 2\n",
    "    #lower_state_sharpe = get_sharpe(\n",
    "    #    daily_returns[data.state == max(CURRENT_STATE - decr, 0)])\n",
    "    #n_upper = (data.state == max(CURRENT_STATE + 1, 0)).sum()\n",
    "    #incr = 1 if n_lower else 2\n",
    "    #upper_state_sharpe = get_sharpe(\n",
    "    #    daily_returns[\n",
    "    #        data.state == min(CURRENT_STATE + incr, max(STATES))])\n",
    "    #return (\n",
    "    #    weights[0]*lower_state_sharpe\n",
    "    #    + weights[1]*state_sharpe\n",
    "    #    + weights[2]*upper_state_sharpe)\n",
    "    out = 0\n",
    "    for state, prob in zip(trans.next_state, trans.prob):\n",
    "        if len(daily_returns[data.state == state]):\n",
    "            state_sharpe = get_sharpe(\n",
    "                daily_returns[data.state == state])        \n",
    "            out += prob * state_sharpe\n",
    "    return out"
   ]
  },
  {
   "cell_type": "code",
   "execution_count": 17,
   "id": "c4d498cb",
   "metadata": {},
   "outputs": [],
   "source": [
    "def rescale(a):\n",
    "    a = a - a.min()\n",
    "    a = a / a.max()\n",
    "    return a"
   ]
  },
  {
   "cell_type": "code",
   "execution_count": 18,
   "id": "d37ae8da",
   "metadata": {},
   "outputs": [],
   "source": [
    "def vals_to_quantiles(a):\n",
    "    n = len(a)\n",
    "    qs = np.linspace(0, 1, n)\n",
    "    order = np.argsort(a)\n",
    "    out = qs[order]\n",
    "    return out"
   ]
  },
  {
   "cell_type": "code",
   "execution_count": 19,
   "id": "d0c38483",
   "metadata": {},
   "outputs": [],
   "source": [
    "def get_rsi(stock_data, window=14):\n",
    "    df = stock_data.copy()\n",
    "    df['deltas'] = df.AdjClose.diff(1)\n",
    "    df['gains'] = df.deltas.clip(lower=0)\n",
    "    df['losses'] = df.deltas.clip(upper=0).abs()\n",
    "    df['avg_gain'] = (df.gains\n",
    "                      .rolling(window=window, min_periods=window)\n",
    "                      .mean()[:window + 1])\n",
    "    df['avg_loss'] = (df.losses\n",
    "                      .rolling(window=window, min_periods=window)\n",
    "                      .mean()[:window + 1])\n",
    "    \n",
    "    # avg gains\n",
    "    pd.options.mode.chained_assignment = None\n",
    "    for i, row in enumerate(df.avg_gain.iloc[window + 1:]):\n",
    "        df.avg_gain.iloc[i + window + 1] = (\n",
    "            (df.avg_gain.iloc[i + window] * (window - 1) \n",
    "             + df.gains.iloc[i + window + 1]) \n",
    "            / window)\n",
    "    # avg losses\n",
    "    for i, row in enumerate(df.avg_loss.iloc[window + 1:]):\n",
    "        df.avg_loss.iloc[i + window + 1] = (\n",
    "            (df.avg_loss.iloc[i + window] * (window - 1)\n",
    "             + df.losses.iloc[i + window + 1])\n",
    "            / window)\n",
    "    df['rs'] = df.avg_gain / df.avg_loss\n",
    "    df['rsi'] = 100 - (100 / (1. + df.rs))\n",
    "    return df.rsi"
   ]
  },
  {
   "cell_type": "code",
   "execution_count": 20,
   "id": "166912c5",
   "metadata": {},
   "outputs": [],
   "source": [
    "def get_macd(stock_data, fast=60, slow=90, signal=80, plot=False):\n",
    "    df = stock_data.copy()\n",
    "    exp1 = df.AdjClose.ewm(span=fast, adjust=False).mean()\n",
    "    exp2 = df.AdjClose.ewm(span=slow, adjust=False).mean()\n",
    "    macd = exp1 - exp2\n",
    "    exp3 = macd.ewm(span=signal, adjust=False).mean()\n",
    "    histo = macd - exp3\n",
    "    hdiff = histo.diff(1)\n",
    "    is_rising = 1 * (hdiff > 0)\n",
    "    if plot:\n",
    "        plt.plot(macd, label='MACD', color='red')\n",
    "        plt.plot(exp3, label='Signal', color='green')\n",
    "        #plt.xlim(pd.to_datetime('2021-01-01'), \n",
    "        #         pd.to_datetime('2021-10-14'))\n",
    "        plt.legend();\n",
    "        plt.figure()\n",
    "        plt.plot(histo, color='blue')\n",
    "        #plt.xlim(pd.to_datetime('2021-01-01'), \n",
    "        #         pd.to_datetime('2021-10-14'))\n",
    "        plt.axhline(y=0, color='k')\n",
    "        plt.figure()\n",
    "        plt.plot(is_rising)\n",
    "        #plt.xlim(pd.to_datetime('2021-01-01'), \n",
    "        #         pd.to_datetime('2021-10-14'))\n",
    "    return is_rising"
   ]
  },
  {
   "cell_type": "code",
   "execution_count": 21,
   "id": "706e1ec9",
   "metadata": {},
   "outputs": [],
   "source": [
    "LMB = 0.9\n",
    "RSI_WINDOW = 14\n",
    "MACD_PARAMS = (60, 90, 80, False)"
   ]
  },
  {
   "cell_type": "code",
   "execution_count": 22,
   "id": "f66f2539",
   "metadata": {},
   "outputs": [],
   "source": [
    "EXAMPLE = 'AAPL'"
   ]
  },
  {
   "cell_type": "code",
   "execution_count": 23,
   "id": "aa1b4507",
   "metadata": {},
   "outputs": [
    {
     "data": {
      "text/plain": [
       "(0.962172187603156, 3.9685541269514517)"
      ]
     },
     "execution_count": 23,
     "metadata": {},
     "output_type": "execute_result"
    }
   ],
   "source": [
    "stock_data = get_stock_data(EXAMPLE, data.copy())\n",
    "daily_returns = get_daily_returns(stock_data.AdjClose)\n",
    "daily_returns\n",
    "(get_sharpe(daily_returns), \n",
    " get_sharpe(daily_returns[data.state == CURRENT_STATE]))"
   ]
  },
  {
   "cell_type": "code",
   "execution_count": 24,
   "id": "82d5802e",
   "metadata": {},
   "outputs": [
    {
     "data": {
      "image/png": "[encoded data removed]",
      "text/plain": [
       "<Figure size 640x480 with 1 Axes>"
      ]
     },
     "metadata": {},
     "output_type": "display_data"
    }
   ],
   "source": [
    "plt.plot(\n",
    "    (get_daily_returns(data[('AdjClose', EXAMPLE)]) + 1).cumprod());"
   ]
  },
  {
   "cell_type": "code",
   "execution_count": 25,
   "id": "7991d24f",
   "metadata": {},
   "outputs": [
    {
     "data": {
      "image/png": "[encoded data removed]",
      "text/plain": [
       "<Figure size 640x480 with 1 Axes>"
      ]
     },
     "metadata": {},
     "output_type": "display_data"
    }
   ],
   "source": [
    "dr = get_daily_returns(\n",
    "    data[('AdjClose', EXAMPLE)]\n",
    ")[data.state == CURRENT_STATE]\n",
    "dr = dr[dr.notnull()]\n",
    "plt.plot((dr + 1).to_numpy().cumprod());"
   ]
  },
  {
   "cell_type": "code",
   "execution_count": 26,
   "id": "ff56345e",
   "metadata": {},
   "outputs": [
    {
     "data": {
      "text/plain": [
       "3.7515461593294854"
      ]
     },
     "execution_count": 26,
     "metadata": {},
     "output_type": "execute_result"
    }
   ],
   "source": [
    "get_weighted_sharpe(daily_returns, data.copy())"
   ]
  },
  {
   "cell_type": "code",
   "execution_count": 27,
   "id": "e7e7526a",
   "metadata": {},
   "outputs": [],
   "source": [
    "def process_stock(stock, data, lmb=LMB, plot=False):\n",
    "    stock_data = get_stock_data(stock, data)\n",
    "    n = len(stock_data.AdjClose[~np.isnan(stock_data.AdjClose)])\n",
    "    stock_data['direction'] = get_macd(stock_data, *MACD_PARAMS)\n",
    "    stock_data['rsi'] = get_rsi(stock_data, window=RSI_WINDOW)\n",
    "    stock_data.rsi = stock_data.rsi.rank(pct=True)\n",
    "    daily_returns = get_daily_returns(stock_data.AdjClose)\n",
    "    sharpe = get_sharpe(daily_returns)\n",
    "    #state_sharpe = get_sharpe(\n",
    "    #    daily_returns[data.state == CURRENT_STATE])\n",
    "    #hedged_sharpe = get_hedged_sharpe(daily_returns, data)\n",
    "    weighted_sharpe = get_weighted_sharpe(daily_returns, data)\n",
    "    stock_data.fillna(method='ffill', inplace=True)\n",
    "    stock_data.fillna(method='bfill', inplace=True)\n",
    "    WINDOW = min(n // 2, 125)\n",
    "    stock_data['ann_high'] = (\n",
    "        stock_data.AdjClose.rolling(window=WINDOW).max())\n",
    "    stock_data['ann_low'] = (\n",
    "        stock_data.AdjClose.rolling(window=WINDOW).min())\n",
    "    stock_data['drawdown'] = stock_data.AdjClose / stock_data.ann_high\n",
    "    stock_data.drawdown = stock_data.drawdown.rank(pct=True)\n",
    "    stock_data['pullup'] = stock_data.AdjClose / stock_data.ann_low\n",
    "    stock_data.pullup = stock_data.pullup.rank(pct=True)\n",
    "    w = [lmb ** t for t in range(n)][::-1]\n",
    "    stock_data['W'] = w\n",
    "    stock_data['n_samp'] = (stock_data.Volume / 100)  * stock_data.W\n",
    "    stock_data['value'] = (\n",
    "        (stock_data.AdjClose \n",
    "         + stock_data.High \n",
    "         + stock_data.Low \n",
    "         + stock_data.Open) \n",
    "        / 4)\n",
    "    stock_data['est'] = np.nan\n",
    "    for day in stock_data.index:\n",
    "        sub = stock_data[stock_data.index <= day]\n",
    "        weights = sub.n_samp\n",
    "        weights = weights / weights.sum()\n",
    "        values = sub.value\n",
    "        est = np.dot(weights, values)\n",
    "        stock_data.loc[day, 'est'] = est\n",
    "    stock_data['resid'] = stock_data.AdjClose / stock_data.est\n",
    "    stock_data.resid = stock_data.resid.rank(pct=True)\n",
    "    stock_data.sort_values('resid', inplace=True)\n",
    "    #n_notnull_resid = stock_data.resid.notnull().sum()\n",
    "    #stock_data['dev'] = np.nan\n",
    "    #stock_data.loc[stock_data.resid.notnull(), 'dev'] = (\n",
    "    #    np.array(range(n_notnull_resid) / n_notnull_resid))\n",
    "    #stock_data.dev = stock_data.dev.rank(pct=True)\n",
    "    stock_data.sort_index(inplace=True)\n",
    "    if plot:\n",
    "        plt.figure(figsize=(12, 8))\n",
    "        plt.plot(stock_data.AdjClose, label='AdjClose')\n",
    "        plt.plot(stock_data.est, label='Est')\n",
    "        plt.yscale('log')\n",
    "        plt.plot(stock_data.ann_high, color='green')\n",
    "        plt.plot(stock_data.ann_low, color='red')\n",
    "        plt.xlim([stock_data.index[-250], stock_data.index[-1]])\n",
    "        plt.legend();\n",
    "        \n",
    "        #plt.figure(figsize=(12, 4))\n",
    "        #plt.plot(stock_data.dev)\n",
    "        #plt.axhline(0.5, color='k')\n",
    "        #plt.xlim([stock_data.index[-250], stock_data.index[-1]])\n",
    "        #plt.title(stock)\n",
    "        \n",
    "        plt.figure(figsize=(12, 4))\n",
    "        plt.plot(stock_data.drawdown, color='red', label='drawdown')\n",
    "        plt.plot(stock_data.pullup, color='green', label='pullup')\n",
    "        plt.plot(\n",
    "            np.sqrt(stock_data.drawdown * stock_data.pullup),\n",
    "            color='grey',\n",
    "            label='geomean')\n",
    "        plt.yscale('log')\n",
    "        plt.legend()\n",
    "    return (\n",
    "        stock_data.direction.tolist()[-1],  # keep\n",
    "        stock_data.rsi.tolist()[-1],        # keep\n",
    "        stock_data.resid.tolist()[-1],      # keep\n",
    "        #stock_data.dev.tolist()[-1],        # drop\n",
    "        stock_data.drawdown.tolist()[-1],   # keep\n",
    "        stock_data.pullup.tolist()[-1],     # keep\n",
    "        sharpe,                             # keep\n",
    "        #state_sharpe,\n",
    "        #hedged_sharpe,\n",
    "        weighted_sharpe)                    # keep"
   ]
  },
  {
   "cell_type": "code",
   "execution_count": 28,
   "id": "1cbfa969",
   "metadata": {
    "scrolled": false
   },
   "outputs": [
    {
     "data": {
      "text/plain": [
       "(1,\n",
       " 0.4546544147023572,\n",
       " 0.4336248012718601,\n",
       " 0.6393648140409528,\n",
       " 0.192227329711659,\n",
       " 0.9461169141149154,\n",
       " 1.1397570631091138)"
      ]
     },
     "execution_count": 28,
     "metadata": {},
     "output_type": "execute_result"
    },
    {
     "data": {
      "image/png": "[encoded data removed]",
      "text/plain": [
       "<Figure size 1200x800 with 1 Axes>"
      ]
     },
     "metadata": {},
     "output_type": "display_data"
    },
    {
     "data": {
      "image/png": "[encoded data removed]",
      "text/plain": [
       "<Figure size 1200x400 with 1 Axes>"
      ]
     },
     "metadata": {},
     "output_type": "display_data"
    }
   ],
   "source": [
    "process_stock('EP', data.copy(), plot=True)"
   ]
  },
  {
   "cell_type": "code",
   "execution_count": 29,
   "id": "977ecacf",
   "metadata": {},
   "outputs": [
    {
     "name": "stdout",
     "output_type": "stream",
     "text": [
      "AAPL... ABMD... ABNB... ACN... ADBE... ADYEY... AGI... AMD... AMEH... AMGN... AMZN... ANET... APPS... APT... AREN... ASML... AXON... BB... BROS... BRTX... BTTR... BYND... BYRN... CEF... CGAU... CHUY... CHWY... CRWD... CSIQ... CTGO... CUBI... DDOG... DGX... DIS... DOCS... DOCU... DQ... DTST... DUOL... DYAI... EA... EDIT... EP... EPSN... ESOA... ETSY... FCUV... FKWL... FLGT... FNV... FSI... FTNT... GCBC... GH... GME... GMED... GNRC... GOOG... GTLS... HBM... HMY... ICPT... IDR... IDXX... INTG... INTZ... ISRG... JD... KNSL... LFMD... LIXT... LPLA... LRCX... LSPD... LULU... MA... MASI... MCVT... MDB... MELI... MICS... MNMD... MNST... MOBQ... MSFT... MTA... MTCH... NET... NOW... NVCR... NVDA... ODFL... OKTA... OMQS... OPEN... OPNT... PAC... PACB... PANW... PAYC... PBF... PCRX... PFIE... PINS... POWW... PRPH... PTON... PYPL... QDEL... RBLX... RDFN... RFP... RGEN... RIVN... RMD... ROKU... RVLV... RVP... RVYL... SAM... SAND... SBUX... SE... SHOP... SNOW... SSNT... STKL... TASK... TDOC... TEAM... TMUS... TREE... TREX... TSCO... TSLA... TTC... TTD... TTWO... TWLO... TYL... UI... UPST... VEEV... VIRT... VLD... VRTX... VTSI... WAVD... WFG... WKHS... WRN... XPEV... ZBRA... ZEST... ZM... ZYXI... "
     ]
    }
   ],
   "source": [
    "out = []\n",
    "for stock in batch:\n",
    "    print(f'{stock}...', end=' ')\n",
    "    stock_stats = process_stock(stock, data)\n",
    "    out.append([stock, *stock_stats])"
   ]
  },
  {
   "cell_type": "code",
   "execution_count": 30,
   "id": "c186e04d",
   "metadata": {},
   "outputs": [
    {
     "data": {
      "text/html": [
       "<div>\n",
       "<style scoped>\n",
       "    .dataframe tbody tr th:only-of-type {\n",
       "        vertical-align: middle;\n",
       "    }\n",
       "\n",
       "    .dataframe tbody tr th {\n",
       "        vertical-align: top;\n",
       "    }\n",
       "\n",
       "    .dataframe thead th {\n",
       "        text-align: right;\n",
       "    }\n",
       "</style>\n",
       "<table border=\"1\" class=\"dataframe\">\n",
       "  <thead>\n",
       "    <tr style=\"text-align: right;\">\n",
       "      <th></th>\n",
       "      <th>stock</th>\n",
       "      <th>direction</th>\n",
       "      <th>RSI</th>\n",
       "      <th>RSIRev</th>\n",
       "      <th>fair_value_mult</th>\n",
       "      <th>drop</th>\n",
       "      <th>climb</th>\n",
       "      <th>geomean</th>\n",
       "      <th>score</th>\n",
       "      <th>sharpe</th>\n",
       "      <th>weighted_sharpe</th>\n",
       "    </tr>\n",
       "  </thead>\n",
       "  <tbody>\n",
       "    <tr>\n",
       "      <th>0</th>\n",
       "      <td>AAPL</td>\n",
       "      <td>1</td>\n",
       "      <td>0.697563</td>\n",
       "      <td>0.302437</td>\n",
       "      <td>0.919746</td>\n",
       "      <td>0.213122</td>\n",
       "      <td>0.414542</td>\n",
       "      <td>0.297234</td>\n",
       "      <td>0.533908</td>\n",
       "      <td>0.962172</td>\n",
       "      <td>3.751546</td>\n",
       "    </tr>\n",
       "    <tr>\n",
       "      <th>1</th>\n",
       "      <td>ABMD</td>\n",
       "      <td>0</td>\n",
       "      <td>0.917699</td>\n",
       "      <td>0.082301</td>\n",
       "      <td>0.394319</td>\n",
       "      <td>0.890932</td>\n",
       "      <td>0.763477</td>\n",
       "      <td>0.824746</td>\n",
       "      <td>0.719651</td>\n",
       "      <td>0.935776</td>\n",
       "      <td>0.711179</td>\n",
       "    </tr>\n",
       "    <tr>\n",
       "      <th>2</th>\n",
       "      <td>ABNB</td>\n",
       "      <td>1</td>\n",
       "      <td>0.637218</td>\n",
       "      <td>0.362782</td>\n",
       "      <td>0.450549</td>\n",
       "      <td>0.834123</td>\n",
       "      <td>0.860190</td>\n",
       "      <td>0.847056</td>\n",
       "      <td>0.754035</td>\n",
       "      <td>0.054880</td>\n",
       "      <td>3.275142</td>\n",
       "    </tr>\n",
       "    <tr>\n",
       "      <th>3</th>\n",
       "      <td>ACN</td>\n",
       "      <td>1</td>\n",
       "      <td>0.432281</td>\n",
       "      <td>0.567719</td>\n",
       "      <td>0.904648</td>\n",
       "      <td>0.155871</td>\n",
       "      <td>0.456749</td>\n",
       "      <td>0.266822</td>\n",
       "      <td>0.503768</td>\n",
       "      <td>0.758689</td>\n",
       "      <td>1.878147</td>\n",
       "    </tr>\n",
       "    <tr>\n",
       "      <th>4</th>\n",
       "      <td>ADBE</td>\n",
       "      <td>0</td>\n",
       "      <td>0.471035</td>\n",
       "      <td>0.528965</td>\n",
       "      <td>0.391736</td>\n",
       "      <td>0.124948</td>\n",
       "      <td>0.803594</td>\n",
       "      <td>0.316871</td>\n",
       "      <td>0.445338</td>\n",
       "      <td>0.873088</td>\n",
       "      <td>1.083208</td>\n",
       "    </tr>\n",
       "  </tbody>\n",
       "</table>\n",
       "</div>"
      ],
      "text/plain": [
       "  stock  direction       RSI    RSIRev  fair_value_mult      drop     climb  \\\n",
       "0  AAPL          1  0.697563  0.302437         0.919746  0.213122  0.414542   \n",
       "1  ABMD          0  0.917699  0.082301         0.394319  0.890932  0.763477   \n",
       "2  ABNB          1  0.637218  0.362782         0.450549  0.834123  0.860190   \n",
       "3   ACN          1  0.432281  0.567719         0.904648  0.155871  0.456749   \n",
       "4  ADBE          0  0.471035  0.528965         0.391736  0.124948  0.803594   \n",
       "\n",
       "    geomean     score    sharpe  weighted_sharpe  \n",
       "0  0.297234  0.533908  0.962172         3.751546  \n",
       "1  0.824746  0.719651  0.935776         0.711179  \n",
       "2  0.847056  0.754035  0.054880         3.275142  \n",
       "3  0.266822  0.503768  0.758689         1.878147  \n",
       "4  0.316871  0.445338  0.873088         1.083208  "
      ]
     },
     "execution_count": 30,
     "metadata": {},
     "output_type": "execute_result"
    }
   ],
   "source": [
    "out_df = pd.DataFrame(\n",
    "    data=out, \n",
    "    columns=[\n",
    "        'stock', 'direction', 'RSI', 'fair_value_mult',\n",
    "        'drop','climb', 'sharpe', 'weighted_sharpe'])\n",
    "out_df['geomean'] = np.sqrt(out_df['drop'] * out_df.climb)\n",
    "out_df['score'] = (\n",
    "    out_df.fair_value_mult\n",
    "    * out_df['drop']\n",
    "    * out_df.climb) ** (1/4) \n",
    "out_df['RSIRev'] = 1 - out_df.RSI\n",
    "out_df = out_df[\n",
    "    ['stock', 'direction', 'RSI', 'RSIRev', 'fair_value_mult', \n",
    "     'drop', 'climb', 'geomean', 'score',  'sharpe',\n",
    "     'weighted_sharpe']]\n",
    "out_df.RSI.fillna(out_df.RSI.median())\n",
    "out_df.RSIRev.fillna(out_df.RSIRev.median())\n",
    "\n",
    "out_df.weighted_sharpe.fillna(\n",
    "    out_df.weighted_sharpe.mean(), inplace=True)\n",
    "out_df.sort_values('stock')\n",
    "out_df.head()"
   ]
  },
  {
   "cell_type": "code",
   "execution_count": 31,
   "id": "166a0cf2",
   "metadata": {},
   "outputs": [
    {
     "data": {
      "text/plain": [
       "0.05    0.103985\n",
       "0.99    0.898532\n",
       "Name: geomean, dtype: float64"
      ]
     },
     "execution_count": 31,
     "metadata": {},
     "output_type": "execute_result"
    }
   ],
   "source": [
    "out_df.geomean.quantile([0.05, 0.99])"
   ]
  },
  {
   "cell_type": "code",
   "execution_count": 32,
   "id": "bbd1ecad",
   "metadata": {},
   "outputs": [],
   "source": [
    "out_df.to_csv('individ_quantiles.csv', index=False)"
   ]
  },
  {
   "cell_type": "code",
   "execution_count": 33,
   "id": "cbc0955c",
   "metadata": {},
   "outputs": [],
   "source": [
    "!open individ_quantiles.csv"
   ]
  },
  {
   "cell_type": "code",
   "execution_count": null,
   "id": "169e4685",
   "metadata": {},
   "outputs": [],
   "source": []
  }
 ],
 "metadata": {
  "kernelspec": {
   "display_name": "Python 3 (ipykernel)",
   "language": "python",
   "name": "python3"
  },
  "language_info": {
   "codemirror_mode": {
    "name": "ipython",
    "version": 3
   },
   "file_extension": ".py",
   "mimetype": "text/x-python",
   "name": "python",
   "nbconvert_exporter": "python",
   "pygments_lexer": "ipython3",
   "version": "3.10.6"
  }
 },
 "nbformat": 4,
 "nbformat_minor": 5
}
