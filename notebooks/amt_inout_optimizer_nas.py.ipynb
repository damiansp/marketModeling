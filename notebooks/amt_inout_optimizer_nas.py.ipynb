{
 "cells": [
  {
   "cell_type": "code",
   "execution_count": 1,
   "id": "e1d21e3b",
   "metadata": {},
   "outputs": [
    {
     "name": "stdout",
     "output_type": "stream",
     "text": [
      "sent: <object object at 0x129c2aa90>\n"
     ]
    }
   ],
   "source": [
    "import json\n",
    "import pickle\n",
    "import sys\n",
    "\n",
    "import matplotlib.pyplot as plt\n",
    "import numpy as np\n",
    "import pandas as pd\n",
    "\n",
    "sys.path.append('..')\n",
    "from utils.amt_inout import bounded_curve, bounded_sigmoid\n",
    "from utils.stock_loader import Loader"
   ]
  },
  {
   "cell_type": "code",
   "execution_count": 2,
   "id": "3d5fa9de",
   "metadata": {},
   "outputs": [
    {
     "name": "stdout",
     "output_type": "stream",
     "text": [
      "YF.download() has changed argument auto_adjust default to True\n"
     ]
    },
    {
     "name": "stderr",
     "output_type": "stream",
     "text": [
      "[*********************100%***********************]  1 of 1 completed\n"
     ]
    },
    {
     "name": "stdout",
     "output_type": "stream",
     "text": [
      "Generating derived columns...\n",
      "(13772, 9)\n"
     ]
    },
    {
     "data": {
      "text/html": [
       "<div>\n",
       "<style scoped>\n",
       "    .dataframe tbody tr th:only-of-type {\n",
       "        vertical-align: middle;\n",
       "    }\n",
       "\n",
       "    .dataframe tbody tr th {\n",
       "        vertical-align: top;\n",
       "    }\n",
       "\n",
       "    .dataframe thead th {\n",
       "        text-align: right;\n",
       "    }\n",
       "</style>\n",
       "<table border=\"1\" class=\"dataframe\">\n",
       "  <thead>\n",
       "    <tr style=\"text-align: right;\">\n",
       "      <th></th>\n",
       "      <th>open</th>\n",
       "      <th>high</th>\n",
       "      <th>low</th>\n",
       "      <th>close</th>\n",
       "      <th>value</th>\n",
       "      <th>logval</th>\n",
       "      <th>intraday_change</th>\n",
       "      <th>day_to_day_change</th>\n",
       "      <th>overnight_change</th>\n",
       "    </tr>\n",
       "    <tr>\n",
       "      <th>Date</th>\n",
       "      <th></th>\n",
       "      <th></th>\n",
       "      <th></th>\n",
       "      <th></th>\n",
       "      <th></th>\n",
       "      <th></th>\n",
       "      <th></th>\n",
       "      <th></th>\n",
       "      <th></th>\n",
       "    </tr>\n",
       "  </thead>\n",
       "  <tbody>\n",
       "    <tr>\n",
       "      <th>1971-02-05</th>\n",
       "      <td>100.000000</td>\n",
       "      <td>100.000000</td>\n",
       "      <td>100.000000</td>\n",
       "      <td>100.000000</td>\n",
       "      <td>100.000000</td>\n",
       "      <td>4.605170</td>\n",
       "      <td>1.0</td>\n",
       "      <td>1.008400</td>\n",
       "      <td>1.008400</td>\n",
       "    </tr>\n",
       "    <tr>\n",
       "      <th>1971-02-08</th>\n",
       "      <td>100.839996</td>\n",
       "      <td>100.839996</td>\n",
       "      <td>100.839996</td>\n",
       "      <td>100.839996</td>\n",
       "      <td>100.839996</td>\n",
       "      <td>4.613535</td>\n",
       "      <td>1.0</td>\n",
       "      <td>0.999207</td>\n",
       "      <td>0.999207</td>\n",
       "    </tr>\n",
       "    <tr>\n",
       "      <th>1971-02-09</th>\n",
       "      <td>100.760002</td>\n",
       "      <td>100.760002</td>\n",
       "      <td>100.760002</td>\n",
       "      <td>100.760002</td>\n",
       "      <td>100.760002</td>\n",
       "      <td>4.612741</td>\n",
       "      <td>1.0</td>\n",
       "      <td>0.999305</td>\n",
       "      <td>0.999305</td>\n",
       "    </tr>\n",
       "    <tr>\n",
       "      <th>1971-02-10</th>\n",
       "      <td>100.690002</td>\n",
       "      <td>100.690002</td>\n",
       "      <td>100.690002</td>\n",
       "      <td>100.690002</td>\n",
       "      <td>100.690002</td>\n",
       "      <td>4.612047</td>\n",
       "      <td>1.0</td>\n",
       "      <td>1.007548</td>\n",
       "      <td>1.007548</td>\n",
       "    </tr>\n",
       "    <tr>\n",
       "      <th>1971-02-11</th>\n",
       "      <td>101.449997</td>\n",
       "      <td>101.449997</td>\n",
       "      <td>101.449997</td>\n",
       "      <td>101.449997</td>\n",
       "      <td>101.449997</td>\n",
       "      <td>4.619566</td>\n",
       "      <td>1.0</td>\n",
       "      <td>1.005914</td>\n",
       "      <td>1.005914</td>\n",
       "    </tr>\n",
       "    <tr>\n",
       "      <th>1971-02-12</th>\n",
       "      <td>102.050003</td>\n",
       "      <td>102.050003</td>\n",
       "      <td>102.050003</td>\n",
       "      <td>102.050003</td>\n",
       "      <td>102.050003</td>\n",
       "      <td>4.625463</td>\n",
       "      <td>1.0</td>\n",
       "      <td>1.001372</td>\n",
       "      <td>1.001372</td>\n",
       "    </tr>\n",
       "    <tr>\n",
       "      <th>1971-02-16</th>\n",
       "      <td>102.190002</td>\n",
       "      <td>102.190002</td>\n",
       "      <td>102.190002</td>\n",
       "      <td>102.190002</td>\n",
       "      <td>102.190002</td>\n",
       "      <td>4.626834</td>\n",
       "      <td>1.0</td>\n",
       "      <td>0.995596</td>\n",
       "      <td>0.995596</td>\n",
       "    </tr>\n",
       "    <tr>\n",
       "      <th>1971-02-17</th>\n",
       "      <td>101.739998</td>\n",
       "      <td>101.739998</td>\n",
       "      <td>101.739998</td>\n",
       "      <td>101.739998</td>\n",
       "      <td>101.739998</td>\n",
       "      <td>4.622421</td>\n",
       "      <td>1.0</td>\n",
       "      <td>0.996855</td>\n",
       "      <td>0.996855</td>\n",
       "    </tr>\n",
       "    <tr>\n",
       "      <th>1971-02-18</th>\n",
       "      <td>101.419998</td>\n",
       "      <td>101.419998</td>\n",
       "      <td>101.419998</td>\n",
       "      <td>101.419998</td>\n",
       "      <td>101.419998</td>\n",
       "      <td>4.619270</td>\n",
       "      <td>1.0</td>\n",
       "      <td>0.992901</td>\n",
       "      <td>0.992901</td>\n",
       "    </tr>\n",
       "    <tr>\n",
       "      <th>1971-02-19</th>\n",
       "      <td>100.699997</td>\n",
       "      <td>100.699997</td>\n",
       "      <td>100.699997</td>\n",
       "      <td>100.699997</td>\n",
       "      <td>100.699997</td>\n",
       "      <td>4.612146</td>\n",
       "      <td>1.0</td>\n",
       "      <td>0.989871</td>\n",
       "      <td>0.989871</td>\n",
       "    </tr>\n",
       "  </tbody>\n",
       "</table>\n",
       "</div>"
      ],
      "text/plain": [
       "                  open        high         low       close       value  \\\n",
       "Date                                                                     \n",
       "1971-02-05  100.000000  100.000000  100.000000  100.000000  100.000000   \n",
       "1971-02-08  100.839996  100.839996  100.839996  100.839996  100.839996   \n",
       "1971-02-09  100.760002  100.760002  100.760002  100.760002  100.760002   \n",
       "1971-02-10  100.690002  100.690002  100.690002  100.690002  100.690002   \n",
       "1971-02-11  101.449997  101.449997  101.449997  101.449997  101.449997   \n",
       "1971-02-12  102.050003  102.050003  102.050003  102.050003  102.050003   \n",
       "1971-02-16  102.190002  102.190002  102.190002  102.190002  102.190002   \n",
       "1971-02-17  101.739998  101.739998  101.739998  101.739998  101.739998   \n",
       "1971-02-18  101.419998  101.419998  101.419998  101.419998  101.419998   \n",
       "1971-02-19  100.699997  100.699997  100.699997  100.699997  100.699997   \n",
       "\n",
       "              logval  intraday_change  day_to_day_change  overnight_change  \n",
       "Date                                                                        \n",
       "1971-02-05  4.605170              1.0           1.008400          1.008400  \n",
       "1971-02-08  4.613535              1.0           0.999207          0.999207  \n",
       "1971-02-09  4.612741              1.0           0.999305          0.999305  \n",
       "1971-02-10  4.612047              1.0           1.007548          1.007548  \n",
       "1971-02-11  4.619566              1.0           1.005914          1.005914  \n",
       "1971-02-12  4.625463              1.0           1.001372          1.001372  \n",
       "1971-02-16  4.626834              1.0           0.995596          0.995596  \n",
       "1971-02-17  4.622421              1.0           0.996855          0.996855  \n",
       "1971-02-18  4.619270              1.0           0.992901          0.992901  \n",
       "1971-02-19  4.612146              1.0           0.989871          0.989871  "
      ]
     },
     "execution_count": 2,
     "metadata": {},
     "output_type": "execute_result"
    }
   ],
   "source": [
    "SYM = '^IXIC'  # Nasdaq\n",
    "START = '1965-01-01'\n",
    "PARAM_PATH = '../data/inout_params_nas.pkl'\n",
    "loader = Loader([SYM], START)\n",
    "df = loader.download()\n",
    "df.set_index('Date', drop=True, inplace=True)\n",
    "df.columns = [\n",
    "    'open', 'high', 'low', 'close', 'value', 'logval',\n",
    "    'intraday_change', 'day_to_day_change', 'overnight_change']\n",
    "df.logval.fillna(method='ffill')\n",
    "for adj in ['overnight_change', 'day_to_day_change']:\n",
    "    df[adj] = pd.Series(\n",
    "        np.concatenate([df[adj].values[1:], [np.nan]]), index=df.index)\n",
    "print(df.shape)\n",
    "df.head(10)"
   ]
  },
  {
   "cell_type": "code",
   "execution_count": 3,
   "id": "4271497d",
   "metadata": {},
   "outputs": [
    {
     "data": {
      "text/plain": [
       "Date\n",
       "1984-10-11      244.699997\n",
       "1984-10-12      246.199997\n",
       "1984-10-15      247.699997\n",
       "1984-10-16      247.899994\n",
       "1984-10-17      247.100006\n",
       "                  ...     \n",
       "2025-09-15    22352.250000\n",
       "2025-09-16    22397.500000\n",
       "2025-09-17    22339.539062\n",
       "2025-09-18    22540.929688\n",
       "2025-09-19    22645.111328\n",
       "Name: high, Length: 10313, dtype: float64"
      ]
     },
     "execution_count": 3,
     "metadata": {},
     "output_type": "execute_result"
    }
   ],
   "source": [
    "df.high[(df.high != df.low)]"
   ]
  },
  {
   "cell_type": "code",
   "execution_count": 4,
   "id": "e51fe97c",
   "metadata": {},
   "outputs": [
    {
     "data": {
      "text/plain": [
       "Timestamp('1984-10-11 00:00:00+0000', tz='UTC')"
      ]
     },
     "execution_count": 4,
     "metadata": {},
     "output_type": "execute_result"
    }
   ],
   "source": [
    "SIM_START = pd.to_datetime('1984-10-11', utc=True)  # first day of legit open/close values\n",
    "SIM_START"
   ]
  },
  {
   "cell_type": "code",
   "execution_count": 5,
   "id": "94b24637",
   "metadata": {},
   "outputs": [],
   "source": [
    "def get_random_params():\n",
    "    k = np.random.uniform(1, 10)\n",
    "    if np.random.choice([True, False]):\n",
    "        k = 1/k\n",
    "    return {\n",
    "        'time_param': np.random.randint(5, 250),\n",
    "        'method':     np.random.choice(['ew', 'linear']), #'ma', 'linear_ma']),\n",
    "        't':          np.random.uniform(0, 1),\n",
    "        'k':          k,\n",
    "        'as_q':       np.random.choice([True, False]),\n",
    "        'transform_f': np.random.choice(['bounded_curve', 'bounded_sigmoid'])}"
   ]
  },
  {
   "cell_type": "code",
   "execution_count": 6,
   "id": "fbc79dd1",
   "metadata": {},
   "outputs": [],
   "source": [
    "def tweak_best_params(params, factor=2, numeric_only=False):\n",
    "    '''A small factor should have values very close to current, larger\n",
    "    values allow wilder fluctuations'''\n",
    "    time = params['time_param']\n",
    "    upper = time * factor\n",
    "    diff = upper - time\n",
    "    time = np.random.randint(time - diff, upper)\n",
    "    time = min(max(5, time), 1000)\n",
    "    \n",
    "    method = params['method']\n",
    "    if not numeric_only:\n",
    "        meths = ['ew', 'ma', 'linear_ma', 'linear']\n",
    "        idx = meths.index(method)\n",
    "        ps = np.array([1, 1, 1, 1])\n",
    "        ps[idx] = factor\n",
    "        ps = ps / ps.sum()\n",
    "        method = np.random.choice(meths, p=ps)\n",
    "    \n",
    "    t = params['t']\n",
    "    sd = 1 - 1 / (factor/2 + 1)\n",
    "    t = min(max(np.random.normal(t, scale=sd), 0.001), 0.999)\n",
    "    \n",
    "    k = params['k']\n",
    "    upper = k * factor\n",
    "    diff = upper - k\n",
    "    k = np.random.uniform(k - diff, upper)\n",
    "    k = min(max(1/10, k), 10)\n",
    "    \n",
    "    as_q = params['as_q'] if numeric_only else np.random.choice([True, False]) \n",
    "    \n",
    "    current_transform = params['transform_f']\n",
    "    other_transform = 'bounded_curve' if current_transform == 'bounded_sigmoid' else 'bounded_sigmoid'\n",
    "    p_current = 1 / factor\n",
    "    transform_f = np.random.choice([current_transform, other_transform], p=[p_current, 1 - p_current])\n",
    "    return {\n",
    "        'time_param': time,\n",
    "        'method': method,\n",
    "        't': t,\n",
    "        'k': k,\n",
    "        'as_q': as_q,\n",
    "        'transform_f': transform_f}"
   ]
  },
  {
   "cell_type": "code",
   "execution_count": 7,
   "id": "c7296988",
   "metadata": {},
   "outputs": [],
   "source": [
    "def get_ma(series: pd.Series, time_param: float | int, method: str):\n",
    "    '''Calculate the moving average\n",
    "    Args:\n",
    "    - method: 'ew' | 'ma' | 'linear' | 'linear_ma'\n",
    "    - time_param:\n",
    "      - ew=True: (real) the halflife of the exponential weights (no. \n",
    "          of  time periods it takes for weight to drop from 1 to 0.5)\n",
    "      - ew=False: (int) the ma window, or number of days to average \n",
    "   over\n",
    "    '''\n",
    "    if method == 'ew':\n",
    "        trend = series.ewm(halflife=time_param, ignore_na=True).mean()\n",
    "    elif method == 'ma':\n",
    "        trend = series.rolling(window=int(time_param)).mean()\n",
    "    elif method.startswith('linear'):\n",
    "        trend = (series).rolling(window=int(time_param)).apply(lambda x: (x[-1] + x[0]) / 2)\n",
    "        if method == 'linear_ma':\n",
    "            trend = trend.rolling(window=int(time_param)).mean()\n",
    "        trend.fillna(method='bfill', inplace=True)\n",
    "    return trend"
   ]
  },
  {
   "cell_type": "code",
   "execution_count": 8,
   "id": "1a7b2c0a",
   "metadata": {},
   "outputs": [
    {
     "data": {
      "image/png": "[encoded data removed]",
      "text/plain": [
       "<Figure size 640x480 with 1 Axes>"
      ]
     },
     "metadata": {},
     "output_type": "display_data"
    },
    {
     "data": {
      "image/png": "[encoded data removed]",
      "text/plain": [
       "<Figure size 640x480 with 1 Axes>"
      ]
     },
     "metadata": {},
     "output_type": "display_data"
    },
    {
     "data": {
      "image/png": "[encoded data removed]",
      "text/plain": [
       "<Figure size 640x480 with 1 Axes>"
      ]
     },
     "metadata": {},
     "output_type": "display_data"
    },
    {
     "data": {
      "image/png": "[encoded data removed]",
      "text/plain": [
       "<Figure size 640x480 with 1 Axes>"
      ]
     },
     "metadata": {},
     "output_type": "display_data"
    }
   ],
   "source": [
    "for method in ['ew', 'ma', 'linear', 'linear_ma']:\n",
    "    plt.plot(get_ma(df.logval, 250, method))\n",
    "    plt.xlabel(method)\n",
    "    plt.show()"
   ]
  },
  {
   "cell_type": "code",
   "execution_count": 9,
   "id": "5507e8d2",
   "metadata": {},
   "outputs": [],
   "source": [
    "def get_trend_multiple(series, time_param, method, as_q):\n",
    "    'Get deviates (as quantiles) relative to trend'\n",
    "    trend = get_ma(series, time_param, method)\n",
    "    factor = series / trend\n",
    "    if as_q:\n",
    "        factor = factor.rank() / len(factor)\n",
    "    return factor"
   ]
  },
  {
   "cell_type": "code",
   "execution_count": 10,
   "id": "f337473c",
   "metadata": {},
   "outputs": [],
   "source": [
    "def rescale_minmax(series, mn=0, mx=1):\n",
    "    s = series.copy()\n",
    "    out_rng = mx - mn\n",
    "    obs_min = s.min()\n",
    "    s -= obs_min\n",
    "    obs_max = s.max()\n",
    "    s /= obs_max\n",
    "    s *= out_rng\n",
    "    s += mn\n",
    "    return s"
   ]
  },
  {
   "cell_type": "code",
   "execution_count": 11,
   "id": "3919ac0b",
   "metadata": {},
   "outputs": [],
   "source": [
    "def calculate_next_row(row):\n",
    "    invested = row.invested * row.overnight_change\n",
    "    total = invested + row.reserve\n",
    "    target_in = total * row.amt_in\n",
    "    diff = target_in - invested  # if diff+ buy; - sell\n",
    "    invested += diff\n",
    "    reserve = row.reserve - diff\n",
    "    invested *= row.day_to_day_change\n",
    "    return invested, reserve, invested + reserve"
   ]
  },
  {
   "cell_type": "code",
   "execution_count": 12,
   "id": "46e8a296",
   "metadata": {},
   "outputs": [],
   "source": [
    "def simulate(df, params):\n",
    "    df['trend_factor'] = rescale_minmax(\n",
    "        get_trend_multiple(\n",
    "            df.logval,\n",
    "            params['time_param'],\n",
    "            method=params['method'],\n",
    "            as_q=params['as_q']))\n",
    "    ###\n",
    "    df = df[df.trend_factor.notnull()]\n",
    "    ###\n",
    "    if params['transform_f'] == 'bounded_curve':\n",
    "        df['amt_in'] = bounded_curve(\n",
    "            df.trend_factor, params['t'], params['k'], 'down')\n",
    "    elif params['transform_f'] == 'bounded_sigmoid':\n",
    "        df['amt_in'] = bounded_sigmoid(\n",
    "            df.trend_factor, params['t'], params['k'], 'down')\n",
    "    df = df.loc[df.index >= str(SIM_START.date()), :].copy()\n",
    "    df['invested'] = np.nan\n",
    "    df['reserve'] = np.nan\n",
    "    df['total'] = np.nan\n",
    "    df['invested'][0] = df.amt_in[0]\n",
    "    df['reserve'][0] = 1 - df.amt_in[0]\n",
    "    df['total'][0] = 1\n",
    "    for i in range(len(df) - 1) :\n",
    "        row = df.iloc[i, :]\n",
    "        try:\n",
    "            nxt_idx = df.index[i + 1]\n",
    "            df.loc[nxt_idx, ['invested', 'reserve', 'total']] = (\n",
    "                calculate_next_row(row))\n",
    "        except IndexError:\n",
    "            break\n",
    "    return df"
   ]
  },
  {
   "cell_type": "code",
   "execution_count": 13,
   "id": "3620a082",
   "metadata": {},
   "outputs": [],
   "source": [
    "def run_simulation(\n",
    "        df, iters=100, current_best=None, best_params=None, \n",
    "        param_select='random', factor=2, numeric_only=False):\n",
    "    orig_df = df.copy()\n",
    "    do_nothing_res = orig_df.value[-1] / orig_df.loc[str(SIM_START.date()), 'value']\n",
    "    print('Do nothing res:', do_nothing_res)\n",
    "    if current_best is None:\n",
    "        current_best = 0\n",
    "    for i in range(iters):\n",
    "        print('Round', i + 1, end=': ')\n",
    "        if i == 0 and best_params is not None and param_select == 'random':\n",
    "            params = best_params  # rerun again on new data\n",
    "            current_best = 0 \n",
    "        elif param_select == 'random':\n",
    "            params = get_random_params()\n",
    "        else:\n",
    "            params = (\n",
    "                tweak_best_params(best_params, factor, numeric_only=numeric_only)\n",
    "                if best_params is not None else get_random_params())\n",
    "        df = simulate(orig_df.copy(), params)\n",
    "        final = df.total[-1]\n",
    "        print(final)\n",
    "        if np.isnan(final):\n",
    "            return df, params\n",
    "        if final > current_best:\n",
    "            current_best = final\n",
    "            best_params = params\n",
    "            print('New best:', current_best)\n",
    "            print(params)\n",
    "            plt.plot(df.total, label='best')\n",
    "            plt.plot(df.value / df.value[0], label='S&P')\n",
    "            plt.yscale('log')\n",
    "            plt.legend()\n",
    "            plt.show()\n",
    "    return current_best, best_params"
   ]
  },
  {
   "cell_type": "code",
   "execution_count": 14,
   "id": "8796e9bf",
   "metadata": {},
   "outputs": [
    {
     "data": {
      "text/plain": [
       "(7969.311077521821,\n",
       " {'time_param': 5,\n",
       "  'method': 'ew',\n",
       "  't': 0.9809963500490723,\n",
       "  'k': 8.079520949804392,\n",
       "  'as_q': True,\n",
       "  'transform_f': 'bounded_sigmoid'})"
      ]
     },
     "execution_count": 14,
     "metadata": {},
     "output_type": "execute_result"
    }
   ],
   "source": [
    "try:\n",
    "    with open(PARAM_PATH, 'rb') as f:\n",
    "        current_best, best_params = pickle.load(f)\n",
    "except FileNotFoundError:\n",
    "    current_best, best_params = None, None\n",
    "    \n",
    "current_best, best_params"
   ]
  },
  {
   "cell_type": "code",
   "execution_count": 15,
   "id": "353d01f1",
   "metadata": {
    "scrolled": false
   },
   "outputs": [
    {
     "name": "stdout",
     "output_type": "stream",
     "text": [
      "Do nothing res: 92.48662380362393\n",
      "Round 1: 8015.004187698395\n",
      "New best: 8015.004187698395\n",
      "{'time_param': 5, 'method': 'ew', 't': 0.9809963500490723, 'k': 8.079520949804392, 'as_q': True, 'transform_f': 'bounded_sigmoid'}\n"
     ]
    },
    {
     "data": {
      "image/png": "[encoded data removed]",
      "text/plain": [
       "<Figure size 640x480 with 1 Axes>"
      ]
     },
     "metadata": {},
     "output_type": "display_data"
    },
    {
     "name": "stdout",
     "output_type": "stream",
     "text": [
      "Round 2: 1084.3747515543218\n",
      "Round 3: 62.0431968944369\n",
      "Round 4: 4909.807853107714\n",
      "Round 5: 2.181796542827439\n",
      "Round 6: 918.9051411345729\n",
      "Round 7: 9.653381750700497\n",
      "Round 8: 295.17459595908304\n",
      "Round 9: 2130.6388172293773\n",
      "Round 10: 885.6453674896604\n",
      "Round 11: 1.5568493040903517\n",
      "Round 12: 2.9065116964264313\n",
      "Round 13: 2.133336691943014\n",
      "Round 14: 4175.355571349344\n",
      "Round 15: 54.40069800511678\n",
      "Round 16: 4761.651819477427\n",
      "Round 17: 5522.887878378529\n",
      "Round 18: 25.083710377324692\n",
      "Round 19: 2014.040623681932\n",
      "Round 20: 3824.1371937052145\n",
      "Round 21: 994.9644238516059\n",
      "Round 22: 1.1392721043340808\n",
      "Round 23: 1.4940370916207086\n",
      "Round 24: 32.07308237451717\n",
      "Round 25: 3832.036881709723\n",
      "Round 26: 1.1095513671739092\n",
      "Round 27: 1835.0543057507077\n",
      "Round 28: 1.4126150936082027\n",
      "Round 29: 264.0803147804825\n",
      "Round 30: 28.268371032137168\n",
      "Round 31: 1167.3757059663442\n",
      "Round 32: 4129.764004135938\n",
      "Round 33: 3.581997074267419\n",
      "Round 34: 873.7982674586183\n",
      "Round 35: 73.3250796950878\n",
      "Round 36: 203.2760532361159\n",
      "Round 37: 64.02413425452933\n",
      "Round 38: 4288.957362250581\n",
      "Round 39: 319.22717258447244\n",
      "Round 40: 51.389236263657736\n",
      "Round 41: 43.00343298709679\n",
      "Round 42: 14.83220067391834\n",
      "Round 43: 1.1850831507057076\n",
      "Round 44: 30.876753128867538\n",
      "Round 45: 1113.5380058151206\n",
      "Round 46: 2.130810085107551\n",
      "Round 47: 35.23908359100854\n",
      "Round 48: 64.18433403157209\n",
      "Round 49: 788.6055121368187\n",
      "Round 50: 1.2814750118232607\n",
      "Round 51: 5.7335666380515615\n",
      "Round 52: 69.72153336351309\n",
      "Round 53: 11.674997782940387\n",
      "Round 54: 4.991550611895503\n",
      "Round 55: 142.36617188747027\n",
      "Round 56: 1.012886667952669\n",
      "Round 57: 4586.912653192058\n",
      "Round 58: 687.5536650678382\n",
      "Round 59: 4629.147403188029\n",
      "Round 60: 67.53414988374935\n",
      "Round 61: 5121.919224053746\n",
      "Round 62: 96.58345274556494\n",
      "Round 63: 38.14350287302356\n",
      "Round 64: 32.236857466432944\n",
      "Round 65: 145.4698938033851\n",
      "Round 66: 3.996962652042475\n",
      "Round 67: 456.98129130051586\n",
      "Round 68: 1.2755437575941173\n",
      "Round 69: 3768.8643870381075\n",
      "Round 70: 71.30142939993146\n",
      "Round 71: 805.8572310830074\n",
      "Round 72: 39.17192385776285\n",
      "Round 73: 1.0330242358191053\n",
      "Round 74: 1.2510828570807486\n",
      "Round 75: 4.244650501017954\n",
      "Round 76: 16.735253782762026\n",
      "Round 77: 104.46742420321422\n",
      "Round 78: 5492.511130002715\n",
      "Round 79: 139.5118855572889\n",
      "Round 80: 3155.366026304148\n",
      "Round 81: 205.29580145225188\n",
      "Round 82: 5521.459469994484\n",
      "Round 83: 10.633535156248977\n",
      "Round 84: 74.48872471437966\n",
      "Round 85: 2.8099714677384804\n",
      "Round 86: 2.0181508162482165\n",
      "Round 87: 68.3539815077204\n",
      "Round 88: 3.7680506617225573\n",
      "Round 89: 28.646252255790145\n",
      "Round 90: 1.9751849399633077\n",
      "Round 91: 1.0064199048007123\n",
      "Round 92: 42.727233274893194\n",
      "Round 93: 2426.000874101585\n",
      "Round 94: 851.5932842854567\n",
      "Round 95: 76.7371651860528\n",
      "Round 96: 1.9693111116819373\n",
      "Round 97: 571.0632859666574\n",
      "Round 98: 1.3499049588938374\n",
      "Round 99: 33.317534608562184\n",
      "Round 100: 228.9164186386879\n"
     ]
    }
   ],
   "source": [
    "best_out, params_out = run_simulation(\n",
    "    df.copy(), current_best=current_best, best_params=best_params)"
   ]
  },
  {
   "cell_type": "code",
   "execution_count": null,
   "id": "7c1b2fd2",
   "metadata": {
    "scrolled": true
   },
   "outputs": [
    {
     "name": "stdout",
     "output_type": "stream",
     "text": [
      "Factor: 1.0625\n",
      "Do nothing res: 92.48662380362393\n",
      "Round 1: 2.7692729760527643\n",
      "Round 2: 5699.071577116602\n",
      "Round 3: 2983.260612430294\n",
      "Round 4: 5699.140038494345\n",
      "Round 5: "
     ]
    }
   ],
   "source": [
    "# initially [1/4, 1/2, 1, 2]\n",
    "for w in [16, 32, 64, 128]:  # bigger w -> smaller factor -> smaller changes\n",
    "    factor = 1 + (1/w)\n",
    "    print('Factor:', factor)\n",
    "    best_out, params_out = run_simulation(\n",
    "        df.copy(), \n",
    "        iters=10, \n",
    "        current_best=best_out, \n",
    "        best_params=params_out, \n",
    "        param_select='tweak',\n",
    "        factor=factor,  # closer to 1: small changes; bigger: bigger\n",
    "        numeric_only=True) \n",
    "    print()"
   ]
  },
  {
   "cell_type": "code",
   "execution_count": null,
   "id": "8d59e517",
   "metadata": {},
   "outputs": [],
   "source": [
    "# Force set:\n",
    "#best_out =  3741.0821179341997\n",
    "#params_out = {'time_param': 7, 'method': 'linear', 't': 0.576903484660976, 'k': 9.813588625881824, 'as_q': False, 'transform_f': 'bounded_curve'}"
   ]
  },
  {
   "cell_type": "code",
   "execution_count": null,
   "id": "b92bcca7",
   "metadata": {},
   "outputs": [],
   "source": [
    "final_out = simulate(df, params_out)"
   ]
  },
  {
   "cell_type": "code",
   "execution_count": null,
   "id": "249328db",
   "metadata": {},
   "outputs": [],
   "source": [
    "amt_in = final_out['amt_in'][-1]\n",
    "amt_in"
   ]
  },
  {
   "cell_type": "code",
   "execution_count": null,
   "id": "fb61e5b8",
   "metadata": {},
   "outputs": [],
   "source": [
    "trend_fac = final_out['trend_factor'][-1]\n",
    "trend_fac"
   ]
  },
  {
   "cell_type": "code",
   "execution_count": null,
   "id": "bda58238",
   "metadata": {},
   "outputs": [],
   "source": [
    "params_out"
   ]
  },
  {
   "cell_type": "code",
   "execution_count": null,
   "id": "7e0037ba",
   "metadata": {},
   "outputs": [],
   "source": [
    "xs = np.linspace(0, 1, 101)\n",
    "if params_out['transform_f'] == 'bounded_curve':\n",
    "    ys = bounded_curve(xs, params_out['t'], params_out['k'], 'down')\n",
    "else:\n",
    "    ys = bounded_sigmoid(xs, params_out['t'], params_out['k'], 'down')\n",
    "plt.xlabel('Trend Factor (Normalized)')\n",
    "plt.ylabel('Percent Invested')\n",
    "plt.plot(xs, ys)\n",
    "plt.axhline(amt_in, color='r', alpha=0.7)\n",
    "plt.axvline(trend_fac, color='r', alpha=0.7);"
   ]
  },
  {
   "cell_type": "code",
   "execution_count": null,
   "id": "1c89aeb4",
   "metadata": {},
   "outputs": [],
   "source": [
    "plt.figure(figsize=(10, 10))\n",
    "plt.subplot(4, 1, 1)\n",
    "plt.plot(final_out.amt_in)\n",
    "plt.xlabel('Amount In')\n",
    "\n",
    "plt.subplot(4, 1, 2)\n",
    "plt.plot(final_out.trend_factor)\n",
    "plt.xlabel('Trend Factor')\n",
    "\n",
    "plt.subplot(4, 1, 3)\n",
    "plt.plot(final_out.logval / final_out.logval[0])\n",
    "plt.xlabel('Nasdaq')\n",
    "plt.yscale('log')\n",
    "\n",
    "plt.subplot(4, 1, 4)\n",
    "plt.plot(final_out.total)\n",
    "plt.xlabel('Performance')\n",
    "plt.yscale('log')\n",
    "plt.tight_layout();"
   ]
  },
  {
   "cell_type": "code",
   "execution_count": null,
   "id": "f9e50896",
   "metadata": {},
   "outputs": [],
   "source": [
    "N = 500\n",
    "#plt.figure(figsize=(10, 10))\n",
    "#plt.subplot(4, 1, 1)\n",
    "#plt.plot(final_out.amt_in[:N])\n",
    "#plt.xlabel('Amount In')\n",
    "\n",
    "#plt.subplot(4, 1, 2)\n",
    "#plt.plot(final_out.trend_factor[:N])\n",
    "#plt.xlabel('Trend Factor')\n",
    "\n",
    "#plt.subplot(4, 1, 3)\n",
    "#plt.plot((final_out.logval / final_out.logval[0])[:N])\n",
    "#plt.xlabel('Nasdaq')\n",
    "#plt.yscale('log')\n",
    "\n",
    "#plt.subplot(4, 1, 4)\n",
    "#plt.plot(final_out.total[:N])\n",
    "#plt.xlabel('Performance')\n",
    "#plt.yscale('log')\n",
    "#plt.tight_layout();"
   ]
  },
  {
   "cell_type": "code",
   "execution_count": null,
   "id": "f1042dc1",
   "metadata": {},
   "outputs": [],
   "source": [
    "plt.figure(figsize=(10, 10))\n",
    "plt.subplot(4, 1, 1)\n",
    "plt.plot(final_out.amt_in[-N:])\n",
    "plt.xlabel('Amount In')\n",
    "\n",
    "plt.subplot(4, 1, 2)\n",
    "plt.plot(final_out.trend_factor[-N:])\n",
    "plt.xlabel('Trend Factor')\n",
    "plt.axhline(y=0.2, color='k', alpha=0.8)\n",
    "plt.axhline(y=0.8, color='k', alpha=0.8)\n",
    "\n",
    "plt.subplot(4, 1, 3)\n",
    "plt.plot((final_out.logval / final_out.logval[0])[-N:])\n",
    "plt.xlabel('Nasdaq')\n",
    "plt.yscale('log')\n",
    "\n",
    "plt.subplot(4, 1, 4)\n",
    "plt.plot(final_out.total[-N:])\n",
    "plt.xlabel('Performance')\n",
    "plt.yscale('log')\n",
    "plt.tight_layout();"
   ]
  },
  {
   "cell_type": "code",
   "execution_count": null,
   "id": "d16b7d97",
   "metadata": {},
   "outputs": [],
   "source": [
    "frac_in = round(final_out['amt_in'][-1], 4)\n",
    "frac_in"
   ]
  },
  {
   "cell_type": "code",
   "execution_count": null,
   "id": "e58d65bf",
   "metadata": {},
   "outputs": [],
   "source": [
    "# n days\n",
    "n = (df.index >= str(SIM_START.date())).sum()\n",
    "# n years\n",
    "t = n / 250\n",
    "# amt at start\n",
    "p = df.loc[str(SIM_START.date()), 'value']\n",
    "amt = df.iloc[-1].value\n",
    "p, t, amt"
   ]
  },
  {
   "cell_type": "code",
   "execution_count": null,
   "id": "cceba23e",
   "metadata": {},
   "outputs": [],
   "source": [
    "# annualized rate of return\n",
    "r = best_out**(1/t) \n",
    "r - 1"
   ]
  },
  {
   "cell_type": "code",
   "execution_count": null,
   "id": "175ba951",
   "metadata": {},
   "outputs": [],
   "source": [
    "with open('daily_params.json', 'r') as f_in:\n",
    "    j = json.load(f_in)\n",
    "    with open('daily_params.json', 'w') as f_out:\n",
    "        j['nas'] = [r, frac_in]\n",
    "        print(j)\n",
    "        json.dump(j, f_out)"
   ]
  },
  {
   "cell_type": "code",
   "execution_count": null,
   "id": "e4f54cab",
   "metadata": {},
   "outputs": [],
   "source": [
    "with open(PARAM_PATH, 'wb') as f:\n",
    "    pickle.dump([best_out, params_out], f)\n",
    "    \n",
    "best_out, params_out"
   ]
  },
  {
   "cell_type": "code",
   "execution_count": null,
   "id": "9f9583cd",
   "metadata": {},
   "outputs": [],
   "source": []
  }
 ],
 "metadata": {
  "kernelspec": {
   "display_name": "Python 3 (ipykernel)",
   "language": "python",
   "name": "python3"
  },
  "language_info": {
   "codemirror_mode": {
    "name": "ipython",
    "version": 3
   },
   "file_extension": ".py",
   "mimetype": "text/x-python",
   "name": "python",
   "nbconvert_exporter": "python",
   "pygments_lexer": "ipython3",
   "version": "3.11.4"
  }
 },
 "nbformat": 4,
 "nbformat_minor": 5
}
