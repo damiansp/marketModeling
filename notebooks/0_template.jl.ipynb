{
 "cells": [
  {
   "cell_type": "code",
   "execution_count": 1,
   "metadata": {},
   "outputs": [],
   "source": [
    "using Dates\n",
    "using HTTP\n",
    "using JSON"
   ]
  },
  {
   "cell_type": "code",
   "execution_count": 2,
   "metadata": {},
   "outputs": [
    {
     "data": {
      "text/plain": [
       "28800"
      ]
     },
     "execution_count": 2,
     "metadata": {},
     "output_type": "execute_result"
    }
   ],
   "source": [
    "BASE_URL = \"https://query1.finance.yahoo.com\"\n",
    "TICKER = \"^GSPC\"\n",
    "TIME_ADJ = 28800"
   ]
  },
  {
   "cell_type": "code",
   "execution_count": 3,
   "metadata": {},
   "outputs": [
    {
     "data": {
      "text/plain": [
       "\"https://query1.finance.yahoo.com/v8/finance/chart/^GSPC\""
      ]
     },
     "execution_count": 3,
     "metadata": {},
     "output_type": "execute_result"
    }
   ],
   "source": [
    "url = \"$BASE_URL/v8/finance/chart/$TICKER\"\n",
    "url"
   ]
  },
  {
   "cell_type": "code",
   "execution_count": 4,
   "metadata": {},
   "outputs": [
    {
     "data": {
      "text/plain": [
       "datestr2epoch (generic function with 1 method)"
      ]
     },
     "execution_count": 4,
     "metadata": {},
     "output_type": "execute_result"
    }
   ],
   "source": [
    "function datestr2epoch(datestr::String)\n",
    "  TIME_ADJ = 28800\n",
    "  Dates.datetime2unix(DateTime(datestr)) + TIME_ADJ\n",
    "end"
   ]
  },
  {
   "cell_type": "code",
   "execution_count": 5,
   "metadata": {},
   "outputs": [
    {
     "data": {
      "text/plain": [
       "Dict{String,String} with 2 entries:\n",
       "  \"period2\" => \"1610092800\"\n",
       "  \"period1\" => \"189244800\""
      ]
     },
     "execution_count": 5,
     "metadata": {},
     "output_type": "execute_result"
    }
   ],
   "source": [
    "params = Dict(\"period1\" => \"189244800\", \"period2\" => \"1610092800\")"
   ]
  },
  {
   "cell_type": "code",
   "execution_count": 10,
   "metadata": {},
   "outputs": [],
   "source": [
    "res = HTTP.get(url, params=params);"
   ]
  },
  {
   "cell_type": "code",
   "execution_count": 11,
   "metadata": {},
   "outputs": [
    {
     "data": {
      "text/plain": [
       "Dict{String,Any} with 1 entry:\n",
       "  \"chart\" => Dict{String,Any}(\"error\"=>nothing,\"result\"=>Any[Dict{String,Any}(\"…"
      ]
     },
     "execution_count": 11,
     "metadata": {},
     "output_type": "execute_result"
    }
   ],
   "source": [
    "res_dict = JSON.parse(String(res.body))"
   ]
  },
  {
   "cell_type": "code",
   "execution_count": 28,
   "metadata": {},
   "outputs": [
    {
     "data": {
      "text/plain": [
       "Dict{String,Any} with 5 entries:\n",
       "  \"volume\" => Any[0, 10601821, 10986703, 9424343, 8948243, 11445151, 8809431, 8…\n",
       "  \"high\"   => Any[3821.1, 3823.93, 3823.7, 3821.0, 3820.92, 3822.87, 3821.77, 3…\n",
       "  \"open\"   => Any[3820.19, 3821.15, 3823.7, 3817.64, 3820.25, 3820.0, 3820.97, …\n",
       "  \"low\"    => Any[3820.19, 3820.47, 3817.9, 3816.05, 3818.31, 3819.95, 3820.09,…\n",
       "  \"close\"  => Any[3821.1, 3823.81, 3817.9, 3820.19, 3820.04, 3820.84, 3821.28, …"
      ]
     },
     "execution_count": 28,
     "metadata": {},
     "output_type": "execute_result"
    }
   ],
   "source": [
    "res_dict[\"chart\"][\"result\"][1][\"indicators\"][\"quote\"][1]"
   ]
  },
  {
   "cell_type": "code",
   "execution_count": 31,
   "metadata": {},
   "outputs": [
    {
     "data": {
      "text/plain": [
       "390-element Array{Any,1}:\n",
       " 1610116200\n",
       " 1610116260\n",
       " 1610116320\n",
       " 1610116380\n",
       " 1610116440\n",
       " 1610116500\n",
       " 1610116560\n",
       " 1610116620\n",
       " 1610116680\n",
       " 1610116740\n",
       " 1610116800\n",
       " 1610116860\n",
       " 1610116920\n",
       "          ⋮\n",
       " 1610138880\n",
       " 1610138940\n",
       " 1610139000\n",
       " 1610139060\n",
       " 1610139120\n",
       " 1610139180\n",
       " 1610139240\n",
       " 1610139300\n",
       " 1610139360\n",
       " 1610139420\n",
       " 1610139480\n",
       " 1610139540"
      ]
     },
     "execution_count": 31,
     "metadata": {},
     "output_type": "execute_result"
    }
   ],
   "source": [
    "res_dict[\"chart\"][\"result\"][1][\"timestamp\"]"
   ]
  },
  {
   "cell_type": "code",
   "execution_count": null,
   "metadata": {},
   "outputs": [],
   "source": []
  }
 ],
 "metadata": {
  "kernelspec": {
   "display_name": "Julia 1.5.1",
   "language": "julia",
   "name": "julia-1.5"
  },
  "language_info": {
   "file_extension": ".jl",
   "mimetype": "application/julia",
   "name": "julia",
   "version": "1.5.1"
  }
 },
 "nbformat": 4,
 "nbformat_minor": 4
}
