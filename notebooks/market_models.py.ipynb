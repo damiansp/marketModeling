{
 "cells": [
  {
   "cell_type": "code",
   "execution_count": 1,
   "metadata": {
    "collapsed": true
   },
   "outputs": [],
   "source": [
    "import matplotlib.pyplot as plt\n",
    "import numpy as np\n",
    "import pandas as pd\n",
    "\n",
    "%matplotlib inline"
   ]
  },
  {
   "cell_type": "code",
   "execution_count": 2,
   "metadata": {
    "collapsed": false
   },
   "outputs": [
    {
     "data": {
      "text/html": [
       "<div>\n",
       "<style>\n",
       "    .dataframe thead tr:only-child th {\n",
       "        text-align: right;\n",
       "    }\n",
       "\n",
       "    .dataframe thead th {\n",
       "        text-align: left;\n",
       "    }\n",
       "\n",
       "    .dataframe tbody tr th {\n",
       "        vertical-align: top;\n",
       "    }\n",
       "</style>\n",
       "<table border=\"1\" class=\"dataframe\">\n",
       "  <thead>\n",
       "    <tr style=\"text-align: right;\">\n",
       "      <th></th>\n",
       "      <th>Date</th>\n",
       "      <th>Open</th>\n",
       "      <th>Close</th>\n",
       "      <th>Value</th>\n",
       "    </tr>\n",
       "  </thead>\n",
       "  <tbody>\n",
       "    <tr>\n",
       "      <th>0</th>\n",
       "      <td>1/3/50</td>\n",
       "      <td>16.66</td>\n",
       "      <td>16.66</td>\n",
       "      <td>16.66</td>\n",
       "    </tr>\n",
       "    <tr>\n",
       "      <th>1</th>\n",
       "      <td>1/4/50</td>\n",
       "      <td>16.85</td>\n",
       "      <td>16.85</td>\n",
       "      <td>16.85</td>\n",
       "    </tr>\n",
       "    <tr>\n",
       "      <th>2</th>\n",
       "      <td>1/5/50</td>\n",
       "      <td>16.93</td>\n",
       "      <td>16.93</td>\n",
       "      <td>16.93</td>\n",
       "    </tr>\n",
       "    <tr>\n",
       "      <th>3</th>\n",
       "      <td>1/6/50</td>\n",
       "      <td>16.98</td>\n",
       "      <td>16.98</td>\n",
       "      <td>16.98</td>\n",
       "    </tr>\n",
       "    <tr>\n",
       "      <th>4</th>\n",
       "      <td>1/9/50</td>\n",
       "      <td>17.08</td>\n",
       "      <td>17.08</td>\n",
       "      <td>17.08</td>\n",
       "    </tr>\n",
       "  </tbody>\n",
       "</table>\n",
       "</div>"
      ],
      "text/plain": [
       "     Date   Open  Close  Value\n",
       "0  1/3/50  16.66  16.66  16.66\n",
       "1  1/4/50  16.85  16.85  16.85\n",
       "2  1/5/50  16.93  16.93  16.93\n",
       "3  1/6/50  16.98  16.98  16.98\n",
       "4  1/9/50  17.08  17.08  17.08"
      ]
     },
     "execution_count": 2,
     "metadata": {},
     "output_type": "execute_result"
    }
   ],
   "source": [
    "sp = pd.read_csv('../data/sp1950.csv')\n",
    "#sp['Date'] = pd.to_datetime(sp.Date)\n",
    "sp = sp[['Date', 'Open', 'Close', 'Adj Close']]\n",
    "sp = sp.rename(columns={'Adj Close': 'Value'})\n",
    "sp.head()"
   ]
  },
  {
   "cell_type": "code",
   "execution_count": 3,
   "metadata": {
    "collapsed": false
   },
   "outputs": [
    {
     "data": {
      "text/html": [
       "<div>\n",
       "<style>\n",
       "    .dataframe thead tr:only-child th {\n",
       "        text-align: right;\n",
       "    }\n",
       "\n",
       "    .dataframe thead th {\n",
       "        text-align: left;\n",
       "    }\n",
       "\n",
       "    .dataframe tbody tr th {\n",
       "        vertical-align: top;\n",
       "    }\n",
       "</style>\n",
       "<table border=\"1\" class=\"dataframe\">\n",
       "  <thead>\n",
       "    <tr style=\"text-align: right;\">\n",
       "      <th></th>\n",
       "      <th>Date</th>\n",
       "      <th>Open</th>\n",
       "      <th>Close</th>\n",
       "      <th>Value</th>\n",
       "    </tr>\n",
       "  </thead>\n",
       "  <tbody>\n",
       "    <tr>\n",
       "      <th>17383</th>\n",
       "      <td>2/4/19</td>\n",
       "      <td>2702.320068</td>\n",
       "      <td>2724.87</td>\n",
       "      <td>2724.87</td>\n",
       "    </tr>\n",
       "    <tr>\n",
       "      <th>17384</th>\n",
       "      <td>2/5/19</td>\n",
       "      <td>2702.320068</td>\n",
       "      <td>2737.70</td>\n",
       "      <td>2724.87</td>\n",
       "    </tr>\n",
       "    <tr>\n",
       "      <th>17385</th>\n",
       "      <td>2/6/19</td>\n",
       "      <td>2702.320068</td>\n",
       "      <td>2731.61</td>\n",
       "      <td>2731.61</td>\n",
       "    </tr>\n",
       "    <tr>\n",
       "      <th>17386</th>\n",
       "      <td>2/7/19</td>\n",
       "      <td>2702.320068</td>\n",
       "      <td>2706.05</td>\n",
       "      <td>2706.05</td>\n",
       "    </tr>\n",
       "    <tr>\n",
       "      <th>17387</th>\n",
       "      <td>2/8/19</td>\n",
       "      <td>2702.320068</td>\n",
       "      <td>2707.88</td>\n",
       "      <td>2707.88</td>\n",
       "    </tr>\n",
       "  </tbody>\n",
       "</table>\n",
       "</div>"
      ],
      "text/plain": [
       "         Date         Open    Close    Value\n",
       "17383  2/4/19  2702.320068  2724.87  2724.87\n",
       "17384  2/5/19  2702.320068  2737.70  2724.87\n",
       "17385  2/6/19  2702.320068  2731.61  2731.61\n",
       "17386  2/7/19  2702.320068  2706.05  2706.05\n",
       "17387  2/8/19  2702.320068  2707.88  2707.88"
      ]
     },
     "execution_count": 3,
     "metadata": {},
     "output_type": "execute_result"
    }
   ],
   "source": [
    "sp.tail()"
   ]
  },
  {
   "cell_type": "code",
   "execution_count": 4,
   "metadata": {
    "collapsed": false
   },
   "outputs": [],
   "source": [
    "def date2datetime(date):\n",
    "    month, day, year = date.split('/')\n",
    "    if int(year) > 20:\n",
    "        year = int(year) + 1900\n",
    "    else:\n",
    "        year = int(year) + 2000\n",
    "    try:\n",
    "        return pd.to_datetime(f'{year}-{month}-{day}')\n",
    "    except:\n",
    "        print(date)"
   ]
  },
  {
   "cell_type": "code",
   "execution_count": 5,
   "metadata": {
    "collapsed": false
   },
   "outputs": [
    {
     "data": {
      "text/plain": [
       "Timestamp('1950-01-03 00:00:00')"
      ]
     },
     "execution_count": 5,
     "metadata": {},
     "output_type": "execute_result"
    }
   ],
   "source": [
    "date2datetime('1/3/50')"
   ]
  },
  {
   "cell_type": "code",
   "execution_count": 6,
   "metadata": {
    "collapsed": false
   },
   "outputs": [
    {
     "data": {
      "text/html": [
       "<div>\n",
       "<style>\n",
       "    .dataframe thead tr:only-child th {\n",
       "        text-align: right;\n",
       "    }\n",
       "\n",
       "    .dataframe thead th {\n",
       "        text-align: left;\n",
       "    }\n",
       "\n",
       "    .dataframe tbody tr th {\n",
       "        vertical-align: top;\n",
       "    }\n",
       "</style>\n",
       "<table border=\"1\" class=\"dataframe\">\n",
       "  <thead>\n",
       "    <tr style=\"text-align: right;\">\n",
       "      <th></th>\n",
       "      <th>Date</th>\n",
       "      <th>Open</th>\n",
       "      <th>Close</th>\n",
       "      <th>Value</th>\n",
       "    </tr>\n",
       "  </thead>\n",
       "  <tbody>\n",
       "    <tr>\n",
       "      <th>0</th>\n",
       "      <td>1950-01-03</td>\n",
       "      <td>16.66</td>\n",
       "      <td>16.66</td>\n",
       "      <td>16.66</td>\n",
       "    </tr>\n",
       "    <tr>\n",
       "      <th>1</th>\n",
       "      <td>1950-01-04</td>\n",
       "      <td>16.85</td>\n",
       "      <td>16.85</td>\n",
       "      <td>16.85</td>\n",
       "    </tr>\n",
       "    <tr>\n",
       "      <th>2</th>\n",
       "      <td>1950-01-05</td>\n",
       "      <td>16.93</td>\n",
       "      <td>16.93</td>\n",
       "      <td>16.93</td>\n",
       "    </tr>\n",
       "    <tr>\n",
       "      <th>3</th>\n",
       "      <td>1950-01-06</td>\n",
       "      <td>16.98</td>\n",
       "      <td>16.98</td>\n",
       "      <td>16.98</td>\n",
       "    </tr>\n",
       "    <tr>\n",
       "      <th>4</th>\n",
       "      <td>1950-01-09</td>\n",
       "      <td>17.08</td>\n",
       "      <td>17.08</td>\n",
       "      <td>17.08</td>\n",
       "    </tr>\n",
       "  </tbody>\n",
       "</table>\n",
       "</div>"
      ],
      "text/plain": [
       "        Date   Open  Close  Value\n",
       "0 1950-01-03  16.66  16.66  16.66\n",
       "1 1950-01-04  16.85  16.85  16.85\n",
       "2 1950-01-05  16.93  16.93  16.93\n",
       "3 1950-01-06  16.98  16.98  16.98\n",
       "4 1950-01-09  17.08  17.08  17.08"
      ]
     },
     "execution_count": 6,
     "metadata": {},
     "output_type": "execute_result"
    }
   ],
   "source": [
    "sp.Date = sp.Date.apply(date2datetime)\n",
    "sp.head()"
   ]
  },
  {
   "cell_type": "code",
   "execution_count": 7,
   "metadata": {
    "collapsed": false
   },
   "outputs": [
    {
     "data": {
      "text/html": [
       "<div>\n",
       "<style>\n",
       "    .dataframe thead tr:only-child th {\n",
       "        text-align: right;\n",
       "    }\n",
       "\n",
       "    .dataframe thead th {\n",
       "        text-align: left;\n",
       "    }\n",
       "\n",
       "    .dataframe tbody tr th {\n",
       "        vertical-align: top;\n",
       "    }\n",
       "</style>\n",
       "<table border=\"1\" class=\"dataframe\">\n",
       "  <thead>\n",
       "    <tr style=\"text-align: right;\">\n",
       "      <th></th>\n",
       "      <th>Date</th>\n",
       "      <th>Open</th>\n",
       "      <th>Close</th>\n",
       "      <th>Value</th>\n",
       "      <th>ChangeSinceOpen</th>\n",
       "    </tr>\n",
       "  </thead>\n",
       "  <tbody>\n",
       "    <tr>\n",
       "      <th>17383</th>\n",
       "      <td>2019-02-04</td>\n",
       "      <td>2702.320068</td>\n",
       "      <td>2724.87</td>\n",
       "      <td>2724.87</td>\n",
       "      <td>1.008345</td>\n",
       "    </tr>\n",
       "    <tr>\n",
       "      <th>17384</th>\n",
       "      <td>2019-02-05</td>\n",
       "      <td>2702.320068</td>\n",
       "      <td>2737.70</td>\n",
       "      <td>2724.87</td>\n",
       "      <td>1.013092</td>\n",
       "    </tr>\n",
       "    <tr>\n",
       "      <th>17385</th>\n",
       "      <td>2019-02-06</td>\n",
       "      <td>2702.320068</td>\n",
       "      <td>2731.61</td>\n",
       "      <td>2731.61</td>\n",
       "      <td>1.010839</td>\n",
       "    </tr>\n",
       "    <tr>\n",
       "      <th>17386</th>\n",
       "      <td>2019-02-07</td>\n",
       "      <td>2702.320068</td>\n",
       "      <td>2706.05</td>\n",
       "      <td>2706.05</td>\n",
       "      <td>1.001380</td>\n",
       "    </tr>\n",
       "    <tr>\n",
       "      <th>17387</th>\n",
       "      <td>2019-02-08</td>\n",
       "      <td>2702.320068</td>\n",
       "      <td>2707.88</td>\n",
       "      <td>2707.88</td>\n",
       "      <td>1.002057</td>\n",
       "    </tr>\n",
       "  </tbody>\n",
       "</table>\n",
       "</div>"
      ],
      "text/plain": [
       "            Date         Open    Close    Value  ChangeSinceOpen\n",
       "17383 2019-02-04  2702.320068  2724.87  2724.87         1.008345\n",
       "17384 2019-02-05  2702.320068  2737.70  2724.87         1.013092\n",
       "17385 2019-02-06  2702.320068  2731.61  2731.61         1.010839\n",
       "17386 2019-02-07  2702.320068  2706.05  2706.05         1.001380\n",
       "17387 2019-02-08  2702.320068  2707.88  2707.88         1.002057"
      ]
     },
     "execution_count": 7,
     "metadata": {},
     "output_type": "execute_result"
    }
   ],
   "source": [
    "sp['ChangeSinceOpen'] = sp['Close'] / sp['Open']\n",
    "sp.tail()"
   ]
  },
  {
   "cell_type": "code",
   "execution_count": 8,
   "metadata": {
    "collapsed": false
   },
   "outputs": [
    {
     "data": {
      "text/html": [
       "<div>\n",
       "<style>\n",
       "    .dataframe thead tr:only-child th {\n",
       "        text-align: right;\n",
       "    }\n",
       "\n",
       "    .dataframe thead th {\n",
       "        text-align: left;\n",
       "    }\n",
       "\n",
       "    .dataframe tbody tr th {\n",
       "        vertical-align: top;\n",
       "    }\n",
       "</style>\n",
       "<table border=\"1\" class=\"dataframe\">\n",
       "  <thead>\n",
       "    <tr style=\"text-align: right;\">\n",
       "      <th></th>\n",
       "      <th>Date</th>\n",
       "      <th>Open</th>\n",
       "      <th>Close</th>\n",
       "      <th>Value</th>\n",
       "      <th>ChangeSinceOpen</th>\n",
       "      <th>DailyChange</th>\n",
       "      <th>OvernightChange</th>\n",
       "    </tr>\n",
       "  </thead>\n",
       "  <tbody>\n",
       "    <tr>\n",
       "      <th>17383</th>\n",
       "      <td>2019-02-04</td>\n",
       "      <td>2702.320068</td>\n",
       "      <td>2724.87</td>\n",
       "      <td>2724.87</td>\n",
       "      <td>1.008345</td>\n",
       "      <td>1.006776</td>\n",
       "      <td>0.998445</td>\n",
       "    </tr>\n",
       "    <tr>\n",
       "      <th>17384</th>\n",
       "      <td>2019-02-05</td>\n",
       "      <td>2702.320068</td>\n",
       "      <td>2737.70</td>\n",
       "      <td>2724.87</td>\n",
       "      <td>1.013092</td>\n",
       "      <td>1.000000</td>\n",
       "      <td>0.991724</td>\n",
       "    </tr>\n",
       "    <tr>\n",
       "      <th>17385</th>\n",
       "      <td>2019-02-06</td>\n",
       "      <td>2702.320068</td>\n",
       "      <td>2731.61</td>\n",
       "      <td>2731.61</td>\n",
       "      <td>1.010839</td>\n",
       "      <td>1.002474</td>\n",
       "      <td>0.987077</td>\n",
       "    </tr>\n",
       "    <tr>\n",
       "      <th>17386</th>\n",
       "      <td>2019-02-07</td>\n",
       "      <td>2702.320068</td>\n",
       "      <td>2706.05</td>\n",
       "      <td>2706.05</td>\n",
       "      <td>1.001380</td>\n",
       "      <td>0.990643</td>\n",
       "      <td>0.989277</td>\n",
       "    </tr>\n",
       "    <tr>\n",
       "      <th>17387</th>\n",
       "      <td>2019-02-08</td>\n",
       "      <td>2702.320068</td>\n",
       "      <td>2707.88</td>\n",
       "      <td>2707.88</td>\n",
       "      <td>1.002057</td>\n",
       "      <td>1.000676</td>\n",
       "      <td>0.998622</td>\n",
       "    </tr>\n",
       "  </tbody>\n",
       "</table>\n",
       "</div>"
      ],
      "text/plain": [
       "            Date         Open    Close    Value  ChangeSinceOpen  DailyChange  \\\n",
       "17383 2019-02-04  2702.320068  2724.87  2724.87         1.008345     1.006776   \n",
       "17384 2019-02-05  2702.320068  2737.70  2724.87         1.013092     1.000000   \n",
       "17385 2019-02-06  2702.320068  2731.61  2731.61         1.010839     1.002474   \n",
       "17386 2019-02-07  2702.320068  2706.05  2706.05         1.001380     0.990643   \n",
       "17387 2019-02-08  2702.320068  2707.88  2707.88         1.002057     1.000676   \n",
       "\n",
       "       OvernightChange  \n",
       "17383         0.998445  \n",
       "17384         0.991724  \n",
       "17385         0.987077  \n",
       "17386         0.989277  \n",
       "17387         0.998622  "
      ]
     },
     "execution_count": 8,
     "metadata": {},
     "output_type": "execute_result"
    }
   ],
   "source": [
    "sp['DailyChange'] = np.nan\n",
    "sp['OvernightChange'] = np.nan\n",
    "for day in range(1, sp.shape[0]):\n",
    "    sp.loc[day, 'DailyChange'] = (sp.loc[day, 'Value'] \n",
    "                                  / sp.loc[day - 1, 'Value'])\n",
    "    sp.loc[day, 'OvernightChange'] = (sp.loc[day, 'Open'] \n",
    "                                      / sp.loc[day - 1, 'Close'])\n",
    "    #if day < 3000 and sp.loc[day, 'ChangeSinceOpen'] == 1.:\n",
    "    #    sp.loc[day, 'ChangeSinceOpen'] = sp.loc[day, 'DailyChange']\n",
    "sp.tail()        "
   ]
  },
  {
   "cell_type": "code",
   "execution_count": 9,
   "metadata": {
    "collapsed": false
   },
   "outputs": [
    {
     "data": {
      "image/png": "[encoded data removed]",
      "text/plain": [
       "<matplotlib.figure.Figure at 0x1075d83c8>"
      ]
     },
     "metadata": {},
     "output_type": "display_data"
    }
   ],
   "source": [
    "plt.plot(sp.Date, sp.Value);\n",
    "plt.yscale('log');"
   ]
  },
  {
   "cell_type": "code",
   "execution_count": 10,
   "metadata": {
    "collapsed": false
   },
   "outputs": [
    {
     "data": {
      "image/png": "[encoded data removed]",
      "text/plain": [
       "<matplotlib.figure.Figure at 0x1114f6390>"
      ]
     },
     "metadata": {},
     "output_type": "display_data"
    }
   ],
   "source": [
    "plt.plot(sp.ChangeSinceOpen, alpha=0.4, label='intraday')\n",
    "plt.plot(sp.DailyChange, alpha=0.4, label='interday')\n",
    "plt.plot(sp.OvernightChange, alpha=0.4, label='overnight')\n",
    "plt.legend();"
   ]
  },
  {
   "cell_type": "code",
   "execution_count": 11,
   "metadata": {
    "collapsed": false
   },
   "outputs": [],
   "source": [
    "#list(sp['ChangeSinceOpen'] > 1.).index(True) # 3014\n",
    "#(sp['ChangeSinceOpen'][:3013] == 1).all() # True\n",
    "#(sp['ChangeSinceOpen'][:3014] == 1).all() # False\n",
    "sp = sp.loc[3014:, :]\n",
    "sp.index = range(sp.shape[0])"
   ]
  },
  {
   "cell_type": "code",
   "execution_count": 12,
   "metadata": {
    "collapsed": false
   },
   "outputs": [
    {
     "data": {
      "image/png": "[encoded data removed]",
      "text/plain": [
       "<matplotlib.figure.Figure at 0x11181d128>"
      ]
     },
     "metadata": {},
     "output_type": "display_data"
    }
   ],
   "source": [
    "plt.plot(sp.ChangeSinceOpen, alpha=0.4, label='intraday')\n",
    "plt.plot(sp.DailyChange, alpha=0.4, label='interday')\n",
    "plt.plot(sp.OvernightChange, alpha=0.4, label='overnight')\n",
    "plt.legend();"
   ]
  },
  {
   "cell_type": "code",
   "execution_count": 13,
   "metadata": {
    "collapsed": false
   },
   "outputs": [
    {
     "data": {
      "image/png": "[encoded data removed]",
      "text/plain": [
       "<matplotlib.figure.Figure at 0x1070c0a58>"
      ]
     },
     "metadata": {},
     "output_type": "display_data"
    }
   ],
   "source": [
    "plt.plot(sp.Date, sp.Value);\n",
    "plt.yscale('log');"
   ]
  },
  {
   "cell_type": "code",
   "execution_count": 14,
   "metadata": {
    "collapsed": false
   },
   "outputs": [],
   "source": [
    "def moving_dev_signals(x, params):\n",
    "    '''\n",
    "    @params\n",
    "    x: list: time series of prices\n",
    "    params: list: [up_qs, up_amounts, down_qs, down_amounts]\n",
    "    up_qs, down_qs: lists: quantiles for which, moving upward/downward \n",
    "        across signals an action\n",
    "    up_amounts, down_amounts: lists: amount to put in (+) or take out (-)\n",
    "        associated with each up signal (qs)\n",
    "    @return: array of signals (usually just one, but multiple events may\n",
    "        occur on a single day)\n",
    "    '''\n",
    "    up_qs, up_amounts, down_qs, down_amounts = params\n",
    "    x = x.tolist()\n",
    "    n = len(x)\n",
    "    up_qs = np.quantile(x, up_qs)\n",
    "    down_qs = np.quantile(x, down_qs)\n",
    "    signals = []\n",
    "    for q, action in zip(up_qs, up_amounts):\n",
    "        if x[n - 2] < q and x[n - 1] > q:\n",
    "            signals.append(action)\n",
    "    for q, action in zip(down_qs, down_amounts):\n",
    "        if x[n - 2] > q and x[n - 1] < 1:\n",
    "            signals.append(action)\n",
    "    return signals if signals else [0]"
   ]
  },
  {
   "cell_type": "code",
   "execution_count": 15,
   "metadata": {
    "collapsed": false
   },
   "outputs": [],
   "source": [
    "def sliding_window(x, window, func, **kwargs):\n",
    "    '''\n",
    "    Apply the function func to each frame of a timeseries, x with a moving\n",
    "    window, window\n",
    "    \n",
    "    @params\n",
    "    x: list: the complete time series of prices\n",
    "    window: int: the number of days to apply the function to\n",
    "    func: function: a function that takes a time series as input and \n",
    "        returns a list of one or more signals each day, where a signal is\n",
    "        the percentage of money to put in or take out\n",
    "    **kwargs: additional arguments to pass to func\n",
    "    @return: a list of lists, each list in the primary list is a list of \n",
    "        signals for each single day\n",
    "    '''\n",
    "    n = len(x)\n",
    "    all_signals = [[0] for _ in range(window)]\n",
    "    for w in range(window, n):\n",
    "        signals = func(x[(w - window):w], **kwargs)\n",
    "        all_signals.append(signals)\n",
    "    return all_signals"
   ]
  },
  {
   "cell_type": "code",
   "execution_count": 16,
   "metadata": {
    "collapsed": false
   },
   "outputs": [],
   "source": [
    "# Test \n",
    "x = sp.Value\n",
    "up_qs = [0.05, 0.45]\n",
    "up_amounts = [0.9, 0.3]\n",
    "down_qs = [0.95, 0.55]\n",
    "down_amounts = [-0.7, -0.9]\n",
    "params = [up_qs, up_amounts, down_qs, down_amounts]\n",
    "window = 30\n",
    "\n",
    "#actions = sliding_window(x, \n",
    "#                         window, \n",
    "#                         moving_dev_signals,\n",
    "#                         up_qs=up_qs, \n",
    "#                         up_amounts=up_amounts, \n",
    "#                         down_qs=down_qs,\n",
    "#                         down_amounts=down_amounts)\n",
    "# The action based on today gets applied tomorrow\n",
    "#actions = [0] + actions[:-1] "
   ]
  },
  {
   "cell_type": "code",
   "execution_count": 17,
   "metadata": {
    "collapsed": true
   },
   "outputs": [],
   "source": [
    "def generate_actions(sp, window, func, params):\n",
    "    x = sp.Value\n",
    "    actions = sliding_window(x, window, func, params=params)\n",
    "    actions = [0] + actions[:-1]\n",
    "    sp['Actions'] = actions\n",
    "    return sp"
   ]
  },
  {
   "cell_type": "code",
   "execution_count": 18,
   "metadata": {
    "collapsed": false
   },
   "outputs": [
    {
     "data": {
      "text/html": [
       "<div>\n",
       "<style>\n",
       "    .dataframe thead tr:only-child th {\n",
       "        text-align: right;\n",
       "    }\n",
       "\n",
       "    .dataframe thead th {\n",
       "        text-align: left;\n",
       "    }\n",
       "\n",
       "    .dataframe tbody tr th {\n",
       "        vertical-align: top;\n",
       "    }\n",
       "</style>\n",
       "<table border=\"1\" class=\"dataframe\">\n",
       "  <thead>\n",
       "    <tr style=\"text-align: right;\">\n",
       "      <th></th>\n",
       "      <th>Date</th>\n",
       "      <th>Open</th>\n",
       "      <th>Close</th>\n",
       "      <th>Value</th>\n",
       "      <th>ChangeSinceOpen</th>\n",
       "      <th>DailyChange</th>\n",
       "      <th>OvernightChange</th>\n",
       "      <th>Actions</th>\n",
       "    </tr>\n",
       "  </thead>\n",
       "  <tbody>\n",
       "    <tr>\n",
       "      <th>14369</th>\n",
       "      <td>2019-02-04</td>\n",
       "      <td>2702.320068</td>\n",
       "      <td>2724.87</td>\n",
       "      <td>2724.87</td>\n",
       "      <td>1.008345</td>\n",
       "      <td>1.006776</td>\n",
       "      <td>0.998445</td>\n",
       "      <td>[0]</td>\n",
       "    </tr>\n",
       "    <tr>\n",
       "      <th>14370</th>\n",
       "      <td>2019-02-05</td>\n",
       "      <td>2702.320068</td>\n",
       "      <td>2737.70</td>\n",
       "      <td>2724.87</td>\n",
       "      <td>1.013092</td>\n",
       "      <td>1.000000</td>\n",
       "      <td>0.991724</td>\n",
       "      <td>[0]</td>\n",
       "    </tr>\n",
       "    <tr>\n",
       "      <th>14371</th>\n",
       "      <td>2019-02-06</td>\n",
       "      <td>2702.320068</td>\n",
       "      <td>2731.61</td>\n",
       "      <td>2731.61</td>\n",
       "      <td>1.010839</td>\n",
       "      <td>1.002474</td>\n",
       "      <td>0.987077</td>\n",
       "      <td>[0]</td>\n",
       "    </tr>\n",
       "    <tr>\n",
       "      <th>14372</th>\n",
       "      <td>2019-02-07</td>\n",
       "      <td>2702.320068</td>\n",
       "      <td>2706.05</td>\n",
       "      <td>2706.05</td>\n",
       "      <td>1.001380</td>\n",
       "      <td>0.990643</td>\n",
       "      <td>0.989277</td>\n",
       "      <td>[0]</td>\n",
       "    </tr>\n",
       "    <tr>\n",
       "      <th>14373</th>\n",
       "      <td>2019-02-08</td>\n",
       "      <td>2702.320068</td>\n",
       "      <td>2707.88</td>\n",
       "      <td>2707.88</td>\n",
       "      <td>1.002057</td>\n",
       "      <td>1.000676</td>\n",
       "      <td>0.998622</td>\n",
       "      <td>[0]</td>\n",
       "    </tr>\n",
       "  </tbody>\n",
       "</table>\n",
       "</div>"
      ],
      "text/plain": [
       "            Date         Open    Close    Value  ChangeSinceOpen  DailyChange  \\\n",
       "14369 2019-02-04  2702.320068  2724.87  2724.87         1.008345     1.006776   \n",
       "14370 2019-02-05  2702.320068  2737.70  2724.87         1.013092     1.000000   \n",
       "14371 2019-02-06  2702.320068  2731.61  2731.61         1.010839     1.002474   \n",
       "14372 2019-02-07  2702.320068  2706.05  2706.05         1.001380     0.990643   \n",
       "14373 2019-02-08  2702.320068  2707.88  2707.88         1.002057     1.000676   \n",
       "\n",
       "       OvernightChange Actions  \n",
       "14369         0.998445     [0]  \n",
       "14370         0.991724     [0]  \n",
       "14371         0.987077     [0]  \n",
       "14372         0.989277     [0]  \n",
       "14373         0.998622     [0]  "
      ]
     },
     "execution_count": 18,
     "metadata": {},
     "output_type": "execute_result"
    }
   ],
   "source": [
    "sp = generate_actions(sp, 30, moving_dev_signals, params=params)\n",
    "sp.tail()"
   ]
  },
  {
   "cell_type": "code",
   "execution_count": 19,
   "metadata": {
    "collapsed": false
   },
   "outputs": [
    {
     "data": {
      "text/plain": [
       "71.129997"
      ]
     },
     "execution_count": 19,
     "metadata": {},
     "output_type": "execute_result"
    }
   ],
   "source": [
    "init_amount = sp.Value[0]\n",
    "init_amount"
   ]
  },
  {
   "cell_type": "code",
   "execution_count": 20,
   "metadata": {
    "collapsed": false
   },
   "outputs": [
    {
     "data": {
      "text/html": [
       "<div>\n",
       "<style>\n",
       "    .dataframe thead tr:only-child th {\n",
       "        text-align: right;\n",
       "    }\n",
       "\n",
       "    .dataframe thead th {\n",
       "        text-align: left;\n",
       "    }\n",
       "\n",
       "    .dataframe tbody tr th {\n",
       "        vertical-align: top;\n",
       "    }\n",
       "</style>\n",
       "<table border=\"1\" class=\"dataframe\">\n",
       "  <thead>\n",
       "    <tr style=\"text-align: right;\">\n",
       "      <th></th>\n",
       "      <th>Date</th>\n",
       "      <th>Open</th>\n",
       "      <th>Close</th>\n",
       "      <th>Value</th>\n",
       "      <th>ChangeSinceOpen</th>\n",
       "      <th>DailyChange</th>\n",
       "      <th>OvernightChange</th>\n",
       "      <th>Actions</th>\n",
       "      <th>Reserve</th>\n",
       "      <th>Invested</th>\n",
       "    </tr>\n",
       "  </thead>\n",
       "  <tbody>\n",
       "    <tr>\n",
       "      <th>0</th>\n",
       "      <td>1962-01-03</td>\n",
       "      <td>70.959999</td>\n",
       "      <td>71.129997</td>\n",
       "      <td>71.129997</td>\n",
       "      <td>1.002396</td>\n",
       "      <td>1.002396</td>\n",
       "      <td>1.0</td>\n",
       "      <td>0</td>\n",
       "      <td>71.129997</td>\n",
       "      <td>0.0</td>\n",
       "    </tr>\n",
       "    <tr>\n",
       "      <th>1</th>\n",
       "      <td>1962-01-04</td>\n",
       "      <td>71.129997</td>\n",
       "      <td>70.639999</td>\n",
       "      <td>70.639999</td>\n",
       "      <td>0.993111</td>\n",
       "      <td>0.993111</td>\n",
       "      <td>1.0</td>\n",
       "      <td>[0]</td>\n",
       "      <td>NaN</td>\n",
       "      <td>NaN</td>\n",
       "    </tr>\n",
       "    <tr>\n",
       "      <th>2</th>\n",
       "      <td>1962-01-05</td>\n",
       "      <td>70.639999</td>\n",
       "      <td>69.660004</td>\n",
       "      <td>69.660004</td>\n",
       "      <td>0.986127</td>\n",
       "      <td>0.986127</td>\n",
       "      <td>1.0</td>\n",
       "      <td>[0]</td>\n",
       "      <td>NaN</td>\n",
       "      <td>NaN</td>\n",
       "    </tr>\n",
       "    <tr>\n",
       "      <th>3</th>\n",
       "      <td>1962-01-08</td>\n",
       "      <td>69.660004</td>\n",
       "      <td>69.120003</td>\n",
       "      <td>69.120003</td>\n",
       "      <td>0.992248</td>\n",
       "      <td>0.992248</td>\n",
       "      <td>1.0</td>\n",
       "      <td>[0]</td>\n",
       "      <td>NaN</td>\n",
       "      <td>NaN</td>\n",
       "    </tr>\n",
       "    <tr>\n",
       "      <th>4</th>\n",
       "      <td>1962-01-09</td>\n",
       "      <td>69.120003</td>\n",
       "      <td>69.150002</td>\n",
       "      <td>69.150002</td>\n",
       "      <td>1.000434</td>\n",
       "      <td>1.000434</td>\n",
       "      <td>1.0</td>\n",
       "      <td>[0]</td>\n",
       "      <td>NaN</td>\n",
       "      <td>NaN</td>\n",
       "    </tr>\n",
       "  </tbody>\n",
       "</table>\n",
       "</div>"
      ],
      "text/plain": [
       "        Date       Open      Close      Value  ChangeSinceOpen  DailyChange  \\\n",
       "0 1962-01-03  70.959999  71.129997  71.129997         1.002396     1.002396   \n",
       "1 1962-01-04  71.129997  70.639999  70.639999         0.993111     0.993111   \n",
       "2 1962-01-05  70.639999  69.660004  69.660004         0.986127     0.986127   \n",
       "3 1962-01-08  69.660004  69.120003  69.120003         0.992248     0.992248   \n",
       "4 1962-01-09  69.120003  69.150002  69.150002         1.000434     1.000434   \n",
       "\n",
       "   OvernightChange Actions    Reserve  Invested  \n",
       "0              1.0       0  71.129997       0.0  \n",
       "1              1.0     [0]        NaN       NaN  \n",
       "2              1.0     [0]        NaN       NaN  \n",
       "3              1.0     [0]        NaN       NaN  \n",
       "4              1.0     [0]        NaN       NaN  "
      ]
     },
     "execution_count": 20,
     "metadata": {},
     "output_type": "execute_result"
    }
   ],
   "source": [
    "sp['Reserve'] = np.nan\n",
    "sp['Invested'] = np.nan\n",
    "sp.loc[0, 'Reserve'] = init_amount\n",
    "sp.loc[0, 'Invested'] = 0.\n",
    "sp.head()"
   ]
  },
  {
   "cell_type": "code",
   "execution_count": 21,
   "metadata": {
    "collapsed": true
   },
   "outputs": [],
   "source": [
    "def update_values(row):\n",
    "    reserve = row['Reserve']\n",
    "    invested = row['Invested']\n",
    "    change_since_open = row['ChangeSinceOpen']\n",
    "    overnight_change = row['OvernightChange']\n",
    "    invested *= overnight_change\n",
    "    money_per_action = 0\n",
    "    for action in row['Actions']:\n",
    "        if action > 0: # Buy\n",
    "            money_per_action = reserve * action\n",
    "        if action < 0: # Sell\n",
    "            money_per_action = invested * action    \n",
    "        reserve -= money_per_action\n",
    "        invested += money_per_action\n",
    "    invested *= change_since_open\n",
    "    return reserve, invested"
   ]
  },
  {
   "cell_type": "code",
   "execution_count": 22,
   "metadata": {
    "collapsed": false
   },
   "outputs": [],
   "source": [
    "def predict_performance(sp):\n",
    "    for day in range(1, sp.shape[0]):\n",
    "        sp.loc[day, ['Reserve', 'Invested']] = sp.loc[\n",
    "            day - 1, ['Reserve', 'Invested']]\n",
    "        sp.loc[day, ['Reserve', 'Invested']] = update_values(\n",
    "            sp.loc[day, :])\n",
    "        sp['Total'] = sp['Reserve'] + sp['Invested']\n",
    "    return sp"
   ]
  },
  {
   "cell_type": "code",
   "execution_count": 23,
   "metadata": {
    "collapsed": false
   },
   "outputs": [
    {
     "data": {
      "text/html": [
       "<div>\n",
       "<style>\n",
       "    .dataframe thead tr:only-child th {\n",
       "        text-align: right;\n",
       "    }\n",
       "\n",
       "    .dataframe thead th {\n",
       "        text-align: left;\n",
       "    }\n",
       "\n",
       "    .dataframe tbody tr th {\n",
       "        vertical-align: top;\n",
       "    }\n",
       "</style>\n",
       "<table border=\"1\" class=\"dataframe\">\n",
       "  <thead>\n",
       "    <tr style=\"text-align: right;\">\n",
       "      <th></th>\n",
       "      <th>Date</th>\n",
       "      <th>Open</th>\n",
       "      <th>Close</th>\n",
       "      <th>Value</th>\n",
       "      <th>ChangeSinceOpen</th>\n",
       "      <th>DailyChange</th>\n",
       "      <th>OvernightChange</th>\n",
       "      <th>Actions</th>\n",
       "      <th>Reserve</th>\n",
       "      <th>Invested</th>\n",
       "      <th>Total</th>\n",
       "    </tr>\n",
       "  </thead>\n",
       "  <tbody>\n",
       "    <tr>\n",
       "      <th>14369</th>\n",
       "      <td>2019-02-04</td>\n",
       "      <td>2702.320068</td>\n",
       "      <td>2724.87</td>\n",
       "      <td>2724.87</td>\n",
       "      <td>1.008345</td>\n",
       "      <td>1.006776</td>\n",
       "      <td>0.998445</td>\n",
       "      <td>[0]</td>\n",
       "      <td>0.0</td>\n",
       "      <td>2768.075524</td>\n",
       "      <td>2768.075524</td>\n",
       "    </tr>\n",
       "    <tr>\n",
       "      <th>14370</th>\n",
       "      <td>2019-02-05</td>\n",
       "      <td>2702.320068</td>\n",
       "      <td>2737.70</td>\n",
       "      <td>2724.87</td>\n",
       "      <td>1.013092</td>\n",
       "      <td>1.000000</td>\n",
       "      <td>0.991724</td>\n",
       "      <td>[0]</td>\n",
       "      <td>0.0</td>\n",
       "      <td>2781.108956</td>\n",
       "      <td>2781.108956</td>\n",
       "    </tr>\n",
       "    <tr>\n",
       "      <th>14371</th>\n",
       "      <td>2019-02-06</td>\n",
       "      <td>2702.320068</td>\n",
       "      <td>2731.61</td>\n",
       "      <td>2731.61</td>\n",
       "      <td>1.010839</td>\n",
       "      <td>1.002474</td>\n",
       "      <td>0.987077</td>\n",
       "      <td>[0]</td>\n",
       "      <td>0.0</td>\n",
       "      <td>2774.922393</td>\n",
       "      <td>2774.922393</td>\n",
       "    </tr>\n",
       "    <tr>\n",
       "      <th>14372</th>\n",
       "      <td>2019-02-07</td>\n",
       "      <td>2702.320068</td>\n",
       "      <td>2706.05</td>\n",
       "      <td>2706.05</td>\n",
       "      <td>1.001380</td>\n",
       "      <td>0.990643</td>\n",
       "      <td>0.989277</td>\n",
       "      <td>[0]</td>\n",
       "      <td>0.0</td>\n",
       "      <td>2748.957114</td>\n",
       "      <td>2748.957114</td>\n",
       "    </tr>\n",
       "    <tr>\n",
       "      <th>14373</th>\n",
       "      <td>2019-02-08</td>\n",
       "      <td>2702.320068</td>\n",
       "      <td>2707.88</td>\n",
       "      <td>2707.88</td>\n",
       "      <td>1.002057</td>\n",
       "      <td>1.000676</td>\n",
       "      <td>0.998622</td>\n",
       "      <td>[0]</td>\n",
       "      <td>0.0</td>\n",
       "      <td>2750.816131</td>\n",
       "      <td>2750.816131</td>\n",
       "    </tr>\n",
       "  </tbody>\n",
       "</table>\n",
       "</div>"
      ],
      "text/plain": [
       "            Date         Open    Close    Value  ChangeSinceOpen  DailyChange  \\\n",
       "14369 2019-02-04  2702.320068  2724.87  2724.87         1.008345     1.006776   \n",
       "14370 2019-02-05  2702.320068  2737.70  2724.87         1.013092     1.000000   \n",
       "14371 2019-02-06  2702.320068  2731.61  2731.61         1.010839     1.002474   \n",
       "14372 2019-02-07  2702.320068  2706.05  2706.05         1.001380     0.990643   \n",
       "14373 2019-02-08  2702.320068  2707.88  2707.88         1.002057     1.000676   \n",
       "\n",
       "       OvernightChange Actions  Reserve     Invested        Total  \n",
       "14369         0.998445     [0]      0.0  2768.075524  2768.075524  \n",
       "14370         0.991724     [0]      0.0  2781.108956  2781.108956  \n",
       "14371         0.987077     [0]      0.0  2774.922393  2774.922393  \n",
       "14372         0.989277     [0]      0.0  2748.957114  2748.957114  \n",
       "14373         0.998622     [0]      0.0  2750.816131  2750.816131  "
      ]
     },
     "execution_count": 23,
     "metadata": {},
     "output_type": "execute_result"
    }
   ],
   "source": [
    "sp = predict_performance(sp)\n",
    "sp.tail()"
   ]
  },
  {
   "cell_type": "code",
   "execution_count": 24,
   "metadata": {
    "collapsed": false
   },
   "outputs": [
    {
     "data": {
      "image/png": "[encoded data removed]",
      "text/plain": [
       "<matplotlib.figure.Figure at 0x11153d208>"
      ]
     },
     "metadata": {},
     "output_type": "display_data"
    }
   ],
   "source": [
    "plt.plot(sp.Date, sp.Value, label='SP')\n",
    "plt.plot(sp.Date, sp.Total, label='Portfolio');\n",
    "plt.yscale('log');\n",
    "plt.legend();"
   ]
  },
  {
   "cell_type": "code",
   "execution_count": 25,
   "metadata": {
    "collapsed": false
   },
   "outputs": [
    {
     "data": {
      "text/plain": [
       "2750.816130513769"
      ]
     },
     "execution_count": 25,
     "metadata": {},
     "output_type": "execute_result"
    }
   ],
   "source": [
    "sp.Total.tolist()[-1]"
   ]
  },
  {
   "cell_type": "markdown",
   "metadata": {},
   "source": [
    "# Repeat Search from Here\n",
    "\n",
    "### 3-Deviations per direction (private portfolio)"
   ]
  },
  {
   "cell_type": "code",
   "execution_count": 38,
   "metadata": {
    "collapsed": false
   },
   "outputs": [
    {
     "name": "stdout",
     "output_type": "stream",
     "text": [
      "best yet: 6401.08\n",
      "best params:\n",
      "[[0.7444853760798101, 0.7268519565262801, 0.11631352067299794], [0.5736752417317599, 0.9718231803601413, -0.21136722814495337], [0.7327549938313901, 0.2953861402342123, 0.3138140846109865], [0.9364925145562178, 0.3941335437002613, -0.7709318082357525]]\n",
      "best window:204\n"
     ]
    }
   ],
   "source": [
    "ITERS = 100\n",
    "best_yet = 6401.08\n",
    "best_params = [\n",
    "    [0.7444853760798101, 0.7268519565262801, 0.11631352067299794], \n",
    "    [0.5736752417317599, 0.9718231803601413, -0.21136722814495337], \n",
    "    [0.7327549938313901, 0.2953861402342123, 0.3138140846109865], \n",
    "    [0.9364925145562178, 0.3941335437002613, -0.7709318082357525]]\n",
    "best_window = 204\n",
    "print(f'best yet: {best_yet}\\nbest params:\\n{best_params}\\n'\n",
    "      f'best window:{best_window}')\n",
    "sd = 0.004"
   ]
  },
  {
   "cell_type": "code",
   "execution_count": 39,
   "metadata": {
    "collapsed": false
   },
   "outputs": [],
   "source": [
    "def init_values(sd, init_window, init_params, min_window=10):\n",
    "    up_qs, up_amts, down_qs, down_amts = init_params\n",
    "    def trunc_normal(mean, sd, minval, maxval):\n",
    "        val = np.random.normal(mean, scale=sd)\n",
    "        val = max(min(val, maxval), minval)\n",
    "        return val\n",
    "    \n",
    "    window = int(round(trunc_normal(init_window, 400*sd, min_window, 500)))\n",
    "    up_q1   = trunc_normal(up_qs[0], sd, 0.05, 0.95)\n",
    "    up_q2   = trunc_normal(up_qs[1], sd, 0.05, 0.95)\n",
    "    up_q3   = trunc_normal(up_qs[2], sd, 0.05, 0.95)\n",
    "    down_q1 = trunc_normal(down_qs[0], sd, 0.05, 0.95)\n",
    "    down_q2 = trunc_normal(down_qs[1], sd, 0.05, 0.95)\n",
    "    down_q3 = trunc_normal(down_qs[2], sd, 0.05, 0.95)\n",
    "    up_amount1   = trunc_normal(up_amts[0], 2*sd, -1, 1)\n",
    "    up_amount2   = trunc_normal(up_amts[1], 2*sd, -1, 1)\n",
    "    up_amount3   = trunc_normal(up_amts[2], 2*sd, -1, 1)\n",
    "    down_amount1 = trunc_normal(down_amts[0], 2*sd, -1, 1)\n",
    "    down_amount2 = trunc_normal(down_amts[1], 2*sd, -1, 1)\n",
    "    down_amount3 = trunc_normal(down_amts[2], 2*sd, -1, 1)\n",
    "    up_qs = [up_q1, up_q2, up_q3]\n",
    "    down_qs = [down_q1, down_q2, down_q3]\n",
    "    up_amounts = [up_amount1, up_amount2, up_amount3]\n",
    "    down_amounts = [down_amount1, down_amount2, down_amount3]\n",
    "    params = [up_qs, up_amounts, down_qs, down_amounts]\n",
    "    return window, params\n",
    "\n",
    "#init_values(sd, best_window, best_params)"
   ]
  },
  {
   "cell_type": "code",
   "execution_count": 40,
   "metadata": {
    "collapsed": false
   },
   "outputs": [
    {
     "name": "stdout",
     "output_type": "stream",
     "text": [
      " 1: Final value: $ 6232.31 (window = 206)\n",
      " 2: Final value: $ 6171.37 (window = 203)\n",
      " 3: Final value: $ 6002.86 (window = 206)\n",
      " 4: Final value: $ 6369.55 (window = 204)\n",
      " 5: Final value: $ 6392.07 (window = 204)\n",
      " 6: Final value: $ 6025.59 (window = 205)\n",
      " 7: Final value: $ 5988.14 (window = 206)\n",
      " 8: Final value: $ 6070.69 (window = 206)\n",
      " 9: Final value: $ 6317.27 (window = 202)\n",
      "10: Final value: $ 6119.07 (window = 207)\n",
      "11: Final value: $ 6095.44 (window = 204)\n",
      "12: Final value: $ 6291.41 (window = 204)\n",
      "13: Final value: $ 6114.29 (window = 202)\n",
      "14: Final value: $ 6240.96 (window = 203)\n",
      "15: Final value: $ 6263.56 (window = 201)\n",
      "16: Final value: $ 6318.51 (window = 202)\n",
      "17: Final value: $ 6227.64 (window = 203)\n",
      "18: Final value: $ 6124.42 (window = 207)\n",
      "19: Final value: $ 6072.06 (window = 206)\n",
      "20: Final value: $ 6121.21 (window = 205)\n",
      "21: Final value: $ 6099.73 (window = 207)\n",
      "22: Final value: $ 6231.48 (window = 203)\n",
      "23: Final value: $ 6379.75 (window = 204)\n",
      "24: Final value: $ 6038.19 (window = 205)\n",
      "25: Final value: $ 6255.95 (window = 205)\n",
      "26: Final value: $ 6056.73 (window = 208)\n",
      "27: Final value: $ 6146.39 (window = 203)\n",
      "28: Final value: $ 6115.84 (window = 200)\n",
      "29: Final value: $ 5860.59 (window = 207)\n",
      "30: Final value: $ 6241.26 (window = 202)\n",
      "31: Final value: $ 6278.05 (window = 205)\n",
      "32: Final value: $ 6293.41 (window = 202)\n",
      "33: Final value: $ 6189.35 (window = 204)\n",
      "34: Final value: $ 6293.27 (window = 204)\n",
      "35: Final value: $ 6096.79 (window = 204)\n",
      "36: Final value: $ 6202.22 (window = 202)\n",
      "37: Final value: $ 6309.74 (window = 206)\n",
      "38: Final value: $ 6273.28 (window = 202)\n",
      "39: Final value: $ 6089.21 (window = 206)\n",
      "40: Final value: $ 6251.20 (window = 205)\n",
      "41: Final value: $ 6358.59 (window = 204)\n",
      "42: Final value: $ 6137.48 (window = 204)\n",
      "43: Final value: $ 6278.99 (window = 204)\n",
      "44: Final value: $ 6127.24 (window = 204)\n",
      "45: Final value: $ 5921.87 (window = 207)\n",
      "46: Final value: $ 6364.44 (window = 204)\n",
      "47: Final value: $ 6173.98 (window = 203)\n",
      "48: Final value: $ 6308.44 (window = 202)\n",
      "49: Final value: $ 6077.82 (window = 201)\n",
      "50: Final value: $ 6319.91 (window = 202)\n",
      "51: Final value: $ 5990.67 (window = 208)\n",
      "52: Final value: $ 6126.66 (window = 207)\n",
      "53: Final value: $ 6323.00 (window = 204)\n",
      "54: Final value: $ 5950.56 (window = 208)\n",
      "55: Final value: $ 6227.70 (window = 203)\n",
      "56: Final value: $ 6004.04 (window = 206)\n",
      "57: Final value: $ 6202.86 (window = 204)\n",
      "58: Final value: $ 6165.02 (window = 203)\n",
      "59: Final value: $ 6284.46 (window = 204)\n",
      "60: Final value: $ 6016.97 (window = 205)\n",
      "61: Final value: $ 5999.10 (window = 205)\n",
      "62: Final value: $ 6284.85 (window = 202)\n",
      "63: Final value: $ 6318.64 (window = 205)\n",
      "64: Final value: $ 6255.69 (window = 205)\n",
      "65: Final value: $ 6310.29 (window = 204)\n",
      "66: Final value: $ 6252.75 (window = 203)\n",
      "67: Final value: $ 6240.86 (window = 203)\n",
      "68: Final value: $ 6231.64 (window = 207)\n",
      "69: Final value: $ 5819.32 (window = 205)\n",
      "70: Final value: $ 5965.44 (window = 204)\n",
      "71: Final value: $ 6310.65 (window = 204)\n",
      "72: Final value: $ 6312.47 (window = 204)\n",
      "73: Final value: $ 6194.82 (window = 202)\n",
      "74: Final value: $ 6360.08 (window = 204)\n",
      "75: Final value: $ 6081.80 (window = 206)\n",
      "76: Final value: $ 6241.46 (window = 204)\n",
      "77: Final value: $ 6032.80 (window = 205)\n",
      "78: Final value: $ 6196.96 (window = 203)\n",
      "79: Final value: $ 6259.37 (window = 202)\n",
      "80: Final value: $ 6011.01 (window = 206)\n",
      "81: Final value: $ 6263.12 (window = 202)\n",
      "82: Final value: $ 6185.90 (window = 204)\n",
      "83: Final value: $ 6032.12 (window = 205)\n",
      "84: Final value: $ 6258.77 (window = 205)\n",
      "85: Final value: $ 6224.66 (window = 203)\n",
      "86: Final value: $ 6114.96 (window = 207)\n",
      "87: Final value: $ 6260.97 (window = 202)\n",
      "88: Final value: $ 6086.61 (window = 206)\n",
      "89: Final value: $ 6029.63 (window = 205)\n",
      "90: Final value: $ 6170.93 (window = 203)\n",
      "91: Final value: $ 6000.04 (window = 206)\n",
      "92: Final value: $ 6209.36 (window = 203)\n",
      "93: Final value: $ 6158.15 (window = 203)\n",
      "94: Final value: $ 6241.41 (window = 203)\n",
      "95: Final value: $ 6030.26 (window = 205)\n",
      "96: Final value: $ 6277.37 (window = 205)\n",
      "97: Final value: $ 6042.26 (window = 205)\n",
      "98: Final value: $ 6178.37 (window = 205)\n",
      "99: Final value: $ 6070.20 (window = 206)\n",
      "100: Final value: $ 6176.89 (window = 201)\n"
     ]
    },
    {
     "data": {
      "image/png": "[encoded data removed]",
      "text/plain": [
       "<matplotlib.figure.Figure at 0x11483ce10>"
      ]
     },
     "metadata": {},
     "output_type": "display_data"
    }
   ],
   "source": [
    "plt.figure(figsize=[10, 8])\n",
    "plt.plot(sp.Date, sp.Value, 'k-', linewidth=3)\n",
    "for i in range(ITERS):\n",
    "    window, params = init_values(sd, best_window, best_params)\n",
    "    sp = generate_actions(\n",
    "        sp, window, func=moving_dev_signals, params=params)\n",
    "    sp = predict_performance(sp)\n",
    "    plt.plot(sp.Date, sp.Total, alpha=0.2);\n",
    "    final_value = sp.Total.tolist()[-1]\n",
    "    print(f'{i + 1:2d}: Final value: ${final_value:8.2f} '\n",
    "          f'(window = {window})')\n",
    "    if final_value > best_yet:\n",
    "        print(f'New best model!\\n{params}\\nwindow: {window}')\n",
    "        best_yet = final_value\n",
    "        best_params = params\n",
    "plt.yscale('log');    "
   ]
  },
  {
   "cell_type": "markdown",
   "metadata": {},
   "source": [
    "### 2-Deviations per direction (401(k))"
   ]
  },
  {
   "cell_type": "code",
   "execution_count": 47,
   "metadata": {
    "collapsed": false
   },
   "outputs": [
    {
     "name": "stdout",
     "output_type": "stream",
     "text": [
      "best yet: 5903.07\n",
      "best params:\n",
      "[[0.08298781850301395, 0.6319206753329255], [-0.336705666692921, 0.9957561888736707], [0.8076178202934372, 0.1948155305099095], [0.4837710505551213, 1]]\n",
      "best window:283\n"
     ]
    }
   ],
   "source": [
    "ITERS = 30\n",
    "best_yet_401k = 5903.07 \n",
    "best_params_401k = [\n",
    "    [0.08298781850301395, 0.6319206753329255], \n",
    "    [-0.336705666692921, 0.9957561888736707], \n",
    "    [0.8076178202934372, 0.1948155305099095], \n",
    "    [0.4837710505551213, 1]]\n",
    "best_window_401k = 283\n",
    "print(f'best yet: {best_yet_401k}\\nbest params:\\n{best_params_401k}\\n'\n",
    "      f'best window:{best_window_401k}')\n",
    "sd = 0.004"
   ]
  },
  {
   "cell_type": "code",
   "execution_count": 48,
   "metadata": {
    "collapsed": true
   },
   "outputs": [],
   "source": [
    "def init_values(sd, init_window, init_params, min_window=60):\n",
    "    up_qs, up_amts, down_qs, down_amts = init_params\n",
    "    def trunc_normal(mean, sd, minval, maxval):\n",
    "        val = np.random.normal(mean, scale=sd)\n",
    "        val = max(min(val, maxval), minval)\n",
    "        return val\n",
    "    \n",
    "    window = int(round(trunc_normal(init_window, 400*sd, min_window, 500)))\n",
    "    up_q1   = trunc_normal(up_qs[0], sd, 0.05, 0.95)\n",
    "    up_q2   = trunc_normal(up_qs[1], sd, 0.05, 0.95)\n",
    "    down_q1 = trunc_normal(down_qs[0], sd, 0.05, 0.95)\n",
    "    down_q2 = trunc_normal(down_qs[1], sd, 0.05, 0.95)\n",
    "    up_amount1   = trunc_normal(up_amts[0], 2*sd, -1, 1)\n",
    "    up_amount2   = trunc_normal(up_amts[1], 2*sd, -1, 1)\n",
    "    down_amount1 = trunc_normal(down_amts[0], 2*sd, -1, 1)\n",
    "    down_amount2 = trunc_normal(down_amts[1], 2*sd, -1, 1)\n",
    "    up_qs = [up_q1, up_q2]\n",
    "    down_qs = [down_q1, down_q2]\n",
    "    up_amounts = [up_amount1, up_amount2]\n",
    "    down_amounts = [down_amount1, down_amount2]\n",
    "    params = [up_qs, up_amounts, down_qs, down_amounts]\n",
    "    return window, params\n",
    "\n",
    "#init_values(sd, best_window, best_params)"
   ]
  },
  {
   "cell_type": "code",
   "execution_count": 49,
   "metadata": {
    "collapsed": false
   },
   "outputs": [
    {
     "name": "stdout",
     "output_type": "stream",
     "text": [
      " 1: Final value: $ 5663.40 (window = 283)\n",
      " 2: Final value: $ 5756.16 (window = 282)\n",
      " 3: Final value: $ 5746.44 (window = 282)\n",
      " 4: Final value: $ 5594.36 (window = 281)\n",
      " 5: Final value: $ 5597.50 (window = 284)\n",
      " 6: Final value: $ 5064.12 (window = 287)\n",
      " 7: Final value: $ 5694.91 (window = 284)\n",
      " 8: Final value: $ 5695.32 (window = 283)\n",
      " 9: Final value: $ 4689.41 (window = 282)\n",
      "10: Final value: $ 5115.51 (window = 281)\n",
      "11: Final value: $ 5244.70 (window = 283)\n",
      "12: Final value: $ 5170.06 (window = 284)\n",
      "13: Final value: $ 5752.62 (window = 281)\n",
      "14: Final value: $ 5764.00 (window = 283)\n",
      "15: Final value: $ 5807.45 (window = 284)\n",
      "16: Final value: $ 5875.51 (window = 284)\n",
      "17: Final value: $ 5222.88 (window = 279)\n",
      "18: Final value: $ 5840.92 (window = 284)\n",
      "19: Final value: $ 5707.38 (window = 283)\n",
      "20: Final value: $ 5834.90 (window = 284)\n",
      "21: Final value: $ 5813.87 (window = 282)\n",
      "22: Final value: $ 5705.70 (window = 284)\n",
      "23: Final value: $ 5714.90 (window = 286)\n",
      "24: Final value: $ 5619.04 (window = 282)\n",
      "25: Final value: $ 5240.19 (window = 285)\n",
      "26: Final value: $ 5099.11 (window = 285)\n",
      "27: Final value: $ 5741.27 (window = 281)\n",
      "28: Final value: $ 5675.30 (window = 282)\n",
      "29: Final value: $ 5307.85 (window = 284)\n",
      "30: Final value: $ 5736.83 (window = 281)\n"
     ]
    },
    {
     "data": {
      "image/png": "[encoded data removed]",
      "text/plain": [
       "<matplotlib.figure.Figure at 0x11183c390>"
      ]
     },
     "metadata": {},
     "output_type": "display_data"
    }
   ],
   "source": [
    "plt.figure(figsize=[10, 8])\n",
    "plt.plot(sp.Date, sp.Value, 'k-', linewidth=3)\n",
    "for i in range(ITERS):\n",
    "    window_401k, params_401k = init_values(\n",
    "        sd, best_window_401k, best_params_401k, min_window=60)\n",
    "    sp = generate_actions(\n",
    "        sp, window_401k, func=moving_dev_signals, params=params_401k)\n",
    "    sp = predict_performance(sp)\n",
    "    plt.plot(sp.Date, sp.Total, alpha=0.2);\n",
    "    final_value_401k = sp.Total.tolist()[-1]\n",
    "    print(f'{i + 1:2d}: Final value: ${final_value_401k:8.2f} '\n",
    "          f'(window = {window_401k})')\n",
    "    if final_value_401k > best_yet_401k:\n",
    "        print(f'New best model!\\n{params_401k}\\nwindow: {window_401k}')\n",
    "        best_yet_401k = final_value_401k\n",
    "        best_params_401k = params_401k\n",
    "plt.yscale('log');    "
   ]
  },
  {
   "cell_type": "code",
   "execution_count": null,
   "metadata": {
    "collapsed": true
   },
   "outputs": [],
   "source": []
  }
 ],
 "metadata": {
  "kernelspec": {
   "display_name": "Python 3",
   "language": "python",
   "name": "python3"
  },
  "language_info": {
   "codemirror_mode": {
    "name": "ipython",
    "version": 3
   },
   "file_extension": ".py",
   "mimetype": "text/x-python",
   "name": "python",
   "nbconvert_exporter": "python",
   "pygments_lexer": "ipython3",
   "version": "3.6.1"
  }
 },
 "nbformat": 4,
 "nbformat_minor": 0
}
