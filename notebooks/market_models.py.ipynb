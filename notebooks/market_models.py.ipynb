{
 "cells": [
  {
   "cell_type": "code",
   "execution_count": 1,
   "metadata": {
    "collapsed": true
   },
   "outputs": [],
   "source": [
    "import matplotlib.pyplot as plt\n",
    "import numpy as np\n",
    "import pandas as pd\n",
    "\n",
    "%matplotlib inline"
   ]
  },
  {
   "cell_type": "code",
   "execution_count": 2,
   "metadata": {
    "collapsed": false
   },
   "outputs": [
    {
     "data": {
      "text/html": [
       "<div>\n",
       "<style>\n",
       "    .dataframe thead tr:only-child th {\n",
       "        text-align: right;\n",
       "    }\n",
       "\n",
       "    .dataframe thead th {\n",
       "        text-align: left;\n",
       "    }\n",
       "\n",
       "    .dataframe tbody tr th {\n",
       "        vertical-align: top;\n",
       "    }\n",
       "</style>\n",
       "<table border=\"1\" class=\"dataframe\">\n",
       "  <thead>\n",
       "    <tr style=\"text-align: right;\">\n",
       "      <th></th>\n",
       "      <th>Date</th>\n",
       "      <th>Open</th>\n",
       "      <th>Close</th>\n",
       "      <th>Value</th>\n",
       "    </tr>\n",
       "  </thead>\n",
       "  <tbody>\n",
       "    <tr>\n",
       "      <th>0</th>\n",
       "      <td>1/3/50</td>\n",
       "      <td>16.66</td>\n",
       "      <td>16.66</td>\n",
       "      <td>16.66</td>\n",
       "    </tr>\n",
       "    <tr>\n",
       "      <th>1</th>\n",
       "      <td>1/4/50</td>\n",
       "      <td>16.85</td>\n",
       "      <td>16.85</td>\n",
       "      <td>16.85</td>\n",
       "    </tr>\n",
       "    <tr>\n",
       "      <th>2</th>\n",
       "      <td>1/5/50</td>\n",
       "      <td>16.93</td>\n",
       "      <td>16.93</td>\n",
       "      <td>16.93</td>\n",
       "    </tr>\n",
       "    <tr>\n",
       "      <th>3</th>\n",
       "      <td>1/6/50</td>\n",
       "      <td>16.98</td>\n",
       "      <td>16.98</td>\n",
       "      <td>16.98</td>\n",
       "    </tr>\n",
       "    <tr>\n",
       "      <th>4</th>\n",
       "      <td>1/9/50</td>\n",
       "      <td>17.08</td>\n",
       "      <td>17.08</td>\n",
       "      <td>17.08</td>\n",
       "    </tr>\n",
       "  </tbody>\n",
       "</table>\n",
       "</div>"
      ],
      "text/plain": [
       "     Date   Open  Close  Value\n",
       "0  1/3/50  16.66  16.66  16.66\n",
       "1  1/4/50  16.85  16.85  16.85\n",
       "2  1/5/50  16.93  16.93  16.93\n",
       "3  1/6/50  16.98  16.98  16.98\n",
       "4  1/9/50  17.08  17.08  17.08"
      ]
     },
     "execution_count": 2,
     "metadata": {},
     "output_type": "execute_result"
    }
   ],
   "source": [
    "sp = pd.read_csv('../data/sp1950.csv')\n",
    "#sp['Date'] = pd.to_datetime(sp.Date)\n",
    "sp = sp[['Date', 'Open', 'Close', 'Adj Close']]\n",
    "sp = sp.rename(columns={'Adj Close': 'Value'})\n",
    "sp.head()"
   ]
  },
  {
   "cell_type": "code",
   "execution_count": 3,
   "metadata": {
    "collapsed": false
   },
   "outputs": [
    {
     "data": {
      "text/html": [
       "<div>\n",
       "<style>\n",
       "    .dataframe thead tr:only-child th {\n",
       "        text-align: right;\n",
       "    }\n",
       "\n",
       "    .dataframe thead th {\n",
       "        text-align: left;\n",
       "    }\n",
       "\n",
       "    .dataframe tbody tr th {\n",
       "        vertical-align: top;\n",
       "    }\n",
       "</style>\n",
       "<table border=\"1\" class=\"dataframe\">\n",
       "  <thead>\n",
       "    <tr style=\"text-align: right;\">\n",
       "      <th></th>\n",
       "      <th>Date</th>\n",
       "      <th>Open</th>\n",
       "      <th>Close</th>\n",
       "      <th>Value</th>\n",
       "    </tr>\n",
       "  </thead>\n",
       "  <tbody>\n",
       "    <tr>\n",
       "      <th>17378</th>\n",
       "      <td>1/28/19</td>\n",
       "      <td>2657.439941</td>\n",
       "      <td>2643.85</td>\n",
       "      <td>2643.85</td>\n",
       "    </tr>\n",
       "    <tr>\n",
       "      <th>17379</th>\n",
       "      <td>1/29/19</td>\n",
       "      <td>2657.439941</td>\n",
       "      <td>2640.00</td>\n",
       "      <td>2640.00</td>\n",
       "    </tr>\n",
       "    <tr>\n",
       "      <th>17380</th>\n",
       "      <td>1/30/19</td>\n",
       "      <td>2657.439941</td>\n",
       "      <td>2681.05</td>\n",
       "      <td>2681.05</td>\n",
       "    </tr>\n",
       "    <tr>\n",
       "      <th>17381</th>\n",
       "      <td>1/31/19</td>\n",
       "      <td>2657.439941</td>\n",
       "      <td>2704.10</td>\n",
       "      <td>2704.10</td>\n",
       "    </tr>\n",
       "    <tr>\n",
       "      <th>17382</th>\n",
       "      <td>2/1/19</td>\n",
       "      <td>2657.439941</td>\n",
       "      <td>2706.53</td>\n",
       "      <td>2706.53</td>\n",
       "    </tr>\n",
       "  </tbody>\n",
       "</table>\n",
       "</div>"
      ],
      "text/plain": [
       "          Date         Open    Close    Value\n",
       "17378  1/28/19  2657.439941  2643.85  2643.85\n",
       "17379  1/29/19  2657.439941  2640.00  2640.00\n",
       "17380  1/30/19  2657.439941  2681.05  2681.05\n",
       "17381  1/31/19  2657.439941  2704.10  2704.10\n",
       "17382   2/1/19  2657.439941  2706.53  2706.53"
      ]
     },
     "execution_count": 3,
     "metadata": {},
     "output_type": "execute_result"
    }
   ],
   "source": [
    "sp.tail()"
   ]
  },
  {
   "cell_type": "code",
   "execution_count": 4,
   "metadata": {
    "collapsed": false
   },
   "outputs": [],
   "source": [
    "def date2datetime(date):\n",
    "    month, day, year = date.split('/')\n",
    "    if int(year) > 20:\n",
    "        year = int(year) + 1900\n",
    "    else:\n",
    "        year = int(year) + 2000\n",
    "    try:\n",
    "        return pd.to_datetime(f'{year}-{month}-{day}')\n",
    "    except:\n",
    "        print(date)"
   ]
  },
  {
   "cell_type": "code",
   "execution_count": 5,
   "metadata": {
    "collapsed": false
   },
   "outputs": [
    {
     "data": {
      "text/plain": [
       "Timestamp('1950-01-03 00:00:00')"
      ]
     },
     "execution_count": 5,
     "metadata": {},
     "output_type": "execute_result"
    }
   ],
   "source": [
    "date2datetime('1/3/50')"
   ]
  },
  {
   "cell_type": "code",
   "execution_count": 6,
   "metadata": {
    "collapsed": false
   },
   "outputs": [
    {
     "data": {
      "text/html": [
       "<div>\n",
       "<style>\n",
       "    .dataframe thead tr:only-child th {\n",
       "        text-align: right;\n",
       "    }\n",
       "\n",
       "    .dataframe thead th {\n",
       "        text-align: left;\n",
       "    }\n",
       "\n",
       "    .dataframe tbody tr th {\n",
       "        vertical-align: top;\n",
       "    }\n",
       "</style>\n",
       "<table border=\"1\" class=\"dataframe\">\n",
       "  <thead>\n",
       "    <tr style=\"text-align: right;\">\n",
       "      <th></th>\n",
       "      <th>Date</th>\n",
       "      <th>Open</th>\n",
       "      <th>Close</th>\n",
       "      <th>Value</th>\n",
       "    </tr>\n",
       "  </thead>\n",
       "  <tbody>\n",
       "    <tr>\n",
       "      <th>0</th>\n",
       "      <td>1950-01-03</td>\n",
       "      <td>16.66</td>\n",
       "      <td>16.66</td>\n",
       "      <td>16.66</td>\n",
       "    </tr>\n",
       "    <tr>\n",
       "      <th>1</th>\n",
       "      <td>1950-01-04</td>\n",
       "      <td>16.85</td>\n",
       "      <td>16.85</td>\n",
       "      <td>16.85</td>\n",
       "    </tr>\n",
       "    <tr>\n",
       "      <th>2</th>\n",
       "      <td>1950-01-05</td>\n",
       "      <td>16.93</td>\n",
       "      <td>16.93</td>\n",
       "      <td>16.93</td>\n",
       "    </tr>\n",
       "    <tr>\n",
       "      <th>3</th>\n",
       "      <td>1950-01-06</td>\n",
       "      <td>16.98</td>\n",
       "      <td>16.98</td>\n",
       "      <td>16.98</td>\n",
       "    </tr>\n",
       "    <tr>\n",
       "      <th>4</th>\n",
       "      <td>1950-01-09</td>\n",
       "      <td>17.08</td>\n",
       "      <td>17.08</td>\n",
       "      <td>17.08</td>\n",
       "    </tr>\n",
       "  </tbody>\n",
       "</table>\n",
       "</div>"
      ],
      "text/plain": [
       "        Date   Open  Close  Value\n",
       "0 1950-01-03  16.66  16.66  16.66\n",
       "1 1950-01-04  16.85  16.85  16.85\n",
       "2 1950-01-05  16.93  16.93  16.93\n",
       "3 1950-01-06  16.98  16.98  16.98\n",
       "4 1950-01-09  17.08  17.08  17.08"
      ]
     },
     "execution_count": 6,
     "metadata": {},
     "output_type": "execute_result"
    }
   ],
   "source": [
    "sp.Date = sp.Date.apply(date2datetime)\n",
    "sp.head()"
   ]
  },
  {
   "cell_type": "code",
   "execution_count": 7,
   "metadata": {
    "collapsed": false
   },
   "outputs": [
    {
     "data": {
      "text/html": [
       "<div>\n",
       "<style>\n",
       "    .dataframe thead tr:only-child th {\n",
       "        text-align: right;\n",
       "    }\n",
       "\n",
       "    .dataframe thead th {\n",
       "        text-align: left;\n",
       "    }\n",
       "\n",
       "    .dataframe tbody tr th {\n",
       "        vertical-align: top;\n",
       "    }\n",
       "</style>\n",
       "<table border=\"1\" class=\"dataframe\">\n",
       "  <thead>\n",
       "    <tr style=\"text-align: right;\">\n",
       "      <th></th>\n",
       "      <th>Date</th>\n",
       "      <th>Open</th>\n",
       "      <th>Close</th>\n",
       "      <th>Value</th>\n",
       "      <th>ChangeSinceOpen</th>\n",
       "    </tr>\n",
       "  </thead>\n",
       "  <tbody>\n",
       "    <tr>\n",
       "      <th>17378</th>\n",
       "      <td>2019-01-28</td>\n",
       "      <td>2657.439941</td>\n",
       "      <td>2643.85</td>\n",
       "      <td>2643.85</td>\n",
       "      <td>0.994886</td>\n",
       "    </tr>\n",
       "    <tr>\n",
       "      <th>17379</th>\n",
       "      <td>2019-01-29</td>\n",
       "      <td>2657.439941</td>\n",
       "      <td>2640.00</td>\n",
       "      <td>2640.00</td>\n",
       "      <td>0.993437</td>\n",
       "    </tr>\n",
       "    <tr>\n",
       "      <th>17380</th>\n",
       "      <td>2019-01-30</td>\n",
       "      <td>2657.439941</td>\n",
       "      <td>2681.05</td>\n",
       "      <td>2681.05</td>\n",
       "      <td>1.008885</td>\n",
       "    </tr>\n",
       "    <tr>\n",
       "      <th>17381</th>\n",
       "      <td>2019-01-31</td>\n",
       "      <td>2657.439941</td>\n",
       "      <td>2704.10</td>\n",
       "      <td>2704.10</td>\n",
       "      <td>1.017558</td>\n",
       "    </tr>\n",
       "    <tr>\n",
       "      <th>17382</th>\n",
       "      <td>2019-02-01</td>\n",
       "      <td>2657.439941</td>\n",
       "      <td>2706.53</td>\n",
       "      <td>2706.53</td>\n",
       "      <td>1.018473</td>\n",
       "    </tr>\n",
       "  </tbody>\n",
       "</table>\n",
       "</div>"
      ],
      "text/plain": [
       "            Date         Open    Close    Value  ChangeSinceOpen\n",
       "17378 2019-01-28  2657.439941  2643.85  2643.85         0.994886\n",
       "17379 2019-01-29  2657.439941  2640.00  2640.00         0.993437\n",
       "17380 2019-01-30  2657.439941  2681.05  2681.05         1.008885\n",
       "17381 2019-01-31  2657.439941  2704.10  2704.10         1.017558\n",
       "17382 2019-02-01  2657.439941  2706.53  2706.53         1.018473"
      ]
     },
     "execution_count": 7,
     "metadata": {},
     "output_type": "execute_result"
    }
   ],
   "source": [
    "sp['ChangeSinceOpen'] = sp['Close'] / sp['Open']\n",
    "sp.tail()"
   ]
  },
  {
   "cell_type": "code",
   "execution_count": 8,
   "metadata": {
    "collapsed": false
   },
   "outputs": [
    {
     "data": {
      "text/html": [
       "<div>\n",
       "<style>\n",
       "    .dataframe thead tr:only-child th {\n",
       "        text-align: right;\n",
       "    }\n",
       "\n",
       "    .dataframe thead th {\n",
       "        text-align: left;\n",
       "    }\n",
       "\n",
       "    .dataframe tbody tr th {\n",
       "        vertical-align: top;\n",
       "    }\n",
       "</style>\n",
       "<table border=\"1\" class=\"dataframe\">\n",
       "  <thead>\n",
       "    <tr style=\"text-align: right;\">\n",
       "      <th></th>\n",
       "      <th>Date</th>\n",
       "      <th>Open</th>\n",
       "      <th>Close</th>\n",
       "      <th>Value</th>\n",
       "      <th>ChangeSinceOpen</th>\n",
       "      <th>DailyChange</th>\n",
       "      <th>OvernightChange</th>\n",
       "    </tr>\n",
       "  </thead>\n",
       "  <tbody>\n",
       "    <tr>\n",
       "      <th>17378</th>\n",
       "      <td>2019-01-28</td>\n",
       "      <td>2657.439941</td>\n",
       "      <td>2643.85</td>\n",
       "      <td>2643.85</td>\n",
       "      <td>0.994886</td>\n",
       "      <td>0.992153</td>\n",
       "      <td>0.997253</td>\n",
       "    </tr>\n",
       "    <tr>\n",
       "      <th>17379</th>\n",
       "      <td>2019-01-29</td>\n",
       "      <td>2657.439941</td>\n",
       "      <td>2640.00</td>\n",
       "      <td>2640.00</td>\n",
       "      <td>0.993437</td>\n",
       "      <td>0.998544</td>\n",
       "      <td>1.005140</td>\n",
       "    </tr>\n",
       "    <tr>\n",
       "      <th>17380</th>\n",
       "      <td>2019-01-30</td>\n",
       "      <td>2657.439941</td>\n",
       "      <td>2681.05</td>\n",
       "      <td>2681.05</td>\n",
       "      <td>1.008885</td>\n",
       "      <td>1.015549</td>\n",
       "      <td>1.006606</td>\n",
       "    </tr>\n",
       "    <tr>\n",
       "      <th>17381</th>\n",
       "      <td>2019-01-31</td>\n",
       "      <td>2657.439941</td>\n",
       "      <td>2704.10</td>\n",
       "      <td>2704.10</td>\n",
       "      <td>1.017558</td>\n",
       "      <td>1.008597</td>\n",
       "      <td>0.991194</td>\n",
       "    </tr>\n",
       "    <tr>\n",
       "      <th>17382</th>\n",
       "      <td>2019-02-01</td>\n",
       "      <td>2657.439941</td>\n",
       "      <td>2706.53</td>\n",
       "      <td>2706.53</td>\n",
       "      <td>1.018473</td>\n",
       "      <td>1.000899</td>\n",
       "      <td>0.982745</td>\n",
       "    </tr>\n",
       "  </tbody>\n",
       "</table>\n",
       "</div>"
      ],
      "text/plain": [
       "            Date         Open    Close    Value  ChangeSinceOpen  DailyChange  \\\n",
       "17378 2019-01-28  2657.439941  2643.85  2643.85         0.994886     0.992153   \n",
       "17379 2019-01-29  2657.439941  2640.00  2640.00         0.993437     0.998544   \n",
       "17380 2019-01-30  2657.439941  2681.05  2681.05         1.008885     1.015549   \n",
       "17381 2019-01-31  2657.439941  2704.10  2704.10         1.017558     1.008597   \n",
       "17382 2019-02-01  2657.439941  2706.53  2706.53         1.018473     1.000899   \n",
       "\n",
       "       OvernightChange  \n",
       "17378         0.997253  \n",
       "17379         1.005140  \n",
       "17380         1.006606  \n",
       "17381         0.991194  \n",
       "17382         0.982745  "
      ]
     },
     "execution_count": 8,
     "metadata": {},
     "output_type": "execute_result"
    }
   ],
   "source": [
    "sp['DailyChange'] = np.nan\n",
    "sp['OvernightChange'] = np.nan\n",
    "for day in range(1, sp.shape[0]):\n",
    "    sp.loc[day, 'DailyChange'] = (sp.loc[day, 'Value'] \n",
    "                                  / sp.loc[day - 1, 'Value'])\n",
    "    sp.loc[day, 'OvernightChange'] = (sp.loc[day, 'Open'] \n",
    "                                      / sp.loc[day - 1, 'Close'])\n",
    "    #if day < 3000 and sp.loc[day, 'ChangeSinceOpen'] == 1.:\n",
    "    #    sp.loc[day, 'ChangeSinceOpen'] = sp.loc[day, 'DailyChange']\n",
    "sp.tail()        "
   ]
  },
  {
   "cell_type": "code",
   "execution_count": 9,
   "metadata": {
    "collapsed": false
   },
   "outputs": [
    {
     "data": {
      "image/png": "[encoded data removed]",
      "text/plain": [
       "<matplotlib.figure.Figure at 0x10e739828>"
      ]
     },
     "metadata": {},
     "output_type": "display_data"
    }
   ],
   "source": [
    "plt.plot(sp.Date, sp.Value);\n",
    "plt.yscale('log');"
   ]
  },
  {
   "cell_type": "code",
   "execution_count": 10,
   "metadata": {
    "collapsed": false
   },
   "outputs": [
    {
     "data": {
      "image/png": "[encoded data removed]",
      "text/plain": [
       "<matplotlib.figure.Figure at 0x1185f8d68>"
      ]
     },
     "metadata": {},
     "output_type": "display_data"
    }
   ],
   "source": [
    "plt.plot(sp.ChangeSinceOpen, alpha=0.4, label='intraday')\n",
    "plt.plot(sp.DailyChange, alpha=0.4, label='interday')\n",
    "plt.plot(sp.OvernightChange, alpha=0.4, label='overnight')\n",
    "plt.legend();"
   ]
  },
  {
   "cell_type": "code",
   "execution_count": 11,
   "metadata": {
    "collapsed": false
   },
   "outputs": [],
   "source": [
    "#list(sp['ChangeSinceOpen'] > 1.).index(True) # 3014\n",
    "#(sp['ChangeSinceOpen'][:3013] == 1).all() # True\n",
    "#(sp['ChangeSinceOpen'][:3014] == 1).all() # False\n",
    "sp = sp.loc[3014:, :]\n",
    "sp.index = range(sp.shape[0])"
   ]
  },
  {
   "cell_type": "code",
   "execution_count": 12,
   "metadata": {
    "collapsed": false
   },
   "outputs": [
    {
     "data": {
      "image/png": "[encoded data removed]",
      "text/plain": [
       "<matplotlib.figure.Figure at 0x11aa500b8>"
      ]
     },
     "metadata": {},
     "output_type": "display_data"
    }
   ],
   "source": [
    "plt.plot(sp.ChangeSinceOpen, alpha=0.4, label='intraday')\n",
    "plt.plot(sp.DailyChange, alpha=0.4, label='interday')\n",
    "plt.plot(sp.OvernightChange, alpha=0.4, label='overnight')\n",
    "plt.legend();"
   ]
  },
  {
   "cell_type": "code",
   "execution_count": 13,
   "metadata": {
    "collapsed": false
   },
   "outputs": [
    {
     "data": {
      "image/png": "[encoded data removed]",
      "text/plain": [
       "<matplotlib.figure.Figure at 0x11861c5f8>"
      ]
     },
     "metadata": {},
     "output_type": "display_data"
    }
   ],
   "source": [
    "plt.plot(sp.Date, sp.Value);\n",
    "plt.yscale('log');"
   ]
  },
  {
   "cell_type": "code",
   "execution_count": 14,
   "metadata": {
    "collapsed": false
   },
   "outputs": [],
   "source": [
    "def moving_dev_signals(x, params):\n",
    "    '''\n",
    "    @params\n",
    "    x: list: time series of prices\n",
    "    params: list: [up_qs, up_amounts, down_qs, down_amounts]\n",
    "    up_qs, down_qs: lists: quantiles for which, moving upward/downward \n",
    "        across signals an action\n",
    "    up_amounts, down_amounts: lists: amount to put in (+) or take out (-)\n",
    "        associated with each up signal (qs)\n",
    "    @return: array of signals (usually just one, but multiple events may\n",
    "        occur on a single day)\n",
    "    '''\n",
    "    up_qs, up_amounts, down_qs, down_amounts = params\n",
    "    x = x.tolist()\n",
    "    n = len(x)\n",
    "    up_qs = np.quantile(x, up_qs)\n",
    "    down_qs = np.quantile(x, down_qs)\n",
    "    signals = []\n",
    "    for q, action in zip(up_qs, up_amounts):\n",
    "        if x[n - 2] < q and x[n - 1] > q:\n",
    "            signals.append(action)\n",
    "    for q, action in zip(down_qs, down_amounts):\n",
    "        if x[n - 2] > q and x[n - 1] < 1:\n",
    "            signals.append(action)\n",
    "    return signals if signals else [0]"
   ]
  },
  {
   "cell_type": "code",
   "execution_count": 15,
   "metadata": {
    "collapsed": false
   },
   "outputs": [],
   "source": [
    "def sliding_window(x, window, func, **kwargs):\n",
    "    '''\n",
    "    Apply the function func to each frame of a timeseries, x with a moving\n",
    "    window, window\n",
    "    \n",
    "    @params\n",
    "    x: list: the complete time series of prices\n",
    "    window: int: the number of days to apply the function to\n",
    "    func: function: a function that takes a time series as input and \n",
    "        returns a list of one or more signals each day, where a signal is\n",
    "        the percentage of money to put in or take out\n",
    "    **kwargs: additional arguments to pass to func\n",
    "    @return: a list of lists, each list in the primary list is a list of \n",
    "        signals for each single day\n",
    "    '''\n",
    "    n = len(x)\n",
    "    all_signals = [[0] for _ in range(window)]\n",
    "    for w in range(window, n):\n",
    "        signals = func(x[(w - window):w], **kwargs)\n",
    "        all_signals.append(signals)\n",
    "    return all_signals"
   ]
  },
  {
   "cell_type": "code",
   "execution_count": 16,
   "metadata": {
    "collapsed": false
   },
   "outputs": [],
   "source": [
    "# Test \n",
    "x = sp.Value\n",
    "up_qs = [0.05, 0.45]\n",
    "up_amounts = [0.9, 0.3]\n",
    "down_qs = [0.95, 0.55]\n",
    "down_amounts = [-0.7, -0.9]\n",
    "params = [up_qs, up_amounts, down_qs, down_amounts]\n",
    "window = 30\n",
    "\n",
    "#actions = sliding_window(x, \n",
    "#                         window, \n",
    "#                         moving_dev_signals,\n",
    "#                         up_qs=up_qs, \n",
    "#                         up_amounts=up_amounts, \n",
    "#                         down_qs=down_qs,\n",
    "#                         down_amounts=down_amounts)\n",
    "# The action based on today gets applied tomorrow\n",
    "#actions = [0] + actions[:-1] "
   ]
  },
  {
   "cell_type": "code",
   "execution_count": 17,
   "metadata": {
    "collapsed": true
   },
   "outputs": [],
   "source": [
    "def generate_actions(sp, window, func, params):\n",
    "    x = sp.Value\n",
    "    actions = sliding_window(x, window, func, params=params)\n",
    "    actions = [0] + actions[:-1]\n",
    "    sp['Actions'] = actions\n",
    "    return sp"
   ]
  },
  {
   "cell_type": "code",
   "execution_count": 18,
   "metadata": {
    "collapsed": false
   },
   "outputs": [
    {
     "data": {
      "text/html": [
       "<div>\n",
       "<style>\n",
       "    .dataframe thead tr:only-child th {\n",
       "        text-align: right;\n",
       "    }\n",
       "\n",
       "    .dataframe thead th {\n",
       "        text-align: left;\n",
       "    }\n",
       "\n",
       "    .dataframe tbody tr th {\n",
       "        vertical-align: top;\n",
       "    }\n",
       "</style>\n",
       "<table border=\"1\" class=\"dataframe\">\n",
       "  <thead>\n",
       "    <tr style=\"text-align: right;\">\n",
       "      <th></th>\n",
       "      <th>Date</th>\n",
       "      <th>Open</th>\n",
       "      <th>Close</th>\n",
       "      <th>Value</th>\n",
       "      <th>ChangeSinceOpen</th>\n",
       "      <th>DailyChange</th>\n",
       "      <th>OvernightChange</th>\n",
       "      <th>Actions</th>\n",
       "    </tr>\n",
       "  </thead>\n",
       "  <tbody>\n",
       "    <tr>\n",
       "      <th>14364</th>\n",
       "      <td>2019-01-28</td>\n",
       "      <td>2657.439941</td>\n",
       "      <td>2643.85</td>\n",
       "      <td>2643.85</td>\n",
       "      <td>0.994886</td>\n",
       "      <td>0.992153</td>\n",
       "      <td>0.997253</td>\n",
       "      <td>[0]</td>\n",
       "    </tr>\n",
       "    <tr>\n",
       "      <th>14365</th>\n",
       "      <td>2019-01-29</td>\n",
       "      <td>2657.439941</td>\n",
       "      <td>2640.00</td>\n",
       "      <td>2640.00</td>\n",
       "      <td>0.993437</td>\n",
       "      <td>0.998544</td>\n",
       "      <td>1.005140</td>\n",
       "      <td>[0]</td>\n",
       "    </tr>\n",
       "    <tr>\n",
       "      <th>14366</th>\n",
       "      <td>2019-01-30</td>\n",
       "      <td>2657.439941</td>\n",
       "      <td>2681.05</td>\n",
       "      <td>2681.05</td>\n",
       "      <td>1.008885</td>\n",
       "      <td>1.015549</td>\n",
       "      <td>1.006606</td>\n",
       "      <td>[0]</td>\n",
       "    </tr>\n",
       "    <tr>\n",
       "      <th>14367</th>\n",
       "      <td>2019-01-31</td>\n",
       "      <td>2657.439941</td>\n",
       "      <td>2704.10</td>\n",
       "      <td>2704.10</td>\n",
       "      <td>1.017558</td>\n",
       "      <td>1.008597</td>\n",
       "      <td>0.991194</td>\n",
       "      <td>[0]</td>\n",
       "    </tr>\n",
       "    <tr>\n",
       "      <th>14368</th>\n",
       "      <td>2019-02-01</td>\n",
       "      <td>2657.439941</td>\n",
       "      <td>2706.53</td>\n",
       "      <td>2706.53</td>\n",
       "      <td>1.018473</td>\n",
       "      <td>1.000899</td>\n",
       "      <td>0.982745</td>\n",
       "      <td>[0]</td>\n",
       "    </tr>\n",
       "  </tbody>\n",
       "</table>\n",
       "</div>"
      ],
      "text/plain": [
       "            Date         Open    Close    Value  ChangeSinceOpen  DailyChange  \\\n",
       "14364 2019-01-28  2657.439941  2643.85  2643.85         0.994886     0.992153   \n",
       "14365 2019-01-29  2657.439941  2640.00  2640.00         0.993437     0.998544   \n",
       "14366 2019-01-30  2657.439941  2681.05  2681.05         1.008885     1.015549   \n",
       "14367 2019-01-31  2657.439941  2704.10  2704.10         1.017558     1.008597   \n",
       "14368 2019-02-01  2657.439941  2706.53  2706.53         1.018473     1.000899   \n",
       "\n",
       "       OvernightChange Actions  \n",
       "14364         0.997253     [0]  \n",
       "14365         1.005140     [0]  \n",
       "14366         1.006606     [0]  \n",
       "14367         0.991194     [0]  \n",
       "14368         0.982745     [0]  "
      ]
     },
     "execution_count": 18,
     "metadata": {},
     "output_type": "execute_result"
    }
   ],
   "source": [
    "sp = generate_actions(sp, 30, moving_dev_signals, params=params)\n",
    "sp.tail()"
   ]
  },
  {
   "cell_type": "code",
   "execution_count": 19,
   "metadata": {
    "collapsed": false
   },
   "outputs": [
    {
     "data": {
      "text/plain": [
       "71.129997"
      ]
     },
     "execution_count": 19,
     "metadata": {},
     "output_type": "execute_result"
    }
   ],
   "source": [
    "init_amount = sp.Value[0]\n",
    "init_amount"
   ]
  },
  {
   "cell_type": "code",
   "execution_count": 20,
   "metadata": {
    "collapsed": false
   },
   "outputs": [
    {
     "data": {
      "text/html": [
       "<div>\n",
       "<style>\n",
       "    .dataframe thead tr:only-child th {\n",
       "        text-align: right;\n",
       "    }\n",
       "\n",
       "    .dataframe thead th {\n",
       "        text-align: left;\n",
       "    }\n",
       "\n",
       "    .dataframe tbody tr th {\n",
       "        vertical-align: top;\n",
       "    }\n",
       "</style>\n",
       "<table border=\"1\" class=\"dataframe\">\n",
       "  <thead>\n",
       "    <tr style=\"text-align: right;\">\n",
       "      <th></th>\n",
       "      <th>Date</th>\n",
       "      <th>Open</th>\n",
       "      <th>Close</th>\n",
       "      <th>Value</th>\n",
       "      <th>ChangeSinceOpen</th>\n",
       "      <th>DailyChange</th>\n",
       "      <th>OvernightChange</th>\n",
       "      <th>Actions</th>\n",
       "      <th>Reserve</th>\n",
       "      <th>Invested</th>\n",
       "    </tr>\n",
       "  </thead>\n",
       "  <tbody>\n",
       "    <tr>\n",
       "      <th>0</th>\n",
       "      <td>1962-01-03</td>\n",
       "      <td>70.959999</td>\n",
       "      <td>71.129997</td>\n",
       "      <td>71.129997</td>\n",
       "      <td>1.002396</td>\n",
       "      <td>1.002396</td>\n",
       "      <td>1.0</td>\n",
       "      <td>0</td>\n",
       "      <td>71.129997</td>\n",
       "      <td>0.0</td>\n",
       "    </tr>\n",
       "    <tr>\n",
       "      <th>1</th>\n",
       "      <td>1962-01-04</td>\n",
       "      <td>71.129997</td>\n",
       "      <td>70.639999</td>\n",
       "      <td>70.639999</td>\n",
       "      <td>0.993111</td>\n",
       "      <td>0.993111</td>\n",
       "      <td>1.0</td>\n",
       "      <td>[0]</td>\n",
       "      <td>NaN</td>\n",
       "      <td>NaN</td>\n",
       "    </tr>\n",
       "    <tr>\n",
       "      <th>2</th>\n",
       "      <td>1962-01-05</td>\n",
       "      <td>70.639999</td>\n",
       "      <td>69.660004</td>\n",
       "      <td>69.660004</td>\n",
       "      <td>0.986127</td>\n",
       "      <td>0.986127</td>\n",
       "      <td>1.0</td>\n",
       "      <td>[0]</td>\n",
       "      <td>NaN</td>\n",
       "      <td>NaN</td>\n",
       "    </tr>\n",
       "    <tr>\n",
       "      <th>3</th>\n",
       "      <td>1962-01-08</td>\n",
       "      <td>69.660004</td>\n",
       "      <td>69.120003</td>\n",
       "      <td>69.120003</td>\n",
       "      <td>0.992248</td>\n",
       "      <td>0.992248</td>\n",
       "      <td>1.0</td>\n",
       "      <td>[0]</td>\n",
       "      <td>NaN</td>\n",
       "      <td>NaN</td>\n",
       "    </tr>\n",
       "    <tr>\n",
       "      <th>4</th>\n",
       "      <td>1962-01-09</td>\n",
       "      <td>69.120003</td>\n",
       "      <td>69.150002</td>\n",
       "      <td>69.150002</td>\n",
       "      <td>1.000434</td>\n",
       "      <td>1.000434</td>\n",
       "      <td>1.0</td>\n",
       "      <td>[0]</td>\n",
       "      <td>NaN</td>\n",
       "      <td>NaN</td>\n",
       "    </tr>\n",
       "  </tbody>\n",
       "</table>\n",
       "</div>"
      ],
      "text/plain": [
       "        Date       Open      Close      Value  ChangeSinceOpen  DailyChange  \\\n",
       "0 1962-01-03  70.959999  71.129997  71.129997         1.002396     1.002396   \n",
       "1 1962-01-04  71.129997  70.639999  70.639999         0.993111     0.993111   \n",
       "2 1962-01-05  70.639999  69.660004  69.660004         0.986127     0.986127   \n",
       "3 1962-01-08  69.660004  69.120003  69.120003         0.992248     0.992248   \n",
       "4 1962-01-09  69.120003  69.150002  69.150002         1.000434     1.000434   \n",
       "\n",
       "   OvernightChange Actions    Reserve  Invested  \n",
       "0              1.0       0  71.129997       0.0  \n",
       "1              1.0     [0]        NaN       NaN  \n",
       "2              1.0     [0]        NaN       NaN  \n",
       "3              1.0     [0]        NaN       NaN  \n",
       "4              1.0     [0]        NaN       NaN  "
      ]
     },
     "execution_count": 20,
     "metadata": {},
     "output_type": "execute_result"
    }
   ],
   "source": [
    "sp['Reserve'] = np.nan\n",
    "sp['Invested'] = np.nan\n",
    "sp.loc[0, 'Reserve'] = init_amount\n",
    "sp.loc[0, 'Invested'] = 0.\n",
    "sp.head()"
   ]
  },
  {
   "cell_type": "code",
   "execution_count": 21,
   "metadata": {
    "collapsed": true
   },
   "outputs": [],
   "source": [
    "def update_values(row):\n",
    "    reserve = row['Reserve']\n",
    "    invested = row['Invested']\n",
    "    change_since_open = row['ChangeSinceOpen']\n",
    "    overnight_change = row['OvernightChange']\n",
    "    invested *= overnight_change\n",
    "    money_per_action = 0\n",
    "    for action in row['Actions']:\n",
    "        if action > 0: # Buy\n",
    "            money_per_action = reserve * action\n",
    "        if action < 0: # Sell\n",
    "            money_per_action = invested * action    \n",
    "        reserve -= money_per_action\n",
    "        invested += money_per_action\n",
    "    invested *= change_since_open\n",
    "    return reserve, invested"
   ]
  },
  {
   "cell_type": "code",
   "execution_count": 22,
   "metadata": {
    "collapsed": false
   },
   "outputs": [],
   "source": [
    "def predict_performance(sp):\n",
    "    for day in range(1, sp.shape[0]):\n",
    "        sp.loc[day, ['Reserve', 'Invested']] = sp.loc[\n",
    "            day - 1, ['Reserve', 'Invested']]\n",
    "        sp.loc[day, ['Reserve', 'Invested']] = update_values(\n",
    "            sp.loc[day, :])\n",
    "        sp['Total'] = sp['Reserve'] + sp['Invested']\n",
    "    return sp"
   ]
  },
  {
   "cell_type": "code",
   "execution_count": 23,
   "metadata": {
    "collapsed": false
   },
   "outputs": [
    {
     "data": {
      "text/html": [
       "<div>\n",
       "<style>\n",
       "    .dataframe thead tr:only-child th {\n",
       "        text-align: right;\n",
       "    }\n",
       "\n",
       "    .dataframe thead th {\n",
       "        text-align: left;\n",
       "    }\n",
       "\n",
       "    .dataframe tbody tr th {\n",
       "        vertical-align: top;\n",
       "    }\n",
       "</style>\n",
       "<table border=\"1\" class=\"dataframe\">\n",
       "  <thead>\n",
       "    <tr style=\"text-align: right;\">\n",
       "      <th></th>\n",
       "      <th>Date</th>\n",
       "      <th>Open</th>\n",
       "      <th>Close</th>\n",
       "      <th>Value</th>\n",
       "      <th>ChangeSinceOpen</th>\n",
       "      <th>DailyChange</th>\n",
       "      <th>OvernightChange</th>\n",
       "      <th>Actions</th>\n",
       "      <th>Reserve</th>\n",
       "      <th>Invested</th>\n",
       "      <th>Total</th>\n",
       "    </tr>\n",
       "  </thead>\n",
       "  <tbody>\n",
       "    <tr>\n",
       "      <th>14364</th>\n",
       "      <td>2019-01-28</td>\n",
       "      <td>2657.439941</td>\n",
       "      <td>2643.85</td>\n",
       "      <td>2643.85</td>\n",
       "      <td>0.994886</td>\n",
       "      <td>0.992153</td>\n",
       "      <td>0.997253</td>\n",
       "      <td>[0]</td>\n",
       "      <td>0.0</td>\n",
       "      <td>2685.770871</td>\n",
       "      <td>2685.770871</td>\n",
       "    </tr>\n",
       "    <tr>\n",
       "      <th>14365</th>\n",
       "      <td>2019-01-29</td>\n",
       "      <td>2657.439941</td>\n",
       "      <td>2640.00</td>\n",
       "      <td>2640.00</td>\n",
       "      <td>0.993437</td>\n",
       "      <td>0.998544</td>\n",
       "      <td>1.005140</td>\n",
       "      <td>[0]</td>\n",
       "      <td>0.0</td>\n",
       "      <td>2681.859826</td>\n",
       "      <td>2681.859826</td>\n",
       "    </tr>\n",
       "    <tr>\n",
       "      <th>14366</th>\n",
       "      <td>2019-01-30</td>\n",
       "      <td>2657.439941</td>\n",
       "      <td>2681.05</td>\n",
       "      <td>2681.05</td>\n",
       "      <td>1.008885</td>\n",
       "      <td>1.015549</td>\n",
       "      <td>1.006606</td>\n",
       "      <td>[0]</td>\n",
       "      <td>0.0</td>\n",
       "      <td>2723.560714</td>\n",
       "      <td>2723.560714</td>\n",
       "    </tr>\n",
       "    <tr>\n",
       "      <th>14367</th>\n",
       "      <td>2019-01-31</td>\n",
       "      <td>2657.439941</td>\n",
       "      <td>2704.10</td>\n",
       "      <td>2704.10</td>\n",
       "      <td>1.017558</td>\n",
       "      <td>1.008597</td>\n",
       "      <td>0.991194</td>\n",
       "      <td>[0]</td>\n",
       "      <td>0.0</td>\n",
       "      <td>2746.976195</td>\n",
       "      <td>2746.976195</td>\n",
       "    </tr>\n",
       "    <tr>\n",
       "      <th>14368</th>\n",
       "      <td>2019-02-01</td>\n",
       "      <td>2657.439941</td>\n",
       "      <td>2706.53</td>\n",
       "      <td>2706.53</td>\n",
       "      <td>1.018473</td>\n",
       "      <td>1.000899</td>\n",
       "      <td>0.982745</td>\n",
       "      <td>[0]</td>\n",
       "      <td>0.0</td>\n",
       "      <td>2749.444725</td>\n",
       "      <td>2749.444725</td>\n",
       "    </tr>\n",
       "  </tbody>\n",
       "</table>\n",
       "</div>"
      ],
      "text/plain": [
       "            Date         Open    Close    Value  ChangeSinceOpen  DailyChange  \\\n",
       "14364 2019-01-28  2657.439941  2643.85  2643.85         0.994886     0.992153   \n",
       "14365 2019-01-29  2657.439941  2640.00  2640.00         0.993437     0.998544   \n",
       "14366 2019-01-30  2657.439941  2681.05  2681.05         1.008885     1.015549   \n",
       "14367 2019-01-31  2657.439941  2704.10  2704.10         1.017558     1.008597   \n",
       "14368 2019-02-01  2657.439941  2706.53  2706.53         1.018473     1.000899   \n",
       "\n",
       "       OvernightChange Actions  Reserve     Invested        Total  \n",
       "14364         0.997253     [0]      0.0  2685.770871  2685.770871  \n",
       "14365         1.005140     [0]      0.0  2681.859826  2681.859826  \n",
       "14366         1.006606     [0]      0.0  2723.560714  2723.560714  \n",
       "14367         0.991194     [0]      0.0  2746.976195  2746.976195  \n",
       "14368         0.982745     [0]      0.0  2749.444725  2749.444725  "
      ]
     },
     "execution_count": 23,
     "metadata": {},
     "output_type": "execute_result"
    }
   ],
   "source": [
    "sp = predict_performance(sp)\n",
    "sp.tail()"
   ]
  },
  {
   "cell_type": "code",
   "execution_count": 24,
   "metadata": {
    "collapsed": false
   },
   "outputs": [
    {
     "data": {
      "image/png": "[encoded data removed]",
      "text/plain": [
       "<matplotlib.figure.Figure at 0x11aa555f8>"
      ]
     },
     "metadata": {},
     "output_type": "display_data"
    }
   ],
   "source": [
    "plt.plot(sp.Date, sp.Value, label='SP')\n",
    "plt.plot(sp.Date, sp.Total, label='Portfolio');\n",
    "plt.yscale('log');\n",
    "plt.legend();"
   ]
  },
  {
   "cell_type": "code",
   "execution_count": 25,
   "metadata": {
    "collapsed": false
   },
   "outputs": [
    {
     "data": {
      "text/plain": [
       "2749.4447249211316"
      ]
     },
     "execution_count": 25,
     "metadata": {},
     "output_type": "execute_result"
    }
   ],
   "source": [
    "sp.Total.tolist()[-1]"
   ]
  },
  {
   "cell_type": "markdown",
   "metadata": {},
   "source": [
    "# Repeat Search from Here\n",
    "\n",
    "### 3-Deviations per direction (private portfolio)"
   ]
  },
  {
   "cell_type": "code",
   "execution_count": 133,
   "metadata": {
    "collapsed": false
   },
   "outputs": [
    {
     "name": "stdout",
     "output_type": "stream",
     "text": [
      "best yet: 6089.58\n",
      "best params:\n",
      "[[0.7395703051684598, 0.7629858341484982, 0.11660141899942802], [0.5700028380900065, 0.8763515413054882, -0.23583659670263843], [0.7616795022907329, 0.2846125581402056, 0.33689222693769333], [0.9836841018383569, 0.31378659334252224, -0.7425689985866503]]\n",
      "best window:201\n"
     ]
    }
   ],
   "source": [
    "ITERS = 30\n",
    "best_yet = 6089.58\n",
    "best_params = [\n",
    "    [0.7395703051684598, 0.7629858341484982, 0.11660141899942802], \n",
    "    [0.5700028380900065, 0.8763515413054882, -0.23583659670263843], \n",
    "    [0.7616795022907329, 0.2846125581402056, 0.33689222693769333], \n",
    "    [0.9836841018383569, 0.31378659334252224, -0.7425689985866503]]\n",
    "best_window = 201\n",
    "print(f'best yet: {best_yet}\\nbest params:\\n{best_params}\\n'\n",
    "      f'best window:{best_window}')\n",
    "sd = 0.032"
   ]
  },
  {
   "cell_type": "code",
   "execution_count": 134,
   "metadata": {
    "collapsed": false
   },
   "outputs": [],
   "source": [
    "def init_values(sd, init_window, init_params):\n",
    "    up_qs, up_amts, down_qs, down_amts = init_params\n",
    "    def trunc_normal(mean, sd, minval, maxval):\n",
    "        val = np.random.normal(mean, scale=sd)\n",
    "        val = max(min(val, maxval), minval)\n",
    "        return val\n",
    "    \n",
    "    window = int(round(trunc_normal(init_window, 400*sd, 10, 500)))\n",
    "    up_q1   = trunc_normal(up_qs[0], sd, 0.05, 0.95)\n",
    "    up_q2   = trunc_normal(up_qs[1], sd, 0.05, 0.95)\n",
    "    up_q3   = trunc_normal(up_qs[2], sd, 0.05, 0.95)\n",
    "    down_q1 = trunc_normal(down_qs[0], sd, 0.05, 0.95)\n",
    "    down_q2 = trunc_normal(down_qs[1], sd, 0.05, 0.95)\n",
    "    down_q3 = trunc_normal(down_qs[2], sd, 0.05, 0.95)\n",
    "    up_amount1   = trunc_normal(up_amts[0], 2*sd, -1, 1)\n",
    "    up_amount2   = trunc_normal(up_amts[1], 2*sd, -1, 1)\n",
    "    up_amount3   = trunc_normal(up_amts[2], 2*sd, -1, 1)\n",
    "    down_amount1 = trunc_normal(down_amts[0], 2*sd, -1, 1)\n",
    "    down_amount2 = trunc_normal(down_amts[1], 2*sd, -1, 1)\n",
    "    down_amount3 = trunc_normal(down_amts[2], 2*sd, -1, 1)\n",
    "    up_qs = [up_q1, up_q2, up_q3]\n",
    "    down_qs = [down_q1, down_q2, down_q3]\n",
    "    up_amounts = [up_amount1, up_amount2, up_amount3]\n",
    "    down_amounts = [down_amount1, down_amount2, down_amount3]\n",
    "    params = [up_qs, up_amounts, down_qs, down_amounts]\n",
    "    return window, params\n",
    "\n",
    "#init_values(sd, best_window, best_params)"
   ]
  },
  {
   "cell_type": "code",
   "execution_count": null,
   "metadata": {
    "collapsed": false
   },
   "outputs": [
    {
     "name": "stdout",
     "output_type": "stream",
     "text": [
      " 1: Final value: $5630.99\n",
      " 2: Final value: $4975.01\n",
      " 3: Final value: $4235.18\n"
     ]
    }
   ],
   "source": [
    "plt.figure(figsize=[10, 8])\n",
    "plt.plot(sp.Date, sp.Value, 'k-', linewidth=3)\n",
    "for i in range(ITERS):\n",
    "    window, params = init_values(sd, best_window, best_params)\n",
    "    sp = generate_actions(\n",
    "        sp, window, func=moving_dev_signals, params=params)\n",
    "    sp = predict_performance(sp)\n",
    "    plt.plot(sp.Date, sp.Total, alpha=0.2);\n",
    "    final_value = sp.Total.tolist()[-1]\n",
    "    print(f'{i + 1:2d}: Final value: ${final_value:.2f}')\n",
    "    if final_value > best_yet:\n",
    "        print(f'New best model!\\n{params}\\nwindow: {window}')\n",
    "        best_yet = final_value\n",
    "        best_params = params\n",
    "plt.yscale('log');    "
   ]
  },
  {
   "cell_type": "code",
   "execution_count": 132,
   "metadata": {
    "collapsed": false
   },
   "outputs": [
    {
     "data": {
      "text/plain": [
       "85.61198167912195"
      ]
     },
     "execution_count": 132,
     "metadata": {},
     "output_type": "execute_result"
    }
   ],
   "source": [
    "6089.58 / actual[0]"
   ]
  },
  {
   "cell_type": "code",
   "execution_count": 101,
   "metadata": {
    "collapsed": false
   },
   "outputs": [
    {
     "data": {
      "text/plain": [
       "38.05047257347698"
      ]
     },
     "execution_count": 101,
     "metadata": {},
     "output_type": "execute_result"
    }
   ],
   "source": [
    "actual = sp.Value.tolist()\n",
    "actual[-1] / actual[0]"
   ]
  },
  {
   "cell_type": "markdown",
   "metadata": {},
   "source": [
    "### 2-Deviations per direction (401(k))"
   ]
  },
  {
   "cell_type": "code",
   "execution_count": null,
   "metadata": {
    "collapsed": true
   },
   "outputs": [],
   "source": []
  }
 ],
 "metadata": {
  "kernelspec": {
   "display_name": "Python 3",
   "language": "python",
   "name": "python3"
  },
  "language_info": {
   "codemirror_mode": {
    "name": "ipython",
    "version": 3
   },
   "file_extension": ".py",
   "mimetype": "text/x-python",
   "name": "python",
   "nbconvert_exporter": "python",
   "pygments_lexer": "ipython3",
   "version": "3.6.1"
  }
 },
 "nbformat": 4,
 "nbformat_minor": 0
}
