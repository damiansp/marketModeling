{
 "cells": [
  {
   "cell_type": "code",
   "execution_count": 1,
   "metadata": {},
   "outputs": [],
   "source": [
    "import warnings\n",
    "\n",
    "import matplotlib.pyplot as plt\n",
    "import numpy as np\n",
    "import pandas as pd\n",
    "from   sklearn.linear_model import LinearRegression, LogisticRegression\n",
    "from   sklearn.preprocessing import StandardScaler\n",
    "import yfinance as yf\n",
    "\n",
    "warnings.filterwarnings('ignore')\n",
    "%matplotlib inline"
   ]
  },
  {
   "cell_type": "code",
   "execution_count": 2,
   "metadata": {},
   "outputs": [
    {
     "name": "stdout",
     "output_type": "stream",
     "text": [
      "[*********************100%***********************]  1 of 1 completed\n"
     ]
    },
    {
     "data": {
      "text/html": [
       "<div>\n",
       "<style scoped>\n",
       "    .dataframe tbody tr th:only-of-type {\n",
       "        vertical-align: middle;\n",
       "    }\n",
       "\n",
       "    .dataframe tbody tr th {\n",
       "        vertical-align: top;\n",
       "    }\n",
       "\n",
       "    .dataframe thead th {\n",
       "        text-align: right;\n",
       "    }\n",
       "</style>\n",
       "<table border=\"1\" class=\"dataframe\">\n",
       "  <thead>\n",
       "    <tr style=\"text-align: right;\">\n",
       "      <th></th>\n",
       "      <th>Open</th>\n",
       "      <th>Close</th>\n",
       "      <th>Value</th>\n",
       "      <th>Date</th>\n",
       "    </tr>\n",
       "  </thead>\n",
       "  <tbody>\n",
       "    <tr>\n",
       "      <th>13741</th>\n",
       "      <td>12612.089844</td>\n",
       "      <td>12731.549805</td>\n",
       "      <td>12731.549805</td>\n",
       "      <td>2020-08-05</td>\n",
       "    </tr>\n",
       "    <tr>\n",
       "      <th>13742</th>\n",
       "      <td>12702.879883</td>\n",
       "      <td>12729.169922</td>\n",
       "      <td>12729.169922</td>\n",
       "      <td>2020-08-06</td>\n",
       "    </tr>\n",
       "    <tr>\n",
       "      <th>13743</th>\n",
       "      <td>12655.700195</td>\n",
       "      <td>12765.839844</td>\n",
       "      <td>12765.839844</td>\n",
       "      <td>2020-08-07</td>\n",
       "    </tr>\n",
       "    <tr>\n",
       "      <th>13744</th>\n",
       "      <td>12797.780273</td>\n",
       "      <td>12844.019531</td>\n",
       "      <td>12844.019531</td>\n",
       "      <td>2020-08-10</td>\n",
       "    </tr>\n",
       "    <tr>\n",
       "      <th>13745</th>\n",
       "      <td>12979.075195</td>\n",
       "      <td>12849.370117</td>\n",
       "      <td>12849.370117</td>\n",
       "      <td>2020-08-11</td>\n",
       "    </tr>\n",
       "  </tbody>\n",
       "</table>\n",
       "</div>"
      ],
      "text/plain": [
       "               Open         Close         Value       Date\n",
       "13741  12612.089844  12731.549805  12731.549805 2020-08-05\n",
       "13742  12702.879883  12729.169922  12729.169922 2020-08-06\n",
       "13743  12655.700195  12765.839844  12765.839844 2020-08-07\n",
       "13744  12797.780273  12844.019531  12844.019531 2020-08-10\n",
       "13745  12979.075195  12849.370117  12849.370117 2020-08-11"
      ]
     },
     "execution_count": 2,
     "metadata": {},
     "output_type": "execute_result"
    }
   ],
   "source": [
    "# TICKER = '^GSPC'\n",
    "TICKER = '^NYA' \n",
    "df = yf.download(TICKER, start='1965-01-01')\n",
    "df = df[['Open', 'Close', 'Adj Close']]\n",
    "df.rename(columns={'Adj Close': 'Value'}, inplace=True)\n",
    "df['Date'] = df.index\n",
    "df.fillna(method='ffill')\n",
    "df.index = range(df.shape[0])\n",
    "df.tail()"
   ]
  },
  {
   "cell_type": "code",
   "execution_count": 3,
   "metadata": {},
   "outputs": [
    {
     "data": {
      "text/html": [
       "<div>\n",
       "<style scoped>\n",
       "    .dataframe tbody tr th:only-of-type {\n",
       "        vertical-align: middle;\n",
       "    }\n",
       "\n",
       "    .dataframe tbody tr th {\n",
       "        vertical-align: top;\n",
       "    }\n",
       "\n",
       "    .dataframe thead th {\n",
       "        text-align: right;\n",
       "    }\n",
       "</style>\n",
       "<table border=\"1\" class=\"dataframe\">\n",
       "  <thead>\n",
       "    <tr style=\"text-align: right;\">\n",
       "      <th></th>\n",
       "      <th>Open</th>\n",
       "      <th>Close</th>\n",
       "      <th>Value</th>\n",
       "      <th>Date</th>\n",
       "      <th>Change_5Day</th>\n",
       "    </tr>\n",
       "  </thead>\n",
       "  <tbody>\n",
       "    <tr>\n",
       "      <th>13736</th>\n",
       "      <td>12533.459961</td>\n",
       "      <td>12669.620117</td>\n",
       "      <td>12669.620117</td>\n",
       "      <td>2020-07-29</td>\n",
       "      <td>1.008000</td>\n",
       "    </tr>\n",
       "    <tr>\n",
       "      <th>13737</th>\n",
       "      <td>12491.459961</td>\n",
       "      <td>12533.280273</td>\n",
       "      <td>12533.280273</td>\n",
       "      <td>2020-07-30</td>\n",
       "      <td>1.001791</td>\n",
       "    </tr>\n",
       "    <tr>\n",
       "      <th>13738</th>\n",
       "      <td>12509.330078</td>\n",
       "      <td>12465.049805</td>\n",
       "      <td>12465.049805</td>\n",
       "      <td>2020-07-31</td>\n",
       "      <td>1.000262</td>\n",
       "    </tr>\n",
       "    <tr>\n",
       "      <th>13739</th>\n",
       "      <td>12513.209961</td>\n",
       "      <td>12536.809570</td>\n",
       "      <td>12536.809570</td>\n",
       "      <td>2020-08-03</td>\n",
       "      <td>0.998700</td>\n",
       "    </tr>\n",
       "    <tr>\n",
       "      <th>13740</th>\n",
       "      <td>12548.929688</td>\n",
       "      <td>12612.110352</td>\n",
       "      <td>12612.110352</td>\n",
       "      <td>2020-08-04</td>\n",
       "      <td>1.009678</td>\n",
       "    </tr>\n",
       "    <tr>\n",
       "      <th>13741</th>\n",
       "      <td>12612.089844</td>\n",
       "      <td>12731.549805</td>\n",
       "      <td>12731.549805</td>\n",
       "      <td>2020-08-05</td>\n",
       "      <td>1.004888</td>\n",
       "    </tr>\n",
       "    <tr>\n",
       "      <th>13742</th>\n",
       "      <td>12702.879883</td>\n",
       "      <td>12729.169922</td>\n",
       "      <td>12729.169922</td>\n",
       "      <td>2020-08-06</td>\n",
       "      <td>1.015630</td>\n",
       "    </tr>\n",
       "    <tr>\n",
       "      <th>13743</th>\n",
       "      <td>12655.700195</td>\n",
       "      <td>12765.839844</td>\n",
       "      <td>12765.839844</td>\n",
       "      <td>2020-08-07</td>\n",
       "      <td>1.024131</td>\n",
       "    </tr>\n",
       "    <tr>\n",
       "      <th>13744</th>\n",
       "      <td>12797.780273</td>\n",
       "      <td>12844.019531</td>\n",
       "      <td>12844.019531</td>\n",
       "      <td>2020-08-10</td>\n",
       "      <td>1.024505</td>\n",
       "    </tr>\n",
       "    <tr>\n",
       "      <th>13745</th>\n",
       "      <td>12979.075195</td>\n",
       "      <td>12849.370117</td>\n",
       "      <td>12849.370117</td>\n",
       "      <td>2020-08-11</td>\n",
       "      <td>1.018812</td>\n",
       "    </tr>\n",
       "  </tbody>\n",
       "</table>\n",
       "</div>"
      ],
      "text/plain": [
       "               Open         Close         Value       Date  Change_5Day\n",
       "13736  12533.459961  12669.620117  12669.620117 2020-07-29     1.008000\n",
       "13737  12491.459961  12533.280273  12533.280273 2020-07-30     1.001791\n",
       "13738  12509.330078  12465.049805  12465.049805 2020-07-31     1.000262\n",
       "13739  12513.209961  12536.809570  12536.809570 2020-08-03     0.998700\n",
       "13740  12548.929688  12612.110352  12612.110352 2020-08-04     1.009678\n",
       "13741  12612.089844  12731.549805  12731.549805 2020-08-05     1.004888\n",
       "13742  12702.879883  12729.169922  12729.169922 2020-08-06     1.015630\n",
       "13743  12655.700195  12765.839844  12765.839844 2020-08-07     1.024131\n",
       "13744  12797.780273  12844.019531  12844.019531 2020-08-10     1.024505\n",
       "13745  12979.075195  12849.370117  12849.370117 2020-08-11     1.018812"
      ]
     },
     "execution_count": 3,
     "metadata": {},
     "output_type": "execute_result"
    }
   ],
   "source": [
    "CHANGE_OVER = 5\n",
    "df.loc[:, f'Change_{CHANGE_OVER}Day'] = np.nan\n",
    "for i in range(CHANGE_OVER, df.shape[0]):\n",
    "    df.loc[i, f'Change_{CHANGE_OVER}Day'] = df.loc[i, 'Value'] / df.loc[i - CHANGE_OVER, 'Value']\n",
    "df.tail(10)"
   ]
  },
  {
   "cell_type": "code",
   "execution_count": 4,
   "metadata": {},
   "outputs": [],
   "source": [
    "def get_macd(series, n_fast=75, n_slow=155, signal=35, years=None, plot=False):\n",
    "    n = len(series)\n",
    "    ema_fast = series.ewm(span=n_fast).mean()\n",
    "    ema_slow = series.ewm(span=n_slow).mean()\n",
    "    macd = ema_fast - ema_slow\n",
    "    sig = macd.ewm(span=signal).mean()\n",
    "    histo = macd - sig\n",
    "    k = years * 250 if years is not None else n - 1\n",
    "    if plot:\n",
    "        plt.plot(macd[n-k:n], color='k', label=f'MACD: {n_fast} - {n_slow}')\n",
    "        plt.plot(sig, color='r', label=f'Signal: {signal}')\n",
    "        plt.axhline(0, color='gray')\n",
    "        plt.plot(histo, color='blue', label='Hist')\n",
    "        plt.legend();\n",
    "    return histo"
   ]
  },
  {
   "cell_type": "code",
   "execution_count": 5,
   "metadata": {},
   "outputs": [
    {
     "name": "stdout",
     "output_type": "stream",
     "text": [
      "13736    140.233912\n",
      "13737    140.927173\n",
      "13738    140.421434\n",
      "13739    140.610113\n",
      "13740    141.471214\n",
      "13741    143.500531\n",
      "13742    145.029992\n",
      "13743    146.596890\n",
      "13744    148.720215\n",
      "13745    150.412376\n",
      "Name: Value, dtype: float64\n"
     ]
    },
    {
     "data": {
      "image/png": "[encoded data removed]",
      "text/plain": [
       "<Figure size 432x288 with 1 Axes>"
      ]
     },
     "metadata": {
      "needs_background": "light"
     },
     "output_type": "display_data"
    }
   ],
   "source": [
    "test = get_macd(df.Value, plot=True)\n",
    "print(test[-10:])"
   ]
  },
  {
   "cell_type": "code",
   "execution_count": 6,
   "metadata": {},
   "outputs": [],
   "source": [
    "def get_rmse(preds, actual):\n",
    "    return np.sqrt(((preds - actual)**2).mean())"
   ]
  },
  {
   "cell_type": "code",
   "execution_count": 7,
   "metadata": {},
   "outputs": [],
   "source": [
    "def get_error(changes, histo, err_type='rmse'):\n",
    "    histo_changes =  histo.copy()\n",
    "    for i in range(1, len(histo)):\n",
    "        histo_changes[i] = histo[i] - histo[i - 1]\n",
    "    histo = histo[1:-CHANGE_OVER]\n",
    "    histo_changes = histo_changes[1:-CHANGE_OVER]\n",
    "    changes = changes[CHANGE_OVER + 1:]\n",
    "    histo_interaction = histo * histo_changes\n",
    "    X = np.vstack([histo, histo_changes, histo_interaction]).T\n",
    "    scaler = StandardScaler()\n",
    "    X = scaler.fit_transform(X)\n",
    "    if err_type == 'rmse':\n",
    "        mod = LinearRegression().fit(X, changes)\n",
    "        preds = mod.predict(X)\n",
    "        err = get_rmse(preds, changes)\n",
    "    elif err_type == 'categorical':\n",
    "        changes = 1 * (changes >= 1.)\n",
    "        mod = LogisticRegression().fit(X, changes)\n",
    "        preds = mod.predict(X)\n",
    "        acc = (preds == changes).sum() / len(changes)\n",
    "        err = 1 - acc\n",
    "    return err, mod, preds, scaler"
   ]
  },
  {
   "cell_type": "code",
   "execution_count": 78,
   "metadata": {},
   "outputs": [
    {
     "data": {
      "text/plain": [
       "(0.43886462882096067,\n",
       " LogisticRegression(C=1.0, class_weight=None, dual=False, fit_intercept=True,\n",
       "                    intercept_scaling=1, l1_ratio=None, max_iter=100,\n",
       "                    multi_class='auto', n_jobs=None, penalty='l2',\n",
       "                    random_state=None, solver='lbfgs', tol=0.0001, verbose=0,\n",
       "                    warm_start=False),\n",
       " array([1, 1, 1, ..., 1, 1, 1]),\n",
       " StandardScaler(copy=True, with_mean=True, with_std=True))"
      ]
     },
     "execution_count": 78,
     "metadata": {},
     "output_type": "execute_result"
    }
   ],
   "source": [
    "get_error(df[f'Change_{CHANGE_OVER}Day'], test, err_type='categorical')"
   ]
  },
  {
   "cell_type": "code",
   "execution_count": 79,
   "metadata": {},
   "outputs": [
    {
     "data": {
      "text/plain": [
       "(0.023039796599543298,\n",
       " LinearRegression(copy_X=True, fit_intercept=True, n_jobs=None, normalize=False),\n",
       " array([1.00142092, 1.00142045, 1.00141907, ..., 0.99947456, 0.99955346,\n",
       "        0.99962207]),\n",
       " StandardScaler(copy=True, with_mean=True, with_std=True))"
      ]
     },
     "execution_count": 79,
     "metadata": {},
     "output_type": "execute_result"
    }
   ],
   "source": [
    "get_error(df[f'Change_{CHANGE_OVER}Day'], test)"
   ]
  },
  {
   "cell_type": "code",
   "execution_count": 80,
   "metadata": {},
   "outputs": [],
   "source": [
    "ERR_TYPE = 'rmse'"
   ]
  },
  {
   "cell_type": "code",
   "execution_count": 124,
   "metadata": {},
   "outputs": [
    {
     "data": {
      "text/plain": [
       "176.0"
      ]
     },
     "execution_count": 124,
     "metadata": {},
     "output_type": "execute_result"
    }
   ],
   "source": [
    "(160 + 192) / 2"
   ]
  },
  {
   "cell_type": "code",
   "execution_count": 161,
   "metadata": {},
   "outputs": [],
   "source": [
    "FAST = [10, 20, 40, 80, 160]\n",
    "SLOW = [40, 80, 160, 320, 640]\n",
    "SIGNAL = [16, 32, 64, 128, 256]\n",
    "\n",
    "FAST = [150, 151, 152]\n",
    "SLOW = [151, 152, 153]\n",
    "SIGNAL = [151, 152, 153]"
   ]
  },
  {
   "cell_type": "code",
   "execution_count": 162,
   "metadata": {},
   "outputs": [
    {
     "name": "stdout",
     "output_type": "stream",
     "text": [
      "Fast: 150\n",
      "  New Best! Error: 0.0229907738\n",
      "  New Best! Error: 0.0229907669\n",
      "  New Best! Error: 0.022990763\n",
      "  New Best! Error: 0.0229907628\n",
      "  New Best! Error: 0.0229907617\n",
      "  New Best! Error: 0.0229907617\n",
      "Fast: 151\n",
      "  New Best! Error: 0.0229907615\n",
      "Fast: 152\n"
     ]
    }
   ],
   "source": [
    "best_error = np.inf\n",
    "best_params = {'fast': None,\n",
    "               'slow': None,\n",
    "               'signal': None}\n",
    "best_hist = None\n",
    "best_coefs = None\n",
    "best_preds = None\n",
    "best_scaler = None\n",
    "\n",
    "for f in FAST:\n",
    "    print('Fast:', f)\n",
    "    for s in SLOW:\n",
    "        for g in SIGNAL:\n",
    "            hist = get_macd(df.Value, n_fast=f, n_slow=s, signal=g)\n",
    "            error, mod, preds, scaler = get_error(df[f'Change_{CHANGE_OVER}Day'], hist, err_type=ERR_TYPE)\n",
    "            if error < best_error:\n",
    "                print(f'  New Best! Error: {error:.9}')\n",
    "                best_error = error\n",
    "                best_params['fast'] = f\n",
    "                best_params['slow'] = s\n",
    "                best_params['signal'] = g\n",
    "                best_hist = hist\n",
    "                best_preds = preds\n",
    "                best_scaler = scaler"
   ]
  },
  {
   "cell_type": "code",
   "execution_count": 163,
   "metadata": {},
   "outputs": [
    {
     "data": {
      "text/plain": [
       "{'fast': 151, 'slow': 152, 'signal': 152}"
      ]
     },
     "execution_count": 163,
     "metadata": {},
     "output_type": "execute_result"
    }
   ],
   "source": [
    "best_params"
   ]
  },
  {
   "cell_type": "code",
   "execution_count": 164,
   "metadata": {},
   "outputs": [
    {
     "data": {
      "image/png": "[encoded data removed]",
      "text/plain": [
       "<Figure size 432x288 with 1 Axes>"
      ]
     },
     "metadata": {
      "needs_background": "light"
     },
     "output_type": "display_data"
    }
   ],
   "source": [
    "best_hist = get_macd(\n",
    "    df.Value, n_fast=best_params['fast'], n_slow=best_params['slow'], signal=best_params['signal'], plot=True)"
   ]
  },
  {
   "cell_type": "code",
   "execution_count": 165,
   "metadata": {},
   "outputs": [],
   "source": [
    "err, mod, best_preds, best_scaler = get_error(df[f'Change_{CHANGE_OVER}Day'], best_hist, err_type=ERR_TYPE)"
   ]
  },
  {
   "cell_type": "code",
   "execution_count": 166,
   "metadata": {},
   "outputs": [
    {
     "data": {
      "text/plain": [
       "array([[ 1.34687529e-02, -4.71748547e-04, -5.31846129e-03],\n",
       "       [ 1.34825631e-02,  9.30386665e-04, -5.31847055e-03],\n",
       "       [ 1.35932344e-02,  4.84483226e-03, -5.31827005e-03],\n",
       "       ...,\n",
       "       [ 1.84261285e-01,  3.97274217e+00,  2.85737597e-01],\n",
       "       [ 2.87727847e-01,  4.18176417e+00,  4.86675799e-01],\n",
       "       [ 3.88051109e-01,  4.05473403e+00,  6.46245115e-01]])"
      ]
     },
     "execution_count": 166,
     "metadata": {},
     "output_type": "execute_result"
    }
   ],
   "source": [
    "best_hist_changes =  best_hist.copy()\n",
    "for i in range(1, len(best_hist)):\n",
    "    best_hist_changes[i] = best_hist[i] - best_hist[i - 1]\n",
    "best_hist = best_hist[1:]\n",
    "best_hist_changes = best_hist_changes[1:]\n",
    "best_hist_interaction = best_hist * best_hist_changes\n",
    "X = np.vstack([best_hist, best_hist_changes, best_hist_interaction]).T\n",
    "X = best_scaler.transform(X)\n",
    "X"
   ]
  },
  {
   "cell_type": "code",
   "execution_count": 167,
   "metadata": {},
   "outputs": [
    {
     "data": {
      "image/png": "[encoded data removed]",
      "text/plain": [
       "<Figure size 1080x360 with 3 Axes>"
      ]
     },
     "metadata": {
      "needs_background": "light"
     },
     "output_type": "display_data"
    }
   ],
   "source": [
    "plt.figure(figsize=(15, 5))\n",
    "plt.subplot(131)\n",
    "plt.hist(X[:, 0])\n",
    "\n",
    "plt.subplot(132)\n",
    "plt.hist(X[:, 1])\n",
    "\n",
    "plt.subplot(133)\n",
    "plt.hist(X[:, 2]);"
   ]
  },
  {
   "cell_type": "code",
   "execution_count": 168,
   "metadata": {},
   "outputs": [
    {
     "data": {
      "text/plain": [
       "LinearRegression(copy_X=True, fit_intercept=True, n_jobs=None, normalize=False)"
      ]
     },
     "execution_count": 168,
     "metadata": {},
     "output_type": "execute_result"
    }
   ],
   "source": [
    "mod"
   ]
  },
  {
   "cell_type": "code",
   "execution_count": 173,
   "metadata": {},
   "outputs": [
    {
     "data": {
      "text/plain": [
       "[<matplotlib.lines.Line2D at 0x7fcda7b73250>]"
      ]
     },
     "execution_count": 173,
     "metadata": {},
     "output_type": "execute_result"
    },
    {
     "data": {
      "image/png": "[encoded data removed]",
      "text/plain": [
       "<Figure size 432x288 with 1 Axes>"
      ]
     },
     "metadata": {
      "needs_background": "light"
     },
     "output_type": "display_data"
    },
    {
     "data": {
      "image/png": "[encoded data removed]",
      "text/plain": [
       "<Figure size 432x288 with 1 Axes>"
      ]
     },
     "metadata": {
      "needs_background": "light"
     },
     "output_type": "display_data"
    }
   ],
   "source": [
    "all_preds = mod.predict(X)\n",
    "plt.plot(all_preds[-250:])\n",
    "plt.axhline(1, color='k');\n",
    "\n",
    "plt.figure()\n",
    "plt.plot(df.Value[-250:], color='r')"
   ]
  },
  {
   "cell_type": "code",
   "execution_count": 174,
   "metadata": {},
   "outputs": [
    {
     "name": "stdout",
     "output_type": "stream",
     "text": [
      "[1.00266716 1.00289769 1.00318838 1.00359588 1.00382061]\n",
      "Day 1\n",
      "  Hist: -0.02\n",
      "  Pred: 1.002667162886484\n",
      "Day 2\n",
      "  Hist: 0.06\n",
      "  Pred: 1.0028976868288355\n",
      "Day 3\n",
      "  Hist: 0.13\n",
      "  Pred: 1.0031883833691497\n",
      "Day 4\n",
      "  Hist: 0.21\n",
      "  Pred: 1.0035958792250586\n",
      "Day 5\n",
      "  Hist: 0.29\n",
      "  Pred: 1.0038206104496967\n"
     ]
    }
   ],
   "source": [
    "X_sub = X[-5:, :]\n",
    "preds = mod.predict(X_sub)\n",
    "print(preds)\n",
    "for i, hist_today in enumerate(best_hist.values[-5:]):\n",
    "    print(f'Day {i + 1}\\n  Hist: {hist_today:2.2f}\\n  Pred: {preds[i]}')"
   ]
  },
  {
   "cell_type": "code",
   "execution_count": 175,
   "metadata": {},
   "outputs": [
    {
     "data": {
      "image/png": "[encoded data removed]",
      "text/plain": [
       "<Figure size 432x288 with 1 Axes>"
      ]
     },
     "metadata": {
      "needs_background": "light"
     },
     "output_type": "display_data"
    }
   ],
   "source": [
    "plt.plot(best_hist.values[-250:])\n",
    "plt.axhline(0, color='k');"
   ]
  },
  {
   "cell_type": "code",
   "execution_count": 176,
   "metadata": {},
   "outputs": [
    {
     "data": {
      "text/plain": [
       "(0.9807099142067373, 1.040943663198191)"
      ]
     },
     "execution_count": 176,
     "metadata": {},
     "output_type": "execute_result"
    }
   ],
   "source": [
    "best_preds.min(), best_preds.max()"
   ]
  },
  {
   "cell_type": "code",
   "execution_count": 177,
   "metadata": {},
   "outputs": [
    {
     "data": {
      "text/plain": [
       "array([0.98869716, 1.02353658])"
      ]
     },
     "execution_count": 177,
     "metadata": {},
     "output_type": "execute_result"
    }
   ],
   "source": [
    "qs = np.quantile(best_preds, q=[0.001, 0.999])\n",
    "qs"
   ]
  },
  {
   "cell_type": "code",
   "execution_count": 178,
   "metadata": {},
   "outputs": [],
   "source": [
    "def rescale(x, qs, new_min=0.9, new_center=1, new_max=2):\n",
    "    if x == 1:\n",
    "        return new_center\n",
    "    if x < 1:\n",
    "        qs[1] = 1\n",
    "        new_max = new_center\n",
    "    elif x > 1:\n",
    "        qs[0] = 1\n",
    "        new_min = new_center\n",
    "    #print(qs)\n",
    "    x -= qs[0]\n",
    "    x /= (qs[1] - qs[0])\n",
    "    x *= (new_max - new_min)\n",
    "    x += new_min\n",
    "    if x > new_max:\n",
    "        x = new_max\n",
    "    if x < new_min:\n",
    "        x = new_min\n",
    "    return x"
   ]
  },
  {
   "cell_type": "code",
   "execution_count": 179,
   "metadata": {},
   "outputs": [
    {
     "data": {
      "text/plain": [
       "array([0.38805111, 4.05473403, 0.64624512])"
      ]
     },
     "execution_count": 179,
     "metadata": {},
     "output_type": "execute_result"
    }
   ],
   "source": [
    "X_today = X[-1, :]\n",
    "X_today"
   ]
  },
  {
   "cell_type": "code",
   "execution_count": 180,
   "metadata": {},
   "outputs": [
    {
     "data": {
      "text/plain": [
       "array([1.00382061])"
      ]
     },
     "execution_count": 180,
     "metadata": {},
     "output_type": "execute_result"
    }
   ],
   "source": [
    "mod.predict([X_today])"
   ]
  },
  {
   "cell_type": "code",
   "execution_count": 181,
   "metadata": {},
   "outputs": [
    {
     "name": "stdout",
     "output_type": "stream",
     "text": [
      "TODAY:\n",
      "hist: 0.2872088445465246\n",
      "pred: 1.0038206104496967\n",
      "exp:  1.1623265036338826\n"
     ]
    }
   ],
   "source": [
    "pred_today = mod.predict([X_today])\n",
    "exp_today = rescale(pred_today.copy(), qs)\n",
    "print(f'TODAY:\\nhist: {hist_today}\\npred: {pred_today[0]}\\nexp:  {exp_today[0]}')"
   ]
  },
  {
   "cell_type": "code",
   "execution_count": null,
   "metadata": {},
   "outputs": [],
   "source": []
  }
 ],
 "metadata": {
  "kernelspec": {
   "display_name": "Python 3",
   "language": "python",
   "name": "python3"
  },
  "language_info": {
   "codemirror_mode": {
    "name": "ipython",
    "version": 3
   },
   "file_extension": ".py",
   "mimetype": "text/x-python",
   "name": "python",
   "nbconvert_exporter": "python",
   "pygments_lexer": "ipython3",
   "version": "3.7.5"
  }
 },
 "nbformat": 4,
 "nbformat_minor": 2
}
