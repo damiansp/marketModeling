{
 "cells": [
  {
   "cell_type": "code",
   "execution_count": 1,
   "id": "5b67dca6",
   "metadata": {},
   "outputs": [],
   "source": [
    "import numpy as np"
   ]
  },
  {
   "cell_type": "code",
   "execution_count": 7,
   "id": "a2b86bef",
   "metadata": {},
   "outputs": [],
   "source": [
    "rgen = np.random.default_rng(12)"
   ]
  },
  {
   "cell_type": "code",
   "execution_count": 8,
   "id": "c26ddefb",
   "metadata": {},
   "outputs": [
    {
     "data": {
      "text/plain": [
       "array([61269, 25082, 97298, 94675,  6441, 18932, 19948, 17929, 58191,\n",
       "       34988])"
      ]
     },
     "execution_count": 8,
     "metadata": {},
     "output_type": "execute_result"
    }
   ],
   "source": [
    "rgen.integers(low=0, high=1_000_00, size=10)"
   ]
  },
  {
   "cell_type": "code",
   "execution_count": 9,
   "id": "75bbde08",
   "metadata": {},
   "outputs": [
    {
     "data": {
      "text/plain": [
       "array([61269, 25082, 97298, 94675,  6441, 18932, 19948, 17929, 58191,\n",
       "       34988])"
      ]
     },
     "execution_count": 9,
     "metadata": {},
     "output_type": "execute_result"
    }
   ],
   "source": [
    "rgen = np.random.default_rng(12)\n",
    "rgen.integers(low=0, high=1_000_00, size=10)"
   ]
  },
  {
   "cell_type": "code",
   "execution_count": 10,
   "id": "c7792129",
   "metadata": {},
   "outputs": [
    {
     "data": {
      "text/plain": [
       "array([685587, 327191, 378517, 943350, 838964, 429287, 461126, 408292,\n",
       "       447598,   9549])"
      ]
     },
     "execution_count": 10,
     "metadata": {},
     "output_type": "execute_result"
    }
   ],
   "source": [
    "rgen = np.random.default_rng(None)\n",
    "rgen.integers(0, 1_000_000, size=10)"
   ]
  },
  {
   "cell_type": "code",
   "execution_count": 11,
   "id": "83fce001",
   "metadata": {},
   "outputs": [],
   "source": [
    "from sklearn.linear_model import LogisticRegression\n",
    "mod = LogisticRegression()"
   ]
  },
  {
   "cell_type": "code",
   "execution_count": 13,
   "id": "373fd2c1",
   "metadata": {},
   "outputs": [
    {
     "data": {
      "text/plain": [
       "True"
      ]
     },
     "execution_count": 13,
     "metadata": {},
     "output_type": "execute_result"
    }
   ],
   "source": [
    "hasattr(mod, 'random_state')"
   ]
  },
  {
   "cell_type": "code",
   "execution_count": 15,
   "id": "a4fe0d1f",
   "metadata": {},
   "outputs": [
    {
     "data": {
      "text/plain": [
       "array(['b', 'b', 'c', 'a', 'b', 'b', 'b', 'a', 'a', 'a'], dtype='<U1')"
      ]
     },
     "execution_count": 15,
     "metadata": {},
     "output_type": "execute_result"
    }
   ],
   "source": [
    "rgen.choice(list('abc'), size=10, replace=True)"
   ]
  },
  {
   "cell_type": "code",
   "execution_count": null,
   "id": "d3ebb776",
   "metadata": {},
   "outputs": [],
   "source": []
  }
 ],
 "metadata": {
  "kernelspec": {
   "display_name": "Python 3 (ipykernel)",
   "language": "python",
   "name": "python3"
  },
  "language_info": {
   "codemirror_mode": {
    "name": "ipython",
    "version": 3
   },
   "file_extension": ".py",
   "mimetype": "text/x-python",
   "name": "python",
   "nbconvert_exporter": "python",
   "pygments_lexer": "ipython3",
   "version": "3.11.3"
  }
 },
 "nbformat": 4,
 "nbformat_minor": 5
}
