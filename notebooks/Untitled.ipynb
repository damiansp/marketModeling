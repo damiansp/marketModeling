{
 "cells": [
  {
   "cell_type": "code",
   "execution_count": 5,
   "id": "d9866e88",
   "metadata": {},
   "outputs": [],
   "source": [
    "import time"
   ]
  },
  {
   "cell_type": "code",
   "execution_count": 17,
   "id": "4d0e3443",
   "metadata": {},
   "outputs": [
    {
     "name": "stdout",
     "output_type": "stream",
     "text": [
      "etiawhtrettaS neleH alieL\n"
     ]
    }
   ],
   "source": [
    "print('Leila Helen Satterthwaite'[::-1])"
   ]
  },
  {
   "cell_type": "code",
   "execution_count": null,
   "id": "da67e2da",
   "metadata": {},
   "outputs": [],
   "source": []
  }
 ],
 "metadata": {
  "kernelspec": {
   "display_name": "Python 3 (ipykernel)",
   "language": "python",
   "name": "python3"
  },
  "language_info": {
   "codemirror_mode": {
    "name": "ipython",
    "version": 3
   },
   "file_extension": ".py",
   "mimetype": "text/x-python",
   "name": "python",
   "nbconvert_exporter": "python",
   "pygments_lexer": "ipython3",
   "version": "3.11.3"
  }
 },
 "nbformat": 4,
 "nbformat_minor": 5
}
