{
 "cells": [
  {
   "cell_type": "code",
   "execution_count": 2,
   "id": "74ff0132",
   "metadata": {},
   "outputs": [],
   "source": [
    "import re\n",
    "\n",
    "import numpy as np\n",
    "import pandas as pd"
   ]
  },
  {
   "cell_type": "code",
   "execution_count": 8,
   "id": "209597bf",
   "metadata": {},
   "outputs": [],
   "source": [
    "def separate_numbers_letters(string):\n",
    "    numbers = []\n",
    "    letters = []\n",
    "    current = \"\"\n",
    "    for i, char in enumerate(string):\n",
    "        print(i)\n",
    "        if char.isnumeric():\n",
    "            if current:\n",
    "                letters.append(current)\n",
    "                current = \"\"\n",
    "            num_str = char\n",
    "            for j in range(i + 1, len(string)):\n",
    "                if string[j].isnumeric():\n",
    "                    num_str += string[j]\n",
    "                    print(numbers)\n",
    "                else:\n",
    "                    break\n",
    "            numbers.append(int(num_str))\n",
    "        elif char.isalpha():\n",
    "            current += char\n",
    "        if current and char == string[-1]:\n",
    "            letters.append(current)\n",
    "    return numbers, letters"
   ]
  },
  {
   "cell_type": "code",
   "execution_count": 9,
   "id": "fcd25404",
   "metadata": {},
   "outputs": [
    {
     "name": "stdout",
     "output_type": "stream",
     "text": [
      "0\n",
      "1\n",
      "2\n",
      "[]\n",
      "3\n",
      "4\n",
      "5\n",
      "6\n",
      "[12, 2]\n",
      "[12, 2]\n",
      "7\n",
      "[12, 2, 345]\n",
      "8\n",
      "9\n",
      "10\n",
      "11\n",
      "12\n"
     ]
    },
    {
     "data": {
      "text/plain": [
       "([12, 2, 345, 45, 5, 6], ['ab', 'cd', 'efg'])"
      ]
     },
     "execution_count": 9,
     "metadata": {},
     "output_type": "execute_result"
    }
   ],
   "source": [
    "s = 'ab12cd345efg6'\n",
    "separate_numbers_letters(s)"
   ]
  },
  {
   "cell_type": "code",
   "execution_count": 12,
   "id": "64b4c755",
   "metadata": {},
   "outputs": [],
   "source": [
    "def separate_nl(string):\n",
    "    numbers = []\n",
    "    letters = []\n",
    "    current = \"\"\n",
    "    for i, char in enumerate(string):\n",
    "        if char.isnumeric():\n",
    "            if current:\n",
    "                letters.append(current)\n",
    "                current = \"\"\n",
    "            num_str = char\n",
    "            for j in range(i + 1, len(string)):\n",
    "                if string[j].isnumeric():\n",
    "                    num_str += string[j]\n",
    "                    i += 1\n",
    "                    #print(numbers)\n",
    "                else:\n",
    "                    break\n",
    "            numbers.append(int(num_str))\n",
    "        elif char.isalpha():\n",
    "            current += char\n",
    "        if current and char == string[-1]:\n",
    "            letters.append(current)\n",
    "    return numbers, letters"
   ]
  },
  {
   "cell_type": "code",
   "execution_count": 13,
   "id": "5564d7a1",
   "metadata": {},
   "outputs": [
    {
     "data": {
      "text/plain": [
       "([12, 2, 345, 45, 5, 6], ['ab', 'cd', 'efg'])"
      ]
     },
     "execution_count": 13,
     "metadata": {},
     "output_type": "execute_result"
    }
   ],
   "source": [
    "separate_nl(s)"
   ]
  },
  {
   "cell_type": "code",
   "execution_count": null,
   "id": "9cbe291b",
   "metadata": {},
   "outputs": [],
   "source": []
  }
 ],
 "metadata": {
  "kernelspec": {
   "display_name": "Python 3 (ipykernel)",
   "language": "python",
   "name": "python3"
  },
  "language_info": {
   "codemirror_mode": {
    "name": "ipython",
    "version": 3
   },
   "file_extension": ".py",
   "mimetype": "text/x-python",
   "name": "python",
   "nbconvert_exporter": "python",
   "pygments_lexer": "ipython3",
   "version": "3.10.6"
  }
 },
 "nbformat": 4,
 "nbformat_minor": 5
}
