{
 "cells": [
  {
   "cell_type": "code",
   "execution_count": 1,
   "id": "5b67dca6",
   "metadata": {},
   "outputs": [],
   "source": [
    "import numpy as np"
   ]
  },
  {
   "cell_type": "code",
   "execution_count": 59,
   "id": "40a995b6",
   "metadata": {},
   "outputs": [],
   "source": [
    "P_STATS0_BUY = {\n",
    "    'et':   {'buy': 0.03, 'sell': 0.01},    # incr by 1                                   \n",
    "    'fid':  {'buy': 0.04, 'sell': 0.01},    #         2                                   \n",
    "    'schwab': {'buy': 0.01, 'sell': 0.36}}  #         3                                   \n",
    "TRANSACT_IF = {\n",
    "    'et': {'curr': 5, 'opp': 5},\n",
    "    'fid': {'curr': 4, 'opp': 4},\n",
    "    'schwab': {'curr': 3, 'opp': 3}}"
   ]
  },
  {
   "cell_type": "code",
   "execution_count": 60,
   "id": "c26ddefb",
   "metadata": {},
   "outputs": [],
   "source": [
    "def get_threshold(max_init, current):\n",
    "    diff = int(100 * (1 - 0.01))\n",
    "    probs = np.linspace(0.01, 1, diff + 1)\n",
    "    thresh = np.linspace(max_init, -5, diff + 1)\n",
    "    err = 0.00001\n",
    "    for i in range(diff + 1):\n",
    "        #if probs[i] == current:\n",
    "        if abs(probs[i] - current) < err:\n",
    "            return thresh[i]\n",
    "    raise RuntimeError('Should be unreachable')"
   ]
  },
  {
   "cell_type": "code",
   "execution_count": 61,
   "id": "75bbde08",
   "metadata": {},
   "outputs": [],
   "source": [
    "def print_buy_sell_statuses():\n",
    "    for portfolio, data in P_STATS0_BUY.items():\n",
    "        print()\n",
    "        print('-' * 25)\n",
    "        print(portfolio)\n",
    "        print('-' * 25)\n",
    "        for action, prob in data.items():\n",
    "            thresh = get_threshold(TRANSACT_IF[portfolio]['curr'], prob)\n",
    "            direction = 'above'\n",
    "            if action == 'sell':\n",
    "                thresh *= -1\n",
    "                direction = 'below'\n",
    "            print(f'  {action}: {thresh} and {direction}')\n",
    "    print()"
   ]
  },
  {
   "cell_type": "code",
   "execution_count": 62,
   "id": "c7792129",
   "metadata": {},
   "outputs": [
    {
     "name": "stdout",
     "output_type": "stream",
     "text": [
      "\n",
      "-------------------------\n",
      "et\n",
      "-------------------------\n",
      "  buy: 4.797979797979798 and above\n",
      "  sell: -5.0 and below\n",
      "\n",
      "-------------------------\n",
      "fid\n",
      "-------------------------\n",
      "  buy: 3.7272727272727275 and above\n",
      "  sell: -4.0 and below\n",
      "\n",
      "-------------------------\n",
      "schwab\n",
      "-------------------------\n",
      "  buy: 3.0 and above\n",
      "  sell: -0.17171717171717127 and below\n",
      "\n"
     ]
    }
   ],
   "source": [
    "print_buy_sell_statuses()"
   ]
  },
  {
   "cell_type": "code",
   "execution_count": 11,
   "id": "83fce001",
   "metadata": {},
   "outputs": [],
   "source": [
    "from sklearn.linear_model import LogisticRegression\n",
    "mod = LogisticRegression()"
   ]
  },
  {
   "cell_type": "code",
   "execution_count": 13,
   "id": "373fd2c1",
   "metadata": {},
   "outputs": [
    {
     "data": {
      "text/plain": [
       "True"
      ]
     },
     "execution_count": 13,
     "metadata": {},
     "output_type": "execute_result"
    }
   ],
   "source": [
    "hasattr(mod, 'random_state')"
   ]
  },
  {
   "cell_type": "code",
   "execution_count": 15,
   "id": "a4fe0d1f",
   "metadata": {},
   "outputs": [
    {
     "data": {
      "text/plain": [
       "array(['b', 'b', 'c', 'a', 'b', 'b', 'b', 'a', 'a', 'a'], dtype='<U1')"
      ]
     },
     "execution_count": 15,
     "metadata": {},
     "output_type": "execute_result"
    }
   ],
   "source": [
    "rgen.choice(list('abc'), size=10, replace=True)"
   ]
  },
  {
   "cell_type": "code",
   "execution_count": null,
   "id": "d3ebb776",
   "metadata": {},
   "outputs": [],
   "source": []
  }
 ],
 "metadata": {
  "kernelspec": {
   "display_name": "Python 3 (ipykernel)",
   "language": "python",
   "name": "python3"
  },
  "language_info": {
   "codemirror_mode": {
    "name": "ipython",
    "version": 3
   },
   "file_extension": ".py",
   "mimetype": "text/x-python",
   "name": "python",
   "nbconvert_exporter": "python",
   "pygments_lexer": "ipython3",
   "version": "3.11.3"
  }
 },
 "nbformat": 4,
 "nbformat_minor": 5
}
