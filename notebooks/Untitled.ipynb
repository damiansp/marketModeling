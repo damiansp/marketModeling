{
 "cells": [
  {
   "cell_type": "code",
   "execution_count": 29,
   "id": "5b67dca6",
   "metadata": {},
   "outputs": [],
   "source": [
    "from math import ceil\n",
    "\n",
    "import numpy as np"
   ]
  },
  {
   "cell_type": "code",
   "execution_count": 35,
   "id": "d3ebb776",
   "metadata": {},
   "outputs": [],
   "source": [
    "def get_threshold(max_init, current):#, max_prob=0.5):\n",
    "    #adj = int(ceil(1 / max_prob))\n",
    "    diff = int(100 * (1 - 0.01))\n",
    "    print(diff)\n",
    "    probs = np.linspace(0.01, 1, diff + 1)\n",
    "    thresh = np.linspace(max_init, -5, diff + 1)\n",
    "    for i in range(diff + 1):\n",
    "        if probs[i] == current:\n",
    "            print('prob:', probs[i])\n",
    "            print('thresh:', thresh[i])"
   ]
  },
  {
   "cell_type": "code",
   "execution_count": 37,
   "id": "c577273b",
   "metadata": {},
   "outputs": [
    {
     "name": "stdout",
     "output_type": "stream",
     "text": [
      "99\n",
      "prob: 0.01\n",
      "thresh: 5.0\n",
      "99\n",
      "prob: 0.05\n",
      "thresh: 4.595959595959596\n",
      "99\n",
      "prob: 0.33\n",
      "thresh: 1.7676767676767677\n",
      "99\n",
      "prob: 0.5\n",
      "thresh: 0.050505050505050164\n"
     ]
    },
    {
     "data": {
      "text/plain": [
       "(None, None, None, None)"
      ]
     },
     "execution_count": 37,
     "metadata": {},
     "output_type": "execute_result"
    }
   ],
   "source": [
    "get_threshold(5, 0.01), get_threshold(5, 0.05), get_threshold(5, 0.33), get_threshold(5, 0.5)"
   ]
  },
  {
   "cell_type": "code",
   "execution_count": 38,
   "id": "a05d9a80",
   "metadata": {},
   "outputs": [
    {
     "name": "stdout",
     "output_type": "stream",
     "text": [
      "99\n",
      "prob: 1.0\n",
      "thresh: -5.0\n"
     ]
    }
   ],
   "source": [
    "get_threshold(5, 1)"
   ]
  },
  {
   "cell_type": "code",
   "execution_count": null,
   "id": "c074ca6f",
   "metadata": {},
   "outputs": [],
   "source": []
  }
 ],
 "metadata": {
  "kernelspec": {
   "display_name": "Python 3 (ipykernel)",
   "language": "python",
   "name": "python3"
  },
  "language_info": {
   "codemirror_mode": {
    "name": "ipython",
    "version": 3
   },
   "file_extension": ".py",
   "mimetype": "text/x-python",
   "name": "python",
   "nbconvert_exporter": "python",
   "pygments_lexer": "ipython3",
   "version": "3.11.3"
  }
 },
 "nbformat": 4,
 "nbformat_minor": 5
}
