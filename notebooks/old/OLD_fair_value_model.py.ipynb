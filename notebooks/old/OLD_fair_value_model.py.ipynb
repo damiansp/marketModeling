{
 "cells": [
  {
   "cell_type": "code",
   "execution_count": 1,
   "id": "02efc0e6",
   "metadata": {},
   "outputs": [],
   "source": [
    "from datetime import datetime, timedelta\n",
    "import sys\n",
    "\n",
    "import matplotlib.pyplot as plt\n",
    "import numpy as np\n",
    "import pandas as pd\n",
    "#from   sklearn.neighbors import KernelDensity\n",
    "import yfinance as yf\n",
    "\n",
    "sys.path.append('..')\n",
    "from util.batcher import Batcher\n",
    "#from util.stock_loader import Loader"
   ]
  },
  {
   "cell_type": "code",
   "execution_count": 2,
   "id": "e17c1f04",
   "metadata": {},
   "outputs": [
    {
     "data": {
      "text/plain": [
       "71"
      ]
     },
     "execution_count": 2,
     "metadata": {},
     "output_type": "execute_result"
    }
   ],
   "source": [
    "SYMBOLS = [\n",
    "    'AAPL', 'ABMD', 'ABNB', 'ACC', 'ADSK', 'AMD', 'AMZN', 'ANET', \n",
    "    'APPH', 'ARVL', 'AXON', 'BBY','BROS', 'BYND', 'COIN', 'COUR', \n",
    "    'CRWD', 'DDOG', 'DKNG', 'DOCU', 'DUOL', 'EDIT', 'ETSY', 'EVGO', \n",
    "    'FTCH', 'FUV', 'FVRR', 'GH', 'GMED', 'GOOG', 'INTG', 'ISRG', 'JD',\n",
    "    'LSPD', 'LULU','MDB', 'MEDP', 'MELI', 'MNST', 'MSFT', 'MTCH',\n",
    "    'NVCR', 'NVDA', 'NYT', 'OKTA', 'OPEN', 'PANW', 'PINS', 'PTON',\n",
    "    'PUBM', 'QDEL', 'RBLX', 'RDFN', 'RGEN', 'ROKU', 'SE', 'SHOP',\n",
    "    'SOLO', 'SPLK', 'SQ', 'TASK', 'TDOC','TEAM', 'TREX', 'TTD', 'TTWO',\n",
    "    'TWLO', 'TWTR', 'UPST', 'VEEV', 'WK', 'XPEV', 'ZEN', 'ZNGA']\n",
    "INDICES = ['^GSPC', # S&P 500\n",
    "           '^IXIC', # Nasdaq\n",
    "           '^NYA']  # NY Stock Exchange (total)\n",
    "len(SYMBOLS)"
   ]
  },
  {
   "cell_type": "code",
   "execution_count": 3,
   "id": "34811b61",
   "metadata": {},
   "outputs": [
    {
     "data": {
      "text/plain": [
       "(datetime.date(2016, 11, 19), datetime.date(2021, 11, 18))"
      ]
     },
     "execution_count": 3,
     "metadata": {},
     "output_type": "execute_result"
    }
   ],
   "source": [
    "TODAY = (datetime.now() + timedelta(1)).date()\n",
    "YEARS_OF_DATA = 5\n",
    "START = TODAY - timedelta(YEARS_OF_DATA * 365)\n",
    "START, TODAY"
   ]
  },
  {
   "cell_type": "code",
   "execution_count": 4,
   "id": "80b6d36b",
   "metadata": {},
   "outputs": [],
   "source": [
    "batch = SYMBOLS + INDICES"
   ]
  },
  {
   "cell_type": "code",
   "execution_count": 5,
   "id": "d1345c46",
   "metadata": {},
   "outputs": [
    {
     "name": "stdout",
     "output_type": "stream",
     "text": [
      "[*********************100%***********************]  74 of 74 completed\n"
     ]
    }
   ],
   "source": [
    "data = yf.download(batch, start=START, end=TODAY).rename(columns={'Adj Close': 'AdjClose'})"
   ]
  },
  {
   "cell_type": "code",
   "execution_count": 6,
   "id": "c86a6728",
   "metadata": {},
   "outputs": [],
   "source": [
    "def get_stock_data(stock, data):\n",
    "    sub = data.loc[\n",
    "        :,  \n",
    "        [x for x in list(data) if x[1] == stock]]\n",
    "    first_value = sub.AdjClose[stock][sub.AdjClose[stock].notna()].index[0]\n",
    "    sub = sub.loc[first_value:, :]\n",
    "    sub.columns = sub.columns.to_series().apply(lambda x: x[0])\n",
    "    sub.fillna(method='ffill', inplace=True)\n",
    "    return sub"
   ]
  },
  {
   "cell_type": "code",
   "execution_count": 7,
   "id": "fc00b33a",
   "metadata": {},
   "outputs": [],
   "source": [
    "def get_daily_returns(x):\n",
    "    n = len(x)\n",
    "    x = np.array(x)\n",
    "    return x[2:n] / x[1:(n - 1)] - 1 "
   ]
  },
  {
   "cell_type": "code",
   "execution_count": 8,
   "id": "418e9299",
   "metadata": {},
   "outputs": [],
   "source": [
    "def get_sharpe(returns, window=None):\n",
    "    n = len(returns)\n",
    "    if window is None:\n",
    "        window = n\n",
    "    if len(returns) > window:\n",
    "        returns = returns[(n - window):n]\n",
    "    returns = returns[~np.isnan(returns)]\n",
    "    sharpe = (np.sqrt(252) * returns.mean()) / returns.std()\n",
    "    return sharpe"
   ]
  },
  {
   "cell_type": "code",
   "execution_count": 9,
   "id": "d0c38483",
   "metadata": {},
   "outputs": [],
   "source": [
    "def get_rsi(stock_data, window=14):\n",
    "    df = stock_data.copy()\n",
    "    df['deltas'] = df.AdjClose.diff(1)\n",
    "    df['gains'] = df.deltas.clip(lower=0)\n",
    "    df['losses'] = df.deltas.clip(upper=0).abs()\n",
    "    df['avg_gain'] = (df.gains\n",
    "                      .rolling(window=window, min_periods=window)\n",
    "                      .mean()[:window + 1])\n",
    "    df['avg_loss'] = (df.losses\n",
    "                      .rolling(window=window, min_periods=window)\n",
    "                      .mean()[:window + 1])\n",
    "    \n",
    "    # avg gains\n",
    "    pd.options.mode.chained_assignment = None\n",
    "    for i, row in enumerate(df.avg_gain.iloc[window + 1:]):\n",
    "        df.avg_gain.iloc[i + window + 1] = (\n",
    "            (df.avg_gain.iloc[i + window] * (window - 1) \n",
    "             + df.gains.iloc[i + window + 1]) \n",
    "            / window)\n",
    "    # avg losses\n",
    "    for i, row in enumerate(df.avg_loss.iloc[window + 1:]):\n",
    "        df.avg_loss.iloc[i + window + 1] = (\n",
    "            (df.avg_loss.iloc[i + window] * (window - 1)\n",
    "             + df.losses.iloc[i + window + 1])\n",
    "            / window)\n",
    "    df['rs'] = df.avg_gain / df.avg_loss\n",
    "    df['rsi'] = 100 - (100 / (1. + df.rs))\n",
    "    return df.rsi"
   ]
  },
  {
   "cell_type": "code",
   "execution_count": 10,
   "id": "166912c5",
   "metadata": {},
   "outputs": [],
   "source": [
    "def get_macd(stock_data, fast=60, slow=90, signal=80, plot=False):\n",
    "    df = stock_data.copy()\n",
    "    exp1 = df.AdjClose.ewm(span=fast, adjust=False).mean()\n",
    "    exp2 = df.AdjClose.ewm(span=slow, adjust=False).mean()\n",
    "    macd = exp1 - exp2\n",
    "    exp3 = macd.ewm(span=signal, adjust=False).mean()\n",
    "    histo = macd - exp3\n",
    "    hdiff = histo.diff(1)\n",
    "    is_rising = 1 * (hdiff > 0)\n",
    "    if plot:\n",
    "        plt.plot(macd, label='MACD', color='red')\n",
    "        plt.plot(exp3, label='Signal', color='green')\n",
    "        #plt.xlim(pd.to_datetime('2021-01-01'), \n",
    "        #         pd.to_datetime('2021-10-14'))\n",
    "        plt.legend();\n",
    "        plt.figure()\n",
    "        plt.plot(histo, color='blue')\n",
    "        #plt.xlim(pd.to_datetime('2021-01-01'), \n",
    "        #         pd.to_datetime('2021-10-14'))\n",
    "        plt.axhline(y=0, color='k')\n",
    "        plt.figure()\n",
    "        plt.plot(is_rising)\n",
    "        #plt.xlim(pd.to_datetime('2021-01-01'), \n",
    "        #         pd.to_datetime('2021-10-14'))\n",
    "    return is_rising"
   ]
  },
  {
   "cell_type": "code",
   "execution_count": 11,
   "id": "706e1ec9",
   "metadata": {},
   "outputs": [],
   "source": [
    "LMB = 0.9\n",
    "RSI_WINDOW = 14\n",
    "MACD_PARAMS = (60, 90, 80, False)"
   ]
  },
  {
   "cell_type": "code",
   "execution_count": 12,
   "id": "e7e7526a",
   "metadata": {},
   "outputs": [],
   "source": [
    "def process_stock(stock, data, lmb=LMB, plot=False):\n",
    "    stock_data = get_stock_data(stock, data)\n",
    "    stock_data['direction'] = get_macd(stock_data, *MACD_PARAMS)\n",
    "    stock_data['rsi'] = get_rsi(stock_data, window=RSI_WINDOW)\n",
    "    sharpe = get_sharpe(get_daily_returns(stock_data.AdjClose))\n",
    "    stock_data.fillna(method='ffill', inplace=True)\n",
    "    stock_data.fillna(method='bfill', inplace=True)\n",
    "    n = stock_data.shape[0]\n",
    "    WINDOW = min(n, 125)\n",
    "    stock_data['ann_high'] = (stock_data.Close\n",
    "                              .rolling(window=WINDOW)\n",
    "                              .max())\n",
    "    stock_data['ann_low'] = (stock_data.Close\n",
    "                             .rolling(window=WINDOW)\n",
    "                             .min())\n",
    "    stock_data['drawdown'] = stock_data.Close / stock_data.ann_high\n",
    "    stock_data['pullup'] = stock_data.Close / stock_data.ann_low\n",
    "    w = [lmb ** t for t in range(n)][::-1]\n",
    "    stock_data['W'] = w\n",
    "    stock_data['n_samp'] = (stock_data.Volume / 100)  * stock_data.W\n",
    "    stock_data['value'] = ((stock_data.Close \n",
    "                            + stock_data.High \n",
    "                            + stock_data.Low \n",
    "                            + stock_data.Open) \n",
    "                           / 4)\n",
    "    stock_data['est'] = np.nan\n",
    "    for day in stock_data.index:\n",
    "        sub = stock_data[stock_data.index <= day]\n",
    "        weights = sub.n_samp\n",
    "        weights = weights / weights.sum()\n",
    "        values = sub.value\n",
    "        est = np.dot(weights, values)\n",
    "        stock_data.loc[day, 'est'] = est\n",
    "    stock_data['resid'] = stock_data.Close / stock_data.est\n",
    "    stock_data.sort_values('resid', inplace=True)\n",
    "    stock_data['dev'] = np.array(range(n)) / n\n",
    "    stock_data.sort_index(inplace=True)\n",
    "    if plot:\n",
    "        plt.figure(figsize=(12, 8))\n",
    "        plt.plot(stock_data.Close, label='Close')\n",
    "        plt.plot(stock_data.est, label='Est')\n",
    "        plt.yscale('log')\n",
    "        plt.plot(stock_data.ann_high, color='green')\n",
    "        plt.plot(stock_data.ann_low, color='red')\n",
    "        plt.legend();\n",
    "        plt.figure(figsize=(12, 4))\n",
    "        plt.plot(stock_data.dev)\n",
    "        plt.axhline(0.5, color='k')\n",
    "        plt.title(stock)\n",
    "        plt.figure(figsize=(12, 4))\n",
    "        plt.plot(stock_data.drawdown, color='red', label='drawdown')\n",
    "        plt.plot(stock_data.pullup, color='green', label='pullup')\n",
    "        plt.plot(np.sqrt(stock_data.drawdown * stock_data.pullup),\n",
    "                 color='grey',\n",
    "                 label='geomean')\n",
    "        plt.yscale('log')\n",
    "        plt.legend()\n",
    "    return (stock_data.direction.tolist()[-1],\n",
    "            stock_data.rsi.tolist()[-1],\n",
    "            stock_data.resid.tolist()[-1], \n",
    "            stock_data.dev.tolist()[-1],\n",
    "            stock_data.drawdown.tolist()[-1],\n",
    "            stock_data.pullup.tolist()[-1],\n",
    "            sharpe)"
   ]
  },
  {
   "cell_type": "code",
   "execution_count": 22,
   "id": "1cbfa969",
   "metadata": {
    "scrolled": false
   },
   "outputs": [
    {
     "data": {
      "text/plain": [
       "(0,\n",
       " 38.40667959544301,\n",
       " 0.9434825435545996,\n",
       " 0.225,\n",
       " 0.69702499914932,\n",
       " 1.1773333231608072,\n",
       " 0.5905044730639655)"
      ]
     },
     "execution_count": 22,
     "metadata": {},
     "output_type": "execute_result"
    },
    {
     "data": {
      "image/png": "[encoded data removed]",
      "text/plain": [
       "<Figure size 864x576 with 1 Axes>"
      ]
     },
     "metadata": {
      "needs_background": "light"
     },
     "output_type": "display_data"
    },
    {
     "data": {
      "image/png": "[encoded data removed]",
      "text/plain": [
       "<Figure size 864x288 with 1 Axes>"
      ]
     },
     "metadata": {
      "needs_background": "light"
     },
     "output_type": "display_data"
    },
    {
     "data": {
      "image/png": "[encoded data removed]",
      "text/plain": [
       "<Figure size 864x288 with 1 Axes>"
      ]
     },
     "metadata": {
      "needs_background": "light"
     },
     "output_type": "display_data"
    }
   ],
   "source": [
    "process_stock('DUOL', data.copy(), plot=True)"
   ]
  },
  {
   "cell_type": "code",
   "execution_count": 14,
   "id": "977ecacf",
   "metadata": {},
   "outputs": [
    {
     "name": "stdout",
     "output_type": "stream",
     "text": [
      "AAPL... ABMD... ABNB... ADSK... AMZN... ANET... APPH... AXON... BBY... BROS... BYND... CDNS... COUR... CRWD... DDOG... DKNG... DOCU... DUOL... EDIT... ETSY... FTCH... FUV... FVRR... GH... GMED... GOOG... INTG... ISRG... JD... LSPD... LULU... MDB... MELI... MNST... MSFT... MTCH... NVCR... NVDA... NYT... OKTA... OPEN... PANW... PINS... PTON... PUBM... QDEL... RBLX... RDFN... RGEN... ROKU... ROST... SE... SHOP... SPGI... SPLK... SQ... TDOC... TEAM... TREX... TRUP... TSLA... TTD... TTWO... TWLO... TWTR... UPST... VEEV... WK... ZEN... ZG... ZNGA... ^GSPC... ^IXIC... ^NYA... "
     ]
    }
   ],
   "source": [
    "out = []\n",
    "for stock in batch:\n",
    "    print(f'{stock}...', end=' ')\n",
    "    direction, rsi, mult, dev, drop, climb, sharpe = process_stock(\n",
    "        stock, data)\n",
    "    out.append([stock, direction, rsi, mult, dev, drop, climb, sharpe])"
   ]
  },
  {
   "cell_type": "code",
   "execution_count": 15,
   "id": "c186e04d",
   "metadata": {},
   "outputs": [
    {
     "data": {
      "text/html": [
       "<div>\n",
       "<style scoped>\n",
       "    .dataframe tbody tr th:only-of-type {\n",
       "        vertical-align: middle;\n",
       "    }\n",
       "\n",
       "    .dataframe tbody tr th {\n",
       "        vertical-align: top;\n",
       "    }\n",
       "\n",
       "    .dataframe thead th {\n",
       "        text-align: right;\n",
       "    }\n",
       "</style>\n",
       "<table border=\"1\" class=\"dataframe\">\n",
       "  <thead>\n",
       "    <tr style=\"text-align: right;\">\n",
       "      <th></th>\n",
       "      <th>stock</th>\n",
       "      <th>direction</th>\n",
       "      <th>RSI</th>\n",
       "      <th>RSIRev</th>\n",
       "      <th>fair_value_mult</th>\n",
       "      <th>dev_quantile</th>\n",
       "      <th>drop</th>\n",
       "      <th>climb</th>\n",
       "      <th>geomean</th>\n",
       "      <th>score</th>\n",
       "      <th>sharpe</th>\n",
       "    </tr>\n",
       "  </thead>\n",
       "  <tbody>\n",
       "    <tr>\n",
       "      <th>9</th>\n",
       "      <td>BROS</td>\n",
       "      <td>0</td>\n",
       "      <td>4434.890625</td>\n",
       "      <td>5565.109375</td>\n",
       "      <td>0.895585</td>\n",
       "      <td>0.000000</td>\n",
       "      <td>0.745705</td>\n",
       "      <td>1.550164</td>\n",
       "      <td>1.075158</td>\n",
       "      <td>0.000000</td>\n",
       "      <td>1.434836</td>\n",
       "    </tr>\n",
       "    <tr>\n",
       "      <th>69</th>\n",
       "      <td>ZG</td>\n",
       "      <td>0</td>\n",
       "      <td>2848.445796</td>\n",
       "      <td>7151.554204</td>\n",
       "      <td>0.812794</td>\n",
       "      <td>0.007955</td>\n",
       "      <td>0.482543</td>\n",
       "      <td>1.000000</td>\n",
       "      <td>0.694653</td>\n",
       "      <td>0.236344</td>\n",
       "      <td>0.473341</td>\n",
       "    </tr>\n",
       "    <tr>\n",
       "      <th>67</th>\n",
       "      <td>WK</td>\n",
       "      <td>0</td>\n",
       "      <td>3817.041812</td>\n",
       "      <td>6182.958188</td>\n",
       "      <td>0.907646</td>\n",
       "      <td>0.011933</td>\n",
       "      <td>0.850482</td>\n",
       "      <td>1.509101</td>\n",
       "      <td>1.132900</td>\n",
       "      <td>0.343371</td>\n",
       "      <td>1.264235</td>\n",
       "    </tr>\n",
       "    <tr>\n",
       "      <th>29</th>\n",
       "      <td>LSPD</td>\n",
       "      <td>0</td>\n",
       "      <td>3040.313988</td>\n",
       "      <td>6959.686012</td>\n",
       "      <td>0.876429</td>\n",
       "      <td>0.036667</td>\n",
       "      <td>0.543124</td>\n",
       "      <td>1.012133</td>\n",
       "      <td>0.741426</td>\n",
       "      <td>0.364570</td>\n",
       "      <td>1.302038</td>\n",
       "    </tr>\n",
       "    <tr>\n",
       "      <th>15</th>\n",
       "      <td>DKNG</td>\n",
       "      <td>0</td>\n",
       "      <td>2454.890203</td>\n",
       "      <td>7545.109797</td>\n",
       "      <td>0.867760</td>\n",
       "      <td>0.039249</td>\n",
       "      <td>0.594786</td>\n",
       "      <td>1.000000</td>\n",
       "      <td>0.771223</td>\n",
       "      <td>0.377266</td>\n",
       "      <td>1.241741</td>\n",
       "    </tr>\n",
       "    <tr>\n",
       "      <th>...</th>\n",
       "      <td>...</td>\n",
       "      <td>...</td>\n",
       "      <td>...</td>\n",
       "      <td>...</td>\n",
       "      <td>...</td>\n",
       "      <td>...</td>\n",
       "      <td>...</td>\n",
       "      <td>...</td>\n",
       "      <td>...</td>\n",
       "      <td>...</td>\n",
       "      <td>...</td>\n",
       "    </tr>\n",
       "    <tr>\n",
       "      <th>58</th>\n",
       "      <td>TREX</td>\n",
       "      <td>1</td>\n",
       "      <td>7655.692635</td>\n",
       "      <td>2344.307365</td>\n",
       "      <td>1.121852</td>\n",
       "      <td>0.976929</td>\n",
       "      <td>1.000000</td>\n",
       "      <td>1.462920</td>\n",
       "      <td>1.209512</td>\n",
       "      <td>1.125265</td>\n",
       "      <td>1.127808</td>\n",
       "    </tr>\n",
       "    <tr>\n",
       "      <th>19</th>\n",
       "      <td>ETSY</td>\n",
       "      <td>1</td>\n",
       "      <td>6735.534754</td>\n",
       "      <td>3264.465246</td>\n",
       "      <td>1.101693</td>\n",
       "      <td>0.897375</td>\n",
       "      <td>0.984551</td>\n",
       "      <td>1.727150</td>\n",
       "      <td>1.304020</td>\n",
       "      <td>1.138677</td>\n",
       "      <td>1.366853</td>\n",
       "    </tr>\n",
       "    <tr>\n",
       "      <th>59</th>\n",
       "      <td>TRUP</td>\n",
       "      <td>1</td>\n",
       "      <td>6850.147661</td>\n",
       "      <td>3149.852339</td>\n",
       "      <td>1.130635</td>\n",
       "      <td>0.949881</td>\n",
       "      <td>0.969215</td>\n",
       "      <td>1.734763</td>\n",
       "      <td>1.296672</td>\n",
       "      <td>1.159212</td>\n",
       "      <td>1.039117</td>\n",
       "    </tr>\n",
       "    <tr>\n",
       "      <th>46</th>\n",
       "      <td>RBLX</td>\n",
       "      <td>1</td>\n",
       "      <td>7422.202692</td>\n",
       "      <td>2577.797308</td>\n",
       "      <td>1.197094</td>\n",
       "      <td>0.988701</td>\n",
       "      <td>1.000000</td>\n",
       "      <td>1.775847</td>\n",
       "      <td>1.332609</td>\n",
       "      <td>1.204064</td>\n",
       "      <td>1.281777</td>\n",
       "    </tr>\n",
       "    <tr>\n",
       "      <th>61</th>\n",
       "      <td>TTD</td>\n",
       "      <td>1</td>\n",
       "      <td>6813.923123</td>\n",
       "      <td>3186.076877</td>\n",
       "      <td>1.169697</td>\n",
       "      <td>0.978520</td>\n",
       "      <td>0.962917</td>\n",
       "      <td>1.934950</td>\n",
       "      <td>1.364989</td>\n",
       "      <td>1.208441</td>\n",
       "      <td>1.381121</td>\n",
       "    </tr>\n",
       "  </tbody>\n",
       "</table>\n",
       "<p>74 rows × 11 columns</p>\n",
       "</div>"
      ],
      "text/plain": [
       "   stock  direction          RSI       RSIRev  fair_value_mult  dev_quantile  \\\n",
       "9   BROS          0  4434.890625  5565.109375         0.895585      0.000000   \n",
       "69    ZG          0  2848.445796  7151.554204         0.812794      0.007955   \n",
       "67    WK          0  3817.041812  6182.958188         0.907646      0.011933   \n",
       "29  LSPD          0  3040.313988  6959.686012         0.876429      0.036667   \n",
       "15  DKNG          0  2454.890203  7545.109797         0.867760      0.039249   \n",
       "..   ...        ...          ...          ...              ...           ...   \n",
       "58  TREX          1  7655.692635  2344.307365         1.121852      0.976929   \n",
       "19  ETSY          1  6735.534754  3264.465246         1.101693      0.897375   \n",
       "59  TRUP          1  6850.147661  3149.852339         1.130635      0.949881   \n",
       "46  RBLX          1  7422.202692  2577.797308         1.197094      0.988701   \n",
       "61   TTD          1  6813.923123  3186.076877         1.169697      0.978520   \n",
       "\n",
       "        drop     climb   geomean     score    sharpe  \n",
       "9   0.745705  1.550164  1.075158  0.000000  1.434836  \n",
       "69  0.482543  1.000000  0.694653  0.236344  0.473341  \n",
       "67  0.850482  1.509101  1.132900  0.343371  1.264235  \n",
       "29  0.543124  1.012133  0.741426  0.364570  1.302038  \n",
       "15  0.594786  1.000000  0.771223  0.377266  1.241741  \n",
       "..       ...       ...       ...       ...       ...  \n",
       "58  1.000000  1.462920  1.209512  1.125265  1.127808  \n",
       "19  0.984551  1.727150  1.304020  1.138677  1.366853  \n",
       "59  0.969215  1.734763  1.296672  1.159212  1.039117  \n",
       "46  1.000000  1.775847  1.332609  1.204064  1.281777  \n",
       "61  0.962917  1.934950  1.364989  1.208441  1.381121  \n",
       "\n",
       "[74 rows x 11 columns]"
      ]
     },
     "execution_count": 15,
     "metadata": {},
     "output_type": "execute_result"
    }
   ],
   "source": [
    "out = pd.DataFrame(\n",
    "    data=out, \n",
    "    columns=['stock', 'direction', 'RSI', 'fair_value_mult', \n",
    "             'dev_quantile', 'drop','climb', 'sharpe'])\n",
    "out['geomean'] = np.sqrt(out['drop'] * out.climb)\n",
    "out.loc\n",
    "out['score'] = (out.fair_value_mult\n",
    "                * out.dev_quantile\n",
    "                * out['drop']\n",
    "                * out.climb) ** (1/4) \n",
    "out.RSI *= 100\n",
    "out['RSIRev'] = 10000 - out.RSI\n",
    "out = out[['stock', 'direction', 'RSI', 'RSIRev', 'fair_value_mult', \n",
    "           'dev_quantile', 'drop', 'climb','geomean', 'score', \n",
    "           'sharpe']]\n",
    "out.RSI.fillna(out.RSI.median())\n",
    "out.RSIRev.fillna(out.RSIRev.median())\n",
    "\n",
    "out.sort_values('score')"
   ]
  },
  {
   "cell_type": "code",
   "execution_count": 16,
   "id": "1ef97277",
   "metadata": {},
   "outputs": [],
   "source": [
    "out = out.sort_values('stock')\n",
    "out.to_csv('../data/scoring.csv', index=False)\n",
    "!open ../data/scoring.csv"
   ]
  },
  {
   "cell_type": "code",
   "execution_count": 17,
   "id": "368e026a",
   "metadata": {},
   "outputs": [
    {
     "name": "stdout",
     "output_type": "stream",
     "text": [
      "(3771, 11)\n"
     ]
    }
   ],
   "source": [
    "try:\n",
    "    historic = pd.read_csv('../data/historic.csv')\n",
    "    historic = pd.concat([historic, out])\n",
    "except FileNotFoundError:\n",
    "    historic = out\n",
    "    \n",
    "print(historic.shape)"
   ]
  },
  {
   "cell_type": "code",
   "execution_count": 18,
   "id": "e61f09b5",
   "metadata": {},
   "outputs": [],
   "source": [
    "historic = historic[historic.score > 0]\n",
    "#historic[historic.RSI < 1000] = np.nan\n",
    "historic.to_csv('../data/historic.csv', index=False)"
   ]
  },
  {
   "cell_type": "code",
   "execution_count": 20,
   "id": "288bd74c",
   "metadata": {},
   "outputs": [
    {
     "data": {
      "text/html": [
       "<div>\n",
       "<style scoped>\n",
       "    .dataframe tbody tr th:only-of-type {\n",
       "        vertical-align: middle;\n",
       "    }\n",
       "\n",
       "    .dataframe tbody tr th {\n",
       "        vertical-align: top;\n",
       "    }\n",
       "\n",
       "    .dataframe thead th {\n",
       "        text-align: right;\n",
       "    }\n",
       "</style>\n",
       "<table border=\"1\" class=\"dataframe\">\n",
       "  <thead>\n",
       "    <tr style=\"text-align: right;\">\n",
       "      <th></th>\n",
       "      <th>fair_value_mult</th>\n",
       "      <th>dev_quantile</th>\n",
       "      <th>drop</th>\n",
       "      <th>climb</th>\n",
       "      <th>geomean</th>\n",
       "      <th>score</th>\n",
       "      <th>sharpe</th>\n",
       "      <th>direction</th>\n",
       "      <th>RSI</th>\n",
       "      <th>RSIRev</th>\n",
       "    </tr>\n",
       "  </thead>\n",
       "  <tbody>\n",
       "    <tr>\n",
       "      <th>0.05</th>\n",
       "      <td>0.907737</td>\n",
       "      <td>0.057390</td>\n",
       "      <td>0.54365</td>\n",
       "      <td>1.005278</td>\n",
       "      <td>0.765100</td>\n",
       "      <td>0.444540</td>\n",
       "      <td>0.361495</td>\n",
       "      <td>0.0</td>\n",
       "      <td>3211.233533</td>\n",
       "      <td>2495.310588</td>\n",
       "    </tr>\n",
       "    <tr>\n",
       "      <th>0.99</th>\n",
       "      <td>1.185240</td>\n",
       "      <td>0.979316</td>\n",
       "      <td>1.00000</td>\n",
       "      <td>3.710918</td>\n",
       "      <td>1.824809</td>\n",
       "      <td>1.234542</td>\n",
       "      <td>2.495466</td>\n",
       "      <td>1.0</td>\n",
       "      <td>8642.034611</td>\n",
       "      <td>7283.748125</td>\n",
       "    </tr>\n",
       "  </tbody>\n",
       "</table>\n",
       "</div>"
      ],
      "text/plain": [
       "      fair_value_mult  dev_quantile     drop     climb   geomean     score  \\\n",
       "0.05         0.907737      0.057390  0.54365  1.005278  0.765100  0.444540   \n",
       "0.99         1.185240      0.979316  1.00000  3.710918  1.824809  1.234542   \n",
       "\n",
       "        sharpe  direction          RSI       RSIRev  \n",
       "0.05  0.361495        0.0  3211.233533  2495.310588  \n",
       "0.99  2.495466        1.0  8642.034611  7283.748125  "
      ]
     },
     "execution_count": 20,
     "metadata": {},
     "output_type": "execute_result"
    }
   ],
   "source": [
    "historic.drop('stock', axis=1).quantile([0.05, 0.99])"
   ]
  },
  {
   "cell_type": "code",
   "execution_count": null,
   "id": "5cb76f85",
   "metadata": {},
   "outputs": [],
   "source": []
  }
 ],
 "metadata": {
  "kernelspec": {
   "display_name": "Python 3 (ipykernel)",
   "language": "python",
   "name": "python3"
  },
  "language_info": {
   "codemirror_mode": {
    "name": "ipython",
    "version": 3
   },
   "file_extension": ".py",
   "mimetype": "text/x-python",
   "name": "python",
   "nbconvert_exporter": "python",
   "pygments_lexer": "ipython3",
   "version": "3.8.5"
  }
 },
 "nbformat": 4,
 "nbformat_minor": 5
}
