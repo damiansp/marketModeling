{
 "cells": [
  {
   "cell_type": "markdown",
   "id": "40d68488",
   "metadata": {},
   "source": [
    "<a href=\"https://www.advfn.com/nasdaq/nasdaq.asp?companies=A\">Nasdaq Stocks</a>"
   ]
  },
  {
   "cell_type": "code",
   "execution_count": 1,
   "id": "82032cf3",
   "metadata": {},
   "outputs": [],
   "source": [
    "from datetime import datetime, timedelta\n",
    "import os\n",
    "import pickle\n",
    "import sys\n",
    "\n",
    "import matplotlib.pyplot as plt\n",
    "import numpy as np\n",
    "import pandas as pd\n",
    "import yfinance as yf"
   ]
  },
  {
   "cell_type": "code",
   "execution_count": 2,
   "id": "93e195db",
   "metadata": {},
   "outputs": [
    {
     "data": {
      "text/plain": [
       "11032"
      ]
     },
     "execution_count": 2,
     "metadata": {},
     "output_type": "execute_result"
    }
   ],
   "source": [
    "with open('../data/all_symbols.pkl', 'rb') as f:\n",
    "    all_symbols = pickle.load(f)\n",
    "    \n",
    "len(all_symbols)"
   ]
  },
  {
   "cell_type": "code",
   "execution_count": 3,
   "id": "7afad66d",
   "metadata": {},
   "outputs": [],
   "source": [
    "def prepare_batches(all_symbols, batch_size=100):\n",
    "    n = len(all_symbols)\n",
    "    batches = []\n",
    "    batch_start = 0\n",
    "    batch_end = min(batch_start + batch_size, n)\n",
    "    while batch_start < n:\n",
    "        batches.append(all_symbols[batch_start:batch_end])\n",
    "        batch_start = batch_end\n",
    "        batch_end = min(batch_start + batch_size, n)\n",
    "    return batches"
   ]
  },
  {
   "cell_type": "code",
   "execution_count": 4,
   "id": "44e5048f",
   "metadata": {},
   "outputs": [],
   "source": [
    "batches = prepare_batches(all_symbols)"
   ]
  },
  {
   "cell_type": "code",
   "execution_count": 5,
   "id": "a05d4a33",
   "metadata": {},
   "outputs": [
    {
     "data": {
      "text/html": [
       "<div>\n",
       "<style scoped>\n",
       "    .dataframe tbody tr th:only-of-type {\n",
       "        vertical-align: middle;\n",
       "    }\n",
       "\n",
       "    .dataframe tbody tr th {\n",
       "        vertical-align: top;\n",
       "    }\n",
       "\n",
       "    .dataframe thead th {\n",
       "        text-align: right;\n",
       "    }\n",
       "</style>\n",
       "<table border=\"1\" class=\"dataframe\">\n",
       "  <thead>\n",
       "    <tr style=\"text-align: right;\">\n",
       "      <th></th>\n",
       "      <th>state</th>\n",
       "    </tr>\n",
       "    <tr>\n",
       "      <th>Date</th>\n",
       "      <th></th>\n",
       "    </tr>\n",
       "  </thead>\n",
       "  <tbody>\n",
       "    <tr>\n",
       "      <th>1950-01-03</th>\n",
       "      <td>3</td>\n",
       "    </tr>\n",
       "    <tr>\n",
       "      <th>1950-01-04</th>\n",
       "      <td>3</td>\n",
       "    </tr>\n",
       "    <tr>\n",
       "      <th>1950-01-05</th>\n",
       "      <td>3</td>\n",
       "    </tr>\n",
       "    <tr>\n",
       "      <th>1950-01-06</th>\n",
       "      <td>3</td>\n",
       "    </tr>\n",
       "    <tr>\n",
       "      <th>1950-01-09</th>\n",
       "      <td>3</td>\n",
       "    </tr>\n",
       "  </tbody>\n",
       "</table>\n",
       "</div>"
      ],
      "text/plain": [
       "            state\n",
       "Date             \n",
       "1950-01-03      3\n",
       "1950-01-04      3\n",
       "1950-01-05      3\n",
       "1950-01-06      3\n",
       "1950-01-09      3"
      ]
     },
     "execution_count": 5,
     "metadata": {},
     "output_type": "execute_result"
    }
   ],
   "source": [
    "states = pd.read_csv('../data/hmm_exp_returns.csv')\n",
    "states = states[['Date', 'state']]\n",
    "states.index = pd.to_datetime(states.Date)\n",
    "states.drop(columns='Date', inplace=True)\n",
    "states.head()"
   ]
  },
  {
   "cell_type": "code",
   "execution_count": 6,
   "id": "f6ca526c",
   "metadata": {},
   "outputs": [
    {
     "data": {
      "text/plain": [
       "[0, 1, 2, 3, 4, 5]"
      ]
     },
     "execution_count": 6,
     "metadata": {},
     "output_type": "execute_result"
    }
   ],
   "source": [
    "STATES = sorted(states.state.unique())\n",
    "STATES"
   ]
  },
  {
   "cell_type": "code",
   "execution_count": 7,
   "id": "56aadb40",
   "metadata": {},
   "outputs": [
    {
     "data": {
      "text/plain": [
       "1"
      ]
     },
     "execution_count": 7,
     "metadata": {},
     "output_type": "execute_result"
    }
   ],
   "source": [
    "CURRENT_STATE = states.state.to_numpy()[-1]\n",
    "CURRENT_STATE"
   ]
  },
  {
   "cell_type": "code",
   "execution_count": 8,
   "id": "5914184f",
   "metadata": {},
   "outputs": [],
   "source": [
    "RUN = {\n",
    "    0: 'all',\n",
    "    1: 0,  # specific batch\n",
    "    2: 'random_batch'\n",
    "}[0]\n",
    "MIN_OVERALL_SHARPE = 0.45\n",
    "MIN_STOCK_PRICE = 1.00"
   ]
  },
  {
   "cell_type": "code",
   "execution_count": 9,
   "id": "d000fe1c",
   "metadata": {},
   "outputs": [
    {
     "name": "stdout",
     "output_type": "stream",
     "text": [
      "n batches: 111\n"
     ]
    }
   ],
   "source": [
    "if RUN == 'random_batch':\n",
    "    n_batches = len(batches)\n",
    "    idx = np.random.randint(0, n_batches)\n",
    "    run_batches = [batches[idx]]\n",
    "elif isinstance(RUN, int):\n",
    "    run_batches = [batches[RUN]]\n",
    "else:\n",
    "    run_batches = batches\n",
    "    \n",
    "print('n batches:', len(run_batches))"
   ]
  },
  {
   "cell_type": "code",
   "execution_count": 10,
   "id": "6569d383",
   "metadata": {},
   "outputs": [
    {
     "data": {
      "text/plain": [
       "(datetime.date(2012, 9, 5),\n",
       " datetime.date(2022, 9, 3),\n",
       " datetime.date(2017, 9, 2),\n",
       " 5)"
      ]
     },
     "execution_count": 10,
     "metadata": {},
     "output_type": "execute_result"
    }
   ],
   "source": [
    "TODAY = (datetime.now() + timedelta(1)).date()\n",
    "YEARS_OF_DATA = 10\n",
    "MIN_YEARS = 5\n",
    "START = TODAY - timedelta(YEARS_OF_DATA * 365)\n",
    "min_start = TODAY - timedelta(MIN_YEARS * 365)\n",
    "if min_start.weekday() == 0:\n",
    "    min_start -= timedelta(2)\n",
    "elif min_start.weekday() == 6:\n",
    "    min_start -= timedelta(1)\n",
    "START, TODAY, min_start, min_start.weekday()"
   ]
  },
  {
   "cell_type": "code",
   "execution_count": 11,
   "id": "3b6be4a0",
   "metadata": {},
   "outputs": [
    {
     "data": {
      "text/plain": [
       "(datetime.date(2012, 9, 5), datetime.date(2022, 9, 3))"
      ]
     },
     "execution_count": 11,
     "metadata": {},
     "output_type": "execute_result"
    }
   ],
   "source": [
    "START, TODAY"
   ]
  },
  {
   "cell_type": "code",
   "execution_count": 12,
   "id": "c6b13f78",
   "metadata": {},
   "outputs": [],
   "source": [
    "def download_data(symbols):\n",
    "    std_out = sys.stdout\n",
    "    null = open(os.devnull, 'w')\n",
    "    sys.stdout = null\n",
    "    try:\n",
    "        data = (\n",
    "            yf\n",
    "            .download(symbols, start=START, end=TODAY)\n",
    "            .rename(columns={'Adj Close': 'AdjClose'}))['AdjClose']\n",
    "        data.index = pd.to_datetime(data.index)\n",
    "        data = data.sort_index()\n",
    "        data = data.loc[:, data.isnull().sum() != len(data)]\n",
    "        missing_last = [\n",
    "            col for col in list(data) if data[col].isnull()[-1]]\n",
    "        data.drop(columns=missing_last, inplace=True)\n",
    "        sys.stdout = std_out\n",
    "        return data\n",
    "    except BaseException as e:\n",
    "        print(f'Failed to download data:\\n{e}')"
   ]
  },
  {
   "cell_type": "code",
   "execution_count": 13,
   "id": "55b06680",
   "metadata": {},
   "outputs": [],
   "source": [
    "def adjust_min_date(min_date, dates):\n",
    "    while pd.to_datetime(min_date) not in dates:\n",
    "        min_date -= timedelta(1)\n",
    "    return min_date"
   ]
  },
  {
   "cell_type": "code",
   "execution_count": 14,
   "id": "8c961261",
   "metadata": {},
   "outputs": [],
   "source": [
    "def filter_by_min_date(data, min_date):\n",
    "    for col in data.columns:\n",
    "        #if np.isnan(data.at[pd.to_datetime(min_date), col]):\n",
    "        #    data.drop(columns=[col], inplace=True)\n",
    "        if (\n",
    "                data[col][data[col].notnull()].index[0] \n",
    "                > pd.to_datetime(min_date)):\n",
    "            data.drop(columns=[col], inplace=True)\n",
    "    return data"
   ]
  },
  {
   "cell_type": "code",
   "execution_count": 15,
   "id": "1256fbec",
   "metadata": {},
   "outputs": [],
   "source": [
    "def filter_by_min_price(data):\n",
    "    for col in data.columns:\n",
    "        if (\n",
    "                data[col][data[col].notnull()].to_numpy()[-1]\n",
    "                < MIN_STOCK_PRICE):\n",
    "            data.drop(columns=[col], inplace=True)\n",
    "    return data"
   ]
  },
  {
   "cell_type": "code",
   "execution_count": 16,
   "id": "1c137f05",
   "metadata": {},
   "outputs": [],
   "source": [
    "def get_daily_returns(x):\n",
    "    idx = x.index\n",
    "    n = len(x)\n",
    "    x = np.array(x)\n",
    "    returns = x[1:n] / x[0:(n-1)] - 1\n",
    "    returns = pd.Series(returns, index=idx[1:])\n",
    "    return returns"
   ]
  },
  {
   "cell_type": "code",
   "execution_count": 17,
   "id": "01008d1f",
   "metadata": {},
   "outputs": [],
   "source": [
    "def get_sharpe(returns, window=None):\n",
    "    n = len(returns)\n",
    "    if window is None:\n",
    "        window = n\n",
    "    if len(returns) > window:\n",
    "        returns = returns[(n - window):n]\n",
    "    returns = returns[~np.isnan(returns)]\n",
    "    sharpe = (np.sqrt(252) * returns.mean()) / returns.std()\n",
    "    return sharpe"
   ]
  },
  {
   "cell_type": "code",
   "execution_count": 18,
   "id": "420d9cc2",
   "metadata": {},
   "outputs": [],
   "source": [
    "def get_sharpes_by_state(data):\n",
    "    output = []\n",
    "    stocks = [col for col in list(data) if col != 'state']\n",
    "    for stock in stocks:\n",
    "        stock_data = []\n",
    "        returns = get_daily_returns(data[stock])\n",
    "        sharpe = get_sharpe(returns)\n",
    "        stock_data.append(sharpe)\n",
    "        for state in STATES:\n",
    "            sharpe_state = get_sharpe(returns[data.state == state])\n",
    "            stock_data.append(sharpe_state)\n",
    "        output.append(stock_data)\n",
    "    df_out = pd.DataFrame(\n",
    "        output,\n",
    "        columns=['sharpe'] + [f'sharpe_{state}' for state in STATES],\n",
    "        index=stocks)\n",
    "    return df_out"
   ]
  },
  {
   "cell_type": "code",
   "execution_count": 19,
   "id": "efe1c9e8",
   "metadata": {},
   "outputs": [],
   "source": [
    "def best_n_by_state(df, n, state):\n",
    "    candidates = df[df.sharpe >= MIN_OVERALL_SHARPE]\n",
    "    return (\n",
    "        candidates\n",
    "        .sort_values(f'sharpe_{state}', ascending=False)\n",
    "        .index[:n])"
   ]
  },
  {
   "cell_type": "code",
   "execution_count": 20,
   "id": "1c3d2d53",
   "metadata": {},
   "outputs": [],
   "source": [
    "def process_batch(batch, min_start):\n",
    "    data = download_data(batch)\n",
    "    min_start = adjust_min_date(min_start, data.index)\n",
    "    data = filter_by_min_date(data, min_start)\n",
    "    data = filter_by_min_price(data)\n",
    "    data = pd.concat([data, states], axis=1).loc[data.index, :]\n",
    "    state_sharpes = get_sharpes_by_state(data)\n",
    "    return state_sharpes"
   ]
  },
  {
   "cell_type": "code",
   "execution_count": 21,
   "id": "1dcf8a59",
   "metadata": {},
   "outputs": [
    {
     "name": "stdout",
     "output_type": "stream",
     "text": [
      "Beginning batch:\n",
      "A ACER ADXS AHAC ALJJ AMOT APEN ARII ASVI AVCO BAH BDJ BIE BLTI BR BTI CACQ CBNK CDTX CGFW CIT CLWT CNVX CPLG CSBR CUBI CYPB DEA DLGC DRIO DXCM EE EMBC EPM ETR EZGO FE FIV FNVT FSLA FXJP GENI GLBC GOAM GSM HBCP HGLB HOG HTRN ICAB IGU INHO IPVI IVR JMSB KERX KRMD LCA LIN LPI "
     ]
    },
    {
     "name": "stderr",
     "output_type": "stream",
     "text": [
      "/var/folders/41/jhvt_zmd3nz3x5jsqblr221r0000gn/T/ipykernel_34452/1541653759.py:5: RuntimeWarning: divide by zero encountered in divide\n",
      "  returns = x[1:n] / x[0:(n-1)] - 1\n"
     ]
    },
    {
     "name": "stdout",
     "output_type": "stream",
     "text": [
      "LYV MCD MERX MIR MNTK MS MUE NAV NETI NM NRDS NURO NYXH OLLI ORCL PACX PCX PGHD PLL POWW "
     ]
    },
    {
     "name": "stderr",
     "output_type": "stream",
     "text": [
      "/var/folders/41/jhvt_zmd3nz3x5jsqblr221r0000gn/T/ipykernel_34452/1541653759.py:5: RuntimeWarning: divide by zero encountered in divide\n",
      "  returns = x[1:n] / x[0:(n-1)] - 1\n",
      "/var/folders/41/jhvt_zmd3nz3x5jsqblr221r0000gn/T/ipykernel_34452/1541653759.py:5: RuntimeWarning: invalid value encountered in divide\n",
      "  returns = x[1:n] / x[0:(n-1)] - 1\n"
     ]
    },
    {
     "name": "stdout",
     "output_type": "stream",
     "text": [
      "PSAG PXMD RADI RENT RLTY RRI SAGA SCLN SFLY SILV SMMC SOLO SRCH STJ SWBD TBBK TFC TLEO TPPP TSHA TYDE UNFI VAC VINT VQS VYNE WGO WRE XENE "
     ]
    },
    {
     "name": "stderr",
     "output_type": "stream",
     "text": [
      "/var/folders/41/jhvt_zmd3nz3x5jsqblr221r0000gn/T/ipykernel_34452/1541653759.py:5: RuntimeWarning: divide by zero encountered in divide\n",
      "  returns = x[1:n] / x[0:(n-1)] - 1\n"
     ]
    },
    {
     "name": "stdout",
     "output_type": "stream",
     "text": [
      "YDKN ZOM "
     ]
    }
   ],
   "source": [
    "dfs = []\n",
    "print('Beginning batch:')\n",
    "for batch in batches:\n",
    "    print(batch[0], end=' ')\n",
    "    df = process_batch(batch, min_start)\n",
    "    dfs.append(df)"
   ]
  },
  {
   "cell_type": "code",
   "execution_count": 22,
   "id": "c98ea328",
   "metadata": {},
   "outputs": [
    {
     "data": {
      "text/html": [
       "<div>\n",
       "<style scoped>\n",
       "    .dataframe tbody tr th:only-of-type {\n",
       "        vertical-align: middle;\n",
       "    }\n",
       "\n",
       "    .dataframe tbody tr th {\n",
       "        vertical-align: top;\n",
       "    }\n",
       "\n",
       "    .dataframe thead th {\n",
       "        text-align: right;\n",
       "    }\n",
       "</style>\n",
       "<table border=\"1\" class=\"dataframe\">\n",
       "  <thead>\n",
       "    <tr style=\"text-align: right;\">\n",
       "      <th></th>\n",
       "      <th>sharpe</th>\n",
       "      <th>sharpe_0</th>\n",
       "      <th>sharpe_1</th>\n",
       "      <th>sharpe_2</th>\n",
       "      <th>sharpe_3</th>\n",
       "      <th>sharpe_4</th>\n",
       "      <th>sharpe_5</th>\n",
       "    </tr>\n",
       "  </thead>\n",
       "  <tbody>\n",
       "    <tr>\n",
       "      <th>A</th>\n",
       "      <td>0.786353</td>\n",
       "      <td>-3.461018</td>\n",
       "      <td>1.098054</td>\n",
       "      <td>1.122927</td>\n",
       "      <td>1.275524</td>\n",
       "      <td>3.070949</td>\n",
       "      <td>3.209541</td>\n",
       "    </tr>\n",
       "    <tr>\n",
       "      <th>AA</th>\n",
       "      <td>0.436086</td>\n",
       "      <td>-2.381248</td>\n",
       "      <td>1.413614</td>\n",
       "      <td>0.219841</td>\n",
       "      <td>0.108732</td>\n",
       "      <td>1.775194</td>\n",
       "      <td>1.213354</td>\n",
       "    </tr>\n",
       "    <tr>\n",
       "      <th>AAIC</th>\n",
       "      <td>0.018250</td>\n",
       "      <td>-1.189653</td>\n",
       "      <td>0.101138</td>\n",
       "      <td>1.505511</td>\n",
       "      <td>0.410220</td>\n",
       "      <td>1.667092</td>\n",
       "      <td>0.664249</td>\n",
       "    </tr>\n",
       "    <tr>\n",
       "      <th>AAL</th>\n",
       "      <td>0.287998</td>\n",
       "      <td>-2.314977</td>\n",
       "      <td>0.757442</td>\n",
       "      <td>1.112278</td>\n",
       "      <td>0.322919</td>\n",
       "      <td>1.707227</td>\n",
       "      <td>1.629506</td>\n",
       "    </tr>\n",
       "    <tr>\n",
       "      <th>AAME</th>\n",
       "      <td>0.332655</td>\n",
       "      <td>-0.751945</td>\n",
       "      <td>0.915456</td>\n",
       "      <td>0.580170</td>\n",
       "      <td>0.497002</td>\n",
       "      <td>0.093601</td>\n",
       "      <td>-0.193794</td>\n",
       "    </tr>\n",
       "  </tbody>\n",
       "</table>\n",
       "</div>"
      ],
      "text/plain": [
       "        sharpe  sharpe_0  sharpe_1  sharpe_2  sharpe_3  sharpe_4  sharpe_5\n",
       "A     0.786353 -3.461018  1.098054  1.122927  1.275524  3.070949  3.209541\n",
       "AA    0.436086 -2.381248  1.413614  0.219841  0.108732  1.775194  1.213354\n",
       "AAIC  0.018250 -1.189653  0.101138  1.505511  0.410220  1.667092  0.664249\n",
       "AAL   0.287998 -2.314977  0.757442  1.112278  0.322919  1.707227  1.629506\n",
       "AAME  0.332655 -0.751945  0.915456  0.580170  0.497002  0.093601 -0.193794"
      ]
     },
     "execution_count": 22,
     "metadata": {},
     "output_type": "execute_result"
    }
   ],
   "source": [
    "df = pd.concat(dfs, axis=0)\n",
    "df.head()"
   ]
  },
  {
   "cell_type": "code",
   "execution_count": 23,
   "id": "b9be4bd8",
   "metadata": {},
   "outputs": [
    {
     "data": {
      "text/html": [
       "<div>\n",
       "<style scoped>\n",
       "    .dataframe tbody tr th:only-of-type {\n",
       "        vertical-align: middle;\n",
       "    }\n",
       "\n",
       "    .dataframe tbody tr th {\n",
       "        vertical-align: top;\n",
       "    }\n",
       "\n",
       "    .dataframe thead th {\n",
       "        text-align: right;\n",
       "    }\n",
       "</style>\n",
       "<table border=\"1\" class=\"dataframe\">\n",
       "  <thead>\n",
       "    <tr style=\"text-align: right;\">\n",
       "      <th></th>\n",
       "      <th>sharpe</th>\n",
       "      <th>sharpe_0</th>\n",
       "      <th>sharpe_1</th>\n",
       "      <th>sharpe_2</th>\n",
       "      <th>sharpe_3</th>\n",
       "      <th>sharpe_4</th>\n",
       "      <th>sharpe_5</th>\n",
       "    </tr>\n",
       "  </thead>\n",
       "  <tbody>\n",
       "    <tr>\n",
       "      <th>ZUMZ</th>\n",
       "      <td>0.228372</td>\n",
       "      <td>-1.515600</td>\n",
       "      <td>0.504900</td>\n",
       "      <td>-0.252534</td>\n",
       "      <td>0.903038</td>\n",
       "      <td>0.968386</td>\n",
       "      <td>0.654910</td>\n",
       "    </tr>\n",
       "    <tr>\n",
       "      <th>ZWS</th>\n",
       "      <td>0.354966</td>\n",
       "      <td>-2.530468</td>\n",
       "      <td>0.557051</td>\n",
       "      <td>0.070016</td>\n",
       "      <td>0.007978</td>\n",
       "      <td>2.451861</td>\n",
       "      <td>2.786198</td>\n",
       "    </tr>\n",
       "    <tr>\n",
       "      <th>ZYME</th>\n",
       "      <td>0.129709</td>\n",
       "      <td>-1.387057</td>\n",
       "      <td>-0.509290</td>\n",
       "      <td>-1.679981</td>\n",
       "      <td>1.172419</td>\n",
       "      <td>2.637493</td>\n",
       "      <td>1.356613</td>\n",
       "    </tr>\n",
       "    <tr>\n",
       "      <th>ZYNE</th>\n",
       "      <td>0.136966</td>\n",
       "      <td>-2.161102</td>\n",
       "      <td>-0.647540</td>\n",
       "      <td>1.590663</td>\n",
       "      <td>0.899051</td>\n",
       "      <td>-0.060131</td>\n",
       "      <td>1.281224</td>\n",
       "    </tr>\n",
       "    <tr>\n",
       "      <th>ZYXI</th>\n",
       "      <td>0.818016</td>\n",
       "      <td>1.287661</td>\n",
       "      <td>0.237706</td>\n",
       "      <td>1.030025</td>\n",
       "      <td>0.265595</td>\n",
       "      <td>-0.089947</td>\n",
       "      <td>1.703991</td>\n",
       "    </tr>\n",
       "  </tbody>\n",
       "</table>\n",
       "</div>"
      ],
      "text/plain": [
       "        sharpe  sharpe_0  sharpe_1  sharpe_2  sharpe_3  sharpe_4  sharpe_5\n",
       "ZUMZ  0.228372 -1.515600  0.504900 -0.252534  0.903038  0.968386  0.654910\n",
       "ZWS   0.354966 -2.530468  0.557051  0.070016  0.007978  2.451861  2.786198\n",
       "ZYME  0.129709 -1.387057 -0.509290 -1.679981  1.172419  2.637493  1.356613\n",
       "ZYNE  0.136966 -2.161102 -0.647540  1.590663  0.899051 -0.060131  1.281224\n",
       "ZYXI  0.818016  1.287661  0.237706  1.030025  0.265595 -0.089947  1.703991"
      ]
     },
     "execution_count": 23,
     "metadata": {},
     "output_type": "execute_result"
    }
   ],
   "source": [
    "df.tail()"
   ]
  },
  {
   "cell_type": "code",
   "execution_count": 24,
   "id": "808889bc",
   "metadata": {},
   "outputs": [],
   "source": [
    "df.to_csv('../data/sharpes_by_state.csv', index=True)"
   ]
  },
  {
   "cell_type": "code",
   "execution_count": 66,
   "id": "7dfa109e",
   "metadata": {},
   "outputs": [
    {
     "data": {
      "text/html": [
       "<div>\n",
       "<style scoped>\n",
       "    .dataframe tbody tr th:only-of-type {\n",
       "        vertical-align: middle;\n",
       "    }\n",
       "\n",
       "    .dataframe tbody tr th {\n",
       "        vertical-align: top;\n",
       "    }\n",
       "\n",
       "    .dataframe thead th {\n",
       "        text-align: right;\n",
       "    }\n",
       "</style>\n",
       "<table border=\"1\" class=\"dataframe\">\n",
       "  <thead>\n",
       "    <tr style=\"text-align: right;\">\n",
       "      <th></th>\n",
       "      <th>sharpe</th>\n",
       "      <th>sharpe_0</th>\n",
       "      <th>sharpe_1</th>\n",
       "      <th>sharpe_2</th>\n",
       "      <th>sharpe_3</th>\n",
       "      <th>sharpe_4</th>\n",
       "      <th>sharpe_5</th>\n",
       "    </tr>\n",
       "  </thead>\n",
       "  <tbody>\n",
       "    <tr>\n",
       "      <th>KREF</th>\n",
       "      <td>0.314739</td>\n",
       "      <td>-0.860893</td>\n",
       "      <td>1.068006</td>\n",
       "      <td>8.202578</td>\n",
       "      <td>1.097796</td>\n",
       "      <td>1.054265</td>\n",
       "      <td>0.795719</td>\n",
       "    </tr>\n",
       "    <tr>\n",
       "      <th>FCPT</th>\n",
       "      <td>0.589207</td>\n",
       "      <td>-0.490599</td>\n",
       "      <td>1.431646</td>\n",
       "      <td>4.782148</td>\n",
       "      <td>1.069015</td>\n",
       "      <td>-1.104168</td>\n",
       "      <td>1.831193</td>\n",
       "    </tr>\n",
       "    <tr>\n",
       "      <th>EXR</th>\n",
       "      <td>1.002172</td>\n",
       "      <td>-1.281449</td>\n",
       "      <td>2.296653</td>\n",
       "      <td>2.079920</td>\n",
       "      <td>1.525400</td>\n",
       "      <td>2.482542</td>\n",
       "      <td>0.383446</td>\n",
       "    </tr>\n",
       "    <tr>\n",
       "      <th>PSA</th>\n",
       "      <td>0.650748</td>\n",
       "      <td>-1.573871</td>\n",
       "      <td>2.381544</td>\n",
       "      <td>1.504720</td>\n",
       "      <td>0.706028</td>\n",
       "      <td>1.554577</td>\n",
       "      <td>-0.198138</td>\n",
       "    </tr>\n",
       "    <tr>\n",
       "      <th>LSI</th>\n",
       "      <td>0.792455</td>\n",
       "      <td>-1.354776</td>\n",
       "      <td>2.245297</td>\n",
       "      <td>1.579082</td>\n",
       "      <td>0.779205</td>\n",
       "      <td>1.798504</td>\n",
       "      <td>0.413647</td>\n",
       "    </tr>\n",
       "    <tr>\n",
       "      <th>CUBE</th>\n",
       "      <td>0.786320</td>\n",
       "      <td>-1.394105</td>\n",
       "      <td>2.159637</td>\n",
       "      <td>1.930519</td>\n",
       "      <td>1.331625</td>\n",
       "      <td>1.262788</td>\n",
       "      <td>0.260299</td>\n",
       "    </tr>\n",
       "    <tr>\n",
       "      <th>FFDF</th>\n",
       "      <td>1.231458</td>\n",
       "      <td>0.516896</td>\n",
       "      <td>1.683991</td>\n",
       "      <td>1.323526</td>\n",
       "      <td>0.883937</td>\n",
       "      <td>1.043475</td>\n",
       "      <td>1.494569</td>\n",
       "    </tr>\n",
       "    <tr>\n",
       "      <th>RA</th>\n",
       "      <td>0.468796</td>\n",
       "      <td>-0.899282</td>\n",
       "      <td>0.980842</td>\n",
       "      <td>5.337465</td>\n",
       "      <td>3.184712</td>\n",
       "      <td>2.129093</td>\n",
       "      <td>2.982667</td>\n",
       "    </tr>\n",
       "    <tr>\n",
       "      <th>WCN</th>\n",
       "      <td>1.166216</td>\n",
       "      <td>-2.464539</td>\n",
       "      <td>2.097525</td>\n",
       "      <td>2.426014</td>\n",
       "      <td>2.512514</td>\n",
       "      <td>1.347411</td>\n",
       "      <td>2.938991</td>\n",
       "    </tr>\n",
       "    <tr>\n",
       "      <th>DFIN</th>\n",
       "      <td>0.430718</td>\n",
       "      <td>-1.072630</td>\n",
       "      <td>0.760955</td>\n",
       "      <td>6.229535</td>\n",
       "      <td>-0.281270</td>\n",
       "      <td>1.530202</td>\n",
       "      <td>0.866065</td>\n",
       "    </tr>\n",
       "    <tr>\n",
       "      <th>AMRK</th>\n",
       "      <td>0.660022</td>\n",
       "      <td>1.298628</td>\n",
       "      <td>1.599617</td>\n",
       "      <td>0.500107</td>\n",
       "      <td>0.153399</td>\n",
       "      <td>-0.174274</td>\n",
       "      <td>-0.680218</td>\n",
       "    </tr>\n",
       "    <tr>\n",
       "      <th>RRR</th>\n",
       "      <td>0.492382</td>\n",
       "      <td>-1.446166</td>\n",
       "      <td>1.434917</td>\n",
       "      <td>3.813069</td>\n",
       "      <td>0.619532</td>\n",
       "      <td>0.792406</td>\n",
       "      <td>2.013526</td>\n",
       "    </tr>\n",
       "    <tr>\n",
       "      <th>NSA</th>\n",
       "      <td>0.896763</td>\n",
       "      <td>-0.885810</td>\n",
       "      <td>1.874567</td>\n",
       "      <td>1.436777</td>\n",
       "      <td>2.290433</td>\n",
       "      <td>2.958584</td>\n",
       "      <td>0.448616</td>\n",
       "    </tr>\n",
       "    <tr>\n",
       "      <th>FLGT</th>\n",
       "      <td>0.726668</td>\n",
       "      <td>0.222860</td>\n",
       "      <td>1.011395</td>\n",
       "      <td>3.646200</td>\n",
       "      <td>0.129222</td>\n",
       "      <td>1.154203</td>\n",
       "      <td>0.458434</td>\n",
       "    </tr>\n",
       "    <tr>\n",
       "      <th>ORLY</th>\n",
       "      <td>0.941273</td>\n",
       "      <td>-1.694464</td>\n",
       "      <td>1.836437</td>\n",
       "      <td>2.070816</td>\n",
       "      <td>0.558054</td>\n",
       "      <td>2.714533</td>\n",
       "      <td>1.269956</td>\n",
       "    </tr>\n",
       "    <tr>\n",
       "      <th>AFL</th>\n",
       "      <td>0.605377</td>\n",
       "      <td>-2.039352</td>\n",
       "      <td>1.785268</td>\n",
       "      <td>2.598667</td>\n",
       "      <td>2.748263</td>\n",
       "      <td>0.876734</td>\n",
       "      <td>1.747144</td>\n",
       "    </tr>\n",
       "    <tr>\n",
       "      <th>KDP</th>\n",
       "      <td>0.969040</td>\n",
       "      <td>-1.248492</td>\n",
       "      <td>1.661667</td>\n",
       "      <td>2.241366</td>\n",
       "      <td>0.803632</td>\n",
       "      <td>0.862275</td>\n",
       "      <td>1.669031</td>\n",
       "    </tr>\n",
       "    <tr>\n",
       "      <th>ADC</th>\n",
       "      <td>0.786144</td>\n",
       "      <td>-0.813584</td>\n",
       "      <td>1.704717</td>\n",
       "      <td>1.622555</td>\n",
       "      <td>2.138881</td>\n",
       "      <td>0.358462</td>\n",
       "      <td>1.017455</td>\n",
       "    </tr>\n",
       "    <tr>\n",
       "      <th>PETV</th>\n",
       "      <td>0.750923</td>\n",
       "      <td>0.495008</td>\n",
       "      <td>1.342899</td>\n",
       "      <td>1.759142</td>\n",
       "      <td>0.860888</td>\n",
       "      <td>-0.017000</td>\n",
       "      <td>0.777508</td>\n",
       "    </tr>\n",
       "    <tr>\n",
       "      <th>VVV</th>\n",
       "      <td>0.320517</td>\n",
       "      <td>-1.044455</td>\n",
       "      <td>1.017006</td>\n",
       "      <td>4.474212</td>\n",
       "      <td>0.187335</td>\n",
       "      <td>-0.731048</td>\n",
       "      <td>1.207091</td>\n",
       "    </tr>\n",
       "  </tbody>\n",
       "</table>\n",
       "</div>"
      ],
      "text/plain": [
       "        sharpe  sharpe_0  sharpe_1  sharpe_2  sharpe_3  sharpe_4  sharpe_5\n",
       "KREF  0.314739 -0.860893  1.068006  8.202578  1.097796  1.054265  0.795719\n",
       "FCPT  0.589207 -0.490599  1.431646  4.782148  1.069015 -1.104168  1.831193\n",
       "EXR   1.002172 -1.281449  2.296653  2.079920  1.525400  2.482542  0.383446\n",
       "PSA   0.650748 -1.573871  2.381544  1.504720  0.706028  1.554577 -0.198138\n",
       "LSI   0.792455 -1.354776  2.245297  1.579082  0.779205  1.798504  0.413647\n",
       "CUBE  0.786320 -1.394105  2.159637  1.930519  1.331625  1.262788  0.260299\n",
       "FFDF  1.231458  0.516896  1.683991  1.323526  0.883937  1.043475  1.494569\n",
       "RA    0.468796 -0.899282  0.980842  5.337465  3.184712  2.129093  2.982667\n",
       "WCN   1.166216 -2.464539  2.097525  2.426014  2.512514  1.347411  2.938991\n",
       "DFIN  0.430718 -1.072630  0.760955  6.229535 -0.281270  1.530202  0.866065\n",
       "AMRK  0.660022  1.298628  1.599617  0.500107  0.153399 -0.174274 -0.680218\n",
       "RRR   0.492382 -1.446166  1.434917  3.813069  0.619532  0.792406  2.013526\n",
       "NSA   0.896763 -0.885810  1.874567  1.436777  2.290433  2.958584  0.448616\n",
       "FLGT  0.726668  0.222860  1.011395  3.646200  0.129222  1.154203  0.458434\n",
       "ORLY  0.941273 -1.694464  1.836437  2.070816  0.558054  2.714533  1.269956\n",
       "AFL   0.605377 -2.039352  1.785268  2.598667  2.748263  0.876734  1.747144\n",
       "KDP   0.969040 -1.248492  1.661667  2.241366  0.803632  0.862275  1.669031\n",
       "ADC   0.786144 -0.813584  1.704717  1.622555  2.138881  0.358462  1.017455\n",
       "PETV  0.750923  0.495008  1.342899  1.759142  0.860888 -0.017000  0.777508\n",
       "VVV   0.320517 -1.044455  1.017006  4.474212  0.187335 -0.731048  1.207091"
      ]
     },
     "execution_count": 66,
     "metadata": {},
     "output_type": "execute_result"
    }
   ],
   "source": [
    "# Weighted Best\n",
    "weighted = 0.25 * df.sharpe_0 + df.sharpe_1 + 0.25 * df.sharpe_2\n",
    "best_weighted = weighted.sort_values(ascending=False)[:20]\n",
    "df.loc[best_weighted.index, :]"
   ]
  },
  {
   "cell_type": "code",
   "execution_count": 67,
   "id": "e9b71ada",
   "metadata": {},
   "outputs": [
    {
     "data": {
      "text/html": [
       "<div>\n",
       "<style scoped>\n",
       "    .dataframe tbody tr th:only-of-type {\n",
       "        vertical-align: middle;\n",
       "    }\n",
       "\n",
       "    .dataframe tbody tr th {\n",
       "        vertical-align: top;\n",
       "    }\n",
       "\n",
       "    .dataframe thead th {\n",
       "        text-align: right;\n",
       "    }\n",
       "</style>\n",
       "<table border=\"1\" class=\"dataframe\">\n",
       "  <thead>\n",
       "    <tr style=\"text-align: right;\">\n",
       "      <th></th>\n",
       "      <th>sharpe</th>\n",
       "      <th>sharpe_0</th>\n",
       "      <th>sharpe_1</th>\n",
       "      <th>sharpe_2</th>\n",
       "      <th>sharpe_3</th>\n",
       "      <th>sharpe_4</th>\n",
       "      <th>sharpe_5</th>\n",
       "    </tr>\n",
       "  </thead>\n",
       "  <tbody>\n",
       "    <tr>\n",
       "      <th>GBOX</th>\n",
       "      <td>1.203296</td>\n",
       "      <td>1.028573</td>\n",
       "      <td>1.366265</td>\n",
       "      <td>0.879166</td>\n",
       "      <td>1.456559</td>\n",
       "      <td>1.222836</td>\n",
       "      <td>1.200276</td>\n",
       "    </tr>\n",
       "    <tr>\n",
       "      <th>GME</th>\n",
       "      <td>0.755948</td>\n",
       "      <td>0.861828</td>\n",
       "      <td>1.041751</td>\n",
       "      <td>2.139710</td>\n",
       "      <td>-0.456684</td>\n",
       "      <td>-0.002475</td>\n",
       "      <td>0.889450</td>\n",
       "    </tr>\n",
       "    <tr>\n",
       "      <th>EP</th>\n",
       "      <td>0.961937</td>\n",
       "      <td>1.033869</td>\n",
       "      <td>0.767054</td>\n",
       "      <td>1.297008</td>\n",
       "      <td>1.677714</td>\n",
       "      <td>0.104221</td>\n",
       "      <td>1.173532</td>\n",
       "    </tr>\n",
       "    <tr>\n",
       "      <th>OLB</th>\n",
       "      <td>0.461615</td>\n",
       "      <td>0.882370</td>\n",
       "      <td>0.671041</td>\n",
       "      <td>1.021680</td>\n",
       "      <td>1.073377</td>\n",
       "      <td>0.343270</td>\n",
       "      <td>0.698204</td>\n",
       "    </tr>\n",
       "    <tr>\n",
       "      <th>IVDA</th>\n",
       "      <td>0.882941</td>\n",
       "      <td>0.779377</td>\n",
       "      <td>0.658898</td>\n",
       "      <td>0.976425</td>\n",
       "      <td>1.906477</td>\n",
       "      <td>0.352420</td>\n",
       "      <td>0.971272</td>\n",
       "    </tr>\n",
       "    <tr>\n",
       "      <th>PRTG</th>\n",
       "      <td>0.501919</td>\n",
       "      <td>0.935670</td>\n",
       "      <td>0.651969</td>\n",
       "      <td>1.652120</td>\n",
       "      <td>0.437920</td>\n",
       "      <td>0.898961</td>\n",
       "      <td>0.634190</td>\n",
       "    </tr>\n",
       "    <tr>\n",
       "      <th>SOBR</th>\n",
       "      <td>0.671379</td>\n",
       "      <td>1.042512</td>\n",
       "      <td>0.647170</td>\n",
       "      <td>1.274770</td>\n",
       "      <td>1.658017</td>\n",
       "      <td>0.450715</td>\n",
       "      <td>1.142757</td>\n",
       "    </tr>\n",
       "    <tr>\n",
       "      <th>IVT</th>\n",
       "      <td>0.344044</td>\n",
       "      <td>0.869428</td>\n",
       "      <td>0.628784</td>\n",
       "      <td>1.156587</td>\n",
       "      <td>-0.025213</td>\n",
       "      <td>-0.638052</td>\n",
       "      <td>-0.258673</td>\n",
       "    </tr>\n",
       "    <tr>\n",
       "      <th>NCPL</th>\n",
       "      <td>0.322772</td>\n",
       "      <td>1.146328</td>\n",
       "      <td>0.608716</td>\n",
       "      <td>1.312686</td>\n",
       "      <td>1.044517</td>\n",
       "      <td>1.842803</td>\n",
       "      <td>1.495014</td>\n",
       "    </tr>\n",
       "    <tr>\n",
       "      <th>BTTR</th>\n",
       "      <td>0.422151</td>\n",
       "      <td>1.378178</td>\n",
       "      <td>0.607720</td>\n",
       "      <td>0.865024</td>\n",
       "      <td>0.599793</td>\n",
       "      <td>0.914709</td>\n",
       "      <td>0.449682</td>\n",
       "    </tr>\n",
       "    <tr>\n",
       "      <th>VIVK</th>\n",
       "      <td>0.922779</td>\n",
       "      <td>1.678980</td>\n",
       "      <td>0.600007</td>\n",
       "      <td>1.130436</td>\n",
       "      <td>0.612774</td>\n",
       "      <td>0.878928</td>\n",
       "      <td>0.895584</td>\n",
       "    </tr>\n",
       "    <tr>\n",
       "      <th>RCRT</th>\n",
       "      <td>0.558638</td>\n",
       "      <td>0.578549</td>\n",
       "      <td>0.572001</td>\n",
       "      <td>0.854873</td>\n",
       "      <td>1.036629</td>\n",
       "      <td>-0.324967</td>\n",
       "      <td>1.045319</td>\n",
       "    </tr>\n",
       "    <tr>\n",
       "      <th>MTLK</th>\n",
       "      <td>0.539183</td>\n",
       "      <td>0.557058</td>\n",
       "      <td>0.645539</td>\n",
       "      <td>0.700777</td>\n",
       "      <td>-0.592882</td>\n",
       "      <td>0.757329</td>\n",
       "      <td>0.679506</td>\n",
       "    </tr>\n",
       "    <tr>\n",
       "      <th>MICS</th>\n",
       "      <td>0.720978</td>\n",
       "      <td>1.499291</td>\n",
       "      <td>0.644481</td>\n",
       "      <td>0.525179</td>\n",
       "      <td>0.867759</td>\n",
       "      <td>0.727634</td>\n",
       "      <td>0.426790</td>\n",
       "    </tr>\n",
       "    <tr>\n",
       "      <th>FFDF</th>\n",
       "      <td>1.231458</td>\n",
       "      <td>0.516896</td>\n",
       "      <td>1.683991</td>\n",
       "      <td>1.323526</td>\n",
       "      <td>0.883937</td>\n",
       "      <td>1.043475</td>\n",
       "      <td>1.494569</td>\n",
       "    </tr>\n",
       "    <tr>\n",
       "      <th>SOTK</th>\n",
       "      <td>0.599048</td>\n",
       "      <td>0.501878</td>\n",
       "      <td>0.676249</td>\n",
       "      <td>0.635087</td>\n",
       "      <td>-0.944472</td>\n",
       "      <td>0.710220</td>\n",
       "      <td>1.071303</td>\n",
       "    </tr>\n",
       "    <tr>\n",
       "      <th>AMRK</th>\n",
       "      <td>0.660022</td>\n",
       "      <td>1.298628</td>\n",
       "      <td>1.599617</td>\n",
       "      <td>0.500107</td>\n",
       "      <td>0.153399</td>\n",
       "      <td>-0.174274</td>\n",
       "      <td>-0.680218</td>\n",
       "    </tr>\n",
       "    <tr>\n",
       "      <th>PETV</th>\n",
       "      <td>0.750923</td>\n",
       "      <td>0.495008</td>\n",
       "      <td>1.342899</td>\n",
       "      <td>1.759142</td>\n",
       "      <td>0.860888</td>\n",
       "      <td>-0.017000</td>\n",
       "      <td>0.777508</td>\n",
       "    </tr>\n",
       "    <tr>\n",
       "      <th>DLPN</th>\n",
       "      <td>0.588080</td>\n",
       "      <td>1.002908</td>\n",
       "      <td>0.796239</td>\n",
       "      <td>0.484795</td>\n",
       "      <td>0.746856</td>\n",
       "      <td>0.649651</td>\n",
       "      <td>0.032048</td>\n",
       "    </tr>\n",
       "    <tr>\n",
       "      <th>ZIVO</th>\n",
       "      <td>0.392785</td>\n",
       "      <td>0.457421</td>\n",
       "      <td>0.483930</td>\n",
       "      <td>0.670083</td>\n",
       "      <td>0.430785</td>\n",
       "      <td>0.860394</td>\n",
       "      <td>1.113170</td>\n",
       "    </tr>\n",
       "  </tbody>\n",
       "</table>\n",
       "</div>"
      ],
      "text/plain": [
       "        sharpe  sharpe_0  sharpe_1  sharpe_2  sharpe_3  sharpe_4  sharpe_5\n",
       "GBOX  1.203296  1.028573  1.366265  0.879166  1.456559  1.222836  1.200276\n",
       "GME   0.755948  0.861828  1.041751  2.139710 -0.456684 -0.002475  0.889450\n",
       "EP    0.961937  1.033869  0.767054  1.297008  1.677714  0.104221  1.173532\n",
       "OLB   0.461615  0.882370  0.671041  1.021680  1.073377  0.343270  0.698204\n",
       "IVDA  0.882941  0.779377  0.658898  0.976425  1.906477  0.352420  0.971272\n",
       "PRTG  0.501919  0.935670  0.651969  1.652120  0.437920  0.898961  0.634190\n",
       "SOBR  0.671379  1.042512  0.647170  1.274770  1.658017  0.450715  1.142757\n",
       "IVT   0.344044  0.869428  0.628784  1.156587 -0.025213 -0.638052 -0.258673\n",
       "NCPL  0.322772  1.146328  0.608716  1.312686  1.044517  1.842803  1.495014\n",
       "BTTR  0.422151  1.378178  0.607720  0.865024  0.599793  0.914709  0.449682\n",
       "VIVK  0.922779  1.678980  0.600007  1.130436  0.612774  0.878928  0.895584\n",
       "RCRT  0.558638  0.578549  0.572001  0.854873  1.036629 -0.324967  1.045319\n",
       "MTLK  0.539183  0.557058  0.645539  0.700777 -0.592882  0.757329  0.679506\n",
       "MICS  0.720978  1.499291  0.644481  0.525179  0.867759  0.727634  0.426790\n",
       "FFDF  1.231458  0.516896  1.683991  1.323526  0.883937  1.043475  1.494569\n",
       "SOTK  0.599048  0.501878  0.676249  0.635087 -0.944472  0.710220  1.071303\n",
       "AMRK  0.660022  1.298628  1.599617  0.500107  0.153399 -0.174274 -0.680218\n",
       "PETV  0.750923  0.495008  1.342899  1.759142  0.860888 -0.017000  0.777508\n",
       "DLPN  0.588080  1.002908  0.796239  0.484795  0.746856  0.649651  0.032048\n",
       "ZIVO  0.392785  0.457421  0.483930  0.670083  0.430785  0.860394  1.113170"
      ]
     },
     "execution_count": 67,
     "metadata": {},
     "output_type": "execute_result"
    }
   ],
   "source": [
    "# Hedged best\n",
    "hedged = (\n",
    "    df[['sharpe_0', 'sharpe_1', 'sharpe_2']]\n",
    "    .min(axis=1)\n",
    "    .sort_values(ascending=False)[:20])\n",
    "df.loc[hedged.index, :]"
   ]
  },
  {
   "cell_type": "code",
   "execution_count": 25,
   "id": "dcc7139a",
   "metadata": {},
   "outputs": [],
   "source": [
    "#for stock in df_out.index:\n",
    "#    if stock in big_df.index:\n",
    "#        big_df.loc[stock, :] = big_df.loc[stock, :]\n",
    "#    else:\n",
    "#        big_df = pd.concat(\n",
    "#            [big_df, pd.DataFrame(df_out.loc[stock, :]).T], axis=0)\n",
    "#print(big_df.shape)\n",
    "#big_df.head()"
   ]
  },
  {
   "cell_type": "code",
   "execution_count": 26,
   "id": "55e06a52",
   "metadata": {},
   "outputs": [
    {
     "data": {
      "text/plain": [
       "1"
      ]
     },
     "execution_count": 26,
     "metadata": {},
     "output_type": "execute_result"
    }
   ],
   "source": [
    "CURRENT_STATE"
   ]
  },
  {
   "cell_type": "code",
   "execution_count": 61,
   "id": "c15ef28c",
   "metadata": {},
   "outputs": [],
   "source": [
    "best_0 = best_n_by_state(df, 12, 0)\n",
    "best_1 = best_n_by_state(df, 20, 1)\n",
    "best_2 = best_n_by_state(df, 10, 2)\n",
    "best_3 = best_n_by_state(df, 10, 3)"
   ]
  },
  {
   "cell_type": "code",
   "execution_count": 62,
   "id": "809203bd",
   "metadata": {},
   "outputs": [
    {
     "data": {
      "text/html": [
       "<div>\n",
       "<style scoped>\n",
       "    .dataframe tbody tr th:only-of-type {\n",
       "        vertical-align: middle;\n",
       "    }\n",
       "\n",
       "    .dataframe tbody tr th {\n",
       "        vertical-align: top;\n",
       "    }\n",
       "\n",
       "    .dataframe thead th {\n",
       "        text-align: right;\n",
       "    }\n",
       "</style>\n",
       "<table border=\"1\" class=\"dataframe\">\n",
       "  <thead>\n",
       "    <tr style=\"text-align: right;\">\n",
       "      <th></th>\n",
       "      <th>sharpe</th>\n",
       "      <th>sharpe_0</th>\n",
       "      <th>sharpe_1</th>\n",
       "    </tr>\n",
       "  </thead>\n",
       "  <tbody>\n",
       "    <tr>\n",
       "      <th>PSA</th>\n",
       "      <td>0.650748</td>\n",
       "      <td>-1.573871</td>\n",
       "      <td>2.381544</td>\n",
       "    </tr>\n",
       "    <tr>\n",
       "      <th>EXR</th>\n",
       "      <td>1.002172</td>\n",
       "      <td>-1.281449</td>\n",
       "      <td>2.296653</td>\n",
       "    </tr>\n",
       "    <tr>\n",
       "      <th>LSI</th>\n",
       "      <td>0.792455</td>\n",
       "      <td>-1.354776</td>\n",
       "      <td>2.245297</td>\n",
       "    </tr>\n",
       "    <tr>\n",
       "      <th>CUBE</th>\n",
       "      <td>0.786320</td>\n",
       "      <td>-1.394105</td>\n",
       "      <td>2.159637</td>\n",
       "    </tr>\n",
       "    <tr>\n",
       "      <th>TWNK</th>\n",
       "      <td>0.624425</td>\n",
       "      <td>-2.070600</td>\n",
       "      <td>2.104215</td>\n",
       "    </tr>\n",
       "    <tr>\n",
       "      <th>WCN</th>\n",
       "      <td>1.166216</td>\n",
       "      <td>-2.464539</td>\n",
       "      <td>2.097525</td>\n",
       "    </tr>\n",
       "    <tr>\n",
       "      <th>EVA</th>\n",
       "      <td>0.867700</td>\n",
       "      <td>-1.673559</td>\n",
       "      <td>1.989497</td>\n",
       "    </tr>\n",
       "    <tr>\n",
       "      <th>REXR</th>\n",
       "      <td>0.878333</td>\n",
       "      <td>-2.413490</td>\n",
       "      <td>1.971078</td>\n",
       "    </tr>\n",
       "    <tr>\n",
       "      <th>NSA</th>\n",
       "      <td>0.896763</td>\n",
       "      <td>-0.885810</td>\n",
       "      <td>1.874567</td>\n",
       "    </tr>\n",
       "    <tr>\n",
       "      <th>TSLA</th>\n",
       "      <td>1.159955</td>\n",
       "      <td>-2.607051</td>\n",
       "      <td>1.864281</td>\n",
       "    </tr>\n",
       "    <tr>\n",
       "      <th>NXST</th>\n",
       "      <td>0.990478</td>\n",
       "      <td>-2.373342</td>\n",
       "      <td>1.846127</td>\n",
       "    </tr>\n",
       "    <tr>\n",
       "      <th>ORLY</th>\n",
       "      <td>0.941273</td>\n",
       "      <td>-1.694464</td>\n",
       "      <td>1.836437</td>\n",
       "    </tr>\n",
       "    <tr>\n",
       "      <th>SNX</th>\n",
       "      <td>0.673851</td>\n",
       "      <td>-2.449554</td>\n",
       "      <td>1.830635</td>\n",
       "    </tr>\n",
       "    <tr>\n",
       "      <th>MUSA</th>\n",
       "      <td>0.888213</td>\n",
       "      <td>-1.203692</td>\n",
       "      <td>1.825433</td>\n",
       "    </tr>\n",
       "    <tr>\n",
       "      <th>CSIQ</th>\n",
       "      <td>0.763940</td>\n",
       "      <td>-4.058234</td>\n",
       "      <td>1.818004</td>\n",
       "    </tr>\n",
       "    <tr>\n",
       "      <th>WM</th>\n",
       "      <td>1.098833</td>\n",
       "      <td>-1.961931</td>\n",
       "      <td>1.802956</td>\n",
       "    </tr>\n",
       "    <tr>\n",
       "      <th>BBSI</th>\n",
       "      <td>0.538744</td>\n",
       "      <td>-2.916599</td>\n",
       "      <td>1.790528</td>\n",
       "    </tr>\n",
       "    <tr>\n",
       "      <th>DE</th>\n",
       "      <td>0.776457</td>\n",
       "      <td>-2.404978</td>\n",
       "      <td>1.786514</td>\n",
       "    </tr>\n",
       "    <tr>\n",
       "      <th>AFL</th>\n",
       "      <td>0.605377</td>\n",
       "      <td>-2.039352</td>\n",
       "      <td>1.785268</td>\n",
       "    </tr>\n",
       "    <tr>\n",
       "      <th>COST</th>\n",
       "      <td>1.038020</td>\n",
       "      <td>-2.851320</td>\n",
       "      <td>1.778514</td>\n",
       "    </tr>\n",
       "  </tbody>\n",
       "</table>\n",
       "</div>"
      ],
      "text/plain": [
       "        sharpe  sharpe_0  sharpe_1\n",
       "PSA   0.650748 -1.573871  2.381544\n",
       "EXR   1.002172 -1.281449  2.296653\n",
       "LSI   0.792455 -1.354776  2.245297\n",
       "CUBE  0.786320 -1.394105  2.159637\n",
       "TWNK  0.624425 -2.070600  2.104215\n",
       "WCN   1.166216 -2.464539  2.097525\n",
       "EVA   0.867700 -1.673559  1.989497\n",
       "REXR  0.878333 -2.413490  1.971078\n",
       "NSA   0.896763 -0.885810  1.874567\n",
       "TSLA  1.159955 -2.607051  1.864281\n",
       "NXST  0.990478 -2.373342  1.846127\n",
       "ORLY  0.941273 -1.694464  1.836437\n",
       "SNX   0.673851 -2.449554  1.830635\n",
       "MUSA  0.888213 -1.203692  1.825433\n",
       "CSIQ  0.763940 -4.058234  1.818004\n",
       "WM    1.098833 -1.961931  1.802956\n",
       "BBSI  0.538744 -2.916599  1.790528\n",
       "DE    0.776457 -2.404978  1.786514\n",
       "AFL   0.605377 -2.039352  1.785268\n",
       "COST  1.038020 -2.851320  1.778514"
      ]
     },
     "execution_count": 62,
     "metadata": {},
     "output_type": "execute_result"
    }
   ],
   "source": [
    "exclude = ['ASTI', 'BRTX', 'FFDF', 'TFG', 'VXRT', 'VXZB']\n",
    "best_1 = [s for s in best_1 if s not in exclude]\n",
    "df.loc[best_1, ['sharpe', 'sharpe_0', 'sharpe_1']]"
   ]
  },
  {
   "cell_type": "code",
   "execution_count": 57,
   "id": "aec394d6",
   "metadata": {},
   "outputs": [],
   "source": [
    "TEST = 'TSLA'\n",
    "b = download_data([TEST])\n",
    "b"
   ]
  },
  {
   "cell_type": "code",
   "execution_count": 58,
   "id": "0b308093",
   "metadata": {},
   "outputs": [
    {
     "data": {
      "text/plain": [
       "Date\n",
       "2022-08-29    284.820007\n",
       "2022-08-30    277.700012\n",
       "2022-08-31    275.609985\n",
       "2022-09-01    277.160004\n",
       "2022-09-02    270.209991\n",
       "Name: AdjClose, dtype: float64"
      ]
     },
     "execution_count": 58,
     "metadata": {},
     "output_type": "execute_result"
    }
   ],
   "source": [
    "data = (\n",
    "    yf\n",
    "    .download([TEST], start=START, end=TODAY)\n",
    "    .rename(columns={'Adj Close': 'AdjClose'}))['AdjClose']\n",
    "data.index = pd.to_datetime(data.index)\n",
    "data = data.sort_index()\n",
    "#data = data.loc[:, data.isnull().sum() != len(data)]\n",
    "#missing_last = [\n",
    "#    col for col in list(data) if data[col].isnull()[-1]]\n",
    "#data.drop(columns=missing_last, inplace=True)\n",
    "#sys.stdout = std_out\n",
    "#return data\n",
    "data.tail()"
   ]
  },
  {
   "cell_type": "code",
   "execution_count": 59,
   "id": "33737cbd",
   "metadata": {},
   "outputs": [
    {
     "data": {
      "image/png": "[encoded data removed]",
      "text/plain": [
       "<Figure size 432x288 with 1 Axes>"
      ]
     },
     "metadata": {
      "needs_background": "light"
     },
     "output_type": "display_data"
    }
   ],
   "source": [
    "plt.plot(data)\n",
    "plt.yscale('log');"
   ]
  },
  {
   "cell_type": "code",
   "execution_count": 60,
   "id": "b155a07b",
   "metadata": {},
   "outputs": [
    {
     "data": {
      "image/png": "[encoded data removed]",
      "text/plain": [
       "<Figure size 432x288 with 1 Axes>"
      ]
     },
     "metadata": {
      "needs_background": "light"
     },
     "output_type": "display_data"
    }
   ],
   "source": [
    "plt.plot(data[states.state == CURRENT_STATE].to_numpy())\n",
    "plt.yscale('log');"
   ]
  },
  {
   "cell_type": "code",
   "execution_count": 33,
   "id": "3fac2fee",
   "metadata": {},
   "outputs": [
    {
     "data": {
      "text/plain": [
       "0.650748130796559"
      ]
     },
     "execution_count": 33,
     "metadata": {},
     "output_type": "execute_result"
    }
   ],
   "source": [
    "r = get_daily_returns(data)\n",
    "get_sharpe(r)"
   ]
  },
  {
   "cell_type": "code",
   "execution_count": 34,
   "id": "89b9aba9",
   "metadata": {},
   "outputs": [
    {
     "data": {
      "text/plain": [
       "0.0005426268706305071"
      ]
     },
     "execution_count": 34,
     "metadata": {},
     "output_type": "execute_result"
    }
   ],
   "source": [
    "r.mean()"
   ]
  },
  {
   "cell_type": "code",
   "execution_count": 35,
   "id": "3478838e",
   "metadata": {},
   "outputs": [
    {
     "data": {
      "text/plain": [
       "0.0009044704520435598"
      ]
     },
     "execution_count": 35,
     "metadata": {},
     "output_type": "execute_result"
    }
   ],
   "source": [
    "r.median()"
   ]
  },
  {
   "cell_type": "code",
   "execution_count": 36,
   "id": "3fb76d05",
   "metadata": {},
   "outputs": [
    {
     "data": {
      "image/png": "[encoded data removed]",
      "text/plain": [
       "<Figure size 432x288 with 1 Axes>"
      ]
     },
     "metadata": {
      "needs_background": "light"
     },
     "output_type": "display_data"
    }
   ],
   "source": [
    "plt.hist(r);"
   ]
  },
  {
   "cell_type": "code",
   "execution_count": null,
   "id": "0e939946",
   "metadata": {},
   "outputs": [],
   "source": []
  }
 ],
 "metadata": {
  "kernelspec": {
   "display_name": "Python 3 (ipykernel)",
   "language": "python",
   "name": "python3"
  },
  "language_info": {
   "codemirror_mode": {
    "name": "ipython",
    "version": 3
   },
   "file_extension": ".py",
   "mimetype": "text/x-python",
   "name": "python",
   "nbconvert_exporter": "python",
   "pygments_lexer": "ipython3",
   "version": "3.10.6"
  }
 },
 "nbformat": 4,
 "nbformat_minor": 5
}
