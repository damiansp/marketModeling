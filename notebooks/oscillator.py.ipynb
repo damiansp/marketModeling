{
 "cells": [
  {
   "cell_type": "code",
   "execution_count": 1,
   "metadata": {},
   "outputs": [],
   "source": [
    "from datetime import datetime\n",
    "\n",
    "import matplotlib.pyplot as plt\n",
    "import numpy as np\n",
    "import pandas as pd\n",
    "import yfinance as yf"
   ]
  },
  {
   "cell_type": "code",
   "execution_count": 2,
   "metadata": {},
   "outputs": [
    {
     "name": "stdout",
     "output_type": "stream",
     "text": [
      "[*********************100%***********************]  1 of 1 completed\n"
     ]
    },
    {
     "name": "stderr",
     "output_type": "stream",
     "text": [
      "/Library/Frameworks/Python.framework/Versions/3.8/lib/python3.8/site-packages/pandas/core/frame.py:4438: SettingWithCopyWarning: \n",
      "A value is trying to be set on a copy of a slice from a DataFrame\n",
      "\n",
      "See the caveats in the documentation: https://pandas.pydata.org/pandas-docs/stable/user_guide/indexing.html#returning-a-view-versus-a-copy\n",
      "  return super().rename(\n"
     ]
    },
    {
     "data": {
      "text/html": [
       "<div>\n",
       "<style scoped>\n",
       "    .dataframe tbody tr th:only-of-type {\n",
       "        vertical-align: middle;\n",
       "    }\n",
       "\n",
       "    .dataframe tbody tr th {\n",
       "        vertical-align: top;\n",
       "    }\n",
       "\n",
       "    .dataframe thead th {\n",
       "        text-align: right;\n",
       "    }\n",
       "</style>\n",
       "<table border=\"1\" class=\"dataframe\">\n",
       "  <thead>\n",
       "    <tr style=\"text-align: right;\">\n",
       "      <th></th>\n",
       "      <th>Date</th>\n",
       "      <th>Open</th>\n",
       "      <th>Close</th>\n",
       "      <th>Value</th>\n",
       "    </tr>\n",
       "  </thead>\n",
       "  <tbody>\n",
       "    <tr>\n",
       "      <th>17880</th>\n",
       "      <td>2021-01-25</td>\n",
       "      <td>3851.679932</td>\n",
       "      <td>3855.360107</td>\n",
       "      <td>3855.360107</td>\n",
       "    </tr>\n",
       "    <tr>\n",
       "      <th>17881</th>\n",
       "      <td>2021-01-26</td>\n",
       "      <td>3862.959961</td>\n",
       "      <td>3849.620117</td>\n",
       "      <td>3849.620117</td>\n",
       "    </tr>\n",
       "    <tr>\n",
       "      <th>17882</th>\n",
       "      <td>2021-01-27</td>\n",
       "      <td>3836.830078</td>\n",
       "      <td>3750.770020</td>\n",
       "      <td>3750.770020</td>\n",
       "    </tr>\n",
       "    <tr>\n",
       "      <th>17883</th>\n",
       "      <td>2021-01-28</td>\n",
       "      <td>3755.750000</td>\n",
       "      <td>3787.379883</td>\n",
       "      <td>3787.379883</td>\n",
       "    </tr>\n",
       "    <tr>\n",
       "      <th>17884</th>\n",
       "      <td>2021-01-29</td>\n",
       "      <td>3778.050049</td>\n",
       "      <td>3714.239990</td>\n",
       "      <td>3714.239990</td>\n",
       "    </tr>\n",
       "  </tbody>\n",
       "</table>\n",
       "</div>"
      ],
      "text/plain": [
       "            Date         Open        Close        Value\n",
       "17880 2021-01-25  3851.679932  3855.360107  3855.360107\n",
       "17881 2021-01-26  3862.959961  3849.620117  3849.620117\n",
       "17882 2021-01-27  3836.830078  3750.770020  3750.770020\n",
       "17883 2021-01-28  3755.750000  3787.379883  3787.379883\n",
       "17884 2021-01-29  3778.050049  3714.239990  3714.239990"
      ]
     },
     "execution_count": 2,
     "metadata": {},
     "output_type": "execute_result"
    }
   ],
   "source": [
    "TICKER = '^GSPC'\n",
    "df = yf.download(TICKER, start='1950-01-01')\n",
    "df['Date'] = df.index\n",
    "df = df[['Date', 'Open', 'Close', 'Adj Close']]\n",
    "df.rename(columns={'Adj Close': 'Value'}, inplace=True)\n",
    "df.index = range(df.shape[0])\n",
    "df.tail()"
   ]
  },
  {
   "cell_type": "code",
   "execution_count": 3,
   "metadata": {},
   "outputs": [
    {
     "name": "stderr",
     "output_type": "stream",
     "text": [
      "/Library/Frameworks/Python.framework/Versions/3.8/lib/python3.8/site-packages/pandas/core/indexing.py:1719: SettingWithCopyWarning: \n",
      "A value is trying to be set on a copy of a slice from a DataFrame.\n",
      "Try using .loc[row_indexer,col_indexer] = value instead\n",
      "\n",
      "See the caveats in the documentation: https://pandas.pydata.org/pandas-docs/stable/user_guide/indexing.html#returning-a-view-versus-a-copy\n",
      "  self._setitem_single_column(loc, value, pi)\n"
     ]
    },
    {
     "data": {
      "text/plain": [
       "(16.65999984741211, 16.65999984741211)"
      ]
     },
     "execution_count": 3,
     "metadata": {},
     "output_type": "execute_result"
    }
   ],
   "source": [
    "if df.Open.min() == 0:\n",
    "    for i in range(1, df.shape[0]):\n",
    "        if df.loc[i, 'Open'] == 0:\n",
    "            df.loc[i, 'Open'] = df.loc[i - 1, 'Close']\n",
    "            \n",
    "df.Open.min(), df.Close.min()"
   ]
  },
  {
   "cell_type": "code",
   "execution_count": 4,
   "metadata": {},
   "outputs": [
    {
     "name": "stderr",
     "output_type": "stream",
     "text": [
      "<ipython-input-4-3c73c5ada8cd>:1: SettingWithCopyWarning: \n",
      "A value is trying to be set on a copy of a slice from a DataFrame.\n",
      "Try using .loc[row_indexer,col_indexer] = value instead\n",
      "\n",
      "See the caveats in the documentation: https://pandas.pydata.org/pandas-docs/stable/user_guide/indexing.html#returning-a-view-versus-a-copy\n",
      "  df['IntradayChange'] = df['Close'] / df['Open']\n",
      "<ipython-input-4-3c73c5ada8cd>:2: SettingWithCopyWarning: \n",
      "A value is trying to be set on a copy of a slice from a DataFrame.\n",
      "Try using .loc[row_indexer,col_indexer] = value instead\n",
      "\n",
      "See the caveats in the documentation: https://pandas.pydata.org/pandas-docs/stable/user_guide/indexing.html#returning-a-view-versus-a-copy\n",
      "  df['DayToDayChange'] = np.nan\n"
     ]
    },
    {
     "data": {
      "text/html": [
       "<div>\n",
       "<style scoped>\n",
       "    .dataframe tbody tr th:only-of-type {\n",
       "        vertical-align: middle;\n",
       "    }\n",
       "\n",
       "    .dataframe tbody tr th {\n",
       "        vertical-align: top;\n",
       "    }\n",
       "\n",
       "    .dataframe thead th {\n",
       "        text-align: right;\n",
       "    }\n",
       "</style>\n",
       "<table border=\"1\" class=\"dataframe\">\n",
       "  <thead>\n",
       "    <tr style=\"text-align: right;\">\n",
       "      <th></th>\n",
       "      <th>Date</th>\n",
       "      <th>Open</th>\n",
       "      <th>Close</th>\n",
       "      <th>Value</th>\n",
       "      <th>IntradayChange</th>\n",
       "      <th>DayToDayChange</th>\n",
       "      <th>OvernightChange</th>\n",
       "    </tr>\n",
       "  </thead>\n",
       "  <tbody>\n",
       "    <tr>\n",
       "      <th>17880</th>\n",
       "      <td>2021-01-25</td>\n",
       "      <td>3851.679932</td>\n",
       "      <td>3855.360107</td>\n",
       "      <td>3855.360107</td>\n",
       "      <td>1.000955</td>\n",
       "      <td>1.003616</td>\n",
       "      <td>1.002658</td>\n",
       "    </tr>\n",
       "    <tr>\n",
       "      <th>17881</th>\n",
       "      <td>2021-01-26</td>\n",
       "      <td>3862.959961</td>\n",
       "      <td>3849.620117</td>\n",
       "      <td>3849.620117</td>\n",
       "      <td>0.996547</td>\n",
       "      <td>0.998511</td>\n",
       "      <td>1.001971</td>\n",
       "    </tr>\n",
       "    <tr>\n",
       "      <th>17882</th>\n",
       "      <td>2021-01-27</td>\n",
       "      <td>3836.830078</td>\n",
       "      <td>3750.770020</td>\n",
       "      <td>3750.770020</td>\n",
       "      <td>0.977570</td>\n",
       "      <td>0.974322</td>\n",
       "      <td>0.996678</td>\n",
       "    </tr>\n",
       "    <tr>\n",
       "      <th>17883</th>\n",
       "      <td>2021-01-28</td>\n",
       "      <td>3755.750000</td>\n",
       "      <td>3787.379883</td>\n",
       "      <td>3787.379883</td>\n",
       "      <td>1.008422</td>\n",
       "      <td>1.009761</td>\n",
       "      <td>1.001328</td>\n",
       "    </tr>\n",
       "    <tr>\n",
       "      <th>17884</th>\n",
       "      <td>2021-01-29</td>\n",
       "      <td>3778.050049</td>\n",
       "      <td>3714.239990</td>\n",
       "      <td>3714.239990</td>\n",
       "      <td>0.983110</td>\n",
       "      <td>0.980689</td>\n",
       "      <td>0.997537</td>\n",
       "    </tr>\n",
       "  </tbody>\n",
       "</table>\n",
       "</div>"
      ],
      "text/plain": [
       "            Date         Open        Close        Value  IntradayChange  \\\n",
       "17880 2021-01-25  3851.679932  3855.360107  3855.360107        1.000955   \n",
       "17881 2021-01-26  3862.959961  3849.620117  3849.620117        0.996547   \n",
       "17882 2021-01-27  3836.830078  3750.770020  3750.770020        0.977570   \n",
       "17883 2021-01-28  3755.750000  3787.379883  3787.379883        1.008422   \n",
       "17884 2021-01-29  3778.050049  3714.239990  3714.239990        0.983110   \n",
       "\n",
       "       DayToDayChange  OvernightChange  \n",
       "17880        1.003616         1.002658  \n",
       "17881        0.998511         1.001971  \n",
       "17882        0.974322         0.996678  \n",
       "17883        1.009761         1.001328  \n",
       "17884        0.980689         0.997537  "
      ]
     },
     "execution_count": 4,
     "metadata": {},
     "output_type": "execute_result"
    }
   ],
   "source": [
    "df['IntradayChange'] = df['Close'] / df['Open']\n",
    "df['DayToDayChange'] = np.nan\n",
    "df['OvernightChange'] = np.nan\n",
    "for day in range(1, df.shape[0]):\n",
    "    df.loc[day, 'DayToDayChange'] = (df.loc[day, 'Value'] \n",
    "                                     / df.loc[day - 1, 'Value'])\n",
    "    df.loc[day, 'OvernightChange'] = (df.loc[day, 'Open'] \n",
    "                                      / df.loc[day - 1, 'Close'])\n",
    "df.tail()"
   ]
  },
  {
   "cell_type": "code",
   "execution_count": 5,
   "metadata": {},
   "outputs": [
    {
     "data": {
      "image/png": "[encoded data removed]",
      "text/plain": [
       "<Figure size 432x288 with 1 Axes>"
      ]
     },
     "metadata": {
      "needs_background": "light"
     },
     "output_type": "display_data"
    }
   ],
   "source": [
    "plt.plot(df.Date, df.IntradayChange, alpha=0.4, label='intraday')\n",
    "plt.plot(df.Date, df.DayToDayChange, alpha=0.4, label='day-to-day')\n",
    "plt.plot(df.Date, df.OvernightChange, alpha=0.4, label='overnight')\n",
    "plt.legend();"
   ]
  },
  {
   "cell_type": "code",
   "execution_count": 15,
   "metadata": {},
   "outputs": [
    {
     "data": {
      "text/html": [
       "<div>\n",
       "<style scoped>\n",
       "    .dataframe tbody tr th:only-of-type {\n",
       "        vertical-align: middle;\n",
       "    }\n",
       "\n",
       "    .dataframe tbody tr th {\n",
       "        vertical-align: top;\n",
       "    }\n",
       "\n",
       "    .dataframe thead th {\n",
       "        text-align: right;\n",
       "    }\n",
       "</style>\n",
       "<table border=\"1\" class=\"dataframe\">\n",
       "  <thead>\n",
       "    <tr style=\"text-align: right;\">\n",
       "      <th></th>\n",
       "      <th>Date</th>\n",
       "      <th>Open</th>\n",
       "      <th>Close</th>\n",
       "      <th>Value</th>\n",
       "      <th>IntradayChange</th>\n",
       "      <th>DayToDayChange</th>\n",
       "      <th>OvernightChange</th>\n",
       "      <th>LogValue</th>\n",
       "    </tr>\n",
       "    <tr>\n",
       "      <th>Date</th>\n",
       "      <th></th>\n",
       "      <th></th>\n",
       "      <th></th>\n",
       "      <th></th>\n",
       "      <th></th>\n",
       "      <th></th>\n",
       "      <th></th>\n",
       "      <th></th>\n",
       "    </tr>\n",
       "  </thead>\n",
       "  <tbody>\n",
       "    <tr>\n",
       "      <th>2021-01-25</th>\n",
       "      <td>2021-01-25</td>\n",
       "      <td>3851.679932</td>\n",
       "      <td>3855.360107</td>\n",
       "      <td>3855.360107</td>\n",
       "      <td>1.000955</td>\n",
       "      <td>1.003616</td>\n",
       "      <td>1.002658</td>\n",
       "      <td>8.257220</td>\n",
       "    </tr>\n",
       "    <tr>\n",
       "      <th>2021-01-26</th>\n",
       "      <td>2021-01-26</td>\n",
       "      <td>3862.959961</td>\n",
       "      <td>3849.620117</td>\n",
       "      <td>3849.620117</td>\n",
       "      <td>0.996547</td>\n",
       "      <td>0.998511</td>\n",
       "      <td>1.001971</td>\n",
       "      <td>8.255730</td>\n",
       "    </tr>\n",
       "    <tr>\n",
       "      <th>2021-01-27</th>\n",
       "      <td>2021-01-27</td>\n",
       "      <td>3836.830078</td>\n",
       "      <td>3750.770020</td>\n",
       "      <td>3750.770020</td>\n",
       "      <td>0.977570</td>\n",
       "      <td>0.974322</td>\n",
       "      <td>0.996678</td>\n",
       "      <td>8.229716</td>\n",
       "    </tr>\n",
       "    <tr>\n",
       "      <th>2021-01-28</th>\n",
       "      <td>2021-01-28</td>\n",
       "      <td>3755.750000</td>\n",
       "      <td>3787.379883</td>\n",
       "      <td>3787.379883</td>\n",
       "      <td>1.008422</td>\n",
       "      <td>1.009761</td>\n",
       "      <td>1.001328</td>\n",
       "      <td>8.239430</td>\n",
       "    </tr>\n",
       "    <tr>\n",
       "      <th>2021-01-29</th>\n",
       "      <td>2021-01-29</td>\n",
       "      <td>3778.050049</td>\n",
       "      <td>3714.239990</td>\n",
       "      <td>3714.239990</td>\n",
       "      <td>0.983110</td>\n",
       "      <td>0.980689</td>\n",
       "      <td>0.997537</td>\n",
       "      <td>8.219929</td>\n",
       "    </tr>\n",
       "  </tbody>\n",
       "</table>\n",
       "</div>"
      ],
      "text/plain": [
       "                 Date         Open        Close        Value  IntradayChange  \\\n",
       "Date                                                                           \n",
       "2021-01-25 2021-01-25  3851.679932  3855.360107  3855.360107        1.000955   \n",
       "2021-01-26 2021-01-26  3862.959961  3849.620117  3849.620117        0.996547   \n",
       "2021-01-27 2021-01-27  3836.830078  3750.770020  3750.770020        0.977570   \n",
       "2021-01-28 2021-01-28  3755.750000  3787.379883  3787.379883        1.008422   \n",
       "2021-01-29 2021-01-29  3778.050049  3714.239990  3714.239990        0.983110   \n",
       "\n",
       "            DayToDayChange  OvernightChange  LogValue  \n",
       "Date                                                   \n",
       "2021-01-25        1.003616         1.002658  8.257220  \n",
       "2021-01-26        0.998511         1.001971  8.255730  \n",
       "2021-01-27        0.974322         0.996678  8.229716  \n",
       "2021-01-28        1.009761         1.001328  8.239430  \n",
       "2021-01-29        0.980689         0.997537  8.219929  "
      ]
     },
     "execution_count": 15,
     "metadata": {},
     "output_type": "execute_result"
    }
   ],
   "source": [
    "START_DATE = df.loc[0,  'Date']\n",
    "print(START_DATE)\n",
    "df['LogValue'] = np.log(df.Value)\n",
    "df.tail()"
   ]
  },
  {
   "cell_type": "code",
   "execution_count": 78,
   "metadata": {},
   "outputs": [
    {
     "data": {
      "image/png": "[encoded data removed]",
      "text/plain": [
       "<Figure size 432x288 with 1 Axes>"
      ]
     },
     "metadata": {
      "needs_background": "light"
     },
     "output_type": "display_data"
    }
   ],
   "source": [
    "plt.plot(df.Value)\n",
    "plt.yscale('log');"
   ]
  },
  {
   "cell_type": "code",
   "execution_count": 12,
   "metadata": {},
   "outputs": [
    {
     "data": {
      "text/plain": [
       "datetime.date(2021, 1, 30)"
      ]
     },
     "execution_count": 12,
     "metadata": {},
     "output_type": "execute_result"
    }
   ],
   "source": [
    "df.index = df.Date\n",
    "TODAY = datetime.now().date()\n",
    "TODAY"
   ]
  },
  {
   "cell_type": "code",
   "execution_count": 62,
   "metadata": {},
   "outputs": [],
   "source": [
    "def get_macd(prices, fast=75, slow=155, sig=35, dirline=70, plot=False, daterange=None):\n",
    "    n = len(prices)\n",
    "    ema_fast = prices.ewm(span=fast).mean()\n",
    "    ema_slow = prices.ewm(span=slow).mean()\n",
    "    macd = ema_fast - ema_slow\n",
    "    signal = macd.ewm(span=sig).mean()\n",
    "    histo = macd - signal\n",
    "    direction = histo.copy().tolist()\n",
    "    direction[0] = 0\n",
    "    for i in range(1, n):\n",
    "        direction[i] = 1 * (histo[i] > histo[i - 1])\n",
    "    direction = pd.Series(direction, index=histo.index)\n",
    "    if plot:\n",
    "        plt.figure()\n",
    "        plt.plot(macd, 'k-', label='macd')\n",
    "        plt.plot(signal, 'r-', label='signal')\n",
    "        plt.plot(histo, 'b-', label='histo')\n",
    "        plt.axhline(0, color='grey')\n",
    "        plt.plot(direction * dirline, color='#008800', alpha=0.6)\n",
    "        plt.legend()\n",
    "    if daterange is not None:\n",
    "        plt.xlim([pd.to_datetime(x) for x in daterange])\n",
    "    if plot:\n",
    "        plt.show()\n",
    "    df = pd.DataFrame({'histo': histo, 'direction': direction})\n",
    "    df.index = range(n)\n",
    "    df['Actions'] = 'none'\n",
    "    for i in range(2, df.shape[0]):\n",
    "        last_two = tuple(df.loc[i - 2:i - 1, 'direction'])\n",
    "        df.loc[i, 'Actions'] = {\n",
    "            (0, 0): 'none',\n",
    "            (0, 1): 'buy',\n",
    "            (1, 0): 'sell',\n",
    "            (1, 1): 'hold'\n",
    "        }[last_two]\n",
    "    df.index = prices.index\n",
    "    return df"
   ]
  },
  {
   "cell_type": "code",
   "execution_count": 63,
   "metadata": {},
   "outputs": [],
   "source": [
    "#test = get_macd(df.Value, 60, 90, 80, plot=True, daterange=['2020-01-01', TODAY])\n",
    "#test.head()"
   ]
  },
  {
   "cell_type": "code",
   "execution_count": 64,
   "metadata": {},
   "outputs": [],
   "source": [
    "def hist_model(hist, data):\n",
    "    df = pd.concat([data.copy(), hist], axis=1)\n",
    "    n = df.shape[0]\n",
    "    df.index = range(n)\n",
    "    df['Model'] = 1\n",
    "    for i in range(1, n):\n",
    "        row = df.loc[i, :]\n",
    "        action = row.Actions\n",
    "        multiplier = {\n",
    "            'none': 1,\n",
    "            'buy': row.IntradayChange,\n",
    "            'hold': row.DayToDayChange,\n",
    "            'sell': row.OvernightChange\n",
    "        }[action]\n",
    "        df.loc[i, 'Model'] = df.loc[i - 1, 'Model'] * multiplier\n",
    "    return df"
   ]
  },
  {
   "cell_type": "code",
   "execution_count": 84,
   "metadata": {},
   "outputs": [],
   "source": [
    "def run_test(params, df, plot=True, lim=0):\n",
    "    data = df.copy()\n",
    "    fast, slow, signal = params\n",
    "    macd_histo = get_macd(data.Value, \n",
    "                          fast=fast, \n",
    "                          slow=slow, \n",
    "                          sig=signal, \n",
    "                          plot=False)\n",
    "    mod_df = hist_model(macd_histo, data)\n",
    "    result = mod_df.Model[mod_df.index.max()]\n",
    "    if plot and result > lim:\n",
    "        plt.figure(figsize=(12, 6))\n",
    "        plt.plot(mod_df.Model, label='model')\n",
    "        plt.plot(mod_df.Value / mod_df.loc[mod_df.index.min(), 'Value'], label='market')\n",
    "        plt.yscale('log')\n",
    "        plt.legend()\n",
    "        plt.show()\n",
    "    return result"
   ]
  },
  {
   "cell_type": "code",
   "execution_count": 71,
   "metadata": {},
   "outputs": [],
   "source": [
    "BEST_RESULT = 224.1568397258889\n",
    "BEST_PARAMS = [5, 10, 10]"
   ]
  },
  {
   "cell_type": "code",
   "execution_count": 77,
   "metadata": {},
   "outputs": [
    {
     "name": "stdout",
     "output_type": "stream",
     "text": [
      "Running with params: (5, 40, 5))\r"
     ]
    },
    {
     "data": {
      "image/png": "[encoded data removed]",
      "text/plain": [
       "<Figure size 864x432 with 1 Axes>"
      ]
     },
     "metadata": {
      "needs_background": "light"
     },
     "output_type": "display_data"
    },
    {
     "name": "stdout",
     "output_type": "stream",
     "text": [
      "New Best Result: 290.96732497829197\n",
      "Params:\n",
      "  fast: 5\n",
      "  slow: 40\n",
      "  signal: 5\n",
      "Update BEST values.\n",
      "Current best: 290.96732497829197)\n",
      "Current best params: [5, 40, 5]\n"
     ]
    }
   ],
   "source": [
    "best_result = BEST_RESULT\n",
    "best_params = BEST_PARAMS\n",
    "param_set = [5, 10, 20, 40, 80]\n",
    "for fast in param_set:\n",
    "    for slow in param_set:\n",
    "        for signal in param_set:\n",
    "            if fast == slow:\n",
    "                continue\n",
    "            print(f'Running with params: ({fast}, {slow}, {signal})', end='\\r')\n",
    "            params = [fast, slow, signal]\n",
    "            result = run_test(params, df, lim=best_result)\n",
    "            if result > best_result:\n",
    "                print('New Best Result:', result)\n",
    "                print(f'Params:\\n  fast: {fast}\\n  slow: {slow}\\n  signal: {signal}')\n",
    "                print('Update BEST values.')\n",
    "                best_result = result\n",
    "                best_params = params\n",
    "print('Current best:', best_result)\n",
    "print('Current best params:', best_params) "
   ]
  },
  {
   "cell_type": "markdown",
   "metadata": {},
   "source": [
    "# Recent Data Only"
   ]
  },
  {
   "cell_type": "code",
   "execution_count": 104,
   "metadata": {},
   "outputs": [],
   "source": [
    "#     Current best: 11.929100006695842\n",
    "#     Current best params: [50, 3, 120]\n",
    "\n",
    "BEST_RESULT = 11.929100006695842\n",
    "BEST_PARAMS = [50, 3, 120]"
   ]
  },
  {
   "cell_type": "code",
   "execution_count": 105,
   "metadata": {},
   "outputs": [
    {
     "data": {
      "text/html": [
       "<div>\n",
       "<style scoped>\n",
       "    .dataframe tbody tr th:only-of-type {\n",
       "        vertical-align: middle;\n",
       "    }\n",
       "\n",
       "    .dataframe tbody tr th {\n",
       "        vertical-align: top;\n",
       "    }\n",
       "\n",
       "    .dataframe thead th {\n",
       "        text-align: right;\n",
       "    }\n",
       "</style>\n",
       "<table border=\"1\" class=\"dataframe\">\n",
       "  <thead>\n",
       "    <tr style=\"text-align: right;\">\n",
       "      <th></th>\n",
       "      <th>Date</th>\n",
       "      <th>Open</th>\n",
       "      <th>Close</th>\n",
       "      <th>Value</th>\n",
       "      <th>IntradayChange</th>\n",
       "      <th>DayToDayChange</th>\n",
       "      <th>OvernightChange</th>\n",
       "      <th>LogValue</th>\n",
       "    </tr>\n",
       "    <tr>\n",
       "      <th>Date</th>\n",
       "      <th></th>\n",
       "      <th></th>\n",
       "      <th></th>\n",
       "      <th></th>\n",
       "      <th></th>\n",
       "      <th></th>\n",
       "      <th></th>\n",
       "      <th></th>\n",
       "    </tr>\n",
       "  </thead>\n",
       "  <tbody>\n",
       "    <tr>\n",
       "      <th>1995-01-03</th>\n",
       "      <td>1995-01-03</td>\n",
       "      <td>459.209991</td>\n",
       "      <td>459.109985</td>\n",
       "      <td>459.109985</td>\n",
       "      <td>0.999782</td>\n",
       "      <td>0.999652</td>\n",
       "      <td>0.999869</td>\n",
       "      <td>6.129290</td>\n",
       "    </tr>\n",
       "    <tr>\n",
       "      <th>1995-01-04</th>\n",
       "      <td>1995-01-04</td>\n",
       "      <td>459.130005</td>\n",
       "      <td>460.709991</td>\n",
       "      <td>460.709991</td>\n",
       "      <td>1.003441</td>\n",
       "      <td>1.003485</td>\n",
       "      <td>1.000044</td>\n",
       "      <td>6.132769</td>\n",
       "    </tr>\n",
       "    <tr>\n",
       "      <th>1995-01-05</th>\n",
       "      <td>1995-01-05</td>\n",
       "      <td>460.730011</td>\n",
       "      <td>460.339996</td>\n",
       "      <td>460.339996</td>\n",
       "      <td>0.999153</td>\n",
       "      <td>0.999197</td>\n",
       "      <td>1.000043</td>\n",
       "      <td>6.131965</td>\n",
       "    </tr>\n",
       "    <tr>\n",
       "      <th>1995-01-06</th>\n",
       "      <td>1995-01-06</td>\n",
       "      <td>460.380005</td>\n",
       "      <td>460.679993</td>\n",
       "      <td>460.679993</td>\n",
       "      <td>1.000652</td>\n",
       "      <td>1.000739</td>\n",
       "      <td>1.000087</td>\n",
       "      <td>6.132704</td>\n",
       "    </tr>\n",
       "    <tr>\n",
       "      <th>1995-01-09</th>\n",
       "      <td>1995-01-09</td>\n",
       "      <td>460.670013</td>\n",
       "      <td>460.829987</td>\n",
       "      <td>460.829987</td>\n",
       "      <td>1.000347</td>\n",
       "      <td>1.000326</td>\n",
       "      <td>0.999978</td>\n",
       "      <td>6.133029</td>\n",
       "    </tr>\n",
       "  </tbody>\n",
       "</table>\n",
       "</div>"
      ],
      "text/plain": [
       "                 Date        Open       Close       Value  IntradayChange  \\\n",
       "Date                                                                        \n",
       "1995-01-03 1995-01-03  459.209991  459.109985  459.109985        0.999782   \n",
       "1995-01-04 1995-01-04  459.130005  460.709991  460.709991        1.003441   \n",
       "1995-01-05 1995-01-05  460.730011  460.339996  460.339996        0.999153   \n",
       "1995-01-06 1995-01-06  460.380005  460.679993  460.679993        1.000652   \n",
       "1995-01-09 1995-01-09  460.670013  460.829987  460.829987        1.000347   \n",
       "\n",
       "            DayToDayChange  OvernightChange  LogValue  \n",
       "Date                                                   \n",
       "1995-01-03        0.999652         0.999869  6.129290  \n",
       "1995-01-04        1.003485         1.000044  6.132769  \n",
       "1995-01-05        0.999197         1.000043  6.131965  \n",
       "1995-01-06        1.000739         1.000087  6.132704  \n",
       "1995-01-09        1.000326         0.999978  6.133029  "
      ]
     },
     "execution_count": 105,
     "metadata": {},
     "output_type": "execute_result"
    }
   ],
   "source": [
    "recent = df.loc[df.Date >= pd.to_datetime('1995-01-01'), :]\n",
    "recent.head()"
   ]
  },
  {
   "cell_type": "code",
   "execution_count": 106,
   "metadata": {
    "scrolled": false
   },
   "outputs": [
    {
     "name": "stdout",
     "output_type": "stream",
     "text": [
      "New Best Result: 11.929100006695842\n",
      "Params:\n",
      "  fast: 50\n",
      "  slow: 3\n",
      "  signal: 120\n",
      "Update BEST values.\n",
      "Running with params: (51, 3, 115))\r"
     ]
    },
    {
     "data": {
      "image/png": "[encoded data removed]",
      "text/plain": [
       "<Figure size 864x432 with 1 Axes>"
      ]
     },
     "metadata": {
      "needs_background": "light"
     },
     "output_type": "display_data"
    },
    {
     "name": "stdout",
     "output_type": "stream",
     "text": [
      "New Best Result: 12.134767111544155\n",
      "Params:\n",
      "  fast: 51\n",
      "  slow: 3\n",
      "  signal: 115\n",
      "Update BEST values.\n",
      "#     Current best: 12.134767111544155\n",
      "#     Current best params: [51, 3, 115]\n"
     ]
    }
   ],
   "source": [
    "best_result = BEST_RESULT\n",
    "best_params = BEST_PARAMS\n",
    "\n",
    "for fast in [48, 49, 50, 51, 53]:\n",
    "    for slow in [3, 4, 8, 16, 32]:\n",
    "        for signal in [115, 118, 120, 140, 150]:\n",
    "            if fast == slow:\n",
    "                continue\n",
    "            print(f'Running with params: ({fast}, {slow}, {signal})', end='\\r')\n",
    "            params = [fast, slow, signal]\n",
    "            result = run_test(params, recent, lim=best_result - 1)\n",
    "            if result >= best_result:\n",
    "                print('New Best Result:', result)\n",
    "                print(f'Params:\\n  fast: {fast}\\n  slow: {slow}\\n  signal: {signal}')\n",
    "                print('Update BEST values.')\n",
    "                best_result = result\n",
    "                best_params = params\n",
    "print('#     Current best:', best_result)\n",
    "print('#     Current best params:', best_params) "
   ]
  },
  {
   "cell_type": "code",
   "execution_count": 107,
   "metadata": {},
   "outputs": [],
   "source": [
    "!say all done! --voice=Lekha"
   ]
  },
  {
   "cell_type": "markdown",
   "metadata": {},
   "source": [
    "# Last Decade Only"
   ]
  },
  {
   "cell_type": "code",
   "execution_count": 117,
   "metadata": {},
   "outputs": [],
   "source": [
    "#     BEST_RESULT = 2.5502572644799018\n",
    "#     BEST_PARAMS = [480, 135, 200]\n",
    "BEST_RESULT = 2.5502572644799018\n",
    "BEST_PARAMS = [480, 135, 200]"
   ]
  },
  {
   "cell_type": "code",
   "execution_count": 118,
   "metadata": {},
   "outputs": [
    {
     "data": {
      "text/html": [
       "<div>\n",
       "<style scoped>\n",
       "    .dataframe tbody tr th:only-of-type {\n",
       "        vertical-align: middle;\n",
       "    }\n",
       "\n",
       "    .dataframe tbody tr th {\n",
       "        vertical-align: top;\n",
       "    }\n",
       "\n",
       "    .dataframe thead th {\n",
       "        text-align: right;\n",
       "    }\n",
       "</style>\n",
       "<table border=\"1\" class=\"dataframe\">\n",
       "  <thead>\n",
       "    <tr style=\"text-align: right;\">\n",
       "      <th></th>\n",
       "      <th>Date</th>\n",
       "      <th>Open</th>\n",
       "      <th>Close</th>\n",
       "      <th>Value</th>\n",
       "      <th>IntradayChange</th>\n",
       "      <th>DayToDayChange</th>\n",
       "      <th>OvernightChange</th>\n",
       "      <th>LogValue</th>\n",
       "    </tr>\n",
       "    <tr>\n",
       "      <th>Date</th>\n",
       "      <th></th>\n",
       "      <th></th>\n",
       "      <th></th>\n",
       "      <th></th>\n",
       "      <th></th>\n",
       "      <th></th>\n",
       "      <th></th>\n",
       "      <th></th>\n",
       "    </tr>\n",
       "  </thead>\n",
       "  <tbody>\n",
       "    <tr>\n",
       "      <th>2011-01-03</th>\n",
       "      <td>2011-01-03</td>\n",
       "      <td>1257.619995</td>\n",
       "      <td>1271.869995</td>\n",
       "      <td>1271.869995</td>\n",
       "      <td>1.011331</td>\n",
       "      <td>1.011315</td>\n",
       "      <td>0.999984</td>\n",
       "      <td>7.148244</td>\n",
       "    </tr>\n",
       "    <tr>\n",
       "      <th>2011-01-04</th>\n",
       "      <td>2011-01-04</td>\n",
       "      <td>1272.949951</td>\n",
       "      <td>1270.199951</td>\n",
       "      <td>1270.199951</td>\n",
       "      <td>0.997840</td>\n",
       "      <td>0.998687</td>\n",
       "      <td>1.000849</td>\n",
       "      <td>7.146930</td>\n",
       "    </tr>\n",
       "    <tr>\n",
       "      <th>2011-01-05</th>\n",
       "      <td>2011-01-05</td>\n",
       "      <td>1268.780029</td>\n",
       "      <td>1276.560059</td>\n",
       "      <td>1276.560059</td>\n",
       "      <td>1.006132</td>\n",
       "      <td>1.005007</td>\n",
       "      <td>0.998882</td>\n",
       "      <td>7.151924</td>\n",
       "    </tr>\n",
       "    <tr>\n",
       "      <th>2011-01-06</th>\n",
       "      <td>2011-01-06</td>\n",
       "      <td>1276.290039</td>\n",
       "      <td>1273.849976</td>\n",
       "      <td>1273.849976</td>\n",
       "      <td>0.998088</td>\n",
       "      <td>0.997877</td>\n",
       "      <td>0.999788</td>\n",
       "      <td>7.149799</td>\n",
       "    </tr>\n",
       "    <tr>\n",
       "      <th>2011-01-07</th>\n",
       "      <td>2011-01-07</td>\n",
       "      <td>1274.410034</td>\n",
       "      <td>1271.500000</td>\n",
       "      <td>1271.500000</td>\n",
       "      <td>0.997717</td>\n",
       "      <td>0.998155</td>\n",
       "      <td>1.000440</td>\n",
       "      <td>7.147953</td>\n",
       "    </tr>\n",
       "  </tbody>\n",
       "</table>\n",
       "</div>"
      ],
      "text/plain": [
       "                 Date         Open        Close        Value  IntradayChange  \\\n",
       "Date                                                                           \n",
       "2011-01-03 2011-01-03  1257.619995  1271.869995  1271.869995        1.011331   \n",
       "2011-01-04 2011-01-04  1272.949951  1270.199951  1270.199951        0.997840   \n",
       "2011-01-05 2011-01-05  1268.780029  1276.560059  1276.560059        1.006132   \n",
       "2011-01-06 2011-01-06  1276.290039  1273.849976  1273.849976        0.998088   \n",
       "2011-01-07 2011-01-07  1274.410034  1271.500000  1271.500000        0.997717   \n",
       "\n",
       "            DayToDayChange  OvernightChange  LogValue  \n",
       "Date                                                   \n",
       "2011-01-03        1.011315         0.999984  7.148244  \n",
       "2011-01-04        0.998687         1.000849  7.146930  \n",
       "2011-01-05        1.005007         0.998882  7.151924  \n",
       "2011-01-06        0.997877         0.999788  7.149799  \n",
       "2011-01-07        0.998155         1.000440  7.147953  "
      ]
     },
     "execution_count": 118,
     "metadata": {},
     "output_type": "execute_result"
    }
   ],
   "source": [
    "recent = df.loc[df.Date >= pd.to_datetime('2011-01-01'), :]\n",
    "recent.head()"
   ]
  },
  {
   "cell_type": "code",
   "execution_count": 119,
   "metadata": {
    "scrolled": true
   },
   "outputs": [
    {
     "name": "stdout",
     "output_type": "stream",
     "text": [
      "New Best Result: 2.5502572644799018)\n",
      "Params:\n",
      "  fast: 480\n",
      "  slow: 135\n",
      "  signal: 200\n",
      "Update BEST values.\n",
      "#     BEST_RESULT = 2.5502572644799018\n",
      "#     BEST_PARAMS = [480, 135, 200]\n"
     ]
    }
   ],
   "source": [
    "best_result = BEST_RESULT\n",
    "best_params = BEST_PARAMS\n",
    "\n",
    "for fast in [420, 450, 480, 600, 720]:\n",
    "    for slow in [10, 113, 124, 135, 147, 158]:\n",
    "        for signal in [160, 180, 200, 220, 240]:\n",
    "            if fast == slow:\n",
    "                continue\n",
    "            print(f'Running with params: ({fast}, {slow}, {signal})', end='\\r')\n",
    "            params = [fast, slow, signal]\n",
    "            result = run_test(params, recent, lim=best_result)\n",
    "            if result >= best_result:\n",
    "                print('New Best Result:', result)\n",
    "                print(f'Params:\\n  fast: {fast}\\n  slow: {slow}\\n  signal: {signal}')\n",
    "                print('Update BEST values.')\n",
    "                best_result = result\n",
    "                best_params = params\n",
    "print('#     BEST_RESULT =', best_result)\n",
    "print('#     BEST_PARAMS =', best_params) "
   ]
  },
  {
   "cell_type": "code",
   "execution_count": null,
   "metadata": {},
   "outputs": [],
   "source": []
  },
  {
   "cell_type": "code",
   "execution_count": null,
   "metadata": {},
   "outputs": [],
   "source": []
  }
 ],
 "metadata": {
  "kernelspec": {
   "display_name": "Python 3",
   "language": "python",
   "name": "python3"
  },
  "language_info": {
   "codemirror_mode": {
    "name": "ipython",
    "version": 3
   },
   "file_extension": ".py",
   "mimetype": "text/x-python",
   "name": "python",
   "nbconvert_exporter": "python",
   "pygments_lexer": "ipython3",
   "version": "3.8.7"
  }
 },
 "nbformat": 4,
 "nbformat_minor": 4
}
