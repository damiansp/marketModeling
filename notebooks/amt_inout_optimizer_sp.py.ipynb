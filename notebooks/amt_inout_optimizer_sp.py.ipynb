{
 "cells": [
  {
   "cell_type": "code",
   "execution_count": 1,
   "id": "e1d21e3b",
   "metadata": {},
   "outputs": [
    {
     "name": "stdout",
     "output_type": "stream",
     "text": [
      "sent: <object object at 0x12bd7aa90>\n"
     ]
    }
   ],
   "source": [
    "import json\n",
    "import pickle\n",
    "import sys\n",
    "\n",
    "import matplotlib.pyplot as plt\n",
    "import numpy as np\n",
    "import pandas as pd\n",
    "\n",
    "sys.path.append('..')\n",
    "from utils.amt_inout import bounded_curve, bounded_sigmoid\n",
    "from utils.stock_loader import Loader"
   ]
  },
  {
   "cell_type": "code",
   "execution_count": 2,
   "id": "3d5fa9de",
   "metadata": {},
   "outputs": [
    {
     "name": "stdout",
     "output_type": "stream",
     "text": [
      "YF.download() has changed argument auto_adjust default to True\n"
     ]
    },
    {
     "name": "stderr",
     "output_type": "stream",
     "text": [
      "[*********************100%***********************]  1 of 1 completed\n"
     ]
    },
    {
     "name": "stdout",
     "output_type": "stream",
     "text": [
      "Generating derived columns...\n",
      "(15281, 9)\n"
     ]
    },
    {
     "data": {
      "text/html": [
       "<div>\n",
       "<style scoped>\n",
       "    .dataframe tbody tr th:only-of-type {\n",
       "        vertical-align: middle;\n",
       "    }\n",
       "\n",
       "    .dataframe tbody tr th {\n",
       "        vertical-align: top;\n",
       "    }\n",
       "\n",
       "    .dataframe thead th {\n",
       "        text-align: right;\n",
       "    }\n",
       "</style>\n",
       "<table border=\"1\" class=\"dataframe\">\n",
       "  <thead>\n",
       "    <tr style=\"text-align: right;\">\n",
       "      <th></th>\n",
       "      <th>open</th>\n",
       "      <th>high</th>\n",
       "      <th>low</th>\n",
       "      <th>close</th>\n",
       "      <th>value</th>\n",
       "      <th>logval</th>\n",
       "      <th>intraday_change</th>\n",
       "      <th>day_to_day_change</th>\n",
       "      <th>overnight_change</th>\n",
       "    </tr>\n",
       "    <tr>\n",
       "      <th>Date</th>\n",
       "      <th></th>\n",
       "      <th></th>\n",
       "      <th></th>\n",
       "      <th></th>\n",
       "      <th></th>\n",
       "      <th></th>\n",
       "      <th></th>\n",
       "      <th></th>\n",
       "      <th></th>\n",
       "    </tr>\n",
       "  </thead>\n",
       "  <tbody>\n",
       "    <tr>\n",
       "      <th>1965-01-04</th>\n",
       "      <td>84.230003</td>\n",
       "      <td>85.150002</td>\n",
       "      <td>83.769997</td>\n",
       "      <td>84.750000</td>\n",
       "      <td>84.230003</td>\n",
       "      <td>4.433551</td>\n",
       "      <td>0.993864</td>\n",
       "      <td>1.004749</td>\n",
       "      <td>1.0</td>\n",
       "    </tr>\n",
       "    <tr>\n",
       "      <th>1965-01-05</th>\n",
       "      <td>84.629997</td>\n",
       "      <td>85.019997</td>\n",
       "      <td>84.019997</td>\n",
       "      <td>84.230003</td>\n",
       "      <td>84.629997</td>\n",
       "      <td>4.438289</td>\n",
       "      <td>1.004749</td>\n",
       "      <td>1.003072</td>\n",
       "      <td>1.0</td>\n",
       "    </tr>\n",
       "    <tr>\n",
       "      <th>1965-01-06</th>\n",
       "      <td>84.889999</td>\n",
       "      <td>85.379997</td>\n",
       "      <td>84.449997</td>\n",
       "      <td>84.629997</td>\n",
       "      <td>84.889999</td>\n",
       "      <td>4.441356</td>\n",
       "      <td>1.003072</td>\n",
       "      <td>1.004359</td>\n",
       "      <td>1.0</td>\n",
       "    </tr>\n",
       "    <tr>\n",
       "      <th>1965-01-07</th>\n",
       "      <td>85.260002</td>\n",
       "      <td>85.620003</td>\n",
       "      <td>84.660004</td>\n",
       "      <td>84.889999</td>\n",
       "      <td>85.260002</td>\n",
       "      <td>4.445705</td>\n",
       "      <td>1.004359</td>\n",
       "      <td>1.001290</td>\n",
       "      <td>1.0</td>\n",
       "    </tr>\n",
       "    <tr>\n",
       "      <th>1965-01-08</th>\n",
       "      <td>85.370003</td>\n",
       "      <td>85.839996</td>\n",
       "      <td>84.910004</td>\n",
       "      <td>85.260002</td>\n",
       "      <td>85.370003</td>\n",
       "      <td>4.446995</td>\n",
       "      <td>1.001290</td>\n",
       "      <td>1.000351</td>\n",
       "      <td>1.0</td>\n",
       "    </tr>\n",
       "    <tr>\n",
       "      <th>1965-01-11</th>\n",
       "      <td>85.400002</td>\n",
       "      <td>85.809998</td>\n",
       "      <td>84.900002</td>\n",
       "      <td>85.370003</td>\n",
       "      <td>85.400002</td>\n",
       "      <td>4.447346</td>\n",
       "      <td>1.000351</td>\n",
       "      <td>1.002459</td>\n",
       "      <td>1.0</td>\n",
       "    </tr>\n",
       "    <tr>\n",
       "      <th>1965-01-12</th>\n",
       "      <td>85.610001</td>\n",
       "      <td>85.980003</td>\n",
       "      <td>85.129997</td>\n",
       "      <td>85.400002</td>\n",
       "      <td>85.610001</td>\n",
       "      <td>4.449802</td>\n",
       "      <td>1.002459</td>\n",
       "      <td>1.002687</td>\n",
       "      <td>1.0</td>\n",
       "    </tr>\n",
       "    <tr>\n",
       "      <th>1965-01-13</th>\n",
       "      <td>85.839996</td>\n",
       "      <td>86.269997</td>\n",
       "      <td>85.349998</td>\n",
       "      <td>85.610001</td>\n",
       "      <td>85.839996</td>\n",
       "      <td>4.452485</td>\n",
       "      <td>1.002687</td>\n",
       "      <td>1.000000</td>\n",
       "      <td>1.0</td>\n",
       "    </tr>\n",
       "    <tr>\n",
       "      <th>1965-01-14</th>\n",
       "      <td>85.839996</td>\n",
       "      <td>86.379997</td>\n",
       "      <td>85.410004</td>\n",
       "      <td>85.839996</td>\n",
       "      <td>85.839996</td>\n",
       "      <td>4.452485</td>\n",
       "      <td>1.000000</td>\n",
       "      <td>1.004310</td>\n",
       "      <td>1.0</td>\n",
       "    </tr>\n",
       "    <tr>\n",
       "      <th>1965-01-15</th>\n",
       "      <td>86.209999</td>\n",
       "      <td>86.519997</td>\n",
       "      <td>85.599998</td>\n",
       "      <td>85.839996</td>\n",
       "      <td>86.209999</td>\n",
       "      <td>4.456786</td>\n",
       "      <td>1.004310</td>\n",
       "      <td>1.003248</td>\n",
       "      <td>1.0</td>\n",
       "    </tr>\n",
       "  </tbody>\n",
       "</table>\n",
       "</div>"
      ],
      "text/plain": [
       "                 open       high        low      close      value    logval  \\\n",
       "Date                                                                          \n",
       "1965-01-04  84.230003  85.150002  83.769997  84.750000  84.230003  4.433551   \n",
       "1965-01-05  84.629997  85.019997  84.019997  84.230003  84.629997  4.438289   \n",
       "1965-01-06  84.889999  85.379997  84.449997  84.629997  84.889999  4.441356   \n",
       "1965-01-07  85.260002  85.620003  84.660004  84.889999  85.260002  4.445705   \n",
       "1965-01-08  85.370003  85.839996  84.910004  85.260002  85.370003  4.446995   \n",
       "1965-01-11  85.400002  85.809998  84.900002  85.370003  85.400002  4.447346   \n",
       "1965-01-12  85.610001  85.980003  85.129997  85.400002  85.610001  4.449802   \n",
       "1965-01-13  85.839996  86.269997  85.349998  85.610001  85.839996  4.452485   \n",
       "1965-01-14  85.839996  86.379997  85.410004  85.839996  85.839996  4.452485   \n",
       "1965-01-15  86.209999  86.519997  85.599998  85.839996  86.209999  4.456786   \n",
       "\n",
       "            intraday_change  day_to_day_change  overnight_change  \n",
       "Date                                                              \n",
       "1965-01-04         0.993864           1.004749               1.0  \n",
       "1965-01-05         1.004749           1.003072               1.0  \n",
       "1965-01-06         1.003072           1.004359               1.0  \n",
       "1965-01-07         1.004359           1.001290               1.0  \n",
       "1965-01-08         1.001290           1.000351               1.0  \n",
       "1965-01-11         1.000351           1.002459               1.0  \n",
       "1965-01-12         1.002459           1.002687               1.0  \n",
       "1965-01-13         1.002687           1.000000               1.0  \n",
       "1965-01-14         1.000000           1.004310               1.0  \n",
       "1965-01-15         1.004310           1.003248               1.0  "
      ]
     },
     "execution_count": 2,
     "metadata": {},
     "output_type": "execute_result"
    }
   ],
   "source": [
    "SYM = '^GSPC'  # S&P \n",
    "START = '1965-01-01'\n",
    "PARAM_PATH = '../data/inout_params.pkl'\n",
    "loader = Loader([SYM], START)\n",
    "df = loader.download()\n",
    "df.set_index('Date', drop=True, inplace=True)\n",
    "df.columns = [\n",
    "    'open', 'high', 'low', 'close', 'value', 'logval',\n",
    "    'intraday_change', 'day_to_day_change', 'overnight_change']\n",
    "df.logval.fillna(method='ffill')\n",
    "for adj in ['overnight_change', 'day_to_day_change']:\n",
    "    df[adj] = pd.Series(\n",
    "        np.concatenate([df[adj].values[1:], [np.nan]]), index=df.index)\n",
    "print(df.shape)\n",
    "df.head(10)"
   ]
  },
  {
   "cell_type": "code",
   "execution_count": 3,
   "id": "e51fe97c",
   "metadata": {},
   "outputs": [
    {
     "data": {
      "text/plain": [
       "Timestamp('1983-01-04 00:00:00+0000', tz='UTC')"
      ]
     },
     "execution_count": 3,
     "metadata": {},
     "output_type": "execute_result"
    }
   ],
   "source": [
    "SIM_START = pd.to_datetime('1983-01-04', utc=True)  # first day of legit open/close values\n",
    "SIM_START"
   ]
  },
  {
   "cell_type": "code",
   "execution_count": 4,
   "id": "94b24637",
   "metadata": {},
   "outputs": [],
   "source": [
    "def get_random_params():\n",
    "    k = np.random.uniform(1, 10)\n",
    "    if np.random.choice([True, False]):\n",
    "        k = 1/k\n",
    "    return {\n",
    "        'time_param': np.random.randint(5, 250),\n",
    "        'method':     np.random.choice(['ew', 'ma', 'linear_ma', 'linear']),\n",
    "        't':          np.random.uniform(0, 1),\n",
    "        'k':          k,\n",
    "        'as_q':       np.random.choice([True, False]),\n",
    "        'transform_f': np.random.choice(['bounded_curve', 'bounded_sigmoid'])}"
   ]
  },
  {
   "cell_type": "code",
   "execution_count": 5,
   "id": "fbc79dd1",
   "metadata": {},
   "outputs": [],
   "source": [
    "def tweak_best_params(params, factor=2, numeric_only=False):\n",
    "    '''A small factor should have values very close to current, larger\n",
    "    values allow wilder fluctuations'''\n",
    "    time = params['time_param']\n",
    "    upper = time * factor\n",
    "    diff = upper - time\n",
    "    time = np.random.randint(time - diff, upper)\n",
    "    time = min(max(5, time), 1000)\n",
    "    \n",
    "    method = params['method']\n",
    "    if not numeric_only:\n",
    "        meths = ['ew', 'ma', 'linear_ma', 'linear']\n",
    "        idx = meths.index(method)\n",
    "        ps = np.array([1, 1, 1, 1])\n",
    "        ps[idx] = factor\n",
    "        ps = ps / ps.sum()\n",
    "        method = np.random.choice(meths, p=ps)\n",
    "    \n",
    "    t = params['t']\n",
    "    sd = 1 - 1 / (factor/2 + 1)\n",
    "    t = min(max(np.random.normal(t, scale=sd), 0.001), 0.999)\n",
    "    \n",
    "    k = params['k']\n",
    "    upper = k * factor\n",
    "    diff = upper - k\n",
    "    k = np.random.uniform(k - diff, upper)\n",
    "    k = min(max(1/10, k), 10)\n",
    "    \n",
    "    as_q = params['as_q'] if numeric_only else np.random.choice([True, False]) \n",
    "    \n",
    "    current_transform = params['transform_f']\n",
    "    other_transform = 'bounded_curve' if current_transform == 'bounded_sigmoid' else 'bounded_sigmoid'\n",
    "    p_current = 1 / factor\n",
    "    transform_f = np.random.choice([current_transform, other_transform], p=[p_current, 1 - p_current])\n",
    "    return {\n",
    "        'time_param': time,\n",
    "        'method': method,\n",
    "        't': t,\n",
    "        'k': k,\n",
    "        'as_q': as_q,\n",
    "        'transform_f': transform_f}"
   ]
  },
  {
   "cell_type": "code",
   "execution_count": 6,
   "id": "c7296988",
   "metadata": {},
   "outputs": [],
   "source": [
    "def get_ma(series: pd.Series, time_param: float | int, method: str):\n",
    "    '''Calculate the moving average\n",
    "    Args:\n",
    "    - method: 'ew' | 'ma' | 'linear' | 'linear_ma'\n",
    "    - time_param:\n",
    "      - ew=True: (real) the halflife of the exponential weights (no. \n",
    "          of  time periods it takes for weight to drop from 1 to 0.5)\n",
    "      - ew=False: (int) the ma window, or number of days to average \n",
    "   over\n",
    "    '''\n",
    "    if method == 'ew':\n",
    "        trend = series.ewm(halflife=time_param, ignore_na=True).mean()\n",
    "    elif method == 'ma':\n",
    "        trend = series.rolling(window=int(time_param)).mean()\n",
    "    elif method.startswith('linear'):\n",
    "        trend = (series).rolling(window=int(time_param)).apply(lambda x: (x[-1] + x[0]) / 2)\n",
    "        if method == 'linear_ma':\n",
    "            trend = trend.rolling(window=int(time_param)).mean()\n",
    "        trend.fillna(method='bfill', inplace=True)\n",
    "    return trend"
   ]
  },
  {
   "cell_type": "code",
   "execution_count": 7,
   "id": "1a7b2c0a",
   "metadata": {},
   "outputs": [
    {
     "data": {
      "image/png": "[encoded data removed]",
      "text/plain": [
       "<Figure size 640x480 with 1 Axes>"
      ]
     },
     "metadata": {},
     "output_type": "display_data"
    },
    {
     "data": {
      "image/png": "[encoded data removed]",
      "text/plain": [
       "<Figure size 640x480 with 1 Axes>"
      ]
     },
     "metadata": {},
     "output_type": "display_data"
    },
    {
     "data": {
      "image/png": "[encoded data removed]",
      "text/plain": [
       "<Figure size 640x480 with 1 Axes>"
      ]
     },
     "metadata": {},
     "output_type": "display_data"
    },
    {
     "data": {
      "image/png": "[encoded data removed]",
      "text/plain": [
       "<Figure size 640x480 with 1 Axes>"
      ]
     },
     "metadata": {},
     "output_type": "display_data"
    }
   ],
   "source": [
    "for method in ['ew', 'ma', 'linear', 'linear_ma']:\n",
    "    plt.plot(get_ma(df.logval, 250, method))\n",
    "    plt.xlabel(method)\n",
    "    plt.show()"
   ]
  },
  {
   "cell_type": "code",
   "execution_count": 8,
   "id": "5507e8d2",
   "metadata": {},
   "outputs": [],
   "source": [
    "def get_trend_multiple(series, time_param, method, as_q):\n",
    "    'Get deviates (as quantiles) relative to trend'\n",
    "    trend = get_ma(series, time_param, method)\n",
    "    factor = series / trend\n",
    "    if as_q:\n",
    "        factor = factor.rank() / len(factor)\n",
    "    return factor"
   ]
  },
  {
   "cell_type": "code",
   "execution_count": 9,
   "id": "f337473c",
   "metadata": {},
   "outputs": [],
   "source": [
    "def rescale_minmax(series, mn=0, mx=1):\n",
    "    s = series.copy()\n",
    "    out_rng = mx - mn\n",
    "    obs_min = s.min()\n",
    "    s -= obs_min\n",
    "    obs_max = s.max()\n",
    "    s /= obs_max\n",
    "    s *= out_rng\n",
    "    s += mn\n",
    "    return s"
   ]
  },
  {
   "cell_type": "code",
   "execution_count": 10,
   "id": "3919ac0b",
   "metadata": {},
   "outputs": [],
   "source": [
    "def calculate_next_row(row):\n",
    "    invested = row.invested * row.overnight_change\n",
    "    total = invested + row.reserve\n",
    "    target_in = total * row.amt_in\n",
    "    diff = target_in - invested  # if diff+ buy; - sell\n",
    "    invested += diff\n",
    "    reserve = row.reserve - diff\n",
    "    invested *= row.day_to_day_change\n",
    "    return invested, reserve, invested + reserve"
   ]
  },
  {
   "cell_type": "code",
   "execution_count": 11,
   "id": "46e8a296",
   "metadata": {},
   "outputs": [],
   "source": [
    "def simulate(df, params):\n",
    "    df['trend_factor'] = rescale_minmax(\n",
    "        get_trend_multiple(\n",
    "            df.logval,\n",
    "            params['time_param'],\n",
    "            method=params['method'],\n",
    "            as_q=params['as_q']))\n",
    "    if params['transform_f'] == 'bounded_curve':\n",
    "        df['amt_in'] = bounded_curve(\n",
    "            df.trend_factor, params['t'], params['k'], 'down')\n",
    "    elif params['transform_f'] == 'bounded_sigmoid':\n",
    "        df['amt_in'] = bounded_sigmoid(\n",
    "            df.trend_factor, params['t'], params['k'], 'down')\n",
    "    df = df.loc[df.index >= str(SIM_START.date()), :].copy()\n",
    "    df['invested'] = np.nan\n",
    "    df['reserve'] = np.nan\n",
    "    df['total'] = np.nan\n",
    "    df['invested'][0] = df.amt_in[0]\n",
    "    df['reserve'][0] = 1 - df.amt_in[0]\n",
    "    df['total'][0] = 1\n",
    "    for i in range(len(df) - 1) :\n",
    "        row = df.iloc[i, :]\n",
    "        try:\n",
    "            nxt_idx = df.index[i + 1]\n",
    "            df.loc[nxt_idx, ['invested', 'reserve', 'total']] = (\n",
    "                calculate_next_row(row))\n",
    "        except IndexError:\n",
    "            break\n",
    "    return df"
   ]
  },
  {
   "cell_type": "code",
   "execution_count": 12,
   "id": "3620a082",
   "metadata": {},
   "outputs": [],
   "source": [
    "def run_simulation(\n",
    "        df, iters=100, current_best=None, best_params=None, \n",
    "        param_select='random', factor=2, numeric_only=False):\n",
    "    orig_df = df.copy()\n",
    "    do_nothing_res = orig_df.value[-1] / orig_df.loc[str(SIM_START.date()), 'value']\n",
    "    print('Do nothing res:', do_nothing_res)\n",
    "    if current_best is None:\n",
    "        current_best = 0\n",
    "    for i in range(iters):\n",
    "        print('Round', i + 1, end=': ')\n",
    "        if i == 0 and best_params is not None and param_select == 'random':\n",
    "            params = best_params  # rerun again on new data\n",
    "            current_best = 0 \n",
    "        elif param_select == 'random':\n",
    "            params = get_random_params()\n",
    "        else:\n",
    "            params = (\n",
    "                tweak_best_params(best_params, factor, numeric_only=numeric_only)\n",
    "                if best_params is not None else get_random_params())\n",
    "        df = simulate(orig_df.copy(), params)\n",
    "        final = df.total[-1]\n",
    "        print(final)\n",
    "        if np.isnan(final):\n",
    "            return df, params\n",
    "        if final > current_best:\n",
    "            current_best = final\n",
    "            best_params = params\n",
    "            print('New best:', current_best)\n",
    "            print(params)\n",
    "            plt.plot(df.total, label='best')\n",
    "            plt.plot(df.value / df.value[0], label='S&P')\n",
    "            plt.yscale('log')\n",
    "            plt.legend()\n",
    "            plt.show()\n",
    "    return current_best, best_params"
   ]
  },
  {
   "cell_type": "code",
   "execution_count": 13,
   "id": "8796e9bf",
   "metadata": {},
   "outputs": [
    {
     "data": {
      "text/plain": [
       "(153.5334678853263,\n",
       " {'time_param': 8,\n",
       "  'method': 'linear',\n",
       "  't': 0.899232316288312,\n",
       "  'k': 6.131663754172292,\n",
       "  'as_q': True,\n",
       "  'transform_f': 'bounded_sigmoid'})"
      ]
     },
     "execution_count": 13,
     "metadata": {},
     "output_type": "execute_result"
    }
   ],
   "source": [
    "with open(PARAM_PATH, 'rb') as f:\n",
    "    current_best, best_params = pickle.load(f)\n",
    "#if 'transform_f' not in best_params:\n",
    "#    best_params['transform_f'] = 'bounded_curve'\n",
    "    \n",
    "current_best, best_params"
   ]
  },
  {
   "cell_type": "code",
   "execution_count": 14,
   "id": "353d01f1",
   "metadata": {
    "scrolled": false
   },
   "outputs": [
    {
     "name": "stdout",
     "output_type": "stream",
     "text": [
      "Do nothing res: 47.14459418864229\n",
      "Round 1: 154.6410790763321\n",
      "New best: 154.6410790763321\n",
      "{'time_param': 8, 'method': 'linear', 't': 0.899232316288312, 'k': 6.131663754172292, 'as_q': True, 'transform_f': 'bounded_sigmoid'}\n"
     ]
    },
    {
     "data": {
      "image/png": "[encoded data removed]",
      "text/plain": [
       "<Figure size 640x480 with 1 Axes>"
      ]
     },
     "metadata": {},
     "output_type": "display_data"
    },
    {
     "name": "stdout",
     "output_type": "stream",
     "text": [
      "Round 2: 8.213758921189159\n",
      "Round 3: 1.7107405574262597\n",
      "Round 4: 10.575155039515472\n",
      "Round 5: 67.56508703794367\n",
      "Round 6: 18.14123501307639\n",
      "Round 7: 149.9471297447414\n",
      "Round 8: 95.95448124922724\n",
      "Round 9: 6.311441086694509\n",
      "Round 10: 91.05164731684026\n",
      "Round 11: 42.46707506113187\n",
      "Round 12: 59.43879681879709\n",
      "Round 13: 1.5850190772735702\n",
      "Round 14: 1.7685367514870267\n",
      "Round 15: 9.13279099677941\n",
      "Round 16: 85.29171233863727\n",
      "Round 17: 50.85857533775919\n",
      "Round 18: 22.644296083273645\n",
      "Round 19: 2.0846252440203905\n",
      "Round 20: 22.053297044026444\n",
      "Round 21: 70.08312942127449\n",
      "Round 22: 34.54733773666529\n",
      "Round 23: 2.0099300466954015\n",
      "Round 24: 2.021145363909049\n",
      "Round 25: 91.05724282016394\n",
      "Round 26: 9.814932237511957\n",
      "Round 27: 4.170175060261807\n",
      "Round 28: 1.5921032948810538\n",
      "Round 29: 2.6336713092639883\n",
      "Round 30: 1.095305315606346\n",
      "Round 31: 14.371532172330559\n",
      "Round 32: 91.05118681818476\n",
      "Round 33: 36.92260528023991\n",
      "Round 34: 1.8896299591194883\n",
      "Round 35: 92.16214294202784\n",
      "Round 36: 90.54495419027347\n",
      "Round 37: 8.401253743860266\n",
      "Round 38: 14.138200065917939\n",
      "Round 39: 2.8747563261655116\n",
      "Round 40: 9.361602033037116\n",
      "Round 41: 11.862343496558996\n",
      "Round 42: 8.220937626469363\n",
      "Round 43: 92.28983523744773\n",
      "Round 44: 9.509650839037473\n",
      "Round 45: 3.055955636355763\n",
      "Round 46: 7.771287841844585\n",
      "Round 47: 6.257438854799411\n",
      "Round 48: 50.274658431125985\n",
      "Round 49: 88.81991584477535\n",
      "Round 50: 68.61200395758934\n",
      "Round 51: 1.2563268110256358\n",
      "Round 52: 6.1120190153956315\n",
      "Round 53: 2.0161757334579993\n",
      "Round 54: 20.777426602552012\n",
      "Round 55: 18.82986993570706\n",
      "Round 56: 2.2163308228544816\n",
      "Round 57: 40.59970390179869\n",
      "Round 58: 83.33709582726087\n",
      "Round 59: 10.379201313257193\n",
      "Round 60: 1.5933433995106303\n",
      "Round 61: 51.705731921477316\n",
      "Round 62: 2.820280321565767\n",
      "Round 63: 16.25471419908812\n",
      "Round 64: 4.916599540314639\n",
      "Round 65: 78.41920697505027\n",
      "Round 66: 16.157228706571942\n",
      "Round 67: 13.580368883137549\n",
      "Round 68: 3.4547052968682657\n",
      "Round 69: 10.424609902763077\n",
      "Round 70: 1.750592135296811\n",
      "Round 71: 16.064900682300078\n",
      "Round 72: 1.825244582019793\n",
      "Round 73: 72.58525273619207\n",
      "Round 74: 94.30804412805485\n",
      "Round 75: 74.23789868086868\n",
      "Round 76: 1.2794414187772545\n",
      "Round 77: 18.845201556041793\n",
      "Round 78: 92.03524645630199\n",
      "Round 79: 31.181705185184796\n",
      "Round 80: 12.755391276201587\n",
      "Round 81: 15.712826491082449\n",
      "Round 82: 38.22491409477735\n",
      "Round 83: 92.41856799484738\n",
      "Round 84: 18.056487696802886\n",
      "Round 85: 13.752938390281177\n",
      "Round 86: 11.07100977106466\n",
      "Round 87: 2.794317884204983\n",
      "Round 88: 13.98604504876648\n",
      "Round 89: 53.770388567141595\n",
      "Round 90: 10.774299832884527\n",
      "Round 91: 39.39548526474609\n",
      "Round 92: 25.60302587927466\n",
      "Round 93: 15.899245761316351\n",
      "Round 94: 3.205900441916317\n",
      "Round 95: 1.2192029861016291\n",
      "Round 96: 10.044726132992626\n",
      "Round 97: 12.24659431240881\n",
      "Round 98: 49.19498040000943\n",
      "Round 99: 1.8120708730542416\n",
      "Round 100: 5.339763412527151\n"
     ]
    }
   ],
   "source": [
    "best_out, params_out = run_simulation(\n",
    "    df.copy(), current_best=current_best, best_params=best_params)"
   ]
  },
  {
   "cell_type": "code",
   "execution_count": null,
   "id": "7c1b2fd2",
   "metadata": {
    "scrolled": true
   },
   "outputs": [
    {
     "name": "stdout",
     "output_type": "stream",
     "text": [
      "Factor: 1.0625\n",
      "Do nothing res: 47.14459418864229\n",
      "Round 1: 109.6280373403595\n",
      "Round 2: 95.43559360057401\n",
      "Round 3: 112.38673998795777\n",
      "Round 4: "
     ]
    }
   ],
   "source": [
    "# initially [1/4, 1/2, 1, 2]\n",
    "for w in [16, 32, 64, 128]:  # bigger w -> smaller factor -> smaller changes\n",
    "    factor = 1 + (1/w)\n",
    "    print('Factor:', factor)\n",
    "    best_out, params_out = run_simulation(\n",
    "        df.copy(), \n",
    "        iters=10, \n",
    "        current_best=best_out, \n",
    "        best_params=params_out, \n",
    "        param_select='tweak',\n",
    "        factor=factor,  # closer to 1: small changes; bigger: bigger\n",
    "        numeric_only=True) \n",
    "    print()"
   ]
  },
  {
   "cell_type": "code",
   "execution_count": null,
   "id": "b92bcca7",
   "metadata": {},
   "outputs": [],
   "source": [
    "final_out = simulate(df, params_out)"
   ]
  },
  {
   "cell_type": "code",
   "execution_count": null,
   "id": "249328db",
   "metadata": {},
   "outputs": [],
   "source": [
    "amt_in = final_out['amt_in'][-1]\n",
    "amt_in"
   ]
  },
  {
   "cell_type": "code",
   "execution_count": null,
   "id": "fb61e5b8",
   "metadata": {},
   "outputs": [],
   "source": [
    "trend_fac = final_out['trend_factor'][-1]\n",
    "trend_fac"
   ]
  },
  {
   "cell_type": "code",
   "execution_count": null,
   "id": "bda58238",
   "metadata": {},
   "outputs": [],
   "source": [
    "params_out"
   ]
  },
  {
   "cell_type": "code",
   "execution_count": null,
   "id": "7e0037ba",
   "metadata": {},
   "outputs": [],
   "source": [
    "xs = np.linspace(0, 1, 101)\n",
    "if params_out['transform_f'] == 'bounded_curve':\n",
    "    ys = bounded_curve(xs, params_out['t'], params_out['k'], 'down')\n",
    "else:\n",
    "    ys = bounded_sigmoid(xs, params_out['t'], params_out['k'], 'down')\n",
    "plt.xlabel('Trend Factor (Normalized)')\n",
    "plt.ylabel('Percent Invested')\n",
    "plt.plot(xs, ys)\n",
    "plt.axhline(amt_in, color='r', alpha=0.7)\n",
    "plt.axvline(trend_fac, color='r', alpha=0.7);"
   ]
  },
  {
   "cell_type": "code",
   "execution_count": null,
   "id": "1c89aeb4",
   "metadata": {},
   "outputs": [],
   "source": [
    "plt.figure(figsize=(10, 10))\n",
    "plt.subplot(4, 1, 1)\n",
    "plt.plot(final_out.amt_in)\n",
    "plt.xlabel('Amount In')\n",
    "\n",
    "plt.subplot(4, 1, 2)\n",
    "plt.plot(final_out.trend_factor)\n",
    "plt.xlabel('Trend Factor')\n",
    "\n",
    "plt.subplot(4, 1, 3)\n",
    "plt.plot(final_out.logval / final_out.logval[0])\n",
    "plt.xlabel('S&P')\n",
    "plt.yscale('log')\n",
    "\n",
    "plt.subplot(4, 1, 4)\n",
    "plt.plot(final_out.total)\n",
    "plt.xlabel('Performance')\n",
    "plt.yscale('log')\n",
    "plt.tight_layout();"
   ]
  },
  {
   "cell_type": "code",
   "execution_count": null,
   "id": "f9e50896",
   "metadata": {},
   "outputs": [],
   "source": [
    "N = 500\n",
    "#plt.figure(figsize=(10, 10))\n",
    "#plt.subplot(4, 1, 1)\n",
    "#plt.plot(final_out.amt_in[:N])\n",
    "#plt.xlabel('Amount In')\n",
    "\n",
    "#plt.subplot(4, 1, 2)\n",
    "#plt.plot(final_out.trend_factor[:N])\n",
    "#plt.xlabel('Trend Factor')\n",
    "\n",
    "#plt.subplot(4, 1, 3)\n",
    "#plt.plot((final_out.logval / final_out.logval[0])[:N])\n",
    "#plt.xlabel('S&P')\n",
    "#plt.yscale('log')\n",
    "\n",
    "#plt.subplot(4, 1, 4)\n",
    "#plt.plot(final_out.total[:N])\n",
    "#plt.xlabel('Performance')\n",
    "#plt.yscale('log')\n",
    "#plt.tight_layout();"
   ]
  },
  {
   "cell_type": "code",
   "execution_count": null,
   "id": "f1042dc1",
   "metadata": {},
   "outputs": [],
   "source": [
    "plt.figure(figsize=(10, 10))\n",
    "plt.subplot(4, 1, 1)\n",
    "plt.plot(final_out.amt_in[-N:])\n",
    "plt.xlabel('Amount In')\n",
    "\n",
    "plt.subplot(4, 1, 2)\n",
    "plt.plot(final_out.trend_factor[-N:])\n",
    "plt.xlabel('Trend Factor')\n",
    "plt.axhline(y=0.2, color='k', alpha=0.8)\n",
    "plt.axhline(y=0.8, color='k', alpha=0.8)\n",
    "\n",
    "plt.subplot(4, 1, 3)\n",
    "plt.plot((final_out.logval / final_out.logval[0])[-N:])\n",
    "plt.xlabel('S&P')\n",
    "plt.yscale('log')\n",
    "\n",
    "plt.subplot(4, 1, 4)\n",
    "plt.plot(final_out.total[-N:])\n",
    "plt.xlabel('Performance')\n",
    "plt.yscale('log')\n",
    "plt.tight_layout();"
   ]
  },
  {
   "cell_type": "code",
   "execution_count": null,
   "id": "d16b7d97",
   "metadata": {},
   "outputs": [],
   "source": [
    "frac_in = round(final_out['amt_in'][-1], 4)\n",
    "frac_in"
   ]
  },
  {
   "cell_type": "code",
   "execution_count": null,
   "id": "1dc03c8e",
   "metadata": {},
   "outputs": [],
   "source": [
    "# n days\n",
    "n = (df.index >= str(SIM_START.date())).sum()\n",
    "# n years\n",
    "t = n / 250\n",
    "# amt at start\n",
    "p = df.loc[str(SIM_START.date()), 'value']\n",
    "amt = df.iloc[-1].value\n",
    "p, t, amt"
   ]
  },
  {
   "cell_type": "code",
   "execution_count": null,
   "id": "420bf15c",
   "metadata": {},
   "outputs": [],
   "source": [
    "# annualized rate of return\n",
    "r = best_out**(1/t) \n",
    "r - 1"
   ]
  },
  {
   "cell_type": "code",
   "execution_count": null,
   "id": "fb8b24aa",
   "metadata": {},
   "outputs": [],
   "source": [
    "with open('daily_params.json', 'r') as f_in:\n",
    "    j = json.load(f_in)\n",
    "    with open('daily_params.json', 'w') as f_out:\n",
    "        j['sp'] = [r, frac_in]\n",
    "        print(j)\n",
    "        json.dump(j, f_out)"
   ]
  },
  {
   "cell_type": "code",
   "execution_count": null,
   "id": "e4f54cab",
   "metadata": {},
   "outputs": [],
   "source": [
    "with open(PARAM_PATH, 'wb') as f:\n",
    "    pickle.dump([best_out, params_out], f)\n",
    "    \n",
    "best_out, params_out"
   ]
  },
  {
   "cell_type": "code",
   "execution_count": null,
   "id": "b5320e22",
   "metadata": {},
   "outputs": [],
   "source": []
  },
  {
   "cell_type": "code",
   "execution_count": null,
   "id": "1836ffbd",
   "metadata": {},
   "outputs": [],
   "source": []
  }
 ],
 "metadata": {
  "kernelspec": {
   "display_name": "Python 3 (ipykernel)",
   "language": "python",
   "name": "python3"
  },
  "language_info": {
   "codemirror_mode": {
    "name": "ipython",
    "version": 3
   },
   "file_extension": ".py",
   "mimetype": "text/x-python",
   "name": "python",
   "nbconvert_exporter": "python",
   "pygments_lexer": "ipython3",
   "version": "3.11.4"
  }
 },
 "nbformat": 4,
 "nbformat_minor": 5
}
