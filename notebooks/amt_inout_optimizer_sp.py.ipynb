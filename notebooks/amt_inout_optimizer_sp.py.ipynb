{
 "cells": [
  {
   "cell_type": "code",
   "execution_count": 1,
   "id": "e1d21e3b",
   "metadata": {},
   "outputs": [
    {
     "name": "stdout",
     "output_type": "stream",
     "text": [
      "sent: <object object at 0x12bac6a90>\n"
     ]
    }
   ],
   "source": [
    "import json\n",
    "import pickle\n",
    "import sys\n",
    "\n",
    "import matplotlib.pyplot as plt\n",
    "import numpy as np\n",
    "import pandas as pd\n",
    "\n",
    "sys.path.append('..')\n",
    "from utils.amt_inout import bounded_curve, bounded_sigmoid\n",
    "from utils.stock_loader import Loader"
   ]
  },
  {
   "cell_type": "code",
   "execution_count": 2,
   "id": "3d5fa9de",
   "metadata": {},
   "outputs": [
    {
     "name": "stdout",
     "output_type": "stream",
     "text": [
      "YF.download() has changed argument auto_adjust default to True\n"
     ]
    },
    {
     "name": "stderr",
     "output_type": "stream",
     "text": [
      "[*********************100%***********************]  1 of 1 completed\n"
     ]
    },
    {
     "name": "stdout",
     "output_type": "stream",
     "text": [
      "Generating derived columns...\n",
      "(15190, 9)\n"
     ]
    },
    {
     "data": {
      "text/html": [
       "<div>\n",
       "<style scoped>\n",
       "    .dataframe tbody tr th:only-of-type {\n",
       "        vertical-align: middle;\n",
       "    }\n",
       "\n",
       "    .dataframe tbody tr th {\n",
       "        vertical-align: top;\n",
       "    }\n",
       "\n",
       "    .dataframe thead th {\n",
       "        text-align: right;\n",
       "    }\n",
       "</style>\n",
       "<table border=\"1\" class=\"dataframe\">\n",
       "  <thead>\n",
       "    <tr style=\"text-align: right;\">\n",
       "      <th></th>\n",
       "      <th>open</th>\n",
       "      <th>high</th>\n",
       "      <th>low</th>\n",
       "      <th>close</th>\n",
       "      <th>value</th>\n",
       "      <th>logval</th>\n",
       "      <th>intraday_change</th>\n",
       "      <th>day_to_day_change</th>\n",
       "      <th>overnight_change</th>\n",
       "    </tr>\n",
       "    <tr>\n",
       "      <th>Date</th>\n",
       "      <th></th>\n",
       "      <th></th>\n",
       "      <th></th>\n",
       "      <th></th>\n",
       "      <th></th>\n",
       "      <th></th>\n",
       "      <th></th>\n",
       "      <th></th>\n",
       "      <th></th>\n",
       "    </tr>\n",
       "  </thead>\n",
       "  <tbody>\n",
       "    <tr>\n",
       "      <th>1965-01-04</th>\n",
       "      <td>84.230003</td>\n",
       "      <td>85.150002</td>\n",
       "      <td>83.769997</td>\n",
       "      <td>84.459999</td>\n",
       "      <td>84.230003</td>\n",
       "      <td>4.433551</td>\n",
       "      <td>0.997277</td>\n",
       "      <td>1.004749</td>\n",
       "      <td>1.004749</td>\n",
       "    </tr>\n",
       "    <tr>\n",
       "      <th>1965-01-05</th>\n",
       "      <td>84.629997</td>\n",
       "      <td>85.019997</td>\n",
       "      <td>84.019997</td>\n",
       "      <td>84.629997</td>\n",
       "      <td>84.629997</td>\n",
       "      <td>4.438289</td>\n",
       "      <td>1.000000</td>\n",
       "      <td>1.003072</td>\n",
       "      <td>1.003072</td>\n",
       "    </tr>\n",
       "    <tr>\n",
       "      <th>1965-01-06</th>\n",
       "      <td>84.889999</td>\n",
       "      <td>85.379997</td>\n",
       "      <td>84.449997</td>\n",
       "      <td>84.889999</td>\n",
       "      <td>84.889999</td>\n",
       "      <td>4.441356</td>\n",
       "      <td>1.000000</td>\n",
       "      <td>1.004359</td>\n",
       "      <td>1.004359</td>\n",
       "    </tr>\n",
       "    <tr>\n",
       "      <th>1965-01-07</th>\n",
       "      <td>85.260002</td>\n",
       "      <td>85.620003</td>\n",
       "      <td>84.660004</td>\n",
       "      <td>85.260002</td>\n",
       "      <td>85.260002</td>\n",
       "      <td>4.445705</td>\n",
       "      <td>1.000000</td>\n",
       "      <td>1.001290</td>\n",
       "      <td>1.001290</td>\n",
       "    </tr>\n",
       "    <tr>\n",
       "      <th>1965-01-08</th>\n",
       "      <td>85.370003</td>\n",
       "      <td>85.839996</td>\n",
       "      <td>84.910004</td>\n",
       "      <td>85.370003</td>\n",
       "      <td>85.370003</td>\n",
       "      <td>4.446995</td>\n",
       "      <td>1.000000</td>\n",
       "      <td>1.000351</td>\n",
       "      <td>1.000351</td>\n",
       "    </tr>\n",
       "    <tr>\n",
       "      <th>1965-01-11</th>\n",
       "      <td>85.400002</td>\n",
       "      <td>85.809998</td>\n",
       "      <td>84.900002</td>\n",
       "      <td>85.400002</td>\n",
       "      <td>85.400002</td>\n",
       "      <td>4.447346</td>\n",
       "      <td>1.000000</td>\n",
       "      <td>1.002459</td>\n",
       "      <td>1.002459</td>\n",
       "    </tr>\n",
       "    <tr>\n",
       "      <th>1965-01-12</th>\n",
       "      <td>85.610001</td>\n",
       "      <td>85.980003</td>\n",
       "      <td>85.129997</td>\n",
       "      <td>85.610001</td>\n",
       "      <td>85.610001</td>\n",
       "      <td>4.449802</td>\n",
       "      <td>1.000000</td>\n",
       "      <td>1.002687</td>\n",
       "      <td>1.002687</td>\n",
       "    </tr>\n",
       "    <tr>\n",
       "      <th>1965-01-13</th>\n",
       "      <td>85.839996</td>\n",
       "      <td>86.269997</td>\n",
       "      <td>85.349998</td>\n",
       "      <td>85.839996</td>\n",
       "      <td>85.839996</td>\n",
       "      <td>4.452485</td>\n",
       "      <td>1.000000</td>\n",
       "      <td>1.000000</td>\n",
       "      <td>1.000000</td>\n",
       "    </tr>\n",
       "    <tr>\n",
       "      <th>1965-01-14</th>\n",
       "      <td>85.839996</td>\n",
       "      <td>86.379997</td>\n",
       "      <td>85.410004</td>\n",
       "      <td>85.839996</td>\n",
       "      <td>85.839996</td>\n",
       "      <td>4.452485</td>\n",
       "      <td>1.000000</td>\n",
       "      <td>1.004310</td>\n",
       "      <td>1.004310</td>\n",
       "    </tr>\n",
       "    <tr>\n",
       "      <th>1965-01-15</th>\n",
       "      <td>86.209999</td>\n",
       "      <td>86.519997</td>\n",
       "      <td>85.599998</td>\n",
       "      <td>86.209999</td>\n",
       "      <td>86.209999</td>\n",
       "      <td>4.456786</td>\n",
       "      <td>1.000000</td>\n",
       "      <td>1.003248</td>\n",
       "      <td>1.003248</td>\n",
       "    </tr>\n",
       "  </tbody>\n",
       "</table>\n",
       "</div>"
      ],
      "text/plain": [
       "                 open       high        low      close      value    logval  \\\n",
       "Date                                                                          \n",
       "1965-01-04  84.230003  85.150002  83.769997  84.459999  84.230003  4.433551   \n",
       "1965-01-05  84.629997  85.019997  84.019997  84.629997  84.629997  4.438289   \n",
       "1965-01-06  84.889999  85.379997  84.449997  84.889999  84.889999  4.441356   \n",
       "1965-01-07  85.260002  85.620003  84.660004  85.260002  85.260002  4.445705   \n",
       "1965-01-08  85.370003  85.839996  84.910004  85.370003  85.370003  4.446995   \n",
       "1965-01-11  85.400002  85.809998  84.900002  85.400002  85.400002  4.447346   \n",
       "1965-01-12  85.610001  85.980003  85.129997  85.610001  85.610001  4.449802   \n",
       "1965-01-13  85.839996  86.269997  85.349998  85.839996  85.839996  4.452485   \n",
       "1965-01-14  85.839996  86.379997  85.410004  85.839996  85.839996  4.452485   \n",
       "1965-01-15  86.209999  86.519997  85.599998  86.209999  86.209999  4.456786   \n",
       "\n",
       "            intraday_change  day_to_day_change  overnight_change  \n",
       "Date                                                              \n",
       "1965-01-04         0.997277           1.004749          1.004749  \n",
       "1965-01-05         1.000000           1.003072          1.003072  \n",
       "1965-01-06         1.000000           1.004359          1.004359  \n",
       "1965-01-07         1.000000           1.001290          1.001290  \n",
       "1965-01-08         1.000000           1.000351          1.000351  \n",
       "1965-01-11         1.000000           1.002459          1.002459  \n",
       "1965-01-12         1.000000           1.002687          1.002687  \n",
       "1965-01-13         1.000000           1.000000          1.000000  \n",
       "1965-01-14         1.000000           1.004310          1.004310  \n",
       "1965-01-15         1.000000           1.003248          1.003248  "
      ]
     },
     "execution_count": 2,
     "metadata": {},
     "output_type": "execute_result"
    }
   ],
   "source": [
    "SYM = '^GSPC'  # S&P \n",
    "START = '1965-01-01'\n",
    "PARAM_PATH = '../data/inout_params.pkl'\n",
    "loader = Loader([SYM], START)\n",
    "df = loader.download()\n",
    "df.set_index('Date', drop=True, inplace=True)\n",
    "df.columns = [\n",
    "    'open', 'high', 'low', 'close', 'value', 'logval',\n",
    "    'intraday_change', 'day_to_day_change', 'overnight_change']\n",
    "df.logval.fillna(method='ffill')\n",
    "for adj in ['overnight_change', 'day_to_day_change']:\n",
    "    df[adj] = pd.Series(\n",
    "        np.concatenate([df[adj].values[1:], [np.nan]]), index=df.index)\n",
    "print(df.shape)\n",
    "df.head(10)"
   ]
  },
  {
   "cell_type": "code",
   "execution_count": 3,
   "id": "e51fe97c",
   "metadata": {},
   "outputs": [
    {
     "data": {
      "text/plain": [
       "Timestamp('1983-01-04 00:00:00+0000', tz='UTC')"
      ]
     },
     "execution_count": 3,
     "metadata": {},
     "output_type": "execute_result"
    }
   ],
   "source": [
    "SIM_START = pd.to_datetime('1983-01-04', utc=True)  # first day of legit open/close values\n",
    "SIM_START"
   ]
  },
  {
   "cell_type": "code",
   "execution_count": 4,
   "id": "94b24637",
   "metadata": {},
   "outputs": [],
   "source": [
    "def get_random_params():\n",
    "    k = np.random.uniform(1, 10)\n",
    "    if np.random.choice([True, False]):\n",
    "        k = 1/k\n",
    "    return {\n",
    "        'time_param': np.random.randint(5, 250),\n",
    "        'method':     np.random.choice(['ew', 'ma', 'linear_ma', 'linear']),\n",
    "        't':          np.random.uniform(0, 1),\n",
    "        'k':          k,\n",
    "        'as_q':       np.random.choice([True, False]),\n",
    "        'transform_f': np.random.choice(['bounded_curve', 'bounded_sigmoid'])}"
   ]
  },
  {
   "cell_type": "code",
   "execution_count": 5,
   "id": "fbc79dd1",
   "metadata": {},
   "outputs": [],
   "source": [
    "def tweak_best_params(params, factor=2, numeric_only=False):\n",
    "    '''A small factor should have values very close to current, larger\n",
    "    values allow wilder fluctuations'''\n",
    "    time = params['time_param']\n",
    "    upper = time * factor\n",
    "    diff = upper - time\n",
    "    time = np.random.randint(time - diff, upper)\n",
    "    time = min(max(5, time), 1000)\n",
    "    \n",
    "    method = params['method']\n",
    "    if not numeric_only:\n",
    "        meths = ['ew', 'ma', 'linear_ma', 'linear']\n",
    "        idx = meths.index(method)\n",
    "        ps = np.array([1, 1, 1, 1])\n",
    "        ps[idx] = factor\n",
    "        ps = ps / ps.sum()\n",
    "        method = np.random.choice(meths, p=ps)\n",
    "    \n",
    "    t = params['t']\n",
    "    sd = 1 - 1 / (factor/2 + 1)\n",
    "    t = min(max(np.random.normal(t, scale=sd), 0.001), 0.999)\n",
    "    \n",
    "    k = params['k']\n",
    "    upper = k * factor\n",
    "    diff = upper - k\n",
    "    k = np.random.uniform(k - diff, upper)\n",
    "    k = min(max(1/10, k), 10)\n",
    "    \n",
    "    as_q = params['as_q'] if numeric_only else np.random.choice([True, False]) \n",
    "    \n",
    "    current_transform = params['transform_f']\n",
    "    other_transform = 'bounded_curve' if current_transform == 'bounded_sigmoid' else 'bounded_sigmoid'\n",
    "    p_current = 1 / factor\n",
    "    transform_f = np.random.choice([current_transform, other_transform], p=[p_current, 1 - p_current])\n",
    "    return {\n",
    "        'time_param': time,\n",
    "        'method': method,\n",
    "        't': t,\n",
    "        'k': k,\n",
    "        'as_q': as_q,\n",
    "        'transform_f': transform_f}"
   ]
  },
  {
   "cell_type": "code",
   "execution_count": 6,
   "id": "c7296988",
   "metadata": {},
   "outputs": [],
   "source": [
    "def get_ma(series: pd.Series, time_param: float | int, method: str):\n",
    "    '''Calculate the moving average\n",
    "    Args:\n",
    "    - method: 'ew' | 'ma' | 'linear' | 'linear_ma'\n",
    "    - time_param:\n",
    "      - ew=True: (real) the halflife of the exponential weights (no. \n",
    "          of  time periods it takes for weight to drop from 1 to 0.5)\n",
    "      - ew=False: (int) the ma window, or number of days to average \n",
    "   over\n",
    "    '''\n",
    "    if method == 'ew':\n",
    "        trend = series.ewm(halflife=time_param, ignore_na=True).mean()\n",
    "    elif method == 'ma':\n",
    "        trend = series.rolling(window=int(time_param)).mean()\n",
    "    elif method.startswith('linear'):\n",
    "        trend = (series).rolling(window=int(time_param)).apply(lambda x: (x[-1] + x[0]) / 2)\n",
    "        if method == 'linear_ma':\n",
    "            trend = trend.rolling(window=int(time_param)).mean()\n",
    "        trend.fillna(method='bfill', inplace=True)\n",
    "    return trend"
   ]
  },
  {
   "cell_type": "code",
   "execution_count": 7,
   "id": "1a7b2c0a",
   "metadata": {},
   "outputs": [
    {
     "data": {
      "image/png": "[encoded data removed]",
      "text/plain": [
       "<Figure size 640x480 with 1 Axes>"
      ]
     },
     "metadata": {},
     "output_type": "display_data"
    },
    {
     "data": {
      "image/png": "[encoded data removed]",
      "text/plain": [
       "<Figure size 640x480 with 1 Axes>"
      ]
     },
     "metadata": {},
     "output_type": "display_data"
    },
    {
     "data": {
      "image/png": "[encoded data removed]",
      "text/plain": [
       "<Figure size 640x480 with 1 Axes>"
      ]
     },
     "metadata": {},
     "output_type": "display_data"
    },
    {
     "data": {
      "image/png": "[encoded data removed]",
      "text/plain": [
       "<Figure size 640x480 with 1 Axes>"
      ]
     },
     "metadata": {},
     "output_type": "display_data"
    }
   ],
   "source": [
    "for method in ['ew', 'ma', 'linear', 'linear_ma']:\n",
    "    plt.plot(get_ma(df.logval, 250, method))\n",
    "    plt.xlabel(method)\n",
    "    plt.show()"
   ]
  },
  {
   "cell_type": "code",
   "execution_count": 8,
   "id": "5507e8d2",
   "metadata": {},
   "outputs": [],
   "source": [
    "def get_trend_multiple(series, time_param, method, as_q):\n",
    "    'Get deviates (as quantiles) relative to trend'\n",
    "    trend = get_ma(series, time_param, method)\n",
    "    factor = series / trend\n",
    "    if as_q:\n",
    "        factor = factor.rank() / len(factor)\n",
    "    return factor"
   ]
  },
  {
   "cell_type": "code",
   "execution_count": 9,
   "id": "f337473c",
   "metadata": {},
   "outputs": [],
   "source": [
    "def rescale_minmax(series, mn=0, mx=1):\n",
    "    s = series.copy()\n",
    "    out_rng = mx - mn\n",
    "    obs_min = s.min()\n",
    "    s -= obs_min\n",
    "    obs_max = s.max()\n",
    "    s /= obs_max\n",
    "    s *= out_rng\n",
    "    s += mn\n",
    "    return s"
   ]
  },
  {
   "cell_type": "code",
   "execution_count": 10,
   "id": "3919ac0b",
   "metadata": {},
   "outputs": [],
   "source": [
    "def calculate_next_row(row):\n",
    "    invested = row.invested * row.overnight_change\n",
    "    total = invested + row.reserve\n",
    "    target_in = total * row.amt_in\n",
    "    diff = target_in - invested  # if diff+ buy; - sell\n",
    "    invested += diff\n",
    "    reserve = row.reserve - diff\n",
    "    invested *= row.day_to_day_change\n",
    "    return invested, reserve, invested + reserve"
   ]
  },
  {
   "cell_type": "code",
   "execution_count": 11,
   "id": "46e8a296",
   "metadata": {},
   "outputs": [],
   "source": [
    "def simulate(df, params):\n",
    "    df['trend_factor'] = rescale_minmax(\n",
    "        get_trend_multiple(\n",
    "            df.logval,\n",
    "            params['time_param'],\n",
    "            method=params['method'],\n",
    "            as_q=params['as_q']))\n",
    "    if params['transform_f'] == 'bounded_curve':\n",
    "        df['amt_in'] = bounded_curve(\n",
    "            df.trend_factor, params['t'], params['k'], 'down')\n",
    "    elif params['transform_f'] == 'bounded_sigmoid':\n",
    "        df['amt_in'] = bounded_sigmoid(\n",
    "            df.trend_factor, params['t'], params['k'], 'down')\n",
    "    df = df.loc[df.index >= str(SIM_START.date()), :].copy()\n",
    "    df['invested'] = np.nan\n",
    "    df['reserve'] = np.nan\n",
    "    df['total'] = np.nan\n",
    "    df['invested'][0] = df.amt_in[0]\n",
    "    df['reserve'][0] = 1 - df.amt_in[0]\n",
    "    df['total'][0] = 1\n",
    "    for i in range(len(df) - 1) :\n",
    "        row = df.iloc[i, :]\n",
    "        try:\n",
    "            nxt_idx = df.index[i + 1]\n",
    "            df.loc[nxt_idx, ['invested', 'reserve', 'total']] = (\n",
    "                calculate_next_row(row))\n",
    "        except IndexError:\n",
    "            break\n",
    "    return df"
   ]
  },
  {
   "cell_type": "code",
   "execution_count": 12,
   "id": "3620a082",
   "metadata": {},
   "outputs": [],
   "source": [
    "def run_simulation(\n",
    "        df, iters=100, current_best=None, best_params=None, \n",
    "        param_select='random', factor=2, numeric_only=False):\n",
    "    orig_df = df.copy()\n",
    "    do_nothing_res = orig_df.value[-1] / orig_df.loc[str(SIM_START.date()), 'value']\n",
    "    print('Do nothing res:', do_nothing_res)\n",
    "    if current_best is None:\n",
    "        current_best = 0\n",
    "    for i in range(iters):\n",
    "        print('Round', i + 1, end=': ')\n",
    "        if i == 0 and best_params is not None and param_select == 'random':\n",
    "            params = best_params  # rerun again on new data\n",
    "            current_best = 0 \n",
    "        elif param_select == 'random':\n",
    "            params = get_random_params()\n",
    "        else:\n",
    "            params = (\n",
    "                tweak_best_params(best_params, factor, numeric_only=numeric_only)\n",
    "                if best_params is not None else get_random_params())\n",
    "        df = simulate(orig_df.copy(), params)\n",
    "        final = df.total[-1]\n",
    "        print(final)\n",
    "        if np.isnan(final):\n",
    "            return df, params\n",
    "        if final > current_best:\n",
    "            current_best = final\n",
    "            best_params = params\n",
    "            print('New best:', current_best)\n",
    "            print(params)\n",
    "            plt.plot(df.total, label='best')\n",
    "            plt.plot(df.value / df.value[0], label='S&P')\n",
    "            plt.yscale('log')\n",
    "            plt.legend()\n",
    "            plt.show()\n",
    "    return current_best, best_params"
   ]
  },
  {
   "cell_type": "code",
   "execution_count": 13,
   "id": "8796e9bf",
   "metadata": {},
   "outputs": [
    {
     "data": {
      "text/plain": [
       "(116.05631565057361,\n",
       " {'time_param': 8,\n",
       "  'method': 'linear',\n",
       "  't': 0.899232316288312,\n",
       "  'k': 6.131663754172292,\n",
       "  'as_q': True,\n",
       "  'transform_f': 'bounded_sigmoid'})"
      ]
     },
     "execution_count": 13,
     "metadata": {},
     "output_type": "execute_result"
    }
   ],
   "source": [
    "with open(PARAM_PATH, 'rb') as f:\n",
    "    current_best, best_params = pickle.load(f)\n",
    "#if 'transform_f' not in best_params:\n",
    "#    best_params['transform_f'] = 'bounded_curve'\n",
    "    \n",
    "current_best, best_params"
   ]
  },
  {
   "cell_type": "code",
   "execution_count": 14,
   "id": "353d01f1",
   "metadata": {
    "scrolled": false
   },
   "outputs": [
    {
     "name": "stdout",
     "output_type": "stream",
     "text": [
      "Do nothing res: 40.03897942708083\n",
      "Round 1: 116.29929650925128\n",
      "New best: 116.29929650925128\n",
      "{'time_param': 8, 'method': 'linear', 't': 0.899232316288312, 'k': 6.131663754172292, 'as_q': True, 'transform_f': 'bounded_sigmoid'}\n"
     ]
    },
    {
     "data": {
      "image/png": "[encoded data removed]",
      "text/plain": [
       "<Figure size 640x480 with 1 Axes>"
      ]
     },
     "metadata": {},
     "output_type": "display_data"
    },
    {
     "name": "stdout",
     "output_type": "stream",
     "text": [
      "Round 2: 34.651268714080025\n",
      "Round 3: 7.19170592213322\n",
      "Round 4: 57.42239009367885\n",
      "Round 5: 53.68595235814475\n",
      "Round 6: 3.648038273547429\n",
      "Round 7: 1.9678257218768807\n",
      "Round 8: 8.389863704234322\n",
      "Round 9: 1.5228856857852697\n",
      "Round 10: 8.750125621988829\n",
      "Round 11: 3.240034966501538\n",
      "Round 12: 44.13110207361744\n",
      "Round 13: 67.44818474648797\n",
      "Round 14: 54.34862432837622\n",
      "Round 15: 67.57046997643441\n",
      "Round 16: 58.060218653181565\n",
      "Round 17: 74.75859446842334\n",
      "Round 18: 3.912845251560214\n",
      "Round 19: 6.860821217391173\n",
      "Round 20: 2.0044910844611943\n",
      "Round 21: 6.6794191603707125\n",
      "Round 22: 1.3457956865607315\n",
      "Round 23: 2.3114565508702647\n",
      "Round 24: 19.640780462381798\n",
      "Round 25: 1.3111213050614967\n",
      "Round 26: 1.042663744305797\n",
      "Round 27: 1.7889655488340612\n",
      "Round 28: 34.52795415752309\n",
      "Round 29: 2.187843890151684\n",
      "Round 30: 2.446437562222531\n",
      "Round 31: 7.705736596213331\n",
      "Round 32: 10.10239620474271\n",
      "Round 33: 3.2983142696622405\n",
      "Round 34: 33.839916187765546\n",
      "Round 35: 70.14821847624032\n",
      "Round 36: 1.5707555657837773\n",
      "Round 37: 12.274663109294817\n",
      "Round 38: 4.729865844211424\n",
      "Round 39: 17.03003957054768\n",
      "Round 40: 13.496706934003154\n",
      "Round 41: 7.585080277720306\n",
      "Round 42: 70.20715513032354\n",
      "Round 43: 32.97977699415004\n",
      "Round 44: 1.1911859587776423\n",
      "Round 45: 3.288756047843104\n",
      "Round 46: 30.616147378428067\n",
      "Round 47: 10.537271220814258\n",
      "Round 48: 9.85173816788391\n",
      "Round 49: 1.6487947164280974\n",
      "Round 50: 2.389092074330962\n",
      "Round 51: 9.854357965069585\n",
      "Round 52: 4.618302664446165\n",
      "Round 53: 1.322698787626445\n",
      "Round 54: 31.94536383556494\n",
      "Round 55: 8.310523593000546\n",
      "Round 56: 49.029683767003974\n",
      "Round 57: 3.0865420851019736\n",
      "Round 58: 2.9717616383230543\n",
      "Round 59: 73.38749286558728\n",
      "Round 60: 72.03738308842208\n",
      "Round 61: 23.551131667826517\n",
      "Round 62: 4.651314411126099\n",
      "Round 63: 28.720344064225657\n",
      "Round 64: 2.061510683645139\n",
      "Round 65: 18.394214533022865\n",
      "Round 66: 70.15073702825192\n",
      "Round 67: 34.31963301642496\n",
      "Round 68: 1.4925991441820217\n",
      "Round 69: 29.007029328509955\n",
      "Round 70: 7.848382562023682\n",
      "Round 71: 5.824574351216128\n",
      "Round 72: 69.6683529336795\n",
      "Round 73: 25.341189247318475\n",
      "Round 74: 23.507713709114977\n",
      "Round 75: 47.31162642090669\n",
      "Round 76: 9.335548547812937\n",
      "Round 77: 38.359965817099095\n",
      "Round 78: 46.08935863328876\n",
      "Round 79: 8.537767121386107\n",
      "Round 80: 6.671341433991703\n",
      "Round 81: 5.359156449302191\n",
      "Round 82: 39.45629427040421\n",
      "Round 83: 1.8107121138453488\n",
      "Round 84: 37.995100834164646\n",
      "Round 85: 3.8806011623378858\n",
      "Round 86: 53.88521261661983\n",
      "Round 87: 7.912738234059282\n",
      "Round 88: 45.29239878611915\n",
      "Round 89: 1.285562553312323\n",
      "Round 90: 14.124784107215124\n",
      "Round 91: 69.27174348936776\n",
      "Round 92: 6.554409584121052\n",
      "Round 93: 37.546703795412995\n",
      "Round 94: 13.372819653752215\n",
      "Round 95: 8.659662710252789\n",
      "Round 96: 8.282059751885358\n",
      "Round 97: 2.8111581045079177\n",
      "Round 98: 70.03491926832925\n",
      "Round 99: 7.324547467009811\n",
      "Round 100: 1.8342162271276634\n"
     ]
    }
   ],
   "source": [
    "best_out, params_out = run_simulation(\n",
    "    df.copy(), current_best=current_best, best_params=best_params)"
   ]
  },
  {
   "cell_type": "code",
   "execution_count": 15,
   "id": "7c1b2fd2",
   "metadata": {
    "scrolled": true
   },
   "outputs": [
    {
     "name": "stdout",
     "output_type": "stream",
     "text": [
      "Factor: 1.0625\n",
      "Do nothing res: 40.03897942708083\n",
      "Round 1: 74.25298209914202\n",
      "Round 2: 93.50225436453573\n",
      "Round 3: 74.70092922466063\n",
      "Round 4: 74.29281386585019\n",
      "Round 5: 79.71379595844142\n",
      "Round 6: 74.22308167683867\n",
      "Round 7: 86.69821053927878\n",
      "Round 8: 32.08139978629187\n",
      "Round 9: 76.18746858934108\n",
      "Round 10: 74.2129251932796\n",
      "\n",
      "Factor: 1.03125\n",
      "Do nothing res: 40.03897942708083\n",
      "Round 1: 74.2631019667534\n",
      "Round 2: 74.24714879521484\n",
      "Round 3: 74.24022953289273\n",
      "Round 4: 26.236570227476747\n",
      "Round 5: 74.20615130220322\n",
      "Round 6: 86.5773093763203\n",
      "Round 7: 85.19489334984999\n",
      "Round 8: 74.22183065949737\n",
      "Round 9: 76.78700331775094\n",
      "Round 10: 62.93801474938974\n",
      "\n",
      "Factor: 1.015625\n",
      "Do nothing res: 40.03897942708083\n",
      "Round 1: 74.2430609798806\n",
      "Round 2: 74.21739173714244\n",
      "Round 3: 75.51638330331821\n",
      "Round 4: 87.28577002877243\n",
      "Round 5: 62.306696535304596\n",
      "Round 6: 20.26357353873062\n",
      "Round 7: 75.12922544368027\n",
      "Round 8: 74.24724720376516\n",
      "Round 9: 74.2264821435476\n",
      "Round 10: 86.00662798086131\n",
      "\n",
      "Factor: 1.0078125\n",
      "Do nothing res: 40.03897942708083\n",
      "Round 1: 37.333429053477126\n",
      "Round 2: 90.7240681874305\n",
      "Round 3: 60.05934766541432\n",
      "Round 4: 74.22729223820544\n",
      "Round 5: 67.7802178479826\n",
      "Round 6: 52.41313225175243\n",
      "Round 7: 78.2777223196853\n",
      "Round 8: 74.22656431807324\n",
      "Round 9: 75.22358724794802\n",
      "Round 10: 74.23412153712857\n",
      "\n"
     ]
    }
   ],
   "source": [
    "# initially [1/4, 1/2, 1, 2]\n",
    "for w in [16, 32, 64, 128]:  # bigger w -> smaller factor -> smaller changes\n",
    "    factor = 1 + (1/w)\n",
    "    print('Factor:', factor)\n",
    "    best_out, params_out = run_simulation(\n",
    "        df.copy(), \n",
    "        iters=10, \n",
    "        current_best=best_out, \n",
    "        best_params=params_out, \n",
    "        param_select='tweak',\n",
    "        factor=factor,  # closer to 1: small changes; bigger: bigger\n",
    "        numeric_only=True) \n",
    "    print()"
   ]
  },
  {
   "cell_type": "code",
   "execution_count": null,
   "id": "b92bcca7",
   "metadata": {},
   "outputs": [],
   "source": [
    "final_out = simulate(df, params_out)"
   ]
  },
  {
   "cell_type": "code",
   "execution_count": null,
   "id": "249328db",
   "metadata": {},
   "outputs": [],
   "source": [
    "amt_in = final_out['amt_in'][-1]\n",
    "amt_in"
   ]
  },
  {
   "cell_type": "code",
   "execution_count": null,
   "id": "fb61e5b8",
   "metadata": {},
   "outputs": [],
   "source": [
    "trend_fac = final_out['trend_factor'][-1]\n",
    "trend_fac"
   ]
  },
  {
   "cell_type": "code",
   "execution_count": null,
   "id": "bda58238",
   "metadata": {},
   "outputs": [],
   "source": [
    "params_out"
   ]
  },
  {
   "cell_type": "code",
   "execution_count": null,
   "id": "7e0037ba",
   "metadata": {},
   "outputs": [],
   "source": [
    "xs = np.linspace(0, 1, 101)\n",
    "if params_out['transform_f'] == 'bounded_curve':\n",
    "    ys = bounded_curve(xs, params_out['t'], params_out['k'], 'down')\n",
    "else:\n",
    "    ys = bounded_sigmoid(xs, params_out['t'], params_out['k'], 'down')\n",
    "plt.xlabel('Trend Factor (Normalized)')\n",
    "plt.ylabel('Percent Invested')\n",
    "plt.plot(xs, ys)\n",
    "plt.axhline(amt_in, color='r', alpha=0.7)\n",
    "plt.axvline(trend_fac, color='r', alpha=0.7);"
   ]
  },
  {
   "cell_type": "code",
   "execution_count": null,
   "id": "1c89aeb4",
   "metadata": {},
   "outputs": [],
   "source": [
    "plt.figure(figsize=(10, 10))\n",
    "plt.subplot(4, 1, 1)\n",
    "plt.plot(final_out.amt_in)\n",
    "plt.xlabel('Amount In')\n",
    "\n",
    "plt.subplot(4, 1, 2)\n",
    "plt.plot(final_out.trend_factor)\n",
    "plt.xlabel('Trend Factor')\n",
    "\n",
    "plt.subplot(4, 1, 3)\n",
    "plt.plot(final_out.logval / final_out.logval[0])\n",
    "plt.xlabel('S&P')\n",
    "plt.yscale('log')\n",
    "\n",
    "plt.subplot(4, 1, 4)\n",
    "plt.plot(final_out.total)\n",
    "plt.xlabel('Performance')\n",
    "plt.yscale('log')\n",
    "plt.tight_layout();"
   ]
  },
  {
   "cell_type": "code",
   "execution_count": null,
   "id": "f9e50896",
   "metadata": {},
   "outputs": [],
   "source": [
    "N = 500\n",
    "#plt.figure(figsize=(10, 10))\n",
    "#plt.subplot(4, 1, 1)\n",
    "#plt.plot(final_out.amt_in[:N])\n",
    "#plt.xlabel('Amount In')\n",
    "\n",
    "#plt.subplot(4, 1, 2)\n",
    "#plt.plot(final_out.trend_factor[:N])\n",
    "#plt.xlabel('Trend Factor')\n",
    "\n",
    "#plt.subplot(4, 1, 3)\n",
    "#plt.plot((final_out.logval / final_out.logval[0])[:N])\n",
    "#plt.xlabel('S&P')\n",
    "#plt.yscale('log')\n",
    "\n",
    "#plt.subplot(4, 1, 4)\n",
    "#plt.plot(final_out.total[:N])\n",
    "#plt.xlabel('Performance')\n",
    "#plt.yscale('log')\n",
    "#plt.tight_layout();"
   ]
  },
  {
   "cell_type": "code",
   "execution_count": null,
   "id": "f1042dc1",
   "metadata": {},
   "outputs": [],
   "source": [
    "plt.figure(figsize=(10, 10))\n",
    "plt.subplot(4, 1, 1)\n",
    "plt.plot(final_out.amt_in[-N:])\n",
    "plt.xlabel('Amount In')\n",
    "\n",
    "plt.subplot(4, 1, 2)\n",
    "plt.plot(final_out.trend_factor[-N:])\n",
    "plt.xlabel('Trend Factor')\n",
    "plt.axhline(y=0.2, color='k', alpha=0.8)\n",
    "plt.axhline(y=0.8, color='k', alpha=0.8)\n",
    "\n",
    "plt.subplot(4, 1, 3)\n",
    "plt.plot((final_out.logval / final_out.logval[0])[-N:])\n",
    "plt.xlabel('S&P')\n",
    "plt.yscale('log')\n",
    "\n",
    "plt.subplot(4, 1, 4)\n",
    "plt.plot(final_out.total[-N:])\n",
    "plt.xlabel('Performance')\n",
    "plt.yscale('log')\n",
    "plt.tight_layout();"
   ]
  },
  {
   "cell_type": "code",
   "execution_count": null,
   "id": "d16b7d97",
   "metadata": {},
   "outputs": [],
   "source": [
    "frac_in = round(final_out['amt_in'][-1], 4)\n",
    "frac_in"
   ]
  },
  {
   "cell_type": "code",
   "execution_count": null,
   "id": "1dc03c8e",
   "metadata": {},
   "outputs": [],
   "source": [
    "# n days\n",
    "n = (df.index >= str(SIM_START.date())).sum()\n",
    "# n years\n",
    "t = n / 250\n",
    "# amt at start\n",
    "p = df.loc[str(SIM_START.date()), 'value']\n",
    "amt = df.iloc[-1].value\n",
    "p, t, amt"
   ]
  },
  {
   "cell_type": "code",
   "execution_count": null,
   "id": "420bf15c",
   "metadata": {},
   "outputs": [],
   "source": [
    "# annualized rate of return\n",
    "r = best_out**(1/t) \n",
    "r - 1"
   ]
  },
  {
   "cell_type": "code",
   "execution_count": null,
   "id": "fb8b24aa",
   "metadata": {},
   "outputs": [],
   "source": [
    "with open('daily_params.json', 'r') as f_in:\n",
    "    j = json.load(f_in)\n",
    "    with open('daily_params.json', 'w') as f_out:\n",
    "        j['sp'] = [r, frac_in]\n",
    "        print(j)\n",
    "        json.dump(j, f_out)"
   ]
  },
  {
   "cell_type": "code",
   "execution_count": null,
   "id": "e4f54cab",
   "metadata": {},
   "outputs": [],
   "source": [
    "with open(PARAM_PATH, 'wb') as f:\n",
    "    pickle.dump([best_out, params_out], f)\n",
    "    \n",
    "best_out, params_out"
   ]
  },
  {
   "cell_type": "code",
   "execution_count": null,
   "id": "b5320e22",
   "metadata": {},
   "outputs": [],
   "source": []
  },
  {
   "cell_type": "code",
   "execution_count": null,
   "id": "1836ffbd",
   "metadata": {},
   "outputs": [],
   "source": []
  }
 ],
 "metadata": {
  "kernelspec": {
   "display_name": "Python 3 (ipykernel)",
   "language": "python",
   "name": "python3"
  },
  "language_info": {
   "codemirror_mode": {
    "name": "ipython",
    "version": 3
   },
   "file_extension": ".py",
   "mimetype": "text/x-python",
   "name": "python",
   "nbconvert_exporter": "python",
   "pygments_lexer": "ipython3",
   "version": "3.11.4"
  }
 },
 "nbformat": 4,
 "nbformat_minor": 5
}
