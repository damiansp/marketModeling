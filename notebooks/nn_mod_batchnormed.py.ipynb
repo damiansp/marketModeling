{
 "cells": [
  {
   "cell_type": "code",
   "execution_count": 50,
   "metadata": {
    "collapsed": false
   },
   "outputs": [],
   "source": [
    "import datetime \n",
    "import matplotlib.pyplot as plt\n",
    "import numpy as np\n",
    "import os\n",
    "import pandas as pd\n",
    "import tensorflow as tf\n",
    "import time\n",
    "from keras.callbacks import EarlyStopping, ModelCheckpoint \n",
    "from keras.layers import Activation, BatchNormalization, Dense, Dropout\n",
    "from keras.models import Sequential\n",
    "from keras.optimizers import Adam\n",
    "from pprint import pprint\n",
    "from sklearn.linear_model import Ridge\n",
    "from sklearn.pipeline import Pipeline\n",
    "from sklearn.model_selection import (\n",
    "    GridSearchCV, learning_curve, train_test_split, validation_curve)\n",
    "from sklearn.preprocessing import StandardScaler\n",
    "from tensorflow.python.framework import ops\n",
    "from tensorflow.python.ops import control_flow_ops\n",
    "\n",
    "%matplotlib inline\n",
    "plt.rcParams['figure.figsize'] = [15, 10]\n",
    "plt.style.use('ggplot')"
   ]
  },
  {
   "cell_type": "code",
   "execution_count": 2,
   "metadata": {
    "collapsed": true
   },
   "outputs": [],
   "source": [
    "DATA_PATH = '../data/'"
   ]
  },
  {
   "cell_type": "code",
   "execution_count": 3,
   "metadata": {
    "collapsed": false
   },
   "outputs": [
    {
     "name": "stdout",
     "output_type": "stream",
     "text": [
      "total 2784\r\n",
      "drwxr-xr-x   8 dsp  staff      272 Nov  4 16:44 \u001b[34m.\u001b[m\u001b[m\r\n",
      "drwxr-xr-x  11 dsp  staff      374 Sep 30 21:18 \u001b[34m..\u001b[m\u001b[m\r\n",
      "-rw-r--r--@  1 dsp  staff     6148 Dec  6 19:43 .DS_Store\r\n",
      "-rw-r--r--@  1 dsp  staff    64799 Sep 30 16:49 Multistock.csv\r\n",
      "drwxr-xr-x   4 dsp  staff      136 Dec  6 19:43 \u001b[34mbak\u001b[m\u001b[m\r\n",
      "-rw-r--r--@  1 dsp  staff   155215 Dec 15 02:23 buyStats.csv\r\n",
      "-rw-r--r--@  1 dsp  staff  1179119 Dec 14 21:57 sp1950.csv\r\n",
      "-rw-r--r--@  1 dsp  staff    16329 Dec  4 21:00 stocks.csv\r\n"
     ]
    }
   ],
   "source": [
    "!../scripts/copy_data.sh\n",
    "!ls -la ../data"
   ]
  },
  {
   "cell_type": "code",
   "execution_count": 4,
   "metadata": {
    "collapsed": true
   },
   "outputs": [],
   "source": [
    "def read(filepath, pred=False):\n",
    "    dat = pd.read_csv(filepath)\n",
    "    if not pred:\n",
    "        dat['buyDate'] = pd.to_datetime(dat['buyDate'])\n",
    "    return dat"
   ]
  },
  {
   "cell_type": "code",
   "execution_count": 5,
   "metadata": {
    "collapsed": false
   },
   "outputs": [],
   "source": [
    "dat = read(DATA_PATH + 'buyStats.csv')"
   ]
  },
  {
   "cell_type": "code",
   "execution_count": 6,
   "metadata": {
    "collapsed": true
   },
   "outputs": [],
   "source": [
    "def remove_commas(value):\n",
    "    if type(value) == str:\n",
    "        return float(value.replace(',', ''))\n",
    "    else:\n",
    "        return value"
   ]
  },
  {
   "cell_type": "code",
   "execution_count": 7,
   "metadata": {
    "collapsed": true
   },
   "outputs": [],
   "source": [
    "dat['freeCashFlow_'] = dat['freeCashFlow_'].apply(lambda x: remove_commas(x))\n",
    "dat['mCap_'] = dat['mCap_'].apply(lambda x: remove_commas(x))"
   ]
  },
  {
   "cell_type": "code",
   "execution_count": 8,
   "metadata": {
    "collapsed": false
   },
   "outputs": [
    {
     "name": "stdout",
     "output_type": "stream",
     "text": [
      "aerospaceAndDefense, airFreightAndLogistics, airlines, autoComponents, automobiles, banks, beverages, biotechnology, buildingProducts, capitalMarkets, chemicals, commercialServicesAndSupplies, communicationEquipment, constructionAndEngineering, constructionMaterials, containersAndPackaging, diversifiedConsumerServices, diversifiedTelecommunicationServices, electricUtilities, electronicEquipmentInstrumentsAndComponents, energyEquipmentAndServices, equityRealEstateInvestmentTrusts, foodAndStaplesRetailing, foodProducts, gasUtilities, healthCareEquipmentAndSupplies, healthCareProvidersAndServices, healthCareTechnology, hotelsRestaurantsAndLeisure, householdDurables, independentPowerAndRenewableElectricityProducers, industrialConglomerates, insurance, internetAndDirectMarketingRetail, internetSoftwareAndServices, itServices, leisureProducts, lifeSciencesToolsAndServices, machinery, media, metalsAndMining, mortgageRealEstateInvestmentTrusts, nan, oilGasAndConsumableFuels, paperAndForestProducts, personalProducts, pharmaceuticals, professionalServices, realEstateManagementAndDevelopment, roadAndRail, semiconductorsAndSemiconductorEquipment, software, specialtyRetail, technologyHardwareStorageAndPeripherals, textilesApparelAndLuxuryGoods, thriftsAndMortgageFinance, tobacco, tradingCompaniesAndDistributors, transportationInfrastructure, wirelessTelecommunicationServices, \n",
      "\n",
      "basicMaterials, capitalGoods, conglomerates, consumerCyclical, consumerNonCyclical, energy, financial, healthcare, nan, services, technology, transportation, utilities, "
     ]
    },
    {
     "data": {
      "text/plain": [
       "[None, None, None, None, None, None, None, None, None, None, None, None, None]"
      ]
     },
     "execution_count": 8,
     "metadata": {},
     "output_type": "execute_result"
    }
   ],
   "source": [
    "dat['industry'] = dat['industry'].apply(lambda x: str(x))\n",
    "dat['sector']   = dat['sector'].apply(lambda x: str(x))\n",
    "industries = sorted(np.unique(dat['industry']))\n",
    "sectors    = sorted(np.unique(dat['sector']))\n",
    "[print(ind, end=', ') for ind in industries]\n",
    "print('\\n')\n",
    "[print(sec, end=', ') for sec in sectors]"
   ]
  },
  {
   "cell_type": "code",
   "execution_count": 9,
   "metadata": {
    "collapsed": true
   },
   "outputs": [],
   "source": [
    "def one_hot(df):\n",
    "    X = df.copy()\n",
    "    X[industries] = pd.get_dummies(X['industry'])\n",
    "    X[sectors]    = pd.get_dummies(X['sector'])\n",
    "    X[['mfHold', 'mfNone', 'mfNow', 'mfStart']] = pd.get_dummies(X['MF'])\n",
    "    X = X.drop(['industry', 'size', 'sector', 'MF'], axis=1)\n",
    "    return X"
   ]
  },
  {
   "cell_type": "code",
   "execution_count": 10,
   "metadata": {
    "collapsed": false
   },
   "outputs": [],
   "source": [
    "dat = one_hot(dat)"
   ]
  },
  {
   "cell_type": "code",
   "execution_count": 11,
   "metadata": {
    "collapsed": true
   },
   "outputs": [],
   "source": [
    "def median_fill(df):\n",
    "    X = df.copy()\n",
    "\n",
    "    for col in list(X):\n",
    "        try:\n",
    "            #X[col][np.isnan(X[col])] = np.nanmedian(X[col])\n",
    "            X.loc[np.isnan(X[col]), col] = np.nanmedian(X[col])\n",
    "        except:\n",
    "            print('Could not fill column', col)\n",
    "    return X"
   ]
  },
  {
   "cell_type": "code",
   "execution_count": 12,
   "metadata": {
    "collapsed": false
   },
   "outputs": [
    {
     "name": "stdout",
     "output_type": "stream",
     "text": [
      "Could not fill column stock\n",
      "Could not fill column buyDate\n"
     ]
    },
    {
     "name": "stderr",
     "output_type": "stream",
     "text": [
      "/usr/local/lib/python3.6/site-packages/numpy/lib/function_base.py:3858: RuntimeWarning: All-NaN slice encountered\n",
      "  r = func(a, **kwargs)\n"
     ]
    }
   ],
   "source": [
    "dat = median_fill(dat)"
   ]
  },
  {
   "cell_type": "code",
   "execution_count": 13,
   "metadata": {
    "collapsed": false
   },
   "outputs": [
    {
     "data": {
      "text/plain": [
       "Timestamp('2017-12-15 00:00:00')"
      ]
     },
     "execution_count": 13,
     "metadata": {},
     "output_type": "execute_result"
    }
   ],
   "source": [
    "today = datetime.datetime.now()\n",
    "if today.weekday() == 5:\n",
    "    today = today - datetime.timedelta(days=1)\n",
    "if today.weekday() == 6:\n",
    "    today = today - datetime.timedelta(days=2)\n",
    "today = str(today).split(' ')[0]\n",
    "today = pd.to_datetime(today)\n",
    "today"
   ]
  },
  {
   "cell_type": "code",
   "execution_count": 14,
   "metadata": {
    "collapsed": true
   },
   "outputs": [],
   "source": [
    "new_dat = dat.loc[dat['buyDate'] > today, :]\n",
    "dat     = dat.loc[dat['buyDate'] <= today, :]\n",
    "stocks = new_dat['stock']"
   ]
  },
  {
   "cell_type": "code",
   "execution_count": 15,
   "metadata": {
    "collapsed": true
   },
   "outputs": [],
   "source": [
    "def drop_missing(dfs, y_col):\n",
    "    X = dfs[0].copy()\n",
    "    # cols\n",
    "    drop_cols = [col for col in list(X) if type(col[0]) == np.float and col.isnan().all()]\n",
    "    X = X.drop(drop_cols, axis=1)\n",
    "    X2 = dfs[1].drop(drop_cols, axis=1)\n",
    "    return X.loc[np.isnan(dat[y_col]) == False, :], X2"
   ]
  },
  {
   "cell_type": "code",
   "execution_count": 16,
   "metadata": {
    "collapsed": true
   },
   "outputs": [],
   "source": [
    "dat, new_dat = drop_missing([dat, new_dat], 'd30Gains')"
   ]
  },
  {
   "cell_type": "code",
   "execution_count": 17,
   "metadata": {
    "collapsed": true
   },
   "outputs": [],
   "source": [
    "def split_xy(df, y_col, first_X):\n",
    "    y = df[y_col]\n",
    "    start_col = list(df).index(first_X)\n",
    "    X = df.iloc[:, start_col:]\n",
    "    return X, y"
   ]
  },
  {
   "cell_type": "code",
   "execution_count": 18,
   "metadata": {
    "collapsed": false
   },
   "outputs": [
    {
     "data": {
      "text/plain": [
       "[]"
      ]
     },
     "execution_count": 18,
     "metadata": {},
     "output_type": "execute_result"
    }
   ],
   "source": [
    "X, y         = split_xy(dat,     'd30Gains', 'MFRisk')\n",
    "X_new, y_new = split_xy(new_dat, 'd30Gains', 'MFRisk')\n",
    "[print('Mismatch:', x, xn) for (x, xn) in zip(list(X), list(X_new)) \n",
    " if x != xn]"
   ]
  },
  {
   "cell_type": "code",
   "execution_count": 19,
   "metadata": {
    "collapsed": false
   },
   "outputs": [
    {
     "name": "stdout",
     "output_type": "stream",
     "text": [
      "Training size:   296\n",
      "Validation size: 63\n",
      "Test size:       63\n"
     ]
    }
   ],
   "source": [
    "n = X.shape[0]\n",
    "TRAIN = 0.7\n",
    "VALIDATE = 0.15\n",
    "TEST = 0.15\n",
    "print(\n",
    "    'Training size:   %.0f\\nValidation size: %.0f\\nTest size:       %.0f'\n",
    "    %(TRAIN * n, VALIDATE * n, TEST * n))"
   ]
  },
  {
   "cell_type": "code",
   "execution_count": 20,
   "metadata": {
    "collapsed": true
   },
   "outputs": [],
   "source": [
    "# Train, Not Train\n",
    "X_train, X_vt, y_train, y_vt = train_test_split(\n",
    "    X, y, test_size=VALIDATE + TEST)\n",
    "\n",
    "# Validate Test\n",
    "X_valid, X_test, y_valid, y_test = train_test_split(\n",
    "    X_vt, y_vt, test_size=(TEST / (TEST + VALIDATE)))\n",
    "\n",
    "# Reindex\n",
    "X_train.index = range(len(y_train))\n",
    "y_train.index = range(len(y_train))\n",
    "\n",
    "X_valid.index = range(len(y_valid))\n",
    "y_valid.index = range(len(y_valid))\n",
    "\n",
    "X_test.index = range(len(y_test))\n",
    "y_test.index = range(len(y_test))\n",
    "y_test = y_test.values.reshape(-1, 1)"
   ]
  },
  {
   "cell_type": "code",
   "execution_count": 21,
   "metadata": {
    "collapsed": false
   },
   "outputs": [
    {
     "name": "stdout",
     "output_type": "stream",
     "text": [
      "train:    (296, 128)\n",
      "validate: (63, 128)\n",
      "test:     (64, 128)\n",
      "new:      (17, 128)\n"
     ]
    }
   ],
   "source": [
    "print('train:   ', X_train.shape)\n",
    "print('validate:', X_valid.shape)\n",
    "print('test:    ', X_test.shape)\n",
    "print('new:     ', X_new.shape)"
   ]
  },
  {
   "cell_type": "code",
   "execution_count": 22,
   "metadata": {
    "collapsed": false
   },
   "outputs": [],
   "source": [
    "# WHILE DATA SET IS SMALL, restrict values in new data to the range seen \n",
    "# in training data\n",
    "if X_test.shape[0] < 100:\n",
    "    for col in list(X_train):\n",
    "        if col not in ['spVal', 'days']:\n",
    "            mn, mx = np.min(X_train[col]), np.max(X_train[col])\n",
    "            #X_new[col][X_new[col] < mn] = mn\n",
    "            #X_new[col][X_new[col] > mx] = mx\n",
    "            X_new.loc[X_new[col] < mn, col] = mn\n",
    "            X_new.loc[X_new[col] > mx, col] = mx\n",
    "else: \n",
    "    print('Data large enough.  Remove this cell.')"
   ]
  },
  {
   "cell_type": "code",
   "execution_count": 23,
   "metadata": {
    "collapsed": true
   },
   "outputs": [],
   "source": [
    "remove_empties = []\n",
    "\n",
    "for col in list(X_train):\n",
    "    try:\n",
    "        if np.isnan(X_train[col]).any():\n",
    "            remove_empties.append(col)\n",
    "            print('Removing ', col)\n",
    "    except:\n",
    "        print('\\tCould not check', col)\n",
    "        \n",
    "X_train = X_train.drop(remove_empties, axis=1)\n",
    "X_valid = X_valid.drop(remove_empties, axis=1)\n",
    "X_test  = X_test.drop(remove_empties, axis=1)\n",
    "X_new   = X_new.drop(remove_empties, axis=1)"
   ]
  },
  {
   "cell_type": "code",
   "execution_count": 24,
   "metadata": {
    "collapsed": false
   },
   "outputs": [],
   "source": [
    "#X_new"
   ]
  },
  {
   "cell_type": "code",
   "execution_count": 25,
   "metadata": {
    "collapsed": false
   },
   "outputs": [],
   "source": [
    "# Normalize data\n",
    "scaler = StandardScaler()\n",
    "X_train = scaler.fit_transform(X_train)\n",
    "X_valid = scaler.transform(X_valid)\n",
    "X_test = scaler.transform(X_test)\n",
    "X_new  = scaler.transform(X_new)"
   ]
  },
  {
   "cell_type": "markdown",
   "metadata": {},
   "source": [
    "# Ridge Regression Model for Baseline"
   ]
  },
  {
   "cell_type": "code",
   "execution_count": 26,
   "metadata": {
    "collapsed": false
   },
   "outputs": [],
   "source": [
    "pipe_ridge = Pipeline([(\n",
    "    'clf', Ridge(random_state = 11235, max_iter = 5000))])\n",
    "alpha_range = np.linspace(0, 5000, 50)\n",
    "train_scores, test_scores = validation_curve(estimator = pipe_ridge,\n",
    "                                             X = X_train,\n",
    "                                             y = y_train,\n",
    "                                             param_name = 'clf__alpha',\n",
    "                                             param_range = alpha_range,\n",
    "                                             cv = 30,\n",
    "                                             n_jobs = -1)\n",
    "train_mean = np.mean(train_scores, axis = 1)\n",
    "train_std  = np.std(train_scores,  axis = 1)\n",
    "test_mean  = np.mean(test_scores,  axis = 1)\n",
    "test_std   = np.std(test_scores,   axis = 1)"
   ]
  },
  {
   "cell_type": "code",
   "execution_count": 27,
   "metadata": {
    "collapsed": false
   },
   "outputs": [
    {
     "data": {
      "image/png": "[encoded data removed]",
      "text/plain": [
       "<matplotlib.figure.Figure at 0x114b4ed68>"
      ]
     },
     "metadata": {},
     "output_type": "display_data"
    }
   ],
   "source": [
    "plt.plot(alpha_range,\n",
    "         train_mean,\n",
    "         color = 'blue',\n",
    "         marker = 'o',\n",
    "         markersize = 5,\n",
    "         label = 'training score');\n",
    "plt.fill_between(alpha_range,\n",
    "                 train_mean + train_std,\n",
    "                 train_mean - train_std,\n",
    "                 alpha = 0.15,\n",
    "                color = 'blue');\n",
    "plt.plot(alpha_range,\n",
    "         test_mean,\n",
    "         color = 'red',\n",
    "         linestyle = '--',\n",
    "         marker = 's',\n",
    "         markersize = 5,\n",
    "         label = 'validation score');\n",
    "plt.fill_between(alpha_range,\n",
    "                 test_mean + test_std,\n",
    "                 test_mean - test_std,\n",
    "                 alpha = 0.15,\n",
    "                 color = 'red');\n",
    "plt.grid();\n",
    "plt.legend(loc = 'lower left');\n",
    "#plt.xscale('log');\n",
    "plt.xlabel('Parameter alpha');\n",
    "plt.ylabel('Score');\n",
    "plt.ylim([-2, 1]);\n",
    "#plt.xlim([0, 300]);"
   ]
  },
  {
   "cell_type": "code",
   "execution_count": 28,
   "metadata": {
    "collapsed": false
   },
   "outputs": [
    {
     "data": {
      "text/plain": [
       "array([ 3367.34693878])"
      ]
     },
     "execution_count": 28,
     "metadata": {},
     "output_type": "execute_result"
    }
   ],
   "source": [
    "best_alpha = alpha_range[np.where(test_mean == max(test_mean))]\n",
    "best_alpha"
   ]
  },
  {
   "cell_type": "code",
   "execution_count": 29,
   "metadata": {
    "collapsed": false
   },
   "outputs": [
    {
     "data": {
      "text/plain": [
       "Ridge(alpha=array([ 3367.34694]), copy_X=True, fit_intercept=True,\n",
       "   max_iter=None, normalize=False, random_state=None, solver='auto',\n",
       "   tol=0.001)"
      ]
     },
     "execution_count": 29,
     "metadata": {},
     "output_type": "execute_result"
    }
   ],
   "source": [
    "best_ridge = Ridge(alpha = best_alpha)\n",
    "best_ridge.fit(X_train, y_train)"
   ]
  },
  {
   "cell_type": "code",
   "execution_count": 30,
   "metadata": {
    "collapsed": false
   },
   "outputs": [
    {
     "data": {
      "text/plain": [
       "0.089936344993052406"
      ]
     },
     "execution_count": 30,
     "metadata": {},
     "output_type": "execute_result"
    }
   ],
   "source": [
    "preds = best_ridge.predict(X_valid)\n",
    "rmse_ridge = np.sqrt(((preds - y_valid) ** 2).sum() / len(y_valid))\n",
    "rmse_ridge"
   ]
  },
  {
   "cell_type": "code",
   "execution_count": 31,
   "metadata": {
    "collapsed": false
   },
   "outputs": [
    {
     "data": {
      "text/plain": [
       "['cboe',\n",
       " 'hca',\n",
       " 'intu',\n",
       " 'odfl',\n",
       " 'aapl',\n",
       " 'atvi',\n",
       " 'masi',\n",
       " 'pypl',\n",
       " 'stmp',\n",
       " 'txt',\n",
       " 'kmi',\n",
       " 'mkc',\n",
       " 'mtch',\n",
       " 'mtn',\n",
       " 'ndaq',\n",
       " 'nyt',\n",
       " 'sbux']"
      ]
     },
     "execution_count": 31,
     "metadata": {},
     "output_type": "execute_result"
    }
   ],
   "source": [
    "list(stocks)"
   ]
  },
  {
   "cell_type": "code",
   "execution_count": 32,
   "metadata": {
    "collapsed": false
   },
   "outputs": [
    {
     "data": {
      "text/html": [
       "<div>\n",
       "<style>\n",
       "    .dataframe thead tr:only-child th {\n",
       "        text-align: right;\n",
       "    }\n",
       "\n",
       "    .dataframe thead th {\n",
       "        text-align: left;\n",
       "    }\n",
       "\n",
       "    .dataframe tbody tr th {\n",
       "        vertical-align: top;\n",
       "    }\n",
       "</style>\n",
       "<table border=\"1\" class=\"dataframe\">\n",
       "  <thead>\n",
       "    <tr style=\"text-align: right;\">\n",
       "      <th></th>\n",
       "      <th>preds</th>\n",
       "      <th>stock</th>\n",
       "    </tr>\n",
       "  </thead>\n",
       "  <tbody>\n",
       "    <tr>\n",
       "      <th>12</th>\n",
       "      <td>1.020655</td>\n",
       "      <td>mtch</td>\n",
       "    </tr>\n",
       "    <tr>\n",
       "      <th>3</th>\n",
       "      <td>1.019922</td>\n",
       "      <td>odfl</td>\n",
       "    </tr>\n",
       "    <tr>\n",
       "      <th>7</th>\n",
       "      <td>1.014756</td>\n",
       "      <td>pypl</td>\n",
       "    </tr>\n",
       "    <tr>\n",
       "      <th>4</th>\n",
       "      <td>1.013746</td>\n",
       "      <td>aapl</td>\n",
       "    </tr>\n",
       "    <tr>\n",
       "      <th>2</th>\n",
       "      <td>1.013461</td>\n",
       "      <td>intu</td>\n",
       "    </tr>\n",
       "    <tr>\n",
       "      <th>8</th>\n",
       "      <td>1.013337</td>\n",
       "      <td>stmp</td>\n",
       "    </tr>\n",
       "    <tr>\n",
       "      <th>0</th>\n",
       "      <td>1.013150</td>\n",
       "      <td>cboe</td>\n",
       "    </tr>\n",
       "    <tr>\n",
       "      <th>5</th>\n",
       "      <td>1.012575</td>\n",
       "      <td>atvi</td>\n",
       "    </tr>\n",
       "    <tr>\n",
       "      <th>16</th>\n",
       "      <td>1.012490</td>\n",
       "      <td>sbux</td>\n",
       "    </tr>\n",
       "    <tr>\n",
       "      <th>9</th>\n",
       "      <td>1.011766</td>\n",
       "      <td>txt</td>\n",
       "    </tr>\n",
       "    <tr>\n",
       "      <th>11</th>\n",
       "      <td>1.011522</td>\n",
       "      <td>mkc</td>\n",
       "    </tr>\n",
       "    <tr>\n",
       "      <th>14</th>\n",
       "      <td>1.011137</td>\n",
       "      <td>ndaq</td>\n",
       "    </tr>\n",
       "    <tr>\n",
       "      <th>15</th>\n",
       "      <td>1.009854</td>\n",
       "      <td>nyt</td>\n",
       "    </tr>\n",
       "    <tr>\n",
       "      <th>6</th>\n",
       "      <td>1.008569</td>\n",
       "      <td>masi</td>\n",
       "    </tr>\n",
       "    <tr>\n",
       "      <th>1</th>\n",
       "      <td>1.007741</td>\n",
       "      <td>hca</td>\n",
       "    </tr>\n",
       "    <tr>\n",
       "      <th>13</th>\n",
       "      <td>1.005944</td>\n",
       "      <td>mtn</td>\n",
       "    </tr>\n",
       "    <tr>\n",
       "      <th>10</th>\n",
       "      <td>1.003640</td>\n",
       "      <td>kmi</td>\n",
       "    </tr>\n",
       "  </tbody>\n",
       "</table>\n",
       "</div>"
      ],
      "text/plain": [
       "       preds stock\n",
       "12  1.020655  mtch\n",
       "3   1.019922  odfl\n",
       "7   1.014756  pypl\n",
       "4   1.013746  aapl\n",
       "2   1.013461  intu\n",
       "8   1.013337  stmp\n",
       "0   1.013150  cboe\n",
       "5   1.012575  atvi\n",
       "16  1.012490  sbux\n",
       "9   1.011766   txt\n",
       "11  1.011522   mkc\n",
       "14  1.011137  ndaq\n",
       "15  1.009854   nyt\n",
       "6   1.008569  masi\n",
       "1   1.007741   hca\n",
       "13  1.005944   mtn\n",
       "10  1.003640   kmi"
      ]
     },
     "execution_count": 32,
     "metadata": {},
     "output_type": "execute_result"
    }
   ],
   "source": [
    "pred_new = best_ridge.predict(X_new)\n",
    "ridge_preds = pd.DataFrame(data=pred_new, columns=['preds'])\n",
    "ridge_preds['stock'] = list(stocks)\n",
    "ridge_preds = ridge_preds.sort_values('preds', ascending=False)\n",
    "ridge_preds.head(len(stocks))"
   ]
  },
  {
   "cell_type": "markdown",
   "metadata": {},
   "source": [
    "# Neural Net"
   ]
  },
  {
   "cell_type": "markdown",
   "metadata": {},
   "source": [
    "## Keras Model"
   ]
  },
  {
   "cell_type": "code",
   "execution_count": 46,
   "metadata": {
    "collapsed": false
   },
   "outputs": [
    {
     "data": {
      "text/plain": [
       "(296, 128)"
      ]
     },
     "execution_count": 46,
     "metadata": {},
     "output_type": "execute_result"
    }
   ],
   "source": [
    "best_val_loss = 0.\n",
    "X_train.shape"
   ]
  },
  {
   "cell_type": "code",
   "execution_count": 87,
   "metadata": {
    "collapsed": false
   },
   "outputs": [
    {
     "data": {
      "text/plain": [
       "[128, 4, 1]"
      ]
     },
     "execution_count": 87,
     "metadata": {},
     "output_type": "execute_result"
    }
   ],
   "source": [
    "# Params and Hyperparams\n",
    "n_inputs = X_train.shape[1]\n",
    "n_outputs = 1 \n",
    "\n",
    "# Current best\n",
    "NODES_PER_LAYER = [n_inputs, n_inputs // 32, n_outputs]\n",
    "ETA = 0.5        \n",
    "DROPOUT = 0.3    \n",
    "BETA_1 = 0.9\n",
    "BETA_2 = 0.999\n",
    "EPSILON = 1e-08\n",
    "DECAY = 0.01\n",
    "EPOCHS = 2000\n",
    "BATCH_SIZE = 128\n",
    "\n",
    "NODES_PER_LAYER"
   ]
  },
  {
   "cell_type": "code",
   "execution_count": 88,
   "metadata": {
    "collapsed": true
   },
   "outputs": [],
   "source": [
    "def get_params():\n",
    "    return {'NODES_PER_LAYER': NODES_PER_LAYER,\n",
    "            'ETA': ETA,\n",
    "            'DROPOUT': DROPOUT,\n",
    "            'BETA_1': BETA_1,\n",
    "            'BETA_2': BETA_2,\n",
    "            'EPSILON': EPSILON,\n",
    "            'DECAY': DECAY,\n",
    "            'EPOCHS': EPOCHS,\n",
    "            'BATCH_SIZE': BATCH_SIZE}"
   ]
  },
  {
   "cell_type": "code",
   "execution_count": 89,
   "metadata": {
    "collapsed": false
   },
   "outputs": [
    {
     "name": "stdout",
     "output_type": "stream",
     "text": [
      "_________________________________________________________________\n",
      "Layer (type)                 Output Shape              Param #   \n",
      "=================================================================\n",
      "dense_5 (Dense)              (None, 4)                 516       \n",
      "_________________________________________________________________\n",
      "batch_normalization_3 (Batch (None, 4)                 16        \n",
      "_________________________________________________________________\n",
      "activation_3 (Activation)    (None, 4)                 0         \n",
      "_________________________________________________________________\n",
      "dropout_3 (Dropout)          (None, 4)                 0         \n",
      "_________________________________________________________________\n",
      "dense_6 (Dense)              (None, 1)                 5         \n",
      "=================================================================\n",
      "Total params: 537\n",
      "Trainable params: 529\n",
      "Non-trainable params: 8\n",
      "_________________________________________________________________\n"
     ]
    }
   ],
   "source": [
    "model = Sequential()\n",
    "\n",
    "# NOTE: \"glorot-normal\" is the same thing as \"Xavier\" initialization\n",
    "model.add(Dense(NODES_PER_LAYER[1], \n",
    "                input_dim=NODES_PER_LAYER[0], \n",
    "                kernel_initializer='glorot_normal'))\n",
    "model.add(BatchNormalization())\n",
    "model.add(Activation('relu'))\n",
    "model.add(Dropout(DROPOUT))\n",
    "\n",
    "# additional hidden layers here\n",
    "for i in range(2, len(NODES_PER_LAYER) - 1):\n",
    "    model.add(Dense(NODES_PER_LAYER[i], \n",
    "                    kernel_initializer='glorot_normal'))\n",
    "    model.add(BatchNormalization())\n",
    "    model.add(Activation('relu'))\n",
    "    model.add(Dropout(DROPOUT))\n",
    "\n",
    "model.add(Dense(NODES_PER_LAYER[-1], kernel_initializer='glorot_normal'))\n",
    "#model.add(BatchNormalization())\n",
    "#model.add(Activation('softmax'))\n",
    "\n",
    "model.summary()"
   ]
  },
  {
   "cell_type": "code",
   "execution_count": 90,
   "metadata": {
    "collapsed": true
   },
   "outputs": [],
   "source": [
    "adam = Adam(\n",
    "    lr=ETA, beta_1=BETA_1, beta_2=BETA_2, epsilon=EPSILON, decay=DECAY)\n",
    "model.compile(\n",
    "    loss='mean_squared_error', optimizer=adam)"
   ]
  },
  {
   "cell_type": "code",
   "execution_count": 91,
   "metadata": {
    "collapsed": false
   },
   "outputs": [],
   "source": [
    "VERBOSE = 0\n",
    "checkpointer = ModelCheckpoint(filepath='../data/weights.bestNN.hdf5',\n",
    "                               verbose=VERBOSE,\n",
    "                               save_best_only=True)\n",
    "earlyStop = EarlyStopping(monitor='val_loss', patience=250)\n",
    "start = time.time()\n",
    "history = model.fit(X_train,\n",
    "                    y_train,\n",
    "                    validation_data=(X_valid, y_valid),\n",
    "                    epochs=EPOCHS,\n",
    "                    batch_size=BATCH_SIZE,\n",
    "                    callbacks=[checkpointer, earlyStop],\n",
    "                    verbose=VERBOSE)\n",
    "elapsed = time.time() - start"
   ]
  },
  {
   "cell_type": "code",
   "execution_count": 92,
   "metadata": {
    "collapsed": false
   },
   "outputs": [
    {
     "name": "stdout",
     "output_type": "stream",
     "text": [
      "Time: 0.10 minutes\n"
     ]
    }
   ],
   "source": [
    "print('Time: %.2f minutes' % (elapsed / 60))"
   ]
  },
  {
   "cell_type": "code",
   "execution_count": 93,
   "metadata": {
    "collapsed": false
   },
   "outputs": [
    {
     "data": {
      "image/png": "[encoded data removed]",
      "text/plain": [
       "<matplotlib.figure.Figure at 0x116dd4f98>"
      ]
     },
     "metadata": {},
     "output_type": "display_data"
    }
   ],
   "source": [
    "plt.plot(history.history['loss'], 'k-', label='train');\n",
    "plt.plot(history.history['val_loss'], 'r-', label='valid');\n",
    "plt.xlabel('epochs');\n",
    "plt.ylabel('Loss (RMSE)')\n",
    "#plt.yscale('log');\n",
    "plt.legend(loc='best');"
   ]
  },
  {
   "cell_type": "code",
   "execution_count": 94,
   "metadata": {
    "collapsed": false
   },
   "outputs": [
    {
     "name": "stdout",
     "output_type": "stream",
     "text": [
      "This run: 0.00817\n"
     ]
    }
   ],
   "source": [
    "this_run = np.mean(history.history['val_loss'][-50:])\n",
    "print('This run: %.5f' % this_run)"
   ]
  },
  {
   "cell_type": "code",
   "execution_count": 95,
   "metadata": {
    "collapsed": false
   },
   "outputs": [
    {
     "name": "stdout",
     "output_type": "stream",
     "text": [
      "Best validation loss so far: 0.00816\n",
      "Training loss of same model: 0.00677\n",
      "Best hyperparameters found so far:\n",
      "{'BATCH_SIZE': 128,\n",
      " 'BETA_1': 0.9,\n",
      " 'BETA_2': 0.999,\n",
      " 'DECAY': 0.01,\n",
      " 'DROPOUT': 0.3,\n",
      " 'EPOCHS': 2000,\n",
      " 'EPSILON': 1e-08,\n",
      " 'ETA': 0.5,\n",
      " 'NODES_PER_LAYER': [128, 16, 1]}\n"
     ]
    }
   ],
   "source": [
    "if this_run < best_val_loss:\n",
    "    print('New Best Model Found!\\n')\n",
    "    best_val_loss = this_run\n",
    "    train_loss_of_best = np.mean(history.history['loss'][-50:])\n",
    "    best_params = get_params()\n",
    "print('Best validation loss so far: %.5f' % best_val_loss)\n",
    "print('Training loss of same model: %.5f' % train_loss_of_best)\n",
    "print('Best hyperparameters found so far:')\n",
    "pprint(best_params)"
   ]
  },
  {
   "cell_type": "code",
   "execution_count": 96,
   "metadata": {
    "collapsed": false
   },
   "outputs": [],
   "source": [
    "preds = model.predict(X_new)\n",
    "preds = list(preds.reshape(len(X_new)))"
   ]
  },
  {
   "cell_type": "code",
   "execution_count": 97,
   "metadata": {
    "collapsed": false
   },
   "outputs": [
    {
     "data": {
      "text/html": [
       "<div>\n",
       "<style>\n",
       "    .dataframe thead tr:only-child th {\n",
       "        text-align: right;\n",
       "    }\n",
       "\n",
       "    .dataframe thead th {\n",
       "        text-align: left;\n",
       "    }\n",
       "\n",
       "    .dataframe tbody tr th {\n",
       "        vertical-align: top;\n",
       "    }\n",
       "</style>\n",
       "<table border=\"1\" class=\"dataframe\">\n",
       "  <thead>\n",
       "    <tr style=\"text-align: right;\">\n",
       "      <th></th>\n",
       "      <th>stocks</th>\n",
       "      <th>preds</th>\n",
       "    </tr>\n",
       "  </thead>\n",
       "  <tbody>\n",
       "    <tr>\n",
       "      <th>0</th>\n",
       "      <td>cboe</td>\n",
       "      <td>1.00965</td>\n",
       "    </tr>\n",
       "    <tr>\n",
       "      <th>14</th>\n",
       "      <td>ndaq</td>\n",
       "      <td>1.00965</td>\n",
       "    </tr>\n",
       "    <tr>\n",
       "      <th>13</th>\n",
       "      <td>mtn</td>\n",
       "      <td>1.00965</td>\n",
       "    </tr>\n",
       "    <tr>\n",
       "      <th>12</th>\n",
       "      <td>mtch</td>\n",
       "      <td>1.00965</td>\n",
       "    </tr>\n",
       "    <tr>\n",
       "      <th>11</th>\n",
       "      <td>mkc</td>\n",
       "      <td>1.00965</td>\n",
       "    </tr>\n",
       "    <tr>\n",
       "      <th>10</th>\n",
       "      <td>kmi</td>\n",
       "      <td>1.00965</td>\n",
       "    </tr>\n",
       "    <tr>\n",
       "      <th>9</th>\n",
       "      <td>txt</td>\n",
       "      <td>1.00965</td>\n",
       "    </tr>\n",
       "    <tr>\n",
       "      <th>15</th>\n",
       "      <td>nyt</td>\n",
       "      <td>1.00965</td>\n",
       "    </tr>\n",
       "    <tr>\n",
       "      <th>8</th>\n",
       "      <td>stmp</td>\n",
       "      <td>1.00965</td>\n",
       "    </tr>\n",
       "    <tr>\n",
       "      <th>6</th>\n",
       "      <td>masi</td>\n",
       "      <td>1.00965</td>\n",
       "    </tr>\n",
       "    <tr>\n",
       "      <th>5</th>\n",
       "      <td>atvi</td>\n",
       "      <td>1.00965</td>\n",
       "    </tr>\n",
       "    <tr>\n",
       "      <th>4</th>\n",
       "      <td>aapl</td>\n",
       "      <td>1.00965</td>\n",
       "    </tr>\n",
       "    <tr>\n",
       "      <th>3</th>\n",
       "      <td>odfl</td>\n",
       "      <td>1.00965</td>\n",
       "    </tr>\n",
       "    <tr>\n",
       "      <th>2</th>\n",
       "      <td>intu</td>\n",
       "      <td>1.00965</td>\n",
       "    </tr>\n",
       "    <tr>\n",
       "      <th>1</th>\n",
       "      <td>hca</td>\n",
       "      <td>1.00965</td>\n",
       "    </tr>\n",
       "    <tr>\n",
       "      <th>7</th>\n",
       "      <td>pypl</td>\n",
       "      <td>1.00965</td>\n",
       "    </tr>\n",
       "    <tr>\n",
       "      <th>16</th>\n",
       "      <td>sbux</td>\n",
       "      <td>1.00965</td>\n",
       "    </tr>\n",
       "  </tbody>\n",
       "</table>\n",
       "</div>"
      ],
      "text/plain": [
       "   stocks    preds\n",
       "0    cboe  1.00965\n",
       "14   ndaq  1.00965\n",
       "13    mtn  1.00965\n",
       "12   mtch  1.00965\n",
       "11    mkc  1.00965\n",
       "10    kmi  1.00965\n",
       "9     txt  1.00965\n",
       "15    nyt  1.00965\n",
       "8    stmp  1.00965\n",
       "6    masi  1.00965\n",
       "5    atvi  1.00965\n",
       "4    aapl  1.00965\n",
       "3    odfl  1.00965\n",
       "2    intu  1.00965\n",
       "1     hca  1.00965\n",
       "7    pypl  1.00965\n",
       "16   sbux  1.00965"
      ]
     },
     "execution_count": 97,
     "metadata": {},
     "output_type": "execute_result"
    }
   ],
   "source": [
    "df = pd.DataFrame(columns=['stocks'], data=list(stocks))\n",
    "df['preds'] = preds\n",
    "df = df.sort_values('preds')\n",
    "df"
   ]
  },
  {
   "cell_type": "markdown",
   "metadata": {},
   "source": [
    "## Tensorflow Model"
   ]
  },
  {
   "cell_type": "code",
   "execution_count": 37,
   "metadata": {
    "collapsed": true
   },
   "outputs": [],
   "source": [
    "#!mkdir stock_model_logs"
   ]
  },
  {
   "cell_type": "code",
   "execution_count": 38,
   "metadata": {
    "collapsed": true
   },
   "outputs": [],
   "source": [
    "def batch_norm(x, n_out, phase_train, layer_type):\n",
    "    beta_init  = tf.constant_initializer(value=0.0, dtype=tf.float32)\n",
    "    gamma_init = tf.constant_initializer(value=1.0, dtype=tf.float32)\n",
    "    beta  = tf.get_variable('beta',  [n_out], initializer=beta_init)\n",
    "    gamma = tf.get_variable('gamma', [n_out], initializer=gamma_init)\n",
    "    axes = [0, 1, 2] if layer_type == 'conv' else [0]\n",
    "    batch_mean, batch_var = tf.nn.moments(x, axes, name='moments')\n",
    "    ema = tf.train.ExponentialMovingAverage(decay=0.9)\n",
    "    ema_apply_op = ema.apply([batch_mean, batch_var])\n",
    "    \n",
    "    def  mean_var_with_update():\n",
    "        with tf.control_dependencies([ema_apply_op]):\n",
    "            return tf.identity(batch_mean), tf.identity(batch_var)\n",
    "    \n",
    "    ema_mean, ema_var = ema.average(batch_mean), ema.average(batch_var)\n",
    "    mean, var = control_flow_ops.cond(\n",
    "        phase_train, mean_var_with_update, lambda: (ema_mean, ema_var))\n",
    "    \n",
    "    if layer_type != 'conv':\n",
    "        x = tf.reshape(x, [-1, 1, 1, n_out])\n",
    "    normed = tf.nn.batch_norm_with_global_normalization(\n",
    "        x, mean, var, beta, gamma, 1e-3, True)\n",
    "    \n",
    "    if layer_type != 'conv':\n",
    "        normed = tf.reshape(normed, [-1, n_out])\n",
    "    return normed"
   ]
  },
  {
   "cell_type": "code",
   "execution_count": 39,
   "metadata": {
    "collapsed": true
   },
   "outputs": [],
   "source": [
    "def layer_batch_norm(x, n_out, phase_train):\n",
    "    return batch_norm(x, n_out, phase_train, 'fully_connected')"
   ]
  },
  {
   "cell_type": "code",
   "execution_count": 40,
   "metadata": {
    "collapsed": false
   },
   "outputs": [],
   "source": [
    "# Create a fully-connected layer\n",
    "def layer(input, weight_shape, bias_shape, phase_train):\n",
    "    weight_init = tf.random_normal_initializer(\n",
    "        stddev=(2. / weight_shape[0]) ** 0.5)  # He\n",
    "        #stddev=(2. / (weight_shape[0] + weight_shape[1])) ** 0.5) # Xavier\n",
    "    bias_init = tf.constant_initializer(value=0)\n",
    "    W = tf.get_variable('W', weight_shape, initializer=weight_init)\n",
    "    b = tf.get_variable('b', bias_shape, initializer=bias_init)\n",
    "    logits = tf.matmul(input, W) + b\n",
    "    return tf.nn.relu(layer_batch_norm(  # <- or tanh\n",
    "        logits, weight_shape[1], phase_train))"
   ]
  },
  {
   "cell_type": "code",
   "execution_count": 41,
   "metadata": {
    "collapsed": true
   },
   "outputs": [],
   "source": [
    "# Make with 2 fc layers, then update to generalize\n",
    "def inference(x, keep_prob, phase_train, n_neurons):\n",
    "    inputs = x\n",
    "    for i in range(len(n_neurons) - 1):\n",
    "        with tf.variable_scope('fc' + str(i + 1)):\n",
    "            inputs = layer(inputs, \n",
    "                           [n_neurons[i], n_neurons[i + 1]],\n",
    "                           n_neurons[i + 1],\n",
    "                           phase_train)\n",
    "            inputs = tf.nn.dropout(inputs, keep_prob)\n",
    "    return inputs"
   ]
  },
  {
   "cell_type": "code",
   "execution_count": 42,
   "metadata": {
    "collapsed": false
   },
   "outputs": [],
   "source": [
    "def loss(output, y):\n",
    "    #cost = tf.reduce_sum(tf.pow(output - y, 2)) # SSE\n",
    "    cost = tf.sqrt(\n",
    "        tf.reduce_mean(tf.square(tf.subtract(y, output)))) # RMSE\n",
    "    return cost"
   ]
  },
  {
   "cell_type": "code",
   "execution_count": 43,
   "metadata": {
    "collapsed": true
   },
   "outputs": [],
   "source": [
    "def training(cost, global_step):\n",
    "    #tf.summary.scalar('cost', cost)\n",
    "    eta0 = ETA\n",
    "    eta = tf.train.exponential_decay(\n",
    "        eta0, global_step, DECAY_STEPS, DECAY_RATE, name='eta')\n",
    "    optimizer = tf.train.AdamOptimizer(eta)\n",
    "    train_op = optimizer.minimize(cost, global_step=global_step)\n",
    "    return train_op"
   ]
  },
  {
   "cell_type": "code",
   "execution_count": 44,
   "metadata": {
    "collapsed": false
   },
   "outputs": [
    {
     "data": {
      "text/plain": [
       "[]"
      ]
     },
     "execution_count": 44,
     "metadata": {},
     "output_type": "execute_result"
    }
   ],
   "source": [
    "ops.reset_default_graph()\n",
    "g = tf.get_default_graph()\n",
    "[op.name for op in g.get_operations()]"
   ]
  },
  {
   "cell_type": "code",
   "execution_count": 45,
   "metadata": {
    "collapsed": true
   },
   "outputs": [],
   "source": [
    "#def training(cost, global_step):\n",
    "#    #tf.summary.scalar('cost', cost)\n",
    "#    optimizer = tf.train.AdamOptimizer(ETA)\n",
    "#    train_op = optimizer.minimize(cost, global_step=global_step)\n",
    "#    return train_op"
   ]
  },
  {
   "cell_type": "code",
   "execution_count": 46,
   "metadata": {
    "collapsed": true
   },
   "outputs": [],
   "source": [
    "# Run only before first model is executed\n",
    "best_error_so_far = rmse_ridge"
   ]
  },
  {
   "cell_type": "code",
   "execution_count": 59,
   "metadata": {
    "collapsed": true
   },
   "outputs": [],
   "source": [
    "N, D = X_train.shape\n",
    "\n",
    "# Hyperparmeters to tune\n",
    "DROPOUT_RATE = 0.01\n",
    "n_neurons = [D, D, D, 1]\n",
    "\n",
    "# Programmed Learning with Decay\n",
    "ETA = 0.5 # Learning rate\n",
    "DECAY_STEPS = 100  # eta updates after this many epochs\n",
    "DECAY_RATE = 0.99  # factor to change eta by\n",
    "\n",
    "BATCH_SIZE = 64\n",
    "EPOCHS = 3000\n",
    "\n",
    "DISPLAY_STEP = 200"
   ]
  },
  {
   "cell_type": "code",
   "execution_count": 60,
   "metadata": {
    "collapsed": false
   },
   "outputs": [
    {
     "name": "stdout",
     "output_type": "stream",
     "text": [
      "Epoch: 0001 Cost: 0.12552226\tValidation cost: 40.19169617\n",
      "Epoch: 0201 Cost: 0.04293507\tValidation cost: 0.15264906\n",
      "Epoch: 0401 Cost: 0.03634217\tValidation cost: 0.15333213\n",
      "Epoch: 0601 Cost: 0.04472242\tValidation cost: 0.15236823\n",
      "Epoch: 0801 Cost: 0.04081369\tValidation cost: 0.15890647\n",
      "Epoch: 1001 Cost: 0.03319941\tValidation cost: 0.14275464\n",
      "Epoch: 1201 Cost: 0.03917455\tValidation cost: 0.16633788\n",
      "Epoch: 1401 Cost: 0.03917989\tValidation cost: 0.16594633\n",
      "Epoch: 1601 Cost: 0.03140240\tValidation cost: 0.15696761\n",
      "Epoch: 1801 Cost: 0.02975376\tValidation cost: 0.16686974\n",
      "Epoch: 2001 Cost: 0.03917575\tValidation cost: 0.16799402\n",
      "Epoch: 2201 Cost: 0.03319238\tValidation cost: 0.16768393\n",
      "Epoch: 2401 Cost: 0.03319230\tValidation cost: 0.16801058\n",
      "Epoch: 2601 Cost: 0.04234855\tValidation cost: 0.17750300\n",
      "Epoch: 2801 Cost: 0.04184610\tValidation cost: 0.16771641\n",
      "Optimization complete...\n",
      "Test RMSE: 0.17153876\n",
      "\n",
      "\n",
      "   Stock  Prediction  LowerBound  UpperBound\n",
      "0   cboe    1.119308    0.776231    1.462386\n",
      "9    txt    1.119308    0.776231    1.462386\n",
      "15   nyt    1.119308    0.776231    1.462386\n",
      "14  ndaq    1.119308    0.776231    1.462386\n",
      "13   mtn    1.119308    0.776231    1.462386\n",
      "12  mtch    1.119308    0.776231    1.462386\n",
      "11   mkc    1.119308    0.776231    1.462386\n",
      "10   kmi    1.119308    0.776231    1.462386\n",
      "8   stmp    1.119308    0.776231    1.462386\n",
      "1    hca    1.119308    0.776231    1.462386\n",
      "7   pypl    1.119308    0.776231    1.462386\n",
      "6   masi    1.119308    0.776231    1.462386\n",
      "5   atvi    1.119308    0.776231    1.462386\n",
      "4   aapl    1.119308    0.776231    1.462386\n",
      "3   odfl    1.119308    0.776231    1.462386\n",
      "2   intu    1.119308    0.776231    1.462386\n",
      "16  sbux    1.119308    0.776231    1.462386\n"
     ]
    }
   ],
   "source": [
    "train_err = []\n",
    "valid_err = []\n",
    "\n",
    "with tf.device('/gpu:0'):\n",
    "    with tf.Graph().as_default():\n",
    "        with tf.variable_scope('stock_mod'):\n",
    "            # Init\n",
    "            X = tf.placeholder(tf.float32, shape=[None, D], name='X')\n",
    "            y = tf.placeholder(tf.float32, shape=None, name='y')\n",
    "            keep_prob = tf.placeholder(tf.float32)\n",
    "            phase_train = tf.placeholder(tf.bool) # T=train, F=Valid/Test\n",
    "            output = inference(X, keep_prob, phase_train, n_neurons)\n",
    "            cost = loss(output, y)\n",
    "            global_step = tf.Variable(\n",
    "                0, name='global_step', trainable=False)\n",
    "            train_op = training(cost, global_step)\n",
    "            saver = tf.train.Saver()\n",
    "            sess = tf.Session()\n",
    "            init_op = tf.global_variables_initializer()\n",
    "            sess.run(init_op)\n",
    "            tf.train.start_queue_runners(sess=sess)\n",
    "            \n",
    "            # Train\n",
    "            for epoch in range(EPOCHS):\n",
    "                avg_rmse = 0.\n",
    "                idxs = np.random.permutation(range(N))\n",
    "                n_batches = len(idxs) // BATCH_SIZE\n",
    "                \n",
    "                for batch in range(n_batches):\n",
    "                    _, new_cost = sess.run(\n",
    "                        [train_op, cost],\n",
    "                        feed_dict={X: X_train[idxs, :],\n",
    "                                   y: y_train[idxs],\n",
    "                                   keep_prob: 1 - DROPOUT_RATE,\n",
    "                                   phase_train: True})\n",
    "                avg_rmse += new_cost / n_batches\n",
    "                train_err.append(avg_rmse)\n",
    "\n",
    "                validate_rmse = sess.run(\n",
    "                    cost,\n",
    "                    feed_dict={X: X_valid,\n",
    "                               y: y_valid,\n",
    "                               keep_prob: 1.,\n",
    "                               phase_train: False})\n",
    "                valid_err.append(validate_rmse)\n",
    "\n",
    "                # Display output per display step\n",
    "                if epoch % DISPLAY_STEP == 0:\n",
    "                    print('Epoch: %04d Cost: %.8f\\tValidation cost: %.8f' \n",
    "                          %(epoch + 1, avg_rmse, validate_rmse))\n",
    "\n",
    "                    saver.save(sess, \n",
    "                               'stock_model_logs/model.ckpt', \n",
    "                               global_step=global_step)\n",
    "            print('Optimization complete...')\n",
    "            test_rmse = sess.run(cost, \n",
    "                                feed_dict={X: X_test,\n",
    "                                           y: y_test,\n",
    "                                           keep_prob: 1.,\n",
    "                                           phase_train: False})\n",
    "            print('Test RMSE: %.8f\\n\\n' %test_rmse)\n",
    "            \n",
    "            new_preds = sess.run(output, \n",
    "                                 feed_dict={X: X_new,\n",
    "                                            keep_prob: 1., \n",
    "                                            phase_train: False})\n",
    "            final_out = []\n",
    "            for (stock, pred) in zip(\n",
    "                    stocks, new_preds.reshape(new_preds.shape[0])):\n",
    "                final_out.append([stock, pred])\n",
    "    \n",
    "            out = pd.DataFrame(columns=['Stock', 'Prediction'], \n",
    "                               data=final_out)\n",
    "            out['LowerBound'] = out['Prediction'] - 2 * test_rmse\n",
    "            out['UpperBound'] = out['Prediction'] + 2 * test_rmse\n",
    "            out = out.sort_values('Prediction', ascending=False)\n",
    "            print(out.head(len(stocks)))"
   ]
  },
  {
   "cell_type": "code",
   "execution_count": 55,
   "metadata": {
    "collapsed": false
   },
   "outputs": [
    {
     "name": "stdout",
     "output_type": "stream",
     "text": [
      "0.0850766207489\n"
     ]
    }
   ],
   "source": [
    "#print(np.mean(y_train))\n",
    "print(np.std(y_train))"
   ]
  },
  {
   "cell_type": "code",
   "execution_count": 56,
   "metadata": {
    "collapsed": false,
    "scrolled": true
   },
   "outputs": [
    {
     "data": {
      "image/png": "[encoded data removed]",
      "text/plain": [
       "<matplotlib.figure.Figure at 0x11f974048>"
      ]
     },
     "metadata": {},
     "output_type": "display_data"
    }
   ],
   "source": [
    "plt.plot(train_err, 'k-', label='train');\n",
    "plt.plot(valid_err, 'r-', label='validate');\n",
    "plt.legend(loc='best');\n",
    "plt.xlabel('Epochs');\n",
    "plt.ylabel('RMSE');\n",
    "plt.yscale('log')\n",
    "#plt.xscale('log')"
   ]
  },
  {
   "cell_type": "code",
   "execution_count": 57,
   "metadata": {
    "collapsed": false
   },
   "outputs": [
    {
     "name": "stdout",
     "output_type": "stream",
     "text": [
      "Previous Best: 0.0837089368526\n",
      "This run:      0.081827 Train:  0.0213069126196\n"
     ]
    }
   ],
   "source": [
    "appx_validation_error = np.mean(valid_err[-100:])\n",
    "appx_train_error      = np.mean(train_err[-100:])\n",
    "print('Previous Best:', best_error_so_far)\n",
    "print('This run:     ', appx_validation_error, 'Train: ', appx_train_error)"
   ]
  },
  {
   "cell_type": "code",
   "execution_count": 58,
   "metadata": {
    "collapsed": false
   },
   "outputs": [
    {
     "name": "stdout",
     "output_type": "stream",
     "text": [
      "New Best Model Found!\n",
      "Hyperparameters:\n",
      "----------------------------------------------------------------------\n",
      "best_error_so_far: 0.081827\n",
      "     best_dropout: 0.0\n",
      "best_architecture: [128, 128, 128, 1]\n",
      "         best_eta: 0.5\n",
      " best_decay_steps: 100\n",
      "  best_decay_rate: 0.99\n",
      "           epochs: 3000\n"
     ]
    }
   ],
   "source": [
    "if appx_validation_error < best_error_so_far:\n",
    "    best_error_so_far = appx_validation_error\n",
    "    print('New Best Model Found!\\nHyperparameters:\\n' + ('-' * 70))\n",
    "    hyperparams = {\n",
    "        'best_error_so_far': appx_validation_error,\n",
    "        'best_dropout': DROPOUT_RATE,\n",
    "        'best_architecture': n_neurons,\n",
    "        'best_eta': ETA,\n",
    "        'best_decay_steps': DECAY_STEPS,\n",
    "        'best_decay_rate': DECAY_RATE,\n",
    "        'epochs': EPOCHS}\n",
    "for k, v in hyperparams.items():\n",
    "    print('%17s: %s' %(k, str(v)))"
   ]
  },
  {
   "cell_type": "markdown",
   "metadata": {
    "collapsed": true
   },
   "source": [
    "```\n",
    "   Stock  Prediction  LowerBound  UpperBound\n",
    "11   mkc    1.015311    0.854142    1.176480\n",
    "9    txt    1.015256    0.854087    1.176425\n",
    "0   cboe    1.015224    0.854055    1.176393\n",
    "10   kmi    1.015203    0.854034    1.176372\n",
    "14  ndaq    1.015198    0.854028    1.176367\n",
    "3   odfl    1.015192    0.854023    1.176362\n",
    "5   atvi    1.015190    0.854021    1.176359\n",
    "2   intu    1.015177    0.854008    1.176346\n",
    "1    hca    1.015171    0.854002    1.176340\n",
    "16  sbux    1.015143    0.853974    1.176312\n",
    "6   masi    1.015141    0.853972    1.176310\n",
    "12  mtch    1.015140    0.853971    1.176310\n",
    "15   nyt    1.015121    0.853952    1.176290\n",
    "13   mtn    1.015076    0.853907    1.176245\n",
    "4   aapl    1.015076    0.853907    1.176245\n",
    "8   stmp    1.015065    0.853896    1.176234\n",
    "7   pypl    1.015043    0.853874    1.176212\n",
    "```"
   ]
  },
  {
   "cell_type": "code",
   "execution_count": null,
   "metadata": {
    "collapsed": true
   },
   "outputs": [],
   "source": []
  }
 ],
 "metadata": {
  "kernelspec": {
   "display_name": "Python 3",
   "language": "python",
   "name": "python3"
  },
  "language_info": {
   "codemirror_mode": {
    "name": "ipython",
    "version": 3
   },
   "file_extension": ".py",
   "mimetype": "text/x-python",
   "name": "python",
   "nbconvert_exporter": "python",
   "pygments_lexer": "ipython3",
   "version": "3.6.1"
  }
 },
 "nbformat": 4,
 "nbformat_minor": 0
}
