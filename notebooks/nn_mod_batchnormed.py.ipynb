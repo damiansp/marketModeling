{
 "cells": [
  {
   "cell_type": "code",
   "execution_count": 196,
   "metadata": {
    "collapsed": true
   },
   "outputs": [],
   "source": [
    "import datetime \n",
    "import matplotlib.pyplot as plt\n",
    "import numpy as np\n",
    "import os\n",
    "import pandas as pd\n",
    "import tensorflow as tf\n",
    "from sklearn.linear_model import Ridge\n",
    "from sklearn.pipeline import Pipeline\n",
    "from sklearn.model_selection import (\n",
    "    GridSearchCV, learning_curve, train_test_split, validation_curve)\n",
    "from sklearn.preprocessing import StandardScaler\n",
    "from tensorflow.python.framework import ops\n",
    "from tensorflow.python.ops import control_flow_ops\n",
    "\n",
    "%matplotlib inline\n",
    "plt.rcParams['figure.figsize'] = [15, 10]\n",
    "plt.style.use('ggplot')"
   ]
  },
  {
   "cell_type": "code",
   "execution_count": 194,
   "metadata": {
    "collapsed": true
   },
   "outputs": [],
   "source": [
    "DATA_PATH = '../data/'"
   ]
  },
  {
   "cell_type": "code",
   "execution_count": 3,
   "metadata": {
    "collapsed": false
   },
   "outputs": [
    {
     "name": "stdout",
     "output_type": "stream",
     "text": [
      "total 2624\r\n",
      "drwxr-xr-x   6 dsp  staff      204 Sep 30 17:04 \u001b[34m.\u001b[m\u001b[m\r\n",
      "drwxr-xr-x  11 dsp  staff      374 Sep 30 21:18 \u001b[34m..\u001b[m\u001b[m\r\n",
      "-rw-r--r--@  1 dsp  staff     6148 Sep 30 17:04 .DS_Store\r\n",
      "-rw-r--r--@  1 dsp  staff    64799 Sep 30 16:49 Multistock.csv\r\n",
      "-rw-r--r--@  1 dsp  staff    86654 Oct 14 01:48 buyStats.csv\r\n",
      "-rw-r--r--@  1 dsp  staff  1175781 Oct 13 21:20 sp1950.csv\r\n"
     ]
    }
   ],
   "source": [
    "!../scripts/copy_data.sh\n",
    "!ls -la ../data"
   ]
  },
  {
   "cell_type": "code",
   "execution_count": 4,
   "metadata": {
    "collapsed": true
   },
   "outputs": [],
   "source": [
    "def read(filepath, pred=False):\n",
    "    dat = pd.read_csv(filepath)\n",
    "    if not pred:\n",
    "        dat['buyDate'] = pd.to_datetime(dat['buyDate'])\n",
    "    return dat"
   ]
  },
  {
   "cell_type": "code",
   "execution_count": 5,
   "metadata": {
    "collapsed": false
   },
   "outputs": [],
   "source": [
    "dat = read(DATA_PATH + 'buyStats.csv')"
   ]
  },
  {
   "cell_type": "code",
   "execution_count": 6,
   "metadata": {
    "collapsed": true
   },
   "outputs": [],
   "source": [
    "def remove_commas(value):\n",
    "    if type(value) == str:\n",
    "        return float(value.replace(',', ''))\n",
    "    else:\n",
    "        return value"
   ]
  },
  {
   "cell_type": "code",
   "execution_count": 7,
   "metadata": {
    "collapsed": true
   },
   "outputs": [],
   "source": [
    "dat['freeCashFlow_'] = dat['freeCashFlow_'].apply(lambda x: remove_commas(x))\n",
    "dat['mCap_'] = dat['mCap_'].apply(lambda x: remove_commas(x))"
   ]
  },
  {
   "cell_type": "code",
   "execution_count": 8,
   "metadata": {
    "collapsed": false
   },
   "outputs": [
    {
     "name": "stdout",
     "output_type": "stream",
     "text": [
      "aerospaceAndDefense, airlines, autoComponents, automobiles, banks, beverages, biotechnology, buildingProducts, capitalMarkets, chemicals, commercialServicesAndSupplies, communicationEquipment, constructionAndEngineering, constructionMaterials, diversifiedConsumerServices, diversifiedTelecommunicationServices, electricUtilities, electronicEquipmentInstrumentsAndComponents, energyEquipmentAndServices, equityRealEstateInvestmentTrusts, foodAndStaplesRetailing, foodProducts, gasUtilities, healthCareEquipmentAndSupplies, healthCareProvidersAndServices, healthCareTechnology, hotelsRestaurantsAndLeisure, householdDurables, independentPowerAndRenewableElectricityProducers, industrialConglomerates, insurance, internetAndDirectMarketingRetail, internetSoftwareAndServices, itServices, leisureProducts, lifeSciencesToolsAndServices, machinery, media, metalsAndMining, mortgageRealEstateInvestmentTrusts, nan, oilGasAndConsumableFuels, paperAndForestProducts, personalProducts, pharmaceuticals, professionalServices, roadAndRail, semiconductorsAndSemiconductorEquipment, software, specialtyRetail, technologyHardwareStorageAndPeripherals, textilesApparelAndLuxuryGoods, tobacco, transportationInfrastructure, wirelessTelecommunicationServices, \n",
      "\n",
      "basicMaterials, capitalGoods, conglomerates, consumerCyclical, consumerNonCyclical, energy, financial, healthcare, nan, services, technology, transportation, utilities, "
     ]
    },
    {
     "data": {
      "text/plain": [
       "[None, None, None, None, None, None, None, None, None, None, None, None, None]"
      ]
     },
     "execution_count": 8,
     "metadata": {},
     "output_type": "execute_result"
    }
   ],
   "source": [
    "dat['industry'] = dat['industry'].apply(lambda x: str(x))\n",
    "dat['sector']   = dat['sector'].apply(lambda x: str(x))\n",
    "industries = sorted(np.unique(dat['industry']))\n",
    "sectors    = sorted(np.unique(dat['sector']))\n",
    "[print(ind, end=', ') for ind in industries]\n",
    "print('\\n')\n",
    "[print(sec, end=', ') for sec in sectors]"
   ]
  },
  {
   "cell_type": "code",
   "execution_count": 12,
   "metadata": {
    "collapsed": true
   },
   "outputs": [],
   "source": [
    "def one_hot(df):\n",
    "    X = df.copy()\n",
    "    X[industries] = pd.get_dummies(X['industry'])\n",
    "    X[sectors]    = pd.get_dummies(X['sector'])\n",
    "    X[['mfHold', 'mfNone', 'mfNow', 'mfStart']] = pd.get_dummies(X['MF'])\n",
    "    X = X.drop(['industry', 'size', 'sector', 'MF'], axis=1)\n",
    "    return X"
   ]
  },
  {
   "cell_type": "code",
   "execution_count": 13,
   "metadata": {
    "collapsed": false
   },
   "outputs": [],
   "source": [
    "dat = one_hot(dat)"
   ]
  },
  {
   "cell_type": "code",
   "execution_count": 14,
   "metadata": {
    "collapsed": true
   },
   "outputs": [],
   "source": [
    "def median_fill(df):\n",
    "    X = df.copy()\n",
    "\n",
    "    for col in list(X):\n",
    "        try:\n",
    "            X[col][np.isnan(X[col])] = np.nanmedian(X[col])\n",
    "        except:\n",
    "            print('Could not fill column', col)\n",
    "    return X"
   ]
  },
  {
   "cell_type": "code",
   "execution_count": 15,
   "metadata": {
    "collapsed": false
   },
   "outputs": [
    {
     "name": "stdout",
     "output_type": "stream",
     "text": [
      "Could not fill column stock\n",
      "Could not fill column buyDate\n"
     ]
    },
    {
     "name": "stderr",
     "output_type": "stream",
     "text": [
      "/usr/local/lib/python3.6/site-packages/ipykernel_launcher.py:6: SettingWithCopyWarning: \n",
      "A value is trying to be set on a copy of a slice from a DataFrame\n",
      "\n",
      "See the caveats in the documentation: http://pandas.pydata.org/pandas-docs/stable/indexing.html#indexing-view-versus-copy\n",
      "  \n",
      "/usr/local/lib/python3.6/site-packages/numpy/lib/function_base.py:3858: RuntimeWarning: All-NaN slice encountered\n",
      "  r = func(a, **kwargs)\n"
     ]
    }
   ],
   "source": [
    "dat = median_fill(dat)"
   ]
  },
  {
   "cell_type": "code",
   "execution_count": 16,
   "metadata": {
    "collapsed": false
   },
   "outputs": [
    {
     "data": {
      "text/plain": [
       "Timestamp('2017-10-13 00:00:00')"
      ]
     },
     "execution_count": 16,
     "metadata": {},
     "output_type": "execute_result"
    }
   ],
   "source": [
    "today = datetime.datetime.now()\n",
    "if today.weekday() == 5:\n",
    "    today = today - datetime.timedelta(days=1)\n",
    "if today.weekday() == 6:\n",
    "    today = today - datetime.timedelta(days=2)\n",
    "today = str(today).split(' ')[0]\n",
    "today = pd.to_datetime(today)\n",
    "today"
   ]
  },
  {
   "cell_type": "code",
   "execution_count": 17,
   "metadata": {
    "collapsed": true
   },
   "outputs": [],
   "source": [
    "new_dat = dat.loc[dat['buyDate'] > today, :]\n",
    "dat     = dat.loc[dat['buyDate'] <= today, :]\n",
    "stocks = new_dat['stock']"
   ]
  },
  {
   "cell_type": "code",
   "execution_count": 18,
   "metadata": {
    "collapsed": true
   },
   "outputs": [],
   "source": [
    "def drop_missing(dfs, y_col):\n",
    "    X = dfs[0].copy()\n",
    "    # cols\n",
    "    drop_cols = [col for col in list(X) if type(col[0]) == np.float and col.isnan().all()]\n",
    "    X = X.drop(drop_cols, axis=1)\n",
    "    X2 = dfs[1].drop(drop_cols, axis=1)\n",
    "    return X.loc[np.isnan(dat[y_col]) == False, :], X2"
   ]
  },
  {
   "cell_type": "code",
   "execution_count": 19,
   "metadata": {
    "collapsed": true
   },
   "outputs": [],
   "source": [
    "dat, new_dat = drop_missing([dat, new_dat], 'd30Gains')"
   ]
  },
  {
   "cell_type": "code",
   "execution_count": 20,
   "metadata": {
    "collapsed": true
   },
   "outputs": [],
   "source": [
    "def split_xy(df, y_col, first_X):\n",
    "    y = df[y_col]\n",
    "    start_col = list(df).index(first_X)\n",
    "    X = df.iloc[:, start_col:]\n",
    "    return X, y"
   ]
  },
  {
   "cell_type": "code",
   "execution_count": 21,
   "metadata": {
    "collapsed": false
   },
   "outputs": [
    {
     "data": {
      "text/plain": [
       "[]"
      ]
     },
     "execution_count": 21,
     "metadata": {},
     "output_type": "execute_result"
    }
   ],
   "source": [
    "X, y         = split_xy(dat,     'd30Gains', 'MFRisk')\n",
    "X_new, y_new = split_xy(new_dat, 'd30Gains', 'MFRisk')\n",
    "[print('Mismatch:', x, xn) for (x, xn) in zip(list(X), list(X_new)) \n",
    " if x != xn]"
   ]
  },
  {
   "cell_type": "code",
   "execution_count": 22,
   "metadata": {
    "collapsed": false
   },
   "outputs": [
    {
     "name": "stdout",
     "output_type": "stream",
     "text": [
      "Training size:   170\n",
      "Validation size: 36\n",
      "Test       size: 36\n"
     ]
    }
   ],
   "source": [
    "n = X.shape[0]\n",
    "TRAIN = 0.7\n",
    "VALIDATE = 0.15\n",
    "TEST = 0.15\n",
    "print(\n",
    "    'Training size:   %.0f\\nValidation size: %.0f\\nTest       size: %.0f'\n",
    "    %(TRAIN * n, VALIDATE * n, TEST * n))"
   ]
  },
  {
   "cell_type": "code",
   "execution_count": 23,
   "metadata": {
    "collapsed": true
   },
   "outputs": [],
   "source": [
    "# Train, Not Train\n",
    "X_train, X_vt, y_train, y_vt = train_test_split(\n",
    "    X, y, test_size=VALIDATE + TEST)\n",
    "\n",
    "# Validate Test\n",
    "X_valid, X_test, y_valid, y_test = train_test_split(\n",
    "    X_vt, y_vt, test_size=(TEST / (TEST + VALIDATE)))\n",
    "\n",
    "# Reindex\n",
    "X_train.index = range(len(y_train))\n",
    "y_train.index = range(len(y_train))\n",
    "\n",
    "X_valid.index = range(len(y_valid))\n",
    "y_valid.index = range(len(y_valid))\n",
    "\n",
    "X_test.index = range(len(y_test))\n",
    "y_test.index = range(len(y_test))\n",
    "y_test = y_test.values.reshape(-1, 1)"
   ]
  },
  {
   "cell_type": "code",
   "execution_count": 24,
   "metadata": {
    "collapsed": false
   },
   "outputs": [
    {
     "name": "stdout",
     "output_type": "stream",
     "text": [
      "train:    (170, 125)\n",
      "validate: (36, 125)\n",
      "test:     (37, 125)\n",
      "new:      (14, 125)\n"
     ]
    }
   ],
   "source": [
    "print('train:   ', X_train.shape)\n",
    "print('validate:', X_valid.shape)\n",
    "print('test:    ', X_test.shape)\n",
    "print('new:     ', X_new.shape)"
   ]
  },
  {
   "cell_type": "code",
   "execution_count": 25,
   "metadata": {
    "collapsed": false
   },
   "outputs": [
    {
     "name": "stderr",
     "output_type": "stream",
     "text": [
      "/usr/local/lib/python3.6/site-packages/ipykernel_launcher.py:7: SettingWithCopyWarning: \n",
      "A value is trying to be set on a copy of a slice from a DataFrame\n",
      "\n",
      "See the caveats in the documentation: http://pandas.pydata.org/pandas-docs/stable/indexing.html#indexing-view-versus-copy\n",
      "  import sys\n",
      "/usr/local/lib/python3.6/site-packages/ipykernel_launcher.py:8: SettingWithCopyWarning: \n",
      "A value is trying to be set on a copy of a slice from a DataFrame\n",
      "\n",
      "See the caveats in the documentation: http://pandas.pydata.org/pandas-docs/stable/indexing.html#indexing-view-versus-copy\n",
      "  \n"
     ]
    }
   ],
   "source": [
    "# WHILE DATA SET IS SMALL, restrict values in new data to the range seen \n",
    "# in training data\n",
    "if X_test.shape[0] < 100:\n",
    "    for col in list(X_train):\n",
    "        if col not in ['spVal', 'days']:\n",
    "            mn, mx = np.min(X_train[col]), np.max(X_train[col])\n",
    "            X_new[col][X_new[col] < mn] = mn\n",
    "            X_new[col][X_new[col] > mx] = mx\n",
    "else: \n",
    "    print('Data large enough.  Remove this cell.')"
   ]
  },
  {
   "cell_type": "code",
   "execution_count": 26,
   "metadata": {
    "collapsed": true
   },
   "outputs": [],
   "source": [
    "remove_empties = []\n",
    "\n",
    "for col in list(X_train):\n",
    "    try:\n",
    "        if np.isnan(X_train[col]).any():\n",
    "            remove_empties.append(col)\n",
    "            print('Removing ', col)\n",
    "    except:\n",
    "        print('\\tCould not check', col)\n",
    "        \n",
    "X_train = X_train.drop(remove_empties, axis=1)\n",
    "X_valid = X_valid.drop(remove_empties, axis=1)\n",
    "X_test  = X_test.drop(remove_empties, axis=1)\n",
    "X_new   = X_new.drop(remove_empties, axis=1)"
   ]
  },
  {
   "cell_type": "code",
   "execution_count": 27,
   "metadata": {
    "collapsed": true
   },
   "outputs": [],
   "source": [
    "# Normalize data\n",
    "scaler = StandardScaler()\n",
    "X_train = scaler.fit_transform(X_train)\n",
    "X_valid = scaler.transform(X_valid)\n",
    "X_test = scaler.transform(X_test)\n",
    "X_new  = scaler.transform(X_new)"
   ]
  },
  {
   "cell_type": "markdown",
   "metadata": {},
   "source": [
    "# Ridge Regression Model for Baseline"
   ]
  },
  {
   "cell_type": "code",
   "execution_count": 203,
   "metadata": {
    "collapsed": false
   },
   "outputs": [],
   "source": [
    "pipe_ridge = Pipeline([(\n",
    "    'clf', Ridge(random_state = 11235, max_iter = 5000))])\n",
    "alpha_range = np.linspace(0, 5000, 50)\n",
    "train_scores, test_scores = validation_curve(estimator = pipe_ridge,\n",
    "                                             X = X_train,\n",
    "                                             y = y_train,\n",
    "                                             param_name = 'clf__alpha',\n",
    "                                             param_range = alpha_range,\n",
    "                                             cv = 30,\n",
    "                                             n_jobs = -1)\n",
    "train_mean = np.mean(train_scores, axis = 1)\n",
    "train_std  = np.std(train_scores,  axis = 1)\n",
    "test_mean  = np.mean(test_scores,  axis = 1)\n",
    "test_std   = np.std(test_scores,   axis = 1)"
   ]
  },
  {
   "cell_type": "code",
   "execution_count": 204,
   "metadata": {
    "collapsed": false
   },
   "outputs": [
    {
     "data": {
      "image/png": "[encoded data removed]",
      "text/plain": [
       "<matplotlib.figure.Figure at 0x117473048>"
      ]
     },
     "metadata": {},
     "output_type": "display_data"
    }
   ],
   "source": [
    "plt.plot(alpha_range,\n",
    "         train_mean,\n",
    "         color = 'blue',\n",
    "         marker = 'o',\n",
    "         markersize = 5,\n",
    "         label = 'training score');\n",
    "plt.fill_between(alpha_range,\n",
    "                 train_mean + train_std,\n",
    "                 train_mean - train_std,\n",
    "                 alpha = 0.15,\n",
    "                color = 'blue');\n",
    "plt.plot(alpha_range,\n",
    "         test_mean,\n",
    "         color = 'red',\n",
    "         linestyle = '--',\n",
    "         marker = 's',\n",
    "         markersize = 5,\n",
    "         label = 'validation score');\n",
    "plt.fill_between(alpha_range,\n",
    "                 test_mean + test_std,\n",
    "                 test_mean - test_std,\n",
    "                 alpha = 0.15,\n",
    "                 color = 'red');\n",
    "plt.grid();\n",
    "plt.legend(loc = 'lower left');\n",
    "#plt.xscale('log');\n",
    "plt.xlabel('Parameter alpha');\n",
    "plt.ylabel('Score');\n",
    "plt.ylim([-2, 1]);\n",
    "#plt.xlim([0, 300]);"
   ]
  },
  {
   "cell_type": "code",
   "execution_count": 205,
   "metadata": {
    "collapsed": false
   },
   "outputs": [
    {
     "data": {
      "text/plain": [
       "array([ 1326.53061224])"
      ]
     },
     "execution_count": 205,
     "metadata": {},
     "output_type": "execute_result"
    }
   ],
   "source": [
    "best_alpha = alpha_range[np.where(test_mean == max(test_mean))]\n",
    "best_alpha"
   ]
  },
  {
   "cell_type": "code",
   "execution_count": 208,
   "metadata": {
    "collapsed": false
   },
   "outputs": [
    {
     "data": {
      "text/plain": [
       "Ridge(alpha=array([ 1326.53061]), copy_X=True, fit_intercept=True,\n",
       "   max_iter=None, normalize=False, random_state=None, solver='auto',\n",
       "   tol=0.001)"
      ]
     },
     "execution_count": 208,
     "metadata": {},
     "output_type": "execute_result"
    }
   ],
   "source": [
    "best_ridge = Ridge(alpha = best_alpha)\n",
    "best_ridge.fit(X_train, y_train)"
   ]
  },
  {
   "cell_type": "code",
   "execution_count": 213,
   "metadata": {
    "collapsed": false
   },
   "outputs": [
    {
     "data": {
      "text/plain": [
       "0.080423557592070177"
      ]
     },
     "execution_count": 213,
     "metadata": {},
     "output_type": "execute_result"
    }
   ],
   "source": [
    "preds = best_ridge.predict(X_valid)\n",
    "rmse_ridge = np.sqrt(((preds - y_valid) ** 2).sum() / len(y_valid))\n",
    "rmse_ridge"
   ]
  },
  {
   "cell_type": "code",
   "execution_count": 237,
   "metadata": {
    "collapsed": false
   },
   "outputs": [
    {
     "data": {
      "text/plain": [
       "['jd',\n",
       " 'masi',\n",
       " 'tmus',\n",
       " 'nyt',\n",
       " 'ndaq',\n",
       " 'mtch',\n",
       " 'mtn',\n",
       " 'sbux',\n",
       " 'dis',\n",
       " 'mmm',\n",
       " 'pypl',\n",
       " 'mkc',\n",
       " 'intu',\n",
       " 'kmi']"
      ]
     },
     "execution_count": 237,
     "metadata": {},
     "output_type": "execute_result"
    }
   ],
   "source": [
    "list(stocks)"
   ]
  },
  {
   "cell_type": "code",
   "execution_count": 246,
   "metadata": {
    "collapsed": false
   },
   "outputs": [
    {
     "data": {
      "text/html": [
       "<div>\n",
       "<style>\n",
       "    .dataframe thead tr:only-child th {\n",
       "        text-align: right;\n",
       "    }\n",
       "\n",
       "    .dataframe thead th {\n",
       "        text-align: left;\n",
       "    }\n",
       "\n",
       "    .dataframe tbody tr th {\n",
       "        vertical-align: top;\n",
       "    }\n",
       "</style>\n",
       "<table border=\"1\" class=\"dataframe\">\n",
       "  <thead>\n",
       "    <tr style=\"text-align: right;\">\n",
       "      <th></th>\n",
       "      <th>preds</th>\n",
       "      <th>stock</th>\n",
       "    </tr>\n",
       "  </thead>\n",
       "  <tbody>\n",
       "    <tr>\n",
       "      <th>10</th>\n",
       "      <td>1.024182</td>\n",
       "      <td>pypl</td>\n",
       "    </tr>\n",
       "    <tr>\n",
       "      <th>5</th>\n",
       "      <td>1.022304</td>\n",
       "      <td>mtch</td>\n",
       "    </tr>\n",
       "    <tr>\n",
       "      <th>1</th>\n",
       "      <td>1.017633</td>\n",
       "      <td>masi</td>\n",
       "    </tr>\n",
       "    <tr>\n",
       "      <th>4</th>\n",
       "      <td>1.016506</td>\n",
       "      <td>ndaq</td>\n",
       "    </tr>\n",
       "    <tr>\n",
       "      <th>11</th>\n",
       "      <td>1.012054</td>\n",
       "      <td>mkc</td>\n",
       "    </tr>\n",
       "    <tr>\n",
       "      <th>13</th>\n",
       "      <td>1.011709</td>\n",
       "      <td>kmi</td>\n",
       "    </tr>\n",
       "    <tr>\n",
       "      <th>9</th>\n",
       "      <td>1.011428</td>\n",
       "      <td>mmm</td>\n",
       "    </tr>\n",
       "    <tr>\n",
       "      <th>3</th>\n",
       "      <td>1.010969</td>\n",
       "      <td>nyt</td>\n",
       "    </tr>\n",
       "    <tr>\n",
       "      <th>12</th>\n",
       "      <td>1.009946</td>\n",
       "      <td>intu</td>\n",
       "    </tr>\n",
       "    <tr>\n",
       "      <th>8</th>\n",
       "      <td>1.009001</td>\n",
       "      <td>dis</td>\n",
       "    </tr>\n",
       "    <tr>\n",
       "      <th>6</th>\n",
       "      <td>1.008330</td>\n",
       "      <td>mtn</td>\n",
       "    </tr>\n",
       "    <tr>\n",
       "      <th>7</th>\n",
       "      <td>1.005509</td>\n",
       "      <td>sbux</td>\n",
       "    </tr>\n",
       "    <tr>\n",
       "      <th>2</th>\n",
       "      <td>1.005151</td>\n",
       "      <td>tmus</td>\n",
       "    </tr>\n",
       "    <tr>\n",
       "      <th>0</th>\n",
       "      <td>1.004443</td>\n",
       "      <td>jd</td>\n",
       "    </tr>\n",
       "  </tbody>\n",
       "</table>\n",
       "</div>"
      ],
      "text/plain": [
       "       preds stock\n",
       "10  1.024182  pypl\n",
       "5   1.022304  mtch\n",
       "1   1.017633  masi\n",
       "4   1.016506  ndaq\n",
       "11  1.012054   mkc\n",
       "13  1.011709   kmi\n",
       "9   1.011428   mmm\n",
       "3   1.010969   nyt\n",
       "12  1.009946  intu\n",
       "8   1.009001   dis\n",
       "6   1.008330   mtn\n",
       "7   1.005509  sbux\n",
       "2   1.005151  tmus\n",
       "0   1.004443    jd"
      ]
     },
     "execution_count": 246,
     "metadata": {},
     "output_type": "execute_result"
    }
   ],
   "source": [
    "pred_new = best_ridge.predict(X_new)\n",
    "ridge_preds = pd.DataFrame(data=pred_new, columns=['preds'])\n",
    "ridge_preds['stock'] = list(stocks)\n",
    "ridge_preds = ridge_preds.sort_values('preds', ascending=False)\n",
    "ridge_preds.head(len(stocks))"
   ]
  },
  {
   "cell_type": "markdown",
   "metadata": {},
   "source": [
    "# Neural Net"
   ]
  },
  {
   "cell_type": "code",
   "execution_count": 28,
   "metadata": {
    "collapsed": true
   },
   "outputs": [],
   "source": [
    "#!mkdir stock_model_logs"
   ]
  },
  {
   "cell_type": "code",
   "execution_count": 29,
   "metadata": {
    "collapsed": true
   },
   "outputs": [],
   "source": [
    "def batch_norm(x, n_out, phase_train, layer_type):\n",
    "    beta_init  = tf.constant_initializer(value=0.0, dtype=tf.float32)\n",
    "    gamma_init = tf.constant_initializer(value=1.0, dtype=tf.float32)\n",
    "    beta  = tf.get_variable('beta',  [n_out], initializer=beta_init)\n",
    "    gamma = tf.get_variable('gamma', [n_out], initializer=gamma_init)\n",
    "    axes = [0, 1, 2] if layer_type == 'conv' else [0]\n",
    "    batch_mean, batch_var = tf.nn.moments(x, axes, name='moments')\n",
    "    ema = tf.train.ExponentialMovingAverage(decay=0.9)\n",
    "    ema_apply_op = ema.apply([batch_mean, batch_var])\n",
    "    \n",
    "    def  mean_var_with_update():\n",
    "        with tf.control_dependencies([ema_apply_op]):\n",
    "            return tf.identity(batch_mean), tf.identity(batch_var)\n",
    "    \n",
    "    ema_mean, ema_var = ema.average(batch_mean), ema.average(batch_var)\n",
    "    mean, var = control_flow_ops.cond(\n",
    "        phase_train, mean_var_with_update, lambda: (ema_mean, ema_var))\n",
    "    \n",
    "    if layer_type != 'conv':\n",
    "        x = tf.reshape(x, [-1, 1, 1, n_out])\n",
    "    normed = tf.nn.batch_norm_with_global_normalization(\n",
    "        x, mean, var, beta, gamma, 1e-3, True)\n",
    "    \n",
    "    if layer_type != 'conv':\n",
    "        normed = tf.reshape(normed, [-1, n_out])\n",
    "    return normed"
   ]
  },
  {
   "cell_type": "code",
   "execution_count": 30,
   "metadata": {
    "collapsed": true
   },
   "outputs": [],
   "source": [
    "def layer_batch_norm(x, n_out, phase_train):\n",
    "    return batch_norm(x, n_out, phase_train, 'fully_connected')"
   ]
  },
  {
   "cell_type": "code",
   "execution_count": 31,
   "metadata": {
    "collapsed": false
   },
   "outputs": [],
   "source": [
    "# Create a fully-connected layer\n",
    "def layer(input, weight_shape, bias_shape, phase_train):\n",
    "    weight_init = tf.random_normal_initializer(\n",
    "        stddev=(2. / weight_shape[0]) ** 0.5)  # He\n",
    "        #stddev=(2. / (weight_shape[0] + weight_shape[1])) ** 0.5) # Xavier\n",
    "    bias_init = tf.constant_initializer(value=0)\n",
    "    W = tf.get_variable('W', weight_shape, initializer=weight_init)\n",
    "    b = tf.get_variable('b', bias_shape, initializer=bias_init)\n",
    "    logits = tf.matmul(input, W) + b\n",
    "    return tf.nn.relu(layer_batch_norm(  # <- or tanh\n",
    "        logits, weight_shape[1], phase_train))"
   ]
  },
  {
   "cell_type": "code",
   "execution_count": 32,
   "metadata": {
    "collapsed": true
   },
   "outputs": [],
   "source": [
    "# Make with 2 fc layers, then update to generalize\n",
    "def inference(x, keep_prob, phase_train, n_neurons):\n",
    "    inputs = x\n",
    "    for i in range(len(n_neurons) - 1):\n",
    "        with tf.variable_scope('fc' + str(i + 1)):\n",
    "            inputs = layer(inputs, \n",
    "                           [n_neurons[i], n_neurons[i + 1]],\n",
    "                           n_neurons[i + 1],\n",
    "                           phase_train)\n",
    "            inputs = tf.nn.dropout(inputs, keep_prob)\n",
    "    return inputs"
   ]
  },
  {
   "cell_type": "code",
   "execution_count": 33,
   "metadata": {
    "collapsed": false
   },
   "outputs": [],
   "source": [
    "def loss(output, y):\n",
    "    #cost = tf.reduce_sum(tf.pow(output - y, 2)) # SSE\n",
    "    cost = tf.sqrt(\n",
    "        tf.reduce_mean(tf.square(tf.subtract(y, output)))) # RMSE\n",
    "    return cost"
   ]
  },
  {
   "cell_type": "code",
   "execution_count": 34,
   "metadata": {
    "collapsed": true
   },
   "outputs": [],
   "source": [
    "def training(cost, global_step):\n",
    "    #tf.summary.scalar('cost', cost)\n",
    "    eta0 = ETA\n",
    "    eta = tf.train.exponential_decay(\n",
    "        eta0, global_step, DECAY_STEPS, DECAY_RATE, name='eta')\n",
    "    optimizer = tf.train.AdamOptimizer(eta)\n",
    "    train_op = optimizer.minimize(cost, global_step=global_step)\n",
    "    return train_op"
   ]
  },
  {
   "cell_type": "code",
   "execution_count": 35,
   "metadata": {
    "collapsed": false
   },
   "outputs": [
    {
     "data": {
      "text/plain": [
       "[]"
      ]
     },
     "execution_count": 35,
     "metadata": {},
     "output_type": "execute_result"
    }
   ],
   "source": [
    "ops.reset_default_graph()\n",
    "g = tf.get_default_graph()\n",
    "[op.name for op in g.get_operations()]"
   ]
  },
  {
   "cell_type": "code",
   "execution_count": 36,
   "metadata": {
    "collapsed": true
   },
   "outputs": [],
   "source": [
    "def training(cost, global_step):\n",
    "    #tf.summary.scalar('cost', cost)\n",
    "    optimizer = tf.train.AdamOptimizer(ETA)\n",
    "    train_op = optimizer.minimize(cost, global_step=global_step)\n",
    "    return train_op"
   ]
  },
  {
   "cell_type": "code",
   "execution_count": 37,
   "metadata": {
    "collapsed": true
   },
   "outputs": [],
   "source": [
    "# Run only before first model is executed\n",
    "best_error_so_far = np.Inf"
   ]
  },
  {
   "cell_type": "code",
   "execution_count": 187,
   "metadata": {
    "collapsed": true
   },
   "outputs": [],
   "source": [
    "N, D = X_train.shape\n",
    "\n",
    "# Hyperparmeters to tune\n",
    "DROPOUT_RATE = 0.12\n",
    "n_neurons = [D, D, D, D, D, D, 1]\n",
    "\n",
    "# Programmed Learning with Decay\n",
    "ETA = 0.005 # Learning rate\n",
    "DECAY_STEPS = 100  # eta updates after this many epochs\n",
    "DECAY_RATE = 0.99  # factor to change eta by\n",
    "\n",
    "BATCH_SIZE = 64\n",
    "EPOCHS = 15000\n",
    "\n",
    "DISPLAY_STEP = 200"
   ]
  },
  {
   "cell_type": "code",
   "execution_count": 188,
   "metadata": {
    "collapsed": false
   },
   "outputs": [
    {
     "name": "stdout",
     "output_type": "stream",
     "text": [
      "Epoch: 0001 Cost: 0.40780780\tValidation cost: 1.02117503\n",
      "Epoch: 0201 Cost: 0.22762090\tValidation cost: 0.18562771\n",
      "Epoch: 0401 Cost: 0.20300350\tValidation cost: 0.18501712\n",
      "Epoch: 0601 Cost: 0.20300527\tValidation cost: 0.18400052\n",
      "Epoch: 0801 Cost: 0.18750225\tValidation cost: 0.18407060\n",
      "Epoch: 1001 Cost: 0.18342398\tValidation cost: 0.18403010\n",
      "Epoch: 1201 Cost: 0.19924150\tValidation cost: 0.18536009\n",
      "Epoch: 1401 Cost: 0.21740098\tValidation cost: 0.18444216\n",
      "Epoch: 1601 Cost: 0.18749993\tValidation cost: 0.18170607\n",
      "Epoch: 1801 Cost: 0.19923867\tValidation cost: 0.18407451\n",
      "Epoch: 2001 Cost: 0.20669436\tValidation cost: 0.18394010\n",
      "Epoch: 2201 Cost: 0.18750057\tValidation cost: 0.18510979\n",
      "Epoch: 2401 Cost: 0.22760315\tValidation cost: 0.18417341\n",
      "Epoch: 2601 Cost: 0.18750449\tValidation cost: 0.18235841\n",
      "Epoch: 2801 Cost: 0.19540392\tValidation cost: 0.18310298\n",
      "Epoch: 3001 Cost: 0.22085226\tValidation cost: 0.18165453\n",
      "Epoch: 3201 Cost: 0.20300403\tValidation cost: 0.18480864\n",
      "Epoch: 3401 Cost: 0.21033064\tValidation cost: 0.18467306\n",
      "Epoch: 3601 Cost: 0.22760209\tValidation cost: 0.18301784\n",
      "Epoch: 3801 Cost: 0.19149265\tValidation cost: 0.18471336\n",
      "Epoch: 4001 Cost: 0.21740508\tValidation cost: 0.18383230\n",
      "Epoch: 4201 Cost: 0.20300053\tValidation cost: 0.18325168\n",
      "Epoch: 4401 Cost: 0.22085223\tValidation cost: 0.18050534\n",
      "Epoch: 4601 Cost: 0.21389250\tValidation cost: 0.18115152\n",
      "Epoch: 4801 Cost: 0.19541150\tValidation cost: 0.18184760\n",
      "Epoch: 5001 Cost: 0.21389277\tValidation cost: 0.18139346\n",
      "Epoch: 5201 Cost: 0.18342164\tValidation cost: 0.18062073\n",
      "Epoch: 5401 Cost: 0.19540443\tValidation cost: 0.18331414\n",
      "Epoch: 5601 Cost: 0.21033168\tValidation cost: 0.17884897\n",
      "Epoch: 5801 Cost: 0.17924784\tValidation cost: 0.18074703\n",
      "Epoch: 6001 Cost: 0.18749981\tValidation cost: 0.18023558\n",
      "Epoch: 6201 Cost: 0.22425406\tValidation cost: 0.17801787\n",
      "Epoch: 6401 Cost: 0.18343735\tValidation cost: 0.17298539\n",
      "Epoch: 6601 Cost: 0.19149286\tValidation cost: 0.17581117\n",
      "Epoch: 6801 Cost: 0.21740560\tValidation cost: 0.17623505\n",
      "Epoch: 7001 Cost: 0.20669444\tValidation cost: 0.17479415\n",
      "Epoch: 7201 Cost: 0.19540435\tValidation cost: 0.17472792\n",
      "Epoch: 7401 Cost: 0.17924704\tValidation cost: 0.17561553\n",
      "Epoch: 7601 Cost: 0.20669417\tValidation cost: 0.17447229\n",
      "Epoch: 7801 Cost: 0.19540599\tValidation cost: 0.17226884\n",
      "Epoch: 8001 Cost: 0.19540367\tValidation cost: 0.17443460\n",
      "Epoch: 8201 Cost: 0.17925027\tValidation cost: 0.17420079\n",
      "Epoch: 8401 Cost: 0.16148639\tValidation cost: 0.17327279\n",
      "Epoch: 8601 Cost: 0.18750218\tValidation cost: 0.17138153\n",
      "Epoch: 8801 Cost: 0.17498878\tValidation cost: 0.17172274\n",
      "Epoch: 9001 Cost: 0.19540747\tValidation cost: 0.17555705\n",
      "Epoch: 9201 Cost: 0.18342191\tValidation cost: 0.17432286\n",
      "Epoch: 9401 Cost: 0.18342099\tValidation cost: 0.17469206\n",
      "Epoch: 9601 Cost: 0.15672888\tValidation cost: 0.17423765\n",
      "Epoch: 9801 Cost: 0.18341985\tValidation cost: 0.17352462\n",
      "Epoch: 10001 Cost: 0.21389119\tValidation cost: 0.17123128\n",
      "Epoch: 10201 Cost: 0.19149366\tValidation cost: 0.17331932\n",
      "Epoch: 10401 Cost: 0.20300041\tValidation cost: 0.17279646\n",
      "Epoch: 10601 Cost: 0.18342124\tValidation cost: 0.17351481\n",
      "Epoch: 10801 Cost: 0.19149551\tValidation cost: 0.17297477\n",
      "Epoch: 11001 Cost: 0.19923928\tValidation cost: 0.17210034\n",
      "Epoch: 11201 Cost: 0.19149260\tValidation cost: 0.17282864\n",
      "Epoch: 11401 Cost: 0.20300123\tValidation cost: 0.17287190\n",
      "Epoch: 11601 Cost: 0.21739937\tValidation cost: 0.17258693\n",
      "Epoch: 11801 Cost: 0.19540508\tValidation cost: 0.17241478\n",
      "Epoch: 12001 Cost: 0.16610169\tValidation cost: 0.17179729\n",
      "Epoch: 12201 Cost: 0.18342012\tValidation cost: 0.17299858\n",
      "Epoch: 12401 Cost: 0.21389090\tValidation cost: 0.17096969\n",
      "Epoch: 12601 Cost: 0.21389116\tValidation cost: 0.17138942\n",
      "Epoch: 12801 Cost: 0.19540413\tValidation cost: 0.17200929\n",
      "Epoch: 13001 Cost: 0.20669550\tValidation cost: 0.17216004\n",
      "Epoch: 13201 Cost: 0.16148201\tValidation cost: 0.17164029\n",
      "Epoch: 13401 Cost: 0.18342054\tValidation cost: 0.17145316\n",
      "Epoch: 13601 Cost: 0.19924030\tValidation cost: 0.17139669\n",
      "Epoch: 13801 Cost: 0.17924784\tValidation cost: 0.17683885\n",
      "Epoch: 14001 Cost: 0.18342052\tValidation cost: 0.17121887\n",
      "Epoch: 14201 Cost: 0.18342106\tValidation cost: 0.17104058\n",
      "Epoch: 14401 Cost: 0.21389136\tValidation cost: 0.17311341\n",
      "Epoch: 14601 Cost: 0.18750003\tValidation cost: 0.17020604\n",
      "Epoch: 14801 Cost: 0.20669486\tValidation cost: 0.17254987\n",
      "Optimization complete...\n",
      "Test RMSE: 0.16535252\n",
      "\n",
      "\n",
      "   Stock  Prediction  LowerBound  UpperBound\n",
      "0     jd     0.85378    0.523075    1.184485\n",
      "1   masi     0.85378    0.523075    1.184485\n",
      "2   tmus     0.85378    0.523075    1.184485\n",
      "3    nyt     0.85378    0.523075    1.184485\n",
      "4   ndaq     0.85378    0.523075    1.184485\n",
      "5   mtch     0.85378    0.523075    1.184485\n",
      "6    mtn     0.85378    0.523075    1.184485\n",
      "7   sbux     0.85378    0.523075    1.184485\n",
      "8    dis     0.85378    0.523075    1.184485\n",
      "9    mmm     0.85378    0.523075    1.184485\n",
      "10  pypl     0.85378    0.523075    1.184485\n",
      "11   mkc     0.85378    0.523075    1.184485\n",
      "12  intu     0.85378    0.523075    1.184485\n",
      "13   kmi     0.85378    0.523075    1.184485\n"
     ]
    }
   ],
   "source": [
    "train_err = []\n",
    "valid_err = []\n",
    "\n",
    "with tf.device('/gpu:0'):\n",
    "    with tf.Graph().as_default():\n",
    "        with tf.variable_scope('stock_mod'):\n",
    "            # Init\n",
    "            X = tf.placeholder(tf.float32, shape=[None, D], name='X')\n",
    "            y = tf.placeholder(tf.float32, shape=None, name='y')\n",
    "            keep_prob = tf.placeholder(tf.float32)\n",
    "            phase_train = tf.placeholder(tf.bool) # T=train, F=Valid/Test\n",
    "            output = inference(X, keep_prob, phase_train, n_neurons)\n",
    "            cost = loss(output, y)\n",
    "            global_step = tf.Variable(\n",
    "                0, name='global_step', trainable=False)\n",
    "            train_op = training(cost, global_step)\n",
    "            saver = tf.train.Saver()\n",
    "            sess = tf.Session()\n",
    "            init_op = tf.global_variables_initializer()\n",
    "            sess.run(init_op)\n",
    "            tf.train.start_queue_runners(sess=sess)\n",
    "            \n",
    "            # Train\n",
    "            for epoch in range(EPOCHS):\n",
    "                avg_rmse = 0.\n",
    "                idxs = np.random.permutation(range(N))\n",
    "                n_batches = len(idxs) // BATCH_SIZE\n",
    "                \n",
    "                for batch in range(n_batches):\n",
    "                    _, new_cost = sess.run(\n",
    "                        [train_op, cost],\n",
    "                        feed_dict={X: X_train[idxs, :],\n",
    "                                   y: y_train[idxs],\n",
    "                                   keep_prob: 1 - DROPOUT_RATE,\n",
    "                                   phase_train: True})\n",
    "                avg_rmse += new_cost / n_batches\n",
    "                train_err.append(avg_rmse)\n",
    "\n",
    "                validate_rmse = sess.run(\n",
    "                    cost,\n",
    "                    feed_dict={X: X_valid,\n",
    "                               y: y_valid,\n",
    "                               keep_prob: 1.,\n",
    "                               phase_train: False})\n",
    "                valid_err.append(validate_rmse)\n",
    "\n",
    "                # Display output per display step\n",
    "                if epoch % DISPLAY_STEP == 0:\n",
    "                    print('Epoch: %04d Cost: %.8f\\tValidation cost: %.8f' \n",
    "                          %(epoch + 1, avg_rmse, validate_rmse))\n",
    "\n",
    "                    saver.save(sess, \n",
    "                               'stock_model_logs/model.ckpt', \n",
    "                               global_step=global_step)\n",
    "            print('Optimization complete...')\n",
    "            test_rmse = sess.run(cost, \n",
    "                                feed_dict={X: X_test,\n",
    "                                           y: y_test,\n",
    "                                           keep_prob: 1.,\n",
    "                                           phase_train: False})\n",
    "            print('Test RMSE: %.8f\\n\\n' %test_rmse)\n",
    "            \n",
    "            new_preds = sess.run(output, \n",
    "                                 feed_dict={X: X_new,\n",
    "                                            keep_prob: 1., \n",
    "                                            phase_train: False})\n",
    "            final_out = []\n",
    "            for (stock, pred) in zip(\n",
    "                    stocks, new_preds.reshape(new_preds.shape[0])):\n",
    "                final_out.append([stock, pred])\n",
    "    \n",
    "            out = pd.DataFrame(columns=['Stock', 'Prediction'], \n",
    "                               data=final_out)\n",
    "            out['LowerBound'] = out['Prediction'] - 2 * test_rmse\n",
    "            out['UpperBound'] = out['Prediction'] + 2 * test_rmse\n",
    "            out = out.sort_values('Prediction', ascending=False)\n",
    "            print(out.head(len(stocks)))"
   ]
  },
  {
   "cell_type": "code",
   "execution_count": 189,
   "metadata": {
    "collapsed": false
   },
   "outputs": [
    {
     "name": "stdout",
     "output_type": "stream",
     "text": [
      "0.0863518090966\n"
     ]
    }
   ],
   "source": [
    "#print(np.mean(y_train))\n",
    "print(np.std(y_train))"
   ]
  },
  {
   "cell_type": "code",
   "execution_count": 190,
   "metadata": {
    "collapsed": false
   },
   "outputs": [
    {
     "data": {
      "image/png": "[encoded data removed]",
      "text/plain": [
       "<matplotlib.figure.Figure at 0x116cdc860>"
      ]
     },
     "metadata": {},
     "output_type": "display_data"
    }
   ],
   "source": [
    "plt.plot(train_err, 'k-', label='train');\n",
    "plt.plot(valid_err, 'r-', label='validate');\n",
    "plt.legend(loc='best');\n",
    "plt.xlabel('Epochs');\n",
    "plt.ylabel('RMSE');\n",
    "plt.yscale('log')\n",
    "#plt.xscale('log')"
   ]
  },
  {
   "cell_type": "code",
   "execution_count": 191,
   "metadata": {
    "collapsed": false
   },
   "outputs": [
    {
     "name": "stdout",
     "output_type": "stream",
     "text": [
      "Previous Best: 0.189844\n",
      "This run:      0.171361\n"
     ]
    }
   ],
   "source": [
    "appx_validation_error = np.mean(valid_err[-100:])\n",
    "print('Previous Best:', best_error_so_far)\n",
    "print('This run:     ', appx_validation_error)"
   ]
  },
  {
   "cell_type": "code",
   "execution_count": 192,
   "metadata": {
    "collapsed": false
   },
   "outputs": [
    {
     "name": "stdout",
     "output_type": "stream",
     "text": [
      "New Best Model Found!\n",
      "Hyperparameters:\n",
      "----------------------------------------------------------------------\n",
      "best_error_so_far: 0.171361\n",
      "     best_dropout: 0.12\n",
      "best_architecture: [125, 125, 125, 125, 125, 125, 1]\n",
      "         best_eta: 0.005\n",
      " best_decay_steps: 100\n",
      "  best_decay_rate: 0.99\n",
      "           epochs: 15000\n"
     ]
    }
   ],
   "source": [
    "if appx_validation_error < best_error_so_far:\n",
    "    best_error_so_far = appx_validation_error\n",
    "    print('New Best Model Found!\\nHyperparameters:\\n' + ('-' * 70))\n",
    "    hyperparams = {\n",
    "        'best_error_so_far': appx_validation_error,\n",
    "        'best_dropout': DROPOUT_RATE,\n",
    "        'best_architecture': n_neurons,\n",
    "        'best_eta': ETA,\n",
    "        'best_decay_steps': DECAY_STEPS,\n",
    "        'best_decay_rate': DECAY_RATE,\n",
    "        'epochs': EPOCHS}\n",
    "for k, v in hyperparams.items():\n",
    "    print('%17s: %s' %(k, str(v)))"
   ]
  },
  {
   "cell_type": "code",
   "execution_count": null,
   "metadata": {
    "collapsed": true
   },
   "outputs": [],
   "source": []
  }
 ],
 "metadata": {
  "kernelspec": {
   "display_name": "Python 3",
   "language": "python",
   "name": "python3"
  },
  "language_info": {
   "codemirror_mode": {
    "name": "ipython",
    "version": 3
   },
   "file_extension": ".py",
   "mimetype": "text/x-python",
   "name": "python",
   "nbconvert_exporter": "python",
   "pygments_lexer": "ipython3",
   "version": "3.6.1"
  }
 },
 "nbformat": 4,
 "nbformat_minor": 0
}
