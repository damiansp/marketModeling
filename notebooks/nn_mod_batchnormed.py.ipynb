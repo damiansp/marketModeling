{
 "cells": [
  {
   "cell_type": "code",
   "execution_count": 1,
   "metadata": {
    "collapsed": false
   },
   "outputs": [
    {
     "name": "stderr",
     "output_type": "stream",
     "text": [
      "Using TensorFlow backend.\n",
      "/usr/local/Cellar/python3/3.6.1/Frameworks/Python.framework/Versions/3.6/lib/python3.6/site-packages/sklearn/utils/fixes.py:313: FutureWarning: numpy not_equal will not check object identity in the future. The comparison did not return the same result as suggested by the identity (`is`)) and will change.\n",
      "  _nan_object_mask = _nan_object_array != _nan_object_array\n"
     ]
    }
   ],
   "source": [
    "import datetime \n",
    "import matplotlib.pyplot as plt\n",
    "import numpy as np\n",
    "import os\n",
    "import pandas as pd\n",
    "import tensorflow as tf\n",
    "import time\n",
    "from datetime import timedelta\n",
    "from keras.callbacks import EarlyStopping, ModelCheckpoint \n",
    "from keras.layers import Activation, BatchNormalization, Dense, Dropout\n",
    "from keras.models import Sequential\n",
    "from keras.optimizers import Adam\n",
    "from pprint import pprint\n",
    "from sklearn.linear_model import LinearRegression, Ridge\n",
    "from sklearn.pipeline import Pipeline\n",
    "from sklearn.model_selection import (\n",
    "    GridSearchCV, learning_curve, train_test_split, validation_curve)\n",
    "from sklearn.preprocessing import StandardScaler\n",
    "from tensorflow.python.framework import ops\n",
    "from tensorflow.python.ops import control_flow_ops\n",
    "\n",
    "%matplotlib inline\n",
    "plt.rcParams['figure.figsize'] = [15, 10]\n",
    "plt.style.use('ggplot')"
   ]
  },
  {
   "cell_type": "code",
   "execution_count": 2,
   "metadata": {
    "collapsed": true
   },
   "outputs": [],
   "source": [
    "DATA_PATH = '../data/'"
   ]
  },
  {
   "cell_type": "code",
   "execution_count": 3,
   "metadata": {
    "collapsed": false
   },
   "outputs": [
    {
     "name": "stdout",
     "output_type": "stream",
     "text": [
      "total 3968\r\n",
      "drwxr-xr-x  10 dsp  staff      340 Sep  3 12:21 \u001b[34m.\u001b[m\u001b[m\r\n",
      "drwxr-xr-x  11 dsp  staff      374 Sep 30  2017 \u001b[34m..\u001b[m\u001b[m\r\n",
      "-rw-r--r--@  1 dsp  staff     6148 Mar 23  2018 .DS_Store\r\n",
      "-rw-r--r--@  1 dsp  staff    64799 Sep 30  2017 Multistock.csv\r\n",
      "drwxr-xr-x   4 dsp  staff      136 Oct 15 21:17 \u001b[34mbak\u001b[m\u001b[m\r\n",
      "-rw-r--r--   1 dsp  staff   318781 Oct 17 00:38 buyStats.csv\r\n",
      "-rw-r--r--@  1 dsp  staff  1195307 Oct 16 19:50 sp1950.csv\r\n",
      "-rw-r--r--@  1 dsp  staff   358037 Sep  3 12:22 ssec.csv\r\n",
      "-rw-r--r--@  1 dsp  staff    15935 Oct 15 21:17 stocks.csv\r\n",
      "-rw-r--r--   1 dsp  staff    62328 Sep 10 23:23 weights.bestNN.hdf5\r\n"
     ]
    }
   ],
   "source": [
    "!../scripts/copy_data.sh\n",
    "!ls -la ../data"
   ]
  },
  {
   "cell_type": "code",
   "execution_count": 4,
   "metadata": {
    "collapsed": true
   },
   "outputs": [],
   "source": [
    "def read(filepath, pred=False):\n",
    "    dat = pd.read_csv(filepath)\n",
    "    if not pred:\n",
    "        dat['buyDate'] = pd.to_datetime(dat['buyDate'])\n",
    "    return dat"
   ]
  },
  {
   "cell_type": "code",
   "execution_count": 5,
   "metadata": {
    "collapsed": false
   },
   "outputs": [],
   "source": [
    "dat = read(DATA_PATH + 'buyStats.csv')"
   ]
  },
  {
   "cell_type": "code",
   "execution_count": 6,
   "metadata": {
    "collapsed": true
   },
   "outputs": [],
   "source": [
    "def remove_commas(value):\n",
    "    if type(value) == str:\n",
    "        return float(value.replace(',', ''))\n",
    "    else:\n",
    "        return value"
   ]
  },
  {
   "cell_type": "code",
   "execution_count": 7,
   "metadata": {
    "collapsed": false
   },
   "outputs": [],
   "source": [
    "dat['freeCashFlow_'] = dat['freeCashFlow_'].apply(lambda x: remove_commas(x))\n",
    "dat['mCap_'] = dat['mCap_'].apply(lambda x: remove_commas(x))"
   ]
  },
  {
   "cell_type": "code",
   "execution_count": 8,
   "metadata": {
    "collapsed": false
   },
   "outputs": [
    {
     "name": "stdout",
     "output_type": "stream",
     "text": [
      "aerospaceAndDefense, airFreightAndLogistics, airlines, autoComponents, automobiles, banks, beverages, biotechnology, buildingProducts, capitalMarkets, chemicals, commercialServicesAndSupplies, communicationEquipment, constructionAndEngineering, constructionMaterials, consumerFinance, containersAndPackaging, distributors, diversifiedConsumerServices, diversifiedFinancialServices, diversifiedTelecommunicationServices, electricUtilities, electricalEquipment, electronicEquipmentInstrumentsAndComponents, energyEquipmentAndServices, entertainment, equityRealEstateInvestmentTrusts, foodAndStaplesRetailing, foodProducts, gasUtilities, healthCareEquipmentAndSupplies, healthCareProvidersAndServices, healthCareTechnology, hotelsRestaurantsAndLeisure, householdDurables, householdProducts, independentPowerAndRenewableElectricityProducers, industrialConglomerates, insurance, internetAndDirectMarketingRetail, internetSoftwareAndServices, itServices, leisureProducts, lifeSciencesToolsAndServices, machinery, media, metalsAndMining, mortgageRealEstateInvestmentTrusts, multilineRetail, oilGasAndConsumableFuels, paperAndForestProducts, personalProducts, pharmaceuticals, professionalServices, realEstateManagementAndDevelopment, roadAndRail, semiconductorsAndSemiconductorEquipment, software, specialtyRetail, technologyHardwareStorageAndPeripherals, textilesApparelAndLuxuryGoods, thriftsAndMortgageFinance, tobacco, tradingCompaniesAndDistributors, waterUtilities, wirelessTelecommunicationServices, \n",
      "\n",
      "basicMaterials, capitalGoods, conglomerates, consumerCyclical, consumerNonCyclical, energy, financial, healthcare, nan, services, technology, transportation, utilities, "
     ]
    },
    {
     "data": {
      "text/plain": [
       "[None, None, None, None, None, None, None, None, None, None, None, None, None]"
      ]
     },
     "execution_count": 8,
     "metadata": {},
     "output_type": "execute_result"
    }
   ],
   "source": [
    "dat['industry'] = dat['industry'].apply(lambda x: str(x))\n",
    "dat['sector']   = dat['sector'].apply(lambda x: str(x))\n",
    "industries = sorted(np.unique(dat['industry']))\n",
    "sectors    = sorted(np.unique(dat['sector']))\n",
    "[print(ind, end=', ') for ind in industries]\n",
    "print('\\n')\n",
    "[print(sec, end=', ') for sec in sectors]"
   ]
  },
  {
   "cell_type": "code",
   "execution_count": 9,
   "metadata": {
    "collapsed": true
   },
   "outputs": [],
   "source": [
    "def one_hot(df):\n",
    "    X = df.copy()\n",
    "    X[industries] = pd.get_dummies(X['industry'])\n",
    "    X[sectors]    = pd.get_dummies(X['sector'])\n",
    "    X[['mfHold', 'mfNone', 'mfNow', 'mfStart']] = pd.get_dummies(X['MF'])\n",
    "    X = X.drop(['industry', 'size', 'sector', 'MF'], axis=1)\n",
    "    return X"
   ]
  },
  {
   "cell_type": "code",
   "execution_count": 10,
   "metadata": {
    "collapsed": false
   },
   "outputs": [],
   "source": [
    "dat = one_hot(dat)"
   ]
  },
  {
   "cell_type": "code",
   "execution_count": 11,
   "metadata": {
    "collapsed": true
   },
   "outputs": [],
   "source": [
    "def median_fill(df):\n",
    "    X = df.copy()\n",
    "\n",
    "    for col in list(X):\n",
    "        try:\n",
    "            X.loc[np.isnan(X[col]), col] = np.nanmedian(X[col])\n",
    "        except:\n",
    "            print('Could not fill column', col)\n",
    "    return X"
   ]
  },
  {
   "cell_type": "code",
   "execution_count": 12,
   "metadata": {
    "collapsed": false
   },
   "outputs": [],
   "source": [
    "#dat = median_fill(dat)"
   ]
  },
  {
   "cell_type": "code",
   "execution_count": 13,
   "metadata": {
    "collapsed": false
   },
   "outputs": [
    {
     "data": {
      "text/plain": [
       "datetime.datetime(2018, 10, 17, 0, 38, 43, 44534)"
      ]
     },
     "execution_count": 13,
     "metadata": {},
     "output_type": "execute_result"
    }
   ],
   "source": [
    "today = datetime.datetime.now()\n",
    "today"
   ]
  },
  {
   "cell_type": "code",
   "execution_count": 14,
   "metadata": {
    "collapsed": false
   },
   "outputs": [
    {
     "data": {
      "text/plain": [
       "Timestamp('2018-10-16 00:00:00')"
      ]
     },
     "execution_count": 14,
     "metadata": {},
     "output_type": "execute_result"
    }
   ],
   "source": [
    "today = datetime.datetime.now()\n",
    "if today.weekday() == 5:\n",
    "    today = today - datetime.timedelta(days=1)\n",
    "if today.weekday() == 6:\n",
    "    today = today - datetime.timedelta(days=2)\n",
    "#if today.weekday() == 0:\n",
    "#    today -= datetime.timedelta(days=3)\n",
    "\n",
    "# if after midnight:\n",
    "#today = today - datetime.timedelta(days=1)\n",
    "\n",
    "today = str(today).split(' ')[0]\n",
    "today = pd.to_datetime(today)\n",
    "today"
   ]
  },
  {
   "cell_type": "code",
   "execution_count": 15,
   "metadata": {
    "collapsed": true
   },
   "outputs": [],
   "source": [
    "new_dat = dat.loc[dat['buyDate'] > today, :]\n",
    "dat     = dat.loc[dat['buyDate'] <= today, :]\n",
    "stocks = new_dat['stock']"
   ]
  },
  {
   "cell_type": "code",
   "execution_count": 16,
   "metadata": {
    "collapsed": false
   },
   "outputs": [
    {
     "data": {
      "text/html": [
       "<div>\n",
       "<style>\n",
       "    .dataframe thead tr:only-child th {\n",
       "        text-align: right;\n",
       "    }\n",
       "\n",
       "    .dataframe thead th {\n",
       "        text-align: left;\n",
       "    }\n",
       "\n",
       "    .dataframe tbody tr th {\n",
       "        vertical-align: top;\n",
       "    }\n",
       "</style>\n",
       "<table border=\"1\" class=\"dataframe\">\n",
       "  <thead>\n",
       "    <tr style=\"text-align: right;\">\n",
       "      <th></th>\n",
       "      <th>stock</th>\n",
       "      <th>bundles</th>\n",
       "      <th>buyPrice</th>\n",
       "      <th>buyDate</th>\n",
       "      <th>nDays</th>\n",
       "      <th>d30Sell</th>\n",
       "      <th>d30Gains</th>\n",
       "      <th>MFRisk</th>\n",
       "      <th>n_L52</th>\n",
       "      <th>n_H52</th>\n",
       "      <th>...</th>\n",
       "      <th>healthcare</th>\n",
       "      <th>nan</th>\n",
       "      <th>services</th>\n",
       "      <th>technology</th>\n",
       "      <th>transportation</th>\n",
       "      <th>utilities</th>\n",
       "      <th>mfHold</th>\n",
       "      <th>mfNone</th>\n",
       "      <th>mfNow</th>\n",
       "      <th>mfStart</th>\n",
       "    </tr>\n",
       "  </thead>\n",
       "  <tbody>\n",
       "    <tr>\n",
       "      <th>837</th>\n",
       "      <td>newr</td>\n",
       "      <td>0</td>\n",
       "      <td>NaN</td>\n",
       "      <td>2018-10-17</td>\n",
       "      <td>NaN</td>\n",
       "      <td>NaN</td>\n",
       "      <td>NaN</td>\n",
       "      <td>10.000000</td>\n",
       "      <td>1.808515</td>\n",
       "      <td>0.780885</td>\n",
       "      <td>...</td>\n",
       "      <td>0</td>\n",
       "      <td>0</td>\n",
       "      <td>0</td>\n",
       "      <td>1</td>\n",
       "      <td>0</td>\n",
       "      <td>0</td>\n",
       "      <td>0</td>\n",
       "      <td>0</td>\n",
       "      <td>1</td>\n",
       "      <td>0</td>\n",
       "    </tr>\n",
       "    <tr>\n",
       "      <th>838</th>\n",
       "      <td>nvda</td>\n",
       "      <td>0</td>\n",
       "      <td>NaN</td>\n",
       "      <td>2018-10-17</td>\n",
       "      <td>NaN</td>\n",
       "      <td>NaN</td>\n",
       "      <td>NaN</td>\n",
       "      <td>8.000000</td>\n",
       "      <td>1.361336</td>\n",
       "      <td>0.839698</td>\n",
       "      <td>...</td>\n",
       "      <td>0</td>\n",
       "      <td>0</td>\n",
       "      <td>0</td>\n",
       "      <td>1</td>\n",
       "      <td>0</td>\n",
       "      <td>0</td>\n",
       "      <td>0</td>\n",
       "      <td>0</td>\n",
       "      <td>1</td>\n",
       "      <td>0</td>\n",
       "    </tr>\n",
       "    <tr>\n",
       "      <th>839</th>\n",
       "      <td>unp</td>\n",
       "      <td>1</td>\n",
       "      <td>NaN</td>\n",
       "      <td>2018-10-17</td>\n",
       "      <td>NaN</td>\n",
       "      <td>NaN</td>\n",
       "      <td>NaN</td>\n",
       "      <td>6.000000</td>\n",
       "      <td>1.408794</td>\n",
       "      <td>0.924651</td>\n",
       "      <td>...</td>\n",
       "      <td>0</td>\n",
       "      <td>0</td>\n",
       "      <td>0</td>\n",
       "      <td>0</td>\n",
       "      <td>1</td>\n",
       "      <td>0</td>\n",
       "      <td>0</td>\n",
       "      <td>0</td>\n",
       "      <td>1</td>\n",
       "      <td>0</td>\n",
       "    </tr>\n",
       "    <tr>\n",
       "      <th>840</th>\n",
       "      <td>ilmn</td>\n",
       "      <td>0</td>\n",
       "      <td>NaN</td>\n",
       "      <td>2018-10-17</td>\n",
       "      <td>NaN</td>\n",
       "      <td>NaN</td>\n",
       "      <td>NaN</td>\n",
       "      <td>10.000000</td>\n",
       "      <td>1.647646</td>\n",
       "      <td>0.876466</td>\n",
       "      <td>...</td>\n",
       "      <td>0</td>\n",
       "      <td>0</td>\n",
       "      <td>0</td>\n",
       "      <td>1</td>\n",
       "      <td>0</td>\n",
       "      <td>0</td>\n",
       "      <td>0</td>\n",
       "      <td>0</td>\n",
       "      <td>1</td>\n",
       "      <td>0</td>\n",
       "    </tr>\n",
       "    <tr>\n",
       "      <th>841</th>\n",
       "      <td>nue</td>\n",
       "      <td>0</td>\n",
       "      <td>NaN</td>\n",
       "      <td>2018-10-17</td>\n",
       "      <td>NaN</td>\n",
       "      <td>NaN</td>\n",
       "      <td>NaN</td>\n",
       "      <td>11.000000</td>\n",
       "      <td>1.097561</td>\n",
       "      <td>0.836407</td>\n",
       "      <td>...</td>\n",
       "      <td>0</td>\n",
       "      <td>0</td>\n",
       "      <td>0</td>\n",
       "      <td>0</td>\n",
       "      <td>0</td>\n",
       "      <td>0</td>\n",
       "      <td>0</td>\n",
       "      <td>0</td>\n",
       "      <td>1</td>\n",
       "      <td>0</td>\n",
       "    </tr>\n",
       "    <tr>\n",
       "      <th>842</th>\n",
       "      <td>atvi</td>\n",
       "      <td>0</td>\n",
       "      <td>NaN</td>\n",
       "      <td>2018-10-17</td>\n",
       "      <td>NaN</td>\n",
       "      <td>NaN</td>\n",
       "      <td>NaN</td>\n",
       "      <td>9.000000</td>\n",
       "      <td>1.374236</td>\n",
       "      <td>0.929735</td>\n",
       "      <td>...</td>\n",
       "      <td>0</td>\n",
       "      <td>0</td>\n",
       "      <td>0</td>\n",
       "      <td>1</td>\n",
       "      <td>0</td>\n",
       "      <td>0</td>\n",
       "      <td>0</td>\n",
       "      <td>0</td>\n",
       "      <td>1</td>\n",
       "      <td>0</td>\n",
       "    </tr>\n",
       "    <tr>\n",
       "      <th>843</th>\n",
       "      <td>bb</td>\n",
       "      <td>0</td>\n",
       "      <td>NaN</td>\n",
       "      <td>2018-10-17</td>\n",
       "      <td>NaN</td>\n",
       "      <td>NaN</td>\n",
       "      <td>NaN</td>\n",
       "      <td>12.000000</td>\n",
       "      <td>1.068928</td>\n",
       "      <td>0.671478</td>\n",
       "      <td>...</td>\n",
       "      <td>0</td>\n",
       "      <td>0</td>\n",
       "      <td>0</td>\n",
       "      <td>1</td>\n",
       "      <td>0</td>\n",
       "      <td>0</td>\n",
       "      <td>1</td>\n",
       "      <td>0</td>\n",
       "      <td>0</td>\n",
       "      <td>0</td>\n",
       "    </tr>\n",
       "    <tr>\n",
       "      <th>844</th>\n",
       "      <td>cme</td>\n",
       "      <td>0</td>\n",
       "      <td>NaN</td>\n",
       "      <td>2018-10-17</td>\n",
       "      <td>NaN</td>\n",
       "      <td>NaN</td>\n",
       "      <td>NaN</td>\n",
       "      <td>8.000000</td>\n",
       "      <td>1.345575</td>\n",
       "      <td>0.973165</td>\n",
       "      <td>...</td>\n",
       "      <td>0</td>\n",
       "      <td>0</td>\n",
       "      <td>0</td>\n",
       "      <td>0</td>\n",
       "      <td>0</td>\n",
       "      <td>0</td>\n",
       "      <td>1</td>\n",
       "      <td>0</td>\n",
       "      <td>0</td>\n",
       "      <td>0</td>\n",
       "    </tr>\n",
       "    <tr>\n",
       "      <th>845</th>\n",
       "      <td>masi</td>\n",
       "      <td>0</td>\n",
       "      <td>NaN</td>\n",
       "      <td>2018-10-17</td>\n",
       "      <td>NaN</td>\n",
       "      <td>NaN</td>\n",
       "      <td>NaN</td>\n",
       "      <td>6.000000</td>\n",
       "      <td>1.494733</td>\n",
       "      <td>0.950508</td>\n",
       "      <td>...</td>\n",
       "      <td>1</td>\n",
       "      <td>0</td>\n",
       "      <td>0</td>\n",
       "      <td>0</td>\n",
       "      <td>0</td>\n",
       "      <td>0</td>\n",
       "      <td>1</td>\n",
       "      <td>0</td>\n",
       "      <td>0</td>\n",
       "      <td>0</td>\n",
       "    </tr>\n",
       "    <tr>\n",
       "      <th>846</th>\n",
       "      <td>alk</td>\n",
       "      <td>1</td>\n",
       "      <td>NaN</td>\n",
       "      <td>2018-10-17</td>\n",
       "      <td>NaN</td>\n",
       "      <td>NaN</td>\n",
       "      <td>NaN</td>\n",
       "      <td>7.000000</td>\n",
       "      <td>1.110030</td>\n",
       "      <td>0.780971</td>\n",
       "      <td>...</td>\n",
       "      <td>0</td>\n",
       "      <td>0</td>\n",
       "      <td>0</td>\n",
       "      <td>0</td>\n",
       "      <td>1</td>\n",
       "      <td>0</td>\n",
       "      <td>1</td>\n",
       "      <td>0</td>\n",
       "      <td>0</td>\n",
       "      <td>0</td>\n",
       "    </tr>\n",
       "    <tr>\n",
       "      <th>847</th>\n",
       "      <td>intu</td>\n",
       "      <td>0</td>\n",
       "      <td>NaN</td>\n",
       "      <td>2018-10-17</td>\n",
       "      <td>NaN</td>\n",
       "      <td>NaN</td>\n",
       "      <td>NaN</td>\n",
       "      <td>9.000000</td>\n",
       "      <td>1.487027</td>\n",
       "      <td>0.927019</td>\n",
       "      <td>...</td>\n",
       "      <td>0</td>\n",
       "      <td>0</td>\n",
       "      <td>0</td>\n",
       "      <td>1</td>\n",
       "      <td>0</td>\n",
       "      <td>0</td>\n",
       "      <td>1</td>\n",
       "      <td>0</td>\n",
       "      <td>0</td>\n",
       "      <td>0</td>\n",
       "    </tr>\n",
       "    <tr>\n",
       "      <th>848</th>\n",
       "      <td>cwt</td>\n",
       "      <td>0</td>\n",
       "      <td>NaN</td>\n",
       "      <td>2018-10-17</td>\n",
       "      <td>NaN</td>\n",
       "      <td>NaN</td>\n",
       "      <td>NaN</td>\n",
       "      <td>4.000000</td>\n",
       "      <td>1.188369</td>\n",
       "      <td>0.907692</td>\n",
       "      <td>...</td>\n",
       "      <td>0</td>\n",
       "      <td>0</td>\n",
       "      <td>0</td>\n",
       "      <td>0</td>\n",
       "      <td>0</td>\n",
       "      <td>1</td>\n",
       "      <td>0</td>\n",
       "      <td>1</td>\n",
       "      <td>0</td>\n",
       "      <td>0</td>\n",
       "    </tr>\n",
       "    <tr>\n",
       "      <th>849</th>\n",
       "      <td>wtr</td>\n",
       "      <td>0</td>\n",
       "      <td>NaN</td>\n",
       "      <td>2018-10-17</td>\n",
       "      <td>NaN</td>\n",
       "      <td>NaN</td>\n",
       "      <td>NaN</td>\n",
       "      <td>5.143768</td>\n",
       "      <td>1.146432</td>\n",
       "      <td>0.938306</td>\n",
       "      <td>...</td>\n",
       "      <td>0</td>\n",
       "      <td>0</td>\n",
       "      <td>0</td>\n",
       "      <td>0</td>\n",
       "      <td>0</td>\n",
       "      <td>1</td>\n",
       "      <td>0</td>\n",
       "      <td>1</td>\n",
       "      <td>0</td>\n",
       "      <td>0</td>\n",
       "    </tr>\n",
       "    <tr>\n",
       "      <th>850</th>\n",
       "      <td>awr</td>\n",
       "      <td>0</td>\n",
       "      <td>NaN</td>\n",
       "      <td>2018-10-17</td>\n",
       "      <td>NaN</td>\n",
       "      <td>NaN</td>\n",
       "      <td>NaN</td>\n",
       "      <td>4.000000</td>\n",
       "      <td>1.217139</td>\n",
       "      <td>0.974880</td>\n",
       "      <td>...</td>\n",
       "      <td>0</td>\n",
       "      <td>0</td>\n",
       "      <td>0</td>\n",
       "      <td>0</td>\n",
       "      <td>0</td>\n",
       "      <td>1</td>\n",
       "      <td>0</td>\n",
       "      <td>1</td>\n",
       "      <td>0</td>\n",
       "      <td>0</td>\n",
       "    </tr>\n",
       "    <tr>\n",
       "      <th>851</th>\n",
       "      <td>awk</td>\n",
       "      <td>0</td>\n",
       "      <td>NaN</td>\n",
       "      <td>2018-10-17</td>\n",
       "      <td>NaN</td>\n",
       "      <td>NaN</td>\n",
       "      <td>NaN</td>\n",
       "      <td>5.987790</td>\n",
       "      <td>1.184245</td>\n",
       "      <td>0.974884</td>\n",
       "      <td>...</td>\n",
       "      <td>0</td>\n",
       "      <td>0</td>\n",
       "      <td>0</td>\n",
       "      <td>0</td>\n",
       "      <td>0</td>\n",
       "      <td>1</td>\n",
       "      <td>0</td>\n",
       "      <td>1</td>\n",
       "      <td>0</td>\n",
       "      <td>0</td>\n",
       "    </tr>\n",
       "    <tr>\n",
       "      <th>852</th>\n",
       "      <td>artna</td>\n",
       "      <td>0</td>\n",
       "      <td>NaN</td>\n",
       "      <td>2018-10-17</td>\n",
       "      <td>NaN</td>\n",
       "      <td>NaN</td>\n",
       "      <td>NaN</td>\n",
       "      <td>6.770118</td>\n",
       "      <td>1.141875</td>\n",
       "      <td>0.846617</td>\n",
       "      <td>...</td>\n",
       "      <td>0</td>\n",
       "      <td>0</td>\n",
       "      <td>0</td>\n",
       "      <td>0</td>\n",
       "      <td>0</td>\n",
       "      <td>1</td>\n",
       "      <td>0</td>\n",
       "      <td>1</td>\n",
       "      <td>0</td>\n",
       "      <td>0</td>\n",
       "    </tr>\n",
       "  </tbody>\n",
       "</table>\n",
       "<p>16 rows × 142 columns</p>\n",
       "</div>"
      ],
      "text/plain": [
       "     stock bundles  buyPrice    buyDate  nDays  d30Sell  d30Gains     MFRisk  \\\n",
       "837   newr       0       NaN 2018-10-17    NaN      NaN       NaN  10.000000   \n",
       "838   nvda       0       NaN 2018-10-17    NaN      NaN       NaN   8.000000   \n",
       "839    unp       1       NaN 2018-10-17    NaN      NaN       NaN   6.000000   \n",
       "840   ilmn       0       NaN 2018-10-17    NaN      NaN       NaN  10.000000   \n",
       "841    nue       0       NaN 2018-10-17    NaN      NaN       NaN  11.000000   \n",
       "842   atvi       0       NaN 2018-10-17    NaN      NaN       NaN   9.000000   \n",
       "843     bb       0       NaN 2018-10-17    NaN      NaN       NaN  12.000000   \n",
       "844    cme       0       NaN 2018-10-17    NaN      NaN       NaN   8.000000   \n",
       "845   masi       0       NaN 2018-10-17    NaN      NaN       NaN   6.000000   \n",
       "846    alk       1       NaN 2018-10-17    NaN      NaN       NaN   7.000000   \n",
       "847   intu       0       NaN 2018-10-17    NaN      NaN       NaN   9.000000   \n",
       "848    cwt       0       NaN 2018-10-17    NaN      NaN       NaN   4.000000   \n",
       "849    wtr       0       NaN 2018-10-17    NaN      NaN       NaN   5.143768   \n",
       "850    awr       0       NaN 2018-10-17    NaN      NaN       NaN   4.000000   \n",
       "851    awk       0       NaN 2018-10-17    NaN      NaN       NaN   5.987790   \n",
       "852  artna       0       NaN 2018-10-17    NaN      NaN       NaN   6.770118   \n",
       "\n",
       "        n_L52     n_H52   ...     healthcare  nan  services  technology  \\\n",
       "837  1.808515  0.780885   ...              0    0         0           1   \n",
       "838  1.361336  0.839698   ...              0    0         0           1   \n",
       "839  1.408794  0.924651   ...              0    0         0           0   \n",
       "840  1.647646  0.876466   ...              0    0         0           1   \n",
       "841  1.097561  0.836407   ...              0    0         0           0   \n",
       "842  1.374236  0.929735   ...              0    0         0           1   \n",
       "843  1.068928  0.671478   ...              0    0         0           1   \n",
       "844  1.345575  0.973165   ...              0    0         0           0   \n",
       "845  1.494733  0.950508   ...              1    0         0           0   \n",
       "846  1.110030  0.780971   ...              0    0         0           0   \n",
       "847  1.487027  0.927019   ...              0    0         0           1   \n",
       "848  1.188369  0.907692   ...              0    0         0           0   \n",
       "849  1.146432  0.938306   ...              0    0         0           0   \n",
       "850  1.217139  0.974880   ...              0    0         0           0   \n",
       "851  1.184245  0.974884   ...              0    0         0           0   \n",
       "852  1.141875  0.846617   ...              0    0         0           0   \n",
       "\n",
       "     transportation  utilities  mfHold  mfNone  mfNow  mfStart  \n",
       "837               0          0       0       0      1        0  \n",
       "838               0          0       0       0      1        0  \n",
       "839               1          0       0       0      1        0  \n",
       "840               0          0       0       0      1        0  \n",
       "841               0          0       0       0      1        0  \n",
       "842               0          0       0       0      1        0  \n",
       "843               0          0       1       0      0        0  \n",
       "844               0          0       1       0      0        0  \n",
       "845               0          0       1       0      0        0  \n",
       "846               1          0       1       0      0        0  \n",
       "847               0          0       1       0      0        0  \n",
       "848               0          1       0       1      0        0  \n",
       "849               0          1       0       1      0        0  \n",
       "850               0          1       0       1      0        0  \n",
       "851               0          1       0       1      0        0  \n",
       "852               0          1       0       1      0        0  \n",
       "\n",
       "[16 rows x 142 columns]"
      ]
     },
     "execution_count": 16,
     "metadata": {},
     "output_type": "execute_result"
    }
   ],
   "source": [
    "new_dat"
   ]
  },
  {
   "cell_type": "code",
   "execution_count": 17,
   "metadata": {
    "collapsed": true
   },
   "outputs": [],
   "source": [
    "def drop_missing(dfs, y_col):\n",
    "    X = dfs[0].copy()\n",
    "    # cols\n",
    "    drop_cols = [col for col in list(X) if type(col[0]) == np.float and col.isnan().all()]\n",
    "    X = X.drop(drop_cols, axis=1)\n",
    "    X2 = dfs[1].drop(drop_cols, axis=1)\n",
    "    return X.loc[np.isnan(dat[y_col]) == False, :], X2"
   ]
  },
  {
   "cell_type": "code",
   "execution_count": 18,
   "metadata": {
    "collapsed": true
   },
   "outputs": [],
   "source": [
    "dat, new_dat = drop_missing([dat, new_dat], 'd30Gains')"
   ]
  },
  {
   "cell_type": "code",
   "execution_count": 19,
   "metadata": {
    "collapsed": true
   },
   "outputs": [],
   "source": [
    "def split_xy(df, y_col, first_X):\n",
    "    y = df[y_col]\n",
    "    start_col = list(df).index(first_X)\n",
    "    X = df.iloc[:, start_col:]\n",
    "    return X, y"
   ]
  },
  {
   "cell_type": "code",
   "execution_count": 20,
   "metadata": {
    "collapsed": false
   },
   "outputs": [
    {
     "data": {
      "text/plain": [
       "[]"
      ]
     },
     "execution_count": 20,
     "metadata": {},
     "output_type": "execute_result"
    }
   ],
   "source": [
    "X, y         = split_xy(dat,     'd30Gains', 'MFRisk')\n",
    "X_new, y_new = split_xy(new_dat, 'd30Gains', 'MFRisk')\n",
    "[print('Mismatch:', x, xn) for (x, xn) in zip(list(X), list(X_new)) \n",
    " if x != xn]"
   ]
  },
  {
   "cell_type": "code",
   "execution_count": 21,
   "metadata": {
    "collapsed": false
   },
   "outputs": [
    {
     "name": "stdout",
     "output_type": "stream",
     "text": [
      "Training size:   557\n",
      "Validation size: 119\n",
      "Test size:       119\n"
     ]
    }
   ],
   "source": [
    "n = X.shape[0]\n",
    "TRAIN = 0.7\n",
    "VALIDATE = 0.15\n",
    "TEST = 0.15\n",
    "print(\n",
    "    'Training size:   %.0f\\nValidation size: %.0f\\nTest size:       %.0f'\n",
    "    %(TRAIN * n, VALIDATE * n, TEST * n))\n",
    "\n",
    "# WHEN TEST SIZE > 200 START USING PREVIOUS STEPS AS PREDICTORS"
   ]
  },
  {
   "cell_type": "code",
   "execution_count": 22,
   "metadata": {
    "collapsed": false
   },
   "outputs": [
    {
     "name": "stdout",
     "output_type": "stream",
     "text": [
      "(796, 135) (796,)\n"
     ]
    }
   ],
   "source": [
    "print(X.shape, y.shape)"
   ]
  },
  {
   "cell_type": "code",
   "execution_count": 23,
   "metadata": {
    "collapsed": false
   },
   "outputs": [],
   "source": [
    "# RANDOM\n",
    "# Train, Not Train\n",
    "#X_train, X_vt, y_train, y_vt = train_test_split(\n",
    "#    X, y, test_size=VALIDATE + TEST)\n",
    "\n",
    "# Validate Test\n",
    "#X_valid, X_test, y_valid, y_test = train_test_split(\n",
    "#    X_vt, y_vt, test_size=(TEST / (TEST + VALIDATE)))\n",
    "\n",
    "# TEMPORAL\n",
    "X_train = X.loc[:TRAIN * n, :]\n",
    "y_train = y.loc[:TRAIN * n]\n",
    "X_valid = X.loc[TRAIN*n:TRAIN*n + VALIDATE*n, :]\n",
    "y_valid = y.loc[TRAIN*n:TRAIN*n + VALIDATE*n]\n",
    "X_test  = X.loc[TRAIN*n + VALIDATE*n:, :]\n",
    "y_test  = y.loc[TRAIN*n + VALIDATE*n:]\n",
    "\n",
    "\n",
    "# Reindex\n",
    "X_train.index = range(len(y_train))\n",
    "y_train.index = range(len(y_train))\n",
    "\n",
    "X_valid.index = range(len(y_valid))\n",
    "y_valid.index = range(len(y_valid))\n",
    "\n",
    "X_test.index = range(len(y_test))\n",
    "y_test.index = range(len(y_test))\n",
    "y_test = y_test.values.reshape(-1, 1)"
   ]
  },
  {
   "cell_type": "code",
   "execution_count": 24,
   "metadata": {
    "collapsed": false
   },
   "outputs": [
    {
     "name": "stdout",
     "output_type": "stream",
     "text": [
      "train:    (558, 135)\n",
      "validate: (119, 135)\n",
      "test:     (119, 135)\n",
      "new:      (16, 135)\n"
     ]
    }
   ],
   "source": [
    "print('train:   ', X_train.shape)\n",
    "print('validate:', X_valid.shape)\n",
    "print('test:    ', X_test.shape)\n",
    "print('new:     ', X_new.shape)"
   ]
  },
  {
   "cell_type": "code",
   "execution_count": 25,
   "metadata": {
    "collapsed": false
   },
   "outputs": [],
   "source": [
    "# WHILE DATA SET IS SMALL, restrict values in new data to the range seen \n",
    "# in training data\n",
    "#if X_test.shape[0] < 100:        \n",
    "#    for col in list(X_train):\n",
    "#        if col not in ['spVal', 'days']:\n",
    "#            mn, mx = np.min(X_train[col]), np.max(X_train[col])\n",
    "            #X_new[col][X_new[col] < mn] = mn\n",
    "            #X_new[col][X_new[col] > mx] = mx\n",
    "#            X_new.loc[X_new[col] < mn, col] = mn\n",
    "#            X_new.loc[X_new[col] > mx, col] = mx\n",
    "#else: \n",
    "#    print('Data large enough.  Remove this cell.')"
   ]
  },
  {
   "cell_type": "code",
   "execution_count": 26,
   "metadata": {
    "collapsed": true
   },
   "outputs": [],
   "source": [
    "remove_empties = []\n",
    "\n",
    "for col in list(X_train):\n",
    "    try:\n",
    "        if np.isnan(X_train[col]).any():\n",
    "            remove_empties.append(col)\n",
    "            print('Removing ', col)\n",
    "    except:\n",
    "        print('\\tCould not check', col)\n",
    "        \n",
    "X_train = X_train.drop(remove_empties, axis=1)\n",
    "X_valid = X_valid.drop(remove_empties, axis=1)\n",
    "X_test  = X_test.drop(remove_empties, axis=1)\n",
    "X_new   = X_new.drop(remove_empties, axis=1)"
   ]
  },
  {
   "cell_type": "code",
   "execution_count": 27,
   "metadata": {
    "collapsed": false
   },
   "outputs": [],
   "source": [
    "#X_new"
   ]
  },
  {
   "cell_type": "code",
   "execution_count": 28,
   "metadata": {
    "collapsed": false
   },
   "outputs": [
    {
     "name": "stderr",
     "output_type": "stream",
     "text": [
      "/usr/local/Cellar/python3/3.6.1/Frameworks/Python.framework/Versions/3.6/lib/python3.6/site-packages/sklearn/preprocessing/data.py:617: DataConversionWarning: Data with input dtype uint8, int64, float64 were all converted to float64 by StandardScaler.\n",
      "  return self.partial_fit(X, y)\n",
      "/usr/local/Cellar/python3/3.6.1/Frameworks/Python.framework/Versions/3.6/lib/python3.6/site-packages/sklearn/base.py:462: DataConversionWarning: Data with input dtype uint8, int64, float64 were all converted to float64 by StandardScaler.\n",
      "  return self.fit(X, **fit_params).transform(X)\n",
      "/usr/local/Cellar/python3/3.6.1/Frameworks/Python.framework/Versions/3.6/lib/python3.6/site-packages/ipykernel_launcher.py:4: DataConversionWarning: Data with input dtype uint8, int64, float64 were all converted to float64 by StandardScaler.\n",
      "  after removing the cwd from sys.path.\n",
      "/usr/local/Cellar/python3/3.6.1/Frameworks/Python.framework/Versions/3.6/lib/python3.6/site-packages/ipykernel_launcher.py:5: DataConversionWarning: Data with input dtype uint8, int64, float64 were all converted to float64 by StandardScaler.\n",
      "  \"\"\"\n",
      "/usr/local/Cellar/python3/3.6.1/Frameworks/Python.framework/Versions/3.6/lib/python3.6/site-packages/ipykernel_launcher.py:6: DataConversionWarning: Data with input dtype uint8, int64, float64 were all converted to float64 by StandardScaler.\n",
      "  \n"
     ]
    }
   ],
   "source": [
    "# Normalize data\n",
    "scaler = StandardScaler()\n",
    "X_train = scaler.fit_transform(X_train)\n",
    "X_valid = scaler.transform(X_valid)\n",
    "X_test = scaler.transform(X_test)\n",
    "X_new  = scaler.transform(X_new)"
   ]
  },
  {
   "cell_type": "markdown",
   "metadata": {},
   "source": [
    "# Ridge Regression Model for Baseline"
   ]
  },
  {
   "cell_type": "code",
   "execution_count": 29,
   "metadata": {
    "collapsed": false
   },
   "outputs": [],
   "source": [
    "pipe_ridge = Pipeline([(\n",
    "    'clf', Ridge(random_state = 11235, max_iter = 5000))])\n",
    "alpha_range = np.linspace(0, 5000, 50)\n",
    "train_scores, test_scores = validation_curve(estimator = pipe_ridge,\n",
    "                                             X = X_train,\n",
    "                                             y = y_train,\n",
    "                                             param_name = 'clf__alpha',\n",
    "                                             param_range = alpha_range,\n",
    "                                             cv = 30,\n",
    "                                             n_jobs = -1)\n",
    "train_mean = np.mean(train_scores, axis = 1)\n",
    "train_std  = np.std(train_scores,  axis = 1)\n",
    "test_mean  = np.mean(test_scores,  axis = 1)\n",
    "test_std   = np.std(test_scores,   axis = 1)"
   ]
  },
  {
   "cell_type": "code",
   "execution_count": 30,
   "metadata": {
    "collapsed": false
   },
   "outputs": [
    {
     "data": {
      "image/png": "[encoded data removed]",
      "text/plain": [
       "<matplotlib.figure.Figure at 0x111d45400>"
      ]
     },
     "metadata": {},
     "output_type": "display_data"
    }
   ],
   "source": [
    "plt.plot(alpha_range,\n",
    "         train_mean,\n",
    "         color = 'blue',\n",
    "         marker = 'o',\n",
    "         markersize = 5,\n",
    "         label = 'training score');\n",
    "plt.fill_between(alpha_range,\n",
    "                 train_mean + train_std,\n",
    "                 train_mean - train_std,\n",
    "                 alpha = 0.15,\n",
    "                color = 'blue');\n",
    "plt.plot(alpha_range,\n",
    "         test_mean,\n",
    "         color = 'red',\n",
    "         linestyle = '--',\n",
    "         marker = 's',\n",
    "         markersize = 5,\n",
    "         label = 'validation score');\n",
    "plt.fill_between(alpha_range,\n",
    "                 test_mean + test_std,\n",
    "                 test_mean - test_std,\n",
    "                 alpha = 0.15,\n",
    "                 color = 'red');\n",
    "plt.grid();\n",
    "plt.legend(loc = 'lower left');\n",
    "#plt.xscale('log');\n",
    "plt.xlabel('Parameter alpha');\n",
    "plt.ylabel('Score');\n",
    "plt.ylim([-2, 1]);\n",
    "#plt.xlim([0, 300]);"
   ]
  },
  {
   "cell_type": "code",
   "execution_count": 31,
   "metadata": {
    "collapsed": false
   },
   "outputs": [
    {
     "data": {
      "text/plain": [
       "array([ 2551.02040816])"
      ]
     },
     "execution_count": 31,
     "metadata": {},
     "output_type": "execute_result"
    }
   ],
   "source": [
    "best_alpha = alpha_range[np.where(test_mean == max(test_mean))]\n",
    "best_alpha"
   ]
  },
  {
   "cell_type": "code",
   "execution_count": 32,
   "metadata": {
    "collapsed": false
   },
   "outputs": [
    {
     "data": {
      "text/plain": [
       "Ridge(alpha=array([ 2551.02041]), copy_X=True, fit_intercept=True,\n",
       "   max_iter=None, normalize=False, random_state=None, solver='auto',\n",
       "   tol=0.001)"
      ]
     },
     "execution_count": 32,
     "metadata": {},
     "output_type": "execute_result"
    }
   ],
   "source": [
    "best_ridge = Ridge(alpha = best_alpha)\n",
    "best_ridge.fit(X_train, y_train)"
   ]
  },
  {
   "cell_type": "code",
   "execution_count": 33,
   "metadata": {
    "collapsed": false
   },
   "outputs": [
    {
     "data": {
      "text/plain": [
       "0.083040915366054055"
      ]
     },
     "execution_count": 33,
     "metadata": {},
     "output_type": "execute_result"
    }
   ],
   "source": [
    "preds = best_ridge.predict(X_valid)\n",
    "rmse_ridge = np.sqrt(((preds - y_valid) ** 2).sum() / len(y_valid))\n",
    "rmse_ridge"
   ]
  },
  {
   "cell_type": "code",
   "execution_count": 34,
   "metadata": {
    "collapsed": false
   },
   "outputs": [
    {
     "data": {
      "text/html": [
       "<div>\n",
       "<style>\n",
       "    .dataframe thead tr:only-child th {\n",
       "        text-align: right;\n",
       "    }\n",
       "\n",
       "    .dataframe thead th {\n",
       "        text-align: left;\n",
       "    }\n",
       "\n",
       "    .dataframe tbody tr th {\n",
       "        vertical-align: top;\n",
       "    }\n",
       "</style>\n",
       "<table border=\"1\" class=\"dataframe\">\n",
       "  <thead>\n",
       "    <tr style=\"text-align: right;\">\n",
       "      <th></th>\n",
       "      <th>preds</th>\n",
       "      <th>stock</th>\n",
       "    </tr>\n",
       "  </thead>\n",
       "  <tbody>\n",
       "    <tr>\n",
       "      <th>9</th>\n",
       "      <td>1.062532</td>\n",
       "      <td>alk</td>\n",
       "    </tr>\n",
       "    <tr>\n",
       "      <th>2</th>\n",
       "      <td>1.049434</td>\n",
       "      <td>unp</td>\n",
       "    </tr>\n",
       "    <tr>\n",
       "      <th>3</th>\n",
       "      <td>1.049333</td>\n",
       "      <td>ilmn</td>\n",
       "    </tr>\n",
       "    <tr>\n",
       "      <th>10</th>\n",
       "      <td>1.043881</td>\n",
       "      <td>intu</td>\n",
       "    </tr>\n",
       "    <tr>\n",
       "      <th>8</th>\n",
       "      <td>1.040685</td>\n",
       "      <td>masi</td>\n",
       "    </tr>\n",
       "    <tr>\n",
       "      <th>5</th>\n",
       "      <td>1.033618</td>\n",
       "      <td>atvi</td>\n",
       "    </tr>\n",
       "    <tr>\n",
       "      <th>0</th>\n",
       "      <td>1.031294</td>\n",
       "      <td>newr</td>\n",
       "    </tr>\n",
       "    <tr>\n",
       "      <th>7</th>\n",
       "      <td>1.029714</td>\n",
       "      <td>cme</td>\n",
       "    </tr>\n",
       "    <tr>\n",
       "      <th>1</th>\n",
       "      <td>1.029149</td>\n",
       "      <td>nvda</td>\n",
       "    </tr>\n",
       "    <tr>\n",
       "      <th>6</th>\n",
       "      <td>1.027550</td>\n",
       "      <td>bb</td>\n",
       "    </tr>\n",
       "    <tr>\n",
       "      <th>4</th>\n",
       "      <td>1.021244</td>\n",
       "      <td>nue</td>\n",
       "    </tr>\n",
       "    <tr>\n",
       "      <th>13</th>\n",
       "      <td>1.011431</td>\n",
       "      <td>awr</td>\n",
       "    </tr>\n",
       "    <tr>\n",
       "      <th>12</th>\n",
       "      <td>1.005330</td>\n",
       "      <td>wtr</td>\n",
       "    </tr>\n",
       "    <tr>\n",
       "      <th>14</th>\n",
       "      <td>1.003971</td>\n",
       "      <td>awk</td>\n",
       "    </tr>\n",
       "    <tr>\n",
       "      <th>11</th>\n",
       "      <td>0.998683</td>\n",
       "      <td>cwt</td>\n",
       "    </tr>\n",
       "    <tr>\n",
       "      <th>15</th>\n",
       "      <td>0.994743</td>\n",
       "      <td>artna</td>\n",
       "    </tr>\n",
       "  </tbody>\n",
       "</table>\n",
       "</div>"
      ],
      "text/plain": [
       "       preds  stock\n",
       "9   1.062532    alk\n",
       "2   1.049434    unp\n",
       "3   1.049333   ilmn\n",
       "10  1.043881   intu\n",
       "8   1.040685   masi\n",
       "5   1.033618   atvi\n",
       "0   1.031294   newr\n",
       "7   1.029714    cme\n",
       "1   1.029149   nvda\n",
       "6   1.027550     bb\n",
       "4   1.021244    nue\n",
       "13  1.011431    awr\n",
       "12  1.005330    wtr\n",
       "14  1.003971    awk\n",
       "11  0.998683    cwt\n",
       "15  0.994743  artna"
      ]
     },
     "execution_count": 34,
     "metadata": {},
     "output_type": "execute_result"
    }
   ],
   "source": [
    "pred_new = best_ridge.predict(X_new)\n",
    "ridge_preds = pd.DataFrame(data=pred_new, columns=['preds'])\n",
    "ridge_preds['stock'] = list(stocks)\n",
    "ridge_preds = ridge_preds.sort_values('preds', ascending=False)\n",
    "ridge_preds.head(len(stocks))"
   ]
  },
  {
   "cell_type": "markdown",
   "metadata": {},
   "source": [
    "# Neural Net"
   ]
  },
  {
   "cell_type": "markdown",
   "metadata": {},
   "source": [
    "## Keras Model"
   ]
  },
  {
   "cell_type": "code",
   "execution_count": 35,
   "metadata": {
    "collapsed": false
   },
   "outputs": [
    {
     "data": {
      "text/plain": [
       "(558, 135)"
      ]
     },
     "execution_count": 35,
     "metadata": {},
     "output_type": "execute_result"
    }
   ],
   "source": [
    "best_val_loss = rmse_ridge\n",
    "X_train.shape"
   ]
  },
  {
   "cell_type": "code",
   "execution_count": 159,
   "metadata": {
    "collapsed": false
   },
   "outputs": [
    {
     "data": {
      "text/plain": [
       "[135, 16, 1]"
      ]
     },
     "execution_count": 159,
     "metadata": {},
     "output_type": "execute_result"
    }
   ],
   "source": [
    "# Params and Hyperparams\n",
    "n_inputs = X_train.shape[1]\n",
    "n_outputs = 1 \n",
    "\n",
    "# Current best\n",
    "NODES_PER_LAYER = [n_inputs, 16, n_outputs]\n",
    "ETA = 0.005\n",
    "DROPOUT = 0.5\n",
    "BETA_1 = 0.9\n",
    "BETA_2 = 0.999\n",
    "EPSILON = 1e-08\n",
    "DECAY = 0.01\n",
    "EPOCHS = 1000\n",
    "BATCH_SIZE = 64\n",
    "\n",
    "NODES_PER_LAYER"
   ]
  },
  {
   "cell_type": "code",
   "execution_count": 160,
   "metadata": {
    "collapsed": true
   },
   "outputs": [],
   "source": [
    "def get_params():\n",
    "    return {'NODES_PER_LAYER': NODES_PER_LAYER,\n",
    "            'ETA': ETA,\n",
    "            'DROPOUT': DROPOUT,\n",
    "            'BETA_1': BETA_1,\n",
    "            'BETA_2': BETA_2,\n",
    "            'EPSILON': EPSILON,\n",
    "            'DECAY': DECAY,\n",
    "            'EPOCHS': EPOCHS,\n",
    "            'BATCH_SIZE': BATCH_SIZE}"
   ]
  },
  {
   "cell_type": "code",
   "execution_count": 161,
   "metadata": {
    "collapsed": false
   },
   "outputs": [
    {
     "name": "stdout",
     "output_type": "stream",
     "text": [
      "_________________________________________________________________\n",
      "Layer (type)                 Output Shape              Param #   \n",
      "=================================================================\n",
      "dense_29 (Dense)             (None, 16)                2176      \n",
      "_________________________________________________________________\n",
      "batch_normalization_18 (Batc (None, 16)                64        \n",
      "_________________________________________________________________\n",
      "activation_18 (Activation)   (None, 16)                0         \n",
      "_________________________________________________________________\n",
      "dropout_18 (Dropout)         (None, 16)                0         \n",
      "_________________________________________________________________\n",
      "dense_30 (Dense)             (None, 1)                 17        \n",
      "=================================================================\n",
      "Total params: 2,257\n",
      "Trainable params: 2,225\n",
      "Non-trainable params: 32\n",
      "_________________________________________________________________\n"
     ]
    }
   ],
   "source": [
    "model = Sequential()\n",
    "\n",
    "# NOTE: \"glorot-normal\" is the same thing as \"Xavier\" initialization\n",
    "model.add(Dense(NODES_PER_LAYER[1], \n",
    "                input_dim=NODES_PER_LAYER[0], \n",
    "                kernel_initializer='glorot_normal'))\n",
    "model.add(BatchNormalization())\n",
    "model.add(Activation('relu'))\n",
    "model.add(Dropout(DROPOUT))\n",
    "\n",
    "# additional hidden layers here\n",
    "for i in range(2, len(NODES_PER_LAYER) - 1):\n",
    "    model.add(Dense(NODES_PER_LAYER[i], \n",
    "                    kernel_initializer='glorot_normal'))\n",
    "    model.add(BatchNormalization())\n",
    "    model.add(Activation('relu'))\n",
    "    model.add(Dropout(DROPOUT))\n",
    "\n",
    "model.add(Dense(NODES_PER_LAYER[-1], kernel_initializer='glorot_normal'))\n",
    "#model.add(BatchNormalization())\n",
    "#model.add(Activation('softmax'))\n",
    "\n",
    "model.summary()"
   ]
  },
  {
   "cell_type": "code",
   "execution_count": 162,
   "metadata": {
    "collapsed": true
   },
   "outputs": [],
   "source": [
    "adam = Adam(\n",
    "    lr=ETA, beta_1=BETA_1, beta_2=BETA_2, epsilon=EPSILON, decay=DECAY)\n",
    "model.compile(\n",
    "    loss='mean_squared_error', optimizer=adam)"
   ]
  },
  {
   "cell_type": "code",
   "execution_count": 163,
   "metadata": {
    "collapsed": false,
    "scrolled": true
   },
   "outputs": [],
   "source": [
    "VERBOSE = 0\n",
    "checkpointer = ModelCheckpoint(filepath='../data/weights.bestNN.hdf5',\n",
    "                               verbose=VERBOSE,\n",
    "                               save_best_only=True)\n",
    "earlyStop = EarlyStopping(monitor='val_loss', patience=500)\n",
    "start = time.time()\n",
    "history = model.fit(X_train,\n",
    "                    y_train,\n",
    "                    validation_data=(X_valid, y_valid),\n",
    "                    epochs=EPOCHS,\n",
    "                    batch_size=BATCH_SIZE,\n",
    "                    callbacks=[checkpointer, earlyStop],\n",
    "                    verbose=VERBOSE)\n",
    "elapsed = time.time() - start"
   ]
  },
  {
   "cell_type": "code",
   "execution_count": 164,
   "metadata": {
    "collapsed": false
   },
   "outputs": [
    {
     "name": "stdout",
     "output_type": "stream",
     "text": [
      "Time: 0.84 minutes\n"
     ]
    }
   ],
   "source": [
    "print('Time: %.2f minutes' % (elapsed / 60))"
   ]
  },
  {
   "cell_type": "code",
   "execution_count": 165,
   "metadata": {
    "collapsed": false
   },
   "outputs": [
    {
     "data": {
      "image/png": "[encoded data removed]",
      "text/plain": [
       "<matplotlib.figure.Figure at 0x11c8abc50>"
      ]
     },
     "metadata": {},
     "output_type": "display_data"
    }
   ],
   "source": [
    "plt.plot(history.history['loss'], 'k-', label='train');\n",
    "plt.plot(history.history['val_loss'], 'r-', label='valid');\n",
    "plt.xlabel('epochs');\n",
    "plt.ylabel('Loss (RMSE)')\n",
    "#plt.yscale('log');\n",
    "plt.legend(loc='best');\n",
    "#plt.ylim([0, 0.1])"
   ]
  },
  {
   "cell_type": "code",
   "execution_count": 166,
   "metadata": {
    "collapsed": false
   },
   "outputs": [
    {
     "name": "stdout",
     "output_type": "stream",
     "text": [
      "This run: 0.0200401\n"
     ]
    }
   ],
   "source": [
    "this_run = np.mean(history.history['val_loss'][-50:])\n",
    "print('This run: %.7f' % this_run)"
   ]
  },
  {
   "cell_type": "code",
   "execution_count": 167,
   "metadata": {
    "collapsed": false
   },
   "outputs": [
    {
     "name": "stdout",
     "output_type": "stream",
     "text": [
      "Best validation loss so far: 0.00534\n",
      "Training loss of same model: 0.01200\n",
      "Best hyperparameters found so far:\n",
      "{'BATCH_SIZE': 64,\n",
      " 'BETA_1': 0.9,\n",
      " 'BETA_2': 0.999,\n",
      " 'DECAY': 0.01,\n",
      " 'DROPOUT': 0.5,\n",
      " 'EPOCHS': 1000,\n",
      " 'EPSILON': 1e-08,\n",
      " 'ETA': 0.005,\n",
      " 'NODES_PER_LAYER': [135, 8, 8, 8, 1]}\n"
     ]
    }
   ],
   "source": [
    "if this_run < best_val_loss:\n",
    "    print('New Best Model Found!\\n')\n",
    "    best_val_loss = this_run\n",
    "    train_loss_of_best = np.mean(history.history['loss'][-50:])\n",
    "    best_params = get_params()\n",
    "print('Best validation loss so far: %.5f' % best_val_loss)\n",
    "print('Training loss of same model: %.5f' % train_loss_of_best)\n",
    "print('Best hyperparameters found so far:')\n",
    "pprint(best_params)"
   ]
  },
  {
   "cell_type": "code",
   "execution_count": 168,
   "metadata": {
    "collapsed": false
   },
   "outputs": [],
   "source": [
    "preds = model.predict(X_new)\n",
    "preds = list(preds.reshape(len(X_new)))"
   ]
  },
  {
   "cell_type": "code",
   "execution_count": 169,
   "metadata": {
    "collapsed": false
   },
   "outputs": [
    {
     "data": {
      "text/html": [
       "<div>\n",
       "<style>\n",
       "    .dataframe thead tr:only-child th {\n",
       "        text-align: right;\n",
       "    }\n",
       "\n",
       "    .dataframe thead th {\n",
       "        text-align: left;\n",
       "    }\n",
       "\n",
       "    .dataframe tbody tr th {\n",
       "        vertical-align: top;\n",
       "    }\n",
       "</style>\n",
       "<table border=\"1\" class=\"dataframe\">\n",
       "  <thead>\n",
       "    <tr style=\"text-align: right;\">\n",
       "      <th></th>\n",
       "      <th>stocks</th>\n",
       "      <th>preds</th>\n",
       "    </tr>\n",
       "  </thead>\n",
       "  <tbody>\n",
       "    <tr>\n",
       "      <th>9</th>\n",
       "      <td>alk</td>\n",
       "      <td>1.181999</td>\n",
       "    </tr>\n",
       "    <tr>\n",
       "      <th>10</th>\n",
       "      <td>intu</td>\n",
       "      <td>1.053941</td>\n",
       "    </tr>\n",
       "    <tr>\n",
       "      <th>6</th>\n",
       "      <td>bb</td>\n",
       "      <td>1.046336</td>\n",
       "    </tr>\n",
       "    <tr>\n",
       "      <th>0</th>\n",
       "      <td>newr</td>\n",
       "      <td>1.037080</td>\n",
       "    </tr>\n",
       "    <tr>\n",
       "      <th>3</th>\n",
       "      <td>ilmn</td>\n",
       "      <td>1.036356</td>\n",
       "    </tr>\n",
       "    <tr>\n",
       "      <th>8</th>\n",
       "      <td>masi</td>\n",
       "      <td>1.030086</td>\n",
       "    </tr>\n",
       "    <tr>\n",
       "      <th>4</th>\n",
       "      <td>nue</td>\n",
       "      <td>1.029480</td>\n",
       "    </tr>\n",
       "    <tr>\n",
       "      <th>7</th>\n",
       "      <td>cme</td>\n",
       "      <td>1.023052</td>\n",
       "    </tr>\n",
       "    <tr>\n",
       "      <th>2</th>\n",
       "      <td>unp</td>\n",
       "      <td>1.020063</td>\n",
       "    </tr>\n",
       "    <tr>\n",
       "      <th>1</th>\n",
       "      <td>nvda</td>\n",
       "      <td>1.012049</td>\n",
       "    </tr>\n",
       "    <tr>\n",
       "      <th>5</th>\n",
       "      <td>atvi</td>\n",
       "      <td>1.003649</td>\n",
       "    </tr>\n",
       "    <tr>\n",
       "      <th>13</th>\n",
       "      <td>awr</td>\n",
       "      <td>0.988813</td>\n",
       "    </tr>\n",
       "    <tr>\n",
       "      <th>11</th>\n",
       "      <td>cwt</td>\n",
       "      <td>0.961545</td>\n",
       "    </tr>\n",
       "    <tr>\n",
       "      <th>12</th>\n",
       "      <td>wtr</td>\n",
       "      <td>0.955553</td>\n",
       "    </tr>\n",
       "    <tr>\n",
       "      <th>14</th>\n",
       "      <td>awk</td>\n",
       "      <td>0.954329</td>\n",
       "    </tr>\n",
       "    <tr>\n",
       "      <th>15</th>\n",
       "      <td>artna</td>\n",
       "      <td>0.921531</td>\n",
       "    </tr>\n",
       "  </tbody>\n",
       "</table>\n",
       "</div>"
      ],
      "text/plain": [
       "   stocks     preds\n",
       "9     alk  1.181999\n",
       "10   intu  1.053941\n",
       "6      bb  1.046336\n",
       "0    newr  1.037080\n",
       "3    ilmn  1.036356\n",
       "8    masi  1.030086\n",
       "4     nue  1.029480\n",
       "7     cme  1.023052\n",
       "2     unp  1.020063\n",
       "1    nvda  1.012049\n",
       "5    atvi  1.003649\n",
       "13    awr  0.988813\n",
       "11    cwt  0.961545\n",
       "12    wtr  0.955553\n",
       "14    awk  0.954329\n",
       "15  artna  0.921531"
      ]
     },
     "execution_count": 169,
     "metadata": {},
     "output_type": "execute_result"
    }
   ],
   "source": [
    "df = pd.DataFrame(columns=['stocks'], data=list(stocks))\n",
    "df['preds'] = preds\n",
    "df = df.sort_values('preds', ascending=False)\n",
    "df"
   ]
  },
  {
   "cell_type": "markdown",
   "metadata": {},
   "source": [
    "```\n",
    "0.00534\n",
    "8 \tmasi \t1.022999\n",
    "10 \tintu \t1.022999\n",
    "5 \tatvi \t1.022999\n",
    "2 \tunp \t1.022999\n",
    "1 \tnvda \t1.022999\n",
    "0 \tnewr \t1.022999\n",
    "6 \tbb  \t1.022999\n",
    "4 \tnue \t1.022999\n",
    "7 \tcme \t1.022999\n",
    "3 \tilmn \t1.022977\n",
    "                        12 \twtr \t1.022485\n",
    "                        13 \tawr \t1.022033\n",
    "                        11 \tcwt \t1.021583\n",
    "                        14 \tawk \t1.021299\n",
    "9 \talk \t1.021089\n",
    "                        15 \tartna \t1.020254\n",
    "\n",
    "\n",
    "\n",
    "0.00538\n",
    "0 \tnewr \t1.024364\n",
    "1 \tnvda \t1.024364\n",
    "3 \tilmn \t1.024364\n",
    "13 \tawr \t1.024364\n",
    "\n",
    "12 \twtr \t1.024016\n",
    "6 \tbb  \t1.023926\n",
    "14 \tawk \t1.023740\n",
    "4 \tnue \t1.023541\n",
    "11 \tcwt \t1.022290\n",
    "15 \tartna \t1.021814\n",
    "9 \talk \t1.021672\n",
    "7 \tcme \t1.021583\n",
    "\n",
    "\n",
    "0.00602\n",
    "9 \talk \t1.067795\n",
    "2 \tunp \t1.032589\n",
    "7 \tcme \t1.031395\n",
    "13 \tawr \t1.029065\n",
    "8 \tmasi \t1.028800\n",
    "3 \tilmn \t1.025927\n",
    "4 \tnue \t1.025052\n",
    "10 \tintu \t1.023914\n",
    "5 \tatvi \t1.019476\n",
    "6 \tbb  \t1.018610\n",
    "15 \tartna \t1.016547\n",
    "11 \tcwt \t1.014812\n",
    "12 \twtr \t1.011542\n",
    "1 \tnvda \t1.011161\n",
    "14 \tawk \t1.011128\n",
    "0 \tnewr \t1.007714\n",
    "\n",
    "\n",
    "\n",
    "0.00731\n",
    "0 \tnewr \t1.027734\n",
    "4 \tnue \t1.027734\n",
    "6 \tbb  \t1.027734\n",
    "7 \tcme \t1.027734\n",
    "9 \talk \t1.027734\n",
    "10 \tintu \t1.027734\n",
    "8 \tmasi \t1.027583\n",
    "5 \tatvi \t1.027108\n",
    "2 \tunp \t1.027023\n",
    "1 \tnvda \t1.012424\n",
    "3 \tilmn \t1.007744\n",
    "11 \tcwt \t1.007744\n",
    "12 \twtr \t1.007744\n",
    "13 \tawr \t1.007744\n",
    "14 \tawk \t1.007744\n",
    "15 \tartna \t1.007744\n",
    "\n",
    "\n",
    "0.0094571\n",
    "9 \talk \t1.062685\n",
    "3 \tilmn \t1.042506\n",
    "8 \tmasi \t1.040163\n",
    "0 \tnewr \t1.037365\n",
    "13 \tawr \t1.029387\n",
    "10 \tintu \t1.028862\n",
    "6 \tbb  \t1.026617\n",
    "2 \tunp \t1.022523\n",
    "5 \tatvi \t1.012924\n",
    "12 \twtr \t1.009851\n",
    "15 \tartna \t1.008452\n",
    "1 \tnvda \t1.005280\n",
    "14 \tawk \t1.005062\n",
    "11 \tcwt \t1.000561\n",
    "7 \tcme \t0.999885\n",
    "4 \tnue \t0.993363\n",
    "\n",
    "\n",
    "0.0144473\n",
    "3 \tilmn \t1.111817\n",
    "10 \tintu \t1.080894\n",
    "6 \tbb  \t1.076914\n",
    "2 \tunp \t1.073780\n",
    "0 \tnewr \t1.071209\n",
    "8 \tmasi \t1.064939\n",
    "4 \tnue \t1.055335\n",
    "1 \tnvda \t1.051458\n",
    "5 \tatvi \t1.005735\n",
    "7 \tcme \t0.983148\n",
    "9 \talk \t0.983148\n",
    "11 \tcwt \t0.983148\n",
    "12 \twtr \t0.983148\n",
    "13 \tawr \t0.983148\n",
    "14 \tawk \t0.983148\n",
    "15 \tartna \t0.983148\n",
    "\n",
    "\n",
    "0.0387078\n",
    "2 \tunp \t1.130290\n",
    "4 \tnue \t1.125606\n",
    "6 \tbb  \t1.111176\n",
    "10 \tintu \t1.105672\n",
    "3 \tilmn \t1.100313\n",
    "7 \tcme \t1.097335\n",
    "8 \tmasi \t1.094330\n",
    "1 \tnvda \t1.087378\n",
    "5 \tatvi \t1.081015\n",
    "0 \tnewr \t1.061893\n",
    "12 \twtr \t1.009940\n",
    "15 \tartna \t1.009759\n",
    "14 \tawk \t0.991423\n",
    "13 \tawr \t0.975234\n",
    "11 \tcwt \t0.968198\n",
    "9 \talk \t0.928422\n",
    "```"
   ]
  },
  {
   "cell_type": "markdown",
   "metadata": {},
   "source": [
    "## Tensorflow Model"
   ]
  },
  {
   "cell_type": "code",
   "execution_count": 37,
   "metadata": {
    "collapsed": true
   },
   "outputs": [],
   "source": [
    "#!mkdir stock_model_logs"
   ]
  },
  {
   "cell_type": "code",
   "execution_count": 38,
   "metadata": {
    "collapsed": true
   },
   "outputs": [],
   "source": [
    "def batch_norm(x, n_out, phase_train, layer_type):\n",
    "    beta_init  = tf.constant_initializer(value=0.0, dtype=tf.float32)\n",
    "    gamma_init = tf.constant_initializer(value=1.0, dtype=tf.float32)\n",
    "    beta  = tf.get_variable('beta',  [n_out], initializer=beta_init)\n",
    "    gamma = tf.get_variable('gamma', [n_out], initializer=gamma_init)\n",
    "    axes = [0, 1, 2] if layer_type == 'conv' else [0]\n",
    "    batch_mean, batch_var = tf.nn.moments(x, axes, name='moments')\n",
    "    ema = tf.train.ExponentialMovingAverage(decay=0.9)\n",
    "    ema_apply_op = ema.apply([batch_mean, batch_var])\n",
    "    \n",
    "    def  mean_var_with_update():\n",
    "        with tf.control_dependencies([ema_apply_op]):\n",
    "            return tf.identity(batch_mean), tf.identity(batch_var)\n",
    "    \n",
    "    ema_mean, ema_var = ema.average(batch_mean), ema.average(batch_var)\n",
    "    mean, var = control_flow_ops.cond(\n",
    "        phase_train, mean_var_with_update, lambda: (ema_mean, ema_var))\n",
    "    \n",
    "    if layer_type != 'conv':\n",
    "        x = tf.reshape(x, [-1, 1, 1, n_out])\n",
    "    normed = tf.nn.batch_norm_with_global_normalization(\n",
    "        x, mean, var, beta, gamma, 1e-3, True)\n",
    "    \n",
    "    if layer_type != 'conv':\n",
    "        normed = tf.reshape(normed, [-1, n_out])\n",
    "    return normed"
   ]
  },
  {
   "cell_type": "code",
   "execution_count": 39,
   "metadata": {
    "collapsed": true
   },
   "outputs": [],
   "source": [
    "def layer_batch_norm(x, n_out, phase_train):\n",
    "    return batch_norm(x, n_out, phase_train, 'fully_connected')"
   ]
  },
  {
   "cell_type": "code",
   "execution_count": 40,
   "metadata": {
    "collapsed": false
   },
   "outputs": [],
   "source": [
    "# Create a fully-connected layer\n",
    "def layer(input, weight_shape, bias_shape, phase_train):\n",
    "    weight_init = tf.random_normal_initializer(\n",
    "        stddev=(2. / weight_shape[0]) ** 0.5)  # He\n",
    "        #stddev=(2. / (weight_shape[0] + weight_shape[1])) ** 0.5) # Xavier\n",
    "    bias_init = tf.constant_initializer(value=0)\n",
    "    W = tf.get_variable('W', weight_shape, initializer=weight_init)\n",
    "    b = tf.get_variable('b', bias_shape, initializer=bias_init)\n",
    "    logits = tf.matmul(input, W) + b\n",
    "    return tf.nn.relu(layer_batch_norm(  # <- or tanh\n",
    "        logits, weight_shape[1], phase_train))"
   ]
  },
  {
   "cell_type": "code",
   "execution_count": 41,
   "metadata": {
    "collapsed": true
   },
   "outputs": [],
   "source": [
    "# Make with 2 fc layers, then update to generalize\n",
    "def inference(x, keep_prob, phase_train, n_neurons):\n",
    "    inputs = x\n",
    "    for i in range(len(n_neurons) - 1):\n",
    "        with tf.variable_scope('fc' + str(i + 1)):\n",
    "            inputs = layer(inputs, \n",
    "                           [n_neurons[i], n_neurons[i + 1]],\n",
    "                           n_neurons[i + 1],\n",
    "                           phase_train)\n",
    "            inputs = tf.nn.dropout(inputs, keep_prob)\n",
    "    return inputs"
   ]
  },
  {
   "cell_type": "code",
   "execution_count": 42,
   "metadata": {
    "collapsed": false
   },
   "outputs": [],
   "source": [
    "def loss(output, y):\n",
    "    #cost = tf.reduce_sum(tf.pow(output - y, 2)) # SSE\n",
    "    cost = tf.sqrt(\n",
    "        tf.reduce_mean(tf.square(tf.subtract(y, output)))) # RMSE\n",
    "    return cost"
   ]
  },
  {
   "cell_type": "code",
   "execution_count": 43,
   "metadata": {
    "collapsed": true
   },
   "outputs": [],
   "source": [
    "def training(cost, global_step):\n",
    "    #tf.summary.scalar('cost', cost)\n",
    "    eta0 = ETA\n",
    "    eta = tf.train.exponential_decay(\n",
    "        eta0, global_step, DECAY_STEPS, DECAY_RATE, name='eta')\n",
    "    optimizer = tf.train.AdamOptimizer(eta)\n",
    "    train_op = optimizer.minimize(cost, global_step=global_step)\n",
    "    return train_op"
   ]
  },
  {
   "cell_type": "code",
   "execution_count": 44,
   "metadata": {
    "collapsed": false
   },
   "outputs": [
    {
     "data": {
      "text/plain": [
       "[]"
      ]
     },
     "execution_count": 44,
     "metadata": {},
     "output_type": "execute_result"
    }
   ],
   "source": [
    "ops.reset_default_graph()\n",
    "g = tf.get_default_graph()\n",
    "[op.name for op in g.get_operations()]"
   ]
  },
  {
   "cell_type": "code",
   "execution_count": 45,
   "metadata": {
    "collapsed": true
   },
   "outputs": [],
   "source": [
    "#def training(cost, global_step):\n",
    "#    #tf.summary.scalar('cost', cost)\n",
    "#    optimizer = tf.train.AdamOptimizer(ETA)\n",
    "#    train_op = optimizer.minimize(cost, global_step=global_step)\n",
    "#    return train_op"
   ]
  },
  {
   "cell_type": "code",
   "execution_count": 46,
   "metadata": {
    "collapsed": true
   },
   "outputs": [],
   "source": [
    "# Run only before first model is executed\n",
    "best_error_so_far = rmse_ridge"
   ]
  },
  {
   "cell_type": "code",
   "execution_count": 59,
   "metadata": {
    "collapsed": true
   },
   "outputs": [],
   "source": [
    "N, D = X_train.shape\n",
    "\n",
    "# Hyperparmeters to tune\n",
    "DROPOUT_RATE = 0.01\n",
    "n_neurons = [D, D, D, 1]\n",
    "\n",
    "# Programmed Learning with Decay\n",
    "ETA = 0.5 # Learning rate\n",
    "DECAY_STEPS = 100  # eta updates after this many epochs\n",
    "DECAY_RATE = 0.99  # factor to change eta by\n",
    "\n",
    "BATCH_SIZE = 64\n",
    "EPOCHS = 3000\n",
    "\n",
    "DISPLAY_STEP = 200"
   ]
  },
  {
   "cell_type": "code",
   "execution_count": 60,
   "metadata": {
    "collapsed": false
   },
   "outputs": [
    {
     "name": "stdout",
     "output_type": "stream",
     "text": [
      "Epoch: 0001 Cost: 0.12552226\tValidation cost: 40.19169617\n",
      "Epoch: 0201 Cost: 0.04293507\tValidation cost: 0.15264906\n",
      "Epoch: 0401 Cost: 0.03634217\tValidation cost: 0.15333213\n",
      "Epoch: 0601 Cost: 0.04472242\tValidation cost: 0.15236823\n",
      "Epoch: 0801 Cost: 0.04081369\tValidation cost: 0.15890647\n",
      "Epoch: 1001 Cost: 0.03319941\tValidation cost: 0.14275464\n",
      "Epoch: 1201 Cost: 0.03917455\tValidation cost: 0.16633788\n",
      "Epoch: 1401 Cost: 0.03917989\tValidation cost: 0.16594633\n",
      "Epoch: 1601 Cost: 0.03140240\tValidation cost: 0.15696761\n",
      "Epoch: 1801 Cost: 0.02975376\tValidation cost: 0.16686974\n",
      "Epoch: 2001 Cost: 0.03917575\tValidation cost: 0.16799402\n",
      "Epoch: 2201 Cost: 0.03319238\tValidation cost: 0.16768393\n",
      "Epoch: 2401 Cost: 0.03319230\tValidation cost: 0.16801058\n",
      "Epoch: 2601 Cost: 0.04234855\tValidation cost: 0.17750300\n",
      "Epoch: 2801 Cost: 0.04184610\tValidation cost: 0.16771641\n",
      "Optimization complete...\n",
      "Test RMSE: 0.17153876\n",
      "\n",
      "\n",
      "   Stock  Prediction  LowerBound  UpperBound\n",
      "0   cboe    1.119308    0.776231    1.462386\n",
      "9    txt    1.119308    0.776231    1.462386\n",
      "15   nyt    1.119308    0.776231    1.462386\n",
      "14  ndaq    1.119308    0.776231    1.462386\n",
      "13   mtn    1.119308    0.776231    1.462386\n",
      "12  mtch    1.119308    0.776231    1.462386\n",
      "11   mkc    1.119308    0.776231    1.462386\n",
      "10   kmi    1.119308    0.776231    1.462386\n",
      "8   stmp    1.119308    0.776231    1.462386\n",
      "1    hca    1.119308    0.776231    1.462386\n",
      "7   pypl    1.119308    0.776231    1.462386\n",
      "6   masi    1.119308    0.776231    1.462386\n",
      "5   atvi    1.119308    0.776231    1.462386\n",
      "4   aapl    1.119308    0.776231    1.462386\n",
      "3   odfl    1.119308    0.776231    1.462386\n",
      "2   intu    1.119308    0.776231    1.462386\n",
      "16  sbux    1.119308    0.776231    1.462386\n"
     ]
    }
   ],
   "source": [
    "train_err = []\n",
    "valid_err = []\n",
    "\n",
    "with tf.device('/gpu:0'):\n",
    "    with tf.Graph().as_default():\n",
    "        with tf.variable_scope('stock_mod'):\n",
    "            # Init\n",
    "            X = tf.placeholder(tf.float32, shape=[None, D], name='X')\n",
    "            y = tf.placeholder(tf.float32, shape=None, name='y')\n",
    "            keep_prob = tf.placeholder(tf.float32)\n",
    "            phase_train = tf.placeholder(tf.bool) # T=train, F=Valid/Test\n",
    "            output = inference(X, keep_prob, phase_train, n_neurons)\n",
    "            cost = loss(output, y)\n",
    "            global_step = tf.Variable(\n",
    "                0, name='global_step', trainable=False)\n",
    "            train_op = training(cost, global_step)\n",
    "            saver = tf.train.Saver()\n",
    "            sess = tf.Session()\n",
    "            init_op = tf.global_variables_initializer()\n",
    "            sess.run(init_op)\n",
    "            tf.train.start_queue_runners(sess=sess)\n",
    "            \n",
    "            # Train\n",
    "            for epoch in range(EPOCHS):\n",
    "                avg_rmse = 0.\n",
    "                idxs = np.random.permutation(range(N))\n",
    "                n_batches = len(idxs) // BATCH_SIZE\n",
    "                \n",
    "                for batch in range(n_batches):\n",
    "                    _, new_cost = sess.run(\n",
    "                        [train_op, cost],\n",
    "                        feed_dict={X: X_train[idxs, :],\n",
    "                                   y: y_train[idxs],\n",
    "                                   keep_prob: 1 - DROPOUT_RATE,\n",
    "                                   phase_train: True})\n",
    "                avg_rmse += new_cost / n_batches\n",
    "                train_err.append(avg_rmse)\n",
    "\n",
    "                validate_rmse = sess.run(\n",
    "                    cost,\n",
    "                    feed_dict={X: X_valid,\n",
    "                               y: y_valid,\n",
    "                               keep_prob: 1.,\n",
    "                               phase_train: False})\n",
    "                valid_err.append(validate_rmse)\n",
    "\n",
    "                # Display output per display step\n",
    "                if epoch % DISPLAY_STEP == 0:\n",
    "                    print('Epoch: %04d Cost: %.8f\\tValidation cost: %.8f' \n",
    "                          %(epoch + 1, avg_rmse, validate_rmse))\n",
    "\n",
    "                    saver.save(sess, \n",
    "                               'stock_model_logs/model.ckpt', \n",
    "                               global_step=global_step)\n",
    "            print('Optimization complete...')\n",
    "            test_rmse = sess.run(cost, \n",
    "                                feed_dict={X: X_test,\n",
    "                                           y: y_test,\n",
    "                                           keep_prob: 1.,\n",
    "                                           phase_train: False})\n",
    "            print('Test RMSE: %.8f\\n\\n' %test_rmse)\n",
    "            \n",
    "            new_preds = sess.run(output, \n",
    "                                 feed_dict={X: X_new,\n",
    "                                            keep_prob: 1., \n",
    "                                            phase_train: False})\n",
    "            final_out = []\n",
    "            for (stock, pred) in zip(\n",
    "                    stocks, new_preds.reshape(new_preds.shape[0])):\n",
    "                final_out.append([stock, pred])\n",
    "    \n",
    "            out = pd.DataFrame(columns=['Stock', 'Prediction'], \n",
    "                               data=final_out)\n",
    "            out['LowerBound'] = out['Prediction'] - 2 * test_rmse\n",
    "            out['UpperBound'] = out['Prediction'] + 2 * test_rmse\n",
    "            out = out.sort_values('Prediction', ascending=False)\n",
    "            print(out.head(len(stocks)))"
   ]
  },
  {
   "cell_type": "code",
   "execution_count": 55,
   "metadata": {
    "collapsed": false
   },
   "outputs": [
    {
     "name": "stdout",
     "output_type": "stream",
     "text": [
      "0.0850766207489\n"
     ]
    }
   ],
   "source": [
    "#print(np.mean(y_train))\n",
    "print(np.std(y_train))"
   ]
  },
  {
   "cell_type": "code",
   "execution_count": 56,
   "metadata": {
    "collapsed": false,
    "scrolled": true
   },
   "outputs": [
    {
     "data": {
      "image/png": "[encoded data removed]",
      "text/plain": [
       "<matplotlib.figure.Figure at 0x11f974048>"
      ]
     },
     "metadata": {},
     "output_type": "display_data"
    }
   ],
   "source": [
    "plt.plot(train_err, 'k-', label='train');\n",
    "plt.plot(valid_err, 'r-', label='validate');\n",
    "plt.legend(loc='best');\n",
    "plt.xlabel('Epochs');\n",
    "plt.ylabel('RMSE');\n",
    "plt.yscale('log')\n",
    "#plt.xscale('log')"
   ]
  },
  {
   "cell_type": "code",
   "execution_count": 57,
   "metadata": {
    "collapsed": false
   },
   "outputs": [
    {
     "name": "stdout",
     "output_type": "stream",
     "text": [
      "Previous Best: 0.0837089368526\n",
      "This run:      0.081827 Train:  0.0213069126196\n"
     ]
    }
   ],
   "source": [
    "appx_validation_error = np.mean(valid_err[-100:])\n",
    "appx_train_error      = np.mean(train_err[-100:])\n",
    "print('Previous Best:', best_error_so_far)\n",
    "print('This run:     ', appx_validation_error, 'Train: ', appx_train_error)"
   ]
  },
  {
   "cell_type": "code",
   "execution_count": 58,
   "metadata": {
    "collapsed": false
   },
   "outputs": [
    {
     "name": "stdout",
     "output_type": "stream",
     "text": [
      "New Best Model Found!\n",
      "Hyperparameters:\n",
      "----------------------------------------------------------------------\n",
      "best_error_so_far: 0.081827\n",
      "     best_dropout: 0.0\n",
      "best_architecture: [128, 128, 128, 1]\n",
      "         best_eta: 0.5\n",
      " best_decay_steps: 100\n",
      "  best_decay_rate: 0.99\n",
      "           epochs: 3000\n"
     ]
    }
   ],
   "source": [
    "if appx_validation_error < best_error_so_far:\n",
    "    best_error_so_far = appx_validation_error\n",
    "    print('New Best Model Found!\\nHyperparameters:\\n' + ('-' * 70))\n",
    "    hyperparams = {\n",
    "        'best_error_so_far': appx_validation_error,\n",
    "        'best_dropout': DROPOUT_RATE,\n",
    "        'best_architecture': n_neurons,\n",
    "        'best_eta': ETA,\n",
    "        'best_decay_steps': DECAY_STEPS,\n",
    "        'best_decay_rate': DECAY_RATE,\n",
    "        'epochs': EPOCHS}\n",
    "for k, v in hyperparams.items():\n",
    "    print('%17s: %s' %(k, str(v)))"
   ]
  },
  {
   "cell_type": "markdown",
   "metadata": {
    "collapsed": true
   },
   "source": [
    "```\n",
    "   Stock  Prediction  LowerBound  UpperBound\n",
    "11   mkc    1.015311    0.854142    1.176480\n",
    "9    txt    1.015256    0.854087    1.176425\n",
    "0   cboe    1.015224    0.854055    1.176393\n",
    "10   kmi    1.015203    0.854034    1.176372\n",
    "14  ndaq    1.015198    0.854028    1.176367\n",
    "3   odfl    1.015192    0.854023    1.176362\n",
    "5   atvi    1.015190    0.854021    1.176359\n",
    "2   intu    1.015177    0.854008    1.176346\n",
    "1    hca    1.015171    0.854002    1.176340\n",
    "16  sbux    1.015143    0.853974    1.176312\n",
    "6   masi    1.015141    0.853972    1.176310\n",
    "12  mtch    1.015140    0.853971    1.176310\n",
    "15   nyt    1.015121    0.853952    1.176290\n",
    "13   mtn    1.015076    0.853907    1.176245\n",
    "4   aapl    1.015076    0.853907    1.176245\n",
    "8   stmp    1.015065    0.853896    1.176234\n",
    "7   pypl    1.015043    0.853874    1.176212\n",
    "```"
   ]
  },
  {
   "cell_type": "code",
   "execution_count": null,
   "metadata": {
    "collapsed": true
   },
   "outputs": [],
   "source": []
  }
 ],
 "metadata": {
  "kernelspec": {
   "display_name": "Python 3",
   "language": "python",
   "name": "python3"
  },
  "language_info": {
   "codemirror_mode": {
    "name": "ipython",
    "version": 3
   },
   "file_extension": ".py",
   "mimetype": "text/x-python",
   "name": "python",
   "nbconvert_exporter": "python",
   "pygments_lexer": "ipython3",
   "version": "3.6.1"
  }
 },
 "nbformat": 4,
 "nbformat_minor": 0
}
