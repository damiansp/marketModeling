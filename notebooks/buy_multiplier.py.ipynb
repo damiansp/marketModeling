{
 "cells": [
  {
   "cell_type": "code",
   "execution_count": 1,
   "id": "51a9dcf3",
   "metadata": {},
   "outputs": [],
   "source": [
    "from datetime import datetime, timedelta\n",
    "\n",
    "import sys\n",
    "\n",
    "import matplotlib.pyplot as plt\n",
    "import numpy as np\n",
    "import pandas as pd\n",
    "\n",
    "sys.path.append('..')\n",
    "from util.stock_loader import Loader"
   ]
  },
  {
   "cell_type": "code",
   "execution_count": 2,
   "id": "e5c97a69",
   "metadata": {},
   "outputs": [],
   "source": [
    "DATA = '../models/qp/data'\n",
    "SYMBOLS = [\n",
    "    'AAPL', 'ABMD', 'ABNB', 'ACN', 'ADBE', 'ADYEY', 'AMD', 'AMGN',\n",
    "    'AMZN', 'ANET', 'ASML', 'AXON', 'BROS', 'BYND', 'CHWY', 'CRWD',\n",
    "    'DDOG', 'DGX', 'DIS', 'DOCS', 'DOCU', 'DUOL', 'EDIT', 'ETSY',\n",
    "    'FLGT', 'FTNT', 'GH', 'GMED', 'GOOG', 'IDXX', 'INTG', 'ISRG',\n",
    "    'JD', 'LRCX', 'LSPD', 'LULU', 'MA', 'MASI', 'MDB', 'MELI', 'MNST',\n",
    "    'MSFT', 'MTCH', 'NET', 'NOW', 'NVCR', 'NVDA', 'ODFL', 'OKTA',\n",
    "    'OPEN', 'PAC', 'PANW', 'PAYC', 'PINS', 'PTON', 'PYPL', 'QDEL',\n",
    "    'RBLX', 'RDFN', 'RGEN', 'RIVN', 'RMD', 'ROKU', 'RVLV', 'SAM',\n",
    "    'SBUX', 'SE', 'SHOP', 'SNOW', 'TASK', 'TDOC', 'TEAM', 'TMUS', \n",
    "    'TREX', 'TSCO', 'TSLA', 'TTD', 'TTWO', 'TWLO', 'TWTR', 'TYL',\n",
    "    'UPST', 'VEEV', 'VLD', 'VRTX', 'XPEV', 'ZEN', 'ZM']\n",
    "LINGERERS = [\n",
    "    'AGI', 'AMEH', 'AMRK', 'APT', 'BRTX', 'BTTR', 'BYRN',\n",
    "    'CELH', 'CEF', 'CENN', 'CGAU', 'CHEF', 'CTGO', 'CVE', 'DQ', 'DTST',\n",
    "    'DYAI', 'EA', 'EP', 'ERIE', 'ESOA', 'FCUV', 'FKWL', 'FNV',\n",
    "    'GCBC', 'GGE', 'GME', 'HBM', 'HMY', 'HNRG', 'IDR', 'INTZ',\n",
    "    'MCVT', 'MICS', 'MNMD', 'MOBQ', 'MTA',\n",
    "    'OMQS', 'PACB', 'PETV', 'POWW', 'PRPH', 'RVP', 'RVYL', 'SAND',\n",
    "    'SOBR', 'TRGP', 'VIRT', 'WAVD', 'WKHS', 'WRN', 'YORW', 'ZEST']\n",
    "BEST_WEIGHTED = [\n",
    "    'AMRC', 'CLW', 'COOP', 'CSIQ', 'ESTE', 'FSI', 'GGB', 'LFMD', \n",
    "    'LPLA', 'MTDR', 'PARR', 'PRIM', 'SIX', 'TGLS', 'TITN', 'TRGP',\n",
    "    'UTHR', 'VIVO', 'VOC', 'ZYXI']\n",
    "\n",
    "INDICES = ['^GSPC', # S&P 500\n",
    "           '^IXIC', # Nasdaq\n",
    "           '^NYA']  # NY Stock Exchange (total)"
   ]
  },
  {
   "cell_type": "code",
   "execution_count": 3,
   "id": "a79aa1f3",
   "metadata": {},
   "outputs": [
    {
     "data": {
      "text/plain": [
       "('2013-01-14', datetime.date(2023, 1, 14))"
      ]
     },
     "execution_count": 3,
     "metadata": {},
     "output_type": "execute_result"
    }
   ],
   "source": [
    "N_YEARS = 10 # 5\n",
    "N_DAYS = int(round(365.25 * N_YEARS))\n",
    "END = (datetime.now() + timedelta(1)).date()\n",
    "START = str(END - timedelta(N_DAYS))\n",
    "START, END"
   ]
  },
  {
   "cell_type": "code",
   "execution_count": 4,
   "id": "6fa75879",
   "metadata": {},
   "outputs": [
    {
     "name": "stdout",
     "output_type": "stream",
     "text": [
      "[*********************100%***********************]  164 of 164 completed\n",
      "Generating derived columns...\n",
      "AAPL... ABMD... ABNB... ACN... ADBE... ADYEY... AGI... AMD... AMEH... AMGN... AMRC... AMRK... AMZN... ANET... APT... ASML... AXON... BROS... BRTX... BTTR... BYND... BYRN... CAR... CEF... CELH... CENN... CGAU... CHEF... CHWY... CLW... COOP... CRWD... CSIQ... CTGO... CVE... DDOG... DGX... DIS... DOCS... DOCU... DQ... DTST... DUOL... DYAI... EA... EDIT... EP... ERIE... ESOA... ESTE... ETSY... FCUV... FKWL... FLGT... FNV... FSI... FTNT... GCBC... GGB... GGE... GH... GME... GMED... GOOG... HBM... HMY... HNRG... IDR... IDXX... INTG... INTZ... ISRG... JD... LFMD... LPLA... LRCX... LSPD... LULU... MA... MASI... MCVT... MDB... MELI... MICS... MNMD... MNST... MOBQ... MSFT... MTA... MTCH... MTDR... NET... NOW... NVCR... NVDA... ODFL... OKTA... OMQS... OPEN... PAC... PACB... PANW... PARR... PAYC... PETV... PINS... POWW... PRIM... PRPH... PTON... PYPL... QDEL... RBLX... RDFN... RGEN... RIVN... RMD... ROKU... RVLV... RVP... RVYL... SAM... SAND... SBUX... SE... SHOP... SIX... SNOW... SOBR... TASK... TDOC... TEAM... TGLS... TITN... TMUS... TREX... TRGP... TSCO... TSLA... TTD... TTWO... TWLO... TWTR... TYL... UPST... UTHR... VEEV... VIRT... VIVO... VLD... VOC... VRTX... WAVD... WKHS... WRN... XPEV... YORW... ZEN... ZEST... ZM... ZYXI... ^GSPC... ^IXIC... ^NYA... \n"
     ]
    }
   ],
   "source": [
    "batch = (\n",
    "    sorted(list(set(SYMBOLS + LINGERERS + BEST_WEIGHTED))) + INDICES) # run all\n",
    "stock_loader = Loader(batch, START, str(END), verbose=True)\n",
    "data = stock_loader.download().rename(columns={'Adj Close': 'AdjClose'})"
   ]
  },
  {
   "cell_type": "code",
   "execution_count": 5,
   "id": "435bfa6a",
   "metadata": {},
   "outputs": [
    {
     "data": {
      "text/plain": [
       "2514   2023-01-09\n",
       "2515   2023-01-10\n",
       "2516   2023-01-11\n",
       "2517   2023-01-12\n",
       "2518   2023-01-13\n",
       "Name: Date, dtype: datetime64[ns]"
      ]
     },
     "execution_count": 5,
     "metadata": {},
     "output_type": "execute_result"
    }
   ],
   "source": [
    "data['Date'].tail()"
   ]
  },
  {
   "cell_type": "code",
   "execution_count": 6,
   "id": "cad01219",
   "metadata": {},
   "outputs": [
    {
     "data": {
      "text/plain": [
       "1       1.001129\n",
       "2       1.000197\n",
       "3       1.005643\n",
       "4       1.003403\n",
       "5       1.004428\n",
       "          ...   \n",
       "2514    0.999232\n",
       "2515    1.006978\n",
       "2516    1.012849\n",
       "2517    1.003416\n",
       "2518    1.003997\n",
       "Name: ^GSPC, Length: 2518, dtype: float64"
      ]
     },
     "execution_count": 6,
     "metadata": {},
     "output_type": "execute_result"
    }
   ],
   "source": [
    "spx = data['DayToDayChange']['^GSPC']\n",
    "spx = spx[1:]\n",
    "#spx = spx / spx[1]\n",
    "spx"
   ]
  },
  {
   "cell_type": "code",
   "execution_count": 7,
   "id": "e47707d7",
   "metadata": {},
   "outputs": [
    {
     "data": {
      "text/html": [
       "<div>\n",
       "<style scoped>\n",
       "    .dataframe tbody tr th:only-of-type {\n",
       "        vertical-align: middle;\n",
       "    }\n",
       "\n",
       "    .dataframe tbody tr th {\n",
       "        vertical-align: top;\n",
       "    }\n",
       "\n",
       "    .dataframe thead th {\n",
       "        text-align: right;\n",
       "    }\n",
       "</style>\n",
       "<table border=\"1\" class=\"dataframe\">\n",
       "  <thead>\n",
       "    <tr style=\"text-align: right;\">\n",
       "      <th></th>\n",
       "      <th>0.75</th>\n",
       "    </tr>\n",
       "  </thead>\n",
       "  <tbody>\n",
       "    <tr>\n",
       "      <th>1</th>\n",
       "      <td>1.014881</td>\n",
       "    </tr>\n",
       "    <tr>\n",
       "      <th>2</th>\n",
       "      <td>1.001468</td>\n",
       "    </tr>\n",
       "    <tr>\n",
       "      <th>3</th>\n",
       "      <td>1.016091</td>\n",
       "    </tr>\n",
       "    <tr>\n",
       "      <th>4</th>\n",
       "      <td>1.004118</td>\n",
       "    </tr>\n",
       "    <tr>\n",
       "      <th>5</th>\n",
       "      <td>1.015320</td>\n",
       "    </tr>\n",
       "    <tr>\n",
       "      <th>...</th>\n",
       "      <td>...</td>\n",
       "    </tr>\n",
       "    <tr>\n",
       "      <th>2514</th>\n",
       "      <td>1.030274</td>\n",
       "    </tr>\n",
       "    <tr>\n",
       "      <th>2515</th>\n",
       "      <td>1.030343</td>\n",
       "    </tr>\n",
       "    <tr>\n",
       "      <th>2516</th>\n",
       "      <td>1.033848</td>\n",
       "    </tr>\n",
       "    <tr>\n",
       "      <th>2517</th>\n",
       "      <td>1.021629</td>\n",
       "    </tr>\n",
       "    <tr>\n",
       "      <th>2518</th>\n",
       "      <td>1.018868</td>\n",
       "    </tr>\n",
       "  </tbody>\n",
       "</table>\n",
       "<p>2518 rows × 1 columns</p>\n",
       "</div>"
      ],
      "text/plain": [
       "          0.75\n",
       "1     1.014881\n",
       "2     1.001468\n",
       "3     1.016091\n",
       "4     1.004118\n",
       "5     1.015320\n",
       "...        ...\n",
       "2514  1.030274\n",
       "2515  1.030343\n",
       "2516  1.033848\n",
       "2517  1.021629\n",
       "2518  1.018868\n",
       "\n",
       "[2518 rows x 1 columns]"
      ]
     },
     "execution_count": 7,
     "metadata": {},
     "output_type": "execute_result"
    }
   ],
   "source": [
    "data['DayToDayChange'].quantile(q=[0.75], axis=1).T[1:]"
   ]
  },
  {
   "cell_type": "code",
   "execution_count": 8,
   "id": "b41cb446",
   "metadata": {},
   "outputs": [
    {
     "data": {
      "image/png": "[encoded data removed]",
      "text/plain": [
       "<Figure size 1200x800 with 1 Axes>"
      ]
     },
     "metadata": {},
     "output_type": "display_data"
    }
   ],
   "source": [
    "plt.figure(figsize=[12, 8])\n",
    "plt.plot(\n",
    "    data['DayToDayChange'].mean(axis=1)[1:].cumprod(), \n",
    "    label='These Avg Daily')\n",
    "plt.plot(\n",
    "    data['DayToDayChange'].cumprod().mean(axis=1),\n",
    "    label='These Avg Cumul')\n",
    "plt.plot(spx.cumprod(), label='spx')\n",
    "plt.yscale('log')\n",
    "plt.legend();\n",
    "\n",
    "n = len(spx)\n",
    "one_year = n - 250\n",
    "plt.axvline(x=one_year, color='k');"
   ]
  },
  {
   "cell_type": "code",
   "execution_count": 9,
   "id": "952c7165",
   "metadata": {},
   "outputs": [
    {
     "data": {
      "text/html": [
       "<div>\n",
       "<style scoped>\n",
       "    .dataframe tbody tr th:only-of-type {\n",
       "        vertical-align: middle;\n",
       "    }\n",
       "\n",
       "    .dataframe tbody tr th {\n",
       "        vertical-align: top;\n",
       "    }\n",
       "\n",
       "    .dataframe thead th {\n",
       "        text-align: right;\n",
       "    }\n",
       "</style>\n",
       "<table border=\"1\" class=\"dataframe\">\n",
       "  <thead>\n",
       "    <tr style=\"text-align: right;\">\n",
       "      <th></th>\n",
       "      <th>Date</th>\n",
       "      <th>mine1</th>\n",
       "      <th>mine2</th>\n",
       "    </tr>\n",
       "  </thead>\n",
       "  <tbody>\n",
       "    <tr>\n",
       "      <th>0</th>\n",
       "      <td>2013-01-14</td>\n",
       "      <td>NaN</td>\n",
       "      <td>NaN</td>\n",
       "    </tr>\n",
       "    <tr>\n",
       "      <th>1</th>\n",
       "      <td>2013-01-15</td>\n",
       "      <td>1.026149</td>\n",
       "      <td>1.026149</td>\n",
       "    </tr>\n",
       "    <tr>\n",
       "      <th>2</th>\n",
       "      <td>2013-01-16</td>\n",
       "      <td>1.022442</td>\n",
       "      <td>1.016641</td>\n",
       "    </tr>\n",
       "    <tr>\n",
       "      <th>3</th>\n",
       "      <td>2013-01-17</td>\n",
       "      <td>1.029219</td>\n",
       "      <td>1.021843</td>\n",
       "    </tr>\n",
       "    <tr>\n",
       "      <th>4</th>\n",
       "      <td>2013-01-18</td>\n",
       "      <td>1.036994</td>\n",
       "      <td>1.031224</td>\n",
       "    </tr>\n",
       "  </tbody>\n",
       "</table>\n",
       "</div>"
      ],
      "text/plain": [
       "        Date     mine1     mine2\n",
       "0 2013-01-14       NaN       NaN\n",
       "1 2013-01-15  1.026149  1.026149\n",
       "2 2013-01-16  1.022442  1.016641\n",
       "3 2013-01-17  1.029219  1.021843\n",
       "4 2013-01-18  1.036994  1.031224"
      ]
     },
     "execution_count": 9,
     "metadata": {},
     "output_type": "execute_result"
    }
   ],
   "source": [
    "out = pd.DataFrame(data.Date)\n",
    "out['mine1'] = data['DayToDayChange'].mean(axis=1)[1:].cumprod()\n",
    "out['mine2'] = data['DayToDayChange'].cumprod().mean(axis=1)\n",
    "out.head()"
   ]
  },
  {
   "cell_type": "code",
   "execution_count": 10,
   "id": "b5efbe76",
   "metadata": {},
   "outputs": [
    {
     "data": {
      "text/html": [
       "<div>\n",
       "<style scoped>\n",
       "    .dataframe tbody tr th:only-of-type {\n",
       "        vertical-align: middle;\n",
       "    }\n",
       "\n",
       "    .dataframe tbody tr th {\n",
       "        vertical-align: top;\n",
       "    }\n",
       "\n",
       "    .dataframe thead th {\n",
       "        text-align: right;\n",
       "    }\n",
       "</style>\n",
       "<table border=\"1\" class=\"dataframe\">\n",
       "  <thead>\n",
       "    <tr style=\"text-align: right;\">\n",
       "      <th></th>\n",
       "      <th>Date</th>\n",
       "      <th>mine1</th>\n",
       "      <th>mine2</th>\n",
       "    </tr>\n",
       "  </thead>\n",
       "  <tbody>\n",
       "    <tr>\n",
       "      <th>2514</th>\n",
       "      <td>2023-01-09</td>\n",
       "      <td>5584.630930</td>\n",
       "      <td>8.767331</td>\n",
       "    </tr>\n",
       "    <tr>\n",
       "      <th>2515</th>\n",
       "      <td>2023-01-10</td>\n",
       "      <td>5683.391023</td>\n",
       "      <td>8.976600</td>\n",
       "    </tr>\n",
       "    <tr>\n",
       "      <th>2516</th>\n",
       "      <td>2023-01-11</td>\n",
       "      <td>5788.535065</td>\n",
       "      <td>9.221117</td>\n",
       "    </tr>\n",
       "    <tr>\n",
       "      <th>2517</th>\n",
       "      <td>2023-01-12</td>\n",
       "      <td>5873.542321</td>\n",
       "      <td>9.281934</td>\n",
       "    </tr>\n",
       "    <tr>\n",
       "      <th>2518</th>\n",
       "      <td>2023-01-13</td>\n",
       "      <td>5927.635498</td>\n",
       "      <td>9.454131</td>\n",
       "    </tr>\n",
       "  </tbody>\n",
       "</table>\n",
       "</div>"
      ],
      "text/plain": [
       "           Date        mine1     mine2\n",
       "2514 2023-01-09  5584.630930  8.767331\n",
       "2515 2023-01-10  5683.391023  8.976600\n",
       "2516 2023-01-11  5788.535065  9.221117\n",
       "2517 2023-01-12  5873.542321  9.281934\n",
       "2518 2023-01-13  5927.635498  9.454131"
      ]
     },
     "execution_count": 10,
     "metadata": {},
     "output_type": "execute_result"
    }
   ],
   "source": [
    "out.tail()"
   ]
  },
  {
   "cell_type": "code",
   "execution_count": 11,
   "id": "5ca71b85",
   "metadata": {},
   "outputs": [
    {
     "name": "stdout",
     "output_type": "stream",
     "text": [
      "all_symbols.pkl             nasdaq_sharpes_by_state.csv\r\n",
      "dev_quantiles.csv           nya1965.csv\r\n",
      "historic.csv                \u001b[34mpct_params\u001b[m\u001b[m\r\n",
      "hmm_exp_returns.csv         scoring.csv\r\n",
      "mine.csv                    sharpes_by_state.csv\r\n",
      "myHistoric.RData            sp1950.csv\r\n",
      "myHistoricTest.RData        wilshire1990.csv\r\n",
      "nasdaq1965.csv\r\n"
     ]
    }
   ],
   "source": [
    "!ls ../data"
   ]
  },
  {
   "cell_type": "code",
   "execution_count": 12,
   "id": "0f2f152e",
   "metadata": {},
   "outputs": [],
   "source": [
    "out.iloc[1:, :].to_csv('../data/mine.csv', index=False)"
   ]
  },
  {
   "cell_type": "code",
   "execution_count": 13,
   "id": "c74422bb",
   "metadata": {},
   "outputs": [
    {
     "data": {
      "image/png": "[encoded data removed]",
      "text/plain": [
       "<Figure size 1200x800 with 1 Axes>"
      ]
     },
     "metadata": {},
     "output_type": "display_data"
    }
   ],
   "source": [
    "plt.figure(figsize=[12, 8])\n",
    "a = data['DayToDayChange'].mean(axis=1)[1:].cumprod()\n",
    "n = len(a)\n",
    "start = n - 250\n",
    "a = a / a[start]\n",
    "b = data['DayToDayChange'].cumprod().mean(axis=1)\n",
    "b = b / b[start]\n",
    "s = spx.cumprod()\n",
    "s = s / s[start]\n",
    "plt.plot(a, label='These Avg Daily')\n",
    "plt.plot(b, label='These Avg Cumul')\n",
    "plt.plot(s, label='spx')\n",
    "#plt.yscale('log')\n",
    "plt.xlim([one_year, n + 10])\n",
    "plt.ylim(0.7, 1.1)\n",
    "plt.legend();"
   ]
  },
  {
   "cell_type": "code",
   "execution_count": 14,
   "id": "d7aca03a",
   "metadata": {},
   "outputs": [],
   "source": [
    "def get_stock_data(stock, data, n_days=60):\n",
    "    sub = data.loc[\n",
    "        :,  \n",
    "        [x for x in list(data) if x[1] == stock]]\n",
    "    first_value = (sub.Value[stock][sub.Value[stock].notna()]\n",
    "                   .index[0])\n",
    "    sub = sub.loc[first_value:, :]\n",
    "    sub.columns = sub.columns.to_series().apply(lambda x: x[0])\n",
    "    sub.fillna(method='ffill', inplace=True)\n",
    "    if len(sub) > n_days:\n",
    "        sub = sub.iloc[-n_days:, :]\n",
    "    return sub"
   ]
  },
  {
   "cell_type": "code",
   "execution_count": 15,
   "id": "af0c46be",
   "metadata": {},
   "outputs": [
    {
     "data": {
      "text/html": [
       "<div>\n",
       "<style scoped>\n",
       "    .dataframe tbody tr th:only-of-type {\n",
       "        vertical-align: middle;\n",
       "    }\n",
       "\n",
       "    .dataframe tbody tr th {\n",
       "        vertical-align: top;\n",
       "    }\n",
       "\n",
       "    .dataframe thead th {\n",
       "        text-align: right;\n",
       "    }\n",
       "</style>\n",
       "<table border=\"1\" class=\"dataframe\">\n",
       "  <thead>\n",
       "    <tr style=\"text-align: right;\">\n",
       "      <th></th>\n",
       "      <th>Value</th>\n",
       "      <th>Close</th>\n",
       "      <th>High</th>\n",
       "      <th>Low</th>\n",
       "      <th>Open</th>\n",
       "      <th>LogValue</th>\n",
       "      <th>IntradayChange</th>\n",
       "      <th>DayToDayChange</th>\n",
       "      <th>OvernightChange</th>\n",
       "    </tr>\n",
       "  </thead>\n",
       "  <tbody>\n",
       "    <tr>\n",
       "      <th>2459</th>\n",
       "      <td>47.919998</td>\n",
       "      <td>47.919998</td>\n",
       "      <td>52.430000</td>\n",
       "      <td>45.830002</td>\n",
       "      <td>52.430000</td>\n",
       "      <td>3.869533</td>\n",
       "      <td>0.913981</td>\n",
       "      <td>0.892531</td>\n",
       "      <td>0.976532</td>\n",
       "    </tr>\n",
       "    <tr>\n",
       "      <th>2460</th>\n",
       "      <td>47.389999</td>\n",
       "      <td>47.389999</td>\n",
       "      <td>50.299999</td>\n",
       "      <td>47.115002</td>\n",
       "      <td>48.310001</td>\n",
       "      <td>3.858411</td>\n",
       "      <td>0.980956</td>\n",
       "      <td>0.988940</td>\n",
       "      <td>1.008139</td>\n",
       "    </tr>\n",
       "    <tr>\n",
       "      <th>2461</th>\n",
       "      <td>46.180000</td>\n",
       "      <td>46.180000</td>\n",
       "      <td>46.340000</td>\n",
       "      <td>44.250000</td>\n",
       "      <td>45.799999</td>\n",
       "      <td>3.832547</td>\n",
       "      <td>1.008297</td>\n",
       "      <td>0.974467</td>\n",
       "      <td>0.966449</td>\n",
       "    </tr>\n",
       "    <tr>\n",
       "      <th>2462</th>\n",
       "      <td>47.009998</td>\n",
       "      <td>47.009998</td>\n",
       "      <td>47.020000</td>\n",
       "      <td>42.709999</td>\n",
       "      <td>44.360001</td>\n",
       "      <td>3.850360</td>\n",
       "      <td>1.059738</td>\n",
       "      <td>1.017973</td>\n",
       "      <td>0.960589</td>\n",
       "    </tr>\n",
       "    <tr>\n",
       "      <th>2463</th>\n",
       "      <td>50.009998</td>\n",
       "      <td>50.009998</td>\n",
       "      <td>50.494999</td>\n",
       "      <td>47.700001</td>\n",
       "      <td>47.889999</td>\n",
       "      <td>3.912223</td>\n",
       "      <td>1.044268</td>\n",
       "      <td>1.063816</td>\n",
       "      <td>1.018719</td>\n",
       "    </tr>\n",
       "  </tbody>\n",
       "</table>\n",
       "</div>"
      ],
      "text/plain": [
       "          Value      Close       High        Low       Open  LogValue  \\\n",
       "2459  47.919998  47.919998  52.430000  45.830002  52.430000  3.869533   \n",
       "2460  47.389999  47.389999  50.299999  47.115002  48.310001  3.858411   \n",
       "2461  46.180000  46.180000  46.340000  44.250000  45.799999  3.832547   \n",
       "2462  47.009998  47.009998  47.020000  42.709999  44.360001  3.850360   \n",
       "2463  50.009998  50.009998  50.494999  47.700001  47.889999  3.912223   \n",
       "\n",
       "      IntradayChange  DayToDayChange  OvernightChange  \n",
       "2459        0.913981        0.892531         0.976532  \n",
       "2460        0.980956        0.988940         1.008139  \n",
       "2461        1.008297        0.974467         0.966449  \n",
       "2462        1.059738        1.017973         0.960589  \n",
       "2463        1.044268        1.063816         1.018719  "
      ]
     },
     "execution_count": 15,
     "metadata": {},
     "output_type": "execute_result"
    }
   ],
   "source": [
    "rblx = get_stock_data('SE', data)\n",
    "rblx.head()"
   ]
  },
  {
   "cell_type": "code",
   "execution_count": 16,
   "id": "cf057d19",
   "metadata": {},
   "outputs": [
    {
     "data": {
      "text/html": [
       "<div>\n",
       "<style scoped>\n",
       "    .dataframe tbody tr th:only-of-type {\n",
       "        vertical-align: middle;\n",
       "    }\n",
       "\n",
       "    .dataframe tbody tr th {\n",
       "        vertical-align: top;\n",
       "    }\n",
       "\n",
       "    .dataframe thead th {\n",
       "        text-align: right;\n",
       "    }\n",
       "</style>\n",
       "<table border=\"1\" class=\"dataframe\">\n",
       "  <thead>\n",
       "    <tr style=\"text-align: right;\">\n",
       "      <th></th>\n",
       "      <th>Value</th>\n",
       "      <th>Close</th>\n",
       "      <th>High</th>\n",
       "      <th>Low</th>\n",
       "    </tr>\n",
       "  </thead>\n",
       "  <tbody>\n",
       "    <tr>\n",
       "      <th>2459</th>\n",
       "      <td>47.919998</td>\n",
       "      <td>47.919998</td>\n",
       "      <td>52.430000</td>\n",
       "      <td>45.830002</td>\n",
       "    </tr>\n",
       "    <tr>\n",
       "      <th>2460</th>\n",
       "      <td>47.389999</td>\n",
       "      <td>47.389999</td>\n",
       "      <td>50.299999</td>\n",
       "      <td>47.115002</td>\n",
       "    </tr>\n",
       "    <tr>\n",
       "      <th>2461</th>\n",
       "      <td>46.180000</td>\n",
       "      <td>46.180000</td>\n",
       "      <td>46.340000</td>\n",
       "      <td>44.250000</td>\n",
       "    </tr>\n",
       "    <tr>\n",
       "      <th>2462</th>\n",
       "      <td>47.009998</td>\n",
       "      <td>47.009998</td>\n",
       "      <td>47.020000</td>\n",
       "      <td>42.709999</td>\n",
       "    </tr>\n",
       "    <tr>\n",
       "      <th>2463</th>\n",
       "      <td>50.009998</td>\n",
       "      <td>50.009998</td>\n",
       "      <td>50.494999</td>\n",
       "      <td>47.700001</td>\n",
       "    </tr>\n",
       "  </tbody>\n",
       "</table>\n",
       "</div>"
      ],
      "text/plain": [
       "          Value      Close       High        Low\n",
       "2459  47.919998  47.919998  52.430000  45.830002\n",
       "2460  47.389999  47.389999  50.299999  47.115002\n",
       "2461  46.180000  46.180000  46.340000  44.250000\n",
       "2462  47.009998  47.009998  47.020000  42.709999\n",
       "2463  50.009998  50.009998  50.494999  47.700001"
      ]
     },
     "execution_count": 16,
     "metadata": {},
     "output_type": "execute_result"
    }
   ],
   "source": [
    "rblx = rblx[['Value', 'Close', 'High', 'Low']]\n",
    "rblx.head()"
   ]
  },
  {
   "cell_type": "code",
   "execution_count": 17,
   "id": "ecd6ae06",
   "metadata": {},
   "outputs": [
    {
     "data": {
      "text/html": [
       "<div>\n",
       "<style scoped>\n",
       "    .dataframe tbody tr th:only-of-type {\n",
       "        vertical-align: middle;\n",
       "    }\n",
       "\n",
       "    .dataframe tbody tr th {\n",
       "        vertical-align: top;\n",
       "    }\n",
       "\n",
       "    .dataframe thead th {\n",
       "        text-align: right;\n",
       "    }\n",
       "</style>\n",
       "<table border=\"1\" class=\"dataframe\">\n",
       "  <thead>\n",
       "    <tr style=\"text-align: right;\">\n",
       "      <th></th>\n",
       "      <th>Value</th>\n",
       "      <th>Close</th>\n",
       "      <th>High</th>\n",
       "      <th>Low</th>\n",
       "      <th>NextHigh</th>\n",
       "      <th>NextLow</th>\n",
       "      <th>HighMult</th>\n",
       "      <th>LowMult</th>\n",
       "    </tr>\n",
       "  </thead>\n",
       "  <tbody>\n",
       "    <tr>\n",
       "      <th>2459</th>\n",
       "      <td>47.919998</td>\n",
       "      <td>47.919998</td>\n",
       "      <td>52.430000</td>\n",
       "      <td>45.830002</td>\n",
       "      <td>50.299999</td>\n",
       "      <td>47.115002</td>\n",
       "      <td>1.049666</td>\n",
       "      <td>0.983201</td>\n",
       "    </tr>\n",
       "    <tr>\n",
       "      <th>2460</th>\n",
       "      <td>47.389999</td>\n",
       "      <td>47.389999</td>\n",
       "      <td>50.299999</td>\n",
       "      <td>47.115002</td>\n",
       "      <td>46.340000</td>\n",
       "      <td>44.250000</td>\n",
       "      <td>0.977843</td>\n",
       "      <td>0.933741</td>\n",
       "    </tr>\n",
       "    <tr>\n",
       "      <th>2461</th>\n",
       "      <td>46.180000</td>\n",
       "      <td>46.180000</td>\n",
       "      <td>46.340000</td>\n",
       "      <td>44.250000</td>\n",
       "      <td>47.020000</td>\n",
       "      <td>42.709999</td>\n",
       "      <td>1.018190</td>\n",
       "      <td>0.924859</td>\n",
       "    </tr>\n",
       "    <tr>\n",
       "      <th>2462</th>\n",
       "      <td>47.009998</td>\n",
       "      <td>47.009998</td>\n",
       "      <td>47.020000</td>\n",
       "      <td>42.709999</td>\n",
       "      <td>50.494999</td>\n",
       "      <td>47.700001</td>\n",
       "      <td>1.074133</td>\n",
       "      <td>1.014678</td>\n",
       "    </tr>\n",
       "    <tr>\n",
       "      <th>2463</th>\n",
       "      <td>50.009998</td>\n",
       "      <td>50.009998</td>\n",
       "      <td>50.494999</td>\n",
       "      <td>47.700001</td>\n",
       "      <td>53.009998</td>\n",
       "      <td>50.020000</td>\n",
       "      <td>1.059988</td>\n",
       "      <td>1.000200</td>\n",
       "    </tr>\n",
       "  </tbody>\n",
       "</table>\n",
       "</div>"
      ],
      "text/plain": [
       "          Value      Close       High        Low   NextHigh    NextLow  \\\n",
       "2459  47.919998  47.919998  52.430000  45.830002  50.299999  47.115002   \n",
       "2460  47.389999  47.389999  50.299999  47.115002  46.340000  44.250000   \n",
       "2461  46.180000  46.180000  46.340000  44.250000  47.020000  42.709999   \n",
       "2462  47.009998  47.009998  47.020000  42.709999  50.494999  47.700001   \n",
       "2463  50.009998  50.009998  50.494999  47.700001  53.009998  50.020000   \n",
       "\n",
       "      HighMult   LowMult  \n",
       "2459  1.049666  0.983201  \n",
       "2460  0.977843  0.933741  \n",
       "2461  1.018190  0.924859  \n",
       "2462  1.074133  1.014678  \n",
       "2463  1.059988  1.000200  "
      ]
     },
     "execution_count": 17,
     "metadata": {},
     "output_type": "execute_result"
    }
   ],
   "source": [
    "rblx['NextHigh'] = rblx.High.shift(-1)\n",
    "rblx['NextLow'] = rblx.Low.shift(-1)\n",
    "rblx['HighMult'] = rblx.NextHigh / rblx.Close\n",
    "rblx['LowMult'] = rblx.NextLow / rblx.Close\n",
    "rblx.head()"
   ]
  },
  {
   "cell_type": "code",
   "execution_count": 18,
   "id": "45515f54",
   "metadata": {},
   "outputs": [
    {
     "name": "stdout",
     "output_type": "stream",
     "text": [
      "0.05    0.984297\n",
      "Name: HighMult, dtype: float64\n"
     ]
    },
    {
     "data": {
      "image/png": "[encoded data removed]",
      "text/plain": [
       "<Figure size 640x480 with 1 Axes>"
      ]
     },
     "metadata": {},
     "output_type": "display_data"
    }
   ],
   "source": [
    "# For selling:\n",
    "high_05 = rblx.HighMult.quantile(q=[0.05])\n",
    "print(high_05)\n",
    "plt.hist(rblx.HighMult)\n",
    "plt.axvline(x=high_05[0.05], color='red');"
   ]
  },
  {
   "cell_type": "code",
   "execution_count": 19,
   "id": "516dfb66",
   "metadata": {},
   "outputs": [
    {
     "name": "stdout",
     "output_type": "stream",
     "text": [
      "1.0177317061407019\n"
     ]
    },
    {
     "data": {
      "image/png": "[encoded data removed]",
      "text/plain": [
       "<Figure size 640x480 with 1 Axes>"
      ]
     },
     "metadata": {},
     "output_type": "display_data"
    }
   ],
   "source": [
    "# For buying:\n",
    "low_95 = rblx.LowMult.quantile(q=[0.95])\n",
    "print(low_95.tolist()[0])\n",
    "plt.hist(rblx.LowMult)\n",
    "plt.axvline(x=low_95[0.95], color='red');"
   ]
  },
  {
   "cell_type": "code",
   "execution_count": 20,
   "id": "ed504c6f",
   "metadata": {},
   "outputs": [],
   "source": [
    "def get_hilo_mult(stock, ci=0.95):\n",
    "    stock['NextHigh'] = stock.High.shift(-1)\n",
    "    stock['NextLow'] = stock.Low.shift(-1)\n",
    "    stock['HighMult'] = stock.NextHigh / stock.Close\n",
    "    stock['LowMult'] = stock.NextLow / stock.Close\n",
    "    sell_pt = stock.HighMult.quantile(q=[1 - ci]).tolist()[0]\n",
    "    buy_pt = stock.LowMult.quantile(q=[ci]).tolist()[0]\n",
    "    return buy_pt, sell_pt"
   ]
  },
  {
   "cell_type": "code",
   "execution_count": 21,
   "id": "8eb58a9f",
   "metadata": {},
   "outputs": [
    {
     "data": {
      "text/plain": [
       "(1.0177317061407019, 0.9842969131498367)"
      ]
     },
     "execution_count": 21,
     "metadata": {},
     "output_type": "execute_result"
    }
   ],
   "source": [
    "get_hilo_mult(rblx)"
   ]
  },
  {
   "cell_type": "code",
   "execution_count": 22,
   "id": "be666a16",
   "metadata": {},
   "outputs": [
    {
     "data": {
      "text/plain": [
       "(1.0044020497626474, 0.9901463579599322)"
      ]
     },
     "execution_count": 22,
     "metadata": {},
     "output_type": "execute_result"
    }
   ],
   "source": [
    "aapl = get_stock_data('AAPL', data)\n",
    "get_hilo_mult(aapl)"
   ]
  },
  {
   "cell_type": "code",
   "execution_count": 23,
   "id": "55370ffc",
   "metadata": {},
   "outputs": [],
   "source": [
    "def get_macd(stock_data, fast=60, slow=90, signal=80):\n",
    "    df = stock_data.copy()\n",
    "    exp1 = df.Value.ewm(span=fast, adjust=False).mean()\n",
    "    exp2 = df.Value.ewm(span=slow, adjust=False).mean()\n",
    "    macd = exp1 - exp2\n",
    "    exp3 = macd.ewm(span=signal, adjust=False).mean()\n",
    "    histo = macd - exp3\n",
    "    hdiff = histo.diff(1)\n",
    "    is_rising = 1 * (hdiff > 0)\n",
    "    return is_rising"
   ]
  },
  {
   "cell_type": "code",
   "execution_count": 24,
   "id": "c13b86b8",
   "metadata": {},
   "outputs": [
    {
     "data": {
      "text/html": [
       "<div>\n",
       "<style scoped>\n",
       "    .dataframe tbody tr th:only-of-type {\n",
       "        vertical-align: middle;\n",
       "    }\n",
       "\n",
       "    .dataframe tbody tr th {\n",
       "        vertical-align: top;\n",
       "    }\n",
       "\n",
       "    .dataframe thead th {\n",
       "        text-align: right;\n",
       "    }\n",
       "</style>\n",
       "<table border=\"1\" class=\"dataframe\">\n",
       "  <thead>\n",
       "    <tr style=\"text-align: right;\">\n",
       "      <th></th>\n",
       "      <th>Value</th>\n",
       "      <th>Close</th>\n",
       "      <th>High</th>\n",
       "      <th>Low</th>\n",
       "      <th>NextHigh</th>\n",
       "      <th>NextLow</th>\n",
       "      <th>HighMult</th>\n",
       "      <th>LowMult</th>\n",
       "      <th>Trend</th>\n",
       "    </tr>\n",
       "  </thead>\n",
       "  <tbody>\n",
       "    <tr>\n",
       "      <th>2459</th>\n",
       "      <td>47.919998</td>\n",
       "      <td>47.919998</td>\n",
       "      <td>52.430000</td>\n",
       "      <td>45.830002</td>\n",
       "      <td>50.299999</td>\n",
       "      <td>47.115002</td>\n",
       "      <td>1.049666</td>\n",
       "      <td>0.983201</td>\n",
       "      <td>0</td>\n",
       "    </tr>\n",
       "    <tr>\n",
       "      <th>2460</th>\n",
       "      <td>47.389999</td>\n",
       "      <td>47.389999</td>\n",
       "      <td>50.299999</td>\n",
       "      <td>47.115002</td>\n",
       "      <td>46.340000</td>\n",
       "      <td>44.250000</td>\n",
       "      <td>0.977843</td>\n",
       "      <td>0.933741</td>\n",
       "      <td>0</td>\n",
       "    </tr>\n",
       "    <tr>\n",
       "      <th>2461</th>\n",
       "      <td>46.180000</td>\n",
       "      <td>46.180000</td>\n",
       "      <td>46.340000</td>\n",
       "      <td>44.250000</td>\n",
       "      <td>47.020000</td>\n",
       "      <td>42.709999</td>\n",
       "      <td>1.018190</td>\n",
       "      <td>0.924859</td>\n",
       "      <td>0</td>\n",
       "    </tr>\n",
       "    <tr>\n",
       "      <th>2462</th>\n",
       "      <td>47.009998</td>\n",
       "      <td>47.009998</td>\n",
       "      <td>47.020000</td>\n",
       "      <td>42.709999</td>\n",
       "      <td>50.494999</td>\n",
       "      <td>47.700001</td>\n",
       "      <td>1.074133</td>\n",
       "      <td>1.014678</td>\n",
       "      <td>0</td>\n",
       "    </tr>\n",
       "    <tr>\n",
       "      <th>2463</th>\n",
       "      <td>50.009998</td>\n",
       "      <td>50.009998</td>\n",
       "      <td>50.494999</td>\n",
       "      <td>47.700001</td>\n",
       "      <td>53.009998</td>\n",
       "      <td>50.020000</td>\n",
       "      <td>1.059988</td>\n",
       "      <td>1.000200</td>\n",
       "      <td>1</td>\n",
       "    </tr>\n",
       "  </tbody>\n",
       "</table>\n",
       "</div>"
      ],
      "text/plain": [
       "          Value      Close       High        Low   NextHigh    NextLow  \\\n",
       "2459  47.919998  47.919998  52.430000  45.830002  50.299999  47.115002   \n",
       "2460  47.389999  47.389999  50.299999  47.115002  46.340000  44.250000   \n",
       "2461  46.180000  46.180000  46.340000  44.250000  47.020000  42.709999   \n",
       "2462  47.009998  47.009998  47.020000  42.709999  50.494999  47.700001   \n",
       "2463  50.009998  50.009998  50.494999  47.700001  53.009998  50.020000   \n",
       "\n",
       "      HighMult   LowMult  Trend  \n",
       "2459  1.049666  0.983201      0  \n",
       "2460  0.977843  0.933741      0  \n",
       "2461  1.018190  0.924859      0  \n",
       "2462  1.074133  1.014678      0  \n",
       "2463  1.059988  1.000200      1  "
      ]
     },
     "execution_count": 24,
     "metadata": {},
     "output_type": "execute_result"
    }
   ],
   "source": [
    "rblx['Trend'] = get_macd(rblx)\n",
    "rblx.head()"
   ]
  },
  {
   "cell_type": "code",
   "execution_count": 25,
   "id": "686f9ee4",
   "metadata": {},
   "outputs": [],
   "source": [
    "def get_hilo_mults(stock, ci=0.95):\n",
    "    stock['Trend'] = get_macd(stock)\n",
    "    stock['NextHigh'] = stock.High.shift(-1)\n",
    "    stock['NextLow'] = stock.Low.shift(-1)\n",
    "    stock['HighMult'] = stock.NextHigh / stock.Close\n",
    "    stock['LowMult'] = stock.NextLow / stock.Close\n",
    "    upward = stock[stock.Trend == 1]\n",
    "    downward = stock[stock.Trend == 0]\n",
    "    sell_pt_up = upward.HighMult.quantile(q=[1 - ci]).tolist()[0]\n",
    "    buy_pt_up = upward.LowMult.quantile(q=[ci]).tolist()[0]\n",
    "    sell_pt_down = downward.HighMult.quantile(q=[1 - ci]).tolist()[0]\n",
    "    buy_pt_down = downward.LowMult.quantile(q=[ci]).tolist()[0]\n",
    "    return buy_pt_up, sell_pt_up, buy_pt_down, sell_pt_down"
   ]
  },
  {
   "cell_type": "code",
   "execution_count": 26,
   "id": "c1661954",
   "metadata": {},
   "outputs": [
    {
     "data": {
      "text/plain": [
       "(1.0057796815543059, 0.9879927260206336, 1.0698456763895043, 0.984433590331245)"
      ]
     },
     "execution_count": 26,
     "metadata": {},
     "output_type": "execute_result"
    }
   ],
   "source": [
    "get_hilo_mults(rblx)"
   ]
  },
  {
   "cell_type": "code",
   "execution_count": 27,
   "id": "8577104e",
   "metadata": {},
   "outputs": [
    {
     "data": {
      "text/plain": [
       "(0.9989604232947964,\n",
       " 0.9901042988204012,\n",
       " 1.0152704414422962,\n",
       " 0.9924310629561944)"
      ]
     },
     "execution_count": 27,
     "metadata": {},
     "output_type": "execute_result"
    }
   ],
   "source": [
    "get_hilo_mults(aapl)"
   ]
  },
  {
   "cell_type": "code",
   "execution_count": 28,
   "id": "a5355f5b",
   "metadata": {},
   "outputs": [
    {
     "data": {
      "text/html": [
       "<div>\n",
       "<style scoped>\n",
       "    .dataframe tbody tr th:only-of-type {\n",
       "        vertical-align: middle;\n",
       "    }\n",
       "\n",
       "    .dataframe tbody tr th {\n",
       "        vertical-align: top;\n",
       "    }\n",
       "\n",
       "    .dataframe thead th {\n",
       "        text-align: right;\n",
       "    }\n",
       "</style>\n",
       "<table border=\"1\" class=\"dataframe\">\n",
       "  <thead>\n",
       "    <tr style=\"text-align: right;\">\n",
       "      <th></th>\n",
       "      <th>stock</th>\n",
       "      <th>buy_pt_up</th>\n",
       "      <th>sell_pt_up</th>\n",
       "      <th>buy_pt_down</th>\n",
       "      <th>sell_pt_down</th>\n",
       "    </tr>\n",
       "  </thead>\n",
       "  <tbody>\n",
       "    <tr>\n",
       "      <th>0</th>\n",
       "      <td>AAPL</td>\n",
       "      <td>0.998960</td>\n",
       "      <td>0.990104</td>\n",
       "      <td>1.015270</td>\n",
       "      <td>0.992431</td>\n",
       "    </tr>\n",
       "    <tr>\n",
       "      <th>1</th>\n",
       "      <td>ABMD</td>\n",
       "      <td>1.001521</td>\n",
       "      <td>0.999412</td>\n",
       "      <td>1.004032</td>\n",
       "      <td>1.000000</td>\n",
       "    </tr>\n",
       "    <tr>\n",
       "      <th>2</th>\n",
       "      <td>ABNB</td>\n",
       "      <td>1.003761</td>\n",
       "      <td>0.992490</td>\n",
       "      <td>1.009863</td>\n",
       "      <td>0.984687</td>\n",
       "    </tr>\n",
       "    <tr>\n",
       "      <th>3</th>\n",
       "      <td>ACN</td>\n",
       "      <td>1.003142</td>\n",
       "      <td>0.991645</td>\n",
       "      <td>1.009495</td>\n",
       "      <td>0.989160</td>\n",
       "    </tr>\n",
       "    <tr>\n",
       "      <th>4</th>\n",
       "      <td>ADBE</td>\n",
       "      <td>1.001729</td>\n",
       "      <td>0.996380</td>\n",
       "      <td>1.023277</td>\n",
       "      <td>0.995423</td>\n",
       "    </tr>\n",
       "  </tbody>\n",
       "</table>\n",
       "</div>"
      ],
      "text/plain": [
       "  stock  buy_pt_up  sell_pt_up  buy_pt_down  sell_pt_down\n",
       "0  AAPL   0.998960    0.990104     1.015270      0.992431\n",
       "1  ABMD   1.001521    0.999412     1.004032      1.000000\n",
       "2  ABNB   1.003761    0.992490     1.009863      0.984687\n",
       "3   ACN   1.003142    0.991645     1.009495      0.989160\n",
       "4  ADBE   1.001729    0.996380     1.023277      0.995423"
      ]
     },
     "execution_count": 28,
     "metadata": {},
     "output_type": "execute_result"
    }
   ],
   "source": [
    "out = []\n",
    "for symbol in batch:\n",
    "    stock = get_stock_data(symbol, data)\n",
    "    mults = get_hilo_mults(stock)\n",
    "    out.append([symbol, *mults])\n",
    "df = pd.DataFrame(\n",
    "    out, \n",
    "    columns=[\n",
    "        'stock', 'buy_pt_up', 'sell_pt_up', 'buy_pt_down', \n",
    "        'sell_pt_down'])\n",
    "df.head()"
   ]
  },
  {
   "cell_type": "code",
   "execution_count": 29,
   "id": "1f47cac8",
   "metadata": {},
   "outputs": [
    {
     "data": {
      "text/html": [
       "<div>\n",
       "<style scoped>\n",
       "    .dataframe tbody tr th:only-of-type {\n",
       "        vertical-align: middle;\n",
       "    }\n",
       "\n",
       "    .dataframe tbody tr th {\n",
       "        vertical-align: top;\n",
       "    }\n",
       "\n",
       "    .dataframe thead th {\n",
       "        text-align: right;\n",
       "    }\n",
       "</style>\n",
       "<table border=\"1\" class=\"dataframe\">\n",
       "  <thead>\n",
       "    <tr style=\"text-align: right;\">\n",
       "      <th></th>\n",
       "      <th>price</th>\n",
       "      <th>stock</th>\n",
       "    </tr>\n",
       "  </thead>\n",
       "  <tbody>\n",
       "    <tr>\n",
       "      <th>AAPL</th>\n",
       "      <td>134.759995</td>\n",
       "      <td>AAPL</td>\n",
       "    </tr>\n",
       "    <tr>\n",
       "      <th>ABMD</th>\n",
       "      <td>NaN</td>\n",
       "      <td>ABMD</td>\n",
       "    </tr>\n",
       "    <tr>\n",
       "      <th>ABNB</th>\n",
       "      <td>100.370003</td>\n",
       "      <td>ABNB</td>\n",
       "    </tr>\n",
       "    <tr>\n",
       "      <th>ACN</th>\n",
       "      <td>282.140015</td>\n",
       "      <td>ACN</td>\n",
       "    </tr>\n",
       "    <tr>\n",
       "      <th>ADBE</th>\n",
       "      <td>344.380005</td>\n",
       "      <td>ADBE</td>\n",
       "    </tr>\n",
       "    <tr>\n",
       "      <th>...</th>\n",
       "      <td>...</td>\n",
       "      <td>...</td>\n",
       "    </tr>\n",
       "    <tr>\n",
       "      <th>ZM</th>\n",
       "      <td>69.489998</td>\n",
       "      <td>ZM</td>\n",
       "    </tr>\n",
       "    <tr>\n",
       "      <th>ZYXI</th>\n",
       "      <td>16.799999</td>\n",
       "      <td>ZYXI</td>\n",
       "    </tr>\n",
       "    <tr>\n",
       "      <th>^GSPC</th>\n",
       "      <td>3999.090088</td>\n",
       "      <td>^GSPC</td>\n",
       "    </tr>\n",
       "    <tr>\n",
       "      <th>^IXIC</th>\n",
       "      <td>11079.160156</td>\n",
       "      <td>^IXIC</td>\n",
       "    </tr>\n",
       "    <tr>\n",
       "      <th>^NYA</th>\n",
       "      <td>15918.370117</td>\n",
       "      <td>^NYA</td>\n",
       "    </tr>\n",
       "  </tbody>\n",
       "</table>\n",
       "<p>164 rows × 2 columns</p>\n",
       "</div>"
      ],
      "text/plain": [
       "              price  stock\n",
       "AAPL     134.759995   AAPL\n",
       "ABMD            NaN   ABMD\n",
       "ABNB     100.370003   ABNB\n",
       "ACN      282.140015    ACN\n",
       "ADBE     344.380005   ADBE\n",
       "...             ...    ...\n",
       "ZM        69.489998     ZM\n",
       "ZYXI      16.799999   ZYXI\n",
       "^GSPC   3999.090088  ^GSPC\n",
       "^IXIC  11079.160156  ^IXIC\n",
       "^NYA   15918.370117   ^NYA\n",
       "\n",
       "[164 rows x 2 columns]"
      ]
     },
     "execution_count": 29,
     "metadata": {},
     "output_type": "execute_result"
    }
   ],
   "source": [
    "last = data.index.max()\n",
    "price = pd.DataFrame(data.loc[last, 'Value'])\n",
    "price.columns = ['price']\n",
    "price['stock'] = price.index\n",
    "price"
   ]
  },
  {
   "cell_type": "code",
   "execution_count": 30,
   "id": "33f47eb9",
   "metadata": {},
   "outputs": [
    {
     "data": {
      "text/html": [
       "<div>\n",
       "<style scoped>\n",
       "    .dataframe tbody tr th:only-of-type {\n",
       "        vertical-align: middle;\n",
       "    }\n",
       "\n",
       "    .dataframe tbody tr th {\n",
       "        vertical-align: top;\n",
       "    }\n",
       "\n",
       "    .dataframe thead th {\n",
       "        text-align: right;\n",
       "    }\n",
       "</style>\n",
       "<table border=\"1\" class=\"dataframe\">\n",
       "  <thead>\n",
       "    <tr style=\"text-align: right;\">\n",
       "      <th></th>\n",
       "      <th>stock</th>\n",
       "      <th>buy_pt_up</th>\n",
       "      <th>sell_pt_up</th>\n",
       "      <th>buy_pt_down</th>\n",
       "      <th>sell_pt_down</th>\n",
       "      <th>price</th>\n",
       "    </tr>\n",
       "  </thead>\n",
       "  <tbody>\n",
       "    <tr>\n",
       "      <th>0</th>\n",
       "      <td>AAPL</td>\n",
       "      <td>0.998960</td>\n",
       "      <td>0.990104</td>\n",
       "      <td>1.015270</td>\n",
       "      <td>0.992431</td>\n",
       "      <td>134.759995</td>\n",
       "    </tr>\n",
       "    <tr>\n",
       "      <th>1</th>\n",
       "      <td>ABMD</td>\n",
       "      <td>1.001521</td>\n",
       "      <td>0.999412</td>\n",
       "      <td>1.004032</td>\n",
       "      <td>1.000000</td>\n",
       "      <td>NaN</td>\n",
       "    </tr>\n",
       "    <tr>\n",
       "      <th>2</th>\n",
       "      <td>ABNB</td>\n",
       "      <td>1.003761</td>\n",
       "      <td>0.992490</td>\n",
       "      <td>1.009863</td>\n",
       "      <td>0.984687</td>\n",
       "      <td>100.370003</td>\n",
       "    </tr>\n",
       "    <tr>\n",
       "      <th>3</th>\n",
       "      <td>ACN</td>\n",
       "      <td>1.003142</td>\n",
       "      <td>0.991645</td>\n",
       "      <td>1.009495</td>\n",
       "      <td>0.989160</td>\n",
       "      <td>282.140015</td>\n",
       "    </tr>\n",
       "    <tr>\n",
       "      <th>4</th>\n",
       "      <td>ADBE</td>\n",
       "      <td>1.001729</td>\n",
       "      <td>0.996380</td>\n",
       "      <td>1.023277</td>\n",
       "      <td>0.995423</td>\n",
       "      <td>344.380005</td>\n",
       "    </tr>\n",
       "  </tbody>\n",
       "</table>\n",
       "</div>"
      ],
      "text/plain": [
       "  stock  buy_pt_up  sell_pt_up  buy_pt_down  sell_pt_down       price\n",
       "0  AAPL   0.998960    0.990104     1.015270      0.992431  134.759995\n",
       "1  ABMD   1.001521    0.999412     1.004032      1.000000         NaN\n",
       "2  ABNB   1.003761    0.992490     1.009863      0.984687  100.370003\n",
       "3   ACN   1.003142    0.991645     1.009495      0.989160  282.140015\n",
       "4  ADBE   1.001729    0.996380     1.023277      0.995423  344.380005"
      ]
     },
     "execution_count": 30,
     "metadata": {},
     "output_type": "execute_result"
    }
   ],
   "source": [
    "df = df.merge(price, how='left', on='stock')\n",
    "df.head()"
   ]
  },
  {
   "cell_type": "code",
   "execution_count": 31,
   "id": "22bf6bff",
   "metadata": {},
   "outputs": [],
   "source": [
    "df.to_csv('mults.csv', index=False)\n",
    "!open ./mults.csv"
   ]
  },
  {
   "cell_type": "code",
   "execution_count": null,
   "id": "bf2de939",
   "metadata": {},
   "outputs": [],
   "source": []
  }
 ],
 "metadata": {
  "kernelspec": {
   "display_name": "Python 3 (ipykernel)",
   "language": "python",
   "name": "python3"
  },
  "language_info": {
   "codemirror_mode": {
    "name": "ipython",
    "version": 3
   },
   "file_extension": ".py",
   "mimetype": "text/x-python",
   "name": "python",
   "nbconvert_exporter": "python",
   "pygments_lexer": "ipython3",
   "version": "3.10.6"
  }
 },
 "nbformat": 4,
 "nbformat_minor": 5
}
