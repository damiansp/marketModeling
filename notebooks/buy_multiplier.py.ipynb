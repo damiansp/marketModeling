{
 "cells": [
  {
   "cell_type": "code",
   "execution_count": 1,
   "id": "51a9dcf3",
   "metadata": {},
   "outputs": [],
   "source": [
    "from datetime import datetime, timedelta\n",
    "\n",
    "import sys\n",
    "\n",
    "import matplotlib.pyplot as plt\n",
    "import numpy as np\n",
    "import pandas as pd\n",
    "\n",
    "sys.path.append('..')\n",
    "from util.stock_loader import Loader"
   ]
  },
  {
   "cell_type": "code",
   "execution_count": 2,
   "id": "e5c97a69",
   "metadata": {},
   "outputs": [
    {
     "data": {
      "text/plain": [
       "71"
      ]
     },
     "execution_count": 2,
     "metadata": {},
     "output_type": "execute_result"
    }
   ],
   "source": [
    "DATA = '../models/qp/data'\n",
    "SYMBOLS = [\n",
    "    'AAPL', 'ABMD', 'ABNB', 'ADYEY', 'AMD', 'AMZN', 'ANET', 'APPH',\n",
    "    'AXON', 'BROS', 'BYND', 'CHWY', 'COIN', 'COUR', 'CRWD', 'DDOG',\n",
    "    'DKNG', 'DOCS', 'DOCU', 'DUOL', 'EDIT', 'ETSY', 'FLGT',\n",
    "    'FUV', 'FVRR', 'GH', 'GMED', 'GOOG', 'INTG', 'ISRG', 'JD', 'LSPD',\n",
    "    'LULU', 'MDB', 'MELI', 'MNST', 'MSFT', 'MTCH', 'NVCR', 'NVDA',\n",
    "    'NYT', 'OKTA', 'OPEN', 'PANW', 'PINS', 'PTON', 'QDEL', 'RBLX',\n",
    "    'RDFN', 'RGEN', 'ROKU', 'RVLV', 'SE', 'SHOP', 'SNOW', 'SPLK', 'SQ',\n",
    "    'TASK', 'TDOC', 'TEAM', 'TREX', 'TTD', 'TTWO', 'TWLO', 'TWTR',\n",
    "    'UPST', 'VEEV', 'WK', 'XPEV', 'ZEN', 'ZNGA']\n",
    "INDICES = ['^GSPC', # S&P 500\n",
    "           '^IXIC', # Nasdaq\n",
    "           '^NYA']  # NY Stock Exchange (total)\n",
    "len(SYMBOLS)"
   ]
  },
  {
   "cell_type": "code",
   "execution_count": 3,
   "id": "a79aa1f3",
   "metadata": {},
   "outputs": [
    {
     "data": {
      "text/plain": [
       "('2012-05-07', datetime.date(2022, 5, 7))"
      ]
     },
     "execution_count": 3,
     "metadata": {},
     "output_type": "execute_result"
    }
   ],
   "source": [
    "N_YEARS = 10 # 5\n",
    "N_DAYS = int(round(365.25 * N_YEARS))\n",
    "END = (datetime.now() + timedelta(1)).date()\n",
    "START = str(END - timedelta(N_DAYS))\n",
    "START, END"
   ]
  },
  {
   "cell_type": "code",
   "execution_count": 4,
   "id": "6fa75879",
   "metadata": {},
   "outputs": [
    {
     "name": "stdout",
     "output_type": "stream",
     "text": [
      "[*********************100%***********************]  74 of 74 completed\n",
      "Generating derived columns...\n",
      "   ...AAPL\n",
      "   ...ABMD\n",
      "   ...ABNB\n",
      "   ...ADYEY\n",
      "   ...AMD\n",
      "   ...AMZN\n",
      "   ...ANET\n",
      "   ...APPH\n",
      "   ...AXON\n",
      "   ...BROS\n",
      "   ...BYND\n",
      "   ...CHWY\n",
      "   ...COIN\n",
      "   ...COUR\n",
      "   ...CRWD\n",
      "   ...DDOG\n",
      "   ...DKNG\n",
      "   ...DOCS\n",
      "   ...DOCU\n",
      "   ...DUOL\n",
      "   ...EDIT\n",
      "   ...ETSY\n",
      "   ...FLGT\n",
      "   ...FUV\n",
      "   ...FVRR\n",
      "   ...GH\n",
      "   ...GMED\n",
      "   ...GOOG\n",
      "   ...INTG\n",
      "   ...ISRG\n",
      "   ...JD\n",
      "   ...LSPD\n",
      "   ...LULU\n",
      "   ...MDB\n",
      "   ...MELI\n",
      "   ...MNST\n",
      "   ...MSFT\n",
      "   ...MTCH\n",
      "   ...NVCR\n",
      "   ...NVDA\n",
      "   ...NYT\n",
      "   ...OKTA\n",
      "   ...OPEN\n",
      "   ...PANW\n",
      "   ...PINS\n",
      "   ...PTON\n",
      "   ...QDEL\n",
      "   ...RBLX\n",
      "   ...RDFN\n",
      "   ...RGEN\n",
      "   ...ROKU\n",
      "   ...RVLV\n",
      "   ...SE\n",
      "   ...SHOP\n",
      "   ...SNOW\n",
      "   ...SPLK\n",
      "   ...SQ\n",
      "   ...TASK\n",
      "   ...TDOC\n",
      "   ...TEAM\n",
      "   ...TREX\n",
      "   ...TTD\n",
      "   ...TTWO\n",
      "   ...TWLO\n",
      "   ...TWTR\n",
      "   ...UPST\n",
      "   ...VEEV\n",
      "   ...WK\n",
      "   ...XPEV\n",
      "   ...ZEN\n",
      "   ...ZNGA\n",
      "   ...^GSPC\n",
      "   ...^IXIC\n",
      "   ...^NYA\n"
     ]
    }
   ],
   "source": [
    "batch = SYMBOLS + INDICES # run all\n",
    "stock_loader = Loader(batch, START, str(END), verbose=True)\n",
    "data = stock_loader.download().rename(columns={'Adj Close': 'AdjClose'})"
   ]
  },
  {
   "cell_type": "code",
   "execution_count": 5,
   "id": "435bfa6a",
   "metadata": {},
   "outputs": [
    {
     "data": {
      "text/plain": [
       "2513   2022-05-02\n",
       "2514   2022-05-03\n",
       "2515   2022-05-04\n",
       "2516   2022-05-05\n",
       "2517   2022-05-06\n",
       "Name: Date, dtype: datetime64[ns]"
      ]
     },
     "execution_count": 5,
     "metadata": {},
     "output_type": "execute_result"
    }
   ],
   "source": [
    "data['Date'].tail()"
   ]
  },
  {
   "cell_type": "code",
   "execution_count": 6,
   "id": "cad01219",
   "metadata": {},
   "outputs": [
    {
     "data": {
      "text/plain": [
       "1       0.995721\n",
       "2       0.993298\n",
       "3       1.002517\n",
       "4       0.996613\n",
       "5       0.988887\n",
       "          ...   \n",
       "2513    1.005675\n",
       "2514    1.004837\n",
       "2515    1.029862\n",
       "2516    0.964350\n",
       "2517    0.994326\n",
       "Name: ^GSPC, Length: 2517, dtype: float64"
      ]
     },
     "execution_count": 6,
     "metadata": {},
     "output_type": "execute_result"
    }
   ],
   "source": [
    "spx = data['DayToDayChange']['^GSPC']\n",
    "spx = spx[1:]\n",
    "#spx = spx / spx[1]\n",
    "spx"
   ]
  },
  {
   "cell_type": "code",
   "execution_count": 7,
   "id": "e47707d7",
   "metadata": {},
   "outputs": [
    {
     "data": {
      "text/html": [
       "<div>\n",
       "<style scoped>\n",
       "    .dataframe tbody tr th:only-of-type {\n",
       "        vertical-align: middle;\n",
       "    }\n",
       "\n",
       "    .dataframe tbody tr th {\n",
       "        vertical-align: top;\n",
       "    }\n",
       "\n",
       "    .dataframe thead th {\n",
       "        text-align: right;\n",
       "    }\n",
       "</style>\n",
       "<table border=\"1\" class=\"dataframe\">\n",
       "  <thead>\n",
       "    <tr style=\"text-align: right;\">\n",
       "      <th></th>\n",
       "      <th>0.75</th>\n",
       "    </tr>\n",
       "  </thead>\n",
       "  <tbody>\n",
       "    <tr>\n",
       "      <th>1</th>\n",
       "      <td>0.997730</td>\n",
       "    </tr>\n",
       "    <tr>\n",
       "      <th>2</th>\n",
       "      <td>1.002373</td>\n",
       "    </tr>\n",
       "    <tr>\n",
       "      <th>3</th>\n",
       "      <td>1.013930</td>\n",
       "    </tr>\n",
       "    <tr>\n",
       "      <th>4</th>\n",
       "      <td>1.004055</td>\n",
       "    </tr>\n",
       "    <tr>\n",
       "      <th>5</th>\n",
       "      <td>0.996142</td>\n",
       "    </tr>\n",
       "    <tr>\n",
       "      <th>...</th>\n",
       "      <td>...</td>\n",
       "    </tr>\n",
       "    <tr>\n",
       "      <th>2513</th>\n",
       "      <td>1.055385</td>\n",
       "    </tr>\n",
       "    <tr>\n",
       "      <th>2514</th>\n",
       "      <td>1.007279</td>\n",
       "    </tr>\n",
       "    <tr>\n",
       "      <th>2515</th>\n",
       "      <td>1.049691</td>\n",
       "    </tr>\n",
       "    <tr>\n",
       "      <th>2516</th>\n",
       "      <td>0.951183</td>\n",
       "    </tr>\n",
       "    <tr>\n",
       "      <th>2517</th>\n",
       "      <td>0.988150</td>\n",
       "    </tr>\n",
       "  </tbody>\n",
       "</table>\n",
       "<p>2517 rows × 1 columns</p>\n",
       "</div>"
      ],
      "text/plain": [
       "          0.75\n",
       "1     0.997730\n",
       "2     1.002373\n",
       "3     1.013930\n",
       "4     1.004055\n",
       "5     0.996142\n",
       "...        ...\n",
       "2513  1.055385\n",
       "2514  1.007279\n",
       "2515  1.049691\n",
       "2516  0.951183\n",
       "2517  0.988150\n",
       "\n",
       "[2517 rows x 1 columns]"
      ]
     },
     "execution_count": 7,
     "metadata": {},
     "output_type": "execute_result"
    }
   ],
   "source": [
    "data['DayToDayChange'].quantile(q=[0.75], axis=1).T[1:]"
   ]
  },
  {
   "cell_type": "code",
   "execution_count": 8,
   "id": "b41cb446",
   "metadata": {},
   "outputs": [
    {
     "data": {
      "image/png": "[encoded data removed]",
      "text/plain": [
       "<Figure size 864x576 with 1 Axes>"
      ]
     },
     "metadata": {
      "needs_background": "light"
     },
     "output_type": "display_data"
    }
   ],
   "source": [
    "plt.figure(figsize=[12, 8])\n",
    "plt.plot(data['DayToDayChange'].mean(axis=1)[1:].cumprod(), \n",
    "         label='These Avg Daily')\n",
    "plt.plot(data['DayToDayChange'].cumprod().mean(axis=1),\n",
    "         label='These Avg Cumul')\n",
    "plt.plot(spx.cumprod(), label='spx')\n",
    "plt.yscale('log')\n",
    "plt.legend();\n",
    "\n",
    "n = len(spx)\n",
    "one_year = n - 250\n",
    "plt.axvline(x=one_year, color='k');"
   ]
  },
  {
   "cell_type": "code",
   "execution_count": 9,
   "id": "952c7165",
   "metadata": {},
   "outputs": [
    {
     "data": {
      "text/html": [
       "<div>\n",
       "<style scoped>\n",
       "    .dataframe tbody tr th:only-of-type {\n",
       "        vertical-align: middle;\n",
       "    }\n",
       "\n",
       "    .dataframe tbody tr th {\n",
       "        vertical-align: top;\n",
       "    }\n",
       "\n",
       "    .dataframe thead th {\n",
       "        text-align: right;\n",
       "    }\n",
       "</style>\n",
       "<table border=\"1\" class=\"dataframe\">\n",
       "  <thead>\n",
       "    <tr style=\"text-align: right;\">\n",
       "      <th></th>\n",
       "      <th>Date</th>\n",
       "      <th>mine1</th>\n",
       "      <th>mine2</th>\n",
       "    </tr>\n",
       "  </thead>\n",
       "  <tbody>\n",
       "    <tr>\n",
       "      <th>0</th>\n",
       "      <td>2012-05-07</td>\n",
       "      <td>NaN</td>\n",
       "      <td>NaN</td>\n",
       "    </tr>\n",
       "    <tr>\n",
       "      <th>1</th>\n",
       "      <td>2012-05-08</td>\n",
       "      <td>0.991930</td>\n",
       "      <td>0.991930</td>\n",
       "    </tr>\n",
       "    <tr>\n",
       "      <th>2</th>\n",
       "      <td>2012-05-09</td>\n",
       "      <td>0.982961</td>\n",
       "      <td>0.983058</td>\n",
       "    </tr>\n",
       "    <tr>\n",
       "      <th>3</th>\n",
       "      <td>2012-05-10</td>\n",
       "      <td>0.990034</td>\n",
       "      <td>0.990254</td>\n",
       "    </tr>\n",
       "    <tr>\n",
       "      <th>4</th>\n",
       "      <td>2012-05-11</td>\n",
       "      <td>0.989704</td>\n",
       "      <td>0.989987</td>\n",
       "    </tr>\n",
       "  </tbody>\n",
       "</table>\n",
       "</div>"
      ],
      "text/plain": [
       "        Date     mine1     mine2\n",
       "0 2012-05-07       NaN       NaN\n",
       "1 2012-05-08  0.991930  0.991930\n",
       "2 2012-05-09  0.982961  0.983058\n",
       "3 2012-05-10  0.990034  0.990254\n",
       "4 2012-05-11  0.989704  0.989987"
      ]
     },
     "execution_count": 9,
     "metadata": {},
     "output_type": "execute_result"
    }
   ],
   "source": [
    "out = pd.DataFrame(data.Date)\n",
    "out['mine1'] = data['DayToDayChange'].mean(axis=1)[1:].cumprod()\n",
    "out['mine2'] = data['DayToDayChange'].cumprod().mean(axis=1)\n",
    "out.head()"
   ]
  },
  {
   "cell_type": "code",
   "execution_count": 10,
   "id": "b5efbe76",
   "metadata": {},
   "outputs": [
    {
     "data": {
      "text/html": [
       "<div>\n",
       "<style scoped>\n",
       "    .dataframe tbody tr th:only-of-type {\n",
       "        vertical-align: middle;\n",
       "    }\n",
       "\n",
       "    .dataframe tbody tr th {\n",
       "        vertical-align: top;\n",
       "    }\n",
       "\n",
       "    .dataframe thead th {\n",
       "        text-align: right;\n",
       "    }\n",
       "</style>\n",
       "<table border=\"1\" class=\"dataframe\">\n",
       "  <thead>\n",
       "    <tr style=\"text-align: right;\">\n",
       "      <th></th>\n",
       "      <th>Date</th>\n",
       "      <th>mine1</th>\n",
       "      <th>mine2</th>\n",
       "    </tr>\n",
       "  </thead>\n",
       "  <tbody>\n",
       "    <tr>\n",
       "      <th>2513</th>\n",
       "      <td>2022-05-02</td>\n",
       "      <td>17.198096</td>\n",
       "      <td>6.355801</td>\n",
       "    </tr>\n",
       "    <tr>\n",
       "      <th>2514</th>\n",
       "      <td>2022-05-03</td>\n",
       "      <td>16.994266</td>\n",
       "      <td>6.312430</td>\n",
       "    </tr>\n",
       "    <tr>\n",
       "      <th>2515</th>\n",
       "      <td>2022-05-04</td>\n",
       "      <td>17.552105</td>\n",
       "      <td>6.522678</td>\n",
       "    </tr>\n",
       "    <tr>\n",
       "      <th>2516</th>\n",
       "      <td>2022-05-05</td>\n",
       "      <td>16.255101</td>\n",
       "      <td>6.004208</td>\n",
       "    </tr>\n",
       "    <tr>\n",
       "      <th>2517</th>\n",
       "      <td>2022-05-06</td>\n",
       "      <td>15.518715</td>\n",
       "      <td>5.800092</td>\n",
       "    </tr>\n",
       "  </tbody>\n",
       "</table>\n",
       "</div>"
      ],
      "text/plain": [
       "           Date      mine1     mine2\n",
       "2513 2022-05-02  17.198096  6.355801\n",
       "2514 2022-05-03  16.994266  6.312430\n",
       "2515 2022-05-04  17.552105  6.522678\n",
       "2516 2022-05-05  16.255101  6.004208\n",
       "2517 2022-05-06  15.518715  5.800092"
      ]
     },
     "execution_count": 10,
     "metadata": {},
     "output_type": "execute_result"
    }
   ],
   "source": [
    "out.tail()"
   ]
  },
  {
   "cell_type": "code",
   "execution_count": 11,
   "id": "5ca71b85",
   "metadata": {},
   "outputs": [
    {
     "name": "stdout",
     "output_type": "stream",
     "text": [
      "dev_quantiles.csv    myHistoricTest.RData scoring.csv\r\n",
      "historic.csv         nasdaq1965.csv       sp1950.csv\r\n",
      "mine.csv             nya1965.csv          wilshire1990.csv\r\n",
      "myHistoric.RData     \u001b[34mpct_params\u001b[m\u001b[m\r\n"
     ]
    }
   ],
   "source": [
    "!ls ../data"
   ]
  },
  {
   "cell_type": "code",
   "execution_count": 12,
   "id": "0f2f152e",
   "metadata": {},
   "outputs": [],
   "source": [
    "out.iloc[1:, :].to_csv('../data/mine.csv', index=False)"
   ]
  },
  {
   "cell_type": "code",
   "execution_count": 13,
   "id": "c74422bb",
   "metadata": {},
   "outputs": [
    {
     "data": {
      "image/png": "[encoded data removed]",
      "text/plain": [
       "<Figure size 864x576 with 1 Axes>"
      ]
     },
     "metadata": {
      "needs_background": "light"
     },
     "output_type": "display_data"
    }
   ],
   "source": [
    "plt.figure(figsize=[12, 8])\n",
    "a = data['DayToDayChange'].mean(axis=1)[1:].cumprod()\n",
    "n = len(a)\n",
    "start = n - 250\n",
    "a = a / a[start]\n",
    "b = data['DayToDayChange'].cumprod().mean(axis=1)\n",
    "b = b / b[start]\n",
    "s = spx.cumprod()\n",
    "s = s / s[start]\n",
    "plt.plot(a, label='These Avg Daily')\n",
    "plt.plot(b, label='These Avg Cumul')\n",
    "plt.plot(s, label='spx')\n",
    "#plt.yscale('log')\n",
    "plt.xlim([one_year, n + 10])\n",
    "plt.ylim(0.6, 1.35)\n",
    "plt.legend();"
   ]
  },
  {
   "cell_type": "code",
   "execution_count": 14,
   "id": "d7aca03a",
   "metadata": {},
   "outputs": [],
   "source": [
    "def get_stock_data(stock, data):\n",
    "    sub = data.loc[\n",
    "        :,  \n",
    "        [x for x in list(data) if x[1] == stock]]\n",
    "    first_value = (sub.Value[stock][sub.Value[stock].notna()]\n",
    "                   .index[0])\n",
    "    sub = sub.loc[first_value:, :]\n",
    "    sub.columns = sub.columns.to_series().apply(lambda x: x[0])\n",
    "    sub.fillna(method='ffill', inplace=True)\n",
    "    return sub"
   ]
  },
  {
   "cell_type": "code",
   "execution_count": 15,
   "id": "af0c46be",
   "metadata": {},
   "outputs": [
    {
     "data": {
      "text/html": [
       "<div>\n",
       "<style scoped>\n",
       "    .dataframe tbody tr th:only-of-type {\n",
       "        vertical-align: middle;\n",
       "    }\n",
       "\n",
       "    .dataframe tbody tr th {\n",
       "        vertical-align: top;\n",
       "    }\n",
       "\n",
       "    .dataframe thead th {\n",
       "        text-align: right;\n",
       "    }\n",
       "</style>\n",
       "<table border=\"1\" class=\"dataframe\">\n",
       "  <thead>\n",
       "    <tr style=\"text-align: right;\">\n",
       "      <th></th>\n",
       "      <th>Value</th>\n",
       "      <th>Close</th>\n",
       "      <th>High</th>\n",
       "      <th>Low</th>\n",
       "      <th>Open</th>\n",
       "      <th>LogValue</th>\n",
       "      <th>IntradayChange</th>\n",
       "      <th>DayToDayChange</th>\n",
       "      <th>OvernightChange</th>\n",
       "    </tr>\n",
       "  </thead>\n",
       "  <tbody>\n",
       "    <tr>\n",
       "      <th>1374</th>\n",
       "      <td>16.26</td>\n",
       "      <td>16.26</td>\n",
       "      <td>16.990</td>\n",
       "      <td>14.00</td>\n",
       "      <td>16.25</td>\n",
       "      <td>2.788708</td>\n",
       "      <td>1.000615</td>\n",
       "      <td>NaN</td>\n",
       "      <td>NaN</td>\n",
       "    </tr>\n",
       "    <tr>\n",
       "      <th>1375</th>\n",
       "      <td>15.26</td>\n",
       "      <td>15.26</td>\n",
       "      <td>16.399</td>\n",
       "      <td>15.12</td>\n",
       "      <td>16.10</td>\n",
       "      <td>2.725235</td>\n",
       "      <td>0.947826</td>\n",
       "      <td>0.938499</td>\n",
       "      <td>0.990160</td>\n",
       "    </tr>\n",
       "    <tr>\n",
       "      <th>1376</th>\n",
       "      <td>15.24</td>\n",
       "      <td>15.24</td>\n",
       "      <td>15.860</td>\n",
       "      <td>14.77</td>\n",
       "      <td>15.40</td>\n",
       "      <td>2.723924</td>\n",
       "      <td>0.989610</td>\n",
       "      <td>0.998689</td>\n",
       "      <td>1.009174</td>\n",
       "    </tr>\n",
       "    <tr>\n",
       "      <th>1377</th>\n",
       "      <td>13.73</td>\n",
       "      <td>13.73</td>\n",
       "      <td>15.430</td>\n",
       "      <td>13.62</td>\n",
       "      <td>15.10</td>\n",
       "      <td>2.619583</td>\n",
       "      <td>0.909271</td>\n",
       "      <td>0.900919</td>\n",
       "      <td>0.990814</td>\n",
       "    </tr>\n",
       "    <tr>\n",
       "      <th>1378</th>\n",
       "      <td>14.02</td>\n",
       "      <td>14.02</td>\n",
       "      <td>14.160</td>\n",
       "      <td>13.81</td>\n",
       "      <td>13.82</td>\n",
       "      <td>2.640485</td>\n",
       "      <td>1.014472</td>\n",
       "      <td>1.021122</td>\n",
       "      <td>1.006555</td>\n",
       "    </tr>\n",
       "  </tbody>\n",
       "</table>\n",
       "</div>"
      ],
      "text/plain": [
       "      Value  Close    High    Low   Open  LogValue  IntradayChange  \\\n",
       "1374  16.26  16.26  16.990  14.00  16.25  2.788708        1.000615   \n",
       "1375  15.26  15.26  16.399  15.12  16.10  2.725235        0.947826   \n",
       "1376  15.24  15.24  15.860  14.77  15.40  2.723924        0.989610   \n",
       "1377  13.73  13.73  15.430  13.62  15.10  2.619583        0.909271   \n",
       "1378  14.02  14.02  14.160  13.81  13.82  2.640485        1.014472   \n",
       "\n",
       "      DayToDayChange  OvernightChange  \n",
       "1374             NaN              NaN  \n",
       "1375        0.938499         0.990160  \n",
       "1376        0.998689         1.009174  \n",
       "1377        0.900919         0.990814  \n",
       "1378        1.021122         1.006555  "
      ]
     },
     "execution_count": 15,
     "metadata": {},
     "output_type": "execute_result"
    }
   ],
   "source": [
    "rblx = get_stock_data('SE', data)\n",
    "rblx.head()"
   ]
  },
  {
   "cell_type": "code",
   "execution_count": 16,
   "id": "cf057d19",
   "metadata": {},
   "outputs": [
    {
     "data": {
      "text/html": [
       "<div>\n",
       "<style scoped>\n",
       "    .dataframe tbody tr th:only-of-type {\n",
       "        vertical-align: middle;\n",
       "    }\n",
       "\n",
       "    .dataframe tbody tr th {\n",
       "        vertical-align: top;\n",
       "    }\n",
       "\n",
       "    .dataframe thead th {\n",
       "        text-align: right;\n",
       "    }\n",
       "</style>\n",
       "<table border=\"1\" class=\"dataframe\">\n",
       "  <thead>\n",
       "    <tr style=\"text-align: right;\">\n",
       "      <th></th>\n",
       "      <th>Value</th>\n",
       "      <th>Close</th>\n",
       "      <th>High</th>\n",
       "      <th>Low</th>\n",
       "    </tr>\n",
       "  </thead>\n",
       "  <tbody>\n",
       "    <tr>\n",
       "      <th>1374</th>\n",
       "      <td>16.26</td>\n",
       "      <td>16.26</td>\n",
       "      <td>16.990</td>\n",
       "      <td>14.00</td>\n",
       "    </tr>\n",
       "    <tr>\n",
       "      <th>1375</th>\n",
       "      <td>15.26</td>\n",
       "      <td>15.26</td>\n",
       "      <td>16.399</td>\n",
       "      <td>15.12</td>\n",
       "    </tr>\n",
       "    <tr>\n",
       "      <th>1376</th>\n",
       "      <td>15.24</td>\n",
       "      <td>15.24</td>\n",
       "      <td>15.860</td>\n",
       "      <td>14.77</td>\n",
       "    </tr>\n",
       "    <tr>\n",
       "      <th>1377</th>\n",
       "      <td>13.73</td>\n",
       "      <td>13.73</td>\n",
       "      <td>15.430</td>\n",
       "      <td>13.62</td>\n",
       "    </tr>\n",
       "    <tr>\n",
       "      <th>1378</th>\n",
       "      <td>14.02</td>\n",
       "      <td>14.02</td>\n",
       "      <td>14.160</td>\n",
       "      <td>13.81</td>\n",
       "    </tr>\n",
       "  </tbody>\n",
       "</table>\n",
       "</div>"
      ],
      "text/plain": [
       "      Value  Close    High    Low\n",
       "1374  16.26  16.26  16.990  14.00\n",
       "1375  15.26  15.26  16.399  15.12\n",
       "1376  15.24  15.24  15.860  14.77\n",
       "1377  13.73  13.73  15.430  13.62\n",
       "1378  14.02  14.02  14.160  13.81"
      ]
     },
     "execution_count": 16,
     "metadata": {},
     "output_type": "execute_result"
    }
   ],
   "source": [
    "rblx = rblx[['Value', 'Close', 'High', 'Low']]\n",
    "rblx.head()"
   ]
  },
  {
   "cell_type": "code",
   "execution_count": 17,
   "id": "ecd6ae06",
   "metadata": {},
   "outputs": [
    {
     "data": {
      "text/html": [
       "<div>\n",
       "<style scoped>\n",
       "    .dataframe tbody tr th:only-of-type {\n",
       "        vertical-align: middle;\n",
       "    }\n",
       "\n",
       "    .dataframe tbody tr th {\n",
       "        vertical-align: top;\n",
       "    }\n",
       "\n",
       "    .dataframe thead th {\n",
       "        text-align: right;\n",
       "    }\n",
       "</style>\n",
       "<table border=\"1\" class=\"dataframe\">\n",
       "  <thead>\n",
       "    <tr style=\"text-align: right;\">\n",
       "      <th></th>\n",
       "      <th>Value</th>\n",
       "      <th>Close</th>\n",
       "      <th>High</th>\n",
       "      <th>Low</th>\n",
       "      <th>NextHigh</th>\n",
       "      <th>NextLow</th>\n",
       "      <th>HighMult</th>\n",
       "      <th>LowMult</th>\n",
       "    </tr>\n",
       "  </thead>\n",
       "  <tbody>\n",
       "    <tr>\n",
       "      <th>1374</th>\n",
       "      <td>16.26</td>\n",
       "      <td>16.26</td>\n",
       "      <td>16.990</td>\n",
       "      <td>14.00</td>\n",
       "      <td>16.399</td>\n",
       "      <td>15.12</td>\n",
       "      <td>1.008549</td>\n",
       "      <td>0.929889</td>\n",
       "    </tr>\n",
       "    <tr>\n",
       "      <th>1375</th>\n",
       "      <td>15.26</td>\n",
       "      <td>15.26</td>\n",
       "      <td>16.399</td>\n",
       "      <td>15.12</td>\n",
       "      <td>15.860</td>\n",
       "      <td>14.77</td>\n",
       "      <td>1.039318</td>\n",
       "      <td>0.967890</td>\n",
       "    </tr>\n",
       "    <tr>\n",
       "      <th>1376</th>\n",
       "      <td>15.24</td>\n",
       "      <td>15.24</td>\n",
       "      <td>15.860</td>\n",
       "      <td>14.77</td>\n",
       "      <td>15.430</td>\n",
       "      <td>13.62</td>\n",
       "      <td>1.012467</td>\n",
       "      <td>0.893701</td>\n",
       "    </tr>\n",
       "    <tr>\n",
       "      <th>1377</th>\n",
       "      <td>13.73</td>\n",
       "      <td>13.73</td>\n",
       "      <td>15.430</td>\n",
       "      <td>13.62</td>\n",
       "      <td>14.160</td>\n",
       "      <td>13.81</td>\n",
       "      <td>1.031318</td>\n",
       "      <td>1.005827</td>\n",
       "    </tr>\n",
       "    <tr>\n",
       "      <th>1378</th>\n",
       "      <td>14.02</td>\n",
       "      <td>14.02</td>\n",
       "      <td>14.160</td>\n",
       "      <td>13.81</td>\n",
       "      <td>14.130</td>\n",
       "      <td>13.80</td>\n",
       "      <td>1.007846</td>\n",
       "      <td>0.984308</td>\n",
       "    </tr>\n",
       "  </tbody>\n",
       "</table>\n",
       "</div>"
      ],
      "text/plain": [
       "      Value  Close    High    Low  NextHigh  NextLow  HighMult   LowMult\n",
       "1374  16.26  16.26  16.990  14.00    16.399    15.12  1.008549  0.929889\n",
       "1375  15.26  15.26  16.399  15.12    15.860    14.77  1.039318  0.967890\n",
       "1376  15.24  15.24  15.860  14.77    15.430    13.62  1.012467  0.893701\n",
       "1377  13.73  13.73  15.430  13.62    14.160    13.81  1.031318  1.005827\n",
       "1378  14.02  14.02  14.160  13.81    14.130    13.80  1.007846  0.984308"
      ]
     },
     "execution_count": 17,
     "metadata": {},
     "output_type": "execute_result"
    }
   ],
   "source": [
    "rblx['NextHigh'] = rblx.High.shift(-1)\n",
    "rblx['NextLow'] = rblx.Low.shift(-1)\n",
    "rblx['HighMult'] = rblx.NextHigh / rblx.Close\n",
    "rblx['LowMult'] = rblx.NextLow / rblx.Close\n",
    "rblx.head()"
   ]
  },
  {
   "cell_type": "code",
   "execution_count": 18,
   "id": "45515f54",
   "metadata": {},
   "outputs": [
    {
     "name": "stdout",
     "output_type": "stream",
     "text": [
      "0.05    0.990255\n",
      "Name: HighMult, dtype: float64\n"
     ]
    },
    {
     "data": {
      "image/png": "[encoded data removed]",
      "text/plain": [
       "<Figure size 432x288 with 1 Axes>"
      ]
     },
     "metadata": {
      "needs_background": "light"
     },
     "output_type": "display_data"
    }
   ],
   "source": [
    "# For selling:\n",
    "high_05 = rblx.HighMult.quantile(q=[0.05])\n",
    "print(high_05)\n",
    "plt.hist(rblx.HighMult)\n",
    "plt.axvline(x=high_05[0.05], color='red');"
   ]
  },
  {
   "cell_type": "code",
   "execution_count": 19,
   "id": "516dfb66",
   "metadata": {},
   "outputs": [
    {
     "name": "stdout",
     "output_type": "stream",
     "text": [
      "1.0140021303602074\n"
     ]
    },
    {
     "data": {
      "image/png": "[encoded data removed]",
      "text/plain": [
       "<Figure size 432x288 with 1 Axes>"
      ]
     },
     "metadata": {
      "needs_background": "light"
     },
     "output_type": "display_data"
    }
   ],
   "source": [
    "# For buying:\n",
    "low_95 = rblx.LowMult.quantile(q=[0.95])\n",
    "print(low_95.tolist()[0])\n",
    "plt.hist(rblx.LowMult)\n",
    "plt.axvline(x=low_95[0.95], color='red');"
   ]
  },
  {
   "cell_type": "code",
   "execution_count": 20,
   "id": "ed504c6f",
   "metadata": {},
   "outputs": [],
   "source": [
    "def get_hilo_mult(stock, ci=0.95):\n",
    "    stock['NextHigh'] = stock.High.shift(-1)\n",
    "    stock['NextLow'] = stock.Low.shift(-1)\n",
    "    stock['HighMult'] = stock.NextHigh / stock.Close\n",
    "    stock['LowMult'] = stock.NextLow / stock.Close\n",
    "    sell_pt = stock.HighMult.quantile(q=[1 - ci]).tolist()[0]\n",
    "    buy_pt = stock.LowMult.quantile(q=[ci]).tolist()[0]\n",
    "    return buy_pt, sell_pt"
   ]
  },
  {
   "cell_type": "code",
   "execution_count": 21,
   "id": "8eb58a9f",
   "metadata": {},
   "outputs": [
    {
     "data": {
      "text/plain": [
       "(1.0140021303602074, 0.9902545149158977)"
      ]
     },
     "execution_count": 21,
     "metadata": {},
     "output_type": "execute_result"
    }
   ],
   "source": [
    "get_hilo_mult(rblx)"
   ]
  },
  {
   "cell_type": "code",
   "execution_count": 22,
   "id": "be666a16",
   "metadata": {},
   "outputs": [
    {
     "data": {
      "text/plain": [
       "(1.0081245098175693, 0.9942778673326276)"
      ]
     },
     "execution_count": 22,
     "metadata": {},
     "output_type": "execute_result"
    }
   ],
   "source": [
    "aapl = get_stock_data('AAPL', data)\n",
    "get_hilo_mult(aapl)"
   ]
  },
  {
   "cell_type": "code",
   "execution_count": 23,
   "id": "55370ffc",
   "metadata": {},
   "outputs": [],
   "source": [
    "def get_macd(stock_data, fast=60, slow=90, signal=80):\n",
    "    df = stock_data.copy()\n",
    "    exp1 = df.Value.ewm(span=fast, adjust=False).mean()\n",
    "    exp2 = df.Value.ewm(span=slow, adjust=False).mean()\n",
    "    macd = exp1 - exp2\n",
    "    exp3 = macd.ewm(span=signal, adjust=False).mean()\n",
    "    histo = macd - exp3\n",
    "    hdiff = histo.diff(1)\n",
    "    is_rising = 1 * (hdiff > 0)\n",
    "    return is_rising"
   ]
  },
  {
   "cell_type": "code",
   "execution_count": 24,
   "id": "c13b86b8",
   "metadata": {},
   "outputs": [
    {
     "data": {
      "text/html": [
       "<div>\n",
       "<style scoped>\n",
       "    .dataframe tbody tr th:only-of-type {\n",
       "        vertical-align: middle;\n",
       "    }\n",
       "\n",
       "    .dataframe tbody tr th {\n",
       "        vertical-align: top;\n",
       "    }\n",
       "\n",
       "    .dataframe thead th {\n",
       "        text-align: right;\n",
       "    }\n",
       "</style>\n",
       "<table border=\"1\" class=\"dataframe\">\n",
       "  <thead>\n",
       "    <tr style=\"text-align: right;\">\n",
       "      <th></th>\n",
       "      <th>Value</th>\n",
       "      <th>Close</th>\n",
       "      <th>High</th>\n",
       "      <th>Low</th>\n",
       "      <th>NextHigh</th>\n",
       "      <th>NextLow</th>\n",
       "      <th>HighMult</th>\n",
       "      <th>LowMult</th>\n",
       "      <th>Trend</th>\n",
       "    </tr>\n",
       "  </thead>\n",
       "  <tbody>\n",
       "    <tr>\n",
       "      <th>1374</th>\n",
       "      <td>16.26</td>\n",
       "      <td>16.26</td>\n",
       "      <td>16.990</td>\n",
       "      <td>14.00</td>\n",
       "      <td>16.399</td>\n",
       "      <td>15.12</td>\n",
       "      <td>1.008549</td>\n",
       "      <td>0.929889</td>\n",
       "      <td>0</td>\n",
       "    </tr>\n",
       "    <tr>\n",
       "      <th>1375</th>\n",
       "      <td>15.26</td>\n",
       "      <td>15.26</td>\n",
       "      <td>16.399</td>\n",
       "      <td>15.12</td>\n",
       "      <td>15.860</td>\n",
       "      <td>14.77</td>\n",
       "      <td>1.039318</td>\n",
       "      <td>0.967890</td>\n",
       "      <td>0</td>\n",
       "    </tr>\n",
       "    <tr>\n",
       "      <th>1376</th>\n",
       "      <td>15.24</td>\n",
       "      <td>15.24</td>\n",
       "      <td>15.860</td>\n",
       "      <td>14.77</td>\n",
       "      <td>15.430</td>\n",
       "      <td>13.62</td>\n",
       "      <td>1.012467</td>\n",
       "      <td>0.893701</td>\n",
       "      <td>0</td>\n",
       "    </tr>\n",
       "    <tr>\n",
       "      <th>1377</th>\n",
       "      <td>13.73</td>\n",
       "      <td>13.73</td>\n",
       "      <td>15.430</td>\n",
       "      <td>13.62</td>\n",
       "      <td>14.160</td>\n",
       "      <td>13.81</td>\n",
       "      <td>1.031318</td>\n",
       "      <td>1.005827</td>\n",
       "      <td>0</td>\n",
       "    </tr>\n",
       "    <tr>\n",
       "      <th>1378</th>\n",
       "      <td>14.02</td>\n",
       "      <td>14.02</td>\n",
       "      <td>14.160</td>\n",
       "      <td>13.81</td>\n",
       "      <td>14.130</td>\n",
       "      <td>13.80</td>\n",
       "      <td>1.007846</td>\n",
       "      <td>0.984308</td>\n",
       "      <td>0</td>\n",
       "    </tr>\n",
       "  </tbody>\n",
       "</table>\n",
       "</div>"
      ],
      "text/plain": [
       "      Value  Close    High    Low  NextHigh  NextLow  HighMult   LowMult  \\\n",
       "1374  16.26  16.26  16.990  14.00    16.399    15.12  1.008549  0.929889   \n",
       "1375  15.26  15.26  16.399  15.12    15.860    14.77  1.039318  0.967890   \n",
       "1376  15.24  15.24  15.860  14.77    15.430    13.62  1.012467  0.893701   \n",
       "1377  13.73  13.73  15.430  13.62    14.160    13.81  1.031318  1.005827   \n",
       "1378  14.02  14.02  14.160  13.81    14.130    13.80  1.007846  0.984308   \n",
       "\n",
       "      Trend  \n",
       "1374      0  \n",
       "1375      0  \n",
       "1376      0  \n",
       "1377      0  \n",
       "1378      0  "
      ]
     },
     "execution_count": 24,
     "metadata": {},
     "output_type": "execute_result"
    }
   ],
   "source": [
    "rblx['Trend'] = get_macd(rblx)\n",
    "rblx.head()"
   ]
  },
  {
   "cell_type": "code",
   "execution_count": 25,
   "id": "686f9ee4",
   "metadata": {},
   "outputs": [],
   "source": [
    "def get_hilo_mults(stock, ci=0.95):\n",
    "    stock['Trend'] = get_macd(stock)\n",
    "    stock['NextHigh'] = stock.High.shift(-1)\n",
    "    stock['NextLow'] = stock.Low.shift(-1)\n",
    "    stock['HighMult'] = stock.NextHigh / stock.Close\n",
    "    stock['LowMult'] = stock.NextLow / stock.Close\n",
    "    upward = stock[stock.Trend == 1]\n",
    "    downward = stock[stock.Trend == 0]\n",
    "    sell_pt_up = upward.HighMult.quantile(q=[1 - ci]).tolist()[0]\n",
    "    buy_pt_up = upward.LowMult.quantile(q=[ci]).tolist()[0]\n",
    "    sell_pt_down = downward.HighMult.quantile(q=[1 - ci]).tolist()[0]\n",
    "    buy_pt_down = downward.LowMult.quantile(q=[ci]).tolist()[0]\n",
    "    return buy_pt_up, sell_pt_up, buy_pt_down, sell_pt_down"
   ]
  },
  {
   "cell_type": "code",
   "execution_count": 26,
   "id": "c1661954",
   "metadata": {},
   "outputs": [
    {
     "data": {
      "text/plain": [
       "(1.0108372710931917,\n",
       " 0.9909826427503162,\n",
       " 1.0174909304081967,\n",
       " 0.9879597764860499)"
      ]
     },
     "execution_count": 26,
     "metadata": {},
     "output_type": "execute_result"
    }
   ],
   "source": [
    "get_hilo_mults(rblx)"
   ]
  },
  {
   "cell_type": "code",
   "execution_count": 27,
   "id": "8577104e",
   "metadata": {},
   "outputs": [
    {
     "data": {
      "text/plain": [
       "(1.006104846545345, 0.9956874322968432, 1.0095290299060347, 0.9928638620549098)"
      ]
     },
     "execution_count": 27,
     "metadata": {},
     "output_type": "execute_result"
    }
   ],
   "source": [
    "get_hilo_mults(aapl)"
   ]
  },
  {
   "cell_type": "code",
   "execution_count": 28,
   "id": "a5355f5b",
   "metadata": {},
   "outputs": [
    {
     "data": {
      "text/html": [
       "<div>\n",
       "<style scoped>\n",
       "    .dataframe tbody tr th:only-of-type {\n",
       "        vertical-align: middle;\n",
       "    }\n",
       "\n",
       "    .dataframe tbody tr th {\n",
       "        vertical-align: top;\n",
       "    }\n",
       "\n",
       "    .dataframe thead th {\n",
       "        text-align: right;\n",
       "    }\n",
       "</style>\n",
       "<table border=\"1\" class=\"dataframe\">\n",
       "  <thead>\n",
       "    <tr style=\"text-align: right;\">\n",
       "      <th></th>\n",
       "      <th>stock</th>\n",
       "      <th>buy_pt_up</th>\n",
       "      <th>sell_pt_up</th>\n",
       "      <th>buy_pt_down</th>\n",
       "      <th>sell_pt_down</th>\n",
       "    </tr>\n",
       "  </thead>\n",
       "  <tbody>\n",
       "    <tr>\n",
       "      <th>0</th>\n",
       "      <td>AAPL</td>\n",
       "      <td>1.006105</td>\n",
       "      <td>0.995687</td>\n",
       "      <td>1.009529</td>\n",
       "      <td>0.992864</td>\n",
       "    </tr>\n",
       "    <tr>\n",
       "      <th>1</th>\n",
       "      <td>ABMD</td>\n",
       "      <td>1.004002</td>\n",
       "      <td>0.997392</td>\n",
       "      <td>1.004653</td>\n",
       "      <td>0.996834</td>\n",
       "    </tr>\n",
       "    <tr>\n",
       "      <th>2</th>\n",
       "      <td>ABNB</td>\n",
       "      <td>1.006000</td>\n",
       "      <td>0.994581</td>\n",
       "      <td>1.011281</td>\n",
       "      <td>0.984825</td>\n",
       "    </tr>\n",
       "    <tr>\n",
       "      <th>3</th>\n",
       "      <td>ADYEY</td>\n",
       "      <td>1.023462</td>\n",
       "      <td>0.981910</td>\n",
       "      <td>1.028770</td>\n",
       "      <td>0.967308</td>\n",
       "    </tr>\n",
       "    <tr>\n",
       "      <th>4</th>\n",
       "      <td>AMD</td>\n",
       "      <td>1.011559</td>\n",
       "      <td>0.992591</td>\n",
       "      <td>1.011102</td>\n",
       "      <td>0.991104</td>\n",
       "    </tr>\n",
       "  </tbody>\n",
       "</table>\n",
       "</div>"
      ],
      "text/plain": [
       "   stock  buy_pt_up  sell_pt_up  buy_pt_down  sell_pt_down\n",
       "0   AAPL   1.006105    0.995687     1.009529      0.992864\n",
       "1   ABMD   1.004002    0.997392     1.004653      0.996834\n",
       "2   ABNB   1.006000    0.994581     1.011281      0.984825\n",
       "3  ADYEY   1.023462    0.981910     1.028770      0.967308\n",
       "4    AMD   1.011559    0.992591     1.011102      0.991104"
      ]
     },
     "execution_count": 28,
     "metadata": {},
     "output_type": "execute_result"
    }
   ],
   "source": [
    "out = []\n",
    "for symbol in batch:\n",
    "    stock = get_stock_data(symbol, data)\n",
    "    mults = get_hilo_mults(stock)\n",
    "    out.append([symbol, *mults])\n",
    "df = pd.DataFrame(\n",
    "    out, \n",
    "    columns=['stock', 'buy_pt_up', 'sell_pt_up', 'buy_pt_down', \n",
    "             'sell_pt_down'])\n",
    "df.head()"
   ]
  },
  {
   "cell_type": "code",
   "execution_count": 29,
   "id": "1f47cac8",
   "metadata": {},
   "outputs": [
    {
     "data": {
      "text/html": [
       "<div>\n",
       "<style scoped>\n",
       "    .dataframe tbody tr th:only-of-type {\n",
       "        vertical-align: middle;\n",
       "    }\n",
       "\n",
       "    .dataframe tbody tr th {\n",
       "        vertical-align: top;\n",
       "    }\n",
       "\n",
       "    .dataframe thead th {\n",
       "        text-align: right;\n",
       "    }\n",
       "</style>\n",
       "<table border=\"1\" class=\"dataframe\">\n",
       "  <thead>\n",
       "    <tr style=\"text-align: right;\">\n",
       "      <th></th>\n",
       "      <th>price</th>\n",
       "      <th>stock</th>\n",
       "    </tr>\n",
       "  </thead>\n",
       "  <tbody>\n",
       "    <tr>\n",
       "      <th>AAPL</th>\n",
       "      <td>157.279999</td>\n",
       "      <td>AAPL</td>\n",
       "    </tr>\n",
       "    <tr>\n",
       "      <th>ABMD</th>\n",
       "      <td>257.540009</td>\n",
       "      <td>ABMD</td>\n",
       "    </tr>\n",
       "    <tr>\n",
       "      <th>ABNB</th>\n",
       "      <td>135.839996</td>\n",
       "      <td>ABNB</td>\n",
       "    </tr>\n",
       "    <tr>\n",
       "      <th>ADYEY</th>\n",
       "      <td>15.05</td>\n",
       "      <td>ADYEY</td>\n",
       "    </tr>\n",
       "    <tr>\n",
       "      <th>AMD</th>\n",
       "      <td>95.339996</td>\n",
       "      <td>AMD</td>\n",
       "    </tr>\n",
       "    <tr>\n",
       "      <th>...</th>\n",
       "      <td>...</td>\n",
       "      <td>...</td>\n",
       "    </tr>\n",
       "    <tr>\n",
       "      <th>ZEN</th>\n",
       "      <td>113.879997</td>\n",
       "      <td>ZEN</td>\n",
       "    </tr>\n",
       "    <tr>\n",
       "      <th>ZNGA</th>\n",
       "      <td>8.08</td>\n",
       "      <td>ZNGA</td>\n",
       "    </tr>\n",
       "    <tr>\n",
       "      <th>^GSPC</th>\n",
       "      <td>4123.339844</td>\n",
       "      <td>^GSPC</td>\n",
       "    </tr>\n",
       "    <tr>\n",
       "      <th>^IXIC</th>\n",
       "      <td>12144.662109</td>\n",
       "      <td>^IXIC</td>\n",
       "    </tr>\n",
       "    <tr>\n",
       "      <th>^NYA</th>\n",
       "      <td>15566.554688</td>\n",
       "      <td>^NYA</td>\n",
       "    </tr>\n",
       "  </tbody>\n",
       "</table>\n",
       "<p>74 rows × 2 columns</p>\n",
       "</div>"
      ],
      "text/plain": [
       "              price  stock\n",
       "AAPL     157.279999   AAPL\n",
       "ABMD     257.540009   ABMD\n",
       "ABNB     135.839996   ABNB\n",
       "ADYEY         15.05  ADYEY\n",
       "AMD       95.339996    AMD\n",
       "...             ...    ...\n",
       "ZEN      113.879997    ZEN\n",
       "ZNGA           8.08   ZNGA\n",
       "^GSPC   4123.339844  ^GSPC\n",
       "^IXIC  12144.662109  ^IXIC\n",
       "^NYA   15566.554688   ^NYA\n",
       "\n",
       "[74 rows x 2 columns]"
      ]
     },
     "execution_count": 29,
     "metadata": {},
     "output_type": "execute_result"
    }
   ],
   "source": [
    "last = data.index.max()\n",
    "price = pd.DataFrame(data.loc[last, 'Value'])\n",
    "price.columns = ['price']\n",
    "price['stock'] = price.index\n",
    "price"
   ]
  },
  {
   "cell_type": "code",
   "execution_count": 30,
   "id": "33f47eb9",
   "metadata": {},
   "outputs": [
    {
     "data": {
      "text/html": [
       "<div>\n",
       "<style scoped>\n",
       "    .dataframe tbody tr th:only-of-type {\n",
       "        vertical-align: middle;\n",
       "    }\n",
       "\n",
       "    .dataframe tbody tr th {\n",
       "        vertical-align: top;\n",
       "    }\n",
       "\n",
       "    .dataframe thead th {\n",
       "        text-align: right;\n",
       "    }\n",
       "</style>\n",
       "<table border=\"1\" class=\"dataframe\">\n",
       "  <thead>\n",
       "    <tr style=\"text-align: right;\">\n",
       "      <th></th>\n",
       "      <th>stock</th>\n",
       "      <th>buy_pt_up</th>\n",
       "      <th>sell_pt_up</th>\n",
       "      <th>buy_pt_down</th>\n",
       "      <th>sell_pt_down</th>\n",
       "      <th>price</th>\n",
       "    </tr>\n",
       "  </thead>\n",
       "  <tbody>\n",
       "    <tr>\n",
       "      <th>0</th>\n",
       "      <td>AAPL</td>\n",
       "      <td>1.006105</td>\n",
       "      <td>0.995687</td>\n",
       "      <td>1.009529</td>\n",
       "      <td>0.992864</td>\n",
       "      <td>157.279999</td>\n",
       "    </tr>\n",
       "    <tr>\n",
       "      <th>1</th>\n",
       "      <td>ABMD</td>\n",
       "      <td>1.004002</td>\n",
       "      <td>0.997392</td>\n",
       "      <td>1.004653</td>\n",
       "      <td>0.996834</td>\n",
       "      <td>257.540009</td>\n",
       "    </tr>\n",
       "    <tr>\n",
       "      <th>2</th>\n",
       "      <td>ABNB</td>\n",
       "      <td>1.006000</td>\n",
       "      <td>0.994581</td>\n",
       "      <td>1.011281</td>\n",
       "      <td>0.984825</td>\n",
       "      <td>135.839996</td>\n",
       "    </tr>\n",
       "    <tr>\n",
       "      <th>3</th>\n",
       "      <td>ADYEY</td>\n",
       "      <td>1.023462</td>\n",
       "      <td>0.981910</td>\n",
       "      <td>1.028770</td>\n",
       "      <td>0.967308</td>\n",
       "      <td>15.05</td>\n",
       "    </tr>\n",
       "    <tr>\n",
       "      <th>4</th>\n",
       "      <td>AMD</td>\n",
       "      <td>1.011559</td>\n",
       "      <td>0.992591</td>\n",
       "      <td>1.011102</td>\n",
       "      <td>0.991104</td>\n",
       "      <td>95.339996</td>\n",
       "    </tr>\n",
       "  </tbody>\n",
       "</table>\n",
       "</div>"
      ],
      "text/plain": [
       "   stock  buy_pt_up  sell_pt_up  buy_pt_down  sell_pt_down       price\n",
       "0   AAPL   1.006105    0.995687     1.009529      0.992864  157.279999\n",
       "1   ABMD   1.004002    0.997392     1.004653      0.996834  257.540009\n",
       "2   ABNB   1.006000    0.994581     1.011281      0.984825  135.839996\n",
       "3  ADYEY   1.023462    0.981910     1.028770      0.967308       15.05\n",
       "4    AMD   1.011559    0.992591     1.011102      0.991104   95.339996"
      ]
     },
     "execution_count": 30,
     "metadata": {},
     "output_type": "execute_result"
    }
   ],
   "source": [
    "df = df.merge(price, how='left', on='stock')\n",
    "df.head()"
   ]
  },
  {
   "cell_type": "code",
   "execution_count": 31,
   "id": "22bf6bff",
   "metadata": {},
   "outputs": [],
   "source": [
    "df.to_csv('mults.csv', index=False)\n",
    "!open ./mults.csv"
   ]
  },
  {
   "cell_type": "code",
   "execution_count": null,
   "id": "bf2de939",
   "metadata": {},
   "outputs": [],
   "source": []
  }
 ],
 "metadata": {
  "kernelspec": {
   "display_name": "Python 3 (ipykernel)",
   "language": "python",
   "name": "python3"
  },
  "language_info": {
   "codemirror_mode": {
    "name": "ipython",
    "version": 3
   },
   "file_extension": ".py",
   "mimetype": "text/x-python",
   "name": "python",
   "nbconvert_exporter": "python",
   "pygments_lexer": "ipython3",
   "version": "3.8.5"
  }
 },
 "nbformat": 4,
 "nbformat_minor": 5
}
