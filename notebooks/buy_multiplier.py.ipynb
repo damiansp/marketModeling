{
 "cells": [
  {
   "cell_type": "code",
   "execution_count": 1,
   "id": "51a9dcf3",
   "metadata": {},
   "outputs": [],
   "source": [
    "from datetime import datetime, timedelta\n",
    "\n",
    "import sys\n",
    "\n",
    "import matplotlib.pyplot as plt\n",
    "import numpy as np\n",
    "import pandas as pd\n",
    "\n",
    "sys.path.append('..')\n",
    "from util.stock_loader import Loader"
   ]
  },
  {
   "cell_type": "code",
   "execution_count": 2,
   "id": "e5c97a69",
   "metadata": {},
   "outputs": [
    {
     "data": {
      "text/plain": [
       "73"
      ]
     },
     "execution_count": 2,
     "metadata": {},
     "output_type": "execute_result"
    }
   ],
   "source": [
    "DATA = '../models/qp/data'\n",
    "SYMBOLS = [\n",
    "    'AAPL', 'ABMD', 'ABNB', 'ADBE', 'ADYEY', 'AMD', 'AMGN', 'AMZN',\n",
    "    'ANET', 'ASML', 'AXON', 'BROS', 'BYND', 'CHWY', 'CRWD', 'DDOG',\n",
    "    'DOCS', 'DOCU', 'DUOL', 'EDIT', 'ETSY', 'FLGT', 'GH', 'GMED',\n",
    "    'GOOG', 'IDXX', 'INTG', 'ISRG', 'JD', 'LRCX', 'LSPD', 'LULU', 'MDB',\n",
    "    'MELI', 'MNST', 'MSFT', 'MTCH', 'NVCR', 'NVDA', 'ODFL', 'OKTA',\n",
    "    'OPEN', 'PAC', 'PANW', 'PAYC', 'PINS', 'PYPL', 'QDEL', 'RBLX',\n",
    "    'RDFN', 'RGEN', 'RIVN', 'ROKU', 'RVLV', 'SE', 'SHOP', 'SNOW',\n",
    "    'TASK', 'TDOC', 'TEAM', 'TREX', 'TTD', 'TTWO', 'TWLO', 'TWTR',\n",
    "    'TYL', 'UPST', 'VEEV', 'VLD', 'VRTX', 'XPEV', 'ZEN', 'ZM']\n",
    "LINGERERS = [\n",
    "    'AMEH', 'AMRK', 'BYRN', 'CIZN', 'CTSH', 'CUBE', 'EP', 'EXR', 'FCPT', \n",
    "    'FCUV', 'GBOX', 'GME', 'INTZ', 'KREF', 'LFMD', 'MCVT', 'MNMD',\n",
    "    'OMQS', 'PETV', 'POWW', 'PRPH', 'RA', 'RVP', 'VIRT', 'WAVD', 'WKHS',\n",
    "    'ZYXI']\n",
    "BEST_WEIGHTED = [\n",
    "    'ABST', 'APT', 'BKT', 'CEF', 'CFFN', 'CZFS', 'FCAP', 'FCN', 'FNV',\n",
    "    'GCBC', 'HMY', 'IEI', 'MICS', 'MIY', 'MUJ', 'NAZ', 'NLY', 'NPV',\n",
    "    'NXP', 'SOBR']\n",
    "INDICES = ['^GSPC', # S&P 500\n",
    "           '^IXIC', # Nasdaq\n",
    "           '^NYA']  # NY Stock Exchange (total)\n",
    "len(SYMBOLS)"
   ]
  },
  {
   "cell_type": "code",
   "execution_count": 3,
   "id": "a79aa1f3",
   "metadata": {},
   "outputs": [
    {
     "data": {
      "text/plain": [
       "('2012-09-24', datetime.date(2022, 9, 24))"
      ]
     },
     "execution_count": 3,
     "metadata": {},
     "output_type": "execute_result"
    }
   ],
   "source": [
    "N_YEARS = 10 # 5\n",
    "N_DAYS = int(round(365.25 * N_YEARS))\n",
    "END = (datetime.now() + timedelta(1)).date()\n",
    "START = str(END - timedelta(N_DAYS))\n",
    "START, END"
   ]
  },
  {
   "cell_type": "code",
   "execution_count": 4,
   "id": "6fa75879",
   "metadata": {},
   "outputs": [
    {
     "name": "stdout",
     "output_type": "stream",
     "text": [
      "[*********************100%***********************]  123 of 123 completed\n",
      "Generating derived columns...\n",
      "AAPL... ABMD... ABNB... ABST... ADBE... ADYEY... AMD... AMEH... AMGN... AMRK... AMZN... ANET... APT... ASML... AXON... BKT... BROS... BYND... BYRN... CEF... CFFN... CHWY... CIZN... CRWD... CTSH... CUBE... CZFS... DDOG... DOCS... DOCU... DUOL... EDIT... EP... ETSY... EXR... FCAP... FCN... FCPT... FCUV... FLGT... FNV... GBOX... GCBC... GH... GME... GMED... GOOG... HMY... IDXX... IEI... INTG... INTZ... ISRG... JD... KREF... LFMD... LRCX... LSPD... LULU... MCVT... MDB... MELI... MICS... MIY... MNMD... MNST... MSFT... MTCH... MUJ... NAZ... NLY... NPV... NVCR... NVDA... NXP... ODFL... OKTA... OMQS... OPEN... PAC... PANW... PAYC... PETV... PINS... POWW... PRPH... PYPL... QDEL... RA... RBLX... RDFN... RGEN... RIVN... ROKU... RVLV... RVP... SE... SHOP... SNOW... SOBR... TASK... TDOC... TEAM... TREX... TTD... TTWO... TWLO... TWTR... TYL... UPST... VEEV... VIRT... VLD... VRTX... WAVD... WKHS... XPEV... ZEN... ZM... ZYXI... ^GSPC... ^IXIC... ^NYA... \n"
     ]
    }
   ],
   "source": [
    "batch = (\n",
    "    sorted(list(set(SYMBOLS + LINGERERS + BEST_WEIGHTED))) + INDICES) # run all\n",
    "stock_loader = Loader(batch, START, str(END), verbose=True)\n",
    "data = stock_loader.download().rename(columns={'Adj Close': 'AdjClose'})"
   ]
  },
  {
   "cell_type": "code",
   "execution_count": 5,
   "id": "435bfa6a",
   "metadata": {},
   "outputs": [
    {
     "data": {
      "text/plain": [
       "2512   2022-09-19\n",
       "2513   2022-09-20\n",
       "2514   2022-09-21\n",
       "2515   2022-09-22\n",
       "2516   2022-09-23\n",
       "Name: Date, dtype: datetime64[ns]"
      ]
     },
     "execution_count": 5,
     "metadata": {},
     "output_type": "execute_result"
    }
   ],
   "source": [
    "data['Date'].tail()"
   ]
  },
  {
   "cell_type": "code",
   "execution_count": 6,
   "id": "cad01219",
   "metadata": {},
   "outputs": [
    {
     "data": {
      "text/plain": [
       "1       0.989498\n",
       "2       0.994263\n",
       "3       1.009649\n",
       "4       0.995522\n",
       "5       1.002652\n",
       "          ...   \n",
       "2512    1.006857\n",
       "2513    0.988728\n",
       "2514    0.982884\n",
       "2515    0.991572\n",
       "2516    0.982767\n",
       "Name: ^GSPC, Length: 2516, dtype: float64"
      ]
     },
     "execution_count": 6,
     "metadata": {},
     "output_type": "execute_result"
    }
   ],
   "source": [
    "spx = data['DayToDayChange']['^GSPC']\n",
    "spx = spx[1:]\n",
    "#spx = spx / spx[1]\n",
    "spx"
   ]
  },
  {
   "cell_type": "code",
   "execution_count": 7,
   "id": "e47707d7",
   "metadata": {},
   "outputs": [
    {
     "data": {
      "text/html": [
       "<div>\n",
       "<style scoped>\n",
       "    .dataframe tbody tr th:only-of-type {\n",
       "        vertical-align: middle;\n",
       "    }\n",
       "\n",
       "    .dataframe tbody tr th {\n",
       "        vertical-align: top;\n",
       "    }\n",
       "\n",
       "    .dataframe thead th {\n",
       "        text-align: right;\n",
       "    }\n",
       "</style>\n",
       "<table border=\"1\" class=\"dataframe\">\n",
       "  <thead>\n",
       "    <tr style=\"text-align: right;\">\n",
       "      <th></th>\n",
       "      <th>0.75</th>\n",
       "    </tr>\n",
       "  </thead>\n",
       "  <tbody>\n",
       "    <tr>\n",
       "      <th>1</th>\n",
       "      <td>1.000365</td>\n",
       "    </tr>\n",
       "    <tr>\n",
       "      <th>2</th>\n",
       "      <td>1.002551</td>\n",
       "    </tr>\n",
       "    <tr>\n",
       "      <th>3</th>\n",
       "      <td>1.013883</td>\n",
       "    </tr>\n",
       "    <tr>\n",
       "      <th>4</th>\n",
       "      <td>1.004385</td>\n",
       "    </tr>\n",
       "    <tr>\n",
       "      <th>5</th>\n",
       "      <td>1.009793</td>\n",
       "    </tr>\n",
       "    <tr>\n",
       "      <th>...</th>\n",
       "      <td>...</td>\n",
       "    </tr>\n",
       "    <tr>\n",
       "      <th>2512</th>\n",
       "      <td>1.011979</td>\n",
       "    </tr>\n",
       "    <tr>\n",
       "      <th>2513</th>\n",
       "      <td>0.997574</td>\n",
       "    </tr>\n",
       "    <tr>\n",
       "      <th>2514</th>\n",
       "      <td>1.000680</td>\n",
       "    </tr>\n",
       "    <tr>\n",
       "      <th>2515</th>\n",
       "      <td>0.991096</td>\n",
       "    </tr>\n",
       "    <tr>\n",
       "      <th>2516</th>\n",
       "      <td>0.997630</td>\n",
       "    </tr>\n",
       "  </tbody>\n",
       "</table>\n",
       "<p>2516 rows × 1 columns</p>\n",
       "</div>"
      ],
      "text/plain": [
       "          0.75\n",
       "1     1.000365\n",
       "2     1.002551\n",
       "3     1.013883\n",
       "4     1.004385\n",
       "5     1.009793\n",
       "...        ...\n",
       "2512  1.011979\n",
       "2513  0.997574\n",
       "2514  1.000680\n",
       "2515  0.991096\n",
       "2516  0.997630\n",
       "\n",
       "[2516 rows x 1 columns]"
      ]
     },
     "execution_count": 7,
     "metadata": {},
     "output_type": "execute_result"
    }
   ],
   "source": [
    "data['DayToDayChange'].quantile(q=[0.75], axis=1).T[1:]"
   ]
  },
  {
   "cell_type": "code",
   "execution_count": 8,
   "id": "b41cb446",
   "metadata": {},
   "outputs": [
    {
     "data": {
      "image/png": "[encoded data removed]",
      "text/plain": [
       "<Figure size 864x576 with 1 Axes>"
      ]
     },
     "metadata": {
      "needs_background": "light"
     },
     "output_type": "display_data"
    }
   ],
   "source": [
    "plt.figure(figsize=[12, 8])\n",
    "plt.plot(\n",
    "    data['DayToDayChange'].mean(axis=1)[1:].cumprod(), \n",
    "    label='These Avg Daily')\n",
    "plt.plot(\n",
    "    data['DayToDayChange'].cumprod().mean(axis=1),\n",
    "    label='These Avg Cumul')\n",
    "plt.plot(spx.cumprod(), label='spx')\n",
    "plt.yscale('log')\n",
    "plt.legend();\n",
    "\n",
    "n = len(spx)\n",
    "one_year = n - 250\n",
    "plt.axvline(x=one_year, color='k');"
   ]
  },
  {
   "cell_type": "code",
   "execution_count": 9,
   "id": "952c7165",
   "metadata": {},
   "outputs": [
    {
     "data": {
      "text/html": [
       "<div>\n",
       "<style scoped>\n",
       "    .dataframe tbody tr th:only-of-type {\n",
       "        vertical-align: middle;\n",
       "    }\n",
       "\n",
       "    .dataframe tbody tr th {\n",
       "        vertical-align: top;\n",
       "    }\n",
       "\n",
       "    .dataframe thead th {\n",
       "        text-align: right;\n",
       "    }\n",
       "</style>\n",
       "<table border=\"1\" class=\"dataframe\">\n",
       "  <thead>\n",
       "    <tr style=\"text-align: right;\">\n",
       "      <th></th>\n",
       "      <th>Date</th>\n",
       "      <th>mine1</th>\n",
       "      <th>mine2</th>\n",
       "    </tr>\n",
       "  </thead>\n",
       "  <tbody>\n",
       "    <tr>\n",
       "      <th>0</th>\n",
       "      <td>2012-09-24</td>\n",
       "      <td>NaN</td>\n",
       "      <td>NaN</td>\n",
       "    </tr>\n",
       "    <tr>\n",
       "      <th>1</th>\n",
       "      <td>2012-09-25</td>\n",
       "      <td>0.997132</td>\n",
       "      <td>0.997132</td>\n",
       "    </tr>\n",
       "    <tr>\n",
       "      <th>2</th>\n",
       "      <td>2012-09-26</td>\n",
       "      <td>0.986774</td>\n",
       "      <td>0.986732</td>\n",
       "    </tr>\n",
       "    <tr>\n",
       "      <th>3</th>\n",
       "      <td>2012-09-27</td>\n",
       "      <td>1.001987</td>\n",
       "      <td>1.001657</td>\n",
       "    </tr>\n",
       "    <tr>\n",
       "      <th>4</th>\n",
       "      <td>2012-09-28</td>\n",
       "      <td>0.996502</td>\n",
       "      <td>0.991753</td>\n",
       "    </tr>\n",
       "  </tbody>\n",
       "</table>\n",
       "</div>"
      ],
      "text/plain": [
       "        Date     mine1     mine2\n",
       "0 2012-09-24       NaN       NaN\n",
       "1 2012-09-25  0.997132  0.997132\n",
       "2 2012-09-26  0.986774  0.986732\n",
       "3 2012-09-27  1.001987  1.001657\n",
       "4 2012-09-28  0.996502  0.991753"
      ]
     },
     "execution_count": 9,
     "metadata": {},
     "output_type": "execute_result"
    }
   ],
   "source": [
    "out = pd.DataFrame(data.Date)\n",
    "out['mine1'] = data['DayToDayChange'].mean(axis=1)[1:].cumprod()\n",
    "out['mine2'] = data['DayToDayChange'].cumprod().mean(axis=1)\n",
    "out.head()"
   ]
  },
  {
   "cell_type": "code",
   "execution_count": 10,
   "id": "b5efbe76",
   "metadata": {},
   "outputs": [
    {
     "data": {
      "text/html": [
       "<div>\n",
       "<style scoped>\n",
       "    .dataframe tbody tr th:only-of-type {\n",
       "        vertical-align: middle;\n",
       "    }\n",
       "\n",
       "    .dataframe tbody tr th {\n",
       "        vertical-align: top;\n",
       "    }\n",
       "\n",
       "    .dataframe thead th {\n",
       "        text-align: right;\n",
       "    }\n",
       "</style>\n",
       "<table border=\"1\" class=\"dataframe\">\n",
       "  <thead>\n",
       "    <tr style=\"text-align: right;\">\n",
       "      <th></th>\n",
       "      <th>Date</th>\n",
       "      <th>mine1</th>\n",
       "      <th>mine2</th>\n",
       "    </tr>\n",
       "  </thead>\n",
       "  <tbody>\n",
       "    <tr>\n",
       "      <th>2512</th>\n",
       "      <td>2022-09-19</td>\n",
       "      <td>313.308620</td>\n",
       "      <td>5.657920</td>\n",
       "    </tr>\n",
       "    <tr>\n",
       "      <th>2513</th>\n",
       "      <td>2022-09-20</td>\n",
       "      <td>313.103937</td>\n",
       "      <td>5.557941</td>\n",
       "    </tr>\n",
       "    <tr>\n",
       "      <th>2514</th>\n",
       "      <td>2022-09-21</td>\n",
       "      <td>309.166168</td>\n",
       "      <td>5.506089</td>\n",
       "    </tr>\n",
       "    <tr>\n",
       "      <th>2515</th>\n",
       "      <td>2022-09-22</td>\n",
       "      <td>300.253849</td>\n",
       "      <td>5.321112</td>\n",
       "    </tr>\n",
       "    <tr>\n",
       "      <th>2516</th>\n",
       "      <td>2022-09-23</td>\n",
       "      <td>295.441703</td>\n",
       "      <td>5.238853</td>\n",
       "    </tr>\n",
       "  </tbody>\n",
       "</table>\n",
       "</div>"
      ],
      "text/plain": [
       "           Date       mine1     mine2\n",
       "2512 2022-09-19  313.308620  5.657920\n",
       "2513 2022-09-20  313.103937  5.557941\n",
       "2514 2022-09-21  309.166168  5.506089\n",
       "2515 2022-09-22  300.253849  5.321112\n",
       "2516 2022-09-23  295.441703  5.238853"
      ]
     },
     "execution_count": 10,
     "metadata": {},
     "output_type": "execute_result"
    }
   ],
   "source": [
    "out.tail()"
   ]
  },
  {
   "cell_type": "code",
   "execution_count": 11,
   "id": "5ca71b85",
   "metadata": {},
   "outputs": [
    {
     "name": "stdout",
     "output_type": "stream",
     "text": [
      "all_symbols.pkl             nasdaq_sharpes_by_state.csv\r\n",
      "dev_quantiles.csv           nya1965.csv\r\n",
      "historic.csv                \u001b[34mpct_params\u001b[m\u001b[m\r\n",
      "hmm_exp_returns.csv         scoring.csv\r\n",
      "mine.csv                    sharpes_by_state.csv\r\n",
      "myHistoric.RData            sp1950.csv\r\n",
      "myHistoricTest.RData        wilshire1990.csv\r\n",
      "nasdaq1965.csv\r\n"
     ]
    }
   ],
   "source": [
    "!ls ../data"
   ]
  },
  {
   "cell_type": "code",
   "execution_count": 12,
   "id": "0f2f152e",
   "metadata": {},
   "outputs": [],
   "source": [
    "out.iloc[1:, :].to_csv('../data/mine.csv', index=False)"
   ]
  },
  {
   "cell_type": "code",
   "execution_count": 13,
   "id": "c74422bb",
   "metadata": {},
   "outputs": [
    {
     "data": {
      "image/png": "[encoded data removed]",
      "text/plain": [
       "<Figure size 864x576 with 1 Axes>"
      ]
     },
     "metadata": {
      "needs_background": "light"
     },
     "output_type": "display_data"
    }
   ],
   "source": [
    "plt.figure(figsize=[12, 8])\n",
    "a = data['DayToDayChange'].mean(axis=1)[1:].cumprod()\n",
    "n = len(a)\n",
    "start = n - 250\n",
    "a = a / a[start]\n",
    "b = data['DayToDayChange'].cumprod().mean(axis=1)\n",
    "b = b / b[start]\n",
    "s = spx.cumprod()\n",
    "s = s / s[start]\n",
    "plt.plot(a, label='These Avg Daily')\n",
    "plt.plot(b, label='These Avg Cumul')\n",
    "plt.plot(s, label='spx')\n",
    "#plt.yscale('log')\n",
    "plt.xlim([one_year, n + 10])\n",
    "plt.ylim(0.4, 1.5)\n",
    "plt.legend();"
   ]
  },
  {
   "cell_type": "code",
   "execution_count": 14,
   "id": "d7aca03a",
   "metadata": {},
   "outputs": [],
   "source": [
    "def get_stock_data(stock, data, n_days=60):\n",
    "    sub = data.loc[\n",
    "        :,  \n",
    "        [x for x in list(data) if x[1] == stock]]\n",
    "    first_value = (sub.Value[stock][sub.Value[stock].notna()]\n",
    "                   .index[0])\n",
    "    sub = sub.loc[first_value:, :]\n",
    "    sub.columns = sub.columns.to_series().apply(lambda x: x[0])\n",
    "    sub.fillna(method='ffill', inplace=True)\n",
    "    if len(sub) > n_days:\n",
    "        sub = sub.iloc[-n_days:, :]\n",
    "    return sub"
   ]
  },
  {
   "cell_type": "code",
   "execution_count": 15,
   "id": "af0c46be",
   "metadata": {},
   "outputs": [
    {
     "data": {
      "text/html": [
       "<div>\n",
       "<style scoped>\n",
       "    .dataframe tbody tr th:only-of-type {\n",
       "        vertical-align: middle;\n",
       "    }\n",
       "\n",
       "    .dataframe tbody tr th {\n",
       "        vertical-align: top;\n",
       "    }\n",
       "\n",
       "    .dataframe thead th {\n",
       "        text-align: right;\n",
       "    }\n",
       "</style>\n",
       "<table border=\"1\" class=\"dataframe\">\n",
       "  <thead>\n",
       "    <tr style=\"text-align: right;\">\n",
       "      <th></th>\n",
       "      <th>Value</th>\n",
       "      <th>Close</th>\n",
       "      <th>High</th>\n",
       "      <th>Low</th>\n",
       "      <th>Open</th>\n",
       "      <th>LogValue</th>\n",
       "      <th>IntradayChange</th>\n",
       "      <th>DayToDayChange</th>\n",
       "      <th>OvernightChange</th>\n",
       "    </tr>\n",
       "  </thead>\n",
       "  <tbody>\n",
       "    <tr>\n",
       "      <th>2457</th>\n",
       "      <td>66.860001</td>\n",
       "      <td>66.860001</td>\n",
       "      <td>68.279999</td>\n",
       "      <td>65.209999</td>\n",
       "      <td>68.279999</td>\n",
       "      <td>4.202601</td>\n",
       "      <td>0.979203</td>\n",
       "      <td>0.970392</td>\n",
       "      <td>0.991001</td>\n",
       "    </tr>\n",
       "    <tr>\n",
       "      <th>2458</th>\n",
       "      <td>69.059998</td>\n",
       "      <td>69.059998</td>\n",
       "      <td>70.779999</td>\n",
       "      <td>66.320000</td>\n",
       "      <td>66.610001</td>\n",
       "      <td>4.234976</td>\n",
       "      <td>1.036781</td>\n",
       "      <td>1.032905</td>\n",
       "      <td>0.996261</td>\n",
       "    </tr>\n",
       "    <tr>\n",
       "      <th>2459</th>\n",
       "      <td>75.339996</td>\n",
       "      <td>75.339996</td>\n",
       "      <td>76.250000</td>\n",
       "      <td>66.190002</td>\n",
       "      <td>67.565002</td>\n",
       "      <td>4.322011</td>\n",
       "      <td>1.115074</td>\n",
       "      <td>1.090935</td>\n",
       "      <td>0.978352</td>\n",
       "    </tr>\n",
       "    <tr>\n",
       "      <th>2460</th>\n",
       "      <td>73.730003</td>\n",
       "      <td>73.730003</td>\n",
       "      <td>75.790001</td>\n",
       "      <td>71.669998</td>\n",
       "      <td>74.269997</td>\n",
       "      <td>4.300410</td>\n",
       "      <td>0.992729</td>\n",
       "      <td>0.978630</td>\n",
       "      <td>0.985798</td>\n",
       "    </tr>\n",
       "    <tr>\n",
       "      <th>2461</th>\n",
       "      <td>76.500000</td>\n",
       "      <td>76.500000</td>\n",
       "      <td>77.309998</td>\n",
       "      <td>73.900002</td>\n",
       "      <td>75.000000</td>\n",
       "      <td>4.337291</td>\n",
       "      <td>1.020000</td>\n",
       "      <td>1.037569</td>\n",
       "      <td>1.017225</td>\n",
       "    </tr>\n",
       "  </tbody>\n",
       "</table>\n",
       "</div>"
      ],
      "text/plain": [
       "          Value      Close       High        Low       Open  LogValue  \\\n",
       "2457  66.860001  66.860001  68.279999  65.209999  68.279999  4.202601   \n",
       "2458  69.059998  69.059998  70.779999  66.320000  66.610001  4.234976   \n",
       "2459  75.339996  75.339996  76.250000  66.190002  67.565002  4.322011   \n",
       "2460  73.730003  73.730003  75.790001  71.669998  74.269997  4.300410   \n",
       "2461  76.500000  76.500000  77.309998  73.900002  75.000000  4.337291   \n",
       "\n",
       "      IntradayChange  DayToDayChange  OvernightChange  \n",
       "2457        0.979203        0.970392         0.991001  \n",
       "2458        1.036781        1.032905         0.996261  \n",
       "2459        1.115074        1.090935         0.978352  \n",
       "2460        0.992729        0.978630         0.985798  \n",
       "2461        1.020000        1.037569         1.017225  "
      ]
     },
     "execution_count": 15,
     "metadata": {},
     "output_type": "execute_result"
    }
   ],
   "source": [
    "rblx = get_stock_data('SE', data)\n",
    "rblx.head()"
   ]
  },
  {
   "cell_type": "code",
   "execution_count": 16,
   "id": "cf057d19",
   "metadata": {},
   "outputs": [
    {
     "data": {
      "text/html": [
       "<div>\n",
       "<style scoped>\n",
       "    .dataframe tbody tr th:only-of-type {\n",
       "        vertical-align: middle;\n",
       "    }\n",
       "\n",
       "    .dataframe tbody tr th {\n",
       "        vertical-align: top;\n",
       "    }\n",
       "\n",
       "    .dataframe thead th {\n",
       "        text-align: right;\n",
       "    }\n",
       "</style>\n",
       "<table border=\"1\" class=\"dataframe\">\n",
       "  <thead>\n",
       "    <tr style=\"text-align: right;\">\n",
       "      <th></th>\n",
       "      <th>Value</th>\n",
       "      <th>Close</th>\n",
       "      <th>High</th>\n",
       "      <th>Low</th>\n",
       "    </tr>\n",
       "  </thead>\n",
       "  <tbody>\n",
       "    <tr>\n",
       "      <th>2457</th>\n",
       "      <td>66.860001</td>\n",
       "      <td>66.860001</td>\n",
       "      <td>68.279999</td>\n",
       "      <td>65.209999</td>\n",
       "    </tr>\n",
       "    <tr>\n",
       "      <th>2458</th>\n",
       "      <td>69.059998</td>\n",
       "      <td>69.059998</td>\n",
       "      <td>70.779999</td>\n",
       "      <td>66.320000</td>\n",
       "    </tr>\n",
       "    <tr>\n",
       "      <th>2459</th>\n",
       "      <td>75.339996</td>\n",
       "      <td>75.339996</td>\n",
       "      <td>76.250000</td>\n",
       "      <td>66.190002</td>\n",
       "    </tr>\n",
       "    <tr>\n",
       "      <th>2460</th>\n",
       "      <td>73.730003</td>\n",
       "      <td>73.730003</td>\n",
       "      <td>75.790001</td>\n",
       "      <td>71.669998</td>\n",
       "    </tr>\n",
       "    <tr>\n",
       "      <th>2461</th>\n",
       "      <td>76.500000</td>\n",
       "      <td>76.500000</td>\n",
       "      <td>77.309998</td>\n",
       "      <td>73.900002</td>\n",
       "    </tr>\n",
       "  </tbody>\n",
       "</table>\n",
       "</div>"
      ],
      "text/plain": [
       "          Value      Close       High        Low\n",
       "2457  66.860001  66.860001  68.279999  65.209999\n",
       "2458  69.059998  69.059998  70.779999  66.320000\n",
       "2459  75.339996  75.339996  76.250000  66.190002\n",
       "2460  73.730003  73.730003  75.790001  71.669998\n",
       "2461  76.500000  76.500000  77.309998  73.900002"
      ]
     },
     "execution_count": 16,
     "metadata": {},
     "output_type": "execute_result"
    }
   ],
   "source": [
    "rblx = rblx[['Value', 'Close', 'High', 'Low']]\n",
    "rblx.head()"
   ]
  },
  {
   "cell_type": "code",
   "execution_count": 17,
   "id": "ecd6ae06",
   "metadata": {},
   "outputs": [
    {
     "data": {
      "text/html": [
       "<div>\n",
       "<style scoped>\n",
       "    .dataframe tbody tr th:only-of-type {\n",
       "        vertical-align: middle;\n",
       "    }\n",
       "\n",
       "    .dataframe tbody tr th {\n",
       "        vertical-align: top;\n",
       "    }\n",
       "\n",
       "    .dataframe thead th {\n",
       "        text-align: right;\n",
       "    }\n",
       "</style>\n",
       "<table border=\"1\" class=\"dataframe\">\n",
       "  <thead>\n",
       "    <tr style=\"text-align: right;\">\n",
       "      <th></th>\n",
       "      <th>Value</th>\n",
       "      <th>Close</th>\n",
       "      <th>High</th>\n",
       "      <th>Low</th>\n",
       "      <th>NextHigh</th>\n",
       "      <th>NextLow</th>\n",
       "      <th>HighMult</th>\n",
       "      <th>LowMult</th>\n",
       "    </tr>\n",
       "  </thead>\n",
       "  <tbody>\n",
       "    <tr>\n",
       "      <th>2457</th>\n",
       "      <td>66.860001</td>\n",
       "      <td>66.860001</td>\n",
       "      <td>68.279999</td>\n",
       "      <td>65.209999</td>\n",
       "      <td>70.779999</td>\n",
       "      <td>66.320000</td>\n",
       "      <td>1.058630</td>\n",
       "      <td>0.991923</td>\n",
       "    </tr>\n",
       "    <tr>\n",
       "      <th>2458</th>\n",
       "      <td>69.059998</td>\n",
       "      <td>69.059998</td>\n",
       "      <td>70.779999</td>\n",
       "      <td>66.320000</td>\n",
       "      <td>76.250000</td>\n",
       "      <td>66.190002</td>\n",
       "      <td>1.104112</td>\n",
       "      <td>0.958442</td>\n",
       "    </tr>\n",
       "    <tr>\n",
       "      <th>2459</th>\n",
       "      <td>75.339996</td>\n",
       "      <td>75.339996</td>\n",
       "      <td>76.250000</td>\n",
       "      <td>66.190002</td>\n",
       "      <td>75.790001</td>\n",
       "      <td>71.669998</td>\n",
       "      <td>1.005973</td>\n",
       "      <td>0.951288</td>\n",
       "    </tr>\n",
       "    <tr>\n",
       "      <th>2460</th>\n",
       "      <td>73.730003</td>\n",
       "      <td>73.730003</td>\n",
       "      <td>75.790001</td>\n",
       "      <td>71.669998</td>\n",
       "      <td>77.309998</td>\n",
       "      <td>73.900002</td>\n",
       "      <td>1.048555</td>\n",
       "      <td>1.002306</td>\n",
       "    </tr>\n",
       "    <tr>\n",
       "      <th>2461</th>\n",
       "      <td>76.500000</td>\n",
       "      <td>76.500000</td>\n",
       "      <td>77.309998</td>\n",
       "      <td>73.900002</td>\n",
       "      <td>79.540001</td>\n",
       "      <td>74.500000</td>\n",
       "      <td>1.039739</td>\n",
       "      <td>0.973856</td>\n",
       "    </tr>\n",
       "  </tbody>\n",
       "</table>\n",
       "</div>"
      ],
      "text/plain": [
       "          Value      Close       High        Low   NextHigh    NextLow  \\\n",
       "2457  66.860001  66.860001  68.279999  65.209999  70.779999  66.320000   \n",
       "2458  69.059998  69.059998  70.779999  66.320000  76.250000  66.190002   \n",
       "2459  75.339996  75.339996  76.250000  66.190002  75.790001  71.669998   \n",
       "2460  73.730003  73.730003  75.790001  71.669998  77.309998  73.900002   \n",
       "2461  76.500000  76.500000  77.309998  73.900002  79.540001  74.500000   \n",
       "\n",
       "      HighMult   LowMult  \n",
       "2457  1.058630  0.991923  \n",
       "2458  1.104112  0.958442  \n",
       "2459  1.005973  0.951288  \n",
       "2460  1.048555  1.002306  \n",
       "2461  1.039739  0.973856  "
      ]
     },
     "execution_count": 17,
     "metadata": {},
     "output_type": "execute_result"
    }
   ],
   "source": [
    "rblx['NextHigh'] = rblx.High.shift(-1)\n",
    "rblx['NextLow'] = rblx.Low.shift(-1)\n",
    "rblx['HighMult'] = rblx.NextHigh / rblx.Close\n",
    "rblx['LowMult'] = rblx.NextLow / rblx.Close\n",
    "rblx.head()"
   ]
  },
  {
   "cell_type": "code",
   "execution_count": 18,
   "id": "45515f54",
   "metadata": {},
   "outputs": [
    {
     "name": "stdout",
     "output_type": "stream",
     "text": [
      "0.05    0.972511\n",
      "Name: HighMult, dtype: float64\n"
     ]
    },
    {
     "data": {
      "image/png": "[encoded data removed]",
      "text/plain": [
       "<Figure size 432x288 with 1 Axes>"
      ]
     },
     "metadata": {
      "needs_background": "light"
     },
     "output_type": "display_data"
    }
   ],
   "source": [
    "# For selling:\n",
    "high_05 = rblx.HighMult.quantile(q=[0.05])\n",
    "print(high_05)\n",
    "plt.hist(rblx.HighMult)\n",
    "plt.axvline(x=high_05[0.05], color='red');"
   ]
  },
  {
   "cell_type": "code",
   "execution_count": 19,
   "id": "516dfb66",
   "metadata": {},
   "outputs": [
    {
     "name": "stdout",
     "output_type": "stream",
     "text": [
      "1.015697371611524\n"
     ]
    },
    {
     "data": {
      "image/png": "[encoded data removed]",
      "text/plain": [
       "<Figure size 432x288 with 1 Axes>"
      ]
     },
     "metadata": {
      "needs_background": "light"
     },
     "output_type": "display_data"
    }
   ],
   "source": [
    "# For buying:\n",
    "low_95 = rblx.LowMult.quantile(q=[0.95])\n",
    "print(low_95.tolist()[0])\n",
    "plt.hist(rblx.LowMult)\n",
    "plt.axvline(x=low_95[0.95], color='red');"
   ]
  },
  {
   "cell_type": "code",
   "execution_count": 20,
   "id": "ed504c6f",
   "metadata": {},
   "outputs": [],
   "source": [
    "def get_hilo_mult(stock, ci=0.95):\n",
    "    stock['NextHigh'] = stock.High.shift(-1)\n",
    "    stock['NextLow'] = stock.Low.shift(-1)\n",
    "    stock['HighMult'] = stock.NextHigh / stock.Close\n",
    "    stock['LowMult'] = stock.NextLow / stock.Close\n",
    "    sell_pt = stock.HighMult.quantile(q=[1 - ci]).tolist()[0]\n",
    "    buy_pt = stock.LowMult.quantile(q=[ci]).tolist()[0]\n",
    "    return buy_pt, sell_pt"
   ]
  },
  {
   "cell_type": "code",
   "execution_count": 21,
   "id": "8eb58a9f",
   "metadata": {},
   "outputs": [
    {
     "data": {
      "text/plain": [
       "(1.015697371611524, 0.9725107768702285)"
      ]
     },
     "execution_count": 21,
     "metadata": {},
     "output_type": "execute_result"
    }
   ],
   "source": [
    "get_hilo_mult(rblx)"
   ]
  },
  {
   "cell_type": "code",
   "execution_count": 22,
   "id": "be666a16",
   "metadata": {},
   "outputs": [
    {
     "data": {
      "text/plain": [
       "(1.0060613400209928, 0.993143775570025)"
      ]
     },
     "execution_count": 22,
     "metadata": {},
     "output_type": "execute_result"
    }
   ],
   "source": [
    "aapl = get_stock_data('AAPL', data)\n",
    "get_hilo_mult(aapl)"
   ]
  },
  {
   "cell_type": "code",
   "execution_count": 23,
   "id": "55370ffc",
   "metadata": {},
   "outputs": [],
   "source": [
    "def get_macd(stock_data, fast=60, slow=90, signal=80):\n",
    "    df = stock_data.copy()\n",
    "    exp1 = df.Value.ewm(span=fast, adjust=False).mean()\n",
    "    exp2 = df.Value.ewm(span=slow, adjust=False).mean()\n",
    "    macd = exp1 - exp2\n",
    "    exp3 = macd.ewm(span=signal, adjust=False).mean()\n",
    "    histo = macd - exp3\n",
    "    hdiff = histo.diff(1)\n",
    "    is_rising = 1 * (hdiff > 0)\n",
    "    return is_rising"
   ]
  },
  {
   "cell_type": "code",
   "execution_count": 24,
   "id": "c13b86b8",
   "metadata": {},
   "outputs": [
    {
     "data": {
      "text/html": [
       "<div>\n",
       "<style scoped>\n",
       "    .dataframe tbody tr th:only-of-type {\n",
       "        vertical-align: middle;\n",
       "    }\n",
       "\n",
       "    .dataframe tbody tr th {\n",
       "        vertical-align: top;\n",
       "    }\n",
       "\n",
       "    .dataframe thead th {\n",
       "        text-align: right;\n",
       "    }\n",
       "</style>\n",
       "<table border=\"1\" class=\"dataframe\">\n",
       "  <thead>\n",
       "    <tr style=\"text-align: right;\">\n",
       "      <th></th>\n",
       "      <th>Value</th>\n",
       "      <th>Close</th>\n",
       "      <th>High</th>\n",
       "      <th>Low</th>\n",
       "      <th>NextHigh</th>\n",
       "      <th>NextLow</th>\n",
       "      <th>HighMult</th>\n",
       "      <th>LowMult</th>\n",
       "      <th>Trend</th>\n",
       "    </tr>\n",
       "  </thead>\n",
       "  <tbody>\n",
       "    <tr>\n",
       "      <th>2457</th>\n",
       "      <td>66.860001</td>\n",
       "      <td>66.860001</td>\n",
       "      <td>68.279999</td>\n",
       "      <td>65.209999</td>\n",
       "      <td>70.779999</td>\n",
       "      <td>66.320000</td>\n",
       "      <td>1.058630</td>\n",
       "      <td>0.991923</td>\n",
       "      <td>0</td>\n",
       "    </tr>\n",
       "    <tr>\n",
       "      <th>2458</th>\n",
       "      <td>69.059998</td>\n",
       "      <td>69.059998</td>\n",
       "      <td>70.779999</td>\n",
       "      <td>66.320000</td>\n",
       "      <td>76.250000</td>\n",
       "      <td>66.190002</td>\n",
       "      <td>1.104112</td>\n",
       "      <td>0.958442</td>\n",
       "      <td>1</td>\n",
       "    </tr>\n",
       "    <tr>\n",
       "      <th>2459</th>\n",
       "      <td>75.339996</td>\n",
       "      <td>75.339996</td>\n",
       "      <td>76.250000</td>\n",
       "      <td>66.190002</td>\n",
       "      <td>75.790001</td>\n",
       "      <td>71.669998</td>\n",
       "      <td>1.005973</td>\n",
       "      <td>0.951288</td>\n",
       "      <td>1</td>\n",
       "    </tr>\n",
       "    <tr>\n",
       "      <th>2460</th>\n",
       "      <td>73.730003</td>\n",
       "      <td>73.730003</td>\n",
       "      <td>75.790001</td>\n",
       "      <td>71.669998</td>\n",
       "      <td>77.309998</td>\n",
       "      <td>73.900002</td>\n",
       "      <td>1.048555</td>\n",
       "      <td>1.002306</td>\n",
       "      <td>1</td>\n",
       "    </tr>\n",
       "    <tr>\n",
       "      <th>2461</th>\n",
       "      <td>76.500000</td>\n",
       "      <td>76.500000</td>\n",
       "      <td>77.309998</td>\n",
       "      <td>73.900002</td>\n",
       "      <td>79.540001</td>\n",
       "      <td>74.500000</td>\n",
       "      <td>1.039739</td>\n",
       "      <td>0.973856</td>\n",
       "      <td>1</td>\n",
       "    </tr>\n",
       "  </tbody>\n",
       "</table>\n",
       "</div>"
      ],
      "text/plain": [
       "          Value      Close       High        Low   NextHigh    NextLow  \\\n",
       "2457  66.860001  66.860001  68.279999  65.209999  70.779999  66.320000   \n",
       "2458  69.059998  69.059998  70.779999  66.320000  76.250000  66.190002   \n",
       "2459  75.339996  75.339996  76.250000  66.190002  75.790001  71.669998   \n",
       "2460  73.730003  73.730003  75.790001  71.669998  77.309998  73.900002   \n",
       "2461  76.500000  76.500000  77.309998  73.900002  79.540001  74.500000   \n",
       "\n",
       "      HighMult   LowMult  Trend  \n",
       "2457  1.058630  0.991923      0  \n",
       "2458  1.104112  0.958442      1  \n",
       "2459  1.005973  0.951288      1  \n",
       "2460  1.048555  1.002306      1  \n",
       "2461  1.039739  0.973856      1  "
      ]
     },
     "execution_count": 24,
     "metadata": {},
     "output_type": "execute_result"
    }
   ],
   "source": [
    "rblx['Trend'] = get_macd(rblx)\n",
    "rblx.head()"
   ]
  },
  {
   "cell_type": "code",
   "execution_count": 25,
   "id": "686f9ee4",
   "metadata": {},
   "outputs": [],
   "source": [
    "def get_hilo_mults(stock, ci=0.95):\n",
    "    stock['Trend'] = get_macd(stock)\n",
    "    stock['NextHigh'] = stock.High.shift(-1)\n",
    "    stock['NextLow'] = stock.Low.shift(-1)\n",
    "    stock['HighMult'] = stock.NextHigh / stock.Close\n",
    "    stock['LowMult'] = stock.NextLow / stock.Close\n",
    "    upward = stock[stock.Trend == 1]\n",
    "    downward = stock[stock.Trend == 0]\n",
    "    sell_pt_up = upward.HighMult.quantile(q=[1 - ci]).tolist()[0]\n",
    "    buy_pt_up = upward.LowMult.quantile(q=[ci]).tolist()[0]\n",
    "    sell_pt_down = downward.HighMult.quantile(q=[1 - ci]).tolist()[0]\n",
    "    buy_pt_down = downward.LowMult.quantile(q=[ci]).tolist()[0]\n",
    "    return buy_pt_up, sell_pt_up, buy_pt_down, sell_pt_down"
   ]
  },
  {
   "cell_type": "code",
   "execution_count": 26,
   "id": "c1661954",
   "metadata": {},
   "outputs": [
    {
     "data": {
      "text/plain": [
       "(1.0104661326490205,\n",
       " 0.9817230380628447,\n",
       " 1.0184241011264155,\n",
       " 0.9714539656511285)"
      ]
     },
     "execution_count": 26,
     "metadata": {},
     "output_type": "execute_result"
    }
   ],
   "source": [
    "get_hilo_mults(rblx)"
   ]
  },
  {
   "cell_type": "code",
   "execution_count": 27,
   "id": "8577104e",
   "metadata": {},
   "outputs": [
    {
     "data": {
      "text/plain": [
       "(1.0073823300676958, 0.9975359499157594, 1.0044421058449373, 0.99192828679088)"
      ]
     },
     "execution_count": 27,
     "metadata": {},
     "output_type": "execute_result"
    }
   ],
   "source": [
    "get_hilo_mults(aapl)"
   ]
  },
  {
   "cell_type": "code",
   "execution_count": 28,
   "id": "a5355f5b",
   "metadata": {},
   "outputs": [
    {
     "data": {
      "text/html": [
       "<div>\n",
       "<style scoped>\n",
       "    .dataframe tbody tr th:only-of-type {\n",
       "        vertical-align: middle;\n",
       "    }\n",
       "\n",
       "    .dataframe tbody tr th {\n",
       "        vertical-align: top;\n",
       "    }\n",
       "\n",
       "    .dataframe thead th {\n",
       "        text-align: right;\n",
       "    }\n",
       "</style>\n",
       "<table border=\"1\" class=\"dataframe\">\n",
       "  <thead>\n",
       "    <tr style=\"text-align: right;\">\n",
       "      <th></th>\n",
       "      <th>stock</th>\n",
       "      <th>buy_pt_up</th>\n",
       "      <th>sell_pt_up</th>\n",
       "      <th>buy_pt_down</th>\n",
       "      <th>sell_pt_down</th>\n",
       "    </tr>\n",
       "  </thead>\n",
       "  <tbody>\n",
       "    <tr>\n",
       "      <th>0</th>\n",
       "      <td>AAPL</td>\n",
       "      <td>1.007382</td>\n",
       "      <td>0.997536</td>\n",
       "      <td>1.004442</td>\n",
       "      <td>0.991928</td>\n",
       "    </tr>\n",
       "    <tr>\n",
       "      <th>1</th>\n",
       "      <td>ABMD</td>\n",
       "      <td>1.002315</td>\n",
       "      <td>0.991443</td>\n",
       "      <td>1.002515</td>\n",
       "      <td>0.991554</td>\n",
       "    </tr>\n",
       "    <tr>\n",
       "      <th>2</th>\n",
       "      <td>ABNB</td>\n",
       "      <td>1.016759</td>\n",
       "      <td>0.986557</td>\n",
       "      <td>1.007559</td>\n",
       "      <td>0.995469</td>\n",
       "    </tr>\n",
       "    <tr>\n",
       "      <th>3</th>\n",
       "      <td>ABST</td>\n",
       "      <td>1.004608</td>\n",
       "      <td>0.995556</td>\n",
       "      <td>1.002605</td>\n",
       "      <td>0.991087</td>\n",
       "    </tr>\n",
       "    <tr>\n",
       "      <th>4</th>\n",
       "      <td>ADBE</td>\n",
       "      <td>1.006579</td>\n",
       "      <td>0.993110</td>\n",
       "      <td>1.010772</td>\n",
       "      <td>0.968931</td>\n",
       "    </tr>\n",
       "  </tbody>\n",
       "</table>\n",
       "</div>"
      ],
      "text/plain": [
       "  stock  buy_pt_up  sell_pt_up  buy_pt_down  sell_pt_down\n",
       "0  AAPL   1.007382    0.997536     1.004442      0.991928\n",
       "1  ABMD   1.002315    0.991443     1.002515      0.991554\n",
       "2  ABNB   1.016759    0.986557     1.007559      0.995469\n",
       "3  ABST   1.004608    0.995556     1.002605      0.991087\n",
       "4  ADBE   1.006579    0.993110     1.010772      0.968931"
      ]
     },
     "execution_count": 28,
     "metadata": {},
     "output_type": "execute_result"
    }
   ],
   "source": [
    "out = []\n",
    "for symbol in batch:\n",
    "    stock = get_stock_data(symbol, data)\n",
    "    mults = get_hilo_mults(stock)\n",
    "    out.append([symbol, *mults])\n",
    "df = pd.DataFrame(\n",
    "    out, \n",
    "    columns=['stock', 'buy_pt_up', 'sell_pt_up', 'buy_pt_down', \n",
    "             'sell_pt_down'])\n",
    "df.head()"
   ]
  },
  {
   "cell_type": "code",
   "execution_count": 29,
   "id": "1f47cac8",
   "metadata": {},
   "outputs": [
    {
     "data": {
      "text/html": [
       "<div>\n",
       "<style scoped>\n",
       "    .dataframe tbody tr th:only-of-type {\n",
       "        vertical-align: middle;\n",
       "    }\n",
       "\n",
       "    .dataframe tbody tr th {\n",
       "        vertical-align: top;\n",
       "    }\n",
       "\n",
       "    .dataframe thead th {\n",
       "        text-align: right;\n",
       "    }\n",
       "</style>\n",
       "<table border=\"1\" class=\"dataframe\">\n",
       "  <thead>\n",
       "    <tr style=\"text-align: right;\">\n",
       "      <th></th>\n",
       "      <th>price</th>\n",
       "      <th>stock</th>\n",
       "    </tr>\n",
       "  </thead>\n",
       "  <tbody>\n",
       "    <tr>\n",
       "      <th>AAPL</th>\n",
       "      <td>150.429993</td>\n",
       "      <td>AAPL</td>\n",
       "    </tr>\n",
       "    <tr>\n",
       "      <th>ABMD</th>\n",
       "      <td>245.529999</td>\n",
       "      <td>ABMD</td>\n",
       "    </tr>\n",
       "    <tr>\n",
       "      <th>ABNB</th>\n",
       "      <td>101.75</td>\n",
       "      <td>ABNB</td>\n",
       "    </tr>\n",
       "    <tr>\n",
       "      <th>ABST</th>\n",
       "      <td>10.69</td>\n",
       "      <td>ABST</td>\n",
       "    </tr>\n",
       "    <tr>\n",
       "      <th>ADBE</th>\n",
       "      <td>284.559998</td>\n",
       "      <td>ADBE</td>\n",
       "    </tr>\n",
       "    <tr>\n",
       "      <th>...</th>\n",
       "      <td>...</td>\n",
       "      <td>...</td>\n",
       "    </tr>\n",
       "    <tr>\n",
       "      <th>ZM</th>\n",
       "      <td>74.449997</td>\n",
       "      <td>ZM</td>\n",
       "    </tr>\n",
       "    <tr>\n",
       "      <th>ZYXI</th>\n",
       "      <td>8.39</td>\n",
       "      <td>ZYXI</td>\n",
       "    </tr>\n",
       "    <tr>\n",
       "      <th>^GSPC</th>\n",
       "      <td>3693.22998</td>\n",
       "      <td>^GSPC</td>\n",
       "    </tr>\n",
       "    <tr>\n",
       "      <th>^IXIC</th>\n",
       "      <td>10867.925781</td>\n",
       "      <td>^IXIC</td>\n",
       "    </tr>\n",
       "    <tr>\n",
       "      <th>^NYA</th>\n",
       "      <td>13796.990234</td>\n",
       "      <td>^NYA</td>\n",
       "    </tr>\n",
       "  </tbody>\n",
       "</table>\n",
       "<p>123 rows × 2 columns</p>\n",
       "</div>"
      ],
      "text/plain": [
       "              price  stock\n",
       "AAPL     150.429993   AAPL\n",
       "ABMD     245.529999   ABMD\n",
       "ABNB         101.75   ABNB\n",
       "ABST          10.69   ABST\n",
       "ADBE     284.559998   ADBE\n",
       "...             ...    ...\n",
       "ZM        74.449997     ZM\n",
       "ZYXI           8.39   ZYXI\n",
       "^GSPC    3693.22998  ^GSPC\n",
       "^IXIC  10867.925781  ^IXIC\n",
       "^NYA   13796.990234   ^NYA\n",
       "\n",
       "[123 rows x 2 columns]"
      ]
     },
     "execution_count": 29,
     "metadata": {},
     "output_type": "execute_result"
    }
   ],
   "source": [
    "last = data.index.max()\n",
    "price = pd.DataFrame(data.loc[last, 'Value'])\n",
    "price.columns = ['price']\n",
    "price['stock'] = price.index\n",
    "price"
   ]
  },
  {
   "cell_type": "code",
   "execution_count": 30,
   "id": "33f47eb9",
   "metadata": {},
   "outputs": [
    {
     "data": {
      "text/html": [
       "<div>\n",
       "<style scoped>\n",
       "    .dataframe tbody tr th:only-of-type {\n",
       "        vertical-align: middle;\n",
       "    }\n",
       "\n",
       "    .dataframe tbody tr th {\n",
       "        vertical-align: top;\n",
       "    }\n",
       "\n",
       "    .dataframe thead th {\n",
       "        text-align: right;\n",
       "    }\n",
       "</style>\n",
       "<table border=\"1\" class=\"dataframe\">\n",
       "  <thead>\n",
       "    <tr style=\"text-align: right;\">\n",
       "      <th></th>\n",
       "      <th>stock</th>\n",
       "      <th>buy_pt_up</th>\n",
       "      <th>sell_pt_up</th>\n",
       "      <th>buy_pt_down</th>\n",
       "      <th>sell_pt_down</th>\n",
       "      <th>price</th>\n",
       "    </tr>\n",
       "  </thead>\n",
       "  <tbody>\n",
       "    <tr>\n",
       "      <th>0</th>\n",
       "      <td>AAPL</td>\n",
       "      <td>1.007382</td>\n",
       "      <td>0.997536</td>\n",
       "      <td>1.004442</td>\n",
       "      <td>0.991928</td>\n",
       "      <td>150.429993</td>\n",
       "    </tr>\n",
       "    <tr>\n",
       "      <th>1</th>\n",
       "      <td>ABMD</td>\n",
       "      <td>1.002315</td>\n",
       "      <td>0.991443</td>\n",
       "      <td>1.002515</td>\n",
       "      <td>0.991554</td>\n",
       "      <td>245.529999</td>\n",
       "    </tr>\n",
       "    <tr>\n",
       "      <th>2</th>\n",
       "      <td>ABNB</td>\n",
       "      <td>1.016759</td>\n",
       "      <td>0.986557</td>\n",
       "      <td>1.007559</td>\n",
       "      <td>0.995469</td>\n",
       "      <td>101.75</td>\n",
       "    </tr>\n",
       "    <tr>\n",
       "      <th>3</th>\n",
       "      <td>ABST</td>\n",
       "      <td>1.004608</td>\n",
       "      <td>0.995556</td>\n",
       "      <td>1.002605</td>\n",
       "      <td>0.991087</td>\n",
       "      <td>10.69</td>\n",
       "    </tr>\n",
       "    <tr>\n",
       "      <th>4</th>\n",
       "      <td>ADBE</td>\n",
       "      <td>1.006579</td>\n",
       "      <td>0.993110</td>\n",
       "      <td>1.010772</td>\n",
       "      <td>0.968931</td>\n",
       "      <td>284.559998</td>\n",
       "    </tr>\n",
       "  </tbody>\n",
       "</table>\n",
       "</div>"
      ],
      "text/plain": [
       "  stock  buy_pt_up  sell_pt_up  buy_pt_down  sell_pt_down       price\n",
       "0  AAPL   1.007382    0.997536     1.004442      0.991928  150.429993\n",
       "1  ABMD   1.002315    0.991443     1.002515      0.991554  245.529999\n",
       "2  ABNB   1.016759    0.986557     1.007559      0.995469      101.75\n",
       "3  ABST   1.004608    0.995556     1.002605      0.991087       10.69\n",
       "4  ADBE   1.006579    0.993110     1.010772      0.968931  284.559998"
      ]
     },
     "execution_count": 30,
     "metadata": {},
     "output_type": "execute_result"
    }
   ],
   "source": [
    "df = df.merge(price, how='left', on='stock')\n",
    "df.head()"
   ]
  },
  {
   "cell_type": "code",
   "execution_count": 31,
   "id": "22bf6bff",
   "metadata": {},
   "outputs": [],
   "source": [
    "df.to_csv('mults.csv', index=False)\n",
    "!open ./mults.csv"
   ]
  },
  {
   "cell_type": "code",
   "execution_count": null,
   "id": "bf2de939",
   "metadata": {},
   "outputs": [],
   "source": []
  }
 ],
 "metadata": {
  "kernelspec": {
   "display_name": "Python 3 (ipykernel)",
   "language": "python",
   "name": "python3"
  },
  "language_info": {
   "codemirror_mode": {
    "name": "ipython",
    "version": 3
   },
   "file_extension": ".py",
   "mimetype": "text/x-python",
   "name": "python",
   "nbconvert_exporter": "python",
   "pygments_lexer": "ipython3",
   "version": "3.10.6"
  }
 },
 "nbformat": 4,
 "nbformat_minor": 5
}
