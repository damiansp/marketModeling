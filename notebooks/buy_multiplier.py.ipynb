{
 "cells": [
  {
   "cell_type": "code",
   "execution_count": 1,
   "id": "51a9dcf3",
   "metadata": {},
   "outputs": [],
   "source": [
    "from datetime import datetime, timedelta\n",
    "\n",
    "import sys\n",
    "\n",
    "import matplotlib.pyplot as plt\n",
    "import numpy as np\n",
    "import pandas as pd\n",
    "\n",
    "sys.path.append('..')\n",
    "from util.stock_loader import Loader"
   ]
  },
  {
   "cell_type": "code",
   "execution_count": 2,
   "id": "e5c97a69",
   "metadata": {},
   "outputs": [
    {
     "data": {
      "text/plain": [
       "68"
      ]
     },
     "execution_count": 2,
     "metadata": {},
     "output_type": "execute_result"
    }
   ],
   "source": [
    "DATA = '../models/qp/data'\n",
    "SYMBOLS = [\n",
    "    'AAPL', 'ABMD', 'ABNB', 'ADBE', 'ADYEY', 'AMD', 'AMZN', 'ANET',\n",
    "    'ASML', 'AXON', 'BROS', 'BYND', 'CHWY', 'DDOG', 'DOCS', 'DOCU',\n",
    "    'DUOL', 'EDIT', 'ETSY', 'FLGT', 'GH', 'GMED', 'GOOG', 'IDXX',\n",
    "    'INTG', 'ISRG', 'JD', 'LSPD', 'LULU', 'MDB', 'MELI', 'MNST', 'MSFT',\n",
    "    'MTCH', 'NVCR', 'NVDA', 'OKTA', 'OPEN', 'PAC', 'PANW', 'PAYC',\n",
    "    'PINS', 'PYPL', 'QDEL', 'RBLX', 'RDFN', 'RGEN', 'RIVN', 'ROKU',\n",
    "    'RVLV', 'SE', 'SHOP', 'SNOW', 'TASK', 'TDOC', 'TEAM', 'TREX', 'TTD',\n",
    "    'TTWO', 'TWLO', 'TWTR', 'TYL', 'UPST', 'VEEV', 'VLD', 'XPEV', 'ZEN',\n",
    "    'ZM']\n",
    "BEST_0 = [\n",
    "    'AMRK', 'APT', 'EP', 'ESOA', 'GBOX', 'INTZ', 'MCVT','MICS', 'MTA',\n",
    "    'PRPH']\n",
    "BEST_1 = [\n",
    "    'CUBE', 'EVR', 'EXR', 'LSI', 'NSA', 'PSA', 'REXR', 'TSLA','TWNK',\n",
    "    'WCN']\n",
    "INDICES = ['^GSPC', # S&P 500\n",
    "           '^IXIC', # Nasdaq\n",
    "           '^NYA']  # NY Stock Exchange (total)\n",
    "len(SYMBOLS)"
   ]
  },
  {
   "cell_type": "code",
   "execution_count": 3,
   "id": "a79aa1f3",
   "metadata": {},
   "outputs": [
    {
     "data": {
      "text/plain": [
       "('2012-09-03', datetime.date(2022, 9, 3))"
      ]
     },
     "execution_count": 3,
     "metadata": {},
     "output_type": "execute_result"
    }
   ],
   "source": [
    "N_YEARS = 10 # 5\n",
    "N_DAYS = int(round(365.25 * N_YEARS))\n",
    "END = (datetime.now() + timedelta(1)).date()\n",
    "START = str(END - timedelta(N_DAYS))\n",
    "START, END"
   ]
  },
  {
   "cell_type": "code",
   "execution_count": 4,
   "id": "6fa75879",
   "metadata": {},
   "outputs": [
    {
     "name": "stdout",
     "output_type": "stream",
     "text": [
      "[*********************100%***********************]  91 of 91 completed\n",
      "Generating derived columns...\n",
      "   ...AAPL\n",
      "   ...ABMD\n",
      "   ...ABNB\n",
      "   ...ADBE\n",
      "   ...ADYEY\n",
      "   ...AMD\n",
      "   ...AMRK\n",
      "   ...AMZN\n",
      "   ...ANET\n",
      "   ...APT\n",
      "   ...ASML\n",
      "   ...AXON\n",
      "   ...BROS\n",
      "   ...BYND\n",
      "   ...CHWY\n",
      "   ...CUBE\n",
      "   ...DDOG\n",
      "   ...DOCS\n",
      "   ...DOCU\n",
      "   ...DUOL\n",
      "   ...EDIT\n",
      "   ...EP\n",
      "   ...ESOA\n",
      "   ...ETSY\n",
      "   ...EVR\n",
      "   ...EXR\n",
      "   ...FLGT\n",
      "   ...GBOX\n",
      "   ...GH\n",
      "   ...GMED\n",
      "   ...GOOG\n",
      "   ...IDXX\n",
      "   ...INTG\n",
      "   ...INTZ\n",
      "   ...ISRG\n",
      "   ...JD\n",
      "   ...LSI\n",
      "   ...LSPD\n",
      "   ...LULU\n",
      "   ...MCVT\n",
      "   ...MDB\n",
      "   ...MELI\n",
      "   ...MICS\n",
      "   ...MNST\n",
      "   ...MSFT\n",
      "   ...MTA\n",
      "   ...MTCH\n",
      "   ...NSA\n",
      "   ...NVCR\n",
      "   ...NVDA\n",
      "   ...OKTA\n",
      "   ...OPEN\n",
      "   ...PAC\n",
      "   ...PANW\n",
      "   ...PAYC\n",
      "   ...PINS\n",
      "   ...PRPH\n",
      "   ...PSA\n",
      "   ...PYPL\n",
      "   ...QDEL\n",
      "   ...RBLX\n",
      "   ...RDFN\n",
      "   ...REXR\n",
      "   ...RGEN\n",
      "   ...RIVN\n",
      "   ...ROKU\n",
      "   ...RVLV\n",
      "   ...SE\n",
      "   ...SHOP\n",
      "   ...SNOW\n",
      "   ...TASK\n",
      "   ...TDOC\n",
      "   ...TEAM\n",
      "   ...TREX\n",
      "   ...TSLA\n",
      "   ...TTD\n",
      "   ...TTWO\n",
      "   ...TWLO\n",
      "   ...TWNK\n",
      "   ...TWTR\n",
      "   ...TYL\n",
      "   ...UPST\n",
      "   ...VEEV\n",
      "   ...VLD\n",
      "   ...WCN\n",
      "   ...XPEV\n",
      "   ...ZEN\n",
      "   ...ZM\n",
      "   ...^GSPC\n",
      "   ...^IXIC\n",
      "   ...^NYA\n"
     ]
    }
   ],
   "source": [
    "batch = sorted(SYMBOLS + BEST_0 + BEST_1) + INDICES # run all\n",
    "stock_loader = Loader(batch, START, str(END), verbose=True)\n",
    "data = stock_loader.download().rename(columns={'Adj Close': 'AdjClose'})"
   ]
  },
  {
   "cell_type": "code",
   "execution_count": 5,
   "id": "435bfa6a",
   "metadata": {},
   "outputs": [
    {
     "data": {
      "text/plain": [
       "2512   2022-08-29\n",
       "2513   2022-08-30\n",
       "2514   2022-08-31\n",
       "2515   2022-09-01\n",
       "2516   2022-09-02\n",
       "Name: Date, dtype: datetime64[ns]"
      ]
     },
     "execution_count": 5,
     "metadata": {},
     "output_type": "execute_result"
    }
   ],
   "source": [
    "data['Date'].tail()"
   ]
  },
  {
   "cell_type": "code",
   "execution_count": 6,
   "id": "cad01219",
   "metadata": {},
   "outputs": [
    {
     "data": {
      "text/plain": [
       "1       0.998932\n",
       "2       1.020436\n",
       "3       1.004050\n",
       "4       0.993852\n",
       "5       1.003135\n",
       "          ...   \n",
       "2512    0.993334\n",
       "2513    0.988972\n",
       "2514    0.992183\n",
       "2515    1.002996\n",
       "2516    0.989263\n",
       "Name: ^GSPC, Length: 2516, dtype: float64"
      ]
     },
     "execution_count": 6,
     "metadata": {},
     "output_type": "execute_result"
    }
   ],
   "source": [
    "spx = data['DayToDayChange']['^GSPC']\n",
    "spx = spx[1:]\n",
    "#spx = spx / spx[1]\n",
    "spx"
   ]
  },
  {
   "cell_type": "code",
   "execution_count": 7,
   "id": "e47707d7",
   "metadata": {},
   "outputs": [
    {
     "data": {
      "text/html": [
       "<div>\n",
       "<style scoped>\n",
       "    .dataframe tbody tr th:only-of-type {\n",
       "        vertical-align: middle;\n",
       "    }\n",
       "\n",
       "    .dataframe tbody tr th {\n",
       "        vertical-align: top;\n",
       "    }\n",
       "\n",
       "    .dataframe thead th {\n",
       "        text-align: right;\n",
       "    }\n",
       "</style>\n",
       "<table border=\"1\" class=\"dataframe\">\n",
       "  <thead>\n",
       "    <tr style=\"text-align: right;\">\n",
       "      <th></th>\n",
       "      <th>0.75</th>\n",
       "    </tr>\n",
       "  </thead>\n",
       "  <tbody>\n",
       "    <tr>\n",
       "      <th>1</th>\n",
       "      <td>1.000000</td>\n",
       "    </tr>\n",
       "    <tr>\n",
       "      <th>2</th>\n",
       "      <td>1.028382</td>\n",
       "    </tr>\n",
       "    <tr>\n",
       "      <th>3</th>\n",
       "      <td>1.009668</td>\n",
       "    </tr>\n",
       "    <tr>\n",
       "      <th>4</th>\n",
       "      <td>1.000603</td>\n",
       "    </tr>\n",
       "    <tr>\n",
       "      <th>5</th>\n",
       "      <td>1.003564</td>\n",
       "    </tr>\n",
       "    <tr>\n",
       "      <th>...</th>\n",
       "      <td>...</td>\n",
       "    </tr>\n",
       "    <tr>\n",
       "      <th>2512</th>\n",
       "      <td>0.996432</td>\n",
       "    </tr>\n",
       "    <tr>\n",
       "      <th>2513</th>\n",
       "      <td>1.001187</td>\n",
       "    </tr>\n",
       "    <tr>\n",
       "      <th>2514</th>\n",
       "      <td>1.002534</td>\n",
       "    </tr>\n",
       "    <tr>\n",
       "      <th>2515</th>\n",
       "      <td>1.002475</td>\n",
       "    </tr>\n",
       "    <tr>\n",
       "      <th>2516</th>\n",
       "      <td>0.999328</td>\n",
       "    </tr>\n",
       "  </tbody>\n",
       "</table>\n",
       "<p>2516 rows × 1 columns</p>\n",
       "</div>"
      ],
      "text/plain": [
       "          0.75\n",
       "1     1.000000\n",
       "2     1.028382\n",
       "3     1.009668\n",
       "4     1.000603\n",
       "5     1.003564\n",
       "...        ...\n",
       "2512  0.996432\n",
       "2513  1.001187\n",
       "2514  1.002534\n",
       "2515  1.002475\n",
       "2516  0.999328\n",
       "\n",
       "[2516 rows x 1 columns]"
      ]
     },
     "execution_count": 7,
     "metadata": {},
     "output_type": "execute_result"
    }
   ],
   "source": [
    "data['DayToDayChange'].quantile(q=[0.75], axis=1).T[1:]"
   ]
  },
  {
   "cell_type": "code",
   "execution_count": 8,
   "id": "b41cb446",
   "metadata": {},
   "outputs": [
    {
     "data": {
      "image/png": "[encoded data removed]",
      "text/plain": [
       "<Figure size 864x576 with 1 Axes>"
      ]
     },
     "metadata": {
      "needs_background": "light"
     },
     "output_type": "display_data"
    }
   ],
   "source": [
    "plt.figure(figsize=[12, 8])\n",
    "plt.plot(data['DayToDayChange'].mean(axis=1)[1:].cumprod(), \n",
    "         label='These Avg Daily')\n",
    "plt.plot(data['DayToDayChange'].cumprod().mean(axis=1),\n",
    "         label='These Avg Cumul')\n",
    "plt.plot(spx.cumprod(), label='spx')\n",
    "plt.yscale('log')\n",
    "plt.legend();\n",
    "\n",
    "n = len(spx)\n",
    "one_year = n - 250\n",
    "plt.axvline(x=one_year, color='k');"
   ]
  },
  {
   "cell_type": "code",
   "execution_count": 9,
   "id": "952c7165",
   "metadata": {},
   "outputs": [
    {
     "data": {
      "text/html": [
       "<div>\n",
       "<style scoped>\n",
       "    .dataframe tbody tr th:only-of-type {\n",
       "        vertical-align: middle;\n",
       "    }\n",
       "\n",
       "    .dataframe tbody tr th {\n",
       "        vertical-align: top;\n",
       "    }\n",
       "\n",
       "    .dataframe thead th {\n",
       "        text-align: right;\n",
       "    }\n",
       "</style>\n",
       "<table border=\"1\" class=\"dataframe\">\n",
       "  <thead>\n",
       "    <tr style=\"text-align: right;\">\n",
       "      <th></th>\n",
       "      <th>Date</th>\n",
       "      <th>mine1</th>\n",
       "      <th>mine2</th>\n",
       "    </tr>\n",
       "  </thead>\n",
       "  <tbody>\n",
       "    <tr>\n",
       "      <th>0</th>\n",
       "      <td>2012-09-04</td>\n",
       "      <td>NaN</td>\n",
       "      <td>NaN</td>\n",
       "    </tr>\n",
       "    <tr>\n",
       "      <th>1</th>\n",
       "      <td>2012-09-05</td>\n",
       "      <td>0.995226</td>\n",
       "      <td>0.995226</td>\n",
       "    </tr>\n",
       "    <tr>\n",
       "      <th>2</th>\n",
       "      <td>2012-09-06</td>\n",
       "      <td>1.018701</td>\n",
       "      <td>1.018760</td>\n",
       "    </tr>\n",
       "    <tr>\n",
       "      <th>3</th>\n",
       "      <td>2012-09-07</td>\n",
       "      <td>1.024617</td>\n",
       "      <td>1.025017</td>\n",
       "    </tr>\n",
       "    <tr>\n",
       "      <th>4</th>\n",
       "      <td>2012-09-10</td>\n",
       "      <td>1.019051</td>\n",
       "      <td>1.019168</td>\n",
       "    </tr>\n",
       "  </tbody>\n",
       "</table>\n",
       "</div>"
      ],
      "text/plain": [
       "        Date     mine1     mine2\n",
       "0 2012-09-04       NaN       NaN\n",
       "1 2012-09-05  0.995226  0.995226\n",
       "2 2012-09-06  1.018701  1.018760\n",
       "3 2012-09-07  1.024617  1.025017\n",
       "4 2012-09-10  1.019051  1.019168"
      ]
     },
     "execution_count": 9,
     "metadata": {},
     "output_type": "execute_result"
    }
   ],
   "source": [
    "out = pd.DataFrame(data.Date)\n",
    "out['mine1'] = data['DayToDayChange'].mean(axis=1)[1:].cumprod()\n",
    "out['mine2'] = data['DayToDayChange'].cumprod().mean(axis=1)\n",
    "out.head()"
   ]
  },
  {
   "cell_type": "code",
   "execution_count": 10,
   "id": "b5efbe76",
   "metadata": {},
   "outputs": [
    {
     "data": {
      "text/html": [
       "<div>\n",
       "<style scoped>\n",
       "    .dataframe tbody tr th:only-of-type {\n",
       "        vertical-align: middle;\n",
       "    }\n",
       "\n",
       "    .dataframe tbody tr th {\n",
       "        vertical-align: top;\n",
       "    }\n",
       "\n",
       "    .dataframe thead th {\n",
       "        text-align: right;\n",
       "    }\n",
       "</style>\n",
       "<table border=\"1\" class=\"dataframe\">\n",
       "  <thead>\n",
       "    <tr style=\"text-align: right;\">\n",
       "      <th></th>\n",
       "      <th>Date</th>\n",
       "      <th>mine1</th>\n",
       "      <th>mine2</th>\n",
       "    </tr>\n",
       "  </thead>\n",
       "  <tbody>\n",
       "    <tr>\n",
       "      <th>2512</th>\n",
       "      <td>2022-08-29</td>\n",
       "      <td>94.665240</td>\n",
       "      <td>8.233194</td>\n",
       "    </tr>\n",
       "    <tr>\n",
       "      <th>2513</th>\n",
       "      <td>2022-08-30</td>\n",
       "      <td>93.936397</td>\n",
       "      <td>8.145879</td>\n",
       "    </tr>\n",
       "    <tr>\n",
       "      <th>2514</th>\n",
       "      <td>2022-08-31</td>\n",
       "      <td>93.554029</td>\n",
       "      <td>8.082438</td>\n",
       "    </tr>\n",
       "    <tr>\n",
       "      <th>2515</th>\n",
       "      <td>2022-09-01</td>\n",
       "      <td>91.646250</td>\n",
       "      <td>8.009244</td>\n",
       "    </tr>\n",
       "    <tr>\n",
       "      <th>2516</th>\n",
       "      <td>2022-09-02</td>\n",
       "      <td>90.829326</td>\n",
       "      <td>7.913460</td>\n",
       "    </tr>\n",
       "  </tbody>\n",
       "</table>\n",
       "</div>"
      ],
      "text/plain": [
       "           Date      mine1     mine2\n",
       "2512 2022-08-29  94.665240  8.233194\n",
       "2513 2022-08-30  93.936397  8.145879\n",
       "2514 2022-08-31  93.554029  8.082438\n",
       "2515 2022-09-01  91.646250  8.009244\n",
       "2516 2022-09-02  90.829326  7.913460"
      ]
     },
     "execution_count": 10,
     "metadata": {},
     "output_type": "execute_result"
    }
   ],
   "source": [
    "out.tail()"
   ]
  },
  {
   "cell_type": "code",
   "execution_count": 11,
   "id": "5ca71b85",
   "metadata": {},
   "outputs": [
    {
     "name": "stdout",
     "output_type": "stream",
     "text": [
      "all_symbols.pkl             nasdaq_sharpes_by_state.csv\r\n",
      "dev_quantiles.csv           nya1965.csv\r\n",
      "historic.csv                \u001b[34mpct_params\u001b[m\u001b[m\r\n",
      "hmm_exp_returns.csv         scoring.csv\r\n",
      "mine.csv                    sharpes_by_state.csv\r\n",
      "myHistoric.RData            sp1950.csv\r\n",
      "myHistoricTest.RData        wilshire1990.csv\r\n",
      "nasdaq1965.csv\r\n"
     ]
    }
   ],
   "source": [
    "!ls ../data"
   ]
  },
  {
   "cell_type": "code",
   "execution_count": 12,
   "id": "0f2f152e",
   "metadata": {},
   "outputs": [],
   "source": [
    "out.iloc[1:, :].to_csv('../data/mine.csv', index=False)"
   ]
  },
  {
   "cell_type": "code",
   "execution_count": 13,
   "id": "c74422bb",
   "metadata": {},
   "outputs": [
    {
     "data": {
      "image/png": "[encoded data removed]",
      "text/plain": [
       "<Figure size 864x576 with 1 Axes>"
      ]
     },
     "metadata": {
      "needs_background": "light"
     },
     "output_type": "display_data"
    }
   ],
   "source": [
    "plt.figure(figsize=[12, 8])\n",
    "a = data['DayToDayChange'].mean(axis=1)[1:].cumprod()\n",
    "n = len(a)\n",
    "start = n - 250\n",
    "a = a / a[start]\n",
    "b = data['DayToDayChange'].cumprod().mean(axis=1)\n",
    "b = b / b[start]\n",
    "s = spx.cumprod()\n",
    "s = s / s[start]\n",
    "plt.plot(a, label='These Avg Daily')\n",
    "plt.plot(b, label='These Avg Cumul')\n",
    "plt.plot(s, label='spx')\n",
    "#plt.yscale('log')\n",
    "plt.xlim([one_year, n + 10])\n",
    "plt.ylim(0.4, 1.5)\n",
    "plt.legend();"
   ]
  },
  {
   "cell_type": "code",
   "execution_count": 14,
   "id": "d7aca03a",
   "metadata": {},
   "outputs": [],
   "source": [
    "def get_stock_data(stock, data, n_days=40):\n",
    "    sub = data.loc[\n",
    "        :,  \n",
    "        [x for x in list(data) if x[1] == stock]]\n",
    "    first_value = (sub.Value[stock][sub.Value[stock].notna()]\n",
    "                   .index[0])\n",
    "    sub = sub.loc[first_value:, :]\n",
    "    sub.columns = sub.columns.to_series().apply(lambda x: x[0])\n",
    "    sub.fillna(method='ffill', inplace=True)\n",
    "    if len(sub) > n_days:\n",
    "        sub = sub.iloc[-n_days:, :]\n",
    "    return sub"
   ]
  },
  {
   "cell_type": "code",
   "execution_count": 15,
   "id": "af0c46be",
   "metadata": {},
   "outputs": [
    {
     "data": {
      "text/html": [
       "<div>\n",
       "<style scoped>\n",
       "    .dataframe tbody tr th:only-of-type {\n",
       "        vertical-align: middle;\n",
       "    }\n",
       "\n",
       "    .dataframe tbody tr th {\n",
       "        vertical-align: top;\n",
       "    }\n",
       "\n",
       "    .dataframe thead th {\n",
       "        text-align: right;\n",
       "    }\n",
       "</style>\n",
       "<table border=\"1\" class=\"dataframe\">\n",
       "  <thead>\n",
       "    <tr style=\"text-align: right;\">\n",
       "      <th></th>\n",
       "      <th>Value</th>\n",
       "      <th>Close</th>\n",
       "      <th>High</th>\n",
       "      <th>Low</th>\n",
       "      <th>Open</th>\n",
       "      <th>LogValue</th>\n",
       "      <th>IntradayChange</th>\n",
       "      <th>DayToDayChange</th>\n",
       "      <th>OvernightChange</th>\n",
       "    </tr>\n",
       "  </thead>\n",
       "  <tbody>\n",
       "    <tr>\n",
       "      <th>2477</th>\n",
       "      <td>72.709999</td>\n",
       "      <td>72.709999</td>\n",
       "      <td>76.000000</td>\n",
       "      <td>71.500000</td>\n",
       "      <td>75.989998</td>\n",
       "      <td>4.286479</td>\n",
       "      <td>0.956836</td>\n",
       "      <td>0.937952</td>\n",
       "      <td>0.980263</td>\n",
       "    </tr>\n",
       "    <tr>\n",
       "      <th>2478</th>\n",
       "      <td>72.510002</td>\n",
       "      <td>72.510002</td>\n",
       "      <td>74.110001</td>\n",
       "      <td>70.238998</td>\n",
       "      <td>72.769997</td>\n",
       "      <td>4.283725</td>\n",
       "      <td>0.996427</td>\n",
       "      <td>0.997249</td>\n",
       "      <td>1.000825</td>\n",
       "    </tr>\n",
       "    <tr>\n",
       "      <th>2479</th>\n",
       "      <td>71.110001</td>\n",
       "      <td>71.110001</td>\n",
       "      <td>73.254997</td>\n",
       "      <td>68.519997</td>\n",
       "      <td>68.949997</td>\n",
       "      <td>4.264228</td>\n",
       "      <td>1.031327</td>\n",
       "      <td>0.980692</td>\n",
       "      <td>0.950903</td>\n",
       "    </tr>\n",
       "    <tr>\n",
       "      <th>2480</th>\n",
       "      <td>67.779999</td>\n",
       "      <td>67.779999</td>\n",
       "      <td>70.089996</td>\n",
       "      <td>67.260002</td>\n",
       "      <td>69.970001</td>\n",
       "      <td>4.216267</td>\n",
       "      <td>0.968701</td>\n",
       "      <td>0.953171</td>\n",
       "      <td>0.983969</td>\n",
       "    </tr>\n",
       "    <tr>\n",
       "      <th>2481</th>\n",
       "      <td>69.150002</td>\n",
       "      <td>69.150002</td>\n",
       "      <td>69.330002</td>\n",
       "      <td>66.519997</td>\n",
       "      <td>68.800003</td>\n",
       "      <td>4.236278</td>\n",
       "      <td>1.005087</td>\n",
       "      <td>1.020212</td>\n",
       "      <td>1.015049</td>\n",
       "    </tr>\n",
       "  </tbody>\n",
       "</table>\n",
       "</div>"
      ],
      "text/plain": [
       "          Value      Close       High        Low       Open  LogValue  \\\n",
       "2477  72.709999  72.709999  76.000000  71.500000  75.989998  4.286479   \n",
       "2478  72.510002  72.510002  74.110001  70.238998  72.769997  4.283725   \n",
       "2479  71.110001  71.110001  73.254997  68.519997  68.949997  4.264228   \n",
       "2480  67.779999  67.779999  70.089996  67.260002  69.970001  4.216267   \n",
       "2481  69.150002  69.150002  69.330002  66.519997  68.800003  4.236278   \n",
       "\n",
       "      IntradayChange  DayToDayChange  OvernightChange  \n",
       "2477        0.956836        0.937952         0.980263  \n",
       "2478        0.996427        0.997249         1.000825  \n",
       "2479        1.031327        0.980692         0.950903  \n",
       "2480        0.968701        0.953171         0.983969  \n",
       "2481        1.005087        1.020212         1.015049  "
      ]
     },
     "execution_count": 15,
     "metadata": {},
     "output_type": "execute_result"
    }
   ],
   "source": [
    "rblx = get_stock_data('SE', data)\n",
    "rblx.head()"
   ]
  },
  {
   "cell_type": "code",
   "execution_count": 16,
   "id": "cf057d19",
   "metadata": {},
   "outputs": [
    {
     "data": {
      "text/html": [
       "<div>\n",
       "<style scoped>\n",
       "    .dataframe tbody tr th:only-of-type {\n",
       "        vertical-align: middle;\n",
       "    }\n",
       "\n",
       "    .dataframe tbody tr th {\n",
       "        vertical-align: top;\n",
       "    }\n",
       "\n",
       "    .dataframe thead th {\n",
       "        text-align: right;\n",
       "    }\n",
       "</style>\n",
       "<table border=\"1\" class=\"dataframe\">\n",
       "  <thead>\n",
       "    <tr style=\"text-align: right;\">\n",
       "      <th></th>\n",
       "      <th>Value</th>\n",
       "      <th>Close</th>\n",
       "      <th>High</th>\n",
       "      <th>Low</th>\n",
       "    </tr>\n",
       "  </thead>\n",
       "  <tbody>\n",
       "    <tr>\n",
       "      <th>2477</th>\n",
       "      <td>72.709999</td>\n",
       "      <td>72.709999</td>\n",
       "      <td>76.000000</td>\n",
       "      <td>71.500000</td>\n",
       "    </tr>\n",
       "    <tr>\n",
       "      <th>2478</th>\n",
       "      <td>72.510002</td>\n",
       "      <td>72.510002</td>\n",
       "      <td>74.110001</td>\n",
       "      <td>70.238998</td>\n",
       "    </tr>\n",
       "    <tr>\n",
       "      <th>2479</th>\n",
       "      <td>71.110001</td>\n",
       "      <td>71.110001</td>\n",
       "      <td>73.254997</td>\n",
       "      <td>68.519997</td>\n",
       "    </tr>\n",
       "    <tr>\n",
       "      <th>2480</th>\n",
       "      <td>67.779999</td>\n",
       "      <td>67.779999</td>\n",
       "      <td>70.089996</td>\n",
       "      <td>67.260002</td>\n",
       "    </tr>\n",
       "    <tr>\n",
       "      <th>2481</th>\n",
       "      <td>69.150002</td>\n",
       "      <td>69.150002</td>\n",
       "      <td>69.330002</td>\n",
       "      <td>66.519997</td>\n",
       "    </tr>\n",
       "  </tbody>\n",
       "</table>\n",
       "</div>"
      ],
      "text/plain": [
       "          Value      Close       High        Low\n",
       "2477  72.709999  72.709999  76.000000  71.500000\n",
       "2478  72.510002  72.510002  74.110001  70.238998\n",
       "2479  71.110001  71.110001  73.254997  68.519997\n",
       "2480  67.779999  67.779999  70.089996  67.260002\n",
       "2481  69.150002  69.150002  69.330002  66.519997"
      ]
     },
     "execution_count": 16,
     "metadata": {},
     "output_type": "execute_result"
    }
   ],
   "source": [
    "rblx = rblx[['Value', 'Close', 'High', 'Low']]\n",
    "rblx.head()"
   ]
  },
  {
   "cell_type": "code",
   "execution_count": 17,
   "id": "ecd6ae06",
   "metadata": {},
   "outputs": [
    {
     "data": {
      "text/html": [
       "<div>\n",
       "<style scoped>\n",
       "    .dataframe tbody tr th:only-of-type {\n",
       "        vertical-align: middle;\n",
       "    }\n",
       "\n",
       "    .dataframe tbody tr th {\n",
       "        vertical-align: top;\n",
       "    }\n",
       "\n",
       "    .dataframe thead th {\n",
       "        text-align: right;\n",
       "    }\n",
       "</style>\n",
       "<table border=\"1\" class=\"dataframe\">\n",
       "  <thead>\n",
       "    <tr style=\"text-align: right;\">\n",
       "      <th></th>\n",
       "      <th>Value</th>\n",
       "      <th>Close</th>\n",
       "      <th>High</th>\n",
       "      <th>Low</th>\n",
       "      <th>NextHigh</th>\n",
       "      <th>NextLow</th>\n",
       "      <th>HighMult</th>\n",
       "      <th>LowMult</th>\n",
       "    </tr>\n",
       "  </thead>\n",
       "  <tbody>\n",
       "    <tr>\n",
       "      <th>2477</th>\n",
       "      <td>72.709999</td>\n",
       "      <td>72.709999</td>\n",
       "      <td>76.000000</td>\n",
       "      <td>71.500000</td>\n",
       "      <td>74.110001</td>\n",
       "      <td>70.238998</td>\n",
       "      <td>1.019255</td>\n",
       "      <td>0.966016</td>\n",
       "    </tr>\n",
       "    <tr>\n",
       "      <th>2478</th>\n",
       "      <td>72.510002</td>\n",
       "      <td>72.510002</td>\n",
       "      <td>74.110001</td>\n",
       "      <td>70.238998</td>\n",
       "      <td>73.254997</td>\n",
       "      <td>68.519997</td>\n",
       "      <td>1.010274</td>\n",
       "      <td>0.944973</td>\n",
       "    </tr>\n",
       "    <tr>\n",
       "      <th>2479</th>\n",
       "      <td>71.110001</td>\n",
       "      <td>71.110001</td>\n",
       "      <td>73.254997</td>\n",
       "      <td>68.519997</td>\n",
       "      <td>70.089996</td>\n",
       "      <td>67.260002</td>\n",
       "      <td>0.985656</td>\n",
       "      <td>0.945859</td>\n",
       "    </tr>\n",
       "    <tr>\n",
       "      <th>2480</th>\n",
       "      <td>67.779999</td>\n",
       "      <td>67.779999</td>\n",
       "      <td>70.089996</td>\n",
       "      <td>67.260002</td>\n",
       "      <td>69.330002</td>\n",
       "      <td>66.519997</td>\n",
       "      <td>1.022868</td>\n",
       "      <td>0.981410</td>\n",
       "    </tr>\n",
       "    <tr>\n",
       "      <th>2481</th>\n",
       "      <td>69.150002</td>\n",
       "      <td>69.150002</td>\n",
       "      <td>69.330002</td>\n",
       "      <td>66.519997</td>\n",
       "      <td>72.699997</td>\n",
       "      <td>68.870003</td>\n",
       "      <td>1.051338</td>\n",
       "      <td>0.995951</td>\n",
       "    </tr>\n",
       "  </tbody>\n",
       "</table>\n",
       "</div>"
      ],
      "text/plain": [
       "          Value      Close       High        Low   NextHigh    NextLow  \\\n",
       "2477  72.709999  72.709999  76.000000  71.500000  74.110001  70.238998   \n",
       "2478  72.510002  72.510002  74.110001  70.238998  73.254997  68.519997   \n",
       "2479  71.110001  71.110001  73.254997  68.519997  70.089996  67.260002   \n",
       "2480  67.779999  67.779999  70.089996  67.260002  69.330002  66.519997   \n",
       "2481  69.150002  69.150002  69.330002  66.519997  72.699997  68.870003   \n",
       "\n",
       "      HighMult   LowMult  \n",
       "2477  1.019255  0.966016  \n",
       "2478  1.010274  0.944973  \n",
       "2479  0.985656  0.945859  \n",
       "2480  1.022868  0.981410  \n",
       "2481  1.051338  0.995951  "
      ]
     },
     "execution_count": 17,
     "metadata": {},
     "output_type": "execute_result"
    }
   ],
   "source": [
    "rblx['NextHigh'] = rblx.High.shift(-1)\n",
    "rblx['NextLow'] = rblx.Low.shift(-1)\n",
    "rblx['HighMult'] = rblx.NextHigh / rblx.Close\n",
    "rblx['LowMult'] = rblx.NextLow / rblx.Close\n",
    "rblx.head()"
   ]
  },
  {
   "cell_type": "code",
   "execution_count": 18,
   "id": "45515f54",
   "metadata": {},
   "outputs": [
    {
     "name": "stdout",
     "output_type": "stream",
     "text": [
      "0.05    0.978103\n",
      "Name: HighMult, dtype: float64\n"
     ]
    },
    {
     "data": {
      "image/png": "[encoded data removed]",
      "text/plain": [
       "<Figure size 432x288 with 1 Axes>"
      ]
     },
     "metadata": {
      "needs_background": "light"
     },
     "output_type": "display_data"
    }
   ],
   "source": [
    "# For selling:\n",
    "high_05 = rblx.HighMult.quantile(q=[0.05])\n",
    "print(high_05)\n",
    "plt.hist(rblx.HighMult)\n",
    "plt.axvline(x=high_05[0.05], color='red');"
   ]
  },
  {
   "cell_type": "code",
   "execution_count": 19,
   "id": "516dfb66",
   "metadata": {},
   "outputs": [
    {
     "name": "stdout",
     "output_type": "stream",
     "text": [
      "1.015697371611524\n"
     ]
    },
    {
     "data": {
      "image/png": "[encoded data removed]",
      "text/plain": [
       "<Figure size 432x288 with 1 Axes>"
      ]
     },
     "metadata": {
      "needs_background": "light"
     },
     "output_type": "display_data"
    }
   ],
   "source": [
    "# For buying:\n",
    "low_95 = rblx.LowMult.quantile(q=[0.95])\n",
    "print(low_95.tolist()[0])\n",
    "plt.hist(rblx.LowMult)\n",
    "plt.axvline(x=low_95[0.95], color='red');"
   ]
  },
  {
   "cell_type": "code",
   "execution_count": 20,
   "id": "ed504c6f",
   "metadata": {},
   "outputs": [],
   "source": [
    "def get_hilo_mult(stock, ci=0.95):\n",
    "    stock['NextHigh'] = stock.High.shift(-1)\n",
    "    stock['NextLow'] = stock.Low.shift(-1)\n",
    "    stock['HighMult'] = stock.NextHigh / stock.Close\n",
    "    stock['LowMult'] = stock.NextLow / stock.Close\n",
    "    sell_pt = stock.HighMult.quantile(q=[1 - ci]).tolist()[0]\n",
    "    buy_pt = stock.LowMult.quantile(q=[ci]).tolist()[0]\n",
    "    return buy_pt, sell_pt"
   ]
  },
  {
   "cell_type": "code",
   "execution_count": 21,
   "id": "8eb58a9f",
   "metadata": {},
   "outputs": [
    {
     "data": {
      "text/plain": [
       "(1.015697371611524, 0.9781029416744824)"
      ]
     },
     "execution_count": 21,
     "metadata": {},
     "output_type": "execute_result"
    }
   ],
   "source": [
    "get_hilo_mult(rblx)"
   ]
  },
  {
   "cell_type": "code",
   "execution_count": 22,
   "id": "be666a16",
   "metadata": {},
   "outputs": [
    {
     "data": {
      "text/plain": [
       "(1.0060613400209928, 0.9974411520442146)"
      ]
     },
     "execution_count": 22,
     "metadata": {},
     "output_type": "execute_result"
    }
   ],
   "source": [
    "aapl = get_stock_data('AAPL', data)\n",
    "get_hilo_mult(aapl)"
   ]
  },
  {
   "cell_type": "code",
   "execution_count": 23,
   "id": "55370ffc",
   "metadata": {},
   "outputs": [],
   "source": [
    "def get_macd(stock_data, fast=60, slow=90, signal=80):\n",
    "    df = stock_data.copy()\n",
    "    exp1 = df.Value.ewm(span=fast, adjust=False).mean()\n",
    "    exp2 = df.Value.ewm(span=slow, adjust=False).mean()\n",
    "    macd = exp1 - exp2\n",
    "    exp3 = macd.ewm(span=signal, adjust=False).mean()\n",
    "    histo = macd - exp3\n",
    "    hdiff = histo.diff(1)\n",
    "    is_rising = 1 * (hdiff > 0)\n",
    "    return is_rising"
   ]
  },
  {
   "cell_type": "code",
   "execution_count": 24,
   "id": "c13b86b8",
   "metadata": {},
   "outputs": [
    {
     "data": {
      "text/html": [
       "<div>\n",
       "<style scoped>\n",
       "    .dataframe tbody tr th:only-of-type {\n",
       "        vertical-align: middle;\n",
       "    }\n",
       "\n",
       "    .dataframe tbody tr th {\n",
       "        vertical-align: top;\n",
       "    }\n",
       "\n",
       "    .dataframe thead th {\n",
       "        text-align: right;\n",
       "    }\n",
       "</style>\n",
       "<table border=\"1\" class=\"dataframe\">\n",
       "  <thead>\n",
       "    <tr style=\"text-align: right;\">\n",
       "      <th></th>\n",
       "      <th>Value</th>\n",
       "      <th>Close</th>\n",
       "      <th>High</th>\n",
       "      <th>Low</th>\n",
       "      <th>NextHigh</th>\n",
       "      <th>NextLow</th>\n",
       "      <th>HighMult</th>\n",
       "      <th>LowMult</th>\n",
       "      <th>Trend</th>\n",
       "    </tr>\n",
       "  </thead>\n",
       "  <tbody>\n",
       "    <tr>\n",
       "      <th>2477</th>\n",
       "      <td>72.709999</td>\n",
       "      <td>72.709999</td>\n",
       "      <td>76.000000</td>\n",
       "      <td>71.500000</td>\n",
       "      <td>74.110001</td>\n",
       "      <td>70.238998</td>\n",
       "      <td>1.019255</td>\n",
       "      <td>0.966016</td>\n",
       "      <td>0</td>\n",
       "    </tr>\n",
       "    <tr>\n",
       "      <th>2478</th>\n",
       "      <td>72.510002</td>\n",
       "      <td>72.510002</td>\n",
       "      <td>74.110001</td>\n",
       "      <td>70.238998</td>\n",
       "      <td>73.254997</td>\n",
       "      <td>68.519997</td>\n",
       "      <td>1.010274</td>\n",
       "      <td>0.944973</td>\n",
       "      <td>0</td>\n",
       "    </tr>\n",
       "    <tr>\n",
       "      <th>2479</th>\n",
       "      <td>71.110001</td>\n",
       "      <td>71.110001</td>\n",
       "      <td>73.254997</td>\n",
       "      <td>68.519997</td>\n",
       "      <td>70.089996</td>\n",
       "      <td>67.260002</td>\n",
       "      <td>0.985656</td>\n",
       "      <td>0.945859</td>\n",
       "      <td>0</td>\n",
       "    </tr>\n",
       "    <tr>\n",
       "      <th>2480</th>\n",
       "      <td>67.779999</td>\n",
       "      <td>67.779999</td>\n",
       "      <td>70.089996</td>\n",
       "      <td>67.260002</td>\n",
       "      <td>69.330002</td>\n",
       "      <td>66.519997</td>\n",
       "      <td>1.022868</td>\n",
       "      <td>0.981410</td>\n",
       "      <td>0</td>\n",
       "    </tr>\n",
       "    <tr>\n",
       "      <th>2481</th>\n",
       "      <td>69.150002</td>\n",
       "      <td>69.150002</td>\n",
       "      <td>69.330002</td>\n",
       "      <td>66.519997</td>\n",
       "      <td>72.699997</td>\n",
       "      <td>68.870003</td>\n",
       "      <td>1.051338</td>\n",
       "      <td>0.995951</td>\n",
       "      <td>0</td>\n",
       "    </tr>\n",
       "  </tbody>\n",
       "</table>\n",
       "</div>"
      ],
      "text/plain": [
       "          Value      Close       High        Low   NextHigh    NextLow  \\\n",
       "2477  72.709999  72.709999  76.000000  71.500000  74.110001  70.238998   \n",
       "2478  72.510002  72.510002  74.110001  70.238998  73.254997  68.519997   \n",
       "2479  71.110001  71.110001  73.254997  68.519997  70.089996  67.260002   \n",
       "2480  67.779999  67.779999  70.089996  67.260002  69.330002  66.519997   \n",
       "2481  69.150002  69.150002  69.330002  66.519997  72.699997  68.870003   \n",
       "\n",
       "      HighMult   LowMult  Trend  \n",
       "2477  1.019255  0.966016      0  \n",
       "2478  1.010274  0.944973      0  \n",
       "2479  0.985656  0.945859      0  \n",
       "2480  1.022868  0.981410      0  \n",
       "2481  1.051338  0.995951      0  "
      ]
     },
     "execution_count": 24,
     "metadata": {},
     "output_type": "execute_result"
    }
   ],
   "source": [
    "rblx['Trend'] = get_macd(rblx)\n",
    "rblx.head()"
   ]
  },
  {
   "cell_type": "code",
   "execution_count": 25,
   "id": "686f9ee4",
   "metadata": {},
   "outputs": [],
   "source": [
    "def get_hilo_mults(stock, ci=0.95):\n",
    "    stock['Trend'] = get_macd(stock)\n",
    "    stock['NextHigh'] = stock.High.shift(-1)\n",
    "    stock['NextLow'] = stock.Low.shift(-1)\n",
    "    stock['HighMult'] = stock.NextHigh / stock.Close\n",
    "    stock['LowMult'] = stock.NextLow / stock.Close\n",
    "    upward = stock[stock.Trend == 1]\n",
    "    downward = stock[stock.Trend == 0]\n",
    "    sell_pt_up = upward.HighMult.quantile(q=[1 - ci]).tolist()[0]\n",
    "    buy_pt_up = upward.LowMult.quantile(q=[ci]).tolist()[0]\n",
    "    sell_pt_down = downward.HighMult.quantile(q=[1 - ci]).tolist()[0]\n",
    "    buy_pt_down = downward.LowMult.quantile(q=[ci]).tolist()[0]\n",
    "    return buy_pt_up, sell_pt_up, buy_pt_down, sell_pt_down"
   ]
  },
  {
   "cell_type": "code",
   "execution_count": 26,
   "id": "c1661954",
   "metadata": {},
   "outputs": [
    {
     "data": {
      "text/plain": [
       "(1.012017586398899, 0.9836001347374321, 1.0162802549414012, 0.9783120226020972)"
      ]
     },
     "execution_count": 26,
     "metadata": {},
     "output_type": "execute_result"
    }
   ],
   "source": [
    "get_hilo_mults(rblx)"
   ]
  },
  {
   "cell_type": "code",
   "execution_count": 27,
   "id": "8577104e",
   "metadata": {},
   "outputs": [
    {
     "data": {
      "text/plain": [
       "(1.008703320114399, 0.9989435328711656, 1.0036164399969394, 0.9989814941042418)"
      ]
     },
     "execution_count": 27,
     "metadata": {},
     "output_type": "execute_result"
    }
   ],
   "source": [
    "get_hilo_mults(aapl)"
   ]
  },
  {
   "cell_type": "code",
   "execution_count": 28,
   "id": "a5355f5b",
   "metadata": {},
   "outputs": [
    {
     "data": {
      "text/html": [
       "<div>\n",
       "<style scoped>\n",
       "    .dataframe tbody tr th:only-of-type {\n",
       "        vertical-align: middle;\n",
       "    }\n",
       "\n",
       "    .dataframe tbody tr th {\n",
       "        vertical-align: top;\n",
       "    }\n",
       "\n",
       "    .dataframe thead th {\n",
       "        text-align: right;\n",
       "    }\n",
       "</style>\n",
       "<table border=\"1\" class=\"dataframe\">\n",
       "  <thead>\n",
       "    <tr style=\"text-align: right;\">\n",
       "      <th></th>\n",
       "      <th>stock</th>\n",
       "      <th>buy_pt_up</th>\n",
       "      <th>sell_pt_up</th>\n",
       "      <th>buy_pt_down</th>\n",
       "      <th>sell_pt_down</th>\n",
       "    </tr>\n",
       "  </thead>\n",
       "  <tbody>\n",
       "    <tr>\n",
       "      <th>0</th>\n",
       "      <td>AAPL</td>\n",
       "      <td>1.008703</td>\n",
       "      <td>0.998944</td>\n",
       "      <td>1.003616</td>\n",
       "      <td>0.998981</td>\n",
       "    </tr>\n",
       "    <tr>\n",
       "      <th>1</th>\n",
       "      <td>ABMD</td>\n",
       "      <td>1.001996</td>\n",
       "      <td>0.995638</td>\n",
       "      <td>1.008417</td>\n",
       "      <td>0.993068</td>\n",
       "    </tr>\n",
       "    <tr>\n",
       "      <th>2</th>\n",
       "      <td>ABNB</td>\n",
       "      <td>1.018150</td>\n",
       "      <td>0.987796</td>\n",
       "      <td>1.010346</td>\n",
       "      <td>1.003238</td>\n",
       "    </tr>\n",
       "    <tr>\n",
       "      <th>3</th>\n",
       "      <td>ADBE</td>\n",
       "      <td>1.005738</td>\n",
       "      <td>0.990159</td>\n",
       "      <td>1.010554</td>\n",
       "      <td>0.993664</td>\n",
       "    </tr>\n",
       "    <tr>\n",
       "      <th>4</th>\n",
       "      <td>ADYEY</td>\n",
       "      <td>1.031267</td>\n",
       "      <td>0.970926</td>\n",
       "      <td>1.031297</td>\n",
       "      <td>0.954860</td>\n",
       "    </tr>\n",
       "  </tbody>\n",
       "</table>\n",
       "</div>"
      ],
      "text/plain": [
       "   stock  buy_pt_up  sell_pt_up  buy_pt_down  sell_pt_down\n",
       "0   AAPL   1.008703    0.998944     1.003616      0.998981\n",
       "1   ABMD   1.001996    0.995638     1.008417      0.993068\n",
       "2   ABNB   1.018150    0.987796     1.010346      1.003238\n",
       "3   ADBE   1.005738    0.990159     1.010554      0.993664\n",
       "4  ADYEY   1.031267    0.970926     1.031297      0.954860"
      ]
     },
     "execution_count": 28,
     "metadata": {},
     "output_type": "execute_result"
    }
   ],
   "source": [
    "out = []\n",
    "for symbol in batch:\n",
    "    stock = get_stock_data(symbol, data)\n",
    "    mults = get_hilo_mults(stock)\n",
    "    out.append([symbol, *mults])\n",
    "df = pd.DataFrame(\n",
    "    out, \n",
    "    columns=['stock', 'buy_pt_up', 'sell_pt_up', 'buy_pt_down', \n",
    "             'sell_pt_down'])\n",
    "df.head()"
   ]
  },
  {
   "cell_type": "code",
   "execution_count": 29,
   "id": "1f47cac8",
   "metadata": {},
   "outputs": [
    {
     "data": {
      "text/html": [
       "<div>\n",
       "<style scoped>\n",
       "    .dataframe tbody tr th:only-of-type {\n",
       "        vertical-align: middle;\n",
       "    }\n",
       "\n",
       "    .dataframe tbody tr th {\n",
       "        vertical-align: top;\n",
       "    }\n",
       "\n",
       "    .dataframe thead th {\n",
       "        text-align: right;\n",
       "    }\n",
       "</style>\n",
       "<table border=\"1\" class=\"dataframe\">\n",
       "  <thead>\n",
       "    <tr style=\"text-align: right;\">\n",
       "      <th></th>\n",
       "      <th>price</th>\n",
       "      <th>stock</th>\n",
       "    </tr>\n",
       "  </thead>\n",
       "  <tbody>\n",
       "    <tr>\n",
       "      <th>AAPL</th>\n",
       "      <td>155.809998</td>\n",
       "      <td>AAPL</td>\n",
       "    </tr>\n",
       "    <tr>\n",
       "      <th>ABMD</th>\n",
       "      <td>261.23999</td>\n",
       "      <td>ABMD</td>\n",
       "    </tr>\n",
       "    <tr>\n",
       "      <th>ABNB</th>\n",
       "      <td>113.639999</td>\n",
       "      <td>ABNB</td>\n",
       "    </tr>\n",
       "    <tr>\n",
       "      <th>ADBE</th>\n",
       "      <td>368.140015</td>\n",
       "      <td>ADBE</td>\n",
       "    </tr>\n",
       "    <tr>\n",
       "      <th>ADYEY</th>\n",
       "      <td>14.675</td>\n",
       "      <td>ADYEY</td>\n",
       "    </tr>\n",
       "    <tr>\n",
       "      <th>...</th>\n",
       "      <td>...</td>\n",
       "      <td>...</td>\n",
       "    </tr>\n",
       "    <tr>\n",
       "      <th>ZEN</th>\n",
       "      <td>76.769997</td>\n",
       "      <td>ZEN</td>\n",
       "    </tr>\n",
       "    <tr>\n",
       "      <th>ZM</th>\n",
       "      <td>80.790001</td>\n",
       "      <td>ZM</td>\n",
       "    </tr>\n",
       "    <tr>\n",
       "      <th>^GSPC</th>\n",
       "      <td>3924.26001</td>\n",
       "      <td>^GSPC</td>\n",
       "    </tr>\n",
       "    <tr>\n",
       "      <th>^IXIC</th>\n",
       "      <td>11630.860352</td>\n",
       "      <td>^IXIC</td>\n",
       "    </tr>\n",
       "    <tr>\n",
       "      <th>^NYA</th>\n",
       "      <td>14689.5</td>\n",
       "      <td>^NYA</td>\n",
       "    </tr>\n",
       "  </tbody>\n",
       "</table>\n",
       "<p>91 rows × 2 columns</p>\n",
       "</div>"
      ],
      "text/plain": [
       "              price  stock\n",
       "AAPL     155.809998   AAPL\n",
       "ABMD      261.23999   ABMD\n",
       "ABNB     113.639999   ABNB\n",
       "ADBE     368.140015   ADBE\n",
       "ADYEY        14.675  ADYEY\n",
       "...             ...    ...\n",
       "ZEN       76.769997    ZEN\n",
       "ZM        80.790001     ZM\n",
       "^GSPC    3924.26001  ^GSPC\n",
       "^IXIC  11630.860352  ^IXIC\n",
       "^NYA        14689.5   ^NYA\n",
       "\n",
       "[91 rows x 2 columns]"
      ]
     },
     "execution_count": 29,
     "metadata": {},
     "output_type": "execute_result"
    }
   ],
   "source": [
    "last = data.index.max()\n",
    "price = pd.DataFrame(data.loc[last, 'Value'])\n",
    "price.columns = ['price']\n",
    "price['stock'] = price.index\n",
    "price"
   ]
  },
  {
   "cell_type": "code",
   "execution_count": 30,
   "id": "33f47eb9",
   "metadata": {},
   "outputs": [
    {
     "data": {
      "text/html": [
       "<div>\n",
       "<style scoped>\n",
       "    .dataframe tbody tr th:only-of-type {\n",
       "        vertical-align: middle;\n",
       "    }\n",
       "\n",
       "    .dataframe tbody tr th {\n",
       "        vertical-align: top;\n",
       "    }\n",
       "\n",
       "    .dataframe thead th {\n",
       "        text-align: right;\n",
       "    }\n",
       "</style>\n",
       "<table border=\"1\" class=\"dataframe\">\n",
       "  <thead>\n",
       "    <tr style=\"text-align: right;\">\n",
       "      <th></th>\n",
       "      <th>stock</th>\n",
       "      <th>buy_pt_up</th>\n",
       "      <th>sell_pt_up</th>\n",
       "      <th>buy_pt_down</th>\n",
       "      <th>sell_pt_down</th>\n",
       "      <th>price</th>\n",
       "    </tr>\n",
       "  </thead>\n",
       "  <tbody>\n",
       "    <tr>\n",
       "      <th>0</th>\n",
       "      <td>AAPL</td>\n",
       "      <td>1.008703</td>\n",
       "      <td>0.998944</td>\n",
       "      <td>1.003616</td>\n",
       "      <td>0.998981</td>\n",
       "      <td>155.809998</td>\n",
       "    </tr>\n",
       "    <tr>\n",
       "      <th>1</th>\n",
       "      <td>ABMD</td>\n",
       "      <td>1.001996</td>\n",
       "      <td>0.995638</td>\n",
       "      <td>1.008417</td>\n",
       "      <td>0.993068</td>\n",
       "      <td>261.23999</td>\n",
       "    </tr>\n",
       "    <tr>\n",
       "      <th>2</th>\n",
       "      <td>ABNB</td>\n",
       "      <td>1.018150</td>\n",
       "      <td>0.987796</td>\n",
       "      <td>1.010346</td>\n",
       "      <td>1.003238</td>\n",
       "      <td>113.639999</td>\n",
       "    </tr>\n",
       "    <tr>\n",
       "      <th>3</th>\n",
       "      <td>ADBE</td>\n",
       "      <td>1.005738</td>\n",
       "      <td>0.990159</td>\n",
       "      <td>1.010554</td>\n",
       "      <td>0.993664</td>\n",
       "      <td>368.140015</td>\n",
       "    </tr>\n",
       "    <tr>\n",
       "      <th>4</th>\n",
       "      <td>ADYEY</td>\n",
       "      <td>1.031267</td>\n",
       "      <td>0.970926</td>\n",
       "      <td>1.031297</td>\n",
       "      <td>0.954860</td>\n",
       "      <td>14.675</td>\n",
       "    </tr>\n",
       "  </tbody>\n",
       "</table>\n",
       "</div>"
      ],
      "text/plain": [
       "   stock  buy_pt_up  sell_pt_up  buy_pt_down  sell_pt_down       price\n",
       "0   AAPL   1.008703    0.998944     1.003616      0.998981  155.809998\n",
       "1   ABMD   1.001996    0.995638     1.008417      0.993068   261.23999\n",
       "2   ABNB   1.018150    0.987796     1.010346      1.003238  113.639999\n",
       "3   ADBE   1.005738    0.990159     1.010554      0.993664  368.140015\n",
       "4  ADYEY   1.031267    0.970926     1.031297      0.954860      14.675"
      ]
     },
     "execution_count": 30,
     "metadata": {},
     "output_type": "execute_result"
    }
   ],
   "source": [
    "df = df.merge(price, how='left', on='stock')\n",
    "df.head()"
   ]
  },
  {
   "cell_type": "code",
   "execution_count": 31,
   "id": "22bf6bff",
   "metadata": {},
   "outputs": [],
   "source": [
    "df.to_csv('mults.csv', index=False)\n",
    "!open ./mults.csv"
   ]
  },
  {
   "cell_type": "code",
   "execution_count": null,
   "id": "bf2de939",
   "metadata": {},
   "outputs": [],
   "source": []
  }
 ],
 "metadata": {
  "kernelspec": {
   "display_name": "Python 3 (ipykernel)",
   "language": "python",
   "name": "python3"
  },
  "language_info": {
   "codemirror_mode": {
    "name": "ipython",
    "version": 3
   },
   "file_extension": ".py",
   "mimetype": "text/x-python",
   "name": "python",
   "nbconvert_exporter": "python",
   "pygments_lexer": "ipython3",
   "version": "3.10.6"
  }
 },
 "nbformat": 4,
 "nbformat_minor": 5
}
