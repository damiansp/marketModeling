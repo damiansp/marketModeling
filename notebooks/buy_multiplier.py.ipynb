{
 "cells": [
  {
   "cell_type": "code",
   "execution_count": 1,
   "id": "51a9dcf3",
   "metadata": {},
   "outputs": [],
   "source": [
    "from datetime import datetime, timedelta\n",
    "\n",
    "import sys\n",
    "\n",
    "import matplotlib.pyplot as plt\n",
    "import numpy as np\n",
    "import pandas as pd\n",
    "\n",
    "sys.path.append('..')\n",
    "from util.stock_loader import Loader"
   ]
  },
  {
   "cell_type": "code",
   "execution_count": 5,
   "id": "e5c97a69",
   "metadata": {},
   "outputs": [
    {
     "data": {
      "text/plain": [
       "70"
      ]
     },
     "execution_count": 5,
     "metadata": {},
     "output_type": "execute_result"
    }
   ],
   "source": [
    "DATA = '../models/qp/data'\n",
    "SYMBOLS = [\n",
    "    'AAPL', 'ABMD', 'ABNB', 'ADSK', 'AMD', 'AMZN', 'ANET', 'APPH', \n",
    "    'AXON', 'BBY','BROS', 'BYND', 'COIN', 'COUR', 'CRWD', 'DDOG', \n",
    "    'DKNG', 'DOCU', 'DUOL', 'EDIT', 'ETSY', 'EVGO', 'FTCH', 'FUV', \n",
    "    'FVRR', 'GH', 'GMED', 'GOOG', 'INTG', 'ISRG', 'JD', 'LSPD', 'LULU',\n",
    "    'MDB', 'MEDP', 'MELI', 'MNST', 'MSFT', 'MTCH', 'NVCR', 'NVDA', \n",
    "    'NYT', 'OKTA', 'OPEN', 'PANW', 'PINS', 'PTON', 'QDEL', 'RDFN',\n",
    "    'RGEN', 'ROKU', 'SE', 'SHOP', 'SOLO', 'SPLK', 'SQ', 'TASK', 'TDOC',\n",
    "    'TEAM', 'TREX', 'TTD', 'TTWO', 'TWLO', 'TWTR', 'UPST', 'VEEV', 'WK',\n",
    "    'XPEV', 'ZEN', 'ZNGA']\n",
    "INDICES = ['^GSPC', # S&P 500\n",
    "           '^IXIC', # Nasdaq\n",
    "           '^NYA']  # NY Stock Exchange (total)\n",
    "len(SYMBOLS)"
   ]
  },
  {
   "cell_type": "code",
   "execution_count": 6,
   "id": "a79aa1f3",
   "metadata": {},
   "outputs": [
    {
     "data": {
      "text/plain": [
       "('2017-01-14', datetime.date(2022, 1, 14))"
      ]
     },
     "execution_count": 6,
     "metadata": {},
     "output_type": "execute_result"
    }
   ],
   "source": [
    "N_YEARS = 5\n",
    "N_DAYS = int(round(365.25 * N_YEARS))\n",
    "TODAY = (datetime.now() + timedelta(1)).date()\n",
    "START = str(TODAY - timedelta(N_DAYS))\n",
    "START, TODAY"
   ]
  },
  {
   "cell_type": "code",
   "execution_count": 7,
   "id": "6fa75879",
   "metadata": {},
   "outputs": [
    {
     "name": "stdout",
     "output_type": "stream",
     "text": [
      "[*********************100%***********************]  73 of 73 completed\n",
      "Generating derived columns...\n",
      "   ...AAPL\n",
      "   ...ABMD\n",
      "   ...ABNB\n",
      "   ...ADSK\n",
      "   ...AMD\n",
      "   ...AMZN\n",
      "   ...ANET\n",
      "   ...APPH\n",
      "   ...AXON\n",
      "   ...BBY\n",
      "   ...BROS\n",
      "   ...BYND\n",
      "   ...COIN\n",
      "   ...COUR\n",
      "   ...CRWD\n",
      "   ...DDOG\n",
      "   ...DKNG\n",
      "   ...DOCU\n",
      "   ...DUOL\n",
      "   ...EDIT\n",
      "   ...ETSY\n",
      "   ...EVGO\n",
      "   ...FTCH\n",
      "   ...FUV\n",
      "   ...FVRR\n",
      "   ...GH\n",
      "   ...GMED\n",
      "   ...GOOG\n",
      "   ...INTG\n",
      "   ...ISRG\n",
      "   ...JD\n",
      "   ...LSPD\n",
      "   ...LULU\n",
      "   ...MDB\n",
      "   ...MEDP\n",
      "   ...MELI\n",
      "   ...MNST\n",
      "   ...MSFT\n",
      "   ...MTCH\n",
      "   ...NVCR\n",
      "   ...NVDA\n",
      "   ...NYT\n",
      "   ...OKTA\n",
      "   ...OPEN\n",
      "   ...PANW\n",
      "   ...PINS\n",
      "   ...PTON\n",
      "   ...QDEL\n",
      "   ...RDFN\n",
      "   ...RGEN\n",
      "   ...ROKU\n",
      "   ...SE\n",
      "   ...SHOP\n",
      "   ...SOLO\n",
      "   ...SPLK\n",
      "   ...SQ\n",
      "   ...TASK\n",
      "   ...TDOC\n",
      "   ...TEAM\n",
      "   ...TREX\n",
      "   ...TTD\n",
      "   ...TTWO\n",
      "   ...TWLO\n",
      "   ...TWTR\n",
      "   ...UPST\n",
      "   ...VEEV\n",
      "   ...WK\n",
      "   ...XPEV\n",
      "   ...ZEN\n",
      "   ...ZNGA\n",
      "   ...^GSPC\n",
      "   ...^IXIC\n",
      "   ...^NYA\n"
     ]
    }
   ],
   "source": [
    "batch = SYMBOLS + INDICES # run all\n",
    "stock_loader = Loader(batch, START, verbose=True)\n",
    "data = stock_loader.download().rename(columns={'Adj Close': 'AdjClose'})"
   ]
  },
  {
   "cell_type": "code",
   "execution_count": 8,
   "id": "cad01219",
   "metadata": {},
   "outputs": [
    {
     "data": {
      "text/plain": [
       "1       1.001764\n",
       "2       0.996391\n",
       "3       1.003366\n",
       "4       0.997310\n",
       "5       1.006565\n",
       "          ...   \n",
       "1253    0.999036\n",
       "1254    0.995950\n",
       "1255    0.998559\n",
       "1256    1.009160\n",
       "1257    1.002818\n",
       "Name: ^GSPC, Length: 1257, dtype: float64"
      ]
     },
     "execution_count": 8,
     "metadata": {},
     "output_type": "execute_result"
    }
   ],
   "source": [
    "spx = data['DayToDayChange']['^GSPC']\n",
    "spx = spx[1:]\n",
    "#spx = spx / spx[1]\n",
    "spx"
   ]
  },
  {
   "cell_type": "code",
   "execution_count": 9,
   "id": "e47707d7",
   "metadata": {},
   "outputs": [
    {
     "data": {
      "text/html": [
       "<div>\n",
       "<style scoped>\n",
       "    .dataframe tbody tr th:only-of-type {\n",
       "        vertical-align: middle;\n",
       "    }\n",
       "\n",
       "    .dataframe tbody tr th {\n",
       "        vertical-align: top;\n",
       "    }\n",
       "\n",
       "    .dataframe thead th {\n",
       "        text-align: right;\n",
       "    }\n",
       "</style>\n",
       "<table border=\"1\" class=\"dataframe\">\n",
       "  <thead>\n",
       "    <tr style=\"text-align: right;\">\n",
       "      <th></th>\n",
       "      <th>0.75</th>\n",
       "    </tr>\n",
       "  </thead>\n",
       "  <tbody>\n",
       "    <tr>\n",
       "      <th>1</th>\n",
       "      <td>1.009512</td>\n",
       "    </tr>\n",
       "    <tr>\n",
       "      <th>2</th>\n",
       "      <td>1.007769</td>\n",
       "    </tr>\n",
       "    <tr>\n",
       "      <th>3</th>\n",
       "      <td>1.007687</td>\n",
       "    </tr>\n",
       "    <tr>\n",
       "      <th>4</th>\n",
       "      <td>1.005646</td>\n",
       "    </tr>\n",
       "    <tr>\n",
       "      <th>5</th>\n",
       "      <td>1.014580</td>\n",
       "    </tr>\n",
       "    <tr>\n",
       "      <th>...</th>\n",
       "      <td>...</td>\n",
       "    </tr>\n",
       "    <tr>\n",
       "      <th>1253</th>\n",
       "      <td>1.015381</td>\n",
       "    </tr>\n",
       "    <tr>\n",
       "      <th>1254</th>\n",
       "      <td>0.999939</td>\n",
       "    </tr>\n",
       "    <tr>\n",
       "      <th>1255</th>\n",
       "      <td>1.015979</td>\n",
       "    </tr>\n",
       "    <tr>\n",
       "      <th>1256</th>\n",
       "      <td>1.041362</td>\n",
       "    </tr>\n",
       "    <tr>\n",
       "      <th>1257</th>\n",
       "      <td>1.009894</td>\n",
       "    </tr>\n",
       "  </tbody>\n",
       "</table>\n",
       "<p>1257 rows × 1 columns</p>\n",
       "</div>"
      ],
      "text/plain": [
       "          0.75\n",
       "1     1.009512\n",
       "2     1.007769\n",
       "3     1.007687\n",
       "4     1.005646\n",
       "5     1.014580\n",
       "...        ...\n",
       "1253  1.015381\n",
       "1254  0.999939\n",
       "1255  1.015979\n",
       "1256  1.041362\n",
       "1257  1.009894\n",
       "\n",
       "[1257 rows x 1 columns]"
      ]
     },
     "execution_count": 9,
     "metadata": {},
     "output_type": "execute_result"
    }
   ],
   "source": [
    "data['DayToDayChange'].quantile(q=[0.75], axis=1).T[1:]"
   ]
  },
  {
   "cell_type": "code",
   "execution_count": 10,
   "id": "b41cb446",
   "metadata": {},
   "outputs": [
    {
     "data": {
      "image/png": "[encoded data removed]",
      "text/plain": [
       "<Figure size 864x576 with 1 Axes>"
      ]
     },
     "metadata": {
      "needs_background": "light"
     },
     "output_type": "display_data"
    }
   ],
   "source": [
    "plt.figure(figsize=[12, 8])\n",
    "plt.plot(data['DayToDayChange'].mean(axis=1)[1:].cumprod(), \n",
    "         label='These Avg Daily')\n",
    "plt.plot(data['DayToDayChange'].cumprod().mean(axis=1),\n",
    "         label='These Avg Cumul')\n",
    "#plt.plot(data['DayToDayChange']\n",
    "#         .quantile(q=[0.52], axis=1)\n",
    "#         .T[1:]\n",
    "#         .cumprod(), \n",
    "#         label='52')\n",
    "plt.plot(spx.cumprod(), label='spx')\n",
    "plt.yscale('log')\n",
    "plt.legend();\n",
    "\n",
    "n = len(spx)\n",
    "one_year = n - 250\n",
    "plt.axvline(x=one_year, color='k');"
   ]
  },
  {
   "cell_type": "code",
   "execution_count": 11,
   "id": "c74422bb",
   "metadata": {},
   "outputs": [
    {
     "data": {
      "image/png": "[encoded data removed]",
      "text/plain": [
       "<Figure size 864x576 with 1 Axes>"
      ]
     },
     "metadata": {
      "needs_background": "light"
     },
     "output_type": "display_data"
    }
   ],
   "source": [
    "plt.figure(figsize=[12, 8])\n",
    "plt.plot(data['DayToDayChange'].mean(axis=1)[1:].cumprod(), \n",
    "         label='These Avg Daily')\n",
    "plt.plot(data['DayToDayChange'].cumprod().mean(axis=1),\n",
    "         label='These Avg Cumul')\n",
    "#plt.plot(data['DayToDayChange']\n",
    "#         .quantile(q=[0.52], axis=1)\n",
    "#         .T[1:]\n",
    "#         .cumprod(), \n",
    "#         label='52')\n",
    "plt.plot(spx.cumprod(), label='spx')\n",
    "plt.yscale('log')\n",
    "plt.xlim([one_year, n + 10])\n",
    "plt.ylim([10 ** 0, 10 ** 1.3])\n",
    "plt.legend();\n",
    "\n",
    "n = len(spx)\n",
    "one_year = n - 250\n",
    "plt.axvline(x=one_year, color='k');"
   ]
  },
  {
   "cell_type": "code",
   "execution_count": 12,
   "id": "d7aca03a",
   "metadata": {},
   "outputs": [],
   "source": [
    "def get_stock_data(stock, data):\n",
    "    sub = data.loc[\n",
    "        :,  \n",
    "        [x for x in list(data) if x[1] == stock]]\n",
    "    first_value = (sub.Value[stock][sub.Value[stock].notna()]\n",
    "                   .index[0])\n",
    "    sub = sub.loc[first_value:, :]\n",
    "    sub.columns = sub.columns.to_series().apply(lambda x: x[0])\n",
    "    sub.fillna(method='ffill', inplace=True)\n",
    "    return sub"
   ]
  },
  {
   "cell_type": "code",
   "execution_count": 14,
   "id": "af0c46be",
   "metadata": {},
   "outputs": [
    {
     "data": {
      "text/html": [
       "<div>\n",
       "<style scoped>\n",
       "    .dataframe tbody tr th:only-of-type {\n",
       "        vertical-align: middle;\n",
       "    }\n",
       "\n",
       "    .dataframe tbody tr th {\n",
       "        vertical-align: top;\n",
       "    }\n",
       "\n",
       "    .dataframe thead th {\n",
       "        text-align: right;\n",
       "    }\n",
       "</style>\n",
       "<table border=\"1\" class=\"dataframe\">\n",
       "  <thead>\n",
       "    <tr style=\"text-align: right;\">\n",
       "      <th></th>\n",
       "      <th>Value</th>\n",
       "      <th>Close</th>\n",
       "      <th>High</th>\n",
       "      <th>Low</th>\n",
       "      <th>Open</th>\n",
       "      <th>LogValue</th>\n",
       "      <th>IntradayChange</th>\n",
       "      <th>DayToDayChange</th>\n",
       "      <th>OvernightChange</th>\n",
       "    </tr>\n",
       "  </thead>\n",
       "  <tbody>\n",
       "    <tr>\n",
       "      <th>193</th>\n",
       "      <td>16.26</td>\n",
       "      <td>16.26</td>\n",
       "      <td>16.990</td>\n",
       "      <td>14.00</td>\n",
       "      <td>16.25</td>\n",
       "      <td>2.788708</td>\n",
       "      <td>1.000615</td>\n",
       "      <td>NaN</td>\n",
       "      <td>NaN</td>\n",
       "    </tr>\n",
       "    <tr>\n",
       "      <th>194</th>\n",
       "      <td>15.26</td>\n",
       "      <td>15.26</td>\n",
       "      <td>16.399</td>\n",
       "      <td>15.12</td>\n",
       "      <td>16.10</td>\n",
       "      <td>2.725235</td>\n",
       "      <td>0.947826</td>\n",
       "      <td>0.938499</td>\n",
       "      <td>0.990160</td>\n",
       "    </tr>\n",
       "    <tr>\n",
       "      <th>195</th>\n",
       "      <td>15.24</td>\n",
       "      <td>15.24</td>\n",
       "      <td>15.860</td>\n",
       "      <td>14.77</td>\n",
       "      <td>15.40</td>\n",
       "      <td>2.723924</td>\n",
       "      <td>0.989610</td>\n",
       "      <td>0.998689</td>\n",
       "      <td>1.009174</td>\n",
       "    </tr>\n",
       "    <tr>\n",
       "      <th>196</th>\n",
       "      <td>13.73</td>\n",
       "      <td>13.73</td>\n",
       "      <td>15.430</td>\n",
       "      <td>13.62</td>\n",
       "      <td>15.10</td>\n",
       "      <td>2.619583</td>\n",
       "      <td>0.909271</td>\n",
       "      <td>0.900919</td>\n",
       "      <td>0.990814</td>\n",
       "    </tr>\n",
       "    <tr>\n",
       "      <th>197</th>\n",
       "      <td>14.02</td>\n",
       "      <td>14.02</td>\n",
       "      <td>14.160</td>\n",
       "      <td>13.81</td>\n",
       "      <td>13.82</td>\n",
       "      <td>2.640485</td>\n",
       "      <td>1.014472</td>\n",
       "      <td>1.021122</td>\n",
       "      <td>1.006555</td>\n",
       "    </tr>\n",
       "  </tbody>\n",
       "</table>\n",
       "</div>"
      ],
      "text/plain": [
       "     Value  Close    High    Low   Open  LogValue  IntradayChange  \\\n",
       "193  16.26  16.26  16.990  14.00  16.25  2.788708        1.000615   \n",
       "194  15.26  15.26  16.399  15.12  16.10  2.725235        0.947826   \n",
       "195  15.24  15.24  15.860  14.77  15.40  2.723924        0.989610   \n",
       "196  13.73  13.73  15.430  13.62  15.10  2.619583        0.909271   \n",
       "197  14.02  14.02  14.160  13.81  13.82  2.640485        1.014472   \n",
       "\n",
       "     DayToDayChange  OvernightChange  \n",
       "193             NaN              NaN  \n",
       "194        0.938499         0.990160  \n",
       "195        0.998689         1.009174  \n",
       "196        0.900919         0.990814  \n",
       "197        1.021122         1.006555  "
      ]
     },
     "execution_count": 14,
     "metadata": {},
     "output_type": "execute_result"
    }
   ],
   "source": [
    "rblx = get_stock_data('SE', data)\n",
    "rblx.head()"
   ]
  },
  {
   "cell_type": "code",
   "execution_count": 15,
   "id": "cf057d19",
   "metadata": {},
   "outputs": [
    {
     "data": {
      "text/html": [
       "<div>\n",
       "<style scoped>\n",
       "    .dataframe tbody tr th:only-of-type {\n",
       "        vertical-align: middle;\n",
       "    }\n",
       "\n",
       "    .dataframe tbody tr th {\n",
       "        vertical-align: top;\n",
       "    }\n",
       "\n",
       "    .dataframe thead th {\n",
       "        text-align: right;\n",
       "    }\n",
       "</style>\n",
       "<table border=\"1\" class=\"dataframe\">\n",
       "  <thead>\n",
       "    <tr style=\"text-align: right;\">\n",
       "      <th></th>\n",
       "      <th>Value</th>\n",
       "      <th>Close</th>\n",
       "      <th>High</th>\n",
       "      <th>Low</th>\n",
       "    </tr>\n",
       "  </thead>\n",
       "  <tbody>\n",
       "    <tr>\n",
       "      <th>193</th>\n",
       "      <td>16.26</td>\n",
       "      <td>16.26</td>\n",
       "      <td>16.990</td>\n",
       "      <td>14.00</td>\n",
       "    </tr>\n",
       "    <tr>\n",
       "      <th>194</th>\n",
       "      <td>15.26</td>\n",
       "      <td>15.26</td>\n",
       "      <td>16.399</td>\n",
       "      <td>15.12</td>\n",
       "    </tr>\n",
       "    <tr>\n",
       "      <th>195</th>\n",
       "      <td>15.24</td>\n",
       "      <td>15.24</td>\n",
       "      <td>15.860</td>\n",
       "      <td>14.77</td>\n",
       "    </tr>\n",
       "    <tr>\n",
       "      <th>196</th>\n",
       "      <td>13.73</td>\n",
       "      <td>13.73</td>\n",
       "      <td>15.430</td>\n",
       "      <td>13.62</td>\n",
       "    </tr>\n",
       "    <tr>\n",
       "      <th>197</th>\n",
       "      <td>14.02</td>\n",
       "      <td>14.02</td>\n",
       "      <td>14.160</td>\n",
       "      <td>13.81</td>\n",
       "    </tr>\n",
       "  </tbody>\n",
       "</table>\n",
       "</div>"
      ],
      "text/plain": [
       "     Value  Close    High    Low\n",
       "193  16.26  16.26  16.990  14.00\n",
       "194  15.26  15.26  16.399  15.12\n",
       "195  15.24  15.24  15.860  14.77\n",
       "196  13.73  13.73  15.430  13.62\n",
       "197  14.02  14.02  14.160  13.81"
      ]
     },
     "execution_count": 15,
     "metadata": {},
     "output_type": "execute_result"
    }
   ],
   "source": [
    "rblx = rblx[['Value', 'Close', 'High', 'Low']]\n",
    "rblx.head()"
   ]
  },
  {
   "cell_type": "code",
   "execution_count": 16,
   "id": "ecd6ae06",
   "metadata": {},
   "outputs": [
    {
     "data": {
      "text/html": [
       "<div>\n",
       "<style scoped>\n",
       "    .dataframe tbody tr th:only-of-type {\n",
       "        vertical-align: middle;\n",
       "    }\n",
       "\n",
       "    .dataframe tbody tr th {\n",
       "        vertical-align: top;\n",
       "    }\n",
       "\n",
       "    .dataframe thead th {\n",
       "        text-align: right;\n",
       "    }\n",
       "</style>\n",
       "<table border=\"1\" class=\"dataframe\">\n",
       "  <thead>\n",
       "    <tr style=\"text-align: right;\">\n",
       "      <th></th>\n",
       "      <th>Value</th>\n",
       "      <th>Close</th>\n",
       "      <th>High</th>\n",
       "      <th>Low</th>\n",
       "      <th>NextHigh</th>\n",
       "      <th>NextLow</th>\n",
       "      <th>HighMult</th>\n",
       "      <th>LowMult</th>\n",
       "    </tr>\n",
       "  </thead>\n",
       "  <tbody>\n",
       "    <tr>\n",
       "      <th>193</th>\n",
       "      <td>16.26</td>\n",
       "      <td>16.26</td>\n",
       "      <td>16.990</td>\n",
       "      <td>14.00</td>\n",
       "      <td>16.399</td>\n",
       "      <td>15.12</td>\n",
       "      <td>1.008549</td>\n",
       "      <td>0.929889</td>\n",
       "    </tr>\n",
       "    <tr>\n",
       "      <th>194</th>\n",
       "      <td>15.26</td>\n",
       "      <td>15.26</td>\n",
       "      <td>16.399</td>\n",
       "      <td>15.12</td>\n",
       "      <td>15.860</td>\n",
       "      <td>14.77</td>\n",
       "      <td>1.039318</td>\n",
       "      <td>0.967890</td>\n",
       "    </tr>\n",
       "    <tr>\n",
       "      <th>195</th>\n",
       "      <td>15.24</td>\n",
       "      <td>15.24</td>\n",
       "      <td>15.860</td>\n",
       "      <td>14.77</td>\n",
       "      <td>15.430</td>\n",
       "      <td>13.62</td>\n",
       "      <td>1.012467</td>\n",
       "      <td>0.893701</td>\n",
       "    </tr>\n",
       "    <tr>\n",
       "      <th>196</th>\n",
       "      <td>13.73</td>\n",
       "      <td>13.73</td>\n",
       "      <td>15.430</td>\n",
       "      <td>13.62</td>\n",
       "      <td>14.160</td>\n",
       "      <td>13.81</td>\n",
       "      <td>1.031318</td>\n",
       "      <td>1.005827</td>\n",
       "    </tr>\n",
       "    <tr>\n",
       "      <th>197</th>\n",
       "      <td>14.02</td>\n",
       "      <td>14.02</td>\n",
       "      <td>14.160</td>\n",
       "      <td>13.81</td>\n",
       "      <td>14.130</td>\n",
       "      <td>13.80</td>\n",
       "      <td>1.007846</td>\n",
       "      <td>0.984308</td>\n",
       "    </tr>\n",
       "  </tbody>\n",
       "</table>\n",
       "</div>"
      ],
      "text/plain": [
       "     Value  Close    High    Low  NextHigh  NextLow  HighMult   LowMult\n",
       "193  16.26  16.26  16.990  14.00    16.399    15.12  1.008549  0.929889\n",
       "194  15.26  15.26  16.399  15.12    15.860    14.77  1.039318  0.967890\n",
       "195  15.24  15.24  15.860  14.77    15.430    13.62  1.012467  0.893701\n",
       "196  13.73  13.73  15.430  13.62    14.160    13.81  1.031318  1.005827\n",
       "197  14.02  14.02  14.160  13.81    14.130    13.80  1.007846  0.984308"
      ]
     },
     "execution_count": 16,
     "metadata": {},
     "output_type": "execute_result"
    }
   ],
   "source": [
    "rblx['NextHigh'] = rblx.High.shift(-1)\n",
    "rblx['NextLow'] = rblx.Low.shift(-1)\n",
    "rblx['HighMult'] = rblx.NextHigh / rblx.Close\n",
    "rblx['LowMult'] = rblx.NextLow / rblx.Close\n",
    "rblx.head()"
   ]
  },
  {
   "cell_type": "code",
   "execution_count": 17,
   "id": "45515f54",
   "metadata": {},
   "outputs": [
    {
     "name": "stdout",
     "output_type": "stream",
     "text": [
      "0.05    0.991191\n",
      "Name: HighMult, dtype: float64\n"
     ]
    },
    {
     "data": {
      "image/png": "[encoded data removed]",
      "text/plain": [
       "<Figure size 432x288 with 1 Axes>"
      ]
     },
     "metadata": {
      "needs_background": "light"
     },
     "output_type": "display_data"
    }
   ],
   "source": [
    "# For selling:\n",
    "high_05 = rblx.HighMult.quantile(q=[0.05])\n",
    "print(high_05)\n",
    "plt.hist(rblx.HighMult)\n",
    "plt.axvline(x=high_05[0.05], color='red');"
   ]
  },
  {
   "cell_type": "code",
   "execution_count": 18,
   "id": "516dfb66",
   "metadata": {},
   "outputs": [
    {
     "name": "stdout",
     "output_type": "stream",
     "text": [
      "1.0133277156261993\n"
     ]
    },
    {
     "data": {
      "image/png": "[encoded data removed]",
      "text/plain": [
       "<Figure size 432x288 with 1 Axes>"
      ]
     },
     "metadata": {
      "needs_background": "light"
     },
     "output_type": "display_data"
    }
   ],
   "source": [
    "# For buying:\n",
    "low_95 = rblx.LowMult.quantile(q=[0.95])\n",
    "print(low_95.tolist()[0])\n",
    "plt.hist(rblx.LowMult)\n",
    "plt.axvline(x=low_95[0.95], color='red');"
   ]
  },
  {
   "cell_type": "code",
   "execution_count": 19,
   "id": "ed504c6f",
   "metadata": {},
   "outputs": [],
   "source": [
    "def get_hilo_mult(stock, ci=0.95):\n",
    "    stock['NextHigh'] = stock.High.shift(-1)\n",
    "    stock['NextLow'] = stock.Low.shift(-1)\n",
    "    stock['HighMult'] = stock.NextHigh / stock.Close\n",
    "    stock['LowMult'] = stock.NextLow / stock.Close\n",
    "    sell_pt = stock.HighMult.quantile(q=[1 - ci]).tolist()[0]\n",
    "    buy_pt = stock.LowMult.quantile(q=[ci]).tolist()[0]\n",
    "    return buy_pt, sell_pt"
   ]
  },
  {
   "cell_type": "code",
   "execution_count": 20,
   "id": "8eb58a9f",
   "metadata": {},
   "outputs": [
    {
     "data": {
      "text/plain": [
       "(1.0133277156261993, 0.991191439643496)"
      ]
     },
     "execution_count": 20,
     "metadata": {},
     "output_type": "execute_result"
    }
   ],
   "source": [
    "get_hilo_mult(rblx)"
   ]
  },
  {
   "cell_type": "code",
   "execution_count": 21,
   "id": "be666a16",
   "metadata": {},
   "outputs": [
    {
     "data": {
      "text/plain": [
       "(1.0094902711870617, 0.9934616246200441)"
      ]
     },
     "execution_count": 21,
     "metadata": {},
     "output_type": "execute_result"
    }
   ],
   "source": [
    "aapl = get_stock_data('AAPL', data)\n",
    "get_hilo_mult(aapl)"
   ]
  },
  {
   "cell_type": "code",
   "execution_count": 22,
   "id": "55370ffc",
   "metadata": {},
   "outputs": [],
   "source": [
    "def get_macd(stock_data, fast=60, slow=90, signal=80):\n",
    "    df = stock_data.copy()\n",
    "    exp1 = df.Value.ewm(span=fast, adjust=False).mean()\n",
    "    exp2 = df.Value.ewm(span=slow, adjust=False).mean()\n",
    "    macd = exp1 - exp2\n",
    "    exp3 = macd.ewm(span=signal, adjust=False).mean()\n",
    "    histo = macd - exp3\n",
    "    hdiff = histo.diff(1)\n",
    "    is_rising = 1 * (hdiff > 0)\n",
    "    return is_rising"
   ]
  },
  {
   "cell_type": "code",
   "execution_count": 23,
   "id": "c13b86b8",
   "metadata": {},
   "outputs": [
    {
     "data": {
      "text/html": [
       "<div>\n",
       "<style scoped>\n",
       "    .dataframe tbody tr th:only-of-type {\n",
       "        vertical-align: middle;\n",
       "    }\n",
       "\n",
       "    .dataframe tbody tr th {\n",
       "        vertical-align: top;\n",
       "    }\n",
       "\n",
       "    .dataframe thead th {\n",
       "        text-align: right;\n",
       "    }\n",
       "</style>\n",
       "<table border=\"1\" class=\"dataframe\">\n",
       "  <thead>\n",
       "    <tr style=\"text-align: right;\">\n",
       "      <th></th>\n",
       "      <th>Value</th>\n",
       "      <th>Close</th>\n",
       "      <th>High</th>\n",
       "      <th>Low</th>\n",
       "      <th>NextHigh</th>\n",
       "      <th>NextLow</th>\n",
       "      <th>HighMult</th>\n",
       "      <th>LowMult</th>\n",
       "      <th>Trend</th>\n",
       "    </tr>\n",
       "  </thead>\n",
       "  <tbody>\n",
       "    <tr>\n",
       "      <th>193</th>\n",
       "      <td>16.26</td>\n",
       "      <td>16.26</td>\n",
       "      <td>16.990</td>\n",
       "      <td>14.00</td>\n",
       "      <td>16.399</td>\n",
       "      <td>15.12</td>\n",
       "      <td>1.008549</td>\n",
       "      <td>0.929889</td>\n",
       "      <td>0</td>\n",
       "    </tr>\n",
       "    <tr>\n",
       "      <th>194</th>\n",
       "      <td>15.26</td>\n",
       "      <td>15.26</td>\n",
       "      <td>16.399</td>\n",
       "      <td>15.12</td>\n",
       "      <td>15.860</td>\n",
       "      <td>14.77</td>\n",
       "      <td>1.039318</td>\n",
       "      <td>0.967890</td>\n",
       "      <td>0</td>\n",
       "    </tr>\n",
       "    <tr>\n",
       "      <th>195</th>\n",
       "      <td>15.24</td>\n",
       "      <td>15.24</td>\n",
       "      <td>15.860</td>\n",
       "      <td>14.77</td>\n",
       "      <td>15.430</td>\n",
       "      <td>13.62</td>\n",
       "      <td>1.012467</td>\n",
       "      <td>0.893701</td>\n",
       "      <td>0</td>\n",
       "    </tr>\n",
       "    <tr>\n",
       "      <th>196</th>\n",
       "      <td>13.73</td>\n",
       "      <td>13.73</td>\n",
       "      <td>15.430</td>\n",
       "      <td>13.62</td>\n",
       "      <td>14.160</td>\n",
       "      <td>13.81</td>\n",
       "      <td>1.031318</td>\n",
       "      <td>1.005827</td>\n",
       "      <td>0</td>\n",
       "    </tr>\n",
       "    <tr>\n",
       "      <th>197</th>\n",
       "      <td>14.02</td>\n",
       "      <td>14.02</td>\n",
       "      <td>14.160</td>\n",
       "      <td>13.81</td>\n",
       "      <td>14.130</td>\n",
       "      <td>13.80</td>\n",
       "      <td>1.007846</td>\n",
       "      <td>0.984308</td>\n",
       "      <td>0</td>\n",
       "    </tr>\n",
       "  </tbody>\n",
       "</table>\n",
       "</div>"
      ],
      "text/plain": [
       "     Value  Close    High    Low  NextHigh  NextLow  HighMult   LowMult  Trend\n",
       "193  16.26  16.26  16.990  14.00    16.399    15.12  1.008549  0.929889      0\n",
       "194  15.26  15.26  16.399  15.12    15.860    14.77  1.039318  0.967890      0\n",
       "195  15.24  15.24  15.860  14.77    15.430    13.62  1.012467  0.893701      0\n",
       "196  13.73  13.73  15.430  13.62    14.160    13.81  1.031318  1.005827      0\n",
       "197  14.02  14.02  14.160  13.81    14.130    13.80  1.007846  0.984308      0"
      ]
     },
     "execution_count": 23,
     "metadata": {},
     "output_type": "execute_result"
    }
   ],
   "source": [
    "rblx['Trend'] = get_macd(rblx)\n",
    "rblx.head()"
   ]
  },
  {
   "cell_type": "code",
   "execution_count": 24,
   "id": "686f9ee4",
   "metadata": {},
   "outputs": [],
   "source": [
    "def get_hilo_mults(stock, ci=0.95):\n",
    "    stock['Trend'] = get_macd(stock)\n",
    "    stock['NextHigh'] = stock.High.shift(-1)\n",
    "    stock['NextLow'] = stock.Low.shift(-1)\n",
    "    stock['HighMult'] = stock.NextHigh / stock.Close\n",
    "    stock['LowMult'] = stock.NextLow / stock.Close\n",
    "    upward = stock[stock.Trend == 1]\n",
    "    downward = stock[stock.Trend == 0]\n",
    "    sell_pt_up = upward.HighMult.quantile(q=[1 - ci]).tolist()[0]\n",
    "    buy_pt_up = upward.LowMult.quantile(q=[ci]).tolist()[0]\n",
    "    sell_pt_down = downward.HighMult.quantile(q=[1 - ci]).tolist()[0]\n",
    "    buy_pt_down = downward.LowMult.quantile(q=[ci]).tolist()[0]\n",
    "    return buy_pt_up, sell_pt_up, buy_pt_down, sell_pt_down"
   ]
  },
  {
   "cell_type": "code",
   "execution_count": 25,
   "id": "c1661954",
   "metadata": {},
   "outputs": [
    {
     "data": {
      "text/plain": [
       "(1.0096808508708544,\n",
       " 0.9922985233790615,\n",
       " 1.0174351837137696,\n",
       " 0.9888192784207046)"
      ]
     },
     "execution_count": 25,
     "metadata": {},
     "output_type": "execute_result"
    }
   ],
   "source": [
    "get_hilo_mults(rblx)"
   ]
  },
  {
   "cell_type": "code",
   "execution_count": 26,
   "id": "8577104e",
   "metadata": {},
   "outputs": [
    {
     "data": {
      "text/plain": [
       "(1.0081160041377606, 0.9963330061958977, 1.010795011456968, 0.9891514076789153)"
      ]
     },
     "execution_count": 26,
     "metadata": {},
     "output_type": "execute_result"
    }
   ],
   "source": [
    "get_hilo_mults(aapl)"
   ]
  },
  {
   "cell_type": "code",
   "execution_count": 27,
   "id": "a5355f5b",
   "metadata": {},
   "outputs": [
    {
     "data": {
      "text/html": [
       "<div>\n",
       "<style scoped>\n",
       "    .dataframe tbody tr th:only-of-type {\n",
       "        vertical-align: middle;\n",
       "    }\n",
       "\n",
       "    .dataframe tbody tr th {\n",
       "        vertical-align: top;\n",
       "    }\n",
       "\n",
       "    .dataframe thead th {\n",
       "        text-align: right;\n",
       "    }\n",
       "</style>\n",
       "<table border=\"1\" class=\"dataframe\">\n",
       "  <thead>\n",
       "    <tr style=\"text-align: right;\">\n",
       "      <th></th>\n",
       "      <th>stock</th>\n",
       "      <th>buy_pt_up</th>\n",
       "      <th>sell_pt_up</th>\n",
       "      <th>buy_pt_down</th>\n",
       "      <th>sell_pt_down</th>\n",
       "    </tr>\n",
       "  </thead>\n",
       "  <tbody>\n",
       "    <tr>\n",
       "      <th>0</th>\n",
       "      <td>AAPL</td>\n",
       "      <td>1.008116</td>\n",
       "      <td>0.996333</td>\n",
       "      <td>1.010795</td>\n",
       "      <td>0.989151</td>\n",
       "    </tr>\n",
       "    <tr>\n",
       "      <th>1</th>\n",
       "      <td>ABMD</td>\n",
       "      <td>1.004615</td>\n",
       "      <td>0.997469</td>\n",
       "      <td>1.006047</td>\n",
       "      <td>0.996859</td>\n",
       "    </tr>\n",
       "    <tr>\n",
       "      <th>2</th>\n",
       "      <td>ABNB</td>\n",
       "      <td>1.005371</td>\n",
       "      <td>0.994804</td>\n",
       "      <td>1.010932</td>\n",
       "      <td>0.988588</td>\n",
       "    </tr>\n",
       "    <tr>\n",
       "      <th>3</th>\n",
       "      <td>ADSK</td>\n",
       "      <td>1.005086</td>\n",
       "      <td>0.997082</td>\n",
       "      <td>1.008593</td>\n",
       "      <td>0.992697</td>\n",
       "    </tr>\n",
       "    <tr>\n",
       "      <th>4</th>\n",
       "      <td>AMD</td>\n",
       "      <td>1.013682</td>\n",
       "      <td>0.993511</td>\n",
       "      <td>1.013860</td>\n",
       "      <td>0.991052</td>\n",
       "    </tr>\n",
       "  </tbody>\n",
       "</table>\n",
       "</div>"
      ],
      "text/plain": [
       "  stock  buy_pt_up  sell_pt_up  buy_pt_down  sell_pt_down\n",
       "0  AAPL   1.008116    0.996333     1.010795      0.989151\n",
       "1  ABMD   1.004615    0.997469     1.006047      0.996859\n",
       "2  ABNB   1.005371    0.994804     1.010932      0.988588\n",
       "3  ADSK   1.005086    0.997082     1.008593      0.992697\n",
       "4   AMD   1.013682    0.993511     1.013860      0.991052"
      ]
     },
     "execution_count": 27,
     "metadata": {},
     "output_type": "execute_result"
    }
   ],
   "source": [
    "out = []\n",
    "for symbol in batch:\n",
    "    stock = get_stock_data(symbol, data)\n",
    "    mults = get_hilo_mults(stock)\n",
    "    out.append([symbol, *mults])\n",
    "df = pd.DataFrame(\n",
    "    out, \n",
    "    columns=['stock', 'buy_pt_up', 'sell_pt_up', 'buy_pt_down', \n",
    "             'sell_pt_down'])\n",
    "df.head()"
   ]
  },
  {
   "cell_type": "code",
   "execution_count": 28,
   "id": "22bf6bff",
   "metadata": {},
   "outputs": [],
   "source": [
    "df.to_csv('mults.csv', index=False)\n",
    "!open ./mults.csv"
   ]
  },
  {
   "cell_type": "code",
   "execution_count": null,
   "id": "bf2de939",
   "metadata": {},
   "outputs": [],
   "source": []
  }
 ],
 "metadata": {
  "kernelspec": {
   "display_name": "Python 3 (ipykernel)",
   "language": "python",
   "name": "python3"
  },
  "language_info": {
   "codemirror_mode": {
    "name": "ipython",
    "version": 3
   },
   "file_extension": ".py",
   "mimetype": "text/x-python",
   "name": "python",
   "nbconvert_exporter": "python",
   "pygments_lexer": "ipython3",
   "version": "3.8.5"
  }
 },
 "nbformat": 4,
 "nbformat_minor": 5
}
