{
 "cells": [
  {
   "cell_type": "code",
   "execution_count": 1,
   "id": "38cda73f",
   "metadata": {},
   "outputs": [],
   "source": [
    "from datetime import datetime, timedelta\n",
    "import multiprocessing as mp\n",
    "import os\n",
    "import pickle\n",
    "import sys\n",
    "\n",
    "import numpy as np\n",
    "import pandas as pd\n",
    "import yfinance as yf"
   ]
  },
  {
   "cell_type": "code",
   "execution_count": 2,
   "id": "f4b347cc",
   "metadata": {},
   "outputs": [],
   "source": [
    "DATA = './data'\n",
    "TOMORROW = (datetime.now() + timedelta(1)).date()\n",
    "YEARS_OF_DATA = 50\n",
    "MIN_YEARS = 10\n",
    "START = TOMORROW - timedelta(YEARS_OF_DATA * 365)"
   ]
  },
  {
   "cell_type": "code",
   "execution_count": 24,
   "id": "d8aa5587",
   "metadata": {},
   "outputs": [],
   "source": [
    "symbols = ['AAPL', 'JNJ', 'KO', 'TSLA', 'ADBL', 'ATX', 'BMC']"
   ]
  },
  {
   "cell_type": "code",
   "execution_count": 25,
   "id": "d1bd408d",
   "metadata": {},
   "outputs": [],
   "source": [
    "manual_symbols = ['JNJ', 'KO']"
   ]
  },
  {
   "cell_type": "code",
   "execution_count": 26,
   "id": "b314d29f",
   "metadata": {},
   "outputs": [],
   "source": [
    "def get_min_start():\n",
    "    # must have at least 1 year of data                                         \n",
    "    min_start = TOMORROW - timedelta(MIN_YEARS * 365)\n",
    "    if min_start.weekday() == 0:\n",
    "        min_start -= timedelta(2)\n",
    "    elif min_start.weekday() == 6:\n",
    "        min_start -= timedelta(1)\n",
    "    return min_start"
   ]
  },
  {
   "cell_type": "code",
   "execution_count": 27,
   "id": "79f89f06",
   "metadata": {},
   "outputs": [
    {
     "data": {
      "text/plain": [
       "datetime.date(2014, 5, 2)"
      ]
     },
     "execution_count": 27,
     "metadata": {},
     "output_type": "execute_result"
    }
   ],
   "source": [
    "min_start = get_min_start()\n",
    "min_start"
   ]
  },
  {
   "cell_type": "code",
   "execution_count": 28,
   "id": "b9ed07d2",
   "metadata": {},
   "outputs": [],
   "source": [
    "def process_batch(dfs, batch, manual_symbols, min_start):\n",
    "    #tmp = f'{DATA}/tmp'\n",
    "    #os.makedir(tmp)\n",
    "    try:\n",
    "        print(batch[0], end='\\r')\n",
    "        #pd.options.mode.chained_assignment = None                              \n",
    "        data = download_data(batch)\n",
    "        min_start = adjust_min_date(min_start, data.index)\n",
    "        data = filter_by_min_date(data, manual_symbols, min_start)\n",
    "        sharpes = get_sharpes(data)\n",
    "        #pd.options.mode.chained_assignment = 'warn'                            \n",
    "        #dfs.append(state_dars)                                                 \n",
    "    except BaseException as e:\n",
    "        print(f'Unexpected failure for batch {batch[0]}\\n{e}')\n",
    "    return dfs"
   ]
  },
  {
   "cell_type": "code",
   "execution_count": 29,
   "id": "952a80d3",
   "metadata": {},
   "outputs": [],
   "source": [
    "def download_data(symbols):\n",
    "    #std_out = sys.stdout\n",
    "    #null = open(os.devnull, 'w')\n",
    "    #sys.stdout = null\n",
    "    try:\n",
    "        data = (\n",
    "            yf\n",
    "            .download(symbols, start=START, end=TOMORROW)\n",
    "            .rename(columns={'Adj Close': 'AdjClose'}))['AdjClose']\n",
    "        data.index = pd.to_datetime(data.index)\n",
    "        data = data.sort_index()\n",
    "        data = data.loc[:, data.isnull().sum() != len(data)]\n",
    "        #missing_last = [                                                       \n",
    "        #    col for col in list(data) if data[col].isnull()[-1]]               \n",
    "        #data.drop(columns=missing_last, inplace=True)                          \n",
    "        data.fillna(method='ffill', inplace=True)\n",
    "        #sys.stdout = std_out\n",
    "        return data\n",
    "    except BaseException as e:\n",
    "        print(f'Failed to download data:\\n{e}')"
   ]
  },
  {
   "cell_type": "code",
   "execution_count": 30,
   "id": "f1c84078",
   "metadata": {},
   "outputs": [],
   "source": [
    "def adjust_min_date(min_date, dates):\n",
    "    while pd.to_datetime(min_date) not in dates:\n",
    "        min_date -= timedelta(1)\n",
    "    return min_date"
   ]
  },
  {
   "cell_type": "code",
   "execution_count": 31,
   "id": "6899fe53",
   "metadata": {},
   "outputs": [
    {
     "data": {
      "text/plain": [
       "['AAPL', 'JNJ', 'KO', 'TSLA', 'ADBL', 'ATX', 'BMC']"
      ]
     },
     "execution_count": 31,
     "metadata": {},
     "output_type": "execute_result"
    }
   ],
   "source": [
    "symbols"
   ]
  },
  {
   "cell_type": "code",
   "execution_count": 32,
   "id": "65ed76ca",
   "metadata": {},
   "outputs": [
    {
     "name": "stdout",
     "output_type": "stream",
     "text": [
      "[*********************100%***********************]  7 of 7 completed\n",
      "\n",
      "2 Failed downloads:\n",
      "- BMC: No data found for this date range, symbol may be delisted\n",
      "- ATX: No data found for this date range, symbol may be delisted\n"
     ]
    },
    {
     "data": {
      "text/html": [
       "<div>\n",
       "<style scoped>\n",
       "    .dataframe tbody tr th:only-of-type {\n",
       "        vertical-align: middle;\n",
       "    }\n",
       "\n",
       "    .dataframe tbody tr th {\n",
       "        vertical-align: top;\n",
       "    }\n",
       "\n",
       "    .dataframe thead th {\n",
       "        text-align: right;\n",
       "    }\n",
       "</style>\n",
       "<table border=\"1\" class=\"dataframe\">\n",
       "  <thead>\n",
       "    <tr style=\"text-align: right;\">\n",
       "      <th></th>\n",
       "      <th>AAPL</th>\n",
       "      <th>ADBL</th>\n",
       "      <th>JNJ</th>\n",
       "      <th>KO</th>\n",
       "      <th>TSLA</th>\n",
       "    </tr>\n",
       "    <tr>\n",
       "      <th>Date</th>\n",
       "      <th></th>\n",
       "      <th></th>\n",
       "      <th></th>\n",
       "      <th></th>\n",
       "      <th></th>\n",
       "    </tr>\n",
       "  </thead>\n",
       "  <tbody>\n",
       "    <tr>\n",
       "      <th>1974-05-13</th>\n",
       "      <td>NaN</td>\n",
       "      <td>NaN</td>\n",
       "      <td>0.779484</td>\n",
       "      <td>0.257509</td>\n",
       "      <td>NaN</td>\n",
       "    </tr>\n",
       "    <tr>\n",
       "      <th>1974-05-14</th>\n",
       "      <td>NaN</td>\n",
       "      <td>NaN</td>\n",
       "      <td>0.788222</td>\n",
       "      <td>0.256910</td>\n",
       "      <td>NaN</td>\n",
       "    </tr>\n",
       "    <tr>\n",
       "      <th>1974-05-15</th>\n",
       "      <td>NaN</td>\n",
       "      <td>NaN</td>\n",
       "      <td>0.791717</td>\n",
       "      <td>0.257509</td>\n",
       "      <td>NaN</td>\n",
       "    </tr>\n",
       "    <tr>\n",
       "      <th>1974-05-16</th>\n",
       "      <td>NaN</td>\n",
       "      <td>NaN</td>\n",
       "      <td>0.791717</td>\n",
       "      <td>0.252718</td>\n",
       "      <td>NaN</td>\n",
       "    </tr>\n",
       "    <tr>\n",
       "      <th>1974-05-17</th>\n",
       "      <td>NaN</td>\n",
       "      <td>NaN</td>\n",
       "      <td>0.784727</td>\n",
       "      <td>0.244334</td>\n",
       "      <td>NaN</td>\n",
       "    </tr>\n",
       "  </tbody>\n",
       "</table>\n",
       "</div>"
      ],
      "text/plain": [
       "            AAPL  ADBL       JNJ        KO  TSLA\n",
       "Date                                            \n",
       "1974-05-13   NaN   NaN  0.779484  0.257509   NaN\n",
       "1974-05-14   NaN   NaN  0.788222  0.256910   NaN\n",
       "1974-05-15   NaN   NaN  0.791717  0.257509   NaN\n",
       "1974-05-16   NaN   NaN  0.791717  0.252718   NaN\n",
       "1974-05-17   NaN   NaN  0.784727  0.244334   NaN"
      ]
     },
     "execution_count": 32,
     "metadata": {},
     "output_type": "execute_result"
    }
   ],
   "source": [
    "data = download_data(symbols)\n",
    "data.head()"
   ]
  },
  {
   "cell_type": "code",
   "execution_count": 12,
   "id": "ecfb835d",
   "metadata": {},
   "outputs": [
    {
     "data": {
      "text/plain": [
       "datetime.date(2014, 5, 2)"
      ]
     },
     "execution_count": 12,
     "metadata": {},
     "output_type": "execute_result"
    }
   ],
   "source": [
    "min_start = adjust_min_date(min_start, data.index)\n",
    "min_start"
   ]
  },
  {
   "cell_type": "code",
   "execution_count": 13,
   "id": "8bd9ae03",
   "metadata": {},
   "outputs": [],
   "source": [
    "def filter_by_min_date(data, manual_symols, min_date):\n",
    "    for col in data.columns:\n",
    "        if col in manual_symbols:\n",
    "            continue\n",
    "        if (data[col][data[col].notnull()].index[0]\n",
    "                > pd.to_datetime(min_date)):\n",
    "            data.drop(columns=[col], inplace=True)\n",
    "    return data"
   ]
  },
  {
   "cell_type": "code",
   "execution_count": 14,
   "id": "268e1359",
   "metadata": {},
   "outputs": [
    {
     "data": {
      "text/html": [
       "<div>\n",
       "<style scoped>\n",
       "    .dataframe tbody tr th:only-of-type {\n",
       "        vertical-align: middle;\n",
       "    }\n",
       "\n",
       "    .dataframe tbody tr th {\n",
       "        vertical-align: top;\n",
       "    }\n",
       "\n",
       "    .dataframe thead th {\n",
       "        text-align: right;\n",
       "    }\n",
       "</style>\n",
       "<table border=\"1\" class=\"dataframe\">\n",
       "  <thead>\n",
       "    <tr style=\"text-align: right;\">\n",
       "      <th></th>\n",
       "      <th>AAPL</th>\n",
       "      <th>JNJ</th>\n",
       "      <th>KO</th>\n",
       "      <th>TSLA</th>\n",
       "    </tr>\n",
       "    <tr>\n",
       "      <th>Date</th>\n",
       "      <th></th>\n",
       "      <th></th>\n",
       "      <th></th>\n",
       "      <th></th>\n",
       "    </tr>\n",
       "  </thead>\n",
       "  <tbody>\n",
       "    <tr>\n",
       "      <th>1974-05-13</th>\n",
       "      <td>NaN</td>\n",
       "      <td>0.779484</td>\n",
       "      <td>0.021601</td>\n",
       "      <td>NaN</td>\n",
       "    </tr>\n",
       "    <tr>\n",
       "      <th>1974-05-14</th>\n",
       "      <td>NaN</td>\n",
       "      <td>0.788222</td>\n",
       "      <td>0.021550</td>\n",
       "      <td>NaN</td>\n",
       "    </tr>\n",
       "    <tr>\n",
       "      <th>1974-05-15</th>\n",
       "      <td>NaN</td>\n",
       "      <td>0.791717</td>\n",
       "      <td>0.021601</td>\n",
       "      <td>NaN</td>\n",
       "    </tr>\n",
       "    <tr>\n",
       "      <th>1974-05-16</th>\n",
       "      <td>NaN</td>\n",
       "      <td>0.791717</td>\n",
       "      <td>0.021199</td>\n",
       "      <td>NaN</td>\n",
       "    </tr>\n",
       "    <tr>\n",
       "      <th>1974-05-17</th>\n",
       "      <td>NaN</td>\n",
       "      <td>0.784727</td>\n",
       "      <td>0.020495</td>\n",
       "      <td>NaN</td>\n",
       "    </tr>\n",
       "  </tbody>\n",
       "</table>\n",
       "</div>"
      ],
      "text/plain": [
       "            AAPL       JNJ        KO  TSLA\n",
       "Date                                      \n",
       "1974-05-13   NaN  0.779484  0.021601   NaN\n",
       "1974-05-14   NaN  0.788222  0.021550   NaN\n",
       "1974-05-15   NaN  0.791717  0.021601   NaN\n",
       "1974-05-16   NaN  0.791717  0.021199   NaN\n",
       "1974-05-17   NaN  0.784727  0.020495   NaN"
      ]
     },
     "execution_count": 14,
     "metadata": {},
     "output_type": "execute_result"
    }
   ],
   "source": [
    "data = filter_by_min_date(data, manual_symbols, min_start)\n",
    "data.head()"
   ]
  },
  {
   "cell_type": "code",
   "execution_count": 15,
   "id": "916d2130",
   "metadata": {},
   "outputs": [],
   "source": [
    "def get_sharpes(data):\n",
    "    out = []\n",
    "    for stock in list(data):\n",
    "        returns = get_daily_returns(data[stock])\n",
    "        sharpes = get_sharpe(returns)\n",
    "        out.append(sharpes)\n",
    "    return pd.Series(out, index=list(data))"
   ]
  },
  {
   "cell_type": "code",
   "execution_count": 16,
   "id": "9168867c",
   "metadata": {},
   "outputs": [],
   "source": [
    "def get_daily_returns(x):\n",
    "    idx = x.index\n",
    "    n = len(x)\n",
    "    x = np.array(x)\n",
    "    returns = x[1:n] / x[0:(n-1)] - 1\n",
    "    returns = pd.Series(returns, index=idx[1:])\n",
    "    return returns"
   ]
  },
  {
   "cell_type": "code",
   "execution_count": 17,
   "id": "baf44480",
   "metadata": {},
   "outputs": [],
   "source": [
    "def get_sharpe(returns, window=None):\n",
    "    n = len(returns)\n",
    "    if window is None:\n",
    "        window = n\n",
    "    if len(returns) > window:\n",
    "        returns = returns[(n - window):n]\n",
    "    returns = returns[~np.isnan(returns)]\n",
    "    sharpe = (np.sqrt(252) * returns.mean()) / returns.std()\n",
    "    return sharpe"
   ]
  },
  {
   "cell_type": "code",
   "execution_count": 18,
   "id": "0bebb264",
   "metadata": {},
   "outputs": [],
   "source": [
    "sharpes = get_sharpes(data)"
   ]
  },
  {
   "cell_type": "code",
   "execution_count": 19,
   "id": "3c10ddd1",
   "metadata": {},
   "outputs": [
    {
     "data": {
      "text/plain": [
       "AAPL    0.611620\n",
       "JNJ     0.579999\n",
       "KO      0.767146\n",
       "TSLA    0.877062\n",
       "dtype: float64"
      ]
     },
     "execution_count": 19,
     "metadata": {},
     "output_type": "execute_result"
    }
   ],
   "source": [
    "sharpes"
   ]
  },
  {
   "cell_type": "code",
   "execution_count": 20,
   "id": "2e24ed27",
   "metadata": {},
   "outputs": [
    {
     "data": {
      "text/plain": [
       "X    0.1213\n",
       "Q    0.2996\n",
       "dtype: float64"
      ]
     },
     "execution_count": 20,
     "metadata": {},
     "output_type": "execute_result"
    }
   ],
   "source": [
    "s2 = pd.Series([0.1213, 0.2996], index=['X', 'Q'])\n",
    "s2"
   ]
  },
  {
   "cell_type": "code",
   "execution_count": 21,
   "id": "de3df035",
   "metadata": {},
   "outputs": [],
   "source": [
    "sl = [sharpes, s2]"
   ]
  },
  {
   "cell_type": "code",
   "execution_count": 22,
   "id": "59f64a5e",
   "metadata": {},
   "outputs": [
    {
     "data": {
      "text/plain": [
       "AAPL    0.611620\n",
       "JNJ     0.579999\n",
       "KO      0.767146\n",
       "TSLA    0.877062\n",
       "X       0.121300\n",
       "Q       0.299600\n",
       "dtype: float64"
      ]
     },
     "execution_count": 22,
     "metadata": {},
     "output_type": "execute_result"
    }
   ],
   "source": [
    "sh = pd.concat(sl)\n",
    "sh"
   ]
  },
  {
   "cell_type": "code",
   "execution_count": 23,
   "id": "1c6ef709",
   "metadata": {},
   "outputs": [
    {
     "data": {
      "text/html": [
       "<div>\n",
       "<style scoped>\n",
       "    .dataframe tbody tr th:only-of-type {\n",
       "        vertical-align: middle;\n",
       "    }\n",
       "\n",
       "    .dataframe tbody tr th {\n",
       "        vertical-align: top;\n",
       "    }\n",
       "\n",
       "    .dataframe thead th {\n",
       "        text-align: right;\n",
       "    }\n",
       "</style>\n",
       "<table border=\"1\" class=\"dataframe\">\n",
       "  <thead>\n",
       "    <tr style=\"text-align: right;\">\n",
       "      <th></th>\n",
       "      <th>sharpe</th>\n",
       "    </tr>\n",
       "  </thead>\n",
       "  <tbody>\n",
       "    <tr>\n",
       "      <th>TSLA</th>\n",
       "      <td>0.877062</td>\n",
       "    </tr>\n",
       "    <tr>\n",
       "      <th>KO</th>\n",
       "      <td>0.767146</td>\n",
       "    </tr>\n",
       "    <tr>\n",
       "      <th>AAPL</th>\n",
       "      <td>0.611620</td>\n",
       "    </tr>\n",
       "    <tr>\n",
       "      <th>JNJ</th>\n",
       "      <td>0.579999</td>\n",
       "    </tr>\n",
       "    <tr>\n",
       "      <th>Q</th>\n",
       "      <td>0.299600</td>\n",
       "    </tr>\n",
       "    <tr>\n",
       "      <th>X</th>\n",
       "      <td>0.121300</td>\n",
       "    </tr>\n",
       "  </tbody>\n",
       "</table>\n",
       "</div>"
      ],
      "text/plain": [
       "        sharpe\n",
       "TSLA  0.877062\n",
       "KO    0.767146\n",
       "AAPL  0.611620\n",
       "JNJ   0.579999\n",
       "Q     0.299600\n",
       "X     0.121300"
      ]
     },
     "execution_count": 23,
     "metadata": {},
     "output_type": "execute_result"
    }
   ],
   "source": [
    "pd.DataFrame(sh.sort_values(ascending=False), columns=['sharpe'])"
   ]
  },
  {
   "cell_type": "code",
   "execution_count": null,
   "id": "0914332f",
   "metadata": {},
   "outputs": [],
   "source": []
  },
  {
   "cell_type": "code",
   "execution_count": null,
   "id": "1287c7e5",
   "metadata": {},
   "outputs": [],
   "source": []
  }
 ],
 "metadata": {
  "kernelspec": {
   "display_name": "Python 3 (ipykernel)",
   "language": "python",
   "name": "python3"
  },
  "language_info": {
   "codemirror_mode": {
    "name": "ipython",
    "version": 3
   },
   "file_extension": ".py",
   "mimetype": "text/x-python",
   "name": "python",
   "nbconvert_exporter": "python",
   "pygments_lexer": "ipython3",
   "version": "3.11.3"
  }
 },
 "nbformat": 4,
 "nbformat_minor": 5
}
