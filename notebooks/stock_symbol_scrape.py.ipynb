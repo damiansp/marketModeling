{
 "cells": [
  {
   "cell_type": "code",
   "execution_count": 1,
   "id": "8d2982e0",
   "metadata": {},
   "outputs": [],
   "source": [
    "from datetime import datetime, timedelta\n",
    "import pickle\n",
    "from time import sleep\n",
    "\n",
    "from bs4 import BeautifulSoup\n",
    "from requests_html import HTMLSession\n",
    "import yfinance as yf"
   ]
  },
  {
   "cell_type": "code",
   "execution_count": 2,
   "id": "10843ff5",
   "metadata": {},
   "outputs": [],
   "source": [
    "EXCHANGE_PATHS = {\n",
    "    'nasdaq': 'nasdaq',\n",
    "    'nyse': 'newyorkstockexchange',\n",
    "    'amex': 'americanstockexchange'}\n",
    "base_url = 'https://www.advfn.com'\n",
    "session = HTMLSession()"
   ]
  },
  {
   "cell_type": "code",
   "execution_count": 3,
   "id": "035b9a0a",
   "metadata": {},
   "outputs": [],
   "source": [
    "def get_soup(url):\n",
    "    try:\n",
    "        res = session.get(url)\n",
    "        html = res.html.html\n",
    "        soup = BeautifulSoup(html, 'html.parser')\n",
    "        return soup\n",
    "    except BaseException as e:\n",
    "        print(f'Problem retrieving page: {url}\\n{e}')"
   ]
  },
  {
   "cell_type": "code",
   "execution_count": 4,
   "id": "b425e4ef",
   "metadata": {},
   "outputs": [],
   "source": [
    "def get_table(soup):\n",
    "    try:\n",
    "        table = soup.find('table', class_='market')\n",
    "        return table\n",
    "    except BaseExcetpion as e:\n",
    "        print('Unable to obtain table')\n",
    "        print(e)"
   ]
  },
  {
   "cell_type": "code",
   "execution_count": 5,
   "id": "b04a6577",
   "metadata": {},
   "outputs": [],
   "source": [
    "def get_rows(table):\n",
    "    try:\n",
    "        rows = table.find_all('tr')\n",
    "        rows = [\n",
    "            row for row in rows if 'class' in row.attrs \n",
    "            and row.attrs['class'][0].startswith('ts')]\n",
    "        return rows\n",
    "    except BaseException as e:\n",
    "        print('Unable to extract rows')\n",
    "        print(e)"
   ]
  },
  {
   "cell_type": "code",
   "execution_count": 6,
   "id": "9f32bf39",
   "metadata": {},
   "outputs": [],
   "source": [
    "def is_valid(symbol):\n",
    "    MAXLEN = 4\n",
    "    return len(symbol) <= MAXLEN and symbol.isalpha()"
   ]
  },
  {
   "cell_type": "code",
   "execution_count": 7,
   "id": "89ded873",
   "metadata": {},
   "outputs": [],
   "source": [
    "def get_symbol(row):\n",
    "    SYMBOL_COL_IDX = 1\n",
    "    try:\n",
    "        symbol = row.find_all('a')[SYMBOL_COL_IDX].text\n",
    "        if is_valid(symbol):\n",
    "            return symbol\n",
    "    except BaseException as e:\n",
    "        print('Unable to get symbol from row:', row)\n",
    "        print(e)"
   ]
  },
  {
   "cell_type": "code",
   "execution_count": 8,
   "id": "5ef6fb59",
   "metadata": {},
   "outputs": [],
   "source": [
    "def extract_symbols(soup):\n",
    "    symbols = []\n",
    "    table = get_table(soup)\n",
    "    rows = get_rows(table)\n",
    "    for row in rows:\n",
    "        symbol = get_symbol(row)\n",
    "        if symbol is not None:\n",
    "            symbols.append(symbol)\n",
    "    return symbols"
   ]
  },
  {
   "cell_type": "code",
   "execution_count": 9,
   "id": "3dd0d00f",
   "metadata": {},
   "outputs": [],
   "source": [
    "def extract_all_symbols():\n",
    "    all_symbols = []\n",
    "    for exchange, path in EXCHANGE_PATHS.items():\n",
    "        print(f'Beggining {exchange}\\nLetter:')\n",
    "        for letter in list('ABCDEFGHIJKLMNOPQRSTUVWXYZ'):\n",
    "            print(letter, end='')\n",
    "            url = f'{base_url}/{exchange}/{path}.asp?companies={letter}'\n",
    "            soup = get_soup(url)\n",
    "            symbols = extract_symbols(soup)\n",
    "            all_symbols += symbols\n",
    "        print()\n",
    "    return sorted(all_symbols)"
   ]
  },
  {
   "cell_type": "code",
   "execution_count": 10,
   "id": "a4a78c80",
   "metadata": {},
   "outputs": [
    {
     "name": "stdout",
     "output_type": "stream",
     "text": [
      "Beggining nasdaq\n",
      "Letter:\n",
      "ABCDEFGHIJKLMNOPQProblem retrieving page: https://www.advfn.com/nasdaq/nasdaq.asp?companies=Q\n",
      "\n"
     ]
    },
    {
     "ename": "NameError",
     "evalue": "name 'BaseExcetpion' is not defined",
     "output_type": "error",
     "traceback": [
      "\u001b[0;31m---------------------------------------------------------------------------\u001b[0m",
      "\u001b[0;31mAttributeError\u001b[0m                            Traceback (most recent call last)",
      "Cell \u001b[0;32mIn[4], line 3\u001b[0m, in \u001b[0;36mget_table\u001b[0;34m(soup)\u001b[0m\n\u001b[1;32m      2\u001b[0m \u001b[38;5;28;01mtry\u001b[39;00m:\n\u001b[0;32m----> 3\u001b[0m     table \u001b[38;5;241m=\u001b[39m \u001b[43msoup\u001b[49m\u001b[38;5;241;43m.\u001b[39;49m\u001b[43mfind\u001b[49m(\u001b[38;5;124m'\u001b[39m\u001b[38;5;124mtable\u001b[39m\u001b[38;5;124m'\u001b[39m, class_\u001b[38;5;241m=\u001b[39m\u001b[38;5;124m'\u001b[39m\u001b[38;5;124mmarket\u001b[39m\u001b[38;5;124m'\u001b[39m)\n\u001b[1;32m      4\u001b[0m     \u001b[38;5;28;01mreturn\u001b[39;00m table\n",
      "\u001b[0;31mAttributeError\u001b[0m: 'NoneType' object has no attribute 'find'",
      "\nDuring handling of the above exception, another exception occurred:\n",
      "\u001b[0;31mNameError\u001b[0m                                 Traceback (most recent call last)",
      "Cell \u001b[0;32mIn[10], line 1\u001b[0m\n\u001b[0;32m----> 1\u001b[0m all_symbols \u001b[38;5;241m=\u001b[39m \u001b[43mextract_all_symbols\u001b[49m\u001b[43m(\u001b[49m\u001b[43m)\u001b[49m\n",
      "Cell \u001b[0;32mIn[9], line 9\u001b[0m, in \u001b[0;36mextract_all_symbols\u001b[0;34m()\u001b[0m\n\u001b[1;32m      7\u001b[0m     url \u001b[38;5;241m=\u001b[39m \u001b[38;5;124mf\u001b[39m\u001b[38;5;124m'\u001b[39m\u001b[38;5;132;01m{\u001b[39;00mbase_url\u001b[38;5;132;01m}\u001b[39;00m\u001b[38;5;124m/\u001b[39m\u001b[38;5;132;01m{\u001b[39;00mexchange\u001b[38;5;132;01m}\u001b[39;00m\u001b[38;5;124m/\u001b[39m\u001b[38;5;132;01m{\u001b[39;00mpath\u001b[38;5;132;01m}\u001b[39;00m\u001b[38;5;124m.asp?companies=\u001b[39m\u001b[38;5;132;01m{\u001b[39;00mletter\u001b[38;5;132;01m}\u001b[39;00m\u001b[38;5;124m'\u001b[39m\n\u001b[1;32m      8\u001b[0m     soup \u001b[38;5;241m=\u001b[39m get_soup(url)\n\u001b[0;32m----> 9\u001b[0m     symbols \u001b[38;5;241m=\u001b[39m \u001b[43mextract_symbols\u001b[49m\u001b[43m(\u001b[49m\u001b[43msoup\u001b[49m\u001b[43m)\u001b[49m\n\u001b[1;32m     10\u001b[0m     all_symbols \u001b[38;5;241m+\u001b[39m\u001b[38;5;241m=\u001b[39m symbols\n\u001b[1;32m     11\u001b[0m \u001b[38;5;28mprint\u001b[39m()\n",
      "Cell \u001b[0;32mIn[8], line 3\u001b[0m, in \u001b[0;36mextract_symbols\u001b[0;34m(soup)\u001b[0m\n\u001b[1;32m      1\u001b[0m \u001b[38;5;28;01mdef\u001b[39;00m \u001b[38;5;21mextract_symbols\u001b[39m(soup):\n\u001b[1;32m      2\u001b[0m     symbols \u001b[38;5;241m=\u001b[39m []\n\u001b[0;32m----> 3\u001b[0m     table \u001b[38;5;241m=\u001b[39m \u001b[43mget_table\u001b[49m\u001b[43m(\u001b[49m\u001b[43msoup\u001b[49m\u001b[43m)\u001b[49m\n\u001b[1;32m      4\u001b[0m     rows \u001b[38;5;241m=\u001b[39m get_rows(table)\n\u001b[1;32m      5\u001b[0m     \u001b[38;5;28;01mfor\u001b[39;00m row \u001b[38;5;129;01min\u001b[39;00m rows:\n",
      "Cell \u001b[0;32mIn[4], line 5\u001b[0m, in \u001b[0;36mget_table\u001b[0;34m(soup)\u001b[0m\n\u001b[1;32m      3\u001b[0m     table \u001b[38;5;241m=\u001b[39m soup\u001b[38;5;241m.\u001b[39mfind(\u001b[38;5;124m'\u001b[39m\u001b[38;5;124mtable\u001b[39m\u001b[38;5;124m'\u001b[39m, class_\u001b[38;5;241m=\u001b[39m\u001b[38;5;124m'\u001b[39m\u001b[38;5;124mmarket\u001b[39m\u001b[38;5;124m'\u001b[39m)\n\u001b[1;32m      4\u001b[0m     \u001b[38;5;28;01mreturn\u001b[39;00m table\n\u001b[0;32m----> 5\u001b[0m \u001b[38;5;28;01mexcept\u001b[39;00m \u001b[43mBaseExcetpion\u001b[49m \u001b[38;5;28;01mas\u001b[39;00m e:\n\u001b[1;32m      6\u001b[0m     \u001b[38;5;28mprint\u001b[39m(\u001b[38;5;124m'\u001b[39m\u001b[38;5;124mUnable to obtain table\u001b[39m\u001b[38;5;124m'\u001b[39m)\n\u001b[1;32m      7\u001b[0m     \u001b[38;5;28mprint\u001b[39m(e)\n",
      "\u001b[0;31mNameError\u001b[0m: name 'BaseExcetpion' is not defined"
     ]
    }
   ],
   "source": [
    "all_symbols = extract_all_symbols()"
   ]
  },
  {
   "cell_type": "code",
   "execution_count": null,
   "id": "3125d5a6",
   "metadata": {},
   "outputs": [],
   "source": [
    "all_symbols = sorted(list(set(all_symbols)))"
   ]
  },
  {
   "cell_type": "code",
   "execution_count": null,
   "id": "28fec2af",
   "metadata": {},
   "outputs": [],
   "source": [
    "all_symbols[:10]"
   ]
  },
  {
   "cell_type": "code",
   "execution_count": null,
   "id": "828ba0fd",
   "metadata": {},
   "outputs": [],
   "source": [
    "all_symbols[-10:]"
   ]
  },
  {
   "cell_type": "code",
   "execution_count": null,
   "id": "721093d9",
   "metadata": {},
   "outputs": [],
   "source": [
    "with open('../data/all_symbols.pkl', 'wb') as f:\n",
    "    pickle.dump(all_symbols, f)"
   ]
  },
  {
   "cell_type": "code",
   "execution_count": null,
   "id": "2d82a47c",
   "metadata": {},
   "outputs": [],
   "source": [
    "n = len(all_symbols)\n",
    "n"
   ]
  },
  {
   "cell_type": "code",
   "execution_count": null,
   "id": "b2255bfd",
   "metadata": {},
   "outputs": [],
   "source": [
    "END = datetime.now()\n",
    "START = END - timedelta(7)\n",
    "test = yf.download(['AAPL', 'TSLA', 'ZQZZ'], start=str(START.date()), end=str(END.date()))['Adj Close']\n",
    "test"
   ]
  },
  {
   "cell_type": "code",
   "execution_count": null,
   "id": "a975fa22",
   "metadata": {},
   "outputs": [],
   "source": [
    "test2 = test.loc[:, test.iloc[-1, :].notnull()]\n",
    "test2"
   ]
  },
  {
   "cell_type": "code",
   "execution_count": null,
   "id": "39a4bef3",
   "metadata": {},
   "outputs": [],
   "source": [
    "test2.columns"
   ]
  },
  {
   "cell_type": "code",
   "execution_count": null,
   "id": "fae13703",
   "metadata": {},
   "outputs": [],
   "source": [
    "start = str(START.date())\n",
    "end = str(END.date())\n",
    "start, end"
   ]
  },
  {
   "cell_type": "markdown",
   "id": "5c14427e",
   "metadata": {},
   "source": [
    "### Next Time\n",
    "Code below is inefficient, bc it retries symbols if < $2 instead of removing them. \n",
    "Add to `omit` instead and do not rerun. (Update for all code chunks below.)"
   ]
  },
  {
   "cell_type": "code",
   "execution_count": null,
   "id": "9f51cdf9",
   "metadata": {},
   "outputs": [],
   "source": [
    "i = 0\n",
    "active = []\n",
    "failed = []\n",
    "omit = []\n",
    "\n",
    "while i <= n:\n",
    "    first = i\n",
    "    last = min(i + 100, n)\n",
    "    batch = all_symbols[first:last]\n",
    "    print(f'Batch: {batch[0]} - {batch[-1]}', end='\\r')\n",
    "    df = yf.download(batch, start=start, end=end)['Adj Close']\n",
    "    df = df.loc[:, df.iloc[-1, :].notnull()]\n",
    "    batch_active = df.columns\n",
    "    # Exclude if current val < 2.00\n",
    "    df = df.loc[:, df.iloc[-1, :] >= 2.]\n",
    "    batch_omit = [sym for sym in batch_active if sym not in df.columns]\n",
    "    omit += list(batch_omit)\n",
    "    active += list(df.columns)\n",
    "    fails = [sym for sym in batch if sym not in df.columns and sym not in batch_omit]\n",
    "    failed += fails\n",
    "    sleep(3)\n",
    "    i += 100"
   ]
  },
  {
   "cell_type": "code",
   "execution_count": null,
   "id": "5ba436d9",
   "metadata": {},
   "outputs": [],
   "source": [
    "'ACAI' in active, 'ACAI' in failed, 'ACAI' in omit "
   ]
  },
  {
   "cell_type": "markdown",
   "id": "bcdfc438",
   "metadata": {},
   "source": [
    "### 2nd Attempt"
   ]
  },
  {
   "cell_type": "code",
   "execution_count": null,
   "id": "10104061",
   "metadata": {},
   "outputs": [],
   "source": [
    "len(active), len(omit)"
   ]
  },
  {
   "cell_type": "code",
   "execution_count": null,
   "id": "b3b340e4",
   "metadata": {},
   "outputs": [],
   "source": [
    "n = len(failed)\n",
    "n"
   ]
  },
  {
   "cell_type": "code",
   "execution_count": null,
   "id": "c74092cf",
   "metadata": {
    "scrolled": true
   },
   "outputs": [],
   "source": [
    "failed_again = []\n",
    "i = 0\n",
    "while i <= n:\n",
    "    first = i\n",
    "    last = min(i + 100, n)\n",
    "    batch = failed[first:last]\n",
    "    print(f'Batch: {batch[0]} - {batch[-1]}', end='\\r')\n",
    "    df = yf.download(batch, start=start, end=end)['Adj Close']\n",
    "    print(df.shape)\n",
    "    if len(df):\n",
    "        df = df.loc[:, df.iloc[-1, :].notnull()]\n",
    "        batch_active = df.columns\n",
    "        # Exclude if current val < 2.00\n",
    "        df = df.loc[:, df.iloc[-1, :] >= 2.]\n",
    "        batch_omit = [sym for sym in batch_active if sym not in df.columns]\n",
    "        omit += list(batch_omit)\n",
    "        active += list(df.columns)\n",
    "        fails = [sym for sym in batch if sym not in df.columns and sym not in batch_omit]\n",
    "        failed_again += fails\n",
    "    else:\n",
    "        failed_again += batch\n",
    "    sleep(3)\n",
    "    i += 100"
   ]
  },
  {
   "cell_type": "markdown",
   "id": "1148708d",
   "metadata": {},
   "source": [
    "### 3rd Attempt"
   ]
  },
  {
   "cell_type": "code",
   "execution_count": null,
   "id": "04be4557",
   "metadata": {},
   "outputs": [],
   "source": [
    "'ACAI' in active, 'ACAI' in failed, 'ACAI' in omit "
   ]
  },
  {
   "cell_type": "code",
   "execution_count": null,
   "id": "57ec9dc6",
   "metadata": {},
   "outputs": [],
   "source": [
    "len(active), len(omit)"
   ]
  },
  {
   "cell_type": "code",
   "execution_count": null,
   "id": "f0d60d4d",
   "metadata": {},
   "outputs": [],
   "source": [
    "failed = failed_again[:]\n",
    "n = len(failed)\n",
    "n"
   ]
  },
  {
   "cell_type": "code",
   "execution_count": null,
   "id": "415986e2",
   "metadata": {
    "scrolled": true
   },
   "outputs": [],
   "source": [
    "failed_again = []\n",
    "i = 0\n",
    "while i <= n :\n",
    "    first = i\n",
    "    last = min(i + 100, n)\n",
    "    batch = failed[first:last]\n",
    "    print(f'Batch: {batch[0]} - {batch[-1]}', end='\\r')\n",
    "    df = yf.download(batch, start=start, end=end)['Adj Close']\n",
    "    print(df.shape)\n",
    "    if len(df):\n",
    "        df = df.loc[:, df.iloc[-1, :].notnull()]\n",
    "        batch_active = df.columns\n",
    "        # Exclude if current val < 2.00\n",
    "        df = df.loc[:, df.iloc[-1, :] >= 2.]\n",
    "        batch_omit = [sym for sym in batch_active if sym not in df.columns]\n",
    "        omit += list(batch_omit)\n",
    "        active += list(df.columns)\n",
    "        fails = [sym for sym in batch if sym not in df.columns and sym not in batch_omit]\n",
    "        failed_again += fails\n",
    "    else:\n",
    "        failed_again += batch\n",
    "    sleep(3)\n",
    "    i += 100"
   ]
  },
  {
   "cell_type": "markdown",
   "id": "5f605d65",
   "metadata": {},
   "source": [
    "### 4th Attempt"
   ]
  },
  {
   "cell_type": "code",
   "execution_count": null,
   "id": "66a59947",
   "metadata": {},
   "outputs": [],
   "source": [
    "len(active), len(omit)"
   ]
  },
  {
   "cell_type": "code",
   "execution_count": null,
   "id": "48cdaa0b",
   "metadata": {},
   "outputs": [],
   "source": [
    "failed = failed_again[:]\n",
    "n = len(failed)\n",
    "n"
   ]
  },
  {
   "cell_type": "code",
   "execution_count": null,
   "id": "77273787",
   "metadata": {},
   "outputs": [],
   "source": [
    "with open('../data/all_symbols.pkl', 'wb') as f:\n",
    "    pickle.dump(active, f)"
   ]
  },
  {
   "cell_type": "code",
   "execution_count": null,
   "id": "b0556746",
   "metadata": {},
   "outputs": [],
   "source": [
    "'INTI' in active, 'INTI' in omit"
   ]
  },
  {
   "cell_type": "code",
   "execution_count": null,
   "id": "71d6426e",
   "metadata": {},
   "outputs": [],
   "source": [
    "!say complete"
   ]
  },
  {
   "cell_type": "code",
   "execution_count": null,
   "id": "8cdaefcf",
   "metadata": {},
   "outputs": [],
   "source": [
    "# Run...?\n",
    "'''\n",
    "failed_again = []\n",
    "i = 0\n",
    "while i <= n - 100:\n",
    "    first = i\n",
    "    last = min(i + 100, n)\n",
    "    batch = failed[first:last]\n",
    "    print(f'Batch: {batch[0]} - {batch[-1]}', end='\\r')\n",
    "    df = yf.download(batch, start=start, end=end)['Adj Close']\n",
    "    print(df.shape)\n",
    "    if len(df):\n",
    "        df = df.loc[:, df.iloc[-1, :].notnull()]\n",
    "        batch_active = df.columns\n",
    "        # Exclude if current val < 2.00\n",
    "        df = df.loc[:, df.iloc[-1, :] >= 2.]\n",
    "        batch_omit = [sym for sym in batch_active if sym not in df.columns]\n",
    "        omit += list(batch_omit)\n",
    "        active += list(df.columns)\n",
    "        fails = [sym for sym in batch if sym not in df.columns and sym not in batch_omit]\n",
    "        failed_again += fails\n",
    "    else:\n",
    "        failed_again += batch\n",
    "    sleep(3)\n",
    "    i += 100\n",
    "'''"
   ]
  }
 ],
 "metadata": {
  "kernelspec": {
   "display_name": "Python 3 (ipykernel)",
   "language": "python",
   "name": "python3"
  },
  "language_info": {
   "codemirror_mode": {
    "name": "ipython",
    "version": 3
   },
   "file_extension": ".py",
   "mimetype": "text/x-python",
   "name": "python",
   "nbconvert_exporter": "python",
   "pygments_lexer": "ipython3",
   "version": "3.11.3"
  }
 },
 "nbformat": 4,
 "nbformat_minor": 5
}
