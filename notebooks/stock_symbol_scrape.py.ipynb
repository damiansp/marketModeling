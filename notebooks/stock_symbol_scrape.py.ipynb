{
 "cells": [
  {
   "cell_type": "markdown",
   "id": "1f50ec5b",
   "metadata": {},
   "source": [
    "https://stockanalysis.com/stocks/"
   ]
  },
  {
   "cell_type": "code",
   "execution_count": 1,
   "id": "8d2982e0",
   "metadata": {},
   "outputs": [
    {
     "name": "stdout",
     "output_type": "stream",
     "text": [
      "sent: <object object at 0x130c3d140>\n"
     ]
    }
   ],
   "source": [
    "from datetime import datetime, timedelta\n",
    "import pickle\n",
    "import sys\n",
    "from time import sleep\n",
    "\n",
    "from bs4 import BeautifulSoup\n",
    "from requests_html import HTMLSession\n",
    "\n",
    "sys.path.append('..')\n",
    "import yf_clone.yfinance as yf\n",
    "#import yfinance as yf"
   ]
  },
  {
   "cell_type": "code",
   "execution_count": 2,
   "id": "10843ff5",
   "metadata": {},
   "outputs": [],
   "source": [
    "EXCHANGE_PATHS = {\n",
    "    'nasdaq': 'nasdaq',\n",
    "    'nyse': 'newyorkstockexchange',\n",
    "    'amex': 'americanstockexchange'}\n",
    "base_url = 'https://www.advfn.com'\n",
    "session = HTMLSession()"
   ]
  },
  {
   "cell_type": "code",
   "execution_count": 3,
   "id": "035b9a0a",
   "metadata": {},
   "outputs": [],
   "source": [
    "def get_soup(url):\n",
    "    try:\n",
    "        res = session.get(url)\n",
    "        html = res.html.html\n",
    "        soup = BeautifulSoup(html, 'html.parser')\n",
    "        return soup\n",
    "    except BaseException as e:\n",
    "        print(f'Problem retrieving page: {url}\\n{e}')"
   ]
  },
  {
   "cell_type": "code",
   "execution_count": 4,
   "id": "b425e4ef",
   "metadata": {},
   "outputs": [],
   "source": [
    "def get_table(soup):\n",
    "    try:\n",
    "        table = soup.find('table', class_='market')\n",
    "        if table is None:\n",
    "            table = soup.find('table', class_='market tab1')\n",
    "        return table\n",
    "    except BaseExcetpion as e:\n",
    "        print('Unable to obtain table')\n",
    "        print(e)"
   ]
  },
  {
   "cell_type": "code",
   "execution_count": 5,
   "id": "b04a6577",
   "metadata": {},
   "outputs": [],
   "source": [
    "def get_rows(table):\n",
    "    try:\n",
    "        rows = table.find_all('tr')\n",
    "        rows = [\n",
    "            row for row in rows if 'class' in row.attrs \n",
    "            and row.attrs['class'][0].startswith('ts')]\n",
    "        return rows\n",
    "    except BaseException as e:\n",
    "        print('Unable to extract rows')\n",
    "        print(e)"
   ]
  },
  {
   "cell_type": "code",
   "execution_count": 6,
   "id": "9f32bf39",
   "metadata": {},
   "outputs": [],
   "source": [
    "def is_valid(symbol):\n",
    "    MAXLEN = 4\n",
    "    return len(symbol) <= MAXLEN and symbol.isalpha()"
   ]
  },
  {
   "cell_type": "code",
   "execution_count": 7,
   "id": "89ded873",
   "metadata": {},
   "outputs": [],
   "source": [
    "def get_symbol(row):\n",
    "    SYMBOL_COL_IDX = 1\n",
    "    try:\n",
    "        symbol = row.find_all('a')[SYMBOL_COL_IDX].text\n",
    "        if is_valid(symbol):\n",
    "            return symbol\n",
    "    except BaseException as e:\n",
    "        print('Unable to get symbol from row:', row)\n",
    "        print(e)"
   ]
  },
  {
   "cell_type": "code",
   "execution_count": 8,
   "id": "5ef6fb59",
   "metadata": {},
   "outputs": [],
   "source": [
    "def extract_symbols(soup):\n",
    "    symbols = []\n",
    "    table = get_table(soup)\n",
    "    rows = get_rows(table)\n",
    "    for row in rows:\n",
    "        symbol = get_symbol(row)\n",
    "        if symbol is not None:\n",
    "            symbols.append(symbol)\n",
    "    return symbols"
   ]
  },
  {
   "cell_type": "code",
   "execution_count": 9,
   "id": "3dd0d00f",
   "metadata": {},
   "outputs": [],
   "source": [
    "def extract_all_symbols():\n",
    "    all_symbols = []\n",
    "    for exchange, path in EXCHANGE_PATHS.items():\n",
    "        print(f'Beggining {exchange}\\nLetter:')\n",
    "        for letter in list('ABCDEFGHIJKLMNOPQRSTUVWXYZ'):\n",
    "            print(letter, end='')\n",
    "            url = f'{base_url}/{exchange}/{path}.asp?companies={letter}'\n",
    "            soup = get_soup(url)\n",
    "            symbols = extract_symbols(soup)\n",
    "            all_symbols += symbols\n",
    "        print()\n",
    "    return sorted(all_symbols)"
   ]
  },
  {
   "cell_type": "code",
   "execution_count": 10,
   "id": "488bfb43",
   "metadata": {},
   "outputs": [],
   "source": [
    "soup = get_soup('https://www.advfn.com/nasdaq/nasdaq.asp?companies=A')\n",
    "#soup\n",
    "get_table(soup)"
   ]
  },
  {
   "cell_type": "code",
   "execution_count": 11,
   "id": "a4a78c80",
   "metadata": {},
   "outputs": [
    {
     "name": "stdout",
     "output_type": "stream",
     "text": [
      "Beggining nasdaq\n",
      "Letter:\n",
      "AUnable to extract rows\n",
      "'NoneType' object has no attribute 'find_all'\n"
     ]
    },
    {
     "ename": "TypeError",
     "evalue": "'NoneType' object is not iterable",
     "output_type": "error",
     "traceback": [
      "\u001b[0;31m---------------------------------------------------------------------------\u001b[0m",
      "\u001b[0;31mTypeError\u001b[0m                                 Traceback (most recent call last)",
      "Cell \u001b[0;32mIn[11], line 1\u001b[0m\n\u001b[0;32m----> 1\u001b[0m all_symbols \u001b[38;5;241m=\u001b[39m extract_all_symbols()\n",
      "Cell \u001b[0;32mIn[9], line 9\u001b[0m, in \u001b[0;36mextract_all_symbols\u001b[0;34m()\u001b[0m\n\u001b[1;32m      7\u001b[0m     url \u001b[38;5;241m=\u001b[39m \u001b[38;5;124mf\u001b[39m\u001b[38;5;124m'\u001b[39m\u001b[38;5;132;01m{\u001b[39;00mbase_url\u001b[38;5;132;01m}\u001b[39;00m\u001b[38;5;124m/\u001b[39m\u001b[38;5;132;01m{\u001b[39;00mexchange\u001b[38;5;132;01m}\u001b[39;00m\u001b[38;5;124m/\u001b[39m\u001b[38;5;132;01m{\u001b[39;00mpath\u001b[38;5;132;01m}\u001b[39;00m\u001b[38;5;124m.asp?companies=\u001b[39m\u001b[38;5;132;01m{\u001b[39;00mletter\u001b[38;5;132;01m}\u001b[39;00m\u001b[38;5;124m'\u001b[39m\n\u001b[1;32m      8\u001b[0m     soup \u001b[38;5;241m=\u001b[39m get_soup(url)\n\u001b[0;32m----> 9\u001b[0m     symbols \u001b[38;5;241m=\u001b[39m extract_symbols(soup)\n\u001b[1;32m     10\u001b[0m     all_symbols \u001b[38;5;241m+\u001b[39m\u001b[38;5;241m=\u001b[39m symbols\n\u001b[1;32m     11\u001b[0m \u001b[38;5;28mprint\u001b[39m()\n",
      "Cell \u001b[0;32mIn[8], line 5\u001b[0m, in \u001b[0;36mextract_symbols\u001b[0;34m(soup)\u001b[0m\n\u001b[1;32m      3\u001b[0m table \u001b[38;5;241m=\u001b[39m get_table(soup)\n\u001b[1;32m      4\u001b[0m rows \u001b[38;5;241m=\u001b[39m get_rows(table)\n\u001b[0;32m----> 5\u001b[0m \u001b[38;5;28;01mfor\u001b[39;00m row \u001b[38;5;129;01min\u001b[39;00m rows:\n\u001b[1;32m      6\u001b[0m     symbol \u001b[38;5;241m=\u001b[39m get_symbol(row)\n\u001b[1;32m      7\u001b[0m     \u001b[38;5;28;01mif\u001b[39;00m symbol \u001b[38;5;129;01mis\u001b[39;00m \u001b[38;5;129;01mnot\u001b[39;00m \u001b[38;5;28;01mNone\u001b[39;00m:\n",
      "\u001b[0;31mTypeError\u001b[0m: 'NoneType' object is not iterable"
     ]
    }
   ],
   "source": [
    "all_symbols = extract_all_symbols()"
   ]
  },
  {
   "cell_type": "code",
   "execution_count": 11,
   "id": "3125d5a6",
   "metadata": {},
   "outputs": [],
   "source": [
    "all_symbols = sorted(list(set(all_symbols)))"
   ]
  },
  {
   "cell_type": "code",
   "execution_count": 12,
   "id": "28fec2af",
   "metadata": {},
   "outputs": [
    {
     "data": {
      "text/plain": [
       "['A', 'AA', 'AAAP', 'AABA', 'AABC', 'AAC', 'AACC', 'AACE', 'AACI', 'AACQ']"
      ]
     },
     "execution_count": 12,
     "metadata": {},
     "output_type": "execute_result"
    }
   ],
   "source": [
    "all_symbols[:10]"
   ]
  },
  {
   "cell_type": "code",
   "execution_count": 13,
   "id": "828ba0fd",
   "metadata": {},
   "outputs": [
    {
     "data": {
      "text/plain": [
       "['ZWS', 'ZY', 'ZYBT', 'ZYME', 'ZYNE', 'ZYXI', 'ZZK', 'ZZO', 'ZZX', 'ZZZ']"
      ]
     },
     "execution_count": 13,
     "metadata": {},
     "output_type": "execute_result"
    }
   ],
   "source": [
    "all_symbols[-10:]"
   ]
  },
  {
   "cell_type": "code",
   "execution_count": 14,
   "id": "721093d9",
   "metadata": {},
   "outputs": [],
   "source": [
    "with open('../data/all_symbols.pkl', 'wb') as f:\n",
    "    pickle.dump(all_symbols, f)"
   ]
  },
  {
   "cell_type": "code",
   "execution_count": 15,
   "id": "2d82a47c",
   "metadata": {},
   "outputs": [
    {
     "data": {
      "text/plain": [
       "12009"
      ]
     },
     "execution_count": 15,
     "metadata": {},
     "output_type": "execute_result"
    }
   ],
   "source": [
    "n = len(all_symbols)\n",
    "n"
   ]
  },
  {
   "cell_type": "code",
   "execution_count": 21,
   "id": "b2255bfd",
   "metadata": {},
   "outputs": [
    {
     "name": "stderr",
     "output_type": "stream",
     "text": [
      "[*********************100%***********************]  3 of 3 completed\n",
      "\n",
      "1 Failed download:\n",
      "['ZQZZ']: YFTzMissingError('possibly delisted; no timezone found')\n"
     ]
    },
    {
     "data": {
      "text/html": [
       "<div>\n",
       "<style scoped>\n",
       "    .dataframe tbody tr th:only-of-type {\n",
       "        vertical-align: middle;\n",
       "    }\n",
       "\n",
       "    .dataframe tbody tr th {\n",
       "        vertical-align: top;\n",
       "    }\n",
       "\n",
       "    .dataframe thead th {\n",
       "        text-align: right;\n",
       "    }\n",
       "</style>\n",
       "<table border=\"1\" class=\"dataframe\">\n",
       "  <thead>\n",
       "    <tr style=\"text-align: right;\">\n",
       "      <th>Ticker</th>\n",
       "      <th>AAPL</th>\n",
       "      <th>TSLA</th>\n",
       "      <th>ZQZZ</th>\n",
       "    </tr>\n",
       "    <tr>\n",
       "      <th>Date</th>\n",
       "      <th></th>\n",
       "      <th></th>\n",
       "      <th></th>\n",
       "    </tr>\n",
       "  </thead>\n",
       "  <tbody>\n",
       "    <tr>\n",
       "      <th>2025-03-24</th>\n",
       "      <td>220.729996</td>\n",
       "      <td>278.390015</td>\n",
       "      <td>NaN</td>\n",
       "    </tr>\n",
       "    <tr>\n",
       "      <th>2025-03-25</th>\n",
       "      <td>223.750000</td>\n",
       "      <td>288.140015</td>\n",
       "      <td>NaN</td>\n",
       "    </tr>\n",
       "    <tr>\n",
       "      <th>2025-03-26</th>\n",
       "      <td>221.529999</td>\n",
       "      <td>272.059998</td>\n",
       "      <td>NaN</td>\n",
       "    </tr>\n",
       "    <tr>\n",
       "      <th>2025-03-27</th>\n",
       "      <td>223.850006</td>\n",
       "      <td>273.130005</td>\n",
       "      <td>NaN</td>\n",
       "    </tr>\n",
       "    <tr>\n",
       "      <th>2025-03-28</th>\n",
       "      <td>217.899994</td>\n",
       "      <td>263.549988</td>\n",
       "      <td>NaN</td>\n",
       "    </tr>\n",
       "  </tbody>\n",
       "</table>\n",
       "</div>"
      ],
      "text/plain": [
       "Ticker            AAPL        TSLA  ZQZZ\n",
       "Date                                    \n",
       "2025-03-24  220.729996  278.390015   NaN\n",
       "2025-03-25  223.750000  288.140015   NaN\n",
       "2025-03-26  221.529999  272.059998   NaN\n",
       "2025-03-27  223.850006  273.130005   NaN\n",
       "2025-03-28  217.899994  263.549988   NaN"
      ]
     },
     "execution_count": 21,
     "metadata": {},
     "output_type": "execute_result"
    }
   ],
   "source": [
    "END = datetime.now()\n",
    "START = END - timedelta(7)\n",
    "test = yf.download(['AAPL', 'TSLA', 'ZQZZ'], start=str(START.date()), end=str(END.date()))['Close']\n",
    "test"
   ]
  },
  {
   "cell_type": "code",
   "execution_count": 22,
   "id": "a975fa22",
   "metadata": {},
   "outputs": [
    {
     "data": {
      "text/html": [
       "<div>\n",
       "<style scoped>\n",
       "    .dataframe tbody tr th:only-of-type {\n",
       "        vertical-align: middle;\n",
       "    }\n",
       "\n",
       "    .dataframe tbody tr th {\n",
       "        vertical-align: top;\n",
       "    }\n",
       "\n",
       "    .dataframe thead th {\n",
       "        text-align: right;\n",
       "    }\n",
       "</style>\n",
       "<table border=\"1\" class=\"dataframe\">\n",
       "  <thead>\n",
       "    <tr style=\"text-align: right;\">\n",
       "      <th>Ticker</th>\n",
       "      <th>AAPL</th>\n",
       "      <th>TSLA</th>\n",
       "    </tr>\n",
       "    <tr>\n",
       "      <th>Date</th>\n",
       "      <th></th>\n",
       "      <th></th>\n",
       "    </tr>\n",
       "  </thead>\n",
       "  <tbody>\n",
       "    <tr>\n",
       "      <th>2025-03-24</th>\n",
       "      <td>220.729996</td>\n",
       "      <td>278.390015</td>\n",
       "    </tr>\n",
       "    <tr>\n",
       "      <th>2025-03-25</th>\n",
       "      <td>223.750000</td>\n",
       "      <td>288.140015</td>\n",
       "    </tr>\n",
       "    <tr>\n",
       "      <th>2025-03-26</th>\n",
       "      <td>221.529999</td>\n",
       "      <td>272.059998</td>\n",
       "    </tr>\n",
       "    <tr>\n",
       "      <th>2025-03-27</th>\n",
       "      <td>223.850006</td>\n",
       "      <td>273.130005</td>\n",
       "    </tr>\n",
       "    <tr>\n",
       "      <th>2025-03-28</th>\n",
       "      <td>217.899994</td>\n",
       "      <td>263.549988</td>\n",
       "    </tr>\n",
       "  </tbody>\n",
       "</table>\n",
       "</div>"
      ],
      "text/plain": [
       "Ticker            AAPL        TSLA\n",
       "Date                              \n",
       "2025-03-24  220.729996  278.390015\n",
       "2025-03-25  223.750000  288.140015\n",
       "2025-03-26  221.529999  272.059998\n",
       "2025-03-27  223.850006  273.130005\n",
       "2025-03-28  217.899994  263.549988"
      ]
     },
     "execution_count": 22,
     "metadata": {},
     "output_type": "execute_result"
    }
   ],
   "source": [
    "test2 = test.loc[:, test.iloc[-1, :].notnull()]\n",
    "test2"
   ]
  },
  {
   "cell_type": "code",
   "execution_count": 23,
   "id": "39a4bef3",
   "metadata": {},
   "outputs": [
    {
     "data": {
      "text/plain": [
       "Index(['AAPL', 'TSLA'], dtype='object', name='Ticker')"
      ]
     },
     "execution_count": 23,
     "metadata": {},
     "output_type": "execute_result"
    }
   ],
   "source": [
    "test2.columns"
   ]
  },
  {
   "cell_type": "code",
   "execution_count": 24,
   "id": "fae13703",
   "metadata": {},
   "outputs": [
    {
     "data": {
      "text/plain": [
       "('2025-03-23', '2025-03-30')"
      ]
     },
     "execution_count": 24,
     "metadata": {},
     "output_type": "execute_result"
    }
   ],
   "source": [
    "start = str(START.date())\n",
    "end = str(END.date())\n",
    "start, end"
   ]
  },
  {
   "cell_type": "markdown",
   "id": "5c14427e",
   "metadata": {},
   "source": [
    "### Next Time\n",
    "Code below is inefficient, bc it retries symbols if < $2 instead of removing them. \n",
    "Add to `omit` instead and do not rerun. (Update for all code chunks below.)"
   ]
  },
  {
   "cell_type": "code",
   "execution_count": 28,
   "id": "9f51cdf9",
   "metadata": {
    "scrolled": true
   },
   "outputs": [
    {
     "name": "stdout",
     "output_type": "stream",
     "text": [
      "Batch: EGGF - EMLD\r"
     ]
    },
    {
     "name": "stderr",
     "output_type": "stream",
     "text": [
      "[*********************100%***********************]  100 of 100 completed\n",
      "\n",
      "53 Failed downloads:\n",
      "['EMBB', 'EMKR', 'EIA', 'ELMG', 'ELBO', 'ELOQ', 'EMG', 'EGN', 'EMFT', 'EMCD', 'ELAM', 'EIHI', 'EIGR', 'EMHZ', 'ELEC', 'EMI', 'EJ', 'ELOY', 'ELTE', 'EMBX', 'ELNK', 'EMLB', 'ELU', 'EGT', 'EICU', 'ELRC']: YFPricesMissingError('possibly delisted; no price data found  (1d 2025-03-23 -> 2025-03-30)')\n",
      "['EHT', 'EGOV', 'ELVT', 'EMBK', 'EGLX', 'EGIF', 'EHR', 'EGI', 'EMCI', 'ELXR', 'ELAT', 'EGLE', 'EIDX', 'EJFA', 'ELMS', 'EMCF', 'ELGX', 'EGGF', 'ELCC', 'EIGI', 'ELY', 'EMDA', 'ELJ']: YFTzMissingError('possibly delisted; no timezone found')\n",
      "['EMLD', 'EGIO', 'ELYM', 'ELIQ']: YFPricesMissingError('possibly delisted; no price data found  (1d 2025-03-23 -> 2025-03-30) (Yahoo error = \"No data found, symbol may be delisted\")')\n",
      "[**                     5%                       ]  5 of 100 completed"
     ]
    },
    {
     "name": "stdout",
     "output_type": "stream",
     "text": [
      "Batch: EMMA - EQBK\r"
     ]
    },
    {
     "name": "stderr",
     "output_type": "stream",
     "text": [
      "[*********************100%***********************]  100 of 100 completed\n",
      "\n",
      "48 Failed downloads:\n",
      "['EPIQ', 'EPIK', 'ENSI', 'EPEX', 'EMXX', 'EPHC', 'EMQ', 'EMSA', 'ENCY', 'ENTL', 'ENTU', 'EPMD', 'EMPW', 'EOCA', 'ENOC', 'EPIC', 'ENMC', 'EMSD', 'EPEN', 'EMSO', 'ENWV', 'EPNY', 'ENLC', 'ENH', 'ENZY', 'EPG', 'EPRE']: YFPricesMissingError('possibly delisted; no price data found  (1d 2025-03-23 -> 2025-03-30)')\n",
      "['ENDP', 'ENV', 'ENJY']: YFPricesMissingError('possibly delisted; no price data found  (1d 2025-03-23 -> 2025-03-30) (Yahoo error = \"No data found, symbol may be delisted\")')\n",
      "['ENFC', 'EMWP', 'ENT', 'ENVI', 'ENOB', 'ENTF', 'ENPC', 'ENNV', 'ENBA', 'ENER', 'EPWR', 'EOCW', 'ENCP', 'EPOC', 'EPHY', 'EPAY', 'EPZM', 'ENCX']: YFTzMissingError('possibly delisted; no timezone found')\n",
      "[**                     4%                       ]  4 of 100 completed"
     ]
    },
    {
     "name": "stdout",
     "output_type": "stream",
     "text": [
      "Batch: EQC - ETW\r"
     ]
    },
    {
     "name": "stderr",
     "output_type": "stream",
     "text": [
      "[*********************100%***********************]  100 of 100 completed\n",
      "\n",
      "50 Failed downloads:\n",
      "['EQGP', 'ERYY', 'ESD', 'ESSF', 'EQY', 'ESIO', 'ESIC', 'ETE', 'ESCH', 'ERS', 'ETRM', 'ERGF', 'ERTS', 'ESND', 'ERT', 'ESUS', 'ESPD', 'ESRX', 'ETAK', 'ESST', 'ESLR']: YFPricesMissingError('possibly delisted; no price data found  (1d 2025-03-23 -> 2025-03-30)')\n",
      "['ETAO', 'ETTX', 'ETRN', 'ERF']: YFPricesMissingError('possibly delisted; no price data found  (1d 2025-03-23 -> 2025-03-30) (Yahoo error = \"No data found, symbol may be delisted\")')\n",
      "['ERES', 'ESTR', 'EQM', 'ESTE', 'ERA', 'EQRX', 'ESV', 'ESMT', 'EQOS', 'ESMK', 'ESBK', 'ETM', 'ESGC', 'EROS', 'EQD', 'ESM', 'ESSC', 'ETAC', 'ESAC', 'ESXB', 'ETFC', 'ERNB', 'ERI', 'ETEL', 'EQHA']: YFTzMissingError('possibly delisted; no timezone found')\n",
      "[**                     5%                       ]  5 of 100 completed"
     ]
    },
    {
     "name": "stdout",
     "output_type": "stream",
     "text": [
      "Batch: ETWC - EZT\r"
     ]
    },
    {
     "name": "stderr",
     "output_type": "stream",
     "text": [
      "[*********************100%***********************]  100 of 100 completed\n",
      "\n",
      "41 Failed downloads:\n",
      "['ETWC', 'EURO', 'EZFL', 'EVAC', 'EXJF', 'EXEA', 'EVVV', 'EVDY', 'EUBK', 'EXBD', 'EXAC', 'EUFS', 'EXAM', 'EZEM', 'EZT', 'EYET', 'EXXI', 'EVHC', 'EXCO', 'EXEE', 'EURX', 'EXA', 'EVBS', 'EVST']: YFPricesMissingError('possibly delisted; no price data found  (1d 2025-03-23 -> 2025-03-30)')\n",
      "['EVE', 'EVK', 'EVBG', 'EXTO', 'EURN']: YFPricesMissingError('possibly delisted; no price data found  (1d 2025-03-23 -> 2025-03-30) (Yahoo error = \"No data found, symbol may be delisted\")')\n",
      "['EVOJ', 'EYES', 'EVSI', 'EXD', 'EXN', 'EXTN', 'EUCR', 'EVOP', 'EXPR', 'EXPC', 'EUSG', 'EXFO']: YFTzMissingError('possibly delisted; no timezone found')\n",
      "[**                     4%                       ]  4 of 100 completed"
     ]
    },
    {
     "name": "stdout",
     "output_type": "stream",
     "text": [
      "Batch: F - FDS\r"
     ]
    },
    {
     "name": "stderr",
     "output_type": "stream",
     "text": [
      "[*********************100%***********************]  100 of 100 completed\n",
      "\n",
      "57 Failed downloads:\n",
      "['FBEI', 'FBMT', 'FBMI', 'FACE', 'FAUS', 'FCEC', 'FBRC', 'FCFC', 'FDI', 'FAV', 'FCLF', 'FCFL', 'FCPO', 'FBST', 'FCS', 'FCFP', 'FADV', 'FDCC', 'FDML', 'FAOO', 'FCH', 'FBG', 'FBNW', 'FCSE', 'FBAY', 'FCGI']: YFPricesMissingError('possibly delisted; no price data found  (1d 2025-03-23 -> 2025-03-30)')\n",
      "['FBCM', 'FABK', 'FCRD', 'FDEU', 'FDEF', 'FBNK', 'FALB', 'FCRZ', 'FCRW', 'FCAC', 'FDRY', 'FATP', 'FCEB', 'FCAX', 'FCSX', 'FCSC', 'FACA', 'FB', 'FBSS', 'FCBP', 'FCAU', 'FAZZ', 'FAII', 'FAZE', 'FDC', 'FBC', 'FBHS', 'FBM', 'FCEA']: YFTzMissingError('possibly delisted; no timezone found')\n",
      "['FATH', 'FAM']: YFPricesMissingError('possibly delisted; no price data found  (1d 2025-03-23 -> 2025-03-30) (Yahoo error = \"No data found, symbol may be delisted\")')\n",
      "[***                    6%                       ]  6 of 100 completed"
     ]
    },
    {
     "name": "stdout",
     "output_type": "stream",
     "text": [
      "Batch: FDSB - FINL\r"
     ]
    },
    {
     "name": "stderr",
     "output_type": "stream",
     "text": [
      "[*********************100%***********************]  100 of 100 completed\n",
      "\n",
      "51 Failed downloads:\n",
      "['FFHH', 'FENX', 'FFFD', 'FHC', 'FHCC', 'FEEU', 'FIGY', 'FICC', 'FFDB', 'FIBG', 'FFFL', 'FESX', 'FFKT', 'FFCH', 'FINB', 'FFBI', 'FINL', 'FFEX', 'FEIC', 'FHRX', 'FEDL', 'FILE', 'FEHY', 'FFKY', 'FFBZ', 'FFSW', 'FFHS', 'FFFS', 'FIEU', 'FFBK']: YFPricesMissingError('possibly delisted; no price data found  (1d 2025-03-23 -> 2025-03-30)')\n",
      "['FEI', 'FEXD', 'FEN', 'FIF', 'FIAC']: YFPricesMissingError('possibly delisted; no price data found  (1d 2025-03-23 -> 2025-03-30) (Yahoo error = \"No data found, symbol may be delisted\")')\n",
      "['FGH', 'FGP', 'FFG', 'FIII', 'FELP', 'FGXI', 'FGDY', 'FII', 'FIEF', 'FFDP', 'FEO', 'FICV', 'FFHL', 'FGNA', 'FEYE', 'FHS']: YFTzMissingError('possibly delisted; no timezone found')\n",
      "[**                     5%                       ]  5 of 100 completed"
     ]
    },
    {
     "name": "stdout",
     "output_type": "stream",
     "text": [
      "Batch: FINM - FNDR\r"
     ]
    },
    {
     "name": "stderr",
     "output_type": "stream",
     "text": [
      "[*********************100%***********************]  100 of 100 completed\n",
      "\n",
      "52 Failed downloads:\n",
      "['FLSH', 'FMKT', 'FMCN', 'FKFS', 'FMSA', 'FNBN', 'FMAX', 'FLYI', 'FNCF', 'FMCO', 'FNBF', 'FLPB', 'FMSB', 'FLBK', 'FIRE', 'FLDD', 'FMDG', 'FMFC', 'FMER', 'FNBG', 'FMLP', 'FLTX', 'FMD', 'FLYR', 'FLAT', 'FMI']: YFPricesMissingError('possibly delisted; no price data found  (1d 2025-03-23 -> 2025-03-30)')\n",
      "['FLAC', 'FMBI', 'FIT', 'FNDR', 'FIXX', 'FMCI', 'FLKS', 'FMAC', 'FMTX', 'FLLC', 'FLAG', 'FIV', 'FLIR', 'FLYA', 'FLT', 'FLDM', 'FLME', 'FINM', 'FLMN', 'FMDA', 'FMIV', 'FLAI', 'FLXN']: YFTzMissingError('possibly delisted; no timezone found')\n",
      "['FISV', 'FNCB', 'FLFV']: YFPricesMissingError('possibly delisted; no price data found  (1d 2025-03-23 -> 2025-03-30) (Yahoo error = \"No data found, symbol may be delisted\")')\n",
      "[*                      3%                       ]  3 of 100 completed"
     ]
    },
    {
     "name": "stdout",
     "output_type": "stream",
     "text": [
      "Batch: FNDT - FRX\r"
     ]
    },
    {
     "name": "stderr",
     "output_type": "stream",
     "text": [
      "[*********************100%***********************]  100 of 100 completed\n",
      "\n",
      "55 Failed downloads:\n",
      "['FNFV', 'FOIL', 'FOBB', 'FRNS', 'FOXH', 'FOOT', 'FNDT', 'FNET', 'FNFG', 'FPTB', 'FNHC', 'FRTX', 'FNSC', 'FPO', 'FPFC', 'FOGO', 'FRP', 'FNFN', 'FPIC', 'FRGO', 'FNIS', 'FNVT', 'FNTE']: YFPricesMissingError('possibly delisted; no price data found  (1d 2025-03-23 -> 2025-03-30)')\n",
      "['FOCS', 'FRNT', 'FOMX', 'FRX', 'FPAC', 'FNSR', 'FNJN', 'FPRX', 'FOE', 'FRAN', 'FREQ', 'FRON', 'FORK', 'FNPC', 'FRF', 'FRTA', 'FRED', 'FRAC', 'FRGI', 'FRW', 'FRBN', 'FORE', 'FNGN', 'FRC', 'FRSG', 'FOXW', 'FORG']: YFTzMissingError('possibly delisted; no timezone found')\n",
      "['FREE', 'FOUN', 'FPL', 'FRBK', 'FRG']: YFPricesMissingError('possibly delisted; no price data found  (1d 2025-03-23 -> 2025-03-30) (Yahoo error = \"No data found, symbol may be delisted\")')\n",
      "[                       0%                       ]"
     ]
    },
    {
     "name": "stdout",
     "output_type": "stream",
     "text": [
      "Batch: FRXB - FUND\r"
     ]
    },
    {
     "name": "stderr",
     "output_type": "stream",
     "text": [
      "[*********************100%***********************]  100 of 100 completed\n",
      "\n",
      "57 Failed downloads:\n",
      "['FST', 'FSLF', 'FSRV', 'FTCH', 'FSB', 'FTAC', 'FTD', 'FSDC', 'FTEV', 'FSCT', 'FSII', 'FSTX', 'FTW', 'FTSI', 'FSLB', 'FTAA', 'FTR', 'FRXB', 'FSNB', 'FTPA', 'FSRD', 'FTNW', 'FSR', 'FSKR', 'FTRP', 'FTIV', 'FSSI', 'FTCV', 'FUJI', 'FTOC', 'FSRX', 'FTVI', 'FSTM', 'FTSV']: YFTzMissingError('possibly delisted; no timezone found')\n",
      "['FSBI', 'FTGX', 'FTHR', 'FSCI', 'FTFC', 'FTLK', 'FSC', 'FSPR', 'FSNM', 'FSAC', 'FSIN', 'FULL', 'FTWR', 'FSYS', 'FSFR', 'FSLA', 'FUEL', 'FTBK', 'FTCG', 'FSTP', 'FTDI', 'FSBK']: YFPricesMissingError('possibly delisted; no price data found  (1d 2025-03-23 -> 2025-03-30)')\n",
      "['FSD']: YFPricesMissingError('possibly delisted; no price data found  (1d 2025-03-23 -> 2025-03-30) (Yahoo error = \"No data found, symbol may be delisted\")')\n",
      "[*****                 10%                       ]  10 of 100 completed"
     ]
    },
    {
     "name": "stdout",
     "output_type": "stream",
     "text": [
      "Batch: FUR - GCT\r"
     ]
    },
    {
     "name": "stderr",
     "output_type": "stream",
     "text": [
      "[*********************100%***********************]  100 of 100 completed\n",
      "\n",
      "51 Failed downloads:\n",
      "['FXJP', 'FXEU', 'GBNK', 'FWHT', 'FXCM', 'GAS', 'GADZ', 'FXRE', 'GBCB', 'FXCB', 'GCBS', 'GAZB', 'FWM', 'FVCX', 'GCFC', 'FUSA', 'GCOM', 'GBTS', 'FXCO', 'FUR', 'GBTB', 'FWFC', 'GAIT', 'FXEP']: YFPricesMissingError('possibly delisted; no price data found  (1d 2025-03-23 -> 2025-03-30)')\n",
      "['FWAC', 'GCAC', 'FZT', 'GBLL', 'GCP', 'FVAC', 'GACQ', 'GARS', 'FWAA', 'FUSE', 'GAPA', 'GBLK', 'GBRG', 'GBNH', 'GBL', 'GBOX', 'FVIV', 'FVT', 'FVE', 'GBS', 'GCAP', 'GBT']: YFTzMissingError('possibly delisted; no timezone found')\n",
      "['GAQ', 'GAMC', 'FWBI', 'GATO', 'FUSN']: YFPricesMissingError('possibly delisted; no price data found  (1d 2025-03-23 -> 2025-03-30) (Yahoo error = \"No data found, symbol may be delisted\")')\n",
      "[**                     5%                       ]  5 of 100 completed"
     ]
    },
    {
     "name": "stdout",
     "output_type": "stream",
     "text": [
      "Batch: GCTK - GHAC\r"
     ]
    },
    {
     "name": "stderr",
     "output_type": "stream",
     "text": [
      "[*********************100%***********************]  100 of 100 completed\n",
      "\n",
      "51 Failed downloads:\n",
      "['GETI', 'GFSI', 'GFRE', 'GEHL', 'GGXY', 'GDJS', 'GDF', 'GEAC', 'GEQ', 'GDYS', 'GGNS', 'GGAC', 'GFLS', 'GEDU', 'GEMS', 'GDJJ', 'GFA', 'GGUY', 'GENZ', 'GGP', 'GEOI', 'GEUR', 'GEOY', 'GEXA']: YFPricesMissingError('possibly delisted; no price data found  (1d 2025-03-23 -> 2025-03-30)')\n",
      "['GFLU', 'GFX', 'GFED', 'GGAA', 'GGGV', 'GEMP', 'GFN', 'GDNR', 'GGE', 'GGO', 'GDI', 'GGOV', 'GFIS', 'GFOR', 'GER', 'GHAC', 'GDCT', 'GDP', 'GEOV', 'GECX', 'GGMC', 'GFGD', 'GFY', 'GEAR', 'GGPI']: YFTzMissingError('possibly delisted; no timezone found')\n",
      "['GENQ', 'GEEX']: YFPricesMissingError('possibly delisted; no price data found  (1d 2025-03-23 -> 2025-03-30) (Yahoo error = \"No data found, symbol may be delisted\")')\n",
      "[                       0%                       ]"
     ]
    },
    {
     "name": "stdout",
     "output_type": "stream",
     "text": [
      "Batch: GHC - GMFI\r"
     ]
    },
    {
     "name": "stderr",
     "output_type": "stream",
     "text": [
      "[*********************100%***********************]  100 of 100 completed\n",
      "\n",
      "45 Failed downloads:\n",
      "['GLDC', 'GIVN', 'GLF', 'GMC', 'GLBC', 'GMDA', 'GISX', 'GLFD', 'GHCI', 'GLGS', 'GHS', 'GKSR', 'GLGL', 'GLYT', 'GI', 'GLBK', 'GMAI', 'GLGC', 'GKIS']: YFPricesMissingError('possibly delisted; no price data found  (1d 2025-03-23 -> 2025-03-30)')\n",
      "['GIA', 'GMEB', 'GHL', 'GLUU', 'GLEE', 'GMBT', 'GLHA', 'GIK', 'GHIV', 'GHDX', 'GLEO', 'GIIX', 'GIW', 'GIX', 'GLS', 'GIGZ', 'GLOP', 'GLOG', 'GIM', 'GIAC', 'GLTA', 'GHVI', 'GLAQ', 'GLG']: YFTzMissingError('possibly delisted; no timezone found')\n",
      "['GHIX', 'GLT']: YFPricesMissingError('possibly delisted; no price data found  (1d 2025-03-23 -> 2025-03-30) (Yahoo error = \"No data found, symbol may be delisted\")')\n",
      "[**                     5%                       ]  5 of 100 completed"
     ]
    },
    {
     "name": "stdout",
     "output_type": "stream",
     "text": [
      "Batch: GMGI - GRAL\r"
     ]
    },
    {
     "name": "stderr",
     "output_type": "stream",
     "text": [
      "[*********************100%***********************]  100 of 100 completed\n",
      "\n",
      "49 Failed downloads:\n",
      "['GOV', 'GPCB', 'GNSC', 'GMST', 'GMT', 'GMR', 'GORX', 'GPIA', 'GMTA', 'GMTN', 'GOAM', 'GNBC', 'GMRK', 'GNSY', 'GNLB', 'GNET', 'GNVC', 'GMTC', 'GNRT', 'GMKT', 'GPT']: YFPricesMissingError('possibly delisted; no price data found  (1d 2025-03-23 -> 2025-03-30)')\n",
      "['GPIC', 'GMO', 'GRA', 'GOGN', 'GPL', 'GNCA', 'GMTX', 'GNAC', 'GMVD', 'GPX', 'GNMX', 'GPM', 'GPCO', 'GMII', 'GMZ', 'GPAQ', 'GMHI', 'GNMK', 'GOAC', 'GOBI', 'GNC', 'GNUS', 'GNPK']: YFTzMissingError('possibly delisted; no timezone found')\n",
      "['GODN', 'GNOG', 'GNRS', 'GPS', 'GPAC']: YFPricesMissingError('possibly delisted; no price data found  (1d 2025-03-23 -> 2025-03-30) (Yahoo error = \"No data found, symbol may be delisted\")')\n",
      "[                       0%                       ]"
     ]
    },
    {
     "name": "stdout",
     "output_type": "stream",
     "text": [
      "Batch: GRAN - GTXI\r"
     ]
    },
    {
     "name": "stderr",
     "output_type": "stream",
     "text": [
      "[*********************100%***********************]  99 of 100 completed\n",
      "\n",
      "54 Failed downloads:\n",
      "['GRIF', 'GSHT', 'GRNV', 'GTS', 'GRPH', 'GRSV', 'GSQB', 'GSAH', 'GRIL', 'GTT', 'GSMG', 'GRVI', 'GSRM', 'GTXI', 'GSLD', 'GSVC', 'GSEV', 'GSKY', 'GSD', 'GSX', 'GRNA', 'GSEC', 'GRCY', 'GRSH', 'GRUB', 'GSB', 'GRAY', 'GTPA', 'GSQD']: YFTzMissingError('possibly delisted; no timezone found')\n",
      "['GRTS', 'GSS', 'GTHX', 'GSAQ', 'GRIN', 'GRDI']: YFPricesMissingError('possibly delisted; no price data found  (1d 2025-03-23 -> 2025-03-30) (Yahoo error = \"No data found, symbol may be delisted\")')\n",
      "['GREY', 'GRIC', 'GRKA', 'GSLA', 'GSTL', 'GRRF', 'GSI', 'GSLI', 'GRAN', 'GSIC', 'GTSI', 'GTWN', 'GSV', 'GTRC', 'GRWN', 'GST']: YFPricesMissingError('possibly delisted; no price data found  (1d 2025-03-23 -> 2025-03-30)')\n",
      "['GTPB', 'GSH', 'GTAC']: YFRateLimitError('Too Many Requests. Rate limited. Try after a while.')\n",
      "[*                      2%                       ]  2 of 100 completed"
     ]
    },
    {
     "name": "stdout",
     "output_type": "stream",
     "text": [
      "Batch: GTY - HCDI\r"
     ]
    },
    {
     "name": "stderr",
     "output_type": "stream",
     "text": [
      "[*********************100%***********************]  100 of 100 completed\n",
      "\n",
      "57 Failed downloads:\n",
      "['GVHR', 'HCBB', 'GZBX', 'GURI', 'HAR', 'HANS', 'HBNK', 'GZMO', 'GVBK', 'HBEK', 'GXDX', 'HAYZ', 'GYMB', 'HACV', 'HBE', 'GUID', 'HBHC', 'HANA', 'GYEN', 'GUPB', 'HAKI', 'GXP', 'HACW', 'HAVS', 'HAST', 'HARB', 'GWL']: YFPricesMissingError('possibly delisted; no price data found  (1d 2025-03-23 -> 2025-03-30)')\n",
      "['HCAP', 'HAKK', 'HARP', 'HCCI', 'HBP', 'GXGX', 'HAIR', 'GTYH', 'HCAR', 'HCCO', 'HBMD', 'HCDI', 'HAPP', 'HABT', 'GWAC', 'GVCI', 'GXII', 'GWR', 'HCAC', 'HCCC', 'GWB', 'GWII', 'GWGH', 'HCCH', 'HCAQ', 'HAAC', 'HBK']: YFTzMissingError('possibly delisted; no timezone found')\n",
      "['HA', 'HAYN', 'GVP']: YFPricesMissingError('possibly delisted; no price data found  (1d 2025-03-23 -> 2025-03-30) (Yahoo error = \"No data found, symbol may be delisted\")')\n",
      "[***                    6%                       ]  6 of 100 completed"
     ]
    },
    {
     "name": "stdout",
     "output_type": "stream",
     "text": [
      "Batch: HCFC - HIG\r"
     ]
    },
    {
     "name": "stderr",
     "output_type": "stream",
     "text": [
      "[*********************100%***********************]  100 of 100 completed\n",
      "\n",
      "63 Failed downloads:\n",
      "['HEVY', 'HEOP', 'HHYX', 'HDRA', 'HFFC', 'HCRF', 'HGEN', 'HCN', 'HGIC', 'HCP', 'HCXZ', 'HGSI', 'HDEE', 'HDNG', 'HIFN', 'HCFC', 'HDP', 'HEGJ', 'HEMV', 'HHY', 'HCTL', 'HGRD', 'HEPH', 'HDRW', 'HEFV', 'HDTV', 'HEUV', 'HGEU', 'HGGR', 'HGJP', 'HHGP', 'HGG', 'HEUS']: YFPricesMissingError('possibly delisted; no price data found  (1d 2025-03-23 -> 2025-03-30)')\n",
      "['HGH', 'HCNE', 'HCII', 'HEPR', 'HHRS', 'HIFR', 'HFC', 'HHT', 'HCIC', 'HCFT', 'HCHC', 'HERA', 'HHC', 'HEB', 'HFBC', 'HGSH', 'HDIX', 'HFEN', 'HEBT', 'HEC', 'HHHH', 'HEXO', 'HCMA', 'HEMO', 'HDS', 'HCR']: YFTzMissingError('possibly delisted; no timezone found')\n",
      "['HHGC', 'HIBB', 'HEAR', 'HIE']: YFPricesMissingError('possibly delisted; no price data found  (1d 2025-03-23 -> 2025-03-30) (Yahoo error = \"No data found, symbol may be delisted\")')\n",
      "[**                     5%                       ]  5 of 100 completed"
     ]
    },
    {
     "name": "stdout",
     "output_type": "stream",
     "text": [
      "Batch: HIGA - HOOD\r"
     ]
    },
    {
     "name": "stderr",
     "output_type": "stream",
     "text": [
      "[*********************100%***********************]  100 of 100 completed\n",
      "\n",
      "52 Failed downloads:\n",
      "['HLYW', 'HNR', 'HNT', 'HLEX', 'HMNA', 'HNH', 'HNSN', 'HOFF', 'HMIN', 'HOGS', 'HIRE', 'HMLK', 'HOMX', 'HLFC', 'HNBC', 'HITK', 'HOMF', 'HKAC', 'HMSL', 'HLYS']: YFPricesMissingError('possibly delisted; no price data found  (1d 2025-03-23 -> 2025-03-30)')\n",
      "['HMAC', 'HMPT', 'HILS', 'HMA', 'HMU', 'HOL', 'HLAH', 'HMHC', 'HJLI', 'HKOR', 'HMLP', 'HLXA', 'HOMS', 'HMG', 'HNGR', 'HMCO', 'HIII', 'HMSY', 'HMTV', 'HIIQ', 'HIL', 'HOME', 'HK', 'HNP', 'HLBZ', 'HIGA', 'HINT', 'HMTA']: YFTzMissingError('possibly delisted; no timezone found')\n",
      "['HMNF', 'HOLI', 'HNRA', 'HLTH']: YFPricesMissingError('possibly delisted; no price data found  (1d 2025-03-23 -> 2025-03-30) (Yahoo error = \"No data found, symbol may be delisted\")')\n",
      "[***                    6%                       ]  6 of 100 completed"
     ]
    },
    {
     "name": "stdout",
     "output_type": "stream",
     "text": [
      "Batch: HOOK - HUAK\r"
     ]
    },
    {
     "name": "stderr",
     "output_type": "stream",
     "text": [
      "[*********************100%***********************]  100 of 100 completed\n",
      "\n",
      "49 Failed downloads:\n",
      "['HPRT', 'HRAY', 'HSFT', 'HRLY', 'HRBN', 'HOTT', 'HQCL', 'HRG', 'HPY', 'HSNI', 'HTLF', 'HTFA', 'HTHR', 'HTRN', 'HTCH', 'HTM', 'HOT', 'HTWR', 'HSWI', 'HPOL', 'HRBT', 'HRSH', 'HORC']: YFPricesMissingError('possibly delisted; no price data found  (1d 2025-03-23 -> 2025-03-30)')\n",
      "['HTPA', 'HSAQ', 'HUAK', 'HTBX', 'HPR', 'HTGM', 'HPLT', 'HPJ', 'HPT', 'HSC', 'HPX', 'HRC', 'HTA', 'HSTX', 'HOS', 'HTY', 'HPGP', 'HSGX', 'HORI', 'HSKA', 'HT', 'HSAC', 'HTAQ']: YFTzMissingError('possibly delisted; no timezone found')\n",
      "['HRT', 'HSTO', 'HRYU']: YFPricesMissingError('possibly delisted; no price data found  (1d 2025-03-23 -> 2025-03-30) (Yahoo error = \"No data found, symbol may be delisted\")')\n",
      "[***                    6%                       ]  6 of 100 completed"
     ]
    },
    {
     "name": "stdout",
     "output_type": "stream",
     "text": [
      "Batch: HUBA - IBP\r"
     ]
    },
    {
     "name": "stderr",
     "output_type": "stream",
     "text": [
      "[**********************99%***********************]  99 of 100 completed\n",
      "\n",
      "52 Failed downloads:\n",
      "['IAAI', 'HUMC', 'IBCC', 'IASG', 'IAM', 'HYDL', 'HYGO', 'HUMP', 'IBLN', 'IBAS', 'IAIA', 'IAAC', 'HYF', 'HZNP', 'IACI', 'HW', 'IBDH', 'HYSL', 'IBCB', 'HYB', 'IBDB', 'HUGH', 'IATV', 'HYBD', 'HUVL']: YFPricesMissingError('possibly delisted; no price data found  (1d 2025-03-23 -> 2025-03-30)')\n",
      "['HYRE', 'IAIC', 'IBKC', 'HUGS', 'HYGS', 'HWEL', 'IACA', 'HZON', 'HUSN', 'HWCC', 'IAA', 'IACB', 'HVBT', 'I', 'IBER', 'HZN', 'HVBC', 'HUD', 'HUBA', 'IBDA', 'HYMF', 'HZAC', 'HYDG', 'HWKZ', 'IACC', 'IBMF']: YFTzMissingError('possibly delisted; no timezone found')\n",
      "['HUGE']: YFPricesMissingError('possibly delisted; no price data found  (1d 2025-03-23 -> 2025-03-30) (Yahoo error = \"No data found, symbol may be delisted\")')\n",
      "[                       0%                       ]"
     ]
    },
    {
     "name": "stdout",
     "output_type": "stream",
     "text": [
      "Batch: IBRX - IGMS\r"
     ]
    },
    {
     "name": "stderr",
     "output_type": "stream",
     "text": [
      "[*********************100%***********************]  100 of 100 completed\n",
      "\n",
      "57 Failed downloads:\n",
      "['IDNX', 'IFCJ', 'IELG', 'ICOG', 'ICCA', 'IFON', 'ICDG', 'IDPH', 'IFUL', 'IESM', 'ICOC', 'IDWK', 'IDMI', 'ICOS', 'ICAB', 'IFMI', 'ICB', 'ICCI', 'IEDU', 'IEIS', 'IEIL', 'IFOX', 'IFCN', 'ICGN', 'ICA', 'ICBC', 'IDI', 'IDBE', 'ICCH', 'ICST', 'IDXC', 'IFCB', 'IFLO', 'ICTS', 'ICTG', 'ICEL']: YFPricesMissingError('possibly delisted; no price data found  (1d 2025-03-23 -> 2025-03-30)')\n",
      "['IEA', 'ICPT', 'IEC', 'IGAP', 'IGAC', 'IDHB', 'IDRA', 'IDW', 'ICXT', 'ICVX', 'ICNC', 'ID', 'IDSY', 'IFLG', 'IDSA', 'IDTI']: YFTzMissingError('possibly delisted; no timezone found')\n",
      "['ICBK', 'IDEX', 'IBTX', 'IFIN', 'ICD']: YFPricesMissingError('possibly delisted; no price data found  (1d 2025-03-23 -> 2025-03-30) (Yahoo error = \"No data found, symbol may be delisted\")')\n",
      "[*                      3%                       ]  3 of 100 completed"
     ]
    },
    {
     "name": "stdout",
     "output_type": "stream",
     "text": [
      "Batch: IGNY - INF\r"
     ]
    },
    {
     "name": "stderr",
     "output_type": "stream",
     "text": [
      "[*********************100%***********************]  100 of 100 completed\n",
      "\n",
      "56 Failed downloads:\n",
      "['IL', 'IMCO', 'INET', 'IIIM', 'IMED', 'IMS', 'ILSE', 'IMGC', 'INDM', 'IMMC', 'IMN', 'ILG', 'IJNK', 'IINT', 'IM', 'INDU', 'IGU', 'INCB', 'IMMY', 'IGW', 'IMPV', 'IMAN', 'ILOG', 'INCX', 'IGS', 'IMPR']: YFPricesMissingError('possibly delisted; no price data found  (1d 2025-03-23 -> 2025-03-30)')\n",
      "['IGNY', 'IHIT', 'IMI', 'IMGN', 'ILNX', 'IIN', 'IMMU', 'IMPL', 'INAP', 'IMV', 'IMH', 'IIVI', 'IID', 'IHC', 'IMRA', 'IIAC', 'IMDZ', 'IIII', 'INF', 'IMAC', 'IMGO', 'INB', 'IKAR', 'IGZ', 'IMPX', 'IKNX', 'IHTT', 'INDT']: YFTzMissingError('possibly delisted; no timezone found')\n",
      "['IHTA', 'INAQ']: YFPricesMissingError('possibly delisted; no price data found  (1d 2025-03-23 -> 2025-03-30) (Yahoo error = \"No data found, symbol may be delisted\")')\n",
      "[**                     5%                       ]  5 of 100 completed"
     ]
    },
    {
     "name": "stdout",
     "output_type": "stream",
     "text": [
      "Batch: INFA - IPCS\r"
     ]
    },
    {
     "name": "stderr",
     "output_type": "stream",
     "text": [
      "[*********************100%***********************]  100 of 100 completed\n",
      "\n",
      "44 Failed downloads:\n",
      "['INXI', 'INTX', 'INPC', 'IOC', 'INFN', 'INFS', 'IPAS', 'IPCC', 'INOC', 'IPCR', 'INHO', 'INZ', 'IPCS', 'INHX', 'INTN', 'INSI', 'IONA', 'INY', 'INNL', 'IOTN', 'IOMI', 'ININ', 'IOIL', 'INRG', 'INLD', 'INKP']: YFPricesMissingError('possibly delisted; no price data found  (1d 2025-03-23 -> 2025-03-30)')\n",
      "['INS', 'INSU', 'IO', 'INFI', 'INKA', 'INNT', 'INXN', 'INSY', 'IOTS', 'IOAC', 'INGP', 'IPAX', 'INWK', 'INT', 'INPX']: YFTzMissingError('possibly delisted; no timezone found')\n",
      "['INXB', 'INST', 'INVO']: YFPricesMissingError('possibly delisted; no price data found  (1d 2025-03-23 -> 2025-03-30) (Yahoo error = \"No data found, symbol may be delisted\")')\n",
      "[*                      3%                       ]  3 of 100 completed"
     ]
    },
    {
     "name": "stdout",
     "output_type": "stream",
     "text": [
      "Batch: IPDN - ITRG\r"
     ]
    },
    {
     "name": "stderr",
     "output_type": "stream",
     "text": [
      "[*********************100%***********************]  100 of 100 completed\n",
      "\n",
      "63 Failed downloads:\n",
      "['ISIL', 'ISKO', 'IRIS', 'ISSX', 'IPXL', 'IRIC', 'ITIP', 'ITLA', 'ISLD', 'IPSU', 'ISTA', 'ITML', 'IPXX', 'IQNT', 'IRGI', 'ISIS', 'IPMT', 'ISPH', 'ITEK', 'ITR', 'ITRA', 'ITMS', 'ISYS']: YFPricesMissingError('possibly delisted; no price data found  (1d 2025-03-23 -> 2025-03-30)')\n",
      "['ISM', 'ISOS', 'IPVF', 'ITQ', 'ISNS', 'ISCA', 'IRKO', 'IRR', 'IRNT', 'IPVI', 'IPOB', 'ISSU', 'IPOD', 'ITHX', 'ISOT', 'IPOF', 'IRL', 'ISAA', 'ISIG', 'ITCA', 'IPVA', 'IPV', 'IPHS', 'IS', 'IPOC', 'ITLN', 'ISO', 'ITAC', 'IPOA', 'ISLE', 'ISLN', 'ITAQ', 'IPOE', 'IPHI', 'ISBC', 'ISEE', 'ISR']: YFTzMissingError('possibly delisted; no timezone found')\n",
      "['ISDR', 'IQMD', 'ITI']: YFPricesMissingError('possibly delisted; no price data found  (1d 2025-03-23 -> 2025-03-30) (Yahoo error = \"No data found, symbol may be delisted\")')\n",
      "[**                     5%                       ]  5 of 100 completed"
     ]
    },
    {
     "name": "stdout",
     "output_type": "stream",
     "text": [
      "Batch: ITRI - JHD\r"
     ]
    },
    {
     "name": "stderr",
     "output_type": "stream",
     "text": [
      "[*********************100%***********************]  100 of 100 completed\n",
      "\n",
      "48 Failed downloads:\n",
      "['JAMS', 'JBRI', 'IVOP', 'IVGN', 'JGV', 'ITXC', 'JGX', 'IVTY', 'IWOV', 'IXYS', 'IUSA', 'IVTA', 'IVIS', 'JHA', 'JFBI', 'ITXG', 'JGW', 'IVIL', 'JDAS', 'JAH', 'JCDA', 'JAAC']: YFPricesMissingError('possibly delisted; no price data found  (1d 2025-03-23 -> 2025-03-30)')\n",
      "['JAQC', 'JGGC', 'JHB', 'JGBB', 'JHD', 'JASN', 'JE', 'JDD', 'JEMD', 'IVAN', 'JEC', 'JHAA', 'JASO', 'JATT', 'JCAP', 'JCS', 'JCIC', 'IVH', 'IVC', 'JAX', 'JCO', 'JAG', 'JCP']: YFTzMissingError('possibly delisted; no timezone found')\n",
      "['JBT', 'JAN', 'IVCP']: YFPricesMissingError('possibly delisted; no price data found  (1d 2025-03-23 -> 2025-03-30) (Yahoo error = \"No data found, symbol may be delisted\")')\n",
      "[***                    6%                       ]  6 of 100 completed"
     ]
    },
    {
     "name": "stdout",
     "output_type": "stream",
     "text": [
      "Batch: JHFT - KAAC\r"
     ]
    },
    {
     "name": "stderr",
     "output_type": "stream",
     "text": [
      "[*********************100%***********************]  100 of 100 completed\n",
      "\n",
      "61 Failed downloads:\n",
      "['JJTB', 'JMG', 'JJMB', 'JSC', 'JNIC', 'JMI', 'JUPM', 'JJUB', 'JST', 'JPNS', 'JIB', 'JJCB', 'JJAB', 'JMBA', 'JMDT', 'JLMI', 'JXSB', 'JJEB', 'JHFT', 'JXVL', 'JJGB', 'JJSB', 'JUNO', 'JNP', 'JOSB', 'JTPY', 'JJPB', 'JMBI', 'JOYG', 'JPX']: YFPricesMissingError('possibly delisted; no price data found  (1d 2025-03-23 -> 2025-03-30)')\n",
      "['JYAC', 'JSYN', 'JMF', 'JP', 'JTA', 'JHY', 'JRO', 'JUPW', 'JUGG', 'JSD', 'KAAC', 'JWB', 'JMLP', 'JPP', 'JWA', 'JMT', 'JOFF', 'JNCE', 'JMP', 'JMPE', 'JOAN', 'JTD', 'JUN', 'JWS', 'JMPB', 'JMAC', 'JIH', 'JWAC']: YFTzMissingError('possibly delisted; no timezone found')\n",
      "['JWSM', 'KA', 'JXJT']: YFPricesMissingError('possibly delisted; no price data found  (1d 2025-03-23 -> 2025-03-30) (Yahoo error = \"No data found, symbol may be delisted\")')\n",
      "[*****                 11%                       ]  11 of 100 completed"
     ]
    },
    {
     "name": "stdout",
     "output_type": "stream",
     "text": [
      "Batch: KACL - KMDA\r"
     ]
    },
    {
     "name": "stderr",
     "output_type": "stream",
     "text": [
      "[*********************100%***********************]  100 of 100 completed\n",
      "\n",
      "46 Failed downloads:\n",
      "['KANG', 'KFED', 'KEYN', 'KBWI', 'KEMP', 'KEYP', 'KED', 'KBAY', 'KITE', 'KIII', 'KFT', 'KEYW', 'KBWC', 'KKD', 'KCG', 'KITD', 'KHI', 'KENT', 'KFBI', 'KERX', 'KATE', 'KFFG', 'KHDH', 'KDC', 'KLXI']: YFPricesMissingError('possibly delisted; no price data found  (1d 2025-03-23 -> 2025-03-30)')\n",
      "['KCGI', 'KBAL']: YFPricesMissingError('possibly delisted; no price data found  (1d 2025-03-23 -> 2025-03-30) (Yahoo error = \"No data found, symbol may be delisted\")')\n",
      "['KIN', 'KLR', 'KAIR', 'KAMN', 'KIQ', 'KAII', 'KDMN', 'KBSF', 'KLAQ', 'KDNY', 'KL', 'KCAP', 'KINZ', 'KAHC', 'KBLM', 'KEG', 'KAL', 'KERN', 'KCAC']: YFTzMissingError('possibly delisted; no timezone found')\n",
      "[**                     5%                       ]  5 of 100 completed"
     ]
    },
    {
     "name": "stdout",
     "output_type": "stream",
     "text": [
      "Batch: KMF - KUTV\r"
     ]
    },
    {
     "name": "stderr",
     "output_type": "stream",
     "text": [
      "[*********************100%***********************]  100 of 100 completed\n",
      "\n",
      "44 Failed downloads:\n",
      "['KNBT', 'KNSY', 'KTWO', 'KNTA', 'KOSP', 'KST', 'KONE', 'KSW', 'KNOT', 'KUTV', 'KNAP', 'KMGB', 'KOR', 'KMG', 'KNXA', 'KNDL', 'KSWS', 'KOSN', 'KTII', 'KROO', 'KMM', 'KNOL', 'KND', 'KOMG']: YFPricesMissingError('possibly delisted; no price data found  (1d 2025-03-23 -> 2025-03-30)')\n",
      "['KMPH', 'KNL', 'KMF', 'KSI', 'KURI', 'KNBE', 'KSU', 'KNTE', 'KPFS', 'KRA', 'KPPC', 'KSMT', 'KSPP', 'KRTX', 'KRU', 'KNSW', 'KRS']: YFTzMissingError('possibly delisted; no timezone found')\n",
      "['KRNL', 'KTRA', 'KSPN']: YFPricesMissingError('possibly delisted; no price data found  (1d 2025-03-23 -> 2025-03-30) (Yahoo error = \"No data found, symbol may be delisted\")')\n",
      "[**                     4%                       ]  4 of 100 completed"
     ]
    },
    {
     "name": "stdout",
     "output_type": "stream",
     "text": [
      "Batch: KVA - LEDR\r"
     ]
    },
    {
     "name": "stderr",
     "output_type": "stream",
     "text": [
      "[*********************100%***********************]  100 of 100 completed\n",
      "\n",
      "52 Failed downloads:\n",
      "['LABS', 'LARS', 'LCBM', 'LCRY', 'LAZY', 'LBF', 'LEDR', 'LARE', 'LAYN', 'KYE', 'LCGI', 'KYPH', 'KYAK', 'LBAI', 'LARL', 'LEDD', 'KYO', 'LAVA', 'KYCH', 'LDSH', 'LATD', 'KZ', 'LCRD', 'LBIX', 'LDF']: YFPricesMissingError('possibly delisted; no price data found  (1d 2025-03-23 -> 2025-03-30)')\n",
      "['KVSC', 'LAAC', 'LATG', 'LABP', 'LBPH', 'LCW']: YFPricesMissingError('possibly delisted; no price data found  (1d 2025-03-23 -> 2025-03-30) (Yahoo error = \"No data found, symbol may be delisted\")')\n",
      "['LCI', 'LAWS', 'LATN', 'LBBB', 'LCAA', 'LEAP', 'KVSB', 'LBY', 'LEAF', 'KVA', 'LACQ', 'KVSA', 'KYON', 'LABL', 'LAAA', 'KWAC', 'LCY', 'LDL', 'LDHA', 'LBC', 'LCA']: YFTzMissingError('possibly delisted; no timezone found')\n",
      "[**                     5%                       ]  5 of 100 completed"
     ]
    },
    {
     "name": "stdout",
     "output_type": "stream",
     "text": [
      "Batch: LEDS - LIVN\r"
     ]
    },
    {
     "name": "stderr",
     "output_type": "stream",
     "text": [
      "[*********************100%***********************]  99 of 100 completed\n",
      "\n",
      "46 Failed downloads:\n",
      "['LILM', 'LHO', 'LEXR', 'LEI', 'LEND', 'LF', 'LEGC', 'LEIX', 'LGF', 'LIOX', 'LICB', 'LIFC']: YFPricesMissingError('possibly delisted; no price data found  (1d 2025-03-23 -> 2025-03-30)')\n",
      "['LILK', 'LIVK', 'LIVB', 'LGTO', 'LEVL', 'LFTR', 'LHAA', 'LHDX', 'LEWY', 'LEJU', 'LIMC', 'LGAC', 'LEVB', 'LGVW', 'LGLW', 'LERA', 'LIMS', 'LHCG', 'LEGO', 'LGST', 'LENB', 'LGC', 'LIHR', 'LFAC', 'LITT', 'LGV', 'LEGA', 'LIII', 'LHC', 'LFG']: YFTzMissingError('possibly delisted; no timezone found')\n",
      "['LIFW', 'LEV', 'LIBY', 'LGVC']: YFPricesMissingError('possibly delisted; no price data found  (1d 2025-03-23 -> 2025-03-30) (Yahoo error = \"No data found, symbol may be delisted\")')\n",
      "[**                     5%                       ]  5 of 100 completed"
     ]
    },
    {
     "name": "stdout",
     "output_type": "stream",
     "text": [
      "Batch: LIVX - LPSN\r"
     ]
    },
    {
     "name": "stderr",
     "output_type": "stream",
     "text": [
      "[*********************100%***********************]  100 of 100 completed\n",
      "\n",
      "57 Failed downloads:\n",
      "['LMDX', 'LMOS', 'LNCR', 'LNKD', 'LNOP', 'LMIN', 'LOUD', 'LNCE', 'LMHA', 'LLSP', 'LPNT', 'LKQX', 'LMHB', 'LNET', 'LPSB', 'LLSC', 'LOGO', 'LLTC', 'LNCB', 'LNUX', 'LMIA', 'LPMA', 'LONG', 'LMRA']: YFPricesMissingError('possibly delisted; no price data found  (1d 2025-03-23 -> 2025-03-30)')\n",
      "['LOAC', 'LOR', 'LNDC', 'LNDU', 'LJPC', 'LLEX', 'LLGX', 'LOKB', 'LOXO', 'LMTG', 'LNFA', 'LPI', 'LLNW', 'LLIT', 'LLL', 'LOKM', 'LOCC', 'LOAK', 'LMAO', 'LMNL', 'LONE', 'LM', 'LKSD', 'LMNX', 'LIVX', 'LOTZ', 'LJAQ', 'LOGM', 'LORL', 'LMST', 'LLDM']: YFTzMissingError('possibly delisted; no timezone found')\n",
      "['LL', 'LLAP']: YFPricesMissingError('possibly delisted; no price data found  (1d 2025-03-23 -> 2025-03-30) (Yahoo error = \"No data found, symbol may be delisted\")')\n",
      "[**                     5%                       ]  5 of 100 completed"
     ]
    },
    {
     "name": "stdout",
     "output_type": "stream",
     "text": [
      "Batch: LPT - LXU\r"
     ]
    },
    {
     "name": "stderr",
     "output_type": "stream",
     "text": [
      "[*********************100%***********************]  100 of 100 completed\n",
      "\n",
      "41 Failed downloads:\n",
      "['LWSN', 'LUFK', 'LWC', 'LXBK', 'LSBX', 'LSBG', 'LSG', 'LXK', 'LQID', 'LVLT', 'LSON', 'LSVX', 'LUK', 'LTXC', 'LSCO', 'LQ', 'LSTK', 'LSPN', 'LSC', 'LTXX', 'LSCP']: YFPricesMissingError('possibly delisted; no price data found  (1d 2025-03-23 -> 2025-03-30)')\n",
      "['LTHM', 'LRAD', 'LWAC', 'LTXB', 'LUXA', 'LSAQ', 'LTS', 'LVGO', 'LVAC', 'LSAC', 'LPT', 'LSI', 'LVRA', 'LUCA', 'LSPR', 'LUB', 'LVOX']: YFTzMissingError('possibly delisted; no timezone found')\n",
      "['LSDI', 'LQR', 'LUMO']: YFPricesMissingError('possibly delisted; no price data found  (1d 2025-03-23 -> 2025-03-30) (Yahoo error = \"No data found, symbol may be delisted\")')\n",
      "[*                      3%                       ]  3 of 100 completed"
     ]
    },
    {
     "name": "stdout",
     "output_type": "stream",
     "text": [
      "Batch: LYB - MBTC\r"
     ]
    },
    {
     "name": "stderr",
     "output_type": "stream",
     "text": [
      "[*********************100%***********************]  99 of 100 completed\n",
      "\n",
      "45 Failed downloads:\n",
      "['MBLA', 'MAKO', 'MAJR', 'MBHI', 'MAXY', 'MASC', 'MAXM', 'LZEN', 'MBFC', 'MATR', 'MAXF', 'MAXS', 'MATF', 'MAJC', 'MATK', 'MANC', 'MAFB', 'MASB', 'MAIL', 'MBRG', 'MAB', 'MALL']: YFPricesMissingError('possibly delisted; no price data found  (1d 2025-03-23 -> 2025-03-30)')\n",
      "['MBFI', 'MAMS', 'MBRK', 'MBAC', 'MACQ', 'MAXR', 'MAAQ', 'MACU', 'LYL', 'MBSC', 'MB', 'MBII', 'MBT', 'MACC', 'MANT', 'MBPL', 'MAAC', 'MBTC']: YFTzMissingError('possibly delisted; no timezone found')\n",
      "['LYLT', 'MACK', 'MARX', 'MACA', 'MACE']: YFPricesMissingError('possibly delisted; no price data found  (1d 2025-03-23 -> 2025-03-30) (Yahoo error = \"No data found, symbol may be delisted\")')\n",
      "[**                     5%                       ]  5 of 100 completed"
     ]
    },
    {
     "name": "stdout",
     "output_type": "stream",
     "text": [
      "Batch: MBTF - MEDS\r"
     ]
    },
    {
     "name": "stderr",
     "output_type": "stream",
     "text": [
      "[*********************100%***********************]  100 of 100 completed\n",
      "\n",
      "54 Failed downloads:\n",
      "['MCCC', 'MEDQ', 'MDD', 'MCUR', 'MDCC', 'MCP', 'MDKI', 'MDLK', 'MDVN', 'MCHM', 'MCDT', 'MDCV', 'MBVT', 'MDLX', 'MDTH', 'MDLQ', 'MEAD', 'MCIP', 'MECA', 'MDMD', 'MDNU', 'MCOX', 'MDA', 'MCX']: YFPricesMissingError('possibly delisted; no price data found  (1d 2025-03-23 -> 2025-03-30)')\n",
      "['MCMJ', 'MDLA', 'MCAF', 'MDH', 'MDR', 'MCAD', 'MCA', 'MBTF', 'MDC', 'MDVL', 'MDCO', 'MEAC', 'MCG', 'MCC', 'MCAE', 'MCV', 'MDSO', 'MDWW', 'MCF', 'MCRN', 'MDCA', 'MCFE', 'MDWT', 'MDP', 'MDLY']: YFTzMissingError('possibly delisted; no timezone found')\n",
      "['MDNA', 'MCAC', 'MCBC', 'MEDS', 'MDJH']: YFPricesMissingError('possibly delisted; no price data found  (1d 2025-03-23 -> 2025-03-30) (Yahoo error = \"No data found, symbol may be delisted\")')\n",
      "[**                     5%                       ]  5 of 100 completed"
     ]
    },
    {
     "name": "stdout",
     "output_type": "stream",
     "text": [
      "Batch: MEDW - MHO\r"
     ]
    },
    {
     "name": "stderr",
     "output_type": "stream",
     "text": [
      "[*********************100%***********************]  100 of 100 completed\n",
      "\n",
      "49 Failed downloads:\n",
      "['MHCO', 'MENT', 'MESG', 'MEDW', 'METG', 'MHG', 'MFLR', 'MHGC', 'MFLA', 'METH', 'MGOL', 'MGCD', 'MFS', 'MGN', 'MEMY', 'MFUN', 'MFRM', 'MGH', 'MERB', 'MERX', 'MEMP', 'MFLO', 'MFBC', 'MEP', 'MEND', 'MENU']: YFPricesMissingError('possibly delisted; no price data found  (1d 2025-03-23 -> 2025-03-30)')\n",
      "['MEN', 'MEET', 'MGEN', 'MFT', 'MFNC', 'MFL', 'MHMY', 'MFO', 'MGI', 'MFAC', 'MFGP', 'MFSF', 'METX', 'MEKA', 'MHE', 'MGTA', 'MGP', 'MELR', 'MGU', 'MFV', 'MEOA', 'MGLN']: YFTzMissingError('possibly delisted; no timezone found')\n",
      "['MFD']: YFPricesMissingError('possibly delisted; no price data found  (1d 2025-03-23 -> 2025-03-30) (Yahoo error = \"No data found, symbol may be delisted\")')\n",
      "[*                      3%                       ]  3 of 100 completed"
     ]
    },
    {
     "name": "stdout",
     "output_type": "stream",
     "text": [
      "Batch: MHUA - MMDM\r"
     ]
    },
    {
     "name": "stderr",
     "output_type": "stream",
     "text": [
      "[*********************100%***********************]  100 of 100 completed\n",
      "\n",
      "55 Failed downloads:\n",
      "['MILT', 'MILB', 'MITL', 'MLPJ', 'MIRN', 'MIW', 'MJN', 'MLAN', 'MKTO', 'MLPS', 'MIGP', 'MLIN', 'MIKR', 'MJES', 'MIPS', 'MICC', 'MITY', 'MLPN', 'MIFI', 'MICU', 'MKTG', 'MLNM', 'MIVA', 'MLEA', 'MLMT']: YFPricesMissingError('possibly delisted; no price data found  (1d 2025-03-23 -> 2025-03-30)')\n",
      "['MJCO', 'MION', 'MIE', 'MMAC', 'MLHR', 'MLVF', 'MKGI', 'MILE', 'MINI', 'MICT', 'MLAI', 'MIC', 'MIMO', 'MKCV', 'MICR', 'MLND', 'MMDM', 'MLNX', 'MKTY', 'MIRO', 'MIXT', 'MIPI', 'MIT', 'MLNT', 'MIK', 'MIME', 'MKUL']: YFTzMissingError('possibly delisted; no timezone found')\n",
      "['MICS', 'MITA', 'MMAT']: YFPricesMissingError('possibly delisted; no price data found  (1d 2025-03-23 -> 2025-03-30) (Yahoo error = \"No data found, symbol may be delisted\")')\n",
      "[***                    6%                       ]  6 of 100 completed"
     ]
    },
    {
     "name": "stdout",
     "output_type": "stream",
     "text": [
      "Batch: MMI - MPO\r"
     ]
    },
    {
     "name": "stderr",
     "output_type": "stream",
     "text": [
      "[*********************100%***********************]  99 of 100 completed\n",
      "\n",
      "53 Failed downloads:\n",
      "['MMX', 'MOTV', 'MOTA', 'MNK', 'MOTN', 'MOBV', 'MOSY', 'MOOV', 'MNRL', 'MNTA', 'MNDT', 'MNTV', 'MOXC', 'MMTH', 'MN', 'MOLC', 'MMP', 'MON', 'MOBL', 'MNP', 'MNGA', 'MPAC', 'MPCT', 'MNE', 'MNLO', 'MOSC', 'MNCL', 'MNI', 'MMMB']: YFTzMissingError('possibly delisted; no timezone found')\n",
      "['MONM', 'MNTN', 'MNGL', 'MNEL', 'MNNY', 'MOVI', 'MOSS', 'MOCC', 'MNDX', 'MOLG', 'MONE', 'MNRK', 'MOLX', 'MOBI', 'MOGN', 'MMUS', 'MOTR', 'MNTG', 'MOCO', 'MOSX', 'MMPT']: YFPricesMissingError('possibly delisted; no price data found  (1d 2025-03-23 -> 2025-03-30)')\n",
      "['MNTX', 'MODN', 'MORF']: YFPricesMissingError('possibly delisted; no price data found  (1d 2025-03-23 -> 2025-03-30) (Yahoo error = \"No data found, symbol may be delisted\")')\n",
      "[***                    6%                       ]  6 of 100 completed"
     ]
    },
    {
     "name": "stdout",
     "output_type": "stream",
     "text": [
      "Batch: MPRA - MTB\r"
     ]
    },
    {
     "name": "stderr",
     "output_type": "stream",
     "text": [
      "[*********************100%***********************]  100 of 100 completed\n",
      "\n",
      "42 Failed downloads:\n",
      "['MSII', 'MSNQ', 'MSFG', 'MROI', 'MSPX', 'MRNT', 'MSHL', 'MRQQ', 'MRNS', 'MSCC', 'MSPD', 'MRD', 'MSSR', 'MRVC', 'MRSS', 'MSSN', 'MRNN', 'MSLV', 'MPWG', 'MRBA', 'MSBK', 'MROE', 'MRAE']: YFPricesMissingError('possibly delisted; no price data found  (1d 2025-03-23 -> 2025-03-30)')\n",
      "['MSL', 'MPVD', 'MPRA', 'MRTX', 'MSGN', 'MRAC', 'MSON', 'MRIC', 'MSAC', 'MSG', 'MRLN', 'MTAC', 'MSP', 'MSBF', 'MSCS', 'MR']: YFTzMissingError('possibly delisted; no timezone found')\n",
      "['MRDB', 'MSDA', 'MRO']: YFPricesMissingError('possibly delisted; no price data found  (1d 2025-03-23 -> 2025-03-30) (Yahoo error = \"No data found, symbol may be delisted\")')\n",
      "[**                     4%                       ]  4 of 100 completed"
     ]
    },
    {
     "name": "stdout",
     "output_type": "stream",
     "text": [
      "Batch: MTBC - MXRE\r"
     ]
    },
    {
     "name": "stderr",
     "output_type": "stream",
     "text": [
      "[*********************100%***********************]  99 of 100 completed\n",
      "\n",
      "50 Failed downloads:\n",
      "['MTRY', 'MTVC', 'MXIM', 'MURF', 'MXGL', 'MTTT', 'MXIC', 'MUDS', 'MTCN', 'MTBC', 'MTOR', 'MUS', 'MTMT', 'MVC', 'MTSL', 'MTEC', 'MTT', 'MUH', 'MWGP', 'MWK', 'MTSC']: YFTzMissingError('possibly delisted; no timezone found')\n",
      "['MWW', 'MTSN', 'MVSN', 'MTDW', 'MTLM', 'MTLG', 'MTON', 'MTCR', 'MTOH', 'MULE', 'MVCD', 'MTOX', 'MTCT', 'MTSP', 'MTXX', 'MTTX', 'MTTR', 'MTDB', 'MTGE', 'MXPT', 'MTSX', 'MTK', 'MTMD', 'MTSM', 'MXRE', 'MTIX', 'MTXC', 'MTNK']: YFPricesMissingError('possibly delisted; no price data found  (1d 2025-03-23 -> 2025-03-30)')\n",
      "['MWRK']: YFPricesMissingError('possibly delisted; no price data found  (1d 2025-03-23 -> 2025-03-30) (Yahoo error = \"No data found, symbol may be delisted\")')\n",
      "[                       0%                       ]"
     ]
    },
    {
     "name": "stdout",
     "output_type": "stream",
     "text": [
      "Batch: MXWL - NCA\r"
     ]
    },
    {
     "name": "stderr",
     "output_type": "stream",
     "text": [
      "[*********************100%***********************]  100 of 100 completed\n",
      "\n",
      "53 Failed downloads:\n",
      "['MY', 'NASI', 'MYCC', 'NBAN', 'NARI', 'MYOG', 'N', 'NBD', 'NADL', 'MZF', 'NAHC', 'NBSC', 'NADX', 'NAPS', 'NAME', 'MZOR', 'NABI', 'NARA', 'NBSI', 'NAP', 'NAFC', 'NASH']: YFPricesMissingError('possibly delisted; no price data found  (1d 2025-03-23 -> 2025-03-30)')\n",
      "['MZA', 'MYJ', 'NBRV', 'NBO', 'MYF', 'NANO', 'NBAC', 'MYOS', 'NASM', 'MYOK', 'MXWL', 'MYIE', 'NBL', 'MYRS', 'NBW', 'NAAC', 'NAKD', 'NATI', 'NAVG', 'NBXZ', 'NBA', 'MYT', 'NAPX', 'NAV', 'MYL', 'MYOV']: YFTzMissingError('possibly delisted; no timezone found')\n",
      "['NBEV', 'MYMD', 'NAPA', 'MYC', 'NBSE']: YFPricesMissingError('possibly delisted; no price data found  (1d 2025-03-23 -> 2025-03-30) (Yahoo error = \"No data found, symbol may be delisted\")')\n",
      "[**                     4%                       ]  4 of 100 completed"
     ]
    },
    {
     "name": "stdout",
     "output_type": "stream",
     "text": [
      "Batch: NCAC - NFG\r"
     ]
    },
    {
     "name": "stderr",
     "output_type": "stream",
     "text": [
      "[*********************100%***********************]  99 of 100 completed\n",
      "\n",
      "54 Failed downloads:\n",
      "['NETE', 'NFC', 'NEV', 'NDPX', 'NDPL', 'NCB', 'NCOM', 'NDLT', 'NCR', 'NDDM', 'NEBC', 'NEBU', 'NEW', 'NDMX', 'NETI', 'NEWR', 'NCBS', 'NEOS', 'NCAC', 'NEX', 'NEWM', 'NDAC', 'NEWA', 'NETC', 'NDPR', 'NES']: YFTzMissingError('possibly delisted; no timezone found')\n",
      "['NDXP', 'NEOT', 'NDRM', 'NEBS', 'NFEC', 'NENG', 'NEI', 'NEPF', 'NCRI', 'NCRX', 'NCOG', 'NCIT', 'NCEM', 'NCQ', 'NDRO', 'NETM', 'NEXM', 'NCOC', 'NERX', 'NCST', 'NEWS', 'NDPS', 'NCEB', 'NEPT', 'NEIB', 'NEFF', 'NEOF']: YFPricesMissingError('possibly delisted; no price data found  (1d 2025-03-23 -> 2025-03-30)')\n",
      "['NDP']: YFPricesMissingError('possibly delisted; no price data found  (1d 2025-03-23 -> 2025-03-30) (Yahoo error = \"No data found, symbol may be delisted\")')\n",
      "[                       0%                       ]"
     ]
    },
    {
     "name": "stdout",
     "output_type": "stream",
     "text": [
      "Batch: NFGC - NMI\r"
     ]
    },
    {
     "name": "stderr",
     "output_type": "stream",
     "text": [
      "[*********************100%***********************]  99 of 100 completed\n",
      "\n",
      "56 Failed downloads:\n",
      "['NKBP', 'NHHC', 'NFSB', 'NLCI', 'NIKU', 'NMHC', 'NIR', 'NFLD', 'NINI', 'NIAG', 'NMA', 'NKA', 'NKBS', 'NGPS', 'NGAS', 'NGRU']: YFPricesMissingError('possibly delisted; no price data found  (1d 2025-03-23 -> 2025-03-30)')\n",
      "['NLOK', 'NKY', 'NGA', 'NLS', 'NGBF', 'NGC', 'NGM', 'NGAB', 'NHA', 'NFNT', 'NFIN', 'NFH', 'NGMS', 'NGCA', 'NLSN', 'NMFX', 'NHLD', 'NHF', 'NLTX', 'NKG', 'NLIT', 'NM', 'NMCI', 'NGAC', 'NHSR', 'NHWK', 'NIHD', 'NJV', 'NID', 'NK', 'NILE', 'NIQ', 'NFTG', 'NGHC', 'NIMC', 'NLNK']: YFTzMissingError('possibly delisted; no timezone found')\n",
      "['NHIC', 'NH', 'NFYS', 'NICK']: YFPricesMissingError('possibly delisted; no price data found  (1d 2025-03-23 -> 2025-03-30) (Yahoo error = \"No data found, symbol may be delisted\")')\n",
      "[**                     4%                       ]  4 of 100 completed"
     ]
    },
    {
     "name": "stdout",
     "output_type": "stream",
     "text": [
      "Batch: NMIH - NREB\r"
     ]
    },
    {
     "name": "stderr",
     "output_type": "stream",
     "text": [
      "[*********************100%***********************]  100 of 100 completed\n",
      "\n",
      "51 Failed downloads:\n",
      "['NPP', 'NNDS', 'NMIL', 'NPT', 'NPD', 'NNCI', 'NMSS', 'NQS', 'NPM', 'NOIZ', 'NMO', 'NMRX', 'NOVL', 'NPSI', 'NPSN', 'NOLD', 'NNSY', 'NOOF', 'NRCI', 'NPF', 'NPTE', 'NQI', 'NREB', 'NOGN', 'NPI', 'NOVB', 'NPLA', 'NQU', 'NPBC', 'NQM', 'NPRO', 'NPTT']: YFPricesMissingError('possibly delisted; no price data found  (1d 2025-03-23 -> 2025-03-30)')\n",
      "['NRBO', 'NOVV', 'NR']: YFPricesMissingError('possibly delisted; no price data found  (1d 2025-03-23 -> 2025-03-30) (Yahoo error = \"No data found, symbol may be delisted\")')\n",
      "['NPN', 'NPTN', 'NMY', 'NOAC', 'NRCG', 'NOVN', 'NP', 'NOVI', 'NRAC', 'NOVS', 'NRE', 'NMMC', 'NPA', 'NNA', 'NNC', 'NPLU']: YFTzMissingError('possibly delisted; no timezone found')\n",
      "[*                      2%                       ]  2 of 100 completed"
     ]
    },
    {
     "name": "stdout",
     "output_type": "stream",
     "text": [
      "Batch: NREF - NUKK\r"
     ]
    },
    {
     "name": "stderr",
     "output_type": "stream",
     "text": [
      "[*********************100%***********************]  100 of 100 completed\n",
      "\n",
      "57 Failed downloads:\n",
      "['NTIQ', 'NTSP', 'NRRD', 'NSDB', 'NSDA', 'NTLI', 'NRGN', 'NUCO', 'NTRT', 'NRF', 'NUFO', 'NTT', 'NSHA', 'NTBK', 'NTOL', 'NTLS', 'NSCN', 'NSPH', 'NTOP', 'NTK', 'NUHC', 'NSAM', 'NSTK', 'NRMX', 'NTMD', 'NSM', 'NTSC', 'NRGP', 'NRPH', 'NTI', 'NSTG', 'NTSL']: YFPricesMissingError('possibly delisted; no price data found  (1d 2025-03-23 -> 2025-03-30)')\n",
      "['NSH', 'NSL', 'NTCO', 'NTUS', 'NRKM', 'NUBI', 'NTEC', 'NUAN', 'NTGN', 'NRZ', 'NSEC', 'NSUR', 'NTP', 'NTRI', 'NTC', 'NTX', 'NSCO', 'NSR', 'NTN']: YFTzMissingError('possibly delisted; no timezone found')\n",
      "['NSS', 'NSTC', 'NTBL', 'NSTD', 'NSTB', 'NTG']: YFPricesMissingError('possibly delisted; no price data found  (1d 2025-03-23 -> 2025-03-30) (Yahoo error = \"No data found, symbol may be delisted\")')\n",
      "[***                    7%                       ]  7 of 100 completed"
     ]
    },
    {
     "name": "stdout",
     "output_type": "stream",
     "text": [
      "Batch: NUM - NXXT\r"
     ]
    },
    {
     "name": "stderr",
     "output_type": "stream",
     "text": [
      "[**********************99%***********************]  99 of 100 completed\n",
      "\n",
      "39 Failed downloads:\n",
      "['NWK', 'NWFI', 'NWIR', 'NWRE', 'NVLS', 'NUTR', 'NVLD', 'NWEC', 'NWAC', 'NVDM', 'NVET', 'NXK', 'NXUS', 'NWSB']: YFPricesMissingError('possibly delisted; no price data found  (1d 2025-03-23 -> 2025-03-30)')\n",
      "['NVCN', 'NVMM', 'NVLN', 'NWGI', 'NUO', 'NXR', 'NXQ', 'NXSN', 'NVSA', 'NVTA', 'NVIV', 'NXEO', 'NUVA', 'NWHM', 'NWMO', 'NXGN', 'NUM', 'NXTD', 'NVL', 'NVUS', 'NVTR', 'NXTM']: YFTzMissingError('possibly delisted; no timezone found')\n",
      "['NUZE', 'NVEI', 'NWLI']: YFPricesMissingError('possibly delisted; no price data found  (1d 2025-03-23 -> 2025-03-30) (Yahoo error = \"No data found, symbol may be delisted\")')\n",
      "[                       0%                       ]"
     ]
    },
    {
     "name": "stdout",
     "output_type": "stream",
     "text": [
      "Batch: NYAX - OGS\r"
     ]
    },
    {
     "name": "stderr",
     "output_type": "stream",
     "text": [
      "[*********************100%***********************]  100 of 100 completed\n",
      "\n",
      "52 Failed downloads:\n",
      "['OASI', 'ODSY', 'OGLE', 'OA', 'NYFX', 'OAKT', 'NYLD', 'NYRT', 'NYX', 'OCAS', 'OCPI', 'OAKF', 'OAOT', 'NZH', 'OATS', 'OCCF', 'NYH', 'ODDJ', 'NZF', 'OCRX', 'OCNW', 'OCNF', 'NYER', 'OCLR', 'OACQ', 'OAKS']: YFPricesMissingError('possibly delisted; no price data found  (1d 2025-03-23 -> 2025-03-30)')\n",
      "['OCCX', 'OEG', 'OBLN', 'OCSI', 'OBNK', 'OAK', 'NYMX', 'OBAS', 'OCA', 'OFC', 'OBSV', 'OGAR', 'ODT', 'OACB', 'OG', 'OCDX', 'OAC', 'OEPW', 'OAS', 'NYV', 'OBCI', 'NYNY']: YFTzMissingError('possibly delisted; no timezone found')\n",
      "['NYCB', 'OCN', 'OBDE', 'OCUP']: YFPricesMissingError('possibly delisted; no price data found  (1d 2025-03-23 -> 2025-03-30) (Yahoo error = \"No data found, symbol may be delisted\")')\n",
      "[****                   9%                       ]  9 of 100 completed"
     ]
    },
    {
     "name": "stdout",
     "output_type": "stream",
     "text": [
      "Batch: OHAA - OPCH\r"
     ]
    },
    {
     "name": "stderr",
     "output_type": "stream",
     "text": [
      "[*********************100%***********************]  100 of 100 completed\n",
      "\n",
      "48 Failed downloads:\n",
      "['ONDR', 'OKSB', 'ONSM', 'ONEK', 'OLGC', 'OPAY', 'ONAV', 'OKS', 'OMRI', 'OLAB', 'OMTH', 'OLCB', 'ONXX', 'OMEF', 'ONVI', 'OMNI', 'OIIL', 'OLGR', 'OMTR', 'OMPI', 'ONES', 'OMIC', 'ONS', 'OILB', 'ONCR', 'ONXS', 'OICO', 'ONTL']: YFPricesMissingError('possibly delisted; no price data found  (1d 2025-03-23 -> 2025-03-30)')\n",
      "['OILS', 'ONCS', 'OMN', 'OMGI', 'OHPA', 'OMEG', 'ONDK', 'OHAI', 'OLBK', 'OHAA', 'ONTX', 'OMP', 'OMED', 'ONCE', 'OIG', 'OPA', 'OHRP', 'OPB', 'OLIT']: YFTzMissingError('possibly delisted; no timezone found')\n",
      "['ONYX']: YFPricesMissingError('possibly delisted; no price data found  (1d 2025-03-23 -> 2025-03-30) (Yahoo error = \"No data found, symbol may be delisted\")')\n",
      "[**                     5%                       ]  5 of 100 completed"
     ]
    },
    {
     "name": "stdout",
     "output_type": "stream",
     "text": [
      "Batch: OPEN - OTMO\r"
     ]
    },
    {
     "name": "stderr",
     "output_type": "stream",
     "text": [
      "[*********************100%***********************]  100 of 100 completed\n",
      "\n",
      "53 Failed downloads:\n",
      "['OPTK', 'OPXA', 'OPSW', 'OSTE', 'OPTC', 'ORIA', 'OSA', 'OPWV', 'OPXT', 'OTFC', 'ORBZ', 'OPTR', 'OSKY', 'OSHC', 'OSGB', 'ORCH', 'ORIG', 'OSM', 'OPTV', 'OSTK', 'OTIC', 'OSIP', 'ORCI', 'OSLE', 'OTIX', 'OPMR']: YFPricesMissingError('possibly delisted; no price data found  (1d 2025-03-23 -> 2025-03-30)')\n",
      "['OPNT', 'OTEC', 'OSIR', 'OSB', 'ORPN', 'OPTM', 'ORCC', 'OSMT', 'OTMO', 'OSTR', 'OSPR', 'ORM', 'ORTX', 'ORSN', 'OTEL', 'ORIT', 'OTIV', 'OPHT', 'OSH', 'OPES', 'ORCD', 'ORBK', 'ORBC', 'OSAT']: YFTzMissingError('possibly delisted; no timezone found')\n",
      "['OSG', 'ORAN', 'OSI']: YFPricesMissingError('possibly delisted; no price data found  (1d 2025-03-23 -> 2025-03-30) (Yahoo error = \"No data found, symbol may be delisted\")')\n",
      "[**                     5%                       ]  5 of 100 completed"
     ]
    },
    {
     "name": "stdout",
     "output_type": "stream",
     "text": [
      "Batch: OTRA - PBF\r"
     ]
    },
    {
     "name": "stderr",
     "output_type": "stream",
     "text": [
      "[*********************100%***********************]  100 of 100 completed\n",
      "\n",
      "47 Failed downloads:\n",
      "['PACR', 'OYOG', 'PARL', 'PBCI', 'OUTD', 'PACT', 'OVER', 'PARN', 'OUTL', 'OVEN', 'OXPS', 'PAET', 'OUTR', 'PBB', 'OVAS', 'PAGI', 'OVNT', 'PALM', 'OTT']: YFPricesMissingError('possibly delisted; no price data found  (1d 2025-03-23 -> 2025-03-30)')\n",
      "['PAAC', 'OZM', 'OZRK', 'OTRA', 'PAIC', 'OXFD', 'PATI', 'PAQC', 'PAYA', 'PACI', 'OXAC', 'PACQ', 'PBBI', 'OXUS', 'PARB', 'PACE', 'OYST', 'PAND', 'PANA', 'PAE', 'PBAX', 'PAFO', 'PACX', 'PBC', 'PACW', 'PBCT', 'PACD']: YFTzMissingError('possibly delisted; no timezone found')\n",
      "['PALT']: YFPricesMissingError('possibly delisted; no price data found  (1d 2025-03-23 -> 2025-03-30) (Yahoo error = \"No data found, symbol may be delisted\")')\n",
      "[**                     4%                       ]  4 of 100 completed"
     ]
    },
    {
     "name": "stdout",
     "output_type": "stream",
     "text": [
      "Batch: PBFS - PENN\r"
     ]
    },
    {
     "name": "stderr",
     "output_type": "stream",
     "text": [
      "[*********************100%***********************]  100 of 100 completed\n",
      "\n",
      "50 Failed downloads:\n",
      "['PBIZ', 'PCBK', 'PCAF', 'PDSG', 'PEGS', 'PCLE', 'PDVW', 'PBMD', 'PBSK', 'PBY', 'PBIB', 'PBKS', 'PCAP', 'PCOP', 'PECS', 'PEET', 'PCCI', 'PCIS', 'PDSN', 'PBTC', 'PBIX']: YFPricesMissingError('possibly delisted; no price data found  (1d 2025-03-23 -> 2025-03-30)')\n",
      "['PCGU', 'PCTI', 'PEGI', 'PCMI', 'PDGI', 'PECK', 'PDLI', 'PEAR', 'PCCT', 'PBRA', 'PCOM', 'PBFX', 'PE', 'PBIP', 'PDOT', 'PCX', 'PDAC', 'PCI', 'PEAK', 'PEIX', 'PCPC', 'PCSB', 'PBTS', 'PCPL', 'PEI']: YFTzMissingError('possibly delisted; no timezone found')\n",
      "['PEGY', 'PDCE', 'PEGR', 'PCYG']: YFPricesMissingError('possibly delisted; no price data found  (1d 2025-03-23 -> 2025-03-30) (Yahoo error = \"No data found, symbol may be delisted\")')\n",
      "[***                    6%                       ]  6 of 100 completed"
     ]
    },
    {
     "name": "stdout",
     "output_type": "stream",
     "text": [
      "Batch: PEO - PHTN\r"
     ]
    },
    {
     "name": "stderr",
     "output_type": "stream",
     "text": [
      "[*********************100%***********************]  100 of 100 completed\n",
      "\n",
      "52 Failed downloads:\n",
      "['PHOC', 'PETD', 'PFEM', 'PF', 'PHTN', 'PETC', 'PGHD', 'PFWD', 'PHFC', 'PHEL', 'PHMD', 'PFGI', 'PGMB', 'PFDC', 'PHLY', 'PERY', 'PGEM', 'PHST', 'PFC', 'PGND', 'PERM', 'PHHM', 'PHSY', 'PFSL', 'PFCB']: YFPricesMissingError('possibly delisted; no price data found  (1d 2025-03-23 -> 2025-03-30)')\n",
      "['PHAS', 'PGSS', 'PGRU', 'PFMT', 'PFIE', 'PETQ']: YFPricesMissingError('possibly delisted; no price data found  (1d 2025-03-23 -> 2025-03-30) (Yahoo error = \"No data found, symbol may be delisted\")')\n",
      "['PHCC', 'PGLC', 'PHGN', 'PETX', 'PFHC', 'PFPT', 'PER', 'PHIC', 'PFNX', 'PGTI', 'PHCF', 'PGRW', 'PGRX', 'PFBI', 'PFIN', 'PES', 'PFDR', 'PFHD', 'PFSW', 'PEPL', 'PGNX']: YFTzMissingError('possibly delisted; no timezone found')\n",
      "[**                     4%                       ]  4 of 100 completed"
     ]
    },
    {
     "name": "stdout",
     "output_type": "stream",
     "text": [
      "Batch: PHUN - PMCB\r"
     ]
    },
    {
     "name": "stderr",
     "output_type": "stream",
     "text": [
      "[*********************100%***********************]  100 of 100 completed\n",
      "\n",
      "45 Failed downloads:\n",
      "['PKY', 'PLTX', 'PKTR', 'PLMD', 'PLPM', 'PLUM', 'PMC', 'PLCM', 'PINN', 'PLFE', 'PLNQ', 'PKSI', 'PIXR', 'PKDY', 'PLLL', 'PLKI', 'PJF', 'PHYX']: YFPricesMissingError('possibly delisted; no price data found  (1d 2025-03-23 -> 2025-03-30)')\n",
      "['PLT', 'PLAN', 'PKO', 'PKD', 'PKI', 'PHWT', 'PIR', 'PING', 'PLJC', 'PICC', 'PJC', 'PICO', 'PLTE', 'PLPD', 'PLXP', 'PLM', 'PLIN', 'PIPP', 'PMBC', 'PIAI', 'PIC', 'PJH']: YFTzMissingError('possibly delisted; no timezone found')\n",
      "['PLTN', 'PHYT', 'PIRS', 'PKBO', 'PLMI']: YFPricesMissingError('possibly delisted; no price data found  (1d 2025-03-23 -> 2025-03-30) (Yahoo error = \"No data found, symbol may be delisted\")')\n",
      "[*                      3%                       ]  3 of 100 completed"
     ]
    },
    {
     "name": "stdout",
     "output_type": "stream",
     "text": [
      "Batch: PMD - PQG\r"
     ]
    },
    {
     "name": "stderr",
     "output_type": "stream",
     "text": [
      "[*********************100%***********************]  100 of 100 completed\n",
      "\n",
      "51 Failed downloads:\n",
      "['PMVC', 'PNT', 'POSH', 'PQG', 'PME', 'PPD', 'PPR', 'PNTR', 'PNTM', 'POL', 'PNDX', 'POLY', 'PPX', 'POW', 'PNAC', 'POND', 'PONE', 'PPRX', 'PONO', 'PPGH']: YFTzMissingError('possibly delisted; no timezone found')\n",
      "['PORK', 'POSO', 'PNNW', 'POM', 'PPDI', 'POSS', 'PMPT', 'PMIC', 'PNY', 'PNWB', 'PMTR', 'POWR', 'PONR', 'PNK', 'POT', 'POTP', 'PPTB', 'PNXQ', 'PNX', 'POZN', 'PMTI', 'PNTE', 'PPS', 'PMTG', 'PNFT', 'PNRA', 'PNCL', 'PPCO']: YFPricesMissingError('possibly delisted; no price data found  (1d 2025-03-23 -> 2025-03-30)')\n",
      "['PMGM', 'PNM', 'PPHP']: YFPricesMissingError('possibly delisted; no price data found  (1d 2025-03-23 -> 2025-03-30) (Yahoo error = \"No data found, symbol may be delisted\")')\n",
      "[**                     4%                       ]  4 of 100 completed"
     ]
    },
    {
     "name": "stdout",
     "output_type": "stream",
     "text": [
      "Batch: PQSC - PSMT\r"
     ]
    },
    {
     "name": "stderr",
     "output_type": "stream",
     "text": [
      "[*********************100%***********************]  100 of 100 completed\n",
      "\n",
      "47 Failed downloads:\n",
      "['PSAI', 'PRWK', 'PRPX', 'PROX', 'PRWT', 'PREM', 'PRSS', 'PRBZ', 'PRXL', 'PSBI', 'PRSR', 'PSIT', 'PSG', 'PRMI', 'PROJ', 'PRAI', 'PRSE', 'PRVD', 'PQSC']: YFPricesMissingError('possibly delisted; no price data found  (1d 2025-03-23 -> 2025-03-30)')\n",
      "['PRBM', 'PRAH', 'PSAG', 'PROS', 'PSAC', 'PRCP', 'PRDS', 'PRTK', 'PSDO', 'PRPC', 'PSAV', 'PRPB', 'PRGX', 'PS', 'PRVB', 'PRDX', 'PRVL', 'PSAA', 'PROG', 'PSB', 'PRAN', 'PRSP', 'PRSC', 'PRTY', 'PRTO', 'PRNB']: YFTzMissingError('possibly delisted; no timezone found')\n",
      "['PRFT', 'PRMW']: YFPricesMissingError('possibly delisted; no price data found  (1d 2025-03-23 -> 2025-03-30) (Yahoo error = \"No data found, symbol may be delisted\")')\n",
      "[*****                 10%                       ]  10 of 100 completed"
     ]
    },
    {
     "name": "stdout",
     "output_type": "stream",
     "text": [
      "Batch: PSN - PYDS\r"
     ]
    },
    {
     "name": "stderr",
     "output_type": "stream",
     "text": [
      "[*********************100%***********************]  100 of 100 completed\n",
      "\n",
      "58 Failed downloads:\n",
      "['PVFC', 'PTMK', 'PSRC', 'PSPT', 'PULB', 'PUBB', 'PSSI', 'PWAV', 'PVSA', 'PWUP', 'PXPL', 'PVLS', 'PXSL', 'PTNX', 'PSTB', 'PSOF', 'PWX', 'PURW', 'PTXP', 'PTM', 'PVTB', 'PTIL', 'PVSW', 'PTHN', 'PSTA']: YFPricesMissingError('possibly delisted; no price data found  (1d 2025-03-23 -> 2025-03-30)')\n",
      "['PTIE', 'PVG', 'PVTL', 'PTI', 'PTHR', 'PTK', 'PTE', 'PUTX', 'PSPC', 'PWJC', 'PTRS', 'PTCC', 'PV', 'PTAC', 'PTLA', 'PSV', 'PTIC', 'PUB', 'PSYS', 'PSTI', 'PYDS', 'PSTH', 'PVT', 'PVAC', 'PTOC', 'PSXP']: YFTzMissingError('possibly delisted; no timezone found')\n",
      "['PTRA', 'PTSI', 'PWFL', 'PTWO', 'PWSC', 'PXD', 'PSTX']: YFPricesMissingError('possibly delisted; no price data found  (1d 2025-03-23 -> 2025-03-30) (Yahoo error = \"No data found, symbol may be delisted\")')\n",
      "[*****                 11%                       ]  11 of 100 completed"
     ]
    },
    {
     "name": "stdout",
     "output_type": "stream",
     "text": [
      "Batch: PYN - RACY\r"
     ]
    },
    {
     "name": "stderr",
     "output_type": "stream",
     "text": [
      "[*********************100%***********************]  100 of 100 completed\n",
      "\n",
      "56 Failed downloads:\n",
      "['QLIK', 'QVDX', 'PZZ', 'QLTC', 'QGLY', 'PYR', 'QXMI', 'QUNR', 'QDIN', 'QTWN', 'QCP', 'QSII', 'QQQV', 'QQQC', 'QCBC', 'QUIP', 'QRCP', 'QLGC', 'PZE', 'QADI', 'QUIX', 'QINC', 'QXRR', 'QSFT', 'RACN', 'QKOR', 'QLTB', 'QTNA']: YFPricesMissingError('possibly delisted; no price data found  (1d 2025-03-23 -> 2025-03-30)')\n",
      "['QADB', 'RACA', 'QURK', 'QTS', 'QDHC', 'QELP', 'RAAS', 'QES', 'RACB', 'QUOT', 'RAAC', 'QGOG', 'QFTA', 'QNGY', 'QUMU', 'QEP', 'QHC', 'QTEK', 'QELL', 'QTRH', 'QVCB', 'PZN', 'RACY', 'QADA', 'PYX']: YFTzMissingError('possibly delisted; no timezone found')\n",
      "['QTNT', 'QLI', 'QDRO']: YFPricesMissingError('possibly delisted; no price data found  (1d 2025-03-23 -> 2025-03-30) (Yahoo error = \"No data found, symbol may be delisted\")')\n",
      "[**                     4%                       ]  4 of 100 completed"
     ]
    },
    {
     "name": "stdout",
     "output_type": "stream",
     "text": [
      "Batch: RAD - REFI\r"
     ]
    },
    {
     "name": "stderr",
     "output_type": "stream",
     "text": [
      "[*********************100%***********************]  100 of 100 completed\n",
      "\n",
      "42 Failed downloads:\n",
      "['REDE', 'RADN', 'RAMS', 'RAX', 'RDTA', 'RDYN', 'RBAK', 'RDEA', 'RDEN', 'RBOW', 'RCRC', 'RCBK', 'RADS', 'RBI', 'RDRT', 'RCNI', 'RCAC', 'RAME', 'REC', 'RAI', 'RBNF']: YFPricesMissingError('possibly delisted; no price data found  (1d 2025-03-23 -> 2025-03-30)')\n",
      "['RCII', 'RARX', 'RE', 'RCOR', 'RAM', 'RAD', 'RADI', 'RCHG', 'RDBX', 'RBZ', 'RAVN', 'RCLF', 'RCA', 'RBNC', 'RBAC', 'RECN', 'RADA']: YFTzMissingError('possibly delisted; no timezone found')\n",
      "['RCM', 'RCFA', 'RCRT', 'RBT']: YFPricesMissingError('possibly delisted; no price data found  (1d 2025-03-23 -> 2025-03-30) (Yahoo error = \"No data found, symbol may be delisted\")')\n",
      "[**                     4%                       ]  4 of 100 completed"
     ]
    },
    {
     "name": "stdout",
     "output_type": "stream",
     "text": [
      "Batch: REFR - RJF\r"
     ]
    },
    {
     "name": "stderr",
     "output_type": "stream",
     "text": [
      "[*********************100%***********************]  100 of 100 completed\n",
      "\n",
      "36 Failed downloads:\n",
      "['RHDM', 'RHAT', 'RFMI', 'RESC', 'REXI', 'RIC', 'REIS', 'RETK', 'RHEO', 'RET', 'REST', 'RESP', 'RENX', 'RGNC', 'RJET', 'RFAC']: YFPricesMissingError('possibly delisted; no price data found  (1d 2025-03-23 -> 2025-03-30)')\n",
      "['REPR', 'RFP', 'RETA', 'RESN', 'RIVE', 'REV', 'RICE', 'RGID', 'REPH', 'RJAC', 'REVH', 'RGLO', 'RHIE', 'REXN', 'RIBX', 'RICO', 'REUN']: YFTzMissingError('possibly delisted; no timezone found')\n",
      "['REVE', 'REGI', 'RIDE']: YFPricesMissingError('possibly delisted; no price data found  (1d 2025-03-23 -> 2025-03-30) (Yahoo error = \"No data found, symbol may be delisted\")')\n",
      "[***                    6%                       ]  6 of 100 completed"
     ]
    },
    {
     "name": "stdout",
     "output_type": "stream",
     "text": [
      "Batch: RKDA - ROST\r"
     ]
    },
    {
     "name": "stderr",
     "output_type": "stream",
     "text": [
      "[*********************100%***********************]  100 of 100 completed\n",
      "\n",
      "50 Failed downloads:\n",
      "['RLD', 'RKUS', 'RNDC', 'ROOM', 'ROKA', 'RNVS', 'ROCM', 'RLYP', 'RNF', 'RMTR', 'RNOW', 'ROLA', 'ROME', 'RLJE', 'RLOC', 'ROIC', 'ROBV', 'RNAI', 'RNBO', 'RLRN', 'ROAC', 'RMGN']: YFPricesMissingError('possibly delisted; no price data found  (1d 2025-03-23 -> 2025-03-30)')\n",
      "['ROSS', 'ROLL', 'RKLY', 'RNWK', 'ROCH', 'RLNT', 'RKTA', 'RMGC', 'RNET', 'RMO', 'ROC', 'ROCC', 'RLGY', 'ROSE', 'ROCG', 'ROCR', 'ROI', 'RONI', 'RLH', 'RMED', 'RNGY', 'RMG', 'ROAN', 'RMRM', 'RMGB', 'RNDB']: YFTzMissingError('possibly delisted; no timezone found')\n",
      "['RNER', 'ROCL']: YFPricesMissingError('possibly delisted; no price data found  (1d 2025-03-23 -> 2025-03-30) (Yahoo error = \"No data found, symbol may be delisted\")')\n",
      "[*                      3%                       ]  3 of 100 completed"
     ]
    },
    {
     "name": "stdout",
     "output_type": "stream",
     "text": [
      "Batch: ROT - RWOD\r"
     ]
    },
    {
     "name": "stderr",
     "output_type": "stream",
     "text": [
      "[*********************100%***********************]  100 of 100 completed\n",
      "\n",
      "62 Failed downloads:\n",
      "['RSYS', 'RWAV', 'RSE', 'RRM', 'RUBY', 'RSTO', 'RSAS', 'RUTX', 'RTLX', 'RURL', 'RVM', 'RUBO', 'RSLN', 'RPTP', 'RVNC', 'RSO', 'RT', 'RTSX', 'RSCR', 'RVEP', 'RTK', 'ROXA', 'RRMS', 'RTLA', 'RSTI', 'RUE']: YFPricesMissingError('possibly delisted; no price data found  (1d 2025-03-23 -> 2025-03-30)')\n",
      "['ROT', 'RPLA', 'RPXC', 'RVI', 'RST', 'RSVA', 'ROX', 'RTTR', 'RTPY', 'RTL', 'ROVR', 'RVLT', 'RTP', 'RPAI', 'RVLP', 'RRD', 'RVAC', 'RPTZ', 'RWLK', 'RP', 'RTRX', 'RTPZ', 'ROYT', 'RWGE', 'RTN', 'RUBI', 'RTEC', 'RTIX', 'RTWI', 'RVEN', 'RUTH', 'RRI']: YFTzMissingError('possibly delisted; no timezone found')\n",
      "['RSTN', 'RRAC', 'RWOD', 'RPHM']: YFPricesMissingError('possibly delisted; no price data found  (1d 2025-03-23 -> 2025-03-30) (Yahoo error = \"No data found, symbol may be delisted\")')\n",
      "[                       0%                       ]"
     ]
    },
    {
     "name": "stdout",
     "output_type": "stream",
     "text": [
      "Batch: RWT - SBI\r"
     ]
    },
    {
     "name": "stderr",
     "output_type": "stream",
     "text": [
      "[*********************100%***********************]  100 of 100 completed\n",
      "\n",
      "40 Failed downloads:\n",
      "['SAMA', 'SANB', 'SAII', 'RXN', 'SBBX', 'SAFM', 'SASI', 'SAUC', 'SALT', 'SBGL', 'SBEA', 'RYCE', 'SBBP', 'SAEX', 'SAGA', 'RZA', 'SBE', 'RXRA', 'SAL', 'SAK', 'RYZB', 'SAQN', 'SBG', 'RXDX']: YFTzMissingError('possibly delisted; no timezone found')\n",
      "['SBBA', 'SBCP', 'SAVB', 'SAJA', 'RXII', 'SAB', 'SBGA', 'SATC', 'SAF', 'SAAS', 'SALE', 'SAVN', 'SBEI', 'SACC']: YFPricesMissingError('possibly delisted; no price data found  (1d 2025-03-23 -> 2025-03-30)')\n",
      "['SAVE', 'SAI']: YFPricesMissingError('possibly delisted; no price data found  (1d 2025-03-23 -> 2025-03-30) (Yahoo error = \"No data found, symbol may be delisted\")')\n",
      "[*****                 10%                       ]  10 of 100 completed"
     ]
    },
    {
     "name": "stdout",
     "output_type": "stream",
     "text": [
      "Batch: SBIB - SDOT\r"
     ]
    },
    {
     "name": "stderr",
     "output_type": "stream",
     "text": [
      "[*********************100%***********************]  99 of 100 completed\n",
      "\n",
      "60 Failed downloads:\n",
      "['SCNB', 'SCFS', 'SBV', 'SDBT', 'SDAY', 'SCOX', 'SBYN', 'SBTV', 'SCMF', 'SCPB', 'SBKC', 'SCLP', 'SBIB', 'SCLN', 'SCTR', 'SCMP', 'SCWX', 'SCMM', 'SCOP', 'SBSE', 'SCST', 'SCOG', 'SCGQ', 'SCCB', 'SCUR', 'SCAI', 'SBRG', 'SCSS', 'SCRX']: YFPricesMissingError('possibly delisted; no price data found  (1d 2025-03-23 -> 2025-03-30)')\n",
      "['SDH', 'SBII', 'SCOA', 'SCAC', 'SCHN', 'SCTL', 'SC', 'SBOT', 'SCVX', 'SCMA', 'SCR', 'SBNA', 'SCLE', 'SDAC', 'SDI', 'SCON', 'SCPE', 'SCU', 'SCOB', 'SBTX', 'SCPL', 'SBPH', 'SDC', 'SCUA', 'SDLP', 'SCTY', 'SCAQ']: YFTzMissingError('possibly delisted; no timezone found')\n",
      "['SCRM', 'SBXC', 'SCX', 'SBOW']: YFPricesMissingError('possibly delisted; no price data found  (1d 2025-03-23 -> 2025-03-30) (Yahoo error = \"No data found, symbol may be delisted\")')\n",
      "[***                    7%                       ]  7 of 100 completed"
     ]
    },
    {
     "name": "stdout",
     "output_type": "stream",
     "text": [
      "Batch: SDPI - SGL\r"
     ]
    },
    {
     "name": "stderr",
     "output_type": "stream",
     "text": [
      "[*********************100%***********************]  100 of 100 completed\n",
      "\n",
      "55 Failed downloads:\n",
      "['SEGR', 'SEBL', 'SFCC', 'SEEC', 'SEMF', 'SGDE', 'SGGG', 'SFR', 'SFFS', 'SEGU', 'SFT', 'SFSF', 'SFLA', 'SFSW', 'SEAB', 'SFFC', 'SGL', 'SFNT', 'SEPR', 'SGBK', 'SERO', 'SGGB', 'SGII', 'SEP', 'SFG', 'SFLK', 'SGAR']: YFPricesMissingError('possibly delisted; no price data found  (1d 2025-03-23 -> 2025-03-30)')\n",
      "['SEAH', 'SGB', 'SELB', 'SFLY', 'SGAM', 'SFSU', 'SGHL', 'SDT', 'SESN', 'SFTW', 'SEAS', 'SEMG', 'SFE', 'SDR', 'SGEN', 'SGFY', 'SFUN', 'SENO', 'SEGW', 'SDXC']: YFTzMissingError('possibly delisted; no timezone found')\n",
      "['SEV', 'SEQL', 'SEEL', 'SGE', 'SEDA', 'SDPI', 'SGH', 'SEPA']: YFPricesMissingError('possibly delisted; no price data found  (1d 2025-03-23 -> 2025-03-30) (Yahoo error = \"No data found, symbol may be delisted\")')\n",
      "[***                    7%                       ]  7 of 100 completed"
     ]
    },
    {
     "name": "stdout",
     "output_type": "stream",
     "text": [
      "Batch: SGLB - SJIJ\r"
     ]
    },
    {
     "name": "stderr",
     "output_type": "stream",
     "text": [
      "[*********************100%***********************]  100 of 100 completed\n",
      "\n",
      "50 Failed downloads:\n",
      "['SIDE', 'SHOE', 'SHLM', 'SHRP', 'SHBK', 'SGXP', 'SGY', 'SILI', 'SHMR', 'SHPG', 'SHOR', 'SGTL', 'SGNT', 'SIOX', 'SIRF', 'SILV', 'SHFL']: YFPricesMissingError('possibly delisted; no price data found  (1d 2025-03-23 -> 2025-03-30)')\n",
      "['SGTX', 'SIRT', 'SHQA', 'SINA', 'SGYP', 'SHUA', 'SHCA', 'SHOS', 'SIER', 'SHLX', 'SGLB', 'SITO', 'SHAP', 'SI', 'SGMS', 'SINO', 'SHSP', 'SHI', 'SGQI', 'SHAC', 'SHLL', 'SHLO', 'SIEN', 'SICK', 'SGOC', 'SJIJ', 'SJA', 'SJI']: YFTzMissingError('possibly delisted; no timezone found')\n",
      "['SIVB', 'SHCR', 'SILK', 'SIX', 'SIC']: YFPricesMissingError('possibly delisted; no price data found  (1d 2025-03-23 -> 2025-03-30) (Yahoo error = \"No data found, symbol may be delisted\")')\n",
      "[**                     4%                       ]  4 of 100 completed"
     ]
    },
    {
     "name": "stdout",
     "output_type": "stream",
     "text": [
      "Batch: SJIV - SMR\r"
     ]
    },
    {
     "name": "stderr",
     "output_type": "stream",
     "text": [
      "[*********************100%***********************]  100 of 100 completed\n",
      "\n",
      "40 Failed downloads:\n",
      "['SMMX', 'SKUL', 'SLNK', 'SLVN', 'SMBI', 'SJOE', 'SMHG', 'SKYA', 'SLXA', 'SMOD', 'SLD', 'SLFI', 'SKBO', 'SMNS', 'SLTM']: YFPricesMissingError('possibly delisted; no price data found  (1d 2025-03-23 -> 2025-03-30)')\n",
      "['SLAM', 'SMAR', 'SMLP', 'SMMF', 'SLCA', 'SLNA']: YFPricesMissingError('possibly delisted; no price data found  (1d 2025-03-23 -> 2025-03-30) (Yahoo error = \"No data found, symbol may be delisted\")')\n",
      "['SMFR', 'SMM', 'SLCR', 'SLAC', 'SMED', 'SKIS', 'SLGG', 'SLCT', 'SMIH', 'SMBL', 'SMK', 'SKMD', 'SLRY', 'SLHG', 'SLGC', 'SJIV', 'SLDA', 'SMMC', 'SJR']: YFTzMissingError('possibly delisted; no timezone found')\n",
      "[***                    6%                       ]  6 of 100 completed"
     ]
    },
    {
     "name": "stdout",
     "output_type": "stream",
     "text": [
      "Batch: SMRA - SOJE\r"
     ]
    },
    {
     "name": "stderr",
     "output_type": "stream",
     "text": [
      "[*********************100%***********************]  100 of 100 completed\n",
      "\n",
      "52 Failed downloads:\n",
      "['SMTB', 'SNTA', 'SMRA', 'SNTS', 'SNDV', 'SNBT', 'SOCB', 'SMTL', 'SNI', 'SMXC', 'SNSA', 'SODA', 'SNVT', 'SNBC', 'SNMX', 'SNC', 'SMT', 'SNAK', 'SMSC', 'SNBI', 'SNCI', 'SNUS', 'SOJB', 'SNDS', 'SNWL', 'SOJA', 'SNIC', 'SNDT']: YFPricesMissingError('possibly delisted; no price data found  (1d 2025-03-23 -> 2025-03-30)')\n",
      "['SNCE', 'SODR', 'SMSA', 'SNDE', 'SNBP', 'SOAC', 'SNSS', 'SNRH', 'SNNA', 'SNPR', 'SNR', 'SNMP', 'SNH', 'SNII', 'SMTS', 'SMTX', 'SMTA', 'SNCA', 'SNEN', 'SNBJ', 'SMSH', 'SNHY']: YFTzMissingError('possibly delisted; no timezone found')\n",
      "['SNPO', 'SOI']: YFPricesMissingError('possibly delisted; no price data found  (1d 2025-03-23 -> 2025-03-30) (Yahoo error = \"No data found, symbol may be delisted\")')\n",
      "[**                     4%                       ]  4 of 100 completed"
     ]
    },
    {
     "name": "stdout",
     "output_type": "stream",
     "text": [
      "Batch: SOLD - SQBG\r"
     ]
    },
    {
     "name": "stderr",
     "output_type": "stream",
     "text": [
      "[*********************100%***********************]  100 of 100 completed\n",
      "\n",
      "52 Failed downloads:\n",
      "['SPSN', 'SPAN', 'SPLX', 'SONE', 'SORC', 'SPNC', 'SPLS', 'SPPX', 'SONX', 'SPLZ', 'SOLD', 'SOP', 'SPIL', 'SPSS', 'SONC', 'SPCH', 'SOMX', 'SOMH', 'SPRD', 'SPGH', 'SPSX', 'SPRI', 'SPXH', 'SPWX', 'SOLF']: YFPricesMissingError('possibly delisted; no price data found  (1d 2025-03-23 -> 2025-03-30)')\n",
      "['SORL', 'SPRQ', 'SPKB', 'SPAR', 'SPNE', 'SPCM', 'SPTK', 'SPPI', 'SPFR', 'SOLY', 'SONA', 'SPGS', 'SPNV', 'SPK', 'SPHS', 'SOVO', 'SPN', 'SPKE', 'SPEX', 'SQBG', 'SPRT', 'SPLK', 'SOLO', 'SPEL']: YFTzMissingError('possibly delisted; no timezone found')\n",
      "['SQ', 'SP', 'SPWR']: YFPricesMissingError('possibly delisted; no price data found  (1d 2025-03-23 -> 2025-03-30) (Yahoo error = \"No data found, symbol may be delisted\")')\n",
      "[**                     5%                       ]  5 of 100 completed"
     ]
    },
    {
     "name": "stdout",
     "output_type": "stream",
     "text": [
      "Batch: SQFT - STCN\r"
     ]
    },
    {
     "name": "stderr",
     "output_type": "stream",
     "text": [
      "[*********************100%***********************]  100 of 100 completed\n",
      "\n",
      "51 Failed downloads:\n",
      "['SSC', 'SQI', 'SSWA', 'SRRR', 'SRDD', 'SSTR', 'STBZ', 'SSS', 'SQL', 'SSNI', 'STBC', 'SRXA', 'SRIB', 'SRIX', 'SRLS', 'SRVY', 'SRCL', 'SQST', 'SSAG', 'SSRG', 'SSPI', 'SSLI', 'SSR', 'SRSL', 'SQNM', 'STAT']: YFPricesMissingError('possibly delisted; no price data found  (1d 2025-03-23 -> 2025-03-30)')\n",
      "['SRF', 'SRCI', 'STB', 'SSPK', 'SSFN', 'SREV', 'SQZ', 'SRNG', 'SQZZ', 'SRRA', 'SSU', 'SSI', 'SRGV', 'STAY', 'SRSA', 'SRC', 'SRAC', 'SSW', 'SSAA', 'SRT']: YFTzMissingError('possibly delisted; no timezone found')\n",
      "['SSNT', 'STCN', 'SQSP', 'SRGA', 'SSIC']: YFPricesMissingError('possibly delisted; no price data found  (1d 2025-03-23 -> 2025-03-30) (Yahoo error = \"No data found, symbol may be delisted\")')\n",
      "[                       0%                       ]"
     ]
    },
    {
     "name": "stdout",
     "output_type": "stream",
     "text": [
      "Batch: STDY - SUPX\r"
     ]
    },
    {
     "name": "stderr",
     "output_type": "stream",
     "text": [
      "[*********************100%***********************]  100 of 100 completed\n",
      "\n",
      "54 Failed downloads:\n",
      "['SUM', 'STGN', 'SUPC', 'STGS', 'SUPG', 'STXN', 'STTS', 'SUNY', 'SUAI', 'SUMT', 'SUFB', 'STLW', 'STNJ', 'STEI', 'SUBC', 'STDY', 'SUPX', 'SUPR', 'SUNN', 'SUMX', 'STRD', 'STPP', 'STNV', 'STER', 'STIZ', 'STS', 'STJ', 'SUNH']: YFPricesMissingError('possibly delisted; no price data found  (1d 2025-03-23 -> 2025-03-30)')\n",
      "['STRE', 'STLR', 'STOR', 'STIC', 'STWO', 'STZB', 'STIX', 'STXB', 'STMP', 'SUMR', 'STFC', 'STNL', 'SUMO', 'STRN', 'STRY', 'STPC', 'STET', 'SUNW', 'STND', 'STSA', 'SUNL', 'STRC', 'STPK', 'STML', 'STL', 'STFR']: YFTzMissingError('possibly delisted; no timezone found')\n",
      "[**                     5%                       ]  5 of 100 completed"
     ]
    },
    {
     "name": "stdout",
     "output_type": "stream",
     "text": [
      "Batch: SURF - SZZL\r"
     ]
    },
    {
     "name": "stderr",
     "output_type": "stream",
     "text": [
      "[*********************100%***********************]  100 of 100 completed\n",
      "\n",
      "56 Failed downloads:\n",
      "['SWFT', 'SYNF', 'SXUS', 'SYXI', 'SWY', 'SVBF', 'SYBN', 'SVVS', 'SYUT', 'SYLN', 'SYBS', 'SWBD', 'SYNT', 'SYMS', 'SWWC', 'SURW', 'SWSI', 'SWAT', 'SWH', 'SZMK', 'SXCI', 'SYGR', 'SYNO', 'SYMM', 'SYNM', 'SYNP', 'SVLF', 'SWRG']: YFPricesMissingError('possibly delisted; no price data found  (1d 2025-03-23 -> 2025-03-30)')\n",
      "['SZC', 'SVOK', 'SWBK', 'SWET', 'SYNL', 'SVAC', 'SVMK', 'SVFA', 'SYNH', 'SYN', 'SVFB', 'SVFC', 'SWM', 'SV', 'SYSN', 'SWCH', 'SYMC', 'SZZL', 'SYKE', 'SVFD', 'SURF', 'SWIR', 'SWJ', 'SYX', 'SVBI', 'SYNC']: YFTzMissingError('possibly delisted; no timezone found')\n",
      "['SWAV', 'SWN']: YFPricesMissingError('possibly delisted; no price data found  (1d 2025-03-23 -> 2025-03-30) (Yahoo error = \"No data found, symbol may be delisted\")')\n",
      "[*                      3%                       ]  3 of 100 completed"
     ]
    },
    {
     "name": "stdout",
     "output_type": "stream",
     "text": [
      "Batch: T - TD\r"
     ]
    },
    {
     "name": "stderr",
     "output_type": "stream",
     "text": [
      "[*********************100%***********************]  100 of 100 completed\n",
      "\n",
      "53 Failed downloads:\n",
      "['TAG', 'TALL', 'TALX', 'TCNO', 'TARR', 'TCLD', 'TCNJ', 'TCLP', 'TBRA', 'TBDI', 'TCRZ', 'TCAM', 'TAOM', 'TBCC', 'TAI', 'TBWC', 'TARG', 'TBSI', 'TAPA', 'TCAP', 'TACX', 'TCHF', 'TBUS', 'TCPI', 'TAPR']: YFPricesMissingError('possibly delisted; no price data found  (1d 2025-03-23 -> 2025-03-30)')\n",
      "['TBZ', 'TCRD', 'TAT', 'TALS', 'TCF', 'TCAC', 'TA', 'TCRW', 'TACA', 'TCVA', 'TCO', 'TBCP', 'TBSA', 'TCHJ', 'TCDA', 'TBK', 'TAHT', 'TCRR', 'TCFC', 'TBA', 'TBOW']: YFTzMissingError('possibly delisted; no timezone found')\n",
      "['TCS', 'TBC', 'TCJH', 'TCN', 'TACO', 'TARO', 'TAST']: YFPricesMissingError('possibly delisted; no price data found  (1d 2025-03-23 -> 2025-03-30) (Yahoo error = \"No data found, symbol may be delisted\")')\n",
      "[**                     5%                       ]  5 of 100 completed"
     ]
    },
    {
     "name": "stdout",
     "output_type": "stream",
     "text": [
      "Batch: TDA - THNX\r"
     ]
    },
    {
     "name": "stderr",
     "output_type": "stream",
     "text": [
      "[*********************100%***********************]  100 of 100 completed\n",
      "\n",
      "46 Failed downloads:\n",
      "['TDJ', 'TGA', 'TFIG', 'TERP', 'TGC', 'TGH', 'TECZ', 'TGVC', 'TDA', 'TEKK', 'TFCF', 'THCB', 'THBR', 'TECC', 'TESS', 'TGE', 'TFDI', 'TETC', 'TGR', 'THMA', 'TEUM', 'TDE', 'TECD', 'THAC', 'THNX']: YFTzMissingError('possibly delisted; no timezone found')\n",
      "['THMD', 'TELM', 'TELN', 'THHY', 'TFCO', 'THCX', 'TEST', 'TESO', 'TFG', 'TGAL', 'THCA', 'TGIS', 'TEC', 'TFM']: YFPricesMissingError('possibly delisted; no price data found  (1d 2025-03-23 -> 2025-03-30)')\n",
      "['TENK', 'TELL', 'TFFP', 'TELZ', 'TDCX', 'THCP', 'TGAN']: YFPricesMissingError('possibly delisted; no price data found  (1d 2025-03-23 -> 2025-03-30) (Yahoo error = \"No data found, symbol may be delisted\")')\n",
      "[                       0%                       ]"
     ]
    },
    {
     "name": "stdout",
     "output_type": "stream",
     "text": [
      "Batch: THO - TMWD\r"
     ]
    },
    {
     "name": "stderr",
     "output_type": "stream",
     "text": [
      "[*********************100%***********************]  100 of 100 completed\n",
      "\n",
      "57 Failed downloads:\n",
      "['TLCV', 'TLEO', 'TMIC', 'TMWD', 'TLRX', 'TMRK', 'TLO', 'TLWT', 'TLGB', 'TKTX', 'TMPO', 'TIBB', 'TIWI', 'TLCX', 'TLMR', 'TLAB', 'TMTA', 'TLVT', 'THQI', 'TLGD', 'TKLC', 'TIII', 'THRK']: YFPricesMissingError('possibly delisted; no price data found  (1d 2025-03-23 -> 2025-03-30)')\n",
      "['TLRD', 'TIF', 'TLRA', 'TMAC', 'TLGA', 'TISA', 'TMK', 'TIBR', 'TMTS', 'TKAT', 'TIVO', 'THRX', 'TMST', 'TLMD', 'TMDI', 'TICK', 'TIER', 'TMSR', 'TLCR', 'THOR', 'TLGT', 'TMCX', 'THRN', 'TMBR', 'TLI', 'TKKS', 'TINV', 'TMPM', 'TIKI', 'TKTM', 'TMKR']: YFTzMissingError('possibly delisted; no timezone found')\n",
      "['TIOA', 'TMTC', 'TIG']: YFPricesMissingError('possibly delisted; no price data found  (1d 2025-03-23 -> 2025-03-30) (Yahoo error = \"No data found, symbol may be delisted\")')\n",
      "[**                     5%                       ]  5 of 100 completed"
     ]
    },
    {
     "name": "stdout",
     "output_type": "stream",
     "text": [
      "Batch: TMWE - TRF\r"
     ]
    },
    {
     "name": "stderr",
     "output_type": "stream",
     "text": [
      "[*********************100%***********************]  100 of 100 completed\n",
      "\n",
      "52 Failed downloads:\n",
      "['TRF', 'TPGI', 'TOR', 'TRCR', 'TPTH', 'TOFR', 'TOFC', 'TNOX', 'TRBS', 'TRBM', 'TPVY', 'TOBC', 'TOMO', 'TPPP', 'TONS', 'TPAY', 'TRCI', 'TPIV', 'TPCG', 'TRAD', 'TPS', 'TNTX', 'TRBR', 'TNCC', 'TO', 'TRBC', 'TRDO']: YFPricesMissingError('possibly delisted; no price data found  (1d 2025-03-23 -> 2025-03-30)')\n",
      "['TRCO', 'TNT', 'TOWR', 'TPCO', 'TPBA', 'TREC', 'TPGS', 'TOTS', 'TPGY', 'TPGH', 'TNAV', 'TRAQ', 'TOCA', 'TRBN', 'TRCA', 'TOAC', 'TRCH', 'TOTA', 'TPRE', 'TMX', 'TRCB', 'TPTX', 'TMWE', 'TREB']: YFTzMissingError('possibly delisted; no timezone found')\n",
      "['TNP']: YFPricesMissingError('possibly delisted; no price data found  (1d 2025-03-23 -> 2025-03-30) (Yahoo error = \"No data found, symbol may be delisted\")')\n",
      "[**                     4%                       ]  4 of 100 completed"
     ]
    },
    {
     "name": "stdout",
     "output_type": "stream",
     "text": [
      "Batch: TRFC - TTEC\r"
     ]
    },
    {
     "name": "stderr",
     "output_type": "stream",
     "text": [
      "[*********************100%***********************]  100 of 100 completed\n",
      "\n",
      "49 Failed downloads:\n",
      "['TSCM', 'TRMP', 'TRRA', 'TSTF', 'TSRX', 'TRLG', 'TRNC', 'TRGL', 'TRKN', 'TSFG', 'TSTY', 'TSO', 'TSON', 'TRFC', 'TRMS', 'TSAI', 'TSTR', 'TSRO', 'TRNI', 'TRPL', 'TRSK', 'TRMA']: YFPricesMissingError('possibly delisted; no price data found  (1d 2025-03-23 -> 2025-03-30)')\n",
      "['TRON', 'TRIT', 'TRTL', 'TRIS', 'TSRI']: YFPricesMissingError('possibly delisted; no price data found  (1d 2025-03-23 -> 2025-03-30) (Yahoo error = \"No data found, symbol may be delisted\")')\n",
      "['TSS', 'TRQ', 'TRMR', 'TRNX', 'TSIA', 'TST', 'TRHC', 'TRIL', 'TSG', 'TRXC', 'TRTN', 'TRKA', 'TRMT', 'TROV', 'TSIB', 'TSC', 'TSPQ', 'TRK', 'TRNE', 'TRWH', 'TSLF', 'TTCF']: YFTzMissingError('possibly delisted; no timezone found')\n",
      "[**                     5%                       ]  5 of 100 completed"
     ]
    },
    {
     "name": "stdout",
     "output_type": "stream",
     "text": [
      "Batch: TTEK - UAMY\r"
     ]
    },
    {
     "name": "stderr",
     "output_type": "stream",
     "text": [
      "[*********************100%***********************]  100 of 100 completed\n",
      "\n",
      "58 Failed downloads:\n",
      "['TUNE', 'TWAV', 'TWLL', 'TWOK', 'TUEM', 'TXTR', 'TYC', 'TWPG', 'TTPA', 'TUMI', 'TTHI', 'TTES', 'TUTS', 'TVIZ', 'TZIX', 'TTF', 'TUTR', 'UAIR', 'TTIL', 'TWC', 'TXCO', 'TUDO', 'UAM', 'TUBE', 'TXUI', 'TWX']: YFPricesMissingError('possibly delisted; no price data found  (1d 2025-03-23 -> 2025-03-30)')\n",
      "['TWCB', 'TUES', 'TXAC', 'TTPY', 'TWCT', 'TYTE', 'TWND', 'TUGC', 'TVAX', 'TWNK', 'TVTY', 'TWOA', 'TZAC', 'TZPS', 'TWTR', 'TWNT', 'TTUN', 'TTPH', 'TWMC', 'TYME', 'TYDE', 'TUFN', 'TYPE', 'TYHT', 'TTS', 'TWNI', 'TVAC', 'TULY']: YFTzMissingError('possibly delisted; no timezone found')\n",
      "['TWKS', 'TTP', 'TUP', 'TWLV']: YFPricesMissingError('possibly delisted; no price data found  (1d 2025-03-23 -> 2025-03-30) (Yahoo error = \"No data found, symbol may be delisted\")')\n",
      "[***                    6%                       ]  6 of 100 completed"
     ]
    },
    {
     "name": "stdout",
     "output_type": "stream",
     "text": [
      "Batch: UAN - UNTD\r"
     ]
    },
    {
     "name": "stderr",
     "output_type": "stream",
     "text": [
      "[*********************100%***********************]  100 of 100 completed\n",
      "\n",
      "49 Failed downloads:\n",
      "['UGCE', 'UBM', 'UNTD', 'ULCM', 'UHCO', 'UFBS', 'UBC', 'UDRL', 'UBET', 'UBCD', 'UCBA', 'UAPH', 'UHCP', 'UARM', 'UAUA', 'UNIZ', 'UCBC', 'UBRT', 'UNCA', 'UCP', 'UFMC', 'UCNN', 'UBMT', 'UNFY', 'ULTE', 'UNBJ', 'UCD', 'UBN']: YFPricesMissingError('possibly delisted; no price data found  (1d 2025-03-23 -> 2025-03-30)')\n",
      "['UBP', 'UBNK', 'UIHC', 'UBA', 'UFAB', 'UFS', 'UCFC', 'UMX', 'UNCL', 'UMPQ', 'UNT', 'UNFL', 'ULTI', 'UBSH', 'UCLP', 'UMRX', 'UBNT', 'UEPS']: YFTzMissingError('possibly delisted; no timezone found')\n",
      "['UCBI', 'UGIC', 'UNAM']: YFPricesMissingError('possibly delisted; no price data found  (1d 2025-03-23 -> 2025-03-30) (Yahoo error = \"No data found, symbol may be delisted\")')\n",
      "[**                     5%                       ]  5 of 100 completed"
     ]
    },
    {
     "name": "stdout",
     "output_type": "stream",
     "text": [
      "Batch: UNTY - VACH\r"
     ]
    },
    {
     "name": "stderr",
     "output_type": "stream",
     "text": [
      "[*********************100%***********************]  99 of 100 completed\n",
      "\n",
      "40 Failed downloads:\n",
      "['USPL', 'USIH', 'USMR', 'UNXL', 'UTBI', 'UTEK', 'UTLZ', 'UVSL', 'USON', 'UXJ', 'UPCS', 'UOPX', 'UPFC', 'USHS', 'VA', 'UOP', 'URGI', 'UTLF', 'USMD', 'UTC']: YFPricesMissingError('possibly delisted; no price data found  (1d 2025-03-23 -> 2025-03-30)')\n",
      "['UQM', 'USAT', 'UPTD', 'UPH', 'UZA', 'USX', 'UTME', 'UNUM', 'USBE', 'UTAA', 'UROV', 'UNVR', 'USCR', 'USAK', 'USER', 'UZC', 'USWS', 'UTX', 'UPL']: YFTzMissingError('possibly delisted; no timezone found')\n",
      "['USAP']: YFPricesMissingError('possibly delisted; no price data found  (1d 2025-03-23 -> 2025-03-30) (Yahoo error = \"No data found, symbol may be delisted\")')\n",
      "[*                      3%                       ]  3 of 100 completed"
     ]
    },
    {
     "name": "stdout",
     "output_type": "stream",
     "text": [
      "Batch: VACQ - VIIZ\r"
     ]
    },
    {
     "name": "stderr",
     "output_type": "stream",
     "text": [
      "[*********************100%***********************]  100 of 100 completed\n",
      "\n",
      "54 Failed downloads:\n",
      "['VESH', 'VARI', 'VANS', 'VHAQ', 'VFGI', 'VERT', 'VDTH', 'VIEW', 'VIGN', 'VASC', 'VIFL', 'VAST', 'VEGF', 'VATA', 'VCGH', 'VAIL', 'VCBI', 'VIIZ']: YFPricesMissingError('possibly delisted; no price data found  (1d 2025-03-23 -> 2025-03-30)')\n",
      "['VEI', 'VCKA', 'VELO', 'VGII', 'VICL', 'VELC', 'VACQ', 'VIE', 'VBLT', 'VEAC', 'VGAC', 'VAM', 'VAQC', 'VCRA', 'VIAB', 'VGGL', 'VIH', 'VAR', 'VCIF', 'VBOC', 'VER', 'VEDU', 'VECT', 'VGFC', 'VEC', 'VIAC', 'VEBM', 'VCF', 'VENA', 'VHNA']: YFTzMissingError('possibly delisted; no timezone found')\n",
      "['VIA', 'VERY', 'VBIV', 'VEV', 'VAPO', 'VGR']: YFPricesMissingError('possibly delisted; no price data found  (1d 2025-03-23 -> 2025-03-30) (Yahoo error = \"No data found, symbol may be delisted\")')\n",
      "[**                     5%                       ]  5 of 100 completed"
     ]
    },
    {
     "name": "stdout",
     "output_type": "stream",
     "text": [
      "Batch: VIK - VOYA\r"
     ]
    },
    {
     "name": "stderr",
     "output_type": "stream",
     "text": [
      "[*********************100%***********************]  99 of 100 completed\n",
      "\n",
      "57 Failed downloads:\n",
      "['VMED', 'VITC', 'VLLV', 'VOCS', 'VLBK', 'VOOC', 'VINA', 'VLNK', 'VNDC', 'VLTR', 'VIP', 'VOXW', 'VNTV', 'VNUS', 'VMIN', 'VLCM', 'VITR', 'VNWK', 'VNLS', 'VIRL', 'VLNC', 'VMEM', 'VLML', 'VINT', 'VITA', 'VISG', 'VMOY', 'VIXL', 'VLGC', 'VLFG', 'VOLV', 'VNR', 'VLLY']: YFPricesMissingError('possibly delisted; no price data found  (1d 2025-03-23 -> 2025-03-30)')\n",
      "['VLD', 'VORB', 'VLON', 'VIRI']: YFPricesMissingError('possibly delisted; no price data found  (1d 2025-03-23 -> 2025-03-30) (Yahoo error = \"No data found, symbol may be delisted\")')\n",
      "['VNE', 'VMM', 'VIVO', 'VLRX', 'VMAC', 'VJET', 'VOCL', 'VMET', 'VNBK', 'VLSM', 'VMW', 'VNTR', 'VMGA', 'VLTA', 'VLNS', 'VISN', 'VISI', 'VLAT', 'VOSO', 'VLDR']: YFTzMissingError('possibly delisted; no timezone found')\n",
      "[**                     5%                       ]  5 of 100 completed"
     ]
    },
    {
     "name": "stdout",
     "output_type": "stream",
     "text": [
      "Batch: VPCB - VVNT\r"
     ]
    },
    {
     "name": "stderr",
     "output_type": "stream",
     "text": [
      "[*********************100%***********************]  100 of 100 completed\n",
      "\n",
      "54 Failed downloads:\n",
      "['VTNC', 'VQTS', 'VPHM', 'VPTR', 'VSCE', 'VTEK', 'VSCP', 'VSR', 'VRNG', 'VTAL', 'VSGN', 'VTTI', 'VSAR', 'VRAY', 'VSTY', 'VPTI', 'VRNM', 'VRLK', 'VSEA', 'VTIV', 'VSTH', 'VRX', 'VTAE', 'VPF', 'VRYA', 'VSNT', 'VRGY', 'VTYC']: YFPricesMissingError('possibly delisted; no price data found  (1d 2025-03-23 -> 2025-03-30)')\n",
      "['VSTO', 'VTRU', 'VSAC', 'VVI', 'VTNR']: YFPricesMissingError('possibly delisted; no price data found  (1d 2025-03-23 -> 2025-03-30) (Yahoo error = \"No data found, symbol may be delisted\")')\n",
      "['VSM', 'VRAD', 'VRTU', 'VSPR', 'VPCC', 'VTIQ', 'VTRO', 'VVNT', 'VPCB', 'VSLR', 'VSI', 'VRML', 'VRS', 'VTAQ', 'VUNC', 'VRAZ', 'VTA', 'VQS', 'VTL', 'VSCN', 'VRTV']: YFTzMissingError('possibly delisted; no timezone found')\n",
      "[**                     5%                       ]  5 of 100 completed"
     ]
    },
    {
     "name": "stdout",
     "output_type": "stream",
     "text": [
      "Batch: VVOS - WERN\r"
     ]
    },
    {
     "name": "stderr",
     "output_type": "stream",
     "text": [
      "[*********************100%***********************]  100 of 100 completed\n",
      "\n",
      "53 Failed downloads:\n",
      "['WALA', 'VWR', 'WAXM', 'WAC', 'WEET', 'WCBO', 'VWPT', 'WEBX', 'WCGC', 'WEDC', 'WCAA', 'WBKC', 'WCRX', 'VXXB', 'WAGI', 'WAUW', 'VWKS', 'WBSN', 'WEAR', 'VYNT', 'WAVS', 'WDHD', 'WEFC', 'WBMD', 'WBB', 'WEBM', 'WEB', 'WBCO', 'WAIN']: YFPricesMissingError('possibly delisted; no price data found  (1d 2025-03-23 -> 2025-03-30)')\n",
      "['WBT', 'WEBR', 'WAIR', 'WAVC', 'WARR', 'WCG', 'WEBK', 'VVUS', 'VYGG', 'WDAT', 'WBC', 'WAAS', 'WEJO', 'WAGE', 'WBEV', 'WE', 'WDR', 'WCRT']: YFTzMissingError('possibly delisted; no timezone found')\n",
      "['WEL', 'VWE', 'VZIO', 'WENA', 'WAVD', 'VWTR']: YFPricesMissingError('possibly delisted; no price data found  (1d 2025-03-23 -> 2025-03-30) (Yahoo error = \"No data found, symbol may be delisted\")')\n",
      "[***                    6%                       ]  6 of 100 completed"
     ]
    },
    {
     "name": "stdout",
     "output_type": "stream",
     "text": [
      "Batch: WES - WMK\r"
     ]
    },
    {
     "name": "stderr",
     "output_type": "stream",
     "text": [
      "[*********************100%***********************]  100 of 100 completed\n",
      "\n",
      "50 Failed downloads:\n",
      "['WGBS', 'WLBC', 'WIBC', 'WLFI', 'WITS', 'WHIT', 'WIZE', 'WFHC', 'WGII', 'WFM', 'WLTH', 'WGL', 'WFSL', 'WMAR', 'WHAI', 'WMGC', 'WFII', 'WLSF', 'WGOV', 'WJCI', 'WIND', 'WISH', 'WFSG', 'WHIS', 'WGRD', 'WLSC', 'WMIH', 'WGBC', 'WLSN', 'WFSI', 'WFMI', 'WHRT', 'WFBI', 'WMAC', 'WITE']: YFPricesMissingError('possibly delisted; no price data found  (1d 2025-03-23 -> 2025-03-30)')\n",
      "['WETF', 'WLMS', 'WLTW', 'WMGI', 'WLL', 'WFBC', 'WETG', 'WGNA', 'WMC', 'WLH', 'WIFI', 'WHUN', 'WINS']: YFTzMissingError('possibly delisted; no timezone found')\n",
      "['WKME', 'WIRE']: YFPricesMissingError('possibly delisted; no price data found  (1d 2025-03-23 -> 2025-03-30) (Yahoo error = \"No data found, symbol may be delisted\")')\n",
      "[*****                 11%                       ]  11 of 100 completed"
     ]
    },
    {
     "name": "stdout",
     "output_type": "stream",
     "text": [
      "Batch: WMPN - WVFC\r"
     ]
    },
    {
     "name": "stderr",
     "output_type": "stream",
     "text": [
      "[*********************100%***********************]  100 of 100 completed\n",
      "\n",
      "52 Failed downloads:\n",
      "['WSB', 'WSPT', 'WTBK', 'WSKI', 'WTRS', 'WSCI', 'WPTE', 'WTCO', 'WPZ', 'WPSC', 'WVCM', 'WSTC', 'WSKY', 'WTRX', 'WNR', 'WSSI', 'WSTF', 'WNNB', 'WSII', 'WR', 'WSBK', 'WSPI', 'WOFC', 'WTNY', 'WSBA', 'WSBI', 'WTEL', 'WRNC', 'WTHN', 'WRSP']: YFPricesMissingError('possibly delisted; no price data found  (1d 2025-03-23 -> 2025-03-30)')\n",
      "['WTRH', 'WPF', 'WPCB', 'WRE', 'WP', 'WRI', 'WTRU', 'WRAC', 'WRTC', 'WORK', 'WSFG', 'WNTG', 'WSTG', 'WPCA', 'WRLS', 'WTR', 'WQGA', 'WPG', 'WTT', 'WNNR', 'WPX']: YFTzMissingError('possibly delisted; no timezone found')\n",
      "['WRK']: YFPricesMissingError('possibly delisted; no price data found  (1d 2025-03-23 -> 2025-03-30) (Yahoo error = \"No data found, symbol may be delisted\")')\n",
      "[                       0%                       ]"
     ]
    },
    {
     "name": "stdout",
     "output_type": "stream",
     "text": [
      "Batch: WVVI - XPER\r"
     ]
    },
    {
     "name": "stderr",
     "output_type": "stream",
     "text": [
      "[*********************100%***********************]  100 of 100 completed\n",
      "\n",
      "61 Failed downloads:\n",
      "['WWMO', 'XLTC', 'XETA', 'XLBS', 'WWAY', 'XBKS', 'WZEN', 'XCYT', 'XF', 'XLKS', 'WWWB', 'WYPT', 'XE', 'XK', 'XLES', 'XIVH', 'XD', 'XICO', 'XFNE', 'WWVY', 'XMLG', 'WYN', 'WYOI', 'XNVA', 'XING', 'WWON', 'XNPT', 'XCRA', 'XLYS', 'XMSR', 'XLUS', 'XOXO', 'XLVS', 'WWAV', 'XATA', 'XH', 'XOCM', 'XNWK', 'XLIS', 'XLPS']: YFPricesMissingError('possibly delisted; no price data found  (1d 2025-03-23 -> 2025-03-30)')\n",
      "['XAN', 'XLUX', 'XPAX', 'WWE', 'XGTI', 'XPDI', 'WXCO', 'WWAC', 'XL', 'XON', 'XLRN', 'XPDB', 'XM', 'XEC', 'XENT', 'XFML', 'XIV', 'XOG', 'XLNX', 'WYND']: YFTzMissingError('possibly delisted; no timezone found')\n",
      "['XFIN']: YFPricesMissingError('possibly delisted; no price data found  (1d 2025-03-23 -> 2025-03-30) (Yahoo error = \"No data found, symbol may be delisted\")')\n",
      "[**                     5%                       ]  5 of 100 completed"
     ]
    },
    {
     "name": "stdout",
     "output_type": "stream",
     "text": [
      "Batch: XPL - ZAIS\r"
     ]
    },
    {
     "name": "stderr",
     "output_type": "stream",
     "text": [
      "[*********************100%***********************]  100 of 100 completed\n",
      "\n",
      "58 Failed downloads:\n",
      "['YAKC', 'XXIA', 'XSEL', 'XS', 'XSON', 'YDNT', 'YAVY', 'YESR', 'YDIV', 'XTXI', 'XRDC', 'YGRO', 'YZC', 'XPLR', 'YTHK', 'YANB', 'XUE', 'YZCM', 'YDIW', 'XRM', 'XTLY', 'XVIX', 'YOKU', 'YDKN', 'YXR', 'XRGC', 'YTEC', 'XYNY', 'XRIT', 'ZAIS', 'XTND', 'XRA', 'XU', 'XXV', 'XSBG', 'YCB']: YFPricesMissingError('possibly delisted; no price data found  (1d 2025-03-23 -> 2025-03-30)')\n",
      "['YTPG', 'YELL', 'Y', 'XPOA', 'YUMA', 'YSAC', 'YPRO', 'XSPL', 'YGF', 'YAC', 'YRCW', 'YMTX', 'YHOO', 'YGYI', 'YGTY', 'ZAGG', 'XSPA', 'YOGA']: YFTzMissingError('possibly delisted; no timezone found')\n",
      "['YVR', 'YNDX', 'YS', 'YTEN']: YFPricesMissingError('possibly delisted; no price data found  (1d 2025-03-23 -> 2025-03-30) (Yahoo error = \"No data found, symbol may be delisted\")')\n",
      "[**                     4%                       ]  4 of 100 completed"
     ]
    },
    {
     "name": "stdout",
     "output_type": "stream",
     "text": [
      "Batch: ZAPP - ZWS\r"
     ]
    },
    {
     "name": "stderr",
     "output_type": "stream",
     "text": [
      "[*********************100%***********************]  99 of 100 completed\n",
      "\n",
      "54 Failed downloads:\n",
      "['ZAPZ', 'ZSAN', 'ZEN', 'ZNH', 'ZING', 'ZAYO', 'ZME', 'ZGNX', 'ZFGN', 'ZEV', 'ZDIV', 'ZN', 'ZBZX', 'ZT', 'ZGYH', 'ZNGA', 'ZEST', 'ZVO', 'ZIXI', 'ZIOP', 'ZWRK', 'ZARS', 'ZHIC']: YFTzMissingError('possibly delisted; no timezone found')\n",
      "['ZONA', 'ZLTQ', 'ZPIN', 'ZOMX', 'ZEPE', 'ZRAN', 'ZONS', 'ZVXI', 'ZKID', 'ZVV', 'ZOO', 'ZIGO', 'ZOLT', 'ZICA', 'ZIPR', 'ZRBA', 'ZLRG', 'ZMBA', 'ZNDT', 'ZOES', 'ZENX', 'ZOLL', 'ZILA', 'ZILG', 'ZOOG', 'ZUO', 'ZFC']: YFPricesMissingError('possibly delisted; no price data found  (1d 2025-03-23 -> 2025-03-30)')\n",
      "['ZNTE', 'ZLS', 'ZFOX']: YFPricesMissingError('possibly delisted; no price data found  (1d 2025-03-23 -> 2025-03-30) (Yahoo error = \"No data found, symbol may be delisted\")')\n",
      "['ZTST']: YFInvalidPeriodError(\"ZTST: Period 'max' is invalid, must be of the format 1d, 5d, etc.\")\n",
      "[**********************56%**                     ]  5 of 9 completed"
     ]
    },
    {
     "name": "stdout",
     "output_type": "stream",
     "text": [
      "Batch: ZY - ZZZ\r"
     ]
    },
    {
     "name": "stderr",
     "output_type": "stream",
     "text": [
      "[*********************100%***********************]  9 of 9 completed\n",
      "\n",
      "5 Failed downloads:\n",
      "['ZZK', 'ZZX', 'ZZO']: YFPricesMissingError('possibly delisted; no price data found  (1d 2025-03-23 -> 2025-03-30)')\n",
      "['ZY', 'ZYNE']: YFTzMissingError('possibly delisted; no timezone found')\n"
     ]
    }
   ],
   "source": [
    "#i = 0\n",
    "#active = []\n",
    "#failed = []\n",
    "#omit = []\n",
    "\n",
    "while i <= n:\n",
    "    try:\n",
    "        first = i\n",
    "        last = min(i + 100, n)\n",
    "        batch = all_symbols[first:last]\n",
    "        print(f'Batch: {batch[0]} - {batch[-1]}', end='\\r')\n",
    "        df = yf.download(batch, start=start, end=end)['Close']\n",
    "        df = df.loc[:, df.iloc[-1, :].notnull()]\n",
    "        batch_active = df.columns\n",
    "        # Exclude if current val < 2.00\n",
    "        df = df.loc[:, df.iloc[-1, :] >= 2.]\n",
    "        batch_omit = [sym for sym in batch_active if sym not in df.columns]\n",
    "        omit += list(batch_omit)\n",
    "        active += list(df.columns)\n",
    "        fails = [sym for sym in batch if sym not in df.columns and sym not in batch_omit]\n",
    "        failed += fails\n",
    "        sleep(12)\n",
    "        i += 100\n",
    "    except Exception as e:\n",
    "        print(e)\n",
    "        pass"
   ]
  },
  {
   "cell_type": "code",
   "execution_count": 29,
   "id": "5ba436d9",
   "metadata": {},
   "outputs": [
    {
     "data": {
      "text/plain": [
       "(False, False, True)"
      ]
     },
     "execution_count": 29,
     "metadata": {},
     "output_type": "execute_result"
    }
   ],
   "source": [
    "'ACAI' in active, 'ACAI' in failed, 'ACAI' in omit "
   ]
  },
  {
   "cell_type": "markdown",
   "id": "bcdfc438",
   "metadata": {},
   "source": [
    "### 2nd Attempt"
   ]
  },
  {
   "cell_type": "code",
   "execution_count": 30,
   "id": "10104061",
   "metadata": {},
   "outputs": [
    {
     "data": {
      "text/plain": [
       "(4663, 1170)"
      ]
     },
     "execution_count": 30,
     "metadata": {},
     "output_type": "execute_result"
    }
   ],
   "source": [
    "len(active), len(omit)"
   ]
  },
  {
   "cell_type": "code",
   "execution_count": 31,
   "id": "b3b340e4",
   "metadata": {},
   "outputs": [
    {
     "data": {
      "text/plain": [
       "6176"
      ]
     },
     "execution_count": 31,
     "metadata": {},
     "output_type": "execute_result"
    }
   ],
   "source": [
    "n = len(failed)\n",
    "n"
   ]
  },
  {
   "cell_type": "code",
   "execution_count": 32,
   "id": "c74092cf",
   "metadata": {
    "scrolled": true
   },
   "outputs": [
    {
     "name": "stderr",
     "output_type": "stream",
     "text": [
      "[**                     5%                       ]  5 of 100 completed"
     ]
    },
    {
     "name": "stdout",
     "output_type": "stream",
     "text": [
      "Batch: AAAP - ADF\r"
     ]
    },
    {
     "name": "stderr",
     "output_type": "stream",
     "text": [
      "[*********************100%***********************]  100 of 100 completed\n",
      "\n",
      "100 Failed downloads:\n",
      "['ACFC', 'AANB', 'ABNJ', 'ABCO', 'ABCD', 'ABBC', 'ACTI', 'ACAP', 'ABCW', 'ABBK', 'ACCI', 'ABAC', 'ABVA', 'AACE', 'ABGX', 'ACTY', 'ACTS', 'AAAP', 'ACG', 'ABBI', 'ABXA', 'ACCL', 'ADBL', 'ABLX', 'AATI', 'ABAX', 'ACAS', 'ABRX', 'AATK', 'ABER', 'ACOM', 'AABC', 'ACRN', 'AACC', 'ACLA', 'ACGY', 'ABRI', 'ACW', 'ABTL', 'ACCP', 'ACXM', 'AAII', 'ACAT', 'AAPC', 'ACEC', 'ACLI']: YFPricesMissingError('possibly delisted; no price data found  (1d 2025-03-23 -> 2025-03-30)')\n",
      "['ACND', 'ACHN', 'ABST', 'ACEV', 'ACTD', 'AAU', 'ADF', 'ACII', 'AABA', 'ACAM', 'ACQR', 'ACGN', 'AAWW', 'ADEX', 'ABB', 'ACH', 'ACTT', 'ADES', 'ABTX', 'AAIN', 'ACDI', 'ACAX', 'ACIA', 'ADAL', 'ACAH', 'ACCT', 'ACTC', 'ACY', 'AACQ', 'ABGI', 'AAXN', 'ABIL', 'ACAQ', 'ACBI', 'ABC', 'AAC', 'ACRO', 'ACOR', 'AAQC', 'ABDC', 'AAIC', 'ACRX', 'ACC', 'ABII']: YFTzMissingError('possibly delisted; no timezone found')\n",
      "['ACAC', 'ACAB', 'ACER', 'AAMC', 'ABIO', 'ABMD', 'AAN', 'ACBA', 'ACST', 'AACI']: YFPricesMissingError('possibly delisted; no price data found  (1d 2025-03-23 -> 2025-03-30) (Yahoo error = \"No data found, symbol may be delisted\")')\n"
     ]
    },
    {
     "name": "stdout",
     "output_type": "stream",
     "text": [
      "(0, 100)\n"
     ]
    },
    {
     "name": "stderr",
     "output_type": "stream",
     "text": [
      "[*                      2%                       ]  2 of 100 completed"
     ]
    },
    {
     "name": "stdout",
     "output_type": "stream",
     "text": [
      "Batch: ADGF - AIRV\r"
     ]
    },
    {
     "name": "stderr",
     "output_type": "stream",
     "text": [
      "[*********************100%***********************]  100 of 100 completed\n",
      "\n",
      "100 Failed downloads:\n",
      "['AFCO', 'AINN', 'ADZA', 'ADIN', 'AETC', 'ADIC', 'AHS', 'ADRX', 'ADSX', 'AHCI', 'AFOP', 'ADLR', 'AFAM', 'AEOS', 'AEGR', 'AF', 'AFBC', 'AIB', 'AFCI', 'ADK', 'AET', 'AFSI', 'AGU', 'AHGP', 'ADSC', 'AFBK', 'ADTK', 'AEPI', 'AGCC', 'AFFX', 'AIRM', 'AGAM', 'AHP', 'ADPI', 'AIRN', 'AHPI', 'AE', 'AGII']: YFPricesMissingError('possibly delisted; no price data found  (1d 2025-03-23 -> 2025-03-30)')\n",
      "['AIPC', 'AEHA', 'AESC', 'AGLE', 'AEY', 'AEGN', 'AGFS', 'AFH', 'AHPA', 'AFIN', 'AHAC', 'ADMS', 'AHRN', 'AGIL', 'AESE', 'AIPT', 'AGCB', 'AIRV', 'AGC', 'AHC', 'ADS', 'ADRO', 'AGAC', 'AETI', 'AFAQ', 'AIMC', 'AIMT', 'AGE', 'AFI', 'AERI', 'ADGI', 'AIC', 'AFTR', 'AERC', 'AIKI', 'ADMP', 'ADOM', 'AEAC', 'AGGR', 'ADRA', 'AGTC', 'AHM', 'ADSW', 'AINV', 'AGN', 'AFGH', 'ADOC', 'ADGF']: YFTzMissingError('possibly delisted; no timezone found')\n",
      "['AEL', 'AGTI', 'AGR', 'AFAR', 'AFAC', 'AEZS', 'ADTH', 'AGBA', 'AFT', 'AIRC', 'AIF', 'AGRX', 'AINC', 'ADRT']: YFPricesMissingError('possibly delisted; no price data found  (1d 2025-03-23 -> 2025-03-30) (Yahoo error = \"No data found, symbol may be delisted\")')\n"
     ]
    },
    {
     "name": "stdout",
     "output_type": "stream",
     "text": [
      "(0, 100)\n"
     ]
    },
    {
     "name": "stderr",
     "output_type": "stream",
     "text": [
      "[*                      3%                       ]  3 of 100 completed"
     ]
    },
    {
     "name": "stdout",
     "output_type": "stream",
     "text": [
      "Batch: AIW - ANAC\r"
     ]
    },
    {
     "name": "stderr",
     "output_type": "stream",
     "text": [
      "[*********************100%***********************]  100 of 100 completed\n",
      "\n",
      "99 Failed downloads:\n",
      "['AMCP', 'AMQ', 'ALOG', 'ALFI', 'AMND', 'AMCS', 'ALOY', 'ALDW', 'AMPB', 'ALDN', 'AMMD', 'AMAC', 'AMGI', 'ALPS', 'ALLI', 'AIXG', 'AMIE', 'AMCC', 'ALSM', 'AMEV', 'ALNC', 'ALTM', 'ALZH', 'AIXD', 'AMDA', 'AMFI', 'AMIC', 'AMAB', 'ALVU', 'AMTG', 'AMRI', 'AMLN', 'AMIS', 'ALTE', 'ALPX', 'AKLM', 'ALVR', 'ALJJ', 'AMSG', 'AMCE', 'ALN', 'ALTH', 'ALGX']: YFPricesMissingError('possibly delisted; no price data found  (1d 2025-03-23 -> 2025-03-30)')\n",
      "['AKLA', 'ALNA', 'AMTI', 'ALAC', 'AMCI', 'AMCN', 'AMRB', 'ALGR', 'AMV', 'AJRD', 'AIY', 'ALO', 'ALBO', 'AKER', 'ALDR', 'ALXN', 'ALR', 'AMAG', 'AKIC', 'ALQA', 'AMPI', 'AKG', 'AKNS', 'AKCA', 'ALTU', 'AMEH', 'ALYA', 'AKU', 'ALOR', 'AMFW', 'ALTA', 'AMNB', 'ALPA', 'AMOT', 'AMHC', 'ALSK', 'AMAM', 'AMAO', 'AMRH', 'ALUS', 'AKS', 'AJAX', 'AIW', 'AKUS', 'ANAC', 'AKRX']: YFTzMissingError('possibly delisted; no timezone found')\n",
      "['ALPN', 'ALLG', 'ALCC', 'AMRS', 'ALRN', 'AMK', 'AKLI', 'AJXA', 'AJX', 'ALIM']: YFPricesMissingError('possibly delisted; no price data found  (1d 2025-03-23 -> 2025-03-30) (Yahoo error = \"No data found, symbol may be delisted\")')\n"
     ]
    },
    {
     "name": "stdout",
     "output_type": "stream",
     "text": [
      "(3, 99)\n"
     ]
    },
    {
     "name": "stderr",
     "output_type": "stream",
     "text": [
      "[*                      2%                       ]  2 of 100 completed"
     ]
    },
    {
     "name": "stdout",
     "output_type": "stream",
     "text": [
      "Batch: ANAT - ARPI\r"
     ]
    },
    {
     "name": "stderr",
     "output_type": "stream",
     "text": [
      "[*********************100%***********************]  100 of 100 completed\n",
      "\n",
      "100 Failed downloads:\n",
      "['APRS', 'ANSW', 'ARLC', 'APUS', 'APHT', 'ANNY', 'APLP', 'APCS', 'ANCC', 'AOI', 'ANEN', 'ANSR', 'APTI', 'ANCX', 'ANDS', 'ARMO', 'APFC', 'AQNT', 'ARCL', 'ARPI', 'ARGN', 'ARCX', 'ANCB', 'APPX', 'ANDW', 'ANLY', 'ARII', 'ARBR', 'APIC', 'ARBX', 'APOL', 'ARNN', 'ARBA', 'ANDV', 'ANST', 'ANNB', 'APLX', 'APTX', 'APPD', 'APKT', 'ANPI', 'ANSI', 'APRI', 'ANSL', 'ANTP', 'ARIA', 'AQQQ', 'ARG']: YFPricesMissingError('possibly delisted; no price data found  (1d 2025-03-23 -> 2025-03-30)')\n",
      "['ANZU', 'APAC', 'AND', 'AQNA', 'APGN', 'AONE', 'AQUA', 'ARNC', 'ARNA', 'ARCI', 'ARNQ', 'APMI', 'APTM', 'APY', 'ANDA', 'APEX', 'APU', 'AQXP', 'AQ', 'ANAT', 'ANGN', 'APRN', 'ARD', 'APR', 'APHA', 'AREX', 'APPH', 'ANH', 'ARCE', 'APSG', 'AOBC', 'ANOR', 'ANDX', 'APC', 'ARCW', 'APN', 'ANTM', 'ARAV', 'APXT', 'ARCK', 'ARIZ', 'ARA', 'ANFI', 'APEN', 'ARGO', 'APGB', 'ARGU', 'ARBG']: YFTzMissingError('possibly delisted; no timezone found')\n",
      "['ARCH', 'APCA', 'ARC', 'AQNU']: YFPricesMissingError('possibly delisted; no price data found  (1d 2025-03-23 -> 2025-03-30) (Yahoo error = \"No data found, symbol may be delisted\")')\n"
     ]
    },
    {
     "name": "stdout",
     "output_type": "stream",
     "text": [
      "(0, 100)\n"
     ]
    },
    {
     "name": "stderr",
     "output_type": "stream",
     "text": [
      "[*                      2%                       ]  2 of 100 completed"
     ]
    },
    {
     "name": "stdout",
     "output_type": "stream",
     "text": [
      "Batch: ARPO - AVCI\r"
     ]
    },
    {
     "name": "stderr",
     "output_type": "stream",
     "text": [
      "[*********************100%***********************]  100 of 100 completed\n",
      "\n",
      "100 Failed downloads:\n",
      "['ASHW', 'AVCI', 'ATW', 'ARRW', 'ARXX', 'ASAP', 'ARXT', 'AUSA', 'ASKJ', 'ASTT', 'ASFN', 'ARTC', 'ATSN', 'ASCL', 'AUTC', 'ASVI', 'AV', 'ATBC', 'ASEI', 'ASGR', 'ARRU', 'ASBB', 'ARTG', 'ARRO', 'ARWM', 'ATMI', 'ATSI', 'ATX', 'ATPG', 'ARWA', 'AVCA', 'ATHX', 'ASTX', 'AUXO', 'ASPM', 'ATNY', 'AUTH', 'ATML', 'ATHR', 'ATYT']: YFPricesMissingError('possibly delisted; no price data found  (1d 2025-03-23 -> 2025-03-30)')\n",
      "['ASPA', 'ATCO', 'ARYA', 'AVAC', 'AUS', 'AT', 'ARYE', 'AVAN', 'ARTE', 'ASNA', 'ARYB', 'ATIS', 'ARRS', 'ASAQ', 'AUO', 'ATAC', 'ATU', 'AUG', 'ARRQ', 'ATNX', 'ARTX', 'ATAK', 'ATMR', 'ATVC', 'ARVL', 'ATTO', 'ASFI', 'ATVI', 'AUY', 'ATHN', 'ASV', 'ARTA', 'ATA', 'ASZ', 'AUD', 'ASCA', 'ATH', 'AUTO', 'ATC', 'ASAX', 'AURC', 'AUXG', 'ATY', 'ARQL', 'ASZU', 'ARPO', 'ATRS', 'ATAQ', 'AUSU', 'ATTU']: YFTzMissingError('possibly delisted; no timezone found')\n",
      "['ARYD', 'ASAI', 'ATIF', 'AUGX', 'AULT', 'ATRI', 'ASXC', 'AUVI', 'ASTR', 'ATCX']: YFPricesMissingError('possibly delisted; no price data found  (1d 2025-03-23 -> 2025-03-30) (Yahoo error = \"No data found, symbol may be delisted\")')\n"
     ]
    },
    {
     "name": "stdout",
     "output_type": "stream",
     "text": [
      "(0, 100)\n"
     ]
    },
    {
     "name": "stderr",
     "output_type": "stream",
     "text": [
      "[*                      2%                       ]  2 of 100 completed"
     ]
    },
    {
     "name": "stdout",
     "output_type": "stream",
     "text": [
      "Batch: AVCO - BBQZ\r"
     ]
    },
    {
     "name": "stderr",
     "output_type": "stream",
     "text": [
      "[*********************100%***********************]  98 of 100 completed\n",
      "\n",
      "75 Failed downloads:\n",
      "['BBQZ', 'AVXS', 'AVG', 'BBHL', 'AYT', 'AVGN', 'BAA', 'BABS', 'AWL', 'AVNC', 'AVNU', 'AVRX', 'AXCA', 'AVNX', 'BBND', 'BARI', 'AVDR', 'AXLL', 'AXYX', 'AZPN', 'AVZA', 'AVII', 'BBBB', 'BBCO', 'BBG', 'BALB', 'AXLA', 'AXAR', 'BBOX', 'AXYS']: YFPricesMissingError('possibly delisted; no price data found  (1d 2025-03-23 -> 2025-03-30)')\n",
      "['BBK', 'AVEO', 'BBI', 'AZYO', 'AZRE', 'BARE', 'AZRX', 'AVP', 'AYLA', 'AVX', 'AXU', 'BAMR', 'BAMI', 'AXH', 'AXAS', 'AVLR', 'BAF', 'BBBY', 'AVYA', 'AVCO', 'BBF', 'BABY', 'AVID', 'AVH', 'BBLN', 'BAMH', 'AZMA', 'BASI', 'BBL', 'AYX', 'AYR', 'AXGT', 'AWSM', 'AVCT', 'AXO', 'BAS', 'AXE']: YFTzMissingError('possibly delisted; no timezone found')\n",
      "['AY', 'B', 'BBQ', 'AXNX', 'AVHI', 'AVRO', 'BACA', 'AVTA']: YFPricesMissingError('possibly delisted; no price data found  (1d 2025-03-23 -> 2025-03-30) (Yahoo error = \"No data found, symbol may be delisted\")')\n"
     ]
    },
    {
     "name": "stdout",
     "output_type": "stream",
     "text": [
      "(5, 75)\n"
     ]
    },
    {
     "name": "stderr",
     "output_type": "stream",
     "text": [
      "[*                      2%                       ]  2 of 100 completed"
     ]
    },
    {
     "name": "stdout",
     "output_type": "stream",
     "text": [
      "Batch: BBRG - BKRS\r"
     ]
    },
    {
     "name": "stderr",
     "output_type": "stream",
     "text": [
      "[*********************100%***********************]  100 of 100 completed\n",
      "\n",
      "100 Failed downloads:\n",
      "['BEIQ', 'BKMU', 'BIOC', 'BIK', 'BKBK', 'BEXP', 'BCGI', 'BJGP', 'BGSC', 'BIGD', 'BDOG', 'BIDZ', 'BFSB', 'BGRH', 'BDAY', 'BBRY', 'BCOV', 'BEAR', 'BJJN', 'BFEN', 'BIOV', 'BFBC', 'BCSI', 'BEER', 'BIVN', 'BKRS', 'BFNB', 'BCSB', 'BJO', 'BFED', 'BKFS', 'BELM', 'BGEN', 'BESI', 'BJZ', 'BDG', 'BEAS', 'BCON', 'BHAG', 'BKHM', 'BEAV', 'BIOP', 'BIVV', 'BIE', 'BHI', 'BBRG']: YFPricesMissingError('possibly delisted; no price data found  (1d 2025-03-23 -> 2025-03-30)')\n",
      "['BIOL', 'BDSI', 'BIG', 'BCSA', 'BCEL', 'BFAC', 'BETS', 'BITE']: YFPricesMissingError('possibly delisted; no price data found  (1d 2025-03-23 -> 2025-03-30) (Yahoo error = \"No data found, symbol may be delisted\")')\n",
      "['BDFC', 'BDGE', 'BFRM', 'BCTG', 'BIOT', 'BKHU', 'BDR', 'BCEI', 'BIOS', 'BIQI', 'BCOR', 'BKK', 'BCOM', 'BENE', 'BGRY', 'BFA', 'BBX', 'BFO', 'BHTG', 'BGIO', 'BFX', 'BFB', 'BFY', 'BBRX', 'BIF', 'BCAC', 'BGG', 'BGCP', 'BHBK', 'BCRH', 'BKI', 'BFT', 'BFYT', 'BBT', 'BID', 'BKCC', 'BHMW', 'BKJ', 'BIER', 'BGSX', 'BHSE', 'BHG', 'BCYP', 'BHGE', 'BIOM', 'BHZN']: YFTzMissingError('possibly delisted; no timezone found')\n"
     ]
    },
    {
     "name": "stdout",
     "output_type": "stream",
     "text": [
      "(0, 100)\n"
     ]
    },
    {
     "name": "stderr",
     "output_type": "stream",
     "text": [
      "[*                      2%                       ]  2 of 100 completed"
     ]
    },
    {
     "name": "stdout",
     "output_type": "stream",
     "text": [
      "Batch: BKS - BRNC\r"
     ]
    },
    {
     "name": "stderr",
     "output_type": "stream",
     "text": [
      "[*********************100%***********************]  100 of 100 completed\n",
      "\n",
      "100 Failed downloads:\n",
      "['BLSW', 'BRKH', 'BPUR', 'BOSA', 'BRNC', 'BLT', 'BNHN', 'BOXC', 'BOFL', 'BONA', 'BNBN', 'BRCD', 'BKST', 'BLOX', 'BRAQ', 'BLSI', 'BRKT', 'BRIO', 'BNK', 'BLTI', 'BPK', 'BPRG', 'BRIL', 'BLVD', 'BMHC', 'BREL', 'BLSC', 'BLUD', 'BLAC', 'BOFI', 'BMTX', 'BORD', 'BOVA', 'BOBJ', 'BRLC', 'BORL', 'BMTI', 'BLJ', 'BNCN', 'BKWW', 'BOBE', 'BOI', 'BMC', 'BLH', 'BOJA', 'BMET']: YFPricesMissingError('possibly delisted; no price data found  (1d 2025-03-23 -> 2025-03-30)')\n",
      "['BMRG', 'BNNR', 'BOXD', 'BPAC', 'BPMP', 'BLU', 'BLOG', 'BRLI', 'BOMN', 'BOAC', 'BRDS', 'BPMX', 'BRD', 'BPR', 'BMCH', 'BPL', 'BRMK', 'BRIV', 'BNMV', 'BLL', 'BPYU', 'BNCL', 'BPSG', 'BOWX', 'BNSO', 'BKS', 'BMAC', 'BLTS', 'BLMT', 'BLNG', 'BOAS', 'BNFT', 'BOCH', 'BPFH', 'BLSA', 'BRFI', 'BODY', 'BMTC', 'BREW', 'BRKA', 'BLI', 'BRG', 'BRKS', 'BLUW', 'BLCM', 'BQH']: YFTzMissingError('possibly delisted; no timezone found')\n",
      "['BNRE', 'BOWL', 'BLPH', 'BOCN', 'BRCN', 'BLUA', 'BREZ', 'BMAQ']: YFPricesMissingError('possibly delisted; no price data found  (1d 2025-03-23 -> 2025-03-30) (Yahoo error = \"No data found, symbol may be delisted\")')\n"
     ]
    },
    {
     "name": "stdout",
     "output_type": "stream",
     "text": [
      "(0, 100)\n"
     ]
    },
    {
     "name": "stderr",
     "output_type": "stream",
     "text": [
      "[*                      3%                       ]  3 of 100 completed"
     ]
    },
    {
     "name": "stdout",
     "output_type": "stream",
     "text": [
      "Batch: BRP - CAP\r"
     ]
    },
    {
     "name": "stderr",
     "output_type": "stream",
     "text": [
      "[*********************100%***********************]  100 of 100 completed\n",
      "\n",
      "100 Failed downloads:\n",
      "['BTGC', 'BSFT', 'BVEW', 'BXLT', 'CAEI', 'CAND', 'BTHS', 'BSF', 'BTEK', 'BWCF', 'BWLD', 'BUNZ', 'CAFN', 'BSBN', 'BYLK', 'BUCA', 'BZBC', 'CACQ', 'CACB', 'BWP', 'BSTW', 'BXRX', 'CALD', 'BSXT', 'BSMD', 'BUCY', 'CABG', 'CAGC', 'BULK', 'BVA', 'CAM', 'CAA', 'CANI', 'CAMD', 'BSCH', 'BWOW', 'BVEX', 'CACS', 'CAB', 'CADA', 'BSWN', 'BSTE', 'BXXX', 'BTRY', 'BTFG', 'CALP', 'BUNL', 'BUNT', 'BWNG', 'CABL', 'BYBI', 'BYBK', 'CAFE', 'BWAC']: YFPricesMissingError('possibly delisted; no price data found  (1d 2025-03-23 -> 2025-03-30)')\n",
      "['BXG', 'BTAQ', 'BTNB', 'BSA', 'BSPE', 'BSD', 'BRQS', 'BRPA', 'BSAQ', 'BZM', 'CAHC', 'BUYY', 'BXS', 'BSN', 'CAI', 'CAP', 'BTB', 'BTN', 'BZC', 'CADC', 'BSTC', 'BRPM', 'BWC', 'BWMC', 'CANO', 'BURG', 'BWV', 'BYTS', 'BSTM', 'BYN', 'BSE', 'BSQR', 'BTRS', 'CAHS', 'BSGA', 'BVH', 'BSKY', 'BVSN', 'BTWN', 'BWTR']: YFTzMissingError('possibly delisted; no timezone found')\n",
      "['BRSH', 'BRP', 'CACO', 'BWAQ', 'CALB', 'BSIG']: YFPricesMissingError('possibly delisted; no price data found  (1d 2025-03-23 -> 2025-03-30) (Yahoo error = \"No data found, symbol may be delisted\")')\n"
     ]
    },
    {
     "name": "stdout",
     "output_type": "stream",
     "text": [
      "(0, 100)\n"
     ]
    },
    {
     "name": "stderr",
     "output_type": "stream",
     "text": [
      "[***                    6%                       ]  6 of 100 completed"
     ]
    },
    {
     "name": "stdout",
     "output_type": "stream",
     "text": [
      "Batch: CAPA - CDWC\r"
     ]
    },
    {
     "name": "stderr",
     "output_type": "stream",
     "text": [
      "[*********************100%***********************]  100 of 100 completed\n",
      "\n",
      "100 Failed downloads:\n",
      "['CDIC', 'CCBI', 'CCBT', 'CBNJ', 'CCBN', 'CBNV', 'CBOU', 'CBYL', 'CDCS', 'CDIS', 'CCBL', 'CBF', 'CDRB', 'CDWC', 'CBKN', 'CDMO', 'CBEY', 'CDS', 'CBHI', 'CATZ', 'CCSC', 'CDCY', 'CBMX', 'CCTS', 'CBCF', 'CCN', 'CCT', 'CDEN', 'CBAK', 'CBIZ', 'CATC', 'CAVM', 'CDMS', 'CDI', 'CAVB', 'CCCG', 'CASC', 'CDSW', 'CCBP', 'CASB', 'CBMD', 'CBR', 'CBSS', 'CAZA', 'CCP', 'CCRT', 'CATT', 'CCE', 'CBUK']: YFPricesMissingError('possibly delisted; no price data found  (1d 2025-03-23 -> 2025-03-30)')\n",
      "['CBMB', 'CCXX', 'CCXI', 'CCFI', 'CBM', 'CBLI', 'CCVI', 'CDOR', 'CASM', 'CATS', 'CBTX', 'CCX', 'CBPO', 'CCC', 'CARH', 'CATM', 'CCMP', 'CDR', 'CBIO', 'CATB', 'CCCL', 'CCAC', 'CCAI', 'CCRC', 'CBAH', 'CCIV', 'CCNC', 'CDK', 'CCSM', 'CDEV', 'CBB', 'CCH', 'CBLK', 'CBPX', 'CBMG', 'CASA', 'CDAY', 'CCR', 'CARB', 'CBS', 'CBAY', 'CCV', 'CAPA', 'CBX', 'CCA', 'CCF', 'CARO', 'CCNI']: YFTzMissingError('possibly delisted; no timezone found')\n",
      "['CBRG', 'CDAK', 'CDAQ']: YFPricesMissingError('possibly delisted; no price data found  (1d 2025-03-23 -> 2025-03-30) (Yahoo error = \"No data found, symbol may be delisted\")')\n"
     ]
    },
    {
     "name": "stdout",
     "output_type": "stream",
     "text": [
      "(0, 100)\n"
     ]
    },
    {
     "name": "stderr",
     "output_type": "stream",
     "text": [
      "\r",
      "[                       0%                       ]\r",
      "[                       0%                       ]\r",
      "[                       0%                       ]"
     ]
    },
    {
     "name": "stdout",
     "output_type": "stream",
     "text": [
      "Batch: CEA - CHST\r"
     ]
    },
    {
     "name": "stderr",
     "output_type": "stream",
     "text": [
      "[*********************100%***********************]  100 of 100 completed\n",
      "\n",
      "93 Failed downloads:\n",
      "['CFK', 'CHSI', 'CESI', 'CFRX', 'CHFN', 'CEMP', 'CEDC', 'CGTK', 'CHIR', 'CFNL', 'CFSL', 'CEB', 'CFSI', 'CFBX', 'CFFC', 'CFB', 'CEDU', 'CEPH', 'CHST', 'CESV', 'CEBK', 'CFI', 'CFSG', 'CERG', 'CEGE', 'CHNA', 'CENF', 'CHRK', 'CHOC', 'CETC', 'CFD', 'CHBT', 'CFHI', 'CHRT', 'CHKE', 'CFGE', 'CGFW', 'CFCB', 'CFCP']: YFPricesMissingError('possibly delisted; no price data found  (1d 2025-03-23 -> 2025-03-30)')\n",
      "['CHK', 'CHAA', 'CEI', 'CERE', 'CEIX', 'CETU', 'CEM', 'CGA']: YFPricesMissingError('possibly delisted; no price data found  (1d 2025-03-23 -> 2025-03-30) (Yahoo error = \"No data found, symbol may be delisted\")')\n",
      "['CHS', 'CHA', 'CECE', 'CHFW', 'CENQ', 'CFFA', 'CHAQ', 'CEQP', 'CEMI', 'CHAC', 'CFVI', 'CERN', 'CHIP', 'CENH', 'CFX', 'CELL', 'CFXA', 'CGRN', 'CERC', 'CHPM', 'CETV', 'CHRA', 'CHNG', 'CGRB', 'CHSP', 'CFIV', 'CFMS', 'CHG', 'CHFS', 'CHEA', 'CFBI', 'CGIX', 'CFII', 'CHFC', 'CFFE', 'CHMT', 'CFV', 'CELG', 'CHAP', 'CEDR', 'CEL', 'CEA', 'CHMA', 'CEN', 'CEU', 'CFAC']: YFTzMissingError('possibly delisted; no timezone found')\n"
     ]
    },
    {
     "name": "stdout",
     "output_type": "stream",
     "text": [
      "(5, 93)\n"
     ]
    },
    {
     "name": "stderr",
     "output_type": "stream",
     "text": [
      "[*                      2%                       ]  2 of 100 completed"
     ]
    },
    {
     "name": "stdout",
     "output_type": "stream",
     "text": [
      "Batch: CHTP - CMLT\r"
     ]
    },
    {
     "name": "stderr",
     "output_type": "stream",
     "text": [
      "[*********************100%***********************]  98 of 100 completed\n",
      "\n",
      "92 Failed downloads:\n",
      "['CLCD', 'CLZR', 'CLKS', 'CLPA', 'CIFC', 'CLDN', 'CHTT', 'CLHB', 'CLSR', 'CJBK', 'CLMS', 'CIBI', 'CLBH', 'CKCM', 'CKFR', 'CLNS', 'CKNN', 'CIGX', 'CIPH', 'CHUX', 'CIMA', 'CLRT', 'CKEC', 'CHTP', 'CKN', 'CJES', 'CLRS', 'CLFC', 'CLYH', 'CMBC', 'CMKG', 'CMGI', 'CLEC', 'CLDA', 'CLAC', 'CKXE', 'CMFB', 'CKP', 'CITP', 'CIU', 'CIVC', 'CMED', 'CLWR', 'CLY', 'CLRK']: YFPricesMissingError('possibly delisted; no price data found  (1d 2025-03-23 -> 2025-03-30)')\n",
      "['CIR', 'CIFS', 'CLNC', 'CIC', 'CMLF', 'CLII', 'CLR', 'CLIM', 'CLDR', 'CLAY', 'CIIG', 'CMCC', 'CIIC', 'CLBS', 'CLEN', 'CMLT', 'CINC', 'CLUB', 'CLXT', 'CIAN', 'CMII', 'CKH', 'CLAQ', 'CLI', 'CLGC', 'CLAA', 'CLRM', 'CHWA', 'CISN', 'CMFN', 'CIXX', 'CLNY', 'CIDM', 'CIT', 'CLDB', 'CLCT', 'CLAS', 'CLAW', 'CLA', 'CLGX', 'CLIN', 'CLDC', 'CMD', 'CLSN', 'CJ', 'CLVS']: YFTzMissingError('possibly delisted; no timezone found')\n",
      "['CHUY']: YFPricesMissingError('possibly delisted; no price data found  (1d 2025-03-23 -> 2025-03-30) (Yahoo error = \"No data found, symbol may be delisted\")')\n"
     ]
    },
    {
     "name": "stdout",
     "output_type": "stream",
     "text": [
      "(5, 92)\n"
     ]
    },
    {
     "name": "stderr",
     "output_type": "stream",
     "text": [
      "[*                      2%                       ]  2 of 100 completed"
     ]
    },
    {
     "name": "stdout",
     "output_type": "stream",
     "text": [
      "Batch: CMN - CRA\r"
     ]
    },
    {
     "name": "stderr",
     "output_type": "stream",
     "text": [
      "[*********************100%***********************]  100 of 100 completed\n",
      "\n",
      "100 Failed downloads:\n",
      "['CONR', 'COVS', 'CPWM', 'CPXX', 'COBH', 'CORI', 'CMPC', 'CMVT', 'CPEX', 'CRA', 'CNFL', 'CNNB', 'CNVO', 'CNYD', 'CPTS', 'CMPP', 'CPHD', 'CPNO', 'CNSF', 'CPTV', 'CPCI', 'CPKI', 'CNVX', 'CNCP', 'CMTY', 'CPBC', 'COVB', 'COGN', 'COHT', 'CPTI', 'CMN', 'COWB', 'CPBK', 'COLY', 'CNTR', 'COA', 'CNDF', 'COLT', 'COBZ', 'CMOS', 'COL', 'COBO', 'CPLA', 'COB', 'CQH', 'COH', 'CPAK', 'CMRG']: YFPricesMissingError('possibly delisted; no price data found  (1d 2025-03-23 -> 2025-03-30)')\n",
      "['CNLI', 'CNDB', 'COUP', 'CMPI', 'CMSS', 'CND', 'CO', 'CNDH', 'CNAT', 'COT', 'CPLG', 'CPAA', 'CORE', 'CNXA', 'CORV', 'CORS', 'CPUH', 'CNST', 'CNAC', 'CPE', 'CPGY', 'CMO', 'COWN', 'CPTK', 'CNTQ', 'COLI', 'COLE', 'COVA', 'CORR', 'CPBY', 'COMV', 'CPAQ', 'CMTA', 'CNXM', 'CPHL', 'CNVY', 'CPSI', 'CPAH', 'CPIA', 'CPAR', 'CPTA', 'COG', 'CONE', 'CNIC']: YFTzMissingError('possibly delisted; no timezone found')\n",
      "['COOL', 'CONN', 'CONX', 'CPG', 'CNHI', 'CPTN', 'CNSL', 'CNCE']: YFPricesMissingError('possibly delisted; no price data found  (1d 2025-03-23 -> 2025-03-30) (Yahoo error = \"No data found, symbol may be delisted\")')\n"
     ]
    },
    {
     "name": "stdout",
     "output_type": "stream",
     "text": [
      "(0, 100)\n"
     ]
    },
    {
     "name": "stderr",
     "output_type": "stream",
     "text": [
      "[**                     4%                       ]  4 of 100 completed"
     ]
    },
    {
     "name": "stdout",
     "output_type": "stream",
     "text": [
      "Batch: CRAY - CUO\r"
     ]
    },
    {
     "name": "stderr",
     "output_type": "stream",
     "text": [
      "[*********************100%***********************]  100 of 100 completed\n",
      "\n",
      "100 Failed downloads:\n",
      "['CRDN', 'CROS', 'CTFO', 'CSLS', 'CTRX', 'CSCQ', 'CRMH', 'CSJB', 'CUNO', 'CREL', 'CRYP', 'CTE', 'CRVP', 'CRXL', 'CTCI', 'CRTQ', 'CTZ', 'CRXX', 'CSCX', 'CTGX', 'CSCR', 'CTDC', 'CSSA', 'CTF', 'CSNC', 'CRGI', 'CSBC', 'CULS', 'CTOO', 'CTV', 'CTMI', 'CRXT', 'CTBC', 'CRFH', 'CRGE', 'CSAR', 'CUNB', 'CRIC', 'CRBC', 'CRNS', 'CRGN', 'CTLM', 'CRWN', 'CTCM', 'CTEL', 'CRXA', 'CSBK', 'CRDS', 'CSKI', 'CTNN']: YFPricesMissingError('possibly delisted; no price data found  (1d 2025-03-23 -> 2025-03-30)')\n",
      "['CRHM', 'CTWS', 'CSU', 'CSTR', 'CRY', 'CTIB', 'CREC', 'CTT', 'CSIB', 'CSGE', 'CTL', 'CREE', 'CSCW', 'CRR', 'CTXS', 'CSOD', 'CTAQ', 'CTRC', 'CS', 'CRZO', 'CTRL', 'CTST', 'CSII', 'CSPR', 'CRAY', 'CRCM', 'CTG', 'CTAC', 'CRTX', 'CSS', 'CTEK', 'CRHC', 'CRZN', 'CSLT', 'CUO', 'CSMA', 'CTIC', 'CRSA', 'CRU', 'CSTA', 'CTY', 'CTAA', 'CSFL', 'CTW', 'CUI', 'CTRV', 'CTB']: YFTzMissingError('possibly delisted; no timezone found')\n",
      "['CTR', 'CSLM', 'CTLT']: YFPricesMissingError('possibly delisted; no price data found  (1d 2025-03-23 -> 2025-03-30) (Yahoo error = \"No data found, symbol may be delisted\")')\n"
     ]
    },
    {
     "name": "stdout",
     "output_type": "stream",
     "text": [
      "(0, 100)\n"
     ]
    },
    {
     "name": "stderr",
     "output_type": "stream",
     "text": [
      "[**                     4%                       ]  4 of 100 completed"
     ]
    },
    {
     "name": "stdout",
     "output_type": "stream",
     "text": [
      "Batch: CUPM - DDUP\r"
     ]
    },
    {
     "name": "stderr",
     "output_type": "stream",
     "text": [
      "[*********************100%***********************]  96 of 100 completed\n",
      "\n",
      "99 Failed downloads:\n",
      "[**********************99%***********************]  99 of 100 completed['DBMX', 'DDIC', 'CYMI', 'CYDS', 'CYBS', 'CYL', 'DADE', 'DDSS', 'DBRT', 'DCNT', 'CYNA', 'DBLE', 'DCA', 'DCBK', 'DBBR', 'CVON', 'DBU', 'DBRN', 'CYNO', 'CWBS', 'CYSV', 'CUPM', 'CVAL', 'CXPO', 'CYPB', 'CYPT', 'DCTI', 'CYBI', 'CVVT', 'DAGM', 'CYDE', 'CVGR', 'DCNG', 'DCGN', 'DCLK', 'DCAI', 'DDRX', 'DBES', 'DANG', 'CVTX', 'CWAY', 'CXA', 'DCTM', 'CYCL', 'DATE']: YFPricesMissingError('possibly delisted; no price data found  (1d 2025-03-23 -> 2025-03-30)')\n",
      "['CURO', 'CVIA', 'CXDC', 'DCT', 'CVT', 'CZFC', 'DCUB', 'CVRS', 'DCUA', 'CVTI', 'DBDR', 'CVLB', 'DCRB', 'DBTX', 'DCIX', 'CXSP', 'CYBE', 'CYRN', 'CXAC', 'DCRC', 'CYT', 'DBTK', 'DDF', 'CXP', 'DAOO', 'CVVZ', 'DATA', 'CXO', 'DCAR', 'DBCP', 'CVTS', 'DCRD', 'CVET', 'CUR', 'DDUP', 'CVOL', 'CYTR', 'CVCY', 'CYTX', 'DCRN', 'CY', 'DALS', 'DDOC', 'DDMX', 'CZZ', 'CVA', 'DCUE']: YFTzMissingError('possibly delisted; no timezone found')\n",
      "['DCPH', 'CYXT', 'CZOO', 'CWBR', 'CVLY', 'CVII', 'DCF']: YFPricesMissingError('possibly delisted; no price data found  (1d 2025-03-23 -> 2025-03-30) (Yahoo error = \"No data found, symbol may be delisted\")')\n"
     ]
    },
    {
     "name": "stdout",
     "output_type": "stream",
     "text": [
      "(4, 99)\n"
     ]
    },
    {
     "name": "stderr",
     "output_type": "stream",
     "text": [
      "[                       0%                       ]"
     ]
    },
    {
     "name": "stdout",
     "output_type": "stream",
     "text": [
      "Batch: DEAC - DPII\r"
     ]
    },
    {
     "name": "stderr",
     "output_type": "stream",
     "text": [
      "[*********************100%***********************]  100 of 100 completed\n",
      "\n",
      "100 Failed downloads:\n",
      "['DOTN', 'DOCC', 'DEVC', 'DIGE', 'DIRT', 'DLBS', 'DFR', 'DFIB', 'DGAS', 'DFC', 'DOCX', 'DGI', 'DLGC', 'DGFJ', 'DFBG', 'DMIF', 'DFCT', 'DEAR', 'DKHR', 'DEG', 'DISK', 'DNEX', 'DHFT', 'DLLR', 'DMOB', 'DNBK', 'DINE', 'DEPO', 'DFVL', 'DFT', 'DOWT', 'DMTX', 'DMED', 'DHOM', 'DFBS', 'DECC', 'DLTK', 'DMGI', 'DEMS', 'DGIT', 'DLM', 'DIET', 'DPII', 'DMD', 'DEBS', 'DLGS', 'DITC', 'DFVS']: YFPricesMissingError('possibly delisted; no price data found  (1d 2025-03-23 -> 2025-03-30)')\n",
      "['DFHT', 'DLPH', 'DPHC', 'DISA', 'DEH', 'DFRG', 'DMS', 'DGNU', 'DNZ', 'DMPI', 'DIVX', 'DHXM', 'DNAY', 'DOVA', 'DEAC', 'DNI', 'DOTA', 'DEX', 'DHCA', 'DNAC', 'DF', 'DLCA', 'DNBF', 'DHBC', 'DFNS', 'DELT', 'DGNR', 'DICE', 'DNJR', 'DNAA', 'DNKN', 'DFFN', 'DNK', 'DGNS', 'DGSE', 'DEN', 'DMAQ', 'DNR', 'DEST', 'DISH', 'DNAD', 'DNAB', 'DFBH', 'DILA', 'DHHC']: YFTzMissingError('possibly delisted; no timezone found')\n",
      "['DHAC', 'DO', 'DLA', 'DOOR', 'DOMA', 'DMK', 'DMTK']: YFPricesMissingError('possibly delisted; no price data found  (1d 2025-03-23 -> 2025-03-30) (Yahoo error = \"No data found, symbol may be delisted\")')\n"
     ]
    },
    {
     "name": "stdout",
     "output_type": "stream",
     "text": [
      "(0, 100)\n"
     ]
    },
    {
     "name": "stderr",
     "output_type": "stream",
     "text": [
      "[**                     4%                       ]  4 of 100 completed"
     ]
    },
    {
     "name": "stdout",
     "output_type": "stream",
     "text": [
      "Batch: DPLO - ECBE\r"
     ]
    },
    {
     "name": "stderr",
     "output_type": "stream",
     "text": [
      "[*********************100%***********************]  100 of 100 completed\n",
      "\n",
      "100 Failed downloads:\n",
      "['DPTR', 'DXJC', 'DZTK', 'DWRE', 'EASY', 'ECBE', 'DWA', 'DTHK', 'DTUS', 'DRRA', 'DWCH', 'DTYL', 'EBOD', 'ECAC', 'DWID', 'DRTK', 'DXJR', 'DTUL', 'DWRI', 'DTSI', 'DVSA', 'EACU', 'DRTE', 'DWTT', 'DSCO', 'DXUS', 'DSG', 'DSCM', 'DUCK', 'DRAX', 'EASI', 'DW', 'EBTX', 'DRUA', 'DXJH', 'EACQ', 'DRA', 'DTPI', 'DWTN', 'DWMT', 'DSCP', 'EBSC', 'DRYR', 'DSCI', 'DTYS', 'DSKY', 'DTLK', 'DRII', 'DVHI', 'DPMI', 'DRMT']: YFPricesMissingError('possibly delisted; no price data found  (1d 2025-03-23 -> 2025-03-30)')\n",
      "['DRAD', 'ECAV', 'DXI', 'DSKE', 'DUNE', 'DTQ', 'DSSI', 'DUC', 'DRTT', 'DPM', 'EAE', 'EBSB', 'DTP', 'DTWO', 'DYNS', 'DSAC', 'DYFN', 'DS', 'DXPS', 'DTLR', 'DVD', 'EAC', 'DWIN', 'DWAC', 'DSPG', 'EAR', 'EAB', 'EBIX', 'DRYS', 'EBAC', 'DSUP', 'EARS', 'ECA', 'DVCR', 'DRAY', 'DSEY', 'DTRT', 'DPLO', 'DRCO', 'DSE', 'DTOC', 'DPW', 'DRE', 'DRNA', 'EBHI']: YFTzMissingError('possibly delisted; no timezone found')\n",
      "['EAST', 'DPSI', 'DRQ', 'DTEA']: YFPricesMissingError('possibly delisted; no price data found  (1d 2025-03-23 -> 2025-03-30) (Yahoo error = \"No data found, symbol may be delisted\")')\n"
     ]
    },
    {
     "name": "stdout",
     "output_type": "stream",
     "text": [
      "(0, 100)\n"
     ]
    },
    {
     "name": "stderr",
     "output_type": "stream",
     "text": [
      "[*                      3%                       ]  3 of 100 completed"
     ]
    },
    {
     "name": "stdout",
     "output_type": "stream",
     "text": [
      "Batch: ECC - EMG\r"
     ]
    },
    {
     "name": "stderr",
     "output_type": "stream",
     "text": [
      "[*********************100%***********************]  100 of 100 completed\n",
      "\n",
      "86 Failed downloads:\n",
      "['EIA', 'EF', 'EMBB', 'ECMV', 'ELMG', 'EDGW', 'ELBO', 'ECYT', 'ELOQ', 'EFJI', 'EGAS', 'EMG', 'EGN', 'EMFT', 'ECST', 'EMCD', 'ELAM', 'EIHI', 'EFUT', 'ECIL', 'EEHB', 'EIGR', 'EEP', 'ELEC', 'ECCY', 'ECLG', 'EJ', 'EDSN', 'EEEE', 'ELOY', 'EMBX', 'EGC', 'EEGL', 'EDAC', 'ELTE', 'EDE', 'EGT', 'ELNK', 'ELU', 'EICU', 'EDGR', 'ELRC', 'EELN']: YFPricesMissingError('possibly delisted; no price data found  (1d 2025-03-23 -> 2025-03-30)')\n",
      "['ELVT', 'EGOV', 'EHT', 'EDI', 'EGIF', 'ECT', 'EGLX', 'EHR', 'EGI', 'EMBK', 'ELAT', 'EMCI', 'ELXR', 'EGLE', 'EIDX', 'ECOL', 'EDCI', 'EJFA', 'ELMS', 'EFHT', 'ECOM', 'EMCF', 'EIGI', 'EGGF', 'EDTX', 'ELCC', 'ELGX', 'EFF', 'EMDA', 'ELY', 'EFZL', 'EENC', 'EFL', 'EFII', 'ECHO', 'EFBI', 'EDNT', 'EEI', 'ELJ']: YFTzMissingError('possibly delisted; no timezone found')\n",
      "['EGIO', 'ELYM', 'EDNC', 'ELIQ']: YFPricesMissingError('possibly delisted; no price data found  (1d 2025-03-23 -> 2025-03-30) (Yahoo error = \"No data found, symbol may be delisted\")')\n"
     ]
    },
    {
     "name": "stdout",
     "output_type": "stream",
     "text": [
      "(5, 86)\n"
     ]
    },
    {
     "name": "stderr",
     "output_type": "stream",
     "text": [
      "[*                      3%                       ]  3 of 100 completed"
     ]
    },
    {
     "name": "stdout",
     "output_type": "stream",
     "text": [
      "Batch: EMHZ - ETM\r"
     ]
    },
    {
     "name": "stderr",
     "output_type": "stream",
     "text": [
      "[*********************100%***********************]  100 of 100 completed\n",
      "\n",
      "100 Failed downloads:\n",
      "['EMKR', 'EQGP', 'EPIQ', 'ERYY', 'EPIK', 'ESD', 'ESSF', 'ENSI', 'EQY', 'ESIO', 'ESIC', 'EPEX', 'EMXX', 'ETE', 'EMSA', 'EMQ', 'EPHC', 'ENTL', 'ESCH', 'ENCY', 'EPMD', 'ENTU', 'EMPW', 'EMHZ', 'EMI', 'ERS', 'ENOC', 'EOCA', 'EPIC', 'ENMC', 'ERGF', 'EMSD', 'ERTS', 'ESND', 'EMSO', 'EPEN', 'EMLB', 'EPNY', 'ENLC', 'ESUS', 'ERT', 'ENWV', 'ESPD', 'ESRX', 'ETAK', 'ENZY', 'ESST', 'ENH', 'EPG', 'ESLR', 'EPRE']: YFPricesMissingError('possibly delisted; no price data found  (1d 2025-03-23 -> 2025-03-30)')\n",
      "['ENDP', 'ETAO', 'EMLD', 'ENV', 'ENJY', 'ERF']: YFPricesMissingError('possibly delisted; no price data found  (1d 2025-03-23 -> 2025-03-30) (Yahoo error = \"No data found, symbol may be delisted\")')\n",
      "['ERES', 'EQM', 'ESTR', 'ERA', 'ESTE', 'ESV', 'EQRX', 'ESMT', 'ENFC', 'EQOS', 'ESBK', 'ESGC', 'ETM', 'ESMK', 'EMWP', 'ENT', 'ENTF', 'EROS', 'ENOB', 'ESM', 'EQD', 'ENVI', 'ENPC', 'ENBA', 'ENNV', 'ETAC', 'ESSC', 'ENER', 'ETFC', 'EOCW', 'EPWR', 'ESAC', 'EPOC', 'ERNB', 'ENCP', 'ERI', 'EPHY', 'ESXB', 'ETEL', 'EPAY', 'EPZM', 'EQHA', 'ENCX']: YFTzMissingError('possibly delisted; no timezone found')\n"
     ]
    },
    {
     "name": "stdout",
     "output_type": "stream",
     "text": [
      "(0, 100)\n"
     ]
    },
    {
     "name": "stderr",
     "output_type": "stream",
     "text": [
      "[*                      3%                       ]  3 of 100 completed"
     ]
    },
    {
     "name": "stdout",
     "output_type": "stream",
     "text": [
      "Batch: ETRM - FDML\r"
     ]
    },
    {
     "name": "stderr",
     "output_type": "stream",
     "text": [
      "[*********************100%***********************]  100 of 100 completed\n",
      "\n",
      "100 Failed downloads:\n",
      "['FBEI', 'FBMT', 'FBMI', 'ETWC', 'FCEC', 'FAUS', 'FACE', 'FBRC', 'FDI', 'FCFC', 'FAV', 'EURO', 'EZFL', 'FCLF', 'FCFL', 'EXJF', 'FCPO', 'EVAC', 'FBST', 'EVVV', 'EXEA', 'FCS', 'EVDY', 'EUBK', 'FCFP', 'EXBD', 'FADV', 'EUFS', 'EXAM', 'EXAC', 'FDCC', 'ETRM', 'FDML', 'EZEM', 'EZT', 'EYET', 'FCH', 'FAOO', 'EXXI', 'EVHC', 'EXCO', 'FBNW', 'EURX', 'FCSE', 'FBG', 'EXEE', 'FBAY', 'EVBS', 'EVST', 'FCGI', 'EXA']: YFPricesMissingError('possibly delisted; no price data found  (1d 2025-03-23 -> 2025-03-30)')\n",
      "['FCRD', 'FBCM', 'FABK', 'FDEU', 'FDEF', 'FALB', 'FBNK', 'EVOJ', 'EVSI', 'FCRZ', 'FCRW', 'EXD', 'EYES', 'EXN', 'EUCR', 'EVOP', 'EXTN', 'FCEB', 'FCAC', 'EXPR', 'FCAX', 'FATP', 'FCSX', 'FBSS', 'FACA', 'FCSC', 'FB', 'EXPC', 'EUSG', 'FCBP', 'FCAU', 'EXFO', 'FBC', 'FAII', 'FAZZ', 'FAZE', 'FDC', 'FBHS', 'FBM', 'FCEA']: YFTzMissingError('possibly delisted; no timezone found')\n",
      "['ETTX', 'EVE', 'FATH', 'ETRN', 'FAM', 'EVK', 'EVBG', 'EXTO', 'EURN']: YFPricesMissingError('possibly delisted; no price data found  (1d 2025-03-23 -> 2025-03-30) (Yahoo error = \"No data found, symbol may be delisted\")')\n"
     ]
    },
    {
     "name": "stdout",
     "output_type": "stream",
     "text": [
      "(0, 100)\n"
     ]
    },
    {
     "name": "stderr",
     "output_type": "stream",
     "text": [
      "[**                     5%                       ]  5 of 100 completed"
     ]
    },
    {
     "name": "stdout",
     "output_type": "stream",
     "text": [
      "Batch: FDRY - FNBG\r"
     ]
    },
    {
     "name": "stderr",
     "output_type": "stream",
     "text": [
      "[*********************100%***********************]  100 of 100 completed\n",
      "\n",
      "100 Failed downloads:\n",
      "['FENX', 'FFHH', 'FFFD', 'FLSH', 'FMKT', 'FMCN', 'FHCC', 'FHC', 'FIGY', 'FMSA', 'FEEU', 'FIBG', 'FICC', 'FFDB', 'FKFS', 'FFFL', 'FLYI', 'FFKT', 'FMAX', 'FFCH', 'FESX', 'FFBI', 'FINB', 'FINL', 'FMCO', 'FFEX', 'FNBF', 'FLPB', 'FMSB', 'FHRX', 'FLDD', 'FEIC', 'FEDL', 'FMDG', 'FILE', 'FLBK', 'FIRE', 'FEHY', 'FMFC', 'FFKY', 'FFBZ', 'FMER', 'FFSW', 'FFHS', 'FLTX', 'FMLP', 'FNBG', 'FMD', 'FLYR', 'FIEU', 'FFFS', 'FFBK', 'FLAT', 'FMI']: YFPricesMissingError('possibly delisted; no price data found  (1d 2025-03-23 -> 2025-03-30)')\n",
      "['FEI', 'FISV', 'FEXD', 'FLFV', 'FEN', 'FIF', 'FIAC']: YFPricesMissingError('possibly delisted; no price data found  (1d 2025-03-23 -> 2025-03-30) (Yahoo error = \"No data found, symbol may be delisted\")')\n",
      "['FMBI', 'FLAC', 'FIT', 'FGH', 'FGP', 'FIXX', 'FFG', 'FMCI', 'FIII', 'FGXI', 'FDRY', 'FELP', 'FMAC', 'FII', 'FLKS', 'FMTX', 'FIEF', 'FFDP', 'FGDY', 'FEO', 'FLLC', 'FIV', 'FLAG', 'FICV', 'FFHL', 'FLYA', 'FLIR', 'FGNA', 'FLT', 'FLME', 'FLDM', 'FINM', 'FLMN', 'FEYE', 'FHS', 'FLAI', 'FMDA', 'FMIV', 'FLXN']: YFTzMissingError('possibly delisted; no timezone found')\n"
     ]
    },
    {
     "name": "stdout",
     "output_type": "stream",
     "text": [
      "(0, 100)\n"
     ]
    },
    {
     "name": "stderr",
     "output_type": "stream",
     "text": [
      "\r",
      "[                       0%                       ]"
     ]
    },
    {
     "name": "stdout",
     "output_type": "stream",
     "text": [
      "Batch: FNBN - FTGX\r"
     ]
    },
    {
     "name": "stderr",
     "output_type": "stream",
     "text": [
      "[*********************100%***********************]  100 of 100 completed\n",
      "\n",
      "100 Failed downloads:\n",
      "['FOIL', 'FNFV', 'FOBB', 'FRNS', 'FOOT', 'FOXH', 'FNET', 'FSBI', 'FNDT', 'FNFG', 'FTGX', 'FNBN', 'FSCI', 'FPTB', 'FNHC', 'FTFC', 'FSC', 'FSPR', 'FNSC', 'FNCF', 'FSNM', 'FRTX', 'FSIN', 'FPFC', 'FPO', 'FRP', 'FOGO', 'FSAC', 'FNFN', 'FSFR', 'FPIC', 'FSLA', 'FRGO', 'FSYS', 'FNIS', 'FTCG', 'FTBK', 'FSTP', 'FNVT', 'FSBK', 'FTDI', 'FNTE']: YFPricesMissingError('possibly delisted; no price data found  (1d 2025-03-23 -> 2025-03-30)')\n",
      "['FSRV', 'FRX', 'FSLF', 'FRNT', 'FOCS', 'FOMX', 'FSB', 'FTAC', 'FTCH', 'FPAC', 'FNSR', 'FTD', 'FST', 'FPRX', 'FTEV', 'FSDC', 'FNJN', 'FNDR', 'FSCT', 'FOE', 'FRAN', 'FSII', 'FREQ', 'FSTX', 'FNPC', 'FRON', 'FSLB', 'FORK', 'FSNB', 'FRF', 'FRXB', 'FTAA', 'FSRD', 'FRED', 'FRGI', 'FRTA', 'FRAC', 'FRBN', 'FSR', 'FSKR', 'FORE', 'FNGN', 'FRW', 'FRC', 'FSSI', 'FRSG', 'FTCV', 'FSRX', 'FOXW', 'FORG', 'FSTM']: YFTzMissingError('possibly delisted; no timezone found')\n",
      "['FREE', 'FOUN', 'FNCB', 'FPL', 'FSD', 'FRBK', 'FRG']: YFPricesMissingError('possibly delisted; no price data found  (1d 2025-03-23 -> 2025-03-30) (Yahoo error = \"No data found, symbol may be delisted\")')\n"
     ]
    },
    {
     "name": "stdout",
     "output_type": "stream",
     "text": [
      "(0, 100)\n"
     ]
    },
    {
     "name": "stderr",
     "output_type": "stream",
     "text": [
      "[*                      3%                       ]  3 of 100 completed"
     ]
    },
    {
     "name": "stdout",
     "output_type": "stream",
     "text": [
      "Batch: FTHR - GFN\r"
     ]
    },
    {
     "name": "stderr",
     "output_type": "stream",
     "text": [
      "[*********************100%***********************]  99 of 100 completed\n",
      "\n",
      "100 Failed downloads:\n",
      "['FXEU', 'FXJP', 'GETI', 'GBNK', 'FWHT', 'FXCM', 'GEHL', 'GDJS', 'GADZ', 'GAS', 'GDF', 'GEAC', 'FTHR', 'FTLK', 'FXRE', 'GEQ', 'GDYS', 'FXCB', 'GFLS', 'GBCB', 'GCBS', 'FVCX', 'GAZB', 'GEDU', 'FWM', 'GEMS', 'GDJJ', 'GCFC', 'GFA', 'FULL', 'FTWR', 'FUSA', 'GCOM', 'FUEL', 'GBTS', 'FXCO', 'GENZ', 'GEOI', 'GEUR', 'FWFC', 'GBTB', 'FUR', 'GAIT', 'GEOY', 'GEXA', 'FXEP']: YFPricesMissingError('possibly delisted; no price data found  (1d 2025-03-23 -> 2025-03-30)')\n",
      "['GFED', 'GFLU', 'FWAC', 'GEMP', 'GBLL', 'GCAC', 'GCP', 'FZT', 'FVAC', 'FTSI', 'FTW', 'GACQ', 'GFN', 'FWAA', 'GARS', 'FTR', 'FUSE', 'FTPA', 'GAPA', 'GBLK', 'FTNW', 'GBNH', 'GDI', 'GDNR', 'GBRG', 'FVIV', 'GER', 'GFIS', 'GBL', 'FVE', 'GBOX', 'FVT', 'GBS', 'FTIV', 'FTRP', 'GCAP', 'GBT', 'GDCT', 'GECX', 'FUJI', 'FTOC', 'GEOV', 'GDP', 'GFGD', 'FTVI', 'FTSV', 'GEAR']: YFTzMissingError('possibly delisted; no timezone found')\n",
      "['GENQ', 'GAQ', 'GAMC', 'GEEX', 'FWBI', 'GATO', 'FUSN']: YFPricesMissingError('possibly delisted; no price data found  (1d 2025-03-23 -> 2025-03-30) (Yahoo error = \"No data found, symbol may be delisted\")')\n"
     ]
    },
    {
     "name": "stdout",
     "output_type": "stream",
     "text": [
      "(0, 100)\n"
     ]
    },
    {
     "name": "stderr",
     "output_type": "stream",
     "text": [
      "[*                      3%                       ]  3 of 100 completed"
     ]
    },
    {
     "name": "stdout",
     "output_type": "stream",
     "text": [
      "Batch: GFOR - GOV\r"
     ]
    },
    {
     "name": "stderr",
     "output_type": "stream",
     "text": [
      "[*********************100%***********************]  100 of 100 completed\n",
      "\n",
      "100 Failed downloads:\n",
      "['GOV', 'GLDC', 'GFSI', 'GIVN', 'GFRE', 'GNSC', 'GLF', 'GGXY', 'GMC', 'GLBC', 'GMR', 'GMT', 'GMST', 'GLFD', 'GISX', 'GMDA', 'GHCI', 'GHS', 'GLGS', 'GGNS', 'GORX', 'GMTA', 'GGAC', 'GMRK', 'GLGL', 'GMTN', 'GNBC', 'GLYT', 'GKSR', 'GOAM', 'GNSY', 'GI', 'GNLB', 'GNET', 'GNVC', 'GGUY', 'GMTC', 'GGP', 'GMKT', 'GMAI', 'GLBK', 'GNRT', 'GLGC', 'GKIS']: YFPricesMissingError('possibly delisted; no price data found  (1d 2025-03-23 -> 2025-03-30)')\n",
      "['GIA', 'GMEB', 'GMO', 'GFX', 'GGAA', 'GOGN', 'GNCA', 'GHL', 'GGGV', 'GMTX', 'GMVD', 'GLUU', 'GLEE', 'GNAC', 'GNMX', 'GMBT', 'GLHA', 'GHIV', 'GLEO', 'GIK', 'GGO', 'GGE', 'GGOV', 'GMHI', 'GHDX', 'GIIX', 'GIX', 'GIW', 'GMII', 'GNMK', 'GLS', 'GFOR', 'GMZ', 'GIGZ', 'GHAC', 'GLOP', 'GOAC', 'GIM', 'GLOG', 'GNUS', 'GLTA', 'GIAC', 'GFY', 'GNC', 'GHVI', 'GOBI', 'GGMC', 'GLAQ', 'GGPI', 'GNPK', 'GLG']: YFTzMissingError('possibly delisted; no timezone found')\n",
      "['GHIX', 'GODN', 'GNOG', 'GLT', 'GNRS']: YFPricesMissingError('possibly delisted; no price data found  (1d 2025-03-23 -> 2025-03-30) (Yahoo error = \"No data found, symbol may be delisted\")')\n"
     ]
    },
    {
     "name": "stdout",
     "output_type": "stream",
     "text": [
      "(0, 100)\n"
     ]
    },
    {
     "name": "stderr",
     "output_type": "stream",
     "text": [
      "\r",
      "[                       0%                       ]"
     ]
    },
    {
     "name": "stdout",
     "output_type": "stream",
     "text": [
      "Batch: GPAC - HAR\r"
     ]
    },
    {
     "name": "stderr",
     "output_type": "stream",
     "text": [
      "[*********************100%***********************]  100 of 100 completed\n",
      "\n",
      "100 Failed downloads:\n",
      "['GVHR', 'GZBX', 'GURI', 'GPCB', 'HAR', 'GRKA', 'GRIC', 'GREY', 'HANS', 'GSLA', 'GZMO', 'GVBK', 'GSTL', 'GRRF', 'GPIA', 'GSI', 'GXDX', 'GUID', 'GSLI', 'GYMB', 'HACV', 'GRAN', 'GSIC', 'GTSI', 'HANA', 'GTWN', 'GYEN', 'GUPB', 'GSV', 'HACW', 'HAKI', 'GTRC', 'GXP', 'GRWN', 'GST', 'GPT', 'GWL']: YFPricesMissingError('possibly delisted; no price data found  (1d 2025-03-23 -> 2025-03-30)')\n",
      "['GSHT', 'HAKK', 'GPIC', 'GTS', 'GRIF', 'GRA', 'GRNV', 'GRSV', 'GRPH', 'GTYH', 'GSQB', 'HAIR', 'GXGX', 'GSAH', 'GRIL', 'GPL', 'GRVI', 'GSMG', 'HABT', 'GPX', 'GPM', 'GTT', 'GSRM', 'GTXI', 'HAPP', 'GWAC', 'GPCO', 'GPAQ', 'GSVC', 'GSLD', 'GVCI', 'GSEV', 'GXII', 'GSD', 'GSX', 'GWR', 'GRNA', 'GSKY', 'GRCY', 'GRSH', 'GSEC', 'GRUB', 'GWB', 'GSB', 'GWII', 'GWGH', 'GRAY', 'GTPA', 'GTPB', 'GSH', 'GSQD', 'HAAC']: YFTzMissingError('possibly delisted; no timezone found')\n",
      "['GRTS', 'HA', 'GSS', 'GTHX', 'GSAQ', 'GRIN', 'GPS', 'GPAC', 'GTAC', 'GVP', 'GRDI']: YFPricesMissingError('possibly delisted; no price data found  (1d 2025-03-23 -> 2025-03-30) (Yahoo error = \"No data found, symbol may be delisted\")')\n"
     ]
    },
    {
     "name": "stdout",
     "output_type": "stream",
     "text": [
      "(0, 100)\n"
     ]
    },
    {
     "name": "stderr",
     "output_type": "stream",
     "text": [
      "\r",
      "[                       0%                       ]\r",
      "[                       0%                       ]\r",
      "[                       0%                       ]\r",
      "[                       0%                       ]"
     ]
    },
    {
     "name": "stdout",
     "output_type": "stream",
     "text": [
      "Batch: HARB - HLBZ\r"
     ]
    },
    {
     "name": "stderr",
     "output_type": "stream",
     "text": [
      "[*********************100%***********************]  100 of 100 completed\n",
      "\n",
      "100 Failed downloads:\n",
      "['HCBB', 'HEVY', 'HEOP', 'HHYX', 'HDRA', 'HCRF', 'HFFC', 'HGIC', 'HGEN', 'HCN', 'HCP', 'HBNK', 'HCXZ', 'HGSI', 'HDEE', 'HDNG', 'HBEK', 'HIFN', 'HCFC', 'HDP', 'HAYZ', 'HEGJ', 'HCTL', 'HEMV', 'HGRD', 'HHY', 'HIRE', 'HBE', 'HEPH', 'HDRW', 'HDTV', 'HEFV', 'HEUV', 'HGEU', 'HGJP', 'HGGR', 'HBHC', 'HITK', 'HAVS', 'HHGP', 'HKAC', 'HAST', 'HGG', 'HEUS', 'HARB']: YFPricesMissingError('possibly delisted; no price data found  (1d 2025-03-23 -> 2025-03-30)')\n",
      "['HCNE', 'HCAP', 'HGH', 'HCCI', 'HEPR', 'HARP', 'HILS', 'HCII', 'HBP', 'HIFR', 'HHRS', 'HFC', 'HCAR', 'HBMD', 'HCCO', 'HCIC', 'HHT', 'HJLI', 'HLAH', 'HCDI', 'HCHC', 'HCFT', 'HKOR', 'HERA', 'HFBC', 'HEB', 'HHC', 'HGSH', 'HIII', 'HEBT', 'HEC', 'HDIX', 'HHHH', 'HFEN', 'HCCC', 'HCAC', 'HEXO', 'HIIQ', 'HIL', 'HK', 'HCMA', 'HLBZ', 'HCAQ', 'HINT', 'HDS', 'HCCH', 'HEMO', 'HCR', 'HIGA', 'HBK']: YFTzMissingError('possibly delisted; no timezone found')\n",
      "['HHGC', 'HAYN', 'HIBB', 'HEAR', 'HIE']: YFPricesMissingError('possibly delisted; no price data found  (1d 2025-03-23 -> 2025-03-30) (Yahoo error = \"No data found, symbol may be delisted\")')\n"
     ]
    },
    {
     "name": "stdout",
     "output_type": "stream",
     "text": [
      "(0, 100)\n"
     ]
    },
    {
     "name": "stderr",
     "output_type": "stream",
     "text": [
      "[**                     5%                       ]  5 of 100 completed"
     ]
    },
    {
     "name": "stdout",
     "output_type": "stream",
     "text": [
      "Batch: HLEX - HWCC\r"
     ]
    },
    {
     "name": "stderr",
     "output_type": "stream",
     "text": [
      "[*********************100%***********************]  100 of 100 completed\n",
      "\n",
      "100 Failed downloads:\n",
      "['HNT', 'HUMC', 'HPRT', 'HNR', 'HLYW', 'HLEX', 'HMNA', 'HRAY', 'HSFT', 'HUMP', 'HRLY', 'HNSN', 'HNH', 'HRBN', 'HOTT', 'HOFF', 'HRG', 'HMIN', 'HQCL', 'HOGS', 'HPY', 'HTFA', 'HSNI', 'HTLF', 'HTHR', 'HMLK', 'HTRN', 'HW', 'HOMX', 'HTCH', 'HTM', 'HLFC', 'HOT', 'HNBC', 'HTWR', 'HSWI', 'HPOL', 'HUGH', 'HOMF', 'HRBT', 'HRSH', 'HORC', 'HMSL', 'HUVL', 'HLYS']: YFPricesMissingError('possibly delisted; no price data found  (1d 2025-03-23 -> 2025-03-30)')\n",
      "['HTPA', 'HSAQ', 'HMAC', 'HMA', 'HOL', 'HUAK', 'HMPT', 'HMU', 'HTBX', 'HPR', 'HUGS', 'HPLT', 'HPJ', 'HTGM', 'HMHC', 'HUSN', 'HWCC', 'HPT', 'HPX', 'HSC', 'HOMS', 'HMLP', 'HMG', 'HMCO', 'HLXA', 'HNGR', 'HVBT', 'HVBC', 'HSTX', 'HRC', 'HTA', 'HUD', 'HMTV', 'HUBA', 'HOS', 'HMSY', 'HPGP', 'HOME', 'HTY', 'HORI', 'HSGX', 'HSKA', 'HNP', 'HSAC', 'HT', 'HMTA', 'HTAQ']: YFTzMissingError('possibly delisted; no timezone found')\n",
      "['HRT', 'HUGE', 'HMNF', 'HRYU', 'HSTO', 'HOLI', 'HNRA', 'HLTH']: YFPricesMissingError('possibly delisted; no price data found  (1d 2025-03-23 -> 2025-03-30) (Yahoo error = \"No data found, symbol may be delisted\")')\n"
     ]
    },
    {
     "name": "stdout",
     "output_type": "stream",
     "text": [
      "(0, 100)\n"
     ]
    },
    {
     "name": "stderr",
     "output_type": "stream",
     "text": [
      "\r",
      "[                       0%                       ]\r",
      "[                       0%                       ]\r",
      "[                       0%                       ]\r",
      "[                       0%                       ]"
     ]
    },
    {
     "name": "stdout",
     "output_type": "stream",
     "text": [
      "Batch: HWEL - IGW\r"
     ]
    },
    {
     "name": "stderr",
     "output_type": "stream",
     "text": [
      "[*********************100%***********************]  100 of 100 completed\n",
      "\n",
      "100 Failed downloads:\n",
      "['IDNX', 'IELG', 'IFCJ', 'IAAI', 'IBCC', 'HYGO', 'IASG', 'ICOG', 'IBAS', 'HYDL', 'IFON', 'IAM', 'IBLN', 'ICDG', 'IFUL', 'IAIA', 'ICCA', 'IDPH', 'IESM', 'IAAC', 'ICOC', 'IDWK', 'HYF', 'ICOS', 'IDMI', 'ICAB', 'IFMI', 'IACI', 'ICB', 'HZNP', 'IEIS', 'ICCI', 'IEDU', 'IEIL', 'IFOX', 'IBDH', 'IFCN', 'HYSL', 'ICBC', 'ICA', 'ICGN', 'IDI', 'IGU', 'IBCB', 'IBDB', 'ICCH', 'IATV', 'HYB', 'IDBE', 'IFCB', 'IGW', 'ICST', 'IGS', 'IDXC', 'ICTS', 'HYBD', 'IFLO', 'ICEL', 'ICTG']: YFPricesMissingError('possibly delisted; no price data found  (1d 2025-03-23 -> 2025-03-30)')\n",
      "['IAIC', 'IEA', 'IEC', 'HYRE', 'ICPT', 'IGAP', 'IBKC', 'IGNY', 'IGAC', 'HWEL', 'HYGS', 'IACA', 'IDW', 'HZON', 'IDHB', 'IDRA', 'IAA', 'IACB', 'I', 'ICXT', 'ICVX', 'HZN', 'IBER', 'IDSY', 'ID', 'ICNC', 'IBDA', 'IFLG', 'HYMF', 'IDSA', 'HZAC', 'HYDG', 'IACC', 'IBMF', 'IDTI', 'HWKZ']: YFTzMissingError('possibly delisted; no timezone found')\n",
      "['ICBK', 'IDEX', 'IFIN', 'IBTX', 'ICD']: YFPricesMissingError('possibly delisted; no price data found  (1d 2025-03-23 -> 2025-03-30) (Yahoo error = \"No data found, symbol may be delisted\")')\n"
     ]
    },
    {
     "name": "stdout",
     "output_type": "stream",
     "text": [
      "(0, 100)\n"
     ]
    },
    {
     "name": "stderr",
     "output_type": "stream",
     "text": [
      "[*                      3%                       ]  3 of 100 completed"
     ]
    },
    {
     "name": "stdout",
     "output_type": "stream",
     "text": [
      "Batch: IGZ - IPOA\r"
     ]
    },
    {
     "name": "stderr",
     "output_type": "stream",
     "text": [
      "[*********************100%***********************]  98 of 100 completed\n",
      "\n",
      "100 Failed downloads:\n",
      "['INXI', 'IL', 'INPC', 'INTX', 'IOC', 'IMCO', 'INFN', 'INET', 'INFS', 'IIIM', 'IPAS', 'ILSE', 'IMGC', 'INDM', 'IMS', 'IMED', 'IMN', 'IMMC', 'INOC', 'IPCC', 'IPCR', 'INHO', 'ILG', 'INZ', 'IJNK', 'INHX', 'IPCS', 'IINT', 'INCB', 'IM', 'INSI', 'INDU', 'INTN', 'INY', 'IPMT', 'IONA', 'IMMY', 'INNL', 'IOMI', 'IOTN', 'ININ', 'INRG', 'INLD', 'ILOG', 'IMPV', 'IOIL', 'IMAN', 'INCX', 'INKP', 'IMPR']: YFPricesMissingError('possibly delisted; no price data found  (1d 2025-03-23 -> 2025-03-30)')\n",
      "['INS', 'IMGN', 'IMI', 'IHIT', 'IMMU', 'IIN', 'INSU', 'ILNX', 'IMPL', 'INKA', 'IO', 'INNT', 'INXN', 'INAP', 'INSY', 'IMV', 'IMH', 'IOTS', 'IIVI', 'IPHS', 'IID', 'IMRA', 'IMDZ', 'IOAC', 'IHC', 'INGP', 'IIII', 'IIAC', 'IMAC', 'IPAX', 'INF', 'IPOA', 'IPHI', 'INB', 'IMGO', 'IGZ', 'IKAR', 'IMPX', 'INWK', 'IHTT', 'IKNX', 'INPX', 'INDT', 'INFI', 'INT']: YFTzMissingError('possibly delisted; no timezone found')\n",
      "['INXB', 'IHTA', 'INST', 'INAQ', 'INVO']: YFPricesMissingError('possibly delisted; no price data found  (1d 2025-03-23 -> 2025-03-30) (Yahoo error = \"No data found, symbol may be delisted\")')\n"
     ]
    },
    {
     "name": "stdout",
     "output_type": "stream",
     "text": [
      "(0, 100)\n"
     ]
    },
    {
     "name": "stderr",
     "output_type": "stream",
     "text": [
      "[*                      3%                       ]  3 of 100 completed"
     ]
    },
    {
     "name": "stdout",
     "output_type": "stream",
     "text": [
      "Batch: IPOB - JGGC\r"
     ]
    },
    {
     "name": "stderr",
     "output_type": "stream",
     "text": [
      "[**********************99%***********************]  99 of 100 completed\n",
      "\n",
      "100 Failed downloads:\n",
      "['ISIL', 'JAMS', 'ISKO', 'IRIS', 'IVOP', 'JBRI', 'IVGN', 'ISSX', 'IRIC', 'ITXC', 'ITLA', 'IPXL', 'IVTY', 'IXYS', 'ITIP', 'ISLD', 'IWOV', 'IPXX', 'IPSU', 'ISTA', 'ITML', 'IUSA', 'IQNT', 'IVIS', 'IVTA', 'JFBI', 'IRGI', 'ITXG', 'ISPH', 'ISIS', 'IVIL', 'JDAS', 'JAH', 'ITEK', 'ITMS', 'JAAC', 'ITR', 'ITRA', 'ISYS', 'JCDA']: YFPricesMissingError('possibly delisted; no price data found  (1d 2025-03-23 -> 2025-03-30)')\n",
      "['ISM', 'ITQ', 'IPVF', 'JAQC', 'ISOS', 'ISCA', 'ISNS', 'IRKO', 'JGBB', 'JGGC', 'IPOB', 'JASN', 'IPVI', 'ISSU', 'IRR', 'IRNT', 'JE', 'IPOD', 'JDD', 'ITHX', 'ISOT', 'JEC', 'IPOF', 'IVAN', 'JEMD', 'ISAA', 'IRL', 'IPV', 'JATT', 'IPVA', 'ISIG', 'ITCA', 'JASO', 'ITLN', 'IPOC', 'ISO', 'ITAC', 'JCAP', 'IS', 'JCS', 'JCIC', 'IVC', 'IVH', 'ISLE', 'JAX', 'ITAQ', 'JAG', 'JCO', 'ISLN', 'JCP', 'IPOE', 'ISBC', 'ISEE', 'ISR']: YFTzMissingError('possibly delisted; no timezone found')\n",
      "['JBT', 'JAN', 'ISDR', 'ITI', 'IQMD', 'IVCP']: YFPricesMissingError('possibly delisted; no price data found  (1d 2025-03-23 -> 2025-03-30) (Yahoo error = \"No data found, symbol may be delisted\")')\n"
     ]
    },
    {
     "name": "stdout",
     "output_type": "stream",
     "text": [
      "(0, 100)\n"
     ]
    },
    {
     "name": "stderr",
     "output_type": "stream",
     "text": [
      "[**                     4%                       ]  4 of 100 completed"
     ]
    },
    {
     "name": "stdout",
     "output_type": "stream",
     "text": [
      "Batch: JGV - KFFG\r"
     ]
    },
    {
     "name": "stderr",
     "output_type": "stream",
     "text": [
      "[*********************100%***********************]  100 of 100 completed\n",
      "\n",
      "100 Failed downloads:\n",
      "['KFED', 'JMG', 'JJTB', 'JUPM', 'JJUB', 'KANG', 'JSC', 'JJMB', 'JGV', 'JGX', 'JPNS', 'JST', 'JMI', 'JNIC', 'JJAB', 'KEYN', 'JJCB', 'KBWI', 'JIB', 'JMBA', 'KEMP', 'KEYP', 'JMDT', 'KED', 'JHFT', 'JLMI', 'JXSB', 'JJEB', 'KBAY', 'JXVL', 'KEYW', 'KBWC', 'KCG', 'JJGB', 'JJSB', 'JHA', 'JUNO', 'JGW', 'JNP', 'JTPY', 'JOSB', 'KERX', 'KENT', 'KFFG', 'KATE', 'KFBI', 'JJPB', 'JMBI', 'KDC', 'JOYG', 'JPX']: YFPricesMissingError('possibly delisted; no price data found  (1d 2025-03-23 -> 2025-03-30)')\n",
      "['JYAC', 'JHB', 'JSYN', 'JHD', 'JMF', 'KAIR', 'JTA', 'KAMN', 'JP', 'JRO', 'KDMN', 'JHY', 'KAII', 'KBSF', 'JUPW', 'JUGG', 'JHAA', 'JMLP', 'JWB', 'JSD', 'KAAC', 'JWA', 'KCAP', 'KDNY', 'KAHC', 'JPP', 'JMP', 'JMT', 'JOAN', 'JOFF', 'JNCE', 'JMPE', 'KBLM', 'JUN', 'KAL', 'JTD', 'KEG', 'JWS', 'JMPB', 'KERN', 'JIH', 'JWAC', 'JMAC', 'KCAC']: YFTzMissingError('possibly delisted; no timezone found')\n",
      "['KCGI', 'JWSM', 'KBAL', 'KA', 'JXJT']: YFPricesMissingError('possibly delisted; no price data found  (1d 2025-03-23 -> 2025-03-30) (Yahoo error = \"No data found, symbol may be delisted\")')\n"
     ]
    },
    {
     "name": "stdout",
     "output_type": "stream",
     "text": [
      "(0, 100)\n"
     ]
    },
    {
     "name": "stderr",
     "output_type": "stream",
     "text": [
      "[*                      2%                       ]  2 of 100 completed"
     ]
    },
    {
     "name": "stdout",
     "output_type": "stream",
     "text": [
      "Batch: KFT - LCRY\r"
     ]
    },
    {
     "name": "stderr",
     "output_type": "stream",
     "text": [
      "[*********************100%***********************]  100 of 100 completed\n",
      "\n",
      "100 Failed downloads:\n",
      "['KNSY', 'LARS', 'LABS', 'KTWO', 'KNTA', 'LCBM', 'LCRY', 'LBF', 'LAZY', 'KOSP', 'LARE', 'KST', 'LAYN', 'KONE', 'KITE', 'KSW', 'KNOT', 'KMGB', 'KNAP', 'KUTV', 'KFT', 'KIII', 'KYE', 'LCGI', 'KYPH', 'KOR', 'KYAK', 'KKD', 'KMG', 'KNXA', 'LBAI', 'KSWS', 'KYO', 'KNDL', 'KOSN', 'LARL', 'KITD', 'KHI', 'KTII', 'KNOL', 'KROO', 'LAVA', 'KND', 'KMM', 'KLXI', 'KHDH', 'KYCH', 'LATD', 'KZ', 'KOMG', 'LCRD', 'LBIX', 'KNBT']: YFPricesMissingError('possibly delisted; no price data found  (1d 2025-03-23 -> 2025-03-30)')\n",
      "['KNL', 'KLR', 'KMPH', 'LAWS', 'LCI', 'KIN', 'LBBB', 'LATN', 'LCAA', 'LBY', 'KVSB', 'KSI', 'KMF', 'LACQ', 'KIQ', 'KURI', 'KVA', 'KVSA', 'KSU', 'KNBE', 'KNTE', 'KYON', 'KLAQ', 'KL', 'KPFS', 'KRA', 'KINZ', 'KPPC', 'KSMT', 'LABL', 'KSPP', 'KWAC', 'LAAA', 'KRU', 'KNSW', 'LBC', 'KRTX', 'LCA', 'KRS']: YFTzMissingError('possibly delisted; no timezone found')\n",
      "['KVSC', 'LAAC', 'LATG', 'LABP', 'KRNL', 'LBPH', 'KTRA', 'KSPN']: YFPricesMissingError('possibly delisted; no price data found  (1d 2025-03-23 -> 2025-03-30) (Yahoo error = \"No data found, symbol may be delisted\")')\n"
     ]
    },
    {
     "name": "stdout",
     "output_type": "stream",
     "text": [
      "(0, 100)\n"
     ]
    },
    {
     "name": "stderr",
     "output_type": "stream",
     "text": [
      "[**                     5%                       ]  5 of 100 completed"
     ]
    },
    {
     "name": "stdout",
     "output_type": "stream",
     "text": [
      "Batch: LCW - LOGO\r"
     ]
    },
    {
     "name": "stderr",
     "output_type": "stream",
     "text": [
      "[*********************100%***********************]  100 of 100 completed\n",
      "\n",
      "100 Failed downloads:\n",
      "['LMDX', 'LMOS', 'LILM', 'LNCR', 'LNOP', 'LNKD', 'LMIN', 'LHO', 'LEDR', 'LNCE', 'LEXR', 'LLSP', 'LMHA', 'LKQX', 'LNET', 'LMHB', 'LOGO', 'LLSC', 'LEI', 'LEND', 'LEGC', 'LF', 'LLTC', 'LEDD', 'LNCB', 'LNUX', 'LEIX', 'LMIA', 'LGF', 'LDSH', 'LIOX', 'LICB', 'LMRA', 'LIFC', 'LDF']: YFPricesMissingError('possibly delisted; no price data found  (1d 2025-03-23 -> 2025-03-30)')\n",
      "['LIFW', 'LEV', 'LIBY', 'LGVC', 'LL', 'LCW', 'LLAP']: YFPricesMissingError('possibly delisted; no price data found  (1d 2025-03-23 -> 2025-03-30) (Yahoo error = \"No data found, symbol may be delisted\")')\n",
      "['LNDC', 'LOAC', 'LILK', 'LIVB', 'LNDU', 'LIVK', 'LJPC', 'LGTO', 'LLEX', 'LEAP', 'LFTR', 'LEVL', 'LHAA', 'LMTG', 'LLGX', 'LEAF', 'LLNW', 'LNFA', 'LLIT', 'LHDX', 'LLL', 'LIMC', 'LOAK', 'LEJU', 'LEWY', 'LGAC', 'LGVW', 'LEVB', 'LOCC', 'LIMS', 'LGLW', 'LMNL', 'LERA', 'LMAO', 'LENB', 'LHCG', 'LM', 'LGST', 'LCY', 'LEGO', 'LKSD', 'LGC', 'LMNX', 'LOGM', 'LJAQ', 'LIVX', 'LFAC', 'LDHA', 'LDL', 'LIHR', 'LITT', 'LMST', 'LGV', 'LLDM', 'LEGA', 'LHC', 'LIII', 'LFG']: YFTzMissingError('possibly delisted; no timezone found')\n"
     ]
    },
    {
     "name": "stdout",
     "output_type": "stream",
     "text": [
      "(0, 100)\n"
     ]
    },
    {
     "name": "stderr",
     "output_type": "stream",
     "text": [
      "[*                      3%                       ]  3 of 100 completed"
     ]
    },
    {
     "name": "stdout",
     "output_type": "stream",
     "text": [
      "Batch: LOKB - MBTF\r"
     ]
    },
    {
     "name": "stderr",
     "output_type": "stream",
     "text": [
      "[*********************100%***********************]  100 of 100 completed\n",
      "\n",
      "100 Failed downloads:\n",
      "['MBLA', 'LWSN', 'LUFK', 'MAKO', 'LWC', 'LXBK', 'LSBG', 'MBHI', 'MAXY', 'MAJR', 'LSBX', 'MASC', 'MAXM', 'LSG', 'LZEN', 'LOUD', 'MBFC', 'MATR', 'LQID', 'LXK', 'LVLT', 'LPNT', 'LSON', 'LPSB', 'MAXS', 'MAXF', 'LUK', 'MATF', 'LSVX', 'LSCO', 'MAJC', 'LTXC', 'MATK', 'LPMA', 'LQ', 'LONG', 'MANC', 'LSTK', 'LTXX', 'LSPN', 'MASB', 'LSCP', 'MAFB', 'MAIL', 'MBRG', 'LSC', 'MAB', 'MALL']: YFPricesMissingError('possibly delisted; no price data found  (1d 2025-03-23 -> 2025-03-30)')\n",
      "['MBAC', 'MBRK', 'MBFI', 'LOR', 'MAMS', 'MACQ', 'MBTF', 'LTHM', 'MAXR', 'LRAD', 'LWAC', 'LUXA', 'MAAQ', 'MACU', 'LTXB', 'LTS', 'LYL', 'LOXO', 'LSAQ', 'LVGO', 'LPI', 'LOKB', 'LVAC', 'MB', 'MBII', 'LOKM', 'LSAC', 'MBSC', 'MBT', 'LPT', 'LSI', 'LUCA', 'LVRA', 'MACC', 'MANT', 'LONE', 'LSPR', 'LUB', 'MBPL', 'LOTZ', 'LORL', 'LVOX', 'MAAC', 'MBTC']: YFTzMissingError('possibly delisted; no timezone found')\n",
      "['LSDI', 'LYLT', 'LQR', 'MARX', 'MACK', 'MACA', 'MACE', 'LUMO']: YFPricesMissingError('possibly delisted; no price data found  (1d 2025-03-23 -> 2025-03-30) (Yahoo error = \"No data found, symbol may be delisted\")')\n"
     ]
    },
    {
     "name": "stdout",
     "output_type": "stream",
     "text": [
      "(0, 100)\n"
     ]
    },
    {
     "name": "stderr",
     "output_type": "stream",
     "text": [
      "[*                      3%                       ]  3 of 100 completed"
     ]
    },
    {
     "name": "stdout",
     "output_type": "stream",
     "text": [
      "Batch: MBVT - MHG\r"
     ]
    },
    {
     "name": "stderr",
     "output_type": "stream",
     "text": [
      "[*********************100%***********************]  100 of 100 completed\n",
      "\n",
      "100 Failed downloads:\n",
      "['MCCC', 'MHCO', 'MENT', 'MEDQ', 'MESG', 'MDD', 'MEDW', 'MHG', 'MCUR', 'METG', 'MFLR', 'MDCC', 'MFLA', 'MCP', 'MDKI', 'METH', 'MFS', 'MDLK', 'MGOL', 'MDVN', 'MCHM', 'MGN', 'MGCD', 'MEMY', 'MDCV', 'MCDT', 'MFUN', 'MDLX', 'MFRM', 'MDTH', 'MGH', 'MDLQ', 'MBVT', 'MEAD', 'MCIP', 'MECA', 'MERB', 'MEMP', 'MDMD', 'MERX', 'MDNU', 'MCOX', 'MEP', 'MEND', 'MFBC', 'MFLO', 'MCX', 'MENU', 'MDA']: YFPricesMissingError('possibly delisted; no price data found  (1d 2025-03-23 -> 2025-03-30)')\n",
      "['MDLA', 'MEN', 'MCMJ', 'MDH', 'MCAF', 'MCAD', 'MCA', 'MGEN', 'MEET', 'MDR', 'MFT', 'MDVL', 'MFNC', 'MFL', 'MDC', 'MDCO', 'MFO', 'MEAC', 'MCC', 'MCG', 'MGI', 'MFAC', 'MFSF', 'MFGP', 'METX', 'MCAE', 'MEKA', 'MGTA', 'MCV', 'MGP', 'MDSO', 'MELR', 'MHE', 'MDWW', 'MCRN', 'MDCA', 'MCF', 'MCFE', 'MDLY', 'MGU', 'MDWT', 'MDP', 'MFV', 'MEOA', 'MGLN']: YFTzMissingError('possibly delisted; no timezone found')\n",
      "['MDNA', 'MFD', 'MCAC', 'MCBC', 'MEDS', 'MDJH']: YFPricesMissingError('possibly delisted; no price data found  (1d 2025-03-23 -> 2025-03-30) (Yahoo error = \"No data found, symbol may be delisted\")')\n"
     ]
    },
    {
     "name": "stdout",
     "output_type": "stream",
     "text": [
      "(0, 100)\n"
     ]
    },
    {
     "name": "stderr",
     "output_type": "stream",
     "text": [
      "[**                     5%                       ]  5 of 100 completed"
     ]
    },
    {
     "name": "stdout",
     "output_type": "stream",
     "text": [
      "Batch: MHGC - MOSS\r"
     ]
    },
    {
     "name": "stderr",
     "output_type": "stream",
     "text": [
      "[*********************100%***********************]  100 of 100 completed\n",
      "\n",
      "100 Failed downloads:\n",
      "['MILT', 'MIRN', 'MILB', 'MITL', 'MIW', 'MLPJ', 'MONM', 'MJN', 'MNTN', 'MNGL', 'MLAN', 'MNEL', 'MKTO', 'MNNY', 'MLPS', 'MHGC', 'MIGP', 'MJES', 'MOCC', 'MOSS', 'MLIN', 'MIKR', 'MICC', 'MNDX', 'MIPS', 'MITY', 'MLPN', 'MIFI', 'MOLG', 'MICU', 'MONE', 'MOLX', 'MNRK', 'MKTG', 'MOBI', 'MOGN', 'MLNM', 'MIVA', 'MMUS', 'MLEA', 'MNTG', 'MOCO', 'MMPT', 'MLMT']: YFPricesMissingError('possibly delisted; no price data found  (1d 2025-03-23 -> 2025-03-30)')\n",
      "['MMX', 'MION', 'MJCO', 'MLHR', 'MNK', 'MMAC', 'MIE', 'MKGI', 'MLVF', 'MICT', 'MOBV', 'MILE', 'MINI', 'MLAI', 'MIC', 'MOOV', 'MNDT', 'MNTA', 'MKCV', 'MKUL', 'MHMY', 'MNRL', 'MIMO', 'MNTV', 'MOLC', 'MN', 'MICR', 'MON', 'MMP', 'MMTH', 'MMDM', 'MNP', 'MLNX', 'MLND', 'MOBL', 'MKTY', 'MIRO', 'MNGA', 'MIXT', 'MIPI', 'MNE', 'MNCL', 'MOSC', 'MNLO', 'MIT', 'MIK', 'MNI', 'MIME', 'MLNT', 'MMMB']: YFTzMissingError('possibly delisted; no timezone found')\n",
      "['MICS', 'MNTX', 'MODN', 'MITA', 'MMAT', 'MORF']: YFPricesMissingError('possibly delisted; no price data found  (1d 2025-03-23 -> 2025-03-30) (Yahoo error = \"No data found, symbol may be delisted\")')\n"
     ]
    },
    {
     "name": "stdout",
     "output_type": "stream",
     "text": [
      "(0, 100)\n"
     ]
    },
    {
     "name": "stderr",
     "output_type": "stream",
     "text": [
      "\r",
      "[                       0%                       ]"
     ]
    },
    {
     "name": "stdout",
     "output_type": "stream",
     "text": [
      "Batch: MOSX - MXIC\r"
     ]
    },
    {
     "name": "stderr",
     "output_type": "stream",
     "text": [
      "[*********************100%***********************]  100 of 100 completed\n",
      "\n",
      "99 Failed downloads:\n",
      "['MSII', 'MSNQ', 'MVSN', 'MTDW', 'MTLM', 'MTSN', 'MWW', 'MSFG', 'MTLG', 'MROI', 'MSPX', 'MSHL', 'MOVI', 'MTON', 'MRNT', 'MTOH', 'MTCR', 'MRQQ', 'MRNS', 'MVCD', 'MSPD', 'MULE', 'MTCT', 'MSCC', 'MTSP', 'MTOX', 'MTGE', 'MTTR', 'MTXX', 'MRD', 'MTDB', 'MSSN', 'MSSR', 'MTTX', 'MTSX', 'MTK', 'MOTR', 'MRVC', 'MTMD', 'MRSS', 'MTSM', 'MRNN', 'MSLV', 'MRBA', 'MSBK', 'MPWG', 'MOSX', 'MRAE', 'MTXC', 'MTNK', 'MTIX', 'MROE']: YFPricesMissingError('possibly delisted; no price data found  (1d 2025-03-23 -> 2025-03-30)')\n",
      "['MRDB', 'MSDA', 'MWRK', 'MRO']: YFPricesMissingError('possibly delisted; no price data found  (1d 2025-03-23 -> 2025-03-30) (Yahoo error = \"No data found, symbol may be delisted\")')\n",
      "['MTVC', 'MOTV', 'MTRY', 'MOTN', 'MSL', 'MPVD', 'MOTA', 'MPRA', 'MSGN', 'MRTX', 'MOSY', 'MXGL', 'MXIC', 'MTTT', 'MUDS', 'MURF', 'MSON', 'MRAC', 'MTCN', 'MOXC', 'MTBC', 'MUS', 'MTOR', 'MRIC', 'MPAC', 'MPCT', 'MSAC', 'MTMT', 'MVC', 'MRLN', 'MSG', 'MTEC', 'MTSL', 'MSBF', 'MTT', 'MUH', 'MTAC', 'MWGP', 'MSCS', 'MSP', 'MWK', 'MTSC', 'MR']: YFTzMissingError('possibly delisted; no timezone found')\n"
     ]
    },
    {
     "name": "stdout",
     "output_type": "stream",
     "text": [
      "(1, 99)\n"
     ]
    },
    {
     "name": "stderr",
     "output_type": "stream",
     "text": [
      "[*                      3%                       ]  3 of 100 completed"
     ]
    },
    {
     "name": "stdout",
     "output_type": "stream",
     "text": [
      "Batch: MXIM - NETM\r"
     ]
    },
    {
     "name": "stderr",
     "output_type": "stream",
     "text": [
      "[*********************100%***********************]  100 of 100 completed\n",
      "\n",
      "100 Failed downloads:\n",
      "['NASI', 'NDXP', 'MY', 'NEOT', 'NEBS', 'NARI', 'MYCC', 'NDRM', 'NBAN', 'MYOG', 'N', 'NENG', 'NEI', 'NEPF', 'NAHC', 'NBD', 'MZF', 'NCRI', 'NADL', 'NCRX', 'NBSC', 'NCOG', 'NCEM', 'NCQ', 'NETM', 'NCIT', 'NADX', 'NDRO', 'MXPT', 'NAPS', 'NCOC', 'NERX', 'NAME', 'NABI', 'MZOR', 'NCST', 'NARA', 'NCEB', 'NBSI', 'NDPS', 'NEFF', 'NEIB', 'NAP', 'MXRE', 'NEPT', 'NASH', 'NAFC', 'NEOF']: YFPricesMissingError('possibly delisted; no price data found  (1d 2025-03-23 -> 2025-03-30)')\n",
      "['NBEV', 'NDP', 'MYMD', 'MYC', 'NAPA', 'NBSE']: YFPricesMissingError('possibly delisted; no price data found  (1d 2025-03-23 -> 2025-03-30) (Yahoo error = \"No data found, symbol may be delisted\")')\n",
      "['NETE', 'MZA', 'NDPX', 'MYJ', 'NCB', 'NDPL', 'NBO', 'NBRV', 'NCR', 'MYF', 'NDLT', 'NCOM', 'NANO', 'NDDM', 'MXIM', 'NEBU', 'NEBC', 'NASM', 'MYOS', 'NBAC', 'MXWL', 'MYOK', 'MYRS', 'MYIE', 'NBL', 'NETI', 'NAAC', 'NCBS', 'NBW', 'NDMX', 'NEOS', 'NAKD', 'NCAC', 'NATI', 'NDAC', 'NBXZ', 'NDPR', 'NETC', 'NBA', 'NAVG', 'NAPX', 'MYT', 'MYOV', 'MYL', 'NES', 'NAV']: YFTzMissingError('possibly delisted; no timezone found')\n"
     ]
    },
    {
     "name": "stdout",
     "output_type": "stream",
     "text": [
      "(0, 100)\n"
     ]
    },
    {
     "name": "stderr",
     "output_type": "stream",
     "text": [
      "\r",
      "[                       0%                       ]\r",
      "[                       0%                       ]"
     ]
    },
    {
     "name": "stdout",
     "output_type": "stream",
     "text": [
      "Batch: NEV - NPRO\r"
     ]
    },
    {
     "name": "stderr",
     "output_type": "stream",
     "text": [
      "[*********************100%***********************]  99 of 100 completed\n",
      "\n",
      "100 Failed downloads:\n",
      "['NKBP', 'NPP', 'NMIL', 'NNDS', 'NMSS', 'NPD', 'NNCI', 'NHHC', 'NFSB', 'NLCI', 'NIKU', 'NFEC', 'NPM', 'NOIZ', 'NMHC', 'NMO', 'NMRX', 'NOVL', 'NOLD', 'NNSY', 'NOOF', 'NPF', 'NINI', 'NIR', 'NFLD', 'NOVB', 'NOGN', 'NEXM', 'NPI', 'NIAG', 'NMA', 'NPLA', 'NKA', 'NEWS', 'NPBC', 'NGAS', 'NKBS', 'NGPS', 'NPRO', 'NGRU']: YFPricesMissingError('possibly delisted; no price data found  (1d 2025-03-23 -> 2025-03-30)')\n",
      "['NEV', 'NGA', 'NGBF', 'NFC', 'NKY', 'NPN', 'NLOK', 'NLS', 'NGAB', 'NGC', 'NHA', 'NGM', 'NMY', 'NFNT', 'NOAC', 'NP', 'NGMS', 'NOVN', 'NFIN', 'NEW', 'NOVI', 'NFH', 'NGCA', 'NOVS', 'NEWR', 'NMFX', 'NMMC', 'NLSN', 'NPA', 'NHLD', 'NHF', 'NNA', 'NLIT', 'NKG', 'NLTX', 'NGAC', 'NM', 'NEX', 'NHWK', 'NMCI', 'NHSR', 'NEWM', 'NIHD', 'NID', 'NJV', 'NEWA', 'NIQ', 'NK', 'NNC', 'NGHC', 'NPLU', 'NILE', 'NFTG', 'NLNK', 'NIMC']: YFTzMissingError('possibly delisted; no timezone found')\n",
      "['NHIC', 'NH', 'NFYS', 'NICK', 'NOVV']: YFPricesMissingError('possibly delisted; no price data found  (1d 2025-03-23 -> 2025-03-30) (Yahoo error = \"No data found, symbol may be delisted\")')\n"
     ]
    },
    {
     "name": "stdout",
     "output_type": "stream",
     "text": [
      "(0, 100)\n"
     ]
    },
    {
     "name": "stderr",
     "output_type": "stream",
     "text": [
      "[*                      3%                       ]  3 of 100 completed"
     ]
    },
    {
     "name": "stdout",
     "output_type": "stream",
     "text": [
      "Batch: NPSI - NWK\r"
     ]
    },
    {
     "name": "stderr",
     "output_type": "stream",
     "text": [
      "[*********************100%***********************]  100 of 100 completed\n",
      "\n",
      "100 Failed downloads:\n",
      "['NTIQ', 'NPT', 'NTSP', 'NSDA', 'NWK', 'NWFI', 'NRRD', 'NRGN', 'NWIR', 'NSDB', 'NTLI', 'NTRT', 'NUCO', 'NQS', 'NRF', 'NUFO', 'NTT', 'NSHA', 'NTBK', 'NTOL', 'NUTR', 'NPSN', 'NVLS', 'NPSI', 'NTLS', 'NVLD', 'NSCN', 'NSPH', 'NWEC', 'NPTE', 'NRCI', 'NQI', 'NTOP', 'NTK', 'NREB', 'NUHC', 'NVDM', 'NWAC', 'NSAM', 'NRMX', 'NQU', 'NVET', 'NQM', 'NSTK', 'NTMD', 'NSM', 'NTSC', 'NRGP', 'NTI', 'NRPH', 'NSTG', 'NPTT', 'NTSL']: YFPricesMissingError('possibly delisted; no price data found  (1d 2025-03-23 -> 2025-03-30)')\n",
      "['NSH', 'NVCN', 'NTCO', 'NSL', 'NRKM', 'NRCG', 'NVMM', 'NPTN', 'NVLN', 'NTUS', 'NUBI', 'NUO', 'NWGI', 'NRAC', 'NUAN', 'NTEC', 'NRE', 'NVSA', 'NUVA', 'NVTA', 'NVIV', 'NTGN', 'NWHM', 'NRZ', 'NSEC', 'NSUR', 'NUM', 'NTP', 'NTRI', 'NTC', 'NVTR', 'NVL', 'NTX', 'NVUS', 'NSR', 'NTN', 'NSCO']: YFTzMissingError('possibly delisted; no timezone found')\n",
      "['NRBO', 'NSS', 'NUZE', 'NVEI', 'NTBL', 'NSTC', 'NSTD', 'NSTB', 'NTG', 'NR']: YFPricesMissingError('possibly delisted; no price data found  (1d 2025-03-23 -> 2025-03-30) (Yahoo error = \"No data found, symbol may be delisted\")')\n"
     ]
    },
    {
     "name": "stdout",
     "output_type": "stream",
     "text": [
      "(0, 100)\n"
     ]
    },
    {
     "name": "stderr",
     "output_type": "stream",
     "text": [
      "[*                      3%                       ]  3 of 100 completed"
     ]
    },
    {
     "name": "stdout",
     "output_type": "stream",
     "text": [
      "Batch: NWLI - ONDR\r"
     ]
    },
    {
     "name": "stderr",
     "output_type": "stream",
     "text": [
      "[*********************100%***********************]  98 of 100 completed\n",
      "\n",
      "100 Failed downloads:\n",
      "[**********************99%***********************]  99 of 100 completed['OASI', 'ODSY', 'ONDR', 'OKSB', 'OGLE', 'NWRE', 'OLGC', 'OA', 'NYFX', 'NYRT', 'OKS', 'NYLD', 'ONAV', 'OAKT', 'OMRI', 'NYX', 'OLAB', 'OCAS', 'OMTH', 'OLCB', 'OCPI', 'OAKF', 'OMEF', 'OATS', 'OMNI', 'NZH', 'OAOT', 'OCCF', 'OIIL', 'NZF', 'NYH', 'OLGR', 'ODDJ', 'OMPI', 'OMTR', 'OCRX', 'OCNW', 'NXK', 'OCNF', 'NYER', 'OMIC', 'ONCR', 'OILB', 'OCLR', 'NXUS', 'OICO', 'NWSB', 'OACQ', 'OAKS']: YFPricesMissingError('possibly delisted; no price data found  (1d 2025-03-23 -> 2025-03-30)')\n",
      "['OCCX', 'OBLN', 'OCSI', 'OEG', 'OILS', 'OAK', 'ONCS', 'OBNK', 'NYMX', 'OBAS', 'OMN', 'OFC', 'OBSV', 'OGAR', 'OCA', 'OMGI', 'NXR', 'NXQ', 'OMEG', 'ODT', 'OHPA', 'OACB', 'NXSN', 'OHAI', 'ONDK', 'OLBK', 'NXEO', 'OHAA', 'OG', 'OAC', 'NWMO', 'OEPW', 'OAS', 'OCDX', 'NXGN', 'OBCI', 'NYV', 'NXTD', 'ONCE', 'OMP', 'OIG', 'NXTM', 'OMED', 'NYNY', 'OHRP', 'OLIT']: YFTzMissingError('possibly delisted; no timezone found')\n",
      "['NYCB', 'NWLI', 'OCN', 'OBDE', 'OCUP']: YFPricesMissingError('possibly delisted; no price data found  (1d 2025-03-23 -> 2025-03-30) (Yahoo error = \"No data found, symbol may be delisted\")')\n"
     ]
    },
    {
     "name": "stdout",
     "output_type": "stream",
     "text": [
      "(0, 100)\n"
     ]
    },
    {
     "name": "stderr",
     "output_type": "stream",
     "text": [
      "[**                     4%                       ]  4 of 100 completed"
     ]
    },
    {
     "name": "stdout",
     "output_type": "stream",
     "text": [
      "Batch: ONEK - PANA\r"
     ]
    },
    {
     "name": "stderr",
     "output_type": "stream",
     "text": [
      "[*********************100%***********************]  100 of 100 completed\n",
      "\n",
      "100 Failed downloads:\n",
      "['PACR', 'ONSM', 'OPSW', 'OYOG', 'OPXA', 'OSTE', 'OPTK', 'ONEK', 'ORIA', 'OPWV', 'OSA', 'OTFC', 'OPAY', 'OPTC', 'PACT', 'OPXT', 'OUTD', 'ORBZ', 'OSKY', 'OPTR', 'OVER', 'OSHC', 'ORCH', 'ORIG', 'OUTL', 'ONXX', 'OSGB', 'OPTV', 'OVEN', 'OSM', 'OXPS', 'OUTR', 'ONVI', 'PAET', 'OSTK', 'OTIC', 'ONES', 'OSIP', 'ONS', 'PALM', 'ORCI', 'OVAS', 'PAGI', 'ONXS', 'OSLE', 'OVNT', 'OTIX', 'OPMR', 'ONTL', 'OTT']: YFPricesMissingError('possibly delisted; no price data found  (1d 2025-03-23 -> 2025-03-30)')\n",
      "['OPNT', 'OTEC', 'PACD', 'OZM', 'PAAC', 'OSIR', 'OZRK', 'OTRA', 'ORPN', 'PAIC', 'OSB', 'OXFD', 'OSMT', 'ORCC', 'OPTM', 'OTMO', 'OXAC', 'PACQ', 'OSPR', 'OSTR', 'PACI', 'ORTX', 'ORM', 'ORSN', 'OXUS', 'PACE', 'OTEL', 'ORIT', 'OPHT', 'OTIV', 'OYST', 'PANA', 'OSH', 'PAE', 'ONTX', 'ORBK', 'ORCD', 'PAFO', 'ORBC', 'PACX', 'OPES', 'PACW', 'OSAT', 'OPA', 'OPB']: YFTzMissingError('possibly delisted; no timezone found')\n",
      "['OSG', 'ORAN', 'ONYX', 'PALT', 'OSI']: YFPricesMissingError('possibly delisted; no price data found  (1d 2025-03-23 -> 2025-03-30) (Yahoo error = \"No data found, symbol may be delisted\")')\n"
     ]
    },
    {
     "name": "stdout",
     "output_type": "stream",
     "text": [
      "(0, 100)\n"
     ]
    },
    {
     "name": "stderr",
     "output_type": "stream",
     "text": [
      "[*                      3%                       ]  3 of 100 completed"
     ]
    },
    {
     "name": "stdout",
     "output_type": "stream",
     "text": [
      "Batch: PAND - PGSS\r"
     ]
    },
    {
     "name": "stderr",
     "output_type": "stream",
     "text": [
      "[*********************100%***********************]  100 of 100 completed\n",
      "\n",
      "100 Failed downloads:\n",
      "['PBIZ', 'PARL', 'PCBK', 'PCAF', 'PDSG', 'PETD', 'PEGS', 'PBCI', 'PFEM', 'PF', 'PCLE', 'PBMD', 'PBSK', 'PDVW', 'PARN', 'PETC', 'PBY', 'PGHD', 'PFWD', 'PBIB', 'PBB', 'PFDC', 'PBKS', 'PFGI', 'PGMB', 'PCAP', 'PERY', 'PCOP', 'PGEM', 'PCCI', 'PECS', 'PCIS', 'PEET', 'PDSN', 'PBTC', 'PFC', 'PBIX', 'PGND', 'PERM', 'PFCB', 'PFSL']: YFPricesMissingError('possibly delisted; no price data found  (1d 2025-03-23 -> 2025-03-30)')\n",
      "['PCGU', 'PEGI', 'PCTI', 'PCMI', 'PDGI', 'PECK', 'PDLI', 'PEAR', 'PCCT', 'PFHC', 'PGLC', 'PATI', 'PAQC', 'PFPT', 'PETX', 'PAYA', 'PBRA', 'PBFX', 'PCOM', 'PER', 'PE', 'PBBI', 'PFBI', 'PFNX', 'PGRX', 'PGRW', 'PARB', 'PBIP', 'PDOT', 'PES', 'PCI', 'PCX', 'PFIN', 'PDAC', 'PEAK', 'PEIX', 'PAND', 'PFDR', 'PCPC', 'PFHD', 'PBAX', 'PFSW', 'PBC', 'PEPL', 'PCSB', 'PBTS', 'PCPL', 'PBCT', 'PGNX', 'PEI']: YFTzMissingError('possibly delisted; no timezone found')\n",
      "['PGSS', 'PGRU', 'PDCE', 'PEGY', 'PEGR', 'PCYG', 'PFMT', 'PFIE', 'PETQ']: YFPricesMissingError('possibly delisted; no price data found  (1d 2025-03-23 -> 2025-03-30) (Yahoo error = \"No data found, symbol may be delisted\")')\n"
     ]
    },
    {
     "name": "stdout",
     "output_type": "stream",
     "text": [
      "(0, 100)\n"
     ]
    },
    {
     "name": "stderr",
     "output_type": "stream",
     "text": [
      "[*                      2%                       ]  2 of 100 completed"
     ]
    },
    {
     "name": "stdout",
     "output_type": "stream",
     "text": [
      "Batch: PGTI - POZN\r"
     ]
    },
    {
     "name": "stderr",
     "output_type": "stream",
     "text": [
      "[*********************100%***********************]  100 of 100 completed\n",
      "\n",
      "100 Failed downloads:\n",
      "['PKTR', 'PKY', 'PORK', 'PHOC', 'POSO', 'PLMD', 'POSS', 'PNNW', 'POM', 'PLTX', 'PMPT', 'PNWB', 'PMIC', 'PLUM', 'PNY', 'PLPM', 'PHTN', 'PMTR', 'PMC', 'POWR', 'PLCM', 'POTP', 'PONR', 'PNK', 'PINN', 'PNXQ', 'POT', 'PHFC', 'PNX', 'PHEL', 'POZN', 'PLFE', 'PMTI', 'PKSI', 'PLNQ', 'PHLY', 'PIXR', 'PNTE', 'PHST', 'PKDY', 'PLLL', 'PLKI', 'PMTG', 'PJF', 'PNFT', 'PNCL', 'PHSY', 'PHHM', 'PNRA', 'PHMD', 'PHYX']: YFPricesMissingError('possibly delisted; no price data found  (1d 2025-03-23 -> 2025-03-30)')\n",
      "['PLTN', 'PHAS', 'PHYT', 'PKBO', 'PIRS', 'PMGM', 'PNM', 'PLMI']: YFPricesMissingError('possibly delisted; no price data found  (1d 2025-03-23 -> 2025-03-30) (Yahoo error = \"No data found, symbol may be delisted\")')\n",
      "['PNT', 'POSH', 'PLT', 'PME', 'PMVC', 'PLAN', 'PKO', 'PHCC', 'PKD', 'PKI', 'PHGN', 'PNTR', 'PHWT', 'PIR', 'PING', 'PLJC', 'PICO', 'PGTI', 'PHIC', 'PHCF', 'PICC', 'PNTM', 'PNDX', 'POLY', 'POL', 'PJC', 'PLPD', 'PLTE', 'PNAC', 'POW', 'PLM', 'PLXP', 'POND', 'PONE', 'PLIN', 'PMBC', 'PIAI', 'PIPP', 'PIC', 'PJH', 'PONO']: YFTzMissingError('possibly delisted; no timezone found')\n"
     ]
    },
    {
     "name": "stdout",
     "output_type": "stream",
     "text": [
      "(0, 100)\n"
     ]
    },
    {
     "name": "stderr",
     "output_type": "stream",
     "text": [
      "[*                      3%                       ]  3 of 100 completed"
     ]
    },
    {
     "name": "stdout",
     "output_type": "stream",
     "text": [
      "Batch: PPCO - PVG\r"
     ]
    },
    {
     "name": "stderr",
     "output_type": "stream",
     "text": [
      "[*********************100%***********************]  100 of 100 completed\n",
      "\n",
      "100 Failed downloads:\n",
      "['PRWK', 'PVFC', 'PSAI', 'PRPX', 'PPDI', 'PSRC', 'PTMK', 'PRWT', 'PSPT', 'PROX', 'PULB', 'PREM', 'PRSS', 'PUBB', 'PSSI', 'PRBZ', 'PPTB', 'PSBI', 'PRXL', 'PTNX', 'PRSR', 'PSOF', 'PSTB', 'PSIT', 'PURW', 'PPS', 'PRMI', 'PTM', 'PTXP', 'PSG', 'PTIL', 'PPCO', 'PROJ', 'PRSE', 'PSTA', 'PRAI', 'PRVD', 'PQSC', 'PTHN']: YFPricesMissingError('possibly delisted; no price data found  (1d 2025-03-23 -> 2025-03-30)')\n",
      "['PRBM', 'PQG', 'PRAH', 'PSAG', 'PRCP', 'PVG', 'PPD', 'PTIE', 'PSAC', 'PRDS', 'PROS', 'PRPC', 'PSDO', 'PRTK', 'PPR', 'PRPB', 'PTI', 'PSAV', 'PTK', 'PRGX', 'PTHR', 'PUTX', 'PSPC', 'PTE', 'PRVB', 'PS', 'PRDX', 'PV', 'PTRS', 'PRNB', 'PTCC', 'PTAC', 'PTLA', 'PSYS', 'PTIC', 'PSV', 'PUB', 'PRVL', 'PSAA', 'PPX', 'PSTI', 'PSB', 'PRAN', 'PSTH', 'PROG', 'PRSC', 'PRSP', 'PTOC', 'PRTY', 'PPRX', 'PRTO', 'PPGH', 'PSXP', 'PVAC']: YFTzMissingError('possibly delisted; no timezone found')\n",
      "['PTRA', 'PTSI', 'PTWO', 'PRFT', 'PRMW', 'PSTX', 'PPHP']: YFPricesMissingError('possibly delisted; no price data found  (1d 2025-03-23 -> 2025-03-30) (Yahoo error = \"No data found, symbol may be delisted\")')\n"
     ]
    },
    {
     "name": "stdout",
     "output_type": "stream",
     "text": [
      "(0, 100)\n"
     ]
    },
    {
     "name": "stderr",
     "output_type": "stream",
     "text": [
      "[*****                 10%                       ]  10 of 100 completed"
     ]
    },
    {
     "name": "stdout",
     "output_type": "stream",
     "text": [
      "Batch: PVLS - RCM\r"
     ]
    },
    {
     "name": "stderr",
     "output_type": "stream",
     "text": [
      "[*********************100%***********************]  100 of 100 completed\n",
      "\n",
      "100 Failed downloads:\n",
      "['QLIK', 'QLTC', 'RADN', 'PZZ', 'QGLY', 'QVDX', 'RAX', 'PYR', 'RAMS', 'QUNR', 'QXMI', 'RBAK', 'QTWN', 'QCP', 'QSII', 'QDIN', 'QQQV', 'QQQC', 'PWAV', 'QCBC', 'PWUP', 'PVSA', 'QRCP', 'QUIP', 'PXPL', 'RBOW', 'QLGC', 'PZE', 'PVLS', 'QUIX', 'QADI', 'PXSL', 'RCBK', 'RBI', 'QINC', 'RADS', 'RACN', 'QXRR', 'QSFT', 'PWX', 'QKOR', 'RCAC', 'QLTB', 'PVTB', 'PVSW', 'RAME', 'QTNA', 'RBNF', 'RAI']: YFPricesMissingError('possibly delisted; no price data found  (1d 2025-03-23 -> 2025-03-30)')\n",
      "['RCM', 'PWFL', 'QTNT', 'QLI', 'RCFA', 'PWSC', 'PXD', 'QDRO', 'RBT']: YFPricesMissingError('possibly delisted; no price data found  (1d 2025-03-23 -> 2025-03-30) (Yahoo error = \"No data found, symbol may be delisted\")')\n",
      "['QADB', 'RCII', 'RARX', 'RACA', 'RAM', 'PVTL', 'QELP', 'QURK', 'RAD', 'QTS', 'QDHC', 'RAAS', 'RACB', 'RCHG', 'QUOT', 'RAAC', 'RADI', 'QES', 'QGOG', 'PWJC', 'QFTA', 'QUMU', 'QNGY', 'RBZ', 'QEP', 'RAVN', 'RCA', 'QHC', 'RBNC', 'RBAC', 'RCLF', 'PYDS', 'QTEK', 'QELL', 'QVCB', 'QTRH', 'PVT', 'RACY', 'PZN', 'PYX', 'RADA', 'QADA']: YFTzMissingError('possibly delisted; no timezone found')\n"
     ]
    },
    {
     "name": "stdout",
     "output_type": "stream",
     "text": [
      "(0, 100)\n"
     ]
    },
    {
     "name": "stderr",
     "output_type": "stream",
     "text": [
      "[*                      3%                       ]  3 of 100 completed"
     ]
    },
    {
     "name": "stdout",
     "output_type": "stream",
     "text": [
      "Batch: RCNI - ROSS\r"
     ]
    },
    {
     "name": "stderr",
     "output_type": "stream",
     "text": [
      "[*********************100%***********************]  100 of 100 completed\n",
      "\n",
      "100 Failed downloads:\n",
      "['RLD', 'RHDM', 'REDE', 'RHAT', 'RFMI', 'RKUS', 'RESC', 'RDTA', 'RDYN', 'RNDC', 'ROOM', 'ROCM', 'RNVS', 'ROKA', 'RLYP', 'RDEA', 'RIC', 'RMTR', 'RDEN', 'RNF', 'REXI', 'REIS', 'RCRC', 'ROLA', 'RETK', 'RNOW', 'ROME', 'RHEO', 'RDRT', 'RLJE', 'RET', 'REST', 'RESP', 'RCNI', 'RENX', 'ROIC', 'RLOC', 'REC', 'ROBV', 'RGNC', 'RNAI', 'RFAC', 'RLRN', 'RJET', 'ROAC', 'RNBO', 'RMGN']: YFPricesMissingError('possibly delisted; no price data found  (1d 2025-03-23 -> 2025-03-30)')\n",
      "['ROSS', 'RETA', 'RESN', 'REPR', 'RFP', 'RIVE', 'RKLY', 'ROLL', 'ROCH', 'RLNT', 'REV', 'RNWK', 'RE', 'RKTA', 'RCOR', 'RMGC', 'RNET', 'RICE', 'RMO', 'ROSE', 'RLGY', 'RDBX', 'REPH', 'ROCC', 'ROC', 'RGID', 'ROCR', 'ROI', 'ROCG', 'RJAC', 'RECN', 'RLH', 'RONI', 'REVH', 'RHIE', 'RGLO', 'REXN', 'RIBX', 'RMED', 'RNGY', 'RMG', 'RICO', 'ROAN', 'REUN', 'RMGB', 'RMRM', 'RNDB']: YFTzMissingError('possibly delisted; no timezone found')\n",
      "['RNER', 'REVE', 'REGI', 'RCRT', 'RIDE', 'ROCL']: YFPricesMissingError('possibly delisted; no price data found  (1d 2025-03-23 -> 2025-03-30) (Yahoo error = \"No data found, symbol may be delisted\")')\n"
     ]
    },
    {
     "name": "stdout",
     "output_type": "stream",
     "text": [
      "(0, 100)\n"
     ]
    },
    {
     "name": "stderr",
     "output_type": "stream",
     "text": [
      "\r",
      "[                       0%                       ]"
     ]
    },
    {
     "name": "stdout",
     "output_type": "stream",
     "text": [
      "Batch: ROT - SBG\r"
     ]
    },
    {
     "name": "stderr",
     "output_type": "stream",
     "text": [
      "[*********************100%***********************]  100 of 100 completed\n",
      "\n",
      "100 Failed downloads:\n",
      "['RSYS', 'SBBA', 'RWAV', 'RSE', 'SBCP', 'RRM', 'RUBY', 'RSAS', 'RUTX', 'RTLX', 'SAVB', 'RSTO', 'SAJA', 'RURL', 'RXII', 'RVM', 'RUBO', 'RSLN', 'RPTP', 'SAB', 'SATC', 'RVNC', 'RTSX', 'RSO', 'RT', 'RSCR', 'SAF', 'SAVN', 'SAAS', 'RVEP', 'SALE', 'ROXA', 'RTK', 'SACC', 'SBEI', 'RRMS', 'RTLA', 'RSTI', 'RUE']: YFPricesMissingError('possibly delisted; no price data found  (1d 2025-03-23 -> 2025-03-30)')\n",
      "['RPLA', 'RXN', 'SAMA', 'SANB', 'ROT', 'SAII', 'SBBX', 'RPXC', 'RVI', 'ROX', 'RSVA', 'RST', 'SASI', 'SAFM', 'SAUC', 'SALT', 'RTTR', 'RTL', 'RTPY', 'RVLT', 'ROVR', 'RRD', 'RTP', 'RPAI', 'RVLP', 'SBEA', 'RPTZ', 'RVAC', 'RWLK', 'RYCE', 'RP', 'SAEX', 'SBBP', 'RTRX', 'RTPZ', 'RWGE', 'SAGA', 'ROYT', 'RZA', 'SBE', 'RTN', 'RXRA', 'RUBI', 'RTWI', 'RTEC', 'SAL', 'RTIX', 'SAK', 'RYZB', 'SAQN', 'SBG', 'RXDX', 'RVEN', 'RUTH', 'RRI']: YFTzMissingError('possibly delisted; no timezone found')\n",
      "['RSTN', 'RRAC', 'RWOD', 'SAVE', 'SAI', 'RPHM']: YFPricesMissingError('possibly delisted; no price data found  (1d 2025-03-23 -> 2025-03-30) (Yahoo error = \"No data found, symbol may be delisted\")')\n"
     ]
    },
    {
     "name": "stdout",
     "output_type": "stream",
     "text": [
      "(0, 100)\n"
     ]
    },
    {
     "name": "stderr",
     "output_type": "stream",
     "text": [
      "[***                    6%                       ]  6 of 100 completed"
     ]
    },
    {
     "name": "stdout",
     "output_type": "stream",
     "text": [
      "Batch: SBGA - SFSU\r"
     ]
    },
    {
     "name": "stderr",
     "output_type": "stream",
     "text": [
      "[*********************100%***********************]  100 of 100 completed\n",
      "\n",
      "99 Failed downloads:\n",
      "['SCNB', 'SEGR', 'SCFS', 'SBV', 'SEEC', 'SDBT', 'SDAY', 'SCOX', 'SBYN', 'SEBL', 'SFCC', 'SEMF', 'SCMF', 'SBTV', 'SFR', 'SCPB', 'SCLP', 'SBKC', 'SFFS', 'SEGU', 'SFSF', 'SBIB', 'SEAB', 'SFFC', 'SFLA', 'SCLN', 'SCTR', 'SCMP', 'SFNT', 'SCWX', 'SEPR', 'SCOP', 'SERO', 'SCMM', 'SBSE', 'SCST', 'SEP', 'SBGA', 'SFG', 'SCGQ', 'SCOG', 'SFLK', 'SCCB', 'SCUR', 'SCAI', 'SCSS', 'SBRG', 'SCRX']: YFPricesMissingError('possibly delisted; no price data found  (1d 2025-03-23 -> 2025-03-30)')\n",
      "['SEAH', 'SBII', 'SELB', 'SDH', 'SFLY', 'SCOA', 'SCHN', 'SCAC', 'SC', 'SCTL', 'SFSU', 'SBOT', 'SCMA', 'SCVX', 'SESN', 'SBGL', 'SBNA', 'SCR', 'SCLE', 'SEMG', 'SDT', 'SDI', 'SDAC', 'SCON', 'SEAS', 'SCU', 'SCPE', 'SCOB', 'SBTX', 'SFE', 'SDR', 'SCPL', 'SDC', 'SBPH', 'SCUA', 'SENO', 'SDLP', 'SEGW', 'SCTY', 'SDXC', 'SCAQ']: YFTzMissingError('possibly delisted; no timezone found')\n",
      "['SCRM', 'SEV', 'SCX', 'SBXC', 'SEQL', 'SEEL', 'SEDA', 'SDPI', 'SEPA', 'SBOW']: YFPricesMissingError('possibly delisted; no price data found  (1d 2025-03-23 -> 2025-03-30) (Yahoo error = \"No data found, symbol may be delisted\")')\n"
     ]
    },
    {
     "name": "stdout",
     "output_type": "stream",
     "text": [
      "(1, 99)\n"
     ]
    },
    {
     "name": "stderr",
     "output_type": "stream",
     "text": [
      "[*                      2%                       ]  2 of 100 completed"
     ]
    },
    {
     "name": "stdout",
     "output_type": "stream",
     "text": [
      "Batch: SFSW - SMIH\r"
     ]
    },
    {
     "name": "stderr",
     "output_type": "stream",
     "text": [
      "[*********************100%***********************]  100 of 100 completed\n",
      "\n",
      "100 Failed downloads:\n",
      "['SIDE', 'SHOE', 'SKUL', 'SGDE', 'SGGG', 'SHRP', 'SHLM', 'SLNK', 'SLVN', 'SLTM', 'SHBK', 'SGXP', 'SGY', 'SHMR', 'SMBI', 'SFT', 'SILI', 'SFSW', 'SHPG', 'SJOE', 'SGL', 'SMHG', 'SHOR', 'SGTL', 'SKYA', 'SGBK', 'SGGB', 'SGII', 'SLD', 'SLXA', 'SGNT', 'SLFI', 'SKBO', 'SIOX', 'SIRF', 'SHFL', 'SILV', 'SGAR']: YFPricesMissingError('possibly delisted; no price data found  (1d 2025-03-23 -> 2025-03-30)')\n",
      "['SIRT', 'SGTX', 'SGB', 'SHQA', 'SMFR', 'SINA', 'SGYP', 'SHUA', 'SMED', 'SGAM', 'SHCA', 'SIER', 'SHLX', 'SLAC', 'SLCR', 'SGHL', 'SHOS', 'SFTW', 'SHAP', 'SLCT', 'SLGG', 'SKIS', 'SITO', 'SGLB', 'SGMS', 'SI', 'SINO', 'SHI', 'SMBL', 'SHSP', 'SMIH', 'SGQI', 'SHAC', 'SHLL', 'SHLO', 'SKMD', 'SGEN', 'SIEN', 'SLRY', 'SICK', 'SLHG', 'SLGC', 'SGFY', 'SJIV', 'SLDA', 'SFUN', 'SGOC', 'SJA', 'SJIJ', 'SJR', 'SJI']: YFTzMissingError('possibly delisted; no timezone found')\n",
      "['SLAM', 'SMAR', 'SIVB', 'SHCR', 'SGE', 'SILK', 'SLCA', 'SGH', 'SIX', 'SLNA', 'SIC']: YFPricesMissingError('possibly delisted; no price data found  (1d 2025-03-23 -> 2025-03-30) (Yahoo error = \"No data found, symbol may be delisted\")')\n"
     ]
    },
    {
     "name": "stdout",
     "output_type": "stream",
     "text": [
      "(0, 100)\n"
     ]
    },
    {
     "name": "stderr",
     "output_type": "stream",
     "text": [
      "[*                      3%                       ]  3 of 100 completed"
     ]
    },
    {
     "name": "stdout",
     "output_type": "stream",
     "text": [
      "Batch: SMK - SPRD\r"
     ]
    },
    {
     "name": "stderr",
     "output_type": "stream",
     "text": [
      "[*********************100%***********************]  100 of 100 completed\n",
      "\n",
      "100 Failed downloads:\n",
      "['SPAN', 'SMMX', 'SMTB', 'SNTA', 'SMRA', 'SONE', 'SPLX', 'SORC', 'SNTS', 'SPLS', 'SNDV', 'SPNC', 'SNBT', 'SONX', 'SPPX', 'SMXC', 'SOLD', 'SPLZ', 'SMTL', 'SNI', 'SOCB', 'SOP', 'SPIL', 'SNSA', 'SODA', 'SNBC', 'SNVT', 'SNC', 'SNMX', 'SONC', 'SMT', 'SNAK', 'SMOD', 'SMSC', 'SOMX', 'SOMH', 'SPCH', 'SPRD', 'SPGH', 'SNBI', 'SNUS', 'SOJB', 'SNCI', 'SNDS', 'SNWL', 'SOLF', 'SOJA', 'SNDT', 'SMNS', 'SNIC']: YFPricesMissingError('possibly delisted; no price data found  (1d 2025-03-23 -> 2025-03-30)')\n",
      "['SNCE', 'SORL', 'SPAR', 'SPNE', 'SPCM', 'SODR', 'SPKB', 'SMSA', 'SMM', 'SNDE', 'SOAC', 'SNBP', 'SPFR', 'SPPI', 'SNSS', 'SOLY', 'SPGS', 'SPNV', 'SONA', 'SNRH', 'SOVO', 'SPK', 'SPHS', 'SPN', 'SNNA', 'SNR', 'SPEX', 'SPKE', 'SNPR', 'SMK', 'SNMP', 'SNH', 'SMTS', 'SNII', 'SMTX', 'SNEN', 'SPLK', 'SNHY', 'SOLO', 'SNBJ', 'SMTA', 'SNCA', 'SMSH', 'SMMC', 'SPEL']: YFTzMissingError('possibly delisted; no timezone found')\n",
      "['SMLP', 'SNPO', 'SMMF', 'SOI', 'SP']: YFPricesMissingError('possibly delisted; no price data found  (1d 2025-03-23 -> 2025-03-30) (Yahoo error = \"No data found, symbol may be delisted\")')\n"
     ]
    },
    {
     "name": "stdout",
     "output_type": "stream",
     "text": [
      "(0, 100)\n"
     ]
    },
    {
     "name": "stderr",
     "output_type": "stream",
     "text": [
      "[                       0%                       ]"
     ]
    },
    {
     "name": "stdout",
     "output_type": "stream",
     "text": [
      "Batch: SPRI - STXN\r"
     ]
    },
    {
     "name": "stderr",
     "output_type": "stream",
     "text": [
      "[*********************100%***********************]  100 of 100 completed\n",
      "\n",
      "99 Failed downloads:\n",
      "['SPSN', 'SSC', 'STGN', 'STGS', 'SQI', 'STTS', 'SSWA', 'STXN', 'SRRR', 'SRDD', 'STEI', 'SSTR', 'STBZ', 'STNJ', 'SSS', 'SSNI', 'STLW', 'STDY', 'SQL', 'STBC', 'SPSS', 'SRXA', 'SRIB', 'SRIX', 'STRD', 'SRLS', 'SRVY', 'SRCL', 'STPP', 'STER', 'SSAG', 'STIZ', 'STNV', 'SQST', 'STS', 'SPSX', 'SPRI', 'SPXH', 'SSRG', 'SSPI', 'SSR', 'SPWX', 'SSLI', 'STJ', 'SRSL', 'STAT', 'SQNM']: YFPricesMissingError('possibly delisted; no price data found  (1d 2025-03-23 -> 2025-03-30)')\n",
      "['SRF', 'STIC', 'STOR', 'SRCI', 'STRE', 'STLR', 'SPRQ', 'STB', 'SSPK', 'STIX', 'SSFN', 'STWO', 'SREV', 'STMP', 'STXB', 'STFC', 'SQZ', 'SPTK', 'SRNG', 'STNL', 'SQZZ', 'STRY', 'SRRA', 'STRN', 'STPC', 'STET', 'SSI', 'SRGV', 'SSU', 'SRSA', 'STAY', 'SQBG', 'STND', 'SRC', 'SPRT', 'SRAC', 'STSA', 'SSAA', 'SSW', 'STPK', 'STRC', 'STML', 'STL', 'STFR', 'SRT']: YFTzMissingError('possibly delisted; no timezone found')\n",
      "['SSNT', 'STCN', 'SQ', 'SQSP', 'SRGA', 'SPWR', 'SSIC']: YFPricesMissingError('possibly delisted; no price data found  (1d 2025-03-23 -> 2025-03-30) (Yahoo error = \"No data found, symbol may be delisted\")')\n"
     ]
    },
    {
     "name": "stdout",
     "output_type": "stream",
     "text": [
      "(4, 99)\n"
     ]
    },
    {
     "name": "stderr",
     "output_type": "stream",
     "text": [
      "[***                    6%                       ]  6 of 100 completed"
     ]
    },
    {
     "name": "stdout",
     "output_type": "stream",
     "text": [
      "Batch: STZB - TBRA\r"
     ]
    },
    {
     "name": "stderr",
     "output_type": "stream",
     "text": [
      "[*********************100%***********************]  100 of 100 completed\n",
      "\n",
      "100 Failed downloads:\n",
      "['SUM', 'TAG', 'SWFT', 'SYNF', 'TALL', 'SXUS', 'TALX', 'TARR', 'SUPC', 'SUPG', 'SWY', 'SYXI', 'SUNY', 'SUMT', 'SUAI', 'SYBN', 'SVBF', 'SUFB', 'SVVS', 'TBRA', 'SYUT', 'SUBC', 'SYLN', 'TBDI', 'SYBS', 'SUPX', 'SWBD', 'SYNT', 'SYMS', 'SUPR', 'SWWC', 'TBCC', 'TAOM', 'TAI', 'SURW', 'SWSI', 'SUMX', 'SUNN', 'SWAT', 'TARG', 'TAPA', 'SZMK', 'SXCI', 'SWH', 'TACX', 'SYNP', 'SYNO', 'SYMM', 'SYGR', 'SVLF', 'SYNM', 'SUNH', 'SWRG', 'TAPR']: YFPricesMissingError('possibly delisted; no price data found  (1d 2025-03-23 -> 2025-03-30)')\n",
      "['SZC', 'SVOK', 'SVAC', 'STZB', 'SWET', 'SWBK', 'SYNL', 'SVFA', 'TALS', 'TAT', 'SVMK', 'SUMR', 'SVFB', 'SYNH', 'TA', 'SYN', 'SVFC', 'SWM', 'SV', 'TACA', 'SUMO', 'SYMC', 'SYSN', 'TBCP', 'SWCH', 'SZZL', 'SUNW', 'SYKE', 'TBK', 'TAHT', 'SVFD', 'SUNL', 'SWIR', 'TBA', 'TBOW', 'SWJ', 'SURF', 'SYNC', 'SYX', 'SVBI']: YFTzMissingError('possibly delisted; no timezone found')\n",
      "['TBC', 'SWAV', 'SWN', 'TACO', 'TARO', 'TAST']: YFPricesMissingError('possibly delisted; no price data found  (1d 2025-03-23 -> 2025-03-30) (Yahoo error = \"No data found, symbol may be delisted\")')\n"
     ]
    },
    {
     "name": "stdout",
     "output_type": "stream",
     "text": [
      "(0, 100)\n"
     ]
    },
    {
     "name": "stderr",
     "output_type": "stream",
     "text": [
      "\r",
      "[                       0%                       ]"
     ]
    },
    {
     "name": "stdout",
     "output_type": "stream",
     "text": [
      "Batch: TBSA - TLCX\r"
     ]
    },
    {
     "name": "stderr",
     "output_type": "stream",
     "text": [
      "[*********************100%***********************]  99 of 100 completed\n",
      "\n",
      "100 Failed downloads:\n",
      "['TLCV', 'TCNO', 'TCLD', 'THMD', 'TCNJ', 'TCLP', 'TCRZ', 'TELM', 'TELN', 'TKTX', 'TCAM', 'TIBB', 'THHY', 'TFCO', 'TEST', 'THCX', 'TIWI', 'TBWC', 'TLCX', 'TGAL', 'TLAB', 'TFG', 'TESO', 'THCA', 'TBSI', 'TGIS', 'TCAP', 'THQI', 'TBUS', 'TCPI', 'TCHF', 'TKLC', 'THRK', 'TIII', 'TFM', 'TEC']: YFPricesMissingError('possibly delisted; no price data found  (1d 2025-03-23 -> 2025-03-30)')\n",
      "['TGA', 'TKAT', 'TIVO', 'TIF', 'TISA', 'TBZ', 'TDJ', 'TERP', 'THRX', 'TIBR', 'TFIG', 'TCRD', 'TGC', 'TGH', 'TCF', 'TECZ', 'TGVC', 'TCAC', 'TEKK', 'TDA', 'THCB', 'TCRW', 'THBR', 'TFCF', 'TICK', 'TIER', 'TCVA', 'TCO', 'TFDI', 'TECC', 'TESS', 'TLCR', 'TGE', 'TETC', 'TCHJ', 'TCDA', 'TBSA', 'THMA', 'TGR', 'THRN', 'TKKS', 'THOR', 'TINV', 'TEUM', 'TDE', 'THAC', 'TIKI', 'TKTM', 'TECD', 'TCRR', 'TCFC', 'THNX']: YFTzMissingError('possibly delisted; no timezone found')\n",
      "['TCS', 'TELL', 'TENK', 'TFFP', 'TCJH', 'TCN', 'TELZ', 'TIOA', 'TIG', 'TDCX', 'THCP', 'TGAN']: YFPricesMissingError('possibly delisted; no price data found  (1d 2025-03-23 -> 2025-03-30) (Yahoo error = \"No data found, symbol may be delisted\")')\n"
     ]
    },
    {
     "name": "stdout",
     "output_type": "stream",
     "text": [
      "(0, 100)\n"
     ]
    },
    {
     "name": "stderr",
     "output_type": "stream",
     "text": [
      "\r",
      "[                       0%                       ]"
     ]
    },
    {
     "name": "stdout",
     "output_type": "stream",
     "text": [
      "Batch: TLEO - TRNI\r"
     ]
    },
    {
     "name": "stderr",
     "output_type": "stream",
     "text": [
      "[*********************100%***********************]  99 of 100 completed\n",
      "\n",
      "100 Failed downloads:\n",
      "['TLEO', 'TRMP', 'TRF', 'TMIC', 'TPGI', 'TMWD', 'TMRK', 'TOR', 'TRCR', 'TLRX', 'TRLG', 'TOFR', 'TLWT', 'TRNC', 'TPTH', 'TLO', 'TRGL', 'TOFC', 'TNOX', 'TMPO', 'TLGB', 'TRKN', 'TRBS', 'TRBM', 'TPVY', 'TRFC', 'TRMS', 'TOBC', 'TOMO', 'TPPP', 'TRCI', 'TRNI', 'TMTA', 'TLMR', 'TPAY', 'TONS', 'TPIV', 'TLVT', 'TPS', 'TPCG', 'TRBR', 'TNTX', 'TRAD', 'TO', 'TNCC', 'TRMA', 'TRBC', 'TLGD', 'TRDO']: YFPricesMissingError('possibly delisted; no price data found  (1d 2025-03-23 -> 2025-03-30)')\n",
      "['TNT', 'TLGA', 'TMAC', 'TMK', 'TOWR', 'TLRA', 'TLRD', 'TMTS', 'TRCO', 'TRMR', 'TPCO', 'TPGS', 'TREC', 'TMST', 'TPBA', 'TOTS', 'TRHC', 'TPGY', 'TRIL', 'TNAV', 'TPGH', 'TLMD', 'TMDI', 'TRAQ', 'TRBN', 'TRCA', 'TOCA', 'TOAC', 'TMSR', 'TRKA', 'TRMT', 'TLGT', 'TPRE', 'TRCH', 'TMBR', 'TMCX', 'TRK', 'TOTA', 'TLI', 'TMX', 'TMKR', 'TRNE', 'TMPM', 'TRCB', 'TPTX', 'TMWE', 'TREB']: YFTzMissingError('possibly delisted; no timezone found')\n",
      "['TRIT', 'TRIS', 'TNP', 'TMTC']: YFPricesMissingError('possibly delisted; no price data found  (1d 2025-03-23 -> 2025-03-30) (Yahoo error = \"No data found, symbol may be delisted\")')\n"
     ]
    },
    {
     "name": "stdout",
     "output_type": "stream",
     "text": [
      "(0, 100)\n"
     ]
    },
    {
     "name": "stderr",
     "output_type": "stream",
     "text": [
      "[*                      3%                       ]  3 of 100 completed"
     ]
    },
    {
     "name": "stdout",
     "output_type": "stream",
     "text": [
      "Batch: TRNX - UBNK\r"
     ]
    },
    {
     "name": "stderr",
     "output_type": "stream",
     "text": [
      "[*********************100%***********************]  100 of 100 completed\n",
      "\n",
      "100 Failed downloads:\n",
      "['TSCM', 'TWAV', 'TUNE', 'UBM', 'TRRA', 'TWLL', 'TWOK', 'TXTR', 'TSTF', 'UBN', 'TUEM', 'TYC', 'TWPG', 'UBC', 'UBET', 'UBCD', 'TSRX', 'TTPA', 'TTHI', 'UAPH', 'TUMI', 'TUTS', 'UARM', 'TSFG', 'TTES', 'UAUA', 'TSON', 'TSTY', 'TSO', 'TVIZ', 'TZIX', 'TTF', 'TUTR', 'TSTR', 'TSRO', 'TTIL', 'TSAI', 'UAIR', 'TXCO', 'TWC', 'TUDO', 'TRSK', 'UBMT', 'TRPL', 'UAM', 'TWX', 'TUBE', 'TXUI']: YFPricesMissingError('possibly delisted; no price data found  (1d 2025-03-23 -> 2025-03-30)')\n",
      "['TSS', 'TWCB', 'TUES', 'UBNK', 'TVAC', 'UBA', 'TRQ', 'TXAC', 'TTPY', 'TWCT', 'TYTE', 'TSIA', 'TRNX', 'TVAX', 'TWND', 'TUGC', 'TST', 'TZPS', 'TZAC', 'TSG', 'TRXC', 'TVTY', 'TWOA', 'TWTR', 'TRTN', 'TWNT', 'TTUN', 'TROV', 'TSIB', 'TTPH', 'TSC', 'TWMC', 'TYDE', 'TYME', 'TUFN', 'TTS', 'TSPQ', 'TYPE', 'TYHT', 'TWNI', 'TULY', 'TTCF', 'TRWH', 'TWNK', 'TSLF']: YFTzMissingError('possibly delisted; no timezone found')\n",
      "['TRON', 'TWKS', 'TRTL', 'TTP', 'TUP', 'TSRI', 'TWLV']: YFPricesMissingError('possibly delisted; no price data found  (1d 2025-03-23 -> 2025-03-30) (Yahoo error = \"No data found, symbol may be delisted\")')\n"
     ]
    },
    {
     "name": "stdout",
     "output_type": "stream",
     "text": [
      "(0, 100)\n"
     ]
    },
    {
     "name": "stderr",
     "output_type": "stream",
     "text": [
      "[**                     4%                       ]  4 of 100 completed"
     ]
    },
    {
     "name": "stdout",
     "output_type": "stream",
     "text": [
      "Batch: UBNT - VEAC\r"
     ]
    },
    {
     "name": "stderr",
     "output_type": "stream",
     "text": [
      "[*********************100%***********************]  100 of 100 completed\n",
      "\n",
      "100 Failed downloads:\n",
      "['USPL', 'UNTD', 'UGCE', 'USMR', 'ULCM', 'VARI', 'USIH', 'UHCO', 'UFBS', 'VANS', 'UTEK', 'UTBI', 'UNXL', 'UDRL', 'UTLZ', 'UCBA', 'UVSL', 'USON', 'UHCP', 'UNIZ', 'UPCS', 'UXJ', 'UCBC', 'UOPX', 'UBRT', 'UNCA', 'UPFC', 'USHS', 'VDTH', 'VASC', 'UCP', 'UOP', 'VA', 'VAST', 'VCGH', 'UCNN', 'UNFY', 'UFMC', 'VATA', 'URGI', 'UTLF', 'ULTE', 'UNBJ', 'VAIL', 'UCD', 'UTC', 'USMD', 'VCBI']: YFPricesMissingError('possibly delisted; no price data found  (1d 2025-03-23 -> 2025-03-30)')\n",
      "['UBP', 'UQM', 'USAT', 'UIHC', 'UZA', 'UFS', 'UFAB', 'UPH', 'UPTD', 'VCKA', 'UCFC', 'USX', 'UTME', 'UMX', 'VACQ', 'UMPQ', 'UNCL', 'UTAA', 'UNUM', 'UROV', 'USBE', 'UNFL', 'UNVR', 'UNT', 'VBLT', 'VEAC', 'USCR', 'USER', 'USAK', 'VAM', 'VAQC', 'VCRA', 'UBSH', 'VAR', 'ULTI', 'USWS', 'VCIF', 'UZC', 'VBOC', 'UMRX', 'UTX', 'UCLP', 'VCF', 'UBNT', 'UEPS', 'UPL']: YFTzMissingError('possibly delisted; no timezone found')\n",
      "['UCBI', 'VBIV', 'USAP', 'UGIC', 'VAPO', 'UNAM']: YFPricesMissingError('possibly delisted; no price data found  (1d 2025-03-23 -> 2025-03-30) (Yahoo error = \"No data found, symbol may be delisted\")')\n"
     ]
    },
    {
     "name": "stdout",
     "output_type": "stream",
     "text": [
      "(0, 100)\n"
     ]
    },
    {
     "name": "stderr",
     "output_type": "stream",
     "text": [
      "[*                      2%                       ]  2 of 100 completed"
     ]
    },
    {
     "name": "stdout",
     "output_type": "stream",
     "text": [
      "Batch: VEBM - VRAZ\r"
     ]
    },
    {
     "name": "stderr",
     "output_type": "stream",
     "text": [
      "[*********************100%***********************]  100 of 100 completed\n",
      "\n",
      "100 Failed downloads:\n",
      "['VPTR', 'VMED', 'VQTS', 'VPHM', 'VESH', 'VLLV', 'VITC', 'VLBK', 'VOCS', 'VOOC', 'VNDC', 'VINA', 'VHAQ', 'VLNK', 'VIP', 'VOXW', 'VFGI', 'VLTR', 'VNTV', 'VPTI', 'VMIN', 'VERT', 'VNLS', 'VNUS', 'VNWK', 'VRAY', 'VITR', 'VLCM', 'VIEW', 'VIRL', 'VIGN', 'VIFL', 'VLNC', 'VPF', 'VEGF', 'VMEM', 'VLML', 'VINT', 'VISG', 'VITA', 'VMOY', 'VIXL', 'VOLV', 'VIIZ', 'VLGC', 'VLFG', 'VLLY', 'VNR']: YFPricesMissingError('possibly delisted; no price data found  (1d 2025-03-23 -> 2025-03-30)')\n",
      "['VRAD', 'VNE', 'VGII', 'VIVO', 'VEI', 'VMM', 'VPCC', 'VLRX', 'VELO', 'VJET', 'VICL', 'VPCB', 'VELC', 'VMAC', 'VOCL', 'VNBK', 'VIE', 'VLSM', 'VMET', 'VGAC', 'VIAB', 'VGGL', 'VIH', 'VMW', 'VNTR', 'VRAZ', 'VER', 'VMGA', 'VEDU', 'VQS', 'VECT', 'VIAC', 'VENA', 'VGFC', 'VLTA', 'VEC', 'VISN', 'VISI', 'VLNS', 'VEBM', 'VOSO', 'VLAT', 'VLDR', 'VHNA']: YFTzMissingError('possibly delisted; no timezone found')\n",
      "['VLD', 'VIA', 'VERY', 'VORB', 'VLON', 'VEV', 'VIRI', 'VGR']: YFPricesMissingError('possibly delisted; no price data found  (1d 2025-03-23 -> 2025-03-30) (Yahoo error = \"No data found, symbol may be delisted\")')\n"
     ]
    },
    {
     "name": "stdout",
     "output_type": "stream",
     "text": [
      "(0, 100)\n"
     ]
    },
    {
     "name": "stderr",
     "output_type": "stream",
     "text": [
      "\r",
      "[                       0%                       ]"
     ]
    },
    {
     "name": "stdout",
     "output_type": "stream",
     "text": [
      "Batch: VRGY - WFBI\r"
     ]
    },
    {
     "name": "stderr",
     "output_type": "stream",
     "text": [
      "[*********************100%***********************]  100 of 100 completed\n",
      "\n",
      "100 Failed downloads:\n",
      "['VTNC', 'WALA', 'VSCE', 'VWR', 'VTAL', 'VTEK', 'VSCP', 'WAXM', 'VSR', 'VRNG', 'WAC', 'WCBO', 'VSGN', 'WEET', 'WEBX', 'WCGC', 'VWPT', 'WCAA', 'VSAR', 'VTTI', 'WEDC', 'WBKC', 'WAUW', 'WCRX', 'WAGI', 'VYNT', 'VWKS', 'WEAR', 'VSTY', 'VXXB', 'WBSN', 'WAVS', 'VRNM', 'WDHD', 'VRLK', 'WEFC', 'WBMD', 'VSEA', 'VTIV', 'VSTH', 'VRX', 'WBB', 'VTAE', 'VRYA', 'WEB', 'VRGY', 'WEBM', 'VSNT', 'WFBI', 'WBCO', 'VTYC', 'WAIN']: YFPricesMissingError('possibly delisted; no price data found  (1d 2025-03-23 -> 2025-03-30)')\n",
      "['WETF', 'VSM', 'WEBR', 'WBT', 'WAVC', 'WAIR', 'VRTU', 'VTIQ', 'VSPR', 'WARR', 'WCG', 'VTRO', 'VVNT', 'VSLR', 'VRML', 'VSI', 'WEBK', 'VYGG', 'WDAT', 'VVUS', 'WETG', 'VRS', 'WFBC', 'VTAQ', 'VUNC', 'VTA', 'WBC', 'WAAS', 'WEJO', 'WAGE', 'VSCN', 'WDR', 'WBEV', 'WE', 'VTL', 'WCRT', 'VRTV']: YFTzMissingError('possibly delisted; no timezone found')\n",
      "['VSTO', 'WEL', 'VWE', 'VZIO', 'WENA', 'VTRU', 'WAVD', 'VSAC', 'VWTR', 'VVI', 'VTNR']: YFPricesMissingError('possibly delisted; no price data found  (1d 2025-03-23 -> 2025-03-30) (Yahoo error = \"No data found, symbol may be delisted\")')\n"
     ]
    },
    {
     "name": "stdout",
     "output_type": "stream",
     "text": [
      "(0, 100)\n"
     ]
    },
    {
     "name": "stderr",
     "output_type": "stream",
     "text": [
      "[******                12%                       ]  12 of 100 completed"
     ]
    },
    {
     "name": "stdout",
     "output_type": "stream",
     "text": [
      "Batch: WFHC - WWAV\r"
     ]
    },
    {
     "name": "stderr",
     "output_type": "stream",
     "text": [
      "[*********************100%***********************]  100 of 100 completed\n",
      "\n",
      "100 Failed downloads:\n",
      "['WTBK', 'WSB', 'WLFI', 'WGBS', 'WSPT', 'WSKI', 'WTRS', 'WSCI', 'WIBC', 'WPTE', 'WLBC', 'WPZ', 'WHIT', 'WTCO', 'WIZE', 'WITS', 'WPSC', 'WVCM', 'WFHC', 'WGII', 'WLTH', 'WSTC', 'WFM', 'WGL', 'WSKY', 'WFSL', 'WMAR', 'WSSI', 'WNR', 'WSTF', 'WTRX', 'WNNB', 'WMGC', 'WR', 'WHAI', 'WSBK', 'WSII', 'WSPI', 'WISH', 'WLSF', 'WIND', 'WJCI', 'WGOV', 'WFII', 'WOFC', 'WHIS', 'WFSG', 'WTNY', 'WGRD', 'WLSC', 'WSBA', 'WSBI', 'WTEL', 'WGBC', 'WMIH', 'WRNC', 'WLSN', 'WHRT', 'WFSI', 'WTHN', 'WFMI', 'WRSP', 'WWAV', 'WMAC', 'WITE']: YFPricesMissingError('possibly delisted; no price data found  (1d 2025-03-23 -> 2025-03-30)')\n",
      "['WPCB', 'WLMS', 'WPF', 'WRE', 'WTRH', 'WLTW', 'WLL', 'WMGI', 'WRI', 'WP', 'WWAC', 'WTRU', 'WRAC', 'WRTC', 'WORK', 'WGNA', 'WMC', 'WSFG', 'WLH', 'WNTG', 'WSTG', 'WIFI', 'WPCA', 'WQGA', 'WPG', 'WHUN', 'WTR', 'WRLS', 'WPX', 'WTT', 'WNNR', 'WINS']: YFTzMissingError('possibly delisted; no timezone found')\n",
      "['WKME', 'WIRE', 'WRK']: YFPricesMissingError('possibly delisted; no price data found  (1d 2025-03-23 -> 2025-03-30) (Yahoo error = \"No data found, symbol may be delisted\")')\n"
     ]
    },
    {
     "name": "stdout",
     "output_type": "stream",
     "text": [
      "(0, 100)\n"
     ]
    },
    {
     "name": "stderr",
     "output_type": "stream",
     "text": [
      "[*                      3%                       ]  3 of 100 completed"
     ]
    },
    {
     "name": "stdout",
     "output_type": "stream",
     "text": [
      "Batch: WWAY - YNDX\r"
     ]
    },
    {
     "name": "stderr",
     "output_type": "stream",
     "text": [
      "[*********************100%***********************]  100 of 100 completed\n",
      "\n",
      "100 Failed downloads:\n",
      "['XLTC', 'YAKC', 'WWMO', 'XXIA', 'XETA', 'XS', 'XSON', 'WWAY', 'XSEL', 'YAVY', 'YDNT', 'XCYT', 'XBKS', 'XLBS', 'WZEN', 'YESR', 'XLKS', 'XF', 'WWWB', 'XE', 'YDIV', 'WYPT', 'YGRO', 'XRDC', 'XTXI', 'XK', 'XD', 'XPLR', 'XLES', 'XIVH', 'XICO', 'XUE', 'YANB', 'XFNE', 'XMLG', 'YDIW', 'WWVY', 'XRM', 'XTLY', 'WYN', 'XRGC', 'XVIX', 'WYOI', 'YDKN', 'XYNY', 'XRIT', 'XING', 'XU', 'XTND', 'XNVA', 'WWON', 'XNPT', 'XRA', 'XCRA', 'XLYS', 'XMSR', 'XLUS', 'XOXO', 'XH', 'XOCM', 'XLVS', 'XLPS', 'YCB', 'XNWK', 'XSBG', 'XATA', 'XLIS', 'XXV']: YFPricesMissingError('possibly delisted; no price data found  (1d 2025-03-23 -> 2025-03-30)')\n",
      "['XFIN', 'YNDX']: YFPricesMissingError('possibly delisted; no price data found  (1d 2025-03-23 -> 2025-03-30) (Yahoo error = \"No data found, symbol may be delisted\")')\n",
      "['XAN', 'XLUX', 'YELL', 'XPAX', 'WWE', 'XGTI', 'XPDI', 'XPOA', 'Y', 'WXCO', 'XON', 'XL', 'XLRN', 'XSPL', 'YGF', 'YAC', 'XPDB', 'YMTX', 'YHOO', 'XEC', 'YGTY', 'YGYI', 'XM', 'XOG', 'XFML', 'XSPA', 'XENT', 'XIV', 'XLNX', 'WYND']: YFTzMissingError('possibly delisted; no timezone found')\n"
     ]
    },
    {
     "name": "stdout",
     "output_type": "stream",
     "text": [
      "(0, 100)\n"
     ]
    },
    {
     "name": "stderr",
     "output_type": "stream",
     "text": [
      "[**                     4%                       ]  3 of 76 completed"
     ]
    },
    {
     "name": "stdout",
     "output_type": "stream",
     "text": [
      "Batch: YOGA - ZZX\r"
     ]
    },
    {
     "name": "stderr",
     "output_type": "stream",
     "text": [
      "[*********************100%***********************]  75 of 76 completed\n",
      "\n",
      "76 Failed downloads:\n",
      "['ZRBA', 'ZONS', 'ZZK', 'YTHK', 'ZOLL', 'ZVXI', 'YZCM', 'ZENX', 'ZIPR', 'ZRAN', 'ZZX', 'ZZO', 'ZILA', 'ZLRG', 'ZKID', 'ZLTQ', 'ZOO', 'ZICA', 'ZONA', 'ZMBA', 'ZILG', 'ZNDT', 'ZVV', 'ZPIN', 'YOKU', 'ZOOG', 'ZIGO', 'YXR', 'ZUO', 'ZEPE', 'ZOMX', 'ZOLT', 'YTEC', 'ZFC', 'YZC', 'ZOES', 'ZAIS']: YFPricesMissingError('possibly delisted; no price data found  (1d 2025-03-23 -> 2025-03-30)')\n",
      "['ZNH', 'ZME', 'ZIXI', 'ZSAN', 'ZN', 'YTPG', 'ZIOP', 'ZFGN', 'ZY', 'ZAGG', 'ZWRK', 'ZARS', 'ZEN', 'ZGNX', 'ZYNE', 'ZAPZ', 'YRCW', 'ZBZX', 'ZT', 'ZEV', 'YOGA', 'YUMA', 'ZHIC', 'ZING', 'YPRO', 'ZVO', 'ZGYH', 'ZAYO', 'YSAC', 'ZDIV', 'ZEST', 'ZNGA']: YFTzMissingError('possibly delisted; no timezone found')\n",
      "['YVR', 'ZFOX', 'ZNTE', 'YS', 'YTEN', 'ZLS']: YFPricesMissingError('possibly delisted; no price data found  (1d 2025-03-23 -> 2025-03-30) (Yahoo error = \"No data found, symbol may be delisted\")')\n",
      "['ZTST']: YFInvalidPeriodError(\"ZTST: Period 'max' is invalid, must be of the format 1d, 5d, etc.\")\n"
     ]
    },
    {
     "name": "stdout",
     "output_type": "stream",
     "text": [
      "(0, 76)\n"
     ]
    }
   ],
   "source": [
    "failed_again = []\n",
    "i = 0\n",
    "while i <= n:\n",
    "    try:\n",
    "        first = i\n",
    "        last = min(i + 100, n)\n",
    "        batch = failed[first:last]\n",
    "        print(f'Batch: {batch[0]} - {batch[-1]}', end='\\r')\n",
    "        df = yf.download(batch, start=start, end=end)['Adj Close']\n",
    "        print(df.shape)\n",
    "        if len(df):\n",
    "            df = df.loc[:, df.iloc[-1, :].notnull()]\n",
    "            batch_active = df.columns\n",
    "            # Exclude if current val < 2.00\n",
    "            df = df.loc[:, df.iloc[-1, :] >= 2.]\n",
    "            batch_omit = [sym for sym in batch_active if sym not in df.columns]\n",
    "            omit += list(batch_omit)\n",
    "            active += list(df.columns)\n",
    "            fails = [sym for sym in batch if sym not in df.columns and sym not in batch_omit]\n",
    "            failed_again += fails\n",
    "        else:\n",
    "            failed_again += batch\n",
    "        sleep(3)\n",
    "        i += 100\n",
    "    except Exception as e:\n",
    "        print(e)\n",
    "        pass"
   ]
  },
  {
   "cell_type": "markdown",
   "id": "1148708d",
   "metadata": {},
   "source": [
    "### 3rd Attempt"
   ]
  },
  {
   "cell_type": "code",
   "execution_count": 33,
   "id": "04be4557",
   "metadata": {},
   "outputs": [
    {
     "data": {
      "text/plain": [
       "(False, False, True)"
      ]
     },
     "execution_count": 33,
     "metadata": {},
     "output_type": "execute_result"
    }
   ],
   "source": [
    "'ACAI' in active, 'ACAI' in failed, 'ACAI' in omit "
   ]
  },
  {
   "cell_type": "code",
   "execution_count": 34,
   "id": "57ec9dc6",
   "metadata": {},
   "outputs": [
    {
     "data": {
      "text/plain": [
       "(4663, 1170)"
      ]
     },
     "execution_count": 34,
     "metadata": {},
     "output_type": "execute_result"
    }
   ],
   "source": [
    "len(active), len(omit)"
   ]
  },
  {
   "cell_type": "code",
   "execution_count": 35,
   "id": "f0d60d4d",
   "metadata": {},
   "outputs": [
    {
     "data": {
      "text/plain": [
       "6176"
      ]
     },
     "execution_count": 35,
     "metadata": {},
     "output_type": "execute_result"
    }
   ],
   "source": [
    "failed = failed_again[:]\n",
    "n = len(failed)\n",
    "n"
   ]
  },
  {
   "cell_type": "code",
   "execution_count": 36,
   "id": "415986e2",
   "metadata": {
    "scrolled": true
   },
   "outputs": [
    {
     "name": "stderr",
     "output_type": "stream",
     "text": [
      "[**                     5%                       ]  5 of 100 completed"
     ]
    },
    {
     "name": "stdout",
     "output_type": "stream",
     "text": [
      "Batch: AAAP - ADF\r"
     ]
    },
    {
     "name": "stderr",
     "output_type": "stream",
     "text": [
      "[*********************100%***********************]  100 of 100 completed\n",
      "\n",
      "100 Failed downloads:\n",
      "['ACFC', 'ABCO', 'ABBC', 'ABNJ', 'AANB', 'ABCD', 'ACAP', 'ACTI', 'ABCW', 'ABBK', 'ACCI', 'ABAC', 'AACE', 'ACG', 'ABVA', 'ABGX', 'ACTS', 'AAAP', 'ACTY', 'ACCL', 'ABBI', 'ABXA', 'ADBL', 'ABLX', 'ACAS', 'AATI', 'ABAX', 'ABRX', 'AATK', 'ABER', 'ACRN', 'AABC', 'AACC', 'ACOM', 'ACLA', 'ACGY', 'ABRI', 'ABTL', 'ACW', 'ACCP', 'ACXM', 'AAII', 'ACAT', 'AAPC', 'ACEC', 'ACLI']: YFPricesMissingError('possibly delisted; no price data found  (1d 2025-03-23 -> 2025-03-30)')\n",
      "['ACND', 'ABST', 'ACTD', 'ACEV', 'ACHN', 'AAU', 'ACII', 'ADF', 'AABA', 'ACQR', 'ACAM', 'ACGN', 'AAWW', 'ADEX', 'ACH', 'ABB', 'ACAX', 'ADES', 'ACTT', 'AAIN', 'ABTX', 'ACDI', 'ACIA', 'ADAL', 'ACTC', 'ACY', 'ACAH', 'ACCT', 'AACQ', 'ACAQ', 'ABGI', 'ABC', 'ABIL', 'AAXN', 'ACBI', 'ACRO', 'AAC', 'ACOR', 'ABDC', 'AAIC', 'AAQC', 'ABII', 'ACC', 'ACRX']: YFTzMissingError('possibly delisted; no timezone found')\n",
      "['ACAC', 'ACAB', 'ACER', 'AAMC', 'ABIO', 'ABMD', 'AAN', 'ACBA', 'ACST', 'AACI']: YFPricesMissingError('possibly delisted; no price data found  (1d 2025-03-23 -> 2025-03-30) (Yahoo error = \"No data found, symbol may be delisted\")')\n"
     ]
    },
    {
     "name": "stdout",
     "output_type": "stream",
     "text": [
      "(0, 100)\n"
     ]
    },
    {
     "name": "stderr",
     "output_type": "stream",
     "text": [
      "[                       0%                       ]"
     ]
    },
    {
     "name": "stdout",
     "output_type": "stream",
     "text": [
      "Batch: ADGF - AIRV\r"
     ]
    },
    {
     "name": "stderr",
     "output_type": "stream",
     "text": [
      "[*********************100%***********************]  100 of 100 completed\n",
      "\n",
      "100 Failed downloads:\n",
      "['AINN', 'AFCO', 'ADZA', 'ADIN', 'ADIC', 'AETC', 'AHS', 'ADSX', 'ADRX', 'AHCI', 'AFOP', 'AFAM', 'ADLR', 'AF', 'AEGR', 'AEOS', 'AFBC', 'AIB', 'ADK', 'AFCI', 'AET', 'AFSI', 'AGU', 'AHGP', 'AFBK', 'ADTK', 'ADSC', 'AEPI', 'AFFX', 'AGCC', 'AIRM', 'AGAM', 'AHP', 'AIRN', 'ADPI', 'AE', 'AHPI', 'AGII']: YFPricesMissingError('possibly delisted; no price data found  (1d 2025-03-23 -> 2025-03-30)')\n",
      "['AEL', 'AGTI', 'AGR', 'AFAC', 'AFAR', 'AEZS', 'ADTH', 'AGBA', 'AFT', 'AIRC', 'AIF', 'AGRX', 'ADRT', 'AINC']: YFPricesMissingError('possibly delisted; no price data found  (1d 2025-03-23 -> 2025-03-30) (Yahoo error = \"No data found, symbol may be delisted\")')\n",
      "['AIPC', 'AESC', 'AEHA', 'AGLE', 'AEY', 'AEGN', 'AFH', 'AHPA', 'AFIN', 'AGFS', 'ADMS', 'AHAC', 'AHRN', 'AGIL', 'AESE', 'AIPT', 'AIRV', 'AGCB', 'AGC', 'ADS', 'AHC', 'ADRO', 'AGAC', 'AETI', 'AFAQ', 'AGE', 'AIMC', 'AIMT', 'AFI', 'AERI', 'AERC', 'AIC', 'ADGI', 'AIKI', 'AFTR', 'ADOM', 'ADMP', 'AEAC', 'AGGR', 'ADSW', 'AGN', 'AGTC', 'AHM', 'ADRA', 'AINV', 'ADGF', 'ADOC', 'AFGH']: YFTzMissingError('possibly delisted; no timezone found')\n"
     ]
    },
    {
     "name": "stdout",
     "output_type": "stream",
     "text": [
      "(0, 100)\n"
     ]
    },
    {
     "name": "stderr",
     "output_type": "stream",
     "text": [
      "[*                      3%                       ]  3 of 100 completed"
     ]
    },
    {
     "name": "stdout",
     "output_type": "stream",
     "text": [
      "Batch: AIW - ANAC\r"
     ]
    },
    {
     "name": "stderr",
     "output_type": "stream",
     "text": [
      "[*********************100%***********************]  100 of 100 completed\n",
      "\n",
      "99 Failed downloads:\n",
      "['AMCP', 'AMQ', 'ALOG', 'ALFI', 'AMND', 'ALOY', 'AMCS', 'ALDW', 'ALDN', 'AMPB', 'AMAC', 'AMGI', 'AMMD', 'ALPS', 'AIXG', 'ALLI', 'AMIE', 'AMCC', 'ALSM', 'AMEV', 'ALNC', 'AIXD', 'ALZH', 'AMDA', 'ALTM', 'AMIC', 'AMAB', 'AMFI', 'AMRI', 'AMLN', 'ALVU', 'AMIS', 'AMTG', 'ALPX', 'ALVR', 'ALTE', 'AMCE', 'AKLM', 'ALN', 'AMSG', 'ALGX', 'ALTH', 'ALJJ']: YFPricesMissingError('possibly delisted; no price data found  (1d 2025-03-23 -> 2025-03-30)')\n",
      "['ALNA', 'AMTI', 'ALAC', 'AKLA', 'AMCI', 'AMRB', 'AMCN', 'AMV', 'ALBO', 'AIY', 'ALGR', 'AJRD', 'ALO', 'ALDR', 'ALR', 'ALXN', 'AKER', 'AMAG', 'AKIC', 'AKG', 'AKNS', 'AKCA', 'ALQA', 'AMPI', 'AKU', 'AMEH', 'ALOR', 'ALTU', 'ALYA', 'AMNB', 'AMOT', 'AMFW', 'ALPA', 'ALTA', 'AMHC', 'AMAM', 'AMAO', 'ALSK', 'AMRH', 'AKS', 'ALUS', 'AJAX', 'AIW', 'AKUS', 'ANAC', 'AKRX']: YFTzMissingError('possibly delisted; no timezone found')\n",
      "['ALPN', 'ALCC', 'ALLG', 'AMRS', 'ALRN', 'AMK', 'AKLI', 'AJXA', 'AJX', 'ALIM']: YFPricesMissingError('possibly delisted; no price data found  (1d 2025-03-23 -> 2025-03-30) (Yahoo error = \"No data found, symbol may be delisted\")')\n"
     ]
    },
    {
     "name": "stdout",
     "output_type": "stream",
     "text": [
      "(3, 99)\n"
     ]
    },
    {
     "name": "stderr",
     "output_type": "stream",
     "text": [
      "[*                      3%                       ]  3 of 100 completed"
     ]
    },
    {
     "name": "stdout",
     "output_type": "stream",
     "text": [
      "Batch: ANAT - ARPI\r"
     ]
    },
    {
     "name": "stderr",
     "output_type": "stream",
     "text": [
      "[*********************100%***********************]  100 of 100 completed\n",
      "\n",
      "100 Failed downloads:\n",
      "['ANSW', 'APRS', 'ARLC', 'APUS', 'ANNY', 'APLP', 'APHT', 'AOI', 'ANEN', 'APCS', 'ANCC', 'ANSR', 'APTI', 'APFC', 'ARMO', 'ANDS', 'AQNT', 'ANCX', 'ARPI', 'ARCL', 'ARGN', 'ARCX', 'ANCB', 'APPX', 'ANLY', 'ANDW', 'ARBX', 'ARBR', 'ARII', 'APIC', 'APOL', 'ARBA', 'ARNN', 'ANNB', 'ANDV', 'ANST', 'APTX', 'APLX', 'APKT', 'ANPI', 'APPD', 'ANSI', 'APRI', 'ANSL', 'ANTP', 'ARG', 'ARIA', 'AQQQ']: YFPricesMissingError('possibly delisted; no price data found  (1d 2025-03-23 -> 2025-03-30)')\n",
      "['ANZU', 'AQNA', 'AND', 'APAC', 'AQUA', 'AONE', 'ARNA', 'ARNC', 'APGN', 'ARNQ', 'ARCI', 'APTM', 'ANDA', 'APY', 'APMI', 'APEX', 'AQXP', 'APU', 'AQ', 'ANAT', 'ARD', 'APHA', 'ANGN', 'APRN', 'APR', 'ANH', 'ARCE', 'APPH', 'AREX', 'APSG', 'ANOR', 'AOBC', 'APC', 'ANDX', 'ANTM', 'ARCW', 'APN', 'ARAV', 'APXT', 'ARCK', 'ARIZ', 'ANFI', 'ARGO', 'ARGU', 'ARA', 'APEN', 'ARBG', 'APGB']: YFTzMissingError('possibly delisted; no timezone found')\n",
      "['ARCH', 'APCA', 'ARC', 'AQNU']: YFPricesMissingError('possibly delisted; no price data found  (1d 2025-03-23 -> 2025-03-30) (Yahoo error = \"No data found, symbol may be delisted\")')\n"
     ]
    },
    {
     "name": "stdout",
     "output_type": "stream",
     "text": [
      "(0, 100)\n"
     ]
    },
    {
     "name": "stderr",
     "output_type": "stream",
     "text": [
      "[**                     4%                       ]  4 of 100 completed"
     ]
    },
    {
     "name": "stdout",
     "output_type": "stream",
     "text": [
      "Batch: ARPO - AVCI\r"
     ]
    },
    {
     "name": "stderr",
     "output_type": "stream",
     "text": [
      "[*********************100%***********************]  100 of 100 completed\n",
      "\n",
      "100 Failed downloads:\n",
      "['ASHW', 'ARRW', 'AVCI', 'ATW', 'ASAP', 'ARXX', 'AUSA', 'ARXT', 'ASKJ', 'ASTT', 'ASFN', 'ARTC', 'ATSN', 'ASCL', 'AUTC', 'ASVI', 'ASEI', 'AV', 'ATBC', 'ASGR', 'ASBB', 'ARRU', 'ARWM', 'ARRO', 'ARTG', 'ATSI', 'ATMI', 'ATX', 'ATPG', 'ATHX', 'ARWA', 'AVCA', 'ASTX', 'AUXO', 'AUTH', 'ASPM', 'ATNY', 'ATML', 'ATHR', 'ATYT']: YFPricesMissingError('possibly delisted; no price data found  (1d 2025-03-23 -> 2025-03-30)')\n",
      "['ASPA', 'ARYA', 'ATCO', 'ARYE', 'AVAC', 'AUS', 'ASNA', 'AVAN', 'AT', 'ARTE', 'ATIS', 'ARRS', 'ASAQ', 'ARYB', 'ATU', 'ATAC', 'ATNX', 'AUO', 'ARRQ', 'AUG', 'ARTX', 'ATMR', 'ATAK', 'ATVC', 'ATTO', 'ATVI', 'ATHN', 'ARVL', 'ASFI', 'AUY', 'ARTA', 'ASV', 'ASZ', 'AUD', 'ATA', 'ATH', 'AUTO', 'ATC', 'ASCA', 'ARQL', 'ASAX', 'AURC', 'ATY', 'AUXG', 'ATRS', 'ARPO', 'ATAQ', 'AUSU', 'ASZU', 'ATTU']: YFTzMissingError('possibly delisted; no timezone found')\n",
      "['ARYD', 'ASAI', 'ATIF', 'AUGX', 'AULT', 'ATRI', 'ASXC', 'AUVI', 'ASTR', 'ATCX']: YFPricesMissingError('possibly delisted; no price data found  (1d 2025-03-23 -> 2025-03-30) (Yahoo error = \"No data found, symbol may be delisted\")')\n"
     ]
    },
    {
     "name": "stdout",
     "output_type": "stream",
     "text": [
      "(0, 100)\n"
     ]
    },
    {
     "name": "stderr",
     "output_type": "stream",
     "text": [
      "\r",
      "[                       0%                       ]\r",
      "[                       0%                       ]"
     ]
    },
    {
     "name": "stdout",
     "output_type": "stream",
     "text": [
      "Batch: AVCO - BBQZ\r"
     ]
    },
    {
     "name": "stderr",
     "output_type": "stream",
     "text": [
      "[*********************100%***********************]  100 of 100 completed\n",
      "\n",
      "75 Failed downloads:\n",
      "['AVXS', 'BBQZ', 'AVG', 'BBHL', 'AYT', 'AVGN', 'BABS', 'BAA', 'AVNU', 'AWL', 'AVNC', 'AVRX', 'AVNX', 'AXCA', 'BBND', 'BARI', 'AVDR', 'AXLL', 'AXYX', 'AZPN', 'AVZA', 'AVII', 'BBCO', 'BBBB', 'BBG', 'BALB', 'AXAR', 'AXYS', 'AXLA', 'BBOX']: YFPricesMissingError('possibly delisted; no price data found  (1d 2025-03-23 -> 2025-03-30)')\n",
      "['AY', 'B', 'BBQ', 'AXNX', 'AVHI', 'AVRO', 'BACA', 'AVTA']: YFPricesMissingError('possibly delisted; no price data found  (1d 2025-03-23 -> 2025-03-30) (Yahoo error = \"No data found, symbol may be delisted\")')\n",
      "['AVEO', 'BBI', 'AZRE', 'AZYO', 'BBK', 'AZRX', 'AVP', 'BARE', 'AYLA', 'AVX', 'BAMR', 'AXU', 'AXH', 'BBBY', 'BAMI', 'AXAS', 'BAF', 'AVLR', 'AVYA', 'AVCO', 'BBF', 'AVH', 'BABY', 'AVID', 'AZMA', 'BBLN', 'BAMH', 'BASI', 'AYX', 'BBL', 'AYR', 'AWSM', 'AXGT', 'AXO', 'AVCT', 'BAS', 'AXE']: YFTzMissingError('possibly delisted; no timezone found')\n"
     ]
    },
    {
     "name": "stdout",
     "output_type": "stream",
     "text": [
      "(5, 75)\n"
     ]
    },
    {
     "name": "stderr",
     "output_type": "stream",
     "text": [
      "\r",
      "[                       0%                       ]\r",
      "[                       0%                       ]"
     ]
    },
    {
     "name": "stdout",
     "output_type": "stream",
     "text": [
      "Batch: BBRG - BKRS\r"
     ]
    },
    {
     "name": "stderr",
     "output_type": "stream",
     "text": [
      "[*********************100%***********************]  100 of 100 completed\n",
      "\n",
      "100 Failed downloads:\n",
      "['BEIQ', 'BKMU', 'BIOC', 'BEXP', 'BKBK', 'BIK', 'BCGI', 'BGSC', 'BJGP', 'BDOG', 'BIGD', 'BIDZ', 'BGRH', 'BCOV', 'BDAY', 'BFSB', 'BJJN', 'BEAR', 'BFEN', 'BBRY', 'BFBC', 'BIOV', 'BCSI', 'BEER', 'BIVN', 'BFNB', 'BKRS', 'BJO', 'BCSB', 'BKFS', 'BFED', 'BEAS', 'BGEN', 'BELM', 'BESI', 'BJZ', 'BEAV', 'BCON', 'BDG', 'BKHM', 'BHAG', 'BIVV', 'BIOP', 'BHI', 'BIE', 'BBRG']: YFPricesMissingError('possibly delisted; no price data found  (1d 2025-03-23 -> 2025-03-30)')\n",
      "['BIOL', 'BDSI', 'BIG', 'BCSA', 'BFAC', 'BETS', 'BCEL', 'BITE']: YFPricesMissingError('possibly delisted; no price data found  (1d 2025-03-23 -> 2025-03-30) (Yahoo error = \"No data found, symbol may be delisted\")')\n",
      "['BDGE', 'BFRM', 'BDFC', 'BCTG', 'BIOT', 'BDR', 'BKHU', 'BCEI', 'BIQI', 'BCOR', 'BGRY', 'BIOS', 'BKK', 'BCOM', 'BENE', 'BFA', 'BBX', 'BFO', 'BHTG', 'BGIO', 'BBRX', 'BFX', 'BIF', 'BFY', 'BFB', 'BGG', 'BCAC', 'BGCP', 'BFT', 'BHBK', 'BCRH', 'BKI', 'BFYT', 'BKCC', 'BID', 'BHMW', 'BBT', 'BCYP', 'BKJ', 'BHSE', 'BIER', 'BIOM', 'BHGE', 'BGSX', 'BHG', 'BHZN']: YFTzMissingError('possibly delisted; no timezone found')\n"
     ]
    },
    {
     "name": "stdout",
     "output_type": "stream",
     "text": [
      "(0, 100)\n"
     ]
    },
    {
     "name": "stderr",
     "output_type": "stream",
     "text": [
      "[*                      3%                       ]  3 of 100 completed"
     ]
    },
    {
     "name": "stdout",
     "output_type": "stream",
     "text": [
      "Batch: BKS - BRNC\r"
     ]
    },
    {
     "name": "stderr",
     "output_type": "stream",
     "text": [
      "[*********************100%***********************]  98 of 100 completed\n",
      "\n",
      "100 Failed downloads:\n",
      "['BPUR', 'BLSW', 'BRKH', 'BOSA', 'BRNC', 'BNHN', 'BLT', 'BOXC', 'BNBN', 'BRCD', 'BONA', 'BKST', 'BOFL', 'BLOX', 'BRIO', 'BLSI', 'BRKT', 'BRAQ', 'BPRG', 'BPK', 'BLTI', 'BNK', 'BLVD', 'BRIL', 'BREL', 'BMHC', 'BLAC', 'BLUD', 'BLSC', 'BOFI', 'BMTX', 'BORD', 'BOVA', 'BOBJ', 'BMTI', 'BORL', 'BRLC', 'BLJ', 'BNCN', 'BKWW', 'BOBE', 'BOI', 'BMC', 'BLH', 'BOJA', 'BMET']: YFPricesMissingError('possibly delisted; no price data found  (1d 2025-03-23 -> 2025-03-30)')\n",
      "['BPAC', 'BMRG', 'BOXD', 'BNNR', 'BPMP', 'BLOG', 'BOAC', 'BOMN', 'BRLI', 'BLU', 'BRDS', 'BRD', 'BPMX', 'BPR', 'BNMV', 'BPL', 'BRIV', 'BLL', 'BMCH', 'BRMK', 'BPYU', 'BNCL', 'BOWX', 'BPSG', 'BKS', 'BNSO', 'BOAS', 'BLTS', 'BMAC', 'BLNG', 'BLMT', 'BNFT', 'BOCH', 'BODY', 'BLSA', 'BRFI', 'BPFH', 'BREW', 'BRKA', 'BMTC', 'BRKS', 'BRG', 'BLUW', 'BLI', 'BLCM', 'BQH']: YFTzMissingError('possibly delisted; no timezone found')\n",
      "['BNRE', 'BOWL', 'BLPH', 'BOCN', 'BLUA', 'BRCN', 'BREZ', 'BMAQ']: YFPricesMissingError('possibly delisted; no price data found  (1d 2025-03-23 -> 2025-03-30) (Yahoo error = \"No data found, symbol may be delisted\")')\n"
     ]
    },
    {
     "name": "stdout",
     "output_type": "stream",
     "text": [
      "(0, 100)\n"
     ]
    },
    {
     "name": "stderr",
     "output_type": "stream",
     "text": [
      "[**                     5%                       ]  5 of 100 completed"
     ]
    },
    {
     "name": "stdout",
     "output_type": "stream",
     "text": [
      "Batch: BRP - CAP\r"
     ]
    },
    {
     "name": "stderr",
     "output_type": "stream",
     "text": [
      "[*********************100%***********************]  100 of 100 completed\n",
      "\n",
      "100 Failed downloads:\n",
      "['BTGC', 'BSFT', 'CAEI', 'BXLT', 'BVEW', 'CAND', 'BTHS', 'BSF', 'BTEK', 'BWLD', 'BUCA', 'BUNZ', 'BWCF', 'BSBN', 'BYLK', 'CAFN', 'BZBC', 'CACQ', 'BXRX', 'CACB', 'BSTW', 'BWP', 'CALD', 'BSXT', 'BSMD', 'BULK', 'CAGC', 'CABG', 'BUCY', 'CAA', 'BVA', 'CAM', 'CAMD', 'CANI', 'BSCH', 'BVEX', 'CACS', 'CAB', 'BWOW', 'CADA', 'BSWN', 'BSTE', 'BXXX', 'BTRY', 'BTFG', 'CALP', 'BUNT', 'BWNG', 'BUNL', 'BYBI', 'CABL', 'BYBK', 'BWAC', 'CAFE']: YFPricesMissingError('possibly delisted; no price data found  (1d 2025-03-23 -> 2025-03-30)')\n",
      "['BXG', 'BTAQ', 'BSA', 'BTNB', 'BSPE', 'BRQS', 'BSD', 'BRPA', 'BSAQ', 'BXS', 'CAHC', 'BZM', 'BSN', 'CAI', 'BUYY', 'BTB', 'BTN', 'CAP', 'BRPM', 'CADC', 'BZC', 'BSTC', 'BURG', 'CANO', 'BWC', 'BWMC', 'BSTM', 'BWV', 'BYN', 'BSE', 'BSQR', 'BTRS', 'BYTS', 'BSGA', 'CAHS', 'BVH', 'BTWN', 'BVSN', 'BSKY', 'BWTR']: YFTzMissingError('possibly delisted; no timezone found')\n",
      "['BRSH', 'BRP', 'CACO', 'BWAQ', 'CALB', 'BSIG']: YFPricesMissingError('possibly delisted; no price data found  (1d 2025-03-23 -> 2025-03-30) (Yahoo error = \"No data found, symbol may be delisted\")')\n"
     ]
    },
    {
     "name": "stdout",
     "output_type": "stream",
     "text": [
      "(0, 100)\n"
     ]
    },
    {
     "name": "stderr",
     "output_type": "stream",
     "text": [
      "[**                     5%                       ]  5 of 100 completed"
     ]
    },
    {
     "name": "stdout",
     "output_type": "stream",
     "text": [
      "Batch: CAPA - CDWC\r"
     ]
    },
    {
     "name": "stderr",
     "output_type": "stream",
     "text": [
      "[*********************100%***********************]  99 of 100 completed\n",
      "\n",
      "100 Failed downloads:\n",
      "['CDIC', 'CCBI', 'CCBN', 'CBNV', 'CBNJ', 'CCBT', 'CBYL', 'CBOU', 'CDCS', 'CCBL', 'CBF', 'CDIS', 'CDRB', 'CBKN', 'CDWC', 'CBEY', 'CDMO', 'CDS', 'CATZ', 'CCSC', 'CBHI', 'CDCY', 'CBMX', 'CCTS', 'CBCF', 'CDEN', 'CCT', 'CCN', 'CBAK', 'CDMS', 'CAVM', 'CBIZ', 'CATC', 'CDI', 'CCBP', 'CCCG', 'CDSW', 'CASC', 'CAVB', 'CASB', 'CBMD', 'CBR', 'CBSS', 'CCRT', 'CCP', 'CAZA', 'CATT', 'CCE', 'CBUK']: YFPricesMissingError('possibly delisted; no price data found  (1d 2025-03-23 -> 2025-03-30)')\n",
      "['CCXX', 'CBMB', 'CBM', 'CCFI', 'CBLI', 'CCXI', 'CCVI', 'CATS', 'CDOR', 'CASM', 'CBTX', 'CATM', 'CBPO', 'CCX', 'CARH', 'CCC', 'CCMP', 'CDR', 'CBIO', 'CATB', 'CCAC', 'CCIV', 'CBAH', 'CCRC', 'CCCL', 'CCAI', 'CCNC', 'CDK', 'CCSM', 'CCH', 'CDEV', 'CBB', 'CBMG', 'CBPX', 'CBLK', 'CCR', 'CDAY', 'CASA', 'CCV', 'CARB', 'CAPA', 'CBX', 'CBS', 'CBAY', 'CCA', 'CCF', 'CARO', 'CCNI']: YFTzMissingError('possibly delisted; no timezone found')\n",
      "['CBRG', 'CDAK', 'CDAQ']: YFPricesMissingError('possibly delisted; no price data found  (1d 2025-03-23 -> 2025-03-30) (Yahoo error = \"No data found, symbol may be delisted\")')\n"
     ]
    },
    {
     "name": "stdout",
     "output_type": "stream",
     "text": [
      "(0, 100)\n"
     ]
    },
    {
     "name": "stderr",
     "output_type": "stream",
     "text": [
      "[                       0%                       ]"
     ]
    },
    {
     "name": "stdout",
     "output_type": "stream",
     "text": [
      "Batch: CEA - CHST\r"
     ]
    },
    {
     "name": "stderr",
     "output_type": "stream",
     "text": [
      "[*********************100%***********************]  100 of 100 completed\n",
      "\n",
      "93 Failed downloads:\n",
      "['CHSI', 'CESI', 'CFK', 'CHFN', 'CFRX', 'CEMP', 'CEDC', 'CGTK', 'CHIR', 'CFNL', 'CFSL', 'CEB', 'CFFC', 'CFBX', 'CFB', 'CFSI', 'CEPH', 'CEDU', 'CHST', 'CESV', 'CFI', 'CEBK', 'CFSG', 'CEGE', 'CERG', 'CHNA', 'CHRK', 'CENF', 'CHOC', 'CETC', 'CHBT', 'CHRT', 'CFHI', 'CFD', 'CHKE', 'CFGE', 'CGFW', 'CFCP', 'CFCB']: YFPricesMissingError('possibly delisted; no price data found  (1d 2025-03-23 -> 2025-03-30)')\n",
      "['CHS', 'CHA', 'CHFW', 'CECE', 'CENQ', 'CFFA', 'CHAC', 'CHAQ', 'CEQP', 'CEMI', 'CERN', 'CENH', 'CFX', 'CELL', 'CFXA', 'CFVI', 'CHIP', 'CGRN', 'CETV', 'CHPM', 'CHRA', 'CGRB', 'CHNG', 'CERC', 'CFMS', 'CFIV', 'CHFS', 'CHEA', 'CHSP', 'CHG', 'CFBI', 'CGIX', 'CFII', 'CHFC', 'CHMT', 'CFFE', 'CFV', 'CELG', 'CEDR', 'CHAP', 'CEA', 'CFAC', 'CHMA', 'CEL', 'CEN', 'CEU']: YFTzMissingError('possibly delisted; no timezone found')\n",
      "['CHK', 'CHAA', 'CERE', 'CEI', 'CETU', 'CEIX', 'CEM', 'CGA']: YFPricesMissingError('possibly delisted; no price data found  (1d 2025-03-23 -> 2025-03-30) (Yahoo error = \"No data found, symbol may be delisted\")')\n"
     ]
    },
    {
     "name": "stdout",
     "output_type": "stream",
     "text": [
      "(5, 93)\n"
     ]
    },
    {
     "name": "stderr",
     "output_type": "stream",
     "text": [
      "[*                      2%                       ]  2 of 100 completed"
     ]
    },
    {
     "name": "stdout",
     "output_type": "stream",
     "text": [
      "Batch: CHTP - CMLT\r"
     ]
    },
    {
     "name": "stderr",
     "output_type": "stream",
     "text": [
      "[*********************100%***********************]  100 of 100 completed\n",
      "\n",
      "92 Failed downloads:\n",
      "['CLKS', 'CLZR', 'CLCD', 'CLPA', 'CLDN', 'CLHB', 'CIFC', 'CHTT', 'CLMS', 'CLSR', 'CJBK', 'CIBI', 'CLBH', 'CKCM', 'CKNN', 'CKFR', 'CLNS', 'CIPH', 'CIMA', 'CHUX', 'CIGX', 'CHTP', 'CLRT', 'CKEC', 'CLRS', 'CKN', 'CJES', 'CLFC', 'CLYH', 'CMBC', 'CMKG', 'CMGI', 'CLDA', 'CLEC', 'CITP', 'CMFB', 'CLAC', 'CKP', 'CKXE', 'CIVC', 'CIU', 'CMED', 'CLWR', 'CLY', 'CLRK']: YFPricesMissingError('possibly delisted; no price data found  (1d 2025-03-23 -> 2025-03-30)')\n",
      "['CIFS', 'CLNC', 'CIR', 'CMLF', 'CIC', 'CLII', 'CLR', 'CLIM', 'CLDR', 'CIIG', 'CLAY', 'CMCC', 'CIIC', 'CLBS', 'CMLT', 'CINC', 'CLEN', 'CLUB', 'CLXT', 'CMII', 'CLI', 'CIAN', 'CLAQ', 'CKH', 'CLGC', 'CLAA', 'CLRM', 'CMFN', 'CHWA', 'CLNY', 'CIXX', 'CISN', 'CIT', 'CIDM', 'CLDB', 'CLCT', 'CLAS', 'CLA', 'CLGX', 'CLAW', 'CLIN', 'CLDC', 'CMD', 'CLVS', 'CJ', 'CLSN']: YFTzMissingError('possibly delisted; no timezone found')\n",
      "['CHUY']: YFPricesMissingError('possibly delisted; no price data found  (1d 2025-03-23 -> 2025-03-30) (Yahoo error = \"No data found, symbol may be delisted\")')\n"
     ]
    },
    {
     "name": "stdout",
     "output_type": "stream",
     "text": [
      "(5, 92)\n"
     ]
    },
    {
     "name": "stderr",
     "output_type": "stream",
     "text": [
      "[*                      2%                       ]  2 of 100 completed"
     ]
    },
    {
     "name": "stdout",
     "output_type": "stream",
     "text": [
      "Batch: CMN - CRA\r"
     ]
    },
    {
     "name": "stderr",
     "output_type": "stream",
     "text": [
      "[*********************100%***********************]  97 of 100 completed\n",
      "\n",
      "100 Failed downloads:\n",
      "['COVS', 'CONR', 'CPWM', 'COBH', 'CPXX', 'CMPC', 'CORI', 'CMVT', 'CRA', 'CPEX', 'CNNB', 'CNVO', 'CNFL', 'CNYD', 'CPHD', 'CMPP', 'CPTS', 'CNSF', 'CPNO', 'CPCI', 'CPTV', 'CNVX', 'CPKI', 'CMTY', 'CPBC', 'CNCP', 'COVB', 'COWB', 'COGN', 'CPTI', 'CMN', 'CPBK', 'COHT', 'COLY', 'CNDF', 'CNTR', 'COA', 'COBZ', 'COLT', 'COBO', 'COL', 'CMOS', 'CPLA', 'COB', 'CQH', 'CMRG', 'CPAK', 'COH']: YFPricesMissingError('possibly delisted; no price data found  (1d 2025-03-23 -> 2025-03-30)')\n",
      "['CMSS', 'CND', 'CNDB', 'CMPI', 'CNLI', 'COUP', 'CO', 'CNDH', 'COT', 'CNAT', 'CPAA', 'CORE', 'CPLG', 'CNXA', 'CORV', 'CNST', 'CORS', 'CPUH', 'CPE', 'CPGY', 'CNAC', 'CPTK', 'CMO', 'COWN', 'CNTQ', 'COLI', 'COLE', 'COVA', 'CPBY', 'CORR', 'CNXM', 'COMV', 'CMTA', 'CNVY', 'CPAQ', 'CPHL', 'CPAH', 'CPSI', 'COG', 'CPIA', 'CPAR', 'CPTA', 'CONE', 'CNIC']: YFTzMissingError('possibly delisted; no timezone found')\n",
      "['COOL', 'CONN', 'CONX', 'CPG', 'CNHI', 'CPTN', 'CNSL', 'CNCE']: YFPricesMissingError('possibly delisted; no price data found  (1d 2025-03-23 -> 2025-03-30) (Yahoo error = \"No data found, symbol may be delisted\")')\n"
     ]
    },
    {
     "name": "stdout",
     "output_type": "stream",
     "text": [
      "(0, 100)\n"
     ]
    },
    {
     "name": "stderr",
     "output_type": "stream",
     "text": [
      "[**                     4%                       ]  4 of 100 completed"
     ]
    },
    {
     "name": "stdout",
     "output_type": "stream",
     "text": [
      "Batch: CRAY - CUO\r"
     ]
    },
    {
     "name": "stderr",
     "output_type": "stream",
     "text": [
      "[*********************100%***********************]  99 of 100 completed\n",
      "\n",
      "100 Failed downloads:\n",
      "['CRDN', 'CTFO', 'CROS', 'CTRX', 'CSLS', 'CRMH', 'CSJB', 'CSCQ', 'CRYP', 'CUNO', 'CREL', 'CTE', 'CRVP', 'CRTQ', 'CTZ', 'CRXL', 'CTCI', 'CTGX', 'CRXX', 'CSCX', 'CSCR', 'CTDC', 'CSNC', 'CTF', 'CSSA', 'CTV', 'CSBC', 'CULS', 'CTOO', 'CRGI', 'CTMI', 'CRXT', 'CRFH', 'CTBC', 'CSAR', 'CRIC', 'CUNB', 'CRGE', 'CRBC', 'CRNS', 'CRGN', 'CTLM', 'CRWN', 'CTCM', 'CTEL', 'CRXA', 'CSBK', 'CRDS', 'CSKI', 'CTNN']: YFPricesMissingError('possibly delisted; no price data found  (1d 2025-03-23 -> 2025-03-30)')\n",
      "['CRHM', 'CSU', 'CTWS', 'CRY', 'CSTR', 'CTT', 'CTIB', 'CREC', 'CSIB', 'CTL', 'CSGE', 'CREE', 'CRR', 'CSCW', 'CTXS', 'CSOD', 'CTRC', 'CTAQ', 'CTRL', 'CRZO', 'CTST', 'CS', 'CSPR', 'CRAY', 'CSII', 'CTEK', 'CSS', 'CTG', 'CRCM', 'CTAC', 'CRHC', 'CRTX', 'CRZN', 'CRSA', 'CUO', 'CSLT', 'CTIC', 'CRU', 'CSMA', 'CSTA', 'CTAA', 'CTY', 'CUI', 'CTRV', 'CTW', 'CSFL', 'CTB']: YFTzMissingError('possibly delisted; no timezone found')\n",
      "['CTR', 'CSLM', 'CTLT']: YFPricesMissingError('possibly delisted; no price data found  (1d 2025-03-23 -> 2025-03-30) (Yahoo error = \"No data found, symbol may be delisted\")')\n"
     ]
    },
    {
     "name": "stdout",
     "output_type": "stream",
     "text": [
      "(0, 100)\n"
     ]
    },
    {
     "name": "stderr",
     "output_type": "stream",
     "text": [
      "[**                     4%                       ]  4 of 100 completed"
     ]
    },
    {
     "name": "stdout",
     "output_type": "stream",
     "text": [
      "Batch: CUPM - DDUP\r"
     ]
    },
    {
     "name": "stderr",
     "output_type": "stream",
     "text": [
      "[*********************100%***********************]  100 of 100 completed\n",
      "\n",
      "99 Failed downloads:\n",
      "['DBMX', 'DDIC', 'CYDS', 'CYBS', 'CYMI', 'CYL', 'DADE', 'DDSS', 'DCA', 'DBRT', 'DCNT', 'DBLE', 'CYNA', 'DCBK', 'DBU', 'DBBR', 'CVON', 'DBRN', 'CWBS', 'CYNO', 'CYSV', 'CVAL', 'CUPM', 'CXPO', 'DCTI', 'CYPB', 'CYBI', 'CYPT', 'CYDE', 'DAGM', 'CVVT', 'DCNG', 'DCGN', 'CVGR', 'DCAI', 'DBES', 'DCLK', 'DDRX', 'DANG', 'CVTX', 'CXA', 'CWAY', 'DCTM', 'CYCL', 'DATE']: YFPricesMissingError('possibly delisted; no price data found  (1d 2025-03-23 -> 2025-03-30)')\n",
      "['CVIA', 'CURO', 'CXDC', 'DCUB', 'DCT', 'CZFC', 'CVT', 'DCUA', 'CVRS', 'CVLB', 'DCRB', 'DBDR', 'CVTI', 'DBTX', 'CYBE', 'CYRN', 'CXSP', 'DCIX', 'DCRC', 'CXAC', 'DATA', 'DAOO', 'DBTK', 'DDF', 'CYT', 'CXP', 'CVVZ', 'DCAR', 'CXO', 'DBCP', 'CVTS', 'DCRD', 'DDUP', 'CVET', 'CVCY', 'CUR', 'CVOL', 'CYTR', 'CYTX', 'CY', 'DCRN', 'DALS', 'DDMX', 'DDOC', 'DCUE', 'CZZ', 'CVA']: YFTzMissingError('possibly delisted; no timezone found')\n",
      "['DCPH', 'CYXT', 'CZOO', 'CWBR', 'CVLY', 'CVII', 'DCF']: YFPricesMissingError('possibly delisted; no price data found  (1d 2025-03-23 -> 2025-03-30) (Yahoo error = \"No data found, symbol may be delisted\")')\n"
     ]
    },
    {
     "name": "stdout",
     "output_type": "stream",
     "text": [
      "(4, 99)\n"
     ]
    },
    {
     "name": "stderr",
     "output_type": "stream",
     "text": [
      "[**                     4%                       ]  4 of 100 completed"
     ]
    },
    {
     "name": "stdout",
     "output_type": "stream",
     "text": [
      "Batch: DEAC - DPII\r"
     ]
    },
    {
     "name": "stderr",
     "output_type": "stream",
     "text": [
      "[*********************100%***********************]  100 of 100 completed\n",
      "\n",
      "100 Failed downloads:\n",
      "['DOCC', 'DIGE', 'DEVC', 'DOTN', 'DIRT', 'DLBS', 'DFR', 'DGAS', 'DFIB', 'DOCX', 'DFC', 'DGI', 'DLGC', 'DFBG', 'DGFJ', 'DFCT', 'DMIF', 'DEAR', 'DEG', 'DKHR', 'DNEX', 'DHFT', 'DISK', 'DMOB', 'DLLR', 'DNBK', 'DEPO', 'DINE', 'DMED', 'DFT', 'DFVL', 'DOWT', 'DMTX', 'DFBS', 'DECC', 'DHOM', 'DLTK', 'DGIT', 'DMGI', 'DEMS', 'DIET', 'DMD', 'DLM', 'DITC', 'DPII', 'DEBS', 'DLGS', 'DFVS']: YFPricesMissingError('possibly delisted; no price data found  (1d 2025-03-23 -> 2025-03-30)')\n",
      "['DISA', 'DLPH', 'DPHC', 'DFHT', 'DEH', 'DFRG', 'DMS', 'DGNU', 'DHXM', 'DNAY', 'DNZ', 'DIVX', 'DMPI', 'DEAC', 'DOVA', 'DOTA', 'DEX', 'DHCA', 'DNAC', 'DNI', 'DF', 'DLCA', 'DNBF', 'DHBC', 'DGNR', 'DELT', 'DFNS', 'DICE', 'DNKN', 'DFFN', 'DNAA', 'DNJR', 'DNK', 'DMAQ', 'DEST', 'DGNS', 'DEN', 'DNR', 'DGSE', 'DISH', 'DFBH', 'DNAD', 'DNAB', 'DILA', 'DHHC']: YFTzMissingError('possibly delisted; no timezone found')\n",
      "['DHAC', 'DLA', 'DO', 'DOOR', 'DMK', 'DOMA', 'DMTK']: YFPricesMissingError('possibly delisted; no price data found  (1d 2025-03-23 -> 2025-03-30) (Yahoo error = \"No data found, symbol may be delisted\")')\n"
     ]
    },
    {
     "name": "stdout",
     "output_type": "stream",
     "text": [
      "(0, 100)\n"
     ]
    },
    {
     "name": "stderr",
     "output_type": "stream",
     "text": [
      "[*                      3%                       ]  3 of 100 completed"
     ]
    },
    {
     "name": "stdout",
     "output_type": "stream",
     "text": [
      "Batch: DPLO - ECBE\r"
     ]
    },
    {
     "name": "stderr",
     "output_type": "stream",
     "text": [
      "[*********************100%***********************]  100 of 100 completed\n",
      "\n",
      "100 Failed downloads:\n",
      "['DPTR', 'DXJC', 'DZTK', 'DWRE', 'EASY', 'ECBE', 'DWA', 'DRRA', 'DTUS', 'DTHK', 'DTYL', 'DWCH', 'ECAC', 'EBOD', 'DWID', 'DRTK', 'DWRI', 'DTUL', 'DXJR', 'DTSI', 'EACU', 'DVSA', 'DRTE', 'DXUS', 'DWTT', 'DSG', 'DSCO', 'EASI', 'DRAX', 'DSCM', 'DUCK', 'EBTX', 'DW', 'DRUA', 'DXJH', 'EACQ', 'DRA', 'DTPI', 'DWTN', 'EBSC', 'DWMT', 'DRYR', 'DSCP', 'DTYS', 'DSCI', 'DSKY', 'DRII', 'DRMT', 'DTLK', 'DVHI', 'DPMI']: YFPricesMissingError('possibly delisted; no price data found  (1d 2025-03-23 -> 2025-03-30)')\n",
      "['DSKE', 'DRAD', 'DXI', 'DUNE', 'ECAV', 'DSSI', 'DUC', 'DTQ', 'DRTT', 'EAE', 'DPM', 'EBSB', 'DTWO', 'DSAC', 'DTP', 'DYNS', 'DYFN', 'DTLR', 'DXPS', 'DS', 'DVD', 'EAC', 'DWIN', 'EAR', 'DWAC', 'EBIX', 'EAB', 'DSPG', 'EARS', 'DRYS', 'DTRT', 'DVCR', 'EBAC', 'DSEY', 'DSUP', 'ECA', 'DRAY', 'DSE', 'DPLO', 'DPW', 'DTOC', 'DRCO', 'DRE', 'EBHI', 'DRNA']: YFTzMissingError('possibly delisted; no timezone found')\n",
      "['EAST', 'DRQ', 'DPSI', 'DTEA']: YFPricesMissingError('possibly delisted; no price data found  (1d 2025-03-23 -> 2025-03-30) (Yahoo error = \"No data found, symbol may be delisted\")')\n"
     ]
    },
    {
     "name": "stdout",
     "output_type": "stream",
     "text": [
      "(0, 100)\n"
     ]
    },
    {
     "name": "stderr",
     "output_type": "stream",
     "text": [
      "[*                      3%                       ]  3 of 100 completed"
     ]
    },
    {
     "name": "stdout",
     "output_type": "stream",
     "text": [
      "Batch: ECC - EMG\r"
     ]
    },
    {
     "name": "stderr",
     "output_type": "stream",
     "text": [
      "[*********************100%***********************]  100 of 100 completed\n",
      "\n",
      "86 Failed downloads:\n",
      "['ECMV', 'EMBB', 'EF', 'EIA', 'ELMG', 'EDGW', 'ELBO', 'ELOQ', 'ECYT', 'EMG', 'EFJI', 'EGAS', 'EGN', 'ECST', 'EMFT', 'EMCD', 'EFUT', 'ELAM', 'EIHI', 'ECIL', 'EIGR', 'EEHB', 'EEP', 'ELEC', 'ECCY', 'EDSN', 'ECLG', 'EJ', 'ELOY', 'EEEE', 'EMBX', 'EEGL', 'EGC', 'EDAC', 'ELTE', 'EDE', 'EGT', 'ELNK', 'ELU', 'EDGR', 'EICU', 'EELN', 'ELRC']: YFPricesMissingError('possibly delisted; no price data found  (1d 2025-03-23 -> 2025-03-30)')\n",
      "['ELVT', 'EGOV', 'EDI', 'EHT', 'ECT', 'EGLX', 'EGIF', 'EMBK', 'EGI', 'EHR', 'ELXR', 'ELAT', 'EMCI', 'EGLE', 'EIDX', 'ECOL', 'EDCI', 'EFHT', 'ELMS', 'EJFA', 'EMCF', 'ELCC', 'ELGX', 'ECOM', 'EIGI', 'EDTX', 'EGGF', 'ELY', 'EFF', 'EMDA', 'EENC', 'EFZL', 'EFL', 'EFII', 'ECHO', 'EEI', 'EFBI', 'ELJ', 'EDNT']: YFTzMissingError('possibly delisted; no timezone found')\n",
      "['EGIO', 'ELYM', 'EDNC', 'ELIQ']: YFPricesMissingError('possibly delisted; no price data found  (1d 2025-03-23 -> 2025-03-30) (Yahoo error = \"No data found, symbol may be delisted\")')\n"
     ]
    },
    {
     "name": "stdout",
     "output_type": "stream",
     "text": [
      "(5, 86)\n"
     ]
    },
    {
     "name": "stderr",
     "output_type": "stream",
     "text": [
      "[*                      3%                       ]  3 of 100 completed"
     ]
    },
    {
     "name": "stdout",
     "output_type": "stream",
     "text": [
      "Batch: EMHZ - ETM\r"
     ]
    },
    {
     "name": "stderr",
     "output_type": "stream",
     "text": [
      "[*********************100%***********************]  100 of 100 completed\n",
      "\n",
      "100 Failed downloads:\n",
      "['EPIQ', 'EQGP', 'EMKR', 'ERYY', 'ESD', 'EPIK', 'ESSF', 'EQY', 'ENSI', 'ESIC', 'EMXX', 'ESIO', 'EPEX', 'ETE', 'EMSA', 'EPHC', 'EMQ', 'ENTL', 'ESCH', 'EPMD', 'ENCY', 'EMPW', 'ENTU', 'EOCA', 'EMHZ', 'ERS', 'EMI', 'ENOC', 'EPIC', 'ERGF', 'ENMC', 'ESND', 'EMSD', 'EMSO', 'ERTS', 'EPEN', 'EMLB', 'ENLC', 'EPNY', 'ERT', 'ESUS', 'ESPD', 'ENWV', 'ESRX', 'ETAK', 'ENZY', 'ENH', 'ESST', 'EPG', 'EPRE', 'ESLR']: YFPricesMissingError('possibly delisted; no price data found  (1d 2025-03-23 -> 2025-03-30)')\n",
      "['ETAO', 'ENDP', 'ENV', 'EMLD', 'ENJY', 'ERF']: YFPricesMissingError('possibly delisted; no price data found  (1d 2025-03-23 -> 2025-03-30) (Yahoo error = \"No data found, symbol may be delisted\")')\n",
      "['ERES', 'EQM', 'ESTR', 'ERA', 'ESTE', 'ESMT', 'ESV', 'EQRX', 'ENFC', 'EQOS', 'ESBK', 'ESGC', 'ETM', 'ESMK', 'EMWP', 'ENT', 'ENOB', 'ENTF', 'EROS', 'ENVI', 'ESM', 'EQD', 'ENNV', 'ENBA', 'ENPC', 'ESSC', 'ENER', 'ETAC', 'EOCW', 'EPWR', 'ESAC', 'ERNB', 'EPOC', 'ETFC', 'EPHY', 'ERI', 'ENCP', 'ETEL', 'ESXB', 'EPAY', 'EPZM', 'EQHA', 'ENCX']: YFTzMissingError('possibly delisted; no timezone found')\n"
     ]
    },
    {
     "name": "stdout",
     "output_type": "stream",
     "text": [
      "(0, 100)\n"
     ]
    },
    {
     "name": "stderr",
     "output_type": "stream",
     "text": [
      "[*                      3%                       ]  3 of 100 completed"
     ]
    },
    {
     "name": "stdout",
     "output_type": "stream",
     "text": [
      "Batch: ETRM - FDML\r"
     ]
    },
    {
     "name": "stderr",
     "output_type": "stream",
     "text": [
      "[*********************100%***********************]  100 of 100 completed\n",
      "\n",
      "100 Failed downloads:\n",
      "['FBEI', 'FBMI', 'ETWC', 'FBMT', 'FACE', 'FCEC', 'FAUS', 'FCFC', 'FBRC', 'FDI', 'EURO', 'FAV', 'EZFL', 'FCLF', 'FCFL', 'EXJF', 'FCPO', 'EVAC', 'FBST', 'EXEA', 'EVVV', 'EUBK', 'FCS', 'FADV', 'EXBD', 'EVDY', 'FCFP', 'EUFS', 'EXAM', 'EXAC', 'FDCC', 'ETRM', 'FDML', 'EZEM', 'EYET', 'FCH', 'EZT', 'EXXI', 'EVHC', 'FAOO', 'FBNW', 'EXCO', 'FCSE', 'EURX', 'FBG', 'EXEE', 'FBAY', 'EVBS', 'EVST', 'EXA', 'FCGI']: YFPricesMissingError('possibly delisted; no price data found  (1d 2025-03-23 -> 2025-03-30)')\n",
      "['FCRD', 'FBCM', 'FABK', 'FDEU', 'FDEF', 'FALB', 'FBNK', 'FCRZ', 'EVOJ', 'FCRW', 'EVSI', 'EYES', 'EXD', 'EXN', 'EVOP', 'EUCR', 'EXTN', 'FCEB', 'EXPR', 'FCAC', 'FCAX', 'FATP', 'FCSX', 'FACA', 'EXPC', 'FB', 'FBSS', 'FCSC', 'EUSG', 'FCAU', 'FCBP', 'EXFO', 'FAII', 'FAZZ', 'FBC', 'FAZE', 'FDC', 'FBHS', 'FCEA', 'FBM']: YFTzMissingError('possibly delisted; no timezone found')\n",
      "['ETTX', 'EVE', 'FATH', 'FAM', 'ETRN', 'EVK', 'EVBG', 'EXTO', 'EURN']: YFPricesMissingError('possibly delisted; no price data found  (1d 2025-03-23 -> 2025-03-30) (Yahoo error = \"No data found, symbol may be delisted\")')\n"
     ]
    },
    {
     "name": "stdout",
     "output_type": "stream",
     "text": [
      "(0, 100)\n"
     ]
    },
    {
     "name": "stderr",
     "output_type": "stream",
     "text": [
      "[                       0%                       ]"
     ]
    },
    {
     "name": "stdout",
     "output_type": "stream",
     "text": [
      "Batch: FDRY - FNBG\r"
     ]
    },
    {
     "name": "stderr",
     "output_type": "stream",
     "text": [
      "[**********************99%***********************]  99 of 100 completed\n",
      "\n",
      "100 Failed downloads:\n",
      "['FFFD', 'FFHH', 'FMKT', 'FLSH', 'FENX', 'FHC', 'FMCN', 'FHCC', 'FEEU', 'FIGY', 'FMSA', 'FFDB', 'FKFS', 'FIBG', 'FFFL', 'FICC', 'FLYI', 'FFKT', 'FMAX', 'FFCH', 'FESX', 'FINB', 'FFBI', 'FINL', 'FMCO', 'FFEX', 'FNBF', 'FLPB', 'FHRX', 'FMSB', 'FEIC', 'FMDG', 'FILE', 'FEDL', 'FLDD', 'FLBK', 'FIRE', 'FEHY', 'FMFC', 'FFSW', 'FMER', 'FFBZ', 'FFHS', 'FFKY', 'FNBG', 'FMLP', 'FFFS', 'FLTX', 'FMD', 'FIEU', 'FLYR', 'FMI', 'FLAT', 'FFBK']: YFPricesMissingError('possibly delisted; no price data found  (1d 2025-03-23 -> 2025-03-30)')\n",
      "['FEI', 'FISV', 'FEXD', 'FEN', 'FIF', 'FLFV', 'FIAC']: YFPricesMissingError('possibly delisted; no price data found  (1d 2025-03-23 -> 2025-03-30) (Yahoo error = \"No data found, symbol may be delisted\")')\n",
      "['FLAC', 'FMBI', 'FIT', 'FGH', 'FGP', 'FIXX', 'FFG', 'FELP', 'FDRY', 'FMCI', 'FIII', 'FGXI', 'FMAC', 'FLKS', 'FMTX', 'FIEF', 'FII', 'FLLC', 'FGDY', 'FICV', 'FEO', 'FLAG', 'FFDP', 'FIV', 'FLIR', 'FFHL', 'FLT', 'FLYA', 'FGNA', 'FLDM', 'FLME', 'FEYE', 'FINM', 'FHS', 'FLMN', 'FMDA', 'FLAI', 'FMIV', 'FLXN']: YFTzMissingError('possibly delisted; no timezone found')\n"
     ]
    },
    {
     "name": "stdout",
     "output_type": "stream",
     "text": [
      "(0, 100)\n"
     ]
    },
    {
     "name": "stderr",
     "output_type": "stream",
     "text": [
      "\r",
      "[                       0%                       ]"
     ]
    },
    {
     "name": "stdout",
     "output_type": "stream",
     "text": [
      "Batch: FNBN - FTGX\r"
     ]
    },
    {
     "name": "stderr",
     "output_type": "stream",
     "text": [
      "[*********************100%***********************]  99 of 100 completed\n",
      "\n",
      "100 Failed downloads:\n",
      "['FOIL', 'FNFV', 'FRNS', 'FOXH', 'FOBB', 'FOOT', 'FNET', 'FNDT', 'FSBI', 'FSCI', 'FNBN', 'FNFG', 'FTGX', 'FTFC', 'FPTB', 'FNHC', 'FSC', 'FSPR', 'FNSC', 'FNCF', 'FRTX', 'FSNM', 'FPO', 'FPFC', 'FSAC', 'FOGO', 'FSIN', 'FRP', 'FNFN', 'FSYS', 'FSFR', 'FSLA', 'FPIC', 'FRGO', 'FNIS', 'FTBK', 'FTCG', 'FSTP', 'FSBK', 'FNVT', 'FTDI', 'FNTE']: YFPricesMissingError('possibly delisted; no price data found  (1d 2025-03-23 -> 2025-03-30)')\n",
      "['FOCS', 'FRNT', 'FRX', 'FSRV', 'FOMX', 'FSLF', 'FSB', 'FPAC', 'FTAC', 'FTCH', 'FNSR', 'FTD', 'FTEV', 'FST', 'FNJN', 'FSDC', 'FPRX', 'FNDR', 'FOE', 'FRAN', 'FSCT', 'FSTX', 'FSII', 'FRON', 'FSLB', 'FREQ', 'FORK', 'FNPC', 'FRXB', 'FRF', 'FTAA', 'FRED', 'FSNB', 'FRTA', 'FSRD', 'FRGI', 'FRAC', 'FRBN', 'FSR', 'FORE', 'FRW', 'FSKR', 'FRC', 'FNGN', 'FSSI', 'FRSG', 'FSRX', 'FTCV', 'FORG', 'FSTM', 'FOXW']: YFTzMissingError('possibly delisted; no timezone found')\n",
      "['FREE', 'FOUN', 'FNCB', 'FPL', 'FSD', 'FRG', 'FRBK']: YFPricesMissingError('possibly delisted; no price data found  (1d 2025-03-23 -> 2025-03-30) (Yahoo error = \"No data found, symbol may be delisted\")')\n"
     ]
    },
    {
     "name": "stdout",
     "output_type": "stream",
     "text": [
      "(0, 100)\n"
     ]
    },
    {
     "name": "stderr",
     "output_type": "stream",
     "text": [
      "[**                     5%                       ]  5 of 100 completed"
     ]
    },
    {
     "name": "stdout",
     "output_type": "stream",
     "text": [
      "Batch: FTHR - GFN\r"
     ]
    },
    {
     "name": "stderr",
     "output_type": "stream",
     "text": [
      "[*********************100%***********************]  100 of 100 completed\n",
      "\n",
      "100 Failed downloads:\n",
      "['FXEU', 'FXJP', 'GETI', 'FWHT', 'FXCM', 'GBNK', 'GEHL', 'GDJS', 'GAS', 'GDF', 'GEAC', 'GADZ', 'FTLK', 'FTHR', 'GEQ', 'GDYS', 'FXRE', 'FXCB', 'GBCB', 'GCBS', 'GFLS', 'GEDU', 'FVCX', 'GAZB', 'GEMS', 'FWM', 'GDJJ', 'GCFC', 'FULL', 'GFA', 'FTWR', 'FUEL', 'GCOM', 'FXCO', 'GBTS', 'GENZ', 'FUSA', 'GEUR', 'GEOI', 'GBTB', 'FWFC', 'GEOY', 'GAIT', 'FUR', 'GEXA', 'FXEP']: YFPricesMissingError('possibly delisted; no price data found  (1d 2025-03-23 -> 2025-03-30)')\n",
      "['GFED', 'GFLU', 'FWAC', 'GCAC', 'GEMP', 'GBLL', 'FZT', 'GCP', 'FVAC', 'FTSI', 'FTW', 'GACQ', 'GFN', 'FWAA', 'GARS', 'FTR', 'FTPA', 'FUSE', 'GBLK', 'GAPA', 'GDNR', 'GDI', 'FTNW', 'GBNH', 'GBRG', 'GBL', 'GFIS', 'GBOX', 'GER', 'FVIV', 'FVT', 'FVE', 'GBS', 'GBT', 'GDCT', 'FTRP', 'FTIV', 'GCAP', 'GECX', 'FTOC', 'FUJI', 'GEOV', 'GDP', 'FTVI', 'GFGD', 'FTSV', 'GEAR']: YFTzMissingError('possibly delisted; no timezone found')\n",
      "['GENQ', 'GAQ', 'GAMC', 'GEEX', 'FWBI', 'GATO', 'FUSN']: YFPricesMissingError('possibly delisted; no price data found  (1d 2025-03-23 -> 2025-03-30) (Yahoo error = \"No data found, symbol may be delisted\")')\n"
     ]
    },
    {
     "name": "stdout",
     "output_type": "stream",
     "text": [
      "(0, 100)\n"
     ]
    },
    {
     "name": "stderr",
     "output_type": "stream",
     "text": [
      "[*                      2%                       ]  2 of 100 completed"
     ]
    },
    {
     "name": "stdout",
     "output_type": "stream",
     "text": [
      "Batch: GFOR - GOV\r"
     ]
    },
    {
     "name": "stderr",
     "output_type": "stream",
     "text": [
      "[*********************100%***********************]  99 of 100 completed\n",
      "\n",
      "100 Failed downloads:\n",
      "['GOV', 'GFSI', 'GLDC', 'GIVN', 'GFRE', 'GNSC', 'GLF', 'GGXY', 'GMST', 'GMC', 'GMT', 'GMR', 'GMDA', 'GISX', 'GLFD', 'GLBC', 'GHCI', 'GLGS', 'GORX', 'GMTA', 'GHS', 'GGNS', 'GMTN', 'GMRK', 'GGAC', 'GLGL', 'GKSR', 'GLYT', 'GNBC', 'GOAM', 'GNLB', 'GNSY', 'GI', 'GNET', 'GNVC', 'GGUY', 'GNRT', 'GMTC', 'GGP', 'GLBK', 'GMAI', 'GMKT', 'GLGC', 'GKIS']: YFPricesMissingError('possibly delisted; no price data found  (1d 2025-03-23 -> 2025-03-30)')\n",
      "['GFX', 'GMEB', 'GIA', 'GMO', 'GGAA', 'GHL', 'GOGN', 'GMTX', 'GNCA', 'GGGV', 'GMVD', 'GLEE', 'GLUU', 'GNAC', 'GNMX', 'GMBT', 'GLHA', 'GIK', 'GLEO', 'GHIV', 'GGE', 'GMHI', 'GGO', 'GIX', 'GHDX', 'GIIX', 'GGOV', 'GMII', 'GIW', 'GMZ', 'GLS', 'GNMK', 'GHAC', 'GFOR', 'GIGZ', 'GLOP', 'GOAC', 'GIM', 'GNC', 'GHVI', 'GLOG', 'GOBI', 'GFY', 'GIAC', 'GLTA', 'GNUS', 'GGPI', 'GNPK', 'GGMC', 'GLAQ', 'GLG']: YFTzMissingError('possibly delisted; no timezone found')\n",
      "['GHIX', 'GODN', 'GNOG', 'GLT', 'GNRS']: YFPricesMissingError('possibly delisted; no price data found  (1d 2025-03-23 -> 2025-03-30) (Yahoo error = \"No data found, symbol may be delisted\")')\n"
     ]
    },
    {
     "name": "stdout",
     "output_type": "stream",
     "text": [
      "(0, 100)\n"
     ]
    },
    {
     "name": "stderr",
     "output_type": "stream",
     "text": [
      "\r",
      "[                       0%                       ]"
     ]
    },
    {
     "name": "stdout",
     "output_type": "stream",
     "text": [
      "Batch: GPAC - HAR\r"
     ]
    },
    {
     "name": "stderr",
     "output_type": "stream",
     "text": [
      "[*********************100%***********************]  100 of 100 completed\n",
      "\n",
      "100 Failed downloads:\n",
      "['GVHR', 'GZBX', 'GURI', 'HAR', 'GRKA', 'GPCB', 'GREY', 'GRIC', 'HANS', 'GSLA', 'GZMO', 'GSTL', 'GRRF', 'GVBK', 'GPIA', 'GXDX', 'GSI', 'GYMB', 'GUID', 'GSLI', 'HACV', 'GRAN', 'GSIC', 'GTSI', 'GYEN', 'HANA', 'GTWN', 'GUPB', 'GSV', 'GTRC', 'HAKI', 'GXP', 'GRWN', 'GST', 'HACW', 'GPT', 'GWL']: YFPricesMissingError('possibly delisted; no price data found  (1d 2025-03-23 -> 2025-03-30)')\n",
      "['GRTS', 'HA', 'GSS', 'GTHX', 'GSAQ', 'GRIN', 'GPS', 'GVP', 'GPAC', 'GTAC', 'GRDI']: YFPricesMissingError('possibly delisted; no price data found  (1d 2025-03-23 -> 2025-03-30) (Yahoo error = \"No data found, symbol may be delisted\")')\n",
      "['HAKK', 'GPIC', 'GRIF', 'GSHT', 'GTS', 'GRA', 'GRSV', 'GRPH', 'GRNV', 'GTYH', 'GSAH', 'GSQB', 'HAIR', 'GXGX', 'GRIL', 'GSMG', 'GRVI', 'GPL', 'GTT', 'HABT', 'GPM', 'GSRM', 'GPX', 'HAPP', 'GTXI', 'GWAC', 'GSVC', 'GPCO', 'GSLD', 'GPAQ', 'GVCI', 'GXII', 'GSEV', 'GSX', 'GRNA', 'GSD', 'GWR', 'GSKY', 'GRCY', 'GRUB', 'GRSH', 'GSEC', 'GWB', 'GWII', 'GWGH', 'GSB', 'GRAY', 'GTPA', 'GTPB', 'GSH', 'GSQD', 'HAAC']: YFTzMissingError('possibly delisted; no timezone found')\n"
     ]
    },
    {
     "name": "stdout",
     "output_type": "stream",
     "text": [
      "(0, 100)\n"
     ]
    },
    {
     "name": "stderr",
     "output_type": "stream",
     "text": [
      "[*                      3%                       ]  3 of 100 completed"
     ]
    },
    {
     "name": "stdout",
     "output_type": "stream",
     "text": [
      "Batch: HARB - HLBZ\r"
     ]
    },
    {
     "name": "stderr",
     "output_type": "stream",
     "text": [
      "[*********************100%***********************]  100 of 100 completed\n",
      "\n",
      "100 Failed downloads:\n",
      "['HCBB', 'HHYX', 'HEVY', 'HEOP', 'HDRA', 'HFFC', 'HCRF', 'HGIC', 'HGEN', 'HBNK', 'HCP', 'HCXZ', 'HCN', 'HDNG', 'HBEK', 'HGSI', 'HDEE', 'HIFN', 'HDP', 'HAYZ', 'HCFC', 'HEGJ', 'HCTL', 'HEMV', 'HGRD', 'HIRE', 'HHY', 'HBE', 'HEPH', 'HDTV', 'HDRW', 'HEFV', 'HGGR', 'HEUV', 'HGEU', 'HGJP', 'HBHC', 'HITK', 'HAVS', 'HHGP', 'HKAC', 'HAST', 'HGG', 'HEUS', 'HARB']: YFPricesMissingError('possibly delisted; no price data found  (1d 2025-03-23 -> 2025-03-30)')\n",
      "['HCNE', 'HGH', 'HCAP', 'HARP', 'HCCI', 'HEPR', 'HBP', 'HCII', 'HILS', 'HHRS', 'HCAR', 'HFC', 'HIFR', 'HCIC', 'HCCO', 'HJLI', 'HLAH', 'HHT', 'HBMD', 'HCDI', 'HCHC', 'HCFT', 'HKOR', 'HERA', 'HEB', 'HHC', 'HFBC', 'HGSH', 'HIII', 'HDIX', 'HEBT', 'HEC', 'HHHH', 'HFEN', 'HEXO', 'HCCC', 'HIL', 'HCAC', 'HIIQ', 'HK', 'HCAQ', 'HCCH', 'HCMA', 'HLBZ', 'HINT', 'HDS', 'HEMO', 'HIGA', 'HCR', 'HBK']: YFTzMissingError('possibly delisted; no timezone found')\n",
      "['HHGC', 'HAYN', 'HIBB', 'HEAR', 'HIE']: YFPricesMissingError('possibly delisted; no price data found  (1d 2025-03-23 -> 2025-03-30) (Yahoo error = \"No data found, symbol may be delisted\")')\n"
     ]
    },
    {
     "name": "stdout",
     "output_type": "stream",
     "text": [
      "(0, 100)\n"
     ]
    },
    {
     "name": "stderr",
     "output_type": "stream",
     "text": [
      "[**                     5%                       ]  5 of 100 completed"
     ]
    },
    {
     "name": "stdout",
     "output_type": "stream",
     "text": [
      "Batch: HLEX - HWCC\r"
     ]
    },
    {
     "name": "stderr",
     "output_type": "stream",
     "text": [
      "[*********************100%***********************]  100 of 100 completed\n",
      "\n",
      "100 Failed downloads:\n",
      "['HNT', 'HLYW', 'HNR', 'HUMC', 'HPRT', 'HLEX', 'HRAY', 'HMNA', 'HSFT', 'HNSN', 'HUMP', 'HRLY', 'HNH', 'HRBN', 'HRG', 'HOTT', 'HMIN', 'HOFF', 'HQCL', 'HOGS', 'HPY', 'HTFA', 'HSNI', 'HTLF', 'HTHR', 'HMLK', 'HW', 'HTRN', 'HTM', 'HTCH', 'HOMX', 'HLFC', 'HOT', 'HNBC', 'HTWR', 'HSWI', 'HUGH', 'HPOL', 'HRBT', 'HOMF', 'HRSH', 'HORC', 'HMSL', 'HLYS', 'HUVL']: YFPricesMissingError('possibly delisted; no price data found  (1d 2025-03-23 -> 2025-03-30)')\n",
      "['HSAQ', 'HTPA', 'HMAC', 'HOL', 'HMPT', 'HMA', 'HUAK', 'HTBX', 'HPR', 'HMU', 'HTGM', 'HPJ', 'HPLT', 'HUGS', 'HWCC', 'HMHC', 'HUSN', 'HPT', 'HPX', 'HSC', 'HOMS', 'HMLP', 'HLXA', 'HNGR', 'HVBT', 'HMG', 'HMCO', 'HTA', 'HSTX', 'HVBC', 'HRC', 'HMTV', 'HMSY', 'HUBA', 'HUD', 'HPGP', 'HOS', 'HOME', 'HSGX', 'HTY', 'HNP', 'HSKA', 'HORI', 'HSAC', 'HMTA', 'HT', 'HTAQ']: YFTzMissingError('possibly delisted; no timezone found')\n",
      "['HRT', 'HUGE', 'HMNF', 'HRYU', 'HSTO', 'HOLI', 'HNRA', 'HLTH']: YFPricesMissingError('possibly delisted; no price data found  (1d 2025-03-23 -> 2025-03-30) (Yahoo error = \"No data found, symbol may be delisted\")')\n"
     ]
    },
    {
     "name": "stdout",
     "output_type": "stream",
     "text": [
      "(0, 100)\n"
     ]
    },
    {
     "name": "stderr",
     "output_type": "stream",
     "text": [
      "[**                     4%                       ]  4 of 100 completed"
     ]
    },
    {
     "name": "stdout",
     "output_type": "stream",
     "text": [
      "Batch: HWEL - IGW\r"
     ]
    },
    {
     "name": "stderr",
     "output_type": "stream",
     "text": [
      "[*********************100%***********************]  100 of 100 completed\n",
      "\n",
      "100 Failed downloads:\n",
      "['IFCJ', 'IDNX', 'IAAI', 'IELG', 'IBCC', 'HYGO', 'IASG', 'IFON', 'IBAS', 'ICOG', 'HYDL', 'IBLN', 'IAM', 'ICCA', 'ICDG', 'IFUL', 'IAIA', 'IESM', 'IDPH', 'IAAC', 'IDWK', 'ICOC', 'IDMI', 'ICOS', 'IFMI', 'ICAB', 'HYF', 'ICB', 'HZNP', 'IACI', 'IEIL', 'IEIS', 'IEDU', 'ICCI', 'IFOX', 'IFCN', 'IBDH', 'HYSL', 'ICBC', 'IBCB', 'IDI', 'ICA', 'IGU', 'ICGN', 'ICCH', 'IATV', 'IBDB', 'HYB', 'IFCB', 'IDBE', 'ICST', 'IGW', 'IDXC', 'IGS', 'ICTS', 'HYBD', 'IFLO', 'ICEL', 'ICTG']: YFPricesMissingError('possibly delisted; no price data found  (1d 2025-03-23 -> 2025-03-30)')\n",
      "['HYRE', 'IAIC', 'IEA', 'IEC', 'ICPT', 'IGAP', 'IBKC', 'IGAC', 'IGNY', 'HYGS', 'HWEL', 'HZON', 'IACA', 'IDHB', 'IAA', 'IDW', 'IDRA', 'IACB', 'ICXT', 'I', 'IBER', 'HZN', 'ICVX', 'ID', 'IDSY', 'ICNC', 'IBDA', 'HYMF', 'IFLG', 'IDSA', 'HZAC', 'IACC', 'IBMF', 'HYDG', 'IDTI', 'HWKZ']: YFTzMissingError('possibly delisted; no timezone found')\n",
      "['ICBK', 'IDEX', 'IFIN', 'IBTX', 'ICD']: YFPricesMissingError('possibly delisted; no price data found  (1d 2025-03-23 -> 2025-03-30) (Yahoo error = \"No data found, symbol may be delisted\")')\n"
     ]
    },
    {
     "name": "stdout",
     "output_type": "stream",
     "text": [
      "(0, 100)\n"
     ]
    },
    {
     "name": "stderr",
     "output_type": "stream",
     "text": [
      "[*                      3%                       ]  3 of 100 completed"
     ]
    },
    {
     "name": "stdout",
     "output_type": "stream",
     "text": [
      "Batch: IGZ - IPOA\r"
     ]
    },
    {
     "name": "stderr",
     "output_type": "stream",
     "text": [
      "[*********************100%***********************]  100 of 100 completed\n",
      "\n",
      "100 Failed downloads:\n",
      "['INPC', 'INXI', 'INTX', 'IL', 'IMCO', 'INFN', 'IOC', 'INET', 'INFS', 'IIIM', 'IPAS', 'IMS', 'IMED', 'ILSE', 'INDM', 'IMGC', 'IMN', 'INOC', 'IMMC', 'IPCC', 'IPCR', 'INHO', 'ILG', 'IJNK', 'INZ', 'IINT', 'INHX', 'IPCS', 'IM', 'INCB', 'INDU', 'INSI', 'INTN', 'INY', 'IONA', 'IPMT', 'INNL', 'IMMY', 'IOTN', 'IOMI', 'INLD', 'INRG', 'ININ', 'IMAN', 'IMPV', 'IOIL', 'ILOG', 'INCX', 'INKP', 'IMPR']: YFPricesMissingError('possibly delisted; no price data found  (1d 2025-03-23 -> 2025-03-30)')\n",
      "['INS', 'IHIT', 'IMGN', 'IMI', 'ILNX', 'INSU', 'IIN', 'IMPL', 'IMMU', 'INKA', 'IO', 'INXN', 'INNT', 'INAP', 'INSY', 'IMV', 'IID', 'IMH', 'IOTS', 'IPHS', 'IIVI', 'INGP', 'IOAC', 'IMRA', 'IIII', 'IHC', 'IMDZ', 'IIAC', 'IMAC', 'INB', 'IPOA', 'INF', 'IPAX', 'IMGO', 'IPHI', 'IKAR', 'IGZ', 'IMPX', 'INWK', 'IKNX', 'IHTT', 'INPX', 'INDT', 'INT', 'INFI']: YFTzMissingError('possibly delisted; no timezone found')\n",
      "['INXB', 'IHTA', 'INST', 'INAQ', 'INVO']: YFPricesMissingError('possibly delisted; no price data found  (1d 2025-03-23 -> 2025-03-30) (Yahoo error = \"No data found, symbol may be delisted\")')\n"
     ]
    },
    {
     "name": "stdout",
     "output_type": "stream",
     "text": [
      "(0, 100)\n"
     ]
    },
    {
     "name": "stderr",
     "output_type": "stream",
     "text": [
      "[                       0%                       ]"
     ]
    },
    {
     "name": "stdout",
     "output_type": "stream",
     "text": [
      "Batch: IPOB - JGGC\r"
     ]
    },
    {
     "name": "stderr",
     "output_type": "stream",
     "text": [
      "[*********************100%***********************]  99 of 100 completed\n",
      "\n",
      "100 Failed downloads:\n",
      "['ISKO', 'ISIL', 'JAMS', 'IRIS', 'IVOP', 'JBRI', 'IVGN', 'ISSX', 'IRIC', 'IPXL', 'ITXC', 'IVTY', 'ITIP', 'ITLA', 'IXYS', 'ISLD', 'ITML', 'IWOV', 'IPSU', 'ISTA', 'IPXX', 'IUSA', 'IQNT', 'IVIS', 'IVTA', 'JFBI', 'IRGI', 'ITXG', 'ISIS', 'ISPH', 'IVIL', 'JAH', 'ITEK', 'JDAS', 'ITMS', 'ITR', 'JAAC', 'ISYS', 'ITRA', 'JCDA']: YFPricesMissingError('possibly delisted; no price data found  (1d 2025-03-23 -> 2025-03-30)')\n",
      "['ITQ', 'JAQC', 'ISM', 'ISOS', 'IPVF', 'ISCA', 'ISNS', 'JGGC', 'IRKO', 'JGBB', 'IRR', 'IRNT', 'IPVI', 'IPOB', 'ISSU', 'JE', 'JASN', 'IPOD', 'JDD', 'ITHX', 'JEMD', 'ISOT', 'IPOF', 'IRL', 'JEC', 'IVAN', 'ISAA', 'ISIG', 'JATT', 'ITCA', 'IPVA', 'JASO', 'IPV', 'IPOC', 'ITLN', 'ITAC', 'ISO', 'IS', 'JCAP', 'JCS', 'JCIC', 'IVH', 'ISLE', 'IVC', 'JAX', 'ITAQ', 'JCO', 'IPOE', 'ISLN', 'JAG', 'ISEE', 'JCP', 'ISBC', 'ISR']: YFTzMissingError('possibly delisted; no timezone found')\n",
      "['JBT', 'JAN', 'ISDR', 'IQMD', 'ITI', 'IVCP']: YFPricesMissingError('possibly delisted; no price data found  (1d 2025-03-23 -> 2025-03-30) (Yahoo error = \"No data found, symbol may be delisted\")')\n"
     ]
    },
    {
     "name": "stdout",
     "output_type": "stream",
     "text": [
      "(0, 100)\n"
     ]
    },
    {
     "name": "stderr",
     "output_type": "stream",
     "text": [
      "[**                     5%                       ]  5 of 100 completed"
     ]
    },
    {
     "name": "stdout",
     "output_type": "stream",
     "text": [
      "Batch: JGV - KFFG\r"
     ]
    },
    {
     "name": "stderr",
     "output_type": "stream",
     "text": [
      "[*********************100%***********************]  100 of 100 completed\n",
      "\n",
      "100 Failed downloads:\n",
      "['KFED', 'JJTB', 'JJUB', 'JUPM', 'JMG', 'JGV', 'KANG', 'JJMB', 'JSC', 'JGX', 'JMI', 'JST', 'JNIC', 'JJAB', 'JPNS', 'KBWI', 'KEYN', 'JJCB', 'JIB', 'KEMP', 'JMBA', 'KEYP', 'KED', 'JMDT', 'JLMI', 'JHFT', 'JXSB', 'JXVL', 'KBAY', 'JJEB', 'KEYW', 'JJGB', 'KBWC', 'KCG', 'JJSB', 'JHA', 'JUNO', 'JTPY', 'JNP', 'JGW', 'JOSB', 'KENT', 'KERX', 'JMBI', 'KFBI', 'KATE', 'JJPB', 'KFFG', 'JOYG', 'KDC', 'JPX']: YFPricesMissingError('possibly delisted; no price data found  (1d 2025-03-23 -> 2025-03-30)')\n",
      "['JHB', 'JYAC', 'JSYN', 'JHD', 'KAIR', 'JMF', 'KAMN', 'JTA', 'JRO', 'JP', 'KDMN', 'KAII', 'JHY', 'KBSF', 'JUPW', 'JUGG', 'JHAA', 'JWB', 'KAAC', 'JSD', 'JMLP', 'JWA', 'KCAP', 'KDNY', 'JMT', 'KAHC', 'JPP', 'JOFF', 'JMP', 'JNCE', 'JMPE', 'JOAN', 'KEG', 'JUN', 'KAL', 'KBLM', 'JTD', 'JMPB', 'JWS', 'KERN', 'JIH', 'JMAC', 'KCAC', 'JWAC']: YFTzMissingError('possibly delisted; no timezone found')\n",
      "['KCGI', 'JWSM', 'KBAL', 'KA', 'JXJT']: YFPricesMissingError('possibly delisted; no price data found  (1d 2025-03-23 -> 2025-03-30) (Yahoo error = \"No data found, symbol may be delisted\")')\n"
     ]
    },
    {
     "name": "stdout",
     "output_type": "stream",
     "text": [
      "(0, 100)\n"
     ]
    },
    {
     "name": "stderr",
     "output_type": "stream",
     "text": [
      "\r",
      "[                       0%                       ]\r",
      "[                       0%                       ]"
     ]
    },
    {
     "name": "stdout",
     "output_type": "stream",
     "text": [
      "Batch: KFT - LCRY\r"
     ]
    },
    {
     "name": "stderr",
     "output_type": "stream",
     "text": [
      "[*********************100%***********************]  100 of 100 completed\n",
      "\n",
      "100 Failed downloads:\n",
      "['KNSY', 'LABS', 'LARS', 'KTWO', 'KNTA', 'LCBM', 'KOSP', 'LCRY', 'LAZY', 'LBF', 'LARE', 'LAYN', 'KST', 'KONE', 'KSW', 'KNOT', 'KITE', 'KUTV', 'KFT', 'KNAP', 'KMGB', 'KIII', 'KYE', 'KYPH', 'KOR', 'LCGI', 'KYAK', 'KKD', 'KMG', 'KNXA', 'LBAI', 'KNDL', 'LARL', 'KSWS', 'KOSN', 'KYO', 'KHI', 'KTII', 'KITD', 'KROO', 'KND', 'KNOL', 'KMM', 'LAVA', 'KHDH', 'KLXI', 'KYCH', 'KZ', 'KOMG', 'LATD', 'LCRD', 'LBIX', 'KNBT']: YFPricesMissingError('possibly delisted; no price data found  (1d 2025-03-23 -> 2025-03-30)')\n",
      "['KLR', 'LCI', 'LAWS', 'KMPH', 'KNL', 'KIN', 'LCAA', 'LATN', 'LBBB', 'KMF', 'KSI', 'LBY', 'KVSB', 'KURI', 'KIQ', 'KVA', 'KVSA', 'LACQ', 'KNBE', 'KNTE', 'KSU', 'KLAQ', 'KYON', 'KL', 'KPFS', 'KPPC', 'KINZ', 'KRA', 'LABL', 'KSMT', 'KSPP', 'KWAC', 'LAAA', 'LCA', 'KNSW', 'KRTX', 'LBC', 'KRU', 'KRS']: YFTzMissingError('possibly delisted; no timezone found')\n",
      "['KVSC', 'LAAC', 'LATG', 'LABP', 'KRNL', 'LBPH', 'KTRA', 'KSPN']: YFPricesMissingError('possibly delisted; no price data found  (1d 2025-03-23 -> 2025-03-30) (Yahoo error = \"No data found, symbol may be delisted\")')\n"
     ]
    },
    {
     "name": "stdout",
     "output_type": "stream",
     "text": [
      "(0, 100)\n"
     ]
    },
    {
     "name": "stderr",
     "output_type": "stream",
     "text": [
      "[                       0%                       ]"
     ]
    },
    {
     "name": "stdout",
     "output_type": "stream",
     "text": [
      "Batch: LCW - LOGO\r"
     ]
    },
    {
     "name": "stderr",
     "output_type": "stream",
     "text": [
      "[*********************100%***********************]  100 of 100 completed\n",
      "\n",
      "100 Failed downloads:\n",
      "['LMDX', 'LMOS', 'LNOP', 'LNCR', 'LILM', 'LMIN', 'LNKD', 'LHO', 'LEDR', 'LNCE', 'LMHA', 'LEXR', 'LLSP', 'LNET', 'LKQX', 'LMHB', 'LOGO', 'LLSC', 'LEI', 'LF', 'LEND', 'LEGC', 'LLTC', 'LEDD', 'LEIX', 'LNCB', 'LNUX', 'LGF', 'LMIA', 'LDSH', 'LIOX', 'LICB', 'LIFC', 'LMRA', 'LDF']: YFPricesMissingError('possibly delisted; no price data found  (1d 2025-03-23 -> 2025-03-30)')\n",
      "['LIFW', 'LEV', 'LIBY', 'LGVC', 'LCW', 'LL', 'LLAP']: YFPricesMissingError('possibly delisted; no price data found  (1d 2025-03-23 -> 2025-03-30) (Yahoo error = \"No data found, symbol may be delisted\")')\n",
      "['LOAC', 'LNDC', 'LNDU', 'LILK', 'LIVK', 'LGTO', 'LIVB', 'LJPC', 'LEAP', 'LEVL', 'LLEX', 'LHAA', 'LFTR', 'LEAF', 'LLGX', 'LMTG', 'LLNW', 'LNFA', 'LLL', 'LHDX', 'LLIT', 'LIMC', 'LEJU', 'LEWY', 'LOAK', 'LOCC', 'LGAC', 'LEVB', 'LGVW', 'LMAO', 'LGLW', 'LMNL', 'LERA', 'LHCG', 'LIMS', 'LENB', 'LEGO', 'LGC', 'LCY', 'LKSD', 'LM', 'LGST', 'LMNX', 'LIVX', 'LJAQ', 'LDL', 'LDHA', 'LOGM', 'LFAC', 'LMST', 'LIHR', 'LGV', 'LITT', 'LHC', 'LIII', 'LLDM', 'LEGA', 'LFG']: YFTzMissingError('possibly delisted; no timezone found')\n"
     ]
    },
    {
     "name": "stdout",
     "output_type": "stream",
     "text": [
      "(0, 100)\n"
     ]
    },
    {
     "name": "stderr",
     "output_type": "stream",
     "text": [
      "[*                      3%                       ]  3 of 100 completed"
     ]
    },
    {
     "name": "stdout",
     "output_type": "stream",
     "text": [
      "Batch: LOKB - MBTF\r"
     ]
    },
    {
     "name": "stderr",
     "output_type": "stream",
     "text": [
      "[*********************100%***********************]  100 of 100 completed\n",
      "\n",
      "100 Failed downloads:\n",
      "['LUFK', 'LWSN', 'MBLA', 'LWC', 'MAKO', 'LSBG', 'LXBK', 'MBHI', 'LSBX', 'MAXY', 'MAJR', 'MASC', 'LOUD', 'MAXM', 'MATR', 'LZEN', 'LSG', 'MBFC', 'LVLT', 'LQID', 'LXK', 'LSON', 'LPNT', 'LPSB', 'MAXF', 'MAXS', 'MATF', 'LSVX', 'LUK', 'MAJC', 'LSCO', 'LTXC', 'MATK', 'MANC', 'LPMA', 'LONG', 'LSTK', 'LQ', 'MASB', 'LSPN', 'LSC', 'MAFB', 'LTXX', 'LSCP', 'MBRG', 'MALL', 'MAIL', 'MAB']: YFPricesMissingError('possibly delisted; no price data found  (1d 2025-03-23 -> 2025-03-30)')\n",
      "['MBAC', 'MBRK', 'MAMS', 'MBFI', 'LOR', 'LTHM', 'MACQ', 'LRAD', 'MAXR', 'MBTF', 'LWAC', 'LUXA', 'MAAQ', 'LYL', 'LTS', 'LTXB', 'MACU', 'LOXO', 'LOKB', 'LSAQ', 'LPI', 'LVGO', 'MB', 'LVAC', 'MBSC', 'MBII', 'MBT', 'LSAC', 'LOKM', 'LPT', 'LSI', 'LVRA', 'LUCA', 'LSPR', 'LUB', 'MACC', 'MANT', 'LONE', 'MBPL', 'LORL', 'LVOX', 'LOTZ', 'MAAC', 'MBTC']: YFTzMissingError('possibly delisted; no timezone found')\n",
      "['LYLT', 'LSDI', 'LQR', 'MARX', 'MACK', 'MACA', 'MACE', 'LUMO']: YFPricesMissingError('possibly delisted; no price data found  (1d 2025-03-23 -> 2025-03-30) (Yahoo error = \"No data found, symbol may be delisted\")')\n"
     ]
    },
    {
     "name": "stdout",
     "output_type": "stream",
     "text": [
      "(0, 100)\n"
     ]
    },
    {
     "name": "stderr",
     "output_type": "stream",
     "text": [
      "[*                      3%                       ]  3 of 100 completed"
     ]
    },
    {
     "name": "stdout",
     "output_type": "stream",
     "text": [
      "Batch: MBVT - MHG\r"
     ]
    },
    {
     "name": "stderr",
     "output_type": "stream",
     "text": [
      "[*********************100%***********************]  100 of 100 completed\n",
      "\n",
      "100 Failed downloads:\n",
      "['MCCC', 'MHCO', 'MENT', 'MDD', 'MESG', 'MEDQ', 'MEDW', 'MHG', 'MCUR', 'MFLR', 'METG', 'MDCC', 'MFLA', 'MDKI', 'MCP', 'METH', 'MFS', 'MDLK', 'MGOL', 'MDVN', 'MCHM', 'MGCD', 'MGN', 'MEMY', 'MDCV', 'MFUN', 'MCDT', 'MDLX', 'MFRM', 'MGH', 'MDTH', 'MDLQ', 'MBVT', 'MEAD', 'MECA', 'MCIP', 'MEMP', 'MERB', 'MDMD', 'MDNU', 'MCOX', 'MFLO', 'MFBC', 'MERX', 'MEND', 'MENU', 'MEP', 'MCX', 'MDA']: YFPricesMissingError('possibly delisted; no price data found  (1d 2025-03-23 -> 2025-03-30)')\n",
      "['MCAF', 'MCMJ', 'MDLA', 'MDH', 'MEN', 'MCAD', 'MGEN', 'MCA', 'MEET', 'MDR', 'MFT', 'MDVL', 'MFNC', 'MDC', 'MFL', 'MFO', 'MDCO', 'MEAC', 'MCC', 'MCG', 'MGI', 'MFSF', 'MFAC', 'MFGP', 'MCAE', 'MEKA', 'METX', 'MCV', 'MGP', 'MHE', 'MGTA', 'MELR', 'MDSO', 'MDWW', 'MCF', 'MDCA', 'MCFE', 'MCRN', 'MGU', 'MFV', 'MDWT', 'MDLY', 'MDP', 'MGLN', 'MEOA']: YFTzMissingError('possibly delisted; no timezone found')\n",
      "['MCAC', 'MDNA', 'MFD', 'MCBC', 'MEDS', 'MDJH']: YFPricesMissingError('possibly delisted; no price data found  (1d 2025-03-23 -> 2025-03-30) (Yahoo error = \"No data found, symbol may be delisted\")')\n"
     ]
    },
    {
     "name": "stdout",
     "output_type": "stream",
     "text": [
      "(0, 100)\n"
     ]
    },
    {
     "name": "stderr",
     "output_type": "stream",
     "text": [
      "[**                     4%                       ]  4 of 100 completed"
     ]
    },
    {
     "name": "stdout",
     "output_type": "stream",
     "text": [
      "Batch: MHGC - MOSS\r"
     ]
    },
    {
     "name": "stderr",
     "output_type": "stream",
     "text": [
      "[*********************100%***********************]  98 of 100 completed\n",
      "\n",
      "100 Failed downloads:\n",
      "[*********************100%***********************]  98 of 100 completed['MILT', 'MITL', 'MILB', 'MIRN', 'MIW', 'MLPJ', 'MONM', 'MJN', 'MNGL', 'MNTN', 'MNEL', 'MKTO', 'MLPS', 'MLAN', 'MNNY', 'MIGP', 'MHGC', 'MJES', 'MOSS', 'MIPS', 'MIKR', 'MLIN', 'MOCC', 'MITY', 'MICC', 'MNDX', 'MLPN', 'MIFI', 'MICU', 'MOLG', 'MONE', 'MKTG', 'MOBI', 'MOLX', 'MNRK', 'MOGN', 'MLNM', 'MIVA', 'MMUS', 'MOCO', 'MLEA', 'MNTG', 'MLMT', 'MMPT']: YFPricesMissingError('possibly delisted; no price data found  (1d 2025-03-23 -> 2025-03-30)')\n",
      "['MJCO', 'MION', 'MMX', 'MIE', 'MMAC', 'MLHR', 'MKGI', 'MNK', 'MLVF', 'MOBV', 'MILE', 'MICT', 'MLAI', 'MNTA', 'MIC', 'MINI', 'MOOV', 'MKUL', 'MHMY', 'MNDT', 'MNRL', 'MKCV', 'MNTV', 'MMTH', 'MN', 'MIMO', 'MOLC', 'MON', 'MMDM', 'MMP', 'MICR', 'MLNX', 'MLND', 'MOBL', 'MNGA', 'MNP', 'MKTY', 'MIRO', 'MIPI', 'MNLO', 'MIXT', 'MOSC', 'MNE', 'MNCL', 'MNI', 'MIT', 'MIK', 'MIME', 'MLNT', 'MMMB']: YFTzMissingError('possibly delisted; no timezone found')\n",
      "['MICS', 'MNTX', 'MODN', 'MMAT', 'MORF', 'MITA']: YFPricesMissingError('possibly delisted; no price data found  (1d 2025-03-23 -> 2025-03-30) (Yahoo error = \"No data found, symbol may be delisted\")')\n"
     ]
    },
    {
     "name": "stdout",
     "output_type": "stream",
     "text": [
      "(0, 100)\n"
     ]
    },
    {
     "name": "stderr",
     "output_type": "stream",
     "text": [
      "\r",
      "[                       0%                       ]"
     ]
    },
    {
     "name": "stdout",
     "output_type": "stream",
     "text": [
      "Batch: MOSX - MXIC\r"
     ]
    },
    {
     "name": "stderr",
     "output_type": "stream",
     "text": [
      "[*********************100%***********************]  100 of 100 completed\n",
      "\n",
      "99 Failed downloads:\n",
      "['MSNQ', 'MSII', 'MVSN', 'MTSN', 'MWW', 'MTDW', 'MTLM', 'MSFG', 'MTLG', 'MROI', 'MSPX', 'MSHL', 'MTON', 'MOVI', 'MRNT', 'MTOH', 'MRQQ', 'MTCR', 'MRNS', 'MULE', 'MTCT', 'MSCC', 'MVCD', 'MTSP', 'MSPD', 'MTOX', 'MTDB', 'MTTR', 'MTXX', 'MTGE', 'MTTX', 'MSSR', 'MSSN', 'MRD', 'MTSX', 'MTK', 'MRVC', 'MTMD', 'MOTR', 'MRSS', 'MTSM', 'MRNN', 'MSLV', 'MSBK', 'MRBA', 'MPWG', 'MTXC', 'MTIX', 'MROE', 'MRAE', 'MOSX', 'MTNK']: YFPricesMissingError('possibly delisted; no price data found  (1d 2025-03-23 -> 2025-03-30)')\n",
      "['MTVC', 'MOTV', 'MOTN', 'MTRY', 'MSL', 'MOTA', 'MPVD', 'MSGN', 'MOSY', 'MRTX', 'MPRA', 'MXGL', 'MXIC', 'MURF', 'MSON', 'MTTT', 'MRAC', 'MTCN', 'MUDS', 'MOXC', 'MTBC', 'MTOR', 'MUS', 'MRIC', 'MSAC', 'MPAC', 'MPCT', 'MVC', 'MTMT', 'MRLN', 'MTSL', 'MSG', 'MTEC', 'MTT', 'MTAC', 'MSBF', 'MUH', 'MSP', 'MWGP', 'MWK', 'MSCS', 'MR', 'MTSC']: YFTzMissingError('possibly delisted; no timezone found')\n",
      "['MRDB', 'MSDA', 'MWRK', 'MRO']: YFPricesMissingError('possibly delisted; no price data found  (1d 2025-03-23 -> 2025-03-30) (Yahoo error = \"No data found, symbol may be delisted\")')\n"
     ]
    },
    {
     "name": "stdout",
     "output_type": "stream",
     "text": [
      "(1, 99)\n"
     ]
    },
    {
     "name": "stderr",
     "output_type": "stream",
     "text": [
      "[*                      3%                       ]  3 of 100 completed"
     ]
    },
    {
     "name": "stdout",
     "output_type": "stream",
     "text": [
      "Batch: MXIM - NETM\r"
     ]
    },
    {
     "name": "stderr",
     "output_type": "stream",
     "text": [
      "[*********************100%***********************]  100 of 100 completed\n",
      "\n",
      "100 Failed downloads:\n",
      "['NASI', 'MY', 'NDXP', 'NEOT', 'NDRM', 'NEBS', 'NARI', 'MYCC', 'NBAN', 'MYOG', 'N', 'NEPF', 'NENG', 'NEI', 'NAHC', 'NBD', 'MZF', 'NCRI', 'NCOG', 'NCRX', 'NADL', 'NCEM', 'NBSC', 'NCIT', 'NCQ', 'NDRO', 'NAPS', 'NADX', 'NETM', 'NCOC', 'NCST', 'MXPT', 'NERX', 'NAME', 'NARA', 'NABI', 'MZOR', 'NBSI', 'NCEB', 'NDPS', 'NEFF', 'NAP', 'MXRE', 'NAFC', 'NEIB', 'NEOF', 'NEPT', 'NASH']: YFPricesMissingError('possibly delisted; no price data found  (1d 2025-03-23 -> 2025-03-30)')\n",
      "['NBEV', 'MYMD', 'NDP', 'NAPA', 'MYC', 'NBSE']: YFPricesMissingError('possibly delisted; no price data found  (1d 2025-03-23 -> 2025-03-30) (Yahoo error = \"No data found, symbol may be delisted\")')\n",
      "['MZA', 'NDPX', 'MYJ', 'NETE', 'NCB', 'NDPL', 'NBRV', 'NBO', 'NANO', 'MYF', 'NCR', 'NDDM', 'NCOM', 'NDLT', 'NEBC', 'MXIM', 'MYOS', 'NEBU', 'NBAC', 'NASM', 'MYOK', 'MYIE', 'MXWL', 'MYRS', 'NBL', 'NBW', 'NDMX', 'NETI', 'NCBS', 'NAAC', 'NEOS', 'NAKD', 'NATI', 'NCAC', 'NETC', 'NDAC', 'NBXZ', 'NBA', 'NDPR', 'NAVG', 'NAPX', 'MYT', 'MYOV', 'MYL', 'NAV', 'NES']: YFTzMissingError('possibly delisted; no timezone found')\n"
     ]
    },
    {
     "name": "stdout",
     "output_type": "stream",
     "text": [
      "(0, 100)\n"
     ]
    },
    {
     "name": "stderr",
     "output_type": "stream",
     "text": [
      "[*                      2%                       ]  2 of 100 completed"
     ]
    },
    {
     "name": "stdout",
     "output_type": "stream",
     "text": [
      "Batch: NEV - NPRO\r"
     ]
    },
    {
     "name": "stderr",
     "output_type": "stream",
     "text": [
      "[*********************100%***********************]  100 of 100 completed\n",
      "\n",
      "100 Failed downloads:\n",
      "['NPP', 'NKBP', 'NMIL', 'NNDS', 'NPD', 'NNCI', 'NHHC', 'NMSS', 'NLCI', 'NFSB', 'NFEC', 'NIKU', 'NPM', 'NOIZ', 'NMHC', 'NMO', 'NOLD', 'NOVL', 'NMRX', 'NNSY', 'NOOF', 'NIR', 'NPF', 'NPI', 'NFLD', 'NEXM', 'NINI', 'NOGN', 'NOVB', 'NIAG', 'NMA', 'NPLA', 'NKA', 'NPBC', 'NKBS', 'NEWS', 'NGPS', 'NGAS', 'NPRO', 'NGRU']: YFPricesMissingError('possibly delisted; no price data found  (1d 2025-03-23 -> 2025-03-30)')\n",
      "['NKY', 'NGBF', 'NGA', 'NPN', 'NEV', 'NFC', 'NLOK', 'NGAB', 'NLS', 'NGC', 'NHA', 'NGM', 'NMY', 'NOAC', 'NFNT', 'NP', 'NGMS', 'NOVN', 'NFIN', 'NFH', 'NEW', 'NOVI', 'NOVS', 'NGCA', 'NLSN', 'NMMC', 'NMFX', 'NEWR', 'NPA', 'NHLD', 'NNA', 'NLIT', 'NHF', 'NKG', 'NLTX', 'NM', 'NHSR', 'NGAC', 'NMCI', 'NEWM', 'NEX', 'NHWK', 'NID', 'NIHD', 'NJV', 'NEWA', 'NNC', 'NK', 'NIQ', 'NFTG', 'NGHC', 'NILE', 'NPLU', 'NIMC', 'NLNK']: YFTzMissingError('possibly delisted; no timezone found')\n",
      "['NHIC', 'NH', 'NFYS', 'NICK', 'NOVV']: YFPricesMissingError('possibly delisted; no price data found  (1d 2025-03-23 -> 2025-03-30) (Yahoo error = \"No data found, symbol may be delisted\")')\n"
     ]
    },
    {
     "name": "stdout",
     "output_type": "stream",
     "text": [
      "(0, 100)\n"
     ]
    },
    {
     "name": "stderr",
     "output_type": "stream",
     "text": [
      "[*                      3%                       ]  3 of 100 completed"
     ]
    },
    {
     "name": "stdout",
     "output_type": "stream",
     "text": [
      "Batch: NPSI - NWK\r"
     ]
    },
    {
     "name": "stderr",
     "output_type": "stream",
     "text": [
      "[*********************100%***********************]  100 of 100 completed\n",
      "\n",
      "100 Failed downloads:\n",
      "['NTIQ', 'NTSP', 'NPT', 'NSDA', 'NWK', 'NTLI', 'NRGN', 'NRRD', 'NWFI', 'NSDB', 'NWIR', 'NTRT', 'NUCO', 'NQS', 'NUFO', 'NRF', 'NTBK', 'NSHA', 'NTT', 'NTOL', 'NVLS', 'NUTR', 'NPSI', 'NPSN', 'NVLD', 'NTLS', 'NSCN', 'NSPH', 'NTK', 'NRCI', 'NPTE', 'NWEC', 'NQI', 'NREB', 'NWAC', 'NUHC', 'NSAM', 'NTOP', 'NRMX', 'NQU', 'NVET', 'NVDM', 'NQM', 'NSM', 'NSTK', 'NTMD', 'NRPH', 'NTI', 'NTSC', 'NRGP', 'NSTG', 'NPTT', 'NTSL']: YFPricesMissingError('possibly delisted; no price data found  (1d 2025-03-23 -> 2025-03-30)')\n",
      "['NRBO', 'NSS', 'NUZE', 'NVEI', 'NTBL', 'NSTD', 'NSTC', 'NSTB', 'NTG', 'NR']: YFPricesMissingError('possibly delisted; no price data found  (1d 2025-03-23 -> 2025-03-30) (Yahoo error = \"No data found, symbol may be delisted\")')\n",
      "['NSH', 'NVCN', 'NTCO', 'NSL', 'NRKM', 'NVMM', 'NRCG', 'NPTN', 'NVLN', 'NTUS', 'NUBI', 'NWGI', 'NUO', 'NTEC', 'NRAC', 'NUAN', 'NRE', 'NVIV', 'NVTA', 'NVSA', 'NUVA', 'NTGN', 'NRZ', 'NWHM', 'NSUR', 'NSEC', 'NUM', 'NTC', 'NVTR', 'NVL', 'NTP', 'NTRI', 'NSR', 'NVUS', 'NTX', 'NTN', 'NSCO']: YFTzMissingError('possibly delisted; no timezone found')\n"
     ]
    },
    {
     "name": "stdout",
     "output_type": "stream",
     "text": [
      "(0, 100)\n"
     ]
    },
    {
     "name": "stderr",
     "output_type": "stream",
     "text": [
      "[*                      3%                       ]  3 of 100 completed"
     ]
    },
    {
     "name": "stdout",
     "output_type": "stream",
     "text": [
      "Batch: NWLI - ONDR\r"
     ]
    },
    {
     "name": "stderr",
     "output_type": "stream",
     "text": [
      "[*********************100%***********************]  100 of 100 completed\n",
      "\n",
      "100 Failed downloads:\n",
      "['OASI', 'OKSB', 'ONDR', 'ODSY', 'OGLE', 'NYFX', 'NWRE', 'OLGC', 'OA', 'NYRT', 'OAKT', 'NYLD', 'OKS', 'ONAV', 'OMRI', 'NYX', 'OLAB', 'OCPI', 'OCAS', 'OLCB', 'OMTH', 'OAKF', 'OMEF', 'OAOT', 'OATS', 'OMNI', 'NZH', 'OCCF', 'OIIL', 'NZF', 'OMTR', 'NYH', 'OLGR', 'OCRX', 'ODDJ', 'OMPI', 'OCNW', 'NXK', 'OCNF', 'NYER', 'OMIC', 'ONCR', 'OILB', 'NXUS', 'OCLR', 'OICO', 'OACQ', 'NWSB', 'OAKS']: YFPricesMissingError('possibly delisted; no price data found  (1d 2025-03-23 -> 2025-03-30)')\n",
      "['OBNK', 'OEG', 'OCSI', 'OCCX', 'OBLN', 'OILS', 'ONCS', 'OAK', 'OMN', 'NYMX', 'OBAS', 'NXR', 'OBSV', 'NXQ', 'OGAR', 'OFC', 'OCA', 'OMGI', 'OHPA', 'NXSN', 'ODT', 'OACB', 'OMEG', 'ONDK', 'OHAI', 'OLBK', 'OHAA', 'NXEO', 'OG', 'NWMO', 'OCDX', 'OAC', 'OEPW', 'OAS', 'OBCI', 'NYV', 'NXTD', 'NXGN', 'ONCE', 'OMP', 'NXTM', 'OIG', 'OHRP', 'OMED', 'OLIT', 'NYNY']: YFTzMissingError('possibly delisted; no timezone found')\n",
      "['NYCB', 'NWLI', 'OCN', 'OBDE', 'OCUP']: YFPricesMissingError('possibly delisted; no price data found  (1d 2025-03-23 -> 2025-03-30) (Yahoo error = \"No data found, symbol may be delisted\")')\n"
     ]
    },
    {
     "name": "stdout",
     "output_type": "stream",
     "text": [
      "(0, 100)\n"
     ]
    },
    {
     "name": "stderr",
     "output_type": "stream",
     "text": [
      "[*                      2%                       ]  2 of 100 completed"
     ]
    },
    {
     "name": "stdout",
     "output_type": "stream",
     "text": [
      "Batch: ONEK - PANA\r"
     ]
    },
    {
     "name": "stderr",
     "output_type": "stream",
     "text": [
      "[*********************100%***********************]  100 of 100 completed\n",
      "\n",
      "100 Failed downloads:\n",
      "['PACR', 'OYOG', 'ONSM', 'OPSW', 'OPXA', 'OSTE', 'OPTK', 'ONEK', 'ORIA', 'OPWV', 'OSA', 'OTFC', 'OPAY', 'OPTC', 'OUTD', 'ORBZ', 'OVER', 'PACT', 'OPXT', 'OSHC', 'ORIG', 'OSKY', 'OPTR', 'OUTL', 'ORCH', 'OSGB', 'ONXX', 'OPTV', 'OSM', 'OVEN', 'OXPS', 'PAET', 'OUTR', 'OSTK', 'ONVI', 'ONES', 'OTIC', 'OSIP', 'ONS', 'OVAS', 'PAGI', 'PALM', 'ONXS', 'OSLE', 'ORCI', 'OVNT', 'OTIX', 'ONTL', 'OTT', 'OPMR']: YFPricesMissingError('possibly delisted; no price data found  (1d 2025-03-23 -> 2025-03-30)')\n",
      "['OTEC', 'OZM', 'OPNT', 'PACD', 'PAAC', 'OZRK', 'OSIR', 'OTRA', 'ORPN', 'PAIC', 'OSB', 'OXFD', 'OSMT', 'OTMO', 'ORCC', 'OPTM', 'OXAC', 'OSTR', 'PACQ', 'OSPR', 'ORTX', 'PACI', 'ORM', 'ORSN', 'OXUS', 'ORIT', 'PACE', 'OTEL', 'OYST', 'OTIV', 'PANA', 'PAE', 'OPHT', 'ONTX', 'OSH', 'ORBK', 'OPES', 'ORCD', 'PAFO', 'PACX', 'ORBC', 'PACW', 'OPA', 'OSAT', 'OPB']: YFTzMissingError('possibly delisted; no timezone found')\n",
      "['OSG', 'ORAN', 'ONYX', 'PALT', 'OSI']: YFPricesMissingError('possibly delisted; no price data found  (1d 2025-03-23 -> 2025-03-30) (Yahoo error = \"No data found, symbol may be delisted\")')\n"
     ]
    },
    {
     "name": "stdout",
     "output_type": "stream",
     "text": [
      "(0, 100)\n"
     ]
    },
    {
     "name": "stderr",
     "output_type": "stream",
     "text": [
      "[                       0%                       ]"
     ]
    },
    {
     "name": "stdout",
     "output_type": "stream",
     "text": [
      "Batch: PAND - PGSS\r"
     ]
    },
    {
     "name": "stderr",
     "output_type": "stream",
     "text": [
      "[*********************100%***********************]  100 of 100 completed\n",
      "\n",
      "100 Failed downloads:\n",
      "['PBIZ', 'PARL', 'PCAF', 'PCBK', 'PETD', 'PDSG', 'PEGS', 'PBCI', 'PFEM', 'PF', 'PCLE', 'PBMD', 'PDVW', 'PBY', 'PBSK', 'PARN', 'PGHD', 'PETC', 'PBIB', 'PFWD', 'PBB', 'PFDC', 'PGMB', 'PBKS', 'PCAP', 'PFGI', 'PERY', 'PCOP', 'PGEM', 'PCCI', 'PEET', 'PECS', 'PCIS', 'PDSN', 'PBTC', 'PFC', 'PERM', 'PGND', 'PBIX', 'PFSL', 'PFCB']: YFPricesMissingError('possibly delisted; no price data found  (1d 2025-03-23 -> 2025-03-30)')\n",
      "['PGSS', 'PGRU', 'PEGY', 'PDCE', 'PEGR', 'PFMT', 'PCYG', 'PFIE', 'PETQ']: YFPricesMissingError('possibly delisted; no price data found  (1d 2025-03-23 -> 2025-03-30) (Yahoo error = \"No data found, symbol may be delisted\")')\n",
      "['PCGU', 'PEGI', 'PCTI', 'PDGI', 'PCMI', 'PEAR', 'PDLI', 'PCCT', 'PECK', 'PGLC', 'PFHC', 'PETX', 'PFPT', 'PATI', 'PBRA', 'PAQC', 'PAYA', 'PCOM', 'PER', 'PBFX', 'PBBI', 'PE', 'PGRX', 'PFBI', 'PFNX', 'PGRW', 'PARB', 'PBIP', 'PES', 'PCX', 'PFIN', 'PDOT', 'PEAK', 'PCI', 'PFDR', 'PDAC', 'PEIX', 'PCPC', 'PAND', 'PFHD', 'PFSW', 'PBAX', 'PCSB', 'PBC', 'PBTS', 'PEPL', 'PBCT', 'PCPL', 'PEI', 'PGNX']: YFTzMissingError('possibly delisted; no timezone found')\n"
     ]
    },
    {
     "name": "stdout",
     "output_type": "stream",
     "text": [
      "(0, 100)\n"
     ]
    },
    {
     "name": "stderr",
     "output_type": "stream",
     "text": [
      "[*                      2%                       ]  2 of 100 completed"
     ]
    },
    {
     "name": "stdout",
     "output_type": "stream",
     "text": [
      "Batch: PGTI - POZN\r"
     ]
    },
    {
     "name": "stderr",
     "output_type": "stream",
     "text": [
      "[*********************100%***********************]  99 of 100 completed\n",
      "\n",
      "100 Failed downloads:\n",
      "['PKY', 'PKTR', 'PORK', 'PHOC', 'POSO', 'PLMD', 'PNNW', 'PMPT', 'POSS', 'PLTX', 'POM', 'PNWB', 'PLPM', 'PLUM', 'PMIC', 'PNY', 'PHTN', 'PMTR', 'PMC', 'POWR', 'PLCM', 'PNK', 'PONR', 'POTP', 'POT', 'PINN', 'PHFC', 'PNXQ', 'PHEL', 'PNX', 'POZN', 'PLFE', 'PMTI', 'PKSI', 'PLNQ', 'PHLY', 'PIXR', 'PKDY', 'PNTE', 'PHST', 'PLLL', 'PLKI', 'PMTG', 'PJF', 'PNFT', 'PNCL', 'PNRA', 'PHSY', 'PHHM', 'PHYX', 'PHMD']: YFPricesMissingError('possibly delisted; no price data found  (1d 2025-03-23 -> 2025-03-30)')\n",
      "['PLT', 'PME', 'POSH', 'PMVC', 'PNT', 'PLAN', 'PHCC', 'PKO', 'PKI', 'PHGN', 'PKD', 'PNTR', 'PIR', 'PHWT', 'PING', 'PLJC', 'PGTI', 'PHCF', 'PICC', 'PNTM', 'PICO', 'PHIC', 'PNDX', 'POL', 'PJC', 'PLTE', 'POLY', 'PLPD', 'PLM', 'PLXP', 'POW', 'PNAC', 'PONE', 'POND', 'PMBC', 'PIAI', 'PLIN', 'PIPP', 'PONO', 'PJH', 'PIC']: YFTzMissingError('possibly delisted; no timezone found')\n",
      "['PLTN', 'PHAS', 'PHYT', 'PKBO', 'PIRS', 'PMGM', 'PNM', 'PLMI']: YFPricesMissingError('possibly delisted; no price data found  (1d 2025-03-23 -> 2025-03-30) (Yahoo error = \"No data found, symbol may be delisted\")')\n"
     ]
    },
    {
     "name": "stdout",
     "output_type": "stream",
     "text": [
      "(0, 100)\n"
     ]
    },
    {
     "name": "stderr",
     "output_type": "stream",
     "text": [
      "[                       0%                       ]"
     ]
    },
    {
     "name": "stdout",
     "output_type": "stream",
     "text": [
      "Batch: PPCO - PVG\r"
     ]
    },
    {
     "name": "stderr",
     "output_type": "stream",
     "text": [
      "[*********************100%***********************]  100 of 100 completed\n",
      "\n",
      "100 Failed downloads:\n",
      "['PSAI', 'PVFC', 'PRWK', 'PPDI', 'PRPX', 'PTMK', 'PSRC', 'PSPT', 'PRWT', 'PROX', 'PREM', 'PUBB', 'PSSI', 'PULB', 'PRSS', 'PRBZ', 'PPTB', 'PSBI', 'PRXL', 'PTNX', 'PRSR', 'PSOF', 'PSTB', 'PPS', 'PSIT', 'PSG', 'PTXP', 'PRMI', 'PURW', 'PTM', 'PPCO', 'PTIL', 'PROJ', 'PRAI', 'PSTA', 'PRSE', 'PQSC', 'PTHN', 'PRVD']: YFPricesMissingError('possibly delisted; no price data found  (1d 2025-03-23 -> 2025-03-30)')\n",
      "['PRBM', 'PQG', 'PRAH', 'PSAG', 'PPD', 'PVG', 'PRCP', 'PSAC', 'PRDS', 'PTIE', 'PROS', 'PSDO', 'PRTK', 'PRPC', 'PPR', 'PRPB', 'PSAV', 'PTK', 'PUTX', 'PSPC', 'PTI', 'PTHR', 'PTE', 'PRGX', 'PS', 'PTRS', 'PRVB', 'PV', 'PTCC', 'PTAC', 'PRNB', 'PRDX', 'PSV', 'PTIC', 'PTLA', 'PRVL', 'PSYS', 'PUB', 'PSTI', 'PPX', 'PSAA', 'PROG', 'PSB', 'PSTH', 'PRSP', 'PRAN', 'PRSC', 'PPRX', 'PRTO', 'PTOC', 'PRTY', 'PPGH', 'PVAC', 'PSXP']: YFTzMissingError('possibly delisted; no timezone found')\n",
      "['PTRA', 'PTSI', 'PTWO', 'PRFT', 'PRMW', 'PSTX', 'PPHP']: YFPricesMissingError('possibly delisted; no price data found  (1d 2025-03-23 -> 2025-03-30) (Yahoo error = \"No data found, symbol may be delisted\")')\n"
     ]
    },
    {
     "name": "stdout",
     "output_type": "stream",
     "text": [
      "(0, 100)\n"
     ]
    },
    {
     "name": "stderr",
     "output_type": "stream",
     "text": [
      "[*****                 10%                       ]  10 of 100 completed"
     ]
    },
    {
     "name": "stdout",
     "output_type": "stream",
     "text": [
      "Batch: PVLS - RCM\r"
     ]
    },
    {
     "name": "stderr",
     "output_type": "stream",
     "text": [
      "[*********************100%***********************]  100 of 100 completed\n",
      "\n",
      "100 Failed downloads:\n",
      "['QLIK', 'QVDX', 'PZZ', 'RADN', 'QLTC', 'QGLY', 'PYR', 'RAX', 'RAMS', 'QUNR', 'QXMI', 'QTWN', 'RBAK', 'QDIN', 'QSII', 'QCP', 'QQQV', 'PWAV', 'QQQC', 'QCBC', 'PWUP', 'PVSA', 'PXPL', 'QRCP', 'QUIP', 'RBOW', 'QLGC', 'PZE', 'PVLS', 'QUIX', 'QADI', 'RCBK', 'PXSL', 'RADS', 'RBI', 'QSFT', 'QINC', 'QXRR', 'PWX', 'QLTB', 'RACN', 'RCAC', 'PVTB', 'QKOR', 'PVSW', 'QTNA', 'RAME', 'RBNF', 'RAI']: YFPricesMissingError('possibly delisted; no price data found  (1d 2025-03-23 -> 2025-03-30)')\n",
      "['QADB', 'RARX', 'RCII', 'RACA', 'RAM', 'QURK', 'PVTL', 'QELP', 'RAD', 'QDHC', 'QTS', 'RAAS', 'RCHG', 'RACB', 'RADI', 'QUOT', 'QES', 'RAAC', 'QGOG', 'PWJC', 'QNGY', 'QFTA', 'QUMU', 'RBZ', 'RAVN', 'RBNC', 'QEP', 'RCA', 'RBAC', 'QHC', 'RCLF', 'PYDS', 'QTEK', 'QELL', 'QTRH', 'QVCB', 'PVT', 'PZN', 'RADA', 'QADA', 'RACY', 'PYX']: YFTzMissingError('possibly delisted; no timezone found')\n",
      "['RCM', 'PWFL', 'QTNT', 'QLI', 'RCFA', 'PWSC', 'QDRO', 'PXD', 'RBT']: YFPricesMissingError('possibly delisted; no price data found  (1d 2025-03-23 -> 2025-03-30) (Yahoo error = \"No data found, symbol may be delisted\")')\n"
     ]
    },
    {
     "name": "stdout",
     "output_type": "stream",
     "text": [
      "(0, 100)\n"
     ]
    },
    {
     "name": "stderr",
     "output_type": "stream",
     "text": [
      "[*                      2%                       ]  2 of 100 completed"
     ]
    },
    {
     "name": "stdout",
     "output_type": "stream",
     "text": [
      "Batch: RCNI - ROSS\r"
     ]
    },
    {
     "name": "stderr",
     "output_type": "stream",
     "text": [
      "[*********************100%***********************]  100 of 100 completed\n",
      "\n",
      "100 Failed downloads:\n",
      "['RHDM', 'REDE', 'RLD', 'RHAT', 'RKUS', 'RFMI', 'RESC', 'RDTA', 'RNDC', 'RDYN', 'ROOM', 'ROKA', 'ROCM', 'RNVS', 'RLYP', 'RDEA', 'RIC', 'RNF', 'RDEN', 'RMTR', 'REXI', 'RCRC', 'REIS', 'ROLA', 'RNOW', 'RETK', 'ROME', 'RHEO', 'RDRT', 'REST', 'RLJE', 'RET', 'RENX', 'RESP', 'RCNI', 'RLOC', 'ROIC', 'REC', 'RGNC', 'ROBV', 'RNAI', 'RLRN', 'RNBO', 'RFAC', 'RJET', 'RMGN', 'ROAC']: YFPricesMissingError('possibly delisted; no price data found  (1d 2025-03-23 -> 2025-03-30)')\n",
      "['RESN', 'REPR', 'RETA', 'RFP', 'ROSS', 'ROLL', 'RIVE', 'RKLY', 'ROCH', 'RLNT', 'RNWK', 'REV', 'RE', 'RCOR', 'RKTA', 'RMGC', 'RNET', 'RICE', 'ROSE', 'RMO', 'RLGY', 'ROC', 'RDBX', 'REPH', 'ROCC', 'RGID', 'ROCR', 'RJAC', 'ROCG', 'ROI', 'RECN', 'RLH', 'RONI', 'REVH', 'RHIE', 'REXN', 'RGLO', 'RMED', 'RIBX', 'RMG', 'RICO', 'ROAN', 'RNGY', 'REUN', 'RMGB', 'RMRM', 'RNDB']: YFTzMissingError('possibly delisted; no timezone found')\n",
      "['RNER', 'REGI', 'REVE', 'RCRT', 'ROCL', 'RIDE']: YFPricesMissingError('possibly delisted; no price data found  (1d 2025-03-23 -> 2025-03-30) (Yahoo error = \"No data found, symbol may be delisted\")')\n"
     ]
    },
    {
     "name": "stdout",
     "output_type": "stream",
     "text": [
      "(0, 100)\n"
     ]
    },
    {
     "name": "stderr",
     "output_type": "stream",
     "text": [
      "\r",
      "[                       0%                       ]"
     ]
    },
    {
     "name": "stdout",
     "output_type": "stream",
     "text": [
      "Batch: ROT - SBG\r"
     ]
    },
    {
     "name": "stderr",
     "output_type": "stream",
     "text": [
      "[*********************100%***********************]  100 of 100 completed\n",
      "\n",
      "100 Failed downloads:\n",
      "['RSYS', 'RWAV', 'RSE', 'SBBA', 'SBCP', 'RUBY', 'RRM', 'SAVB', 'RTLX', 'RSTO', 'RUTX', 'RSAS', 'SAJA', 'RURL', 'RXII', 'RVM', 'RUBO', 'RSLN', 'SAB', 'RPTP', 'RVNC', 'SATC', 'RTSX', 'RT', 'RSO', 'SAF', 'SAAS', 'RSCR', 'SAVN', 'RVEP', 'SBEI', 'ROXA', 'RTK', 'SALE', 'SACC', 'RTLA', 'RRMS', 'RUE', 'RSTI']: YFPricesMissingError('possibly delisted; no price data found  (1d 2025-03-23 -> 2025-03-30)')\n",
      "['RSTN', 'RRAC', 'RWOD', 'SAVE', 'SAI', 'RPHM']: YFPricesMissingError('possibly delisted; no price data found  (1d 2025-03-23 -> 2025-03-30) (Yahoo error = \"No data found, symbol may be delisted\")')\n",
      "['ROT', 'RPLA', 'RXN', 'SAMA', 'SANB', 'SBBX', 'SAII', 'RVI', 'ROX', 'RPXC', 'RSVA', 'SAFM', 'SASI', 'RST', 'SAUC', 'SALT', 'RTTR', 'RRD', 'RTPY', 'RVLT', 'RTL', 'ROVR', 'RVLP', 'RPAI', 'RTP', 'RVAC', 'RPTZ', 'SBEA', 'RWLK', 'SAEX', 'RYCE', 'SBBP', 'RTPZ', 'RTRX', 'RP', 'ROYT', 'RWGE', 'SAGA', 'RXRA', 'SBE', 'RZA', 'RTN', 'RUBI', 'RTWI', 'RTEC', 'SAL', 'RTIX', 'SAQN', 'SAK', 'RXDX', 'SBG', 'RYZB', 'RUTH', 'RVEN', 'RRI']: YFTzMissingError('possibly delisted; no timezone found')\n"
     ]
    },
    {
     "name": "stdout",
     "output_type": "stream",
     "text": [
      "(0, 100)\n"
     ]
    },
    {
     "name": "stderr",
     "output_type": "stream",
     "text": [
      "[**                     5%                       ]  5 of 100 completed"
     ]
    },
    {
     "name": "stdout",
     "output_type": "stream",
     "text": [
      "Batch: SBGA - SFSU\r"
     ]
    },
    {
     "name": "stderr",
     "output_type": "stream",
     "text": [
      "[*********************100%***********************]  100 of 100 completed\n",
      "\n",
      "99 Failed downloads:\n",
      "['SBV', 'SDBT', 'SEEC', 'SCFS', 'SCNB', 'SDAY', 'SEGR', 'SEBL', 'SCOX', 'SBYN', 'SEMF', 'SFCC', 'SCMF', 'SBTV', 'SCPB', 'SFR', 'SBKC', 'SFFS', 'SCLP', 'SFSF', 'SEGU', 'SBIB', 'SEAB', 'SFLA', 'SFFC', 'SCLN', 'SCMP', 'SCTR', 'SCWX', 'SFNT', 'SEPR', 'SCOP', 'SCMM', 'SERO', 'SCST', 'SBSE', 'SEP', 'SFG', 'SCOG', 'SBGA', 'SFLK', 'SCGQ', 'SCCB', 'SCAI', 'SCUR', 'SBRG', 'SCSS', 'SCRX']: YFPricesMissingError('possibly delisted; no price data found  (1d 2025-03-23 -> 2025-03-30)')\n",
      "['SEAH', 'SDH', 'SBII', 'SCOA', 'SELB', 'SFLY', 'SCHN', 'SCAC', 'SCTL', 'SC', 'SBOT', 'SFSU', 'SCMA', 'SCVX', 'SBGL', 'SCR', 'SCLE', 'SBNA', 'SESN', 'SDAC', 'SDT', 'SDI', 'SEAS', 'SCON', 'SCU', 'SEMG', 'SCPE', 'SCOB', 'SFE', 'SBTX', 'SDC', 'SBPH', 'SCPL', 'SDR', 'SENO', 'SDLP', 'SCUA', 'SEGW', 'SCTY', 'SDXC', 'SCAQ']: YFTzMissingError('possibly delisted; no timezone found')\n",
      "['SEV', 'SCRM', 'SCX', 'SEQL', 'SBXC', 'SEEL', 'SEDA', 'SDPI', 'SEPA', 'SBOW']: YFPricesMissingError('possibly delisted; no price data found  (1d 2025-03-23 -> 2025-03-30) (Yahoo error = \"No data found, symbol may be delisted\")')\n"
     ]
    },
    {
     "name": "stdout",
     "output_type": "stream",
     "text": [
      "(1, 99)\n"
     ]
    },
    {
     "name": "stderr",
     "output_type": "stream",
     "text": [
      "\r",
      "[                       0%                       ]"
     ]
    },
    {
     "name": "stdout",
     "output_type": "stream",
     "text": [
      "Batch: SFSW - SMIH\r"
     ]
    },
    {
     "name": "stderr",
     "output_type": "stream",
     "text": [
      "[*********************100%***********************]  100 of 100 completed\n",
      "\n",
      "100 Failed downloads:\n",
      "['SIDE', 'SHOE', 'SKUL', 'SGDE', 'SHRP', 'SGGG', 'SHLM', 'SLNK', 'SLVN', 'SLTM', 'SHBK', 'SMBI', 'SHMR', 'SGXP', 'SGY', 'SFT', 'SFSW', 'SILI', 'SHPG', 'SJOE', 'SMHG', 'SGTL', 'SHOR', 'SGL', 'SKYA', 'SGBK', 'SGGB', 'SLXA', 'SLD', 'SGII', 'SGNT', 'SLFI', 'SIOX', 'SKBO', 'SIRF', 'SILV', 'SHFL', 'SGAR']: YFPricesMissingError('possibly delisted; no price data found  (1d 2025-03-23 -> 2025-03-30)')\n",
      "['SIRT', 'SHQA', 'SGTX', 'SGB', 'SMFR', 'SGYP', 'SHUA', 'SINA', 'SMED', 'SGAM', 'SHLX', 'SHCA', 'SLAC', 'SIER', 'SLCR', 'SHOS', 'SGHL', 'SLCT', 'SLGG', 'SHAP', 'SFTW', 'SGLB', 'SKIS', 'SITO', 'SI', 'SHSP', 'SINO', 'SGMS', 'SMIH', 'SMBL', 'SHI', 'SGQI', 'SHAC', 'SHLO', 'SHLL', 'SIEN', 'SKMD', 'SGEN', 'SLHG', 'SICK', 'SLGC', 'SLRY', 'SJIV', 'SGFY', 'SGOC', 'SFUN', 'SLDA', 'SJIJ', 'SJA', 'SJR', 'SJI']: YFTzMissingError('possibly delisted; no timezone found')\n",
      "['SMAR', 'SLAM', 'SIVB', 'SHCR', 'SILK', 'SGE', 'SLCA', 'SGH', 'SIX', 'SLNA', 'SIC']: YFPricesMissingError('possibly delisted; no price data found  (1d 2025-03-23 -> 2025-03-30) (Yahoo error = \"No data found, symbol may be delisted\")')\n"
     ]
    },
    {
     "name": "stdout",
     "output_type": "stream",
     "text": [
      "(0, 100)\n"
     ]
    },
    {
     "name": "stderr",
     "output_type": "stream",
     "text": [
      "[***                    6%                       ]  6 of 100 completed"
     ]
    },
    {
     "name": "stdout",
     "output_type": "stream",
     "text": [
      "Batch: SMK - SPRD\r"
     ]
    },
    {
     "name": "stderr",
     "output_type": "stream",
     "text": [
      "[*********************100%***********************]  100 of 100 completed\n",
      "\n",
      "100 Failed downloads:\n",
      "['SMTB', 'SPAN', 'SNTA', 'SMMX', 'SONE', 'SMRA', 'SPLX', 'SORC', 'SPLS', 'SNTS', 'SNDV', 'SONX', 'SPNC', 'SNBT', 'SPPX', 'SMTL', 'SMXC', 'SOLD', 'SPLZ', 'SNI', 'SOCB', 'SPIL', 'SOP', 'SNSA', 'SODA', 'SNVT', 'SNBC', 'SNC', 'SNMX', 'SMT', 'SONC', 'SNAK', 'SMSC', 'SOMX', 'SMOD', 'SOMH', 'SPRD', 'SPCH', 'SPGH', 'SNBI', 'SOJB', 'SNCI', 'SNUS', 'SNWL', 'SNDS', 'SOLF', 'SOJA', 'SNDT', 'SMNS', 'SNIC']: YFPricesMissingError('possibly delisted; no price data found  (1d 2025-03-23 -> 2025-03-30)')\n",
      "['SORL', 'SNCE', 'SPAR', 'SPNE', 'SODR', 'SPCM', 'SPKB', 'SMM', 'SMSA', 'SNBP', 'SNDE', 'SPFR', 'SOAC', 'SPPI', 'SPGS', 'SOLY', 'SNSS', 'SPNV', 'SONA', 'SNRH', 'SPK', 'SOVO', 'SPHS', 'SPEX', 'SNPR', 'SPKE', 'SPN', 'SNNA', 'SNR', 'SNMP', 'SMK', 'SMTS', 'SNII', 'SMTX', 'SNH', 'SNEN', 'SPLK', 'SMTA', 'SNCA', 'SMSH', 'SNBJ', 'SMMC', 'SOLO', 'SNHY', 'SPEL']: YFTzMissingError('possibly delisted; no timezone found')\n",
      "['SMLP', 'SNPO', 'SOI', 'SMMF', 'SP']: YFPricesMissingError('possibly delisted; no price data found  (1d 2025-03-23 -> 2025-03-30) (Yahoo error = \"No data found, symbol may be delisted\")')\n"
     ]
    },
    {
     "name": "stdout",
     "output_type": "stream",
     "text": [
      "(0, 100)\n"
     ]
    },
    {
     "name": "stderr",
     "output_type": "stream",
     "text": [
      "[*                      2%                       ]  2 of 100 completed"
     ]
    },
    {
     "name": "stdout",
     "output_type": "stream",
     "text": [
      "Batch: SPRI - STXN\r"
     ]
    },
    {
     "name": "stderr",
     "output_type": "stream",
     "text": [
      "[*********************100%***********************]  99 of 100 completed\n",
      "\n",
      "99 Failed downloads:\n",
      "['SSC', 'SPSN', 'STGN', 'SQI', 'STGS', 'STXN', 'SSWA', 'STTS', 'SRRR', 'SRDD', 'SSTR', 'STEI', 'STNJ', 'STBZ', 'SSNI', 'SSS', 'STDY', 'STLW', 'SQL', 'STBC', 'SRXA', 'SPSS', 'SRIB', 'SRIX', 'SRLS', 'STRD', 'SRCL', 'SRVY', 'STPP', 'STNV', 'STS', 'SQST', 'STER', 'STIZ', 'SSAG', 'SPSX', 'SPRI', 'SPXH', 'SSRG', 'SSPI', 'SPWX', 'SSR', 'SSLI', 'STAT', 'STJ', 'SRSL', 'SQNM']: YFPricesMissingError('possibly delisted; no price data found  (1d 2025-03-23 -> 2025-03-30)')\n",
      "['STIC', 'SRF', 'STRE', 'STOR', 'SRCI', 'STLR', 'STB', 'SPRQ', 'SSFN', 'STIX', 'SSPK', 'STWO', 'SREV', 'STXB', 'STFC', 'STMP', 'SPTK', 'SRNG', 'SQZ', 'SQZZ', 'SRRA', 'STNL', 'STRY', 'STPC', 'SSU', 'STET', 'STRN', 'SSI', 'STAY', 'SRGV', 'STND', 'SRSA', 'SQBG', 'SRC', 'SRAC', 'STSA', 'SPRT', 'SSW', 'STRC', 'SSAA', 'STML', 'STL', 'STPK', 'SRT', 'STFR']: YFTzMissingError('possibly delisted; no timezone found')\n",
      "['SSNT', 'STCN', 'SQ', 'SQSP', 'SRGA', 'SPWR', 'SSIC']: YFPricesMissingError('possibly delisted; no price data found  (1d 2025-03-23 -> 2025-03-30) (Yahoo error = \"No data found, symbol may be delisted\")')\n"
     ]
    },
    {
     "name": "stdout",
     "output_type": "stream",
     "text": [
      "(4, 99)\n"
     ]
    },
    {
     "name": "stderr",
     "output_type": "stream",
     "text": [
      "[***                    6%                       ]  6 of 100 completed"
     ]
    },
    {
     "name": "stdout",
     "output_type": "stream",
     "text": [
      "Batch: STZB - TBRA\r"
     ]
    },
    {
     "name": "stderr",
     "output_type": "stream",
     "text": [
      "[*********************100%***********************]  100 of 100 completed\n",
      "\n",
      "100 Failed downloads:\n",
      "['SUM', 'SYNF', 'TAG', 'SWFT', 'TALL', 'SXUS', 'TALX', 'SUPC', 'SUPG', 'TARR', 'SYXI', 'SWY', 'SUNY', 'SUMT', 'SYBN', 'SUAI', 'SVBF', 'SVVS', 'SYUT', 'SYLN', 'SUFB', 'TBRA', 'TBDI', 'SWBD', 'SUBC', 'SUPX', 'SYBS', 'SYNT', 'SUPR', 'SYMS', 'SWWC', 'SURW', 'TBCC', 'TAI', 'TAOM', 'SUNN', 'SWSI', 'SWAT', 'SUMX', 'SWH', 'TARG', 'TAPA', 'SYNO', 'TACX', 'SXCI', 'SZMK', 'SYGR', 'SYMM', 'SYNM', 'SYNP', 'SVLF', 'SUNH', 'SWRG', 'TAPR']: YFPricesMissingError('possibly delisted; no price data found  (1d 2025-03-23 -> 2025-03-30)')\n",
      "['SZC', 'SVOK', 'SVAC', 'SWBK', 'SWET', 'STZB', 'SVFA', 'SYNL', 'TALS', 'TAT', 'SUMR', 'SVMK', 'SYNH', 'SYN', 'SVFB', 'SWM', 'SV', 'SVFC', 'TA', 'TACA', 'SUMO', 'SWCH', 'SYSN', 'SYMC', 'TBCP', 'SUNW', 'SZZL', 'SYKE', 'TBK', 'SVFD', 'TAHT', 'TBA', 'SURF', 'SWIR', 'SUNL', 'SWJ', 'TBOW', 'SVBI', 'SYNC', 'SYX']: YFTzMissingError('possibly delisted; no timezone found')\n",
      "['TBC', 'SWAV', 'TACO', 'SWN', 'TARO', 'TAST']: YFPricesMissingError('possibly delisted; no price data found  (1d 2025-03-23 -> 2025-03-30) (Yahoo error = \"No data found, symbol may be delisted\")')\n"
     ]
    },
    {
     "name": "stdout",
     "output_type": "stream",
     "text": [
      "(0, 100)\n"
     ]
    },
    {
     "name": "stderr",
     "output_type": "stream",
     "text": [
      "\r",
      "[                       0%                       ]"
     ]
    },
    {
     "name": "stdout",
     "output_type": "stream",
     "text": [
      "Batch: TBSA - TLCX\r"
     ]
    },
    {
     "name": "stderr",
     "output_type": "stream",
     "text": [
      "[*********************100%***********************]  100 of 100 completed\n",
      "\n",
      "100 Failed downloads:\n",
      "['TLCV', 'TCNO', 'TCLD', 'THMD', 'TCNJ', 'TCLP', 'TCRZ', 'TELN', 'TELM', 'TCAM', 'TKTX', 'TFCO', 'TIBB', 'THHY', 'THCX', 'TEST', 'TBWC', 'TIWI', 'TLCX', 'TFG', 'TGAL', 'TLAB', 'THCA', 'TESO', 'TGIS', 'TBSI', 'TCAP', 'THQI', 'TCPI', 'TCHF', 'TBUS', 'TFM', 'TKLC', 'TEC', 'THRK', 'TIII']: YFPricesMissingError('possibly delisted; no price data found  (1d 2025-03-23 -> 2025-03-30)')\n",
      "['TIF', 'TIVO', 'TDJ', 'TBZ', 'TGA', 'TISA', 'TKAT', 'TERP', 'TCRD', 'TIBR', 'THRX', 'TFIG', 'TGH', 'TGC', 'TCF', 'TCAC', 'TGVC', 'TECZ', 'TDA', 'TEKK', 'TCRW', 'TFCF', 'THCB', 'THBR', 'TCVA', 'TCO', 'TICK', 'TIER', 'TFDI', 'TESS', 'TECC', 'TGE', 'TLCR', 'THMA', 'TCDA', 'TETC', 'TBSA', 'TCHJ', 'TGR', 'TKKS', 'THRN', 'THOR', 'TEUM', 'TECD', 'TINV', 'TDE', 'THAC', 'TIKI', 'TKTM', 'TCRR', 'THNX', 'TCFC']: YFTzMissingError('possibly delisted; no timezone found')\n",
      "['TCS', 'TENK', 'TELL', 'TCN', 'TFFP', 'TCJH', 'TELZ', 'TIOA', 'TIG', 'TDCX', 'THCP', 'TGAN']: YFPricesMissingError('possibly delisted; no price data found  (1d 2025-03-23 -> 2025-03-30) (Yahoo error = \"No data found, symbol may be delisted\")')\n"
     ]
    },
    {
     "name": "stdout",
     "output_type": "stream",
     "text": [
      "(0, 100)\n"
     ]
    },
    {
     "name": "stderr",
     "output_type": "stream",
     "text": [
      "\r",
      "[                       0%                       ]"
     ]
    },
    {
     "name": "stdout",
     "output_type": "stream",
     "text": [
      "Batch: TLEO - TRNI\r"
     ]
    },
    {
     "name": "stderr",
     "output_type": "stream",
     "text": [
      "[*********************100%***********************]  100 of 100 completed\n",
      "\n",
      "100 Failed downloads:\n",
      "['TLEO', 'TRMP', 'TRF', 'TPGI', 'TMIC', 'TLRX', 'TRCR', 'TMRK', 'TMWD', 'TOR', 'TLWT', 'TOFR', 'TRLG', 'TRNC', 'TPTH', 'TRGL', 'TLO', 'TLGB', 'TNOX', 'TOFC', 'TMPO', 'TRKN', 'TRBM', 'TRBS', 'TRFC', 'TPVY', 'TOBC', 'TRMS', 'TOMO', 'TPPP', 'TRCI', 'TRNI', 'TLMR', 'TPAY', 'TMTA', 'TONS', 'TLVT', 'TPIV', 'TPS', 'TRBR', 'TPCG', 'TNCC', 'TNTX', 'TRAD', 'TRMA', 'TO', 'TRDO', 'TLGD', 'TRBC']: YFPricesMissingError('possibly delisted; no price data found  (1d 2025-03-23 -> 2025-03-30)')\n",
      "['TNT', 'TLGA', 'TMAC', 'TLRD', 'TLRA', 'TMK', 'TOWR', 'TRMR', 'TMTS', 'TRCO', 'TPGS', 'TPCO', 'TMST', 'TREC', 'TPBA', 'TRHC', 'TOTS', 'TPGY', 'TNAV', 'TPGH', 'TRIL', 'TLMD', 'TMDI', 'TRAQ', 'TRBN', 'TOCA', 'TRCA', 'TRKA', 'TMSR', 'TOAC', 'TLGT', 'TPRE', 'TRCH', 'TRMT', 'TMCX', 'TMBR', 'TRK', 'TOTA', 'TMKR', 'TMX', 'TLI', 'TMPM', 'TRNE', 'TRCB', 'TMWE', 'TREB', 'TPTX']: YFTzMissingError('possibly delisted; no timezone found')\n",
      "['TRIT', 'TNP', 'TRIS', 'TMTC']: YFPricesMissingError('possibly delisted; no price data found  (1d 2025-03-23 -> 2025-03-30) (Yahoo error = \"No data found, symbol may be delisted\")')\n"
     ]
    },
    {
     "name": "stdout",
     "output_type": "stream",
     "text": [
      "(0, 100)\n"
     ]
    },
    {
     "name": "stderr",
     "output_type": "stream",
     "text": [
      "[**                     4%                       ]  4 of 100 completed"
     ]
    },
    {
     "name": "stdout",
     "output_type": "stream",
     "text": [
      "Batch: TRNX - UBNK\r"
     ]
    },
    {
     "name": "stderr",
     "output_type": "stream",
     "text": [
      "[*********************100%***********************]  100 of 100 completed\n",
      "\n",
      "100 Failed downloads:\n",
      "['TWAV', 'TSCM', 'TUNE', 'UBM', 'TWLL', 'TRRA', 'TXTR', 'TWOK', 'TUEM', 'UBN', 'TYC', 'TSTF', 'UBC', 'TWPG', 'UBET', 'UBCD', 'TTPA', 'TSRX', 'UAPH', 'TTHI', 'TUTS', 'TUMI', 'TTES', 'UARM', 'TSFG', 'UAUA', 'TSO', 'TSTY', 'TSON', 'TVIZ', 'TTF', 'TZIX', 'TSTR', 'TUTR', 'TSRO', 'UAIR', 'TSAI', 'TWC', 'TTIL', 'TXCO', 'TUDO', 'TRPL', 'UBMT', 'UAM', 'TRSK', 'TUBE', 'TWX', 'TXUI']: YFPricesMissingError('possibly delisted; no price data found  (1d 2025-03-23 -> 2025-03-30)')\n",
      "['UBNK', 'TSS', 'TWCB', 'TUES', 'TXAC', 'TVAC', 'TRQ', 'TTPY', 'UBA', 'TWCT', 'TYTE', 'TSIA', 'TRNX', 'TVAX', 'TUGC', 'TST', 'TWND', 'TZPS', 'TZAC', 'TVTY', 'TWOA', 'TSG', 'TRTN', 'TRXC', 'TWTR', 'TWNT', 'TROV', 'TTUN', 'TTPH', 'TSIB', 'TSC', 'TYME', 'TWMC', 'TYDE', 'TUFN', 'TSPQ', 'TYHT', 'TTS', 'TWNI', 'TYPE', 'TULY', 'TRWH', 'TSLF', 'TTCF', 'TWNK']: YFTzMissingError('possibly delisted; no timezone found')\n",
      "['TRON', 'TWKS', 'TRTL', 'TTP', 'TUP', 'TSRI', 'TWLV']: YFPricesMissingError('possibly delisted; no price data found  (1d 2025-03-23 -> 2025-03-30) (Yahoo error = \"No data found, symbol may be delisted\")')\n"
     ]
    },
    {
     "name": "stdout",
     "output_type": "stream",
     "text": [
      "(0, 100)\n"
     ]
    },
    {
     "name": "stderr",
     "output_type": "stream",
     "text": [
      "[*                      3%                       ]  3 of 100 completed"
     ]
    },
    {
     "name": "stdout",
     "output_type": "stream",
     "text": [
      "Batch: UBNT - VEAC\r"
     ]
    },
    {
     "name": "stderr",
     "output_type": "stream",
     "text": [
      "[*********************100%***********************]  100 of 100 completed\n",
      "\n",
      "100 Failed downloads:\n",
      "['UGCE', 'USMR', 'USPL', 'ULCM', 'UNTD', 'USIH', 'VARI', 'UHCO', 'UFBS', 'UTEK', 'UTBI', 'UNXL', 'VANS', 'UDRL', 'UTLZ', 'UCBA', 'UVSL', 'UHCP', 'USON', 'UPCS', 'UNIZ', 'UXJ', 'UCBC', 'UOPX', 'UBRT', 'UNCA', 'VDTH', 'UPFC', 'USHS', 'VASC', 'UCP', 'VA', 'UOP', 'UCNN', 'VAST', 'UFMC', 'VCGH', 'UNFY', 'URGI', 'UTLF', 'VATA', 'ULTE', 'UCD', 'UNBJ', 'VAIL', 'UTC', 'VCBI', 'USMD']: YFPricesMissingError('possibly delisted; no price data found  (1d 2025-03-23 -> 2025-03-30)')\n",
      "['USAT', 'UBP', 'UQM', 'UFAB', 'UFS', 'UZA', 'UPTD', 'UPH', 'UIHC', 'VCKA', 'UCFC', 'USX', 'VACQ', 'UTME', 'UMX', 'UMPQ', 'UTAA', 'UROV', 'UNUM', 'UNCL', 'USBE', 'UNT', 'UNVR', 'UNFL', 'USAK', 'VBLT', 'VEAC', 'USCR', 'VAQC', 'VAM', 'USER', 'VCRA', 'UBSH', 'UZC', 'VAR', 'ULTI', 'USWS', 'VCIF', 'VBOC', 'UCLP', 'UTX', 'UMRX', 'VCF', 'UBNT', 'UPL', 'UEPS']: YFTzMissingError('possibly delisted; no timezone found')\n",
      "['UCBI', 'VBIV', 'USAP', 'VAPO', 'UGIC', 'UNAM']: YFPricesMissingError('possibly delisted; no price data found  (1d 2025-03-23 -> 2025-03-30) (Yahoo error = \"No data found, symbol may be delisted\")')\n"
     ]
    },
    {
     "name": "stdout",
     "output_type": "stream",
     "text": [
      "(0, 100)\n"
     ]
    },
    {
     "name": "stderr",
     "output_type": "stream",
     "text": [
      "[**                     4%                       ]  4 of 100 completed"
     ]
    },
    {
     "name": "stdout",
     "output_type": "stream",
     "text": [
      "Batch: VEBM - VRAZ\r"
     ]
    },
    {
     "name": "stderr",
     "output_type": "stream",
     "text": [
      "[*********************100%***********************]  100 of 100 completed\n",
      "\n",
      "100 Failed downloads:\n",
      "['VPTR', 'VESH', 'VQTS', 'VMED', 'VPHM', 'VITC', 'VLLV', 'VOCS', 'VOOC', 'VLBK', 'VNDC', 'VHAQ', 'VINA', 'VLNK', 'VIP', 'VFGI', 'VOXW', 'VLTR', 'VNTV', 'VERT', 'VMIN', 'VPTI', 'VRAY', 'VNUS', 'VITR', 'VNLS', 'VNWK', 'VLCM', 'VIEW', 'VIRL', 'VIGN', 'VIFL', 'VLNC', 'VEGF', 'VPF', 'VMEM', 'VLML', 'VISG', 'VINT', 'VITA', 'VIXL', 'VMOY', 'VOLV', 'VIIZ', 'VLGC', 'VLFG', 'VNR', 'VLLY']: YFPricesMissingError('possibly delisted; no price data found  (1d 2025-03-23 -> 2025-03-30)')\n",
      "['VGII', 'VRAD', 'VNE', 'VMM', 'VIVO', 'VEI', 'VLRX', 'VELO', 'VPCC', 'VICL', 'VJET', 'VELC', 'VPCB', 'VOCL', 'VMAC', 'VLSM', 'VIE', 'VMET', 'VNBK', 'VGAC', 'VIAB', 'VGGL', 'VIH', 'VMW', 'VNTR', 'VMGA', 'VER', 'VRAZ', 'VQS', 'VECT', 'VEDU', 'VENA', 'VIAC', 'VLTA', 'VEC', 'VGFC', 'VISI', 'VISN', 'VLNS', 'VEBM', 'VOSO', 'VLAT', 'VHNA', 'VLDR']: YFTzMissingError('possibly delisted; no timezone found')\n",
      "['VLD', 'VIA', 'VERY', 'VORB', 'VEV', 'VLON', 'VIRI', 'VGR']: YFPricesMissingError('possibly delisted; no price data found  (1d 2025-03-23 -> 2025-03-30) (Yahoo error = \"No data found, symbol may be delisted\")')\n"
     ]
    },
    {
     "name": "stdout",
     "output_type": "stream",
     "text": [
      "(0, 100)\n"
     ]
    },
    {
     "name": "stderr",
     "output_type": "stream",
     "text": [
      "\r",
      "[                       0%                       ]"
     ]
    },
    {
     "name": "stdout",
     "output_type": "stream",
     "text": [
      "Batch: VRGY - WFBI\r"
     ]
    },
    {
     "name": "stderr",
     "output_type": "stream",
     "text": [
      "[*********************100%***********************]  100 of 100 completed\n",
      "\n",
      "100 Failed downloads:\n",
      "['VTNC', 'WALA', 'VSCE', 'VWR', 'VSCP', 'VTEK', 'VTAL', 'VSR', 'VRNG', 'WAXM', 'WCBO', 'WAC', 'WEET', 'VSGN', 'WEBX', 'WCGC', 'WCAA', 'VTTI', 'VSAR', 'VWPT', 'WEDC', 'WBKC', 'WCRX', 'WAUW', 'WAGI', 'VSTY', 'VWKS', 'VXXB', 'WEAR', 'VRLK', 'WBSN', 'WEFC', 'WAVS', 'WDHD', 'VYNT', 'VTIV', 'VSEA', 'VRNM', 'VSTH', 'VRX', 'WBMD', 'WBB', 'VTAE', 'VRYA', 'WBCO', 'WEB', 'VRGY', 'WEBM', 'WFBI', 'VTYC', 'WAIN', 'VSNT']: YFPricesMissingError('possibly delisted; no price data found  (1d 2025-03-23 -> 2025-03-30)')\n",
      "['VSM', 'WEBR', 'WETF', 'WBT', 'WAIR', 'VRTU', 'WAVC', 'WARR', 'VSPR', 'VTIQ', 'WCG', 'VVNT', 'VTRO', 'VSLR', 'WEBK', 'VSI', 'VRML', 'VRS', 'VVUS', 'WETG', 'WDAT', 'VYGG', 'WFBC', 'VTAQ', 'VUNC', 'WBC', 'WAAS', 'VTA', 'WEJO', 'WAGE', 'WDR', 'WBEV', 'WE', 'VSCN', 'VTL', 'WCRT', 'VRTV']: YFTzMissingError('possibly delisted; no timezone found')\n",
      "['WEL', 'VSTO', 'VWE', 'VZIO', 'WENA', 'VTRU', 'WAVD', 'VSAC', 'VWTR', 'VVI', 'VTNR']: YFPricesMissingError('possibly delisted; no price data found  (1d 2025-03-23 -> 2025-03-30) (Yahoo error = \"No data found, symbol may be delisted\")')\n"
     ]
    },
    {
     "name": "stdout",
     "output_type": "stream",
     "text": [
      "(0, 100)\n"
     ]
    },
    {
     "name": "stderr",
     "output_type": "stream",
     "text": [
      "[******                13%                       ]  13 of 100 completed"
     ]
    },
    {
     "name": "stdout",
     "output_type": "stream",
     "text": [
      "Batch: WFHC - WWAV\r"
     ]
    },
    {
     "name": "stderr",
     "output_type": "stream",
     "text": [
      "[*********************100%***********************]  100 of 100 completed\n",
      "\n",
      "100 Failed downloads:\n",
      "['WGBS', 'WTRS', 'WSB', 'WSPT', 'WTBK', 'WLFI', 'WSKI', 'WIBC', 'WSCI', 'WTCO', 'WPTE', 'WLBC', 'WPZ', 'WHIT', 'WITS', 'WIZE', 'WPSC', 'WFHC', 'WVCM', 'WGL', 'WGII', 'WFM', 'WLTH', 'WSTC', 'WSKY', 'WSSI', 'WFSL', 'WMAR', 'WNR', 'WSTF', 'WTRX', 'WNNB', 'WMGC', 'WHAI', 'WR', 'WSPI', 'WFII', 'WSII', 'WSBK', 'WJCI', 'WLSF', 'WISH', 'WGOV', 'WIND', 'WOFC', 'WHIS', 'WTNY', 'WFSG', 'WGRD', 'WSBA', 'WMIH', 'WTEL', 'WSBI', 'WLSC', 'WGBC', 'WLSN', 'WRNC', 'WTHN', 'WFSI', 'WHRT', 'WWAV', 'WFMI', 'WRSP', 'WITE', 'WMAC']: YFPricesMissingError('possibly delisted; no price data found  (1d 2025-03-23 -> 2025-03-30)')\n",
      "['WLMS', 'WPCB', 'WPF', 'WTRH', 'WLTW', 'WRE', 'WLL', 'WMGI', 'WRI', 'WP', 'WWAC', 'WRAC', 'WTRU', 'WORK', 'WGNA', 'WRTC', 'WMC', 'WSFG', 'WLH', 'WNTG', 'WSTG', 'WPCA', 'WIFI', 'WTR', 'WQGA', 'WPG', 'WHUN', 'WRLS', 'WPX', 'WINS', 'WTT', 'WNNR']: YFTzMissingError('possibly delisted; no timezone found')\n",
      "['WKME', 'WRK', 'WIRE']: YFPricesMissingError('possibly delisted; no price data found  (1d 2025-03-23 -> 2025-03-30) (Yahoo error = \"No data found, symbol may be delisted\")')\n"
     ]
    },
    {
     "name": "stdout",
     "output_type": "stream",
     "text": [
      "(0, 100)\n"
     ]
    },
    {
     "name": "stderr",
     "output_type": "stream",
     "text": [
      "[**                     5%                       ]  5 of 100 completed"
     ]
    },
    {
     "name": "stdout",
     "output_type": "stream",
     "text": [
      "Batch: WWAY - YNDX\r"
     ]
    },
    {
     "name": "stderr",
     "output_type": "stream",
     "text": [
      "[*********************100%***********************]  100 of 100 completed\n",
      "\n",
      "100 Failed downloads:\n",
      "['XXIA', 'XLTC', 'YAKC', 'XETA', 'WWMO', 'XSEL', 'WWAY', 'XSON', 'XS', 'YDNT', 'XLBS', 'XBKS', 'WZEN', 'YAVY', 'XCYT', 'WWWB', 'XLKS', 'YESR', 'XF', 'XE', 'WYPT', 'YDIV', 'XK', 'YGRO', 'XTXI', 'XRDC', 'XPLR', 'XD', 'XLES', 'XICO', 'XIVH', 'XUE', 'YANB', 'XMLG', 'XFNE', 'WWVY', 'XRM', 'YDIW', 'XRGC', 'XTLY', 'WYOI', 'YDKN', 'XVIX', 'WYN', 'XRIT', 'XYNY', 'XTND', 'XING', 'XRA', 'XU', 'XNVA', 'XLYS', 'WWON', 'XCRA', 'XNPT', 'XLUS', 'XMSR', 'XOXO', 'YCB', 'XH', 'XOCM', 'XLVS', 'XSBG', 'XATA', 'XLIS', 'XXV', 'XNWK', 'XLPS']: YFPricesMissingError('possibly delisted; no price data found  (1d 2025-03-23 -> 2025-03-30)')\n",
      "['XAN', 'XLUX', 'YELL', 'XPDI', 'WWE', 'XPAX', 'XGTI', 'WXCO', 'Y', 'XPOA', 'XL', 'XON', 'XLRN', 'XSPL', 'YGF', 'YAC', 'XPDB', 'YMTX', 'YGYI', 'XEC', 'XM', 'YHOO', 'YGTY', 'XENT', 'XSPA', 'XFML', 'XOG', 'XIV', 'XLNX', 'WYND']: YFTzMissingError('possibly delisted; no timezone found')\n",
      "['XFIN', 'YNDX']: YFPricesMissingError('possibly delisted; no price data found  (1d 2025-03-23 -> 2025-03-30) (Yahoo error = \"No data found, symbol may be delisted\")')\n"
     ]
    },
    {
     "name": "stdout",
     "output_type": "stream",
     "text": [
      "(0, 100)\n"
     ]
    },
    {
     "name": "stderr",
     "output_type": "stream",
     "text": [
      "[**                     4%                       ]  3 of 76 completed"
     ]
    },
    {
     "name": "stdout",
     "output_type": "stream",
     "text": [
      "Batch: YOGA - ZZX\r"
     ]
    },
    {
     "name": "stderr",
     "output_type": "stream",
     "text": [
      "[*********************100%***********************]  75 of 76 completed\n",
      "\n",
      "76 Failed downloads:\n",
      "['ZZK', 'ZONS', 'ZRBA', 'YTHK', 'ZOLL', 'ZVXI', 'ZENX', 'YZCM', 'ZIPR', 'ZZX', 'ZRAN', 'ZZO', 'ZLRG', 'ZKID', 'ZILA', 'ZICA', 'ZOO', 'ZLTQ', 'ZONA', 'YOKU', 'ZILG', 'ZPIN', 'ZVV', 'ZMBA', 'ZNDT', 'YXR', 'ZOOG', 'ZIGO', 'ZUO', 'ZOMX', 'ZEPE', 'ZOLT', 'YTEC', 'ZFC', 'YZC', 'ZOES', 'ZAIS']: YFPricesMissingError('possibly delisted; no price data found  (1d 2025-03-23 -> 2025-03-30)')\n",
      "['ZME', 'ZNH', 'ZIXI', 'ZN', 'ZIOP', 'ZSAN', 'YTPG', 'ZY', 'ZAGG', 'ZYNE', 'ZEN', 'ZGNX', 'ZWRK', 'ZFGN', 'ZARS', 'ZAPZ', 'ZBZX', 'ZT', 'YRCW', 'ZEV', 'YOGA', 'YUMA', 'ZHIC', 'ZGYH', 'ZAYO', 'ZING', 'YPRO', 'ZVO', 'ZDIV', 'ZEST', 'ZNGA', 'YSAC']: YFTzMissingError('possibly delisted; no timezone found')\n",
      "['ZFOX', 'YVR', 'ZNTE', 'YS', 'YTEN', 'ZLS']: YFPricesMissingError('possibly delisted; no price data found  (1d 2025-03-23 -> 2025-03-30) (Yahoo error = \"No data found, symbol may be delisted\")')\n",
      "['ZTST']: YFInvalidPeriodError(\"ZTST: Period 'max' is invalid, must be of the format 1d, 5d, etc.\")\n"
     ]
    },
    {
     "name": "stdout",
     "output_type": "stream",
     "text": [
      "(0, 76)\n"
     ]
    }
   ],
   "source": [
    "failed_again = []\n",
    "i = 0\n",
    "while i <= n :\n",
    "    try:\n",
    "        first = i\n",
    "        last = min(i + 100, n)\n",
    "        batch = failed[first:last]\n",
    "        print(f'Batch: {batch[0]} - {batch[-1]}', end='\\r')\n",
    "        df = yf.download(batch, start=start, end=end)['Adj Close']\n",
    "        print(df.shape)\n",
    "        if len(df):\n",
    "            df = df.loc[:, df.iloc[-1, :].notnull()]\n",
    "            batch_active = df.columns\n",
    "            # Exclude if current val < 2.00\n",
    "            df = df.loc[:, df.iloc[-1, :] >= 2.]\n",
    "            batch_omit = [sym for sym in batch_active if sym not in df.columns]\n",
    "            omit += list(batch_omit)\n",
    "            active += list(df.columns)\n",
    "            fails = [sym for sym in batch if sym not in df.columns and sym not in batch_omit]\n",
    "            failed_again += fails\n",
    "        else:\n",
    "            failed_again += batch\n",
    "        sleep(3)\n",
    "        i += 100\n",
    "    except Exception as e:\n",
    "        print(e)\n",
    "        pass"
   ]
  },
  {
   "cell_type": "markdown",
   "id": "5f605d65",
   "metadata": {},
   "source": [
    "### 4th Attempt"
   ]
  },
  {
   "cell_type": "code",
   "execution_count": 37,
   "id": "66a59947",
   "metadata": {},
   "outputs": [
    {
     "data": {
      "text/plain": [
       "(4663, 1170)"
      ]
     },
     "execution_count": 37,
     "metadata": {},
     "output_type": "execute_result"
    }
   ],
   "source": [
    "len(active), len(omit)"
   ]
  },
  {
   "cell_type": "code",
   "execution_count": 38,
   "id": "48cdaa0b",
   "metadata": {},
   "outputs": [
    {
     "data": {
      "text/plain": [
       "6176"
      ]
     },
     "execution_count": 38,
     "metadata": {},
     "output_type": "execute_result"
    }
   ],
   "source": [
    "failed = failed_again[:]\n",
    "n = len(failed)\n",
    "n"
   ]
  },
  {
   "cell_type": "code",
   "execution_count": 39,
   "id": "77273787",
   "metadata": {},
   "outputs": [],
   "source": [
    "with open('../data/all_symbols.pkl', 'wb') as f:\n",
    "    pickle.dump(active, f)"
   ]
  },
  {
   "cell_type": "code",
   "execution_count": null,
   "id": "b8522032",
   "metadata": {},
   "outputs": [],
   "source": []
  },
  {
   "cell_type": "code",
   "execution_count": null,
   "id": "fc3ce96c",
   "metadata": {},
   "outputs": [],
   "source": []
  },
  {
   "cell_type": "code",
   "execution_count": null,
   "id": "eaeff4b8",
   "metadata": {},
   "outputs": [],
   "source": []
  },
  {
   "cell_type": "code",
   "execution_count": 32,
   "id": "b0556746",
   "metadata": {},
   "outputs": [
    {
     "data": {
      "text/plain": [
       "(False, True)"
      ]
     },
     "execution_count": 32,
     "metadata": {},
     "output_type": "execute_result"
    }
   ],
   "source": [
    "'INTI' in active, 'INTI' in omit"
   ]
  },
  {
   "cell_type": "code",
   "execution_count": 33,
   "id": "264cc2ae",
   "metadata": {},
   "outputs": [
    {
     "data": {
      "text/plain": [
       "(True, False)"
      ]
     },
     "execution_count": 33,
     "metadata": {},
     "output_type": "execute_result"
    }
   ],
   "source": [
    "'TSLA' in active, 'TSLA' in omit"
   ]
  },
  {
   "cell_type": "code",
   "execution_count": null,
   "id": "71d6426e",
   "metadata": {},
   "outputs": [],
   "source": [
    "!say complete"
   ]
  },
  {
   "cell_type": "code",
   "execution_count": null,
   "id": "8cdaefcf",
   "metadata": {},
   "outputs": [],
   "source": [
    "# Run...?\n",
    "'''\n",
    "failed_again = []\n",
    "i = 0\n",
    "while i <= n - 100:\n",
    "    first = i\n",
    "    last = min(i + 100, n)\n",
    "    batch = failed[first:last]\n",
    "    print(f'Batch: {batch[0]} - {batch[-1]}', end='\\r')\n",
    "    df = yf.download(batch, start=start, end=end)['Adj Close']\n",
    "    print(df.shape)\n",
    "    if len(df):\n",
    "        df = df.loc[:, df.iloc[-1, :].notnull()]\n",
    "        batch_active = df.columns\n",
    "        # Exclude if current val < 2.00\n",
    "        df = df.loc[:, df.iloc[-1, :] >= 2.]\n",
    "        batch_omit = [sym for sym in batch_active if sym not in df.columns]\n",
    "        omit += list(batch_omit)\n",
    "        active += list(df.columns)\n",
    "        fails = [sym for sym in batch if sym not in df.columns and sym not in batch_omit]\n",
    "        failed_again += fails\n",
    "    else:\n",
    "        failed_again += batch\n",
    "    sleep(3)\n",
    "    i += 100\n",
    "'''"
   ]
  }
 ],
 "metadata": {
  "kernelspec": {
   "display_name": "Python 3 (ipykernel)",
   "language": "python",
   "name": "python3"
  },
  "language_info": {
   "codemirror_mode": {
    "name": "ipython",
    "version": 3
   },
   "file_extension": ".py",
   "mimetype": "text/x-python",
   "name": "python",
   "nbconvert_exporter": "python",
   "pygments_lexer": "ipython3",
   "version": "3.11.4"
  }
 },
 "nbformat": 4,
 "nbformat_minor": 5
}
