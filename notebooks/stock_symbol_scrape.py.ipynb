{
 "cells": [
  {
   "cell_type": "code",
   "execution_count": 3,
   "id": "8d2982e0",
   "metadata": {},
   "outputs": [],
   "source": [
    "import pickle\n",
    "\n",
    "from bs4 import BeautifulSoup\n",
    "from requests_html import HTMLSession"
   ]
  },
  {
   "cell_type": "code",
   "execution_count": 4,
   "id": "10843ff5",
   "metadata": {},
   "outputs": [],
   "source": [
    "EXCHANGE_PATHS = {\n",
    "    'nasdaq': 'nasdaq',\n",
    "    'nyse': 'newyorkstockexchange',\n",
    "    'amex': 'americanstockexchange'}\n",
    "base_url = 'https://www.advfn.com'\n",
    "session = HTMLSession()"
   ]
  },
  {
   "cell_type": "code",
   "execution_count": 5,
   "id": "035b9a0a",
   "metadata": {},
   "outputs": [],
   "source": [
    "def get_soup(url):\n",
    "    try:\n",
    "        res = session.get(url)\n",
    "        html = res.html.html\n",
    "        soup = BeautifulSoup(html, 'html.parser')\n",
    "        return soup\n",
    "    except BaseException as e:\n",
    "        print(f'Problem retrieving page: {url}\\n{e}')"
   ]
  },
  {
   "cell_type": "code",
   "execution_count": 6,
   "id": "b425e4ef",
   "metadata": {},
   "outputs": [],
   "source": [
    "def get_table(soup):\n",
    "    try:\n",
    "        table = soup.find('table', class_='market')\n",
    "        return table\n",
    "    except BaseExcetpion as e:\n",
    "        print('Unable to obtain table')\n",
    "        print(e)"
   ]
  },
  {
   "cell_type": "code",
   "execution_count": 7,
   "id": "b04a6577",
   "metadata": {},
   "outputs": [],
   "source": [
    "def get_rows(table):\n",
    "    try:\n",
    "        rows = table.find_all('tr')\n",
    "        rows = [\n",
    "            row for row in rows if 'class' in row.attrs \n",
    "            and row.attrs['class'][0].startswith('ts')]\n",
    "        return rows\n",
    "    except BaseException as e:\n",
    "        print('Unable to extract rows')\n",
    "        print(e)"
   ]
  },
  {
   "cell_type": "code",
   "execution_count": 8,
   "id": "9f32bf39",
   "metadata": {},
   "outputs": [],
   "source": [
    "def is_valid(symbol):\n",
    "    MAXLEN = 4\n",
    "    return len(symbol) <= MAXLEN and symbol.isalpha()"
   ]
  },
  {
   "cell_type": "code",
   "execution_count": 9,
   "id": "89ded873",
   "metadata": {},
   "outputs": [],
   "source": [
    "def get_symbol(row):\n",
    "    SYMBOL_COL_IDX = 1\n",
    "    try:\n",
    "        symbol = row.find_all('a')[SYMBOL_COL_IDX].text\n",
    "        if is_valid(symbol):\n",
    "            return symbol\n",
    "    except BaseException as e:\n",
    "        print('Unable to get symbol from row:', row)\n",
    "        print(e)"
   ]
  },
  {
   "cell_type": "code",
   "execution_count": 10,
   "id": "5ef6fb59",
   "metadata": {},
   "outputs": [],
   "source": [
    "def extract_symbols(soup):\n",
    "    symbols = []\n",
    "    table = get_table(soup)\n",
    "    rows = get_rows(table)\n",
    "    for row in rows:\n",
    "        symbol = get_symbol(row)\n",
    "        if symbol is not None:\n",
    "            symbols.append(symbol)\n",
    "    return symbols"
   ]
  },
  {
   "cell_type": "code",
   "execution_count": 11,
   "id": "3dd0d00f",
   "metadata": {},
   "outputs": [],
   "source": [
    "def extract_all_symbols():\n",
    "    all_symbols = []\n",
    "    for exchange, path in EXCHANGE_PATHS.items():\n",
    "        print(f'Beggining {exchange}\\nLetter:')\n",
    "        for letter in list('ABCDEFGHIJKLMNOPQRSTUVWXYZ'):\n",
    "            print(letter, end='')\n",
    "            url = f'{base_url}/{exchange}/{path}.asp?companies={letter}'\n",
    "            soup = get_soup(url)\n",
    "            symbols = extract_symbols(soup)\n",
    "            all_symbols += symbols\n",
    "        print()\n",
    "    return sorted(all_symbols)"
   ]
  },
  {
   "cell_type": "code",
   "execution_count": 12,
   "id": "a4a78c80",
   "metadata": {},
   "outputs": [
    {
     "name": "stdout",
     "output_type": "stream",
     "text": [
      "Beggining nasdaq\n",
      "Letter:\n",
      "ABCDEFGHIJKLMNOPQRSTUVWXYZ\n",
      "Beggining nyse\n",
      "Letter:\n",
      "ABCDEFGHIJKLMNOPQRSTUVWXYZ\n",
      "Beggining amex\n",
      "Letter:\n",
      "ABCDEFGHIJKLMNOPQRSTUVWXYZ\n"
     ]
    }
   ],
   "source": [
    "all_symbols = extract_all_symbols()"
   ]
  },
  {
   "cell_type": "code",
   "execution_count": 13,
   "id": "3125d5a6",
   "metadata": {},
   "outputs": [],
   "source": [
    "all_symbols = sorted(list(set(all_symbols)))"
   ]
  },
  {
   "cell_type": "code",
   "execution_count": 14,
   "id": "28fec2af",
   "metadata": {},
   "outputs": [
    {
     "data": {
      "text/plain": [
       "['A', 'AA', 'AAAP', 'AABA', 'AABC', 'AAC', 'AACC', 'AACE', 'AACI', 'AACQ']"
      ]
     },
     "execution_count": 14,
     "metadata": {},
     "output_type": "execute_result"
    }
   ],
   "source": [
    "all_symbols[:10]"
   ]
  },
  {
   "cell_type": "code",
   "execution_count": 15,
   "id": "828ba0fd",
   "metadata": {},
   "outputs": [
    {
     "data": {
      "text/plain": [
       "['ZWRK', 'ZWS', 'ZY', 'ZYME', 'ZYNE', 'ZYXI', 'ZZK', 'ZZO', 'ZZX', 'ZZZ']"
      ]
     },
     "execution_count": 15,
     "metadata": {},
     "output_type": "execute_result"
    }
   ],
   "source": [
    "all_symbols[-10:]"
   ]
  },
  {
   "cell_type": "code",
   "execution_count": 16,
   "id": "721093d9",
   "metadata": {},
   "outputs": [],
   "source": [
    "with open('../data/all_symbols.pkl', 'wb') as f:\n",
    "    pickle.dump(all_symbols, f)"
   ]
  },
  {
   "cell_type": "code",
   "execution_count": null,
   "id": "b6d18ef3",
   "metadata": {},
   "outputs": [],
   "source": []
  }
 ],
 "metadata": {
  "kernelspec": {
   "display_name": "Python 3 (ipykernel)",
   "language": "python",
   "name": "python3"
  },
  "language_info": {
   "codemirror_mode": {
    "name": "ipython",
    "version": 3
   },
   "file_extension": ".py",
   "mimetype": "text/x-python",
   "name": "python",
   "nbconvert_exporter": "python",
   "pygments_lexer": "ipython3",
   "version": "3.11.3"
  }
 },
 "nbformat": 4,
 "nbformat_minor": 5
}
