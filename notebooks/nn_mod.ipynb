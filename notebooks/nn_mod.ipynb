{
 "cells": [
  {
   "cell_type": "code",
   "execution_count": 1,
   "metadata": {
    "collapsed": false
   },
   "outputs": [],
   "source": [
    "import datetime \n",
    "import matplotlib.pyplot as plt\n",
    "import numpy as np\n",
    "import os\n",
    "import pandas as pd\n",
    "import tensorflow as tf\n",
    "from sklearn.model_selection import train_test_split\n",
    "from sklearn.preprocessing import StandardScaler\n",
    "from tensorflow.python.framework import ops\n",
    "\n",
    "%matplotlib inline\n",
    "plt.rcParams['figure.figsize'] = [15, 10]\n",
    "plt.style.use('ggplot')"
   ]
  },
  {
   "cell_type": "code",
   "execution_count": 2,
   "metadata": {
    "collapsed": false
   },
   "outputs": [],
   "source": [
    "!../scripts/copy_data.sh"
   ]
  },
  {
   "cell_type": "code",
   "execution_count": 3,
   "metadata": {
    "collapsed": true
   },
   "outputs": [],
   "source": [
    "DATA_PATH = '../data/'"
   ]
  },
  {
   "cell_type": "code",
   "execution_count": 4,
   "metadata": {
    "collapsed": false
   },
   "outputs": [],
   "source": [
    "def read(filepath, pred=False):\n",
    "    dat = pd.read_csv(filepath)\n",
    "    if not pred:\n",
    "        dat['buyDate'] = pd.to_datetime(dat['buyDate'])\n",
    "    return dat"
   ]
  },
  {
   "cell_type": "code",
   "execution_count": 5,
   "metadata": {
    "collapsed": false
   },
   "outputs": [
    {
     "name": "stdout",
     "output_type": "stream",
     "text": [
      "total 2416\r\n",
      "drwxr-xr-x   6 dsp  staff      204 Jul 13 21:00 \u001b[34m.\u001b[m\u001b[m/\r\n",
      "drwxr-xr-x  11 dsp  staff      374 Jul  1 16:27 \u001b[34m..\u001b[m\u001b[m/\r\n",
      "-rw-r--r--@  1 dsp  staff     6148 Jul 13 21:00 .DS_Store\r\n",
      "-rw-r--r--@  1 dsp  staff     1749 Sep 17 15:30 Multistock.csv\r\n",
      "-rw-r--r--@  1 dsp  staff    46984 Sep 17 15:30 buyStats.csv\r\n",
      "-rw-r--r--@  1 dsp  staff  1174245 Sep 16 13:43 sp1950.csv\r\n"
     ]
    }
   ],
   "source": [
    "ls -la ../data"
   ]
  },
  {
   "cell_type": "code",
   "execution_count": 6,
   "metadata": {
    "collapsed": false
   },
   "outputs": [
    {
     "data": {
      "text/html": [
       "<div>\n",
       "<style>\n",
       "    .dataframe thead tr:only-child th {\n",
       "        text-align: right;\n",
       "    }\n",
       "\n",
       "    .dataframe thead th {\n",
       "        text-align: left;\n",
       "    }\n",
       "\n",
       "    .dataframe tbody tr th {\n",
       "        vertical-align: top;\n",
       "    }\n",
       "</style>\n",
       "<table border=\"1\" class=\"dataframe\">\n",
       "  <thead>\n",
       "    <tr style=\"text-align: right;\">\n",
       "      <th></th>\n",
       "      <th>stock</th>\n",
       "      <th>bundles</th>\n",
       "      <th>buyPrice</th>\n",
       "      <th>buyDate</th>\n",
       "      <th>nDays</th>\n",
       "      <th>d30Sell</th>\n",
       "      <th>d30Gains</th>\n",
       "      <th>d60Sell</th>\n",
       "      <th>d60Gains</th>\n",
       "      <th>d90Sell</th>\n",
       "      <th>...</th>\n",
       "      <th>stockMACD</th>\n",
       "      <th>stockPmoB</th>\n",
       "      <th>stockPmoW</th>\n",
       "      <th>spVal</th>\n",
       "      <th>macd</th>\n",
       "      <th>spRSI14</th>\n",
       "      <th>spPmoB75_40_20</th>\n",
       "      <th>spPmoW75_40_20</th>\n",
       "      <th>vix</th>\n",
       "      <th>days</th>\n",
       "    </tr>\n",
       "  </thead>\n",
       "  <tbody>\n",
       "    <tr>\n",
       "      <th>0</th>\n",
       "      <td>adbe</td>\n",
       "      <td>0</td>\n",
       "      <td>131.72</td>\n",
       "      <td>2017-04-21</td>\n",
       "      <td>149</td>\n",
       "      <td>136.43</td>\n",
       "      <td>1.03576</td>\n",
       "      <td>141.21</td>\n",
       "      <td>1.07205</td>\n",
       "      <td>149.07</td>\n",
       "      <td>...</td>\n",
       "      <td>-0.066</td>\n",
       "      <td>NaN</td>\n",
       "      <td>NaN</td>\n",
       "      <td>2349.0</td>\n",
       "      <td>-11.60</td>\n",
       "      <td>NaN</td>\n",
       "      <td>NaN</td>\n",
       "      <td>NaN</td>\n",
       "      <td>14.20</td>\n",
       "      <td>41384</td>\n",
       "    </tr>\n",
       "    <tr>\n",
       "      <th>1</th>\n",
       "      <td>jblu</td>\n",
       "      <td>0</td>\n",
       "      <td>21.46</td>\n",
       "      <td>2017-04-21</td>\n",
       "      <td>149</td>\n",
       "      <td>21.18</td>\n",
       "      <td>0.98695</td>\n",
       "      <td>22.74</td>\n",
       "      <td>1.05965</td>\n",
       "      <td>23.33</td>\n",
       "      <td>...</td>\n",
       "      <td>0.250</td>\n",
       "      <td>NaN</td>\n",
       "      <td>NaN</td>\n",
       "      <td>2349.0</td>\n",
       "      <td>-11.60</td>\n",
       "      <td>NaN</td>\n",
       "      <td>NaN</td>\n",
       "      <td>NaN</td>\n",
       "      <td>14.20</td>\n",
       "      <td>41384</td>\n",
       "    </tr>\n",
       "    <tr>\n",
       "      <th>2</th>\n",
       "      <td>tsco</td>\n",
       "      <td>0</td>\n",
       "      <td>63.35</td>\n",
       "      <td>2017-04-21</td>\n",
       "      <td>149</td>\n",
       "      <td>57.57</td>\n",
       "      <td>0.90876</td>\n",
       "      <td>55.69</td>\n",
       "      <td>0.87908</td>\n",
       "      <td>51.70</td>\n",
       "      <td>...</td>\n",
       "      <td>-1.254</td>\n",
       "      <td>NaN</td>\n",
       "      <td>NaN</td>\n",
       "      <td>2349.0</td>\n",
       "      <td>-11.60</td>\n",
       "      <td>NaN</td>\n",
       "      <td>NaN</td>\n",
       "      <td>NaN</td>\n",
       "      <td>14.20</td>\n",
       "      <td>41384</td>\n",
       "    </tr>\n",
       "    <tr>\n",
       "      <th>3</th>\n",
       "      <td>ftnt</td>\n",
       "      <td>0</td>\n",
       "      <td>40.16</td>\n",
       "      <td>2017-04-25</td>\n",
       "      <td>145</td>\n",
       "      <td>39.94</td>\n",
       "      <td>0.99452</td>\n",
       "      <td>38.29</td>\n",
       "      <td>0.95344</td>\n",
       "      <td>40.45</td>\n",
       "      <td>...</td>\n",
       "      <td>0.504</td>\n",
       "      <td>NaN</td>\n",
       "      <td>NaN</td>\n",
       "      <td>2374.0</td>\n",
       "      <td>-7.14</td>\n",
       "      <td>NaN</td>\n",
       "      <td>NaN</td>\n",
       "      <td>NaN</td>\n",
       "      <td>10.84</td>\n",
       "      <td>41388</td>\n",
       "    </tr>\n",
       "    <tr>\n",
       "      <th>4</th>\n",
       "      <td>pac</td>\n",
       "      <td>0</td>\n",
       "      <td>101.15</td>\n",
       "      <td>2017-04-25</td>\n",
       "      <td>145</td>\n",
       "      <td>109.00</td>\n",
       "      <td>1.07761</td>\n",
       "      <td>110.45</td>\n",
       "      <td>1.09194</td>\n",
       "      <td>117.90</td>\n",
       "      <td>...</td>\n",
       "      <td>0.633</td>\n",
       "      <td>NaN</td>\n",
       "      <td>NaN</td>\n",
       "      <td>2374.0</td>\n",
       "      <td>-7.14</td>\n",
       "      <td>NaN</td>\n",
       "      <td>NaN</td>\n",
       "      <td>NaN</td>\n",
       "      <td>10.84</td>\n",
       "      <td>41388</td>\n",
       "    </tr>\n",
       "  </tbody>\n",
       "</table>\n",
       "<p>5 rows × 60 columns</p>\n",
       "</div>"
      ],
      "text/plain": [
       "  stock  bundles  buyPrice    buyDate  nDays  d30Sell  d30Gains  d60Sell  \\\n",
       "0  adbe        0    131.72 2017-04-21    149   136.43   1.03576   141.21   \n",
       "1  jblu        0     21.46 2017-04-21    149    21.18   0.98695    22.74   \n",
       "2  tsco        0     63.35 2017-04-21    149    57.57   0.90876    55.69   \n",
       "3  ftnt        0     40.16 2017-04-25    145    39.94   0.99452    38.29   \n",
       "4   pac        0    101.15 2017-04-25    145   109.00   1.07761   110.45   \n",
       "\n",
       "   d60Gains  d90Sell  ...    stockMACD  stockPmoB  stockPmoW   spVal   macd  \\\n",
       "0   1.07205   149.07  ...       -0.066        NaN        NaN  2349.0 -11.60   \n",
       "1   1.05965    23.33  ...        0.250        NaN        NaN  2349.0 -11.60   \n",
       "2   0.87908    51.70  ...       -1.254        NaN        NaN  2349.0 -11.60   \n",
       "3   0.95344    40.45  ...        0.504        NaN        NaN  2374.0  -7.14   \n",
       "4   1.09194   117.90  ...        0.633        NaN        NaN  2374.0  -7.14   \n",
       "\n",
       "   spRSI14  spPmoB75_40_20  spPmoW75_40_20    vix   days  \n",
       "0      NaN             NaN             NaN  14.20  41384  \n",
       "1      NaN             NaN             NaN  14.20  41384  \n",
       "2      NaN             NaN             NaN  14.20  41384  \n",
       "3      NaN             NaN             NaN  10.84  41388  \n",
       "4      NaN             NaN             NaN  10.84  41388  \n",
       "\n",
       "[5 rows x 60 columns]"
      ]
     },
     "execution_count": 6,
     "metadata": {},
     "output_type": "execute_result"
    }
   ],
   "source": [
    "dat = read(DATA_PATH + 'buyStats.csv')\n",
    "#new_dat = read(DATA_PATH + 'Multistock.csv', pred=True)\n",
    "dat.head()"
   ]
  },
  {
   "cell_type": "code",
   "execution_count": 7,
   "metadata": {
    "collapsed": false
   },
   "outputs": [],
   "source": [
    "def remove_commas(value):\n",
    "    if type(value) == str:\n",
    "        return float(value.replace(',', ''))\n",
    "    else:\n",
    "        return value\n",
    "    \n",
    "dat['freeCashFlow_'] = dat['freeCashFlow_'].apply(lambda x: remove_commas(x))\n",
    "dat['mCap_'] = dat['mCap_'].apply(lambda x: remove_commas(x))"
   ]
  },
  {
   "cell_type": "code",
   "execution_count": 8,
   "metadata": {
    "collapsed": false
   },
   "outputs": [
    {
     "data": {
      "text/html": [
       "<div>\n",
       "<style>\n",
       "    .dataframe thead tr:only-child th {\n",
       "        text-align: right;\n",
       "    }\n",
       "\n",
       "    .dataframe thead th {\n",
       "        text-align: left;\n",
       "    }\n",
       "\n",
       "    .dataframe tbody tr th {\n",
       "        vertical-align: top;\n",
       "    }\n",
       "</style>\n",
       "<table border=\"1\" class=\"dataframe\">\n",
       "  <thead>\n",
       "    <tr style=\"text-align: right;\">\n",
       "      <th></th>\n",
       "      <th>stock</th>\n",
       "      <th>industry</th>\n",
       "      <th>freeCashFlow_</th>\n",
       "      <th>mCap_</th>\n",
       "    </tr>\n",
       "  </thead>\n",
       "  <tbody>\n",
       "    <tr>\n",
       "      <th>180</th>\n",
       "      <td>ato</td>\n",
       "      <td>gasUtilities</td>\n",
       "      <td>-1.871400e+08</td>\n",
       "      <td>NaN</td>\n",
       "    </tr>\n",
       "    <tr>\n",
       "      <th>181</th>\n",
       "      <td>mtch</td>\n",
       "      <td>internetSoftwareAndServices</td>\n",
       "      <td>2.243200e+08</td>\n",
       "      <td>NaN</td>\n",
       "    </tr>\n",
       "    <tr>\n",
       "      <th>182</th>\n",
       "      <td>nyt</td>\n",
       "      <td>media</td>\n",
       "      <td>1.252900e+08</td>\n",
       "      <td>NaN</td>\n",
       "    </tr>\n",
       "    <tr>\n",
       "      <th>183</th>\n",
       "      <td>jd</td>\n",
       "      <td>internetAndDirectMarketingRetail</td>\n",
       "      <td>NaN</td>\n",
       "      <td>6.392000e+10</td>\n",
       "    </tr>\n",
       "    <tr>\n",
       "      <th>184</th>\n",
       "      <td>masi</td>\n",
       "      <td>healthCareEquipmentAndSupplies</td>\n",
       "      <td>3.282600e+08</td>\n",
       "      <td>4.450000e+09</td>\n",
       "    </tr>\n",
       "    <tr>\n",
       "      <th>185</th>\n",
       "      <td>ndaq</td>\n",
       "      <td>capitalMarkets</td>\n",
       "      <td>5.146800e+08</td>\n",
       "      <td>1.244000e+10</td>\n",
       "    </tr>\n",
       "    <tr>\n",
       "      <th>186</th>\n",
       "      <td>tmus</td>\n",
       "      <td>wirelessTelecommunicationServices</td>\n",
       "      <td>1.990000e+09</td>\n",
       "      <td>5.083000e+10</td>\n",
       "    </tr>\n",
       "    <tr>\n",
       "      <th>187</th>\n",
       "      <td>dis</td>\n",
       "      <td>media</td>\n",
       "      <td>8.850000e+09</td>\n",
       "      <td>1.576300e+11</td>\n",
       "    </tr>\n",
       "    <tr>\n",
       "      <th>188</th>\n",
       "      <td>mtn</td>\n",
       "      <td>hotelsRestaurantsAndLeisure</td>\n",
       "      <td>3.168800e+08</td>\n",
       "      <td>9.100000e+09</td>\n",
       "    </tr>\n",
       "    <tr>\n",
       "      <th>189</th>\n",
       "      <td>sbux</td>\n",
       "      <td>hotelsRestaurantsAndLeisure</td>\n",
       "      <td>2.960000e+09</td>\n",
       "      <td>7.904000e+10</td>\n",
       "    </tr>\n",
       "  </tbody>\n",
       "</table>\n",
       "</div>"
      ],
      "text/plain": [
       "    stock                           industry  freeCashFlow_         mCap_\n",
       "180   ato                       gasUtilities  -1.871400e+08           NaN\n",
       "181  mtch        internetSoftwareAndServices   2.243200e+08           NaN\n",
       "182   nyt                              media   1.252900e+08           NaN\n",
       "183    jd   internetAndDirectMarketingRetail            NaN  6.392000e+10\n",
       "184  masi     healthCareEquipmentAndSupplies   3.282600e+08  4.450000e+09\n",
       "185  ndaq                     capitalMarkets   5.146800e+08  1.244000e+10\n",
       "186  tmus  wirelessTelecommunicationServices   1.990000e+09  5.083000e+10\n",
       "187   dis                              media   8.850000e+09  1.576300e+11\n",
       "188   mtn        hotelsRestaurantsAndLeisure   3.168800e+08  9.100000e+09\n",
       "189  sbux        hotelsRestaurantsAndLeisure   2.960000e+09  7.904000e+10"
      ]
     },
     "execution_count": 8,
     "metadata": {},
     "output_type": "execute_result"
    }
   ],
   "source": [
    "dat[['stock', 'industry', 'freeCashFlow_', 'mCap_']].tail(10)"
   ]
  },
  {
   "cell_type": "code",
   "execution_count": 9,
   "metadata": {
    "collapsed": false
   },
   "outputs": [
    {
     "data": {
      "text/plain": [
       "['airlines',\n",
       " 'capitalMarkets',\n",
       " 'diversifiedTelecommunicationServices',\n",
       " 'gasUtilities',\n",
       " 'healthCareEquipmentAndSupplies',\n",
       " 'hotelsRestaurantsAndLeisure',\n",
       " 'industrialConglomerates',\n",
       " 'internetAndDirectMarketingRetail',\n",
       " 'internetSoftwareAndServices',\n",
       " 'media',\n",
       " 'metalsAndMining',\n",
       " 'nan',\n",
       " 'software',\n",
       " 'specialtyRetail',\n",
       " 'transportationInfrastructure',\n",
       " 'wirelessTelecommunicationServices']"
      ]
     },
     "execution_count": 9,
     "metadata": {},
     "output_type": "execute_result"
    }
   ],
   "source": [
    "dat['industry'] = dat['industry'].apply(lambda x: str(x))\n",
    "industries = sorted(np.unique(dat['industry']))\n",
    "industries"
   ]
  },
  {
   "cell_type": "code",
   "execution_count": 10,
   "metadata": {
    "collapsed": false
   },
   "outputs": [],
   "source": [
    "def one_hot(df):\n",
    "    X = df.copy()\n",
    "    X[industries] = pd.get_dummies(X['industry'])\n",
    "    X[['mfHold', 'mfNone', 'mfNow', 'mfStart']] = pd.get_dummies(X['MF'])\n",
    "    X = X.drop(['industry', 'MF'], axis=1)\n",
    "    return X"
   ]
  },
  {
   "cell_type": "code",
   "execution_count": 11,
   "metadata": {
    "collapsed": false
   },
   "outputs": [
    {
     "data": {
      "text/html": [
       "<div>\n",
       "<style>\n",
       "    .dataframe thead tr:only-child th {\n",
       "        text-align: right;\n",
       "    }\n",
       "\n",
       "    .dataframe thead th {\n",
       "        text-align: left;\n",
       "    }\n",
       "\n",
       "    .dataframe tbody tr th {\n",
       "        vertical-align: top;\n",
       "    }\n",
       "</style>\n",
       "<table border=\"1\" class=\"dataframe\">\n",
       "  <thead>\n",
       "    <tr style=\"text-align: right;\">\n",
       "      <th></th>\n",
       "      <th>stock</th>\n",
       "      <th>bundles</th>\n",
       "      <th>buyPrice</th>\n",
       "      <th>buyDate</th>\n",
       "      <th>nDays</th>\n",
       "      <th>d30Sell</th>\n",
       "      <th>d30Gains</th>\n",
       "      <th>d60Sell</th>\n",
       "      <th>d60Gains</th>\n",
       "      <th>d90Sell</th>\n",
       "      <th>...</th>\n",
       "      <th>metalsAndMining</th>\n",
       "      <th>nan</th>\n",
       "      <th>software</th>\n",
       "      <th>specialtyRetail</th>\n",
       "      <th>transportationInfrastructure</th>\n",
       "      <th>wirelessTelecommunicationServices</th>\n",
       "      <th>mfHold</th>\n",
       "      <th>mfNone</th>\n",
       "      <th>mfNow</th>\n",
       "      <th>mfStart</th>\n",
       "    </tr>\n",
       "  </thead>\n",
       "  <tbody>\n",
       "    <tr>\n",
       "      <th>0</th>\n",
       "      <td>adbe</td>\n",
       "      <td>0</td>\n",
       "      <td>131.72</td>\n",
       "      <td>2017-04-21</td>\n",
       "      <td>149</td>\n",
       "      <td>136.43</td>\n",
       "      <td>1.03576</td>\n",
       "      <td>141.21</td>\n",
       "      <td>1.07205</td>\n",
       "      <td>149.07</td>\n",
       "      <td>...</td>\n",
       "      <td>0</td>\n",
       "      <td>0</td>\n",
       "      <td>1</td>\n",
       "      <td>0</td>\n",
       "      <td>0</td>\n",
       "      <td>0</td>\n",
       "      <td>0</td>\n",
       "      <td>0</td>\n",
       "      <td>1</td>\n",
       "      <td>0</td>\n",
       "    </tr>\n",
       "    <tr>\n",
       "      <th>1</th>\n",
       "      <td>jblu</td>\n",
       "      <td>0</td>\n",
       "      <td>21.46</td>\n",
       "      <td>2017-04-21</td>\n",
       "      <td>149</td>\n",
       "      <td>21.18</td>\n",
       "      <td>0.98695</td>\n",
       "      <td>22.74</td>\n",
       "      <td>1.05965</td>\n",
       "      <td>23.33</td>\n",
       "      <td>...</td>\n",
       "      <td>0</td>\n",
       "      <td>0</td>\n",
       "      <td>0</td>\n",
       "      <td>0</td>\n",
       "      <td>0</td>\n",
       "      <td>0</td>\n",
       "      <td>0</td>\n",
       "      <td>0</td>\n",
       "      <td>1</td>\n",
       "      <td>0</td>\n",
       "    </tr>\n",
       "    <tr>\n",
       "      <th>2</th>\n",
       "      <td>tsco</td>\n",
       "      <td>0</td>\n",
       "      <td>63.35</td>\n",
       "      <td>2017-04-21</td>\n",
       "      <td>149</td>\n",
       "      <td>57.57</td>\n",
       "      <td>0.90876</td>\n",
       "      <td>55.69</td>\n",
       "      <td>0.87908</td>\n",
       "      <td>51.70</td>\n",
       "      <td>...</td>\n",
       "      <td>0</td>\n",
       "      <td>0</td>\n",
       "      <td>0</td>\n",
       "      <td>1</td>\n",
       "      <td>0</td>\n",
       "      <td>0</td>\n",
       "      <td>0</td>\n",
       "      <td>0</td>\n",
       "      <td>1</td>\n",
       "      <td>0</td>\n",
       "    </tr>\n",
       "    <tr>\n",
       "      <th>3</th>\n",
       "      <td>ftnt</td>\n",
       "      <td>0</td>\n",
       "      <td>40.16</td>\n",
       "      <td>2017-04-25</td>\n",
       "      <td>145</td>\n",
       "      <td>39.94</td>\n",
       "      <td>0.99452</td>\n",
       "      <td>38.29</td>\n",
       "      <td>0.95344</td>\n",
       "      <td>40.45</td>\n",
       "      <td>...</td>\n",
       "      <td>0</td>\n",
       "      <td>0</td>\n",
       "      <td>1</td>\n",
       "      <td>0</td>\n",
       "      <td>0</td>\n",
       "      <td>0</td>\n",
       "      <td>0</td>\n",
       "      <td>0</td>\n",
       "      <td>1</td>\n",
       "      <td>0</td>\n",
       "    </tr>\n",
       "    <tr>\n",
       "      <th>4</th>\n",
       "      <td>pac</td>\n",
       "      <td>0</td>\n",
       "      <td>101.15</td>\n",
       "      <td>2017-04-25</td>\n",
       "      <td>145</td>\n",
       "      <td>109.00</td>\n",
       "      <td>1.07761</td>\n",
       "      <td>110.45</td>\n",
       "      <td>1.09194</td>\n",
       "      <td>117.90</td>\n",
       "      <td>...</td>\n",
       "      <td>0</td>\n",
       "      <td>0</td>\n",
       "      <td>0</td>\n",
       "      <td>0</td>\n",
       "      <td>1</td>\n",
       "      <td>0</td>\n",
       "      <td>0</td>\n",
       "      <td>0</td>\n",
       "      <td>1</td>\n",
       "      <td>0</td>\n",
       "    </tr>\n",
       "  </tbody>\n",
       "</table>\n",
       "<p>5 rows × 78 columns</p>\n",
       "</div>"
      ],
      "text/plain": [
       "  stock  bundles  buyPrice    buyDate  nDays  d30Sell  d30Gains  d60Sell  \\\n",
       "0  adbe        0    131.72 2017-04-21    149   136.43   1.03576   141.21   \n",
       "1  jblu        0     21.46 2017-04-21    149    21.18   0.98695    22.74   \n",
       "2  tsco        0     63.35 2017-04-21    149    57.57   0.90876    55.69   \n",
       "3  ftnt        0     40.16 2017-04-25    145    39.94   0.99452    38.29   \n",
       "4   pac        0    101.15 2017-04-25    145   109.00   1.07761   110.45   \n",
       "\n",
       "   d60Gains  d90Sell   ...     metalsAndMining  nan  software  \\\n",
       "0   1.07205   149.07   ...                   0    0         1   \n",
       "1   1.05965    23.33   ...                   0    0         0   \n",
       "2   0.87908    51.70   ...                   0    0         0   \n",
       "3   0.95344    40.45   ...                   0    0         1   \n",
       "4   1.09194   117.90   ...                   0    0         0   \n",
       "\n",
       "   specialtyRetail  transportationInfrastructure  \\\n",
       "0                0                             0   \n",
       "1                0                             0   \n",
       "2                1                             0   \n",
       "3                0                             0   \n",
       "4                0                             1   \n",
       "\n",
       "   wirelessTelecommunicationServices  mfHold  mfNone  mfNow  mfStart  \n",
       "0                                  0       0       0      1        0  \n",
       "1                                  0       0       0      1        0  \n",
       "2                                  0       0       0      1        0  \n",
       "3                                  0       0       0      1        0  \n",
       "4                                  0       0       0      1        0  \n",
       "\n",
       "[5 rows x 78 columns]"
      ]
     },
     "execution_count": 11,
     "metadata": {},
     "output_type": "execute_result"
    }
   ],
   "source": [
    "dat = one_hot(dat)\n",
    "dat.head()"
   ]
  },
  {
   "cell_type": "code",
   "execution_count": 12,
   "metadata": {
    "collapsed": false
   },
   "outputs": [
    {
     "data": {
      "text/plain": [
       "Timestamp('2017-09-15 00:00:00')"
      ]
     },
     "execution_count": 12,
     "metadata": {},
     "output_type": "execute_result"
    }
   ],
   "source": [
    "today = datetime.datetime.now()\n",
    "if today.weekday() == 5:\n",
    "    today = today - datetime.timedelta(days=1)\n",
    "if today.weekday() == 6:\n",
    "    today = today - datetime.timedelta(days=2)\n",
    "today = str(today).split(' ')[0]\n",
    "today = pd.to_datetime(today)\n",
    "today"
   ]
  },
  {
   "cell_type": "code",
   "execution_count": 13,
   "metadata": {
    "collapsed": false
   },
   "outputs": [
    {
     "data": {
      "text/html": [
       "<div>\n",
       "<style>\n",
       "    .dataframe thead tr:only-child th {\n",
       "        text-align: right;\n",
       "    }\n",
       "\n",
       "    .dataframe thead th {\n",
       "        text-align: left;\n",
       "    }\n",
       "\n",
       "    .dataframe tbody tr th {\n",
       "        vertical-align: top;\n",
       "    }\n",
       "</style>\n",
       "<table border=\"1\" class=\"dataframe\">\n",
       "  <thead>\n",
       "    <tr style=\"text-align: right;\">\n",
       "      <th></th>\n",
       "      <th>stock</th>\n",
       "      <th>bundles</th>\n",
       "      <th>buyPrice</th>\n",
       "      <th>buyDate</th>\n",
       "      <th>nDays</th>\n",
       "      <th>d30Sell</th>\n",
       "      <th>d30Gains</th>\n",
       "      <th>d60Sell</th>\n",
       "      <th>d60Gains</th>\n",
       "      <th>d90Sell</th>\n",
       "      <th>...</th>\n",
       "      <th>metalsAndMining</th>\n",
       "      <th>nan</th>\n",
       "      <th>software</th>\n",
       "      <th>specialtyRetail</th>\n",
       "      <th>transportationInfrastructure</th>\n",
       "      <th>wirelessTelecommunicationServices</th>\n",
       "      <th>mfHold</th>\n",
       "      <th>mfNone</th>\n",
       "      <th>mfNow</th>\n",
       "      <th>mfStart</th>\n",
       "    </tr>\n",
       "  </thead>\n",
       "  <tbody>\n",
       "    <tr>\n",
       "      <th>177</th>\n",
       "      <td>mmm</td>\n",
       "      <td>0</td>\n",
       "      <td>NaN</td>\n",
       "      <td>2017-09-18</td>\n",
       "      <td>-1</td>\n",
       "      <td>NaN</td>\n",
       "      <td>NaN</td>\n",
       "      <td>NaN</td>\n",
       "      <td>NaN</td>\n",
       "      <td>NaN</td>\n",
       "      <td>...</td>\n",
       "      <td>0</td>\n",
       "      <td>0</td>\n",
       "      <td>0</td>\n",
       "      <td>0</td>\n",
       "      <td>0</td>\n",
       "      <td>0</td>\n",
       "      <td>0</td>\n",
       "      <td>0</td>\n",
       "      <td>1</td>\n",
       "      <td>0</td>\n",
       "    </tr>\n",
       "    <tr>\n",
       "      <th>178</th>\n",
       "      <td>ccoi</td>\n",
       "      <td>0</td>\n",
       "      <td>NaN</td>\n",
       "      <td>2017-09-18</td>\n",
       "      <td>-1</td>\n",
       "      <td>NaN</td>\n",
       "      <td>NaN</td>\n",
       "      <td>NaN</td>\n",
       "      <td>NaN</td>\n",
       "      <td>NaN</td>\n",
       "      <td>...</td>\n",
       "      <td>0</td>\n",
       "      <td>0</td>\n",
       "      <td>0</td>\n",
       "      <td>0</td>\n",
       "      <td>0</td>\n",
       "      <td>0</td>\n",
       "      <td>0</td>\n",
       "      <td>1</td>\n",
       "      <td>0</td>\n",
       "      <td>0</td>\n",
       "    </tr>\n",
       "    <tr>\n",
       "      <th>179</th>\n",
       "      <td>or</td>\n",
       "      <td>0</td>\n",
       "      <td>NaN</td>\n",
       "      <td>2017-09-18</td>\n",
       "      <td>-1</td>\n",
       "      <td>NaN</td>\n",
       "      <td>NaN</td>\n",
       "      <td>NaN</td>\n",
       "      <td>NaN</td>\n",
       "      <td>NaN</td>\n",
       "      <td>...</td>\n",
       "      <td>1</td>\n",
       "      <td>0</td>\n",
       "      <td>0</td>\n",
       "      <td>0</td>\n",
       "      <td>0</td>\n",
       "      <td>0</td>\n",
       "      <td>0</td>\n",
       "      <td>1</td>\n",
       "      <td>0</td>\n",
       "      <td>0</td>\n",
       "    </tr>\n",
       "    <tr>\n",
       "      <th>180</th>\n",
       "      <td>ato</td>\n",
       "      <td>0</td>\n",
       "      <td>NaN</td>\n",
       "      <td>2017-09-18</td>\n",
       "      <td>-1</td>\n",
       "      <td>NaN</td>\n",
       "      <td>NaN</td>\n",
       "      <td>NaN</td>\n",
       "      <td>NaN</td>\n",
       "      <td>NaN</td>\n",
       "      <td>...</td>\n",
       "      <td>0</td>\n",
       "      <td>0</td>\n",
       "      <td>0</td>\n",
       "      <td>0</td>\n",
       "      <td>0</td>\n",
       "      <td>0</td>\n",
       "      <td>0</td>\n",
       "      <td>1</td>\n",
       "      <td>0</td>\n",
       "      <td>0</td>\n",
       "    </tr>\n",
       "    <tr>\n",
       "      <th>181</th>\n",
       "      <td>mtch</td>\n",
       "      <td>3</td>\n",
       "      <td>NaN</td>\n",
       "      <td>2017-09-18</td>\n",
       "      <td>-1</td>\n",
       "      <td>NaN</td>\n",
       "      <td>NaN</td>\n",
       "      <td>NaN</td>\n",
       "      <td>NaN</td>\n",
       "      <td>NaN</td>\n",
       "      <td>...</td>\n",
       "      <td>0</td>\n",
       "      <td>0</td>\n",
       "      <td>0</td>\n",
       "      <td>0</td>\n",
       "      <td>0</td>\n",
       "      <td>0</td>\n",
       "      <td>0</td>\n",
       "      <td>0</td>\n",
       "      <td>1</td>\n",
       "      <td>0</td>\n",
       "    </tr>\n",
       "  </tbody>\n",
       "</table>\n",
       "<p>5 rows × 78 columns</p>\n",
       "</div>"
      ],
      "text/plain": [
       "    stock  bundles  buyPrice    buyDate  nDays  d30Sell  d30Gains  d60Sell  \\\n",
       "177   mmm        0       NaN 2017-09-18     -1      NaN       NaN      NaN   \n",
       "178  ccoi        0       NaN 2017-09-18     -1      NaN       NaN      NaN   \n",
       "179    or        0       NaN 2017-09-18     -1      NaN       NaN      NaN   \n",
       "180   ato        0       NaN 2017-09-18     -1      NaN       NaN      NaN   \n",
       "181  mtch        3       NaN 2017-09-18     -1      NaN       NaN      NaN   \n",
       "\n",
       "     d60Gains  d90Sell   ...     metalsAndMining  nan  software  \\\n",
       "177       NaN      NaN   ...                   0    0         0   \n",
       "178       NaN      NaN   ...                   0    0         0   \n",
       "179       NaN      NaN   ...                   1    0         0   \n",
       "180       NaN      NaN   ...                   0    0         0   \n",
       "181       NaN      NaN   ...                   0    0         0   \n",
       "\n",
       "     specialtyRetail  transportationInfrastructure  \\\n",
       "177                0                             0   \n",
       "178                0                             0   \n",
       "179                0                             0   \n",
       "180                0                             0   \n",
       "181                0                             0   \n",
       "\n",
       "     wirelessTelecommunicationServices  mfHold  mfNone  mfNow  mfStart  \n",
       "177                                  0       0       0      1        0  \n",
       "178                                  0       0       1      0        0  \n",
       "179                                  0       0       1      0        0  \n",
       "180                                  0       0       1      0        0  \n",
       "181                                  0       0       0      1        0  \n",
       "\n",
       "[5 rows x 78 columns]"
      ]
     },
     "execution_count": 13,
     "metadata": {},
     "output_type": "execute_result"
    }
   ],
   "source": [
    "new_dat = dat.loc[dat['buyDate'] > today, :]\n",
    "dat     = dat.loc[dat['buyDate'] <= today, :]\n",
    "stocks = new_dat['stock']\n",
    "new_dat.head()"
   ]
  },
  {
   "cell_type": "code",
   "execution_count": 14,
   "metadata": {
    "collapsed": false
   },
   "outputs": [],
   "source": [
    "def drop_missing(dfs, y_col):\n",
    "    X = dfs[0].copy()\n",
    "    # cols\n",
    "    drop_cols = [col for col in list(X) if type(col[0]) == np.float and col.isnan().all()]\n",
    "    X = X.drop(drop_cols, axis=1)\n",
    "    X2 = dfs[1].drop(drop_cols, axis=1)\n",
    "    return X.loc[np.isnan(dat[y_col]) == False, :], X2"
   ]
  },
  {
   "cell_type": "code",
   "execution_count": 15,
   "metadata": {
    "collapsed": false
   },
   "outputs": [
    {
     "data": {
      "text/html": [
       "<div>\n",
       "<style>\n",
       "    .dataframe thead tr:only-child th {\n",
       "        text-align: right;\n",
       "    }\n",
       "\n",
       "    .dataframe thead th {\n",
       "        text-align: left;\n",
       "    }\n",
       "\n",
       "    .dataframe tbody tr th {\n",
       "        vertical-align: top;\n",
       "    }\n",
       "</style>\n",
       "<table border=\"1\" class=\"dataframe\">\n",
       "  <thead>\n",
       "    <tr style=\"text-align: right;\">\n",
       "      <th></th>\n",
       "      <th>stock</th>\n",
       "      <th>bundles</th>\n",
       "      <th>buyPrice</th>\n",
       "      <th>buyDate</th>\n",
       "      <th>nDays</th>\n",
       "      <th>d30Sell</th>\n",
       "      <th>d30Gains</th>\n",
       "      <th>d60Sell</th>\n",
       "      <th>d60Gains</th>\n",
       "      <th>d90Sell</th>\n",
       "      <th>...</th>\n",
       "      <th>metalsAndMining</th>\n",
       "      <th>nan</th>\n",
       "      <th>software</th>\n",
       "      <th>specialtyRetail</th>\n",
       "      <th>transportationInfrastructure</th>\n",
       "      <th>wirelessTelecommunicationServices</th>\n",
       "      <th>mfHold</th>\n",
       "      <th>mfNone</th>\n",
       "      <th>mfNow</th>\n",
       "      <th>mfStart</th>\n",
       "    </tr>\n",
       "  </thead>\n",
       "  <tbody>\n",
       "    <tr>\n",
       "      <th>0</th>\n",
       "      <td>adbe</td>\n",
       "      <td>0</td>\n",
       "      <td>131.72</td>\n",
       "      <td>2017-04-21</td>\n",
       "      <td>149</td>\n",
       "      <td>136.43</td>\n",
       "      <td>1.03576</td>\n",
       "      <td>141.21</td>\n",
       "      <td>1.07205</td>\n",
       "      <td>149.07</td>\n",
       "      <td>...</td>\n",
       "      <td>0</td>\n",
       "      <td>0</td>\n",
       "      <td>1</td>\n",
       "      <td>0</td>\n",
       "      <td>0</td>\n",
       "      <td>0</td>\n",
       "      <td>0</td>\n",
       "      <td>0</td>\n",
       "      <td>1</td>\n",
       "      <td>0</td>\n",
       "    </tr>\n",
       "    <tr>\n",
       "      <th>1</th>\n",
       "      <td>jblu</td>\n",
       "      <td>0</td>\n",
       "      <td>21.46</td>\n",
       "      <td>2017-04-21</td>\n",
       "      <td>149</td>\n",
       "      <td>21.18</td>\n",
       "      <td>0.98695</td>\n",
       "      <td>22.74</td>\n",
       "      <td>1.05965</td>\n",
       "      <td>23.33</td>\n",
       "      <td>...</td>\n",
       "      <td>0</td>\n",
       "      <td>0</td>\n",
       "      <td>0</td>\n",
       "      <td>0</td>\n",
       "      <td>0</td>\n",
       "      <td>0</td>\n",
       "      <td>0</td>\n",
       "      <td>0</td>\n",
       "      <td>1</td>\n",
       "      <td>0</td>\n",
       "    </tr>\n",
       "    <tr>\n",
       "      <th>2</th>\n",
       "      <td>tsco</td>\n",
       "      <td>0</td>\n",
       "      <td>63.35</td>\n",
       "      <td>2017-04-21</td>\n",
       "      <td>149</td>\n",
       "      <td>57.57</td>\n",
       "      <td>0.90876</td>\n",
       "      <td>55.69</td>\n",
       "      <td>0.87908</td>\n",
       "      <td>51.70</td>\n",
       "      <td>...</td>\n",
       "      <td>0</td>\n",
       "      <td>0</td>\n",
       "      <td>0</td>\n",
       "      <td>1</td>\n",
       "      <td>0</td>\n",
       "      <td>0</td>\n",
       "      <td>0</td>\n",
       "      <td>0</td>\n",
       "      <td>1</td>\n",
       "      <td>0</td>\n",
       "    </tr>\n",
       "    <tr>\n",
       "      <th>3</th>\n",
       "      <td>ftnt</td>\n",
       "      <td>0</td>\n",
       "      <td>40.16</td>\n",
       "      <td>2017-04-25</td>\n",
       "      <td>145</td>\n",
       "      <td>39.94</td>\n",
       "      <td>0.99452</td>\n",
       "      <td>38.29</td>\n",
       "      <td>0.95344</td>\n",
       "      <td>40.45</td>\n",
       "      <td>...</td>\n",
       "      <td>0</td>\n",
       "      <td>0</td>\n",
       "      <td>1</td>\n",
       "      <td>0</td>\n",
       "      <td>0</td>\n",
       "      <td>0</td>\n",
       "      <td>0</td>\n",
       "      <td>0</td>\n",
       "      <td>1</td>\n",
       "      <td>0</td>\n",
       "    </tr>\n",
       "    <tr>\n",
       "      <th>4</th>\n",
       "      <td>pac</td>\n",
       "      <td>0</td>\n",
       "      <td>101.15</td>\n",
       "      <td>2017-04-25</td>\n",
       "      <td>145</td>\n",
       "      <td>109.00</td>\n",
       "      <td>1.07761</td>\n",
       "      <td>110.45</td>\n",
       "      <td>1.09194</td>\n",
       "      <td>117.90</td>\n",
       "      <td>...</td>\n",
       "      <td>0</td>\n",
       "      <td>0</td>\n",
       "      <td>0</td>\n",
       "      <td>0</td>\n",
       "      <td>1</td>\n",
       "      <td>0</td>\n",
       "      <td>0</td>\n",
       "      <td>0</td>\n",
       "      <td>1</td>\n",
       "      <td>0</td>\n",
       "    </tr>\n",
       "  </tbody>\n",
       "</table>\n",
       "<p>5 rows × 78 columns</p>\n",
       "</div>"
      ],
      "text/plain": [
       "  stock  bundles  buyPrice    buyDate  nDays  d30Sell  d30Gains  d60Sell  \\\n",
       "0  adbe        0    131.72 2017-04-21    149   136.43   1.03576   141.21   \n",
       "1  jblu        0     21.46 2017-04-21    149    21.18   0.98695    22.74   \n",
       "2  tsco        0     63.35 2017-04-21    149    57.57   0.90876    55.69   \n",
       "3  ftnt        0     40.16 2017-04-25    145    39.94   0.99452    38.29   \n",
       "4   pac        0    101.15 2017-04-25    145   109.00   1.07761   110.45   \n",
       "\n",
       "   d60Gains  d90Sell   ...     metalsAndMining  nan  software  \\\n",
       "0   1.07205   149.07   ...                   0    0         1   \n",
       "1   1.05965    23.33   ...                   0    0         0   \n",
       "2   0.87908    51.70   ...                   0    0         0   \n",
       "3   0.95344    40.45   ...                   0    0         1   \n",
       "4   1.09194   117.90   ...                   0    0         0   \n",
       "\n",
       "   specialtyRetail  transportationInfrastructure  \\\n",
       "0                0                             0   \n",
       "1                0                             0   \n",
       "2                1                             0   \n",
       "3                0                             0   \n",
       "4                0                             1   \n",
       "\n",
       "   wirelessTelecommunicationServices  mfHold  mfNone  mfNow  mfStart  \n",
       "0                                  0       0       0      1        0  \n",
       "1                                  0       0       0      1        0  \n",
       "2                                  0       0       0      1        0  \n",
       "3                                  0       0       0      1        0  \n",
       "4                                  0       0       0      1        0  \n",
       "\n",
       "[5 rows x 78 columns]"
      ]
     },
     "execution_count": 15,
     "metadata": {},
     "output_type": "execute_result"
    }
   ],
   "source": [
    "dat, new_dat = drop_missing([dat, new_dat], 'd30Gains')\n",
    "dat.head()"
   ]
  },
  {
   "cell_type": "code",
   "execution_count": 16,
   "metadata": {
    "collapsed": false
   },
   "outputs": [
    {
     "data": {
      "text/html": [
       "<div>\n",
       "<style>\n",
       "    .dataframe thead tr:only-child th {\n",
       "        text-align: right;\n",
       "    }\n",
       "\n",
       "    .dataframe thead th {\n",
       "        text-align: left;\n",
       "    }\n",
       "\n",
       "    .dataframe tbody tr th {\n",
       "        vertical-align: top;\n",
       "    }\n",
       "</style>\n",
       "<table border=\"1\" class=\"dataframe\">\n",
       "  <thead>\n",
       "    <tr style=\"text-align: right;\">\n",
       "      <th></th>\n",
       "      <th>stock</th>\n",
       "      <th>bundles</th>\n",
       "      <th>buyPrice</th>\n",
       "      <th>buyDate</th>\n",
       "      <th>nDays</th>\n",
       "      <th>d30Sell</th>\n",
       "      <th>d30Gains</th>\n",
       "      <th>d60Sell</th>\n",
       "      <th>d60Gains</th>\n",
       "      <th>d90Sell</th>\n",
       "      <th>...</th>\n",
       "      <th>metalsAndMining</th>\n",
       "      <th>nan</th>\n",
       "      <th>software</th>\n",
       "      <th>specialtyRetail</th>\n",
       "      <th>transportationInfrastructure</th>\n",
       "      <th>wirelessTelecommunicationServices</th>\n",
       "      <th>mfHold</th>\n",
       "      <th>mfNone</th>\n",
       "      <th>mfNow</th>\n",
       "      <th>mfStart</th>\n",
       "    </tr>\n",
       "  </thead>\n",
       "  <tbody>\n",
       "    <tr>\n",
       "      <th>177</th>\n",
       "      <td>mmm</td>\n",
       "      <td>0</td>\n",
       "      <td>NaN</td>\n",
       "      <td>2017-09-18</td>\n",
       "      <td>-1</td>\n",
       "      <td>NaN</td>\n",
       "      <td>NaN</td>\n",
       "      <td>NaN</td>\n",
       "      <td>NaN</td>\n",
       "      <td>NaN</td>\n",
       "      <td>...</td>\n",
       "      <td>0</td>\n",
       "      <td>0</td>\n",
       "      <td>0</td>\n",
       "      <td>0</td>\n",
       "      <td>0</td>\n",
       "      <td>0</td>\n",
       "      <td>0</td>\n",
       "      <td>0</td>\n",
       "      <td>1</td>\n",
       "      <td>0</td>\n",
       "    </tr>\n",
       "    <tr>\n",
       "      <th>178</th>\n",
       "      <td>ccoi</td>\n",
       "      <td>0</td>\n",
       "      <td>NaN</td>\n",
       "      <td>2017-09-18</td>\n",
       "      <td>-1</td>\n",
       "      <td>NaN</td>\n",
       "      <td>NaN</td>\n",
       "      <td>NaN</td>\n",
       "      <td>NaN</td>\n",
       "      <td>NaN</td>\n",
       "      <td>...</td>\n",
       "      <td>0</td>\n",
       "      <td>0</td>\n",
       "      <td>0</td>\n",
       "      <td>0</td>\n",
       "      <td>0</td>\n",
       "      <td>0</td>\n",
       "      <td>0</td>\n",
       "      <td>1</td>\n",
       "      <td>0</td>\n",
       "      <td>0</td>\n",
       "    </tr>\n",
       "    <tr>\n",
       "      <th>179</th>\n",
       "      <td>or</td>\n",
       "      <td>0</td>\n",
       "      <td>NaN</td>\n",
       "      <td>2017-09-18</td>\n",
       "      <td>-1</td>\n",
       "      <td>NaN</td>\n",
       "      <td>NaN</td>\n",
       "      <td>NaN</td>\n",
       "      <td>NaN</td>\n",
       "      <td>NaN</td>\n",
       "      <td>...</td>\n",
       "      <td>1</td>\n",
       "      <td>0</td>\n",
       "      <td>0</td>\n",
       "      <td>0</td>\n",
       "      <td>0</td>\n",
       "      <td>0</td>\n",
       "      <td>0</td>\n",
       "      <td>1</td>\n",
       "      <td>0</td>\n",
       "      <td>0</td>\n",
       "    </tr>\n",
       "    <tr>\n",
       "      <th>180</th>\n",
       "      <td>ato</td>\n",
       "      <td>0</td>\n",
       "      <td>NaN</td>\n",
       "      <td>2017-09-18</td>\n",
       "      <td>-1</td>\n",
       "      <td>NaN</td>\n",
       "      <td>NaN</td>\n",
       "      <td>NaN</td>\n",
       "      <td>NaN</td>\n",
       "      <td>NaN</td>\n",
       "      <td>...</td>\n",
       "      <td>0</td>\n",
       "      <td>0</td>\n",
       "      <td>0</td>\n",
       "      <td>0</td>\n",
       "      <td>0</td>\n",
       "      <td>0</td>\n",
       "      <td>0</td>\n",
       "      <td>1</td>\n",
       "      <td>0</td>\n",
       "      <td>0</td>\n",
       "    </tr>\n",
       "    <tr>\n",
       "      <th>181</th>\n",
       "      <td>mtch</td>\n",
       "      <td>3</td>\n",
       "      <td>NaN</td>\n",
       "      <td>2017-09-18</td>\n",
       "      <td>-1</td>\n",
       "      <td>NaN</td>\n",
       "      <td>NaN</td>\n",
       "      <td>NaN</td>\n",
       "      <td>NaN</td>\n",
       "      <td>NaN</td>\n",
       "      <td>...</td>\n",
       "      <td>0</td>\n",
       "      <td>0</td>\n",
       "      <td>0</td>\n",
       "      <td>0</td>\n",
       "      <td>0</td>\n",
       "      <td>0</td>\n",
       "      <td>0</td>\n",
       "      <td>0</td>\n",
       "      <td>1</td>\n",
       "      <td>0</td>\n",
       "    </tr>\n",
       "  </tbody>\n",
       "</table>\n",
       "<p>5 rows × 78 columns</p>\n",
       "</div>"
      ],
      "text/plain": [
       "    stock  bundles  buyPrice    buyDate  nDays  d30Sell  d30Gains  d60Sell  \\\n",
       "177   mmm        0       NaN 2017-09-18     -1      NaN       NaN      NaN   \n",
       "178  ccoi        0       NaN 2017-09-18     -1      NaN       NaN      NaN   \n",
       "179    or        0       NaN 2017-09-18     -1      NaN       NaN      NaN   \n",
       "180   ato        0       NaN 2017-09-18     -1      NaN       NaN      NaN   \n",
       "181  mtch        3       NaN 2017-09-18     -1      NaN       NaN      NaN   \n",
       "\n",
       "     d60Gains  d90Sell   ...     metalsAndMining  nan  software  \\\n",
       "177       NaN      NaN   ...                   0    0         0   \n",
       "178       NaN      NaN   ...                   0    0         0   \n",
       "179       NaN      NaN   ...                   1    0         0   \n",
       "180       NaN      NaN   ...                   0    0         0   \n",
       "181       NaN      NaN   ...                   0    0         0   \n",
       "\n",
       "     specialtyRetail  transportationInfrastructure  \\\n",
       "177                0                             0   \n",
       "178                0                             0   \n",
       "179                0                             0   \n",
       "180                0                             0   \n",
       "181                0                             0   \n",
       "\n",
       "     wirelessTelecommunicationServices  mfHold  mfNone  mfNow  mfStart  \n",
       "177                                  0       0       0      1        0  \n",
       "178                                  0       0       1      0        0  \n",
       "179                                  0       0       1      0        0  \n",
       "180                                  0       0       1      0        0  \n",
       "181                                  0       0       0      1        0  \n",
       "\n",
       "[5 rows x 78 columns]"
      ]
     },
     "execution_count": 16,
     "metadata": {},
     "output_type": "execute_result"
    }
   ],
   "source": [
    "new_dat.head()"
   ]
  },
  {
   "cell_type": "code",
   "execution_count": 17,
   "metadata": {
    "collapsed": true
   },
   "outputs": [],
   "source": [
    "def split_xy(df, y_col, first_X):\n",
    "    y = df[y_col]\n",
    "    start_col = list(df).index(first_X)\n",
    "    X = df.iloc[:, start_col:]\n",
    "    return X, y"
   ]
  },
  {
   "cell_type": "code",
   "execution_count": 18,
   "metadata": {
    "collapsed": false
   },
   "outputs": [],
   "source": [
    "#list(dat)"
   ]
  },
  {
   "cell_type": "code",
   "execution_count": 19,
   "metadata": {
    "collapsed": false
   },
   "outputs": [],
   "source": [
    "X, y         = split_xy(dat,     'd30Gains', 'MFRisk')\n",
    "X_new, y_new = split_xy(new_dat, 'd30Gains', 'MFRisk')"
   ]
  },
  {
   "cell_type": "code",
   "execution_count": 20,
   "metadata": {
    "collapsed": false
   },
   "outputs": [
    {
     "data": {
      "text/plain": [
       "[]"
      ]
     },
     "execution_count": 20,
     "metadata": {},
     "output_type": "execute_result"
    }
   ],
   "source": [
    "#print(list(X) == list(X_new))\n",
    "[print('Mismatch:', x, xn) for (x, xn) in zip(list(X), list(X_new)) if x != xn]\n",
    "#[(x, xn) for (x, xn) in zip(list(X), list(X_new))]"
   ]
  },
  {
   "cell_type": "code",
   "execution_count": 21,
   "metadata": {
    "collapsed": true
   },
   "outputs": [],
   "source": [
    "def median_fill(df):\n",
    "    X = df.copy()\n",
    "\n",
    "    for col in list(X):\n",
    "        try:\n",
    "            X[col][np.isnan(X[col])] = np.nanmedian(X[col])\n",
    "        except:\n",
    "            print('Could not fill column', col)\n",
    "    return X"
   ]
  },
  {
   "cell_type": "code",
   "execution_count": 22,
   "metadata": {
    "collapsed": false
   },
   "outputs": [
    {
     "name": "stderr",
     "output_type": "stream",
     "text": [
      "/usr/local/lib/python3.6/site-packages/ipykernel_launcher.py:6: SettingWithCopyWarning: \n",
      "A value is trying to be set on a copy of a slice from a DataFrame\n",
      "\n",
      "See the caveats in the documentation: http://pandas.pydata.org/pandas-docs/stable/indexing.html#indexing-view-versus-copy\n",
      "  \n",
      "/usr/local/lib/python3.6/site-packages/numpy/lib/function_base.py:3858: RuntimeWarning: All-NaN slice encountered\n",
      "  r = func(a, **kwargs)\n"
     ]
    }
   ],
   "source": [
    "X = median_fill(X)\n",
    "X_new = median_fill(X_new)"
   ]
  },
  {
   "cell_type": "code",
   "execution_count": 23,
   "metadata": {
    "collapsed": false
   },
   "outputs": [
    {
     "data": {
      "text/plain": [
       "(132, 58)"
      ]
     },
     "execution_count": 23,
     "metadata": {},
     "output_type": "execute_result"
    }
   ],
   "source": [
    "X.shape"
   ]
  },
  {
   "cell_type": "code",
   "execution_count": 24,
   "metadata": {
    "collapsed": false
   },
   "outputs": [
    {
     "name": "stdout",
     "output_type": "stream",
     "text": [
      "Training size:   92\n",
      "Validation size: 20\n",
      "Test       size: 20\n"
     ]
    }
   ],
   "source": [
    "n = X.shape[0]\n",
    "TRAIN = 0.7\n",
    "VALIDATE = 0.15\n",
    "TEST = 0.15\n",
    "print(\n",
    "    'Training size:   %.0f\\nValidation size: %.0f\\nTest       size: %.0f'\n",
    "    %(TRAIN * n, VALIDATE * n, TEST * n))"
   ]
  },
  {
   "cell_type": "code",
   "execution_count": 25,
   "metadata": {
    "collapsed": false
   },
   "outputs": [],
   "source": [
    "# Train, Not Train\n",
    "X_train, X_vt, y_train, y_vt = train_test_split(\n",
    "    X, y, test_size=VALIDATE + TEST)\n",
    "\n",
    "# Validate Test\n",
    "X_valid, X_test, y_valid, y_test = train_test_split(\n",
    "    X_vt, y_vt, test_size=(TEST / (TEST + VALIDATE)))\n",
    "\n",
    "# Reindex\n",
    "X_train.index = range(len(y_train))\n",
    "y_train.index = range(len(y_train))\n",
    "\n",
    "X_valid.index = range(len(y_valid))\n",
    "y_valid.index = range(len(y_valid))\n",
    "\n",
    "X_test.index = range(len(y_test))\n",
    "y_test.index = range(len(y_test))\n",
    "y_test = y_test.values.reshape(-1, 1)"
   ]
  },
  {
   "cell_type": "code",
   "execution_count": 26,
   "metadata": {
    "collapsed": false
   },
   "outputs": [],
   "source": [
    "#X.head()"
   ]
  },
  {
   "cell_type": "code",
   "execution_count": 27,
   "metadata": {
    "collapsed": false
   },
   "outputs": [
    {
     "name": "stdout",
     "output_type": "stream",
     "text": [
      "(92, 58)\n",
      "(20, 58)\n",
      "(20, 58)\n",
      "(13, 58)\n"
     ]
    }
   ],
   "source": [
    "print(X_train.shape)\n",
    "print(X_valid.shape)\n",
    "print(X_test.shape)\n",
    "print(X_new.shape)"
   ]
  },
  {
   "cell_type": "code",
   "execution_count": 28,
   "metadata": {
    "collapsed": false
   },
   "outputs": [
    {
     "name": "stderr",
     "output_type": "stream",
     "text": [
      "/usr/local/lib/python3.6/site-packages/ipykernel_launcher.py:7: SettingWithCopyWarning: \n",
      "A value is trying to be set on a copy of a slice from a DataFrame\n",
      "\n",
      "See the caveats in the documentation: http://pandas.pydata.org/pandas-docs/stable/indexing.html#indexing-view-versus-copy\n",
      "  import sys\n",
      "/usr/local/lib/python3.6/site-packages/ipykernel_launcher.py:8: SettingWithCopyWarning: \n",
      "A value is trying to be set on a copy of a slice from a DataFrame\n",
      "\n",
      "See the caveats in the documentation: http://pandas.pydata.org/pandas-docs/stable/indexing.html#indexing-view-versus-copy\n",
      "  \n"
     ]
    }
   ],
   "source": [
    "# WHILE DATA SET IS SMALL, restrict values in new data to the range seen \n",
    "# in training data\n",
    "if X_test.shape[0] < 100:\n",
    "    for col in list(X_train):\n",
    "        if col not in ['spVal', 'days']:\n",
    "            mn, mx = np.min(X_train[col]), np.max(X_train[col])\n",
    "            X_new[col][X_new[col] < mn] = mn\n",
    "            X_new[col][X_new[col] > mx] = mx"
   ]
  },
  {
   "cell_type": "code",
   "execution_count": 31,
   "metadata": {
    "collapsed": false
   },
   "outputs": [
    {
     "name": "stdout",
     "output_type": "stream",
     "text": [
      "mCap_\n",
      "mCap\n",
      "pE_\n",
      "pB_\n",
      "revG5_\n",
      "freeCashFlow_\n",
      "grossMarQ_\n",
      "opMarQ_\n",
      "roaTTM_\n",
      "roiQ_\n",
      "roiTTM_\n",
      "totDEq_\n"
     ]
    }
   ],
   "source": [
    "remove_empties = []\n",
    "\n",
    "for col in list(X_train):\n",
    "    try:\n",
    "        if np.isnan(X_train[col]).any():\n",
    "            remove_empties.append(col)\n",
    "            print(col)\n",
    "    except:\n",
    "        print('\\tCould not check', col)\n",
    "        \n",
    "X_train = X_train.drop(remove_empties, axis=1)\n",
    "X_valid = X_valid.drop(remove_empties, axis=1)\n",
    "X_test  = X_test.drop(remove_empties, axis=1)\n",
    "X_new   = X_new.drop(remove_empties, axis=1)"
   ]
  },
  {
   "cell_type": "code",
   "execution_count": 32,
   "metadata": {
    "collapsed": false
   },
   "outputs": [],
   "source": [
    "# Normalize data\n",
    "scaler = StandardScaler()\n",
    "X_train = scaler.fit_transform(X_train)\n",
    "X_valid = scaler.transform(X_valid)\n",
    "X_test = scaler.transform(X_test)\n",
    "X_new  = scaler.transform(X_new)"
   ]
  },
  {
   "cell_type": "markdown",
   "metadata": {},
   "source": [
    "## Create Neural Net"
   ]
  },
  {
   "cell_type": "code",
   "execution_count": 33,
   "metadata": {
    "collapsed": true
   },
   "outputs": [],
   "source": [
    "# Create a fully-connected layer of neurons using dropout regularization\n",
    "def make_drop_layer(in_layer,\n",
    "                    n_out,\n",
    "                    activation,\n",
    "                    kernel_initializer,\n",
    "                    dropout_rate,\n",
    "                    training):\n",
    "    h = tf.layers.dense(in_layer,\n",
    "                        n_out,\n",
    "                        activation=activation,\n",
    "                        kernel_initializer=kernel_initializer)\n",
    "    h_drop = tf.layers.dropout(h, rate=dropout_rate, training=training)\n",
    "    return h_drop"
   ]
  },
  {
   "cell_type": "code",
   "execution_count": 34,
   "metadata": {
    "collapsed": false
   },
   "outputs": [
    {
     "data": {
      "text/plain": [
       "(92, 46)"
      ]
     },
     "execution_count": 34,
     "metadata": {},
     "output_type": "execute_result"
    }
   ],
   "source": [
    "X_train.shape"
   ]
  },
  {
   "cell_type": "code",
   "execution_count": 35,
   "metadata": {
    "collapsed": true
   },
   "outputs": [],
   "source": [
    "# Run only before first model is executed\n",
    "best_error_so_far = np.Inf"
   ]
  },
  {
   "cell_type": "code",
   "execution_count": 223,
   "metadata": {
    "collapsed": true
   },
   "outputs": [],
   "source": [
    "# Rerun models from here\n",
    "N, D = X_train.shape\n",
    "\n",
    "# Hyperparmeters to tune\n",
    "DROPOUT_RATE = 0\n",
    "n_neurons = [D, D, D, D, 1]\n",
    "\n",
    "# Progrmmed Learning with Decay\n",
    "ETA = 0.05 # Learning rate\n",
    "DECAY_STEPS = 100  # eta updates after this many epochs\n",
    "DECAY_RATE = 0.99  # factor to change eta by\n",
    "\n",
    "batch_size = 30\n",
    "epochs = 10000"
   ]
  },
  {
   "cell_type": "code",
   "execution_count": 224,
   "metadata": {
    "collapsed": false
   },
   "outputs": [
    {
     "data": {
      "text/plain": [
       "[]"
      ]
     },
     "execution_count": 224,
     "metadata": {},
     "output_type": "execute_result"
    }
   ],
   "source": [
    "ops.reset_default_graph()\n",
    "g = tf.get_default_graph()\n",
    "[op.name for op in g.get_operations()]"
   ]
  },
  {
   "cell_type": "code",
   "execution_count": 225,
   "metadata": {
    "collapsed": false
   },
   "outputs": [],
   "source": [
    "X_drop = tf.layers.dropout(X, DROPOUT_RATE, training=training)"
   ]
  },
  {
   "cell_type": "code",
   "execution_count": 226,
   "metadata": {
    "collapsed": false
   },
   "outputs": [],
   "source": [
    "with tf.name_scope('dnn'):\n",
    "    # He intialization randomly initalizes weigths and their variances in \n",
    "    # a way that minimizes the likelihood of vanishing/exploding gradients\n",
    "    he_init = tf.contrib.layers.variance_scaling_initializer()\n",
    "    current_in = X\n",
    "\n",
    "    for layer in range(1, len(n_neurons)):\n",
    "        current_in = make_drop_layer(\n",
    "            in_layer=current_in,\n",
    "            n_out=n_neurons[layer],\n",
    "            activation=tf.nn.tanh if (layer + 1) < len(n_neurons) else None,\n",
    "            kernel_initializer=he_init,\n",
    "            dropout_rate=DROPOUT_RATE,\n",
    "            training=training)\n",
    "\n",
    "    preds = tf.nn.relu(current_in)"
   ]
  },
  {
   "cell_type": "code",
   "execution_count": 227,
   "metadata": {
    "collapsed": false
   },
   "outputs": [],
   "source": [
    "with tf.name_scope('cost'):\n",
    "    cost = tf.reduce_sum(tf.pow(preds - y, 2)) # SSE"
   ]
  },
  {
   "cell_type": "code",
   "execution_count": 228,
   "metadata": {
    "collapsed": true
   },
   "outputs": [],
   "source": [
    "with tf.name_scope('train'):\n",
    "    eta0 = ETA # initial learning rate\n",
    "    decay_steps = DECAY_STEPS  # eta updates after this many epochs\n",
    "    decay_rate = DECAY_RATE    # factor to change eta by\n",
    "    global_step = tf.Variable(0, trainable=False, name='global_step')\n",
    "    eta = tf.train.exponential_decay(\n",
    "        eta0, global_step, decay_steps, decay_rate, name='eta')\n",
    "    optimizer = tf.train.AdamOptimizer(eta).minimize(\n",
    "        cost, global_step=global_step)"
   ]
  },
  {
   "cell_type": "code",
   "execution_count": 229,
   "metadata": {
    "collapsed": true
   },
   "outputs": [],
   "source": [
    "train_err = []\n",
    "valid_err = []\n",
    "saver = tf.train.Saver()"
   ]
  },
  {
   "cell_type": "code",
   "execution_count": 230,
   "metadata": {
    "collapsed": true
   },
   "outputs": [],
   "source": [
    "# TODO: add batch regularization"
   ]
  },
  {
   "cell_type": "code",
   "execution_count": 231,
   "metadata": {
    "collapsed": false
   },
   "outputs": [
    {
     "name": "stdout",
     "output_type": "stream",
     "text": [
      "   0: Train error: 5.53262\tValidation error: 12.07603\n",
      " 100: Train error: 0.12162\tValidation error: 0.36813\n",
      " 200: Train error: 0.16421\tValidation error: 0.20397\n",
      " 300: Train error: 0.11022\tValidation error: 0.29643\n",
      " 400: Train error: 0.08660\tValidation error: 0.19508\n",
      " 500: Train error: 0.09310\tValidation error: 0.20038\n",
      " 600: Train error: 0.16383\tValidation error: 0.27854\n",
      " 700: Train error: 0.05385\tValidation error: 0.30019\n",
      " 800: Train error: 0.06616\tValidation error: 0.21991\n",
      " 900: Train error: 0.05300\tValidation error: 0.24083\n",
      "1000: Train error: 0.08472\tValidation error: 0.33143\n",
      "1100: Train error: 0.07479\tValidation error: 0.20134\n",
      "1200: Train error: 0.16917\tValidation error: 0.51948\n",
      "1300: Train error: 0.19473\tValidation error: 0.31108\n",
      "1400: Train error: 0.10894\tValidation error: 0.33527\n",
      "1500: Train error: 0.07445\tValidation error: 0.24233\n",
      "1600: Train error: 0.15212\tValidation error: 0.35680\n",
      "1700: Train error: 0.10960\tValidation error: 0.22255\n",
      "1800: Train error: 0.17596\tValidation error: 0.25269\n",
      "1900: Train error: 0.13072\tValidation error: 0.21615\n",
      "2000: Train error: 0.19145\tValidation error: 0.43383\n",
      "2100: Train error: 0.17425\tValidation error: 0.35885\n",
      "2200: Train error: 0.13222\tValidation error: 0.24494\n",
      "2300: Train error: 0.12348\tValidation error: 0.24420\n",
      "2400: Train error: 0.09410\tValidation error: 0.21120\n",
      "2500: Train error: 0.08215\tValidation error: 0.26683\n",
      "2600: Train error: 0.08542\tValidation error: 0.22229\n",
      "2700: Train error: 0.08374\tValidation error: 0.19684\n",
      "2800: Train error: 0.11261\tValidation error: 0.29374\n",
      "2900: Train error: 0.13350\tValidation error: 0.28918\n",
      "3000: Train error: 0.13123\tValidation error: 0.25699\n",
      "3100: Train error: 0.06994\tValidation error: 0.23459\n",
      "3200: Train error: 0.15268\tValidation error: 0.29095\n",
      "3300: Train error: 0.17989\tValidation error: 0.29093\n",
      "3400: Train error: 0.12233\tValidation error: 0.22521\n",
      "3500: Train error: 0.11941\tValidation error: 0.24352\n",
      "3600: Train error: 0.13224\tValidation error: 0.22316\n",
      "3700: Train error: 0.08913\tValidation error: 0.26346\n",
      "3800: Train error: 0.11180\tValidation error: 0.29103\n",
      "3900: Train error: 0.11388\tValidation error: 0.30486\n",
      "4000: Train error: 0.07075\tValidation error: 0.29439\n",
      "4100: Train error: 0.19697\tValidation error: 0.22226\n",
      "4200: Train error: 0.11296\tValidation error: 0.25274\n",
      "4300: Train error: 0.10517\tValidation error: 0.22391\n",
      "4400: Train error: 0.11490\tValidation error: 0.22533\n",
      "4500: Train error: 0.11084\tValidation error: 0.21885\n",
      "4600: Train error: 0.09327\tValidation error: 0.30544\n",
      "4700: Train error: 0.13367\tValidation error: 0.21942\n",
      "4800: Train error: 0.06351\tValidation error: 0.26084\n",
      "4900: Train error: 0.10923\tValidation error: 0.28121\n",
      "5000: Train error: 0.08389\tValidation error: 0.22003\n",
      "5100: Train error: 0.08249\tValidation error: 0.25069\n",
      "5200: Train error: 0.12842\tValidation error: 0.24102\n",
      "5300: Train error: 0.08350\tValidation error: 0.25181\n",
      "5400: Train error: 0.07266\tValidation error: 0.26823\n",
      "5500: Train error: 0.06044\tValidation error: 0.24783\n",
      "5600: Train error: 0.08896\tValidation error: 0.24345\n",
      "5700: Train error: 0.16395\tValidation error: 0.22084\n",
      "5800: Train error: 0.16597\tValidation error: 0.23980\n",
      "5900: Train error: 0.20957\tValidation error: 0.22649\n",
      "6000: Train error: 0.09922\tValidation error: 0.22407\n",
      "6100: Train error: 0.12683\tValidation error: 0.21352\n",
      "6200: Train error: 0.14435\tValidation error: 0.25660\n",
      "6300: Train error: 0.11899\tValidation error: 0.22557\n",
      "6400: Train error: 0.10570\tValidation error: 0.22640\n",
      "6500: Train error: 0.14566\tValidation error: 0.21679\n",
      "6600: Train error: 0.10276\tValidation error: 0.22512\n",
      "6700: Train error: 0.10764\tValidation error: 0.22580\n",
      "6800: Train error: 0.11937\tValidation error: 0.21091\n",
      "6900: Train error: 0.11610\tValidation error: 0.23857\n",
      "7000: Train error: 0.13426\tValidation error: 0.24115\n",
      "7100: Train error: 0.09817\tValidation error: 0.22038\n",
      "7200: Train error: 0.06569\tValidation error: 0.23005\n",
      "7300: Train error: 0.09395\tValidation error: 0.22730\n",
      "7400: Train error: 0.06022\tValidation error: 0.22979\n",
      "7500: Train error: 0.04052\tValidation error: 0.23268\n",
      "7600: Train error: 0.10403\tValidation error: 0.25905\n",
      "7700: Train error: 0.12429\tValidation error: 0.23156\n",
      "7800: Train error: 0.11440\tValidation error: 0.26031\n",
      "7900: Train error: 0.07475\tValidation error: 0.22667\n",
      "8000: Train error: 0.06830\tValidation error: 0.23306\n",
      "8100: Train error: 0.07233\tValidation error: 0.24901\n",
      "8200: Train error: 0.12106\tValidation error: 0.22836\n",
      "8300: Train error: 0.07804\tValidation error: 0.22369\n",
      "8400: Train error: 0.11487\tValidation error: 0.22501\n",
      "8500: Train error: 0.15466\tValidation error: 0.21473\n",
      "8600: Train error: 0.11566\tValidation error: 0.21968\n",
      "8700: Train error: 0.12470\tValidation error: 0.22047\n",
      "8800: Train error: 0.08196\tValidation error: 0.22402\n",
      "8900: Train error: 0.16476\tValidation error: 0.22892\n",
      "9000: Train error: 0.12413\tValidation error: 0.22528\n",
      "9100: Train error: 0.16976\tValidation error: 0.22007\n",
      "9200: Train error: 0.11784\tValidation error: 0.22950\n",
      "9300: Train error: 0.09969\tValidation error: 0.22263\n",
      "9400: Train error: 0.05434\tValidation error: 0.23016\n",
      "9500: Train error: 0.05613\tValidation error: 0.22568\n",
      "9600: Train error: 0.07590\tValidation error: 0.24009\n",
      "9700: Train error: 0.10714\tValidation error: 0.23673\n",
      "9800: Train error: 0.06311\tValidation error: 0.22917\n",
      "9900: Train error: 0.06563\tValidation error: 0.23276\n"
     ]
    }
   ],
   "source": [
    "with tf.Session() as s:\n",
    "    s.run(tf.global_variables_initializer())\n",
    "\n",
    "    for epoch in range(epochs):\n",
    "        idxs = np.random.permutation(range(N))\n",
    "        n_batches = len(idxs) // batch_size\n",
    "\n",
    "        for batch in range(n_batches):\n",
    "            idx = idxs[batch * batch_size : (batch + 1) * batch_size]\n",
    "            s.run(optimizer, feed_dict={training: True,\n",
    "                                        X: X_train[idx, :],\n",
    "                                        y: y_train[idx]})\n",
    "        err_train = cost.eval(feed_dict={X: X_train[idx, :],\n",
    "                                         y: y_train[idx]}) \n",
    "        err_valid = (cost.eval(feed_dict={X: X_valid, y: y_valid}))\n",
    "\n",
    "        # Convert from SSE to MSE so train and valid can be compared \n",
    "        err_train /= y_train.shape[0]\n",
    "        err_valid /= y_valid.shape[0]\n",
    "\n",
    "        train_err.append(err_train)\n",
    "        valid_err.append(err_valid)\n",
    "\n",
    "        if epoch % 100 == 0:\n",
    "            print(\n",
    "                '%4d: Train error: %.5f\\tValidation error: %.5f'\n",
    "                %(epoch, err_train, err_valid))\n",
    "\n",
    "    save_path = saver.save(s, './nn_mod.ckpt')"
   ]
  },
  {
   "cell_type": "code",
   "execution_count": 232,
   "metadata": {
    "collapsed": false
   },
   "outputs": [
    {
     "name": "stdout",
     "output_type": "stream",
     "text": [
      "Previous Best: 0.228177981506\n",
      "This run:      0.226791441622\n"
     ]
    }
   ],
   "source": [
    "appx_validation_error = np.mean(valid_err[-(10 * N):])\n",
    "print('Previous Best:', best_error_so_far)\n",
    "print('This run:     ', appx_validation_error)"
   ]
  },
  {
   "cell_type": "code",
   "execution_count": 233,
   "metadata": {
    "collapsed": false
   },
   "outputs": [
    {
     "name": "stdout",
     "output_type": "stream",
     "text": [
      "New Best Model Found!\n",
      "Hyperparameters:\n",
      "----------------------------------------------------------------------\n",
      "best_error_so_far: 0.226791441622\n",
      "    best_droupout: 0\n",
      "best_architecture: [46, 46, 46, 46, 1]\n",
      "         best_eta: 0.05\n",
      " best_decay_steps: 100\n",
      "  best_decay_rate: 0.99\n"
     ]
    }
   ],
   "source": [
    "if appx_validation_error < best_error_so_far:\n",
    "    best_error_so_far = appx_validation_error\n",
    "    print('New Best Model Found!\\nHyperparameters:\\n' + ('-' * 70))\n",
    "    hyperparams = {\n",
    "        'best_error_so_far': appx_validation_error,\n",
    "        'best_droupout': DROPOUT_RATE,\n",
    "        'best_architecture': n_neurons,\n",
    "        'best_eta': ETA,\n",
    "        'best_decay_steps': DECAY_STEPS,\n",
    "        'best_decay_rate': DECAY_RATE}\n",
    "for k, v in hyperparams.items():\n",
    "    print('%17s: %s' %(k, str(v)))"
   ]
  },
  {
   "cell_type": "code",
   "execution_count": 234,
   "metadata": {
    "collapsed": true
   },
   "outputs": [],
   "source": [
    "# TO DO: Search over hyperparameter space"
   ]
  },
  {
   "cell_type": "code",
   "execution_count": 235,
   "metadata": {
    "collapsed": false
   },
   "outputs": [
    {
     "data": {
      "image/png": "[encoded data removed]",
      "text/plain": [
       "<matplotlib.figure.Figure at 0x11cbc7320>"
      ]
     },
     "metadata": {},
     "output_type": "display_data"
    }
   ],
   "source": [
    "plt.plot(train_err, 'k-', label='train');\n",
    "plt.plot(valid_err, 'r-', label='test');\n",
    "plt.legend(loc='best');\n",
    "plt.xlabel('Epochs');\n",
    "plt.ylabel('MSE');"
   ]
  },
  {
   "cell_type": "code",
   "execution_count": 236,
   "metadata": {
    "collapsed": false
   },
   "outputs": [],
   "source": [
    "s = tf.Session()\n",
    "saver = tf.train.Saver()\n",
    "saver.restore(s, './nn_mod.ckpt')\n",
    "test_preds = s.run(preds, feed_dict={X: X_test})"
   ]
  },
  {
   "cell_type": "code",
   "execution_count": 237,
   "metadata": {
    "collapsed": false
   },
   "outputs": [
    {
     "data": {
      "text/plain": [
       "0.0037709678383203993"
      ]
     },
     "execution_count": 237,
     "metadata": {},
     "output_type": "execute_result"
    }
   ],
   "source": [
    "test_err = ((test_preds - y_test) ** 2).sum() / y_test.shape[0]\n",
    "test_err"
   ]
  },
  {
   "cell_type": "code",
   "execution_count": 238,
   "metadata": {
    "collapsed": true
   },
   "outputs": [],
   "source": [
    "new_preds = s.run(preds, feed_dict={X: X_new})"
   ]
  },
  {
   "cell_type": "code",
   "execution_count": 239,
   "metadata": {
    "collapsed": false
   },
   "outputs": [
    {
     "data": {
      "text/html": [
       "<div>\n",
       "<style>\n",
       "    .dataframe thead tr:only-child th {\n",
       "        text-align: right;\n",
       "    }\n",
       "\n",
       "    .dataframe thead th {\n",
       "        text-align: left;\n",
       "    }\n",
       "\n",
       "    .dataframe tbody tr th {\n",
       "        vertical-align: top;\n",
       "    }\n",
       "</style>\n",
       "<table border=\"1\" class=\"dataframe\">\n",
       "  <thead>\n",
       "    <tr style=\"text-align: right;\">\n",
       "      <th></th>\n",
       "      <th>Stock</th>\n",
       "      <th>Prediction</th>\n",
       "      <th>LowerBound</th>\n",
       "      <th>UpperBound</th>\n",
       "    </tr>\n",
       "  </thead>\n",
       "  <tbody>\n",
       "    <tr>\n",
       "      <th>10</th>\n",
       "      <td>dis</td>\n",
       "      <td>1.016620</td>\n",
       "      <td>1.009078</td>\n",
       "      <td>1.024162</td>\n",
       "    </tr>\n",
       "    <tr>\n",
       "      <th>2</th>\n",
       "      <td>or</td>\n",
       "      <td>1.015039</td>\n",
       "      <td>1.007497</td>\n",
       "      <td>1.022581</td>\n",
       "    </tr>\n",
       "    <tr>\n",
       "      <th>1</th>\n",
       "      <td>ccoi</td>\n",
       "      <td>1.011817</td>\n",
       "      <td>1.004275</td>\n",
       "      <td>1.019359</td>\n",
       "    </tr>\n",
       "    <tr>\n",
       "      <th>3</th>\n",
       "      <td>ato</td>\n",
       "      <td>1.008962</td>\n",
       "      <td>1.001420</td>\n",
       "      <td>1.016504</td>\n",
       "    </tr>\n",
       "    <tr>\n",
       "      <th>7</th>\n",
       "      <td>masi</td>\n",
       "      <td>1.008306</td>\n",
       "      <td>1.000764</td>\n",
       "      <td>1.015847</td>\n",
       "    </tr>\n",
       "    <tr>\n",
       "      <th>11</th>\n",
       "      <td>mtn</td>\n",
       "      <td>1.007814</td>\n",
       "      <td>1.000272</td>\n",
       "      <td>1.015356</td>\n",
       "    </tr>\n",
       "    <tr>\n",
       "      <th>0</th>\n",
       "      <td>mmm</td>\n",
       "      <td>1.007800</td>\n",
       "      <td>1.000259</td>\n",
       "      <td>1.015342</td>\n",
       "    </tr>\n",
       "    <tr>\n",
       "      <th>5</th>\n",
       "      <td>nyt</td>\n",
       "      <td>1.007315</td>\n",
       "      <td>0.999773</td>\n",
       "      <td>1.014857</td>\n",
       "    </tr>\n",
       "    <tr>\n",
       "      <th>4</th>\n",
       "      <td>mtch</td>\n",
       "      <td>1.006594</td>\n",
       "      <td>0.999052</td>\n",
       "      <td>1.014136</td>\n",
       "    </tr>\n",
       "    <tr>\n",
       "      <th>6</th>\n",
       "      <td>jd</td>\n",
       "      <td>1.005192</td>\n",
       "      <td>0.997650</td>\n",
       "      <td>1.012734</td>\n",
       "    </tr>\n",
       "    <tr>\n",
       "      <th>9</th>\n",
       "      <td>tmus</td>\n",
       "      <td>1.005106</td>\n",
       "      <td>0.997564</td>\n",
       "      <td>1.012648</td>\n",
       "    </tr>\n",
       "    <tr>\n",
       "      <th>8</th>\n",
       "      <td>ndaq</td>\n",
       "      <td>1.002865</td>\n",
       "      <td>0.995323</td>\n",
       "      <td>1.010407</td>\n",
       "    </tr>\n",
       "    <tr>\n",
       "      <th>12</th>\n",
       "      <td>sbux</td>\n",
       "      <td>1.000257</td>\n",
       "      <td>0.992715</td>\n",
       "      <td>1.007799</td>\n",
       "    </tr>\n",
       "  </tbody>\n",
       "</table>\n",
       "</div>"
      ],
      "text/plain": [
       "   Stock  Prediction  LowerBound  UpperBound\n",
       "10   dis    1.016620    1.009078    1.024162\n",
       "2     or    1.015039    1.007497    1.022581\n",
       "1   ccoi    1.011817    1.004275    1.019359\n",
       "3    ato    1.008962    1.001420    1.016504\n",
       "7   masi    1.008306    1.000764    1.015847\n",
       "11   mtn    1.007814    1.000272    1.015356\n",
       "0    mmm    1.007800    1.000259    1.015342\n",
       "5    nyt    1.007315    0.999773    1.014857\n",
       "4   mtch    1.006594    0.999052    1.014136\n",
       "6     jd    1.005192    0.997650    1.012734\n",
       "9   tmus    1.005106    0.997564    1.012648\n",
       "8   ndaq    1.002865    0.995323    1.010407\n",
       "12  sbux    1.000257    0.992715    1.007799"
      ]
     },
     "execution_count": 239,
     "metadata": {},
     "output_type": "execute_result"
    }
   ],
   "source": [
    "final_out = []\n",
    "for stock, pred in zip(stocks, new_preds.reshape(new_preds.shape[0])):\n",
    "    final_out.append([stock, pred])\n",
    "    \n",
    "out = pd.DataFrame(columns=['Stock', 'Prediction'], data=final_out)\n",
    "out['LowerBound'] = out['Prediction'] - 2*test_err\n",
    "out['UpperBound'] = out['Prediction'] + 2*test_err\n",
    "out = out.sort_values('Prediction', ascending=False)\n",
    "out.head(len(stocks))"
   ]
  },
  {
   "cell_type": "code",
   "execution_count": null,
   "metadata": {
    "collapsed": true
   },
   "outputs": [],
   "source": []
  }
 ],
 "metadata": {
  "kernelspec": {
   "display_name": "Python 3",
   "language": "python",
   "name": "python3"
  },
  "language_info": {
   "codemirror_mode": {
    "name": "ipython",
    "version": 3
   },
   "file_extension": ".py",
   "mimetype": "text/x-python",
   "name": "python",
   "nbconvert_exporter": "python",
   "pygments_lexer": "ipython3",
   "version": "3.6.1"
  }
 },
 "nbformat": 4,
 "nbformat_minor": 0
}
