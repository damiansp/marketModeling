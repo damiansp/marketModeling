{
 "cells": [
  {
   "cell_type": "code",
   "execution_count": 1,
   "metadata": {
    "collapsed": false
   },
   "outputs": [],
   "source": [
    "import datetime \n",
    "import matplotlib.pyplot as plt\n",
    "import numpy as np\n",
    "import os\n",
    "import pandas as pd\n",
    "import tensorflow as tf\n",
    "from sklearn.model_selection import train_test_split\n",
    "from sklearn.preprocessing import StandardScaler\n",
    "from tensorflow.python.framework import ops\n",
    "\n",
    "%matplotlib inline\n",
    "plt.rcParams['figure.figsize'] = [15, 10]\n",
    "plt.style.use('ggplot')"
   ]
  },
  {
   "cell_type": "code",
   "execution_count": 2,
   "metadata": {
    "collapsed": false
   },
   "outputs": [],
   "source": [
    "!../scripts/copy_data.sh"
   ]
  },
  {
   "cell_type": "code",
   "execution_count": 3,
   "metadata": {
    "collapsed": true
   },
   "outputs": [],
   "source": [
    "DATA_PATH = '../data/'"
   ]
  },
  {
   "cell_type": "code",
   "execution_count": 4,
   "metadata": {
    "collapsed": false
   },
   "outputs": [],
   "source": [
    "def read(filepath, pred=False):\n",
    "    dat = pd.read_csv(filepath)\n",
    "    if not pred:\n",
    "        dat['buyDate'] = pd.to_datetime(dat['buyDate'])\n",
    "    return dat"
   ]
  },
  {
   "cell_type": "code",
   "execution_count": 5,
   "metadata": {
    "collapsed": false
   },
   "outputs": [
    {
     "name": "stdout",
     "output_type": "stream",
     "text": [
      "total 2392\r\n",
      "drwxr-xr-x   6 dsp  staff      204 Jul 13 21:00 \u001b[34m.\u001b[m\u001b[m/\r\n",
      "drwxr-xr-x  11 dsp  staff      374 Jul  1 16:27 \u001b[34m..\u001b[m\u001b[m/\r\n",
      "-rw-r--r--@  1 dsp  staff     6148 Jul 13 21:00 .DS_Store\r\n",
      "-rw-r--r--@  1 dsp  staff     1749 Sep 16 16:48 Multistock.csv\r\n",
      "-rw-r--r--@  1 dsp  staff    36770 Sep 16 16:48 buyStats.csv\r\n",
      "-rw-r--r--@  1 dsp  staff  1174245 Sep 16 13:43 sp1950.csv\r\n"
     ]
    }
   ],
   "source": [
    "ls -la ../data"
   ]
  },
  {
   "cell_type": "code",
   "execution_count": 6,
   "metadata": {
    "collapsed": false
   },
   "outputs": [
    {
     "data": {
      "text/html": [
       "<div>\n",
       "<style>\n",
       "    .dataframe thead tr:only-child th {\n",
       "        text-align: right;\n",
       "    }\n",
       "\n",
       "    .dataframe thead th {\n",
       "        text-align: left;\n",
       "    }\n",
       "\n",
       "    .dataframe tbody tr th {\n",
       "        vertical-align: top;\n",
       "    }\n",
       "</style>\n",
       "<table border=\"1\" class=\"dataframe\">\n",
       "  <thead>\n",
       "    <tr style=\"text-align: right;\">\n",
       "      <th></th>\n",
       "      <th>stock</th>\n",
       "      <th>bundles</th>\n",
       "      <th>buyPrice</th>\n",
       "      <th>buyDate</th>\n",
       "      <th>nDays</th>\n",
       "      <th>d30Sell</th>\n",
       "      <th>d30Gains</th>\n",
       "      <th>d60Sell</th>\n",
       "      <th>d60Gains</th>\n",
       "      <th>d90Sell</th>\n",
       "      <th>...</th>\n",
       "      <th>stockMACD</th>\n",
       "      <th>stockPmoB</th>\n",
       "      <th>stockPmoW</th>\n",
       "      <th>spVal</th>\n",
       "      <th>macd</th>\n",
       "      <th>spRSI14</th>\n",
       "      <th>spPmoB75_40_20</th>\n",
       "      <th>spPmoW75_40_20</th>\n",
       "      <th>vix</th>\n",
       "      <th>days</th>\n",
       "    </tr>\n",
       "  </thead>\n",
       "  <tbody>\n",
       "    <tr>\n",
       "      <th>0</th>\n",
       "      <td>adbe</td>\n",
       "      <td>0</td>\n",
       "      <td>131.72</td>\n",
       "      <td>2017-04-21</td>\n",
       "      <td>148</td>\n",
       "      <td>136.43</td>\n",
       "      <td>1.03576</td>\n",
       "      <td>141.21</td>\n",
       "      <td>1.07205</td>\n",
       "      <td>149.07</td>\n",
       "      <td>...</td>\n",
       "      <td>-0.066</td>\n",
       "      <td>NaN</td>\n",
       "      <td>NaN</td>\n",
       "      <td>2349.0</td>\n",
       "      <td>-11.60</td>\n",
       "      <td>NaN</td>\n",
       "      <td>NaN</td>\n",
       "      <td>NaN</td>\n",
       "      <td>14.20</td>\n",
       "      <td>41384</td>\n",
       "    </tr>\n",
       "    <tr>\n",
       "      <th>1</th>\n",
       "      <td>jblu</td>\n",
       "      <td>0</td>\n",
       "      <td>21.46</td>\n",
       "      <td>2017-04-21</td>\n",
       "      <td>148</td>\n",
       "      <td>21.18</td>\n",
       "      <td>0.98695</td>\n",
       "      <td>22.74</td>\n",
       "      <td>1.05965</td>\n",
       "      <td>23.33</td>\n",
       "      <td>...</td>\n",
       "      <td>0.250</td>\n",
       "      <td>NaN</td>\n",
       "      <td>NaN</td>\n",
       "      <td>2349.0</td>\n",
       "      <td>-11.60</td>\n",
       "      <td>NaN</td>\n",
       "      <td>NaN</td>\n",
       "      <td>NaN</td>\n",
       "      <td>14.20</td>\n",
       "      <td>41384</td>\n",
       "    </tr>\n",
       "    <tr>\n",
       "      <th>2</th>\n",
       "      <td>tsco</td>\n",
       "      <td>0</td>\n",
       "      <td>63.35</td>\n",
       "      <td>2017-04-21</td>\n",
       "      <td>148</td>\n",
       "      <td>57.57</td>\n",
       "      <td>0.90876</td>\n",
       "      <td>55.69</td>\n",
       "      <td>0.87908</td>\n",
       "      <td>51.70</td>\n",
       "      <td>...</td>\n",
       "      <td>-1.254</td>\n",
       "      <td>NaN</td>\n",
       "      <td>NaN</td>\n",
       "      <td>2349.0</td>\n",
       "      <td>-11.60</td>\n",
       "      <td>NaN</td>\n",
       "      <td>NaN</td>\n",
       "      <td>NaN</td>\n",
       "      <td>14.20</td>\n",
       "      <td>41384</td>\n",
       "    </tr>\n",
       "    <tr>\n",
       "      <th>3</th>\n",
       "      <td>ftnt</td>\n",
       "      <td>0</td>\n",
       "      <td>40.16</td>\n",
       "      <td>2017-04-25</td>\n",
       "      <td>144</td>\n",
       "      <td>39.94</td>\n",
       "      <td>0.99452</td>\n",
       "      <td>38.29</td>\n",
       "      <td>0.95344</td>\n",
       "      <td>40.45</td>\n",
       "      <td>...</td>\n",
       "      <td>0.504</td>\n",
       "      <td>NaN</td>\n",
       "      <td>NaN</td>\n",
       "      <td>2374.0</td>\n",
       "      <td>-7.14</td>\n",
       "      <td>NaN</td>\n",
       "      <td>NaN</td>\n",
       "      <td>NaN</td>\n",
       "      <td>10.84</td>\n",
       "      <td>41388</td>\n",
       "    </tr>\n",
       "    <tr>\n",
       "      <th>4</th>\n",
       "      <td>pac</td>\n",
       "      <td>0</td>\n",
       "      <td>101.15</td>\n",
       "      <td>2017-04-25</td>\n",
       "      <td>144</td>\n",
       "      <td>109.00</td>\n",
       "      <td>1.07761</td>\n",
       "      <td>110.45</td>\n",
       "      <td>1.09194</td>\n",
       "      <td>117.90</td>\n",
       "      <td>...</td>\n",
       "      <td>0.633</td>\n",
       "      <td>NaN</td>\n",
       "      <td>NaN</td>\n",
       "      <td>2374.0</td>\n",
       "      <td>-7.14</td>\n",
       "      <td>NaN</td>\n",
       "      <td>NaN</td>\n",
       "      <td>NaN</td>\n",
       "      <td>10.84</td>\n",
       "      <td>41388</td>\n",
       "    </tr>\n",
       "  </tbody>\n",
       "</table>\n",
       "<p>5 rows × 47 columns</p>\n",
       "</div>"
      ],
      "text/plain": [
       "  stock  bundles  buyPrice    buyDate  nDays  d30Sell  d30Gains  d60Sell  \\\n",
       "0  adbe        0    131.72 2017-04-21    148   136.43   1.03576   141.21   \n",
       "1  jblu        0     21.46 2017-04-21    148    21.18   0.98695    22.74   \n",
       "2  tsco        0     63.35 2017-04-21    148    57.57   0.90876    55.69   \n",
       "3  ftnt        0     40.16 2017-04-25    144    39.94   0.99452    38.29   \n",
       "4   pac        0    101.15 2017-04-25    144   109.00   1.07761   110.45   \n",
       "\n",
       "   d60Gains  d90Sell  ...    stockMACD  stockPmoB  stockPmoW   spVal   macd  \\\n",
       "0   1.07205   149.07  ...       -0.066        NaN        NaN  2349.0 -11.60   \n",
       "1   1.05965    23.33  ...        0.250        NaN        NaN  2349.0 -11.60   \n",
       "2   0.87908    51.70  ...       -1.254        NaN        NaN  2349.0 -11.60   \n",
       "3   0.95344    40.45  ...        0.504        NaN        NaN  2374.0  -7.14   \n",
       "4   1.09194   117.90  ...        0.633        NaN        NaN  2374.0  -7.14   \n",
       "\n",
       "   spRSI14  spPmoB75_40_20  spPmoW75_40_20    vix   days  \n",
       "0      NaN             NaN             NaN  14.20  41384  \n",
       "1      NaN             NaN             NaN  14.20  41384  \n",
       "2      NaN             NaN             NaN  14.20  41384  \n",
       "3      NaN             NaN             NaN  10.84  41388  \n",
       "4      NaN             NaN             NaN  10.84  41388  \n",
       "\n",
       "[5 rows x 47 columns]"
      ]
     },
     "execution_count": 6,
     "metadata": {},
     "output_type": "execute_result"
    }
   ],
   "source": [
    "dat = read(DATA_PATH + 'buyStats.csv')\n",
    "#new_dat = read(DATA_PATH + 'Multistock.csv', pred=True)\n",
    "dat.head()"
   ]
  },
  {
   "cell_type": "code",
   "execution_count": 7,
   "metadata": {
    "collapsed": false
   },
   "outputs": [],
   "source": [
    "def one_hot(df):\n",
    "    X = df.copy()\n",
    "    X[['mfNone', 'mfNow', 'mfStart']] = pd.get_dummies(X['MF'])\n",
    "    X = X.drop('MF', axis=1)\n",
    "    return X"
   ]
  },
  {
   "cell_type": "code",
   "execution_count": 8,
   "metadata": {
    "collapsed": false
   },
   "outputs": [
    {
     "data": {
      "text/html": [
       "<div>\n",
       "<style>\n",
       "    .dataframe thead tr:only-child th {\n",
       "        text-align: right;\n",
       "    }\n",
       "\n",
       "    .dataframe thead th {\n",
       "        text-align: left;\n",
       "    }\n",
       "\n",
       "    .dataframe tbody tr th {\n",
       "        vertical-align: top;\n",
       "    }\n",
       "</style>\n",
       "<table border=\"1\" class=\"dataframe\">\n",
       "  <thead>\n",
       "    <tr style=\"text-align: right;\">\n",
       "      <th></th>\n",
       "      <th>stock</th>\n",
       "      <th>bundles</th>\n",
       "      <th>buyPrice</th>\n",
       "      <th>buyDate</th>\n",
       "      <th>nDays</th>\n",
       "      <th>d30Sell</th>\n",
       "      <th>d30Gains</th>\n",
       "      <th>d60Sell</th>\n",
       "      <th>d60Gains</th>\n",
       "      <th>d90Sell</th>\n",
       "      <th>...</th>\n",
       "      <th>spVal</th>\n",
       "      <th>macd</th>\n",
       "      <th>spRSI14</th>\n",
       "      <th>spPmoB75_40_20</th>\n",
       "      <th>spPmoW75_40_20</th>\n",
       "      <th>vix</th>\n",
       "      <th>days</th>\n",
       "      <th>mfNone</th>\n",
       "      <th>mfNow</th>\n",
       "      <th>mfStart</th>\n",
       "    </tr>\n",
       "  </thead>\n",
       "  <tbody>\n",
       "    <tr>\n",
       "      <th>0</th>\n",
       "      <td>adbe</td>\n",
       "      <td>0</td>\n",
       "      <td>131.72</td>\n",
       "      <td>2017-04-21</td>\n",
       "      <td>148</td>\n",
       "      <td>136.43</td>\n",
       "      <td>1.03576</td>\n",
       "      <td>141.21</td>\n",
       "      <td>1.07205</td>\n",
       "      <td>149.07</td>\n",
       "      <td>...</td>\n",
       "      <td>2349.0</td>\n",
       "      <td>-11.60</td>\n",
       "      <td>NaN</td>\n",
       "      <td>NaN</td>\n",
       "      <td>NaN</td>\n",
       "      <td>14.20</td>\n",
       "      <td>41384</td>\n",
       "      <td>0</td>\n",
       "      <td>1</td>\n",
       "      <td>0</td>\n",
       "    </tr>\n",
       "    <tr>\n",
       "      <th>1</th>\n",
       "      <td>jblu</td>\n",
       "      <td>0</td>\n",
       "      <td>21.46</td>\n",
       "      <td>2017-04-21</td>\n",
       "      <td>148</td>\n",
       "      <td>21.18</td>\n",
       "      <td>0.98695</td>\n",
       "      <td>22.74</td>\n",
       "      <td>1.05965</td>\n",
       "      <td>23.33</td>\n",
       "      <td>...</td>\n",
       "      <td>2349.0</td>\n",
       "      <td>-11.60</td>\n",
       "      <td>NaN</td>\n",
       "      <td>NaN</td>\n",
       "      <td>NaN</td>\n",
       "      <td>14.20</td>\n",
       "      <td>41384</td>\n",
       "      <td>0</td>\n",
       "      <td>1</td>\n",
       "      <td>0</td>\n",
       "    </tr>\n",
       "    <tr>\n",
       "      <th>2</th>\n",
       "      <td>tsco</td>\n",
       "      <td>0</td>\n",
       "      <td>63.35</td>\n",
       "      <td>2017-04-21</td>\n",
       "      <td>148</td>\n",
       "      <td>57.57</td>\n",
       "      <td>0.90876</td>\n",
       "      <td>55.69</td>\n",
       "      <td>0.87908</td>\n",
       "      <td>51.70</td>\n",
       "      <td>...</td>\n",
       "      <td>2349.0</td>\n",
       "      <td>-11.60</td>\n",
       "      <td>NaN</td>\n",
       "      <td>NaN</td>\n",
       "      <td>NaN</td>\n",
       "      <td>14.20</td>\n",
       "      <td>41384</td>\n",
       "      <td>0</td>\n",
       "      <td>1</td>\n",
       "      <td>0</td>\n",
       "    </tr>\n",
       "    <tr>\n",
       "      <th>3</th>\n",
       "      <td>ftnt</td>\n",
       "      <td>0</td>\n",
       "      <td>40.16</td>\n",
       "      <td>2017-04-25</td>\n",
       "      <td>144</td>\n",
       "      <td>39.94</td>\n",
       "      <td>0.99452</td>\n",
       "      <td>38.29</td>\n",
       "      <td>0.95344</td>\n",
       "      <td>40.45</td>\n",
       "      <td>...</td>\n",
       "      <td>2374.0</td>\n",
       "      <td>-7.14</td>\n",
       "      <td>NaN</td>\n",
       "      <td>NaN</td>\n",
       "      <td>NaN</td>\n",
       "      <td>10.84</td>\n",
       "      <td>41388</td>\n",
       "      <td>0</td>\n",
       "      <td>1</td>\n",
       "      <td>0</td>\n",
       "    </tr>\n",
       "    <tr>\n",
       "      <th>4</th>\n",
       "      <td>pac</td>\n",
       "      <td>0</td>\n",
       "      <td>101.15</td>\n",
       "      <td>2017-04-25</td>\n",
       "      <td>144</td>\n",
       "      <td>109.00</td>\n",
       "      <td>1.07761</td>\n",
       "      <td>110.45</td>\n",
       "      <td>1.09194</td>\n",
       "      <td>117.90</td>\n",
       "      <td>...</td>\n",
       "      <td>2374.0</td>\n",
       "      <td>-7.14</td>\n",
       "      <td>NaN</td>\n",
       "      <td>NaN</td>\n",
       "      <td>NaN</td>\n",
       "      <td>10.84</td>\n",
       "      <td>41388</td>\n",
       "      <td>0</td>\n",
       "      <td>1</td>\n",
       "      <td>0</td>\n",
       "    </tr>\n",
       "  </tbody>\n",
       "</table>\n",
       "<p>5 rows × 49 columns</p>\n",
       "</div>"
      ],
      "text/plain": [
       "  stock  bundles  buyPrice    buyDate  nDays  d30Sell  d30Gains  d60Sell  \\\n",
       "0  adbe        0    131.72 2017-04-21    148   136.43   1.03576   141.21   \n",
       "1  jblu        0     21.46 2017-04-21    148    21.18   0.98695    22.74   \n",
       "2  tsco        0     63.35 2017-04-21    148    57.57   0.90876    55.69   \n",
       "3  ftnt        0     40.16 2017-04-25    144    39.94   0.99452    38.29   \n",
       "4   pac        0    101.15 2017-04-25    144   109.00   1.07761   110.45   \n",
       "\n",
       "   d60Gains  d90Sell   ...      spVal   macd  spRSI14  spPmoB75_40_20  \\\n",
       "0   1.07205   149.07   ...     2349.0 -11.60      NaN             NaN   \n",
       "1   1.05965    23.33   ...     2349.0 -11.60      NaN             NaN   \n",
       "2   0.87908    51.70   ...     2349.0 -11.60      NaN             NaN   \n",
       "3   0.95344    40.45   ...     2374.0  -7.14      NaN             NaN   \n",
       "4   1.09194   117.90   ...     2374.0  -7.14      NaN             NaN   \n",
       "\n",
       "   spPmoW75_40_20    vix   days  mfNone  mfNow  mfStart  \n",
       "0             NaN  14.20  41384       0      1        0  \n",
       "1             NaN  14.20  41384       0      1        0  \n",
       "2             NaN  14.20  41384       0      1        0  \n",
       "3             NaN  10.84  41388       0      1        0  \n",
       "4             NaN  10.84  41388       0      1        0  \n",
       "\n",
       "[5 rows x 49 columns]"
      ]
     },
     "execution_count": 8,
     "metadata": {},
     "output_type": "execute_result"
    }
   ],
   "source": [
    "dat = one_hot(dat)\n",
    "dat.head()"
   ]
  },
  {
   "cell_type": "code",
   "execution_count": 9,
   "metadata": {
    "collapsed": false
   },
   "outputs": [
    {
     "data": {
      "text/plain": [
       "Timestamp('2017-09-15 00:00:00')"
      ]
     },
     "execution_count": 9,
     "metadata": {},
     "output_type": "execute_result"
    }
   ],
   "source": [
    "today = datetime.datetime.now()\n",
    "if today.weekday() == 5:\n",
    "    today = today - datetime.timedelta(days=1)\n",
    "if today.weekday() == 6:\n",
    "    today = today - datetime.timedelta(days=2)\n",
    "today = str(today).split(' ')[0]\n",
    "today = pd.to_datetime(today)\n",
    "today"
   ]
  },
  {
   "cell_type": "code",
   "execution_count": 10,
   "metadata": {
    "collapsed": false
   },
   "outputs": [
    {
     "data": {
      "text/html": [
       "<div>\n",
       "<style>\n",
       "    .dataframe thead tr:only-child th {\n",
       "        text-align: right;\n",
       "    }\n",
       "\n",
       "    .dataframe thead th {\n",
       "        text-align: left;\n",
       "    }\n",
       "\n",
       "    .dataframe tbody tr th {\n",
       "        vertical-align: top;\n",
       "    }\n",
       "</style>\n",
       "<table border=\"1\" class=\"dataframe\">\n",
       "  <thead>\n",
       "    <tr style=\"text-align: right;\">\n",
       "      <th></th>\n",
       "      <th>stock</th>\n",
       "      <th>bundles</th>\n",
       "      <th>buyPrice</th>\n",
       "      <th>buyDate</th>\n",
       "      <th>nDays</th>\n",
       "      <th>d30Sell</th>\n",
       "      <th>d30Gains</th>\n",
       "      <th>d60Sell</th>\n",
       "      <th>d60Gains</th>\n",
       "      <th>d90Sell</th>\n",
       "      <th>...</th>\n",
       "      <th>spVal</th>\n",
       "      <th>macd</th>\n",
       "      <th>spRSI14</th>\n",
       "      <th>spPmoB75_40_20</th>\n",
       "      <th>spPmoW75_40_20</th>\n",
       "      <th>vix</th>\n",
       "      <th>days</th>\n",
       "      <th>mfNone</th>\n",
       "      <th>mfNow</th>\n",
       "      <th>mfStart</th>\n",
       "    </tr>\n",
       "  </thead>\n",
       "  <tbody>\n",
       "    <tr>\n",
       "      <th>177</th>\n",
       "      <td>mmm</td>\n",
       "      <td>0</td>\n",
       "      <td>NaN</td>\n",
       "      <td>2017-09-18</td>\n",
       "      <td>-2</td>\n",
       "      <td>NaN</td>\n",
       "      <td>NaN</td>\n",
       "      <td>NaN</td>\n",
       "      <td>NaN</td>\n",
       "      <td>NaN</td>\n",
       "      <td>...</td>\n",
       "      <td>2500.23</td>\n",
       "      <td>10.055</td>\n",
       "      <td>64.94</td>\n",
       "      <td>0.4</td>\n",
       "      <td>0.4</td>\n",
       "      <td>10.17</td>\n",
       "      <td>41534</td>\n",
       "      <td>0</td>\n",
       "      <td>1</td>\n",
       "      <td>0</td>\n",
       "    </tr>\n",
       "    <tr>\n",
       "      <th>178</th>\n",
       "      <td>ccoi</td>\n",
       "      <td>0</td>\n",
       "      <td>NaN</td>\n",
       "      <td>2017-09-18</td>\n",
       "      <td>-2</td>\n",
       "      <td>NaN</td>\n",
       "      <td>NaN</td>\n",
       "      <td>NaN</td>\n",
       "      <td>NaN</td>\n",
       "      <td>NaN</td>\n",
       "      <td>...</td>\n",
       "      <td>2500.23</td>\n",
       "      <td>10.055</td>\n",
       "      <td>64.94</td>\n",
       "      <td>0.4</td>\n",
       "      <td>0.4</td>\n",
       "      <td>10.17</td>\n",
       "      <td>41534</td>\n",
       "      <td>1</td>\n",
       "      <td>0</td>\n",
       "      <td>0</td>\n",
       "    </tr>\n",
       "    <tr>\n",
       "      <th>179</th>\n",
       "      <td>or</td>\n",
       "      <td>0</td>\n",
       "      <td>NaN</td>\n",
       "      <td>2017-09-18</td>\n",
       "      <td>-2</td>\n",
       "      <td>NaN</td>\n",
       "      <td>NaN</td>\n",
       "      <td>NaN</td>\n",
       "      <td>NaN</td>\n",
       "      <td>NaN</td>\n",
       "      <td>...</td>\n",
       "      <td>2500.23</td>\n",
       "      <td>10.055</td>\n",
       "      <td>64.94</td>\n",
       "      <td>0.4</td>\n",
       "      <td>0.4</td>\n",
       "      <td>10.17</td>\n",
       "      <td>41534</td>\n",
       "      <td>1</td>\n",
       "      <td>0</td>\n",
       "      <td>0</td>\n",
       "    </tr>\n",
       "    <tr>\n",
       "      <th>180</th>\n",
       "      <td>ato</td>\n",
       "      <td>0</td>\n",
       "      <td>NaN</td>\n",
       "      <td>2017-09-18</td>\n",
       "      <td>-2</td>\n",
       "      <td>NaN</td>\n",
       "      <td>NaN</td>\n",
       "      <td>NaN</td>\n",
       "      <td>NaN</td>\n",
       "      <td>NaN</td>\n",
       "      <td>...</td>\n",
       "      <td>2500.23</td>\n",
       "      <td>10.055</td>\n",
       "      <td>64.94</td>\n",
       "      <td>0.4</td>\n",
       "      <td>0.4</td>\n",
       "      <td>10.17</td>\n",
       "      <td>41534</td>\n",
       "      <td>1</td>\n",
       "      <td>0</td>\n",
       "      <td>0</td>\n",
       "    </tr>\n",
       "  </tbody>\n",
       "</table>\n",
       "<p>4 rows × 49 columns</p>\n",
       "</div>"
      ],
      "text/plain": [
       "    stock  bundles  buyPrice    buyDate  nDays  d30Sell  d30Gains  d60Sell  \\\n",
       "177   mmm        0       NaN 2017-09-18     -2      NaN       NaN      NaN   \n",
       "178  ccoi        0       NaN 2017-09-18     -2      NaN       NaN      NaN   \n",
       "179    or        0       NaN 2017-09-18     -2      NaN       NaN      NaN   \n",
       "180   ato        0       NaN 2017-09-18     -2      NaN       NaN      NaN   \n",
       "\n",
       "     d60Gains  d90Sell   ...       spVal    macd  spRSI14  spPmoB75_40_20  \\\n",
       "177       NaN      NaN   ...     2500.23  10.055    64.94             0.4   \n",
       "178       NaN      NaN   ...     2500.23  10.055    64.94             0.4   \n",
       "179       NaN      NaN   ...     2500.23  10.055    64.94             0.4   \n",
       "180       NaN      NaN   ...     2500.23  10.055    64.94             0.4   \n",
       "\n",
       "     spPmoW75_40_20    vix   days  mfNone  mfNow  mfStart  \n",
       "177             0.4  10.17  41534       0      1        0  \n",
       "178             0.4  10.17  41534       1      0        0  \n",
       "179             0.4  10.17  41534       1      0        0  \n",
       "180             0.4  10.17  41534       1      0        0  \n",
       "\n",
       "[4 rows x 49 columns]"
      ]
     },
     "execution_count": 10,
     "metadata": {},
     "output_type": "execute_result"
    }
   ],
   "source": [
    "new_dat = dat.loc[dat['buyDate'] > today, :]\n",
    "dat     = dat.loc[dat['buyDate'] <= today, :]\n",
    "stocks = new_dat['stock']\n",
    "new_dat.head()"
   ]
  },
  {
   "cell_type": "code",
   "execution_count": 11,
   "metadata": {
    "collapsed": false
   },
   "outputs": [],
   "source": [
    "def drop_missing(dfs, y_col):\n",
    "    X = dfs[0].copy()\n",
    "    # cols\n",
    "    drop_cols = [col for col in list(X) if type(col[0]) == np.float and col.isnan().all()]\n",
    "    X = X.drop(drop_cols, axis=1)\n",
    "    X2 = dfs[1].drop(drop_cols, axis=1)\n",
    "    return X.loc[np.isnan(dat[y_col]) == False, :], X2"
   ]
  },
  {
   "cell_type": "code",
   "execution_count": 12,
   "metadata": {
    "collapsed": false
   },
   "outputs": [
    {
     "data": {
      "text/html": [
       "<div>\n",
       "<style>\n",
       "    .dataframe thead tr:only-child th {\n",
       "        text-align: right;\n",
       "    }\n",
       "\n",
       "    .dataframe thead th {\n",
       "        text-align: left;\n",
       "    }\n",
       "\n",
       "    .dataframe tbody tr th {\n",
       "        vertical-align: top;\n",
       "    }\n",
       "</style>\n",
       "<table border=\"1\" class=\"dataframe\">\n",
       "  <thead>\n",
       "    <tr style=\"text-align: right;\">\n",
       "      <th></th>\n",
       "      <th>stock</th>\n",
       "      <th>bundles</th>\n",
       "      <th>buyPrice</th>\n",
       "      <th>buyDate</th>\n",
       "      <th>nDays</th>\n",
       "      <th>d30Sell</th>\n",
       "      <th>d30Gains</th>\n",
       "      <th>d60Sell</th>\n",
       "      <th>d60Gains</th>\n",
       "      <th>d90Sell</th>\n",
       "      <th>...</th>\n",
       "      <th>spVal</th>\n",
       "      <th>macd</th>\n",
       "      <th>spRSI14</th>\n",
       "      <th>spPmoB75_40_20</th>\n",
       "      <th>spPmoW75_40_20</th>\n",
       "      <th>vix</th>\n",
       "      <th>days</th>\n",
       "      <th>mfNone</th>\n",
       "      <th>mfNow</th>\n",
       "      <th>mfStart</th>\n",
       "    </tr>\n",
       "  </thead>\n",
       "  <tbody>\n",
       "    <tr>\n",
       "      <th>0</th>\n",
       "      <td>adbe</td>\n",
       "      <td>0</td>\n",
       "      <td>131.72</td>\n",
       "      <td>2017-04-21</td>\n",
       "      <td>148</td>\n",
       "      <td>136.43</td>\n",
       "      <td>1.03576</td>\n",
       "      <td>141.21</td>\n",
       "      <td>1.07205</td>\n",
       "      <td>149.07</td>\n",
       "      <td>...</td>\n",
       "      <td>2349.0</td>\n",
       "      <td>-11.60</td>\n",
       "      <td>NaN</td>\n",
       "      <td>NaN</td>\n",
       "      <td>NaN</td>\n",
       "      <td>14.20</td>\n",
       "      <td>41384</td>\n",
       "      <td>0</td>\n",
       "      <td>1</td>\n",
       "      <td>0</td>\n",
       "    </tr>\n",
       "    <tr>\n",
       "      <th>1</th>\n",
       "      <td>jblu</td>\n",
       "      <td>0</td>\n",
       "      <td>21.46</td>\n",
       "      <td>2017-04-21</td>\n",
       "      <td>148</td>\n",
       "      <td>21.18</td>\n",
       "      <td>0.98695</td>\n",
       "      <td>22.74</td>\n",
       "      <td>1.05965</td>\n",
       "      <td>23.33</td>\n",
       "      <td>...</td>\n",
       "      <td>2349.0</td>\n",
       "      <td>-11.60</td>\n",
       "      <td>NaN</td>\n",
       "      <td>NaN</td>\n",
       "      <td>NaN</td>\n",
       "      <td>14.20</td>\n",
       "      <td>41384</td>\n",
       "      <td>0</td>\n",
       "      <td>1</td>\n",
       "      <td>0</td>\n",
       "    </tr>\n",
       "    <tr>\n",
       "      <th>2</th>\n",
       "      <td>tsco</td>\n",
       "      <td>0</td>\n",
       "      <td>63.35</td>\n",
       "      <td>2017-04-21</td>\n",
       "      <td>148</td>\n",
       "      <td>57.57</td>\n",
       "      <td>0.90876</td>\n",
       "      <td>55.69</td>\n",
       "      <td>0.87908</td>\n",
       "      <td>51.70</td>\n",
       "      <td>...</td>\n",
       "      <td>2349.0</td>\n",
       "      <td>-11.60</td>\n",
       "      <td>NaN</td>\n",
       "      <td>NaN</td>\n",
       "      <td>NaN</td>\n",
       "      <td>14.20</td>\n",
       "      <td>41384</td>\n",
       "      <td>0</td>\n",
       "      <td>1</td>\n",
       "      <td>0</td>\n",
       "    </tr>\n",
       "    <tr>\n",
       "      <th>3</th>\n",
       "      <td>ftnt</td>\n",
       "      <td>0</td>\n",
       "      <td>40.16</td>\n",
       "      <td>2017-04-25</td>\n",
       "      <td>144</td>\n",
       "      <td>39.94</td>\n",
       "      <td>0.99452</td>\n",
       "      <td>38.29</td>\n",
       "      <td>0.95344</td>\n",
       "      <td>40.45</td>\n",
       "      <td>...</td>\n",
       "      <td>2374.0</td>\n",
       "      <td>-7.14</td>\n",
       "      <td>NaN</td>\n",
       "      <td>NaN</td>\n",
       "      <td>NaN</td>\n",
       "      <td>10.84</td>\n",
       "      <td>41388</td>\n",
       "      <td>0</td>\n",
       "      <td>1</td>\n",
       "      <td>0</td>\n",
       "    </tr>\n",
       "    <tr>\n",
       "      <th>4</th>\n",
       "      <td>pac</td>\n",
       "      <td>0</td>\n",
       "      <td>101.15</td>\n",
       "      <td>2017-04-25</td>\n",
       "      <td>144</td>\n",
       "      <td>109.00</td>\n",
       "      <td>1.07761</td>\n",
       "      <td>110.45</td>\n",
       "      <td>1.09194</td>\n",
       "      <td>117.90</td>\n",
       "      <td>...</td>\n",
       "      <td>2374.0</td>\n",
       "      <td>-7.14</td>\n",
       "      <td>NaN</td>\n",
       "      <td>NaN</td>\n",
       "      <td>NaN</td>\n",
       "      <td>10.84</td>\n",
       "      <td>41388</td>\n",
       "      <td>0</td>\n",
       "      <td>1</td>\n",
       "      <td>0</td>\n",
       "    </tr>\n",
       "  </tbody>\n",
       "</table>\n",
       "<p>5 rows × 49 columns</p>\n",
       "</div>"
      ],
      "text/plain": [
       "  stock  bundles  buyPrice    buyDate  nDays  d30Sell  d30Gains  d60Sell  \\\n",
       "0  adbe        0    131.72 2017-04-21    148   136.43   1.03576   141.21   \n",
       "1  jblu        0     21.46 2017-04-21    148    21.18   0.98695    22.74   \n",
       "2  tsco        0     63.35 2017-04-21    148    57.57   0.90876    55.69   \n",
       "3  ftnt        0     40.16 2017-04-25    144    39.94   0.99452    38.29   \n",
       "4   pac        0    101.15 2017-04-25    144   109.00   1.07761   110.45   \n",
       "\n",
       "   d60Gains  d90Sell   ...      spVal   macd  spRSI14  spPmoB75_40_20  \\\n",
       "0   1.07205   149.07   ...     2349.0 -11.60      NaN             NaN   \n",
       "1   1.05965    23.33   ...     2349.0 -11.60      NaN             NaN   \n",
       "2   0.87908    51.70   ...     2349.0 -11.60      NaN             NaN   \n",
       "3   0.95344    40.45   ...     2374.0  -7.14      NaN             NaN   \n",
       "4   1.09194   117.90   ...     2374.0  -7.14      NaN             NaN   \n",
       "\n",
       "   spPmoW75_40_20    vix   days  mfNone  mfNow  mfStart  \n",
       "0             NaN  14.20  41384       0      1        0  \n",
       "1             NaN  14.20  41384       0      1        0  \n",
       "2             NaN  14.20  41384       0      1        0  \n",
       "3             NaN  10.84  41388       0      1        0  \n",
       "4             NaN  10.84  41388       0      1        0  \n",
       "\n",
       "[5 rows x 49 columns]"
      ]
     },
     "execution_count": 12,
     "metadata": {},
     "output_type": "execute_result"
    }
   ],
   "source": [
    "dat, new_dat = drop_missing([dat, new_dat], 'd30Gains')\n",
    "dat.head()"
   ]
  },
  {
   "cell_type": "code",
   "execution_count": 13,
   "metadata": {
    "collapsed": false
   },
   "outputs": [
    {
     "data": {
      "text/html": [
       "<div>\n",
       "<style>\n",
       "    .dataframe thead tr:only-child th {\n",
       "        text-align: right;\n",
       "    }\n",
       "\n",
       "    .dataframe thead th {\n",
       "        text-align: left;\n",
       "    }\n",
       "\n",
       "    .dataframe tbody tr th {\n",
       "        vertical-align: top;\n",
       "    }\n",
       "</style>\n",
       "<table border=\"1\" class=\"dataframe\">\n",
       "  <thead>\n",
       "    <tr style=\"text-align: right;\">\n",
       "      <th></th>\n",
       "      <th>stock</th>\n",
       "      <th>bundles</th>\n",
       "      <th>buyPrice</th>\n",
       "      <th>buyDate</th>\n",
       "      <th>nDays</th>\n",
       "      <th>d30Sell</th>\n",
       "      <th>d30Gains</th>\n",
       "      <th>d60Sell</th>\n",
       "      <th>d60Gains</th>\n",
       "      <th>d90Sell</th>\n",
       "      <th>...</th>\n",
       "      <th>spVal</th>\n",
       "      <th>macd</th>\n",
       "      <th>spRSI14</th>\n",
       "      <th>spPmoB75_40_20</th>\n",
       "      <th>spPmoW75_40_20</th>\n",
       "      <th>vix</th>\n",
       "      <th>days</th>\n",
       "      <th>mfNone</th>\n",
       "      <th>mfNow</th>\n",
       "      <th>mfStart</th>\n",
       "    </tr>\n",
       "  </thead>\n",
       "  <tbody>\n",
       "    <tr>\n",
       "      <th>177</th>\n",
       "      <td>mmm</td>\n",
       "      <td>0</td>\n",
       "      <td>NaN</td>\n",
       "      <td>2017-09-18</td>\n",
       "      <td>-2</td>\n",
       "      <td>NaN</td>\n",
       "      <td>NaN</td>\n",
       "      <td>NaN</td>\n",
       "      <td>NaN</td>\n",
       "      <td>NaN</td>\n",
       "      <td>...</td>\n",
       "      <td>2500.23</td>\n",
       "      <td>10.055</td>\n",
       "      <td>64.94</td>\n",
       "      <td>0.4</td>\n",
       "      <td>0.4</td>\n",
       "      <td>10.17</td>\n",
       "      <td>41534</td>\n",
       "      <td>0</td>\n",
       "      <td>1</td>\n",
       "      <td>0</td>\n",
       "    </tr>\n",
       "    <tr>\n",
       "      <th>178</th>\n",
       "      <td>ccoi</td>\n",
       "      <td>0</td>\n",
       "      <td>NaN</td>\n",
       "      <td>2017-09-18</td>\n",
       "      <td>-2</td>\n",
       "      <td>NaN</td>\n",
       "      <td>NaN</td>\n",
       "      <td>NaN</td>\n",
       "      <td>NaN</td>\n",
       "      <td>NaN</td>\n",
       "      <td>...</td>\n",
       "      <td>2500.23</td>\n",
       "      <td>10.055</td>\n",
       "      <td>64.94</td>\n",
       "      <td>0.4</td>\n",
       "      <td>0.4</td>\n",
       "      <td>10.17</td>\n",
       "      <td>41534</td>\n",
       "      <td>1</td>\n",
       "      <td>0</td>\n",
       "      <td>0</td>\n",
       "    </tr>\n",
       "    <tr>\n",
       "      <th>179</th>\n",
       "      <td>or</td>\n",
       "      <td>0</td>\n",
       "      <td>NaN</td>\n",
       "      <td>2017-09-18</td>\n",
       "      <td>-2</td>\n",
       "      <td>NaN</td>\n",
       "      <td>NaN</td>\n",
       "      <td>NaN</td>\n",
       "      <td>NaN</td>\n",
       "      <td>NaN</td>\n",
       "      <td>...</td>\n",
       "      <td>2500.23</td>\n",
       "      <td>10.055</td>\n",
       "      <td>64.94</td>\n",
       "      <td>0.4</td>\n",
       "      <td>0.4</td>\n",
       "      <td>10.17</td>\n",
       "      <td>41534</td>\n",
       "      <td>1</td>\n",
       "      <td>0</td>\n",
       "      <td>0</td>\n",
       "    </tr>\n",
       "    <tr>\n",
       "      <th>180</th>\n",
       "      <td>ato</td>\n",
       "      <td>0</td>\n",
       "      <td>NaN</td>\n",
       "      <td>2017-09-18</td>\n",
       "      <td>-2</td>\n",
       "      <td>NaN</td>\n",
       "      <td>NaN</td>\n",
       "      <td>NaN</td>\n",
       "      <td>NaN</td>\n",
       "      <td>NaN</td>\n",
       "      <td>...</td>\n",
       "      <td>2500.23</td>\n",
       "      <td>10.055</td>\n",
       "      <td>64.94</td>\n",
       "      <td>0.4</td>\n",
       "      <td>0.4</td>\n",
       "      <td>10.17</td>\n",
       "      <td>41534</td>\n",
       "      <td>1</td>\n",
       "      <td>0</td>\n",
       "      <td>0</td>\n",
       "    </tr>\n",
       "  </tbody>\n",
       "</table>\n",
       "<p>4 rows × 49 columns</p>\n",
       "</div>"
      ],
      "text/plain": [
       "    stock  bundles  buyPrice    buyDate  nDays  d30Sell  d30Gains  d60Sell  \\\n",
       "177   mmm        0       NaN 2017-09-18     -2      NaN       NaN      NaN   \n",
       "178  ccoi        0       NaN 2017-09-18     -2      NaN       NaN      NaN   \n",
       "179    or        0       NaN 2017-09-18     -2      NaN       NaN      NaN   \n",
       "180   ato        0       NaN 2017-09-18     -2      NaN       NaN      NaN   \n",
       "\n",
       "     d60Gains  d90Sell   ...       spVal    macd  spRSI14  spPmoB75_40_20  \\\n",
       "177       NaN      NaN   ...     2500.23  10.055    64.94             0.4   \n",
       "178       NaN      NaN   ...     2500.23  10.055    64.94             0.4   \n",
       "179       NaN      NaN   ...     2500.23  10.055    64.94             0.4   \n",
       "180       NaN      NaN   ...     2500.23  10.055    64.94             0.4   \n",
       "\n",
       "     spPmoW75_40_20    vix   days  mfNone  mfNow  mfStart  \n",
       "177             0.4  10.17  41534       0      1        0  \n",
       "178             0.4  10.17  41534       1      0        0  \n",
       "179             0.4  10.17  41534       1      0        0  \n",
       "180             0.4  10.17  41534       1      0        0  \n",
       "\n",
       "[4 rows x 49 columns]"
      ]
     },
     "execution_count": 13,
     "metadata": {},
     "output_type": "execute_result"
    }
   ],
   "source": [
    "new_dat.head()"
   ]
  },
  {
   "cell_type": "code",
   "execution_count": 14,
   "metadata": {
    "collapsed": true
   },
   "outputs": [],
   "source": [
    "def split_xy(df, y_col, first_X):\n",
    "    y = df[y_col]\n",
    "    start_col = list(df).index(first_X)\n",
    "    X = df.iloc[:, start_col:]\n",
    "    return X, y"
   ]
  },
  {
   "cell_type": "code",
   "execution_count": 15,
   "metadata": {
    "collapsed": false
   },
   "outputs": [],
   "source": [
    "#list(dat)"
   ]
  },
  {
   "cell_type": "code",
   "execution_count": 16,
   "metadata": {
    "collapsed": false
   },
   "outputs": [],
   "source": [
    "X, y         = split_xy(dat,     'd30Gains', 'MFRisk')\n",
    "X_new, y_new = split_xy(new_dat, 'd30Gains', 'MFRisk')"
   ]
  },
  {
   "cell_type": "code",
   "execution_count": 17,
   "metadata": {
    "collapsed": false
   },
   "outputs": [
    {
     "data": {
      "text/plain": [
       "[('MFRisk', 'MFRisk'),\n",
       " ('n_L52', 'n_L52'),\n",
       " ('n_H52', 'n_H52'),\n",
       " ('pE', 'pE'),\n",
       " ('pB', 'pB'),\n",
       " ('revG5', 'revG5'),\n",
       " ('freeCashFlow', 'freeCashFlow'),\n",
       " ('grossMarQ', 'grossMarQ'),\n",
       " ('opMarQ', 'opMarQ'),\n",
       " ('roaTTM', 'roaTTM'),\n",
       " ('roiQ', 'roiQ'),\n",
       " ('roiTTM', 'roiTTM'),\n",
       " ('totDEQ', 'totDEQ'),\n",
       " ('Fid', 'Fid'),\n",
       " ('FidBest', 'FidBest'),\n",
       " ('RSI14', 'RSI14'),\n",
       " ('stockMACD', 'stockMACD'),\n",
       " ('stockPmoB', 'stockPmoB'),\n",
       " ('stockPmoW', 'stockPmoW'),\n",
       " ('spVal', 'spVal'),\n",
       " ('macd', 'macd'),\n",
       " ('spRSI14', 'spRSI14'),\n",
       " ('spPmoB75_40_20', 'spPmoB75_40_20'),\n",
       " ('spPmoW75_40_20', 'spPmoW75_40_20'),\n",
       " ('vix', 'vix'),\n",
       " ('days', 'days'),\n",
       " ('mfNone', 'mfNone'),\n",
       " ('mfNow', 'mfNow'),\n",
       " ('mfStart', 'mfStart')]"
      ]
     },
     "execution_count": 17,
     "metadata": {},
     "output_type": "execute_result"
    }
   ],
   "source": [
    "#print(list(X) == list(X_new))\n",
    "[print('Mismatch:', x, xn) for (x, xn) in zip(list(X), list(X_new)) if x != xn]\n",
    "[(x, xn) for (x, xn) in zip(list(X), list(X_new))]"
   ]
  },
  {
   "cell_type": "code",
   "execution_count": 18,
   "metadata": {
    "collapsed": true
   },
   "outputs": [],
   "source": [
    "def median_fill(df):\n",
    "    X = df.copy()\n",
    "\n",
    "    for col in list(X):\n",
    "        try:\n",
    "            X[col][np.isnan(X[col])] = np.nanmedian(X[col])\n",
    "        except:\n",
    "            print('Could not fill column', col)\n",
    "    return X"
   ]
  },
  {
   "cell_type": "code",
   "execution_count": 19,
   "metadata": {
    "collapsed": false
   },
   "outputs": [
    {
     "name": "stderr",
     "output_type": "stream",
     "text": [
      "/usr/local/lib/python3.6/site-packages/ipykernel_launcher.py:6: SettingWithCopyWarning: \n",
      "A value is trying to be set on a copy of a slice from a DataFrame\n",
      "\n",
      "See the caveats in the documentation: http://pandas.pydata.org/pandas-docs/stable/indexing.html#indexing-view-versus-copy\n",
      "  \n"
     ]
    }
   ],
   "source": [
    "X = median_fill(X)\n",
    "X_new = median_fill(X_new)"
   ]
  },
  {
   "cell_type": "code",
   "execution_count": 20,
   "metadata": {
    "collapsed": false
   },
   "outputs": [
    {
     "data": {
      "text/plain": [
       "(132, 29)"
      ]
     },
     "execution_count": 20,
     "metadata": {},
     "output_type": "execute_result"
    }
   ],
   "source": [
    "X.shape"
   ]
  },
  {
   "cell_type": "code",
   "execution_count": 21,
   "metadata": {
    "collapsed": false
   },
   "outputs": [
    {
     "name": "stdout",
     "output_type": "stream",
     "text": [
      "Training size:   92\n",
      "Validation size: 20\n",
      "Test       size: 20\n"
     ]
    }
   ],
   "source": [
    "n = X.shape[0]\n",
    "TRAIN = 0.7\n",
    "VALIDATE = 0.15\n",
    "TEST = 0.15\n",
    "print(\n",
    "    'Training size:   %.0f\\nValidation size: %.0f\\nTest       size: %.0f'\n",
    "    %(TRAIN * n, VALIDATE * n, TEST * n))"
   ]
  },
  {
   "cell_type": "code",
   "execution_count": 22,
   "metadata": {
    "collapsed": false
   },
   "outputs": [],
   "source": [
    "# Train, Not Train\n",
    "X_train, X_vt, y_train, y_vt = train_test_split(\n",
    "    X, y, test_size=VALIDATE + TEST)\n",
    "\n",
    "# Validate Test\n",
    "X_valid, X_test, y_valid, y_test = train_test_split(\n",
    "    X_vt, y_vt, test_size=(TEST / (TEST + VALIDATE)))\n",
    "\n",
    "# Reindex\n",
    "X_train.index = range(len(y_train))\n",
    "y_train.index = range(len(y_train))\n",
    "\n",
    "X_valid.index = range(len(y_valid))\n",
    "y_valid.index = range(len(y_valid))\n",
    "\n",
    "X_test.index = range(len(y_test))\n",
    "y_test.index = range(len(y_test))\n",
    "y_test = y_test.values.reshape(-1, 1)"
   ]
  },
  {
   "cell_type": "code",
   "execution_count": 23,
   "metadata": {
    "collapsed": false
   },
   "outputs": [],
   "source": [
    "#X.head()"
   ]
  },
  {
   "cell_type": "code",
   "execution_count": 24,
   "metadata": {
    "collapsed": false
   },
   "outputs": [
    {
     "name": "stdout",
     "output_type": "stream",
     "text": [
      "(92, 29)\n",
      "(20, 29)\n",
      "(20, 29)\n",
      "(4, 29)\n"
     ]
    }
   ],
   "source": [
    "print(X_train.shape)\n",
    "print(X_valid.shape)\n",
    "print(X_test.shape)\n",
    "print(X_new.shape)"
   ]
  },
  {
   "cell_type": "code",
   "execution_count": 25,
   "metadata": {
    "collapsed": false
   },
   "outputs": [
    {
     "name": "stderr",
     "output_type": "stream",
     "text": [
      "/usr/local/lib/python3.6/site-packages/ipykernel_launcher.py:7: SettingWithCopyWarning: \n",
      "A value is trying to be set on a copy of a slice from a DataFrame\n",
      "\n",
      "See the caveats in the documentation: http://pandas.pydata.org/pandas-docs/stable/indexing.html#indexing-view-versus-copy\n",
      "  import sys\n",
      "/usr/local/lib/python3.6/site-packages/ipykernel_launcher.py:8: SettingWithCopyWarning: \n",
      "A value is trying to be set on a copy of a slice from a DataFrame\n",
      "\n",
      "See the caveats in the documentation: http://pandas.pydata.org/pandas-docs/stable/indexing.html#indexing-view-versus-copy\n",
      "  \n"
     ]
    }
   ],
   "source": [
    "# WHILE DATA SET IS SMALL, restrict values in new data to the range seen \n",
    "# in training data\n",
    "if X_test.shape[0] < 100:\n",
    "    for col in list(X_train):\n",
    "        if col not in ['spVal', 'days']:\n",
    "            mn, mx = np.min(X_train[col]), np.max(X_train[col])\n",
    "            X_new[col][X_new[col] < mn] = mn\n",
    "            X_new[col][X_new[col] > mx] = mx"
   ]
  },
  {
   "cell_type": "code",
   "execution_count": 26,
   "metadata": {
    "collapsed": false
   },
   "outputs": [],
   "source": [
    "for col in list(X_train):\n",
    "    if np.isnan(X_train[col]).any():\n",
    "        print(col)"
   ]
  },
  {
   "cell_type": "code",
   "execution_count": 29,
   "metadata": {
    "collapsed": false
   },
   "outputs": [],
   "source": [
    "# Normalize data\n",
    "scaler = StandardScaler()\n",
    "X_train = scaler.fit_transform(X_train)\n",
    "X_valid = scaler.transform(X_valid)\n",
    "X_test = scaler.transform(X_test)\n",
    "X_new  = scaler.transform(X_new)"
   ]
  },
  {
   "cell_type": "markdown",
   "metadata": {},
   "source": [
    "## Create Neural Net"
   ]
  },
  {
   "cell_type": "code",
   "execution_count": 30,
   "metadata": {
    "collapsed": true
   },
   "outputs": [],
   "source": [
    "# Create a fully-connected layer of neurons using dropout regularization\n",
    "def make_drop_layer(in_layer,\n",
    "                    n_out,\n",
    "                    activation,\n",
    "                    kernel_initializer,\n",
    "                    dropout_rate,\n",
    "                    training):\n",
    "    h = tf.layers.dense(in_layer,\n",
    "                        n_out,\n",
    "                        activation=activation,\n",
    "                        kernel_initializer=kernel_initializer)\n",
    "    h_drop = tf.layers.dropout(h, rate=dropout_rate, training=training)\n",
    "    return h_drop"
   ]
  },
  {
   "cell_type": "code",
   "execution_count": 31,
   "metadata": {
    "collapsed": false
   },
   "outputs": [
    {
     "data": {
      "text/plain": [
       "(92, 29)"
      ]
     },
     "execution_count": 31,
     "metadata": {},
     "output_type": "execute_result"
    }
   ],
   "source": [
    "X_train.shape"
   ]
  },
  {
   "cell_type": "code",
   "execution_count": 32,
   "metadata": {
    "collapsed": true
   },
   "outputs": [],
   "source": [
    "# Run only before first model is executed\n",
    "best_error_so_far = np.Inf"
   ]
  },
  {
   "cell_type": "code",
   "execution_count": 33,
   "metadata": {
    "collapsed": true
   },
   "outputs": [],
   "source": [
    "# Rerun models from here\n",
    "N, D = X_train.shape\n",
    "\n",
    "# Hyperparmeters to tune\n",
    "DROPOUT_RATE = 0\n",
    "n_neurons = [D, 2 * D,  2 * D, D, D, D, 1]\n",
    "\n",
    "# Progrmmed Learning with Decay\n",
    "ETA = 0.1 # Learning rate\n",
    "DECAY_STEPS = 100  # eta updates after this many epochs\n",
    "DECAY_RATE = 0.99  # factor to change eta by"
   ]
  },
  {
   "cell_type": "code",
   "execution_count": 34,
   "metadata": {
    "collapsed": false
   },
   "outputs": [
    {
     "data": {
      "text/plain": [
       "[]"
      ]
     },
     "execution_count": 34,
     "metadata": {},
     "output_type": "execute_result"
    }
   ],
   "source": [
    "ops.reset_default_graph()\n",
    "g = tf.get_default_graph()\n",
    "[op.name for op in g.get_operations()]"
   ]
  },
  {
   "cell_type": "code",
   "execution_count": 35,
   "metadata": {
    "collapsed": false
   },
   "outputs": [],
   "source": [
    "X = tf.placeholder(tf.float32, shape=[None, D], name='X')\n",
    "y = tf.placeholder(tf.float32, shape=None, name='y')\n",
    "training = tf.placeholder_with_default(False, shape=(), name='training')\n",
    "\n",
    "X_drop = tf.layers.dropout(X, DROPOUT_RATE, training=training)"
   ]
  },
  {
   "cell_type": "code",
   "execution_count": 36,
   "metadata": {
    "collapsed": false
   },
   "outputs": [],
   "source": [
    "with tf.name_scope('dnn'):\n",
    "    # He intialization randomly initalizes weigths and their variances in \n",
    "    # a way that minimizes the likelihood of vanishing/exploding gradients\n",
    "    he_init = tf.contrib.layers.variance_scaling_initializer()\n",
    "    current_in = X\n",
    "\n",
    "    for layer in range(1, len(n_neurons)):\n",
    "        current_in = make_drop_layer(\n",
    "            in_layer=current_in,\n",
    "            n_out=n_neurons[layer],\n",
    "            activation=tf.nn.tanh if (layer + 1) < len(n_neurons) else None,\n",
    "            kernel_initializer=he_init,\n",
    "            dropout_rate=DROPOUT_RATE,\n",
    "            training=training)\n",
    "\n",
    "    preds = tf.nn.relu(current_in)"
   ]
  },
  {
   "cell_type": "code",
   "execution_count": 37,
   "metadata": {
    "collapsed": false
   },
   "outputs": [],
   "source": [
    "with tf.name_scope('cost'):\n",
    "    cost = tf.reduce_sum(tf.pow(preds - y, 2)) # SSE"
   ]
  },
  {
   "cell_type": "code",
   "execution_count": 38,
   "metadata": {
    "collapsed": true
   },
   "outputs": [],
   "source": [
    "with tf.name_scope('train'):\n",
    "    eta0 = ETA # initial learning rate\n",
    "    decay_steps = DECAY_STEPS  # eta updates after this many epochs\n",
    "    decay_rate = DECAY_RATE    # factor to change eta by\n",
    "    global_step = tf.Variable(0, trainable=False, name='global_step')\n",
    "    eta = tf.train.exponential_decay(\n",
    "        eta0, global_step, decay_steps, decay_rate, name='eta')\n",
    "    optimizer = tf.train.AdamOptimizer(eta).minimize(\n",
    "        cost, global_step=global_step)"
   ]
  },
  {
   "cell_type": "code",
   "execution_count": 39,
   "metadata": {
    "collapsed": true
   },
   "outputs": [],
   "source": [
    "epochs = 10000\n",
    "batch_size = 20\n",
    "train_err = []\n",
    "valid_err = []\n",
    "saver = tf.train.Saver()"
   ]
  },
  {
   "cell_type": "code",
   "execution_count": 40,
   "metadata": {
    "collapsed": true
   },
   "outputs": [],
   "source": [
    "# TODO: add batch regularization"
   ]
  },
  {
   "cell_type": "code",
   "execution_count": 41,
   "metadata": {
    "collapsed": false
   },
   "outputs": [
    {
     "name": "stdout",
     "output_type": "stream",
     "text": [
      "   0: Train error: 5.97019\tValidation error: 28.01664\n",
      " 100: Train error: 0.29440\tValidation error: 0.67446\n",
      " 200: Train error: 0.30963\tValidation error: 0.44576\n",
      " 300: Train error: 0.05632\tValidation error: 0.16804\n",
      " 400: Train error: 0.02247\tValidation error: 0.28777\n",
      " 500: Train error: 0.09361\tValidation error: 1.11337\n",
      " 600: Train error: 0.17066\tValidation error: 2.13889\n",
      " 700: Train error: 0.04713\tValidation error: 0.18451\n",
      " 800: Train error: 0.04077\tValidation error: 0.16663\n",
      " 900: Train error: 0.07563\tValidation error: 0.16290\n",
      "1000: Train error: 0.06030\tValidation error: 0.20834\n",
      "1100: Train error: 0.06913\tValidation error: 0.34196\n",
      "1200: Train error: 0.07442\tValidation error: 0.25070\n",
      "1300: Train error: 0.07341\tValidation error: 0.19964\n",
      "1400: Train error: 0.09471\tValidation error: 0.29320\n",
      "1500: Train error: 0.09284\tValidation error: 0.47148\n",
      "1600: Train error: 0.05282\tValidation error: 0.16100\n",
      "1700: Train error: 0.06822\tValidation error: 0.34152\n",
      "1800: Train error: 0.04070\tValidation error: 0.33025\n",
      "1900: Train error: 0.03883\tValidation error: 0.18284\n",
      "2000: Train error: 0.05787\tValidation error: 0.19772\n",
      "2100: Train error: 0.03397\tValidation error: 0.20623\n",
      "2200: Train error: 0.04144\tValidation error: 0.25114\n",
      "2300: Train error: 0.05188\tValidation error: 0.21043\n",
      "2400: Train error: 0.07580\tValidation error: 0.21055\n",
      "2500: Train error: 0.02325\tValidation error: 0.16449\n",
      "2600: Train error: 0.03966\tValidation error: 0.19113\n",
      "2700: Train error: 0.03146\tValidation error: 0.17172\n",
      "2800: Train error: 0.06499\tValidation error: 0.26228\n",
      "2900: Train error: 0.03441\tValidation error: 0.22666\n",
      "3000: Train error: 0.07112\tValidation error: 0.18552\n",
      "3100: Train error: 0.04265\tValidation error: 0.17730\n",
      "3200: Train error: 0.05632\tValidation error: 0.22517\n",
      "3300: Train error: 0.07597\tValidation error: 0.18257\n",
      "3400: Train error: 0.05595\tValidation error: 0.27268\n",
      "3500: Train error: 0.04472\tValidation error: 0.16603\n",
      "3600: Train error: 0.03895\tValidation error: 0.17138\n",
      "3700: Train error: 0.05441\tValidation error: 0.18841\n",
      "3800: Train error: 0.04338\tValidation error: 0.19140\n",
      "3900: Train error: 0.03366\tValidation error: 0.17974\n",
      "4000: Train error: 0.04526\tValidation error: 0.18548\n",
      "4100: Train error: 0.05555\tValidation error: 0.24285\n",
      "4200: Train error: 0.07637\tValidation error: 0.21262\n",
      "4300: Train error: 0.03212\tValidation error: 0.15495\n",
      "4400: Train error: 0.07320\tValidation error: 0.18981\n",
      "4500: Train error: 0.09496\tValidation error: 0.18113\n",
      "4600: Train error: 0.03196\tValidation error: 0.16851\n",
      "4700: Train error: 0.04484\tValidation error: 0.17318\n",
      "4800: Train error: 0.03802\tValidation error: 0.16037\n",
      "4900: Train error: 0.02866\tValidation error: 0.16575\n",
      "5000: Train error: 0.08261\tValidation error: 0.17429\n",
      "5100: Train error: 0.01719\tValidation error: 0.16533\n",
      "5200: Train error: 0.02948\tValidation error: 0.16439\n",
      "5300: Train error: 0.06068\tValidation error: 0.25591\n",
      "5400: Train error: 0.05533\tValidation error: 0.22981\n",
      "5500: Train error: 0.01530\tValidation error: 0.17487\n",
      "5600: Train error: 0.04432\tValidation error: 0.16954\n",
      "5700: Train error: 0.07761\tValidation error: 0.15851\n",
      "5800: Train error: 0.04518\tValidation error: 0.16234\n",
      "5900: Train error: 0.06626\tValidation error: 0.17436\n",
      "6000: Train error: 0.02617\tValidation error: 0.16994\n",
      "6100: Train error: 0.03936\tValidation error: 0.17395\n",
      "6200: Train error: 0.02962\tValidation error: 0.16464\n",
      "6300: Train error: 0.04910\tValidation error: 0.16452\n",
      "6400: Train error: 0.03853\tValidation error: 0.18919\n",
      "6500: Train error: 0.04548\tValidation error: 0.16998\n",
      "6600: Train error: 0.05338\tValidation error: 0.16859\n",
      "6700: Train error: 0.03675\tValidation error: 0.16170\n",
      "6800: Train error: 0.05019\tValidation error: 0.15648\n",
      "6900: Train error: 0.03455\tValidation error: 0.16202\n",
      "7000: Train error: 0.07028\tValidation error: 0.16437\n",
      "7100: Train error: 0.04322\tValidation error: 0.16565\n",
      "7200: Train error: 0.03026\tValidation error: 0.16661\n",
      "7300: Train error: 0.08384\tValidation error: 0.16564\n",
      "7400: Train error: 0.03353\tValidation error: 0.16951\n",
      "7500: Train error: 0.02760\tValidation error: 0.16633\n",
      "7600: Train error: 0.03235\tValidation error: 0.19018\n",
      "7700: Train error: 0.02618\tValidation error: 0.15603\n",
      "7800: Train error: 0.02625\tValidation error: 0.15907\n",
      "7900: Train error: 0.02360\tValidation error: 0.17489\n",
      "8000: Train error: 0.04869\tValidation error: 0.16659\n",
      "8100: Train error: 0.02054\tValidation error: 0.18161\n",
      "8200: Train error: 0.05692\tValidation error: 0.15733\n",
      "8300: Train error: 0.02642\tValidation error: 0.15477\n",
      "8400: Train error: 0.05383\tValidation error: 0.16789\n",
      "8500: Train error: 0.02117\tValidation error: 0.16312\n",
      "8600: Train error: 0.04843\tValidation error: 0.17329\n",
      "8700: Train error: 0.02194\tValidation error: 0.17682\n",
      "8800: Train error: 0.04262\tValidation error: 0.16755\n",
      "8900: Train error: 0.05682\tValidation error: 0.15960\n",
      "9000: Train error: 0.05968\tValidation error: 0.16089\n",
      "9100: Train error: 0.05300\tValidation error: 0.16256\n",
      "9200: Train error: 0.06411\tValidation error: 0.16211\n",
      "9300: Train error: 0.01645\tValidation error: 0.16244\n",
      "9400: Train error: 0.08259\tValidation error: 0.16093\n",
      "9500: Train error: 0.06344\tValidation error: 0.16823\n",
      "9600: Train error: 0.04187\tValidation error: 0.16323\n",
      "9700: Train error: 0.02656\tValidation error: 0.16627\n",
      "9800: Train error: 0.02548\tValidation error: 0.16348\n",
      "9900: Train error: 0.03500\tValidation error: 0.16274\n"
     ]
    }
   ],
   "source": [
    "with tf.Session() as s:\n",
    "    s.run(tf.global_variables_initializer())\n",
    "\n",
    "    for epoch in range(epochs):\n",
    "        idxs = np.random.permutation(range(N))\n",
    "        n_batches = len(idxs) // batch_size\n",
    "\n",
    "        for batch in range(n_batches):\n",
    "            idx = idxs[batch * batch_size : (batch + 1) * batch_size]\n",
    "            s.run(optimizer, feed_dict={training: True,\n",
    "                                        X: X_train[idx, :],\n",
    "                                        y: y_train[idx]})\n",
    "        err_train = cost.eval(feed_dict={X: X_train[idx, :],\n",
    "                                         y: y_train[idx]}) \n",
    "        err_valid = (cost.eval(feed_dict={X: X_valid, y: y_valid}))\n",
    "\n",
    "        # Convert from SSE to MSE so train and valid can be compared \n",
    "        err_train /= y_train.shape[0]\n",
    "        err_valid /= y_valid.shape[0]\n",
    "\n",
    "        train_err.append(err_train)\n",
    "        valid_err.append(err_valid)\n",
    "\n",
    "        if epoch % 100 == 0:\n",
    "            print(\n",
    "                '%4d: Train error: %.5f\\tValidation error: %.5f'\n",
    "                %(epoch, err_train, err_valid))\n",
    "\n",
    "    save_path = saver.save(s, './nn_mod.ckpt')"
   ]
  },
  {
   "cell_type": "code",
   "execution_count": 42,
   "metadata": {
    "collapsed": false
   },
   "outputs": [
    {
     "name": "stdout",
     "output_type": "stream",
     "text": [
      "Previous Best: inf\n",
      "This run:      0.164910820386\n"
     ]
    }
   ],
   "source": [
    "appx_validation_error = np.mean(valid_err[-N:])\n",
    "print('Previous Best:', best_error_so_far)\n",
    "print('This run:     ', appx_validation_error)"
   ]
  },
  {
   "cell_type": "code",
   "execution_count": 43,
   "metadata": {
    "collapsed": false
   },
   "outputs": [
    {
     "name": "stdout",
     "output_type": "stream",
     "text": [
      "New Best Model Found!\n",
      "Hyperparameters:\n",
      "----------------------------------------------------------------------\n",
      "best_error_so_far: 0.164910820386\n",
      "    best_droupout: 0\n",
      "best_architecture: [29, 58, 58, 29, 29, 29, 1]\n",
      "         best_eta: 0.1\n",
      " best_decay_steps: 100\n",
      "  best_decay_rate: 0.99\n"
     ]
    }
   ],
   "source": [
    "if appx_validation_error < best_error_so_far:\n",
    "    best_error_so_far = appx_validation_error\n",
    "    print('New Best Model Found!\\nHyperparameters:\\n' + ('-' * 70))\n",
    "    hyperparams = {\n",
    "        'best_error_so_far': appx_validation_error,\n",
    "        'best_droupout': DROPOUT_RATE,\n",
    "        'best_architecture': n_neurons,\n",
    "        'best_eta': ETA,\n",
    "        'best_decay_steps': DECAY_STEPS,\n",
    "        'best_decay_rate': DECAY_RATE}\n",
    "for k, v in hyperparams.items():\n",
    "    print('%17s: %s' %(k, str(v)))"
   ]
  },
  {
   "cell_type": "code",
   "execution_count": 44,
   "metadata": {
    "collapsed": true
   },
   "outputs": [],
   "source": [
    "# TO DO: Search over hyperparameter space"
   ]
  },
  {
   "cell_type": "code",
   "execution_count": 45,
   "metadata": {
    "collapsed": false
   },
   "outputs": [
    {
     "data": {
      "image/png": "[encoded data removed]",
      "text/plain": [
       "<matplotlib.figure.Figure at 0x10488dcf8>"
      ]
     },
     "metadata": {},
     "output_type": "display_data"
    }
   ],
   "source": [
    "plt.plot(train_err, 'k-', label='train');\n",
    "plt.plot(valid_err, 'r-', label='test');\n",
    "plt.legend(loc='best');\n",
    "plt.xlabel('Epochs');\n",
    "plt.ylabel('MSE');"
   ]
  },
  {
   "cell_type": "code",
   "execution_count": 46,
   "metadata": {
    "collapsed": false
   },
   "outputs": [],
   "source": [
    "s = tf.Session()\n",
    "saver = tf.train.Saver()\n",
    "saver.restore(s, './nn_mod.ckpt')\n",
    "test_preds = s.run(preds, feed_dict={X: X_test})"
   ]
  },
  {
   "cell_type": "code",
   "execution_count": 50,
   "metadata": {
    "collapsed": false
   },
   "outputs": [
    {
     "data": {
      "text/plain": [
       "0.0097568744494577336"
      ]
     },
     "execution_count": 50,
     "metadata": {},
     "output_type": "execute_result"
    }
   ],
   "source": [
    "test_err = ((test_preds - y_test) ** 2).sum() / y_test.shape[0]\n",
    "test_err"
   ]
  },
  {
   "cell_type": "code",
   "execution_count": 48,
   "metadata": {
    "collapsed": true
   },
   "outputs": [],
   "source": [
    "new_preds = s.run(preds, feed_dict={X: X_new})"
   ]
  },
  {
   "cell_type": "code",
   "execution_count": 52,
   "metadata": {
    "collapsed": false
   },
   "outputs": [
    {
     "data": {
      "text/html": [
       "<div>\n",
       "<style>\n",
       "    .dataframe thead tr:only-child th {\n",
       "        text-align: right;\n",
       "    }\n",
       "\n",
       "    .dataframe thead th {\n",
       "        text-align: left;\n",
       "    }\n",
       "\n",
       "    .dataframe tbody tr th {\n",
       "        vertical-align: top;\n",
       "    }\n",
       "</style>\n",
       "<table border=\"1\" class=\"dataframe\">\n",
       "  <thead>\n",
       "    <tr style=\"text-align: right;\">\n",
       "      <th></th>\n",
       "      <th>Stock</th>\n",
       "      <th>Prediction</th>\n",
       "      <th>LowerBound</th>\n",
       "      <th>UpperBound</th>\n",
       "    </tr>\n",
       "  </thead>\n",
       "  <tbody>\n",
       "    <tr>\n",
       "      <th>3</th>\n",
       "      <td>ato</td>\n",
       "      <td>1.017522</td>\n",
       "      <td>0.998008</td>\n",
       "      <td>1.037036</td>\n",
       "    </tr>\n",
       "    <tr>\n",
       "      <th>1</th>\n",
       "      <td>ccoi</td>\n",
       "      <td>1.015228</td>\n",
       "      <td>0.995714</td>\n",
       "      <td>1.034742</td>\n",
       "    </tr>\n",
       "    <tr>\n",
       "      <th>2</th>\n",
       "      <td>or</td>\n",
       "      <td>1.015043</td>\n",
       "      <td>0.995529</td>\n",
       "      <td>1.034557</td>\n",
       "    </tr>\n",
       "    <tr>\n",
       "      <th>0</th>\n",
       "      <td>mmm</td>\n",
       "      <td>1.006847</td>\n",
       "      <td>0.987333</td>\n",
       "      <td>1.026360</td>\n",
       "    </tr>\n",
       "  </tbody>\n",
       "</table>\n",
       "</div>"
      ],
      "text/plain": [
       "  Stock  Prediction  LowerBound  UpperBound\n",
       "3   ato    1.017522    0.998008    1.037036\n",
       "1  ccoi    1.015228    0.995714    1.034742\n",
       "2    or    1.015043    0.995529    1.034557\n",
       "0   mmm    1.006847    0.987333    1.026360"
      ]
     },
     "execution_count": 52,
     "metadata": {},
     "output_type": "execute_result"
    }
   ],
   "source": [
    "final_out = []\n",
    "for stock, pred in zip(stocks, new_preds.reshape(new_preds.shape[0])):\n",
    "    final_out.append([stock, pred])\n",
    "    \n",
    "out = pd.DataFrame(columns=['Stock', 'Prediction'], data=final_out)\n",
    "out['LowerBound'] = out['Prediction'] - 2*test_err\n",
    "out['UpperBound'] = out['Prediction'] + 2*test_err\n",
    "out = out.sort_values('Prediction', ascending=False)\n",
    "out.head(len(stocks))"
   ]
  },
  {
   "cell_type": "code",
   "execution_count": null,
   "metadata": {
    "collapsed": true
   },
   "outputs": [],
   "source": []
  }
 ],
 "metadata": {
  "kernelspec": {
   "display_name": "Python 3",
   "language": "python",
   "name": "python3"
  },
  "language_info": {
   "codemirror_mode": {
    "name": "ipython",
    "version": 3
   },
   "file_extension": ".py",
   "mimetype": "text/x-python",
   "name": "python",
   "nbconvert_exporter": "python",
   "pygments_lexer": "ipython3",
   "version": "3.6.1"
  }
 },
 "nbformat": 4,
 "nbformat_minor": 0
}
