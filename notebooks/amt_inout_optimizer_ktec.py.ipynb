{
 "cells": [
  {
   "cell_type": "code",
   "execution_count": 1,
   "id": "e1d21e3b",
   "metadata": {},
   "outputs": [],
   "source": [
    "import json\n",
    "import pickle\n",
    "import sys\n",
    "\n",
    "import matplotlib.pyplot as plt\n",
    "import numpy as np\n",
    "import pandas as pd\n",
    "\n",
    "sys.path.append('..')\n",
    "from utils.amt_inout import bounded_curve, bounded_sigmoid\n",
    "from utils.stock_loader import Loader"
   ]
  },
  {
   "cell_type": "code",
   "execution_count": 2,
   "id": "3d5fa9de",
   "metadata": {},
   "outputs": [
    {
     "name": "stderr",
     "output_type": "stream",
     "text": [
      "\r",
      "[*********************100%***********************]  1 of 1 completed"
     ]
    },
    {
     "name": "stdout",
     "output_type": "stream",
     "text": [
      "Generating derived columns...\n"
     ]
    },
    {
     "name": "stderr",
     "output_type": "stream",
     "text": [
      "\n"
     ]
    },
    {
     "ename": "AttributeError",
     "evalue": "'DataFrame' object has no attribute 'Open'",
     "output_type": "error",
     "traceback": [
      "\u001b[0;31m---------------------------------------------------------------------------\u001b[0m",
      "\u001b[0;31mAttributeError\u001b[0m                            Traceback (most recent call last)",
      "\u001b[0;32m/var/folders/41/jhvt_zmd3nz3x5jsqblr221r0000gn/T/ipykernel_80478/4225703666.py\u001b[0m in \u001b[0;36m?\u001b[0;34m()\u001b[0m\n\u001b[1;32m      1\u001b[0m \u001b[0mSYM\u001b[0m \u001b[0;34m=\u001b[0m \u001b[0;34m'KTEC'\u001b[0m\u001b[0;34m\u001b[0m\u001b[0;34m\u001b[0m\u001b[0m\n\u001b[1;32m      2\u001b[0m \u001b[0mSTART\u001b[0m \u001b[0;34m=\u001b[0m \u001b[0;34m'1965-01-01'\u001b[0m\u001b[0;34m\u001b[0m\u001b[0;34m\u001b[0m\u001b[0m\n\u001b[1;32m      3\u001b[0m \u001b[0mPARAM_PATH\u001b[0m \u001b[0;34m=\u001b[0m \u001b[0;34m'../data/inout_params_ktec.pkl'\u001b[0m\u001b[0;34m\u001b[0m\u001b[0;34m\u001b[0m\u001b[0m\n\u001b[1;32m      4\u001b[0m \u001b[0mloader\u001b[0m \u001b[0;34m=\u001b[0m \u001b[0mLoader\u001b[0m\u001b[0;34m(\u001b[0m\u001b[0;34m[\u001b[0m\u001b[0mSYM\u001b[0m\u001b[0;34m]\u001b[0m\u001b[0;34m,\u001b[0m \u001b[0mSTART\u001b[0m\u001b[0;34m)\u001b[0m\u001b[0;34m\u001b[0m\u001b[0;34m\u001b[0m\u001b[0m\n\u001b[0;32m----> 5\u001b[0;31m \u001b[0mdf\u001b[0m \u001b[0;34m=\u001b[0m \u001b[0mloader\u001b[0m\u001b[0;34m.\u001b[0m\u001b[0mdownload\u001b[0m\u001b[0;34m(\u001b[0m\u001b[0;34m)\u001b[0m\u001b[0;34m\u001b[0m\u001b[0;34m\u001b[0m\u001b[0m\n\u001b[0m\u001b[1;32m      6\u001b[0m \u001b[0mdf\u001b[0m\u001b[0;34m.\u001b[0m\u001b[0mset_index\u001b[0m\u001b[0;34m(\u001b[0m\u001b[0;34m'Date'\u001b[0m\u001b[0;34m,\u001b[0m \u001b[0mdrop\u001b[0m\u001b[0;34m=\u001b[0m\u001b[0;32mTrue\u001b[0m\u001b[0;34m,\u001b[0m \u001b[0minplace\u001b[0m\u001b[0;34m=\u001b[0m\u001b[0;32mTrue\u001b[0m\u001b[0;34m)\u001b[0m\u001b[0;34m\u001b[0m\u001b[0;34m\u001b[0m\u001b[0m\n\u001b[1;32m      7\u001b[0m df.columns = [\n\u001b[1;32m      8\u001b[0m     \u001b[0;34m'open'\u001b[0m\u001b[0;34m,\u001b[0m \u001b[0;34m'high'\u001b[0m\u001b[0;34m,\u001b[0m \u001b[0;34m'low'\u001b[0m\u001b[0;34m,\u001b[0m \u001b[0;34m'close'\u001b[0m\u001b[0;34m,\u001b[0m \u001b[0;34m'value'\u001b[0m\u001b[0;34m,\u001b[0m \u001b[0;34m'logval'\u001b[0m\u001b[0;34m,\u001b[0m\u001b[0;34m\u001b[0m\u001b[0;34m\u001b[0m\u001b[0m\n",
      "\u001b[0;32m~/Learning/marketModeling/notebooks/../utils/stock_loader.py\u001b[0m in \u001b[0;36m?\u001b[0;34m(self, append)\u001b[0m\n\u001b[1;32m     55\u001b[0m             \u001b[0;32mexcept\u001b[0m\u001b[0;34m:\u001b[0m\u001b[0;34m\u001b[0m\u001b[0;34m\u001b[0m\u001b[0m\n\u001b[1;32m     56\u001b[0m                 \u001b[0;32mraise\u001b[0m\u001b[0;34m\u001b[0m\u001b[0;34m\u001b[0m\u001b[0m\n\u001b[1;32m     57\u001b[0m         \u001b[0mn\u001b[0m \u001b[0;34m=\u001b[0m \u001b[0mdf\u001b[0m\u001b[0;34m.\u001b[0m\u001b[0mshape\u001b[0m\u001b[0;34m[\u001b[0m\u001b[0;36m0\u001b[0m\u001b[0;34m]\u001b[0m\u001b[0;34m\u001b[0m\u001b[0;34m\u001b[0m\u001b[0m\n\u001b[1;32m     58\u001b[0m         \u001b[0mdf\u001b[0m\u001b[0;34m.\u001b[0m\u001b[0mindex\u001b[0m \u001b[0;34m=\u001b[0m \u001b[0mrange\u001b[0m\u001b[0;34m(\u001b[0m\u001b[0mn\u001b[0m\u001b[0;34m)\u001b[0m\u001b[0;34m\u001b[0m\u001b[0;34m\u001b[0m\u001b[0m\n\u001b[0;32m---> 59\u001b[0;31m         \u001b[0mdf\u001b[0m \u001b[0;34m=\u001b[0m \u001b[0mself\u001b[0m\u001b[0;34m.\u001b[0m\u001b[0m_get_derived_columns\u001b[0m\u001b[0;34m(\u001b[0m\u001b[0mdf\u001b[0m\u001b[0;34m,\u001b[0m \u001b[0mn\u001b[0m\u001b[0;34m)\u001b[0m\u001b[0;34m\u001b[0m\u001b[0;34m\u001b[0m\u001b[0m\n\u001b[0m\u001b[1;32m     60\u001b[0m         \u001b[0mself\u001b[0m\u001b[0;34m.\u001b[0m\u001b[0mdf\u001b[0m \u001b[0;34m=\u001b[0m \u001b[0mdf\u001b[0m\u001b[0;34m\u001b[0m\u001b[0;34m\u001b[0m\u001b[0m\n\u001b[1;32m     61\u001b[0m         \u001b[0;32mreturn\u001b[0m \u001b[0mdf\u001b[0m\u001b[0;34m\u001b[0m\u001b[0;34m\u001b[0m\u001b[0m\n",
      "\u001b[0;32m~/Learning/marketModeling/notebooks/../utils/stock_loader.py\u001b[0m in \u001b[0;36m?\u001b[0;34m(self, df, n)\u001b[0m\n\u001b[1;32m     64\u001b[0m         \u001b[0mprint\u001b[0m\u001b[0;34m(\u001b[0m\u001b[0;34m'Generating derived columns...'\u001b[0m\u001b[0;34m)\u001b[0m\u001b[0;34m\u001b[0m\u001b[0;34m\u001b[0m\u001b[0m\n\u001b[1;32m     65\u001b[0m         \u001b[0;32mfor\u001b[0m \u001b[0ms\u001b[0m \u001b[0;32min\u001b[0m \u001b[0mself\u001b[0m\u001b[0;34m.\u001b[0m\u001b[0msymbols\u001b[0m\u001b[0;34m:\u001b[0m\u001b[0;34m\u001b[0m\u001b[0;34m\u001b[0m\u001b[0m\n\u001b[1;32m     66\u001b[0m             \u001b[0;32mif\u001b[0m \u001b[0mself\u001b[0m\u001b[0;34m.\u001b[0m\u001b[0mverbose\u001b[0m\u001b[0;34m:\u001b[0m\u001b[0;34m\u001b[0m\u001b[0;34m\u001b[0m\u001b[0m\n\u001b[1;32m     67\u001b[0m                 \u001b[0mprint\u001b[0m\u001b[0;34m(\u001b[0m\u001b[0;34mf'{s}...'\u001b[0m\u001b[0;34m,\u001b[0m \u001b[0mend\u001b[0m\u001b[0;34m=\u001b[0m\u001b[0;34m' '\u001b[0m\u001b[0;34m)\u001b[0m\u001b[0;34m\u001b[0m\u001b[0;34m\u001b[0m\u001b[0m\n\u001b[0;32m---> 68\u001b[0;31m             \u001b[0;32mif\u001b[0m \u001b[0;34m(\u001b[0m\u001b[0mdf\u001b[0m\u001b[0;34m.\u001b[0m\u001b[0mOpen\u001b[0m\u001b[0;34m[\u001b[0m\u001b[0ms\u001b[0m\u001b[0;34m]\u001b[0m \u001b[0;34m==\u001b[0m \u001b[0;36m0\u001b[0m\u001b[0;34m)\u001b[0m\u001b[0;34m.\u001b[0m\u001b[0many\u001b[0m\u001b[0;34m(\u001b[0m\u001b[0;34m)\u001b[0m\u001b[0;34m:\u001b[0m\u001b[0;34m\u001b[0m\u001b[0;34m\u001b[0m\u001b[0m\n\u001b[0m\u001b[1;32m     69\u001b[0m                 \u001b[0mdf\u001b[0m \u001b[0;34m=\u001b[0m \u001b[0mself\u001b[0m\u001b[0;34m.\u001b[0m\u001b[0m_fill_missing_open\u001b[0m\u001b[0;34m(\u001b[0m\u001b[0mdf\u001b[0m\u001b[0;34m,\u001b[0m \u001b[0ms\u001b[0m\u001b[0;34m)\u001b[0m\u001b[0;34m\u001b[0m\u001b[0;34m\u001b[0m\u001b[0m\n\u001b[1;32m     70\u001b[0m             \u001b[0mn\u001b[0m \u001b[0;34m=\u001b[0m \u001b[0mlen\u001b[0m\u001b[0;34m(\u001b[0m\u001b[0mdf\u001b[0m\u001b[0;34m)\u001b[0m\u001b[0;34m\u001b[0m\u001b[0;34m\u001b[0m\u001b[0m\n\u001b[1;32m     71\u001b[0m             \u001b[0mlog_val\u001b[0m \u001b[0;34m=\u001b[0m \u001b[0mpd\u001b[0m\u001b[0;34m.\u001b[0m\u001b[0mSeries\u001b[0m\u001b[0;34m(\u001b[0m\u001b[0mnp\u001b[0m\u001b[0;34m.\u001b[0m\u001b[0mlog\u001b[0m\u001b[0;34m(\u001b[0m\u001b[0mdf\u001b[0m\u001b[0;34m.\u001b[0m\u001b[0mValue\u001b[0m\u001b[0;34m[\u001b[0m\u001b[0ms\u001b[0m\u001b[0;34m]\u001b[0m\u001b[0;34m)\u001b[0m\u001b[0;34m,\u001b[0m \u001b[0mname\u001b[0m\u001b[0;34m=\u001b[0m\u001b[0;34m(\u001b[0m\u001b[0;34m'LogValue'\u001b[0m\u001b[0;34m,\u001b[0m \u001b[0ms\u001b[0m\u001b[0;34m)\u001b[0m\u001b[0;34m)\u001b[0m\u001b[0;34m\u001b[0m\u001b[0;34m\u001b[0m\u001b[0m\n",
      "\u001b[0;32m~/.venv/lib/python3.11/site-packages/pandas/core/generic.py\u001b[0m in \u001b[0;36m?\u001b[0;34m(self, name)\u001b[0m\n\u001b[1;32m   5985\u001b[0m             \u001b[0;32mand\u001b[0m \u001b[0mname\u001b[0m \u001b[0;32mnot\u001b[0m \u001b[0;32min\u001b[0m \u001b[0mself\u001b[0m\u001b[0;34m.\u001b[0m\u001b[0m_accessors\u001b[0m\u001b[0;34m\u001b[0m\u001b[0;34m\u001b[0m\u001b[0m\n\u001b[1;32m   5986\u001b[0m             \u001b[0;32mand\u001b[0m \u001b[0mself\u001b[0m\u001b[0;34m.\u001b[0m\u001b[0m_info_axis\u001b[0m\u001b[0;34m.\u001b[0m\u001b[0m_can_hold_identifiers_and_holds_name\u001b[0m\u001b[0;34m(\u001b[0m\u001b[0mname\u001b[0m\u001b[0;34m)\u001b[0m\u001b[0;34m\u001b[0m\u001b[0;34m\u001b[0m\u001b[0m\n\u001b[1;32m   5987\u001b[0m         ):\n\u001b[1;32m   5988\u001b[0m             \u001b[0;32mreturn\u001b[0m \u001b[0mself\u001b[0m\u001b[0;34m[\u001b[0m\u001b[0mname\u001b[0m\u001b[0;34m]\u001b[0m\u001b[0;34m\u001b[0m\u001b[0;34m\u001b[0m\u001b[0m\n\u001b[0;32m-> 5989\u001b[0;31m         \u001b[0;32mreturn\u001b[0m \u001b[0mobject\u001b[0m\u001b[0;34m.\u001b[0m\u001b[0m__getattribute__\u001b[0m\u001b[0;34m(\u001b[0m\u001b[0mself\u001b[0m\u001b[0;34m,\u001b[0m \u001b[0mname\u001b[0m\u001b[0;34m)\u001b[0m\u001b[0;34m\u001b[0m\u001b[0;34m\u001b[0m\u001b[0m\n\u001b[0m",
      "\u001b[0;31mAttributeError\u001b[0m: 'DataFrame' object has no attribute 'Open'"
     ]
    }
   ],
   "source": [
    "SYM = 'KTEC'\n",
    "START = '1965-01-01'\n",
    "PARAM_PATH = '../data/inout_params_ktec.pkl'\n",
    "loader = Loader([SYM], START)\n",
    "df = loader.download()\n",
    "df.set_index('Date', drop=True, inplace=True)\n",
    "df.columns = [\n",
    "    'open', 'high', 'low', 'close', 'value', 'logval',\n",
    "    'intraday_change', 'day_to_day_change', 'overnight_change']\n",
    "df.logval.fillna(method='ffill')\n",
    "for adj in ['overnight_change', 'day_to_day_change']:\n",
    "    df[adj] = pd.Series(\n",
    "        np.concatenate([df[adj].values[1:], [np.nan]]), index=df.index)\n",
    "print(df.shape)\n",
    "df.head(10)"
   ]
  },
  {
   "cell_type": "code",
   "execution_count": null,
   "id": "83353dc2",
   "metadata": {},
   "outputs": [],
   "source": [
    "df.isnull().sum()"
   ]
  },
  {
   "cell_type": "code",
   "execution_count": null,
   "id": "bb739541",
   "metadata": {},
   "outputs": [],
   "source": [
    "df.fillna(method='ffill', inplace=True)\n",
    "df.isnull().sum()"
   ]
  },
  {
   "cell_type": "code",
   "execution_count": null,
   "id": "6b62c94c",
   "metadata": {},
   "outputs": [],
   "source": [
    "df.high[(df.high != df.low)]"
   ]
  },
  {
   "cell_type": "code",
   "execution_count": null,
   "id": "e51fe97c",
   "metadata": {},
   "outputs": [],
   "source": [
    "SIM_START = pd.to_datetime('2021-06-09')  # first day of legit open/close values\n",
    "SIM_START"
   ]
  },
  {
   "cell_type": "code",
   "execution_count": null,
   "id": "c114b2e2",
   "metadata": {},
   "outputs": [],
   "source": [
    "len(df.index >= SIM_START)"
   ]
  },
  {
   "cell_type": "code",
   "execution_count": null,
   "id": "94b24637",
   "metadata": {},
   "outputs": [],
   "source": [
    "def get_random_params():\n",
    "    k = np.random.uniform(1, 10)\n",
    "    if np.random.choice([True, False]):\n",
    "        k = 1/k\n",
    "    return {\n",
    "        'time_param': np.random.randint(5, 250),\n",
    "        'method':     np.random.choice(['ew', 'ma', 'linear_ma', 'linear']),\n",
    "        't':          np.random.uniform(0, 1),\n",
    "        'k':          k,\n",
    "        'as_q':       np.random.choice([True, False]),\n",
    "        'transform_f': np.random.choice(['bounded_curve', 'bounded_sigmoid'])}"
   ]
  },
  {
   "cell_type": "code",
   "execution_count": null,
   "id": "fbc79dd1",
   "metadata": {},
   "outputs": [],
   "source": [
    "def tweak_best_params(params, factor=2, numeric_only=False):\n",
    "    '''A small factor should have values very close to current, larger\n",
    "    values allow wilder fluctuations'''\n",
    "    time = params['time_param']\n",
    "    upper = time * factor\n",
    "    diff = upper - time\n",
    "    time = np.random.randint(time - diff, upper)\n",
    "    time = min(max(5, time), 1000)\n",
    "    \n",
    "    method = params['method']\n",
    "    if not numeric_only:\n",
    "        meths = ['ew', 'ma', 'linear_ma', 'linear']\n",
    "        idx = meths.index(method)\n",
    "        ps = np.array([1, 1, 1, 1])\n",
    "        ps[idx] = factor\n",
    "        ps = ps / ps.sum()\n",
    "        method = np.random.choice(meths, p=ps)\n",
    "    \n",
    "    t = params['t']\n",
    "    sd = 1 - 1 / (factor/2 + 1)\n",
    "    t = min(max(np.random.normal(t, scale=sd), 0.001), 0.999)\n",
    "    \n",
    "    k = params['k']\n",
    "    upper = k * factor\n",
    "    diff = upper - k\n",
    "    k = np.random.uniform(k - diff, upper)\n",
    "    k = min(max(1/10, k), 10)\n",
    "    \n",
    "    as_q = params['as_q'] if numeric_only else np.random.choice([True, False]) \n",
    "    \n",
    "    current_transform = params['transform_f']\n",
    "    other_transform = 'bounded_curve' if current_transform == 'bounded_sigmoid' else 'bounded_sigmoid'\n",
    "    p_current = 1 / factor\n",
    "    transform_f = np.random.choice([current_transform, other_transform], p=[p_current, 1 - p_current])\n",
    "    return {\n",
    "        'time_param': time,\n",
    "        'method': method,\n",
    "        't': t,\n",
    "        'k': k,\n",
    "        'as_q': as_q,\n",
    "        'transform_f': transform_f}"
   ]
  },
  {
   "cell_type": "code",
   "execution_count": null,
   "id": "c7296988",
   "metadata": {},
   "outputs": [],
   "source": [
    "def get_ma(series: pd.Series, time_param: float | int, method: str):\n",
    "    '''Calculate the moving average\n",
    "    Args:\n",
    "    - method: 'ew' | 'ma' | 'linear' | 'linear_ma'\n",
    "    - time_param:\n",
    "      - ew=True: (real) the halflife of the exponential weights (no. \n",
    "          of  time periods it takes for weight to drop from 1 to 0.5)\n",
    "      - ew=False: (int) the ma window, or number of days to average \n",
    "   over\n",
    "    '''\n",
    "    if method == 'ew':\n",
    "        trend = series.ewm(halflife=time_param, ignore_na=True).mean()\n",
    "    elif method == 'ma':\n",
    "        trend = series.rolling(window=int(time_param)).mean()\n",
    "    elif method.startswith('linear'):\n",
    "        trend = (series).rolling(window=int(time_param)).apply(lambda x: (x[-1] + x[0]) / 2)\n",
    "        if method == 'linear_ma':\n",
    "            trend = trend.rolling(window=int(time_param)).mean()\n",
    "        trend.fillna(method='bfill', inplace=True)\n",
    "    return trend"
   ]
  },
  {
   "cell_type": "code",
   "execution_count": null,
   "id": "1a7b2c0a",
   "metadata": {},
   "outputs": [],
   "source": [
    "for method in ['ew', 'ma', 'linear', 'linear_ma']:\n",
    "    plt.plot(get_ma(df.logval, 250, method))\n",
    "    plt.xlabel(method)\n",
    "    plt.show()"
   ]
  },
  {
   "cell_type": "code",
   "execution_count": null,
   "id": "5507e8d2",
   "metadata": {},
   "outputs": [],
   "source": [
    "def get_trend_multiple(series, time_param, method, as_q):\n",
    "    'Get deviates (as quantiles) relative to trend'\n",
    "    trend = get_ma(series, time_param, method)\n",
    "    factor = series / trend\n",
    "    if as_q:\n",
    "        factor = factor.rank() / len(factor)\n",
    "    return factor"
   ]
  },
  {
   "cell_type": "code",
   "execution_count": null,
   "id": "f337473c",
   "metadata": {},
   "outputs": [],
   "source": [
    "def rescale_minmax(series, mn=0, mx=1):\n",
    "    s = series.copy()\n",
    "    out_rng = mx - mn\n",
    "    obs_min = s.min()\n",
    "    s -= obs_min\n",
    "    obs_max = s.max()\n",
    "    s /= obs_max\n",
    "    s *= out_rng\n",
    "    s += mn\n",
    "    return s"
   ]
  },
  {
   "cell_type": "code",
   "execution_count": null,
   "id": "3919ac0b",
   "metadata": {},
   "outputs": [],
   "source": [
    "def calculate_next_row(row):\n",
    "    invested = row.invested * row.overnight_change\n",
    "    total = invested + row.reserve\n",
    "    target_in = total * row.amt_in\n",
    "    diff = target_in - invested  # if diff+ buy; - sell\n",
    "    invested += diff\n",
    "    reserve = row.reserve - diff\n",
    "    invested *= row.day_to_day_change\n",
    "    return invested, reserve, invested + reserve"
   ]
  },
  {
   "cell_type": "code",
   "execution_count": null,
   "id": "46e8a296",
   "metadata": {},
   "outputs": [],
   "source": [
    "def simulate(df, params):\n",
    "    df['trend_factor'] = rescale_minmax(\n",
    "        get_trend_multiple(\n",
    "            df.logval,\n",
    "            params['time_param'],\n",
    "            method=params['method'],\n",
    "            as_q=params['as_q']))\n",
    "    if params['transform_f'] == 'bounded_curve':\n",
    "        df['amt_in'] = bounded_curve(\n",
    "            df.trend_factor, params['t'], params['k'], 'down')\n",
    "    elif params['transform_f'] == 'bounded_sigmoid':\n",
    "        df['amt_in'] = bounded_sigmoid(\n",
    "            df.trend_factor, params['t'], params['k'], 'down')\n",
    "    df = df.loc[df.index >= SIM_START, :].copy()\n",
    "    df['invested'] = np.nan\n",
    "    df['reserve'] = np.nan\n",
    "    df['total'] = np.nan\n",
    "    df['invested'][0] = df.amt_in[0]\n",
    "    df['reserve'][0] = 1 - df.amt_in[0]\n",
    "    df['total'][0] = 1\n",
    "    for i in range(len(df) - 1) :\n",
    "        row = df.iloc[i, :]\n",
    "        try:\n",
    "            nxt_idx = df.index[i + 1]\n",
    "            df.loc[nxt_idx, ['invested', 'reserve', 'total']] = (\n",
    "                calculate_next_row(row))\n",
    "        except IndexError:\n",
    "            break\n",
    "    return df"
   ]
  },
  {
   "cell_type": "code",
   "execution_count": null,
   "id": "3620a082",
   "metadata": {},
   "outputs": [],
   "source": [
    "def run_simulation(\n",
    "        df, iters=100, current_best=None, best_params=None, \n",
    "        param_select='random', factor=2, numeric_only=False):\n",
    "    orig_df = df.copy()\n",
    "    do_nothing_res = orig_df.value[-1] / orig_df.loc[SIM_START, 'value']\n",
    "    print('Do nothing res:', do_nothing_res)\n",
    "    if current_best is None:\n",
    "        current_best = 0\n",
    "    for i in range(iters):\n",
    "        print('Round', i + 1, end=': ')\n",
    "        if i == 0 and best_params is not None and param_select == 'random':\n",
    "            params = best_params  # rerun again on new data\n",
    "            current_best = 0 \n",
    "        elif param_select == 'random':\n",
    "            params = get_random_params()\n",
    "        else:\n",
    "            params = (\n",
    "                tweak_best_params(best_params, factor, numeric_only=numeric_only)\n",
    "                if best_params is not None else get_random_params())\n",
    "        df = simulate(orig_df.copy(), params)\n",
    "        final = df.total[-1]\n",
    "        print(final)\n",
    "        if np.isnan(final):\n",
    "            continue\n",
    "            #return df, params\n",
    "        if final > current_best:\n",
    "            current_best = final\n",
    "            best_params = params\n",
    "            print('New best:', current_best)\n",
    "            print(params)\n",
    "            plt.plot(df.total, label='best')\n",
    "            plt.plot(df.value / df.value[0], label='S&P')\n",
    "            plt.yscale('log')\n",
    "            plt.legend()\n",
    "            plt.show()\n",
    "    return current_best, best_params"
   ]
  },
  {
   "cell_type": "code",
   "execution_count": null,
   "id": "8796e9bf",
   "metadata": {},
   "outputs": [],
   "source": [
    "try:\n",
    "    with open(PARAM_PATH, 'rb') as f:\n",
    "        current_best, best_params = pickle.load(f)\n",
    "except FileNotFoundError:\n",
    "    current_best, best_params = None, None\n",
    "    \n",
    "current_best, best_params"
   ]
  },
  {
   "cell_type": "code",
   "execution_count": null,
   "id": "353d01f1",
   "metadata": {
    "scrolled": false
   },
   "outputs": [],
   "source": [
    "best_out, params_out = run_simulation(\n",
    "    df.copy(), iters=200, current_best=current_best, best_params=best_params)"
   ]
  },
  {
   "cell_type": "code",
   "execution_count": null,
   "id": "7c1b2fd2",
   "metadata": {
    "scrolled": true
   },
   "outputs": [],
   "source": [
    "# initially [1/4, 1/2, 1, 2]\n",
    "for w in [16, 32, 64, 128]:  # bigger w -> smaller factor -> smaller changes\n",
    "    factor = 1 + (1/w)\n",
    "    print('Factor:', factor)\n",
    "    best_out, params_out = run_simulation(\n",
    "        df.copy(), \n",
    "        iters=25, \n",
    "        current_best=best_out, \n",
    "        best_params=params_out, \n",
    "        param_select='tweak',\n",
    "        factor=factor,  # closer to 1: small changes; bigger: bigger\n",
    "        numeric_only=True) \n",
    "    print()"
   ]
  },
  {
   "cell_type": "code",
   "execution_count": null,
   "id": "903a51dc",
   "metadata": {},
   "outputs": [],
   "source": [
    "# Force set:\n",
    "#best_out = 8.746647001172413\n",
    "#params_out = {'time_param': 39, 'method': 'ma', 't': 0.9119734669470952, 'k': 6.934678320149607, 'as_q': True, 'transform_f': 'bounded_curve'}"
   ]
  },
  {
   "cell_type": "code",
   "execution_count": null,
   "id": "b92bcca7",
   "metadata": {},
   "outputs": [],
   "source": [
    "final_out = simulate(df, params_out)"
   ]
  },
  {
   "cell_type": "code",
   "execution_count": null,
   "id": "249328db",
   "metadata": {},
   "outputs": [],
   "source": [
    "amt_in = final_out['amt_in'][-1]\n",
    "amt_in"
   ]
  },
  {
   "cell_type": "code",
   "execution_count": null,
   "id": "fb61e5b8",
   "metadata": {},
   "outputs": [],
   "source": [
    "trend_fac = final_out['trend_factor'][-1]\n",
    "trend_fac"
   ]
  },
  {
   "cell_type": "code",
   "execution_count": null,
   "id": "bda58238",
   "metadata": {},
   "outputs": [],
   "source": [
    "params_out"
   ]
  },
  {
   "cell_type": "code",
   "execution_count": null,
   "id": "7e0037ba",
   "metadata": {},
   "outputs": [],
   "source": [
    "xs = np.linspace(0, 1, 101)\n",
    "if params_out['transform_f'] == 'bounded_curve':\n",
    "    ys = bounded_curve(xs, params_out['t'], params_out['k'], 'down')\n",
    "else:\n",
    "    ys = bounded_sigmoid(xs, params_out['t'], params_out['k'], 'down')\n",
    "plt.xlabel('Trend Factor (Normalized)')\n",
    "plt.ylabel('Percent Invested')\n",
    "plt.plot(xs, ys)\n",
    "plt.axhline(amt_in, color='r', alpha=0.7)\n",
    "plt.axvline(trend_fac, color='r', alpha=0.7);"
   ]
  },
  {
   "cell_type": "code",
   "execution_count": null,
   "id": "1c89aeb4",
   "metadata": {},
   "outputs": [],
   "source": [
    "plt.figure(figsize=(10, 10))\n",
    "plt.subplot(4, 1, 1)\n",
    "plt.plot(final_out.amt_in)\n",
    "plt.xlabel('Amount In')\n",
    "\n",
    "plt.subplot(4, 1, 2)\n",
    "plt.plot(final_out.trend_factor)\n",
    "plt.xlabel('Trend Factor')\n",
    "\n",
    "plt.subplot(4, 1, 3)\n",
    "plt.plot(final_out.logval / final_out.logval[0])\n",
    "plt.xlabel('KTEC')\n",
    "plt.yscale('log')\n",
    "\n",
    "plt.subplot(4, 1, 4)\n",
    "plt.plot(final_out.total)\n",
    "plt.xlabel('Performance')\n",
    "plt.yscale('log')\n",
    "plt.tight_layout();"
   ]
  },
  {
   "cell_type": "code",
   "execution_count": null,
   "id": "f9e50896",
   "metadata": {},
   "outputs": [],
   "source": [
    "N = 500\n",
    "#plt.figure(figsize=(10, 10))\n",
    "#plt.subplot(4, 1, 1)\n",
    "#plt.plot(final_out.amt_in[:N])\n",
    "#plt.xlabel('Amount In')\n",
    "\n",
    "#plt.subplot(4, 1, 2)\n",
    "#plt.plot(final_out.trend_factor[:N])\n",
    "#plt.xlabel('Trend Factor')\n",
    "\n",
    "#plt.subplot(4, 1, 3)\n",
    "#plt.plot((final_out.logval / final_out.logval[0])[:N])\n",
    "#plt.xlabel('KTEC')\n",
    "#plt.yscale('log')\n",
    "\n",
    "#plt.subplot(4, 1, 4)\n",
    "#plt.plot(final_out.total[:N])\n",
    "#plt.xlabel('Performance')\n",
    "#plt.yscale('log')\n",
    "#plt.tight_layout();"
   ]
  },
  {
   "cell_type": "code",
   "execution_count": null,
   "id": "f1042dc1",
   "metadata": {},
   "outputs": [],
   "source": [
    "plt.figure(figsize=(10, 10))\n",
    "plt.subplot(4, 1, 1)\n",
    "plt.plot(final_out.amt_in[-N:])\n",
    "plt.xlabel('Amount In')\n",
    "\n",
    "plt.subplot(4, 1, 2)\n",
    "plt.plot(final_out.trend_factor[-N:])\n",
    "plt.xlabel('Trend Factor')\n",
    "\n",
    "plt.subplot(4, 1, 3)\n",
    "plt.plot((final_out.logval / final_out.logval[0])[-N:])\n",
    "plt.xlabel('KTEC')\n",
    "plt.yscale('log')\n",
    "\n",
    "plt.subplot(4, 1, 4)\n",
    "plt.plot(final_out.total[-N:])\n",
    "plt.xlabel('Performance')\n",
    "plt.yscale('log')\n",
    "plt.tight_layout();"
   ]
  },
  {
   "cell_type": "code",
   "execution_count": null,
   "id": "d16b7d97",
   "metadata": {},
   "outputs": [],
   "source": [
    "frac_in = round(final_out['amt_in'][-1], 4)\n",
    "frac_in"
   ]
  },
  {
   "cell_type": "code",
   "execution_count": null,
   "id": "f2f69507",
   "metadata": {},
   "outputs": [],
   "source": [
    "# n days\n",
    "n = (df.index >= SIM_START).sum()\n",
    "# n years\n",
    "t = n / 250\n",
    "# amt at start\n",
    "p = df.loc[SIM_START, 'value']\n",
    "amt = df.iloc[-1].value\n",
    "p, t, amt"
   ]
  },
  {
   "cell_type": "code",
   "execution_count": null,
   "id": "74f9ca5b",
   "metadata": {},
   "outputs": [],
   "source": [
    "# annualized rate of return\n",
    "r = best_out**(1/t) \n",
    "r - 1"
   ]
  },
  {
   "cell_type": "code",
   "execution_count": null,
   "id": "6652b65e",
   "metadata": {},
   "outputs": [],
   "source": [
    "with open('daily_params.json', 'r') as f_in:\n",
    "    j = json.load(f_in)\n",
    "    with open('daily_params.json', 'w') as f_out:\n",
    "        j['ktec'] = [r, frac_in]\n",
    "        print(j)\n",
    "        json.dump(j, f_out)"
   ]
  },
  {
   "cell_type": "code",
   "execution_count": null,
   "id": "08a0cf3b",
   "metadata": {},
   "outputs": [],
   "source": [
    "stop"
   ]
  },
  {
   "cell_type": "code",
   "execution_count": null,
   "id": "e4f54cab",
   "metadata": {},
   "outputs": [],
   "source": [
    "with open(PARAM_PATH, 'wb') as f:\n",
    "    pickle.dump([best_out, params_out], f)\n",
    "    \n",
    "best_out, params_out"
   ]
  },
  {
   "cell_type": "code",
   "execution_count": null,
   "id": "84273cf5",
   "metadata": {},
   "outputs": [],
   "source": []
  }
 ],
 "metadata": {
  "kernelspec": {
   "display_name": "Python 3 (ipykernel)",
   "language": "python",
   "name": "python3"
  },
  "language_info": {
   "codemirror_mode": {
    "name": "ipython",
    "version": 3
   },
   "file_extension": ".py",
   "mimetype": "text/x-python",
   "name": "python",
   "nbconvert_exporter": "python",
   "pygments_lexer": "ipython3",
   "version": "3.11.3"
  }
 },
 "nbformat": 4,
 "nbformat_minor": 5
}
